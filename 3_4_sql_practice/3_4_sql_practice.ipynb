{
 "cells": [
  {
   "cell_type": "markdown",
   "metadata": {},
   "source": [
    "# Практика SQL. Анализ данных StackOverflow"
   ]
  },
  {
   "cell_type": "markdown",
   "metadata": {
    "id": "sRW85nPMDWKb"
   },
   "source": [
    "Вы будете работать с базой данных StackOverflow — сервиса вопросов и ответов о программировании. StackOverflow похож на социальную сеть — пользователи сервиса задают вопросы, отвечают на посты, оставляют комментарии и ставят оценки другим ответам.  \n",
    "Вы будете работать с версией базы, где хранятся данные о постах за 2008 год, но в таблицах вы найдёте информацию и о более поздних оценках, которые эти посты получили.  \n",
    "\n",
    "\n",
    "Вам нужно написать несколько SQL-запросов.  \n",
    "\n",
    "Необходимые данные находятся в таблицах схемы `stackoverflow`.  "
   ]
  },
  {
   "cell_type": "code",
   "execution_count": 1,
   "metadata": {
    "id": "nlZBlglMDWKe"
   },
   "outputs": [],
   "source": [
    "import pandas as pd\n",
    "import matplotlib.pyplot as plt\n",
    "import seaborn as sns\n",
    "from sqlalchemy import create_engine "
   ]
  },
  {
   "cell_type": "markdown",
   "metadata": {
    "id": "XnOE3n28DWKg"
   },
   "source": [
    "### Конфигурация для подключения к базе данных `data-analyst-advanced-sql`\n",
    "Эта база данных содержит схему `stackoverflow`, с которой вы будете работать в проекте"
   ]
  },
  {
   "cell_type": "code",
   "execution_count": 2,
   "metadata": {
    "id": "6p-yGp7qDWKg"
   },
   "outputs": [],
   "source": [
    "db_config = {\n",
    "    'user': USER_NAME', # имя пользователя\n",
    "    'pwd': PASSWORD', # пароль\n",
    "    'host': HOST,\n",
    "    'port': 6432, # порт подключения\n",
    "    'db': 'data-analyst-advanced-sql' # название базы данных\n",
    "}  \n",
    "\n",
    "connection_string = 'postgresql://{}:{}@{}:{}/{}'.format(\n",
    "    db_config['user'],\n",
    "    db_config['pwd'],\n",
    "    db_config['host'],\n",
    "    db_config['port'],\n",
    "    db_config['db'],\n",
    ")"
   ]
  },
  {
   "cell_type": "markdown",
   "metadata": {
    "id": "2Rg8ZpS0DWKh"
   },
   "source": [
    "Создание подключения"
   ]
  },
  {
   "cell_type": "code",
   "execution_count": 3,
   "metadata": {
    "id": "DamCUTR6DWKi"
   },
   "outputs": [],
   "source": [
    "engine = create_engine(connection_string) "
   ]
  },
  {
   "cell_type": "markdown",
   "metadata": {
    "id": "gnBMXkDBDWKm"
   },
   "source": [
    "# Задание 1"
   ]
  },
  {
   "cell_type": "markdown",
   "metadata": {
    "id": "vHsfOrrNDWKn"
   },
   "source": [
    "Выведите общую сумму просмотров постов за каждый месяц 2008 года. Если данных за какой-либо месяц в базе нет, такой месяц можно пропустить. Результат отсортируйте по убыванию общего количества просмотров."
   ]
  },
  {
   "cell_type": "markdown",
   "metadata": {
    "id": "N5rTgGNmDWKn"
   },
   "source": [
    "| month_date  | total_views |\n",
    "| ------------- | ------------- |\n",
    "| 2008-09-01  | 452928568  |\n",
    "| 2008-10-01  | 365400138  |\n",
    "| ...         | ... |"
   ]
  },
  {
   "cell_type": "code",
   "execution_count": 6,
   "metadata": {
    "id": "eWvykcXTDWKo"
   },
   "outputs": [],
   "source": [
    "# напишите запрос\n",
    "query = '''\n",
    "SELECT DISTINCT DATE_TRUNC('month', creation_date) AS month_date,\n",
    "       SUM(views_count) OVER (PARTITION BY DATE_TRUNC('month', creation_date) ROWS BETWEEN UNBOUNDED PRECEDING AND UNBOUNDED FOLLOWING) AS total_views\n",
    "FROM stackoverflow.posts\n",
    "WHERE EXTRACT('year' FROM creation_date::date) = 2008\n",
    "ORDER BY total_views DESC\n",
    "'''\n",
    "\n",
    "# выполните запрос"
   ]
  },
  {
   "cell_type": "code",
   "execution_count": 7,
   "metadata": {},
   "outputs": [
    {
     "data": {
      "text/html": [
       "<div>\n",
       "<style scoped>\n",
       "    .dataframe tbody tr th:only-of-type {\n",
       "        vertical-align: middle;\n",
       "    }\n",
       "\n",
       "    .dataframe tbody tr th {\n",
       "        vertical-align: top;\n",
       "    }\n",
       "\n",
       "    .dataframe thead th {\n",
       "        text-align: right;\n",
       "    }\n",
       "</style>\n",
       "<table border=\"1\" class=\"dataframe\">\n",
       "  <thead>\n",
       "    <tr style=\"text-align: right;\">\n",
       "      <th></th>\n",
       "      <th>total_views</th>\n",
       "    </tr>\n",
       "    <tr>\n",
       "      <th>month_date</th>\n",
       "      <th></th>\n",
       "    </tr>\n",
       "  </thead>\n",
       "  <tbody>\n",
       "    <tr>\n",
       "      <th>2008-09-01</th>\n",
       "      <td>452928568</td>\n",
       "    </tr>\n",
       "    <tr>\n",
       "      <th>2008-10-01</th>\n",
       "      <td>365400138</td>\n",
       "    </tr>\n",
       "    <tr>\n",
       "      <th>2008-11-01</th>\n",
       "      <td>221759651</td>\n",
       "    </tr>\n",
       "    <tr>\n",
       "      <th>2008-12-01</th>\n",
       "      <td>197792841</td>\n",
       "    </tr>\n",
       "    <tr>\n",
       "      <th>2008-08-01</th>\n",
       "      <td>131367083</td>\n",
       "    </tr>\n",
       "    <tr>\n",
       "      <th>2008-07-01</th>\n",
       "      <td>669895</td>\n",
       "    </tr>\n",
       "  </tbody>\n",
       "</table>\n",
       "</div>"
      ],
      "text/plain": [
       "            total_views\n",
       "month_date             \n",
       "2008-09-01    452928568\n",
       "2008-10-01    365400138\n",
       "2008-11-01    221759651\n",
       "2008-12-01    197792841\n",
       "2008-08-01    131367083\n",
       "2008-07-01       669895"
      ]
     },
     "execution_count": 7,
     "metadata": {},
     "output_type": "execute_result"
    }
   ],
   "source": [
    "df_1 = pd.read_sql_query(query, con=engine, index_col='month_date') \n",
    "df_1"
   ]
  },
  {
   "cell_type": "code",
   "execution_count": 8,
   "metadata": {},
   "outputs": [
    {
     "data": {
      "image/png": "[encoded data removed]",
      "text/plain": [
       "<Figure size 432x288 with 1 Axes>"
      ]
     },
     "metadata": {
      "needs_background": "light"
     },
     "output_type": "display_data"
    }
   ],
   "source": [
    "df_1.plot.barh();"
   ]
  },
  {
   "cell_type": "markdown",
   "metadata": {
    "id": "I_ZvhOxkDWKp"
   },
   "source": [
    "**Проанализируйте итоговую таблицу. Отличаются ли данные за разные месяцы? С чем могут быть связаны отличия?**"
   ]
  },
  {
   "cell_type": "markdown",
   "metadata": {
    "id": "luxSj17oDWKq"
   },
   "source": [
    "Наибольшее количество просмотров постов приходится на месяцы: сентябрь, октябрь, ноябрь, декабрь. Наименьшее количество - на июль и август. Это может быть связано с тем, что с сентября начинается учебный год и потребность в информации, представленной на сервисе, становится более острой, нежели в неучебное время (летом).  \n",
    "\n",
    "Информация о просмотрах с января по июнь вовсе отсутсвует, возможно, по причине того, что сам сервис stackoverflow появился лишь в 2008 году."
   ]
  },
  {
   "cell_type": "markdown",
   "metadata": {
    "id": "FziIXkn5DWKr"
   },
   "source": [
    "# Задание 2"
   ]
  },
  {
   "cell_type": "markdown",
   "metadata": {
    "id": "fTGESZvYDWKr"
   },
   "source": [
    "Выведите имена самых активных пользователей, которые в первый месяц после регистрации (включая день регистрации) дали больше 100 ответов. Вопросы, которые задавали пользователи, не учитывайте. Для каждого имени пользователя выведите количество уникальных значений `user_id`. Отсортируйте результат по полю с именами в лексикографическом порядке."
   ]
  },
  {
   "cell_type": "markdown",
   "metadata": {
    "id": "W5-tv6Y3DWKs"
   },
   "source": [
    "| display_name | count |\n",
    "| ------------ | ----- |\n",
    "| 1800 INFORMATION | 1 |\n",
    "| Adam Bellaire | 1 |\n",
    "| Adam Davis | 1 |\n",
    "| ... | ... |"
   ]
  },
  {
   "cell_type": "code",
   "execution_count": 31,
   "metadata": {},
   "outputs": [],
   "source": [
    "# напишите запрос\n",
    "query = '''\n",
    "WITH base_tbl AS (SELECT u.id AS usr_id,\n",
    "                         u.display_name, \n",
    "                         COUNT(p.id) OVER (PARTITION BY p.user_id) AS posts_per_user,\n",
    "                         u.creation_date AS user_creation_date,\n",
    "                         u.creation_date + INTERVAL '1 month' AS plus_one_month,\n",
    "                         p.creation_date AS post_creation_date\n",
    "                  FROM stackoverflow.posts AS p \n",
    "                       LEFT JOIN stackoverflow.post_types AS pt ON p.post_type_id = pt.id\n",
    "                       LEFT JOIN stackoverflow.users AS u ON u.id = p.user_id\n",
    "                  WHERE pt.type = 'Answer'\n",
    "                  ORDER BY posts_per_user)\n",
    "                \n",
    "SELECT display_name,\n",
    "       COUNT(DISTINCT usr_id)\n",
    "FROM (SELECT display_name, \n",
    "             usr_id,\n",
    "             posts_cnt\n",
    "      FROM (SELECT usr_id,\n",
    "                   display_name, \n",
    "                   posts_per_user,\n",
    "                   user_creation_date,\n",
    "                   plus_one_month,\n",
    "                   post_creation_date,\n",
    "                   COUNT(*) OVER (PARTITION BY usr_id) AS posts_cnt\n",
    "            FROM base_tbl\n",
    "            WHERE post_creation_date <= plus_one_month\n",
    "            ) tbl\n",
    "      WHERE posts_cnt > 100\n",
    "      ) tbl1\n",
    "GROUP BY display_name\n",
    "ORDER BY display_name\n",
    "'''\n",
    "\n",
    "# выполните запрос"
   ]
  },
  {
   "cell_type": "code",
   "execution_count": 33,
   "metadata": {},
   "outputs": [
    {
     "data": {
      "text/html": [
       "<div>\n",
       "<style scoped>\n",
       "    .dataframe tbody tr th:only-of-type {\n",
       "        vertical-align: middle;\n",
       "    }\n",
       "\n",
       "    .dataframe tbody tr th {\n",
       "        vertical-align: top;\n",
       "    }\n",
       "\n",
       "    .dataframe thead th {\n",
       "        text-align: right;\n",
       "    }\n",
       "</style>\n",
       "<table border=\"1\" class=\"dataframe\">\n",
       "  <thead>\n",
       "    <tr style=\"text-align: right;\">\n",
       "      <th></th>\n",
       "      <th>display_name</th>\n",
       "      <th>count</th>\n",
       "    </tr>\n",
       "  </thead>\n",
       "  <tbody>\n",
       "    <tr>\n",
       "      <th>0</th>\n",
       "      <td>1800 INFORMATION</td>\n",
       "      <td>1</td>\n",
       "    </tr>\n",
       "    <tr>\n",
       "      <th>1</th>\n",
       "      <td>Adam Bellaire</td>\n",
       "      <td>1</td>\n",
       "    </tr>\n",
       "    <tr>\n",
       "      <th>2</th>\n",
       "      <td>Adam Davis</td>\n",
       "      <td>1</td>\n",
       "    </tr>\n",
       "    <tr>\n",
       "      <th>3</th>\n",
       "      <td>Adam Liss</td>\n",
       "      <td>1</td>\n",
       "    </tr>\n",
       "    <tr>\n",
       "      <th>4</th>\n",
       "      <td>Amy B</td>\n",
       "      <td>1</td>\n",
       "    </tr>\n",
       "    <tr>\n",
       "      <th>...</th>\n",
       "      <td>...</td>\n",
       "      <td>...</td>\n",
       "    </tr>\n",
       "    <tr>\n",
       "      <th>57</th>\n",
       "      <td>leppie</td>\n",
       "      <td>1</td>\n",
       "    </tr>\n",
       "    <tr>\n",
       "      <th>58</th>\n",
       "      <td>lomaxx</td>\n",
       "      <td>1</td>\n",
       "    </tr>\n",
       "    <tr>\n",
       "      <th>59</th>\n",
       "      <td>mattlant</td>\n",
       "      <td>1</td>\n",
       "    </tr>\n",
       "    <tr>\n",
       "      <th>60</th>\n",
       "      <td>paxdiablo</td>\n",
       "      <td>1</td>\n",
       "    </tr>\n",
       "    <tr>\n",
       "      <th>61</th>\n",
       "      <td>tzot</td>\n",
       "      <td>1</td>\n",
       "    </tr>\n",
       "  </tbody>\n",
       "</table>\n",
       "<p>62 rows × 2 columns</p>\n",
       "</div>"
      ],
      "text/plain": [
       "        display_name  count\n",
       "0   1800 INFORMATION      1\n",
       "1      Adam Bellaire      1\n",
       "2         Adam Davis      1\n",
       "3          Adam Liss      1\n",
       "4              Amy B      1\n",
       "..               ...    ...\n",
       "57            leppie      1\n",
       "58            lomaxx      1\n",
       "59          mattlant      1\n",
       "60         paxdiablo      1\n",
       "61              tzot      1\n",
       "\n",
       "[62 rows x 2 columns]"
      ]
     },
     "execution_count": 33,
     "metadata": {},
     "output_type": "execute_result"
    }
   ],
   "source": [
    "df_2 = pd.read_sql_query(query, con=engine) \n",
    "df_2"
   ]
  },
  {
   "cell_type": "code",
   "execution_count": 11,
   "metadata": {},
   "outputs": [
    {
     "data": {
      "text/plain": [
       "array([1])"
      ]
     },
     "execution_count": 11,
     "metadata": {},
     "output_type": "execute_result"
    }
   ],
   "source": [
    "df_2['count'].unique()"
   ]
  },
  {
   "cell_type": "markdown",
   "metadata": {
    "id": "I3Wr82TplKpI"
   },
   "source": [
    "Какие аномалии наблюдаются в данных? О чём они говорят?"
   ]
  },
  {
   "cell_type": "markdown",
   "metadata": {
    "id": "CEIGGQ6ODWKy"
   },
   "source": [
    "У каждого имени пользователя лишь 1 уникальный айди. Аномалий не наблюдается."
   ]
  },
  {
   "cell_type": "markdown",
   "metadata": {
    "id": "JhM2xXj5DWKu"
   },
   "source": [
    "# Задание 3"
   ]
  },
  {
   "cell_type": "markdown",
   "metadata": {
    "id": "IS6xPqyyDWKu"
   },
   "source": [
    "Выведите количество постов за 2008 год по месяцам. Отберите посты от пользователей, которые зарегистрировались в сентябре 2008 года и сделали хотя бы один пост в декабре того же года. Отсортируйте таблицу по значению месяца по убыванию."
   ]
  },
  {
   "cell_type": "markdown",
   "metadata": {
    "id": "WmjhjV2xDWKv"
   },
   "source": [
    "| month | count |\n",
    "| ------|------ |\n",
    "| 2008-12-01 | 17641 |\n",
    "| 2008-11-01 | 18294 |\n",
    "| ... | ... |"
   ]
  },
  {
   "cell_type": "code",
   "execution_count": 12,
   "metadata": {
    "id": "kVu0FB8WDWKv"
   },
   "outputs": [],
   "source": [
    "# напишите запрос\n",
    "query = '''\n",
    "WITH tbl AS (SELECT DISTINCT user_id, \n",
    "                    COUNT(*) OVER (PARTITION BY DATE_TRUNC('month', creation_date::date)) AS num_posts_dec\n",
    "             FROM stackoverflow.posts\n",
    "             WHERE DATE_TRUNC('month', creation_date::date) = '2008-12-01')\n",
    "\n",
    "SELECT DISTINCT DATE_TRUNC('month', p.creation_date) AS month,\n",
    "       COUNT(*) OVER (PARTITION BY DATE_TRUNC('month', p.creation_date::date))\n",
    "FROM stackoverflow.posts AS p \n",
    "     LEFT JOIN stackoverflow.users AS u ON u.id = p.user_id\n",
    "     RIGHT JOIN tbl ON tbl.user_id = p.user_id\n",
    "WHERE EXTRACT('year' FROM p.creation_date::date) = 2008\n",
    "      AND DATE_TRUNC('month', u.creation_date::date) = '2008-09-01'\n",
    "      AND tbl.num_posts_dec <> 0\n",
    "ORDER BY month DESC\n",
    "'''\n",
    "\n",
    "# выполните запрос"
   ]
  },
  {
   "cell_type": "code",
   "execution_count": 13,
   "metadata": {},
   "outputs": [
    {
     "data": {
      "text/html": [
       "<div>\n",
       "<style scoped>\n",
       "    .dataframe tbody tr th:only-of-type {\n",
       "        vertical-align: middle;\n",
       "    }\n",
       "\n",
       "    .dataframe tbody tr th {\n",
       "        vertical-align: top;\n",
       "    }\n",
       "\n",
       "    .dataframe thead th {\n",
       "        text-align: right;\n",
       "    }\n",
       "</style>\n",
       "<table border=\"1\" class=\"dataframe\">\n",
       "  <thead>\n",
       "    <tr style=\"text-align: right;\">\n",
       "      <th></th>\n",
       "      <th>month</th>\n",
       "      <th>count</th>\n",
       "    </tr>\n",
       "  </thead>\n",
       "  <tbody>\n",
       "    <tr>\n",
       "      <th>0</th>\n",
       "      <td>2008-12-01</td>\n",
       "      <td>17641</td>\n",
       "    </tr>\n",
       "    <tr>\n",
       "      <th>1</th>\n",
       "      <td>2008-11-01</td>\n",
       "      <td>18294</td>\n",
       "    </tr>\n",
       "    <tr>\n",
       "      <th>2</th>\n",
       "      <td>2008-10-01</td>\n",
       "      <td>27171</td>\n",
       "    </tr>\n",
       "    <tr>\n",
       "      <th>3</th>\n",
       "      <td>2008-09-01</td>\n",
       "      <td>24870</td>\n",
       "    </tr>\n",
       "    <tr>\n",
       "      <th>4</th>\n",
       "      <td>2008-08-01</td>\n",
       "      <td>32</td>\n",
       "    </tr>\n",
       "  </tbody>\n",
       "</table>\n",
       "</div>"
      ],
      "text/plain": [
       "       month  count\n",
       "0 2008-12-01  17641\n",
       "1 2008-11-01  18294\n",
       "2 2008-10-01  27171\n",
       "3 2008-09-01  24870\n",
       "4 2008-08-01     32"
      ]
     },
     "execution_count": 13,
     "metadata": {},
     "output_type": "execute_result"
    }
   ],
   "source": [
    "df_3 = pd.read_sql_query(query, con=engine) \n",
    "df_3"
   ]
  },
  {
   "cell_type": "markdown",
   "metadata": {
    "id": "Vnxn9DVHDWKx"
   },
   "source": [
    "Изучите данные: есть ли в них аномалии? Предположите, почему могли появиться аномальные значения."
   ]
  },
  {
   "cell_type": "markdown",
   "metadata": {
    "id": "MMVIz4yMlKpN"
   },
   "source": [
    "Да, есть аномальные значения.  \n",
    "В таблице присутствует 32 пользователя, которые зарегестрировались в сентябре, однако их посты были сделаны в августе.  \n",
    "Одна из причин, почему так могло получиться: пользователи на самом деле зарегестрировались в августе, и сделали посты в августе, однако, возможно, данные об их регистрации попали на сервер с опозданием и им была присвоена дата регистрации более поздняя, чем дата их поста."
   ]
  },
  {
   "cell_type": "markdown",
   "metadata": {
    "id": "5Pcizm0DDWKz"
   },
   "source": [
    "# Задание 4"
   ]
  },
  {
   "cell_type": "markdown",
   "metadata": {
    "id": "KUZPF6vHDWKz"
   },
   "source": [
    "Используя данные о постах, выведите несколько полей:\n",
    "\n",
    "- идентификатор пользователя, который написал пост;\n",
    "- дата создания поста;\n",
    "- количество просмотров у текущего поста;\n",
    "- сумму просмотров постов автора с накоплением.\n",
    "\n",
    "Данные в таблице должны быть отсортированы по возрастанию идентификаторов пользователей, а данные об одном и том же пользователе — по возрастанию даты создания поста."
   ]
  },
  {
   "cell_type": "markdown",
   "metadata": {
    "id": "ZpsTUVDYDWK0"
   },
   "source": [
    "| user_id | creation_date | views_count | cumulative_count |\n",
    "| ------ | -------------- | ----------- | ---------------- |\n",
    "| 1 | 2008-07-31 23:41:00  | 480476   | 480476  |\n",
    "| 1 | 2008-07-31 23:55:38  | 136033 | 616509  | \n",
    "| 1 | 2008-07-31 23:56:41  | 0 |  616509  |\n",
    "| ... | ... | ... | ... |\n",
    "| 2 | 2008-07-31 23:56:41 | 79087  | 79087 |\n",
    "| 2 | 2008-08-01 05:09:56 | 65443 | 144530 |\n",
    "| ... | ...  | ...  | ...  |"
   ]
  },
  {
   "cell_type": "code",
   "execution_count": 14,
   "metadata": {
    "id": "hDoJhMzfDWK0"
   },
   "outputs": [],
   "source": [
    "# напишите запрос\n",
    "query = '''\n",
    "SELECT user_id,\n",
    "       creation_date,\n",
    "       views_count,\n",
    "       SUM(views_count) OVER (PARTITION BY user_id ORDER BY creation_date ASC)\n",
    "FROM stackoverflow.posts\n",
    "ORDER BY user_id ASC, creation_date ASC\n",
    "'''\n",
    "\n",
    "# выполните запрос"
   ]
  },
  {
   "cell_type": "code",
   "execution_count": 15,
   "metadata": {},
   "outputs": [
    {
     "data": {
      "text/html": [
       "<div>\n",
       "<style scoped>\n",
       "    .dataframe tbody tr th:only-of-type {\n",
       "        vertical-align: middle;\n",
       "    }\n",
       "\n",
       "    .dataframe tbody tr th {\n",
       "        vertical-align: top;\n",
       "    }\n",
       "\n",
       "    .dataframe thead th {\n",
       "        text-align: right;\n",
       "    }\n",
       "</style>\n",
       "<table border=\"1\" class=\"dataframe\">\n",
       "  <thead>\n",
       "    <tr style=\"text-align: right;\">\n",
       "      <th></th>\n",
       "      <th>user_id</th>\n",
       "      <th>creation_date</th>\n",
       "      <th>views_count</th>\n",
       "      <th>sum</th>\n",
       "    </tr>\n",
       "  </thead>\n",
       "  <tbody>\n",
       "    <tr>\n",
       "      <th>0</th>\n",
       "      <td>1</td>\n",
       "      <td>2008-07-31 23:41:00</td>\n",
       "      <td>480476</td>\n",
       "      <td>480476</td>\n",
       "    </tr>\n",
       "    <tr>\n",
       "      <th>1</th>\n",
       "      <td>1</td>\n",
       "      <td>2008-07-31 23:55:38</td>\n",
       "      <td>136033</td>\n",
       "      <td>616509</td>\n",
       "    </tr>\n",
       "    <tr>\n",
       "      <th>2</th>\n",
       "      <td>1</td>\n",
       "      <td>2008-07-31 23:56:41</td>\n",
       "      <td>0</td>\n",
       "      <td>616509</td>\n",
       "    </tr>\n",
       "    <tr>\n",
       "      <th>3</th>\n",
       "      <td>1</td>\n",
       "      <td>2008-08-04 02:45:08</td>\n",
       "      <td>0</td>\n",
       "      <td>616509</td>\n",
       "    </tr>\n",
       "    <tr>\n",
       "      <th>4</th>\n",
       "      <td>1</td>\n",
       "      <td>2008-08-04 04:31:03</td>\n",
       "      <td>0</td>\n",
       "      <td>616509</td>\n",
       "    </tr>\n",
       "    <tr>\n",
       "      <th>...</th>\n",
       "      <td>...</td>\n",
       "      <td>...</td>\n",
       "      <td>...</td>\n",
       "      <td>...</td>\n",
       "    </tr>\n",
       "    <tr>\n",
       "      <th>243791</th>\n",
       "      <td>5696608</td>\n",
       "      <td>2008-12-23 16:00:37</td>\n",
       "      <td>0</td>\n",
       "      <td>2804</td>\n",
       "    </tr>\n",
       "    <tr>\n",
       "      <th>243792</th>\n",
       "      <td>5696608</td>\n",
       "      <td>2008-12-23 17:35:09</td>\n",
       "      <td>0</td>\n",
       "      <td>2804</td>\n",
       "    </tr>\n",
       "    <tr>\n",
       "      <th>243793</th>\n",
       "      <td>5696608</td>\n",
       "      <td>2008-12-24 01:02:48</td>\n",
       "      <td>0</td>\n",
       "      <td>2804</td>\n",
       "    </tr>\n",
       "    <tr>\n",
       "      <th>243794</th>\n",
       "      <td>5696608</td>\n",
       "      <td>2008-12-30 14:34:45</td>\n",
       "      <td>0</td>\n",
       "      <td>2804</td>\n",
       "    </tr>\n",
       "    <tr>\n",
       "      <th>243795</th>\n",
       "      <td>5696608</td>\n",
       "      <td>2008-12-30 16:32:12</td>\n",
       "      <td>0</td>\n",
       "      <td>2804</td>\n",
       "    </tr>\n",
       "  </tbody>\n",
       "</table>\n",
       "<p>243796 rows × 4 columns</p>\n",
       "</div>"
      ],
      "text/plain": [
       "        user_id       creation_date  views_count     sum\n",
       "0             1 2008-07-31 23:41:00       480476  480476\n",
       "1             1 2008-07-31 23:55:38       136033  616509\n",
       "2             1 2008-07-31 23:56:41            0  616509\n",
       "3             1 2008-08-04 02:45:08            0  616509\n",
       "4             1 2008-08-04 04:31:03            0  616509\n",
       "...         ...                 ...          ...     ...\n",
       "243791  5696608 2008-12-23 16:00:37            0    2804\n",
       "243792  5696608 2008-12-23 17:35:09            0    2804\n",
       "243793  5696608 2008-12-24 01:02:48            0    2804\n",
       "243794  5696608 2008-12-30 14:34:45            0    2804\n",
       "243795  5696608 2008-12-30 16:32:12            0    2804\n",
       "\n",
       "[243796 rows x 4 columns]"
      ]
     },
     "execution_count": 15,
     "metadata": {},
     "output_type": "execute_result"
    }
   ],
   "source": [
    "df_4 = pd.read_sql_query(query, con=engine) \n",
    "df_4"
   ]
  },
  {
   "cell_type": "markdown",
   "metadata": {
    "id": "N0kHRHvIDWK2"
   },
   "source": [
    "# Задание 5"
   ]
  },
  {
   "cell_type": "markdown",
   "metadata": {
    "id": "gBgvmPtODWK2"
   },
   "source": [
    "Найдите среднее количество постов пользователей в день за август 2008 года. Отберите данные о пользователях, которые опубликовали больше 120 постов за август. Дни без публикаций не учитывайте. \n",
    "\n",
    "Отсортируйте результат по возрастанию среднего количества постов. Значения можно не округлять."
   ]
  },
  {
   "cell_type": "markdown",
   "metadata": {
    "id": "nfzR08BODWK3"
   },
   "source": [
    "| user_id | avg_daily |\n",
    "| ------- | --------- |\n",
    "| 116     | 4.777778  |\n",
    "| 234     | 5.208333  |\n",
    "| ...     | ... |"
   ]
  },
  {
   "cell_type": "code",
   "execution_count": 16,
   "metadata": {
    "id": "YFyPNz5GDWK3"
   },
   "outputs": [],
   "source": [
    "# напишите запрос\n",
    "query = '''\n",
    "SELECT DISTINCT user_id,\n",
    "       AVG(posts_per_day::float) OVER (PARTITION BY user_id) AS avg_daily\n",
    "FROM (SELECT DISTINCT user_id,\n",
    "             creation_date::date,\n",
    "             COUNT(*) OVER (PARTITION BY user_id, creation_date::date) AS posts_per_day\n",
    "      FROM stackoverflow.posts\n",
    "      WHERE DATE_TRUNC('month', creation_date) = '2008-08-01'\n",
    "      ) tbl1\n",
    "WHERE user_id IN (SELECT user_id\n",
    "                  FROM (SELECT DISTINCT user_id,\n",
    "                               COUNT(*) OVER (PARTITION BY user_id) AS posts_per_month\n",
    "                        FROM stackoverflow.posts\n",
    "                        WHERE DATE_TRUNC('month', creation_date) = '2008-08-01'\n",
    "                        ) tbl\n",
    "                  WHERE posts_per_month > 120)\n",
    "ORDER BY avg_daily\n",
    "'''\n",
    "\n",
    "# выполните запрос"
   ]
  },
  {
   "cell_type": "code",
   "execution_count": 17,
   "metadata": {
    "scrolled": true
   },
   "outputs": [
    {
     "data": {
      "text/html": [
       "<div>\n",
       "<style scoped>\n",
       "    .dataframe tbody tr th:only-of-type {\n",
       "        vertical-align: middle;\n",
       "    }\n",
       "\n",
       "    .dataframe tbody tr th {\n",
       "        vertical-align: top;\n",
       "    }\n",
       "\n",
       "    .dataframe thead th {\n",
       "        text-align: right;\n",
       "    }\n",
       "</style>\n",
       "<table border=\"1\" class=\"dataframe\">\n",
       "  <thead>\n",
       "    <tr style=\"text-align: right;\">\n",
       "      <th></th>\n",
       "      <th>user_id</th>\n",
       "      <th>avg_daily</th>\n",
       "    </tr>\n",
       "  </thead>\n",
       "  <tbody>\n",
       "    <tr>\n",
       "      <th>0</th>\n",
       "      <td>116</td>\n",
       "      <td>4.777778</td>\n",
       "    </tr>\n",
       "    <tr>\n",
       "      <th>1</th>\n",
       "      <td>234</td>\n",
       "      <td>5.208333</td>\n",
       "    </tr>\n",
       "    <tr>\n",
       "      <th>2</th>\n",
       "      <td>91</td>\n",
       "      <td>5.681818</td>\n",
       "    </tr>\n",
       "    <tr>\n",
       "      <th>3</th>\n",
       "      <td>905</td>\n",
       "      <td>7.000000</td>\n",
       "    </tr>\n",
       "    <tr>\n",
       "      <th>4</th>\n",
       "      <td>383</td>\n",
       "      <td>7.277778</td>\n",
       "    </tr>\n",
       "  </tbody>\n",
       "</table>\n",
       "</div>"
      ],
      "text/plain": [
       "   user_id  avg_daily\n",
       "0      116   4.777778\n",
       "1      234   5.208333\n",
       "2       91   5.681818\n",
       "3      905   7.000000\n",
       "4      383   7.277778"
      ]
     },
     "execution_count": 17,
     "metadata": {},
     "output_type": "execute_result"
    }
   ],
   "source": [
    "df_5 = pd.read_sql_query(query, con=engine) \n",
    "df_5"
   ]
  },
  {
   "cell_type": "markdown",
   "metadata": {
    "id": "EQ0dcFH4DWK5"
   },
   "source": [
    "# Задание 6"
   ]
  },
  {
   "cell_type": "markdown",
   "metadata": {
    "id": "c7flfg_hDWK5"
   },
   "source": [
    "Сколько в среднем дней в период с 1 по 7 декабря 2008 года пользователи взаимодействовали с платформой? Для каждого пользователя отберите дни, в которые он или она опубликовали хотя бы один пост. Нужно получить одно целое число — не забудьте округлить результат. "
   ]
  },
  {
   "cell_type": "markdown",
   "metadata": {
    "id": "RC1Ibzm9DWK6"
   },
   "source": [
    "| result |\n",
    "| -----  |\n",
    "| <целое число> |"
   ]
  },
  {
   "cell_type": "code",
   "execution_count": 18,
   "metadata": {
    "id": "kZ7LXTr6DWK6"
   },
   "outputs": [],
   "source": [
    "# напишите запрос\n",
    "query = '''\n",
    "WITH tbl AS (SELECT user_id, \n",
    "                    creation_date::date, \n",
    "                    COUNT(*)\n",
    "            FROM stackoverflow.posts\n",
    "            WHERE creation_date::date BETWEEN '2008-12-01' AND '2008-12-07'\n",
    "            GROUP BY user_id, creation_date::date)\n",
    "            \n",
    "SELECT ROUND(SUM(usr_num_days) / COUNT(DISTINCT user_id)) AS result\n",
    "FROM (SELECT DISTINCT user_id,\n",
    "             COUNT(creation_date) OVER (PARTITION BY user_id) AS usr_num_days\n",
    "      FROM tbl\n",
    "      WHERE count <> 0) AS tbl2\n",
    "'''\n",
    "\n",
    "# выполните запрос"
   ]
  },
  {
   "cell_type": "code",
   "execution_count": 19,
   "metadata": {},
   "outputs": [
    {
     "data": {
      "text/html": [
       "<div>\n",
       "<style scoped>\n",
       "    .dataframe tbody tr th:only-of-type {\n",
       "        vertical-align: middle;\n",
       "    }\n",
       "\n",
       "    .dataframe tbody tr th {\n",
       "        vertical-align: top;\n",
       "    }\n",
       "\n",
       "    .dataframe thead th {\n",
       "        text-align: right;\n",
       "    }\n",
       "</style>\n",
       "<table border=\"1\" class=\"dataframe\">\n",
       "  <thead>\n",
       "    <tr style=\"text-align: right;\">\n",
       "      <th></th>\n",
       "      <th>result</th>\n",
       "    </tr>\n",
       "  </thead>\n",
       "  <tbody>\n",
       "    <tr>\n",
       "      <th>0</th>\n",
       "      <td>2.0</td>\n",
       "    </tr>\n",
       "  </tbody>\n",
       "</table>\n",
       "</div>"
      ],
      "text/plain": [
       "   result\n",
       "0     2.0"
      ]
     },
     "execution_count": 19,
     "metadata": {},
     "output_type": "execute_result"
    }
   ],
   "source": [
    "df_6 = pd.read_sql_query(query, con=engine) \n",
    "df_6"
   ]
  },
  {
   "cell_type": "markdown",
   "metadata": {
    "id": "UJFtNNggDWK7"
   },
   "source": [
    "Проанализируйте итоговую таблицу — какие выводы можно сделать?"
   ]
  },
  {
   "cell_type": "markdown",
   "metadata": {
    "id": "LfUuYz-1DWK8"
   },
   "source": [
    "В период с 1-го по 7-е декабря каждый пользователь в среднем взаимодествовал с платформой 2 дня."
   ]
  },
  {
   "cell_type": "markdown",
   "metadata": {
    "id": "wfOmqmfLDWK8"
   },
   "source": [
    "# Задание 7"
   ]
  },
  {
   "cell_type": "markdown",
   "metadata": {
    "id": "X4ARQimADWK9"
   },
   "source": [
    "Выведите историю активности каждого пользователя в таком виде: идентификатор пользователя, дата публикации поста. Отсортируйте вывод по возрастанию идентификаторов пользователей, а для каждого пользователя — по возрастанию даты публикации.\n",
    "\n",
    "Добавьте в таблицу новое поле: для каждого поста в нём будет указано название месяца предпоследней публикации пользователя относительно текущей. Если такой публикации нет, укажите `NULL`.  Python автоматически поменяет `NULL` на `None`, но дополнительно преобразовывать значения `None` вам не нужно.\n",
    "\n",
    "Посмотрите внимательно на образец таблицы: для первых двух постов предпоследней публикации нет, но, начиная с третьего поста, в новое поле входит нужный месяц. Для следующего пользователя в первые две записи поля `second_last_month` тоже войдёт `NULL`."
   ]
  },
  {
   "cell_type": "markdown",
   "metadata": {
    "id": "IGPjRP01DWK9"
   },
   "source": [
    "| user_id | creation_date | second_last_month |\n",
    "| ------- | ------------- | ----------------- |\n",
    "| 1       | 2008-07-31 23:41:00 | None |\n",
    "| 1       | 2008-07-31 23:55:38 | None |\n",
    "| 1       | 2008-07-31 23:56:41 | July |\n",
    "| 1       | 2008-08-04 02:45:08 | July |\n",
    "| 1       | 2008-08-04 04:31:03 | July |\n",
    "| 1       | 2008-08-04 08:04:42 | August |\n",
    "| ... | ... | ... |"
   ]
  },
  {
   "cell_type": "code",
   "execution_count": 20,
   "metadata": {
    "id": "HzI1vhaMDWK-"
   },
   "outputs": [],
   "source": [
    "# напишите запрос\n",
    "query = '''\n",
    "SELECT user_id, \n",
    "       creation_date,\n",
    "       CASE LAG(EXTRACT('month' FROM creation_date::date), 2) OVER (PARTITION BY user_id ORDER BY creation_date)\n",
    "            WHEN 7 THEN 'July'\n",
    "            WHEN 8 THEN 'August'\n",
    "            WHEN 9 THEN 'September'\n",
    "            WHEN 10 THEN 'October'\n",
    "            WHEN 11 THEN 'November'\n",
    "            WHEN 12 THEN 'December'\n",
    "       END\n",
    "          \n",
    "FROM stackoverflow.posts\n",
    "ORDER BY user_id ASC, creation_date ASC\n",
    "'''\n",
    "\n",
    "# выполните запрос"
   ]
  },
  {
   "cell_type": "code",
   "execution_count": 21,
   "metadata": {},
   "outputs": [
    {
     "data": {
      "text/html": [
       "<div>\n",
       "<style scoped>\n",
       "    .dataframe tbody tr th:only-of-type {\n",
       "        vertical-align: middle;\n",
       "    }\n",
       "\n",
       "    .dataframe tbody tr th {\n",
       "        vertical-align: top;\n",
       "    }\n",
       "\n",
       "    .dataframe thead th {\n",
       "        text-align: right;\n",
       "    }\n",
       "</style>\n",
       "<table border=\"1\" class=\"dataframe\">\n",
       "  <thead>\n",
       "    <tr style=\"text-align: right;\">\n",
       "      <th></th>\n",
       "      <th>user_id</th>\n",
       "      <th>creation_date</th>\n",
       "      <th>case</th>\n",
       "    </tr>\n",
       "  </thead>\n",
       "  <tbody>\n",
       "    <tr>\n",
       "      <th>0</th>\n",
       "      <td>1</td>\n",
       "      <td>2008-07-31 23:41:00</td>\n",
       "      <td>None</td>\n",
       "    </tr>\n",
       "    <tr>\n",
       "      <th>1</th>\n",
       "      <td>1</td>\n",
       "      <td>2008-07-31 23:55:38</td>\n",
       "      <td>None</td>\n",
       "    </tr>\n",
       "    <tr>\n",
       "      <th>2</th>\n",
       "      <td>1</td>\n",
       "      <td>2008-07-31 23:56:41</td>\n",
       "      <td>July</td>\n",
       "    </tr>\n",
       "    <tr>\n",
       "      <th>3</th>\n",
       "      <td>1</td>\n",
       "      <td>2008-08-04 02:45:08</td>\n",
       "      <td>July</td>\n",
       "    </tr>\n",
       "    <tr>\n",
       "      <th>4</th>\n",
       "      <td>1</td>\n",
       "      <td>2008-08-04 04:31:03</td>\n",
       "      <td>July</td>\n",
       "    </tr>\n",
       "    <tr>\n",
       "      <th>...</th>\n",
       "      <td>...</td>\n",
       "      <td>...</td>\n",
       "      <td>...</td>\n",
       "    </tr>\n",
       "    <tr>\n",
       "      <th>243791</th>\n",
       "      <td>5696608</td>\n",
       "      <td>2008-12-23 16:00:37</td>\n",
       "      <td>December</td>\n",
       "    </tr>\n",
       "    <tr>\n",
       "      <th>243792</th>\n",
       "      <td>5696608</td>\n",
       "      <td>2008-12-23 17:35:09</td>\n",
       "      <td>December</td>\n",
       "    </tr>\n",
       "    <tr>\n",
       "      <th>243793</th>\n",
       "      <td>5696608</td>\n",
       "      <td>2008-12-24 01:02:48</td>\n",
       "      <td>December</td>\n",
       "    </tr>\n",
       "    <tr>\n",
       "      <th>243794</th>\n",
       "      <td>5696608</td>\n",
       "      <td>2008-12-30 14:34:45</td>\n",
       "      <td>December</td>\n",
       "    </tr>\n",
       "    <tr>\n",
       "      <th>243795</th>\n",
       "      <td>5696608</td>\n",
       "      <td>2008-12-30 16:32:12</td>\n",
       "      <td>December</td>\n",
       "    </tr>\n",
       "  </tbody>\n",
       "</table>\n",
       "<p>243796 rows × 3 columns</p>\n",
       "</div>"
      ],
      "text/plain": [
       "        user_id       creation_date      case\n",
       "0             1 2008-07-31 23:41:00      None\n",
       "1             1 2008-07-31 23:55:38      None\n",
       "2             1 2008-07-31 23:56:41      July\n",
       "3             1 2008-08-04 02:45:08      July\n",
       "4             1 2008-08-04 04:31:03      July\n",
       "...         ...                 ...       ...\n",
       "243791  5696608 2008-12-23 16:00:37  December\n",
       "243792  5696608 2008-12-23 17:35:09  December\n",
       "243793  5696608 2008-12-24 01:02:48  December\n",
       "243794  5696608 2008-12-30 14:34:45  December\n",
       "243795  5696608 2008-12-30 16:32:12  December\n",
       "\n",
       "[243796 rows x 3 columns]"
      ]
     },
     "execution_count": 21,
     "metadata": {},
     "output_type": "execute_result"
    }
   ],
   "source": [
    "df_7 = pd.read_sql_query(query, con=engine) \n",
    "df_7"
   ]
  },
  {
   "cell_type": "markdown",
   "metadata": {
    "id": "tf9qq2yzDWK_"
   },
   "source": [
    "# Задание 8"
   ]
  },
  {
   "cell_type": "markdown",
   "metadata": {
    "id": "gfwLVXBYDWLA"
   },
   "source": [
    "Рассчитайте аналог Retention Rate по месяцам для пользователей StackOverflow. Объедините пользователей в когорты по месяцу их первого поста. Возвращение определяйте по наличию поста в текущем месяце. "
   ]
  },
  {
   "cell_type": "markdown",
   "metadata": {
    "id": "kN2ic39WlKpl"
   },
   "source": [
    "| cohort_dt | session_date | users_cnt | cohort_users_cnt | retention_rate |\n",
    "| --- | --- | --- | --- | --- |\n",
    "| 2008-07-01 00:00:00 | 2008-07-01 00:00:00 | 3 | 3 | 100 |\n",
    "| 2008-07-01 00:00:00 | 2008-08-01 00:00:00 | 2 | 3 | 66,67 |\n",
    "| 2008-07-01 00:00:00 | 2008-09-01 00:00:00 | 1 | 3 | 33,33 |\n",
    "| 2008-07-01 00:00:00 | 2008-10-01 00:00:00 | 2 | 3 | 66,67 |\n",
    "| 2008-07-01 00:00:00 | 2008-11-01 00:00:00 | 1 | 3 | 33,33 |\n",
    "| 2008-07-01 00:00:00 | 2008-12-01 00:00:00 | 2 | 3 | 66,67 |\n",
    "| 2008-08-01 00:00:00 | 2008-08-01 00:00:00 | 2151 | 2151 | 100 |\n",
    "| ... | ... | ... | ... | ... |"
   ]
  },
  {
   "cell_type": "code",
   "execution_count": 22,
   "metadata": {
    "id": "LUgFmwmTDWLB"
   },
   "outputs": [],
   "source": [
    "# напишите запрос\n",
    "query = '''\n",
    "WITH c AS (SELECT user_id,\n",
    "                  cohort_dt\n",
    "           FROM (SELECT user_id, \n",
    "                        FIRST_VALUE(DATE_TRUNC('month', creation_date)) OVER (PARTITION BY user_id ORDER BY creation_date) AS cohort_dt\n",
    "                 FROM stackoverflow.posts) cohorts\n",
    "           GROUP BY user_id, cohort_dt),\n",
    "            \n",
    "     s AS (SELECT user_id,\n",
    "                  DATE_TRUNC('month', creation_date) AS month_of_post,\n",
    "                  COUNT(*)\n",
    "            FROM stackoverflow.posts\n",
    "            GROUP BY user_id,  DATE_TRUNC('month', creation_date))\n",
    "            \n",
    "SELECT tbl.cohort_dt,\n",
    "       tbl.session_date,\n",
    "       tbl.users_cnt,\n",
    "       FIRST_VALUE(tbl.users_cnt) OVER (PARTITION BY tbl.cohort_dt ORDER BY tbl.session_date) AS cohort_users_cnt,\n",
    "       ROUND(1.0 * tbl.users_cnt / FIRST_VALUE(tbl.users_cnt) OVER (PARTITION BY tbl.cohort_dt ORDER BY tbl.session_date) * 100, 2) AS retention_rate\n",
    "FROM (\n",
    "      SELECT c.cohort_dt,\n",
    "             s.month_of_post AS session_date,\n",
    "             COUNT(c.user_id) AS users_cnt\n",
    "      FROM c JOIN s ON c.user_id = s.user_id\n",
    "      GROUP BY c.cohort_dt, s.month_of_post\n",
    "      ) AS tbl\n",
    "ORDER BY tbl.cohort_dt, tbl.session_date\n",
    "'''\n",
    "\n",
    "# выполните запрос"
   ]
  },
  {
   "cell_type": "code",
   "execution_count": 23,
   "metadata": {
    "scrolled": true
   },
   "outputs": [
    {
     "data": {
      "text/html": [
       "<div>\n",
       "<style scoped>\n",
       "    .dataframe tbody tr th:only-of-type {\n",
       "        vertical-align: middle;\n",
       "    }\n",
       "\n",
       "    .dataframe tbody tr th {\n",
       "        vertical-align: top;\n",
       "    }\n",
       "\n",
       "    .dataframe thead th {\n",
       "        text-align: right;\n",
       "    }\n",
       "</style>\n",
       "<table border=\"1\" class=\"dataframe\">\n",
       "  <thead>\n",
       "    <tr style=\"text-align: right;\">\n",
       "      <th></th>\n",
       "      <th>cohort_dt</th>\n",
       "      <th>session_date</th>\n",
       "      <th>users_cnt</th>\n",
       "      <th>cohort_users_cnt</th>\n",
       "      <th>retention_rate</th>\n",
       "    </tr>\n",
       "  </thead>\n",
       "  <tbody>\n",
       "    <tr>\n",
       "      <th>0</th>\n",
       "      <td>2008-07-01</td>\n",
       "      <td>2008-07-01</td>\n",
       "      <td>3</td>\n",
       "      <td>3</td>\n",
       "      <td>100.00</td>\n",
       "    </tr>\n",
       "    <tr>\n",
       "      <th>1</th>\n",
       "      <td>2008-07-01</td>\n",
       "      <td>2008-08-01</td>\n",
       "      <td>2</td>\n",
       "      <td>3</td>\n",
       "      <td>66.67</td>\n",
       "    </tr>\n",
       "    <tr>\n",
       "      <th>2</th>\n",
       "      <td>2008-07-01</td>\n",
       "      <td>2008-09-01</td>\n",
       "      <td>1</td>\n",
       "      <td>3</td>\n",
       "      <td>33.33</td>\n",
       "    </tr>\n",
       "    <tr>\n",
       "      <th>3</th>\n",
       "      <td>2008-07-01</td>\n",
       "      <td>2008-10-01</td>\n",
       "      <td>2</td>\n",
       "      <td>3</td>\n",
       "      <td>66.67</td>\n",
       "    </tr>\n",
       "    <tr>\n",
       "      <th>4</th>\n",
       "      <td>2008-07-01</td>\n",
       "      <td>2008-11-01</td>\n",
       "      <td>1</td>\n",
       "      <td>3</td>\n",
       "      <td>33.33</td>\n",
       "    </tr>\n",
       "    <tr>\n",
       "      <th>5</th>\n",
       "      <td>2008-07-01</td>\n",
       "      <td>2008-12-01</td>\n",
       "      <td>2</td>\n",
       "      <td>3</td>\n",
       "      <td>66.67</td>\n",
       "    </tr>\n",
       "    <tr>\n",
       "      <th>6</th>\n",
       "      <td>2008-08-01</td>\n",
       "      <td>2008-08-01</td>\n",
       "      <td>2151</td>\n",
       "      <td>2151</td>\n",
       "      <td>100.00</td>\n",
       "    </tr>\n",
       "    <tr>\n",
       "      <th>7</th>\n",
       "      <td>2008-08-01</td>\n",
       "      <td>2008-09-01</td>\n",
       "      <td>1571</td>\n",
       "      <td>2151</td>\n",
       "      <td>73.04</td>\n",
       "    </tr>\n",
       "    <tr>\n",
       "      <th>8</th>\n",
       "      <td>2008-08-01</td>\n",
       "      <td>2008-10-01</td>\n",
       "      <td>1275</td>\n",
       "      <td>2151</td>\n",
       "      <td>59.27</td>\n",
       "    </tr>\n",
       "    <tr>\n",
       "      <th>9</th>\n",
       "      <td>2008-08-01</td>\n",
       "      <td>2008-11-01</td>\n",
       "      <td>1050</td>\n",
       "      <td>2151</td>\n",
       "      <td>48.81</td>\n",
       "    </tr>\n",
       "    <tr>\n",
       "      <th>10</th>\n",
       "      <td>2008-08-01</td>\n",
       "      <td>2008-12-01</td>\n",
       "      <td>894</td>\n",
       "      <td>2151</td>\n",
       "      <td>41.56</td>\n",
       "    </tr>\n",
       "    <tr>\n",
       "      <th>11</th>\n",
       "      <td>2008-09-01</td>\n",
       "      <td>2008-09-01</td>\n",
       "      <td>7678</td>\n",
       "      <td>7678</td>\n",
       "      <td>100.00</td>\n",
       "    </tr>\n",
       "    <tr>\n",
       "      <th>12</th>\n",
       "      <td>2008-09-01</td>\n",
       "      <td>2008-10-01</td>\n",
       "      <td>4132</td>\n",
       "      <td>7678</td>\n",
       "      <td>53.82</td>\n",
       "    </tr>\n",
       "    <tr>\n",
       "      <th>13</th>\n",
       "      <td>2008-09-01</td>\n",
       "      <td>2008-11-01</td>\n",
       "      <td>2966</td>\n",
       "      <td>7678</td>\n",
       "      <td>38.63</td>\n",
       "    </tr>\n",
       "    <tr>\n",
       "      <th>14</th>\n",
       "      <td>2008-09-01</td>\n",
       "      <td>2008-12-01</td>\n",
       "      <td>2500</td>\n",
       "      <td>7678</td>\n",
       "      <td>32.56</td>\n",
       "    </tr>\n",
       "    <tr>\n",
       "      <th>15</th>\n",
       "      <td>2008-10-01</td>\n",
       "      <td>2008-10-01</td>\n",
       "      <td>3629</td>\n",
       "      <td>3629</td>\n",
       "      <td>100.00</td>\n",
       "    </tr>\n",
       "    <tr>\n",
       "      <th>16</th>\n",
       "      <td>2008-10-01</td>\n",
       "      <td>2008-11-01</td>\n",
       "      <td>1640</td>\n",
       "      <td>3629</td>\n",
       "      <td>45.19</td>\n",
       "    </tr>\n",
       "    <tr>\n",
       "      <th>17</th>\n",
       "      <td>2008-10-01</td>\n",
       "      <td>2008-12-01</td>\n",
       "      <td>1221</td>\n",
       "      <td>3629</td>\n",
       "      <td>33.65</td>\n",
       "    </tr>\n",
       "    <tr>\n",
       "      <th>18</th>\n",
       "      <td>2008-11-01</td>\n",
       "      <td>2008-11-01</td>\n",
       "      <td>2852</td>\n",
       "      <td>2852</td>\n",
       "      <td>100.00</td>\n",
       "    </tr>\n",
       "    <tr>\n",
       "      <th>19</th>\n",
       "      <td>2008-11-01</td>\n",
       "      <td>2008-12-01</td>\n",
       "      <td>1151</td>\n",
       "      <td>2852</td>\n",
       "      <td>40.36</td>\n",
       "    </tr>\n",
       "    <tr>\n",
       "      <th>20</th>\n",
       "      <td>2008-12-01</td>\n",
       "      <td>2008-12-01</td>\n",
       "      <td>2536</td>\n",
       "      <td>2536</td>\n",
       "      <td>100.00</td>\n",
       "    </tr>\n",
       "  </tbody>\n",
       "</table>\n",
       "</div>"
      ],
      "text/plain": [
       "    cohort_dt session_date  users_cnt  cohort_users_cnt  retention_rate\n",
       "0  2008-07-01   2008-07-01          3                 3          100.00\n",
       "1  2008-07-01   2008-08-01          2                 3           66.67\n",
       "2  2008-07-01   2008-09-01          1                 3           33.33\n",
       "3  2008-07-01   2008-10-01          2                 3           66.67\n",
       "4  2008-07-01   2008-11-01          1                 3           33.33\n",
       "5  2008-07-01   2008-12-01          2                 3           66.67\n",
       "6  2008-08-01   2008-08-01       2151              2151          100.00\n",
       "7  2008-08-01   2008-09-01       1571              2151           73.04\n",
       "8  2008-08-01   2008-10-01       1275              2151           59.27\n",
       "9  2008-08-01   2008-11-01       1050              2151           48.81\n",
       "10 2008-08-01   2008-12-01        894              2151           41.56\n",
       "11 2008-09-01   2008-09-01       7678              7678          100.00\n",
       "12 2008-09-01   2008-10-01       4132              7678           53.82\n",
       "13 2008-09-01   2008-11-01       2966              7678           38.63\n",
       "14 2008-09-01   2008-12-01       2500              7678           32.56\n",
       "15 2008-10-01   2008-10-01       3629              3629          100.00\n",
       "16 2008-10-01   2008-11-01       1640              3629           45.19\n",
       "17 2008-10-01   2008-12-01       1221              3629           33.65\n",
       "18 2008-11-01   2008-11-01       2852              2852          100.00\n",
       "19 2008-11-01   2008-12-01       1151              2852           40.36\n",
       "20 2008-12-01   2008-12-01       2536              2536          100.00"
      ]
     },
     "execution_count": 23,
     "metadata": {},
     "output_type": "execute_result"
    }
   ],
   "source": [
    "df_8 = pd.read_sql_query(query, con=engine) \n",
    "df_8"
   ]
  },
  {
   "cell_type": "markdown",
   "metadata": {
    "id": "_msBtnb2DWLC"
   },
   "source": [
    "Постройте тепловую карту Retention Rate. Какие аномалии или другие необычные явления удалось выявить? Сформулируйте гипотезы о возможных причинах."
   ]
  },
  {
   "cell_type": "code",
   "execution_count": 24,
   "metadata": {
    "id": "qAEJc8H1DWLC"
   },
   "outputs": [
    {
     "data": {
      "image/png": "[encoded data removed]",
      "text/plain": [
       "<Figure size 576x576 with 2 Axes>"
      ]
     },
     "metadata": {
      "needs_background": "light"
     },
     "output_type": "display_data"
    }
   ],
   "source": [
    "# постройте тепловую карту Retention Rate\n",
    "retention = df_8.pivot('cohort_dt', 'session_date', 'retention_rate')\n",
    "retention.index = [str(x) for x in retention.index]\n",
    "retention.columns = [str(x) for x in retention.columns]\n",
    "\n",
    "plt.figure(figsize=(8, 8)) # задаём размер графика\n",
    "sns.heatmap(retention, annot=True, fmt='')\n",
    "plt.ylabel('session_date')\n",
    "plt.ylabel('cohort_dt')\n",
    "plt.title('Тепловая карта') # название графика\n",
    "plt.show() "
   ]
  },
  {
   "cell_type": "markdown",
   "metadata": {
    "id": "EgOfIsI4DWLC"
   },
   "source": [
    "Опишите аномалии или другие необычные явления и сформулируйте гипотезы"
   ]
  },
  {
   "cell_type": "markdown",
   "metadata": {},
   "source": [
    "- Нет необходимости анализировать данные по когорте пользователей за июль, так как в их числе всего лишь 3 человека.  \n",
    "- Наибольший возврат пользователей на следующий месяц был в когорте тех, кто сделал свой первый пост в августе. 73% сделали еще как минимум 1 пост в сентябре. Это может быть связано с началом учебного года.  \n",
    "- Чем ближе дата когорты пользователей к концу года, тем меньше retention_rate на следующий месяц. Видимо, к концу календарного года потребность в сервисе среди пользователей снижается."
   ]
  },
  {
   "cell_type": "markdown",
   "metadata": {
    "id": "1k7oPWt5DWLK"
   },
   "source": [
    "# Задание 9\n"
   ]
  },
  {
   "cell_type": "markdown",
   "metadata": {
    "id": "ALsYVSyRDWLM"
   },
   "source": [
    "На сколько процентов менялось количество постов ежемесячно с 1 сентября по 31 декабря 2008 года? Отобразите таблицу со следующими полями:\n",
    "\n",
    "- номер месяца;\n",
    "- количество постов за месяц;\n",
    "- процент, который показывает, насколько изменилось количество постов в текущем месяце по сравнению с предыдущим.\n",
    "\n",
    "Если постов стало меньше, значение процента должно быть отрицательным, если больше — положительным. Округлите значение процента до двух знаков после запятой.\n",
    "\n",
    "Напомним, что при делении одного целого числа на другое в PostgreSQL в результате получится целое число, округлённое до ближайшего целого вниз. Чтобы этого избежать, переведите делимое в тип `numeric`."
   ]
  },
  {
   "cell_type": "markdown",
   "metadata": {
    "id": "u4E2zF8DDWLM"
   },
   "source": [
    "| creation_month | posts_count | percentage |\n",
    "| -------------- | ----------- | ---------- |\n",
    "| 9 | 70731 | Nan |\n",
    "| 10 | 63102 | -10.33 |\n",
    "| ... | ... | ... |"
   ]
  },
  {
   "cell_type": "code",
   "execution_count": 25,
   "metadata": {
    "id": "Mb5pShStDWLN"
   },
   "outputs": [],
   "source": [
    "# напишите запрос\n",
    "query = '''\n",
    "SELECT creation_month,\n",
    "       posts_count,\n",
    "       ROUND(\n",
    "              (\n",
    "                (posts_count - LAG(posts_count) OVER (ORDER BY creation_month))::float / \n",
    "                LAG(posts_count) OVER (ORDER BY creation_month) *\n",
    "                100\n",
    "               )::numeric, 2\n",
    "             ) AS percentage\n",
    "FROM (SELECT DISTINCT EXTRACT('month' FROM creation_date)::int AS creation_month,\n",
    "             COUNT(id) OVER (PARTITION BY EXTRACT('month' FROM creation_date)) AS posts_count\n",
    "      FROM stackoverflow.posts\n",
    "      WHERE creation_date::date BETWEEN '2008-09-01' AND '2008-12-31') tbl\n",
    "'''\n",
    "\n",
    "# выполните запрос"
   ]
  },
  {
   "cell_type": "markdown",
   "metadata": {
    "id": "9NQE2y_MDWLP"
   },
   "source": [
    "Постройте круговую диаграмму с количеством постов по месяцам."
   ]
  },
  {
   "cell_type": "code",
   "execution_count": 26,
   "metadata": {},
   "outputs": [
    {
     "data": {
      "text/html": [
       "<div>\n",
       "<style scoped>\n",
       "    .dataframe tbody tr th:only-of-type {\n",
       "        vertical-align: middle;\n",
       "    }\n",
       "\n",
       "    .dataframe tbody tr th {\n",
       "        vertical-align: top;\n",
       "    }\n",
       "\n",
       "    .dataframe thead th {\n",
       "        text-align: right;\n",
       "    }\n",
       "</style>\n",
       "<table border=\"1\" class=\"dataframe\">\n",
       "  <thead>\n",
       "    <tr style=\"text-align: right;\">\n",
       "      <th></th>\n",
       "      <th>posts_count</th>\n",
       "      <th>percentage</th>\n",
       "    </tr>\n",
       "    <tr>\n",
       "      <th>creation_month</th>\n",
       "      <th></th>\n",
       "      <th></th>\n",
       "    </tr>\n",
       "  </thead>\n",
       "  <tbody>\n",
       "    <tr>\n",
       "      <th>9</th>\n",
       "      <td>70371</td>\n",
       "      <td>NaN</td>\n",
       "    </tr>\n",
       "    <tr>\n",
       "      <th>10</th>\n",
       "      <td>63102</td>\n",
       "      <td>-10.33</td>\n",
       "    </tr>\n",
       "    <tr>\n",
       "      <th>11</th>\n",
       "      <td>46975</td>\n",
       "      <td>-25.56</td>\n",
       "    </tr>\n",
       "    <tr>\n",
       "      <th>12</th>\n",
       "      <td>44592</td>\n",
       "      <td>-5.07</td>\n",
       "    </tr>\n",
       "  </tbody>\n",
       "</table>\n",
       "</div>"
      ],
      "text/plain": [
       "                posts_count  percentage\n",
       "creation_month                         \n",
       "9                     70371         NaN\n",
       "10                    63102      -10.33\n",
       "11                    46975      -25.56\n",
       "12                    44592       -5.07"
      ]
     },
     "execution_count": 26,
     "metadata": {},
     "output_type": "execute_result"
    }
   ],
   "source": [
    "df_9 = pd.read_sql_query(query, con=engine, index_col='creation_month') \n",
    "df_9"
   ]
  },
  {
   "cell_type": "code",
   "execution_count": 27,
   "metadata": {
    "id": "377ABjiVDWLP"
   },
   "outputs": [
    {
     "data": {
      "image/png": "[encoded data removed]",
      "text/plain": [
       "<Figure size 432x288 with 1 Axes>"
      ]
     },
     "metadata": {},
     "output_type": "display_data"
    }
   ],
   "source": [
    "# постройте круговую диаграмму с количеством постов по месяцам\n",
    "plt.pie(df_9.posts_count, labels=df_9.index, autopct='%1.1f%%', shadow=True, startangle=45)\n",
    "plt.title('Количество постов по месяцам с 1 сентября по 31 декабря 2008 года')\n",
    "plt.show();"
   ]
  },
  {
   "cell_type": "markdown",
   "metadata": {
    "id": "uw7qMtafDWLP"
   },
   "source": [
    "# Задание 10"
   ]
  },
  {
   "cell_type": "markdown",
   "metadata": {
    "id": "oRBpWKx3DWLQ"
   },
   "source": [
    "Выгрузите данные активности пользователя, который опубликовал больше всего постов за всё время. Выведите данные за октябрь 2008 года в таком виде:\n",
    "\n",
    "- номер недели;\n",
    "- дата и время последнего поста, опубликованного на этой неделе."
   ]
  },
  {
   "cell_type": "markdown",
   "metadata": {
    "id": "XjAWSn_3DWLQ"
   },
   "source": [
    "| week_creation | creation_date |\n",
    "| ------------- | ------------- |\n",
    "| 40 | 2008-10-05 09:00:58 |\n",
    "| 41 | 2008-10-12 21:22:23 |\n",
    "| ... | ... |"
   ]
  },
  {
   "cell_type": "code",
   "execution_count": 36,
   "metadata": {
    "id": "r5F5fSkwDWLQ"
   },
   "outputs": [],
   "source": [
    "# напишите запрос\n",
    "query = '''\n",
    "SELECT DISTINCT EXTRACT('week' FROM creation_date)::int AS week_creation,\n",
    "       LAST_VALUE(creation_date) OVER (PARTITION BY EXTRACT('week' FROM creation_date) ORDER BY creation_date ROWS BETWEEN UNBOUNDED PRECEDING AND UNBOUNDED FOLLOWING) AS creation_date\n",
    "FROM stackoverflow.posts\n",
    "WHERE DATE_TRUNC('month', creation_date) = '2008-10-01'\n",
    "      AND user_id = (SELECT DISTINCT FIRST_VALUE(user_id) OVER  (ORDER BY posts_cnt DESC)\n",
    "                     FROM (SELECT DISTINCT user_id,\n",
    "                                  COUNT(id) OVER (PARTITION BY user_id) AS posts_cnt\n",
    "                           FROM stackoverflow.posts\n",
    "                           ) tbl\n",
    "                     )\n",
    "\n",
    "'''\n",
    "\n",
    "# выполните запрос"
   ]
  },
  {
   "cell_type": "code",
   "execution_count": 37,
   "metadata": {},
   "outputs": [
    {
     "data": {
      "text/html": [
       "<div>\n",
       "<style scoped>\n",
       "    .dataframe tbody tr th:only-of-type {\n",
       "        vertical-align: middle;\n",
       "    }\n",
       "\n",
       "    .dataframe tbody tr th {\n",
       "        vertical-align: top;\n",
       "    }\n",
       "\n",
       "    .dataframe thead th {\n",
       "        text-align: right;\n",
       "    }\n",
       "</style>\n",
       "<table border=\"1\" class=\"dataframe\">\n",
       "  <thead>\n",
       "    <tr style=\"text-align: right;\">\n",
       "      <th></th>\n",
       "      <th>creation_date</th>\n",
       "    </tr>\n",
       "    <tr>\n",
       "      <th>week_creation</th>\n",
       "      <th></th>\n",
       "    </tr>\n",
       "  </thead>\n",
       "  <tbody>\n",
       "    <tr>\n",
       "      <th>40</th>\n",
       "      <td>2008-10-05 09:00:58</td>\n",
       "    </tr>\n",
       "    <tr>\n",
       "      <th>41</th>\n",
       "      <td>2008-10-12 21:22:23</td>\n",
       "    </tr>\n",
       "    <tr>\n",
       "      <th>42</th>\n",
       "      <td>2008-10-19 06:49:30</td>\n",
       "    </tr>\n",
       "    <tr>\n",
       "      <th>43</th>\n",
       "      <td>2008-10-26 21:44:36</td>\n",
       "    </tr>\n",
       "    <tr>\n",
       "      <th>44</th>\n",
       "      <td>2008-10-31 22:16:01</td>\n",
       "    </tr>\n",
       "  </tbody>\n",
       "</table>\n",
       "</div>"
      ],
      "text/plain": [
       "                    creation_date\n",
       "week_creation                    \n",
       "40            2008-10-05 09:00:58\n",
       "41            2008-10-12 21:22:23\n",
       "42            2008-10-19 06:49:30\n",
       "43            2008-10-26 21:44:36\n",
       "44            2008-10-31 22:16:01"
      ]
     },
     "execution_count": 37,
     "metadata": {},
     "output_type": "execute_result"
    }
   ],
   "source": [
    "df_10 = pd.read_sql_query(query, con=engine, index_col='week_creation') \n",
    "df_10"
   ]
  }
 ],
 "metadata": {
  "ExecuteTimeLog": [
   {
    "duration": 1785,
    "start_time": "2022-07-03T08:51:05.877Z"
   },
   {
    "duration": 6,
    "start_time": "2022-07-03T08:52:08.541Z"
   },
   {
    "duration": 11886,
    "start_time": "2022-07-03T08:52:10.742Z"
   },
   {
    "duration": 319,
    "start_time": "2022-07-03T08:52:29.071Z"
   },
   {
    "duration": 34,
    "start_time": "2022-07-03T08:52:31.453Z"
   },
   {
    "duration": 4,
    "start_time": "2022-07-03T08:58:02.579Z"
   },
   {
    "duration": 5,
    "start_time": "2022-07-03T08:58:55.176Z"
   },
   {
    "duration": 255,
    "start_time": "2022-07-03T08:59:25.702Z"
   },
   {
    "duration": 6,
    "start_time": "2022-07-03T08:59:39.960Z"
   },
   {
    "duration": 251,
    "start_time": "2022-07-03T08:59:40.878Z"
   },
   {
    "duration": 64,
    "start_time": "2022-07-03T08:59:47.714Z"
   },
   {
    "duration": 261,
    "start_time": "2022-07-03T08:59:51.276Z"
   },
   {
    "duration": 4,
    "start_time": "2022-07-03T09:02:07.283Z"
   },
   {
    "duration": 289,
    "start_time": "2022-07-03T09:02:08.773Z"
   },
   {
    "duration": 3,
    "start_time": "2022-07-03T09:02:20.283Z"
   },
   {
    "duration": 272,
    "start_time": "2022-07-03T09:02:21.497Z"
   },
   {
    "duration": 178,
    "start_time": "2022-07-03T09:02:48.030Z"
   },
   {
    "duration": 5,
    "start_time": "2022-07-03T09:04:01.368Z"
   },
   {
    "duration": 274,
    "start_time": "2022-07-03T09:04:04.664Z"
   },
   {
    "duration": 231,
    "start_time": "2022-07-03T09:04:05.118Z"
   },
   {
    "duration": 149,
    "start_time": "2022-07-03T09:04:34.164Z"
   },
   {
    "duration": 4,
    "start_time": "2022-07-03T09:14:10.484Z"
   },
   {
    "duration": 278,
    "start_time": "2022-07-03T09:14:10.980Z"
   },
   {
    "duration": 293,
    "start_time": "2022-07-03T09:14:14.719Z"
   },
   {
    "duration": 285,
    "start_time": "2022-07-03T09:14:29.385Z"
   },
   {
    "duration": 1724,
    "start_time": "2022-07-05T19:24:06.583Z"
   },
   {
    "duration": 14,
    "start_time": "2022-07-05T19:24:08.309Z"
   },
   {
    "duration": 10877,
    "start_time": "2022-07-05T19:24:09.488Z"
   },
   {
    "duration": 390,
    "start_time": "2022-07-05T19:24:20.378Z"
   },
   {
    "duration": 46,
    "start_time": "2022-07-05T19:24:20.769Z"
   },
   {
    "duration": 20,
    "start_time": "2022-07-05T19:24:20.817Z"
   },
   {
    "duration": 365,
    "start_time": "2022-07-05T19:24:20.839Z"
   },
   {
    "duration": 250,
    "start_time": "2022-07-05T19:24:21.210Z"
   },
   {
    "duration": 7,
    "start_time": "2022-07-05T19:40:39.260Z"
   },
   {
    "duration": 1076,
    "start_time": "2022-07-05T19:41:21.380Z"
   },
   {
    "duration": 5,
    "start_time": "2022-07-05T19:41:35.531Z"
   },
   {
    "duration": 74,
    "start_time": "2022-07-05T19:41:42.657Z"
   },
   {
    "duration": 3,
    "start_time": "2022-07-05T19:44:17.429Z"
   },
   {
    "duration": 185,
    "start_time": "2022-07-05T19:44:17.958Z"
   },
   {
    "duration": 3,
    "start_time": "2022-07-05T19:44:44.411Z"
   },
   {
    "duration": 5,
    "start_time": "2022-07-05T19:44:47.877Z"
   },
   {
    "duration": 382,
    "start_time": "2022-07-05T19:44:48.127Z"
   },
   {
    "duration": 3,
    "start_time": "2022-07-05T19:53:59.438Z"
   },
   {
    "duration": 137,
    "start_time": "2022-07-05T19:54:00.160Z"
   },
   {
    "duration": 3,
    "start_time": "2022-07-05T19:54:16.917Z"
   },
   {
    "duration": 898,
    "start_time": "2022-07-05T19:54:17.579Z"
   },
   {
    "duration": 3,
    "start_time": "2022-07-05T20:03:17.410Z"
   },
   {
    "duration": 142,
    "start_time": "2022-07-05T20:03:19.495Z"
   },
   {
    "duration": 9,
    "start_time": "2022-07-05T20:03:25.991Z"
   },
   {
    "duration": 159,
    "start_time": "2022-07-05T20:03:26.467Z"
   },
   {
    "duration": 7,
    "start_time": "2022-07-05T20:04:25.675Z"
   },
   {
    "duration": 153,
    "start_time": "2022-07-05T20:04:26.265Z"
   },
   {
    "duration": 3,
    "start_time": "2022-07-05T20:04:41.308Z"
   },
   {
    "duration": 165,
    "start_time": "2022-07-05T20:04:41.768Z"
   },
   {
    "duration": 3,
    "start_time": "2022-07-05T20:10:59.514Z"
   },
   {
    "duration": 10520,
    "start_time": "2022-07-05T20:11:00.186Z"
   },
   {
    "duration": 13,
    "start_time": "2022-07-05T20:12:21.734Z"
   },
   {
    "duration": 213,
    "start_time": "2022-07-05T20:12:22.115Z"
   },
   {
    "duration": 10,
    "start_time": "2022-07-05T20:12:47.038Z"
   },
   {
    "duration": 1554,
    "start_time": "2022-07-05T20:12:48.183Z"
   },
   {
    "duration": 4,
    "start_time": "2022-07-05T20:13:39.237Z"
   },
   {
    "duration": 152,
    "start_time": "2022-07-05T20:13:40.240Z"
   },
   {
    "duration": 4,
    "start_time": "2022-07-05T20:14:01.819Z"
   },
   {
    "duration": 102,
    "start_time": "2022-07-05T20:14:02.306Z"
   },
   {
    "duration": 3,
    "start_time": "2022-07-05T20:52:13.366Z"
   },
   {
    "duration": 4,
    "start_time": "2022-07-05T20:52:16.541Z"
   },
   {
    "duration": 119,
    "start_time": "2022-07-05T20:52:42.094Z"
   },
   {
    "duration": 4,
    "start_time": "2022-07-05T20:52:51.215Z"
   },
   {
    "duration": 122,
    "start_time": "2022-07-05T20:52:51.905Z"
   },
   {
    "duration": 3,
    "start_time": "2022-07-05T20:53:08.160Z"
   },
   {
    "duration": 122,
    "start_time": "2022-07-05T20:53:09.212Z"
   },
   {
    "duration": 3,
    "start_time": "2022-07-05T20:53:56.211Z"
   },
   {
    "duration": 121,
    "start_time": "2022-07-05T20:53:56.765Z"
   },
   {
    "duration": 7,
    "start_time": "2022-07-05T20:54:27.940Z"
   },
   {
    "duration": 308,
    "start_time": "2022-07-05T20:54:28.589Z"
   },
   {
    "duration": 4,
    "start_time": "2022-07-05T20:56:54.731Z"
   },
   {
    "duration": 302,
    "start_time": "2022-07-05T20:56:57.370Z"
   },
   {
    "duration": 2,
    "start_time": "2022-07-05T20:58:18.744Z"
   },
   {
    "duration": 304,
    "start_time": "2022-07-05T20:58:19.490Z"
   },
   {
    "duration": 3,
    "start_time": "2022-07-05T21:10:21.772Z"
   },
   {
    "duration": 1594,
    "start_time": "2022-07-05T21:10:37.517Z"
   },
   {
    "duration": 3,
    "start_time": "2022-07-05T21:19:33.723Z"
   },
   {
    "duration": 158,
    "start_time": "2022-07-05T21:19:36.416Z"
   },
   {
    "duration": 2,
    "start_time": "2022-07-05T21:20:08.657Z"
   },
   {
    "duration": 176,
    "start_time": "2022-07-05T21:20:09.260Z"
   },
   {
    "duration": 4,
    "start_time": "2022-07-05T21:21:13.470Z"
   },
   {
    "duration": 180,
    "start_time": "2022-07-05T21:21:14.110Z"
   },
   {
    "duration": 4,
    "start_time": "2022-07-05T21:24:36.293Z"
   },
   {
    "duration": 125,
    "start_time": "2022-07-05T21:24:37.848Z"
   },
   {
    "duration": 4,
    "start_time": "2022-07-05T21:25:50.885Z"
   },
   {
    "duration": 96,
    "start_time": "2022-07-05T21:25:51.582Z"
   },
   {
    "duration": 4,
    "start_time": "2022-07-05T21:27:10.388Z"
   },
   {
    "duration": 4,
    "start_time": "2022-07-05T21:27:13.979Z"
   },
   {
    "duration": 159,
    "start_time": "2022-07-05T21:27:14.769Z"
   },
   {
    "duration": 5,
    "start_time": "2022-07-05T21:27:36.765Z"
   },
   {
    "duration": 103,
    "start_time": "2022-07-05T21:27:37.382Z"
   },
   {
    "duration": 4,
    "start_time": "2022-07-05T21:28:35.610Z"
   },
   {
    "duration": 3,
    "start_time": "2022-07-05T21:29:51.289Z"
   },
   {
    "duration": 197,
    "start_time": "2022-07-05T21:29:52.094Z"
   },
   {
    "duration": 4,
    "start_time": "2022-07-05T21:30:04.408Z"
   },
   {
    "duration": 197,
    "start_time": "2022-07-05T21:30:04.977Z"
   },
   {
    "duration": 2,
    "start_time": "2022-07-05T21:30:25.874Z"
   },
   {
    "duration": 167,
    "start_time": "2022-07-05T21:30:26.202Z"
   },
   {
    "duration": 3,
    "start_time": "2022-07-05T21:30:31.942Z"
   },
   {
    "duration": 272,
    "start_time": "2022-07-05T21:30:35.850Z"
   },
   {
    "duration": 4,
    "start_time": "2022-07-05T21:31:38.798Z"
   },
   {
    "duration": 184,
    "start_time": "2022-07-05T21:31:39.307Z"
   },
   {
    "duration": 8,
    "start_time": "2022-07-08T14:11:00.401Z"
   },
   {
    "duration": 1380,
    "start_time": "2022-07-08T14:11:07.364Z"
   },
   {
    "duration": 4,
    "start_time": "2022-07-08T14:11:08.746Z"
   },
   {
    "duration": 7059,
    "start_time": "2022-07-08T14:11:10.436Z"
   },
   {
    "duration": 4,
    "start_time": "2022-07-08T14:14:05.482Z"
   },
   {
    "duration": 939,
    "start_time": "2022-07-08T14:14:08.169Z"
   },
   {
    "duration": 3,
    "start_time": "2022-07-08T14:14:30.365Z"
   },
   {
    "duration": 1061,
    "start_time": "2022-07-08T14:14:30.785Z"
   },
   {
    "duration": 2,
    "start_time": "2022-07-08T14:14:44.792Z"
   },
   {
    "duration": 979,
    "start_time": "2022-07-08T14:14:45.412Z"
   },
   {
    "duration": 2,
    "start_time": "2022-07-08T14:15:17.962Z"
   },
   {
    "duration": 1065,
    "start_time": "2022-07-08T14:15:18.811Z"
   },
   {
    "duration": 4,
    "start_time": "2022-07-08T14:15:30.293Z"
   },
   {
    "duration": 719,
    "start_time": "2022-07-08T14:15:31.098Z"
   },
   {
    "duration": 2,
    "start_time": "2022-07-08T14:15:41.589Z"
   },
   {
    "duration": 620,
    "start_time": "2022-07-08T14:15:42.319Z"
   },
   {
    "duration": 3,
    "start_time": "2022-07-08T14:17:20.797Z"
   },
   {
    "duration": 205,
    "start_time": "2022-07-08T14:17:21.654Z"
   },
   {
    "duration": 3,
    "start_time": "2022-07-08T14:17:39.180Z"
   },
   {
    "duration": 112,
    "start_time": "2022-07-08T14:17:39.548Z"
   },
   {
    "duration": 2,
    "start_time": "2022-07-08T14:20:39.444Z"
   },
   {
    "duration": 92,
    "start_time": "2022-07-08T14:20:40.145Z"
   },
   {
    "duration": 4,
    "start_time": "2022-07-08T14:22:07.440Z"
   },
   {
    "duration": 98,
    "start_time": "2022-07-08T14:22:08.832Z"
   },
   {
    "duration": 3,
    "start_time": "2022-07-08T14:22:15.790Z"
   },
   {
    "duration": 96,
    "start_time": "2022-07-08T14:22:16.241Z"
   },
   {
    "duration": 3,
    "start_time": "2022-07-08T14:22:34.025Z"
   },
   {
    "duration": 69,
    "start_time": "2022-07-08T14:22:34.353Z"
   },
   {
    "duration": 2,
    "start_time": "2022-07-08T14:23:26.124Z"
   },
   {
    "duration": 65,
    "start_time": "2022-07-08T14:23:26.814Z"
   },
   {
    "duration": 3,
    "start_time": "2022-07-08T14:37:31.199Z"
   },
   {
    "duration": 3,
    "start_time": "2022-07-08T14:37:48.225Z"
   },
   {
    "duration": 117,
    "start_time": "2022-07-08T14:37:48.862Z"
   },
   {
    "duration": 3,
    "start_time": "2022-07-08T14:38:11.759Z"
   },
   {
    "duration": 113,
    "start_time": "2022-07-08T14:38:12.175Z"
   },
   {
    "duration": 2,
    "start_time": "2022-07-08T14:38:26.277Z"
   },
   {
    "duration": 158,
    "start_time": "2022-07-08T14:38:26.757Z"
   },
   {
    "duration": 3,
    "start_time": "2022-07-08T14:39:28.910Z"
   },
   {
    "duration": 1155,
    "start_time": "2022-07-08T14:39:29.314Z"
   },
   {
    "duration": 3,
    "start_time": "2022-07-08T14:39:49.314Z"
   },
   {
    "duration": 101,
    "start_time": "2022-07-08T14:39:49.768Z"
   },
   {
    "duration": 3,
    "start_time": "2022-07-08T14:40:00.221Z"
   },
   {
    "duration": 1070,
    "start_time": "2022-07-08T14:40:00.520Z"
   },
   {
    "duration": 3,
    "start_time": "2022-07-08T14:41:13.100Z"
   },
   {
    "duration": 106,
    "start_time": "2022-07-08T14:41:13.690Z"
   },
   {
    "duration": 2,
    "start_time": "2022-07-08T14:41:31.557Z"
   },
   {
    "duration": 103,
    "start_time": "2022-07-08T14:41:32.136Z"
   },
   {
    "duration": 3,
    "start_time": "2022-07-08T14:41:36.014Z"
   },
   {
    "duration": 101,
    "start_time": "2022-07-08T14:41:36.297Z"
   },
   {
    "duration": 2,
    "start_time": "2022-07-08T14:41:51.224Z"
   },
   {
    "duration": 1066,
    "start_time": "2022-07-08T14:41:51.543Z"
   },
   {
    "duration": 2,
    "start_time": "2022-07-08T14:42:51.963Z"
   },
   {
    "duration": 100,
    "start_time": "2022-07-08T14:42:52.290Z"
   },
   {
    "duration": 2,
    "start_time": "2022-07-08T14:43:18.145Z"
   },
   {
    "duration": 93,
    "start_time": "2022-07-08T14:43:19.108Z"
   },
   {
    "duration": 2,
    "start_time": "2022-07-08T14:46:05.288Z"
   },
   {
    "duration": 100,
    "start_time": "2022-07-08T14:46:06.613Z"
   },
   {
    "duration": 3,
    "start_time": "2022-07-08T14:46:26.337Z"
   },
   {
    "duration": 127,
    "start_time": "2022-07-08T14:46:26.747Z"
   },
   {
    "duration": 3,
    "start_time": "2022-07-08T14:46:50.644Z"
   },
   {
    "duration": 113,
    "start_time": "2022-07-08T14:46:51.036Z"
   },
   {
    "duration": 4,
    "start_time": "2022-07-08T14:47:56.930Z"
   },
   {
    "duration": 116,
    "start_time": "2022-07-08T14:47:57.621Z"
   },
   {
    "duration": 3,
    "start_time": "2022-07-08T14:51:04.490Z"
   },
   {
    "duration": 24596,
    "start_time": "2022-07-08T14:51:04.947Z"
   },
   {
    "duration": 2,
    "start_time": "2022-07-08T14:53:09.278Z"
   },
   {
    "duration": 97,
    "start_time": "2022-07-08T14:53:09.862Z"
   },
   {
    "duration": 3,
    "start_time": "2022-07-08T14:53:27.044Z"
   },
   {
    "duration": 5548,
    "start_time": "2022-07-08T14:53:27.545Z"
   },
   {
    "duration": 3,
    "start_time": "2022-07-08T14:55:28.048Z"
   },
   {
    "duration": 15363,
    "start_time": "2022-07-08T14:55:28.838Z"
   },
   {
    "duration": 3,
    "start_time": "2022-07-08T15:03:15.350Z"
   },
   {
    "duration": 111,
    "start_time": "2022-07-08T15:03:27.012Z"
   },
   {
    "duration": 2,
    "start_time": "2022-07-08T15:03:43.453Z"
   },
   {
    "duration": 965,
    "start_time": "2022-07-08T15:03:43.847Z"
   },
   {
    "duration": 2,
    "start_time": "2022-07-08T15:11:15.362Z"
   },
   {
    "duration": 910,
    "start_time": "2022-07-08T15:11:25.946Z"
   },
   {
    "duration": 1590,
    "start_time": "2022-07-09T11:02:55.849Z"
   },
   {
    "duration": 4,
    "start_time": "2022-07-09T11:03:06.973Z"
   },
   {
    "duration": 6643,
    "start_time": "2022-07-09T11:03:09.557Z"
   },
   {
    "duration": 3,
    "start_time": "2022-07-09T11:04:20.543Z"
   },
   {
    "duration": 1472,
    "start_time": "2022-07-09T11:04:21.135Z"
   },
   {
    "duration": 3,
    "start_time": "2022-07-09T11:27:39.912Z"
   },
   {
    "duration": 1141,
    "start_time": "2022-07-09T11:27:40.244Z"
   },
   {
    "duration": 2,
    "start_time": "2022-07-09T11:28:04.655Z"
   },
   {
    "duration": 3,
    "start_time": "2022-07-09T11:28:08.594Z"
   },
   {
    "duration": 1109,
    "start_time": "2022-07-09T11:28:09.010Z"
   },
   {
    "duration": 2,
    "start_time": "2022-07-09T11:28:21.186Z"
   },
   {
    "duration": 964,
    "start_time": "2022-07-09T11:28:21.580Z"
   },
   {
    "duration": 2,
    "start_time": "2022-07-09T11:29:12.863Z"
   },
   {
    "duration": 342,
    "start_time": "2022-07-09T11:29:13.425Z"
   },
   {
    "duration": 3,
    "start_time": "2022-07-09T11:31:05.700Z"
   },
   {
    "duration": 192,
    "start_time": "2022-07-09T11:31:06.132Z"
   },
   {
    "duration": 3,
    "start_time": "2022-07-09T11:31:13.373Z"
   },
   {
    "duration": 133,
    "start_time": "2022-07-09T11:31:14.044Z"
   },
   {
    "duration": 2,
    "start_time": "2022-07-09T11:32:05.292Z"
   },
   {
    "duration": 339,
    "start_time": "2022-07-09T11:32:05.626Z"
   },
   {
    "duration": 2,
    "start_time": "2022-07-09T11:32:38.924Z"
   },
   {
    "duration": 101,
    "start_time": "2022-07-09T11:32:39.253Z"
   },
   {
    "duration": 3,
    "start_time": "2022-07-09T11:32:43.968Z"
   },
   {
    "duration": 362,
    "start_time": "2022-07-09T11:32:44.329Z"
   },
   {
    "duration": 3,
    "start_time": "2022-07-09T11:33:35.425Z"
   },
   {
    "duration": 1219,
    "start_time": "2022-07-09T11:33:41.259Z"
   },
   {
    "duration": 3,
    "start_time": "2022-07-09T11:34:45.892Z"
   },
   {
    "duration": 173,
    "start_time": "2022-07-09T11:34:50.367Z"
   },
   {
    "duration": 3,
    "start_time": "2022-07-09T11:35:20.952Z"
   },
   {
    "duration": 377,
    "start_time": "2022-07-09T11:35:23.788Z"
   },
   {
    "duration": 6,
    "start_time": "2022-07-09T11:37:07.822Z"
   },
   {
    "duration": 314,
    "start_time": "2022-07-09T11:37:10.022Z"
   },
   {
    "duration": 2,
    "start_time": "2022-07-09T11:38:29.695Z"
   },
   {
    "duration": 759,
    "start_time": "2022-07-09T11:38:36.476Z"
   },
   {
    "duration": 657,
    "start_time": "2022-07-09T11:38:43.445Z"
   },
   {
    "duration": 3,
    "start_time": "2022-07-09T11:39:46.837Z"
   },
   {
    "duration": 680,
    "start_time": "2022-07-09T11:39:47.869Z"
   },
   {
    "duration": 2,
    "start_time": "2022-07-09T11:53:14.254Z"
   },
   {
    "duration": 94,
    "start_time": "2022-07-09T11:53:16.244Z"
   },
   {
    "duration": 3,
    "start_time": "2022-07-09T11:53:34.114Z"
   },
   {
    "duration": 513,
    "start_time": "2022-07-09T11:53:34.974Z"
   },
   {
    "duration": 3,
    "start_time": "2022-07-09T11:53:48.045Z"
   },
   {
    "duration": 466,
    "start_time": "2022-07-09T11:53:49.361Z"
   },
   {
    "duration": 3,
    "start_time": "2022-07-09T11:58:00.113Z"
   },
   {
    "duration": 733,
    "start_time": "2022-07-09T11:58:00.881Z"
   },
   {
    "duration": 2,
    "start_time": "2022-07-09T11:58:33.816Z"
   },
   {
    "duration": 543,
    "start_time": "2022-07-09T11:58:34.427Z"
   },
   {
    "duration": 4,
    "start_time": "2022-07-09T12:01:31.096Z"
   },
   {
    "duration": 103,
    "start_time": "2022-07-09T12:01:31.774Z"
   },
   {
    "duration": 3,
    "start_time": "2022-07-09T12:01:39.475Z"
   },
   {
    "duration": 765,
    "start_time": "2022-07-09T12:01:39.933Z"
   },
   {
    "duration": 3,
    "start_time": "2022-07-09T12:03:06.163Z"
   },
   {
    "duration": 680,
    "start_time": "2022-07-09T12:03:08.755Z"
   },
   {
    "duration": 4,
    "start_time": "2022-07-09T12:08:04.458Z"
   },
   {
    "duration": 726,
    "start_time": "2022-07-09T12:08:05.526Z"
   },
   {
    "duration": 3,
    "start_time": "2022-07-09T12:08:28.646Z"
   },
   {
    "duration": 4,
    "start_time": "2022-07-09T12:08:39.388Z"
   },
   {
    "duration": 725,
    "start_time": "2022-07-09T12:08:40.178Z"
   },
   {
    "duration": 4,
    "start_time": "2022-07-09T12:11:30.167Z"
   },
   {
    "duration": 492,
    "start_time": "2022-07-09T12:11:30.733Z"
   },
   {
    "duration": 3,
    "start_time": "2022-07-09T12:12:14.579Z"
   },
   {
    "duration": 102,
    "start_time": "2022-07-09T12:12:15.239Z"
   },
   {
    "duration": 3,
    "start_time": "2022-07-09T12:12:28.231Z"
   },
   {
    "duration": 482,
    "start_time": "2022-07-09T12:12:28.810Z"
   },
   {
    "duration": 3,
    "start_time": "2022-07-09T12:13:15.392Z"
   },
   {
    "duration": 475,
    "start_time": "2022-07-09T12:13:16.176Z"
   },
   {
    "duration": 3,
    "start_time": "2022-07-09T12:15:01.459Z"
   },
   {
    "duration": 466,
    "start_time": "2022-07-09T12:15:02.244Z"
   },
   {
    "duration": 3,
    "start_time": "2022-07-09T12:16:47.804Z"
   },
   {
    "duration": 95,
    "start_time": "2022-07-09T12:16:48.542Z"
   },
   {
    "duration": 3,
    "start_time": "2022-07-09T12:16:56.311Z"
   },
   {
    "duration": 480,
    "start_time": "2022-07-09T12:16:57.027Z"
   },
   {
    "duration": 4,
    "start_time": "2022-07-09T12:17:09.088Z"
   },
   {
    "duration": 475,
    "start_time": "2022-07-09T12:17:09.763Z"
   },
   {
    "duration": 3,
    "start_time": "2022-07-09T12:17:33.080Z"
   },
   {
    "duration": 1971,
    "start_time": "2022-07-09T12:17:33.413Z"
   },
   {
    "duration": 3,
    "start_time": "2022-07-09T12:17:45.929Z"
   },
   {
    "duration": 477,
    "start_time": "2022-07-09T12:17:46.280Z"
   },
   {
    "duration": 3,
    "start_time": "2022-07-09T12:18:20.054Z"
   },
   {
    "duration": 474,
    "start_time": "2022-07-09T12:18:20.809Z"
   },
   {
    "duration": 476,
    "start_time": "2022-07-09T12:18:28.685Z"
   },
   {
    "duration": 835,
    "start_time": "2022-07-09T12:22:05.593Z"
   },
   {
    "duration": 15,
    "start_time": "2022-07-09T12:22:13.530Z"
   },
   {
    "duration": 510,
    "start_time": "2022-07-09T12:22:42.686Z"
   },
   {
    "duration": 370,
    "start_time": "2022-07-09T12:23:53.622Z"
   },
   {
    "duration": 502,
    "start_time": "2022-07-09T12:24:11.700Z"
   },
   {
    "duration": 392,
    "start_time": "2022-07-09T12:24:28.950Z"
   },
   {
    "duration": 462,
    "start_time": "2022-07-09T12:26:01.178Z"
   },
   {
    "duration": 13,
    "start_time": "2022-07-09T12:26:01.642Z"
   },
   {
    "duration": 452,
    "start_time": "2022-07-09T12:26:24.918Z"
   },
   {
    "duration": 431,
    "start_time": "2022-07-09T12:26:38.122Z"
   },
   {
    "duration": 3,
    "start_time": "2022-07-09T12:37:30.874Z"
   },
   {
    "duration": 2,
    "start_time": "2022-07-09T12:38:36.062Z"
   },
   {
    "duration": 895,
    "start_time": "2022-07-09T12:38:38.569Z"
   },
   {
    "duration": 3,
    "start_time": "2022-07-09T12:39:27.854Z"
   },
   {
    "duration": 854,
    "start_time": "2022-07-09T12:39:29.005Z"
   },
   {
    "duration": 3,
    "start_time": "2022-07-09T12:39:44.481Z"
   },
   {
    "duration": 216,
    "start_time": "2022-07-09T12:39:45.246Z"
   },
   {
    "duration": 3,
    "start_time": "2022-07-09T12:40:03.048Z"
   },
   {
    "duration": 230,
    "start_time": "2022-07-09T12:40:03.862Z"
   },
   {
    "duration": 2,
    "start_time": "2022-07-09T12:46:09.273Z"
   },
   {
    "duration": 97,
    "start_time": "2022-07-09T12:46:10.489Z"
   },
   {
    "duration": 3,
    "start_time": "2022-07-09T12:46:43.461Z"
   },
   {
    "duration": 97,
    "start_time": "2022-07-09T12:46:44.563Z"
   },
   {
    "duration": 2,
    "start_time": "2022-07-09T12:46:54.652Z"
   },
   {
    "duration": 3261,
    "start_time": "2022-07-09T12:46:55.335Z"
   },
   {
    "duration": 4,
    "start_time": "2022-07-09T12:47:34.332Z"
   },
   {
    "duration": 1036,
    "start_time": "2022-07-09T12:47:36.034Z"
   },
   {
    "duration": 3,
    "start_time": "2022-07-09T12:48:08.326Z"
   },
   {
    "duration": 124,
    "start_time": "2022-07-09T12:48:09.287Z"
   },
   {
    "duration": 2,
    "start_time": "2022-07-09T12:48:55.677Z"
   },
   {
    "duration": 105,
    "start_time": "2022-07-09T12:48:57.238Z"
   },
   {
    "duration": 4,
    "start_time": "2022-07-09T12:49:54.528Z"
   },
   {
    "duration": 1029,
    "start_time": "2022-07-09T12:49:55.482Z"
   },
   {
    "duration": 3,
    "start_time": "2022-07-09T12:50:04.746Z"
   },
   {
    "duration": 234,
    "start_time": "2022-07-09T12:50:06.067Z"
   },
   {
    "duration": 3,
    "start_time": "2022-07-09T12:50:06.431Z"
   },
   {
    "duration": 3,
    "start_time": "2022-07-09T12:50:24.438Z"
   },
   {
    "duration": 159,
    "start_time": "2022-07-09T12:50:25.535Z"
   },
   {
    "duration": 4,
    "start_time": "2022-07-09T12:51:17.401Z"
   },
   {
    "duration": 103,
    "start_time": "2022-07-09T12:51:18.531Z"
   },
   {
    "duration": 3,
    "start_time": "2022-07-09T12:51:31.456Z"
   },
   {
    "duration": 240,
    "start_time": "2022-07-09T12:51:32.082Z"
   },
   {
    "duration": 2,
    "start_time": "2022-07-09T12:53:49.850Z"
   },
   {
    "duration": 121,
    "start_time": "2022-07-09T12:53:50.862Z"
   },
   {
    "duration": 3,
    "start_time": "2022-07-09T12:54:09.966Z"
   },
   {
    "duration": 233,
    "start_time": "2022-07-09T12:54:10.930Z"
   },
   {
    "duration": 3,
    "start_time": "2022-07-09T12:54:16.485Z"
   },
   {
    "duration": 107,
    "start_time": "2022-07-09T12:54:17.235Z"
   },
   {
    "duration": 3,
    "start_time": "2022-07-09T12:55:37.070Z"
   },
   {
    "duration": 250,
    "start_time": "2022-07-09T12:55:38.671Z"
   },
   {
    "duration": 3,
    "start_time": "2022-07-09T12:56:20.783Z"
   },
   {
    "duration": 3,
    "start_time": "2022-07-09T12:56:26.099Z"
   },
   {
    "duration": 2,
    "start_time": "2022-07-09T12:56:26.437Z"
   },
   {
    "duration": 3,
    "start_time": "2022-07-09T12:56:30.087Z"
   },
   {
    "duration": 102,
    "start_time": "2022-07-09T12:56:31.428Z"
   },
   {
    "duration": 3,
    "start_time": "2022-07-09T12:56:59.142Z"
   },
   {
    "duration": 228,
    "start_time": "2022-07-09T12:57:00.130Z"
   },
   {
    "duration": 3,
    "start_time": "2022-07-09T13:01:28.689Z"
   },
   {
    "duration": 227,
    "start_time": "2022-07-09T13:01:29.463Z"
   },
   {
    "duration": 9,
    "start_time": "2022-07-09T13:01:51.853Z"
   },
   {
    "duration": 235,
    "start_time": "2022-07-09T13:01:55.380Z"
   },
   {
    "duration": 63,
    "start_time": "2022-07-09T13:02:55.088Z"
   },
   {
    "duration": 63,
    "start_time": "2022-07-09T13:02:58.393Z"
   },
   {
    "duration": 61,
    "start_time": "2022-07-09T13:04:15.053Z"
   },
   {
    "duration": 70,
    "start_time": "2022-07-09T13:04:55.952Z"
   },
   {
    "duration": 92,
    "start_time": "2022-07-09T13:05:34.433Z"
   },
   {
    "duration": 104,
    "start_time": "2022-07-09T13:05:46.342Z"
   },
   {
    "duration": 89,
    "start_time": "2022-07-09T13:06:01.925Z"
   },
   {
    "duration": 93,
    "start_time": "2022-07-09T13:06:06.298Z"
   },
   {
    "duration": 114,
    "start_time": "2022-07-09T13:07:08.948Z"
   },
   {
    "duration": 3,
    "start_time": "2022-07-09T13:57:25.903Z"
   },
   {
    "duration": 326,
    "start_time": "2022-07-09T13:57:26.242Z"
   },
   {
    "duration": 166,
    "start_time": "2022-07-09T13:57:38.594Z"
   },
   {
    "duration": 173,
    "start_time": "2022-07-09T13:57:41.744Z"
   },
   {
    "duration": 3,
    "start_time": "2022-07-09T13:58:39.258Z"
   },
   {
    "duration": 100,
    "start_time": "2022-07-09T13:58:39.863Z"
   },
   {
    "duration": 6,
    "start_time": "2022-07-09T13:59:09.089Z"
   },
   {
    "duration": 295,
    "start_time": "2022-07-09T13:59:09.791Z"
   },
   {
    "duration": 3,
    "start_time": "2022-07-09T13:59:40.827Z"
   },
   {
    "duration": 626,
    "start_time": "2022-07-09T13:59:42.495Z"
   },
   {
    "duration": 3,
    "start_time": "2022-07-09T14:00:19.510Z"
   },
   {
    "duration": 586,
    "start_time": "2022-07-09T14:00:20.263Z"
   },
   {
    "duration": 3,
    "start_time": "2022-07-09T14:03:04.778Z"
   },
   {
    "duration": 1000,
    "start_time": "2022-07-09T14:03:05.315Z"
   },
   {
    "duration": 3,
    "start_time": "2022-07-09T14:03:14.458Z"
   },
   {
    "duration": 286,
    "start_time": "2022-07-09T14:03:26.113Z"
   },
   {
    "duration": 4,
    "start_time": "2022-07-09T14:03:37.361Z"
   },
   {
    "duration": 3,
    "start_time": "2022-07-09T14:03:39.241Z"
   },
   {
    "duration": 172,
    "start_time": "2022-07-09T14:03:41.635Z"
   },
   {
    "duration": 3,
    "start_time": "2022-07-09T14:03:44.070Z"
   },
   {
    "duration": 276,
    "start_time": "2022-07-09T14:03:44.724Z"
   },
   {
    "duration": 3,
    "start_time": "2022-07-09T14:04:10.573Z"
   },
   {
    "duration": 272,
    "start_time": "2022-07-09T14:04:11.139Z"
   },
   {
    "duration": 2,
    "start_time": "2022-07-09T14:05:20.995Z"
   },
   {
    "duration": 1024,
    "start_time": "2022-07-09T14:05:21.641Z"
   },
   {
    "duration": 3,
    "start_time": "2022-07-09T14:05:32.867Z"
   },
   {
    "duration": 288,
    "start_time": "2022-07-09T14:05:33.211Z"
   },
   {
    "duration": 3,
    "start_time": "2022-07-09T14:05:42.257Z"
   },
   {
    "duration": 249,
    "start_time": "2022-07-09T14:05:43.369Z"
   },
   {
    "duration": 3,
    "start_time": "2022-07-09T14:10:58.631Z"
   },
   {
    "duration": 117,
    "start_time": "2022-07-09T14:10:59.184Z"
   },
   {
    "duration": 2,
    "start_time": "2022-07-09T14:11:10.787Z"
   },
   {
    "duration": 113,
    "start_time": "2022-07-09T14:11:11.391Z"
   },
   {
    "duration": 2,
    "start_time": "2022-07-09T14:11:16.640Z"
   },
   {
    "duration": 102,
    "start_time": "2022-07-09T14:11:17.021Z"
   },
   {
    "duration": 4,
    "start_time": "2022-07-09T14:11:32.774Z"
   },
   {
    "duration": 366,
    "start_time": "2022-07-09T14:11:33.389Z"
   },
   {
    "duration": 3,
    "start_time": "2022-07-09T14:12:13.322Z"
   },
   {
    "duration": 276,
    "start_time": "2022-07-09T14:12:13.895Z"
   },
   {
    "duration": 3,
    "start_time": "2022-07-09T14:13:41.071Z"
   },
   {
    "duration": 269,
    "start_time": "2022-07-09T14:13:41.478Z"
   },
   {
    "duration": 4,
    "start_time": "2022-07-09T14:16:24.730Z"
   },
   {
    "duration": 94,
    "start_time": "2022-07-09T14:16:25.351Z"
   },
   {
    "duration": 3,
    "start_time": "2022-07-09T14:17:43.620Z"
   },
   {
    "duration": 101,
    "start_time": "2022-07-09T14:17:44.192Z"
   },
   {
    "duration": 3,
    "start_time": "2022-07-09T14:18:30.522Z"
   },
   {
    "duration": 267,
    "start_time": "2022-07-09T14:18:31.072Z"
   },
   {
    "duration": 3,
    "start_time": "2022-07-09T14:19:25.272Z"
   },
   {
    "duration": 270,
    "start_time": "2022-07-09T14:19:25.968Z"
   },
   {
    "duration": 262,
    "start_time": "2022-07-09T14:19:41.659Z"
   },
   {
    "duration": 3,
    "start_time": "2022-07-09T14:23:55.346Z"
   },
   {
    "duration": 267,
    "start_time": "2022-07-09T14:23:56.090Z"
   },
   {
    "duration": 3,
    "start_time": "2022-07-09T14:24:40.865Z"
   },
   {
    "duration": 118,
    "start_time": "2022-07-09T14:24:41.061Z"
   },
   {
    "duration": 3,
    "start_time": "2022-07-09T14:25:00.325Z"
   },
   {
    "duration": 101,
    "start_time": "2022-07-09T14:25:00.522Z"
   },
   {
    "duration": 3,
    "start_time": "2022-07-09T14:28:55.841Z"
   },
   {
    "duration": 115,
    "start_time": "2022-07-09T14:28:55.898Z"
   },
   {
    "duration": 3,
    "start_time": "2022-07-09T14:28:56.099Z"
   },
   {
    "duration": 3,
    "start_time": "2022-07-09T14:29:09.758Z"
   },
   {
    "duration": 104,
    "start_time": "2022-07-09T14:29:09.969Z"
   },
   {
    "duration": 3,
    "start_time": "2022-07-09T14:29:50.448Z"
   },
   {
    "duration": 102,
    "start_time": "2022-07-09T14:29:50.651Z"
   },
   {
    "duration": 3,
    "start_time": "2022-07-09T14:31:16.138Z"
   },
   {
    "duration": 101,
    "start_time": "2022-07-09T14:31:16.644Z"
   },
   {
    "duration": 4,
    "start_time": "2022-07-09T14:31:31.336Z"
   },
   {
    "duration": 107,
    "start_time": "2022-07-09T14:31:31.840Z"
   },
   {
    "duration": 2,
    "start_time": "2022-07-09T14:32:19.960Z"
   },
   {
    "duration": 109,
    "start_time": "2022-07-09T14:32:22.047Z"
   },
   {
    "duration": 2,
    "start_time": "2022-07-09T14:33:38.169Z"
   },
   {
    "duration": 80,
    "start_time": "2022-07-09T14:33:40.438Z"
   },
   {
    "duration": 3,
    "start_time": "2022-07-09T14:35:49.938Z"
   },
   {
    "duration": 105,
    "start_time": "2022-07-09T14:35:52.354Z"
   },
   {
    "duration": 3,
    "start_time": "2022-07-09T14:36:45.594Z"
   },
   {
    "duration": 103,
    "start_time": "2022-07-09T14:36:48.390Z"
   },
   {
    "duration": 2,
    "start_time": "2022-07-09T14:37:15.345Z"
   },
   {
    "duration": 101,
    "start_time": "2022-07-09T14:37:25.555Z"
   },
   {
    "duration": 3,
    "start_time": "2022-07-09T14:38:36.009Z"
   },
   {
    "duration": 110,
    "start_time": "2022-07-09T14:38:40.036Z"
   },
   {
    "duration": 2,
    "start_time": "2022-07-09T14:38:51.481Z"
   },
   {
    "duration": 90,
    "start_time": "2022-07-09T14:38:53.961Z"
   },
   {
    "duration": 3,
    "start_time": "2022-07-09T14:39:10.881Z"
   },
   {
    "duration": 67,
    "start_time": "2022-07-09T14:39:13.500Z"
   },
   {
    "duration": 3,
    "start_time": "2022-07-09T14:39:55.056Z"
   },
   {
    "duration": 68,
    "start_time": "2022-07-09T14:39:58.202Z"
   },
   {
    "duration": 2,
    "start_time": "2022-07-09T14:44:19.749Z"
   },
   {
    "duration": 115,
    "start_time": "2022-07-09T14:44:21.066Z"
   },
   {
    "duration": 3,
    "start_time": "2022-07-09T14:44:28.253Z"
   },
   {
    "duration": 136,
    "start_time": "2022-07-09T14:44:28.485Z"
   },
   {
    "duration": 3,
    "start_time": "2022-07-09T14:46:58.756Z"
   },
   {
    "duration": 107,
    "start_time": "2022-07-09T14:46:58.989Z"
   },
   {
    "duration": 3,
    "start_time": "2022-07-09T14:47:19.610Z"
   },
   {
    "duration": 221,
    "start_time": "2022-07-09T14:47:19.840Z"
   },
   {
    "duration": 3,
    "start_time": "2022-07-09T14:49:33.517Z"
   },
   {
    "duration": 99,
    "start_time": "2022-07-09T14:49:33.860Z"
   },
   {
    "duration": 3,
    "start_time": "2022-07-09T14:50:17.849Z"
   },
   {
    "duration": 100,
    "start_time": "2022-07-09T14:50:18.013Z"
   },
   {
    "duration": 3,
    "start_time": "2022-07-09T15:03:20.856Z"
   },
   {
    "duration": 147,
    "start_time": "2022-07-09T15:03:21.979Z"
   },
   {
    "duration": 3,
    "start_time": "2022-07-09T15:03:31.582Z"
   },
   {
    "duration": 1396,
    "start_time": "2022-07-09T15:03:32.317Z"
   },
   {
    "duration": 3,
    "start_time": "2022-07-09T15:05:50.244Z"
   },
   {
    "duration": 109,
    "start_time": "2022-07-09T15:05:50.698Z"
   },
   {
    "duration": 3,
    "start_time": "2022-07-09T15:06:00.836Z"
   },
   {
    "duration": 1383,
    "start_time": "2022-07-09T15:06:01.218Z"
   },
   {
    "duration": 3,
    "start_time": "2022-07-09T15:06:07.661Z"
   },
   {
    "duration": 1452,
    "start_time": "2022-07-09T15:06:08.055Z"
   },
   {
    "duration": 2,
    "start_time": "2022-07-09T15:06:16.850Z"
   },
   {
    "duration": 2474,
    "start_time": "2022-07-09T15:06:17.269Z"
   },
   {
    "duration": 3,
    "start_time": "2022-07-09T15:07:08.745Z"
   },
   {
    "duration": 1377,
    "start_time": "2022-07-09T15:07:09.315Z"
   },
   {
    "duration": 3,
    "start_time": "2022-07-09T15:09:44.196Z"
   },
   {
    "duration": 102,
    "start_time": "2022-07-09T15:09:44.879Z"
   },
   {
    "duration": 3,
    "start_time": "2022-07-09T15:09:50.315Z"
   },
   {
    "duration": 109,
    "start_time": "2022-07-09T15:09:50.762Z"
   },
   {
    "duration": 6,
    "start_time": "2022-07-09T15:10:07.418Z"
   },
   {
    "duration": 103,
    "start_time": "2022-07-09T15:10:08.049Z"
   },
   {
    "duration": 2,
    "start_time": "2022-07-09T15:11:43.113Z"
   },
   {
    "duration": 2924,
    "start_time": "2022-07-09T15:11:43.744Z"
   },
   {
    "duration": 3,
    "start_time": "2022-07-09T15:12:08.152Z"
   },
   {
    "duration": 3369,
    "start_time": "2022-07-09T15:12:08.785Z"
   },
   {
    "duration": 2,
    "start_time": "2022-07-09T15:12:57.889Z"
   },
   {
    "duration": 2287,
    "start_time": "2022-07-09T15:12:58.469Z"
   },
   {
    "duration": 3,
    "start_time": "2022-07-09T15:13:09.349Z"
   },
   {
    "duration": 4326,
    "start_time": "2022-07-09T15:13:09.944Z"
   },
   {
    "duration": 3,
    "start_time": "2022-07-09T15:13:59.394Z"
   },
   {
    "duration": 106,
    "start_time": "2022-07-09T15:14:00.054Z"
   },
   {
    "duration": 4,
    "start_time": "2022-07-09T15:14:21.036Z"
   },
   {
    "duration": 107,
    "start_time": "2022-07-09T15:14:21.847Z"
   },
   {
    "duration": 2,
    "start_time": "2022-07-09T15:14:28.297Z"
   },
   {
    "duration": 2130,
    "start_time": "2022-07-09T15:14:28.774Z"
   },
   {
    "duration": 3,
    "start_time": "2022-07-09T15:17:06.660Z"
   },
   {
    "duration": 1174,
    "start_time": "2022-07-09T15:17:09.085Z"
   },
   {
    "duration": 3,
    "start_time": "2022-07-09T15:17:29.081Z"
   },
   {
    "duration": 3,
    "start_time": "2022-07-09T15:17:29.690Z"
   },
   {
    "duration": 3,
    "start_time": "2022-07-09T15:17:32.593Z"
   },
   {
    "duration": 1676,
    "start_time": "2022-07-09T15:17:34.464Z"
   },
   {
    "duration": 3,
    "start_time": "2022-07-09T15:17:52.429Z"
   },
   {
    "duration": 1251,
    "start_time": "2022-07-09T15:17:54.441Z"
   },
   {
    "duration": 3,
    "start_time": "2022-07-09T15:18:39.889Z"
   },
   {
    "duration": 1238,
    "start_time": "2022-07-09T15:18:41.939Z"
   },
   {
    "duration": 3,
    "start_time": "2022-07-09T15:20:28.386Z"
   },
   {
    "duration": 941,
    "start_time": "2022-07-09T15:20:29.126Z"
   },
   {
    "duration": 3,
    "start_time": "2022-07-09T15:42:39.072Z"
   },
   {
    "duration": 136,
    "start_time": "2022-07-09T15:42:40.935Z"
   },
   {
    "duration": 3,
    "start_time": "2022-07-09T15:42:58.056Z"
   },
   {
    "duration": 1001,
    "start_time": "2022-07-09T15:42:58.689Z"
   },
   {
    "duration": 3,
    "start_time": "2022-07-09T15:45:08.756Z"
   },
   {
    "duration": 384,
    "start_time": "2022-07-09T15:45:09.607Z"
   },
   {
    "duration": 3,
    "start_time": "2022-07-09T15:45:40.365Z"
   },
   {
    "duration": 401,
    "start_time": "2022-07-09T15:45:40.963Z"
   },
   {
    "duration": 3,
    "start_time": "2022-07-09T15:46:10.699Z"
   },
   {
    "duration": 94,
    "start_time": "2022-07-09T15:46:12.655Z"
   },
   {
    "duration": 3,
    "start_time": "2022-07-09T15:46:34.503Z"
   },
   {
    "duration": 439,
    "start_time": "2022-07-09T15:46:35.951Z"
   },
   {
    "duration": 3,
    "start_time": "2022-07-09T15:46:44.491Z"
   },
   {
    "duration": 1141,
    "start_time": "2022-07-09T15:46:46.356Z"
   },
   {
    "duration": 3,
    "start_time": "2022-07-09T16:09:23.018Z"
   },
   {
    "duration": 26387,
    "start_time": "2022-07-09T16:09:23.745Z"
   },
   {
    "duration": 3,
    "start_time": "2022-07-09T16:14:37.779Z"
   },
   {
    "duration": 96,
    "start_time": "2022-07-09T16:14:38.673Z"
   },
   {
    "duration": 3,
    "start_time": "2022-07-09T16:14:46.961Z"
   },
   {
    "duration": 399,
    "start_time": "2022-07-09T16:14:47.690Z"
   },
   {
    "duration": 3,
    "start_time": "2022-07-09T16:15:08.839Z"
   },
   {
    "duration": 465,
    "start_time": "2022-07-09T16:15:09.378Z"
   },
   {
    "duration": 9,
    "start_time": "2022-07-09T16:16:19.670Z"
   },
   {
    "duration": 8,
    "start_time": "2022-07-09T16:16:33.368Z"
   },
   {
    "duration": 3,
    "start_time": "2022-07-09T16:19:23.545Z"
   },
   {
    "duration": 375,
    "start_time": "2022-07-09T16:19:24.366Z"
   },
   {
    "duration": 8,
    "start_time": "2022-07-09T16:19:25.705Z"
   },
   {
    "duration": 3,
    "start_time": "2022-07-09T16:21:33.092Z"
   },
   {
    "duration": 375,
    "start_time": "2022-07-09T16:21:33.884Z"
   },
   {
    "duration": 7,
    "start_time": "2022-07-09T16:21:35.381Z"
   },
   {
    "duration": 3,
    "start_time": "2022-07-09T16:21:44.326Z"
   },
   {
    "duration": 382,
    "start_time": "2022-07-09T16:21:44.859Z"
   },
   {
    "duration": 7,
    "start_time": "2022-07-09T16:21:45.244Z"
   },
   {
    "duration": 5,
    "start_time": "2022-07-09T16:22:53.528Z"
   },
   {
    "duration": 1265,
    "start_time": "2022-07-10T08:32:31.898Z"
   },
   {
    "duration": 4,
    "start_time": "2022-07-10T08:32:33.165Z"
   },
   {
    "duration": 9282,
    "start_time": "2022-07-10T08:32:33.170Z"
   },
   {
    "duration": 208,
    "start_time": "2022-07-10T08:32:42.454Z"
   },
   {
    "duration": 17,
    "start_time": "2022-07-10T08:32:42.665Z"
   },
   {
    "duration": 8,
    "start_time": "2022-07-10T08:32:42.684Z"
   },
   {
    "duration": 249,
    "start_time": "2022-07-10T08:32:42.694Z"
   },
   {
    "duration": 139,
    "start_time": "2022-07-10T08:32:42.945Z"
   },
   {
    "duration": 3,
    "start_time": "2022-07-10T08:32:43.086Z"
   },
   {
    "duration": 386,
    "start_time": "2022-07-10T08:32:43.091Z"
   },
   {
    "duration": 4,
    "start_time": "2022-07-10T08:32:43.479Z"
   },
   {
    "duration": 6,
    "start_time": "2022-07-10T08:32:43.484Z"
   },
   {
    "duration": 303,
    "start_time": "2022-07-10T08:32:43.491Z"
   },
   {
    "duration": 3,
    "start_time": "2022-07-10T08:32:43.795Z"
   },
   {
    "duration": 1245,
    "start_time": "2022-07-10T08:32:43.799Z"
   },
   {
    "duration": 2,
    "start_time": "2022-07-10T08:32:45.046Z"
   },
   {
    "duration": 114,
    "start_time": "2022-07-10T08:32:45.050Z"
   },
   {
    "duration": 3,
    "start_time": "2022-07-10T08:32:45.165Z"
   },
   {
    "duration": 68,
    "start_time": "2022-07-10T08:32:45.169Z"
   },
   {
    "duration": 3,
    "start_time": "2022-07-10T08:32:45.238Z"
   },
   {
    "duration": 1046,
    "start_time": "2022-07-10T08:32:45.242Z"
   },
   {
    "duration": 4,
    "start_time": "2022-07-10T08:32:46.293Z"
   },
   {
    "duration": 490,
    "start_time": "2022-07-10T08:32:46.298Z"
   },
   {
    "duration": 392,
    "start_time": "2022-07-10T08:32:46.789Z"
   },
   {
    "duration": 3,
    "start_time": "2022-07-10T08:32:47.183Z"
   },
   {
    "duration": 239,
    "start_time": "2022-07-10T08:32:47.187Z"
   },
   {
    "duration": 104,
    "start_time": "2022-07-10T08:32:47.427Z"
   },
   {
    "duration": 3,
    "start_time": "2022-07-10T08:32:47.534Z"
   },
   {
    "duration": 279,
    "start_time": "2022-07-10T08:32:47.538Z"
   },
   {
    "duration": 272,
    "start_time": "2022-07-10T08:33:18.594Z"
   },
   {
    "duration": 4,
    "start_time": "2022-07-10T08:33:36.799Z"
   },
   {
    "duration": 384,
    "start_time": "2022-07-10T08:33:41.280Z"
   },
   {
    "duration": 383,
    "start_time": "2022-07-10T08:33:54.088Z"
   },
   {
    "duration": 3,
    "start_time": "2022-07-10T08:37:32.496Z"
   },
   {
    "duration": 2220,
    "start_time": "2022-07-10T08:37:35.640Z"
   },
   {
    "duration": 3,
    "start_time": "2022-07-10T08:37:43.964Z"
   },
   {
    "duration": 1650,
    "start_time": "2022-07-10T08:37:45.120Z"
   }
  ],
  "colab": {
   "name": "AdvansedSQLProjectTemplate.ipynb",
   "provenance": []
  },
  "kernelspec": {
   "display_name": "Python 3 (ipykernel)",
   "language": "python",
   "name": "python3"
  },
  "language_info": {
   "codemirror_mode": {
    "name": "ipython",
    "version": 3
   },
   "file_extension": ".py",
   "mimetype": "text/x-python",
   "name": "python",
   "nbconvert_exporter": "python",
   "pygments_lexer": "ipython3",
   "version": "3.9.12"
  },
  "toc": {
   "base_numbering": 1,
   "nav_menu": {},
   "number_sections": false,
   "sideBar": true,
   "skip_h1_title": false,
   "title_cell": "Table of Contents",
   "title_sidebar": "Contents",
   "toc_cell": false,
   "toc_position": {},
   "toc_section_display": true,
   "toc_window_display": false
  }
 },
 "nbformat": 4,
 "nbformat_minor": 4
}
