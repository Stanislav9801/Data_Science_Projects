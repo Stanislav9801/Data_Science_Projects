{
 "cells": [
  {
   "cell_type": "markdown",
   "metadata": {
    "id": "cbiVEWSPg6IH"
   },
   "source": [
    "# Прогнозирование оттока клиентов. Телеком\n",
    "Оператор связи «ТелеДом» хочет научиться прогнозировать отток клиентов. Если выяснится, что пользователь планирует уйти, ему будут предложены промокоды и специальные условия. Команда оператора собрала персональные данные о некоторых клиентах, информацию об их тарифах и договорах.  \n",
    "\n",
    "**Описание услуг**  \n",
    "Оператор предоставляет два основных типа услуг:\n",
    "- Стационарную телефонную связь. Возможно подключение телефонного аппарата к нескольким линиям одновременно.\n",
    "- Интернет. Подключение может быть двух типов: через телефонную линию DSL (от англ. digital subscriber line — «цифровая абонентская линия») или оптоволоконный кабель (Fiber optic).  \n",
    "\n",
    "Также доступны такие услуги:  \n",
    "- Интернет-безопасность: антивирус (DeviceProtection) и блокировка небезопасных сайтов (OnlineSecurity);\n",
    "- Выделенная линия технической поддержки (TechSupport);\n",
    "- Облачное хранилище файлов для резервного копирования данных (OnlineBackup);\n",
    "- Стриминговое телевидение (StreamingTV) и каталог фильмов (StreamingMovies).  \n",
    "\n",
    "За услуги клиенты могут платить каждый месяц или заключить договор на 1–2 года. Доступны различные способы расчёта и возможность получения электронного чека."
   ]
  },
  {
   "cell_type": "markdown",
   "metadata": {
    "id": "JmNl8qHGjIHv"
   },
   "source": [
    "# Описание данных\n",
    "Данные хранятся в таблицах в базе данных PostgreSQL:  \n",
    "- **contract** — информация о договоре,\n",
    "- **personal** — персональные данные клиента,\n",
    "- **internet** — информация об интернет-услугах,\n",
    "- **phone** — информация об услугах телефонии.  \n",
    "\n",
    "Таблица **contract**\n",
    "- customerID — ID пользователя,\n",
    "- BeginDate — дата начала действия,\n",
    "- EndDate — дата окончания действия,\n",
    "- Type — тип оплаты (раз в год или помесячно),\n",
    "- PaperlessBilling — безбумажный расчётный лист,\n",
    "- PaymentMethod — тип платежа,\n",
    "- MonthlyCharges — расход за месяц,\n",
    "- TotalCharges — общие расходы.  \n",
    "\n",
    "Таблица **personal**\n",
    "- customerID — ID пользователя,\n",
    "- gender — пол,\n",
    "- SeniorCitizen — является ли абонент пенсионером,\n",
    "- Partner — есть ли у абонента супруг/супруга,\n",
    "- Dependents — есть ли у абонента дети.  \n",
    "\n",
    "Таблица **internet**\n",
    "- customerID — ID пользователя,\n",
    "- InternetService — тип подключения,\n",
    "- OnlineSecurity — блокировка небезопасных сайтов,\n",
    "- OnlineBackup — облачное хранилище файлов для резервного копирования данных,\n",
    "- DeviceProtection — антивирус,\n",
    "- TechSupport — выделенная линия технической поддержки,\n",
    "- StreamingTV — стриминговое телевидение,\n",
    "- StreamingMovies — каталог фильмов.  \n",
    "\n",
    "Таблица **phone**\n",
    "- customerID — ID пользователя,\n",
    "- MultipleLines — подключение телефонного аппарата к нескольким линиям одновременно.  \n",
    "\n",
    "Информация о договорах актуальна на 1 февраля 2020."
   ]
  },
  {
   "cell_type": "markdown",
   "metadata": {
    "id": "htO8CMmvj8gb"
   },
   "source": [
    "## Импорт библиотек и подготовка окружения"
   ]
  },
  {
   "cell_type": "code",
   "execution_count": 1,
   "metadata": {
    "colab": {
     "base_uri": "https://localhost:8080/"
    },
    "id": "2W5tLlkAxm81",
    "outputId": "d626fb29-3e0d-4349-af75-44499b8d9284"
   },
   "outputs": [],
   "source": [
    "!pip install catboost -q"
   ]
  },
  {
   "cell_type": "code",
   "execution_count": 2,
   "metadata": {
    "id": "p48FpDzBkFJL"
   },
   "outputs": [],
   "source": [
    "import random\n",
    "import pandas as pd\n",
    "import numpy as np\n",
    "import matplotlib.pyplot as plt\n",
    "import seaborn as sns\n",
    "from tqdm import notebook\n",
    "from sqlalchemy import create_engine\n",
    "from datetime import datetime, date\n",
    "\n",
    "from sklearn.ensemble import RandomForestClassifier\n",
    "from sklearn.model_selection import cross_val_predict, cross_val_score, train_test_split, GridSearchCV\n",
    "from sklearn.preprocessing import OrdinalEncoder, OneHotEncoder, StandardScaler\n",
    "from sklearn.pipeline import Pipeline\n",
    "from sklearn.compose import ColumnTransformer\n",
    "from sklearn.metrics import roc_auc_score, roc_curve, f1_score, precision_score, recall_score, precision_recall_curve, classification_report\n",
    "from sklearn.metrics import confusion_matrix, ConfusionMatrixDisplay\n",
    "from catboost import CatBoostClassifier, Pool\n",
    "\n",
    "import torch\n",
    "from torch.utils.data import Dataset, TensorDataset\n",
    "from torch.utils.data import DataLoader\n",
    "\n",
    "pd.set_option('max_columns', None)"
   ]
  },
  {
   "cell_type": "code",
   "execution_count": 3,
   "metadata": {
    "id": "ZRsQFnReJEXO"
   },
   "outputs": [],
   "source": [
    "device = torch.device(\"cuda\") if torch.cuda.is_available() else torch.device('cpu')\n",
    "\n",
    "# Зафиксируем random seed\n",
    "random.seed(0)\n",
    "np.random.seed(0)\n",
    "torch.manual_seed(0)\n",
    "torch.cuda.manual_seed(0)"
   ]
  },
  {
   "cell_type": "markdown",
   "metadata": {
    "id": "8459QAcGkF0d"
   },
   "source": [
    "## 1. Загрузка данных"
   ]
  },
  {
   "cell_type": "code",
   "execution_count": 4,
   "metadata": {
    "id": "OgQOK_6Miy-V"
   },
   "outputs": [],
   "source": [
    "db_config = {\n",
    "'user': USER, # имя пользователя,\n",
    "'pwd': PASSWORD, # пароль,\n",
    "'host': HOST,\n",
    "'port': 6432, # порт подключения,\n",
    "'db': 'data-science-final' # название базы данных,\n",
    "} \n",
    "\n",
    "connection_string = 'postgresql://{}:{}@{}:{}/{}'.format(\n",
    "    db_config['user'],\n",
    "    db_config['pwd'],\n",
    "    db_config['host'],\n",
    "    db_config['port'],\n",
    "    db_config['db'],\n",
    ")\n",
    "\n",
    "engine = create_engine(connection_string) "
   ]
  },
  {
   "cell_type": "markdown",
   "metadata": {
    "id": "jJzit5kN-90D"
   },
   "source": [
    "### Таблица `contract`"
   ]
  },
  {
   "cell_type": "code",
   "execution_count": 5,
   "metadata": {
    "colab": {
     "base_uri": "https://localhost:8080/",
     "height": 484
    },
    "id": "PHXP_VM1lJZT",
    "outputId": "6ec09041-5289-481d-d155-aa64154d3370"
   },
   "outputs": [
    {
     "data": {
      "text/html": [
       "<div>\n",
       "<style scoped>\n",
       "    .dataframe tbody tr th:only-of-type {\n",
       "        vertical-align: middle;\n",
       "    }\n",
       "\n",
       "    .dataframe tbody tr th {\n",
       "        vertical-align: top;\n",
       "    }\n",
       "\n",
       "    .dataframe thead th {\n",
       "        text-align: right;\n",
       "    }\n",
       "</style>\n",
       "<table border=\"1\" class=\"dataframe\">\n",
       "  <thead>\n",
       "    <tr style=\"text-align: right;\">\n",
       "      <th></th>\n",
       "      <th>CustomerID</th>\n",
       "      <th>BeginDate</th>\n",
       "      <th>EndDate</th>\n",
       "      <th>Type</th>\n",
       "      <th>PaperlessBilling</th>\n",
       "      <th>PaymentMethod</th>\n",
       "      <th>MonthlyCharges</th>\n",
       "      <th>TotalCharges</th>\n",
       "    </tr>\n",
       "  </thead>\n",
       "  <tbody>\n",
       "    <tr>\n",
       "      <th>0</th>\n",
       "      <td>4472-LVYGI</td>\n",
       "      <td>2020-02-01</td>\n",
       "      <td>None</td>\n",
       "      <td>Two year</td>\n",
       "      <td>Yes</td>\n",
       "      <td>Bank transfer (automatic)</td>\n",
       "      <td>52.55</td>\n",
       "      <td>NaN</td>\n",
       "    </tr>\n",
       "    <tr>\n",
       "      <th>1</th>\n",
       "      <td>3115-CZMZD</td>\n",
       "      <td>2020-02-01</td>\n",
       "      <td>None</td>\n",
       "      <td>Two year</td>\n",
       "      <td>No</td>\n",
       "      <td>Mailed check</td>\n",
       "      <td>20.25</td>\n",
       "      <td>NaN</td>\n",
       "    </tr>\n",
       "    <tr>\n",
       "      <th>2</th>\n",
       "      <td>3668-QPYBK</td>\n",
       "      <td>2018-08-09</td>\n",
       "      <td>2019-12-01</td>\n",
       "      <td>Month-to-month</td>\n",
       "      <td>Yes</td>\n",
       "      <td>Mailed check</td>\n",
       "      <td>53.85</td>\n",
       "      <td>108.15</td>\n",
       "    </tr>\n",
       "    <tr>\n",
       "      <th>3</th>\n",
       "      <td>5709-LVOEQ</td>\n",
       "      <td>2020-02-01</td>\n",
       "      <td>None</td>\n",
       "      <td>Two year</td>\n",
       "      <td>No</td>\n",
       "      <td>Mailed check</td>\n",
       "      <td>80.85</td>\n",
       "      <td>NaN</td>\n",
       "    </tr>\n",
       "    <tr>\n",
       "      <th>4</th>\n",
       "      <td>9237-HQITU</td>\n",
       "      <td>2019-01-26</td>\n",
       "      <td>2019-11-01</td>\n",
       "      <td>Month-to-month</td>\n",
       "      <td>Yes</td>\n",
       "      <td>Electronic check</td>\n",
       "      <td>70.70</td>\n",
       "      <td>151.65</td>\n",
       "    </tr>\n",
       "  </tbody>\n",
       "</table>\n",
       "</div>"
      ],
      "text/plain": [
       "   CustomerID   BeginDate     EndDate            Type PaperlessBilling  \\\n",
       "0  4472-LVYGI  2020-02-01        None        Two year              Yes   \n",
       "1  3115-CZMZD  2020-02-01        None        Two year               No   \n",
       "2  3668-QPYBK  2018-08-09  2019-12-01  Month-to-month              Yes   \n",
       "3  5709-LVOEQ  2020-02-01        None        Two year               No   \n",
       "4  9237-HQITU  2019-01-26  2019-11-01  Month-to-month              Yes   \n",
       "\n",
       "               PaymentMethod  MonthlyCharges  TotalCharges  \n",
       "0  Bank transfer (automatic)           52.55           NaN  \n",
       "1               Mailed check           20.25           NaN  \n",
       "2               Mailed check           53.85        108.15  \n",
       "3               Mailed check           80.85           NaN  \n",
       "4           Electronic check           70.70        151.65  "
      ]
     },
     "metadata": {},
     "output_type": "display_data"
    },
    {
     "name": "stdout",
     "output_type": "stream",
     "text": [
      "<class 'pandas.core.frame.DataFrame'>\n",
      "RangeIndex: 7043 entries, 0 to 7042\n",
      "Data columns (total 8 columns):\n",
      " #   Column            Non-Null Count  Dtype  \n",
      "---  ------            --------------  -----  \n",
      " 0   CustomerID        7043 non-null   object \n",
      " 1   BeginDate         7043 non-null   object \n",
      " 2   EndDate           1869 non-null   object \n",
      " 3   Type              7043 non-null   object \n",
      " 4   PaperlessBilling  7043 non-null   object \n",
      " 5   PaymentMethod     7043 non-null   object \n",
      " 6   MonthlyCharges    7043 non-null   float64\n",
      " 7   TotalCharges      7032 non-null   float64\n",
      "dtypes: float64(2), object(6)\n",
      "memory usage: 440.3+ KB\n",
      "None\n"
     ]
    }
   ],
   "source": [
    "query = '''\n",
    "SELECT *\n",
    "FROM telecom.contract\n",
    "'''\n",
    "contract = pd.read_sql_query(query, con=engine)\n",
    "contract.columns = ['CustomerID' if x == 'customerID' else x for x in contract.columns]\n",
    "display(contract.head())\n",
    "print(contract.info())"
   ]
  },
  {
   "cell_type": "code",
   "execution_count": 6,
   "metadata": {
    "colab": {
     "base_uri": "https://localhost:8080/"
    },
    "id": "5Atm_0K3CUaA",
    "outputId": "cdb960ed-189e-4e51-ffbd-18a3e651f228"
   },
   "outputs": [
    {
     "name": "stdout",
     "output_type": "stream",
     "text": [
      "Количество уникальных пользователей: 7043\n"
     ]
    }
   ],
   "source": [
    "print('Количество уникальных пользователей:', contract.CustomerID.nunique())"
   ]
  },
  {
   "cell_type": "code",
   "execution_count": 7,
   "metadata": {
    "colab": {
     "base_uri": "https://localhost:8080/",
     "height": 227
    },
    "id": "redK302HEp6-",
    "outputId": "d86f33fe-d1aa-4a41-d6db-1b6ccfba2eab"
   },
   "outputs": [
    {
     "data": {
      "image/png": "[encoded data removed]",
      "text/plain": [
       "<Figure size 720x216 with 2 Axes>"
      ]
     },
     "metadata": {
      "needs_background": "light"
     },
     "output_type": "display_data"
    }
   ],
   "source": [
    "contract.hist(figsize=(10, 3));"
   ]
  },
  {
   "cell_type": "code",
   "execution_count": 8,
   "metadata": {
    "colab": {
     "base_uri": "https://localhost:8080/",
     "height": 281
    },
    "id": "PTz-G6jdCeyo",
    "outputId": "94f2dfe2-ce13-46b7-c18f-86434881478c"
   },
   "outputs": [
    {
     "data": {
      "image/png": "[encoded data removed]",
      "text/plain": [
       "<Figure size 432x288 with 1 Axes>"
      ]
     },
     "metadata": {
      "needs_background": "light"
     },
     "output_type": "display_data"
    }
   ],
   "source": [
    "contract.BeginDate.hist()\n",
    "plt.title('BeginDate');"
   ]
  },
  {
   "cell_type": "code",
   "execution_count": 9,
   "metadata": {
    "colab": {
     "base_uri": "https://localhost:8080/",
     "height": 281
    },
    "id": "I55DtQRtDEfE",
    "outputId": "fbb2dbf9-c3b3-44e4-8160-54127fe1ca78"
   },
   "outputs": [
    {
     "data": {
      "image/png": "[encoded data removed]",
      "text/plain": [
       "<Figure size 432x288 with 1 Axes>"
      ]
     },
     "metadata": {
      "needs_background": "light"
     },
     "output_type": "display_data"
    }
   ],
   "source": [
    "contract.EndDate.value_counts().sort_index(ascending=False).plot.barh(grid=True);\n",
    "plt.title('EndDate');"
   ]
  },
  {
   "cell_type": "code",
   "execution_count": 10,
   "metadata": {
    "colab": {
     "base_uri": "https://localhost:8080/"
    },
    "id": "gatXUjZSD_ig",
    "outputId": "f345ae0c-6046-4fc4-93b2-b93f3832dad1"
   },
   "outputs": [
    {
     "name": "stdout",
     "output_type": "stream",
     "text": [
      "Уникальные значения столбца Type: Two year | Month-to-month | One year |\n",
      "Уникальные значения столбца PaymentMethod: Bank transfer (automatic) | Mailed check | Electronic check | Credit card (automatic) |\n",
      "Уникальные значения столбца PaperlessBilling: Yes | No |\n"
     ]
    }
   ],
   "source": [
    "print('Уникальные значения столбца Type:', *contract.Type.unique()+' |')\n",
    "print('Уникальные значения столбца PaymentMethod:', *contract.PaymentMethod.unique()+' |')\n",
    "print('Уникальные значения столбца PaperlessBilling:', *contract.PaperlessBilling.unique()+' |')"
   ]
  },
  {
   "cell_type": "code",
   "execution_count": 11,
   "metadata": {
    "colab": {
     "base_uri": "https://localhost:8080/"
    },
    "id": "8Iw3TIyqKbov",
    "outputId": "45908409-9928-48e0-d28d-c358dd7dcc2f"
   },
   "outputs": [
    {
     "data": {
      "text/plain": [
       "0    1\n",
       "1    0\n",
       "2    1\n",
       "3    0\n",
       "4    1\n",
       "Name: PaperlessBilling, dtype: int64"
      ]
     },
     "execution_count": 11,
     "metadata": {},
     "output_type": "execute_result"
    }
   ],
   "source": [
    "# Приведем значения Yes/No к целочисленному представлению.\n",
    "contract['PaperlessBilling'] = contract['PaperlessBilling'].map({'Yes': 1, 'No': 0})\n",
    "contract['PaperlessBilling'].head()"
   ]
  },
  {
   "cell_type": "markdown",
   "metadata": {
    "id": "bClHXqTM_FSP"
   },
   "source": [
    "### Таблица `personal`"
   ]
  },
  {
   "cell_type": "code",
   "execution_count": 12,
   "metadata": {
    "colab": {
     "base_uri": "https://localhost:8080/",
     "height": 432
    },
    "id": "zlqP2VGhlTNQ",
    "outputId": "90368161-2b74-4eb6-ef1d-83f19b45c808"
   },
   "outputs": [
    {
     "data": {
      "text/html": [
       "<div>\n",
       "<style scoped>\n",
       "    .dataframe tbody tr th:only-of-type {\n",
       "        vertical-align: middle;\n",
       "    }\n",
       "\n",
       "    .dataframe tbody tr th {\n",
       "        vertical-align: top;\n",
       "    }\n",
       "\n",
       "    .dataframe thead th {\n",
       "        text-align: right;\n",
       "    }\n",
       "</style>\n",
       "<table border=\"1\" class=\"dataframe\">\n",
       "  <thead>\n",
       "    <tr style=\"text-align: right;\">\n",
       "      <th></th>\n",
       "      <th>CustomerID</th>\n",
       "      <th>Gender</th>\n",
       "      <th>SeniorCitizen</th>\n",
       "      <th>Partner</th>\n",
       "      <th>Dependents</th>\n",
       "    </tr>\n",
       "  </thead>\n",
       "  <tbody>\n",
       "    <tr>\n",
       "      <th>0</th>\n",
       "      <td>7590-VHVEG</td>\n",
       "      <td>Female</td>\n",
       "      <td>0</td>\n",
       "      <td>Yes</td>\n",
       "      <td>No</td>\n",
       "    </tr>\n",
       "    <tr>\n",
       "      <th>1</th>\n",
       "      <td>5575-GNVDE</td>\n",
       "      <td>Male</td>\n",
       "      <td>0</td>\n",
       "      <td>No</td>\n",
       "      <td>No</td>\n",
       "    </tr>\n",
       "    <tr>\n",
       "      <th>2</th>\n",
       "      <td>3668-QPYBK</td>\n",
       "      <td>Male</td>\n",
       "      <td>0</td>\n",
       "      <td>No</td>\n",
       "      <td>No</td>\n",
       "    </tr>\n",
       "    <tr>\n",
       "      <th>3</th>\n",
       "      <td>7795-CFOCW</td>\n",
       "      <td>Male</td>\n",
       "      <td>0</td>\n",
       "      <td>No</td>\n",
       "      <td>No</td>\n",
       "    </tr>\n",
       "    <tr>\n",
       "      <th>4</th>\n",
       "      <td>9237-HQITU</td>\n",
       "      <td>Female</td>\n",
       "      <td>0</td>\n",
       "      <td>No</td>\n",
       "      <td>No</td>\n",
       "    </tr>\n",
       "  </tbody>\n",
       "</table>\n",
       "</div>"
      ],
      "text/plain": [
       "   CustomerID  Gender  SeniorCitizen Partner Dependents\n",
       "0  7590-VHVEG  Female              0     Yes         No\n",
       "1  5575-GNVDE    Male              0      No         No\n",
       "2  3668-QPYBK    Male              0      No         No\n",
       "3  7795-CFOCW    Male              0      No         No\n",
       "4  9237-HQITU  Female              0      No         No"
      ]
     },
     "metadata": {},
     "output_type": "display_data"
    },
    {
     "name": "stdout",
     "output_type": "stream",
     "text": [
      "<class 'pandas.core.frame.DataFrame'>\n",
      "RangeIndex: 7043 entries, 0 to 7042\n",
      "Data columns (total 5 columns):\n",
      " #   Column         Non-Null Count  Dtype \n",
      "---  ------         --------------  ----- \n",
      " 0   CustomerID     7043 non-null   object\n",
      " 1   Gender         7043 non-null   object\n",
      " 2   SeniorCitizen  7043 non-null   int64 \n",
      " 3   Partner        7043 non-null   object\n",
      " 4   Dependents     7043 non-null   object\n",
      "dtypes: int64(1), object(4)\n",
      "memory usage: 275.2+ KB\n",
      "None\n"
     ]
    }
   ],
   "source": [
    "query = '''\n",
    "SELECT *\n",
    "FROM telecom.personal\n",
    "'''\n",
    "personal = pd.read_sql_query(query, con=engine)\n",
    "personal.columns = ['CustomerID', 'Gender', 'SeniorCitizen', 'Partner', 'Dependents']\n",
    "display(personal.head())\n",
    "print(personal.info())"
   ]
  },
  {
   "cell_type": "code",
   "execution_count": 13,
   "metadata": {
    "colab": {
     "base_uri": "https://localhost:8080/"
    },
    "id": "A2SAF7DY-mia",
    "outputId": "241b49da-cdcc-4296-97fa-80237caf6289"
   },
   "outputs": [
    {
     "name": "stdout",
     "output_type": "stream",
     "text": [
      "Количество уникальных пользователей: 7043\n"
     ]
    }
   ],
   "source": [
    "print('Количество уникальных пользователей:', personal.CustomerID.nunique())"
   ]
  },
  {
   "cell_type": "code",
   "execution_count": 14,
   "metadata": {
    "colab": {
     "base_uri": "https://localhost:8080/"
    },
    "id": "oJZu4K-1G3C9",
    "outputId": "b9ec8c91-0e7d-44d7-951e-0b271fa3ff8e"
   },
   "outputs": [
    {
     "name": "stdout",
     "output_type": "stream",
     "text": [
      "Уникальные значения столбца Gender: ['Female' 'Male']\n",
      "Уникальные значения столбца SeniorCitizen: [0 1]\n",
      "Уникальные значения столбца Partner: Yes | No |\n",
      "Уникальные значения столбца Dependents: No | Yes |\n"
     ]
    }
   ],
   "source": [
    "print('Уникальные значения столбца Gender:', personal.Gender.unique())\n",
    "print('Уникальные значения столбца SeniorCitizen:', personal.SeniorCitizen.unique())\n",
    "print('Уникальные значения столбца Partner:', *personal.Partner.unique()+' |')\n",
    "print('Уникальные значения столбца Dependents:', *personal.Dependents.unique()+' |')"
   ]
  },
  {
   "cell_type": "code",
   "execution_count": 15,
   "metadata": {
    "colab": {
     "base_uri": "https://localhost:8080/",
     "height": 206
    },
    "id": "-IErL-XaKuqd",
    "outputId": "d239f43e-d13c-4eac-cd51-116ff8c2bec9"
   },
   "outputs": [
    {
     "data": {
      "text/html": [
       "<div>\n",
       "<style scoped>\n",
       "    .dataframe tbody tr th:only-of-type {\n",
       "        vertical-align: middle;\n",
       "    }\n",
       "\n",
       "    .dataframe tbody tr th {\n",
       "        vertical-align: top;\n",
       "    }\n",
       "\n",
       "    .dataframe thead th {\n",
       "        text-align: right;\n",
       "    }\n",
       "</style>\n",
       "<table border=\"1\" class=\"dataframe\">\n",
       "  <thead>\n",
       "    <tr style=\"text-align: right;\">\n",
       "      <th></th>\n",
       "      <th>Partner</th>\n",
       "      <th>Dependents</th>\n",
       "    </tr>\n",
       "  </thead>\n",
       "  <tbody>\n",
       "    <tr>\n",
       "      <th>0</th>\n",
       "      <td>1</td>\n",
       "      <td>0</td>\n",
       "    </tr>\n",
       "    <tr>\n",
       "      <th>1</th>\n",
       "      <td>0</td>\n",
       "      <td>0</td>\n",
       "    </tr>\n",
       "    <tr>\n",
       "      <th>2</th>\n",
       "      <td>0</td>\n",
       "      <td>0</td>\n",
       "    </tr>\n",
       "    <tr>\n",
       "      <th>3</th>\n",
       "      <td>0</td>\n",
       "      <td>0</td>\n",
       "    </tr>\n",
       "    <tr>\n",
       "      <th>4</th>\n",
       "      <td>0</td>\n",
       "      <td>0</td>\n",
       "    </tr>\n",
       "  </tbody>\n",
       "</table>\n",
       "</div>"
      ],
      "text/plain": [
       "   Partner  Dependents\n",
       "0        1           0\n",
       "1        0           0\n",
       "2        0           0\n",
       "3        0           0\n",
       "4        0           0"
      ]
     },
     "execution_count": 15,
     "metadata": {},
     "output_type": "execute_result"
    }
   ],
   "source": [
    "# Приведем значения Yes/No к целочисленному представлению.\n",
    "for col in ['Partner', 'Dependents']:\n",
    "    personal[col] = personal[col].map({'Yes': 1, 'No': 0})\n",
    "    \n",
    "personal[['Partner', 'Dependents']].head()"
   ]
  },
  {
   "cell_type": "markdown",
   "metadata": {
    "id": "ru9OkcKiBpn_"
   },
   "source": [
    "### Таблица `internet`"
   ]
  },
  {
   "cell_type": "code",
   "execution_count": 16,
   "metadata": {
    "colab": {
     "base_uri": "https://localhost:8080/",
     "height": 484
    },
    "id": "qFSiy7WMl9-J",
    "outputId": "1934e4cc-7736-4e5b-ba75-8ee54605ea11"
   },
   "outputs": [
    {
     "data": {
      "text/html": [
       "<div>\n",
       "<style scoped>\n",
       "    .dataframe tbody tr th:only-of-type {\n",
       "        vertical-align: middle;\n",
       "    }\n",
       "\n",
       "    .dataframe tbody tr th {\n",
       "        vertical-align: top;\n",
       "    }\n",
       "\n",
       "    .dataframe thead th {\n",
       "        text-align: right;\n",
       "    }\n",
       "</style>\n",
       "<table border=\"1\" class=\"dataframe\">\n",
       "  <thead>\n",
       "    <tr style=\"text-align: right;\">\n",
       "      <th></th>\n",
       "      <th>CustomerID</th>\n",
       "      <th>InternetService</th>\n",
       "      <th>OnlineSecurity</th>\n",
       "      <th>OnlineBackup</th>\n",
       "      <th>DeviceProtection</th>\n",
       "      <th>TechSupport</th>\n",
       "      <th>StreamingTV</th>\n",
       "      <th>StreamingMovies</th>\n",
       "    </tr>\n",
       "  </thead>\n",
       "  <tbody>\n",
       "    <tr>\n",
       "      <th>1</th>\n",
       "      <td>7590-VHVEG</td>\n",
       "      <td>DSL</td>\n",
       "      <td>No</td>\n",
       "      <td>Yes</td>\n",
       "      <td>No</td>\n",
       "      <td>No</td>\n",
       "      <td>No</td>\n",
       "      <td>No</td>\n",
       "    </tr>\n",
       "    <tr>\n",
       "      <th>2</th>\n",
       "      <td>5575-GNVDE</td>\n",
       "      <td>DSL</td>\n",
       "      <td>Yes</td>\n",
       "      <td>No</td>\n",
       "      <td>Yes</td>\n",
       "      <td>No</td>\n",
       "      <td>No</td>\n",
       "      <td>No</td>\n",
       "    </tr>\n",
       "    <tr>\n",
       "      <th>3</th>\n",
       "      <td>3668-QPYBK</td>\n",
       "      <td>DSL</td>\n",
       "      <td>Yes</td>\n",
       "      <td>Yes</td>\n",
       "      <td>No</td>\n",
       "      <td>No</td>\n",
       "      <td>No</td>\n",
       "      <td>No</td>\n",
       "    </tr>\n",
       "    <tr>\n",
       "      <th>4</th>\n",
       "      <td>7795-CFOCW</td>\n",
       "      <td>DSL</td>\n",
       "      <td>Yes</td>\n",
       "      <td>No</td>\n",
       "      <td>Yes</td>\n",
       "      <td>Yes</td>\n",
       "      <td>No</td>\n",
       "      <td>No</td>\n",
       "    </tr>\n",
       "    <tr>\n",
       "      <th>5</th>\n",
       "      <td>9237-HQITU</td>\n",
       "      <td>Fiber optic</td>\n",
       "      <td>No</td>\n",
       "      <td>No</td>\n",
       "      <td>No</td>\n",
       "      <td>No</td>\n",
       "      <td>No</td>\n",
       "      <td>No</td>\n",
       "    </tr>\n",
       "  </tbody>\n",
       "</table>\n",
       "</div>"
      ],
      "text/plain": [
       "   CustomerID InternetService OnlineSecurity OnlineBackup DeviceProtection  \\\n",
       "1  7590-VHVEG             DSL             No          Yes               No   \n",
       "2  5575-GNVDE             DSL            Yes           No              Yes   \n",
       "3  3668-QPYBK             DSL            Yes          Yes               No   \n",
       "4  7795-CFOCW             DSL            Yes           No              Yes   \n",
       "5  9237-HQITU     Fiber optic             No           No               No   \n",
       "\n",
       "  TechSupport StreamingTV StreamingMovies  \n",
       "1          No          No              No  \n",
       "2          No          No              No  \n",
       "3          No          No              No  \n",
       "4         Yes          No              No  \n",
       "5          No          No              No  "
      ]
     },
     "metadata": {},
     "output_type": "display_data"
    },
    {
     "name": "stdout",
     "output_type": "stream",
     "text": [
      "<class 'pandas.core.frame.DataFrame'>\n",
      "RangeIndex: 5517 entries, 1 to 5517\n",
      "Data columns (total 8 columns):\n",
      " #   Column            Non-Null Count  Dtype \n",
      "---  ------            --------------  ----- \n",
      " 0   CustomerID        5517 non-null   object\n",
      " 1   InternetService   5517 non-null   object\n",
      " 2   OnlineSecurity    5517 non-null   object\n",
      " 3   OnlineBackup      5517 non-null   object\n",
      " 4   DeviceProtection  5517 non-null   object\n",
      " 5   TechSupport       5517 non-null   object\n",
      " 6   StreamingTV       5517 non-null   object\n",
      " 7   StreamingMovies   5517 non-null   object\n",
      "dtypes: object(8)\n",
      "memory usage: 344.9+ KB\n",
      "None\n"
     ]
    }
   ],
   "source": [
    "query = '''\n",
    "SELECT c1 AS customerID, c2 AS InternetService, c3 AS OnlineSecurity, \n",
    "       c4 AS OnlineBackup, c5 AS DeviceProtection, c6 AS TechSupport, \n",
    "       c7 AS StreamingTV, c8 AS StreamingMovies\n",
    "FROM telecom.internet\n",
    "'''\n",
    "internet = pd.read_sql_query(query, con=engine).iloc[1:]\n",
    "internet.columns = ['CustomerID', 'InternetService', 'OnlineSecurity', 'OnlineBackup', 'DeviceProtection', 'TechSupport', 'StreamingTV', 'StreamingMovies']\n",
    "display(internet.head())\n",
    "print(internet.info())"
   ]
  },
  {
   "cell_type": "code",
   "execution_count": 17,
   "metadata": {
    "colab": {
     "base_uri": "https://localhost:8080/"
    },
    "id": "2QDgvKwYIHsi",
    "outputId": "c52ca8cb-3d62-48d9-bfc6-1a4c05d707dd"
   },
   "outputs": [
    {
     "name": "stdout",
     "output_type": "stream",
     "text": [
      "Количество уникальных пользователей в таблице internet: 5517\n"
     ]
    }
   ],
   "source": [
    "print('Количество уникальных пользователей в таблице internet:', internet.CustomerID.nunique())"
   ]
  },
  {
   "cell_type": "code",
   "execution_count": 18,
   "metadata": {
    "colab": {
     "base_uri": "https://localhost:8080/"
    },
    "id": "k97QUoqgIPKq",
    "outputId": "9b1a7f21-fc35-4e0b-8331-cf5923f5b367"
   },
   "outputs": [
    {
     "name": "stdout",
     "output_type": "stream",
     "text": [
      "Уникальные значения столбца InternetService: DSL | Fiber optic |\n",
      "Уникальные значения столбца OnlineSecurity: No | Yes |\n",
      "Уникальные значения столбца OnlineBackup: Yes | No |\n",
      "Уникальные значения столбца DeviceProtection: No | Yes |\n",
      "Уникальные значения столбца TechSupport: No | Yes |\n",
      "Уникальные значения столбца StreamingTV: No | Yes |\n",
      "Уникальные значения столбца StreamingMovies: No | Yes |\n"
     ]
    }
   ],
   "source": [
    "for col in internet.columns[1:]:\n",
    "    print(f'Уникальные значения столбца {col}:', *internet[col].unique()+' |')"
   ]
  },
  {
   "cell_type": "code",
   "execution_count": 19,
   "metadata": {
    "colab": {
     "base_uri": "https://localhost:8080/",
     "height": 206
    },
    "id": "di4MRYyPLYsi",
    "outputId": "6eb27d2a-1758-4540-ce5c-875dadaad681"
   },
   "outputs": [
    {
     "data": {
      "text/html": [
       "<div>\n",
       "<style scoped>\n",
       "    .dataframe tbody tr th:only-of-type {\n",
       "        vertical-align: middle;\n",
       "    }\n",
       "\n",
       "    .dataframe tbody tr th {\n",
       "        vertical-align: top;\n",
       "    }\n",
       "\n",
       "    .dataframe thead th {\n",
       "        text-align: right;\n",
       "    }\n",
       "</style>\n",
       "<table border=\"1\" class=\"dataframe\">\n",
       "  <thead>\n",
       "    <tr style=\"text-align: right;\">\n",
       "      <th></th>\n",
       "      <th>OnlineSecurity</th>\n",
       "      <th>OnlineBackup</th>\n",
       "      <th>DeviceProtection</th>\n",
       "      <th>TechSupport</th>\n",
       "      <th>StreamingTV</th>\n",
       "      <th>StreamingMovies</th>\n",
       "    </tr>\n",
       "  </thead>\n",
       "  <tbody>\n",
       "    <tr>\n",
       "      <th>1</th>\n",
       "      <td>0</td>\n",
       "      <td>1</td>\n",
       "      <td>0</td>\n",
       "      <td>0</td>\n",
       "      <td>0</td>\n",
       "      <td>0</td>\n",
       "    </tr>\n",
       "    <tr>\n",
       "      <th>2</th>\n",
       "      <td>1</td>\n",
       "      <td>0</td>\n",
       "      <td>1</td>\n",
       "      <td>0</td>\n",
       "      <td>0</td>\n",
       "      <td>0</td>\n",
       "    </tr>\n",
       "    <tr>\n",
       "      <th>3</th>\n",
       "      <td>1</td>\n",
       "      <td>1</td>\n",
       "      <td>0</td>\n",
       "      <td>0</td>\n",
       "      <td>0</td>\n",
       "      <td>0</td>\n",
       "    </tr>\n",
       "    <tr>\n",
       "      <th>4</th>\n",
       "      <td>1</td>\n",
       "      <td>0</td>\n",
       "      <td>1</td>\n",
       "      <td>1</td>\n",
       "      <td>0</td>\n",
       "      <td>0</td>\n",
       "    </tr>\n",
       "    <tr>\n",
       "      <th>5</th>\n",
       "      <td>0</td>\n",
       "      <td>0</td>\n",
       "      <td>0</td>\n",
       "      <td>0</td>\n",
       "      <td>0</td>\n",
       "      <td>0</td>\n",
       "    </tr>\n",
       "  </tbody>\n",
       "</table>\n",
       "</div>"
      ],
      "text/plain": [
       "   OnlineSecurity  OnlineBackup  DeviceProtection  TechSupport  StreamingTV  \\\n",
       "1               0             1                 0            0            0   \n",
       "2               1             0                 1            0            0   \n",
       "3               1             1                 0            0            0   \n",
       "4               1             0                 1            1            0   \n",
       "5               0             0                 0            0            0   \n",
       "\n",
       "   StreamingMovies  \n",
       "1                0  \n",
       "2                0  \n",
       "3                0  \n",
       "4                0  \n",
       "5                0  "
      ]
     },
     "execution_count": 19,
     "metadata": {},
     "output_type": "execute_result"
    }
   ],
   "source": [
    "# Приведем значения Yes/No к целочисленному представлению.\n",
    "for col in internet.columns[2:]:\n",
    "    internet[col] = internet[col].map({'Yes': 1, 'No': 0})\n",
    "    \n",
    "internet[internet.columns[2:]].head()"
   ]
  },
  {
   "cell_type": "markdown",
   "metadata": {
    "id": "tb_pFwEYCEVu"
   },
   "source": [
    "### Таблица `phone`"
   ]
  },
  {
   "cell_type": "code",
   "execution_count": 20,
   "metadata": {
    "colab": {
     "base_uri": "https://localhost:8080/",
     "height": 380
    },
    "id": "8RGVvUY4m3CH",
    "outputId": "9f2cf0a2-019d-41b9-96cd-992f5c80c96d"
   },
   "outputs": [
    {
     "data": {
      "text/html": [
       "<div>\n",
       "<style scoped>\n",
       "    .dataframe tbody tr th:only-of-type {\n",
       "        vertical-align: middle;\n",
       "    }\n",
       "\n",
       "    .dataframe tbody tr th {\n",
       "        vertical-align: top;\n",
       "    }\n",
       "\n",
       "    .dataframe thead th {\n",
       "        text-align: right;\n",
       "    }\n",
       "</style>\n",
       "<table border=\"1\" class=\"dataframe\">\n",
       "  <thead>\n",
       "    <tr style=\"text-align: right;\">\n",
       "      <th></th>\n",
       "      <th>CustomerID</th>\n",
       "      <th>MultipleLines</th>\n",
       "    </tr>\n",
       "  </thead>\n",
       "  <tbody>\n",
       "    <tr>\n",
       "      <th>1</th>\n",
       "      <td>5575-GNVDE</td>\n",
       "      <td>No</td>\n",
       "    </tr>\n",
       "    <tr>\n",
       "      <th>2</th>\n",
       "      <td>3668-QPYBK</td>\n",
       "      <td>No</td>\n",
       "    </tr>\n",
       "    <tr>\n",
       "      <th>3</th>\n",
       "      <td>9237-HQITU</td>\n",
       "      <td>No</td>\n",
       "    </tr>\n",
       "    <tr>\n",
       "      <th>4</th>\n",
       "      <td>9305-CDSKC</td>\n",
       "      <td>Yes</td>\n",
       "    </tr>\n",
       "    <tr>\n",
       "      <th>5</th>\n",
       "      <td>1452-KIOVK</td>\n",
       "      <td>Yes</td>\n",
       "    </tr>\n",
       "  </tbody>\n",
       "</table>\n",
       "</div>"
      ],
      "text/plain": [
       "   CustomerID MultipleLines\n",
       "1  5575-GNVDE            No\n",
       "2  3668-QPYBK            No\n",
       "3  9237-HQITU            No\n",
       "4  9305-CDSKC           Yes\n",
       "5  1452-KIOVK           Yes"
      ]
     },
     "metadata": {},
     "output_type": "display_data"
    },
    {
     "name": "stdout",
     "output_type": "stream",
     "text": [
      "<class 'pandas.core.frame.DataFrame'>\n",
      "RangeIndex: 6361 entries, 1 to 6361\n",
      "Data columns (total 2 columns):\n",
      " #   Column         Non-Null Count  Dtype \n",
      "---  ------         --------------  ----- \n",
      " 0   CustomerID     6361 non-null   object\n",
      " 1   MultipleLines  6361 non-null   object\n",
      "dtypes: object(2)\n",
      "memory usage: 99.5+ KB\n",
      "None\n"
     ]
    }
   ],
   "source": [
    "query = '''\n",
    "SELECT c1 AS customerID, c2 AS MultipleLines\n",
    "FROM telecom.phone\n",
    "'''\n",
    "\n",
    "phone = pd.read_sql_query(query, con=engine).iloc[1:]\n",
    "phone.columns = ['CustomerID', 'MultipleLines']\n",
    "display(phone.head())\n",
    "print(phone.info())"
   ]
  },
  {
   "cell_type": "code",
   "execution_count": 21,
   "metadata": {
    "colab": {
     "base_uri": "https://localhost:8080/"
    },
    "id": "blld_m4qJSq_",
    "outputId": "3eec8e87-fceb-4d3e-bd0d-29cdc028e74b"
   },
   "outputs": [
    {
     "name": "stdout",
     "output_type": "stream",
     "text": [
      "Количество уникальных пользователей в таблице phone: 6361\n"
     ]
    }
   ],
   "source": [
    "print('Количество уникальных пользователей в таблице phone:', phone.CustomerID.nunique())"
   ]
  },
  {
   "cell_type": "code",
   "execution_count": 22,
   "metadata": {
    "colab": {
     "base_uri": "https://localhost:8080/"
    },
    "id": "gBtDutCrJJNk",
    "outputId": "4fdd2670-0306-4659-f992-1fa228d729c6"
   },
   "outputs": [
    {
     "name": "stdout",
     "output_type": "stream",
     "text": [
      "Уникальные значения столбца MultipleLines: No | Yes |\n"
     ]
    }
   ],
   "source": [
    "print('Уникальные значения столбца MultipleLines:', *phone['MultipleLines'].unique()+' |')"
   ]
  },
  {
   "cell_type": "code",
   "execution_count": 23,
   "metadata": {
    "colab": {
     "base_uri": "https://localhost:8080/"
    },
    "id": "JZVW1GXg83M_",
    "outputId": "eac088a5-aadd-4a4b-cd95-828f3cbbce96"
   },
   "outputs": [
    {
     "data": {
      "text/plain": [
       "1    0\n",
       "2    0\n",
       "3    0\n",
       "4    1\n",
       "5    1\n",
       "Name: MultipleLines, dtype: int64"
      ]
     },
     "execution_count": 23,
     "metadata": {},
     "output_type": "execute_result"
    }
   ],
   "source": [
    "# Приведем значения Yes/No к целочисленному представлению.\n",
    "phone['MultipleLines'] = phone['MultipleLines'].map({'Yes': 1, 'No': 0})\n",
    "\n",
    "phone['MultipleLines'].head()"
   ]
  },
  {
   "cell_type": "markdown",
   "metadata": {
    "id": "NV5--Uuy5DDj"
   },
   "source": [
    "**Резюме** Пропуски есть только в таблице `contracts`, в столбцах `TotalCharges` и `EndDate`."
   ]
  },
  {
   "cell_type": "markdown",
   "metadata": {
    "id": "C6GhApNzJvzd"
   },
   "source": [
    "### Объединение таблиц"
   ]
  },
  {
   "cell_type": "code",
   "execution_count": 24,
   "metadata": {
    "id": "oRoKcJq6JyxH"
   },
   "outputs": [],
   "source": [
    "data = contract\\\n",
    ".merge(personal, how='outer', on='CustomerID')\\\n",
    ".merge(internet, how='outer', on='CustomerID')\\\n",
    ".merge(phone, how='outer', on='CustomerID')"
   ]
  },
  {
   "cell_type": "code",
   "execution_count": 25,
   "metadata": {
    "colab": {
     "base_uri": "https://localhost:8080/",
     "height": 878
    },
    "id": "qjcEzjHKNfPB",
    "outputId": "1b5c8408-c81d-4ed5-8d61-692890a92557"
   },
   "outputs": [
    {
     "data": {
      "text/html": [
       "<div>\n",
       "<style scoped>\n",
       "    .dataframe tbody tr th:only-of-type {\n",
       "        vertical-align: middle;\n",
       "    }\n",
       "\n",
       "    .dataframe tbody tr th {\n",
       "        vertical-align: top;\n",
       "    }\n",
       "\n",
       "    .dataframe thead th {\n",
       "        text-align: right;\n",
       "    }\n",
       "</style>\n",
       "<table border=\"1\" class=\"dataframe\">\n",
       "  <thead>\n",
       "    <tr style=\"text-align: right;\">\n",
       "      <th></th>\n",
       "      <th>CustomerID</th>\n",
       "      <th>BeginDate</th>\n",
       "      <th>EndDate</th>\n",
       "      <th>Type</th>\n",
       "      <th>PaperlessBilling</th>\n",
       "      <th>PaymentMethod</th>\n",
       "      <th>MonthlyCharges</th>\n",
       "      <th>TotalCharges</th>\n",
       "      <th>Gender</th>\n",
       "      <th>SeniorCitizen</th>\n",
       "      <th>Partner</th>\n",
       "      <th>Dependents</th>\n",
       "      <th>InternetService</th>\n",
       "      <th>OnlineSecurity</th>\n",
       "      <th>OnlineBackup</th>\n",
       "      <th>DeviceProtection</th>\n",
       "      <th>TechSupport</th>\n",
       "      <th>StreamingTV</th>\n",
       "      <th>StreamingMovies</th>\n",
       "      <th>MultipleLines</th>\n",
       "    </tr>\n",
       "  </thead>\n",
       "  <tbody>\n",
       "    <tr>\n",
       "      <th>0</th>\n",
       "      <td>4472-LVYGI</td>\n",
       "      <td>2020-02-01</td>\n",
       "      <td>None</td>\n",
       "      <td>Two year</td>\n",
       "      <td>1</td>\n",
       "      <td>Bank transfer (automatic)</td>\n",
       "      <td>52.55</td>\n",
       "      <td>NaN</td>\n",
       "      <td>Female</td>\n",
       "      <td>0</td>\n",
       "      <td>1</td>\n",
       "      <td>1</td>\n",
       "      <td>DSL</td>\n",
       "      <td>1.0</td>\n",
       "      <td>0.0</td>\n",
       "      <td>1.0</td>\n",
       "      <td>1.0</td>\n",
       "      <td>1.0</td>\n",
       "      <td>0.0</td>\n",
       "      <td>NaN</td>\n",
       "    </tr>\n",
       "    <tr>\n",
       "      <th>1</th>\n",
       "      <td>3115-CZMZD</td>\n",
       "      <td>2020-02-01</td>\n",
       "      <td>None</td>\n",
       "      <td>Two year</td>\n",
       "      <td>0</td>\n",
       "      <td>Mailed check</td>\n",
       "      <td>20.25</td>\n",
       "      <td>NaN</td>\n",
       "      <td>Male</td>\n",
       "      <td>0</td>\n",
       "      <td>0</td>\n",
       "      <td>1</td>\n",
       "      <td>NaN</td>\n",
       "      <td>NaN</td>\n",
       "      <td>NaN</td>\n",
       "      <td>NaN</td>\n",
       "      <td>NaN</td>\n",
       "      <td>NaN</td>\n",
       "      <td>NaN</td>\n",
       "      <td>0.0</td>\n",
       "    </tr>\n",
       "    <tr>\n",
       "      <th>2</th>\n",
       "      <td>3668-QPYBK</td>\n",
       "      <td>2018-08-09</td>\n",
       "      <td>2019-12-01</td>\n",
       "      <td>Month-to-month</td>\n",
       "      <td>1</td>\n",
       "      <td>Mailed check</td>\n",
       "      <td>53.85</td>\n",
       "      <td>108.15</td>\n",
       "      <td>Male</td>\n",
       "      <td>0</td>\n",
       "      <td>0</td>\n",
       "      <td>0</td>\n",
       "      <td>DSL</td>\n",
       "      <td>1.0</td>\n",
       "      <td>1.0</td>\n",
       "      <td>0.0</td>\n",
       "      <td>0.0</td>\n",
       "      <td>0.0</td>\n",
       "      <td>0.0</td>\n",
       "      <td>0.0</td>\n",
       "    </tr>\n",
       "    <tr>\n",
       "      <th>3</th>\n",
       "      <td>5709-LVOEQ</td>\n",
       "      <td>2020-02-01</td>\n",
       "      <td>None</td>\n",
       "      <td>Two year</td>\n",
       "      <td>0</td>\n",
       "      <td>Mailed check</td>\n",
       "      <td>80.85</td>\n",
       "      <td>NaN</td>\n",
       "      <td>Female</td>\n",
       "      <td>0</td>\n",
       "      <td>1</td>\n",
       "      <td>1</td>\n",
       "      <td>DSL</td>\n",
       "      <td>1.0</td>\n",
       "      <td>1.0</td>\n",
       "      <td>1.0</td>\n",
       "      <td>0.0</td>\n",
       "      <td>1.0</td>\n",
       "      <td>1.0</td>\n",
       "      <td>0.0</td>\n",
       "    </tr>\n",
       "    <tr>\n",
       "      <th>4</th>\n",
       "      <td>9237-HQITU</td>\n",
       "      <td>2019-01-26</td>\n",
       "      <td>2019-11-01</td>\n",
       "      <td>Month-to-month</td>\n",
       "      <td>1</td>\n",
       "      <td>Electronic check</td>\n",
       "      <td>70.70</td>\n",
       "      <td>151.65</td>\n",
       "      <td>Female</td>\n",
       "      <td>0</td>\n",
       "      <td>0</td>\n",
       "      <td>0</td>\n",
       "      <td>Fiber optic</td>\n",
       "      <td>0.0</td>\n",
       "      <td>0.0</td>\n",
       "      <td>0.0</td>\n",
       "      <td>0.0</td>\n",
       "      <td>0.0</td>\n",
       "      <td>0.0</td>\n",
       "      <td>0.0</td>\n",
       "    </tr>\n",
       "  </tbody>\n",
       "</table>\n",
       "</div>"
      ],
      "text/plain": [
       "   CustomerID   BeginDate     EndDate            Type  PaperlessBilling  \\\n",
       "0  4472-LVYGI  2020-02-01        None        Two year                 1   \n",
       "1  3115-CZMZD  2020-02-01        None        Two year                 0   \n",
       "2  3668-QPYBK  2018-08-09  2019-12-01  Month-to-month                 1   \n",
       "3  5709-LVOEQ  2020-02-01        None        Two year                 0   \n",
       "4  9237-HQITU  2019-01-26  2019-11-01  Month-to-month                 1   \n",
       "\n",
       "               PaymentMethod  MonthlyCharges  TotalCharges  Gender  \\\n",
       "0  Bank transfer (automatic)           52.55           NaN  Female   \n",
       "1               Mailed check           20.25           NaN    Male   \n",
       "2               Mailed check           53.85        108.15    Male   \n",
       "3               Mailed check           80.85           NaN  Female   \n",
       "4           Electronic check           70.70        151.65  Female   \n",
       "\n",
       "   SeniorCitizen  Partner  Dependents InternetService  OnlineSecurity  \\\n",
       "0              0        1           1             DSL             1.0   \n",
       "1              0        0           1             NaN             NaN   \n",
       "2              0        0           0             DSL             1.0   \n",
       "3              0        1           1             DSL             1.0   \n",
       "4              0        0           0     Fiber optic             0.0   \n",
       "\n",
       "   OnlineBackup  DeviceProtection  TechSupport  StreamingTV  StreamingMovies  \\\n",
       "0           0.0               1.0          1.0          1.0              0.0   \n",
       "1           NaN               NaN          NaN          NaN              NaN   \n",
       "2           1.0               0.0          0.0          0.0              0.0   \n",
       "3           1.0               1.0          0.0          1.0              1.0   \n",
       "4           0.0               0.0          0.0          0.0              0.0   \n",
       "\n",
       "   MultipleLines  \n",
       "0            NaN  \n",
       "1            0.0  \n",
       "2            0.0  \n",
       "3            0.0  \n",
       "4            0.0  "
      ]
     },
     "metadata": {},
     "output_type": "display_data"
    },
    {
     "name": "stdout",
     "output_type": "stream",
     "text": [
      "<class 'pandas.core.frame.DataFrame'>\n",
      "Int64Index: 7043 entries, 0 to 7042\n",
      "Data columns (total 20 columns):\n",
      " #   Column            Non-Null Count  Dtype  \n",
      "---  ------            --------------  -----  \n",
      " 0   CustomerID        7043 non-null   object \n",
      " 1   BeginDate         7043 non-null   object \n",
      " 2   EndDate           1869 non-null   object \n",
      " 3   Type              7043 non-null   object \n",
      " 4   PaperlessBilling  7043 non-null   int64  \n",
      " 5   PaymentMethod     7043 non-null   object \n",
      " 6   MonthlyCharges    7043 non-null   float64\n",
      " 7   TotalCharges      7032 non-null   float64\n",
      " 8   Gender            7043 non-null   object \n",
      " 9   SeniorCitizen     7043 non-null   int64  \n",
      " 10  Partner           7043 non-null   int64  \n",
      " 11  Dependents        7043 non-null   int64  \n",
      " 12  InternetService   5517 non-null   object \n",
      " 13  OnlineSecurity    5517 non-null   float64\n",
      " 14  OnlineBackup      5517 non-null   float64\n",
      " 15  DeviceProtection  5517 non-null   float64\n",
      " 16  TechSupport       5517 non-null   float64\n",
      " 17  StreamingTV       5517 non-null   float64\n",
      " 18  StreamingMovies   5517 non-null   float64\n",
      " 19  MultipleLines     6361 non-null   float64\n",
      "dtypes: float64(9), int64(4), object(7)\n",
      "memory usage: 1.1+ MB\n",
      "None\n"
     ]
    }
   ],
   "source": [
    "display(data.head())\n",
    "print(data.info())"
   ]
  },
  {
   "cell_type": "markdown",
   "metadata": {
    "id": "YU8AIz1PJdKg"
   },
   "source": [
    "### Краткое резюме"
   ]
  },
  {
   "cell_type": "markdown",
   "metadata": {
    "id": "_aMaJ6waJiH7"
   },
   "source": [
    "На данном этапе мы загрузили данные из базы данных, исследовали их, провели небольшую предобработку и обединили в единую таблицу `data`.  \n",
    "Все таблицы из задачи присутствуют."
   ]
  },
  {
   "cell_type": "markdown",
   "metadata": {
    "id": "QjKMctjAJaTg"
   },
   "source": [
    "## 2. Исследовательский анализ данных"
   ]
  },
  {
   "cell_type": "markdown",
   "metadata": {
    "id": "17Ltzf9fueix"
   },
   "source": [
    "### 2.1 Как распеределены величины ежемесячных платежей (MonthlyCharges) всех действующих клиентов и тех, кто ушёл. "
   ]
  },
  {
   "cell_type": "code",
   "execution_count": 26,
   "metadata": {
    "id": "1jMYLqYlPo3Y"
   },
   "outputs": [],
   "source": [
    "churned_mask = data['EndDate'].notna()"
   ]
  },
  {
   "cell_type": "code",
   "execution_count": 27,
   "metadata": {
    "colab": {
     "base_uri": "https://localhost:8080/"
    },
    "id": "BC1KloThJkJW",
    "outputId": "458abf64-27b3-4500-db81-0c2903ab9e14"
   },
   "outputs": [
    {
     "name": "stdout",
     "output_type": "stream",
     "text": [
      "Количество ушедших клиентов: 1869\n",
      "Количество действующих клиентов: 5174\n"
     ]
    }
   ],
   "source": [
    "print('Количество ушедших клиентов:', data[churned_mask].shape[0])\n",
    "print('Количество действующих клиентов:', data[~churned_mask].shape[0])"
   ]
  },
  {
   "cell_type": "code",
   "execution_count": 28,
   "metadata": {
    "colab": {
     "base_uri": "https://localhost:8080/",
     "height": 444
    },
    "id": "eah77eItUk49",
    "outputId": "e5517a01-e166-49dc-c696-c10ee0469a3b"
   },
   "outputs": [
    {
     "data": {
      "image/png": "[encoded data removed]",
      "text/plain": [
       "<Figure size 1080x504 with 4 Axes>"
      ]
     },
     "metadata": {
      "needs_background": "light"
     },
     "output_type": "display_data"
    }
   ],
   "source": [
    "fig, ax = plt.subplots(2, 2, figsize=(15, 7))\n",
    "\n",
    "ax[0, 0].hist(data[churned_mask]['MonthlyCharges'], bins=100)\n",
    "ax[0, 0].set_title('MonthlyCharges ушедших клиентов')\n",
    "ax[0, 0].grid()\n",
    "\n",
    "ax[1, 0].boxplot(data[churned_mask]['MonthlyCharges'], vert=False)\n",
    "ax[1, 0].grid()\n",
    "\n",
    "\n",
    "ax[0, 1].hist(data[~churned_mask]['MonthlyCharges'], bins=100)\n",
    "ax[0, 1].set_title('MonthlyCharges действующих клиентов')\n",
    "ax[0, 1].grid()\n",
    "\n",
    "ax[1, 1].boxplot(data[~churned_mask]['MonthlyCharges'],  vert=False)\n",
    "ax[1, 1].grid()"
   ]
  },
  {
   "cell_type": "code",
   "execution_count": 29,
   "metadata": {
    "colab": {
     "base_uri": "https://localhost:8080/"
    },
    "id": "uhr0KvVCmzXG",
    "outputId": "b85e71a0-841b-4435-8f82-e0d9caee4969"
   },
   "outputs": [
    {
     "name": "stdout",
     "output_type": "stream",
     "text": [
      "Ушедшие: \n",
      " count    1869.000000\n",
      "mean       74.441332\n",
      "std        24.666053\n",
      "min        18.850000\n",
      "25%        56.150000\n",
      "50%        79.650000\n",
      "75%        94.200000\n",
      "max       118.350000\n",
      "Name: MonthlyCharges, dtype: float64\n",
      "Действующие: \n",
      " count    5174.000000\n",
      "mean       61.265124\n",
      "std        31.092648\n",
      "min        18.250000\n",
      "25%        25.100000\n",
      "50%        64.425000\n",
      "75%        88.400000\n",
      "max       118.750000\n",
      "Name: MonthlyCharges, dtype: float64\n"
     ]
    }
   ],
   "source": [
    "print(\"Ушедшие: \\n\", data[churned_mask]['MonthlyCharges'].describe())\n",
    "print(\"Действующие: \\n\", data[~churned_mask]['MonthlyCharges'].describe())"
   ]
  },
  {
   "cell_type": "markdown",
   "metadata": {
    "id": "Y1t8jnRKmO4n"
   },
   "source": [
    "Ежемесячные платежи действующих клиентов по медиане меньше (64 у.е.) нежели платежи ушедших клиентов (80 у.е.)"
   ]
  },
  {
   "cell_type": "markdown",
   "metadata": {
    "id": "6hkGFBs9uzYu"
   },
   "source": [
    "### 2.2 Есть ли зависимость от опций использования интернета и мобильной связи?"
   ]
  },
  {
   "cell_type": "markdown",
   "metadata": {
    "id": "scgcq9gOGzS-"
   },
   "source": [
    "Посмотрим, каковы доли пользователей интернета и телефонной связи среди ушедших и действующих клиентов."
   ]
  },
  {
   "cell_type": "code",
   "execution_count": 30,
   "metadata": {
    "colab": {
     "base_uri": "https://localhost:8080/"
    },
    "id": "_yGZAS6ceFbU",
    "outputId": "3536a20e-2431-4d97-e551-a628c46e115b"
   },
   "outputs": [
    {
     "name": "stdout",
     "output_type": "stream",
     "text": [
      "Доля пользователей телефонной связи среди ушедших клиентов: 0.9090422685928304\n",
      "Доля пользователей телефонной связи среди действующих клиентов: 0.9010436799381523\n"
     ]
    }
   ],
   "source": [
    "print(\"Доля пользователей телефонной связи среди ушедших клиентов:\", data[churned_mask].MultipleLines.notna().sum() / data[churned_mask].shape[0])\n",
    "print(\"Доля пользователей телефонной связи среди действующих клиентов:\", data[~churned_mask].MultipleLines.notna().sum() / data[~churned_mask].shape[0])"
   ]
  },
  {
   "cell_type": "code",
   "execution_count": 31,
   "metadata": {
    "colab": {
     "base_uri": "https://localhost:8080/"
    },
    "id": "r2XwXjSfcb6k",
    "outputId": "93a8a14f-bb02-4895-de27-8aabd2f69e67"
   },
   "outputs": [
    {
     "name": "stdout",
     "output_type": "stream",
     "text": [
      "Доля пользователей интернета среди ушедших клиентов: 0.9395398608881755\n",
      "Доля пользователей интернета среди действующих клиентов: 0.7269037495168148\n"
     ]
    }
   ],
   "source": [
    "print(\"Доля пользователей интернета среди ушедших клиентов:\", data[churned_mask].InternetService.notna().sum() / data[churned_mask].shape[0])\n",
    "print(\"Доля пользователей интернета среди действующих клиентов:\", data[~churned_mask].InternetService.notna().sum() / data[~churned_mask].shape[0])"
   ]
  },
  {
   "cell_type": "markdown",
   "metadata": {
    "id": "k5w0P6h2ng3Z"
   },
   "source": [
    "**Резюме:** Среди ушедших клиентов доля пользователей интернета выше, нежели среди действующих клиентов."
   ]
  },
  {
   "cell_type": "code",
   "execution_count": 32,
   "metadata": {
    "colab": {
     "base_uri": "https://localhost:8080/"
    },
    "id": "Dd5FzwwLfIwd",
    "outputId": "88d6c20d-e373-41b5-e58d-1cc0f1cbf413"
   },
   "outputs": [
    {
     "name": "stdout",
     "output_type": "stream",
     "text": [
      "Доля ушедших клиентов, пользовавшихся телефонной связью, среди всех пользователей телефонной связи: 0.2670963684955196\n",
      "Доля действующих клиентов, пользовавшихся телефонной связью, среди всех пользователей телефонной связи: 0.7329036315044805\n",
      "Доля ушедших пользователей всего: 0.2653698707936959\n"
     ]
    }
   ],
   "source": [
    "print(\"Доля ушедших клиентов, пользовавшихся \\\n",
    "телефонной связью, среди всех пользователей телефонной связи:\", data[churned_mask].MultipleLines.notna().sum() / data.MultipleLines.notna().sum())\n",
    "print(\"Доля действующих клиентов, пользовавшихся \\\n",
    "телефонной связью, среди всех пользователей телефонной связи:\", data[~churned_mask].MultipleLines.notna().sum() / data.MultipleLines.notna().sum())\n",
    "print(\"Доля ушедших пользователей всего:\", data[churned_mask].shape[0] /  data.shape[0])"
   ]
  },
  {
   "cell_type": "code",
   "execution_count": 33,
   "metadata": {
    "colab": {
     "base_uri": "https://localhost:8080/"
    },
    "id": "i1MT6cjxgO1A",
    "outputId": "b9214d23-fd7d-403c-a934-551ec8dd80a7"
   },
   "outputs": [
    {
     "name": "stdout",
     "output_type": "stream",
     "text": [
      "Доля ушедших клиентов, пользовавшихся интернетом, среди всех пользователей интернета: 0.3182889251404749\n",
      "Доля действующих клиентов, пользовавшихся интернетом, среди всех пользователей интернета: 0.6817110748595251\n",
      "Доля ушедших пользователей всего: 0.2653698707936959\n"
     ]
    }
   ],
   "source": [
    "print(\"Доля ушедших клиентов, пользовавшихся \\\n",
    "интернетом, среди всех пользователей интернета:\", data[churned_mask].InternetService.notna().sum() / data.InternetService.notna().sum())\n",
    "print(\"Доля действующих клиентов, пользовавшихся \\\n",
    "интернетом, среди всех пользователей интернета:\", data[~churned_mask].InternetService.notna().sum() / data.InternetService.notna().sum())\n",
    "print(\"Доля ушедших пользователей всего:\", data[churned_mask].shape[0] /  data.shape[0])"
   ]
  },
  {
   "cell_type": "markdown",
   "metadata": {
    "id": "RfmDQGX0n6hq"
   },
   "source": [
    "**Резюме:** Похоже, что действующие клиенты пользуются интернетом немного реже, нежели ушедшие."
   ]
  },
  {
   "cell_type": "code",
   "execution_count": 34,
   "metadata": {
    "colab": {
     "base_uri": "https://localhost:8080/",
     "height": 304
    },
    "id": "8AzZP-kAHWb8",
    "outputId": "b81238eb-1689-4e26-e0b2-efb74c498f7a"
   },
   "outputs": [
    {
     "data": {
      "image/png": "[encoded data removed]",
      "text/plain": [
       "<Figure size 936x360 with 2 Axes>"
      ]
     },
     "metadata": {
      "needs_background": "light"
     },
     "output_type": "display_data"
    }
   ],
   "source": [
    "fig, ax = plt.subplots(1, 2, figsize=(13, 5))\n",
    "fig.tight_layout(pad=8.0)\n",
    "plt.suptitle('Опции интернета InternetService')\n",
    "data[churned_mask]['InternetService'].value_counts(normalize=True).sort_index().plot.barh(grid=True, ax=ax[0], title='Ушедшие')\n",
    "data[~churned_mask]['InternetService'].value_counts(normalize=True).sort_index().plot.barh(grid=True, ax=ax[1], title='Действующие');"
   ]
  },
  {
   "cell_type": "markdown",
   "metadata": {
    "id": "EiocDAusLUet"
   },
   "source": [
    "**Резюме:** Ушедшие клиенты чаще всего использовали Fiber optic, в то время как действующие клиенты используют обе опции практически в равной пропорции."
   ]
  },
  {
   "cell_type": "code",
   "execution_count": 35,
   "metadata": {
    "colab": {
     "base_uri": "https://localhost:8080/",
     "height": 336
    },
    "id": "iuI_fsC_HYNW",
    "outputId": "fa73bf5d-4d08-4847-b90a-3d57d3a3bf17"
   },
   "outputs": [
    {
     "data": {
      "image/png": "[encoded data removed]",
      "text/plain": [
       "<Figure size 576x360 with 1 Axes>"
      ]
     },
     "metadata": {
      "needs_background": "light"
     },
     "output_type": "display_data"
    }
   ],
   "source": [
    "internet_bin_columns = internet.columns[2:]\n",
    "\n",
    "fig, ax = plt.subplots(1, 1, figsize=(8, 5))\n",
    "plt.title(\"Доля клиентов, пользующихся различными интернет услугами\")\n",
    "data[internet_bin_columns][churned_mask].mean().sort_index().plot.barh(grid=True, ax=ax, label='Ушедшие', color='r')\n",
    "data[internet_bin_columns][~churned_mask].mean().sort_index().plot.barh(grid=True, ax=ax, label='Действующие', color='g', alpha=0.3);\n",
    "plt.legend(loc='upper right');"
   ]
  },
  {
   "cell_type": "markdown",
   "metadata": {
    "id": "6LcGuk9rb0OM"
   },
   "source": [
    "**Резюме:** Среди действующих клиентов практически одинаково популярны все виды интернет-услуг - каждым видом услуг пользуются около 50% пользователей. Среди ушедших же гораздо более низкий процент использования каждой услуги."
   ]
  },
  {
   "cell_type": "code",
   "execution_count": 36,
   "metadata": {
    "colab": {
     "base_uri": "https://localhost:8080/",
     "height": 351
    },
    "id": "iVCZEoCti0yK",
    "outputId": "66d760ae-488a-4578-a812-ee7f14a652e7"
   },
   "outputs": [
    {
     "data": {
      "image/png": "[encoded data removed]",
      "text/plain": [
       "<Figure size 576x360 with 1 Axes>"
      ]
     },
     "metadata": {
      "needs_background": "light"
     },
     "output_type": "display_data"
    }
   ],
   "source": [
    "internet_bin_columns = internet.columns[2:]\n",
    "\n",
    "fig, ax = plt.subplots(1, 1, figsize=(8, 5))\n",
    "plt.title(\"Доля клиентов, использующих подключение\\n телефонного аппарата к нескольким линиям одновременно.\")\n",
    "data[['MultipleLines']][churned_mask].mean().plot.barh(grid=True, ax=ax, label='Ушедшие', color='r')\n",
    "data[['MultipleLines']][~churned_mask].mean().plot.barh(grid=True, ax=ax, label='Действующие', color='g', alpha=0.3);\n",
    "plt.legend(loc='upper right');"
   ]
  },
  {
   "cell_type": "markdown",
   "metadata": {
    "id": "aGo4BA_Sg_U-"
   },
   "source": [
    "**Резюме:** В обеих группах примерно одинаковая доля клиентов использует подключение телефонного аппарата к нескольким линиям одновременно."
   ]
  },
  {
   "cell_type": "markdown",
   "metadata": {
    "id": "x9X5qeh0oGb1"
   },
   "source": [
    "### 2.3 Сколько в среднем длился период от BeginDate до EndDate (LTV)?"
   ]
  },
  {
   "cell_type": "code",
   "execution_count": 37,
   "metadata": {
    "id": "21RPdx_BqfAc"
   },
   "outputs": [],
   "source": [
    "data['EndOrActualDate'] = data['EndDate'].where(data['EndDate'].notna(), date(2020, 2, 1))\n",
    "data['DaysWithCompany'] = (data['EndOrActualDate'] - data['BeginDate']).dt.days"
   ]
  },
  {
   "cell_type": "code",
   "execution_count": 38,
   "metadata": {
    "colab": {
     "base_uri": "https://localhost:8080/",
     "height": 444
    },
    "id": "aFuk-6q_XBDv",
    "outputId": "eb7817c9-967b-4ddf-9ad5-baf60bb118df"
   },
   "outputs": [
    {
     "data": {
      "image/png": "[encoded data removed]",
      "text/plain": [
       "<Figure size 1080x504 with 4 Axes>"
      ]
     },
     "metadata": {
      "needs_background": "light"
     },
     "output_type": "display_data"
    }
   ],
   "source": [
    "fig, ax = plt.subplots(2, 2, figsize=(15, 7))\n",
    "\n",
    "ax[0, 0].hist(data[churned_mask]['DaysWithCompany'], bins=100)\n",
    "ax[0, 0].set_title('DaysWithCompany ушедших клиентов')\n",
    "ax[0, 0].grid()\n",
    "\n",
    "ax[1, 0].boxplot(data[churned_mask]['DaysWithCompany'], vert=False)\n",
    "ax[1, 0].grid()\n",
    "\n",
    "\n",
    "ax[0, 1].hist(data[~churned_mask]['DaysWithCompany'], bins=100)\n",
    "ax[0, 1].set_title('DaysWithCompany действующих клиентов')\n",
    "ax[0, 1].grid()\n",
    "\n",
    "ax[1, 1].boxplot(data[~churned_mask]['DaysWithCompany'],  vert=False)\n",
    "ax[1, 1].grid()"
   ]
  },
  {
   "cell_type": "markdown",
   "metadata": {
    "id": "O4wAYr8yuLJ-"
   },
   "source": [
    "Количество дней, которые провели клиенты с компанией практически одинаковое для обеих групп."
   ]
  },
  {
   "cell_type": "markdown",
   "metadata": {
    "id": "Mv9B5p4ZvQXm"
   },
   "source": [
    "### 2.4 Какой тип оплаты чаще всего выбирали пользователи разных групп?\n"
   ]
  },
  {
   "cell_type": "code",
   "execution_count": 39,
   "metadata": {
    "colab": {
     "base_uri": "https://localhost:8080/",
     "height": 243
    },
    "id": "HO7r67qYvQJX",
    "outputId": "44b48d55-0d0c-4ea3-e482-1a8e602442a5"
   },
   "outputs": [
    {
     "data": {
      "image/png": "[encoded data removed]",
      "text/plain": [
       "<Figure size 936x360 with 2 Axes>"
      ]
     },
     "metadata": {
      "needs_background": "light"
     },
     "output_type": "display_data"
    }
   ],
   "source": [
    "fig, ax = plt.subplots(1, 2, figsize=(13, 5))\n",
    "fig.tight_layout(pad=8.0)\n",
    "data[churned_mask]['Type'].value_counts(normalize=True, dropna=False).sort_index().plot.barh(grid=True, ax=ax[0], title='Ушедшие')\n",
    "data[~churned_mask]['Type'].value_counts(normalize=True, dropna=False).sort_index().plot.barh(grid=True, ax=ax[1], title='Действующие');"
   ]
  },
  {
   "cell_type": "markdown",
   "metadata": {
    "id": "sVMlqGUexSNO"
   },
   "source": [
    "Большинство ушедших клиентов платили ежемесячно, в то время как среди действующих клиентов также популярны способы оплаты сразу за один или за два года вперед."
   ]
  },
  {
   "cell_type": "markdown",
   "metadata": {
    "id": "AfMjKEkHx0Bc"
   },
   "source": [
    "Есть ли клиенты, которые на продолжительной основе платят раз в месяц? Иначе говоря, как распределено количество дней пребывания клиента в компании по типам оплаты?"
   ]
  },
  {
   "cell_type": "code",
   "execution_count": 40,
   "metadata": {
    "colab": {
     "base_uri": "https://localhost:8080/",
     "height": 479
    },
    "id": "raiT2ZMEl-WV",
    "outputId": "a325009e-ac6e-4b38-8943-a0214d684430"
   },
   "outputs": [
    {
     "data": {
      "image/png": "[encoded data removed]",
      "text/plain": [
       "<Figure size 1512x216 with 3 Axes>"
      ]
     },
     "metadata": {
      "needs_background": "light"
     },
     "output_type": "display_data"
    },
    {
     "data": {
      "image/png": "[encoded data removed]",
      "text/plain": [
       "<Figure size 1512x216 with 3 Axes>"
      ]
     },
     "metadata": {
      "needs_background": "light"
     },
     "output_type": "display_data"
    }
   ],
   "source": [
    "fig, ax = plt.subplots(1, 3, figsize=(21, 3))\n",
    "fig.suptitle('Ушедшие. Распределение дней пребывания клиента в компании по типам оплат', y=1.05)\n",
    "for ax_, type_ in zip(ax, ['Two year', 'One year', 'Month-to-month']):\n",
    "    ax_.hist(data[churned_mask][lambda x: x['Type'] == type_]['DaysWithCompany']);\n",
    "    ax_.set_title(type_)\n",
    "    ax_.grid()\n",
    "plt.show()\n",
    "\n",
    "fig, ax = plt.subplots(1, 3, figsize=(21, 3))\n",
    "fig.suptitle('Действующие. Распределение дней пребывания клиента в компании по типам оплат', y=1.05)\n",
    "for ax_, type_ in zip(ax, ['Two year', 'One year', 'Month-to-month']):\n",
    "    ax_.hist(data[~churned_mask][lambda x: x['Type'] == type_]['DaysWithCompany']);\n",
    "    ax_.set_title(type_)\n",
    "    ax_.grid()\n",
    "plt.show()"
   ]
  },
  {
   "cell_type": "markdown",
   "metadata": {
    "id": "rfVoPQ5D0oiM"
   },
   "source": [
    "**Резюме:** Тип оплаты практически никак не влияет на то количество дней, которое клиент пробыл с компанией."
   ]
  },
  {
   "cell_type": "markdown",
   "metadata": {
    "id": "baOL1t1y1U-r"
   },
   "source": [
    "Посмотрим есть ли разница в распределении признака `PaperlessBilling` между различными группами клиентов:"
   ]
  },
  {
   "cell_type": "code",
   "execution_count": 41,
   "metadata": {
    "colab": {
     "base_uri": "https://localhost:8080/",
     "height": 243
    },
    "id": "KoV4nON41rSp",
    "outputId": "b0a99fb9-005c-4033-c683-595a31091927"
   },
   "outputs": [
    {
     "data": {
      "image/png": "[encoded data removed]",
      "text/plain": [
       "<Figure size 936x360 with 2 Axes>"
      ]
     },
     "metadata": {
      "needs_background": "light"
     },
     "output_type": "display_data"
    }
   ],
   "source": [
    "fig, ax = plt.subplots(1, 2, figsize=(13, 5))\n",
    "fig.tight_layout(pad=8.0)\n",
    "data[churned_mask]['PaperlessBilling'].value_counts(normalize=True, dropna=False).sort_index().plot.barh(grid=True, ax=ax[0], title='Ушедшие')\n",
    "data[~churned_mask]['PaperlessBilling'].value_counts(normalize=True, dropna=False).sort_index().plot.barh(grid=True, ax=ax[1], title='Действующие');"
   ]
  },
  {
   "cell_type": "markdown",
   "metadata": {
    "id": "7e7Knqni14O_"
   },
   "source": [
    "**Резюме:** Среди ушедших клиентов большинство использовали безбумажный расчетный лист, в то время как среди действующих клиентов доли тех, кто его использует и не использует практически равны."
   ]
  },
  {
   "cell_type": "markdown",
   "metadata": {
    "id": "5oTJesyl2KcT"
   },
   "source": [
    "Посмотрим есть ли разница в распредении признака `PaymentMethod` между различными группами клиентов:"
   ]
  },
  {
   "cell_type": "code",
   "execution_count": 42,
   "metadata": {
    "colab": {
     "base_uri": "https://localhost:8080/",
     "height": 254
    },
    "id": "LosASgbc3bvq",
    "outputId": "f994239c-a3be-4f4a-d5f2-b6eb9cc2bbb9"
   },
   "outputs": [
    {
     "data": {
      "image/png": "[encoded data removed]",
      "text/plain": [
       "<Figure size 936x360 with 2 Axes>"
      ]
     },
     "metadata": {
      "needs_background": "light"
     },
     "output_type": "display_data"
    }
   ],
   "source": [
    "fig, ax = plt.subplots(1, 2, figsize=(13, 5))\n",
    "fig.tight_layout(pad=13.0)\n",
    "plt.suptitle('Типы платежей PaymentMethod')\n",
    "data[churned_mask]['PaymentMethod'].value_counts(normalize=True, dropna=False).sort_index().plot.barh(grid=True, ax=ax[0], title='Ушедшие')\n",
    "data[~churned_mask]['PaymentMethod'].value_counts(normalize=True, dropna=False).sort_index().plot.barh(grid=True, ax=ax[1], title='Действующие');"
   ]
  },
  {
   "cell_type": "markdown",
   "metadata": {
    "id": "nxwVRGre353I"
   },
   "source": [
    "**Резюме:** Среди ушедших клиентов наиболее распространенным являлся тип платежа \"Electronic check\", в то время как среди действующих клиентов все виды платежей одинаково распространены."
   ]
  },
  {
   "cell_type": "markdown",
   "metadata": {
    "id": "djFHp9xo1DV5"
   },
   "source": [
    "### 2.5 Есть ли зависимость от признаков, описывающих клиента (пола, возраста, наличия партнера, детей)?"
   ]
  },
  {
   "cell_type": "markdown",
   "metadata": {
    "id": "ZHlVORc0_7pS"
   },
   "source": [
    "Посмотрим, есть ли зависимость от пола:"
   ]
  },
  {
   "cell_type": "code",
   "execution_count": 43,
   "metadata": {
    "colab": {
     "base_uri": "https://localhost:8080/",
     "height": 143
    },
    "id": "avhIirlq_Tb9",
    "outputId": "e2dfbf16-7ee8-42ae-8de5-61d4214c90d8"
   },
   "outputs": [
    {
     "data": {
      "image/png": "[encoded data removed]",
      "text/plain": [
       "<Figure size 936x360 with 2 Axes>"
      ]
     },
     "metadata": {
      "needs_background": "light"
     },
     "output_type": "display_data"
    }
   ],
   "source": [
    "fig, ax = plt.subplots(1, 2, figsize=(13, 5))\n",
    "fig.tight_layout(pad=13.0)\n",
    "data[churned_mask]['Gender'].value_counts(normalize=True, dropna=False).sort_index().plot.barh(grid=True, ax=ax[0], title='Ушедшие')\n",
    "data[~churned_mask]['Gender'].value_counts(normalize=True, dropna=False).sort_index().plot.barh(grid=True, ax=ax[1], title='Действующие');"
   ]
  },
  {
   "cell_type": "markdown",
   "metadata": {
    "id": "PkLz3-QU_bkq"
   },
   "source": [
    "**Резюме:** Распределения клиентов по полу примерно одинаковое в обоих группах."
   ]
  },
  {
   "cell_type": "markdown",
   "metadata": {
    "id": "comj8yYWE89w"
   },
   "source": [
    "Посмотрим, есть ли зависимость от возраста:"
   ]
  },
  {
   "cell_type": "code",
   "execution_count": 44,
   "metadata": {
    "colab": {
     "base_uri": "https://localhost:8080/",
     "height": 243
    },
    "id": "0ekY62pHFBEk",
    "outputId": "3e43521d-e0b3-4216-8589-b15ead700a3d"
   },
   "outputs": [
    {
     "data": {
      "image/png": "[encoded data removed]",
      "text/plain": [
       "<Figure size 936x360 with 2 Axes>"
      ]
     },
     "metadata": {
      "needs_background": "light"
     },
     "output_type": "display_data"
    }
   ],
   "source": [
    "fig, ax = plt.subplots(1, 2, figsize=(13, 5))\n",
    "fig.tight_layout(pad=8.0)\n",
    "data[churned_mask]['SeniorCitizen'].value_counts(normalize=True, dropna=False).sort_index().plot.barh(grid=True, ax=ax[0], title='Ушедшие')\n",
    "data[~churned_mask]['SeniorCitizen'].value_counts(normalize=True, dropna=False).sort_index().plot.barh(grid=True, ax=ax[1], title='Действующие');"
   ]
  },
  {
   "cell_type": "markdown",
   "metadata": {
    "id": "o04U610sFJOs"
   },
   "source": [
    "**Резюме:** Распределения клиентов по возрасту примерно одинаковое в обоих группах."
   ]
  },
  {
   "cell_type": "markdown",
   "metadata": {
    "id": "1KsrOtqtFYUV"
   },
   "source": [
    "Посмотрим, есть ли зависимость от наличия партнера:"
   ]
  },
  {
   "cell_type": "code",
   "execution_count": 45,
   "metadata": {
    "colab": {
     "base_uri": "https://localhost:8080/",
     "height": 243
    },
    "id": "69cDy1XfFYUW",
    "outputId": "cd611b6d-e62c-42ba-9ba8-89911c3e6e9a"
   },
   "outputs": [
    {
     "data": {
      "image/png": "[encoded data removed]",
      "text/plain": [
       "<Figure size 936x360 with 2 Axes>"
      ]
     },
     "metadata": {
      "needs_background": "light"
     },
     "output_type": "display_data"
    }
   ],
   "source": [
    "fig, ax = plt.subplots(1, 2, figsize=(13, 5))\n",
    "fig.tight_layout(pad=8.0)\n",
    "data[churned_mask]['Partner'].value_counts(normalize=True, dropna=False).sort_index().plot.barh(grid=True, ax=ax[0], title='Ушедшие')\n",
    "data[~churned_mask]['Partner'].value_counts(normalize=True, dropna=False).sort_index().plot.barh(grid=True, ax=ax[1], title='Действующие');"
   ]
  },
  {
   "cell_type": "markdown",
   "metadata": {
    "id": "mWjw0CBAFYUW"
   },
   "source": [
    "**Резюме:** У более чем половины действующих клиентов есть супруг/супруга, в то время как среди ушедших клиентов парнер есть лишь у менее чем 40% пользователей."
   ]
  },
  {
   "cell_type": "markdown",
   "metadata": {
    "id": "xidHJAjYGHQ-"
   },
   "source": [
    "Посмотрим, есть ли зависимость от наличия детей:"
   ]
  },
  {
   "cell_type": "code",
   "execution_count": 46,
   "metadata": {
    "colab": {
     "base_uri": "https://localhost:8080/",
     "height": 243
    },
    "id": "uZOLuP79GHQ_",
    "outputId": "1dae90a3-e0f1-476c-9d3d-eba198adb209"
   },
   "outputs": [
    {
     "data": {
      "image/png": "[encoded data removed]",
      "text/plain": [
       "<Figure size 936x360 with 2 Axes>"
      ]
     },
     "metadata": {
      "needs_background": "light"
     },
     "output_type": "display_data"
    }
   ],
   "source": [
    "fig, ax = plt.subplots(1, 2, figsize=(13, 5))\n",
    "fig.tight_layout(pad=8.0)\n",
    "data[churned_mask]['Dependents'].value_counts(normalize=True, dropna=False).sort_index().plot.barh(grid=True, ax=ax[0], title='Ушедшие')\n",
    "data[~churned_mask]['Dependents'].value_counts(normalize=True, dropna=False).sort_index().plot.barh(grid=True, ax=ax[1], title='Действующие');"
   ]
  },
  {
   "cell_type": "markdown",
   "metadata": {
    "id": "tS_Q77CqGHQ_"
   },
   "source": [
    "**Резюме:** У более чем 30% действующих клиентов есть дети, в то время как среди ушедших клиентов дети есть лишь у менее чем 20% пользователей."
   ]
  },
  {
   "cell_type": "markdown",
   "metadata": {
    "id": "vELCkaEwERf3"
   },
   "source": [
    "### 2.6 В какие месяца пришли клиенты, которые ушли?"
   ]
  },
  {
   "cell_type": "code",
   "execution_count": 47,
   "metadata": {
    "colab": {
     "base_uri": "https://localhost:8080/",
     "height": 499
    },
    "id": "tlIKeFeVfBm5",
    "outputId": "676733ec-293e-4e83-e910-d71456b0e239"
   },
   "outputs": [
    {
     "data": {
      "image/png": "[encoded data removed]",
      "text/plain": [
       "<Figure size 936x576 with 1 Axes>"
      ]
     },
     "metadata": {
      "needs_background": "light"
     },
     "output_type": "display_data"
    }
   ],
   "source": [
    "data['BeginDate'].hist(bins=100, figsize=(13, 8));\n",
    "plt.title('Распредение дат, когда клиенты начали сотрудничать с оператором');"
   ]
  },
  {
   "cell_type": "code",
   "execution_count": 48,
   "metadata": {
    "colab": {
     "base_uri": "https://localhost:8080/",
     "height": 499
    },
    "id": "l0q-TDsobZn9",
    "outputId": "2fc6a02b-c8e7-4e41-f306-6c9fab2199ce"
   },
   "outputs": [
    {
     "data": {
      "image/png": "[encoded data removed]",
      "text/plain": [
       "<Figure size 936x576 with 1 Axes>"
      ]
     },
     "metadata": {
      "needs_background": "light"
     },
     "output_type": "display_data"
    }
   ],
   "source": [
    "data['BeginDate'][churned_mask].hist(bins=100, label='Ушедшие', figsize=(13, 8))\n",
    "data['BeginDate'][~churned_mask].hist(bins=100, alpha=0.5, label='Действующие');\n",
    "plt.legend();\n",
    "plt.title('Распредение дат, когда клиенты начали сотрудничать с оператором');"
   ]
  },
  {
   "cell_type": "code",
   "execution_count": 49,
   "metadata": {
    "colab": {
     "base_uri": "https://localhost:8080/",
     "height": 281
    },
    "id": "u7DTOeADcb6h",
    "outputId": "b36b05f9-f2a2-4093-ca9f-35f677947df4"
   },
   "outputs": [
    {
     "data": {
      "image/png": "[encoded data removed]",
      "text/plain": [
       "<Figure size 432x288 with 1 Axes>"
      ]
     },
     "metadata": {
      "needs_background": "light"
     },
     "output_type": "display_data"
    }
   ],
   "source": [
    "plt.hist((pd.DatetimeIndex(data['BeginDate'][churned_mask]).month), bins=12, label='Ушедшие')\n",
    "plt.hist((pd.DatetimeIndex(data['BeginDate'][~churned_mask]).month), alpha=0.5, bins=12, label='Действующие')\n",
    "plt.legend()\n",
    "plt.grid()\n",
    "plt.title('Распредение месяцев, когда клиенты начали сотрудничать с оператором');"
   ]
  },
  {
   "cell_type": "markdown",
   "metadata": {
    "id": "Fnt4_baUdTwM"
   },
   "source": [
    "Похоже, что большинство клиентов, которые ушли - впервые начали сотрудничать с оператором связи в январе либо в декабре, в то время как пик притока действующих по ныне клиентов пришелся на апрель. Однако, это может быть лишь особенность данных. Нам дан слишком коротки период, чтобы делать вывод, что здесь присутствует кака-либо закономерность."
   ]
  },
  {
   "cell_type": "markdown",
   "metadata": {
    "id": "o2ohWr8C_i-X"
   },
   "source": [
    "### 2.7 Выделение целевой переменной. Обогащение данных новыми признаками."
   ]
  },
  {
   "cell_type": "code",
   "execution_count": 50,
   "metadata": {
    "id": "4KBSYZTZkwep"
   },
   "outputs": [],
   "source": [
    "# Выделим целевую переменную и сохраним ее столбец \"Churned\"\n",
    "data['Churned'] = data['EndDate'].notna().astype('int')"
   ]
  },
  {
   "cell_type": "code",
   "execution_count": 51,
   "metadata": {
    "id": "ydyBdUQbkh75"
   },
   "outputs": [],
   "source": [
    "# Заполним пропуски\n",
    "data['InternetService'] = data['InternetService'].fillna('Not used')\n",
    "data[['OnlineSecurity', 'OnlineBackup', 'DeviceProtection', 'TechSupport', 'StreamingTV', 'StreamingMovies', 'MultipleLines']] = \\\n",
    "data[['OnlineSecurity', 'OnlineBackup', 'DeviceProtection', 'TechSupport', 'StreamingTV', 'StreamingMovies', 'MultipleLines']].fillna(-1)"
   ]
  },
  {
   "cell_type": "markdown",
   "metadata": {
    "id": "E0Kc63DzNgGT"
   },
   "source": [
    "На основе исследовательского анализа данных было принято исключить следующие признаки из обучения: \n",
    "`CustomerID`, '`BeginDate`, `EndDate`, `TotalCharges`, `Gender`, `EndOrActualDate`\n"
   ]
  },
  {
   "cell_type": "code",
   "execution_count": 52,
   "metadata": {
    "id": "0azDaA5Tg_Qt"
   },
   "outputs": [],
   "source": [
    "# Сохраним признаки и таргет в переменные \"features\" и \"target\"\n",
    "features = data.drop(columns=['CustomerID', 'BeginDate', 'EndDate', 'TotalCharges', 'Gender', 'EndOrActualDate', 'Churned'])\n",
    "target = data['Churned']"
   ]
  },
  {
   "cell_type": "code",
   "execution_count": 53,
   "metadata": {
    "colab": {
     "base_uri": "https://localhost:8080/"
    },
    "id": "x8G3CY5omB3j",
    "outputId": "025b8840-9073-4061-8401-73b85a8aeb46",
    "scrolled": true
   },
   "outputs": [
    {
     "name": "stdout",
     "output_type": "stream",
     "text": [
      "<class 'pandas.core.frame.DataFrame'>\n",
      "Int64Index: 7043 entries, 0 to 7042\n",
      "Data columns (total 16 columns):\n",
      " #   Column            Non-Null Count  Dtype  \n",
      "---  ------            --------------  -----  \n",
      " 0   Type              7043 non-null   object \n",
      " 1   PaperlessBilling  7043 non-null   int64  \n",
      " 2   PaymentMethod     7043 non-null   object \n",
      " 3   MonthlyCharges    7043 non-null   float64\n",
      " 4   SeniorCitizen     7043 non-null   int64  \n",
      " 5   Partner           7043 non-null   int64  \n",
      " 6   Dependents        7043 non-null   int64  \n",
      " 7   InternetService   7043 non-null   object \n",
      " 8   OnlineSecurity    7043 non-null   float64\n",
      " 9   OnlineBackup      7043 non-null   float64\n",
      " 10  DeviceProtection  7043 non-null   float64\n",
      " 11  TechSupport       7043 non-null   float64\n",
      " 12  StreamingTV       7043 non-null   float64\n",
      " 13  StreamingMovies   7043 non-null   float64\n",
      " 14  MultipleLines     7043 non-null   float64\n",
      " 15  DaysWithCompany   7043 non-null   int64  \n",
      "dtypes: float64(8), int64(5), object(3)\n",
      "memory usage: 935.4+ KB\n"
     ]
    }
   ],
   "source": [
    "features.info()"
   ]
  },
  {
   "cell_type": "code",
   "execution_count": 54,
   "metadata": {
    "colab": {
     "base_uri": "https://localhost:8080/"
    },
    "id": "BA0F4M3Yr3eK",
    "outputId": "e7bfe7d5-637f-4c76-844d-73d9fa8d3dc1"
   },
   "outputs": [
    {
     "name": "stdout",
     "output_type": "stream",
     "text": [
      "train_features shape: (5634, 16)\n",
      "test_features shape: (1409, 16)\n",
      "train_target shape: (5634,)\n",
      "test_target shape: (1409,)\n"
     ]
    }
   ],
   "source": [
    "# Сделаем разделение на тренировочную и тестовую выборки\n",
    "train_features, test_features, train_target, test_target = train_test_split(features, target, stratify=target, test_size=0.2, random_state=0)\n",
    "\n",
    "for d, n in zip([train_features, test_features, train_target, test_target], ['train_features', 'test_features', 'train_target', 'test_target']):\n",
    "    print(n+' shape:', d.shape)"
   ]
  },
  {
   "cell_type": "markdown",
   "metadata": {
    "id": "Jl5o2cb7k-ZE"
   },
   "source": [
    "## 3. Моделирование зависимости оттока от заданных признаков"
   ]
  },
  {
   "cell_type": "markdown",
   "metadata": {
    "id": "vc1wv_SRouro"
   },
   "source": [
    "Будем решать задачу бинарной классификации. За критерий оценки качества модели возьмем метрику ROC-AUC. Причина выбора данной метрики состоит в том, что сотовому оператору не столько важно иметь бинарное предсказание того уйдет клиент в отток или останется, сколько понимать вероятность оттока клиента. \n",
    "\n",
    "Компании скорее интересно упорядочить клиентов по вероятности прекращения обслуживания и в зависимости от этого применять разные варианты удержания: кому-то прислать скидочный купон от партнёра, кому-то предложить скидку на следующий месяц, а кому-то и новый тариф на особых условиях.\n",
    "\n",
    "Таким образом, нам важна не метка сама по себе, а скорее правильный порядок на объектах. А AUC как раз таки и равен доле пар объектов вида (объект класса 1, объект класса 0), которые алгоритм верно упорядочил (т.е. предсказание классификатора на первом объекте будет больше)."
   ]
  },
  {
   "cell_type": "markdown",
   "metadata": {
    "id": "7WAOY6-2pDO9"
   },
   "source": [
    "Посмотрим на баланс классов:"
   ]
  },
  {
   "cell_type": "code",
   "execution_count": 55,
   "metadata": {
    "colab": {
     "base_uri": "https://localhost:8080/"
    },
    "id": "uQE-hkIqo6x2",
    "outputId": "7a07c1d9-f081-493b-85c0-76bc2ead4371"
   },
   "outputs": [
    {
     "data": {
      "text/plain": [
       "0    0.73463\n",
       "1    0.26537\n",
       "Name: Churned, dtype: float64"
      ]
     },
     "execution_count": 55,
     "metadata": {},
     "output_type": "execute_result"
    }
   ],
   "source": [
    "target.value_counts(normalize=True)"
   ]
  },
  {
   "cell_type": "markdown",
   "metadata": {
    "id": "7XyWp2BKpHPG"
   },
   "source": [
    "Классы не сбалансированы."
   ]
  },
  {
   "cell_type": "code",
   "execution_count": 56,
   "metadata": {
    "id": "7qlDlvP4u4dj"
   },
   "outputs": [],
   "source": [
    "# Зададим функцию, которая построит график ROC_AUC\n",
    "def roc_curve_plot(y_true, pred_probas, title='ROC-кривая', ax=None):\n",
    "    if isinstance(ax, type(None)):\n",
    "        fig, ax = plt.subplots(1, 1)\n",
    "        return_figaxes = True\n",
    "\n",
    "    probabilities_valid = pred_probas\n",
    "    fpr, tpr, thresholds = roc_curve(y_true, probabilities_valid)\n",
    "\n",
    "    \n",
    "    ax.step(fpr, tpr)\n",
    "    ax.set_xlabel('False Positive Rate')\n",
    "    ax.set_ylabel('True Positive Rate')\n",
    "    ax.set_ylim([0.0, 1.0])\n",
    "    ax.set_xlim([0.0, 1.0])\n",
    "    ax.set_title(title)\n",
    "    ax.grid()\n",
    "    if return_figaxes:\n",
    "        return fig, ax\n",
    "\n",
    "# Функция возрващает метрики классификации и строит график ROC AUC\n",
    "def show_metrics(y_true, y_pred, y_pred_proba):\n",
    "    print('ROC AUC', roc_auc_score(y_true, y_pred_proba))\n",
    "    print(classification_report(y_true, y_pred))\n",
    "    roc_curve_plot(y_true, y_pred_proba);"
   ]
  },
  {
   "cell_type": "code",
   "execution_count": 57,
   "metadata": {
    "id": "5DC6WFnZxzpu"
   },
   "outputs": [],
   "source": [
    "# Сохраним категориальные признаки в переменную \"cat_columns\"\n",
    "cat_columns = ['Type', 'PaymentMethod', 'InternetService']"
   ]
  },
  {
   "cell_type": "markdown",
   "metadata": {
    "id": "FMDr_DD1mXBL"
   },
   "source": [
    "### 3.1 Случайный лес"
   ]
  },
  {
   "cell_type": "code",
   "execution_count": 58,
   "metadata": {
    "id": "QCdIT6JKnuup"
   },
   "outputs": [],
   "source": [
    "# Подготовим данные для модели\n",
    "ord_encoder = OrdinalEncoder()\n",
    "rf = RandomForestClassifier(class_weight='balanced', random_state=0)\n",
    "\n",
    "ct = ColumnTransformer([(\"ord_encoder\", ord_encoder, cat_columns)], remainder='passthrough')\n",
    "rf_pipe = Pipeline([('preprocess',ct), ('estimator', rf)])"
   ]
  },
  {
   "cell_type": "code",
   "execution_count": 140,
   "metadata": {
    "id": "g22OCIRosX8j"
   },
   "outputs": [],
   "source": [
    "# Оценим качество модели на  5-fold кросс-валидации\n",
    "cv_preds = cross_val_predict(rf_pipe, train_features, train_target, cv=5)\n",
    "cv_pred_probas = cross_val_predict(rf_pipe, train_features, train_target, cv=5, method='predict_proba')"
   ]
  },
  {
   "cell_type": "code",
   "execution_count": 162,
   "metadata": {
    "colab": {
     "base_uri": "https://localhost:8080/",
     "height": 469
    },
    "id": "_gW4RnCPtOtm",
    "outputId": "0c26f769-ec0a-4741-f18b-4fc4a62c3b68"
   },
   "outputs": [
    {
     "name": "stdout",
     "output_type": "stream",
     "text": [
      "ROC AUC 0.7969821285577033\n",
      "              precision    recall  f1-score   support\n",
      "\n",
      "           0       0.81      0.89      0.85      4139\n",
      "           1       0.57      0.42      0.49      1495\n",
      "\n",
      "    accuracy                           0.76      5634\n",
      "   macro avg       0.69      0.66      0.67      5634\n",
      "weighted avg       0.75      0.76      0.75      5634\n",
      "\n"
     ]
    },
    {
     "data": {
      "image/png": "[encoded data removed]",
      "text/plain": [
       "<Figure size 432x288 with 1 Axes>"
      ]
     },
     "metadata": {
      "needs_background": "light"
     },
     "output_type": "display_data"
    }
   ],
   "source": [
    "show_metrics(train_target, cv_preds,cv_pred_probas[:, 1])"
   ]
  },
  {
   "cell_type": "markdown",
   "metadata": {},
   "source": [
    "Подберем гиперпараметры для модели и вновь  оценим ее качество на кросс-валидации."
   ]
  },
  {
   "cell_type": "code",
   "execution_count": 63,
   "metadata": {},
   "outputs": [],
   "source": [
    "param_grid = {'estimator__n_estimators': [100, 500, 1000],\n",
    "              'estimator__max_features': [\"sqrt\", \"log2\"],\n",
    "              'estimator__max_depth': [None, 10, 15, 30],\n",
    "              'estimator__min_samples_leaf': [1, 2, 5]}\n",
    "\n",
    "gsv = GridSearchCV(rf_pipe, param_grid, scoring='roc_auc', n_jobs=-1, cv=5)"
   ]
  },
  {
   "cell_type": "code",
   "execution_count": 64,
   "metadata": {},
   "outputs": [
    {
     "data": {
      "text/plain": [
       "GridSearchCV(cv=5,\n",
       "             estimator=Pipeline(steps=[('preprocess',\n",
       "                                        ColumnTransformer(remainder='passthrough',\n",
       "                                                          transformers=[('ord_encoder',\n",
       "                                                                         OrdinalEncoder(),\n",
       "                                                                         ['Type',\n",
       "                                                                          'PaymentMethod',\n",
       "                                                                          'InternetService'])])),\n",
       "                                       ('estimator',\n",
       "                                        RandomForestClassifier(class_weight='balanced',\n",
       "                                                               random_state=0))]),\n",
       "             n_jobs=-1,\n",
       "             param_grid={'estimator__max_depth': [None, 10, 15, 30],\n",
       "                         'estimator__max_features': ['sqrt', 'log2'],\n",
       "                         'estimator__min_samples_leaf': [1, 2, 5],\n",
       "                         'estimator__n_estimators': [100, 500, 1000]},\n",
       "             scoring='roc_auc')"
      ]
     },
     "execution_count": 64,
     "metadata": {},
     "output_type": "execute_result"
    }
   ],
   "source": [
    "gsv.fit(train_features, train_target)"
   ]
  },
  {
   "cell_type": "code",
   "execution_count": 66,
   "metadata": {},
   "outputs": [
    {
     "data": {
      "text/plain": [
       "{'estimator__max_depth': 10,\n",
       " 'estimator__max_features': 'sqrt',\n",
       " 'estimator__min_samples_leaf': 5,\n",
       " 'estimator__n_estimators': 500}"
      ]
     },
     "execution_count": 66,
     "metadata": {},
     "output_type": "execute_result"
    }
   ],
   "source": [
    "gsv.best_params_"
   ]
  },
  {
   "cell_type": "code",
   "execution_count": 65,
   "metadata": {
    "scrolled": false
   },
   "outputs": [
    {
     "data": {
      "text/plain": [
       "0.8235034490522132"
      ]
     },
     "execution_count": 65,
     "metadata": {},
     "output_type": "execute_result"
    }
   ],
   "source": [
    "gsv.best_score_"
   ]
  },
  {
   "cell_type": "code",
   "execution_count": 77,
   "metadata": {
    "scrolled": false
   },
   "outputs": [
    {
     "data": {
      "text/plain": [
       "0.005560984725091982"
      ]
     },
     "execution_count": 77,
     "metadata": {},
     "output_type": "execute_result"
    }
   ],
   "source": [
    "gsv.cv_results_['std_test_score'][gsv.best_index_]"
   ]
  },
  {
   "cell_type": "code",
   "execution_count": 79,
   "metadata": {},
   "outputs": [
    {
     "data": {
      "text/plain": [
       "Pipeline(steps=[('preprocess',\n",
       "                 ColumnTransformer(remainder='passthrough',\n",
       "                                   transformers=[('ord_encoder',\n",
       "                                                  OrdinalEncoder(),\n",
       "                                                  ['Type', 'PaymentMethod',\n",
       "                                                   'InternetService'])])),\n",
       "                ('estimator',\n",
       "                 RandomForestClassifier(class_weight='balanced', max_depth=10,\n",
       "                                        max_features='sqrt', min_samples_leaf=5,\n",
       "                                        n_estimators=500, random_state=0))])"
      ]
     },
     "execution_count": 79,
     "metadata": {},
     "output_type": "execute_result"
    }
   ],
   "source": [
    "# Подготовим данные для модели\n",
    "ord_encoder = OrdinalEncoder()\n",
    "rf_best = RandomForestClassifier(class_weight='balanced', random_state=0)\n",
    "\n",
    "ct = ColumnTransformer([(\"ord_encoder\", ord_encoder, cat_columns)], remainder='passthrough')\n",
    "rf_pipe_best = Pipeline([('preprocess', ct), ('estimator', rf_best)])\n",
    "rf_pipe_best.set_params(**gsv.best_params_)"
   ]
  },
  {
   "cell_type": "code",
   "execution_count": 80,
   "metadata": {
    "id": "g22OCIRosX8j"
   },
   "outputs": [],
   "source": [
    "# Оценим качество модели на  5-fold кросс-валидации\n",
    "cv_preds = cross_val_predict(rf_pipe_best, train_features, train_target, cv=5)\n",
    "cv_pred_probas = cross_val_predict(rf_pipe_best, train_features, train_target, cv=5, method='predict_proba')"
   ]
  },
  {
   "cell_type": "code",
   "execution_count": 81,
   "metadata": {
    "colab": {
     "base_uri": "https://localhost:8080/",
     "height": 469
    },
    "id": "_gW4RnCPtOtm",
    "outputId": "0c26f769-ec0a-4741-f18b-4fc4a62c3b68"
   },
   "outputs": [
    {
     "name": "stdout",
     "output_type": "stream",
     "text": [
      "ROC AUC 0.8233452734855091\n",
      "              precision    recall  f1-score   support\n",
      "\n",
      "           0       0.89      0.77      0.82      4139\n",
      "           1       0.53      0.74      0.62      1495\n",
      "\n",
      "    accuracy                           0.76      5634\n",
      "   macro avg       0.71      0.75      0.72      5634\n",
      "weighted avg       0.80      0.76      0.77      5634\n",
      "\n"
     ]
    },
    {
     "data": {
      "image/png": "[encoded data removed]",
      "text/plain": [
       "<Figure size 432x288 with 1 Axes>"
      ]
     },
     "metadata": {
      "needs_background": "light"
     },
     "output_type": "display_data"
    }
   ],
   "source": [
    "show_metrics(train_target, cv_preds,cv_pred_probas[:, 1])"
   ]
  },
  {
   "cell_type": "markdown",
   "metadata": {
    "id": "TvZ-PwOumdFd"
   },
   "source": [
    "### 3.2 Градиентный бустинг"
   ]
  },
  {
   "cell_type": "code",
   "execution_count": 82,
   "metadata": {
    "id": "5OXCz9H4mhZB"
   },
   "outputs": [],
   "source": [
    "cb = CatBoostClassifier(random_state=0)"
   ]
  },
  {
   "cell_type": "code",
   "execution_count": 83,
   "metadata": {
    "id": "I0UI9IwiyGKf"
   },
   "outputs": [],
   "source": [
    "# Подготовим данные для модели\n",
    "train_features_cb = train_features.copy()\n",
    "train_features_cb[cat_columns] = train_features_cb[cat_columns].astype('category')"
   ]
  },
  {
   "cell_type": "code",
   "execution_count": null,
   "metadata": {
    "id": "qtCPPCwKx15J"
   },
   "outputs": [],
   "source": [
    "# # Оценим качество модели на  5-fold кросс-валидации\n",
    "cv_preds = cross_val_predict(cb, train_features_cb, train_target, cv=5, fit_params={'cat_features': cat_columns})\n",
    "cv_pred_probas = cross_val_predict(cb, train_features_cb, train_target, cv=5, method='predict_proba', fit_params={'cat_features': cat_columns})"
   ]
  },
  {
   "cell_type": "code",
   "execution_count": 65,
   "metadata": {
    "colab": {
     "base_uri": "https://localhost:8080/",
     "height": 469
    },
    "id": "V6MDCGOozRUj",
    "outputId": "f73837b2-e4cd-4ddc-bfae-b9f7da4f73f9"
   },
   "outputs": [
    {
     "name": "stdout",
     "output_type": "stream",
     "text": [
      "ROC AUC 0.821866073672328\n",
      "              precision    recall  f1-score   support\n",
      "\n",
      "           0       0.83      0.88      0.86      4139\n",
      "           1       0.61      0.49      0.54      1495\n",
      "\n",
      "    accuracy                           0.78      5634\n",
      "   macro avg       0.72      0.69      0.70      5634\n",
      "weighted avg       0.77      0.78      0.77      5634\n",
      "\n"
     ]
    },
    {
     "data": {
      "image/png": "[encoded data removed]",
      "text/plain": [
       "<Figure size 432x288 with 1 Axes>"
      ]
     },
     "metadata": {
      "needs_background": "light"
     },
     "output_type": "display_data"
    }
   ],
   "source": [
    "show_metrics(train_target, cv_preds,cv_pred_probas[:, 1])"
   ]
  },
  {
   "cell_type": "markdown",
   "metadata": {},
   "source": [
    "Подберем гиперпараметры для модели и вновь  оценим ее качество на кросс-валидации."
   ]
  },
  {
   "cell_type": "code",
   "execution_count": 87,
   "metadata": {},
   "outputs": [],
   "source": [
    "param_grid = {'learning_rate': [1e-2, 1e-3, 1e-5],\n",
    "              'depth': [4, 6, 10],\n",
    "              'iterations': [600, 1000, 2000]}\n",
    "\n",
    "gsv = GridSearchCV(cb, param_grid, scoring='roc_auc', n_jobs=-1, cv=5)"
   ]
  },
  {
   "cell_type": "code",
   "execution_count": 95,
   "metadata": {},
   "outputs": [],
   "source": [
    "gsv.fit(train_features_cb, train_target, **{'cat_features': cat_columns})"
   ]
  },
  {
   "cell_type": "code",
   "execution_count": 90,
   "metadata": {},
   "outputs": [
    {
     "data": {
      "text/plain": [
       "{'depth': 4, 'iterations': 600, 'learning_rate': 0.01}"
      ]
     },
     "execution_count": 90,
     "metadata": {},
     "output_type": "execute_result"
    }
   ],
   "source": [
    "gsv.best_params_"
   ]
  },
  {
   "cell_type": "code",
   "execution_count": 96,
   "metadata": {},
   "outputs": [
    {
     "data": {
      "text/plain": [
       "0.8284271138760342"
      ]
     },
     "execution_count": 96,
     "metadata": {},
     "output_type": "execute_result"
    }
   ],
   "source": [
    "gsv.best_score_"
   ]
  },
  {
   "cell_type": "code",
   "execution_count": 97,
   "metadata": {
    "scrolled": true
   },
   "outputs": [
    {
     "data": {
      "text/plain": [
       "0.00812716443953036"
      ]
     },
     "execution_count": 97,
     "metadata": {},
     "output_type": "execute_result"
    }
   ],
   "source": [
    "gsv.cv_results_['std_test_score'][gsv.best_index_]"
   ]
  },
  {
   "cell_type": "code",
   "execution_count": 98,
   "metadata": {},
   "outputs": [
    {
     "data": {
      "text/plain": [
       "<catboost.core.CatBoostClassifier at 0x7fe017dc2e20>"
      ]
     },
     "execution_count": 98,
     "metadata": {},
     "output_type": "execute_result"
    }
   ],
   "source": [
    "cb_best = CatBoostClassifier(random_state=0, verbose=0)\n",
    "cb_best.set_params(**gsv.best_params_)"
   ]
  },
  {
   "cell_type": "code",
   "execution_count": 103,
   "metadata": {
    "id": "qtCPPCwKx15J"
   },
   "outputs": [],
   "source": [
    "# # Оценим качество модели на  5-fold кросс-валидации\n",
    "cv_preds = cross_val_predict(cb_best, train_features_cb, train_target, cv=5, fit_params={'cat_features': cat_columns})\n",
    "cv_pred_probas = cross_val_predict(cb_best, train_features_cb, train_target, cv=5, method='predict_proba', fit_params={'cat_features': cat_columns})"
   ]
  },
  {
   "cell_type": "code",
   "execution_count": 104,
   "metadata": {
    "colab": {
     "base_uri": "https://localhost:8080/",
     "height": 469
    },
    "id": "V6MDCGOozRUj",
    "outputId": "f73837b2-e4cd-4ddc-bfae-b9f7da4f73f9"
   },
   "outputs": [
    {
     "name": "stdout",
     "output_type": "stream",
     "text": [
      "ROC AUC 0.8277106340616747\n",
      "              precision    recall  f1-score   support\n",
      "\n",
      "           0       0.83      0.88      0.86      4139\n",
      "           1       0.61      0.51      0.56      1495\n",
      "\n",
      "    accuracy                           0.78      5634\n",
      "   macro avg       0.72      0.70      0.71      5634\n",
      "weighted avg       0.77      0.78      0.78      5634\n",
      "\n"
     ]
    },
    {
     "data": {
      "image/png": "[encoded data removed]",
      "text/plain": [
       "<Figure size 432x288 with 1 Axes>"
      ]
     },
     "metadata": {
      "needs_background": "light"
     },
     "output_type": "display_data"
    }
   ],
   "source": [
    "show_metrics(train_target, cv_preds, cv_pred_probas[:, 1])"
   ]
  },
  {
   "cell_type": "markdown",
   "metadata": {
    "id": "ag79SdPQmh1N"
   },
   "source": [
    "### 3.3 Нейронные сети"
   ]
  },
  {
   "cell_type": "code",
   "execution_count": 117,
   "metadata": {
    "id": "mrLwWxmmmj4m"
   },
   "outputs": [],
   "source": [
    "# Конструктор нейронной сети\n",
    "class Perceptron(torch.nn.Module):\n",
    "    @property\n",
    "    def device(self):\n",
    "        for p in self.parameters():\n",
    "            return p.device\n",
    "\n",
    "    def __init__(self, input_dim=20, num_layers=0, \n",
    "                 hidden_dim=64, output_dim=1, p=0.0, div=1):\n",
    "        super(Perceptron, self).__init__()\n",
    "        \n",
    "        self.layers = torch.nn.Sequential()\n",
    "        \n",
    "        prev_size = input_dim\n",
    "\n",
    "        # if num_layers > 1:\n",
    "        for i in range(num_layers):\n",
    "            if num_layers-1 != i:\n",
    "                self.layers.add_module('layer{}'.format(i), \n",
    "                                    torch.nn.Linear(prev_size, hidden_dim))\n",
    "                self.layers.add_module(f'batchnorm{i}', \n",
    "                                        torch.nn.BatchNorm1d(hidden_dim))\n",
    "                self.layers.add_module('relu{}'.format(i), torch.nn.ReLU())\n",
    "                self.layers.add_module('dropout{}'.format(i), torch.nn.Dropout(p=p))\n",
    "                prev_size = hidden_dim\n",
    "\n",
    "            if (div != 1) and (div != 0): \n",
    "                hidden_dim = hidden_dim // div\n",
    "\n",
    "        \n",
    "        self.layers.add_module('final_linear', \n",
    "                               torch.nn.Linear(prev_size, output_dim))  \n",
    "        self.layers.add_module(f'sigmoid', \n",
    "                                torch.nn.Sigmoid())  \n",
    "        \n",
    "    def forward(self, input):\n",
    "        return self.layers(input)\n",
    "\n",
    "# Функция для инициализации весов\n",
    "def init_weights(layer):\n",
    "    if type(layer) == torch.nn.Linear: # Проверка, что слой – полносвязный\n",
    "        torch.nn.init.xavier_normal_(layer.weight)\n",
    "\n",
    "\n",
    "\n",
    "# Класс для ранней остановки в ходе обучения модели\n",
    "class CustomEarlyStopping():\n",
    "    \"\"\"\n",
    "    Ранняя остановка, чтобы остановить тренировку, когда потеря не улучшается после определенной эпохи.\n",
    "    \"\"\"\n",
    "    def __init__(self, patience=10, min_delta=0.5):\n",
    "        \"\"\"\n",
    "        :param patience: сколько эпох ждать, прежде чем остановиться, когда потеря не улучшается\n",
    "        :param min_delta: минимальная разница между f1-метриками, если улучшений нет, то остановим обучение\n",
    "        \"\"\"\n",
    "        self.patience = patience\n",
    "        self.min_delta = min_delta\n",
    "        self.counter = 0\n",
    "        self.best_metric = None\n",
    "        self.early_stop = False\n",
    "\n",
    "    def __call__(self, val_metric):\n",
    "        if self.best_metric == None:\n",
    "            self.best_metric = val_metric\n",
    "        elif val_metric - self.best_metric > self.min_delta:\n",
    "            self.best_metric = val_metric\n",
    "            # reset counter if validation loss improves\n",
    "            self.counter = 0\n",
    "        elif val_metric - self.best_metric < self.min_delta:\n",
    "            self.counter += 1\n",
    "            print(f\"INFO: Early stopping counter {self.counter} of {self.patience}\")\n",
    "            if self.counter >= self.patience:\n",
    "                print('INFO: Early stopping')\n",
    "                self.early_stop = True\n",
    "\n",
    "# Класс для создания датасета\n",
    "class CustomDataset(Dataset):\n",
    "    def __init__(self, data, labels):\n",
    "        self.labels = labels\n",
    "        self.data = data\n",
    "\n",
    "    def __len__(self):\n",
    "        return len(self.labels)\n",
    "\n",
    "    def __getitem__(self, idx):\n",
    "        label = self.labels[idx]\n",
    "        data = self.data[idx]\n",
    "        sample = {\"data\": data, \"labels\": label}\n",
    "        return sample\n",
    "\n",
    "# Функция для обучения модели\n",
    "def trainer(model, datasettrain, datasetvalid, loss_function, optimizer, \n",
    "            epochs, check_val_metric, patience, min_delta, batch_size=64):\n",
    "\n",
    "    model.to(device)\n",
    "    early_stopping = CustomEarlyStopping(patience=patience, min_delta=min_delta)\n",
    "\n",
    "    val_X = datasetvalid.data\n",
    "    val_y = datasetvalid.labels\n",
    "    train_dataloader = DataLoader(datasettrain, batch_size=batch_size, shuffle=True, drop_last=True)\n",
    "  \n",
    "  # Обучаем модель заданное количество эпох\n",
    "    for epoch in notebook.tqdm(range(epochs)):\n",
    "        for batch in train_dataloader:\n",
    "            batch_X = batch['data'].to(device)\n",
    "            batch_y = batch['labels'].to(device)\n",
    "\n",
    "            optimizer.zero_grad()\n",
    "\n",
    "            predictions = model.forward(batch_X).flatten()\n",
    "            train_loss = loss_function(predictions, batch_y)\n",
    "\n",
    "            train_loss.backward()\n",
    "            optimizer.step()\n",
    "\n",
    "        # Проверяем качество на валидационной выборке\n",
    "        model.eval()\n",
    "        val_pred = model.forward(val_X.to(device)).flatten()\n",
    "        auc = roc_auc_score(val_y.cpu().numpy(), val_pred.cpu().detach().numpy())\n",
    "\n",
    "        early_stopping(auc)\n",
    "        if early_stopping.early_stop:\n",
    "            print('Early Stoppning!!!')\n",
    "            break\n",
    "\n",
    "        # Выводим метрики на экран каждые \"check_val_metric\" эпох\n",
    "        if check_val_metric != 0 and (epoch % check_val_metric == 0 or epoch == epochs - 1):\n",
    "            print(epoch)\n",
    "            print('train_loss_BCE=', train_loss.cpu().detach().numpy()) \n",
    "            print('test_AUC=', auc)\n",
    "\n",
    "        torch.cuda.empty_cache()\n",
    "    return auc, val_pred.cpu().detach().numpy()\n",
    "\n",
    "\n",
    "# Функция, которая обучает нейронную сеть на всех данных\n",
    "def train_no_validation(model, datasetfull, loss_function, optimizer, \n",
    "                        epochs, batch_size=64):\n",
    "    model.to(device)\n",
    "    train_dataloader = DataLoader(datasetfull, batch_size=batch_size, shuffle=True, drop_last=True)\n",
    "    \n",
    "    # Обучаем модель заданное количество эпох\n",
    "    for epoch in notebook.tqdm(range(epochs)):\n",
    "        for batch in train_dataloader:\n",
    "            batch_X = batch['data'].to(device)\n",
    "            batch_y = batch['labels'].to(device)\n",
    "\n",
    "            optimizer.zero_grad()\n",
    "\n",
    "            predictions = model.forward(batch_X).flatten()\n",
    "            train_loss = loss_function(predictions, batch_y)\n",
    "\n",
    "            train_loss.backward()\n",
    "            optimizer.step()"
   ]
  },
  {
   "cell_type": "code",
   "execution_count": 79,
   "metadata": {
    "id": "QRK4n2IuBLt6"
   },
   "outputs": [],
   "source": [
    "# Числовые признаки, которые необходимо масштабировать\n",
    "columns_to_scale = ['MonthlyCharges', 'DaysWithCompany']"
   ]
  },
  {
   "cell_type": "code",
   "execution_count": 80,
   "metadata": {
    "id": "8W203wyDAknQ"
   },
   "outputs": [],
   "source": [
    "ohe = OneHotEncoder(drop='first')\n",
    "scaler = StandardScaler()\n",
    "ct = ColumnTransformer([(\"ohe\", ohe, cat_columns), \n",
    "                        (\"scaler\", scaler, columns_to_scale)], remainder='passthrough')"
   ]
  },
  {
   "cell_type": "code",
   "execution_count": 86,
   "metadata": {
    "colab": {
     "base_uri": "https://localhost:8080/"
    },
    "id": "2ddrbMiFDrNz",
    "outputId": "c36e644e-9bd6-4e0e-dd28-b6361cf3bb9b"
   },
   "outputs": [
    {
     "name": "stdout",
     "output_type": "stream",
     "text": [
      "train_X shape: (4507, 16)\n",
      "train_y shape: (4507,)\n",
      "val_X shape: (1127, 16)\n",
      "val_y shape: (1127,)\n"
     ]
    }
   ],
   "source": [
    "train_X, val_X, train_y, val_y = train_test_split(train_features, train_target, test_size=0.2, stratify=train_target, random_state=0)\n",
    "\n",
    "for d, n in zip([train_X, train_y, val_X, val_y], ['train_X', 'train_y', 'val_X', 'val_y']):\n",
    "    print(n+' shape:', d.shape)"
   ]
  },
  {
   "cell_type": "code",
   "execution_count": 88,
   "metadata": {
    "colab": {
     "base_uri": "https://localhost:8080/"
    },
    "id": "09_l5IG9EGom",
    "outputId": "45b974fd-cfd3-4058-dd0b-55e051b3c80d"
   },
   "outputs": [
    {
     "name": "stdout",
     "output_type": "stream",
     "text": [
      "train_X shape: (4507, 20)\n",
      "val_X shape: (1127, 20)\n"
     ]
    }
   ],
   "source": [
    "train_X = ct.fit_transform(train_X)\n",
    "val_X = ct.transform(val_X)\n",
    "\n",
    "for d, n in zip([train_X, val_X], ['train_X', 'val_X']):\n",
    "    print(n+' shape:', d.shape)"
   ]
  },
  {
   "cell_type": "code",
   "execution_count": 176,
   "metadata": {
    "id": "W2pW_TcIKjod"
   },
   "outputs": [],
   "source": [
    "dataset_train = CustomDataset(torch.FloatTensor(train_X), torch.FloatTensor(train_y.values))\n",
    "dataset_valid = CustomDataset(torch.FloatTensor(val_X), torch.FloatTensor(val_y.values))"
   ]
  },
  {
   "cell_type": "code",
   "execution_count": 177,
   "metadata": {
    "colab": {
     "base_uri": "https://localhost:8080/"
    },
    "id": "y3cvMS35_9cF",
    "outputId": "2b6ff644-c56c-4ea5-a081-f841a0e7e0d5"
   },
   "outputs": [
    {
     "data": {
      "text/plain": [
       "Perceptron(\n",
       "  (layers): Sequential(\n",
       "    (layer0): Linear(in_features=20, out_features=10, bias=True)\n",
       "    (batchnorm0): BatchNorm1d(10, eps=1e-05, momentum=0.1, affine=True, track_running_stats=True)\n",
       "    (relu0): ReLU()\n",
       "    (dropout0): Dropout(p=0.8, inplace=False)\n",
       "    (final_linear): Linear(in_features=10, out_features=1, bias=True)\n",
       "    (sigmoid): Sigmoid()\n",
       "  )\n",
       ")"
      ]
     },
     "execution_count": 177,
     "metadata": {},
     "output_type": "execute_result"
    }
   ],
   "source": [
    "model = Perceptron(input_dim=20, num_layers=2, hidden_dim=10, output_dim=1, p=0.8, div=2)\n",
    "model.apply(init_weights)"
   ]
  },
  {
   "cell_type": "code",
   "execution_count": 178,
   "metadata": {
    "colab": {
     "base_uri": "https://localhost:8080/",
     "height": 1000,
     "referenced_widgets": [
      "561513acd18a44feba7d5c0ca0ce9ba9",
      "d195d04e425f4360b269a4aa933cdecd",
      "91184108805944a3baddebefbdd15c2c",
      "d36a11544491438fa01b2fa37370c6d1",
      "1f19bfd9f8a34492862b34ed396b64a4",
      "25eff5bcd9e44b8e872722133110cdf8",
      "64355aa098f24482af379c6a13ee5470",
      "aa864a2aa417452e864bd33294069fed",
      "fcd11d650eed491db7ad9034268a8fbc",
      "27305e9222994104ba559520232139dc",
      "bef90220f654430c8197e3ba8c3d48a4"
     ]
    },
    "id": "QEKGnC-eEWeZ",
    "outputId": "9bad2997-7624-4587-a420-608854eecfe8"
   },
   "outputs": [
    {
     "data": {
      "application/vnd.jupyter.widget-view+json": {
       "model_id": "561513acd18a44feba7d5c0ca0ce9ba9",
       "version_major": 2,
       "version_minor": 0
      },
      "text/plain": [
       "  0%|          | 0/100 [00:00<?, ?it/s]"
      ]
     },
     "metadata": {},
     "output_type": "display_data"
    },
    {
     "name": "stdout",
     "output_type": "stream",
     "text": [
      "0\n",
      "train_loss_BCE= 1.3286431\n",
      "test_AUC= 0.466862165349878\n",
      "1\n",
      "train_loss_BCE= 0.8082899\n",
      "test_AUC= 0.5864435396571502\n",
      "2\n",
      "train_loss_BCE= 0.6543217\n",
      "test_AUC= 0.6499119448079751\n",
      "3\n",
      "train_loss_BCE= 0.57040954\n",
      "test_AUC= 0.6769061121613107\n",
      "4\n",
      "train_loss_BCE= 0.61218333\n",
      "test_AUC= 0.6981282212851211\n",
      "5\n",
      "train_loss_BCE= 0.51283705\n",
      "test_AUC= 0.718086051734445\n",
      "6\n",
      "train_loss_BCE= 0.5213677\n",
      "test_AUC= 0.7358344239251611\n",
      "7\n",
      "train_loss_BCE= 0.554718\n",
      "test_AUC= 0.7492487034074935\n",
      "8\n",
      "train_loss_BCE= 0.4518935\n",
      "test_AUC= 0.7621096085179261\n",
      "9\n",
      "train_loss_BCE= 0.4474348\n",
      "test_AUC= 0.7728822322395101\n",
      "10\n",
      "train_loss_BCE= 0.45644364\n",
      "test_AUC= 0.7811343770701048\n",
      "11\n",
      "train_loss_BCE= 0.52738845\n",
      "test_AUC= 0.7882716946989159\n",
      "12\n",
      "train_loss_BCE= 0.4795372\n",
      "test_AUC= 0.7941366551952562\n",
      "13\n",
      "train_loss_BCE= 0.42657915\n",
      "test_AUC= 0.799173573748243\n",
      "14\n",
      "train_loss_BCE= 0.45448416\n",
      "test_AUC= 0.8044366891247798\n",
      "15\n",
      "train_loss_BCE= 0.5060726\n",
      "test_AUC= 0.8078377199360187\n",
      "16\n",
      "train_loss_BCE= 0.5500256\n",
      "test_AUC= 0.8121354595834747\n",
      "17\n",
      "train_loss_BCE= 0.50460553\n",
      "test_AUC= 0.8150194690837413\n",
      "18\n",
      "train_loss_BCE= 0.48467463\n",
      "test_AUC= 0.8174349280209394\n",
      "19\n",
      "train_loss_BCE= 0.42990026\n",
      "test_AUC= 0.8202381529413666\n",
      "20\n",
      "train_loss_BCE= 0.44049704\n",
      "test_AUC= 0.8230575347777617\n",
      "INFO: Early stopping counter 1 of 5\n",
      "21\n",
      "train_loss_BCE= 0.5248017\n",
      "test_AUC= 0.823550320714782\n",
      "22\n",
      "train_loss_BCE= 0.5122143\n",
      "test_AUC= 0.8252750714943531\n",
      "23\n",
      "train_loss_BCE= 0.5333842\n",
      "test_AUC= 0.826652448580615\n",
      "INFO: Early stopping counter 1 of 5\n",
      "24\n",
      "train_loss_BCE= 0.4252836\n",
      "test_AUC= 0.8276178243096958\n",
      "25\n",
      "train_loss_BCE= 0.5135769\n",
      "test_AUC= 0.8292294766774917\n",
      "INFO: Early stopping counter 1 of 5\n",
      "26\n",
      "train_loss_BCE= 0.4036033\n",
      "test_AUC= 0.8295930072867691\n",
      "INFO: Early stopping counter 2 of 5\n",
      "27\n",
      "train_loss_BCE= 0.35210106\n",
      "test_AUC= 0.830154460116653\n",
      "28\n",
      "train_loss_BCE= 0.42376986\n",
      "test_AUC= 0.8305826183898017\n",
      "29\n",
      "train_loss_BCE= 0.45379943\n",
      "test_AUC= 0.831636857156706\n",
      "INFO: Early stopping counter 1 of 5\n",
      "30\n",
      "train_loss_BCE= 0.36131752\n",
      "test_AUC= 0.8319236424151357\n",
      "INFO: Early stopping counter 2 of 5\n",
      "31\n",
      "train_loss_BCE= 0.43834788\n",
      "test_AUC= 0.8322225453605416\n",
      "32\n",
      "train_loss_BCE= 0.49336213\n",
      "test_AUC= 0.8330748226778474\n",
      "INFO: Early stopping counter 1 of 5\n",
      "33\n",
      "train_loss_BCE= 0.44909677\n",
      "test_AUC= 0.8330263519299437\n",
      "INFO: Early stopping counter 2 of 5\n",
      "34\n",
      "train_loss_BCE= 0.4246808\n",
      "test_AUC= 0.8336080009047871\n",
      "INFO: Early stopping counter 3 of 5\n",
      "35\n",
      "train_loss_BCE= 0.39307138\n",
      "test_AUC= 0.833515098637972\n",
      "INFO: Early stopping counter 4 of 5\n",
      "36\n",
      "train_loss_BCE= 0.47204494\n",
      "test_AUC= 0.8338786292472494\n",
      "INFO: Early stopping counter 5 of 5\n",
      "INFO: Early stopping\n",
      "Early Stoppning!!!\n"
     ]
    }
   ],
   "source": [
    "auc_nn, val_pred = trainer(model=model,\n",
    "                 datasettrain=dataset_train,\n",
    "                 datasetvalid=dataset_valid,\n",
    "                 loss_function=torch.nn.BCELoss(),\n",
    "                 optimizer=torch.optim.Adam(model.parameters(), lr=1e-3), \n",
    "                 epochs=100,\n",
    "                 check_val_metric=1,\n",
    "                 patience=5,\n",
    "                 min_delta=0.001,\n",
    "                 batch_size=128)"
   ]
  },
  {
   "cell_type": "code",
   "execution_count": 199,
   "metadata": {
    "colab": {
     "base_uri": "https://localhost:8080/",
     "height": 469
    },
    "id": "Pe3bU0c7Lapb",
    "outputId": "0958924e-fb6b-4969-9def-5778ca7472a3"
   },
   "outputs": [
    {
     "name": "stdout",
     "output_type": "stream",
     "text": [
      "ROC AUC 0.8337534131484982\n",
      "              precision    recall  f1-score   support\n",
      "\n",
      "         0.0       0.83      0.88      0.86       828\n",
      "         1.0       0.62      0.52      0.56       299\n",
      "\n",
      "    accuracy                           0.79      1127\n",
      "   macro avg       0.73      0.70      0.71      1127\n",
      "weighted avg       0.78      0.79      0.78      1127\n",
      "\n"
     ]
    },
    {
     "data": {
      "image/png": "[encoded data removed]",
      "text/plain": [
       "<Figure size 432x288 with 1 Axes>"
      ]
     },
     "metadata": {
      "needs_background": "light"
     },
     "output_type": "display_data"
    }
   ],
   "source": [
    "show_metrics(dataset_valid.labels.numpy(), val_pred > 0.5, val_pred)"
   ]
  },
  {
   "cell_type": "markdown",
   "metadata": {
    "id": "PtUYoWy6T-9L"
   },
   "source": [
    "### 3.4 Резюме"
   ]
  },
  {
   "cell_type": "markdown",
   "metadata": {
    "id": "ifIy55vIUc9R"
   },
   "source": [
    "В ходе проверки моделей, были получены следующие результаты:  \n",
    "\n",
    "|Модель|ROC AUC|Accuracy|F1|\n",
    "|--|--|--|--|\n",
    "|Случайный лес|0.82|0.76|0.62|  \n",
    "|Градиентный бустинг|0.83|0.78|0.56| \n",
    "|Нейронная сеть|0.83|0.79|0.56|   \n",
    "\n",
    "В качестве финальной модели будет взята модель случайного леса, так как ее качество лишь незначительно хуже чем качество нейронной сети, но при этом она интерпретируема и более проста, а также в отличие от градиентного бустинга смогла распознать более 70% объектов положительного класса при пороге классификатора в 0.5."
   ]
  },
  {
   "cell_type": "markdown",
   "metadata": {
    "id": "g_DaENENWp1W"
   },
   "source": [
    "## 4 Тестирование модели"
   ]
  },
  {
   "cell_type": "markdown",
   "metadata": {
    "id": "w1YfXDUqYxT6"
   },
   "source": [
    "### 4.1 Оценка качества работы случайного леса на тестовых данных"
   ]
  },
  {
   "cell_type": "code",
   "execution_count": 105,
   "metadata": {
    "id": "n_srI6fFW14q"
   },
   "outputs": [
    {
     "data": {
      "text/plain": [
       "Pipeline(steps=[('preprocess',\n",
       "                 ColumnTransformer(remainder='passthrough',\n",
       "                                   transformers=[('ord_encoder',\n",
       "                                                  OrdinalEncoder(),\n",
       "                                                  ['Type', 'PaymentMethod',\n",
       "                                                   'InternetService'])])),\n",
       "                ('estimator',\n",
       "                 RandomForestClassifier(class_weight='balanced', max_depth=10,\n",
       "                                        max_features='sqrt', min_samples_leaf=5,\n",
       "                                        n_estimators=500, random_state=0))])"
      ]
     },
     "execution_count": 105,
     "metadata": {},
     "output_type": "execute_result"
    }
   ],
   "source": [
    "# Подготовим данные для модели\n",
    "ord_encoder = OrdinalEncoder()\n",
    "rf_best = RandomForestClassifier(class_weight='balanced', random_state=0)\n",
    "\n",
    "ct = ColumnTransformer([(\"ord_encoder\", ord_encoder, cat_columns)], remainder='passthrough')\n",
    "rf_pipe_best = Pipeline([('preprocess', ct), ('estimator', rf_best)])\n",
    "\n",
    "best_params = {'estimator__max_depth': 10,\n",
    "               'estimator__max_features': 'sqrt',\n",
    "               'estimator__min_samples_leaf': 5,\n",
    "               'estimator__n_estimators': 500}\n",
    "\n",
    "rf_pipe_best.set_params(**best_params)"
   ]
  },
  {
   "cell_type": "code",
   "execution_count": 140,
   "metadata": {
    "id": "NR1cPNqNXES7"
   },
   "outputs": [
    {
     "data": {
      "text/plain": [
       "Pipeline(steps=[('preprocess',\n",
       "                 ColumnTransformer(remainder='passthrough',\n",
       "                                   transformers=[('ord_encoder',\n",
       "                                                  OrdinalEncoder(),\n",
       "                                                  ['Type', 'PaymentMethod',\n",
       "                                                   'InternetService'])])),\n",
       "                ('estimator',\n",
       "                 RandomForestClassifier(class_weight='balanced', max_depth=10,\n",
       "                                        max_features='sqrt', min_samples_leaf=5,\n",
       "                                        n_estimators=500, random_state=0))])"
      ]
     },
     "execution_count": 140,
     "metadata": {},
     "output_type": "execute_result"
    }
   ],
   "source": [
    "rf_pipe_best.fit(train_features, train_target)"
   ]
  },
  {
   "cell_type": "code",
   "execution_count": 141,
   "metadata": {
    "id": "ff2wJf7iXU7g"
   },
   "outputs": [],
   "source": [
    "test_preds = rf_pipe_best.predict(test_features)\n",
    "test_pred_probas = rf_pipe_best.predict_proba(test_features)"
   ]
  },
  {
   "cell_type": "code",
   "execution_count": 143,
   "metadata": {
    "colab": {
     "base_uri": "https://localhost:8080/",
     "height": 469
    },
    "id": "0FfW3g2OW14r",
    "outputId": "0776e82f-28e9-4402-d9c5-293b2ef3d526"
   },
   "outputs": [
    {
     "name": "stdout",
     "output_type": "stream",
     "text": [
      "ROC AUC 0.8211772456017981\n",
      "              precision    recall  f1-score   support\n",
      "\n",
      "           0       0.88      0.76      0.82      1035\n",
      "           1       0.52      0.72      0.61       374\n",
      "\n",
      "    accuracy                           0.75      1409\n",
      "   macro avg       0.70      0.74      0.71      1409\n",
      "weighted avg       0.79      0.75      0.76      1409\n",
      "\n"
     ]
    },
    {
     "data": {
      "image/png": "[encoded data removed]",
      "text/plain": [
       "<Figure size 432x288 with 1 Axes>"
      ]
     },
     "metadata": {
      "needs_background": "light"
     },
     "output_type": "display_data"
    }
   ],
   "source": [
    "show_metrics(test_target, test_preds, test_pred_probas[:, 1])"
   ]
  },
  {
   "cell_type": "markdown",
   "metadata": {
    "id": "euX-qNIHYnZn"
   },
   "source": [
    "Посмотрим на матрицу ошибок."
   ]
  },
  {
   "cell_type": "code",
   "execution_count": 144,
   "metadata": {
    "colab": {
     "base_uri": "https://localhost:8080/",
     "height": 279
    },
    "id": "dWmfK0aJXne8",
    "outputId": "ffc98843-46de-4cf6-abb1-f9e66aa5c205"
   },
   "outputs": [
    {
     "data": {
      "image/png": "[encoded data removed]",
      "text/plain": [
       "<Figure size 432x288 with 2 Axes>"
      ]
     },
     "metadata": {
      "needs_background": "light"
     },
     "output_type": "display_data"
    }
   ],
   "source": [
    "cm = confusion_matrix(test_target, test_preds, labels=cb.classes_)\n",
    "disp = ConfusionMatrixDisplay(confusion_matrix=cm, display_labels=cb.classes_)\n",
    "disp.plot()\n",
    "plt.show()"
   ]
  },
  {
   "cell_type": "markdown",
   "metadata": {
    "id": "EmjvehuHLbXW"
   },
   "source": [
    "На матрице ошибок видно, что из всех объектов положительного класса наш алгоритм верно определил более чем две трети. При этом, среди всех объектов, которые наш алгоритм отнес к положительному классу, он оказался прав лишь в чуть больше чем 50% случаев."
   ]
  },
  {
   "cell_type": "markdown",
   "metadata": {
    "id": "ApUX3LPoGGok"
   },
   "source": [
    "В нашей выборке 73% объектов обладают классом 0. Это означает, что если мы всегда будем предсказывать негативный класс, то будем правы в 73% случаев. Таким образом Accuracy 75% говорит о том, что нам хоть и ненамного, но удалось улучшить результат случайной модели.  \n",
    "Однако, что гораздо более важно для нас, показатель ROC AUC равен 82%. Это означает, что 82% пар объектов вида (объект класса 1, объект класса 0), наш алгоритм верно упорядочил, т.е. предсказание классификатора на объекте положительного класса будут выше, нежели на объекте негативного класса. "
   ]
  },
  {
   "cell_type": "markdown",
   "metadata": {
    "id": "BkXXDnLHY1n1"
   },
   "source": [
    "### 4.2 Интерпретация модели Случайного леса"
   ]
  },
  {
   "cell_type": "code",
   "execution_count": 131,
   "metadata": {},
   "outputs": [],
   "source": [
    "feature_names = cat_columns + [el for el in list(test_features.columns) if el not in cat_columns]"
   ]
  },
  {
   "cell_type": "code",
   "execution_count": 132,
   "metadata": {
    "colab": {
     "base_uri": "https://localhost:8080/",
     "height": 553
    },
    "id": "kZHWcYbVadkz",
    "outputId": "7c94110c-ec89-4757-b9dd-33b4ba1dc073"
   },
   "outputs": [
    {
     "data": {
      "image/png": "[encoded data removed]",
      "text/plain": [
       "<Figure size 576x648 with 1 Axes>"
      ]
     },
     "metadata": {
      "needs_background": "light"
     },
     "output_type": "display_data"
    }
   ],
   "source": [
    "feature_importance_plot(rf_pipe_best['estimator'].feature_importances_, feature_names)"
   ]
  },
  {
   "cell_type": "markdown",
   "metadata": {
    "id": "XGLAtrW3iIoj"
   },
   "source": [
    "Наибольший вклад в предсказания модели вносят такие признаки как:\n",
    "- `Type` - тип оплаты\n",
    "- `MonthlyCharges` - размер ежемесячной оплаты: те клиенты, у которых более высокая оплата, с большей вероятностью уходят в отток.\n",
    "- `DaysWithCompany` - количество дней, которое клиент провел с компанией"
   ]
  },
  {
   "cell_type": "markdown",
   "metadata": {
    "id": "wtTOOzmZjqxD"
   },
   "source": [
    "По каждому типу оплаты посмотрим на соотношение ушедших и действующих пользователей:"
   ]
  },
  {
   "cell_type": "code",
   "execution_count": 267,
   "metadata": {
    "colab": {
     "base_uri": "https://localhost:8080/"
    },
    "id": "Qo0bcAfijxrr",
    "outputId": "84266dfc-0f59-489d-e958-f1ffcc93086c"
   },
   "outputs": [
    {
     "name": "stdout",
     "output_type": "stream",
     "text": [
      "Two year: 0.02831858407079646\n",
      "Month-to-month: 0.4270967741935484\n",
      "One year: 0.11269517990495587\n"
     ]
    }
   ],
   "source": [
    "for type_ in data['Type'].unique():\n",
    "    print(type_+':', data[data['Type'] == type_]['Churned'].mean())"
   ]
  },
  {
   "cell_type": "markdown",
   "metadata": {
    "id": "Jkut3mH7kcrx"
   },
   "source": [
    "Наибольший процент ушедших клиентов находится среди тех, кто выбрал помесячную оплату."
   ]
  },
  {
   "cell_type": "markdown",
   "metadata": {
    "id": "kRqUJ1Y9kj9m"
   },
   "source": [
    "Посмотрим среднее количество ушедших клиентов в зависмости от количества дней работы с компанией:"
   ]
  },
  {
   "cell_type": "code",
   "execution_count": 310,
   "metadata": {
    "colab": {
     "base_uri": "https://localhost:8080/",
     "height": 334
    },
    "id": "wmhhzocKlgQU",
    "outputId": "2e3ff911-ee7e-4fc0-a1a8-1210e1c1b4f4"
   },
   "outputs": [
    {
     "data": {
      "image/png": "[encoded data removed]",
      "text/plain": [
       "<Figure size 576x360 with 1 Axes>"
      ]
     },
     "metadata": {
      "needs_background": "light"
     },
     "output_type": "display_data"
    }
   ],
   "source": [
    "tbl = data.groupby('DaysWithCompany')['Churned'].mean().reset_index()\n",
    "\n",
    "plt.figure(figsize=(8, 5))\n",
    "sns.scatterplot(x=tbl['DaysWithCompany'], y=tbl['Churned']);\n",
    "plt.grid()\n",
    "plt.ylabel('Доля ушедших клиентов')\n",
    "plt.xlabel('Количество дней работы с компанией');"
   ]
  },
  {
   "cell_type": "markdown",
   "metadata": {
    "id": "q0Sg8XzhpsGG"
   },
   "source": [
    "В данном случае интерпетировать зависимость достаточно сложно. Скорее всего данный признак следует рассматривать вкупе с другими признаками."
   ]
  },
  {
   "cell_type": "markdown",
   "metadata": {
    "id": "HNsE2OP_2kA5"
   },
   "source": [
    "## 5 Вывод"
   ]
  },
  {
   "cell_type": "markdown",
   "metadata": {
    "id": "FuIXXcP52pXa"
   },
   "source": [
    "Задача данного проекта состояла в том, чтобы научиться прогнозировать отток клиентов.  \n",
    "В ходе проекта был проведен исследовательский анализ данных. После проведения исследовательского анализа, был произведен отбор признаков, которые примут участие в дальнейшем обучении моделей. Затем для прогнозирования оттока клиентов была проведена оценка качества работы следующих моделей машинного обучения:  \n",
    "- Случайный лес\n",
    "- Градиентный бустинг\n",
    "- Нейронная сеть\n",
    "\n",
    "Были получены следующие результаты:  \n",
    "\n",
    "|Модель|ROC AUC|Accuracy|F1|\n",
    "|--|--|--|--|\n",
    "|Случайный лес|0.82|0.76|0.62|  \n",
    "|Градиентный бустинг|0.83|0.78|0.56| \n",
    "|Нейронная сеть|0.83|0.79|0.56|   \n",
    "\n",
    "В качестве финальной модели было принято решение использовать модель случайного леса,  так как она проще, более интрепретируема, а также не сильно уступает нейронной сети в качестве, и в отличие от модели градиентного бустинга, смогла охватить более 70% объектов положительного класса при пороге классификатора в 0.5.\n",
    "\n",
    "Затем, работа случайного леса была проверена на тестовом наборе данных. Качество ROC AUC, которое удалось получить на тестовой выборке составило 0.82.  \n",
    "Затем, предсказания модели были проинтерпретированы. Признаками, которые внесли наибольший вклад в предсказания модели, оказались:  \n",
    "- `Type` - тип оплаты (наибольший процент ушедших клиентов находится среди тех, кто выбрал помесячную оплату)\n",
    "- `DaysWithCompany` - количество дней, которое клиент провел с компанией\n",
    "- `MonthlyCharges` - размер ежемесячной оплаты (те клиенты, у которых более высокая оплата, с большей вероятностью уходят в отток).\n",
    "\n",
    "Также в качестве рекомендации стоит добавить, что если мобильный оператор решит использовать некий порог для отсечения пользователей которым стоит предлагать промоакции в целях удержания, и при этом постараться максимально охватить пользователей, подверженных риску ухода, порог  стоит выбирать ниже 0.5, возможно, расссмотреть диапазон 0.2-0.4. \n",
    "\n",
    "\n"
   ]
  }
 ],
 "metadata": {
  "ExecuteTimeLog": [
   {
    "duration": 13,
    "start_time": "2022-11-28T11:52:52.101Z"
   },
   {
    "duration": 29,
    "start_time": "2022-11-28T11:52:54.832Z"
   },
   {
    "duration": 6221,
    "start_time": "2022-11-28T16:07:28.717Z"
   },
   {
    "duration": 3631,
    "start_time": "2022-11-28T16:07:34.941Z"
   },
   {
    "duration": 9,
    "start_time": "2022-11-28T16:07:38.574Z"
   },
   {
    "duration": 5847,
    "start_time": "2022-11-28T16:07:38.585Z"
   },
   {
    "duration": 412,
    "start_time": "2022-11-28T16:07:44.434Z"
   },
   {
    "duration": 5,
    "start_time": "2022-11-28T16:07:44.848Z"
   },
   {
    "duration": 274,
    "start_time": "2022-11-28T16:07:44.854Z"
   },
   {
    "duration": 256,
    "start_time": "2022-11-28T16:07:45.130Z"
   },
   {
    "duration": 130,
    "start_time": "2022-11-28T16:07:45.388Z"
   },
   {
    "duration": 8,
    "start_time": "2022-11-28T16:07:45.520Z"
   },
   {
    "duration": 13,
    "start_time": "2022-11-28T16:07:45.529Z"
   },
   {
    "duration": 104,
    "start_time": "2022-11-28T16:07:45.543Z"
   },
   {
    "duration": 7,
    "start_time": "2022-11-28T16:07:45.649Z"
   },
   {
    "duration": 9,
    "start_time": "2022-11-28T16:07:45.658Z"
   },
   {
    "duration": 12,
    "start_time": "2022-11-28T16:07:45.669Z"
   },
   {
    "duration": 90,
    "start_time": "2022-11-28T16:07:45.683Z"
   },
   {
    "duration": 6,
    "start_time": "2022-11-28T16:07:45.774Z"
   },
   {
    "duration": 16,
    "start_time": "2022-11-28T16:07:45.781Z"
   },
   {
    "duration": 32,
    "start_time": "2022-11-28T16:07:45.799Z"
   },
   {
    "duration": 56,
    "start_time": "2022-11-28T16:07:45.832Z"
   },
   {
    "duration": 6,
    "start_time": "2022-11-28T16:07:45.889Z"
   },
   {
    "duration": 16,
    "start_time": "2022-11-28T16:07:45.896Z"
   },
   {
    "duration": 13,
    "start_time": "2022-11-28T16:07:45.914Z"
   },
   {
    "duration": 32,
    "start_time": "2022-11-28T16:07:45.928Z"
   },
   {
    "duration": 44,
    "start_time": "2022-11-28T16:07:45.962Z"
   },
   {
    "duration": 4,
    "start_time": "2022-11-28T16:07:46.008Z"
   },
   {
    "duration": 14,
    "start_time": "2022-11-28T16:07:46.014Z"
   },
   {
    "duration": 713,
    "start_time": "2022-11-28T16:07:46.032Z"
   },
   {
    "duration": 13,
    "start_time": "2022-11-28T16:07:46.747Z"
   },
   {
    "duration": 8,
    "start_time": "2022-11-28T16:07:46.762Z"
   },
   {
    "duration": 35,
    "start_time": "2022-11-28T16:07:46.772Z"
   },
   {
    "duration": 18,
    "start_time": "2022-11-28T16:07:46.808Z"
   },
   {
    "duration": 12,
    "start_time": "2022-11-28T16:07:46.828Z"
   },
   {
    "duration": 413,
    "start_time": "2022-11-28T16:07:46.841Z"
   },
   {
    "duration": 179,
    "start_time": "2022-11-28T16:07:47.256Z"
   },
   {
    "duration": 146,
    "start_time": "2022-11-28T16:07:47.437Z"
   },
   {
    "duration": 29,
    "start_time": "2022-11-28T16:07:47.585Z"
   },
   {
    "duration": 598,
    "start_time": "2022-11-28T16:07:47.616Z"
   },
   {
    "duration": 305,
    "start_time": "2022-11-28T16:07:48.216Z"
   },
   {
    "duration": 871,
    "start_time": "2022-11-28T16:07:48.522Z"
   },
   {
    "duration": 321,
    "start_time": "2022-11-28T16:07:49.394Z"
   },
   {
    "duration": 359,
    "start_time": "2022-11-28T16:07:49.717Z"
   },
   {
    "duration": 325,
    "start_time": "2022-11-28T16:07:50.078Z"
   },
   {
    "duration": 295,
    "start_time": "2022-11-28T16:07:50.405Z"
   },
   {
    "duration": 306,
    "start_time": "2022-11-28T16:07:50.703Z"
   },
   {
    "duration": 303,
    "start_time": "2022-11-28T16:07:51.013Z"
   },
   {
    "duration": 298,
    "start_time": "2022-11-28T16:07:51.318Z"
   },
   {
    "duration": 694,
    "start_time": "2022-11-28T16:07:51.618Z"
   },
   {
    "duration": 202,
    "start_time": "2022-11-28T16:07:52.314Z"
   },
   {
    "duration": 4,
    "start_time": "2022-11-28T16:07:52.518Z"
   },
   {
    "duration": 18,
    "start_time": "2022-11-28T16:07:52.524Z"
   },
   {
    "duration": 4,
    "start_time": "2022-11-28T16:07:52.544Z"
   },
   {
    "duration": 16,
    "start_time": "2022-11-28T16:07:52.550Z"
   },
   {
    "duration": 11,
    "start_time": "2022-11-28T16:07:52.568Z"
   },
   {
    "duration": 24,
    "start_time": "2022-11-28T16:07:52.580Z"
   },
   {
    "duration": 15,
    "start_time": "2022-11-28T16:07:52.606Z"
   },
   {
    "duration": 16,
    "start_time": "2022-11-28T16:07:52.622Z"
   },
   {
    "duration": 3,
    "start_time": "2022-11-28T16:08:05.516Z"
   },
   {
    "duration": 2,
    "start_time": "2022-11-28T16:25:25.672Z"
   },
   {
    "duration": 3,
    "start_time": "2022-11-28T16:25:37.216Z"
   },
   {
    "duration": 4,
    "start_time": "2022-11-28T16:27:05.203Z"
   },
   {
    "duration": 5,
    "start_time": "2022-11-28T16:32:34.718Z"
   },
   {
    "duration": 3,
    "start_time": "2022-11-28T16:32:54.927Z"
   },
   {
    "duration": 726174,
    "start_time": "2022-11-28T16:35:36.669Z"
   },
   {
    "duration": 5,
    "start_time": "2022-11-28T16:47:42.845Z"
   },
   {
    "duration": 13,
    "start_time": "2022-11-28T16:47:42.851Z"
   },
   {
    "duration": 163,
    "start_time": "2022-11-28T16:47:42.870Z"
   },
   {
    "duration": 0,
    "start_time": "2022-11-28T16:47:43.034Z"
   },
   {
    "duration": 0,
    "start_time": "2022-11-28T16:47:43.036Z"
   },
   {
    "duration": 1,
    "start_time": "2022-11-28T16:47:43.036Z"
   },
   {
    "duration": 4,
    "start_time": "2022-11-28T16:57:25.755Z"
   },
   {
    "duration": 3,
    "start_time": "2022-11-28T16:57:51.474Z"
   },
   {
    "duration": 17,
    "start_time": "2022-11-28T16:58:10.827Z"
   },
   {
    "duration": 10,
    "start_time": "2022-11-28T16:58:22.701Z"
   },
   {
    "duration": 26,
    "start_time": "2022-11-28T16:58:27.683Z"
   },
   {
    "duration": 4,
    "start_time": "2022-11-28T16:59:33.775Z"
   },
   {
    "duration": 10,
    "start_time": "2022-11-28T17:00:27.862Z"
   },
   {
    "duration": 877,
    "start_time": "2022-11-28T17:01:22.106Z"
   },
   {
    "duration": 8,
    "start_time": "2022-11-28T17:01:25.441Z"
   },
   {
    "duration": 4,
    "start_time": "2022-11-28T17:01:58.890Z"
   },
   {
    "duration": 4,
    "start_time": "2022-11-28T17:04:13.194Z"
   },
   {
    "duration": 9,
    "start_time": "2022-11-28T17:04:19.140Z"
   },
   {
    "duration": 16864,
    "start_time": "2022-11-28T17:05:01.784Z"
   },
   {
    "duration": 127,
    "start_time": "2022-11-28T17:05:18.650Z"
   },
   {
    "duration": 2,
    "start_time": "2022-11-28T17:05:18.779Z"
   },
   {
    "duration": 23,
    "start_time": "2022-11-28T17:05:18.783Z"
   },
   {
    "duration": 0,
    "start_time": "2022-11-28T17:08:28.293Z"
   },
   {
    "duration": 0,
    "start_time": "2022-11-28T17:08:28.294Z"
   },
   {
    "duration": 3,
    "start_time": "2022-11-28T17:08:54.471Z"
   },
   {
    "duration": 3,
    "start_time": "2022-11-28T17:09:29.145Z"
   },
   {
    "duration": 3,
    "start_time": "2022-11-28T17:09:41.129Z"
   },
   {
    "duration": 4,
    "start_time": "2022-11-28T17:09:59.109Z"
   },
   {
    "duration": 251,
    "start_time": "2022-11-28T17:10:05.323Z"
   },
   {
    "duration": 1265998,
    "start_time": "2022-11-28T17:11:08.069Z"
   },
   {
    "duration": 5,
    "start_time": "2022-11-28T17:32:14.069Z"
   },
   {
    "duration": 10,
    "start_time": "2022-11-28T17:32:14.075Z"
   },
   {
    "duration": 13,
    "start_time": "2022-11-28T17:32:14.086Z"
   },
   {
    "duration": 9,
    "start_time": "2022-11-28T17:32:14.121Z"
   },
   {
    "duration": 2,
    "start_time": "2022-11-28T17:32:58.123Z"
   },
   {
    "duration": 3,
    "start_time": "2022-11-28T17:33:04.461Z"
   },
   {
    "duration": 3,
    "start_time": "2022-11-28T17:33:05.478Z"
   },
   {
    "duration": 5,
    "start_time": "2022-11-28T17:33:07.695Z"
   },
   {
    "duration": 4,
    "start_time": "2022-11-28T17:33:17.086Z"
   },
   {
    "duration": 4,
    "start_time": "2022-11-28T17:33:33.479Z"
   },
   {
    "duration": 4,
    "start_time": "2022-11-28T17:33:45.270Z"
   },
   {
    "duration": 14,
    "start_time": "2022-11-28T17:33:47.367Z"
   },
   {
    "duration": 27205,
    "start_time": "2022-11-28T17:34:12.671Z"
   },
   {
    "duration": 134,
    "start_time": "2022-11-28T17:34:39.878Z"
   },
   {
    "duration": 9,
    "start_time": "2022-11-28T17:42:42.238Z"
   },
   {
    "duration": 1788,
    "start_time": "2022-11-28T17:42:58.203Z"
   },
   {
    "duration": 282,
    "start_time": "2022-11-28T17:43:12.739Z"
   },
   {
    "duration": 125,
    "start_time": "2022-11-28T17:43:17.947Z"
   },
   {
    "duration": 122,
    "start_time": "2022-11-28T17:43:31.178Z"
   },
   {
    "duration": 4,
    "start_time": "2022-11-28T17:45:38.050Z"
   },
   {
    "duration": 236,
    "start_time": "2022-11-28T17:46:14.456Z"
   },
   {
    "duration": 46,
    "start_time": "2022-11-28T17:46:30.905Z"
   },
   {
    "duration": 4,
    "start_time": "2022-11-28T17:46:45.764Z"
   },
   {
    "duration": 12,
    "start_time": "2022-11-28T17:47:44.466Z"
   },
   {
    "duration": 4,
    "start_time": "2022-11-28T17:48:10.953Z"
   },
   {
    "duration": 12,
    "start_time": "2022-11-28T18:00:26.233Z"
   },
   {
    "duration": 3,
    "start_time": "2022-11-28T18:00:31.432Z"
   },
   {
    "duration": 20,
    "start_time": "2022-11-28T18:01:03.800Z"
   },
   {
    "duration": 17,
    "start_time": "2022-11-28T18:01:11.964Z"
   },
   {
    "duration": 20,
    "start_time": "2022-11-28T18:01:17.370Z"
   },
   {
    "duration": 4,
    "start_time": "2022-11-28T18:01:33.174Z"
   },
   {
    "duration": 4,
    "start_time": "2022-11-28T18:01:41.192Z"
   },
   {
    "duration": 11,
    "start_time": "2022-11-28T18:01:45.068Z"
   },
   {
    "duration": 14,
    "start_time": "2022-11-28T18:01:54.712Z"
   },
   {
    "duration": 4,
    "start_time": "2022-11-28T18:01:58.498Z"
   },
   {
    "duration": 46,
    "start_time": "2022-11-28T18:02:47.781Z"
   },
   {
    "duration": 15,
    "start_time": "2022-11-28T18:02:52.626Z"
   },
   {
    "duration": 4,
    "start_time": "2022-11-28T18:04:24.373Z"
   },
   {
    "duration": 5,
    "start_time": "2022-11-28T18:04:30.035Z"
   },
   {
    "duration": 4,
    "start_time": "2022-11-28T18:04:43.758Z"
   },
   {
    "duration": 4,
    "start_time": "2022-11-28T18:04:55.946Z"
   },
   {
    "duration": 289,
    "start_time": "2022-11-28T18:05:04.422Z"
   },
   {
    "duration": 15,
    "start_time": "2022-11-28T18:05:49.828Z"
   },
   {
    "duration": 48,
    "start_time": "2022-11-28T18:06:01.859Z"
   },
   {
    "duration": 49,
    "start_time": "2022-11-28T18:08:11.994Z"
   },
   {
    "duration": 62,
    "start_time": "2022-11-28T18:08:20.054Z"
   },
   {
    "duration": 50901,
    "start_time": "2022-11-28T18:08:28.858Z"
   },
   {
    "duration": 505,
    "start_time": "2022-11-28T18:09:28.211Z"
   },
   {
    "duration": 51712,
    "start_time": "2022-11-28T18:10:09.994Z"
   },
   {
    "duration": 1888,
    "start_time": "2022-11-28T18:18:05.674Z"
   },
   {
    "duration": 316,
    "start_time": "2022-11-28T18:18:11.959Z"
   },
   {
    "duration": 114,
    "start_time": "2022-11-28T18:18:12.785Z"
   },
   {
    "duration": 119,
    "start_time": "2022-11-28T18:18:22.361Z"
   },
   {
    "duration": 121,
    "start_time": "2022-11-28T18:18:26.321Z"
   },
   {
    "duration": 12,
    "start_time": "2022-11-28T18:25:19.642Z"
   },
   {
    "duration": 2590,
    "start_time": "2022-11-28T18:25:36.753Z"
   },
   {
    "duration": 21,
    "start_time": "2022-11-28T18:25:40.663Z"
   },
   {
    "duration": 42523,
    "start_time": "2022-11-28T18:26:39.779Z"
   },
   {
    "duration": 17,
    "start_time": "2022-11-28T18:27:40.972Z"
   },
   {
    "duration": 2816,
    "start_time": "2022-11-28T18:27:58.783Z"
   },
   {
    "duration": 20,
    "start_time": "2022-11-28T18:29:09.674Z"
   },
   {
    "duration": 2748,
    "start_time": "2022-11-28T18:29:50.738Z"
   },
   {
    "duration": 3895,
    "start_time": "2022-11-28T18:30:46.505Z"
   },
   {
    "duration": 4153,
    "start_time": "2022-11-28T18:31:12.307Z"
   },
   {
    "duration": 4097,
    "start_time": "2022-11-28T18:31:44.957Z"
   },
   {
    "duration": 125987,
    "start_time": "2022-11-28T18:33:19.079Z"
   },
   {
    "duration": 4233,
    "start_time": "2022-11-28T18:36:10.261Z"
   },
   {
    "duration": 2980,
    "start_time": "2022-11-28T18:36:31.487Z"
   },
   {
    "duration": 2343,
    "start_time": "2022-11-28T18:37:54.907Z"
   },
   {
    "duration": 2104,
    "start_time": "2022-11-28T18:38:16.257Z"
   },
   {
    "duration": 1367,
    "start_time": "2022-11-28T18:39:04.882Z"
   },
   {
    "duration": 1176,
    "start_time": "2022-11-28T18:39:25.481Z"
   }
  ],
  "colab": {
   "collapsed_sections": [
    "-Yp7zj4so7ys"
   ],
   "provenance": []
  },
  "kernelspec": {
   "display_name": "Python 3 (ipykernel)",
   "language": "python",
   "name": "python3"
  },
  "language_info": {
   "codemirror_mode": {
    "name": "ipython",
    "version": 3
   },
   "file_extension": ".py",
   "mimetype": "text/x-python",
   "name": "python",
   "nbconvert_exporter": "python",
   "pygments_lexer": "ipython3",
   "version": "3.9.12"
  },
  "toc": {
   "base_numbering": 1,
   "nav_menu": {},
   "number_sections": true,
   "sideBar": true,
   "skip_h1_title": true,
   "title_cell": "Table of Contents",
   "title_sidebar": "Contents",
   "toc_cell": false,
   "toc_position": {
    "height": "calc(100% - 180px)",
    "left": "10px",
    "top": "150px",
    "width": "196px"
   },
   "toc_section_display": true,
   "toc_window_display": true
  },
  "widgets": {
   "application/vnd.jupyter.widget-state+json": {
    "1f19bfd9f8a34492862b34ed396b64a4": {
     "model_module": "@jupyter-widgets/base",
     "model_module_version": "1.2.0",
     "model_name": "LayoutModel",
     "state": {
      "_model_module": "@jupyter-widgets/base",
      "_model_module_version": "1.2.0",
      "_model_name": "LayoutModel",
      "_view_count": null,
      "_view_module": "@jupyter-widgets/base",
      "_view_module_version": "1.2.0",
      "_view_name": "LayoutView",
      "align_content": null,
      "align_items": null,
      "align_self": null,
      "border": null,
      "bottom": null,
      "display": null,
      "flex": null,
      "flex_flow": null,
      "grid_area": null,
      "grid_auto_columns": null,
      "grid_auto_flow": null,
      "grid_auto_rows": null,
      "grid_column": null,
      "grid_gap": null,
      "grid_row": null,
      "grid_template_areas": null,
      "grid_template_columns": null,
      "grid_template_rows": null,
      "height": null,
      "justify_content": null,
      "justify_items": null,
      "left": null,
      "margin": null,
      "max_height": null,
      "max_width": null,
      "min_height": null,
      "min_width": null,
      "object_fit": null,
      "object_position": null,
      "order": null,
      "overflow": null,
      "overflow_x": null,
      "overflow_y": null,
      "padding": null,
      "right": null,
      "top": null,
      "visibility": null,
      "width": null
     }
    },
    "25eff5bcd9e44b8e872722133110cdf8": {
     "model_module": "@jupyter-widgets/base",
     "model_module_version": "1.2.0",
     "model_name": "LayoutModel",
     "state": {
      "_model_module": "@jupyter-widgets/base",
      "_model_module_version": "1.2.0",
      "_model_name": "LayoutModel",
      "_view_count": null,
      "_view_module": "@jupyter-widgets/base",
      "_view_module_version": "1.2.0",
      "_view_name": "LayoutView",
      "align_content": null,
      "align_items": null,
      "align_self": null,
      "border": null,
      "bottom": null,
      "display": null,
      "flex": null,
      "flex_flow": null,
      "grid_area": null,
      "grid_auto_columns": null,
      "grid_auto_flow": null,
      "grid_auto_rows": null,
      "grid_column": null,
      "grid_gap": null,
      "grid_row": null,
      "grid_template_areas": null,
      "grid_template_columns": null,
      "grid_template_rows": null,
      "height": null,
      "justify_content": null,
      "justify_items": null,
      "left": null,
      "margin": null,
      "max_height": null,
      "max_width": null,
      "min_height": null,
      "min_width": null,
      "object_fit": null,
      "object_position": null,
      "order": null,
      "overflow": null,
      "overflow_x": null,
      "overflow_y": null,
      "padding": null,
      "right": null,
      "top": null,
      "visibility": null,
      "width": null
     }
    },
    "27305e9222994104ba559520232139dc": {
     "model_module": "@jupyter-widgets/base",
     "model_module_version": "1.2.0",
     "model_name": "LayoutModel",
     "state": {
      "_model_module": "@jupyter-widgets/base",
      "_model_module_version": "1.2.0",
      "_model_name": "LayoutModel",
      "_view_count": null,
      "_view_module": "@jupyter-widgets/base",
      "_view_module_version": "1.2.0",
      "_view_name": "LayoutView",
      "align_content": null,
      "align_items": null,
      "align_self": null,
      "border": null,
      "bottom": null,
      "display": null,
      "flex": null,
      "flex_flow": null,
      "grid_area": null,
      "grid_auto_columns": null,
      "grid_auto_flow": null,
      "grid_auto_rows": null,
      "grid_column": null,
      "grid_gap": null,
      "grid_row": null,
      "grid_template_areas": null,
      "grid_template_columns": null,
      "grid_template_rows": null,
      "height": null,
      "justify_content": null,
      "justify_items": null,
      "left": null,
      "margin": null,
      "max_height": null,
      "max_width": null,
      "min_height": null,
      "min_width": null,
      "object_fit": null,
      "object_position": null,
      "order": null,
      "overflow": null,
      "overflow_x": null,
      "overflow_y": null,
      "padding": null,
      "right": null,
      "top": null,
      "visibility": null,
      "width": null
     }
    },
    "561513acd18a44feba7d5c0ca0ce9ba9": {
     "model_module": "@jupyter-widgets/controls",
     "model_module_version": "1.5.0",
     "model_name": "HBoxModel",
     "state": {
      "_dom_classes": [],
      "_model_module": "@jupyter-widgets/controls",
      "_model_module_version": "1.5.0",
      "_model_name": "HBoxModel",
      "_view_count": null,
      "_view_module": "@jupyter-widgets/controls",
      "_view_module_version": "1.5.0",
      "_view_name": "HBoxView",
      "box_style": "",
      "children": [
       "IPY_MODEL_d195d04e425f4360b269a4aa933cdecd",
       "IPY_MODEL_91184108805944a3baddebefbdd15c2c",
       "IPY_MODEL_d36a11544491438fa01b2fa37370c6d1"
      ],
      "layout": "IPY_MODEL_1f19bfd9f8a34492862b34ed396b64a4"
     }
    },
    "64355aa098f24482af379c6a13ee5470": {
     "model_module": "@jupyter-widgets/controls",
     "model_module_version": "1.5.0",
     "model_name": "DescriptionStyleModel",
     "state": {
      "_model_module": "@jupyter-widgets/controls",
      "_model_module_version": "1.5.0",
      "_model_name": "DescriptionStyleModel",
      "_view_count": null,
      "_view_module": "@jupyter-widgets/base",
      "_view_module_version": "1.2.0",
      "_view_name": "StyleView",
      "description_width": ""
     }
    },
    "91184108805944a3baddebefbdd15c2c": {
     "model_module": "@jupyter-widgets/controls",
     "model_module_version": "1.5.0",
     "model_name": "FloatProgressModel",
     "state": {
      "_dom_classes": [],
      "_model_module": "@jupyter-widgets/controls",
      "_model_module_version": "1.5.0",
      "_model_name": "FloatProgressModel",
      "_view_count": null,
      "_view_module": "@jupyter-widgets/controls",
      "_view_module_version": "1.5.0",
      "_view_name": "ProgressView",
      "bar_style": "danger",
      "description": "",
      "description_tooltip": null,
      "layout": "IPY_MODEL_aa864a2aa417452e864bd33294069fed",
      "max": 100,
      "min": 0,
      "orientation": "horizontal",
      "style": "IPY_MODEL_fcd11d650eed491db7ad9034268a8fbc",
      "value": 37
     }
    },
    "aa864a2aa417452e864bd33294069fed": {
     "model_module": "@jupyter-widgets/base",
     "model_module_version": "1.2.0",
     "model_name": "LayoutModel",
     "state": {
      "_model_module": "@jupyter-widgets/base",
      "_model_module_version": "1.2.0",
      "_model_name": "LayoutModel",
      "_view_count": null,
      "_view_module": "@jupyter-widgets/base",
      "_view_module_version": "1.2.0",
      "_view_name": "LayoutView",
      "align_content": null,
      "align_items": null,
      "align_self": null,
      "border": null,
      "bottom": null,
      "display": null,
      "flex": null,
      "flex_flow": null,
      "grid_area": null,
      "grid_auto_columns": null,
      "grid_auto_flow": null,
      "grid_auto_rows": null,
      "grid_column": null,
      "grid_gap": null,
      "grid_row": null,
      "grid_template_areas": null,
      "grid_template_columns": null,
      "grid_template_rows": null,
      "height": null,
      "justify_content": null,
      "justify_items": null,
      "left": null,
      "margin": null,
      "max_height": null,
      "max_width": null,
      "min_height": null,
      "min_width": null,
      "object_fit": null,
      "object_position": null,
      "order": null,
      "overflow": null,
      "overflow_x": null,
      "overflow_y": null,
      "padding": null,
      "right": null,
      "top": null,
      "visibility": null,
      "width": null
     }
    },
    "bef90220f654430c8197e3ba8c3d48a4": {
     "model_module": "@jupyter-widgets/controls",
     "model_module_version": "1.5.0",
     "model_name": "DescriptionStyleModel",
     "state": {
      "_model_module": "@jupyter-widgets/controls",
      "_model_module_version": "1.5.0",
      "_model_name": "DescriptionStyleModel",
      "_view_count": null,
      "_view_module": "@jupyter-widgets/base",
      "_view_module_version": "1.2.0",
      "_view_name": "StyleView",
      "description_width": ""
     }
    },
    "d195d04e425f4360b269a4aa933cdecd": {
     "model_module": "@jupyter-widgets/controls",
     "model_module_version": "1.5.0",
     "model_name": "HTMLModel",
     "state": {
      "_dom_classes": [],
      "_model_module": "@jupyter-widgets/controls",
      "_model_module_version": "1.5.0",
      "_model_name": "HTMLModel",
      "_view_count": null,
      "_view_module": "@jupyter-widgets/controls",
      "_view_module_version": "1.5.0",
      "_view_name": "HTMLView",
      "description": "",
      "description_tooltip": null,
      "layout": "IPY_MODEL_25eff5bcd9e44b8e872722133110cdf8",
      "placeholder": "​",
      "style": "IPY_MODEL_64355aa098f24482af379c6a13ee5470",
      "value": " 37%"
     }
    },
    "d36a11544491438fa01b2fa37370c6d1": {
     "model_module": "@jupyter-widgets/controls",
     "model_module_version": "1.5.0",
     "model_name": "HTMLModel",
     "state": {
      "_dom_classes": [],
      "_model_module": "@jupyter-widgets/controls",
      "_model_module_version": "1.5.0",
      "_model_name": "HTMLModel",
      "_view_count": null,
      "_view_module": "@jupyter-widgets/controls",
      "_view_module_version": "1.5.0",
      "_view_name": "HTMLView",
      "description": "",
      "description_tooltip": null,
      "layout": "IPY_MODEL_27305e9222994104ba559520232139dc",
      "placeholder": "​",
      "style": "IPY_MODEL_bef90220f654430c8197e3ba8c3d48a4",
      "value": " 37/100 [00:03&lt;00:05, 12.18it/s]"
     }
    },
    "fcd11d650eed491db7ad9034268a8fbc": {
     "model_module": "@jupyter-widgets/controls",
     "model_module_version": "1.5.0",
     "model_name": "ProgressStyleModel",
     "state": {
      "_model_module": "@jupyter-widgets/controls",
      "_model_module_version": "1.5.0",
      "_model_name": "ProgressStyleModel",
      "_view_count": null,
      "_view_module": "@jupyter-widgets/base",
      "_view_module_version": "1.2.0",
      "_view_name": "StyleView",
      "bar_color": null,
      "description_width": ""
     }
    }
   }
  }
 },
 "nbformat": 4,
 "nbformat_minor": 1
}
