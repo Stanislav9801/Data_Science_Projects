{
 "cells": [
  {
   "cell_type": "markdown",
   "id": "GEqQaHzsZ_bA",
   "metadata": {
    "id": "GEqQaHzsZ_bA"
   },
   "source": [
    "# Предсказание стоимости жилья"
   ]
  },
  {
   "cell_type": "markdown",
   "id": "3ac6e6c2",
   "metadata": {},
   "source": [
    "Необходимо обучить модель линейной регрессии на данных о жилье в Калифорнии в 1990 году с использованием библиотеки **PySpark**.  \n",
    "\n",
    "В колонках датасета содержатся следующие данные:  \n",
    "- `longitude` — широта;\n",
    "- `latitude` — долгота;\n",
    "- `housing_median_age` — медианный возраст жителей жилого массива;\n",
    "- `total_rooms` — общее количество комнат в домах жилого массива;\n",
    "- `total_bedrooms` — общее количество спален в домах жилого массива;\n",
    "- `population` — количество человек, которые проживают в жилом массиве;\n",
    "- `households` — количество домовладений в жилом массиве;\n",
    "- `median_income` — медианный доход жителей жилого массива;\n",
    "- `median_house_value` — медианная стоимость дома в жилом массиве;\n",
    "- `ocean_proximity` — близость к океану.  \n",
    "\n",
    "На основе данных нужно предсказать медианную стоимость дома в жилом массиве — `median_house_value`. Обучите модель и сделайте предсказания на тестовой выборке. Для оценки качества модели используйте метрики RMSE, MAE и R2."
   ]
  },
  {
   "cell_type": "markdown",
   "id": "73b46b78",
   "metadata": {},
   "source": [
    "## Импорт библиотек. Подготовка окружения"
   ]
  },
  {
   "cell_type": "code",
   "execution_count": 1,
   "id": "98d6eba2",
   "metadata": {},
   "outputs": [
    {
     "data": {
      "text/html": [
       "<style>.container { width:100% !important; }</style>"
      ],
      "text/plain": [
       "<IPython.core.display.HTML object>"
      ]
     },
     "metadata": {},
     "output_type": "display_data"
    }
   ],
   "source": [
    "import pandas as pd\n",
    "import numpy as np\n",
    "\n",
    "import pyspark\n",
    "from pyspark.sql import SparkSession\n",
    "from pyspark.sql.types import *\n",
    "from pyspark.sql.window import Window\n",
    "import pyspark.sql.functions as F\n",
    "\n",
    "from pyspark.ml import Pipeline\n",
    "from pyspark.ml.feature import StringIndexer, VectorAssembler, StandardScaler, OneHotEncoder\n",
    "from pyspark.ml.regression import LinearRegression\n",
    "from pyspark.ml.evaluation import RegressionEvaluator\n",
    "\n",
    "# Включим широкоформатный Юпитер\n",
    "from IPython.core.display import display, HTML\n",
    "display(HTML(\"<style>.container { width:100% !important; }</style>\"))"
   ]
  },
  {
   "cell_type": "code",
   "execution_count": 2,
   "id": "6716aa60",
   "metadata": {},
   "outputs": [
    {
     "name": "stderr",
     "output_type": "stream",
     "text": [
      "22/04/03 15:05:47 WARN Utils: Service 'SparkUI' could not bind on port 4040. Attempting port 4041.\n"
     ]
    }
   ],
   "source": [
    "# Инициализируем Spark-сессию\n",
    "spark = SparkSession.builder.master('local').appName('Houses Price Predictions').getOrCreate()"
   ]
  },
  {
   "cell_type": "markdown",
   "id": "53871372",
   "metadata": {
    "id": "53871372"
   },
   "source": [
    "## Подготовка данных"
   ]
  },
  {
   "cell_type": "markdown",
   "id": "306d4b9d",
   "metadata": {},
   "source": [
    "### Откроем данные и исследуем их"
   ]
  },
  {
   "cell_type": "code",
   "execution_count": 3,
   "id": "df92e3ec",
   "metadata": {
    "id": "df92e3ec",
    "scrolled": true
   },
   "outputs": [
    {
     "name": "stderr",
     "output_type": "stream",
     "text": [
      "[Stage 1:>                                                          (0 + 1) / 1]\r"
     ]
    },
    {
     "name": "stdout",
     "output_type": "stream",
     "text": [
      "root\n",
      " |-- longitude: double (nullable = true)\n",
      " |-- latitude: double (nullable = true)\n",
      " |-- housing_median_age: double (nullable = true)\n",
      " |-- total_rooms: double (nullable = true)\n",
      " |-- total_bedrooms: double (nullable = true)\n",
      " |-- population: double (nullable = true)\n",
      " |-- households: double (nullable = true)\n",
      " |-- median_income: double (nullable = true)\n",
      " |-- median_house_value: double (nullable = true)\n",
      " |-- ocean_proximity: string (nullable = true)\n",
      "\n"
     ]
    },
    {
     "name": "stderr",
     "output_type": "stream",
     "text": [
      "                                                                                \r"
     ]
    }
   ],
   "source": [
    "# Сохраним датасет в переменную \"data\"\n",
    "data = spark.read.csv('/datasets/housing.csv', inferSchema=True, header=True)\n",
    "\n",
    "# Выведем на экран типы данных колонок датасета\n",
    "data.printSchema()"
   ]
  },
  {
   "cell_type": "markdown",
   "id": "51486020",
   "metadata": {},
   "source": [
    "Посмотрим на количество пропусков"
   ]
  },
  {
   "cell_type": "code",
   "execution_count": 4,
   "id": "23d15fe9",
   "metadata": {},
   "outputs": [],
   "source": [
    "# Создадим функцию, которая будет показывать количество пропущенных значений в каждом столбце\n",
    "def show_nans(df):\n",
    "    result = (\n",
    "        df\n",
    "        .select([F.count(F.when(F.isnan(c) | F.col(c).isNull(), c)).alias(c) for c in df.columns])\n",
    "        .toPandas()\n",
    "        .T\n",
    "    )\n",
    "    result.columns = ['Number of NaNs']\n",
    "    return result"
   ]
  },
  {
   "cell_type": "code",
   "execution_count": 5,
   "id": "25f7e65b",
   "metadata": {},
   "outputs": [
    {
     "name": "stderr",
     "output_type": "stream",
     "text": [
      "                                                                                \r"
     ]
    },
    {
     "data": {
      "text/html": [
       "<div>\n",
       "<style scoped>\n",
       "    .dataframe tbody tr th:only-of-type {\n",
       "        vertical-align: middle;\n",
       "    }\n",
       "\n",
       "    .dataframe tbody tr th {\n",
       "        vertical-align: top;\n",
       "    }\n",
       "\n",
       "    .dataframe thead th {\n",
       "        text-align: right;\n",
       "    }\n",
       "</style>\n",
       "<table border=\"1\" class=\"dataframe\">\n",
       "  <thead>\n",
       "    <tr style=\"text-align: right;\">\n",
       "      <th></th>\n",
       "      <th>Number of NaNs</th>\n",
       "    </tr>\n",
       "  </thead>\n",
       "  <tbody>\n",
       "    <tr>\n",
       "      <th>longitude</th>\n",
       "      <td>0</td>\n",
       "    </tr>\n",
       "    <tr>\n",
       "      <th>latitude</th>\n",
       "      <td>0</td>\n",
       "    </tr>\n",
       "    <tr>\n",
       "      <th>housing_median_age</th>\n",
       "      <td>0</td>\n",
       "    </tr>\n",
       "    <tr>\n",
       "      <th>total_rooms</th>\n",
       "      <td>0</td>\n",
       "    </tr>\n",
       "    <tr>\n",
       "      <th>total_bedrooms</th>\n",
       "      <td>207</td>\n",
       "    </tr>\n",
       "    <tr>\n",
       "      <th>population</th>\n",
       "      <td>0</td>\n",
       "    </tr>\n",
       "    <tr>\n",
       "      <th>households</th>\n",
       "      <td>0</td>\n",
       "    </tr>\n",
       "    <tr>\n",
       "      <th>median_income</th>\n",
       "      <td>0</td>\n",
       "    </tr>\n",
       "    <tr>\n",
       "      <th>median_house_value</th>\n",
       "      <td>0</td>\n",
       "    </tr>\n",
       "    <tr>\n",
       "      <th>ocean_proximity</th>\n",
       "      <td>0</td>\n",
       "    </tr>\n",
       "  </tbody>\n",
       "</table>\n",
       "</div>"
      ],
      "text/plain": [
       "                    Number of NaNs\n",
       "longitude                        0\n",
       "latitude                         0\n",
       "housing_median_age               0\n",
       "total_rooms                      0\n",
       "total_bedrooms                 207\n",
       "population                       0\n",
       "households                       0\n",
       "median_income                    0\n",
       "median_house_value               0\n",
       "ocean_proximity                  0"
      ]
     },
     "execution_count": 5,
     "metadata": {},
     "output_type": "execute_result"
    }
   ],
   "source": [
    "# Посмотрим на количество пропущенных значений в таблице \"data\"\n",
    "show_nans(data)"
   ]
  },
  {
   "cell_type": "markdown",
   "id": "09d7fe3e",
   "metadata": {},
   "source": [
    "Столбец `total_bedrooms` содержит 207 пропусков.  \n",
    "Для того, чтобы заполнить пропуски, посмотрим с каким показателем данный столбец коррелирует сильнее всего.  "
   ]
  },
  {
   "cell_type": "code",
   "execution_count": 6,
   "id": "26475d80",
   "metadata": {},
   "outputs": [
    {
     "name": "stdout",
     "output_type": "stream",
     "text": [
      "longitude: 0.06808179725677305\n",
      "latitude: -0.06531831669569808\n",
      "housing_median_age: -0.31706334936263136\n",
      "total_rooms: 0.9201961721166215\n",
      "total_bedrooms: 1.0\n",
      "population: 0.8662661985860806\n",
      "households: 0.966507240042043\n",
      "median_income: -0.0072945417081858544\n",
      "median_house_value: 0.04914821959942551\n",
      "ocean_proximity: column type is not numeric\n"
     ]
    }
   ],
   "source": [
    "for col in data.columns:\n",
    "    try:\n",
    "        print(f'{col}: {data.stat.corr(\"total_bedrooms\", col)}')\n",
    "    except:\n",
    "        print(f'{col}: column type is not numeric')"
   ]
  },
  {
   "cell_type": "markdown",
   "id": "a47d7a2c",
   "metadata": {},
   "source": [
    "Наибольшая линейная корреляция, среди числовых признаков наблюдается со столбцом `households`.\n",
    "Сгруппируем по столбцу `households` и для каждой группы найдем среднее `total_bedrooms`. Этим значением заполним столбец `total_bedrooms`."
   ]
  },
  {
   "cell_type": "code",
   "execution_count": 7,
   "id": "5450f827",
   "metadata": {},
   "outputs": [
    {
     "name": "stderr",
     "output_type": "stream",
     "text": [
      "                                                                                \r"
     ]
    },
    {
     "data": {
      "text/html": [
       "<div>\n",
       "<style scoped>\n",
       "    .dataframe tbody tr th:only-of-type {\n",
       "        vertical-align: middle;\n",
       "    }\n",
       "\n",
       "    .dataframe tbody tr th {\n",
       "        vertical-align: top;\n",
       "    }\n",
       "\n",
       "    .dataframe thead th {\n",
       "        text-align: right;\n",
       "    }\n",
       "</style>\n",
       "<table border=\"1\" class=\"dataframe\">\n",
       "  <thead>\n",
       "    <tr style=\"text-align: right;\">\n",
       "      <th></th>\n",
       "      <th>Number of NaNs</th>\n",
       "    </tr>\n",
       "  </thead>\n",
       "  <tbody>\n",
       "    <tr>\n",
       "      <th>longitude</th>\n",
       "      <td>0</td>\n",
       "    </tr>\n",
       "    <tr>\n",
       "      <th>latitude</th>\n",
       "      <td>0</td>\n",
       "    </tr>\n",
       "    <tr>\n",
       "      <th>housing_median_age</th>\n",
       "      <td>0</td>\n",
       "    </tr>\n",
       "    <tr>\n",
       "      <th>total_rooms</th>\n",
       "      <td>0</td>\n",
       "    </tr>\n",
       "    <tr>\n",
       "      <th>total_bedrooms</th>\n",
       "      <td>6</td>\n",
       "    </tr>\n",
       "    <tr>\n",
       "      <th>population</th>\n",
       "      <td>0</td>\n",
       "    </tr>\n",
       "    <tr>\n",
       "      <th>households</th>\n",
       "      <td>0</td>\n",
       "    </tr>\n",
       "    <tr>\n",
       "      <th>median_income</th>\n",
       "      <td>0</td>\n",
       "    </tr>\n",
       "    <tr>\n",
       "      <th>median_house_value</th>\n",
       "      <td>0</td>\n",
       "    </tr>\n",
       "    <tr>\n",
       "      <th>ocean_proximity</th>\n",
       "      <td>0</td>\n",
       "    </tr>\n",
       "  </tbody>\n",
       "</table>\n",
       "</div>"
      ],
      "text/plain": [
       "                    Number of NaNs\n",
       "longitude                        0\n",
       "latitude                         0\n",
       "housing_median_age               0\n",
       "total_rooms                      0\n",
       "total_bedrooms                   6\n",
       "population                       0\n",
       "households                       0\n",
       "median_income                    0\n",
       "median_house_value               0\n",
       "ocean_proximity                  0"
      ]
     },
     "execution_count": 7,
     "metadata": {},
     "output_type": "execute_result"
    }
   ],
   "source": [
    "# Создадим оконную фукнцию\n",
    "window = Window().partitionBy(\"households\")\n",
    "\n",
    "# Заполним пропущенные значения средним по группам \"\"\n",
    "data_filled = data.withColumn(\"mean\", F.mean(\"total_bedrooms\").over(window)) \\\n",
    "              .withColumn(\"total_bedrooms\", F.when(F.col(\"total_bedrooms\").isNull(), F.col(\"mean\")) \\\n",
    "              .otherwise(F.col(\"total_bedrooms\"))) \\\n",
    "              .drop(\"mean\")\n",
    "\n",
    "# Посмотрим на количество пропусков после заполнения\n",
    "show_nans(data_filled)"
   ]
  },
  {
   "cell_type": "markdown",
   "id": "2ca7f93a",
   "metadata": {},
   "source": [
    "В данных осталось 6 пропущенных значений. Удалим эти строки."
   ]
  },
  {
   "cell_type": "code",
   "execution_count": 8,
   "id": "ffecd85f",
   "metadata": {},
   "outputs": [
    {
     "name": "stderr",
     "output_type": "stream",
     "text": [
      "                                                                                \r"
     ]
    },
    {
     "data": {
      "text/html": [
       "<div>\n",
       "<style scoped>\n",
       "    .dataframe tbody tr th:only-of-type {\n",
       "        vertical-align: middle;\n",
       "    }\n",
       "\n",
       "    .dataframe tbody tr th {\n",
       "        vertical-align: top;\n",
       "    }\n",
       "\n",
       "    .dataframe thead th {\n",
       "        text-align: right;\n",
       "    }\n",
       "</style>\n",
       "<table border=\"1\" class=\"dataframe\">\n",
       "  <thead>\n",
       "    <tr style=\"text-align: right;\">\n",
       "      <th></th>\n",
       "      <th>Number of NaNs</th>\n",
       "    </tr>\n",
       "  </thead>\n",
       "  <tbody>\n",
       "    <tr>\n",
       "      <th>longitude</th>\n",
       "      <td>0</td>\n",
       "    </tr>\n",
       "    <tr>\n",
       "      <th>latitude</th>\n",
       "      <td>0</td>\n",
       "    </tr>\n",
       "    <tr>\n",
       "      <th>housing_median_age</th>\n",
       "      <td>0</td>\n",
       "    </tr>\n",
       "    <tr>\n",
       "      <th>total_rooms</th>\n",
       "      <td>0</td>\n",
       "    </tr>\n",
       "    <tr>\n",
       "      <th>total_bedrooms</th>\n",
       "      <td>0</td>\n",
       "    </tr>\n",
       "    <tr>\n",
       "      <th>population</th>\n",
       "      <td>0</td>\n",
       "    </tr>\n",
       "    <tr>\n",
       "      <th>households</th>\n",
       "      <td>0</td>\n",
       "    </tr>\n",
       "    <tr>\n",
       "      <th>median_income</th>\n",
       "      <td>0</td>\n",
       "    </tr>\n",
       "    <tr>\n",
       "      <th>median_house_value</th>\n",
       "      <td>0</td>\n",
       "    </tr>\n",
       "    <tr>\n",
       "      <th>ocean_proximity</th>\n",
       "      <td>0</td>\n",
       "    </tr>\n",
       "  </tbody>\n",
       "</table>\n",
       "</div>"
      ],
      "text/plain": [
       "                    Number of NaNs\n",
       "longitude                        0\n",
       "latitude                         0\n",
       "housing_median_age               0\n",
       "total_rooms                      0\n",
       "total_bedrooms                   0\n",
       "population                       0\n",
       "households                       0\n",
       "median_income                    0\n",
       "median_house_value               0\n",
       "ocean_proximity                  0"
      ]
     },
     "execution_count": 8,
     "metadata": {},
     "output_type": "execute_result"
    }
   ],
   "source": [
    "data_filled = data_filled.dropna()\n",
    "\n",
    "# Выведем на экран количество пропущенных значений\n",
    "show_nans(data_filled)"
   ]
  },
  {
   "cell_type": "markdown",
   "id": "9a95d46a",
   "metadata": {},
   "source": [
    "Теперь, пропуски в датасете отсутствуют.  \n",
    "Проверим, есть ли дубликаты."
   ]
  },
  {
   "cell_type": "code",
   "execution_count": 9,
   "id": "9fdfdc9d",
   "metadata": {},
   "outputs": [
    {
     "name": "stderr",
     "output_type": "stream",
     "text": [
      "[Stage 24:================================================>     (178 + 1) / 200]\r"
     ]
    },
    {
     "name": "stdout",
     "output_type": "stream",
     "text": [
      "Data does not contain duplicates\n"
     ]
    },
    {
     "name": "stderr",
     "output_type": "stream",
     "text": [
      "                                                                                \r"
     ]
    }
   ],
   "source": [
    "if data_filled.count() > data_filled.dropDuplicates().count():\n",
    "    raise ValueError('Data has duplicates')\n",
    "else:\n",
    "    print('Data does not contain duplicates')"
   ]
  },
  {
   "cell_type": "markdown",
   "id": "117841bd",
   "metadata": {},
   "source": [
    "Дубликаты отсутствуют. Можно двигаться дальше."
   ]
  },
  {
   "cell_type": "markdown",
   "id": "e0616ee9",
   "metadata": {},
   "source": [
    "### Подготовка данных для модели машинного обучения"
   ]
  },
  {
   "cell_type": "markdown",
   "id": "5e1f4322",
   "metadata": {},
   "source": [
    "Сохраним название столбцов с числовми и категориальными признаки, а также таргет в переменные."
   ]
  },
  {
   "cell_type": "code",
   "execution_count": 10,
   "id": "e16880e0",
   "metadata": {},
   "outputs": [],
   "source": [
    "numeric_cols = [\"housing_median_age\", \"total_rooms\", \"total_bedrooms\", \"population\", \"households\", \"median_income\"]\n",
    "categorical_cols = [\"ocean_proximity\"]\n",
    "target = \"median_house_value\""
   ]
  },
  {
   "cell_type": "code",
   "execution_count": 11,
   "id": "d042f0e0",
   "metadata": {},
   "outputs": [
    {
     "name": "stderr",
     "output_type": "stream",
     "text": [
      "                                                                                \r"
     ]
    }
   ],
   "source": [
    "# Создадим объект \"StringIndexer\", чтобы преобразовать значения катег. признаков в индексы\n",
    "indexer = StringIndexer(inputCols=categorical_cols,\n",
    "                        outputCols=[c+'_idx' for c in categorical_cols])\n",
    "\n",
    "# Создадим объект \"OneHotEncoder\", чтобы преобразовать индексные значения катег. признаков в бинарные вектора\n",
    "encoder = OneHotEncoder(inputCols=[c+'_idx' for c in categorical_cols], \n",
    "                        outputCols=[c+'_ohe' for c in categorical_cols])\n",
    "\n",
    "# Создадим объект \"VectorAssembler\", чтобы объеденить значения числовых признаков в единый вектор\n",
    "numerical_assembler = VectorAssembler(inputCols=numeric_cols, \n",
    "                                      outputCol='numeric_features')\n",
    "\n",
    "# Создадим объект \"StandardScaler\", чтобы отмасштабировать вектор числовых признаков.\n",
    "scaler = StandardScaler(inputCol='numeric_features', \n",
    "                        outputCol='numeric_features_scaled')\n",
    "\n",
    "# Создадим объект \"VectorAssembler\", чтобы объеденить значения отмасштабированных числовых признаков \n",
    "# и ohe-категориальных признаков в единый вектор\n",
    "all_features_assembler = VectorAssembler(inputCols=['numeric_features_scaled']+[c+'_ohe' for c in categorical_cols], \n",
    "                                         outputCol='all_features')\n",
    "\n",
    "# Создадим объект \"Pipeline\", который объеденить все шаги преобразования признаков\n",
    "pipeline = Pipeline(stages=[indexer, encoder, numerical_assembler, scaler, all_features_assembler])\n",
    "\n",
    "# Создадим новые столбцы с преобразованными признаками и сохраним в переменную \"data_filled\"\n",
    "data_filled = pipeline.fit(data_filled).transform(data_filled)"
   ]
  },
  {
   "cell_type": "code",
   "execution_count": 12,
   "id": "d6cc12ff",
   "metadata": {},
   "outputs": [
    {
     "data": {
      "text/html": [
       "<div>\n",
       "<style scoped>\n",
       "    .dataframe tbody tr th:only-of-type {\n",
       "        vertical-align: middle;\n",
       "    }\n",
       "\n",
       "    .dataframe tbody tr th {\n",
       "        vertical-align: top;\n",
       "    }\n",
       "\n",
       "    .dataframe thead th {\n",
       "        text-align: right;\n",
       "    }\n",
       "</style>\n",
       "<table border=\"1\" class=\"dataframe\">\n",
       "  <thead>\n",
       "    <tr style=\"text-align: right;\">\n",
       "      <th></th>\n",
       "      <th>longitude</th>\n",
       "      <th>latitude</th>\n",
       "      <th>housing_median_age</th>\n",
       "      <th>total_rooms</th>\n",
       "      <th>total_bedrooms</th>\n",
       "      <th>population</th>\n",
       "      <th>households</th>\n",
       "      <th>median_income</th>\n",
       "      <th>median_house_value</th>\n",
       "      <th>ocean_proximity</th>\n",
       "      <th>ocean_proximity_idx</th>\n",
       "      <th>ocean_proximity_ohe</th>\n",
       "      <th>numeric_features</th>\n",
       "      <th>numeric_features_scaled</th>\n",
       "      <th>all_features</th>\n",
       "    </tr>\n",
       "  </thead>\n",
       "  <tbody>\n",
       "    <tr>\n",
       "      <th>0</th>\n",
       "      <td>-122.26</td>\n",
       "      <td>37.77</td>\n",
       "      <td>52.0</td>\n",
       "      <td>1670.0</td>\n",
       "      <td>350.0</td>\n",
       "      <td>793.0</td>\n",
       "      <td>299.0</td>\n",
       "      <td>2.9732</td>\n",
       "      <td>282100.0</td>\n",
       "      <td>NEAR BAY</td>\n",
       "      <td>3.0</td>\n",
       "      <td>(0.0, 0.0, 0.0, 1.0)</td>\n",
       "      <td>[52.0, 1670.0, 350.0, 793.0, 299.0, 2.9732]</td>\n",
       "      <td>[4.131577965924315, 0.7658678113742143, 0.8324...</td>\n",
       "      <td>[4.131577965924315, 0.7658678113742143, 0.8324...</td>\n",
       "    </tr>\n",
       "    <tr>\n",
       "      <th>1</th>\n",
       "      <td>-122.11</td>\n",
       "      <td>37.66</td>\n",
       "      <td>36.0</td>\n",
       "      <td>1755.0</td>\n",
       "      <td>316.0</td>\n",
       "      <td>913.0</td>\n",
       "      <td>299.0</td>\n",
       "      <td>4.1302</td>\n",
       "      <td>172700.0</td>\n",
       "      <td>NEAR BAY</td>\n",
       "      <td>3.0</td>\n",
       "      <td>(0.0, 0.0, 0.0, 1.0)</td>\n",
       "      <td>[36.0, 1755.0, 316.0, 913.0, 299.0, 4.1302]</td>\n",
       "      <td>[2.860323207178372, 0.8048491071627223, 0.7515...</td>\n",
       "      <td>[2.860323207178372, 0.8048491071627223, 0.7515...</td>\n",
       "    </tr>\n",
       "    <tr>\n",
       "      <th>2</th>\n",
       "      <td>-121.91</td>\n",
       "      <td>37.69</td>\n",
       "      <td>23.0</td>\n",
       "      <td>2179.0</td>\n",
       "      <td>308.0</td>\n",
       "      <td>926.0</td>\n",
       "      <td>299.0</td>\n",
       "      <td>5.9345</td>\n",
       "      <td>259600.0</td>\n",
       "      <td>&lt;1H OCEAN</td>\n",
       "      <td>0.0</td>\n",
       "      <td>(1.0, 0.0, 0.0, 0.0)</td>\n",
       "      <td>[23.0, 2179.0, 308.0, 926.0, 299.0, 5.9345]</td>\n",
       "      <td>[1.8274287156972933, 0.999296982625397, 0.7325...</td>\n",
       "      <td>[1.8274287156972933, 0.999296982625397, 0.7325...</td>\n",
       "    </tr>\n",
       "    <tr>\n",
       "      <th>3</th>\n",
       "      <td>-118.97</td>\n",
       "      <td>35.38</td>\n",
       "      <td>42.0</td>\n",
       "      <td>1185.0</td>\n",
       "      <td>358.0</td>\n",
       "      <td>1038.0</td>\n",
       "      <td>299.0</td>\n",
       "      <td>0.9951</td>\n",
       "      <td>48000.0</td>\n",
       "      <td>INLAND</td>\n",
       "      <td>1.0</td>\n",
       "      <td>(0.0, 1.0, 0.0, 0.0)</td>\n",
       "      <td>[42.0, 1185.0, 358.0, 1038.0, 299.0, 0.9951]</td>\n",
       "      <td>[3.3370437417081007, 0.5434451236397868, 0.851...</td>\n",
       "      <td>[3.3370437417081007, 0.5434451236397868, 0.851...</td>\n",
       "    </tr>\n",
       "    <tr>\n",
       "      <th>4</th>\n",
       "      <td>-118.21</td>\n",
       "      <td>34.08</td>\n",
       "      <td>39.0</td>\n",
       "      <td>986.0</td>\n",
       "      <td>361.0</td>\n",
       "      <td>1347.0</td>\n",
       "      <td>299.0</td>\n",
       "      <td>2.2907</td>\n",
       "      <td>133900.0</td>\n",
       "      <td>&lt;1H OCEAN</td>\n",
       "      <td>0.0</td>\n",
       "      <td>(1.0, 0.0, 0.0, 0.0)</td>\n",
       "      <td>[39.0, 986.0, 361.0, 1347.0, 299.0, 2.2907]</td>\n",
       "      <td>[3.098683474443236, 0.45218303114669184, 0.858...</td>\n",
       "      <td>[3.098683474443236, 0.45218303114669184, 0.858...</td>\n",
       "    </tr>\n",
       "  </tbody>\n",
       "</table>\n",
       "</div>"
      ],
      "text/plain": [
       "   longitude  latitude  housing_median_age  total_rooms  total_bedrooms  \\\n",
       "0    -122.26     37.77                52.0       1670.0           350.0   \n",
       "1    -122.11     37.66                36.0       1755.0           316.0   \n",
       "2    -121.91     37.69                23.0       2179.0           308.0   \n",
       "3    -118.97     35.38                42.0       1185.0           358.0   \n",
       "4    -118.21     34.08                39.0        986.0           361.0   \n",
       "\n",
       "   population  households  median_income  median_house_value ocean_proximity  \\\n",
       "0       793.0       299.0         2.9732            282100.0        NEAR BAY   \n",
       "1       913.0       299.0         4.1302            172700.0        NEAR BAY   \n",
       "2       926.0       299.0         5.9345            259600.0       <1H OCEAN   \n",
       "3      1038.0       299.0         0.9951             48000.0          INLAND   \n",
       "4      1347.0       299.0         2.2907            133900.0       <1H OCEAN   \n",
       "\n",
       "   ocean_proximity_idx   ocean_proximity_ohe  \\\n",
       "0                  3.0  (0.0, 0.0, 0.0, 1.0)   \n",
       "1                  3.0  (0.0, 0.0, 0.0, 1.0)   \n",
       "2                  0.0  (1.0, 0.0, 0.0, 0.0)   \n",
       "3                  1.0  (0.0, 1.0, 0.0, 0.0)   \n",
       "4                  0.0  (1.0, 0.0, 0.0, 0.0)   \n",
       "\n",
       "                               numeric_features  \\\n",
       "0   [52.0, 1670.0, 350.0, 793.0, 299.0, 2.9732]   \n",
       "1   [36.0, 1755.0, 316.0, 913.0, 299.0, 4.1302]   \n",
       "2   [23.0, 2179.0, 308.0, 926.0, 299.0, 5.9345]   \n",
       "3  [42.0, 1185.0, 358.0, 1038.0, 299.0, 0.9951]   \n",
       "4   [39.0, 986.0, 361.0, 1347.0, 299.0, 2.2907]   \n",
       "\n",
       "                             numeric_features_scaled  \\\n",
       "0  [4.131577965924315, 0.7658678113742143, 0.8324...   \n",
       "1  [2.860323207178372, 0.8048491071627223, 0.7515...   \n",
       "2  [1.8274287156972933, 0.999296982625397, 0.7325...   \n",
       "3  [3.3370437417081007, 0.5434451236397868, 0.851...   \n",
       "4  [3.098683474443236, 0.45218303114669184, 0.858...   \n",
       "\n",
       "                                        all_features  \n",
       "0  [4.131577965924315, 0.7658678113742143, 0.8324...  \n",
       "1  [2.860323207178372, 0.8048491071627223, 0.7515...  \n",
       "2  [1.8274287156972933, 0.999296982625397, 0.7325...  \n",
       "3  [3.3370437417081007, 0.5434451236397868, 0.851...  \n",
       "4  [3.098683474443236, 0.45218303114669184, 0.858...  "
      ]
     },
     "execution_count": 12,
     "metadata": {},
     "output_type": "execute_result"
    }
   ],
   "source": [
    "# Выведем на экран первые 5 строк нового датафрейма.\n",
    "pd.DataFrame(data_filled.head(5), columns=data_filled.columns)"
   ]
  },
  {
   "cell_type": "markdown",
   "id": "9f0a82f3",
   "metadata": {
    "id": "9f0a82f3"
   },
   "source": [
    "## Обучение моделей"
   ]
  },
  {
   "cell_type": "markdown",
   "id": "1e79909f",
   "metadata": {},
   "source": [
    "Разделим наш датасет на две части — выборку для обучения и выборку для тестирования качества модели."
   ]
  },
  {
   "cell_type": "code",
   "execution_count": 13,
   "id": "f0be0c16",
   "metadata": {},
   "outputs": [
    {
     "name": "stderr",
     "output_type": "stream",
     "text": [
      "[Stage 38:====================================================> (195 + 1) / 200]\r"
     ]
    },
    {
     "name": "stdout",
     "output_type": "stream",
     "text": [
      "Train shape: 16397 \n",
      " Test shape: 4237\n"
     ]
    },
    {
     "name": "stderr",
     "output_type": "stream",
     "text": [
      "                                                                                \r"
     ]
    }
   ],
   "source": [
    "train_data, test_data = data_filled.randomSplit([.8,.2], seed=52)\n",
    "\n",
    "# Посмотрим на размер получившихся выборок\n",
    "print('Train shape:', train_data.count(), '\\n', 'Test shape:', test_data.count()) "
   ]
  },
  {
   "cell_type": "markdown",
   "id": "06eff6b3",
   "metadata": {},
   "source": [
    "Добавим в тестовый датасет средние и медианные предсказания для проверки моделей на адекватность."
   ]
  },
  {
   "cell_type": "code",
   "execution_count": 14,
   "id": "3e343276",
   "metadata": {},
   "outputs": [
    {
     "name": "stderr",
     "output_type": "stream",
     "text": [
      "                                                                                \r"
     ]
    }
   ],
   "source": [
    "# Рассчитаем среднее и медиану нашего таргета на тренировочной выборке\n",
    "mean = train_data.select(F.mean('median_house_value')).collect()[0].__getitem__('avg(median_house_value)')\n",
    "median = train_data.approxQuantile('median_house_value', [0.5], 0)[0]\n",
    "\n",
    "# Добавим в тестовые данные столбцы \"mean_prediction\" и \"median_prediction\" \n",
    "# и заполним их средним и медианным значениями соответсвенно.\n",
    "test_data = test_data.withColumn('mean_prediction', F.lit(mean)).withColumn('median_prediction', F.lit(median))"
   ]
  },
  {
   "cell_type": "markdown",
   "id": "1dcba256",
   "metadata": {},
   "source": [
    "### Обучим модель на всех признаках"
   ]
  },
  {
   "cell_type": "markdown",
   "id": "5fff823e",
   "metadata": {},
   "source": [
    "При обучении модели используем регуляризацию ElasticNet (L1/L2 = 0.5/0.5). Силу регуляризации зададим равную 1."
   ]
  },
  {
   "cell_type": "code",
   "execution_count": 15,
   "id": "bddb08c4",
   "metadata": {
    "id": "bddb08c4",
    "scrolled": true
   },
   "outputs": [
    {
     "name": "stderr",
     "output_type": "stream",
     "text": [
      "22/04/03 15:07:19 WARN BLAS: Failed to load implementation from: com.github.fommil.netlib.NativeSystemBLAS\n",
      "22/04/03 15:07:19 WARN BLAS: Failed to load implementation from: com.github.fommil.netlib.NativeRefBLAS\n",
      "                                                                                \r"
     ]
    },
    {
     "name": "stdout",
     "output_type": "stream",
     "text": [
      "Coefficients: \n",
      " [14244.540083231796,-14253.640250777864,31746.09959777052,-46796.65904796323,33544.479440083334,76138.32238893038,5030.0567013015025,-64691.988223068125,17614.080411051946,8686.207557226984]\n"
     ]
    }
   ],
   "source": [
    "linReg = LinearRegression(featuresCol='all_features',\n",
    "                          regParam=1,\n",
    "                          elasticNetParam=0.5,\n",
    "                          labelCol=target,\n",
    "                          predictionCol='prediction',\n",
    "                          standardization=False\n",
    "                         )\n",
    "\n",
    "LinRegFitted = linReg.fit(train_data)\n",
    "\n",
    "predictionsAllFeatures = LinRegFitted.transform(test_data)\n",
    "\n",
    "print('Coefficients: \\n', LinRegFitted.coefficients)"
   ]
  },
  {
   "cell_type": "markdown",
   "id": "afd8496c",
   "metadata": {},
   "source": [
    "### Обучим модель только на числовых признаках"
   ]
  },
  {
   "cell_type": "markdown",
   "id": "216a33b9",
   "metadata": {},
   "source": [
    "При обучении модели также используем регуляризацию ElasticNet (L1/L2 = 0.5/0.5). Силу регуляризации зададим равную 1."
   ]
  },
  {
   "cell_type": "code",
   "execution_count": 16,
   "id": "380308da",
   "metadata": {
    "id": "bddb08c4"
   },
   "outputs": [
    {
     "name": "stderr",
     "output_type": "stream",
     "text": [
      "[Stage 62:===================================================>  (192 + 1) / 200]\r"
     ]
    },
    {
     "name": "stdout",
     "output_type": "stream",
     "text": [
      "Coefficients: \n",
      " [23083.541866944306,-42266.89941424237,42656.57128986577,-43243.01003375272,48765.12324233819,90427.48578248474]\n"
     ]
    },
    {
     "name": "stderr",
     "output_type": "stream",
     "text": [
      "                                                                                \r"
     ]
    }
   ],
   "source": [
    "linReg = LinearRegression(featuresCol='numeric_features_scaled',\n",
    "                          regParam=1,\n",
    "                          elasticNetParam=0.5,\n",
    "                          labelCol=target,\n",
    "                          predictionCol='prediction',\n",
    "                          standardization=False\n",
    "                          )\n",
    "\n",
    "LinRegFitted = linReg.fit(train_data)\n",
    "\n",
    "predictionsNumFeatures = LinRegFitted.transform(test_data)\n",
    "\n",
    "print('Coefficients: \\n', LinRegFitted.coefficients)"
   ]
  },
  {
   "cell_type": "markdown",
   "id": "17af9e7d",
   "metadata": {},
   "source": [
    "У обоих моделей получились высокие коэффициенты. Это можно объяснить тем, что значения признаков маленькие (так как они были отмасштабированы), а предсказываем мы медианную стоимость (большой показатель)."
   ]
  },
  {
   "cell_type": "markdown",
   "id": "757fd103",
   "metadata": {
    "id": "757fd103"
   },
   "source": [
    "## Анализ результатов"
   ]
  },
  {
   "cell_type": "markdown",
   "id": "eea6ce91",
   "metadata": {},
   "source": [
    "Сравним результаты работы линейной регрессии на двух наборах данных по метрикам RMSE, MAE и R2"
   ]
  },
  {
   "cell_type": "code",
   "execution_count": 17,
   "id": "29661b7a",
   "metadata": {
    "scrolled": true
   },
   "outputs": [
    {
     "name": "stderr",
     "output_type": "stream",
     "text": [
      "                                                                                \r"
     ]
    },
    {
     "data": {
      "text/html": [
       "<div>\n",
       "<style scoped>\n",
       "    .dataframe tbody tr th:only-of-type {\n",
       "        vertical-align: middle;\n",
       "    }\n",
       "\n",
       "    .dataframe tbody tr th {\n",
       "        vertical-align: top;\n",
       "    }\n",
       "\n",
       "    .dataframe thead th {\n",
       "        text-align: right;\n",
       "    }\n",
       "</style>\n",
       "<table border=\"1\" class=\"dataframe\">\n",
       "  <thead>\n",
       "    <tr style=\"text-align: right;\">\n",
       "      <th></th>\n",
       "      <th>allFeaturesModel</th>\n",
       "      <th>numFeaturesModel</th>\n",
       "      <th>dummyModel</th>\n",
       "    </tr>\n",
       "  </thead>\n",
       "  <tbody>\n",
       "    <tr>\n",
       "      <th>rmse</th>\n",
       "      <td>69458.563317</td>\n",
       "      <td>74837.544256</td>\n",
       "      <td>114594.693013</td>\n",
       "    </tr>\n",
       "    <tr>\n",
       "      <th>mae</th>\n",
       "      <td>50573.873279</td>\n",
       "      <td>55120.338368</td>\n",
       "      <td>87867.732830</td>\n",
       "    </tr>\n",
       "    <tr>\n",
       "      <th>r2</th>\n",
       "      <td>0.632439</td>\n",
       "      <td>0.573306</td>\n",
       "      <td>NaN</td>\n",
       "    </tr>\n",
       "  </tbody>\n",
       "</table>\n",
       "</div>"
      ],
      "text/plain": [
       "      allFeaturesModel  numFeaturesModel     dummyModel\n",
       "rmse      69458.563317      74837.544256  114594.693013\n",
       "mae       50573.873279      55120.338368   87867.732830\n",
       "r2            0.632439          0.573306            NaN"
      ]
     },
     "execution_count": 17,
     "metadata": {},
     "output_type": "execute_result"
    }
   ],
   "source": [
    "# Инициализируем \"RegressionEvaluator\" для оценки предсказаний моделей.\n",
    "evaluator = RegressionEvaluator(labelCol=target)\n",
    "\n",
    "# Создадим таблицу, в которую сохраним результаты оценки моделей\n",
    "metrics_table = pd.DataFrame()\n",
    "\n",
    "# В цикле вычислим необходимые метрики для обоих моделей и сохраним результаты в таблицу \"metrics_table\"\n",
    "for metric in ['rmse', 'mae', 'r2']:\n",
    "    for model_name, features in zip(['allFeaturesModel', 'numFeaturesModel'], [predictionsAllFeatures, predictionsNumFeatures]):\n",
    "        evaluator.setPredictionCol(\"prediction\")\n",
    "        res = evaluator.evaluate(features, {evaluator.metricName: metric})\n",
    "        metrics_table.loc[metric, model_name] = res\n",
    "    # Также добавим блок, в котором рассчитаем метрики для константных предсказаний\n",
    "    if metric == 'rmse':\n",
    "        evaluator.setPredictionCol(\"mean_prediction\")\n",
    "        res = evaluator.evaluate(test_data, {evaluator.metricName: metric})\n",
    "        metrics_table.loc[metric, 'dummyModel'] = res\n",
    "    elif metric == 'mae':\n",
    "        evaluator.setPredictionCol(\"median_prediction\")\n",
    "        res = evaluator.evaluate(test_data, {evaluator.metricName: metric})\n",
    "        metrics_table.loc[metric, 'dummyModel'] = res\n",
    "\n",
    "# Выведем результаты на экран\n",
    "metrics_table"
   ]
  },
  {
   "cell_type": "markdown",
   "id": "879837b2",
   "metadata": {
    "id": "757fd103"
   },
   "source": [
    "## Выводы"
   ]
  },
  {
   "cell_type": "markdown",
   "id": "d783c812",
   "metadata": {},
   "source": [
    "В первую очередь, стоит сказать, что обе модели прошли проверку на адекватность. Их RMSE и MAE ниже, чем у модели, которая дают константные предсказания.  \n",
    "Модель линейной регрессии, обученная на всех признаках показала более высокий результат по всем метрикам, нежели модель линейной регрессии, обученная только на числовых признаках.  \n",
    "Оценки предсказаний моделей представленны в таблице ниже:\n",
    "  \n",
    "\n",
    "|      |   allFeaturesModel |   numFeaturesModel |   dummyModel |\n",
    "|:-----|-------------------:|-------------------:|--------------:|\n",
    "| rmse |       69458.6      |       74837.5      |      114595   |\n",
    "| mae  |       50573.9      |       55120.3      |       87867.7 |\n",
    "| r2   |           0.632439 |           0.573306 |         nan   |\n"
   ]
  }
 ],
 "metadata": {
  "ExecuteTimeLog": [
   {
    "duration": 303,
    "start_time": "2022-04-01T14:51:01.968Z"
   },
   {
    "duration": 67,
    "start_time": "2022-04-01T14:51:04.512Z"
   },
   {
    "duration": 4,
    "start_time": "2022-04-01T14:51:14.756Z"
   },
   {
    "duration": 8,
    "start_time": "2022-04-01T14:51:15.575Z"
   },
   {
    "duration": 3,
    "start_time": "2022-04-01T14:52:32.060Z"
   },
   {
    "duration": 3,
    "start_time": "2022-04-01T14:52:35.681Z"
   },
   {
    "duration": 3,
    "start_time": "2022-04-01T14:52:38.072Z"
   },
   {
    "duration": 3,
    "start_time": "2022-04-01T14:52:41.103Z"
   },
   {
    "duration": 14624,
    "start_time": "2022-04-01T14:56:16.369Z"
   },
   {
    "duration": 8501,
    "start_time": "2022-04-01T15:28:11.381Z"
   },
   {
    "duration": 45,
    "start_time": "2022-04-01T15:28:35.461Z"
   },
   {
    "duration": 9,
    "start_time": "2022-04-01T15:28:44.833Z"
   },
   {
    "duration": 4,
    "start_time": "2022-04-01T15:28:47.354Z"
   },
   {
    "duration": 7,
    "start_time": "2022-04-01T15:28:55.125Z"
   },
   {
    "duration": 4,
    "start_time": "2022-04-01T15:28:58.715Z"
   },
   {
    "duration": 6,
    "start_time": "2022-04-01T15:29:06.984Z"
   },
   {
    "duration": 3,
    "start_time": "2022-04-01T15:29:10.853Z"
   },
   {
    "duration": 5,
    "start_time": "2022-04-01T15:30:04.902Z"
   },
   {
    "duration": 857,
    "start_time": "2022-04-01T15:31:18.525Z"
   },
   {
    "duration": 3587,
    "start_time": "2022-04-01T15:33:12.203Z"
   },
   {
    "duration": 1817,
    "start_time": "2022-04-01T15:33:26.164Z"
   },
   {
    "duration": 4,
    "start_time": "2022-04-01T15:47:35.104Z"
   },
   {
    "duration": 7,
    "start_time": "2022-04-01T15:47:40.847Z"
   },
   {
    "duration": 157,
    "start_time": "2022-04-01T15:47:45.383Z"
   },
   {
    "duration": 7,
    "start_time": "2022-04-01T15:47:50.804Z"
   },
   {
    "duration": 5,
    "start_time": "2022-04-01T15:47:59.396Z"
   },
   {
    "duration": 7,
    "start_time": "2022-04-01T15:48:09.551Z"
   },
   {
    "duration": 4,
    "start_time": "2022-04-01T15:48:22.777Z"
   },
   {
    "duration": 137,
    "start_time": "2022-04-01T15:48:25.164Z"
   },
   {
    "duration": 694,
    "start_time": "2022-04-01T15:48:34.989Z"
   },
   {
    "duration": 10,
    "start_time": "2022-04-01T15:51:11.907Z"
   },
   {
    "duration": 11,
    "start_time": "2022-04-01T15:51:46.006Z"
   },
   {
    "duration": 1328,
    "start_time": "2022-04-01T15:51:49.465Z"
   },
   {
    "duration": 667,
    "start_time": "2022-04-01T15:51:59.436Z"
   },
   {
    "duration": 16,
    "start_time": "2022-04-01T15:53:51.156Z"
   },
   {
    "duration": 1003,
    "start_time": "2022-04-01T15:53:56.872Z"
   },
   {
    "duration": 575,
    "start_time": "2022-04-01T15:54:07.109Z"
   },
   {
    "duration": 694,
    "start_time": "2022-04-01T15:54:14.933Z"
   },
   {
    "duration": 150,
    "start_time": "2022-04-01T15:55:33.422Z"
   },
   {
    "duration": 153,
    "start_time": "2022-04-01T15:55:39.737Z"
   },
   {
    "duration": 145,
    "start_time": "2022-04-01T15:55:42.496Z"
   },
   {
    "duration": 170,
    "start_time": "2022-04-01T15:55:46.647Z"
   },
   {
    "duration": 133,
    "start_time": "2022-04-01T15:56:10.376Z"
   },
   {
    "duration": 802,
    "start_time": "2022-04-01T15:56:47.686Z"
   },
   {
    "duration": 217,
    "start_time": "2022-04-01T15:58:47.867Z"
   },
   {
    "duration": 106,
    "start_time": "2022-04-01T15:59:13.305Z"
   },
   {
    "duration": 82,
    "start_time": "2022-04-01T16:00:39.426Z"
   },
   {
    "duration": 74,
    "start_time": "2022-04-01T16:00:44.564Z"
   },
   {
    "duration": 74,
    "start_time": "2022-04-01T16:01:23.206Z"
   },
   {
    "duration": 4,
    "start_time": "2022-04-01T16:01:25.299Z"
   },
   {
    "duration": 552,
    "start_time": "2022-04-01T16:01:25.855Z"
   },
   {
    "duration": 591,
    "start_time": "2022-04-01T16:01:26.409Z"
   },
   {
    "duration": 203,
    "start_time": "2022-04-01T16:01:27.002Z"
   },
   {
    "duration": 124,
    "start_time": "2022-04-01T16:03:06.081Z"
   },
   {
    "duration": 124,
    "start_time": "2022-04-01T16:03:11.590Z"
   },
   {
    "duration": 155,
    "start_time": "2022-04-01T16:03:17.211Z"
   },
   {
    "duration": 161,
    "start_time": "2022-04-01T16:03:23.103Z"
   },
   {
    "duration": 95,
    "start_time": "2022-04-01T16:03:44.514Z"
   },
   {
    "duration": 82,
    "start_time": "2022-04-01T16:06:18.889Z"
   },
   {
    "duration": 115,
    "start_time": "2022-04-01T16:06:22.850Z"
   },
   {
    "duration": 69,
    "start_time": "2022-04-01T16:06:30.941Z"
   },
   {
    "duration": 66,
    "start_time": "2022-04-01T16:06:37.911Z"
   },
   {
    "duration": 66,
    "start_time": "2022-04-01T16:06:40.847Z"
   },
   {
    "duration": 84,
    "start_time": "2022-04-01T16:07:20.888Z"
   },
   {
    "duration": 126,
    "start_time": "2022-04-01T16:07:45.372Z"
   },
   {
    "duration": 150,
    "start_time": "2022-04-01T16:07:48.865Z"
   },
   {
    "duration": 89,
    "start_time": "2022-04-01T16:07:50.781Z"
   },
   {
    "duration": 68,
    "start_time": "2022-04-01T16:08:43.329Z"
   },
   {
    "duration": 7,
    "start_time": "2022-04-01T16:12:49.244Z"
   },
   {
    "duration": 258,
    "start_time": "2022-04-01T16:13:40.509Z"
   },
   {
    "duration": 147,
    "start_time": "2022-04-01T16:16:13.822Z"
   },
   {
    "duration": 32,
    "start_time": "2022-04-01T16:16:51.830Z"
   },
   {
    "duration": 12,
    "start_time": "2022-04-01T16:17:09.306Z"
   },
   {
    "duration": 11,
    "start_time": "2022-04-01T16:17:32.865Z"
   },
   {
    "duration": 13,
    "start_time": "2022-04-01T16:18:01.109Z"
   },
   {
    "duration": 9,
    "start_time": "2022-04-01T16:30:29.424Z"
   },
   {
    "duration": 140,
    "start_time": "2022-04-01T16:30:53.617Z"
   },
   {
    "duration": 1173,
    "start_time": "2022-04-01T16:30:57.916Z"
   },
   {
    "duration": 534,
    "start_time": "2022-04-01T16:32:26.752Z"
   },
   {
    "duration": 6906,
    "start_time": "2022-04-01T16:32:34.480Z"
   },
   {
    "duration": 136,
    "start_time": "2022-04-01T16:33:53.369Z"
   },
   {
    "duration": 5101,
    "start_time": "2022-04-01T16:34:07.871Z"
   },
   {
    "duration": 4414,
    "start_time": "2022-04-01T16:34:28.864Z"
   },
   {
    "duration": 34,
    "start_time": "2022-04-01T16:34:37.995Z"
   },
   {
    "duration": 4861,
    "start_time": "2022-04-01T16:34:49.435Z"
   },
   {
    "duration": 30,
    "start_time": "2022-04-01T16:35:28.572Z"
   },
   {
    "duration": 3475,
    "start_time": "2022-04-01T16:35:30.414Z"
   },
   {
    "duration": 39,
    "start_time": "2022-04-01T16:35:52.612Z"
   },
   {
    "duration": 3693,
    "start_time": "2022-04-01T16:35:53.587Z"
   },
   {
    "duration": 40,
    "start_time": "2022-04-01T16:36:45.728Z"
   },
   {
    "duration": 3598,
    "start_time": "2022-04-01T16:36:46.773Z"
   },
   {
    "duration": 36,
    "start_time": "2022-04-01T16:36:57.681Z"
   },
   {
    "duration": 2833,
    "start_time": "2022-04-01T16:37:01.390Z"
   },
   {
    "duration": 302,
    "start_time": "2022-04-01T16:39:17.705Z"
   },
   {
    "duration": 140,
    "start_time": "2022-04-01T16:40:27.666Z"
   },
   {
    "duration": 122,
    "start_time": "2022-04-01T16:40:42.170Z"
   },
   {
    "duration": 1158,
    "start_time": "2022-04-01T16:40:44.505Z"
   },
   {
    "duration": 1199,
    "start_time": "2022-04-01T16:41:01.159Z"
   },
   {
    "duration": 19,
    "start_time": "2022-04-01T16:42:22.847Z"
   },
   {
    "duration": 10,
    "start_time": "2022-04-01T16:42:29.413Z"
   },
   {
    "duration": 8,
    "start_time": "2022-04-01T16:42:34.831Z"
   },
   {
    "duration": 16,
    "start_time": "2022-04-01T16:42:46.587Z"
   },
   {
    "duration": 14,
    "start_time": "2022-04-01T16:42:53.846Z"
   },
   {
    "duration": 15,
    "start_time": "2022-04-01T16:43:02.042Z"
   },
   {
    "duration": 4,
    "start_time": "2022-04-01T16:43:11.800Z"
   },
   {
    "duration": 4,
    "start_time": "2022-04-01T16:43:59.329Z"
   },
   {
    "duration": 9,
    "start_time": "2022-04-01T16:44:21.948Z"
   },
   {
    "duration": 4,
    "start_time": "2022-04-01T16:44:25.300Z"
   },
   {
    "duration": 5,
    "start_time": "2022-04-01T16:46:10.542Z"
   },
   {
    "duration": 136,
    "start_time": "2022-04-01T16:46:23.819Z"
   },
   {
    "duration": 8,
    "start_time": "2022-04-01T16:46:29.579Z"
   },
   {
    "duration": 5,
    "start_time": "2022-04-01T16:46:35.784Z"
   },
   {
    "duration": 10,
    "start_time": "2022-04-01T16:46:46.825Z"
   },
   {
    "duration": 4,
    "start_time": "2022-04-01T16:46:58.567Z"
   },
   {
    "duration": 3,
    "start_time": "2022-04-01T16:47:06.850Z"
   },
   {
    "duration": 993,
    "start_time": "2022-04-01T16:47:36.824Z"
   },
   {
    "duration": 127,
    "start_time": "2022-04-01T16:48:04.304Z"
   },
   {
    "duration": 1013,
    "start_time": "2022-04-01T16:48:09.291Z"
   },
   {
    "duration": 888,
    "start_time": "2022-04-01T16:48:57.946Z"
   },
   {
    "duration": 1568,
    "start_time": "2022-04-01T16:49:06.624Z"
   },
   {
    "duration": 34,
    "start_time": "2022-04-01T16:49:37.355Z"
   },
   {
    "duration": 3732,
    "start_time": "2022-04-01T16:49:38.251Z"
   },
   {
    "duration": 180,
    "start_time": "2022-04-01T16:51:08.423Z"
   },
   {
    "duration": 31,
    "start_time": "2022-04-01T16:51:11.912Z"
   },
   {
    "duration": 2832,
    "start_time": "2022-04-01T16:51:12.155Z"
   },
   {
    "duration": 26,
    "start_time": "2022-04-01T16:51:20.121Z"
   },
   {
    "duration": 42,
    "start_time": "2022-04-01T16:52:01.550Z"
   },
   {
    "duration": 2306,
    "start_time": "2022-04-01T16:52:02.124Z"
   },
   {
    "duration": 2466,
    "start_time": "2022-04-01T16:52:13.606Z"
   },
   {
    "duration": 3025,
    "start_time": "2022-04-01T16:58:24.967Z"
   },
   {
    "duration": 13666,
    "start_time": "2022-04-01T17:37:40.453Z"
   },
   {
    "duration": 9353,
    "start_time": "2022-04-01T17:38:16.512Z"
   },
   {
    "duration": 3,
    "start_time": "2022-04-01T18:03:17.878Z"
   },
   {
    "duration": 3,
    "start_time": "2022-04-01T18:03:34.264Z"
   },
   {
    "duration": 840,
    "start_time": "2022-04-01T18:11:09.015Z"
   },
   {
    "duration": 319,
    "start_time": "2022-04-01T18:11:21.596Z"
   },
   {
    "duration": 3,
    "start_time": "2022-04-01T18:13:12.189Z"
   },
   {
    "duration": 25,
    "start_time": "2022-04-01T18:14:49.986Z"
   },
   {
    "duration": 3,
    "start_time": "2022-04-01T18:15:07.736Z"
   },
   {
    "duration": 6500,
    "start_time": "2022-04-01T18:15:08.389Z"
   },
   {
    "duration": 2,
    "start_time": "2022-04-01T18:15:17.476Z"
   },
   {
    "duration": 400,
    "start_time": "2022-04-01T18:15:27.463Z"
   },
   {
    "duration": 3577,
    "start_time": "2022-04-01T18:15:48.618Z"
   },
   {
    "duration": 393,
    "start_time": "2022-04-01T18:15:52.197Z"
   },
   {
    "duration": 6,
    "start_time": "2022-04-01T18:16:18.065Z"
   },
   {
    "duration": 436,
    "start_time": "2022-04-01T18:16:24.387Z"
   },
   {
    "duration": 66,
    "start_time": "2022-04-01T18:17:28.255Z"
   },
   {
    "duration": 69,
    "start_time": "2022-04-01T18:17:41.998Z"
   },
   {
    "duration": 167,
    "start_time": "2022-04-01T18:22:30.706Z"
   },
   {
    "duration": 198,
    "start_time": "2022-04-01T18:22:42.409Z"
   },
   {
    "duration": 4,
    "start_time": "2022-04-01T18:30:36.538Z"
   },
   {
    "duration": 131,
    "start_time": "2022-04-01T18:32:23.015Z"
   },
   {
    "duration": 137,
    "start_time": "2022-04-01T18:32:32.725Z"
   },
   {
    "duration": 4,
    "start_time": "2022-04-01T18:32:38.857Z"
   },
   {
    "duration": 4,
    "start_time": "2022-04-01T18:32:44.271Z"
   },
   {
    "duration": 4,
    "start_time": "2022-04-01T18:33:14.370Z"
   },
   {
    "duration": 68,
    "start_time": "2022-04-01T18:44:46.614Z"
   },
   {
    "duration": 19,
    "start_time": "2022-04-01T18:50:28.343Z"
   },
   {
    "duration": 71,
    "start_time": "2022-04-01T18:53:27.201Z"
   },
   {
    "duration": 3,
    "start_time": "2022-04-01T18:53:27.274Z"
   },
   {
    "duration": 209,
    "start_time": "2022-04-01T18:53:27.279Z"
   },
   {
    "duration": 374,
    "start_time": "2022-04-01T18:53:27.490Z"
   },
   {
    "duration": 850,
    "start_time": "2022-04-01T18:53:27.866Z"
   },
   {
    "duration": 2148,
    "start_time": "2022-04-01T18:53:28.717Z"
   },
   {
    "duration": 2127,
    "start_time": "2022-04-01T18:53:30.866Z"
   },
   {
    "duration": 9594,
    "start_time": "2022-04-01T18:53:32.994Z"
   },
   {
    "duration": 3,
    "start_time": "2022-04-01T18:53:42.589Z"
   },
   {
    "duration": 7319,
    "start_time": "2022-04-01T18:53:42.594Z"
   },
   {
    "duration": 856,
    "start_time": "2022-04-01T18:53:49.915Z"
   },
   {
    "duration": 103,
    "start_time": "2022-04-01T18:53:50.773Z"
   },
   {
    "duration": 443,
    "start_time": "2022-04-01T18:54:00.252Z"
   },
   {
    "duration": 319,
    "start_time": "2022-04-01T18:54:06.267Z"
   },
   {
    "duration": 18,
    "start_time": "2022-04-01T19:12:02.914Z"
   },
   {
    "duration": 10314,
    "start_time": "2022-04-01T19:12:37.111Z"
   },
   {
    "duration": 6766,
    "start_time": "2022-04-01T19:18:21.825Z"
   },
   {
    "duration": 4,
    "start_time": "2022-04-01T19:19:27.725Z"
   },
   {
    "duration": 769,
    "start_time": "2022-04-02T19:37:00.229Z"
   },
   {
    "duration": 17378,
    "start_time": "2022-04-02T19:37:01.002Z"
   },
   {
    "duration": 11097,
    "start_time": "2022-04-02T19:37:18.383Z"
   },
   {
    "duration": 61,
    "start_time": "2022-04-02T19:37:29.482Z"
   },
   {
    "duration": 3240,
    "start_time": "2022-04-02T19:37:29.547Z"
   },
   {
    "duration": 4574,
    "start_time": "2022-04-02T19:37:32.791Z"
   },
   {
    "duration": 13400,
    "start_time": "2022-04-02T19:37:37.368Z"
   },
   {
    "duration": 9795,
    "start_time": "2022-04-02T19:37:50.770Z"
   },
   {
    "duration": 26142,
    "start_time": "2022-04-02T19:38:00.568Z"
   },
   {
    "duration": 5,
    "start_time": "2022-04-02T19:38:26.744Z"
   },
   {
    "duration": 18824,
    "start_time": "2022-04-02T19:38:26.751Z"
   },
   {
    "duration": 984,
    "start_time": "2022-04-02T19:38:45.577Z"
   },
   {
    "duration": 22408,
    "start_time": "2022-04-02T19:38:46.563Z"
   },
   {
    "duration": 337,
    "start_time": "2022-04-02T19:39:08.975Z"
   },
   {
    "duration": 0,
    "start_time": "2022-04-02T19:39:09.314Z"
   },
   {
    "duration": 213,
    "start_time": "2022-04-02T19:45:42.162Z"
   },
   {
    "duration": 218,
    "start_time": "2022-04-02T19:45:57.364Z"
   },
   {
    "duration": 6,
    "start_time": "2022-04-02T19:46:23.459Z"
   },
   {
    "duration": 29531,
    "start_time": "2022-04-02T19:46:25.822Z"
   },
   {
    "duration": 20161,
    "start_time": "2022-04-02T19:47:01.802Z"
   },
   {
    "duration": 13,
    "start_time": "2022-04-02T19:49:15.809Z"
   },
   {
    "duration": 230,
    "start_time": "2022-04-02T19:51:41.586Z"
   },
   {
    "duration": 17001,
    "start_time": "2022-04-02T19:51:46.377Z"
   },
   {
    "duration": 13,
    "start_time": "2022-04-02T19:55:19.593Z"
   },
   {
    "duration": 218,
    "start_time": "2022-04-02T19:56:11.347Z"
   },
   {
    "duration": 16705,
    "start_time": "2022-04-02T19:56:14.777Z"
   },
   {
    "duration": 14799,
    "start_time": "2022-04-02T19:56:49.779Z"
   },
   {
    "duration": 16242,
    "start_time": "2022-04-02T19:57:34.110Z"
   },
   {
    "duration": 18231,
    "start_time": "2022-04-02T19:58:03.754Z"
   },
   {
    "duration": 221,
    "start_time": "2022-04-02T19:59:38.391Z"
   },
   {
    "duration": 14963,
    "start_time": "2022-04-02T19:59:42.711Z"
   },
   {
    "duration": 18,
    "start_time": "2022-04-02T20:01:38.050Z"
   },
   {
    "duration": 7003,
    "start_time": "2022-04-02T20:01:44.342Z"
   },
   {
    "duration": 12,
    "start_time": "2022-04-02T20:05:55.184Z"
   },
   {
    "duration": 5487,
    "start_time": "2022-04-02T20:06:28.472Z"
   },
   {
    "duration": 4,
    "start_time": "2022-04-02T20:09:03.891Z"
   },
   {
    "duration": 9,
    "start_time": "2022-04-02T20:09:19.516Z"
   },
   {
    "duration": 9,
    "start_time": "2022-04-02T20:10:37.861Z"
   },
   {
    "duration": 11,
    "start_time": "2022-04-02T20:10:38.643Z"
   },
   {
    "duration": 6,
    "start_time": "2022-04-02T20:10:46.672Z"
   },
   {
    "duration": 9,
    "start_time": "2022-04-02T20:10:47.061Z"
   },
   {
    "duration": 14,
    "start_time": "2022-04-02T20:11:42.147Z"
   },
   {
    "duration": 11,
    "start_time": "2022-04-02T20:11:50.089Z"
   },
   {
    "duration": 4049,
    "start_time": "2022-04-02T20:12:31.307Z"
   },
   {
    "duration": 4,
    "start_time": "2022-04-02T20:15:58.204Z"
   },
   {
    "duration": 11,
    "start_time": "2022-04-02T20:16:00.371Z"
   },
   {
    "duration": 4,
    "start_time": "2022-04-02T20:16:03.562Z"
   },
   {
    "duration": 11,
    "start_time": "2022-04-02T20:16:09.314Z"
   },
   {
    "duration": 9,
    "start_time": "2022-04-02T20:16:27.768Z"
   },
   {
    "duration": 17,
    "start_time": "2022-04-02T20:16:36.960Z"
   },
   {
    "duration": 28428,
    "start_time": "2022-04-02T20:21:18.923Z"
   },
   {
    "duration": 14782,
    "start_time": "2022-04-02T20:33:47.163Z"
   },
   {
    "duration": 14694,
    "start_time": "2022-04-02T20:34:15.399Z"
   },
   {
    "duration": 6159,
    "start_time": "2022-04-02T20:34:47.699Z"
   },
   {
    "duration": 314,
    "start_time": "2022-04-02T20:37:31.591Z"
   },
   {
    "duration": 292,
    "start_time": "2022-04-02T20:42:00.563Z"
   },
   {
    "duration": 24,
    "start_time": "2022-04-02T20:43:28.780Z"
   },
   {
    "duration": 5836,
    "start_time": "2022-04-02T20:43:37.641Z"
   },
   {
    "duration": 27,
    "start_time": "2022-04-02T20:45:49.394Z"
   },
   {
    "duration": 15,
    "start_time": "2022-04-02T20:45:56.886Z"
   },
   {
    "duration": 31,
    "start_time": "2022-04-02T20:46:01.632Z"
   },
   {
    "duration": 14,
    "start_time": "2022-04-02T20:46:10.412Z"
   },
   {
    "duration": 15,
    "start_time": "2022-04-02T20:46:14.727Z"
   },
   {
    "duration": 30,
    "start_time": "2022-04-02T20:46:21.225Z"
   },
   {
    "duration": 36,
    "start_time": "2022-04-02T20:48:57.578Z"
   },
   {
    "duration": 24,
    "start_time": "2022-04-02T20:49:24.738Z"
   },
   {
    "duration": 15,
    "start_time": "2022-04-02T20:51:10.033Z"
   },
   {
    "duration": 11,
    "start_time": "2022-04-02T20:51:29.101Z"
   },
   {
    "duration": 10,
    "start_time": "2022-04-02T20:51:51.619Z"
   },
   {
    "duration": 19,
    "start_time": "2022-04-02T20:51:58.020Z"
   },
   {
    "duration": 20,
    "start_time": "2022-04-02T20:52:30.030Z"
   },
   {
    "duration": 111,
    "start_time": "2022-04-02T20:53:04.670Z"
   },
   {
    "duration": 4921,
    "start_time": "2022-04-02T20:53:19.272Z"
   },
   {
    "duration": 5300,
    "start_time": "2022-04-02T20:56:24.520Z"
   },
   {
    "duration": 4444,
    "start_time": "2022-04-02T20:56:44.068Z"
   },
   {
    "duration": 4763,
    "start_time": "2022-04-02T20:56:55.830Z"
   },
   {
    "duration": 6,
    "start_time": "2022-04-02T20:57:15.293Z"
   },
   {
    "duration": 26,
    "start_time": "2022-04-02T20:57:22.058Z"
   },
   {
    "duration": 6,
    "start_time": "2022-04-02T20:57:39.435Z"
   },
   {
    "duration": 5,
    "start_time": "2022-04-02T20:57:48.382Z"
   },
   {
    "duration": 192,
    "start_time": "2022-04-02T20:57:51.172Z"
   },
   {
    "duration": 4374,
    "start_time": "2022-04-02T20:58:01.004Z"
   },
   {
    "duration": 9,
    "start_time": "2022-04-02T20:58:38.341Z"
   },
   {
    "duration": 386,
    "start_time": "2022-04-02T20:58:44.370Z"
   },
   {
    "duration": 249,
    "start_time": "2022-04-02T20:58:46.771Z"
   },
   {
    "duration": 6,
    "start_time": "2022-04-02T20:58:53.046Z"
   },
   {
    "duration": 4504,
    "start_time": "2022-04-02T20:59:05.678Z"
   },
   {
    "duration": 209,
    "start_time": "2022-04-02T20:59:26.859Z"
   },
   {
    "duration": 47,
    "start_time": "2022-04-02T20:59:39.564Z"
   },
   {
    "duration": 89,
    "start_time": "2022-04-02T20:59:47.956Z"
   },
   {
    "duration": 44,
    "start_time": "2022-04-02T20:59:53.001Z"
   },
   {
    "duration": 10,
    "start_time": "2022-04-02T21:01:55.795Z"
   },
   {
    "duration": 9,
    "start_time": "2022-04-02T21:02:00.082Z"
   },
   {
    "duration": 25,
    "start_time": "2022-04-02T21:02:24.495Z"
   },
   {
    "duration": 43,
    "start_time": "2022-04-02T21:02:59.944Z"
   },
   {
    "duration": 4515,
    "start_time": "2022-04-02T21:03:28.757Z"
   },
   {
    "duration": 6,
    "start_time": "2022-04-02T21:03:33.274Z"
   },
   {
    "duration": 19,
    "start_time": "2022-04-02T21:03:38.878Z"
   },
   {
    "duration": 6219,
    "start_time": "2022-04-02T21:03:45.158Z"
   },
   {
    "duration": 10,
    "start_time": "2022-04-02T21:05:48.520Z"
   },
   {
    "duration": 10,
    "start_time": "2022-04-02T21:10:41.437Z"
   },
   {
    "duration": 5199,
    "start_time": "2022-04-02T21:10:48.355Z"
   },
   {
    "duration": 13,
    "start_time": "2022-04-02T21:11:38.554Z"
   },
   {
    "duration": 16,
    "start_time": "2022-04-02T21:11:44.993Z"
   },
   {
    "duration": 5219,
    "start_time": "2022-04-02T21:11:54.035Z"
   },
   {
    "duration": 196,
    "start_time": "2022-04-02T21:12:03.502Z"
   },
   {
    "duration": 4451,
    "start_time": "2022-04-02T21:12:11.444Z"
   },
   {
    "duration": 8678,
    "start_time": "2022-04-02T21:12:23.998Z"
   },
   {
    "duration": 21,
    "start_time": "2022-04-02T21:12:35.668Z"
   },
   {
    "duration": 7031,
    "start_time": "2022-04-02T21:12:46.299Z"
   },
   {
    "duration": 8190,
    "start_time": "2022-04-02T21:13:42.927Z"
   },
   {
    "duration": 21,
    "start_time": "2022-04-02T21:14:29.565Z"
   },
   {
    "duration": 21,
    "start_time": "2022-04-02T21:17:35.377Z"
   },
   {
    "duration": 8881,
    "start_time": "2022-04-02T21:27:49.894Z"
   },
   {
    "duration": 12,
    "start_time": "2022-04-02T21:27:58.777Z"
   },
   {
    "duration": 25659,
    "start_time": "2022-04-02T21:31:25.240Z"
   },
   {
    "duration": 32453,
    "start_time": "2022-04-02T21:31:53.462Z"
   },
   {
    "duration": 13,
    "start_time": "2022-04-02T21:35:30.715Z"
   },
   {
    "duration": 8,
    "start_time": "2022-04-02T21:35:33.287Z"
   },
   {
    "duration": 16,
    "start_time": "2022-04-02T21:35:38.045Z"
   },
   {
    "duration": 6022,
    "start_time": "2022-04-02T21:36:47.273Z"
   },
   {
    "duration": 20,
    "start_time": "2022-04-02T21:36:56.334Z"
   },
   {
    "duration": 52,
    "start_time": "2022-04-02T21:37:02.824Z"
   },
   {
    "duration": 18,
    "start_time": "2022-04-02T21:37:03.693Z"
   },
   {
    "duration": 12,
    "start_time": "2022-04-02T21:37:13.010Z"
   },
   {
    "duration": 3791,
    "start_time": "2022-04-02T21:37:18.184Z"
   },
   {
    "duration": 12,
    "start_time": "2022-04-02T21:37:23.934Z"
   },
   {
    "duration": 6,
    "start_time": "2022-04-02T21:37:25.320Z"
   },
   {
    "duration": 4,
    "start_time": "2022-04-02T21:38:11.135Z"
   },
   {
    "duration": 107,
    "start_time": "2022-04-02T21:44:37.870Z"
   },
   {
    "duration": 8,
    "start_time": "2022-04-02T21:44:37.979Z"
   },
   {
    "duration": 778,
    "start_time": "2022-04-02T21:44:37.989Z"
   },
   {
    "duration": 6,
    "start_time": "2022-04-02T21:44:38.770Z"
   },
   {
    "duration": 829,
    "start_time": "2022-04-02T21:44:38.778Z"
   },
   {
    "duration": 1159,
    "start_time": "2022-04-02T21:44:39.609Z"
   },
   {
    "duration": 3312,
    "start_time": "2022-04-02T21:44:40.770Z"
   },
   {
    "duration": 2869,
    "start_time": "2022-04-02T21:44:44.084Z"
   },
   {
    "duration": 12389,
    "start_time": "2022-04-02T21:44:46.956Z"
   },
   {
    "duration": 5,
    "start_time": "2022-04-02T21:44:59.349Z"
   },
   {
    "duration": 8629,
    "start_time": "2022-04-02T21:44:59.357Z"
   },
   {
    "duration": 786,
    "start_time": "2022-04-02T21:45:07.988Z"
   },
   {
    "duration": 8000,
    "start_time": "2022-04-02T21:45:08.777Z"
   },
   {
    "duration": 8302,
    "start_time": "2022-04-02T21:45:16.779Z"
   },
   {
    "duration": 11674,
    "start_time": "2022-04-02T21:45:25.083Z"
   },
   {
    "duration": 11819,
    "start_time": "2022-04-02T21:45:36.759Z"
   },
   {
    "duration": 31184,
    "start_time": "2022-04-02T21:45:48.580Z"
   },
   {
    "duration": 569,
    "start_time": "2022-04-03T15:05:36.065Z"
   },
   {
    "duration": 15162,
    "start_time": "2022-04-03T15:05:36.635Z"
   },
   {
    "duration": 8177,
    "start_time": "2022-04-03T15:05:51.799Z"
   },
   {
    "duration": 4,
    "start_time": "2022-04-03T15:05:59.978Z"
   },
   {
    "duration": 2503,
    "start_time": "2022-04-03T15:05:59.983Z"
   },
   {
    "duration": 3417,
    "start_time": "2022-04-03T15:06:02.488Z"
   },
   {
    "duration": 10211,
    "start_time": "2022-04-03T15:06:05.963Z"
   },
   {
    "duration": 6202,
    "start_time": "2022-04-03T15:06:16.176Z"
   },
   {
    "duration": 19284,
    "start_time": "2022-04-03T15:06:22.379Z"
   },
   {
    "duration": 3,
    "start_time": "2022-04-03T15:06:41.666Z"
   },
   {
    "duration": 12910,
    "start_time": "2022-04-03T15:06:41.671Z"
   },
   {
    "duration": 515,
    "start_time": "2022-04-03T15:06:54.582Z"
   },
   {
    "duration": 12389,
    "start_time": "2022-04-03T15:06:55.099Z"
   },
   {
    "duration": 11081,
    "start_time": "2022-04-03T15:07:07.490Z"
   },
   {
    "duration": 15435,
    "start_time": "2022-04-03T15:07:18.573Z"
   },
   {
    "duration": 12667,
    "start_time": "2022-04-03T15:07:34.010Z"
   },
   {
    "duration": 33106,
    "start_time": "2022-04-03T15:07:46.679Z"
   },
   {
    "duration": 7106,
    "start_time": "2022-04-03T17:17:50.005Z"
   },
   {
    "duration": 5586,
    "start_time": "2022-04-03T17:18:12.929Z"
   }
  ],
  "colab": {
   "name": "PySparkSprint.ipynb",
   "provenance": []
  },
  "kernelspec": {
   "display_name": "Python 3 (ipykernel)",
   "language": "python",
   "name": "python3"
  },
  "language_info": {
   "codemirror_mode": {
    "name": "ipython",
    "version": 3
   },
   "file_extension": ".py",
   "mimetype": "text/x-python",
   "name": "python",
   "nbconvert_exporter": "python",
   "pygments_lexer": "ipython3",
   "version": "3.9.12"
  },
  "toc": {
   "base_numbering": 1,
   "nav_menu": {},
   "number_sections": true,
   "sideBar": true,
   "skip_h1_title": true,
   "title_cell": "Table of Contents",
   "title_sidebar": "Contents",
   "toc_cell": false,
   "toc_position": {
    "height": "calc(100% - 180px)",
    "left": "10px",
    "top": "150px",
    "width": "165px"
   },
   "toc_section_display": true,
   "toc_window_display": false
  }
 },
 "nbformat": 4,
 "nbformat_minor": 5
}
