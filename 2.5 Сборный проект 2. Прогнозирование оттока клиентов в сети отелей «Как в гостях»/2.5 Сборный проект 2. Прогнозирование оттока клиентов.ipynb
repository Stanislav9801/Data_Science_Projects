{
 "cells": [
  {
   "cell_type": "markdown",
   "metadata": {},
   "source": [
    "# Прогнозирование оттока клиентов в сети отелей «Как в гостях»"
   ]
  },
  {
   "cell_type": "markdown",
   "metadata": {},
   "source": [
    "**Описание проекта**  \n",
    "Заказчик этого исследования — сеть отелей «Как в гостях».  \n",
    "\n",
    "Чтобы привлечь клиентов, эта сеть отелей добавила на свой сайт возможность забронировать номер без предоплаты. Однако если клиент отменял бронирование, то компания терпела убытки. Сотрудники отеля могли, например, закупить продукты к приезду гостя или просто не успеть найти другого клиента.  \n",
    "\n",
    "Чтобы решить эту проблему, вам нужно разработать систему, которая предсказывает отказ от брони. Если модель покажет, что бронь будет отменена, то клиенту предлагается внести депозит. Размер депозита — 80% от стоимости номера за одни сутки и затрат на разовую уборку. Деньги будут списаны со счёта клиента, если он всё же отменит бронь."
   ]
  },
  {
   "cell_type": "markdown",
   "metadata": {},
   "source": [
    "**Бизнес-метрика и другие данные**  \n",
    "Основная бизнес-метрика для любой сети отелей — её прибыль. Прибыль отеля — это разница между стоимостью номера за все ночи и затраты на обслуживание: как при подготовке номера, так и при проживании постояльца.  \n",
    "\n",
    "В отеле есть несколько типов номеров. В зависимости от типа номера назначается стоимость за одну ночь. Есть также затраты на уборку. Если клиент снял номер надолго, то убираются каждые два дня.  \n",
    "\n",
    "Стоимость номеров отеля:\n",
    "- категория A: за ночь — 1 000, разовое обслуживание — 400;\n",
    "- категория B: за ночь — 800, разовое обслуживание — 350;\n",
    "- категория C: за ночь — 600, разовое обслуживание — 350;\n",
    "- категория D: за ночь — 550, разовое обслуживание — 150;\n",
    "- категория E: за ночь — 500, разовое обслуживание — 150;\n",
    "- категория F: за ночь — 450, разовое обслуживание — 150;\n",
    "- категория G: за ночь — 350, разовое обслуживание — 150.  \n",
    "\n",
    "В ценовой политике отеля используются сезонные коэффициенты: весной и осенью цены повышаются на 20%, летом — на 40%.  \n",
    "\n",
    "На разработку системы прогнозирования заложен бюджет — 400 000. При этом необходимо учесть, что внедрение модели должно окупиться за год. Затраты на разработку должны быть меньше той выручки, которую система принесёт компании."
   ]
  },
  {
   "cell_type": "markdown",
   "metadata": {},
   "source": [
    "**Описание данных**  \n",
    "В таблицах `hotel_train` и `hotel_test` содержатся одинаковые столбцы:  \n",
    "`id` — номер записи;  \n",
    "`adults` — количество взрослых постояльцев;  \n",
    "`arrival_date_year` — год заезда;  \n",
    "`arrival_date_month` — месяц заезда;  \n",
    "`arrival_date_week_number` — неделя заезда;  \n",
    "`arrival_date_day_of_month` — день заезда;  \n",
    "`babies` — количество младенцев;  \n",
    "`booking_changes` — количество изменений параметров заказа;  \n",
    "`children` — количество детей от 3 до 14 лет;  \n",
    "`country` — гражданство постояльца;  \n",
    "`customer_type` — тип заказчика:  \n",
    "- `Contract` — договор с юридическим лицом;\n",
    "- `Group` — групповой заезд;\n",
    "- `Transient` — не связано с договором или групповым заездом;\n",
    "- `Transient-party` — не связано с договором или групповым заездом, но связано с бронированием типа `Transient`.  \n",
    "\n",
    "`days_in_waiting_list` — сколько дней заказ ожидал подтверждения;  \n",
    "`distribution_channel` — канал дистрибуции заказа;  \n",
    "`is_canceled` — отмена заказа;  \n",
    "`is_repeated_guest` — признак того, что гость бронирует номер второй раз;  \n",
    "`lead_time` — количество дней между датой бронирования и датой прибытия;  \n",
    "`meal` — опции заказа:  \n",
    "- `SC` — нет дополнительных опций;  \n",
    "- `BB` — включён завтрак;  \n",
    "- `HB` — включён завтрак и обед;  \n",
    "- `FB` — включён завтрак, обед и ужин.  \n",
    "\n",
    "`previous_bookings_not_canceled` — количество подтверждённых заказов у клиента;  \n",
    "`previous_cancellations` — количество отменённых заказов у клиента;  \n",
    "`required_car_parking_spaces` — необходимость места для автомобиля;  \n",
    "`reserved_room_type` — тип забронированной комнаты;  \n",
    "`stays_in_weekend_nights` — количество ночей в выходные дни;  \n",
    "`stays_in_week_nights` — количество ночей в будние дни;  \n",
    "`total_nights` — общее количество ночей;  \n",
    "`total_of_special_requests` — количество специальных отметок.  "
   ]
  },
  {
   "cell_type": "markdown",
   "metadata": {},
   "source": [
    "### Шаг 1. Откройте файлы с данными"
   ]
  },
  {
   "cell_type": "code",
   "execution_count": 97,
   "metadata": {},
   "outputs": [],
   "source": [
    "import pandas as pd\n",
    "import numpy as np\n",
    "import seaborn as sns\n",
    "import matplotlib.pyplot as plt\n",
    "from tqdm import tqdm\n",
    "from datetime import date, datetime, timedelta \n",
    "import calendar\n",
    "\n",
    "from sklearn.preprocessing import OneHotEncoder, OrdinalEncoder, MinMaxScaler, StandardScaler, Normalizer, RobustScaler\n",
    "from sklearn.compose import ColumnTransformer\n",
    "from sklearn.model_selection import GridSearchCV, RandomizedSearchCV\n",
    "\n",
    "from sklearn.linear_model import SGDClassifier, LogisticRegression\n",
    "from sklearn.dummy import DummyClassifier\n",
    "from sklearn.ensemble import RandomForestClassifier\n",
    "from sklearn.svm import LinearSVC\n",
    "\n",
    "from xgboost import XGBClassifier\n",
    "\n",
    "from sklearn.metrics import f1_score, precision_recall_curve, roc_curve, classification_report\n",
    "\n",
    "\n",
    "from sklearn.model_selection import cross_val_score\n",
    "from sklearn.pipeline import Pipeline\n",
    "\n",
    "import warnings\n",
    "warnings.filterwarnings('ignore')\n",
    "\n",
    "pd.set_option('display.max_columns', None)"
   ]
  },
  {
   "cell_type": "markdown",
   "metadata": {},
   "source": [
    "Сохраним данные в переменные `hotel_train` и `hotel_test`"
   ]
  },
  {
   "cell_type": "code",
   "execution_count": 98,
   "metadata": {},
   "outputs": [],
   "source": [
    "hotel_train = pd.read_csv('/datasets/hotel_train.csv', index_col='id')\n",
    "hotel_test = pd.read_csv('/datasets/hotel_test.csv', index_col='id')"
   ]
  },
  {
   "cell_type": "code",
   "execution_count": 99,
   "metadata": {
    "scrolled": true
   },
   "outputs": [
    {
     "data": {
      "text/html": [
       "<div>\n",
       "<style scoped>\n",
       "    .dataframe tbody tr th:only-of-type {\n",
       "        vertical-align: middle;\n",
       "    }\n",
       "\n",
       "    .dataframe tbody tr th {\n",
       "        vertical-align: top;\n",
       "    }\n",
       "\n",
       "    .dataframe thead th {\n",
       "        text-align: right;\n",
       "    }\n",
       "</style>\n",
       "<table border=\"1\" class=\"dataframe\">\n",
       "  <thead>\n",
       "    <tr style=\"text-align: right;\">\n",
       "      <th></th>\n",
       "      <th>is_canceled</th>\n",
       "      <th>lead_time</th>\n",
       "      <th>arrival_date_year</th>\n",
       "      <th>arrival_date_month</th>\n",
       "      <th>arrival_date_week_number</th>\n",
       "      <th>arrival_date_day_of_month</th>\n",
       "      <th>stays_in_weekend_nights</th>\n",
       "      <th>stays_in_week_nights</th>\n",
       "      <th>adults</th>\n",
       "      <th>children</th>\n",
       "      <th>babies</th>\n",
       "      <th>meal</th>\n",
       "      <th>country</th>\n",
       "      <th>distribution_channel</th>\n",
       "      <th>is_repeated_guest</th>\n",
       "      <th>previous_cancellations</th>\n",
       "      <th>previous_bookings_not_canceled</th>\n",
       "      <th>reserved_room_type</th>\n",
       "      <th>booking_changes</th>\n",
       "      <th>days_in_waiting_list</th>\n",
       "      <th>customer_type</th>\n",
       "      <th>required_car_parking_spaces</th>\n",
       "      <th>total_of_special_requests</th>\n",
       "      <th>total_nights</th>\n",
       "    </tr>\n",
       "    <tr>\n",
       "      <th>id</th>\n",
       "      <th></th>\n",
       "      <th></th>\n",
       "      <th></th>\n",
       "      <th></th>\n",
       "      <th></th>\n",
       "      <th></th>\n",
       "      <th></th>\n",
       "      <th></th>\n",
       "      <th></th>\n",
       "      <th></th>\n",
       "      <th></th>\n",
       "      <th></th>\n",
       "      <th></th>\n",
       "      <th></th>\n",
       "      <th></th>\n",
       "      <th></th>\n",
       "      <th></th>\n",
       "      <th></th>\n",
       "      <th></th>\n",
       "      <th></th>\n",
       "      <th></th>\n",
       "      <th></th>\n",
       "      <th></th>\n",
       "      <th></th>\n",
       "    </tr>\n",
       "  </thead>\n",
       "  <tbody>\n",
       "    <tr>\n",
       "      <td>523</td>\n",
       "      <td>1</td>\n",
       "      <td>18.0</td>\n",
       "      <td>2015</td>\n",
       "      <td>July</td>\n",
       "      <td>31</td>\n",
       "      <td>31</td>\n",
       "      <td>1</td>\n",
       "      <td>2</td>\n",
       "      <td>2.0</td>\n",
       "      <td>0.0</td>\n",
       "      <td>0.0</td>\n",
       "      <td>BB</td>\n",
       "      <td>PRT</td>\n",
       "      <td>TA/TO</td>\n",
       "      <td>0</td>\n",
       "      <td>0</td>\n",
       "      <td>0</td>\n",
       "      <td>A</td>\n",
       "      <td>0</td>\n",
       "      <td>0</td>\n",
       "      <td>Transient</td>\n",
       "      <td>0</td>\n",
       "      <td>1</td>\n",
       "      <td>3</td>\n",
       "    </tr>\n",
       "    <tr>\n",
       "      <td>83681</td>\n",
       "      <td>0</td>\n",
       "      <td>126.0</td>\n",
       "      <td>2016</td>\n",
       "      <td>December</td>\n",
       "      <td>53</td>\n",
       "      <td>27</td>\n",
       "      <td>0</td>\n",
       "      <td>3</td>\n",
       "      <td>2.0</td>\n",
       "      <td>1.0</td>\n",
       "      <td>0.0</td>\n",
       "      <td>BB</td>\n",
       "      <td>BRA</td>\n",
       "      <td>TA/TO</td>\n",
       "      <td>0</td>\n",
       "      <td>0</td>\n",
       "      <td>0</td>\n",
       "      <td>D</td>\n",
       "      <td>0</td>\n",
       "      <td>0</td>\n",
       "      <td>Transient</td>\n",
       "      <td>0</td>\n",
       "      <td>2</td>\n",
       "      <td>3</td>\n",
       "    </tr>\n",
       "    <tr>\n",
       "      <td>67007</td>\n",
       "      <td>0</td>\n",
       "      <td>72.0</td>\n",
       "      <td>2016</td>\n",
       "      <td>March</td>\n",
       "      <td>13</td>\n",
       "      <td>22</td>\n",
       "      <td>1</td>\n",
       "      <td>5</td>\n",
       "      <td>2.0</td>\n",
       "      <td>0.0</td>\n",
       "      <td>0.0</td>\n",
       "      <td>BB</td>\n",
       "      <td>ESP</td>\n",
       "      <td>Direct</td>\n",
       "      <td>0</td>\n",
       "      <td>0</td>\n",
       "      <td>0</td>\n",
       "      <td>A</td>\n",
       "      <td>1</td>\n",
       "      <td>0</td>\n",
       "      <td>Transient</td>\n",
       "      <td>1</td>\n",
       "      <td>1</td>\n",
       "      <td>6</td>\n",
       "    </tr>\n",
       "    <tr>\n",
       "      <td>69758</td>\n",
       "      <td>0</td>\n",
       "      <td>31.0</td>\n",
       "      <td>2016</td>\n",
       "      <td>May</td>\n",
       "      <td>20</td>\n",
       "      <td>13</td>\n",
       "      <td>0</td>\n",
       "      <td>2</td>\n",
       "      <td>2.0</td>\n",
       "      <td>0.0</td>\n",
       "      <td>0.0</td>\n",
       "      <td>BB</td>\n",
       "      <td>PRT</td>\n",
       "      <td>TA/TO</td>\n",
       "      <td>0</td>\n",
       "      <td>0</td>\n",
       "      <td>0</td>\n",
       "      <td>D</td>\n",
       "      <td>0</td>\n",
       "      <td>0</td>\n",
       "      <td>Transient</td>\n",
       "      <td>0</td>\n",
       "      <td>0</td>\n",
       "      <td>2</td>\n",
       "    </tr>\n",
       "    <tr>\n",
       "      <td>1848</td>\n",
       "      <td>0</td>\n",
       "      <td>36.0</td>\n",
       "      <td>2015</td>\n",
       "      <td>November</td>\n",
       "      <td>45</td>\n",
       "      <td>7</td>\n",
       "      <td>2</td>\n",
       "      <td>6</td>\n",
       "      <td>1.0</td>\n",
       "      <td>0.0</td>\n",
       "      <td>0.0</td>\n",
       "      <td>BB</td>\n",
       "      <td>AUT</td>\n",
       "      <td>Corporate</td>\n",
       "      <td>0</td>\n",
       "      <td>0</td>\n",
       "      <td>0</td>\n",
       "      <td>A</td>\n",
       "      <td>2</td>\n",
       "      <td>0</td>\n",
       "      <td>Transient-Party</td>\n",
       "      <td>1</td>\n",
       "      <td>0</td>\n",
       "      <td>8</td>\n",
       "    </tr>\n",
       "  </tbody>\n",
       "</table>\n",
       "</div>"
      ],
      "text/plain": [
       "       is_canceled  lead_time  arrival_date_year arrival_date_month  \\\n",
       "id                                                                    \n",
       "523              1       18.0               2015               July   \n",
       "83681            0      126.0               2016           December   \n",
       "67007            0       72.0               2016              March   \n",
       "69758            0       31.0               2016                May   \n",
       "1848             0       36.0               2015           November   \n",
       "\n",
       "       arrival_date_week_number  arrival_date_day_of_month  \\\n",
       "id                                                           \n",
       "523                          31                         31   \n",
       "83681                        53                         27   \n",
       "67007                        13                         22   \n",
       "69758                        20                         13   \n",
       "1848                         45                          7   \n",
       "\n",
       "       stays_in_weekend_nights  stays_in_week_nights  adults  children  \\\n",
       "id                                                                       \n",
       "523                          1                     2     2.0       0.0   \n",
       "83681                        0                     3     2.0       1.0   \n",
       "67007                        1                     5     2.0       0.0   \n",
       "69758                        0                     2     2.0       0.0   \n",
       "1848                         2                     6     1.0       0.0   \n",
       "\n",
       "       babies       meal country distribution_channel  is_repeated_guest  \\\n",
       "id                                                                         \n",
       "523       0.0  BB            PRT                TA/TO                  0   \n",
       "83681     0.0  BB            BRA                TA/TO                  0   \n",
       "67007     0.0  BB            ESP               Direct                  0   \n",
       "69758     0.0  BB            PRT                TA/TO                  0   \n",
       "1848      0.0  BB            AUT            Corporate                  0   \n",
       "\n",
       "       previous_cancellations  previous_bookings_not_canceled  \\\n",
       "id                                                              \n",
       "523                         0                               0   \n",
       "83681                       0                               0   \n",
       "67007                       0                               0   \n",
       "69758                       0                               0   \n",
       "1848                        0                               0   \n",
       "\n",
       "      reserved_room_type  booking_changes  days_in_waiting_list  \\\n",
       "id                                                                \n",
       "523     A                               0                     0   \n",
       "83681   D                               0                     0   \n",
       "67007   A                               1                     0   \n",
       "69758   D                               0                     0   \n",
       "1848    A                               2                     0   \n",
       "\n",
       "         customer_type  required_car_parking_spaces  \\\n",
       "id                                                    \n",
       "523          Transient                            0   \n",
       "83681        Transient                            0   \n",
       "67007        Transient                            1   \n",
       "69758        Transient                            0   \n",
       "1848   Transient-Party                            1   \n",
       "\n",
       "       total_of_special_requests  total_nights  \n",
       "id                                              \n",
       "523                            1             3  \n",
       "83681                          2             3  \n",
       "67007                          1             6  \n",
       "69758                          0             2  \n",
       "1848                           0             8  "
      ]
     },
     "execution_count": 99,
     "metadata": {},
     "output_type": "execute_result"
    }
   ],
   "source": [
    "hotel_train.sample(5, random_state=1)"
   ]
  },
  {
   "cell_type": "code",
   "execution_count": 100,
   "metadata": {
    "scrolled": false
   },
   "outputs": [
    {
     "data": {
      "text/html": [
       "<div>\n",
       "<style scoped>\n",
       "    .dataframe tbody tr th:only-of-type {\n",
       "        vertical-align: middle;\n",
       "    }\n",
       "\n",
       "    .dataframe tbody tr th {\n",
       "        vertical-align: top;\n",
       "    }\n",
       "\n",
       "    .dataframe thead th {\n",
       "        text-align: right;\n",
       "    }\n",
       "</style>\n",
       "<table border=\"1\" class=\"dataframe\">\n",
       "  <thead>\n",
       "    <tr style=\"text-align: right;\">\n",
       "      <th></th>\n",
       "      <th>is_canceled</th>\n",
       "      <th>lead_time</th>\n",
       "      <th>arrival_date_year</th>\n",
       "      <th>arrival_date_month</th>\n",
       "      <th>arrival_date_week_number</th>\n",
       "      <th>arrival_date_day_of_month</th>\n",
       "      <th>stays_in_weekend_nights</th>\n",
       "      <th>stays_in_week_nights</th>\n",
       "      <th>adults</th>\n",
       "      <th>children</th>\n",
       "      <th>babies</th>\n",
       "      <th>meal</th>\n",
       "      <th>country</th>\n",
       "      <th>distribution_channel</th>\n",
       "      <th>is_repeated_guest</th>\n",
       "      <th>previous_cancellations</th>\n",
       "      <th>previous_bookings_not_canceled</th>\n",
       "      <th>reserved_room_type</th>\n",
       "      <th>booking_changes</th>\n",
       "      <th>days_in_waiting_list</th>\n",
       "      <th>customer_type</th>\n",
       "      <th>required_car_parking_spaces</th>\n",
       "      <th>total_of_special_requests</th>\n",
       "      <th>total_nights</th>\n",
       "    </tr>\n",
       "    <tr>\n",
       "      <th>id</th>\n",
       "      <th></th>\n",
       "      <th></th>\n",
       "      <th></th>\n",
       "      <th></th>\n",
       "      <th></th>\n",
       "      <th></th>\n",
       "      <th></th>\n",
       "      <th></th>\n",
       "      <th></th>\n",
       "      <th></th>\n",
       "      <th></th>\n",
       "      <th></th>\n",
       "      <th></th>\n",
       "      <th></th>\n",
       "      <th></th>\n",
       "      <th></th>\n",
       "      <th></th>\n",
       "      <th></th>\n",
       "      <th></th>\n",
       "      <th></th>\n",
       "      <th></th>\n",
       "      <th></th>\n",
       "      <th></th>\n",
       "      <th></th>\n",
       "    </tr>\n",
       "  </thead>\n",
       "  <tbody>\n",
       "    <tr>\n",
       "      <td>23428</td>\n",
       "      <td>0</td>\n",
       "      <td>4.0</td>\n",
       "      <td>2017</td>\n",
       "      <td>June</td>\n",
       "      <td>23</td>\n",
       "      <td>10</td>\n",
       "      <td>0</td>\n",
       "      <td>1</td>\n",
       "      <td>2.0</td>\n",
       "      <td>0.0</td>\n",
       "      <td>0.0</td>\n",
       "      <td>BB</td>\n",
       "      <td>ESP</td>\n",
       "      <td>Direct</td>\n",
       "      <td>0</td>\n",
       "      <td>0</td>\n",
       "      <td>0</td>\n",
       "      <td>A</td>\n",
       "      <td>0</td>\n",
       "      <td>0</td>\n",
       "      <td>Transient</td>\n",
       "      <td>1</td>\n",
       "      <td>0</td>\n",
       "      <td>1</td>\n",
       "    </tr>\n",
       "    <tr>\n",
       "      <td>85509</td>\n",
       "      <td>0</td>\n",
       "      <td>60.0</td>\n",
       "      <td>2017</td>\n",
       "      <td>February</td>\n",
       "      <td>6</td>\n",
       "      <td>8</td>\n",
       "      <td>0</td>\n",
       "      <td>4</td>\n",
       "      <td>2.0</td>\n",
       "      <td>0.0</td>\n",
       "      <td>0.0</td>\n",
       "      <td>SC</td>\n",
       "      <td>GBR</td>\n",
       "      <td>TA/TO</td>\n",
       "      <td>0</td>\n",
       "      <td>0</td>\n",
       "      <td>0</td>\n",
       "      <td>A</td>\n",
       "      <td>2</td>\n",
       "      <td>0</td>\n",
       "      <td>Transient</td>\n",
       "      <td>0</td>\n",
       "      <td>3</td>\n",
       "      <td>4</td>\n",
       "    </tr>\n",
       "    <tr>\n",
       "      <td>88167</td>\n",
       "      <td>0</td>\n",
       "      <td>116.0</td>\n",
       "      <td>2017</td>\n",
       "      <td>March</td>\n",
       "      <td>12</td>\n",
       "      <td>24</td>\n",
       "      <td>0</td>\n",
       "      <td>2</td>\n",
       "      <td>2.0</td>\n",
       "      <td>0.0</td>\n",
       "      <td>0.0</td>\n",
       "      <td>BB</td>\n",
       "      <td>FRA</td>\n",
       "      <td>TA/TO</td>\n",
       "      <td>0</td>\n",
       "      <td>0</td>\n",
       "      <td>0</td>\n",
       "      <td>A</td>\n",
       "      <td>1</td>\n",
       "      <td>0</td>\n",
       "      <td>Transient-Party</td>\n",
       "      <td>0</td>\n",
       "      <td>1</td>\n",
       "      <td>2</td>\n",
       "    </tr>\n",
       "    <tr>\n",
       "      <td>92754</td>\n",
       "      <td>0</td>\n",
       "      <td>21.0</td>\n",
       "      <td>2017</td>\n",
       "      <td>June</td>\n",
       "      <td>22</td>\n",
       "      <td>1</td>\n",
       "      <td>0</td>\n",
       "      <td>3</td>\n",
       "      <td>2.0</td>\n",
       "      <td>0.0</td>\n",
       "      <td>0.0</td>\n",
       "      <td>BB</td>\n",
       "      <td>ESP</td>\n",
       "      <td>Direct</td>\n",
       "      <td>0</td>\n",
       "      <td>0</td>\n",
       "      <td>0</td>\n",
       "      <td>A</td>\n",
       "      <td>1</td>\n",
       "      <td>0</td>\n",
       "      <td>Transient</td>\n",
       "      <td>0</td>\n",
       "      <td>0</td>\n",
       "      <td>3</td>\n",
       "    </tr>\n",
       "    <tr>\n",
       "      <td>49522</td>\n",
       "      <td>1</td>\n",
       "      <td>26.0</td>\n",
       "      <td>2017</td>\n",
       "      <td>April</td>\n",
       "      <td>17</td>\n",
       "      <td>29</td>\n",
       "      <td>1</td>\n",
       "      <td>1</td>\n",
       "      <td>2.0</td>\n",
       "      <td>0.0</td>\n",
       "      <td>0.0</td>\n",
       "      <td>SC</td>\n",
       "      <td>CHN</td>\n",
       "      <td>TA/TO</td>\n",
       "      <td>0</td>\n",
       "      <td>0</td>\n",
       "      <td>0</td>\n",
       "      <td>A</td>\n",
       "      <td>0</td>\n",
       "      <td>0</td>\n",
       "      <td>Transient</td>\n",
       "      <td>0</td>\n",
       "      <td>1</td>\n",
       "      <td>2</td>\n",
       "    </tr>\n",
       "  </tbody>\n",
       "</table>\n",
       "</div>"
      ],
      "text/plain": [
       "       is_canceled  lead_time  arrival_date_year arrival_date_month  \\\n",
       "id                                                                    \n",
       "23428            0        4.0               2017               June   \n",
       "85509            0       60.0               2017           February   \n",
       "88167            0      116.0               2017              March   \n",
       "92754            0       21.0               2017               June   \n",
       "49522            1       26.0               2017              April   \n",
       "\n",
       "       arrival_date_week_number  arrival_date_day_of_month  \\\n",
       "id                                                           \n",
       "23428                        23                         10   \n",
       "85509                         6                          8   \n",
       "88167                        12                         24   \n",
       "92754                        22                          1   \n",
       "49522                        17                         29   \n",
       "\n",
       "       stays_in_weekend_nights  stays_in_week_nights  adults  children  \\\n",
       "id                                                                       \n",
       "23428                        0                     1     2.0       0.0   \n",
       "85509                        0                     4     2.0       0.0   \n",
       "88167                        0                     2     2.0       0.0   \n",
       "92754                        0                     3     2.0       0.0   \n",
       "49522                        1                     1     2.0       0.0   \n",
       "\n",
       "       babies       meal country distribution_channel  is_repeated_guest  \\\n",
       "id                                                                         \n",
       "23428     0.0  BB            ESP               Direct                  0   \n",
       "85509     0.0  SC            GBR                TA/TO                  0   \n",
       "88167     0.0  BB            FRA                TA/TO                  0   \n",
       "92754     0.0  BB            ESP               Direct                  0   \n",
       "49522     0.0  SC            CHN                TA/TO                  0   \n",
       "\n",
       "       previous_cancellations  previous_bookings_not_canceled  \\\n",
       "id                                                              \n",
       "23428                       0                               0   \n",
       "85509                       0                               0   \n",
       "88167                       0                               0   \n",
       "92754                       0                               0   \n",
       "49522                       0                               0   \n",
       "\n",
       "      reserved_room_type  booking_changes  days_in_waiting_list  \\\n",
       "id                                                                \n",
       "23428   A                               0                     0   \n",
       "85509   A                               2                     0   \n",
       "88167   A                               1                     0   \n",
       "92754   A                               1                     0   \n",
       "49522   A                               0                     0   \n",
       "\n",
       "         customer_type  required_car_parking_spaces  \\\n",
       "id                                                    \n",
       "23428        Transient                            1   \n",
       "85509        Transient                            0   \n",
       "88167  Transient-Party                            0   \n",
       "92754        Transient                            0   \n",
       "49522        Transient                            0   \n",
       "\n",
       "       total_of_special_requests  total_nights  \n",
       "id                                              \n",
       "23428                          0             1  \n",
       "85509                          3             4  \n",
       "88167                          1             2  \n",
       "92754                          0             3  \n",
       "49522                          1             2  "
      ]
     },
     "execution_count": 100,
     "metadata": {},
     "output_type": "execute_result"
    }
   ],
   "source": [
    "hotel_test.sample(5, random_state=1)"
   ]
  },
  {
   "cell_type": "markdown",
   "metadata": {},
   "source": [
    "Посмотрим информацию о данных"
   ]
  },
  {
   "cell_type": "code",
   "execution_count": 101,
   "metadata": {},
   "outputs": [
    {
     "name": "stdout",
     "output_type": "stream",
     "text": [
      "<class 'pandas.core.frame.DataFrame'>\n",
      "Int64Index: 65229 entries, 0 to 84121\n",
      "Data columns (total 24 columns):\n",
      "is_canceled                       65229 non-null int64\n",
      "lead_time                         65229 non-null float64\n",
      "arrival_date_year                 65229 non-null int64\n",
      "arrival_date_month                65229 non-null object\n",
      "arrival_date_week_number          65229 non-null int64\n",
      "arrival_date_day_of_month         65229 non-null int64\n",
      "stays_in_weekend_nights           65229 non-null int64\n",
      "stays_in_week_nights              65229 non-null int64\n",
      "adults                            65229 non-null float64\n",
      "children                          65229 non-null float64\n",
      "babies                            65229 non-null float64\n",
      "meal                              65229 non-null object\n",
      "country                           65229 non-null object\n",
      "distribution_channel              65229 non-null object\n",
      "is_repeated_guest                 65229 non-null int64\n",
      "previous_cancellations            65229 non-null int64\n",
      "previous_bookings_not_canceled    65229 non-null int64\n",
      "reserved_room_type                65229 non-null object\n",
      "booking_changes                   65229 non-null int64\n",
      "days_in_waiting_list              65229 non-null int64\n",
      "customer_type                     65229 non-null object\n",
      "required_car_parking_spaces       65229 non-null int64\n",
      "total_of_special_requests         65229 non-null int64\n",
      "total_nights                      65229 non-null int64\n",
      "dtypes: float64(4), int64(14), object(6)\n",
      "memory usage: 12.4+ MB\n"
     ]
    },
    {
     "data": {
      "text/plain": [
       "None"
      ]
     },
     "metadata": {},
     "output_type": "display_data"
    },
    {
     "name": "stdout",
     "output_type": "stream",
     "text": [
      "-------\n",
      "<class 'pandas.core.frame.DataFrame'>\n",
      "Int64Index: 32412 entries, 6086 to 97903\n",
      "Data columns (total 24 columns):\n",
      "is_canceled                       32412 non-null int64\n",
      "lead_time                         32412 non-null float64\n",
      "arrival_date_year                 32412 non-null int64\n",
      "arrival_date_month                32412 non-null object\n",
      "arrival_date_week_number          32412 non-null int64\n",
      "arrival_date_day_of_month         32412 non-null int64\n",
      "stays_in_weekend_nights           32412 non-null int64\n",
      "stays_in_week_nights              32412 non-null int64\n",
      "adults                            32412 non-null float64\n",
      "children                          32412 non-null float64\n",
      "babies                            32412 non-null float64\n",
      "meal                              32412 non-null object\n",
      "country                           32412 non-null object\n",
      "distribution_channel              32412 non-null object\n",
      "is_repeated_guest                 32412 non-null int64\n",
      "previous_cancellations            32412 non-null int64\n",
      "previous_bookings_not_canceled    32412 non-null int64\n",
      "reserved_room_type                32412 non-null object\n",
      "booking_changes                   32412 non-null int64\n",
      "days_in_waiting_list              32412 non-null int64\n",
      "customer_type                     32412 non-null object\n",
      "required_car_parking_spaces       32412 non-null int64\n",
      "total_of_special_requests         32412 non-null int64\n",
      "total_nights                      32412 non-null int64\n",
      "dtypes: float64(4), int64(14), object(6)\n",
      "memory usage: 6.2+ MB\n"
     ]
    },
    {
     "data": {
      "text/plain": [
       "None"
      ]
     },
     "metadata": {},
     "output_type": "display_data"
    },
    {
     "name": "stdout",
     "output_type": "stream",
     "text": [
      "-------\n"
     ]
    }
   ],
   "source": [
    "for data in [hotel_train, hotel_test]:\n",
    "    display(data.info())\n",
    "    print('-------')"
   ]
  },
  {
   "cell_type": "markdown",
   "metadata": {},
   "source": [
    "Проверим количество пропусков"
   ]
  },
  {
   "cell_type": "code",
   "execution_count": 102,
   "metadata": {},
   "outputs": [
    {
     "data": {
      "text/plain": [
       "0"
      ]
     },
     "metadata": {},
     "output_type": "display_data"
    },
    {
     "name": "stdout",
     "output_type": "stream",
     "text": [
      "-------\n"
     ]
    },
    {
     "data": {
      "text/plain": [
       "0"
      ]
     },
     "metadata": {},
     "output_type": "display_data"
    },
    {
     "name": "stdout",
     "output_type": "stream",
     "text": [
      "-------\n"
     ]
    }
   ],
   "source": [
    "for data in [hotel_train, hotel_test]:\n",
    "    display(data.isna().sum().sum())\n",
    "    print('-------')"
   ]
  },
  {
   "cell_type": "markdown",
   "metadata": {},
   "source": [
    "Посмотрим, есть ли в данных дубликаты"
   ]
  },
  {
   "cell_type": "code",
   "execution_count": 103,
   "metadata": {},
   "outputs": [
    {
     "data": {
      "text/plain": [
       "21377"
      ]
     },
     "metadata": {},
     "output_type": "display_data"
    },
    {
     "name": "stdout",
     "output_type": "stream",
     "text": [
      "-------\n"
     ]
    },
    {
     "data": {
      "text/plain": [
       "7717"
      ]
     },
     "metadata": {},
     "output_type": "display_data"
    },
    {
     "name": "stdout",
     "output_type": "stream",
     "text": [
      "-------\n"
     ]
    }
   ],
   "source": [
    "for data in [hotel_train, hotel_test]:\n",
    "    display(data.duplicated().sum())\n",
    "    print('-------')"
   ]
  },
  {
   "cell_type": "code",
   "execution_count": 104,
   "metadata": {},
   "outputs": [
    {
     "data": {
      "text/plain": [
       "0.3277223320915544"
      ]
     },
     "metadata": {},
     "output_type": "display_data"
    },
    {
     "name": "stdout",
     "output_type": "stream",
     "text": [
      "-------\n"
     ]
    },
    {
     "data": {
      "text/plain": [
       "0.23809083055658398"
      ]
     },
     "metadata": {},
     "output_type": "display_data"
    },
    {
     "name": "stdout",
     "output_type": "stream",
     "text": [
      "-------\n"
     ]
    }
   ],
   "source": [
    "for data in [hotel_train, hotel_test]:\n",
    "    display(data.duplicated().sum() / data.shape[0])\n",
    "    print('-------')"
   ]
  },
  {
   "cell_type": "markdown",
   "metadata": {},
   "source": [
    "В тренировочном датасете 32.8% дубликатов, а в тестовом - 23.8. Достаточно высокое количество.\n",
    "В данном случае, мы не можем утверждать, что дупликаты - это ошибка. Скорее всего, они появились в результате того, что в отеле регистрировались гости с похожими параметрами/признаками."
   ]
  },
  {
   "cell_type": "markdown",
   "metadata": {},
   "source": [
    "#### Краткое резюме"
   ]
  },
  {
   "cell_type": "markdown",
   "metadata": {
    "scrolled": true
   },
   "source": [
    "С типами данных все в порядке.  \n",
    "Пропуски отсутствуют."
   ]
  },
  {
   "cell_type": "markdown",
   "metadata": {},
   "source": [
    "### Шаг 2. Предобработка и исследовательский анализ данных"
   ]
  },
  {
   "cell_type": "markdown",
   "metadata": {},
   "source": [
    "Выведем таблицу с данными на экран."
   ]
  },
  {
   "cell_type": "code",
   "execution_count": 105,
   "metadata": {},
   "outputs": [
    {
     "data": {
      "text/html": [
       "<div>\n",
       "<style scoped>\n",
       "    .dataframe tbody tr th:only-of-type {\n",
       "        vertical-align: middle;\n",
       "    }\n",
       "\n",
       "    .dataframe tbody tr th {\n",
       "        vertical-align: top;\n",
       "    }\n",
       "\n",
       "    .dataframe thead th {\n",
       "        text-align: right;\n",
       "    }\n",
       "</style>\n",
       "<table border=\"1\" class=\"dataframe\">\n",
       "  <thead>\n",
       "    <tr style=\"text-align: right;\">\n",
       "      <th></th>\n",
       "      <th>is_canceled</th>\n",
       "      <th>lead_time</th>\n",
       "      <th>arrival_date_year</th>\n",
       "      <th>arrival_date_month</th>\n",
       "      <th>arrival_date_week_number</th>\n",
       "      <th>arrival_date_day_of_month</th>\n",
       "      <th>stays_in_weekend_nights</th>\n",
       "      <th>stays_in_week_nights</th>\n",
       "      <th>adults</th>\n",
       "      <th>children</th>\n",
       "      <th>babies</th>\n",
       "      <th>meal</th>\n",
       "      <th>country</th>\n",
       "      <th>distribution_channel</th>\n",
       "      <th>is_repeated_guest</th>\n",
       "      <th>previous_cancellations</th>\n",
       "      <th>previous_bookings_not_canceled</th>\n",
       "      <th>reserved_room_type</th>\n",
       "      <th>booking_changes</th>\n",
       "      <th>days_in_waiting_list</th>\n",
       "      <th>customer_type</th>\n",
       "      <th>required_car_parking_spaces</th>\n",
       "      <th>total_of_special_requests</th>\n",
       "      <th>total_nights</th>\n",
       "    </tr>\n",
       "    <tr>\n",
       "      <th>id</th>\n",
       "      <th></th>\n",
       "      <th></th>\n",
       "      <th></th>\n",
       "      <th></th>\n",
       "      <th></th>\n",
       "      <th></th>\n",
       "      <th></th>\n",
       "      <th></th>\n",
       "      <th></th>\n",
       "      <th></th>\n",
       "      <th></th>\n",
       "      <th></th>\n",
       "      <th></th>\n",
       "      <th></th>\n",
       "      <th></th>\n",
       "      <th></th>\n",
       "      <th></th>\n",
       "      <th></th>\n",
       "      <th></th>\n",
       "      <th></th>\n",
       "      <th></th>\n",
       "      <th></th>\n",
       "      <th></th>\n",
       "      <th></th>\n",
       "    </tr>\n",
       "  </thead>\n",
       "  <tbody>\n",
       "    <tr>\n",
       "      <td>0</td>\n",
       "      <td>0</td>\n",
       "      <td>7.0</td>\n",
       "      <td>2015</td>\n",
       "      <td>July</td>\n",
       "      <td>27</td>\n",
       "      <td>1</td>\n",
       "      <td>0</td>\n",
       "      <td>1</td>\n",
       "      <td>1.0</td>\n",
       "      <td>0.0</td>\n",
       "      <td>0.0</td>\n",
       "      <td>BB</td>\n",
       "      <td>GBR</td>\n",
       "      <td>Direct</td>\n",
       "      <td>0</td>\n",
       "      <td>0</td>\n",
       "      <td>0</td>\n",
       "      <td>A</td>\n",
       "      <td>0</td>\n",
       "      <td>0</td>\n",
       "      <td>Transient</td>\n",
       "      <td>0</td>\n",
       "      <td>0</td>\n",
       "      <td>1</td>\n",
       "    </tr>\n",
       "    <tr>\n",
       "      <td>1</td>\n",
       "      <td>0</td>\n",
       "      <td>14.0</td>\n",
       "      <td>2015</td>\n",
       "      <td>July</td>\n",
       "      <td>27</td>\n",
       "      <td>1</td>\n",
       "      <td>0</td>\n",
       "      <td>2</td>\n",
       "      <td>2.0</td>\n",
       "      <td>0.0</td>\n",
       "      <td>0.0</td>\n",
       "      <td>BB</td>\n",
       "      <td>GBR</td>\n",
       "      <td>TA/TO</td>\n",
       "      <td>0</td>\n",
       "      <td>0</td>\n",
       "      <td>0</td>\n",
       "      <td>A</td>\n",
       "      <td>0</td>\n",
       "      <td>0</td>\n",
       "      <td>Transient</td>\n",
       "      <td>0</td>\n",
       "      <td>1</td>\n",
       "      <td>2</td>\n",
       "    </tr>\n",
       "    <tr>\n",
       "      <td>2</td>\n",
       "      <td>0</td>\n",
       "      <td>0.0</td>\n",
       "      <td>2015</td>\n",
       "      <td>July</td>\n",
       "      <td>27</td>\n",
       "      <td>1</td>\n",
       "      <td>0</td>\n",
       "      <td>2</td>\n",
       "      <td>2.0</td>\n",
       "      <td>0.0</td>\n",
       "      <td>0.0</td>\n",
       "      <td>BB</td>\n",
       "      <td>PRT</td>\n",
       "      <td>Direct</td>\n",
       "      <td>0</td>\n",
       "      <td>0</td>\n",
       "      <td>0</td>\n",
       "      <td>C</td>\n",
       "      <td>0</td>\n",
       "      <td>0</td>\n",
       "      <td>Transient</td>\n",
       "      <td>0</td>\n",
       "      <td>0</td>\n",
       "      <td>2</td>\n",
       "    </tr>\n",
       "    <tr>\n",
       "      <td>3</td>\n",
       "      <td>0</td>\n",
       "      <td>9.0</td>\n",
       "      <td>2015</td>\n",
       "      <td>July</td>\n",
       "      <td>27</td>\n",
       "      <td>1</td>\n",
       "      <td>0</td>\n",
       "      <td>2</td>\n",
       "      <td>2.0</td>\n",
       "      <td>0.0</td>\n",
       "      <td>0.0</td>\n",
       "      <td>FB</td>\n",
       "      <td>PRT</td>\n",
       "      <td>Direct</td>\n",
       "      <td>0</td>\n",
       "      <td>0</td>\n",
       "      <td>0</td>\n",
       "      <td>C</td>\n",
       "      <td>0</td>\n",
       "      <td>0</td>\n",
       "      <td>Transient</td>\n",
       "      <td>0</td>\n",
       "      <td>1</td>\n",
       "      <td>2</td>\n",
       "    </tr>\n",
       "    <tr>\n",
       "      <td>4</td>\n",
       "      <td>1</td>\n",
       "      <td>85.0</td>\n",
       "      <td>2015</td>\n",
       "      <td>July</td>\n",
       "      <td>27</td>\n",
       "      <td>1</td>\n",
       "      <td>0</td>\n",
       "      <td>3</td>\n",
       "      <td>2.0</td>\n",
       "      <td>0.0</td>\n",
       "      <td>0.0</td>\n",
       "      <td>BB</td>\n",
       "      <td>PRT</td>\n",
       "      <td>TA/TO</td>\n",
       "      <td>0</td>\n",
       "      <td>0</td>\n",
       "      <td>0</td>\n",
       "      <td>A</td>\n",
       "      <td>0</td>\n",
       "      <td>0</td>\n",
       "      <td>Transient</td>\n",
       "      <td>0</td>\n",
       "      <td>1</td>\n",
       "      <td>3</td>\n",
       "    </tr>\n",
       "  </tbody>\n",
       "</table>\n",
       "</div>"
      ],
      "text/plain": [
       "    is_canceled  lead_time  arrival_date_year arrival_date_month  \\\n",
       "id                                                                 \n",
       "0             0        7.0               2015               July   \n",
       "1             0       14.0               2015               July   \n",
       "2             0        0.0               2015               July   \n",
       "3             0        9.0               2015               July   \n",
       "4             1       85.0               2015               July   \n",
       "\n",
       "    arrival_date_week_number  arrival_date_day_of_month  \\\n",
       "id                                                        \n",
       "0                         27                          1   \n",
       "1                         27                          1   \n",
       "2                         27                          1   \n",
       "3                         27                          1   \n",
       "4                         27                          1   \n",
       "\n",
       "    stays_in_weekend_nights  stays_in_week_nights  adults  children  babies  \\\n",
       "id                                                                            \n",
       "0                         0                     1     1.0       0.0     0.0   \n",
       "1                         0                     2     2.0       0.0     0.0   \n",
       "2                         0                     2     2.0       0.0     0.0   \n",
       "3                         0                     2     2.0       0.0     0.0   \n",
       "4                         0                     3     2.0       0.0     0.0   \n",
       "\n",
       "         meal country distribution_channel  is_repeated_guest  \\\n",
       "id                                                              \n",
       "0   BB            GBR               Direct                  0   \n",
       "1   BB            GBR                TA/TO                  0   \n",
       "2   BB            PRT               Direct                  0   \n",
       "3   FB            PRT               Direct                  0   \n",
       "4   BB            PRT                TA/TO                  0   \n",
       "\n",
       "    previous_cancellations  previous_bookings_not_canceled reserved_room_type  \\\n",
       "id                                                                              \n",
       "0                        0                               0   A                  \n",
       "1                        0                               0   A                  \n",
       "2                        0                               0   C                  \n",
       "3                        0                               0   C                  \n",
       "4                        0                               0   A                  \n",
       "\n",
       "    booking_changes  days_in_waiting_list customer_type  \\\n",
       "id                                                        \n",
       "0                 0                     0     Transient   \n",
       "1                 0                     0     Transient   \n",
       "2                 0                     0     Transient   \n",
       "3                 0                     0     Transient   \n",
       "4                 0                     0     Transient   \n",
       "\n",
       "    required_car_parking_spaces  total_of_special_requests  total_nights  \n",
       "id                                                                        \n",
       "0                             0                          0             1  \n",
       "1                             0                          1             2  \n",
       "2                             0                          0             2  \n",
       "3                             0                          1             2  \n",
       "4                             0                          1             3  "
      ]
     },
     "execution_count": 105,
     "metadata": {},
     "output_type": "execute_result"
    }
   ],
   "source": [
    "pd.concat([hotel_train, hotel_test]).head()"
   ]
  },
  {
   "cell_type": "markdown",
   "metadata": {},
   "source": [
    "Посмотрим на уникальные значения признаков, хранящихся в формате `object`. Проверим корректность написания и отсутствие дубликатов."
   ]
  },
  {
   "cell_type": "code",
   "execution_count": 106,
   "metadata": {
    "scrolled": true
   },
   "outputs": [
    {
     "name": "stdout",
     "output_type": "stream",
     "text": [
      "arrival_date_month\n"
     ]
    },
    {
     "data": {
      "text/plain": [
       "array(['July', 'August', 'September', 'October', 'November', 'December',\n",
       "       'January', 'February', 'March', 'April', 'May', 'June'],\n",
       "      dtype=object)"
      ]
     },
     "metadata": {},
     "output_type": "display_data"
    },
    {
     "name": "stdout",
     "output_type": "stream",
     "text": [
      "---------------\n",
      "meal\n"
     ]
    },
    {
     "data": {
      "text/plain": [
       "array(['BB       ', 'FB       ', 'HB       ', 'SC       ', 'SC'],\n",
       "      dtype=object)"
      ]
     },
     "metadata": {},
     "output_type": "display_data"
    },
    {
     "name": "stdout",
     "output_type": "stream",
     "text": [
      "---------------\n",
      "country\n"
     ]
    },
    {
     "data": {
      "text/plain": [
       "array(['GBR', 'PRT', 'ESP', 'IRL', 'FRA', 'ROU', 'NOR', 'USA', 'DEU',\n",
       "       'BEL', 'CHE', 'CN', 'GRC', 'NLD', 'ARG', 'RUS', 'SWE', 'POL',\n",
       "       'EST', 'CZE', 'ITA', 'FIN', 'DNK', 'MOZ', 'BWA', 'LUX', 'BRA',\n",
       "       'SVN', 'ALB', 'CHN', 'MEX', 'MAR', 'SMR', 'LVA', 'CHL', 'AUT',\n",
       "       'LTU', 'TUR', 'ISR', 'IND', 'CYM', 'AUS', 'CPV', 'ZWE', 'DZA',\n",
       "       'KOR', 'CRI', 'HUN', 'TUN', 'ARE', 'HRV', 'HKG', 'IRN', 'GIB',\n",
       "       'JEY', 'URY', 'ZAF', 'COL', 'GGY', 'KWT', 'CYP', 'KAZ', 'THA',\n",
       "       'DOM', 'NGA', 'BLR', 'VEN', 'UKR', 'ARM', 'JPN', 'LKA', 'MYS',\n",
       "       'BIH', 'MUS', 'OMN', 'SUR', 'JAM', 'BGR', 'CIV', 'SRB', 'JOR',\n",
       "       'SYR', 'PHL', 'PRI', 'SGP', 'BDI', 'LBN', 'AGO', 'VNM', 'AZE',\n",
       "       'PLW', 'NZL', 'EGY', 'MDV', 'CMR', 'MLT', 'SVK', 'MWI', 'STP',\n",
       "       'TWN', 'IDN', 'SEN', 'PER', 'SAU', 'KNA', 'ETH', 'ECU', 'IRQ',\n",
       "       'AND', 'HND', 'PAK', 'GEO', 'ZMB', 'QAT', 'KHM', 'MCO', 'BGD',\n",
       "       'ISL', 'UZB', 'IMN', 'TJK', 'NIC', 'BEN', 'MAC', 'VGB', 'TZA',\n",
       "       'GAB', 'MKD', 'TMP', 'GLP', 'KEN', 'LIE', 'MMR', 'PAN', 'BFA',\n",
       "       'LBY', 'GNB', 'MLI', 'BHR', 'NAM', 'BOL', 'SYC', 'PRY', 'BRB',\n",
       "       'ABW', 'SLV', 'DMA', 'CUB', 'PYF', 'UGA', 'GUY', 'LCA', 'ATA',\n",
       "       'RWA', 'MNE'], dtype=object)"
      ]
     },
     "metadata": {},
     "output_type": "display_data"
    },
    {
     "name": "stdout",
     "output_type": "stream",
     "text": [
      "---------------\n",
      "distribution_channel\n"
     ]
    },
    {
     "data": {
      "text/plain": [
       "array(['Direct', 'TA/TO', 'Corporate', 'GDS'], dtype=object)"
      ]
     },
     "metadata": {},
     "output_type": "display_data"
    },
    {
     "name": "stdout",
     "output_type": "stream",
     "text": [
      "---------------\n",
      "reserved_room_type\n"
     ]
    },
    {
     "data": {
      "text/plain": [
       "array(['A               ', 'C               ', 'D               ',\n",
       "       'E               ', 'G               ', 'F               ',\n",
       "       'B               '], dtype=object)"
      ]
     },
     "metadata": {},
     "output_type": "display_data"
    },
    {
     "name": "stdout",
     "output_type": "stream",
     "text": [
      "---------------\n",
      "customer_type\n"
     ]
    },
    {
     "data": {
      "text/plain": [
       "array(['Transient', 'Contract', 'Transient-Party', 'Group'], dtype=object)"
      ]
     },
     "metadata": {},
     "output_type": "display_data"
    },
    {
     "name": "stdout",
     "output_type": "stream",
     "text": [
      "---------------\n"
     ]
    }
   ],
   "source": [
    "for col in hotel_train.select_dtypes('object'):\n",
    "    print(col)\n",
    "    display(hotel_train[col].unique())\n",
    "    print('-----'*3)"
   ]
  },
  {
   "cell_type": "code",
   "execution_count": 107,
   "metadata": {
    "scrolled": true
   },
   "outputs": [
    {
     "name": "stdout",
     "output_type": "stream",
     "text": [
      "arrival_date_month\n"
     ]
    },
    {
     "data": {
      "text/plain": [
       "array(['January', 'February', 'March', 'April', 'May', 'June', 'July',\n",
       "       'August'], dtype=object)"
      ]
     },
     "metadata": {},
     "output_type": "display_data"
    },
    {
     "name": "stdout",
     "output_type": "stream",
     "text": [
      "---------------\n",
      "meal\n"
     ]
    },
    {
     "data": {
      "text/plain": [
       "array(['BB       ', 'HB       ', 'SC', 'FB       ', 'SC       '],\n",
       "      dtype=object)"
      ]
     },
     "metadata": {},
     "output_type": "display_data"
    },
    {
     "name": "stdout",
     "output_type": "stream",
     "text": [
      "---------------\n",
      "country\n"
     ]
    },
    {
     "data": {
      "text/plain": [
       "array(['PRT', 'AUT', 'BEL', 'DEU', 'BRA', 'GBR', 'ESP', 'FRA', 'ITA',\n",
       "       'LUX', 'CHE', 'EST', 'NGA', 'IRL', 'CN', 'POL', 'AUS', 'NLD',\n",
       "       'KOR', 'ROU', 'USA', 'CHL', 'DNK', 'FIN', 'RUS', 'SWE', 'HUN',\n",
       "       'HRV', 'MDV', 'ZAF', 'ISR', 'NOR', 'CHN', 'ARE', 'MAR', 'COL',\n",
       "       'FJI', 'LVA', 'LBN', 'PHL', 'HKG', 'SYC', 'GIB', 'AGO', 'MYS',\n",
       "       'MDG', 'IDN', 'LTU', 'ISL', 'TUR', 'ARG', 'JPN', 'SVN', 'SVK',\n",
       "       'BGR', 'CAF', 'JAM', 'UZB', 'UKR', 'IND', 'CZE', 'URY', 'NZL',\n",
       "       'NPL', 'SRB', 'CPV', 'IRN', 'KAZ', 'BHS', 'SUR', 'CUB', 'PAK',\n",
       "       'MAC', 'CYP', 'JOR', 'GRC', 'KWT', 'TWN', 'VNM', 'SGP', 'DOM',\n",
       "       'VEN', 'SEN', 'BLR', 'TZA', 'LIE', 'GNB', 'SAU', 'DZA', 'PER',\n",
       "       'AZE', 'EGY', 'ETH', 'KEN', 'THA', 'MLT', 'ECU', 'AND', 'IMN',\n",
       "       'BHR', 'TUN', 'MNE', 'MEX', 'BEN', 'MOZ', 'UMI', 'JEY', 'MYT',\n",
       "       'QAT', 'BGD', 'GAB', 'CIV', 'ZWE', 'GTM', 'ALB', 'GHA', 'ATA',\n",
       "       'ASM', 'PAN', 'CRI', 'MCO', 'MUS', 'SYR', 'TGO', 'IRQ', 'LKA',\n",
       "       'BIH', 'PRY', 'MRT', 'ABW', 'NCL', 'STP', 'KIR', 'SDN', 'PRI',\n",
       "       'ATF', 'CMR', 'TJK', 'LBY', 'SLE', 'SLV', 'LAO', 'FRO'],\n",
       "      dtype=object)"
      ]
     },
     "metadata": {},
     "output_type": "display_data"
    },
    {
     "name": "stdout",
     "output_type": "stream",
     "text": [
      "---------------\n",
      "distribution_channel\n"
     ]
    },
    {
     "data": {
      "text/plain": [
       "array(['TA/TO', 'Direct', 'Corporate', 'GDS'], dtype=object)"
      ]
     },
     "metadata": {},
     "output_type": "display_data"
    },
    {
     "name": "stdout",
     "output_type": "stream",
     "text": [
      "---------------\n",
      "reserved_room_type\n"
     ]
    },
    {
     "data": {
      "text/plain": [
       "array(['A               ', 'E               ', 'G               ',\n",
       "       'D               ', 'F               ', 'C               ',\n",
       "       'B               '], dtype=object)"
      ]
     },
     "metadata": {},
     "output_type": "display_data"
    },
    {
     "name": "stdout",
     "output_type": "stream",
     "text": [
      "---------------\n",
      "customer_type\n"
     ]
    },
    {
     "data": {
      "text/plain": [
       "array(['Transient', 'Transient-Party', 'Contract', 'Group'], dtype=object)"
      ]
     },
     "metadata": {},
     "output_type": "display_data"
    },
    {
     "name": "stdout",
     "output_type": "stream",
     "text": [
      "---------------\n"
     ]
    }
   ],
   "source": [
    "for col in hotel_test.select_dtypes('object'):\n",
    "    print(col)\n",
    "    display(hotel_test[col].unique())\n",
    "    print('-----'*3)"
   ]
  },
  {
   "cell_type": "markdown",
   "metadata": {},
   "source": [
    "Видно, что в столбце \"meal\" есть дубликат. Чтобы от него избавиться, удалим пробелы после названия категории. Удалим также пробелы в столбце \"reserved_room_type\""
   ]
  },
  {
   "cell_type": "code",
   "execution_count": 108,
   "metadata": {},
   "outputs": [],
   "source": [
    "hotel_train['meal'] = hotel_train['meal'].str.strip()\n",
    "hotel_train['reserved_room_type'] = hotel_train['reserved_room_type'].str.strip()\n",
    "\n",
    "hotel_test['meal'] = hotel_test['meal'].str.strip()\n",
    "hotel_test['reserved_room_type'] = hotel_test['reserved_room_type'].str.strip()"
   ]
  },
  {
   "cell_type": "markdown",
   "metadata": {},
   "source": [
    "Теперь все в порядке."
   ]
  },
  {
   "cell_type": "markdown",
   "metadata": {},
   "source": [
    "Чтобы изучить данные, объеденим их в одну таблицу для удобства."
   ]
  },
  {
   "cell_type": "code",
   "execution_count": 109,
   "metadata": {
    "scrolled": true
   },
   "outputs": [
    {
     "data": {
      "text/html": [
       "<div>\n",
       "<style scoped>\n",
       "    .dataframe tbody tr th:only-of-type {\n",
       "        vertical-align: middle;\n",
       "    }\n",
       "\n",
       "    .dataframe tbody tr th {\n",
       "        vertical-align: top;\n",
       "    }\n",
       "\n",
       "    .dataframe thead th {\n",
       "        text-align: right;\n",
       "    }\n",
       "</style>\n",
       "<table border=\"1\" class=\"dataframe\">\n",
       "  <thead>\n",
       "    <tr style=\"text-align: right;\">\n",
       "      <th></th>\n",
       "      <th>is_canceled</th>\n",
       "      <th>lead_time</th>\n",
       "      <th>arrival_date_year</th>\n",
       "      <th>arrival_date_month</th>\n",
       "      <th>arrival_date_week_number</th>\n",
       "      <th>arrival_date_day_of_month</th>\n",
       "      <th>stays_in_weekend_nights</th>\n",
       "      <th>stays_in_week_nights</th>\n",
       "      <th>adults</th>\n",
       "      <th>children</th>\n",
       "      <th>babies</th>\n",
       "      <th>meal</th>\n",
       "      <th>country</th>\n",
       "      <th>distribution_channel</th>\n",
       "      <th>is_repeated_guest</th>\n",
       "      <th>previous_cancellations</th>\n",
       "      <th>previous_bookings_not_canceled</th>\n",
       "      <th>reserved_room_type</th>\n",
       "      <th>booking_changes</th>\n",
       "      <th>days_in_waiting_list</th>\n",
       "      <th>customer_type</th>\n",
       "      <th>required_car_parking_spaces</th>\n",
       "      <th>total_of_special_requests</th>\n",
       "      <th>total_nights</th>\n",
       "    </tr>\n",
       "    <tr>\n",
       "      <th>id</th>\n",
       "      <th></th>\n",
       "      <th></th>\n",
       "      <th></th>\n",
       "      <th></th>\n",
       "      <th></th>\n",
       "      <th></th>\n",
       "      <th></th>\n",
       "      <th></th>\n",
       "      <th></th>\n",
       "      <th></th>\n",
       "      <th></th>\n",
       "      <th></th>\n",
       "      <th></th>\n",
       "      <th></th>\n",
       "      <th></th>\n",
       "      <th></th>\n",
       "      <th></th>\n",
       "      <th></th>\n",
       "      <th></th>\n",
       "      <th></th>\n",
       "      <th></th>\n",
       "      <th></th>\n",
       "      <th></th>\n",
       "      <th></th>\n",
       "    </tr>\n",
       "  </thead>\n",
       "  <tbody>\n",
       "    <tr>\n",
       "      <td>12260</td>\n",
       "      <td>0</td>\n",
       "      <td>0.0</td>\n",
       "      <td>2016</td>\n",
       "      <td>January</td>\n",
       "      <td>4</td>\n",
       "      <td>23</td>\n",
       "      <td>0</td>\n",
       "      <td>1</td>\n",
       "      <td>2.0</td>\n",
       "      <td>0.0</td>\n",
       "      <td>0.0</td>\n",
       "      <td>BB</td>\n",
       "      <td>FIN</td>\n",
       "      <td>Direct</td>\n",
       "      <td>0</td>\n",
       "      <td>0</td>\n",
       "      <td>0</td>\n",
       "      <td>A</td>\n",
       "      <td>0</td>\n",
       "      <td>0</td>\n",
       "      <td>Transient</td>\n",
       "      <td>0</td>\n",
       "      <td>1</td>\n",
       "      <td>1</td>\n",
       "    </tr>\n",
       "    <tr>\n",
       "      <td>21421</td>\n",
       "      <td>0</td>\n",
       "      <td>0.0</td>\n",
       "      <td>2017</td>\n",
       "      <td>March</td>\n",
       "      <td>11</td>\n",
       "      <td>17</td>\n",
       "      <td>0</td>\n",
       "      <td>1</td>\n",
       "      <td>2.0</td>\n",
       "      <td>0.0</td>\n",
       "      <td>0.0</td>\n",
       "      <td>BB</td>\n",
       "      <td>PRT</td>\n",
       "      <td>TA/TO</td>\n",
       "      <td>0</td>\n",
       "      <td>0</td>\n",
       "      <td>0</td>\n",
       "      <td>E</td>\n",
       "      <td>0</td>\n",
       "      <td>0</td>\n",
       "      <td>Transient</td>\n",
       "      <td>0</td>\n",
       "      <td>1</td>\n",
       "      <td>1</td>\n",
       "    </tr>\n",
       "    <tr>\n",
       "      <td>61878</td>\n",
       "      <td>1</td>\n",
       "      <td>4.0</td>\n",
       "      <td>2015</td>\n",
       "      <td>November</td>\n",
       "      <td>48</td>\n",
       "      <td>24</td>\n",
       "      <td>1</td>\n",
       "      <td>5</td>\n",
       "      <td>1.0</td>\n",
       "      <td>0.0</td>\n",
       "      <td>0.0</td>\n",
       "      <td>BB</td>\n",
       "      <td>AGO</td>\n",
       "      <td>Direct</td>\n",
       "      <td>0</td>\n",
       "      <td>1</td>\n",
       "      <td>0</td>\n",
       "      <td>A</td>\n",
       "      <td>1</td>\n",
       "      <td>0</td>\n",
       "      <td>Transient</td>\n",
       "      <td>0</td>\n",
       "      <td>1</td>\n",
       "      <td>6</td>\n",
       "    </tr>\n",
       "    <tr>\n",
       "      <td>27343</td>\n",
       "      <td>1</td>\n",
       "      <td>9.0</td>\n",
       "      <td>2015</td>\n",
       "      <td>September</td>\n",
       "      <td>37</td>\n",
       "      <td>11</td>\n",
       "      <td>0</td>\n",
       "      <td>1</td>\n",
       "      <td>2.0</td>\n",
       "      <td>0.0</td>\n",
       "      <td>0.0</td>\n",
       "      <td>BB</td>\n",
       "      <td>PRT</td>\n",
       "      <td>TA/TO</td>\n",
       "      <td>0</td>\n",
       "      <td>0</td>\n",
       "      <td>0</td>\n",
       "      <td>A</td>\n",
       "      <td>0</td>\n",
       "      <td>0</td>\n",
       "      <td>Contract</td>\n",
       "      <td>0</td>\n",
       "      <td>2</td>\n",
       "      <td>1</td>\n",
       "    </tr>\n",
       "    <tr>\n",
       "      <td>13965</td>\n",
       "      <td>0</td>\n",
       "      <td>67.0</td>\n",
       "      <td>2016</td>\n",
       "      <td>April</td>\n",
       "      <td>14</td>\n",
       "      <td>1</td>\n",
       "      <td>1</td>\n",
       "      <td>2</td>\n",
       "      <td>2.0</td>\n",
       "      <td>0.0</td>\n",
       "      <td>0.0</td>\n",
       "      <td>BB</td>\n",
       "      <td>GBR</td>\n",
       "      <td>Direct</td>\n",
       "      <td>0</td>\n",
       "      <td>0</td>\n",
       "      <td>0</td>\n",
       "      <td>D</td>\n",
       "      <td>0</td>\n",
       "      <td>0</td>\n",
       "      <td>Transient</td>\n",
       "      <td>0</td>\n",
       "      <td>2</td>\n",
       "      <td>3</td>\n",
       "    </tr>\n",
       "  </tbody>\n",
       "</table>\n",
       "</div>"
      ],
      "text/plain": [
       "       is_canceled  lead_time  arrival_date_year arrival_date_month  \\\n",
       "id                                                                    \n",
       "12260            0        0.0               2016            January   \n",
       "21421            0        0.0               2017              March   \n",
       "61878            1        4.0               2015           November   \n",
       "27343            1        9.0               2015          September   \n",
       "13965            0       67.0               2016              April   \n",
       "\n",
       "       arrival_date_week_number  arrival_date_day_of_month  \\\n",
       "id                                                           \n",
       "12260                         4                         23   \n",
       "21421                        11                         17   \n",
       "61878                        48                         24   \n",
       "27343                        37                         11   \n",
       "13965                        14                          1   \n",
       "\n",
       "       stays_in_weekend_nights  stays_in_week_nights  adults  children  \\\n",
       "id                                                                       \n",
       "12260                        0                     1     2.0       0.0   \n",
       "21421                        0                     1     2.0       0.0   \n",
       "61878                        1                     5     1.0       0.0   \n",
       "27343                        0                     1     2.0       0.0   \n",
       "13965                        1                     2     2.0       0.0   \n",
       "\n",
       "       babies meal country distribution_channel  is_repeated_guest  \\\n",
       "id                                                                   \n",
       "12260     0.0   BB     FIN               Direct                  0   \n",
       "21421     0.0   BB     PRT                TA/TO                  0   \n",
       "61878     0.0   BB     AGO               Direct                  0   \n",
       "27343     0.0   BB     PRT                TA/TO                  0   \n",
       "13965     0.0   BB     GBR               Direct                  0   \n",
       "\n",
       "       previous_cancellations  previous_bookings_not_canceled  \\\n",
       "id                                                              \n",
       "12260                       0                               0   \n",
       "21421                       0                               0   \n",
       "61878                       1                               0   \n",
       "27343                       0                               0   \n",
       "13965                       0                               0   \n",
       "\n",
       "      reserved_room_type  booking_changes  days_in_waiting_list customer_type  \\\n",
       "id                                                                              \n",
       "12260                  A                0                     0     Transient   \n",
       "21421                  E                0                     0     Transient   \n",
       "61878                  A                1                     0     Transient   \n",
       "27343                  A                0                     0      Contract   \n",
       "13965                  D                0                     0     Transient   \n",
       "\n",
       "       required_car_parking_spaces  total_of_special_requests  total_nights  \n",
       "id                                                                           \n",
       "12260                            0                          1             1  \n",
       "21421                            0                          1             1  \n",
       "61878                            0                          1             6  \n",
       "27343                            0                          2             1  \n",
       "13965                            0                          2             3  "
      ]
     },
     "execution_count": 109,
     "metadata": {},
     "output_type": "execute_result"
    }
   ],
   "source": [
    "hotel_full = pd.concat([hotel_train, hotel_test])\n",
    "hotel_full.sample(5, random_state=1)"
   ]
  },
  {
   "cell_type": "markdown",
   "metadata": {},
   "source": [
    "Для начала, разобъем признаки на группы по видам данных. "
   ]
  },
  {
   "cell_type": "markdown",
   "metadata": {},
   "source": [
    "Возьмем из признаков, выраженных вещественными числами те, в которых имеется небольшое (10 и меньше) количество уникальных значений и рассмотрим их по аналогии с категориальными (за исключение бинарных признаков и дат)."
   ]
  },
  {
   "cell_type": "code",
   "execution_count": 110,
   "metadata": {},
   "outputs": [
    {
     "data": {
      "text/plain": [
       "arrival_date_year               3\n",
       "stays_in_weekend_nights         5\n",
       "stays_in_week_nights            7\n",
       "adults                          5\n",
       "children                        4\n",
       "babies                          5\n",
       "required_car_parking_spaces     5\n",
       "total_of_special_requests       6\n",
       "total_nights                   10\n",
       "dtype: int64"
      ]
     },
     "execution_count": 110,
     "metadata": {},
     "output_type": "execute_result"
    }
   ],
   "source": [
    "(\n",
    "    hotel_full.select_dtypes(exclude='object').nunique()[\n",
    "        [col for col in \n",
    "         (hotel_full.select_dtypes(exclude='object').nunique() > 2) & \n",
    "         (hotel_full.select_dtypes(exclude='object').nunique() <= 10)\n",
    "        ]\n",
    "    ]\n",
    ")"
   ]
  },
  {
   "cell_type": "markdown",
   "metadata": {},
   "source": [
    "Сгруппируем признаки"
   ]
  },
  {
   "cell_type": "code",
   "execution_count": 111,
   "metadata": {},
   "outputs": [],
   "source": [
    "# Вещественные числа\n",
    "numeric = ['lead_time', 'previous_cancellations', 'previous_bookings_not_canceled',\n",
    "           'booking_changes', 'days_in_waiting_list']\n",
    "\n",
    "# Вещественные числа, с небольшим количество уникальных значений\n",
    "numeric_cat = ['stays_in_weekend_nights', 'stays_in_week_nights', 'adults', 'children',\n",
    "               'babies', 'required_car_parking_spaces', 'total_of_special_requests', 'total_nights']\n",
    "\n",
    "# Булевые значения\n",
    "bools = ['is_canceled', 'is_repeated_guest']\n",
    "\n",
    "# Категориальные\n",
    "categorical = ['meal', 'country', 'distribution_channel', 'reserved_room_type', 'customer_type']\n",
    "\n",
    "# Время и дата\n",
    "date_time = ['arrival_date_year', 'arrival_date_month', 'arrival_date_week_number', 'arrival_date_day_of_month']"
   ]
  },
  {
   "cell_type": "markdown",
   "metadata": {},
   "source": [
    "1. Посмотрим на распределение признаков, которые выражены вещественными числами"
   ]
  },
  {
   "cell_type": "code",
   "execution_count": 112,
   "metadata": {},
   "outputs": [
    {
     "data": {
      "text/html": [
       "<div>\n",
       "<style scoped>\n",
       "    .dataframe tbody tr th:only-of-type {\n",
       "        vertical-align: middle;\n",
       "    }\n",
       "\n",
       "    .dataframe tbody tr th {\n",
       "        vertical-align: top;\n",
       "    }\n",
       "\n",
       "    .dataframe thead th {\n",
       "        text-align: right;\n",
       "    }\n",
       "</style>\n",
       "<table border=\"1\" class=\"dataframe\">\n",
       "  <thead>\n",
       "    <tr style=\"text-align: right;\">\n",
       "      <th></th>\n",
       "      <th>lead_time</th>\n",
       "      <th>previous_cancellations</th>\n",
       "      <th>previous_bookings_not_canceled</th>\n",
       "      <th>booking_changes</th>\n",
       "      <th>days_in_waiting_list</th>\n",
       "    </tr>\n",
       "  </thead>\n",
       "  <tbody>\n",
       "    <tr>\n",
       "      <td>count</td>\n",
       "      <td>97641.000000</td>\n",
       "      <td>97641.000000</td>\n",
       "      <td>97641.000000</td>\n",
       "      <td>97641.000000</td>\n",
       "      <td>97641.000000</td>\n",
       "    </tr>\n",
       "    <tr>\n",
       "      <td>mean</td>\n",
       "      <td>96.752839</td>\n",
       "      <td>0.089972</td>\n",
       "      <td>0.128860</td>\n",
       "      <td>0.201729</td>\n",
       "      <td>2.314642</td>\n",
       "    </tr>\n",
       "    <tr>\n",
       "      <td>std</td>\n",
       "      <td>93.045823</td>\n",
       "      <td>0.797737</td>\n",
       "      <td>1.530961</td>\n",
       "      <td>0.609830</td>\n",
       "      <td>15.224212</td>\n",
       "    </tr>\n",
       "    <tr>\n",
       "      <td>min</td>\n",
       "      <td>0.000000</td>\n",
       "      <td>0.000000</td>\n",
       "      <td>0.000000</td>\n",
       "      <td>0.000000</td>\n",
       "      <td>0.000000</td>\n",
       "    </tr>\n",
       "    <tr>\n",
       "      <td>25%</td>\n",
       "      <td>19.000000</td>\n",
       "      <td>0.000000</td>\n",
       "      <td>0.000000</td>\n",
       "      <td>0.000000</td>\n",
       "      <td>0.000000</td>\n",
       "    </tr>\n",
       "    <tr>\n",
       "      <td>50%</td>\n",
       "      <td>68.000000</td>\n",
       "      <td>0.000000</td>\n",
       "      <td>0.000000</td>\n",
       "      <td>0.000000</td>\n",
       "      <td>0.000000</td>\n",
       "    </tr>\n",
       "    <tr>\n",
       "      <td>75%</td>\n",
       "      <td>152.000000</td>\n",
       "      <td>0.000000</td>\n",
       "      <td>0.000000</td>\n",
       "      <td>0.000000</td>\n",
       "      <td>0.000000</td>\n",
       "    </tr>\n",
       "    <tr>\n",
       "      <td>max</td>\n",
       "      <td>374.000000</td>\n",
       "      <td>26.000000</td>\n",
       "      <td>72.000000</td>\n",
       "      <td>18.000000</td>\n",
       "      <td>259.000000</td>\n",
       "    </tr>\n",
       "  </tbody>\n",
       "</table>\n",
       "</div>"
      ],
      "text/plain": [
       "          lead_time  previous_cancellations  previous_bookings_not_canceled  \\\n",
       "count  97641.000000            97641.000000                    97641.000000   \n",
       "mean      96.752839                0.089972                        0.128860   \n",
       "std       93.045823                0.797737                        1.530961   \n",
       "min        0.000000                0.000000                        0.000000   \n",
       "25%       19.000000                0.000000                        0.000000   \n",
       "50%       68.000000                0.000000                        0.000000   \n",
       "75%      152.000000                0.000000                        0.000000   \n",
       "max      374.000000               26.000000                       72.000000   \n",
       "\n",
       "       booking_changes  days_in_waiting_list  \n",
       "count     97641.000000          97641.000000  \n",
       "mean          0.201729              2.314642  \n",
       "std           0.609830             15.224212  \n",
       "min           0.000000              0.000000  \n",
       "25%           0.000000              0.000000  \n",
       "50%           0.000000              0.000000  \n",
       "75%           0.000000              0.000000  \n",
       "max          18.000000            259.000000  "
      ]
     },
     "execution_count": 112,
     "metadata": {},
     "output_type": "execute_result"
    }
   ],
   "source": [
    "hotel_full[numeric].describe()"
   ]
  },
  {
   "cell_type": "code",
   "execution_count": 113,
   "metadata": {
    "scrolled": true
   },
   "outputs": [
    {
     "data": {
      "image/png": "[encoded data removed]",
      "text/plain": [
       "<Figure size 1080x720 with 6 Axes>"
      ]
     },
     "metadata": {
      "needs_background": "light"
     },
     "output_type": "display_data"
    }
   ],
   "source": [
    "hotel_full[numeric].hist(bins=100, figsize=(15, 10));"
   ]
  },
  {
   "cell_type": "markdown",
   "metadata": {},
   "source": [
    "Также, посмотрим на диаграмму размаха."
   ]
  },
  {
   "cell_type": "code",
   "execution_count": 114,
   "metadata": {
    "scrolled": true
   },
   "outputs": [
    {
     "data": {
      "image/png": "[encoded data removed]",
      "text/plain": [
       "<Figure size 432x288 with 1 Axes>"
      ]
     },
     "metadata": {
      "needs_background": "light"
     },
     "output_type": "display_data"
    },
    {
     "data": {
      "image/png": "[encoded data removed]",
      "text/plain": [
       "<Figure size 432x288 with 1 Axes>"
      ]
     },
     "metadata": {
      "needs_background": "light"
     },
     "output_type": "display_data"
    },
    {
     "data": {
      "image/png": "[encoded data removed]",
      "text/plain": [
       "<Figure size 432x288 with 1 Axes>"
      ]
     },
     "metadata": {
      "needs_background": "light"
     },
     "output_type": "display_data"
    },
    {
     "data": {
      "image/png": "[encoded data removed]",
      "text/plain": [
       "<Figure size 432x288 with 1 Axes>"
      ]
     },
     "metadata": {
      "needs_background": "light"
     },
     "output_type": "display_data"
    },
    {
     "data": {
      "image/png": "[encoded data removed]",
      "text/plain": [
       "<Figure size 432x288 with 1 Axes>"
      ]
     },
     "metadata": {
      "needs_background": "light"
     },
     "output_type": "display_data"
    }
   ],
   "source": [
    "for col in hotel_full[numeric]:\n",
    "    plt.boxplot(hotel_full[col], vert=False)\n",
    "    plt.title(col)\n",
    "    plt.show()"
   ]
  },
  {
   "cell_type": "markdown",
   "metadata": {},
   "source": [
    "В данных столбцах имеется очень большое количество выбросов."
   ]
  },
  {
   "cell_type": "markdown",
   "metadata": {},
   "source": [
    "Посмотрим на средние значения признаков для каждой из категории клиентов."
   ]
  },
  {
   "cell_type": "code",
   "execution_count": 115,
   "metadata": {
    "scrolled": true
   },
   "outputs": [
    {
     "data": {
      "text/html": [
       "<div>\n",
       "<style scoped>\n",
       "    .dataframe tbody tr th:only-of-type {\n",
       "        vertical-align: middle;\n",
       "    }\n",
       "\n",
       "    .dataframe tbody tr th {\n",
       "        vertical-align: top;\n",
       "    }\n",
       "\n",
       "    .dataframe thead th {\n",
       "        text-align: right;\n",
       "    }\n",
       "</style>\n",
       "<table border=\"1\" class=\"dataframe\">\n",
       "  <thead>\n",
       "    <tr style=\"text-align: right;\">\n",
       "      <th>is_canceled</th>\n",
       "      <th>0</th>\n",
       "      <th>1</th>\n",
       "    </tr>\n",
       "  </thead>\n",
       "  <tbody>\n",
       "    <tr>\n",
       "      <td>lead_time</td>\n",
       "      <td>75.122972</td>\n",
       "      <td>132.771721</td>\n",
       "    </tr>\n",
       "    <tr>\n",
       "      <td>previous_cancellations</td>\n",
       "      <td>0.016146</td>\n",
       "      <td>0.212911</td>\n",
       "    </tr>\n",
       "    <tr>\n",
       "      <td>previous_bookings_not_canceled</td>\n",
       "      <td>0.191375</td>\n",
       "      <td>0.024758</td>\n",
       "    </tr>\n",
       "    <tr>\n",
       "      <td>booking_changes</td>\n",
       "      <td>0.268203</td>\n",
       "      <td>0.091033</td>\n",
       "    </tr>\n",
       "    <tr>\n",
       "      <td>days_in_waiting_list</td>\n",
       "      <td>1.600187</td>\n",
       "      <td>3.504381</td>\n",
       "    </tr>\n",
       "  </tbody>\n",
       "</table>\n",
       "</div>"
      ],
      "text/plain": [
       "is_canceled                             0           1\n",
       "lead_time                       75.122972  132.771721\n",
       "previous_cancellations           0.016146    0.212911\n",
       "previous_bookings_not_canceled   0.191375    0.024758\n",
       "booking_changes                  0.268203    0.091033\n",
       "days_in_waiting_list             1.600187    3.504381"
      ]
     },
     "execution_count": 115,
     "metadata": {},
     "output_type": "execute_result"
    }
   ],
   "source": [
    "hotel_full[numeric].join(hotel_full['is_canceled']).groupby('is_canceled').mean().T"
   ]
  },
  {
   "cell_type": "markdown",
   "metadata": {},
   "source": [
    "Можно заметить, что у гостей, которые отменяли бронь по сравнению с гостями, которые бронь подтвердили:\n",
    "- Среднее количество дней между датой бронирования и датой прибытия практически в 2 раза больше (132.7 дней)\n",
    "- В 20 раз выше среднее количество предыдущих отмен бронирования\n",
    "- В 10 раз ниже среднее количество предыдущих подтвержденных бронирований\n",
    "- В 2,6 раз ниже среднее количество изменений в параметрах заказа.\n",
    "- В 2 раза дольше в среднем их заказ ожидал подтвержения"
   ]
  },
  {
   "cell_type": "markdown",
   "metadata": {},
   "source": [
    "2. Посмотрим на распределение признаков, которые выражены булевым значением."
   ]
  },
  {
   "cell_type": "code",
   "execution_count": 116,
   "metadata": {
    "scrolled": true
   },
   "outputs": [
    {
     "data": {
      "image/png": "[encoded data removed]",
      "text/plain": [
       "<Figure size 432x288 with 1 Axes>"
      ]
     },
     "metadata": {
      "needs_background": "light"
     },
     "output_type": "display_data"
    },
    {
     "data": {
      "image/png": "[encoded data removed]",
      "text/plain": [
       "<Figure size 432x288 with 1 Axes>"
      ]
     },
     "metadata": {
      "needs_background": "light"
     },
     "output_type": "display_data"
    }
   ],
   "source": [
    "for column in hotel_full[bools].columns:\n",
    "    hotel_full[column].value_counts(normalize=True).plot.barh(title=column)\n",
    "    plt.show()"
   ]
  },
  {
   "cell_type": "code",
   "execution_count": 117,
   "metadata": {},
   "outputs": [
    {
     "data": {
      "text/html": [
       "<div>\n",
       "<style scoped>\n",
       "    .dataframe tbody tr th:only-of-type {\n",
       "        vertical-align: middle;\n",
       "    }\n",
       "\n",
       "    .dataframe tbody tr th {\n",
       "        vertical-align: top;\n",
       "    }\n",
       "\n",
       "    .dataframe thead th {\n",
       "        text-align: right;\n",
       "    }\n",
       "</style>\n",
       "<table border=\"1\" class=\"dataframe\">\n",
       "  <thead>\n",
       "    <tr style=\"text-align: right;\">\n",
       "      <th></th>\n",
       "      <th>is_canceled</th>\n",
       "    </tr>\n",
       "    <tr>\n",
       "      <th>is_repeated_guest</th>\n",
       "      <th></th>\n",
       "    </tr>\n",
       "  </thead>\n",
       "  <tbody>\n",
       "    <tr>\n",
       "      <td>0</td>\n",
       "      <td>36139</td>\n",
       "    </tr>\n",
       "    <tr>\n",
       "      <td>1</td>\n",
       "      <td>496</td>\n",
       "    </tr>\n",
       "  </tbody>\n",
       "</table>\n",
       "</div>"
      ],
      "text/plain": [
       "                   is_canceled\n",
       "is_repeated_guest             \n",
       "0                        36139\n",
       "1                          496"
      ]
     },
     "execution_count": 117,
     "metadata": {},
     "output_type": "execute_result"
    }
   ],
   "source": [
    "hotel_full[bools].groupby('is_repeated_guest').sum()"
   ]
  },
  {
   "cell_type": "markdown",
   "metadata": {},
   "source": [
    "Можно увидеть, что наибольшее количество отмен наблюдается среди гостей, которые являются первичными клиентами отеля."
   ]
  },
  {
   "cell_type": "markdown",
   "metadata": {},
   "source": [
    "Посмотрим также чему **доля** отмен бронирований среди первичных клиентов отеля."
   ]
  },
  {
   "cell_type": "code",
   "execution_count": 118,
   "metadata": {},
   "outputs": [
    {
     "data": {
      "text/html": [
       "<div>\n",
       "<style scoped>\n",
       "    .dataframe tbody tr th:only-of-type {\n",
       "        vertical-align: middle;\n",
       "    }\n",
       "\n",
       "    .dataframe tbody tr th {\n",
       "        vertical-align: top;\n",
       "    }\n",
       "\n",
       "    .dataframe thead tr th {\n",
       "        text-align: left;\n",
       "    }\n",
       "\n",
       "    .dataframe thead tr:last-of-type th {\n",
       "        text-align: right;\n",
       "    }\n",
       "</style>\n",
       "<table border=\"1\" class=\"dataframe\">\n",
       "  <thead>\n",
       "    <tr>\n",
       "      <th></th>\n",
       "      <th colspan=\"2\" halign=\"left\">is_canceled</th>\n",
       "    </tr>\n",
       "    <tr>\n",
       "      <th></th>\n",
       "      <th>sum</th>\n",
       "      <th>share</th>\n",
       "    </tr>\n",
       "    <tr>\n",
       "      <th>is_repeated_guest</th>\n",
       "      <th></th>\n",
       "      <th></th>\n",
       "    </tr>\n",
       "  </thead>\n",
       "  <tbody>\n",
       "    <tr>\n",
       "      <td>0</td>\n",
       "      <td>36139</td>\n",
       "      <td>0.381000</td>\n",
       "    </tr>\n",
       "    <tr>\n",
       "      <td>1</td>\n",
       "      <td>496</td>\n",
       "      <td>0.177905</td>\n",
       "    </tr>\n",
       "  </tbody>\n",
       "</table>\n",
       "</div>"
      ],
      "text/plain": [
       "                  is_canceled          \n",
       "                          sum     share\n",
       "is_repeated_guest                      \n",
       "0                       36139  0.381000\n",
       "1                         496  0.177905"
      ]
     },
     "execution_count": 118,
     "metadata": {},
     "output_type": "execute_result"
    }
   ],
   "source": [
    "(\n",
    "    hotel_full[bools].groupby('is_repeated_guest')\n",
    "    .agg(['sum', lambda x: x.sum() / x.count()])\n",
    "    .rename(columns={'<lambda_0>': 'share'})\n",
    ")"
   ]
  },
  {
   "cell_type": "markdown",
   "metadata": {},
   "source": [
    "3. Посмотрим, есть ли зависимость категориальных признаков с целевой переменной."
   ]
  },
  {
   "cell_type": "code",
   "execution_count": 119,
   "metadata": {},
   "outputs": [
    {
     "data": {
      "text/plain": [
       "meal                      4\n",
       "country                 174\n",
       "distribution_channel      4\n",
       "reserved_room_type        7\n",
       "customer_type             4\n",
       "dtype: int64"
      ]
     },
     "execution_count": 119,
     "metadata": {},
     "output_type": "execute_result"
    }
   ],
   "source": [
    "# Посмотрим количество уникальных значений признаков, выраженных номинально\n",
    "hotel_full[categorical].nunique()"
   ]
  },
  {
   "cell_type": "markdown",
   "metadata": {},
   "source": [
    "Посмотрим, как распределены значения признаков в категориях клиентов, которые отменили бронь, и которые бронь подтвердили. Иными словами мы хотим увидеть наиболее часто встречающиеся категории в обоих групп клиентов и сравнить, насколько они отличаются друг от друга."
   ]
  },
  {
   "cell_type": "code",
   "execution_count": 120,
   "metadata": {
    "scrolled": true
   },
   "outputs": [
    {
     "data": {
      "image/png": "[encoded data removed]",
      "text/plain": [
       "<Figure size 864x216 with 2 Axes>"
      ]
     },
     "metadata": {
      "needs_background": "light"
     },
     "output_type": "display_data"
    },
    {
     "data": {
      "image/png": "[encoded data removed]",
      "text/plain": [
       "<Figure size 864x216 with 2 Axes>"
      ]
     },
     "metadata": {
      "needs_background": "light"
     },
     "output_type": "display_data"
    },
    {
     "data": {
      "image/png": "[encoded data removed]",
      "text/plain": [
       "<Figure size 864x216 with 2 Axes>"
      ]
     },
     "metadata": {
      "needs_background": "light"
     },
     "output_type": "display_data"
    },
    {
     "data": {
      "image/png": "[encoded data removed]",
      "text/plain": [
       "<Figure size 864x216 with 2 Axes>"
      ]
     },
     "metadata": {
      "needs_background": "light"
     },
     "output_type": "display_data"
    },
    {
     "data": {
      "image/png": "[encoded data removed]",
      "text/plain": [
       "<Figure size 864x216 with 2 Axes>"
      ]
     },
     "metadata": {
      "needs_background": "light"
     },
     "output_type": "display_data"
    }
   ],
   "source": [
    "for col in hotel_full[categorical].columns:\n",
    "    fig, ax = plt.subplots(1, 2, figsize=(12, 3))\n",
    "    plt.suptitle(col)\n",
    "    plt.subplots_adjust(wspace=0.3, hspace=0)\n",
    "    \n",
    "    hotel_full[categorical][col][hotel_full['is_canceled'] == 1].value_counts(normalize=True)[:10].plot.barh(\n",
    "        ax=ax[0], title='is_canceled == 1');\n",
    "    hotel_full[categorical][col][hotel_full['is_canceled'] == 0].value_counts(normalize=True)[:10].plot.barh(\n",
    "        ax=ax[1], title='is_canceled == 0');\n",
    "    \n",
    "    plt.show()"
   ]
  },
  {
   "cell_type": "markdown",
   "metadata": {},
   "source": [
    "В целом, какой либо явной зависимости целевой переменной от категориальных признаков выявить не удалось. Распределение категориальных значений примерно одинаковое в каждой группе (в группах клиентов, которые отменили и подтвердили бронь)"
   ]
  },
  {
   "cell_type": "markdown",
   "metadata": {},
   "source": [
    "4. Посмотрим, есть ли какая-либо тенденция к отменам в зависимости от времени"
   ]
  },
  {
   "cell_type": "code",
   "execution_count": 121,
   "metadata": {
    "scrolled": true
   },
   "outputs": [
    {
     "data": {
      "image/png": "[encoded data removed]",
      "text/plain": [
       "<Figure size 864x216 with 2 Axes>"
      ]
     },
     "metadata": {
      "needs_background": "light"
     },
     "output_type": "display_data"
    },
    {
     "data": {
      "image/png": "[encoded data removed]",
      "text/plain": [
       "<Figure size 864x216 with 2 Axes>"
      ]
     },
     "metadata": {
      "needs_background": "light"
     },
     "output_type": "display_data"
    },
    {
     "data": {
      "image/png": "[encoded data removed]",
      "text/plain": [
       "<Figure size 864x216 with 2 Axes>"
      ]
     },
     "metadata": {
      "needs_background": "light"
     },
     "output_type": "display_data"
    },
    {
     "data": {
      "image/png": "[encoded data removed]",
      "text/plain": [
       "<Figure size 864x216 with 2 Axes>"
      ]
     },
     "metadata": {
      "needs_background": "light"
     },
     "output_type": "display_data"
    }
   ],
   "source": [
    "for col in hotel_full[date_time].columns:\n",
    "    fig, ax = plt.subplots(1, 2, figsize=(12, 3))\n",
    "    plt.suptitle(col)\n",
    "    plt.subplots_adjust(wspace=0.3, hspace=0)\n",
    "    \n",
    "    hotel_full[date_time][col][hotel_full['is_canceled'] == 1].value_counts(normalize=True, ascending=True)[:10].plot.barh(\n",
    "        ax=ax[0], title='is_canceled == 1');\n",
    "    hotel_full[date_time][col][hotel_full['is_canceled'] == 0].value_counts(normalize=True, ascending=True)[:10].plot.barh(\n",
    "        ax=ax[1], title='is_canceled == 0');\n",
    "    \n",
    "    plt.show()"
   ]
  },
  {
   "cell_type": "markdown",
   "metadata": {},
   "source": [
    "Похоже, что брони, которые приходились на июнь и август отменялись чаще всего, в то время как брони, которые приходились на июль и март чаще всего подтверждались. Однако, утверждать, что есть какая-либо зависимость отмен от даты заезда очень сложно. "
   ]
  },
  {
   "cell_type": "markdown",
   "metadata": {},
   "source": [
    "5. Посмотрим на взаимосвязь признаков из списка \"numeric_cat\" с целевой переменной."
   ]
  },
  {
   "cell_type": "markdown",
   "metadata": {},
   "source": [
    "Посмотрим на средние значения признаков для каждой категории клиентов."
   ]
  },
  {
   "cell_type": "code",
   "execution_count": 122,
   "metadata": {
    "scrolled": true
   },
   "outputs": [
    {
     "data": {
      "text/html": [
       "<div>\n",
       "<style scoped>\n",
       "    .dataframe tbody tr th:only-of-type {\n",
       "        vertical-align: middle;\n",
       "    }\n",
       "\n",
       "    .dataframe tbody tr th {\n",
       "        vertical-align: top;\n",
       "    }\n",
       "\n",
       "    .dataframe thead th {\n",
       "        text-align: right;\n",
       "    }\n",
       "</style>\n",
       "<table border=\"1\" class=\"dataframe\">\n",
       "  <thead>\n",
       "    <tr style=\"text-align: right;\">\n",
       "      <th>is_canceled</th>\n",
       "      <th>0</th>\n",
       "      <th>1</th>\n",
       "    </tr>\n",
       "  </thead>\n",
       "  <tbody>\n",
       "    <tr>\n",
       "      <td>stays_in_weekend_nights</td>\n",
       "      <td>0.845622</td>\n",
       "      <td>0.828934</td>\n",
       "    </tr>\n",
       "    <tr>\n",
       "      <td>stays_in_week_nights</td>\n",
       "      <td>2.237944</td>\n",
       "      <td>2.304900</td>\n",
       "    </tr>\n",
       "    <tr>\n",
       "      <td>adults</td>\n",
       "      <td>1.822772</td>\n",
       "      <td>1.879050</td>\n",
       "    </tr>\n",
       "    <tr>\n",
       "      <td>children</td>\n",
       "      <td>0.079697</td>\n",
       "      <td>0.074737</td>\n",
       "    </tr>\n",
       "    <tr>\n",
       "      <td>babies</td>\n",
       "      <td>0.008950</td>\n",
       "      <td>0.002866</td>\n",
       "    </tr>\n",
       "    <tr>\n",
       "      <td>required_car_parking_spaces</td>\n",
       "      <td>0.085139</td>\n",
       "      <td>0.000000</td>\n",
       "    </tr>\n",
       "    <tr>\n",
       "      <td>total_of_special_requests</td>\n",
       "      <td>0.706635</td>\n",
       "      <td>0.318220</td>\n",
       "    </tr>\n",
       "    <tr>\n",
       "      <td>total_nights</td>\n",
       "      <td>3.083566</td>\n",
       "      <td>3.133834</td>\n",
       "    </tr>\n",
       "  </tbody>\n",
       "</table>\n",
       "</div>"
      ],
      "text/plain": [
       "is_canceled                         0         1\n",
       "stays_in_weekend_nights      0.845622  0.828934\n",
       "stays_in_week_nights         2.237944  2.304900\n",
       "adults                       1.822772  1.879050\n",
       "children                     0.079697  0.074737\n",
       "babies                       0.008950  0.002866\n",
       "required_car_parking_spaces  0.085139  0.000000\n",
       "total_of_special_requests    0.706635  0.318220\n",
       "total_nights                 3.083566  3.133834"
      ]
     },
     "execution_count": 122,
     "metadata": {},
     "output_type": "execute_result"
    }
   ],
   "source": [
    "hotel_full[numeric_cat].join(hotel_full['is_canceled']).groupby('is_canceled').mean().T"
   ]
  },
  {
   "cell_type": "markdown",
   "metadata": {},
   "source": [
    "У клиентов, которые отменяли бронь, в основном не запрашивали парковочное место, не имели детей до 3х лет, а также среднее количество специалных отметок у них было в 2 раза меньше.  \n",
    "\n",
    "Однако, стоит также посмотреть на распределение данных признаков."
   ]
  },
  {
   "cell_type": "code",
   "execution_count": 123,
   "metadata": {
    "scrolled": true
   },
   "outputs": [
    {
     "data": {
      "image/png": "[encoded data removed]",
      "text/plain": [
       "<Figure size 432x288 with 1 Axes>"
      ]
     },
     "metadata": {
      "needs_background": "light"
     },
     "output_type": "display_data"
    },
    {
     "data": {
      "image/png": "[encoded data removed]",
      "text/plain": [
       "<Figure size 432x288 with 1 Axes>"
      ]
     },
     "metadata": {
      "needs_background": "light"
     },
     "output_type": "display_data"
    },
    {
     "data": {
      "image/png": "[encoded data removed]",
      "text/plain": [
       "<Figure size 432x288 with 1 Axes>"
      ]
     },
     "metadata": {
      "needs_background": "light"
     },
     "output_type": "display_data"
    },
    {
     "data": {
      "image/png": "[encoded data removed]",
      "text/plain": [
       "<Figure size 432x288 with 1 Axes>"
      ]
     },
     "metadata": {
      "needs_background": "light"
     },
     "output_type": "display_data"
    },
    {
     "data": {
      "image/png": "[encoded data removed]",
      "text/plain": [
       "<Figure size 432x288 with 1 Axes>"
      ]
     },
     "metadata": {
      "needs_background": "light"
     },
     "output_type": "display_data"
    },
    {
     "data": {
      "image/png": "[encoded data removed]",
      "text/plain": [
       "<Figure size 432x288 with 1 Axes>"
      ]
     },
     "metadata": {
      "needs_background": "light"
     },
     "output_type": "display_data"
    },
    {
     "data": {
      "image/png": "[encoded data removed]",
      "text/plain": [
       "<Figure size 432x288 with 1 Axes>"
      ]
     },
     "metadata": {
      "needs_background": "light"
     },
     "output_type": "display_data"
    },
    {
     "data": {
      "image/png": "[encoded data removed]",
      "text/plain": [
       "<Figure size 432x288 with 1 Axes>"
      ]
     },
     "metadata": {
      "needs_background": "light"
     },
     "output_type": "display_data"
    }
   ],
   "source": [
    "for col in numeric_cat:\n",
    "    sns.countplot(data=hotel_full[[col, 'is_canceled']], x=col, hue='is_canceled');\n",
    "    plt.title(col)\n",
    "    plt.show()"
   ]
  },
  {
   "cell_type": "markdown",
   "metadata": {},
   "source": [
    "Возможно, разница, которую мы описали выше получена из за разницы в количестве подтвердившихся и отменивших бронь гостей.  \n",
    "Посмотрим на распределение данных под другим углом."
   ]
  },
  {
   "cell_type": "code",
   "execution_count": 124,
   "metadata": {},
   "outputs": [
    {
     "data": {
      "image/png": "[encoded data removed]",
      "text/plain": [
       "<Figure size 864x216 with 2 Axes>"
      ]
     },
     "metadata": {
      "needs_background": "light"
     },
     "output_type": "display_data"
    },
    {
     "data": {
      "image/png": "[encoded data removed]",
      "text/plain": [
       "<Figure size 864x216 with 2 Axes>"
      ]
     },
     "metadata": {
      "needs_background": "light"
     },
     "output_type": "display_data"
    },
    {
     "data": {
      "image/png": "[encoded data removed]",
      "text/plain": [
       "<Figure size 864x216 with 2 Axes>"
      ]
     },
     "metadata": {
      "needs_background": "light"
     },
     "output_type": "display_data"
    },
    {
     "data": {
      "image/png": "[encoded data removed]",
      "text/plain": [
       "<Figure size 864x216 with 2 Axes>"
      ]
     },
     "metadata": {
      "needs_background": "light"
     },
     "output_type": "display_data"
    },
    {
     "data": {
      "image/png": "[encoded data removed]",
      "text/plain": [
       "<Figure size 864x216 with 2 Axes>"
      ]
     },
     "metadata": {
      "needs_background": "light"
     },
     "output_type": "display_data"
    },
    {
     "data": {
      "image/png": "[encoded data removed]",
      "text/plain": [
       "<Figure size 864x216 with 2 Axes>"
      ]
     },
     "metadata": {
      "needs_background": "light"
     },
     "output_type": "display_data"
    },
    {
     "data": {
      "image/png": "[encoded data removed]",
      "text/plain": [
       "<Figure size 864x216 with 2 Axes>"
      ]
     },
     "metadata": {
      "needs_background": "light"
     },
     "output_type": "display_data"
    },
    {
     "data": {
      "image/png": "[encoded data removed]",
      "text/plain": [
       "<Figure size 864x216 with 2 Axes>"
      ]
     },
     "metadata": {
      "needs_background": "light"
     },
     "output_type": "display_data"
    }
   ],
   "source": [
    "for col in hotel_full[numeric_cat].columns:\n",
    "    fig, ax = plt.subplots(1, 2, figsize=(12, 3))\n",
    "    plt.suptitle(col)\n",
    "    plt.subplots_adjust(wspace=0.3, hspace=0)\n",
    "    \n",
    "    hotel_full[col][hotel_full['is_canceled'] == 1].value_counts(normalize=True,ascending=True).plot.barh(\n",
    "        ax=ax[0], title='is_canceled == 1');\n",
    "    hotel_full[col][hotel_full['is_canceled'] == 0].value_counts(normalize=True, ascending=True).plot.barh(\n",
    "        ax=ax[1], title='is_canceled == 0');\n",
    "    \n",
    "    plt.show()"
   ]
  },
  {
   "cell_type": "markdown",
   "metadata": {},
   "source": [
    "Действительно видно, что значительной вклада в распределение признаков из столбца `numeric_cat` целевой признак не привносит.  \n",
    "\n",
    "Таким образом, выявить зависимость целевой переменной от признаков столбца `numeric_cat` не удалось."
   ]
  },
  {
   "cell_type": "markdown",
   "metadata": {},
   "source": [
    "#### Резюме"
   ]
  },
  {
   "cell_type": "markdown",
   "metadata": {},
   "source": [
    "В ходе исследовательского анализа, было выявлено, что у клиентов, отменивших бронирование:\n",
    "- Среднее количество дней между датой бронирования и датой прибытия практически в 2 раза больше (132.7 дней) нежели у подтвердившихся гостей.\n",
    "- В 20 раз выше среднее количество предыдущих отмен бронирования\n",
    "- В 10 раз ниже среднее количество предыдущих подтвержденных бронирований\n",
    "- В 2,6 раз ниже среднее количество изменений в параметрах заказа.\n",
    "- В 2 раза дольше в среднем их заказ ожидал подтвержения.  \n",
    "\n",
    "Также, следует отметить, что клиенты, которые впервые обратились в гостиницу отменяли бронь чаще, нежели повторные клиенты.  \n",
    "Однако следует помнить, что это первичный анализ, которые проводился без соответсвующих статистических методов проверки гипотез, поэтому выводы, которые сделаны являются лишь предположениями на основе наблюдений."
   ]
  },
  {
   "cell_type": "markdown",
   "metadata": {},
   "source": [
    "### Шаг 3. Формулировка ML-задачи на основе бизнес-задачи"
   ]
  },
  {
   "cell_type": "markdown",
   "metadata": {},
   "source": [
    "Сначала вычислим прибыль или убыток, которую принес каждый клиент. Создадим соответсвующий столбец.  \n",
    "Для тестового датасета расчитаем прибыль, которую отель получил без внедрения модели."
   ]
  },
  {
   "cell_type": "markdown",
   "metadata": {},
   "source": [
    "Создадим необходимые столбцы для расчета прибыли.  \n",
    "Для этого, создадим словари, которые понадобятся нам для дальнейшей работы."
   ]
  },
  {
   "cell_type": "code",
   "execution_count": 125,
   "metadata": {},
   "outputs": [],
   "source": [
    "# Цена за номер каждой категории\n",
    "prices = {'A': 1000,\n",
    "          'B': 800,\n",
    "          'C': 600,\n",
    "          'D': 550,\n",
    "          'E': 500,\n",
    "          'F': 450,\n",
    "          'G': 350}\n",
    "\n",
    "# Стоимость обслуживания номера каждой категории\n",
    "serv_cost = {'A': 400,\n",
    "             'B': 350,\n",
    "             'C': 350,\n",
    "             'D': 150,\n",
    "             'E': 150,\n",
    "             'F': 150,\n",
    "             'G': 150}\n",
    "\n",
    "# Сезонный коэффициент\n",
    "coef = {'January': 1,\n",
    "        'February': 1,\n",
    "        'March': 1.2,\n",
    "        'April': 1.2,\n",
    "        'May': 1.2,\n",
    "        'June': 1.4,\n",
    "        'July': 1.4,\n",
    "        'August': 1.4,\n",
    "        'September': 1.2,\n",
    "        'October': 1.2,\n",
    "        'November': 1.2,\n",
    "        'December': 1\n",
    "} \n",
    "\n",
    "# Сезонный коэффициент с номерами месяцев\n",
    "coef_num = {1: 1,\n",
    "            2: 1,\n",
    "            3: 1.2,\n",
    "            4: 1.2,\n",
    "            5: 1.2,\n",
    "            6: 1.4,\n",
    "            7: 1.4,\n",
    "            8: 1.4,\n",
    "            9: 1.2,\n",
    "            10: 1.2,\n",
    "            11: 1.2,\n",
    "            12: 1\n",
    "}\n",
    "\n",
    "# Название месяцев и их порядковые номера\n",
    "months_dict = {'January': 1,\n",
    "               'February': 2,\n",
    "               'March': 3,\n",
    "               'April': 4,\n",
    "               'May': 5,\n",
    "               'June': 6,\n",
    "               'July': 7,\n",
    "               'August': 8,\n",
    "               'September': 9,\n",
    "               'October': 10,\n",
    "               'November': 11,\n",
    "               'December': 12\n",
    "              }"
   ]
  },
  {
   "cell_type": "markdown",
   "metadata": {},
   "source": [
    "Создадим новые стобцы на основании заданных в задаче условий."
   ]
  },
  {
   "cell_type": "code",
   "execution_count": 126,
   "metadata": {
    "scrolled": false
   },
   "outputs": [
    {
     "data": {
      "text/html": [
       "<div>\n",
       "<style scoped>\n",
       "    .dataframe tbody tr th:only-of-type {\n",
       "        vertical-align: middle;\n",
       "    }\n",
       "\n",
       "    .dataframe tbody tr th {\n",
       "        vertical-align: top;\n",
       "    }\n",
       "\n",
       "    .dataframe thead th {\n",
       "        text-align: right;\n",
       "    }\n",
       "</style>\n",
       "<table border=\"1\" class=\"dataframe\">\n",
       "  <thead>\n",
       "    <tr style=\"text-align: right;\">\n",
       "      <th></th>\n",
       "      <th>is_canceled</th>\n",
       "      <th>lead_time</th>\n",
       "      <th>arrival_date_year</th>\n",
       "      <th>arrival_date_month</th>\n",
       "      <th>arrival_date_week_number</th>\n",
       "      <th>arrival_date_day_of_month</th>\n",
       "      <th>stays_in_weekend_nights</th>\n",
       "      <th>stays_in_week_nights</th>\n",
       "      <th>adults</th>\n",
       "      <th>children</th>\n",
       "      <th>babies</th>\n",
       "      <th>meal</th>\n",
       "      <th>country</th>\n",
       "      <th>distribution_channel</th>\n",
       "      <th>is_repeated_guest</th>\n",
       "      <th>previous_cancellations</th>\n",
       "      <th>previous_bookings_not_canceled</th>\n",
       "      <th>reserved_room_type</th>\n",
       "      <th>booking_changes</th>\n",
       "      <th>days_in_waiting_list</th>\n",
       "      <th>customer_type</th>\n",
       "      <th>required_car_parking_spaces</th>\n",
       "      <th>total_of_special_requests</th>\n",
       "      <th>total_nights</th>\n",
       "      <th>prices</th>\n",
       "      <th>serv_cost</th>\n",
       "      <th>coef</th>\n",
       "    </tr>\n",
       "    <tr>\n",
       "      <th>id</th>\n",
       "      <th></th>\n",
       "      <th></th>\n",
       "      <th></th>\n",
       "      <th></th>\n",
       "      <th></th>\n",
       "      <th></th>\n",
       "      <th></th>\n",
       "      <th></th>\n",
       "      <th></th>\n",
       "      <th></th>\n",
       "      <th></th>\n",
       "      <th></th>\n",
       "      <th></th>\n",
       "      <th></th>\n",
       "      <th></th>\n",
       "      <th></th>\n",
       "      <th></th>\n",
       "      <th></th>\n",
       "      <th></th>\n",
       "      <th></th>\n",
       "      <th></th>\n",
       "      <th></th>\n",
       "      <th></th>\n",
       "      <th></th>\n",
       "      <th></th>\n",
       "      <th></th>\n",
       "      <th></th>\n",
       "    </tr>\n",
       "  </thead>\n",
       "  <tbody>\n",
       "    <tr>\n",
       "      <td>0</td>\n",
       "      <td>0</td>\n",
       "      <td>7.0</td>\n",
       "      <td>2015</td>\n",
       "      <td>July</td>\n",
       "      <td>27</td>\n",
       "      <td>1</td>\n",
       "      <td>0</td>\n",
       "      <td>1</td>\n",
       "      <td>1.0</td>\n",
       "      <td>0.0</td>\n",
       "      <td>0.0</td>\n",
       "      <td>BB</td>\n",
       "      <td>GBR</td>\n",
       "      <td>Direct</td>\n",
       "      <td>0</td>\n",
       "      <td>0</td>\n",
       "      <td>0</td>\n",
       "      <td>A</td>\n",
       "      <td>0</td>\n",
       "      <td>0</td>\n",
       "      <td>Transient</td>\n",
       "      <td>0</td>\n",
       "      <td>0</td>\n",
       "      <td>1</td>\n",
       "      <td>1000</td>\n",
       "      <td>400</td>\n",
       "      <td>1.4</td>\n",
       "    </tr>\n",
       "    <tr>\n",
       "      <td>1</td>\n",
       "      <td>0</td>\n",
       "      <td>14.0</td>\n",
       "      <td>2015</td>\n",
       "      <td>July</td>\n",
       "      <td>27</td>\n",
       "      <td>1</td>\n",
       "      <td>0</td>\n",
       "      <td>2</td>\n",
       "      <td>2.0</td>\n",
       "      <td>0.0</td>\n",
       "      <td>0.0</td>\n",
       "      <td>BB</td>\n",
       "      <td>GBR</td>\n",
       "      <td>TA/TO</td>\n",
       "      <td>0</td>\n",
       "      <td>0</td>\n",
       "      <td>0</td>\n",
       "      <td>A</td>\n",
       "      <td>0</td>\n",
       "      <td>0</td>\n",
       "      <td>Transient</td>\n",
       "      <td>0</td>\n",
       "      <td>1</td>\n",
       "      <td>2</td>\n",
       "      <td>1000</td>\n",
       "      <td>400</td>\n",
       "      <td>1.4</td>\n",
       "    </tr>\n",
       "    <tr>\n",
       "      <td>2</td>\n",
       "      <td>0</td>\n",
       "      <td>0.0</td>\n",
       "      <td>2015</td>\n",
       "      <td>July</td>\n",
       "      <td>27</td>\n",
       "      <td>1</td>\n",
       "      <td>0</td>\n",
       "      <td>2</td>\n",
       "      <td>2.0</td>\n",
       "      <td>0.0</td>\n",
       "      <td>0.0</td>\n",
       "      <td>BB</td>\n",
       "      <td>PRT</td>\n",
       "      <td>Direct</td>\n",
       "      <td>0</td>\n",
       "      <td>0</td>\n",
       "      <td>0</td>\n",
       "      <td>C</td>\n",
       "      <td>0</td>\n",
       "      <td>0</td>\n",
       "      <td>Transient</td>\n",
       "      <td>0</td>\n",
       "      <td>0</td>\n",
       "      <td>2</td>\n",
       "      <td>600</td>\n",
       "      <td>350</td>\n",
       "      <td>1.4</td>\n",
       "    </tr>\n",
       "    <tr>\n",
       "      <td>3</td>\n",
       "      <td>0</td>\n",
       "      <td>9.0</td>\n",
       "      <td>2015</td>\n",
       "      <td>July</td>\n",
       "      <td>27</td>\n",
       "      <td>1</td>\n",
       "      <td>0</td>\n",
       "      <td>2</td>\n",
       "      <td>2.0</td>\n",
       "      <td>0.0</td>\n",
       "      <td>0.0</td>\n",
       "      <td>FB</td>\n",
       "      <td>PRT</td>\n",
       "      <td>Direct</td>\n",
       "      <td>0</td>\n",
       "      <td>0</td>\n",
       "      <td>0</td>\n",
       "      <td>C</td>\n",
       "      <td>0</td>\n",
       "      <td>0</td>\n",
       "      <td>Transient</td>\n",
       "      <td>0</td>\n",
       "      <td>1</td>\n",
       "      <td>2</td>\n",
       "      <td>600</td>\n",
       "      <td>350</td>\n",
       "      <td>1.4</td>\n",
       "    </tr>\n",
       "    <tr>\n",
       "      <td>4</td>\n",
       "      <td>1</td>\n",
       "      <td>85.0</td>\n",
       "      <td>2015</td>\n",
       "      <td>July</td>\n",
       "      <td>27</td>\n",
       "      <td>1</td>\n",
       "      <td>0</td>\n",
       "      <td>3</td>\n",
       "      <td>2.0</td>\n",
       "      <td>0.0</td>\n",
       "      <td>0.0</td>\n",
       "      <td>BB</td>\n",
       "      <td>PRT</td>\n",
       "      <td>TA/TO</td>\n",
       "      <td>0</td>\n",
       "      <td>0</td>\n",
       "      <td>0</td>\n",
       "      <td>A</td>\n",
       "      <td>0</td>\n",
       "      <td>0</td>\n",
       "      <td>Transient</td>\n",
       "      <td>0</td>\n",
       "      <td>1</td>\n",
       "      <td>3</td>\n",
       "      <td>1000</td>\n",
       "      <td>400</td>\n",
       "      <td>1.4</td>\n",
       "    </tr>\n",
       "  </tbody>\n",
       "</table>\n",
       "</div>"
      ],
      "text/plain": [
       "    is_canceled  lead_time  arrival_date_year arrival_date_month  \\\n",
       "id                                                                 \n",
       "0             0        7.0               2015               July   \n",
       "1             0       14.0               2015               July   \n",
       "2             0        0.0               2015               July   \n",
       "3             0        9.0               2015               July   \n",
       "4             1       85.0               2015               July   \n",
       "\n",
       "    arrival_date_week_number  arrival_date_day_of_month  \\\n",
       "id                                                        \n",
       "0                         27                          1   \n",
       "1                         27                          1   \n",
       "2                         27                          1   \n",
       "3                         27                          1   \n",
       "4                         27                          1   \n",
       "\n",
       "    stays_in_weekend_nights  stays_in_week_nights  adults  children  babies  \\\n",
       "id                                                                            \n",
       "0                         0                     1     1.0       0.0     0.0   \n",
       "1                         0                     2     2.0       0.0     0.0   \n",
       "2                         0                     2     2.0       0.0     0.0   \n",
       "3                         0                     2     2.0       0.0     0.0   \n",
       "4                         0                     3     2.0       0.0     0.0   \n",
       "\n",
       "   meal country distribution_channel  is_repeated_guest  \\\n",
       "id                                                        \n",
       "0    BB     GBR               Direct                  0   \n",
       "1    BB     GBR                TA/TO                  0   \n",
       "2    BB     PRT               Direct                  0   \n",
       "3    FB     PRT               Direct                  0   \n",
       "4    BB     PRT                TA/TO                  0   \n",
       "\n",
       "    previous_cancellations  previous_bookings_not_canceled reserved_room_type  \\\n",
       "id                                                                              \n",
       "0                        0                               0                  A   \n",
       "1                        0                               0                  A   \n",
       "2                        0                               0                  C   \n",
       "3                        0                               0                  C   \n",
       "4                        0                               0                  A   \n",
       "\n",
       "    booking_changes  days_in_waiting_list customer_type  \\\n",
       "id                                                        \n",
       "0                 0                     0     Transient   \n",
       "1                 0                     0     Transient   \n",
       "2                 0                     0     Transient   \n",
       "3                 0                     0     Transient   \n",
       "4                 0                     0     Transient   \n",
       "\n",
       "    required_car_parking_spaces  total_of_special_requests  total_nights  \\\n",
       "id                                                                         \n",
       "0                             0                          0             1   \n",
       "1                             0                          1             2   \n",
       "2                             0                          0             2   \n",
       "3                             0                          1             2   \n",
       "4                             0                          1             3   \n",
       "\n",
       "    prices  serv_cost  coef  \n",
       "id                           \n",
       "0     1000        400   1.4  \n",
       "1     1000        400   1.4  \n",
       "2      600        350   1.4  \n",
       "3      600        350   1.4  \n",
       "4     1000        400   1.4  "
      ]
     },
     "execution_count": 126,
     "metadata": {},
     "output_type": "execute_result"
    }
   ],
   "source": [
    "# Столбец с ценами\n",
    "hotel_full['prices'] = hotel_full['reserved_room_type'].apply(lambda x: prices[x])\n",
    "\n",
    "# Столбец со стоимостью обслуживания номера\n",
    "hotel_full['serv_cost'] = hotel_full['reserved_room_type'].apply(lambda x: serv_cost[x])\n",
    "\n",
    "# Столбец с сезонными коэффициентами\n",
    "hotel_full['coef'] = hotel_full['arrival_date_month'].apply(lambda x: coef[x])\n",
    "\n",
    "hotel_full.head()"
   ]
  },
  {
   "cell_type": "markdown",
   "metadata": {},
   "source": [
    "Создадим функцию, которая будет расчитывать количество ночей в каждом месяце."
   ]
  },
  {
   "cell_type": "code",
   "execution_count": 127,
   "metadata": {},
   "outputs": [],
   "source": [
    "def get_durations(start_date, end_date):\n",
    "    current = start_date\n",
    "    result = [current]\n",
    "\n",
    "    current = current.replace(day=1)\n",
    "    while current <= end_date:\n",
    "        current += timedelta(days=32)\n",
    "        current = current.replace(day=1)\n",
    "        result.append(datetime(current.year, current.month, 1).date())\n",
    "\n",
    "    durations= []\n",
    "    for curr in result[:-1]:\n",
    "        curr_range = calendar.monthrange(curr.year, curr.month)\n",
    "        curr_duration = (curr_range[1] - curr.day)+1\n",
    "\n",
    "        if ((curr.month == end_date.month) & (curr.year == end_date.year)):\n",
    "            durations.append(end_date.day)\n",
    "        else:\n",
    "            durations.append(curr_duration)\n",
    "            \n",
    "    if len(durations) > 1:\n",
    "        durations[-1] -= 1\n",
    "    elif len(durations) == 1:\n",
    "        durations[0] -= 1\n",
    "        \n",
    "    return durations"
   ]
  },
  {
   "cell_type": "code",
   "execution_count": 128,
   "metadata": {},
   "outputs": [],
   "source": [
    "# Создадим столбец с месяцем прибытия в формате номера\n",
    "hotel_full['arrival_date_month_num'] = hotel_full['arrival_date_month'].apply(lambda x: months_dict[x])\n",
    "\n",
    "# Создадим столбец с датой прибытия\n",
    "hotel_full['arrival_date'] = pd.to_datetime(dict(year=hotel_full.arrival_date_year, \n",
    "                                                 month=hotel_full.arrival_date_month_num, \n",
    "                                                 day=hotel_full.arrival_date_day_of_month)\n",
    ")\n",
    "\n",
    "# Создадим столбец с датой выезда\n",
    "hotel_full['departure_date'] = (hotel_full['arrival_date'] + \n",
    "                                pd.to_timedelta(hotel_full['total_nights'], unit='D'))\n",
    "\n",
    "# Создадим столбец с количество ночей, которые гость провел в каждом месяце прибывания\n",
    "hotel_full['nights_by_month'] = hotel_full[['departure_date', 'arrival_date']].apply(\n",
    "    lambda row: get_durations(row['arrival_date'], row['departure_date']) , axis=1)"
   ]
  },
  {
   "cell_type": "code",
   "execution_count": 129,
   "metadata": {
    "scrolled": true
   },
   "outputs": [
    {
     "data": {
      "text/html": [
       "<div>\n",
       "<style scoped>\n",
       "    .dataframe tbody tr th:only-of-type {\n",
       "        vertical-align: middle;\n",
       "    }\n",
       "\n",
       "    .dataframe tbody tr th {\n",
       "        vertical-align: top;\n",
       "    }\n",
       "\n",
       "    .dataframe thead th {\n",
       "        text-align: right;\n",
       "    }\n",
       "</style>\n",
       "<table border=\"1\" class=\"dataframe\">\n",
       "  <thead>\n",
       "    <tr style=\"text-align: right;\">\n",
       "      <th></th>\n",
       "      <th>is_canceled</th>\n",
       "      <th>lead_time</th>\n",
       "      <th>arrival_date_year</th>\n",
       "      <th>arrival_date_month</th>\n",
       "      <th>arrival_date_week_number</th>\n",
       "      <th>arrival_date_day_of_month</th>\n",
       "      <th>stays_in_weekend_nights</th>\n",
       "      <th>stays_in_week_nights</th>\n",
       "      <th>adults</th>\n",
       "      <th>children</th>\n",
       "      <th>babies</th>\n",
       "      <th>meal</th>\n",
       "      <th>country</th>\n",
       "      <th>distribution_channel</th>\n",
       "      <th>is_repeated_guest</th>\n",
       "      <th>previous_cancellations</th>\n",
       "      <th>previous_bookings_not_canceled</th>\n",
       "      <th>reserved_room_type</th>\n",
       "      <th>booking_changes</th>\n",
       "      <th>days_in_waiting_list</th>\n",
       "      <th>customer_type</th>\n",
       "      <th>required_car_parking_spaces</th>\n",
       "      <th>total_of_special_requests</th>\n",
       "      <th>total_nights</th>\n",
       "      <th>prices</th>\n",
       "      <th>serv_cost</th>\n",
       "      <th>coef</th>\n",
       "      <th>arrival_date_month_num</th>\n",
       "      <th>arrival_date</th>\n",
       "      <th>departure_date</th>\n",
       "      <th>nights_by_month</th>\n",
       "    </tr>\n",
       "    <tr>\n",
       "      <th>id</th>\n",
       "      <th></th>\n",
       "      <th></th>\n",
       "      <th></th>\n",
       "      <th></th>\n",
       "      <th></th>\n",
       "      <th></th>\n",
       "      <th></th>\n",
       "      <th></th>\n",
       "      <th></th>\n",
       "      <th></th>\n",
       "      <th></th>\n",
       "      <th></th>\n",
       "      <th></th>\n",
       "      <th></th>\n",
       "      <th></th>\n",
       "      <th></th>\n",
       "      <th></th>\n",
       "      <th></th>\n",
       "      <th></th>\n",
       "      <th></th>\n",
       "      <th></th>\n",
       "      <th></th>\n",
       "      <th></th>\n",
       "      <th></th>\n",
       "      <th></th>\n",
       "      <th></th>\n",
       "      <th></th>\n",
       "      <th></th>\n",
       "      <th></th>\n",
       "      <th></th>\n",
       "      <th></th>\n",
       "    </tr>\n",
       "  </thead>\n",
       "  <tbody>\n",
       "    <tr>\n",
       "      <td>0</td>\n",
       "      <td>0</td>\n",
       "      <td>7.0</td>\n",
       "      <td>2015</td>\n",
       "      <td>July</td>\n",
       "      <td>27</td>\n",
       "      <td>1</td>\n",
       "      <td>0</td>\n",
       "      <td>1</td>\n",
       "      <td>1.0</td>\n",
       "      <td>0.0</td>\n",
       "      <td>0.0</td>\n",
       "      <td>BB</td>\n",
       "      <td>GBR</td>\n",
       "      <td>Direct</td>\n",
       "      <td>0</td>\n",
       "      <td>0</td>\n",
       "      <td>0</td>\n",
       "      <td>A</td>\n",
       "      <td>0</td>\n",
       "      <td>0</td>\n",
       "      <td>Transient</td>\n",
       "      <td>0</td>\n",
       "      <td>0</td>\n",
       "      <td>1</td>\n",
       "      <td>1000</td>\n",
       "      <td>400</td>\n",
       "      <td>1.4</td>\n",
       "      <td>7</td>\n",
       "      <td>2015-07-01</td>\n",
       "      <td>2015-07-02</td>\n",
       "      <td>[1]</td>\n",
       "    </tr>\n",
       "    <tr>\n",
       "      <td>1</td>\n",
       "      <td>0</td>\n",
       "      <td>14.0</td>\n",
       "      <td>2015</td>\n",
       "      <td>July</td>\n",
       "      <td>27</td>\n",
       "      <td>1</td>\n",
       "      <td>0</td>\n",
       "      <td>2</td>\n",
       "      <td>2.0</td>\n",
       "      <td>0.0</td>\n",
       "      <td>0.0</td>\n",
       "      <td>BB</td>\n",
       "      <td>GBR</td>\n",
       "      <td>TA/TO</td>\n",
       "      <td>0</td>\n",
       "      <td>0</td>\n",
       "      <td>0</td>\n",
       "      <td>A</td>\n",
       "      <td>0</td>\n",
       "      <td>0</td>\n",
       "      <td>Transient</td>\n",
       "      <td>0</td>\n",
       "      <td>1</td>\n",
       "      <td>2</td>\n",
       "      <td>1000</td>\n",
       "      <td>400</td>\n",
       "      <td>1.4</td>\n",
       "      <td>7</td>\n",
       "      <td>2015-07-01</td>\n",
       "      <td>2015-07-03</td>\n",
       "      <td>[2]</td>\n",
       "    </tr>\n",
       "    <tr>\n",
       "      <td>2</td>\n",
       "      <td>0</td>\n",
       "      <td>0.0</td>\n",
       "      <td>2015</td>\n",
       "      <td>July</td>\n",
       "      <td>27</td>\n",
       "      <td>1</td>\n",
       "      <td>0</td>\n",
       "      <td>2</td>\n",
       "      <td>2.0</td>\n",
       "      <td>0.0</td>\n",
       "      <td>0.0</td>\n",
       "      <td>BB</td>\n",
       "      <td>PRT</td>\n",
       "      <td>Direct</td>\n",
       "      <td>0</td>\n",
       "      <td>0</td>\n",
       "      <td>0</td>\n",
       "      <td>C</td>\n",
       "      <td>0</td>\n",
       "      <td>0</td>\n",
       "      <td>Transient</td>\n",
       "      <td>0</td>\n",
       "      <td>0</td>\n",
       "      <td>2</td>\n",
       "      <td>600</td>\n",
       "      <td>350</td>\n",
       "      <td>1.4</td>\n",
       "      <td>7</td>\n",
       "      <td>2015-07-01</td>\n",
       "      <td>2015-07-03</td>\n",
       "      <td>[2]</td>\n",
       "    </tr>\n",
       "    <tr>\n",
       "      <td>3</td>\n",
       "      <td>0</td>\n",
       "      <td>9.0</td>\n",
       "      <td>2015</td>\n",
       "      <td>July</td>\n",
       "      <td>27</td>\n",
       "      <td>1</td>\n",
       "      <td>0</td>\n",
       "      <td>2</td>\n",
       "      <td>2.0</td>\n",
       "      <td>0.0</td>\n",
       "      <td>0.0</td>\n",
       "      <td>FB</td>\n",
       "      <td>PRT</td>\n",
       "      <td>Direct</td>\n",
       "      <td>0</td>\n",
       "      <td>0</td>\n",
       "      <td>0</td>\n",
       "      <td>C</td>\n",
       "      <td>0</td>\n",
       "      <td>0</td>\n",
       "      <td>Transient</td>\n",
       "      <td>0</td>\n",
       "      <td>1</td>\n",
       "      <td>2</td>\n",
       "      <td>600</td>\n",
       "      <td>350</td>\n",
       "      <td>1.4</td>\n",
       "      <td>7</td>\n",
       "      <td>2015-07-01</td>\n",
       "      <td>2015-07-03</td>\n",
       "      <td>[2]</td>\n",
       "    </tr>\n",
       "    <tr>\n",
       "      <td>4</td>\n",
       "      <td>1</td>\n",
       "      <td>85.0</td>\n",
       "      <td>2015</td>\n",
       "      <td>July</td>\n",
       "      <td>27</td>\n",
       "      <td>1</td>\n",
       "      <td>0</td>\n",
       "      <td>3</td>\n",
       "      <td>2.0</td>\n",
       "      <td>0.0</td>\n",
       "      <td>0.0</td>\n",
       "      <td>BB</td>\n",
       "      <td>PRT</td>\n",
       "      <td>TA/TO</td>\n",
       "      <td>0</td>\n",
       "      <td>0</td>\n",
       "      <td>0</td>\n",
       "      <td>A</td>\n",
       "      <td>0</td>\n",
       "      <td>0</td>\n",
       "      <td>Transient</td>\n",
       "      <td>0</td>\n",
       "      <td>1</td>\n",
       "      <td>3</td>\n",
       "      <td>1000</td>\n",
       "      <td>400</td>\n",
       "      <td>1.4</td>\n",
       "      <td>7</td>\n",
       "      <td>2015-07-01</td>\n",
       "      <td>2015-07-04</td>\n",
       "      <td>[3]</td>\n",
       "    </tr>\n",
       "  </tbody>\n",
       "</table>\n",
       "</div>"
      ],
      "text/plain": [
       "    is_canceled  lead_time  arrival_date_year arrival_date_month  \\\n",
       "id                                                                 \n",
       "0             0        7.0               2015               July   \n",
       "1             0       14.0               2015               July   \n",
       "2             0        0.0               2015               July   \n",
       "3             0        9.0               2015               July   \n",
       "4             1       85.0               2015               July   \n",
       "\n",
       "    arrival_date_week_number  arrival_date_day_of_month  \\\n",
       "id                                                        \n",
       "0                         27                          1   \n",
       "1                         27                          1   \n",
       "2                         27                          1   \n",
       "3                         27                          1   \n",
       "4                         27                          1   \n",
       "\n",
       "    stays_in_weekend_nights  stays_in_week_nights  adults  children  babies  \\\n",
       "id                                                                            \n",
       "0                         0                     1     1.0       0.0     0.0   \n",
       "1                         0                     2     2.0       0.0     0.0   \n",
       "2                         0                     2     2.0       0.0     0.0   \n",
       "3                         0                     2     2.0       0.0     0.0   \n",
       "4                         0                     3     2.0       0.0     0.0   \n",
       "\n",
       "   meal country distribution_channel  is_repeated_guest  \\\n",
       "id                                                        \n",
       "0    BB     GBR               Direct                  0   \n",
       "1    BB     GBR                TA/TO                  0   \n",
       "2    BB     PRT               Direct                  0   \n",
       "3    FB     PRT               Direct                  0   \n",
       "4    BB     PRT                TA/TO                  0   \n",
       "\n",
       "    previous_cancellations  previous_bookings_not_canceled reserved_room_type  \\\n",
       "id                                                                              \n",
       "0                        0                               0                  A   \n",
       "1                        0                               0                  A   \n",
       "2                        0                               0                  C   \n",
       "3                        0                               0                  C   \n",
       "4                        0                               0                  A   \n",
       "\n",
       "    booking_changes  days_in_waiting_list customer_type  \\\n",
       "id                                                        \n",
       "0                 0                     0     Transient   \n",
       "1                 0                     0     Transient   \n",
       "2                 0                     0     Transient   \n",
       "3                 0                     0     Transient   \n",
       "4                 0                     0     Transient   \n",
       "\n",
       "    required_car_parking_spaces  total_of_special_requests  total_nights  \\\n",
       "id                                                                         \n",
       "0                             0                          0             1   \n",
       "1                             0                          1             2   \n",
       "2                             0                          0             2   \n",
       "3                             0                          1             2   \n",
       "4                             0                          1             3   \n",
       "\n",
       "    prices  serv_cost  coef  arrival_date_month_num arrival_date  \\\n",
       "id                                                                 \n",
       "0     1000        400   1.4                       7   2015-07-01   \n",
       "1     1000        400   1.4                       7   2015-07-01   \n",
       "2      600        350   1.4                       7   2015-07-01   \n",
       "3      600        350   1.4                       7   2015-07-01   \n",
       "4     1000        400   1.4                       7   2015-07-01   \n",
       "\n",
       "   departure_date nights_by_month  \n",
       "id                                 \n",
       "0      2015-07-02             [1]  \n",
       "1      2015-07-03             [2]  \n",
       "2      2015-07-03             [2]  \n",
       "3      2015-07-03             [2]  \n",
       "4      2015-07-04             [3]  "
      ]
     },
     "execution_count": 129,
     "metadata": {},
     "output_type": "execute_result"
    }
   ],
   "source": [
    "hotel_full.head()"
   ]
  },
  {
   "cell_type": "markdown",
   "metadata": {},
   "source": [
    "Создадим функцию, которая будет рассчитывать выручку отеля."
   ]
  },
  {
   "cell_type": "code",
   "execution_count": 130,
   "metadata": {},
   "outputs": [],
   "source": [
    "def calculate_revenue(df):\n",
    "    list_rev = []\n",
    "    for i in df.index:\n",
    "        if len(df.loc[i, 'nights_by_month']) == 2: \n",
    "            rev = (\n",
    "                (\n",
    "                    df.loc[i, 'nights_by_month'][0] * \n",
    "                    df.loc[i, 'prices'] * \n",
    "                    df.loc[i, 'coef'] * \n",
    "                    (df.loc[i, 'is_canceled'] == 0)\n",
    "                ) + \n",
    "                (\n",
    "                    df.loc[i, 'nights_by_month'][1] * \n",
    "                    df.loc[i, 'prices'] * \n",
    "                    # Добавил вызов словаря coef_num\n",
    "                    coef_num[((df.loc[i, 'arrival_date_month_num'] + 1) \n",
    "                              if df.loc[i, 'arrival_date_month_num'] < 12 \n",
    "                              else 1)] * \n",
    "                    (df.loc[i, 'is_canceled'] == 0)\n",
    "                )\n",
    "            )\n",
    "\n",
    "        else:\n",
    "            rev = (\n",
    "                df.loc[i, 'prices'] * \n",
    "                df.loc[i, 'coef'] * \n",
    "                df.loc[i, 'total_nights'] * \n",
    "                (df.loc[i, 'is_canceled'] == 0)\n",
    "            )\n",
    "        list_rev.append(rev)\n",
    "\n",
    "    return list_rev"
   ]
  },
  {
   "cell_type": "markdown",
   "metadata": {},
   "source": [
    "Создадим столбец `real_revenue`, в который сохраним выручку отеля с каждого гостя."
   ]
  },
  {
   "cell_type": "code",
   "execution_count": 131,
   "metadata": {},
   "outputs": [],
   "source": [
    "hotel_full['real_revenue'] = calculate_revenue(hotel_full)"
   ]
  },
  {
   "cell_type": "markdown",
   "metadata": {},
   "source": [
    "Создадим функцию для подсчета совокупных затрат."
   ]
  },
  {
   "cell_type": "code",
   "execution_count": 132,
   "metadata": {
    "scrolled": true
   },
   "outputs": [],
   "source": [
    "def calculate_total_costs(df):\n",
    "    if df['is_canceled'] == 0:\n",
    "        total_costs = (df['total_nights'] // 2 * \n",
    "                       df['serv_cost'] + \n",
    "                       df['serv_cost'])\n",
    "    else:\n",
    "        total_costs = df['serv_cost']\n",
    "    return total_costs"
   ]
  },
  {
   "cell_type": "code",
   "execution_count": 133,
   "metadata": {
    "scrolled": true
   },
   "outputs": [
    {
     "data": {
      "text/html": [
       "<div>\n",
       "<style scoped>\n",
       "    .dataframe tbody tr th:only-of-type {\n",
       "        vertical-align: middle;\n",
       "    }\n",
       "\n",
       "    .dataframe tbody tr th {\n",
       "        vertical-align: top;\n",
       "    }\n",
       "\n",
       "    .dataframe thead th {\n",
       "        text-align: right;\n",
       "    }\n",
       "</style>\n",
       "<table border=\"1\" class=\"dataframe\">\n",
       "  <thead>\n",
       "    <tr style=\"text-align: right;\">\n",
       "      <th></th>\n",
       "      <th>is_canceled</th>\n",
       "      <th>lead_time</th>\n",
       "      <th>arrival_date_year</th>\n",
       "      <th>arrival_date_month</th>\n",
       "      <th>arrival_date_week_number</th>\n",
       "      <th>arrival_date_day_of_month</th>\n",
       "      <th>stays_in_weekend_nights</th>\n",
       "      <th>stays_in_week_nights</th>\n",
       "      <th>adults</th>\n",
       "      <th>children</th>\n",
       "      <th>babies</th>\n",
       "      <th>meal</th>\n",
       "      <th>country</th>\n",
       "      <th>distribution_channel</th>\n",
       "      <th>is_repeated_guest</th>\n",
       "      <th>previous_cancellations</th>\n",
       "      <th>previous_bookings_not_canceled</th>\n",
       "      <th>reserved_room_type</th>\n",
       "      <th>booking_changes</th>\n",
       "      <th>days_in_waiting_list</th>\n",
       "      <th>customer_type</th>\n",
       "      <th>required_car_parking_spaces</th>\n",
       "      <th>total_of_special_requests</th>\n",
       "      <th>total_nights</th>\n",
       "      <th>prices</th>\n",
       "      <th>serv_cost</th>\n",
       "      <th>coef</th>\n",
       "      <th>arrival_date_month_num</th>\n",
       "      <th>arrival_date</th>\n",
       "      <th>departure_date</th>\n",
       "      <th>nights_by_month</th>\n",
       "      <th>real_revenue</th>\n",
       "      <th>total_costs</th>\n",
       "      <th>profit</th>\n",
       "    </tr>\n",
       "    <tr>\n",
       "      <th>id</th>\n",
       "      <th></th>\n",
       "      <th></th>\n",
       "      <th></th>\n",
       "      <th></th>\n",
       "      <th></th>\n",
       "      <th></th>\n",
       "      <th></th>\n",
       "      <th></th>\n",
       "      <th></th>\n",
       "      <th></th>\n",
       "      <th></th>\n",
       "      <th></th>\n",
       "      <th></th>\n",
       "      <th></th>\n",
       "      <th></th>\n",
       "      <th></th>\n",
       "      <th></th>\n",
       "      <th></th>\n",
       "      <th></th>\n",
       "      <th></th>\n",
       "      <th></th>\n",
       "      <th></th>\n",
       "      <th></th>\n",
       "      <th></th>\n",
       "      <th></th>\n",
       "      <th></th>\n",
       "      <th></th>\n",
       "      <th></th>\n",
       "      <th></th>\n",
       "      <th></th>\n",
       "      <th></th>\n",
       "      <th></th>\n",
       "      <th></th>\n",
       "      <th></th>\n",
       "    </tr>\n",
       "  </thead>\n",
       "  <tbody>\n",
       "    <tr>\n",
       "      <td>0</td>\n",
       "      <td>0</td>\n",
       "      <td>7.0</td>\n",
       "      <td>2015</td>\n",
       "      <td>July</td>\n",
       "      <td>27</td>\n",
       "      <td>1</td>\n",
       "      <td>0</td>\n",
       "      <td>1</td>\n",
       "      <td>1.0</td>\n",
       "      <td>0.0</td>\n",
       "      <td>0.0</td>\n",
       "      <td>BB</td>\n",
       "      <td>GBR</td>\n",
       "      <td>Direct</td>\n",
       "      <td>0</td>\n",
       "      <td>0</td>\n",
       "      <td>0</td>\n",
       "      <td>A</td>\n",
       "      <td>0</td>\n",
       "      <td>0</td>\n",
       "      <td>Transient</td>\n",
       "      <td>0</td>\n",
       "      <td>0</td>\n",
       "      <td>1</td>\n",
       "      <td>1000</td>\n",
       "      <td>400</td>\n",
       "      <td>1.4</td>\n",
       "      <td>7</td>\n",
       "      <td>2015-07-01</td>\n",
       "      <td>2015-07-02</td>\n",
       "      <td>[1]</td>\n",
       "      <td>1400.0</td>\n",
       "      <td>400</td>\n",
       "      <td>1000.0</td>\n",
       "    </tr>\n",
       "    <tr>\n",
       "      <td>1</td>\n",
       "      <td>0</td>\n",
       "      <td>14.0</td>\n",
       "      <td>2015</td>\n",
       "      <td>July</td>\n",
       "      <td>27</td>\n",
       "      <td>1</td>\n",
       "      <td>0</td>\n",
       "      <td>2</td>\n",
       "      <td>2.0</td>\n",
       "      <td>0.0</td>\n",
       "      <td>0.0</td>\n",
       "      <td>BB</td>\n",
       "      <td>GBR</td>\n",
       "      <td>TA/TO</td>\n",
       "      <td>0</td>\n",
       "      <td>0</td>\n",
       "      <td>0</td>\n",
       "      <td>A</td>\n",
       "      <td>0</td>\n",
       "      <td>0</td>\n",
       "      <td>Transient</td>\n",
       "      <td>0</td>\n",
       "      <td>1</td>\n",
       "      <td>2</td>\n",
       "      <td>1000</td>\n",
       "      <td>400</td>\n",
       "      <td>1.4</td>\n",
       "      <td>7</td>\n",
       "      <td>2015-07-01</td>\n",
       "      <td>2015-07-03</td>\n",
       "      <td>[2]</td>\n",
       "      <td>2800.0</td>\n",
       "      <td>800</td>\n",
       "      <td>2000.0</td>\n",
       "    </tr>\n",
       "    <tr>\n",
       "      <td>2</td>\n",
       "      <td>0</td>\n",
       "      <td>0.0</td>\n",
       "      <td>2015</td>\n",
       "      <td>July</td>\n",
       "      <td>27</td>\n",
       "      <td>1</td>\n",
       "      <td>0</td>\n",
       "      <td>2</td>\n",
       "      <td>2.0</td>\n",
       "      <td>0.0</td>\n",
       "      <td>0.0</td>\n",
       "      <td>BB</td>\n",
       "      <td>PRT</td>\n",
       "      <td>Direct</td>\n",
       "      <td>0</td>\n",
       "      <td>0</td>\n",
       "      <td>0</td>\n",
       "      <td>C</td>\n",
       "      <td>0</td>\n",
       "      <td>0</td>\n",
       "      <td>Transient</td>\n",
       "      <td>0</td>\n",
       "      <td>0</td>\n",
       "      <td>2</td>\n",
       "      <td>600</td>\n",
       "      <td>350</td>\n",
       "      <td>1.4</td>\n",
       "      <td>7</td>\n",
       "      <td>2015-07-01</td>\n",
       "      <td>2015-07-03</td>\n",
       "      <td>[2]</td>\n",
       "      <td>1680.0</td>\n",
       "      <td>700</td>\n",
       "      <td>980.0</td>\n",
       "    </tr>\n",
       "    <tr>\n",
       "      <td>3</td>\n",
       "      <td>0</td>\n",
       "      <td>9.0</td>\n",
       "      <td>2015</td>\n",
       "      <td>July</td>\n",
       "      <td>27</td>\n",
       "      <td>1</td>\n",
       "      <td>0</td>\n",
       "      <td>2</td>\n",
       "      <td>2.0</td>\n",
       "      <td>0.0</td>\n",
       "      <td>0.0</td>\n",
       "      <td>FB</td>\n",
       "      <td>PRT</td>\n",
       "      <td>Direct</td>\n",
       "      <td>0</td>\n",
       "      <td>0</td>\n",
       "      <td>0</td>\n",
       "      <td>C</td>\n",
       "      <td>0</td>\n",
       "      <td>0</td>\n",
       "      <td>Transient</td>\n",
       "      <td>0</td>\n",
       "      <td>1</td>\n",
       "      <td>2</td>\n",
       "      <td>600</td>\n",
       "      <td>350</td>\n",
       "      <td>1.4</td>\n",
       "      <td>7</td>\n",
       "      <td>2015-07-01</td>\n",
       "      <td>2015-07-03</td>\n",
       "      <td>[2]</td>\n",
       "      <td>1680.0</td>\n",
       "      <td>700</td>\n",
       "      <td>980.0</td>\n",
       "    </tr>\n",
       "    <tr>\n",
       "      <td>4</td>\n",
       "      <td>1</td>\n",
       "      <td>85.0</td>\n",
       "      <td>2015</td>\n",
       "      <td>July</td>\n",
       "      <td>27</td>\n",
       "      <td>1</td>\n",
       "      <td>0</td>\n",
       "      <td>3</td>\n",
       "      <td>2.0</td>\n",
       "      <td>0.0</td>\n",
       "      <td>0.0</td>\n",
       "      <td>BB</td>\n",
       "      <td>PRT</td>\n",
       "      <td>TA/TO</td>\n",
       "      <td>0</td>\n",
       "      <td>0</td>\n",
       "      <td>0</td>\n",
       "      <td>A</td>\n",
       "      <td>0</td>\n",
       "      <td>0</td>\n",
       "      <td>Transient</td>\n",
       "      <td>0</td>\n",
       "      <td>1</td>\n",
       "      <td>3</td>\n",
       "      <td>1000</td>\n",
       "      <td>400</td>\n",
       "      <td>1.4</td>\n",
       "      <td>7</td>\n",
       "      <td>2015-07-01</td>\n",
       "      <td>2015-07-04</td>\n",
       "      <td>[3]</td>\n",
       "      <td>0.0</td>\n",
       "      <td>400</td>\n",
       "      <td>-400.0</td>\n",
       "    </tr>\n",
       "  </tbody>\n",
       "</table>\n",
       "</div>"
      ],
      "text/plain": [
       "    is_canceled  lead_time  arrival_date_year arrival_date_month  \\\n",
       "id                                                                 \n",
       "0             0        7.0               2015               July   \n",
       "1             0       14.0               2015               July   \n",
       "2             0        0.0               2015               July   \n",
       "3             0        9.0               2015               July   \n",
       "4             1       85.0               2015               July   \n",
       "\n",
       "    arrival_date_week_number  arrival_date_day_of_month  \\\n",
       "id                                                        \n",
       "0                         27                          1   \n",
       "1                         27                          1   \n",
       "2                         27                          1   \n",
       "3                         27                          1   \n",
       "4                         27                          1   \n",
       "\n",
       "    stays_in_weekend_nights  stays_in_week_nights  adults  children  babies  \\\n",
       "id                                                                            \n",
       "0                         0                     1     1.0       0.0     0.0   \n",
       "1                         0                     2     2.0       0.0     0.0   \n",
       "2                         0                     2     2.0       0.0     0.0   \n",
       "3                         0                     2     2.0       0.0     0.0   \n",
       "4                         0                     3     2.0       0.0     0.0   \n",
       "\n",
       "   meal country distribution_channel  is_repeated_guest  \\\n",
       "id                                                        \n",
       "0    BB     GBR               Direct                  0   \n",
       "1    BB     GBR                TA/TO                  0   \n",
       "2    BB     PRT               Direct                  0   \n",
       "3    FB     PRT               Direct                  0   \n",
       "4    BB     PRT                TA/TO                  0   \n",
       "\n",
       "    previous_cancellations  previous_bookings_not_canceled reserved_room_type  \\\n",
       "id                                                                              \n",
       "0                        0                               0                  A   \n",
       "1                        0                               0                  A   \n",
       "2                        0                               0                  C   \n",
       "3                        0                               0                  C   \n",
       "4                        0                               0                  A   \n",
       "\n",
       "    booking_changes  days_in_waiting_list customer_type  \\\n",
       "id                                                        \n",
       "0                 0                     0     Transient   \n",
       "1                 0                     0     Transient   \n",
       "2                 0                     0     Transient   \n",
       "3                 0                     0     Transient   \n",
       "4                 0                     0     Transient   \n",
       "\n",
       "    required_car_parking_spaces  total_of_special_requests  total_nights  \\\n",
       "id                                                                         \n",
       "0                             0                          0             1   \n",
       "1                             0                          1             2   \n",
       "2                             0                          0             2   \n",
       "3                             0                          1             2   \n",
       "4                             0                          1             3   \n",
       "\n",
       "    prices  serv_cost  coef  arrival_date_month_num arrival_date  \\\n",
       "id                                                                 \n",
       "0     1000        400   1.4                       7   2015-07-01   \n",
       "1     1000        400   1.4                       7   2015-07-01   \n",
       "2      600        350   1.4                       7   2015-07-01   \n",
       "3      600        350   1.4                       7   2015-07-01   \n",
       "4     1000        400   1.4                       7   2015-07-01   \n",
       "\n",
       "   departure_date nights_by_month  real_revenue  total_costs  profit  \n",
       "id                                                                    \n",
       "0      2015-07-02             [1]        1400.0          400  1000.0  \n",
       "1      2015-07-03             [2]        2800.0          800  2000.0  \n",
       "2      2015-07-03             [2]        1680.0          700   980.0  \n",
       "3      2015-07-03             [2]        1680.0          700   980.0  \n",
       "4      2015-07-04             [3]           0.0          400  -400.0  "
      ]
     },
     "execution_count": 133,
     "metadata": {},
     "output_type": "execute_result"
    }
   ],
   "source": [
    "# Создадим столбец, в который сохраним совокупные затраты на обслуживание номера\n",
    "hotel_full['total_costs'] = hotel_full.apply(calculate_total_costs, axis=1)\n",
    "\n",
    "# Создадим столбец, в который сохраним чистую прибыль от каждого гостя.\n",
    "hotel_full['profit'] = hotel_full['real_revenue'] - hotel_full['total_costs']\n",
    "\n",
    "# Выведем на экран первым 5 строк новой таблицы\n",
    "hotel_full.head()"
   ]
  },
  {
   "cell_type": "markdown",
   "metadata": {},
   "source": [
    "Нам нужно, чтобы в тестовом датасете были данные за 1 год. Тогда мы сможем оценить прибыль отеля за 1 год.  \n",
    "Посмотрим, какое количество данных содержится в наших таблицах."
   ]
  },
  {
   "cell_type": "code",
   "execution_count": 134,
   "metadata": {},
   "outputs": [
    {
     "data": {
      "text/plain": [
       "arrival_date_year\n",
       "2015    18328\n",
       "2016    46901\n",
       "2017    32412\n",
       "Name: arrival_date_day_of_month, dtype: int64"
      ]
     },
     "execution_count": 134,
     "metadata": {},
     "output_type": "execute_result"
    }
   ],
   "source": [
    "# Вся таблица\n",
    "hotel_full.groupby('arrival_date_year')['arrival_date_day_of_month'].count()"
   ]
  },
  {
   "cell_type": "code",
   "execution_count": 135,
   "metadata": {},
   "outputs": [
    {
     "data": {
      "text/plain": [
       "arrival_date_year\n",
       "2015    18328\n",
       "2016    46901\n",
       "Name: arrival_date_day_of_month, dtype: int64"
      ]
     },
     "execution_count": 135,
     "metadata": {},
     "output_type": "execute_result"
    }
   ],
   "source": [
    "# Тренировочный датасет\n",
    "hotel_train.groupby('arrival_date_year')['arrival_date_day_of_month'].count()"
   ]
  },
  {
   "cell_type": "code",
   "execution_count": 136,
   "metadata": {},
   "outputs": [
    {
     "data": {
      "text/plain": [
       "arrival_date_year\n",
       "2017    32412\n",
       "Name: arrival_date_day_of_month, dtype: int64"
      ]
     },
     "execution_count": 136,
     "metadata": {},
     "output_type": "execute_result"
    }
   ],
   "source": [
    "# Тестовый датасет\n",
    "hotel_test.groupby('arrival_date_year')['arrival_date_day_of_month'].count()"
   ]
  },
  {
   "cell_type": "markdown",
   "metadata": {},
   "source": [
    "Отлично. Получается, что в тренировочном датасете у нас есть данные за 2015 и 2016 года, а в тестовом данные за 2017 год. Ровно так, как нам и нужно."
   ]
  },
  {
   "cell_type": "markdown",
   "metadata": {},
   "source": [
    "Для тестового датасета расчитаем прибыль, которую отель получил за 2017 год без внедрения модели."
   ]
  },
  {
   "cell_type": "code",
   "execution_count": 137,
   "metadata": {},
   "outputs": [
    {
     "name": "stdout",
     "output_type": "stream",
     "text": [
      "Повторяющихся индексов: 0\n"
     ]
    }
   ],
   "source": [
    "# Проверим на всякий случай, не повторяются ли индексы в тренировочном и тестовом датасетах\n",
    "print(\"Повторяющихся индексов:\", (hotel_test.index).isin(hotel_train.index).sum())"
   ]
  },
  {
   "cell_type": "markdown",
   "metadata": {},
   "source": [
    "Посчитаем прибыль для 2017 года без внедрения модели (тестовый набор данных)"
   ]
  },
  {
   "cell_type": "code",
   "execution_count": 138,
   "metadata": {},
   "outputs": [
    {
     "name": "stdout",
     "output_type": "stream",
     "text": [
      "Прибыль отеля за 2017 год без внедрения модели: 46383850.0 руб.\n"
     ]
    }
   ],
   "source": [
    "profit_before = hotel_test.join(hotel_full['profit'])['profit'].sum()\n",
    "\n",
    "print('Прибыль отеля за 2017 год без внедрения модели:', profit_before, 'руб.')"
   ]
  },
  {
   "cell_type": "markdown",
   "metadata": {},
   "source": [
    "### Шаг 4. Разработка модели ML"
   ]
  },
  {
   "cell_type": "markdown",
   "metadata": {},
   "source": [
    "#### Описание задачи"
   ]
  },
  {
   "cell_type": "markdown",
   "metadata": {},
   "source": [
    "Разработаем ML модель, которая будет предсказывать отказ клиенты от брони.  \n",
    "Будем решать задачу бинарной классификации."
   ]
  },
  {
   "cell_type": "markdown",
   "metadata": {},
   "source": [
    "Посмотрим, как распределен целевой признак 'is_canceled'"
   ]
  },
  {
   "cell_type": "code",
   "execution_count": 139,
   "metadata": {},
   "outputs": [
    {
     "data": {
      "text/plain": [
       "0    0.631391\n",
       "1    0.368609\n",
       "Name: is_canceled, dtype: float64"
      ]
     },
     "execution_count": 139,
     "metadata": {},
     "output_type": "execute_result"
    }
   ],
   "source": [
    "hotel_train['is_canceled'].value_counts(normalize=True)"
   ]
  },
  {
   "cell_type": "markdown",
   "metadata": {},
   "source": [
    "Классы сбалансированы. (Дисбаланс классов считаем при доле одного из классов менее 25%)"
   ]
  },
  {
   "cell_type": "markdown",
   "metadata": {},
   "source": [
    "Метрика для задачи выберем: f1_score. В данной задаче нам важна как полнота предсказаний модели (важно, чтобы модель могла распознать как можно больше клиентов, которые отменили бронь), так и ее точность (важно, чтобы среди тех клиентов, которых модель пометила как ненадежных, как можно больше действительно таковыми бы являлись)."
   ]
  },
  {
   "cell_type": "markdown",
   "metadata": {},
   "source": [
    "#### Подбор модели"
   ]
  },
  {
   "cell_type": "markdown",
   "metadata": {},
   "source": [
    "Для начала преобразуем признак `country`. В этом столбце 174 уникальных значения. Посмотрим, как часто встречается каждая из стран. Выведем на экран топ 20."
   ]
  },
  {
   "cell_type": "code",
   "execution_count": 140,
   "metadata": {},
   "outputs": [
    {
     "data": {
      "text/plain": [
       "PRT    38718\n",
       "FRA     9451\n",
       "GBR     9036\n",
       "ESP     6832\n",
       "DEU     6265\n",
       "ITA     3480\n",
       "IRL     2505\n",
       "BEL     2127\n",
       "BRA     1969\n",
       "NLD     1875\n",
       "USA     1782\n",
       "CHE     1476\n",
       "AUT     1155\n",
       "CN       957\n",
       "CHN      921\n",
       "SWE      862\n",
       "POL      770\n",
       "ISR      639\n",
       "RUS      513\n",
       "NOR      503\n",
       "Name: country, dtype: int64"
      ]
     },
     "execution_count": 140,
     "metadata": {},
     "output_type": "execute_result"
    }
   ],
   "source": [
    "pd.concat([hotel_train, hotel_test])['country'].value_counts()[:20]"
   ]
  },
  {
   "cell_type": "markdown",
   "metadata": {},
   "source": [
    "Страны, которые встречаются менее 1000 раз назовем категорией 'Others'.  \n",
    "Соответсвенно, когда мы будем передавать модель в продакшн, нам необходимо будет, чтобы данные поступали нам именно в таком формате. Для этого можно изменить варианты выбора страны в форме, которую заполняет клиент при бронировании. Либо же добавить этап предобработки данных, на котором все страны, не входящие в наиболее встречающиеся были отмечены как 'Others'."
   ]
  },
  {
   "cell_type": "code",
   "execution_count": 141,
   "metadata": {},
   "outputs": [
    {
     "data": {
      "text/plain": [
       "['PRT',\n",
       " 'FRA',\n",
       " 'GBR',\n",
       " 'ESP',\n",
       " 'DEU',\n",
       " 'ITA',\n",
       " 'IRL',\n",
       " 'BEL',\n",
       " 'BRA',\n",
       " 'NLD',\n",
       " 'USA',\n",
       " 'CHE',\n",
       " 'AUT']"
      ]
     },
     "execution_count": 141,
     "metadata": {},
     "output_type": "execute_result"
    }
   ],
   "source": [
    "top_10 = pd.concat([hotel_train, hotel_test])['country'].value_counts()[lambda x: x >= 1000]\n",
    "list_top_10 = list(top_10.to_dict().keys())\n",
    "list_top_10"
   ]
  },
  {
   "cell_type": "markdown",
   "metadata": {},
   "source": [
    "Преобразуем столбец `country` таким образом, что все не входящие в список `top_10` страны были переименованы в категорию `others`"
   ]
  },
  {
   "cell_type": "code",
   "execution_count": 142,
   "metadata": {},
   "outputs": [],
   "source": [
    "hotel_train['country'] = hotel_train['country'].where(lambda x: x.isin(list_top_10), 'Others')\n",
    "hotel_test['country'] = hotel_test['country'].where(lambda x: x.isin(list_top_10), 'Others')"
   ]
  },
  {
   "cell_type": "markdown",
   "metadata": {},
   "source": [
    "Разделим тренировочную и тестовую выборки на признаки для обучения и целевую переменную"
   ]
  },
  {
   "cell_type": "code",
   "execution_count": 143,
   "metadata": {},
   "outputs": [
    {
     "data": {
      "text/plain": [
       "((65229, 23), (65229,), (32412, 23), (32412,))"
      ]
     },
     "execution_count": 143,
     "metadata": {},
     "output_type": "execute_result"
    }
   ],
   "source": [
    "train_X = hotel_train.drop('is_canceled', axis=1)\n",
    "train_y = hotel_train['is_canceled']\n",
    "\n",
    "test_X = hotel_test.drop('is_canceled', axis=1)\n",
    "test_y = hotel_test['is_canceled']\n",
    "\n",
    "\n",
    "train_X.shape, train_y.shape, test_X.shape, test_y.shape"
   ]
  },
  {
   "cell_type": "code",
   "execution_count": 144,
   "metadata": {
    "scrolled": false
   },
   "outputs": [
    {
     "data": {
      "text/html": [
       "<div>\n",
       "<style scoped>\n",
       "    .dataframe tbody tr th:only-of-type {\n",
       "        vertical-align: middle;\n",
       "    }\n",
       "\n",
       "    .dataframe tbody tr th {\n",
       "        vertical-align: top;\n",
       "    }\n",
       "\n",
       "    .dataframe thead th {\n",
       "        text-align: right;\n",
       "    }\n",
       "</style>\n",
       "<table border=\"1\" class=\"dataframe\">\n",
       "  <thead>\n",
       "    <tr style=\"text-align: right;\">\n",
       "      <th></th>\n",
       "      <th>lead_time</th>\n",
       "      <th>arrival_date_year</th>\n",
       "      <th>arrival_date_month</th>\n",
       "      <th>arrival_date_week_number</th>\n",
       "      <th>arrival_date_day_of_month</th>\n",
       "      <th>stays_in_weekend_nights</th>\n",
       "      <th>stays_in_week_nights</th>\n",
       "      <th>adults</th>\n",
       "      <th>children</th>\n",
       "      <th>babies</th>\n",
       "      <th>meal</th>\n",
       "      <th>country</th>\n",
       "      <th>distribution_channel</th>\n",
       "      <th>is_repeated_guest</th>\n",
       "      <th>previous_cancellations</th>\n",
       "      <th>previous_bookings_not_canceled</th>\n",
       "      <th>reserved_room_type</th>\n",
       "      <th>booking_changes</th>\n",
       "      <th>days_in_waiting_list</th>\n",
       "      <th>customer_type</th>\n",
       "      <th>required_car_parking_spaces</th>\n",
       "      <th>total_of_special_requests</th>\n",
       "      <th>total_nights</th>\n",
       "    </tr>\n",
       "    <tr>\n",
       "      <th>id</th>\n",
       "      <th></th>\n",
       "      <th></th>\n",
       "      <th></th>\n",
       "      <th></th>\n",
       "      <th></th>\n",
       "      <th></th>\n",
       "      <th></th>\n",
       "      <th></th>\n",
       "      <th></th>\n",
       "      <th></th>\n",
       "      <th></th>\n",
       "      <th></th>\n",
       "      <th></th>\n",
       "      <th></th>\n",
       "      <th></th>\n",
       "      <th></th>\n",
       "      <th></th>\n",
       "      <th></th>\n",
       "      <th></th>\n",
       "      <th></th>\n",
       "      <th></th>\n",
       "      <th></th>\n",
       "      <th></th>\n",
       "    </tr>\n",
       "  </thead>\n",
       "  <tbody>\n",
       "    <tr>\n",
       "      <td>0</td>\n",
       "      <td>7.0</td>\n",
       "      <td>2015</td>\n",
       "      <td>July</td>\n",
       "      <td>27</td>\n",
       "      <td>1</td>\n",
       "      <td>0</td>\n",
       "      <td>1</td>\n",
       "      <td>1.0</td>\n",
       "      <td>0.0</td>\n",
       "      <td>0.0</td>\n",
       "      <td>BB</td>\n",
       "      <td>GBR</td>\n",
       "      <td>Direct</td>\n",
       "      <td>0</td>\n",
       "      <td>0</td>\n",
       "      <td>0</td>\n",
       "      <td>A</td>\n",
       "      <td>0</td>\n",
       "      <td>0</td>\n",
       "      <td>Transient</td>\n",
       "      <td>0</td>\n",
       "      <td>0</td>\n",
       "      <td>1</td>\n",
       "    </tr>\n",
       "    <tr>\n",
       "      <td>1</td>\n",
       "      <td>14.0</td>\n",
       "      <td>2015</td>\n",
       "      <td>July</td>\n",
       "      <td>27</td>\n",
       "      <td>1</td>\n",
       "      <td>0</td>\n",
       "      <td>2</td>\n",
       "      <td>2.0</td>\n",
       "      <td>0.0</td>\n",
       "      <td>0.0</td>\n",
       "      <td>BB</td>\n",
       "      <td>GBR</td>\n",
       "      <td>TA/TO</td>\n",
       "      <td>0</td>\n",
       "      <td>0</td>\n",
       "      <td>0</td>\n",
       "      <td>A</td>\n",
       "      <td>0</td>\n",
       "      <td>0</td>\n",
       "      <td>Transient</td>\n",
       "      <td>0</td>\n",
       "      <td>1</td>\n",
       "      <td>2</td>\n",
       "    </tr>\n",
       "    <tr>\n",
       "      <td>2</td>\n",
       "      <td>0.0</td>\n",
       "      <td>2015</td>\n",
       "      <td>July</td>\n",
       "      <td>27</td>\n",
       "      <td>1</td>\n",
       "      <td>0</td>\n",
       "      <td>2</td>\n",
       "      <td>2.0</td>\n",
       "      <td>0.0</td>\n",
       "      <td>0.0</td>\n",
       "      <td>BB</td>\n",
       "      <td>PRT</td>\n",
       "      <td>Direct</td>\n",
       "      <td>0</td>\n",
       "      <td>0</td>\n",
       "      <td>0</td>\n",
       "      <td>C</td>\n",
       "      <td>0</td>\n",
       "      <td>0</td>\n",
       "      <td>Transient</td>\n",
       "      <td>0</td>\n",
       "      <td>0</td>\n",
       "      <td>2</td>\n",
       "    </tr>\n",
       "    <tr>\n",
       "      <td>3</td>\n",
       "      <td>9.0</td>\n",
       "      <td>2015</td>\n",
       "      <td>July</td>\n",
       "      <td>27</td>\n",
       "      <td>1</td>\n",
       "      <td>0</td>\n",
       "      <td>2</td>\n",
       "      <td>2.0</td>\n",
       "      <td>0.0</td>\n",
       "      <td>0.0</td>\n",
       "      <td>FB</td>\n",
       "      <td>PRT</td>\n",
       "      <td>Direct</td>\n",
       "      <td>0</td>\n",
       "      <td>0</td>\n",
       "      <td>0</td>\n",
       "      <td>C</td>\n",
       "      <td>0</td>\n",
       "      <td>0</td>\n",
       "      <td>Transient</td>\n",
       "      <td>0</td>\n",
       "      <td>1</td>\n",
       "      <td>2</td>\n",
       "    </tr>\n",
       "    <tr>\n",
       "      <td>4</td>\n",
       "      <td>85.0</td>\n",
       "      <td>2015</td>\n",
       "      <td>July</td>\n",
       "      <td>27</td>\n",
       "      <td>1</td>\n",
       "      <td>0</td>\n",
       "      <td>3</td>\n",
       "      <td>2.0</td>\n",
       "      <td>0.0</td>\n",
       "      <td>0.0</td>\n",
       "      <td>BB</td>\n",
       "      <td>PRT</td>\n",
       "      <td>TA/TO</td>\n",
       "      <td>0</td>\n",
       "      <td>0</td>\n",
       "      <td>0</td>\n",
       "      <td>A</td>\n",
       "      <td>0</td>\n",
       "      <td>0</td>\n",
       "      <td>Transient</td>\n",
       "      <td>0</td>\n",
       "      <td>1</td>\n",
       "      <td>3</td>\n",
       "    </tr>\n",
       "  </tbody>\n",
       "</table>\n",
       "</div>"
      ],
      "text/plain": [
       "    lead_time  arrival_date_year arrival_date_month  arrival_date_week_number  \\\n",
       "id                                                                              \n",
       "0         7.0               2015               July                        27   \n",
       "1        14.0               2015               July                        27   \n",
       "2         0.0               2015               July                        27   \n",
       "3         9.0               2015               July                        27   \n",
       "4        85.0               2015               July                        27   \n",
       "\n",
       "    arrival_date_day_of_month  stays_in_weekend_nights  stays_in_week_nights  \\\n",
       "id                                                                             \n",
       "0                           1                        0                     1   \n",
       "1                           1                        0                     2   \n",
       "2                           1                        0                     2   \n",
       "3                           1                        0                     2   \n",
       "4                           1                        0                     3   \n",
       "\n",
       "    adults  children  babies meal country distribution_channel  \\\n",
       "id                                                               \n",
       "0      1.0       0.0     0.0   BB     GBR               Direct   \n",
       "1      2.0       0.0     0.0   BB     GBR                TA/TO   \n",
       "2      2.0       0.0     0.0   BB     PRT               Direct   \n",
       "3      2.0       0.0     0.0   FB     PRT               Direct   \n",
       "4      2.0       0.0     0.0   BB     PRT                TA/TO   \n",
       "\n",
       "    is_repeated_guest  previous_cancellations  previous_bookings_not_canceled  \\\n",
       "id                                                                              \n",
       "0                   0                       0                               0   \n",
       "1                   0                       0                               0   \n",
       "2                   0                       0                               0   \n",
       "3                   0                       0                               0   \n",
       "4                   0                       0                               0   \n",
       "\n",
       "   reserved_room_type  booking_changes  days_in_waiting_list customer_type  \\\n",
       "id                                                                           \n",
       "0                   A                0                     0     Transient   \n",
       "1                   A                0                     0     Transient   \n",
       "2                   C                0                     0     Transient   \n",
       "3                   C                0                     0     Transient   \n",
       "4                   A                0                     0     Transient   \n",
       "\n",
       "    required_car_parking_spaces  total_of_special_requests  total_nights  \n",
       "id                                                                        \n",
       "0                             0                          0             1  \n",
       "1                             0                          1             2  \n",
       "2                             0                          0             2  \n",
       "3                             0                          1             2  \n",
       "4                             0                          1             3  "
      ]
     },
     "execution_count": 144,
     "metadata": {},
     "output_type": "execute_result"
    }
   ],
   "source": [
    "train_X.head()"
   ]
  },
  {
   "cell_type": "markdown",
   "metadata": {},
   "source": [
    "Проверим, все ли уникальные значения из столбцов с форматом хранения данных `object` присутствуют в тренировочом и тестовом наборе данных"
   ]
  },
  {
   "cell_type": "code",
   "execution_count": 145,
   "metadata": {
    "scrolled": false
   },
   "outputs": [
    {
     "name": "stdout",
     "output_type": "stream",
     "text": [
      "!!! Количество значений столбца arrival_date_month различаются в тренировочном и тестовом наборе данных\n",
      "Есть в трейне, но нет в тесте: ['September', 'October', 'November', 'December']\n",
      "Есть в тесте, но нет в трейне: []\n",
      "--------\n",
      "Количество значений столбца meal совпадают в тренировочном и тестовом наборе данных\n",
      "Уникальные значения столбца meal совпадают в тренировочном и тестовом наборе данных\n",
      "--------\n",
      "Количество значений столбца country совпадают в тренировочном и тестовом наборе данных\n",
      "Уникальные значения столбца country совпадают в тренировочном и тестовом наборе данных\n",
      "--------\n",
      "Количество значений столбца distribution_channel совпадают в тренировочном и тестовом наборе данных\n",
      "Уникальные значения столбца distribution_channel совпадают в тренировочном и тестовом наборе данных\n",
      "--------\n",
      "Количество значений столбца reserved_room_type совпадают в тренировочном и тестовом наборе данных\n",
      "Уникальные значения столбца reserved_room_type совпадают в тренировочном и тестовом наборе данных\n",
      "--------\n",
      "Количество значений столбца customer_type совпадают в тренировочном и тестовом наборе данных\n",
      "Уникальные значения столбца customer_type совпадают в тренировочном и тестовом наборе данных\n",
      "--------\n"
     ]
    }
   ],
   "source": [
    "for col in test_X.select_dtypes(include='object').columns:\n",
    "    if train_X[col].nunique() == test_X[col].nunique():\n",
    "        print(f'Количество значений столбца {col} совпадают в тренировочном и тестовом наборе данных')\n",
    "        \n",
    "        if sorted(list(train_X[col].unique())) == sorted(list(test_X[col].unique())):\n",
    "            print(f'Уникальные значения столбца {col} совпадают в тренировочном и тестовом наборе данных')\n",
    "        else:\n",
    "            print(f'Уникальные значения столбца {col} различаются в тренировочном и тестовом наборе данных')\n",
    "            print(\n",
    "                'Есть в трейне, но нет в тесте:', [c for c in train_X[col].unique() if c not in list(test_X[col].unique())])\n",
    "            print(\n",
    "                'Есть в тесте, но нет в трейне:', [c for c in test_X[col].unique() if c not in list(train_X[col].unique())])\n",
    "        print('--------')\n",
    "    else:\n",
    "        print(f'!!! Количество значений столбца {col} различаются в тренировочном и тестовом наборе данных')\n",
    "\n",
    "        print('Есть в трейне, но нет в тесте:', [c for c in train_X[col].unique() if c not in list(test_X[col].unique())])\n",
    "        print('Есть в тесте, но нет в трейне:', [c for c in test_X[col].unique() if c not in list(train_X[col].unique())])\n",
    "        print('--------')"
   ]
  },
  {
   "cell_type": "markdown",
   "metadata": {},
   "source": [
    "С признаками все в порядке. Можно переходить дальше."
   ]
  },
  {
   "cell_type": "markdown",
   "metadata": {},
   "source": [
    "Первый этап - необходимо создать пайплайн предобработки данных."
   ]
  },
  {
   "cell_type": "markdown",
   "metadata": {},
   "source": [
    "`arrival_date_year` - удалить, так как этот признак будет совершенно иным в тестовом наборе данных. Соответсвенно, не имеет смысла вводить год в качестве признака.  \n",
    "`arrival_date_month` - преобразуем с помощью OrdinalEncoding.\n",
    "`meal` - преобразуем с помощью OneHotEncoder  \n",
    "`country` - преобразуем с помощью OneHotEncoder.  \n",
    "`distribution_channel` - преобразуем с помощью OneHotEncoder  \n",
    "`reserved_room_type` - преобразуем с помощью OrdinalEncoding (у категорий комнат есть порядок).  \n",
    "`customer_type` - преобразуем с помощью OneHotEncoder   \n",
    "\n",
    "Численные призаки нормализуем с помощью `RobustScaler`, так как он наиболее устойчив к выбросам."
   ]
  },
  {
   "cell_type": "code",
   "execution_count": 149,
   "metadata": {},
   "outputs": [],
   "source": [
    "# Зададим необходимый нам порядок для категориальных столбцов\n",
    "reserved_room_type_order = ['G', 'F', 'E', 'D', 'C', 'B', 'A']\n",
    "arrival_date_month_order = ['January', 'February', 'March', 'April', 'May', 'June', 'July', 'August', 'September', 'October', 'November', 'December']\n",
    "\n",
    "# Создадим список столбцов для OneHot-кодирования\n",
    "one_hot_columns = ['meal', 'distribution_channel', 'customer_type', 'country']"
   ]
  },
  {
   "cell_type": "code",
   "execution_count": 150,
   "metadata": {},
   "outputs": [],
   "source": [
    "# Зададим необходимый нам порядок для категориальных столбцов\n",
    "reserved_room_type_order = ['G', 'F', 'E', 'D', 'C', 'B', 'A']\n",
    "arrival_date_month_order = ['January', 'February', 'March', 'April', 'May', 'June', 'July', 'August', 'September', 'October', 'November', 'December']\n",
    "\n",
    "# Создадим список столбцов для OneHot-кодирования\n",
    "one_hot_columns = ['meal', 'distribution_channel', 'customer_type', 'country']"
   ]
  },
  {
   "cell_type": "code",
   "execution_count": 151,
   "metadata": {},
   "outputs": [],
   "source": [
    "# Создадим класс, который будет удалять столбцы\n",
    "class columnDropperTransformer():\n",
    "    def __init__(self, columns):\n",
    "        self.columns = columns\n",
    "\n",
    "    def transform(self, X, y=None):\n",
    "        return X.drop(self.columns, axis=1)\n",
    "\n",
    "    def fit(self, X, y=None):\n",
    "        return self \n",
    "\n",
    "\n",
    "# Создадим объект типа ColumnTransformer\n",
    "col_transform = ColumnTransformer([\n",
    "    ('one_hot_encode', OneHotEncoder(drop='first', sparse=False), one_hot_columns), \n",
    "    ('ordinal_encode_reserved_room_type', OrdinalEncoder(categories=[reserved_room_type_order]), ['reserved_room_type']), \n",
    "    ('ordinal_encode_arrival_date_month', OrdinalEncoder(categories=[arrival_date_month_order]), ['arrival_date_month'])\n",
    "], remainder='passthrough'\n",
    ")\n",
    "\n",
    "# Создадим pipeline предобработки данных.\n",
    "preprocessing_pipe = Pipeline([\n",
    "    ('delete_column', columnDropperTransformer('arrival_date_year')), \n",
    "    ('transform_columns', col_transform), \n",
    "    ('robust_scaler', RobustScaler())\n",
    "])"
   ]
  },
  {
   "cell_type": "markdown",
   "metadata": {},
   "source": [
    "Обучим наш pipeline предобработки данных на тренировочном наборе."
   ]
  },
  {
   "cell_type": "code",
   "execution_count": 152,
   "metadata": {
    "scrolled": true
   },
   "outputs": [
    {
     "data": {
      "text/plain": [
       "Pipeline(memory=None,\n",
       "         steps=[('delete_column',\n",
       "                 <__main__.columnDropperTransformer object at 0x7facb3440190>),\n",
       "                ('transform_columns',\n",
       "                 ColumnTransformer(n_jobs=None, remainder='passthrough',\n",
       "                                   sparse_threshold=0.3,\n",
       "                                   transformer_weights=None,\n",
       "                                   transformers=[('one_hot_encode',\n",
       "                                                  OneHotEncoder(categorical_features=None,\n",
       "                                                                categories=None,\n",
       "                                                                drop='first',\n",
       "                                                                dtype=<class 'numpy.float...\n",
       "                                                 ('ordinal_encode_arrival_date_month',\n",
       "                                                  OrdinalEncoder(categories=[['January',\n",
       "                                                                              'February',\n",
       "                                                                              'March',\n",
       "                                                                              'April',\n",
       "                                                                              'May',\n",
       "                                                                              'June',\n",
       "                                                                              'July',\n",
       "                                                                              'August',\n",
       "                                                                              'September',\n",
       "                                                                              'October',\n",
       "                                                                              'November',\n",
       "                                                                              'December']],\n",
       "                                                                 dtype=<class 'numpy.float64'>),\n",
       "                                                  ['arrival_date_month'])],\n",
       "                                   verbose=False)),\n",
       "                ('robust_scaler',\n",
       "                 RobustScaler(copy=True, quantile_range=(25.0, 75.0),\n",
       "                              with_centering=True, with_scaling=True))],\n",
       "         verbose=False)"
      ]
     },
     "execution_count": 152,
     "metadata": {},
     "output_type": "execute_result"
    }
   ],
   "source": [
    "preprocessing_pipe.fit(train_X)"
   ]
  },
  {
   "cell_type": "markdown",
   "metadata": {},
   "source": [
    "Для начала посмотрим на результаты некоторых моделей с минимальными настройками гиперпараметров (либо с настройками по умолчанию)"
   ]
  },
  {
   "cell_type": "code",
   "execution_count": 153,
   "metadata": {},
   "outputs": [],
   "source": [
    "models_basic_results = pd.DataFrame()\n",
    "\n",
    "dummy = DummyClassifier(random_state=1)\n",
    "sgd = SGDClassifier(class_weight='balanced', random_state=1)\n",
    "log_reg = LogisticRegression(class_weight='balanced', random_state=1)\n",
    "random_forest = RandomForestClassifier(n_estimators=100, random_state=1, class_weight='balanced')\n",
    "svc = LinearSVC(random_state=1)\n",
    "xgbt = XGBClassifier(booster='gbtree', random_state=1)\n",
    "xgbl = XGBClassifier(booster='gblinear', random_state=1)\n",
    "xgbd = XGBClassifier(booster='dart', random_state=1)"
   ]
  },
  {
   "cell_type": "code",
   "execution_count": 156,
   "metadata": {
    "scrolled": true
   },
   "outputs": [
    {
     "name": "stderr",
     "output_type": "stream",
     "text": [
      "100%|██████████| 8/8 [02:03<00:00, 15.43s/it]\n"
     ]
    }
   ],
   "source": [
    "models_dict = {'Dummy': dummy, \n",
    "               'SGDClassifier': sgd, \n",
    "               'LogisticRegression': log_reg, \n",
    "               'RandomForestClassifier': random_forest, \n",
    "               'LinearSVC': svc, \n",
    "               'XGBClassifierTree': xgbt, \n",
    "               'XGBClassifierLinear': xgbl,\n",
    "               'XGBClassifierDart': xgbd}\n",
    "\n",
    "for name, model in tqdm(models_dict.items()):\n",
    "    score = cross_val_score(\n",
    "        model,\n",
    "        preprocessing_pipe.transform(train_X), \n",
    "        train_y,\n",
    "        scoring='f1',\n",
    "#         cv=5\n",
    "        cv=3\n",
    "        )\n",
    "    models_basic_results[name] = [score.mean()]"
   ]
  },
  {
   "cell_type": "code",
   "execution_count": 157,
   "metadata": {},
   "outputs": [
    {
     "data": {
      "text/html": [
       "<div>\n",
       "<style scoped>\n",
       "    .dataframe tbody tr th:only-of-type {\n",
       "        vertical-align: middle;\n",
       "    }\n",
       "\n",
       "    .dataframe tbody tr th {\n",
       "        vertical-align: top;\n",
       "    }\n",
       "\n",
       "    .dataframe thead th {\n",
       "        text-align: right;\n",
       "    }\n",
       "</style>\n",
       "<table border=\"1\" class=\"dataframe\">\n",
       "  <thead>\n",
       "    <tr style=\"text-align: right;\">\n",
       "      <th></th>\n",
       "      <th>0</th>\n",
       "    </tr>\n",
       "  </thead>\n",
       "  <tbody>\n",
       "    <tr>\n",
       "      <td>LogisticRegression</td>\n",
       "      <td>0.639406</td>\n",
       "    </tr>\n",
       "    <tr>\n",
       "      <td>LinearSVC</td>\n",
       "      <td>0.613351</td>\n",
       "    </tr>\n",
       "    <tr>\n",
       "      <td>SGDClassifier</td>\n",
       "      <td>0.603968</td>\n",
       "    </tr>\n",
       "    <tr>\n",
       "      <td>XGBClassifierTree</td>\n",
       "      <td>0.573379</td>\n",
       "    </tr>\n",
       "    <tr>\n",
       "      <td>XGBClassifierDart</td>\n",
       "      <td>0.573379</td>\n",
       "    </tr>\n",
       "    <tr>\n",
       "      <td>RandomForestClassifier</td>\n",
       "      <td>0.490630</td>\n",
       "    </tr>\n",
       "    <tr>\n",
       "      <td>Dummy</td>\n",
       "      <td>0.365665</td>\n",
       "    </tr>\n",
       "    <tr>\n",
       "      <td>XGBClassifierLinear</td>\n",
       "      <td>0.083190</td>\n",
       "    </tr>\n",
       "  </tbody>\n",
       "</table>\n",
       "</div>"
      ],
      "text/plain": [
       "                               0\n",
       "LogisticRegression      0.639406\n",
       "LinearSVC               0.613351\n",
       "SGDClassifier           0.603968\n",
       "XGBClassifierTree       0.573379\n",
       "XGBClassifierDart       0.573379\n",
       "RandomForestClassifier  0.490630\n",
       "Dummy                   0.365665\n",
       "XGBClassifierLinear     0.083190"
      ]
     },
     "execution_count": 157,
     "metadata": {},
     "output_type": "execute_result"
    }
   ],
   "source": [
    "models_basic_results.T.sort_values(by=0, ascending=False)"
   ]
  },
  {
   "cell_type": "markdown",
   "metadata": {},
   "source": [
    "Наилучший результат показала модель Логистической регрессии (f1_score=63,5%).  \n",
    "Возмем эту модель и подберем гиперпараметры на кросс-валидации."
   ]
  },
  {
   "cell_type": "code",
   "execution_count": 158,
   "metadata": {},
   "outputs": [],
   "source": [
    "# Гиперпараметры для регулярищации L2\n",
    "params_rand = {'C': [0.1, 0.5, 1, 5, 10], \n",
    "               'solver': ['newton-cg', 'lbfgs', 'liblinear', 'saga']}\n",
    "#                'warm_start': [True, False]}\n",
    "\n",
    "# Гиперпараметры для регулярищации L1\n",
    "params_rand_l1 = {'penalty': ['l1'],\n",
    "                  'C': [0.1, 0.5, 1, 5, 10], \n",
    "                  'solver': ['liblinear', 'saga']}\n",
    "#                   'warm_start': [True, False]}\n",
    "\n",
    "# Гиперпараметры для регуляризации ElasticNet\n",
    "params_rand_elasticnet = {'penalty': ['elasticnet'],\n",
    "                           'C': [0.1, 0.5, 1, 5, 10], \n",
    "                           'solver': ['saga'], \n",
    "#                            'warm_start': [True, False], \n",
    "                           'l1_ratio': [0.1, 0.3, 0.5, 0.7, 0.9] }"
   ]
  },
  {
   "cell_type": "code",
   "execution_count": 159,
   "metadata": {
    "scrolled": false
   },
   "outputs": [
    {
     "name": "stdout",
     "output_type": "stream",
     "text": [
      "Fitting 3 folds for each of 10 candidates, totalling 30 fits\n"
     ]
    },
    {
     "name": "stderr",
     "output_type": "stream",
     "text": [
      "[Parallel(n_jobs=1)]: Using backend SequentialBackend with 1 concurrent workers.\n",
      "[Parallel(n_jobs=1)]: Done  30 out of  30 | elapsed:  2.7min finished\n"
     ]
    },
    {
     "data": {
      "text/plain": [
       "RandomizedSearchCV(cv=3, error_score='raise-deprecating',\n",
       "                   estimator=LogisticRegression(C=1.0, class_weight='balanced',\n",
       "                                                dual=False, fit_intercept=True,\n",
       "                                                intercept_scaling=1,\n",
       "                                                l1_ratio=None, max_iter=100,\n",
       "                                                multi_class='warn', n_jobs=None,\n",
       "                                                penalty='l2', random_state=1,\n",
       "                                                solver='warn', tol=0.0001,\n",
       "                                                verbose=0, warm_start=False),\n",
       "                   iid='warn', n_iter=10, n_jobs=None,\n",
       "                   param_distributions={'C': [0.1, 0.5, 1, 5, 10],\n",
       "                                        'solver': ['newton-cg', 'lbfgs',\n",
       "                                                   'liblinear', 'saga']},\n",
       "                   pre_dispatch='2*n_jobs', random_state=1, refit=True,\n",
       "                   return_train_score=False, scoring='f1', verbose=1)"
      ]
     },
     "execution_count": 159,
     "metadata": {},
     "output_type": "execute_result"
    }
   ],
   "source": [
    "# Подбор гиперпараметров для модели с регуляризацией L2\n",
    "model_rand = RandomizedSearchCV(log_reg,\n",
    "                                params_rand,\n",
    "                                scoring='f1',\n",
    "                                cv=3,\n",
    "                                verbose=1,\n",
    "                                random_state=1)\n",
    "\n",
    "model_rand.fit(preprocessing_pipe.transform(train_X), train_y)"
   ]
  },
  {
   "cell_type": "code",
   "execution_count": 160,
   "metadata": {},
   "outputs": [
    {
     "name": "stdout",
     "output_type": "stream",
     "text": [
      "Fitting 3 folds for each of 10 candidates, totalling 30 fits\n"
     ]
    },
    {
     "name": "stderr",
     "output_type": "stream",
     "text": [
      "[Parallel(n_jobs=1)]: Using backend SequentialBackend with 1 concurrent workers.\n",
      "[Parallel(n_jobs=1)]: Done  30 out of  30 | elapsed:  4.7min finished\n"
     ]
    },
    {
     "data": {
      "text/plain": [
       "RandomizedSearchCV(cv=3, error_score='raise-deprecating',\n",
       "                   estimator=LogisticRegression(C=1.0, class_weight='balanced',\n",
       "                                                dual=False, fit_intercept=True,\n",
       "                                                intercept_scaling=1,\n",
       "                                                l1_ratio=None, max_iter=100,\n",
       "                                                multi_class='warn', n_jobs=None,\n",
       "                                                penalty='l2', random_state=1,\n",
       "                                                solver='warn', tol=0.0001,\n",
       "                                                verbose=0, warm_start=False),\n",
       "                   iid='warn', n_iter=10, n_jobs=None,\n",
       "                   param_distributions={'C': [0.1, 0.5, 1, 5, 10],\n",
       "                                        'penalty': ['l1'],\n",
       "                                        'solver': ['liblinear', 'saga']},\n",
       "                   pre_dispatch='2*n_jobs', random_state=1, refit=True,\n",
       "                   return_train_score=False, scoring='f1', verbose=1)"
      ]
     },
     "execution_count": 160,
     "metadata": {},
     "output_type": "execute_result"
    }
   ],
   "source": [
    "# Подбор гиперпараметров для модели с регуляризацией L1\n",
    "model_rand_l1 = RandomizedSearchCV(log_reg,\n",
    "                                params_rand_l1,\n",
    "                                scoring='f1',\n",
    "                                cv=3,\n",
    "                                verbose=1,\n",
    "                                random_state=1)\n",
    "\n",
    "model_rand_l1.fit(preprocessing_pipe.transform(train_X), train_y)"
   ]
  },
  {
   "cell_type": "code",
   "execution_count": 161,
   "metadata": {
    "scrolled": false
   },
   "outputs": [
    {
     "name": "stdout",
     "output_type": "stream",
     "text": [
      "Fitting 3 folds for each of 10 candidates, totalling 30 fits\n"
     ]
    },
    {
     "name": "stderr",
     "output_type": "stream",
     "text": [
      "[Parallel(n_jobs=1)]: Using backend SequentialBackend with 1 concurrent workers.\n",
      "[Parallel(n_jobs=1)]: Done  30 out of  30 | elapsed:  2.4min finished\n"
     ]
    },
    {
     "data": {
      "text/plain": [
       "RandomizedSearchCV(cv=3, error_score='raise-deprecating',\n",
       "                   estimator=LogisticRegression(C=1.0, class_weight='balanced',\n",
       "                                                dual=False, fit_intercept=True,\n",
       "                                                intercept_scaling=1,\n",
       "                                                l1_ratio=None, max_iter=100,\n",
       "                                                multi_class='warn', n_jobs=None,\n",
       "                                                penalty='l2', random_state=1,\n",
       "                                                solver='warn', tol=0.0001,\n",
       "                                                verbose=0, warm_start=False),\n",
       "                   iid='warn', n_iter=10, n_jobs=None,\n",
       "                   param_distributions={'C': [0.1, 0.5, 1, 5, 10],\n",
       "                                        'l1_ratio': [0.1, 0.3, 0.5, 0.7, 0.9],\n",
       "                                        'penalty': ['elasticnet'],\n",
       "                                        'solver': ['saga']},\n",
       "                   pre_dispatch='2*n_jobs', random_state=1, refit=True,\n",
       "                   return_train_score=False, scoring='f1', verbose=1)"
      ]
     },
     "execution_count": 161,
     "metadata": {},
     "output_type": "execute_result"
    }
   ],
   "source": [
    "# Подбор гиперпараметров для модели с регуляризацией ElasticNet\n",
    "model_rand_elasticnet = RandomizedSearchCV(log_reg,\n",
    "                                params_rand_elasticnet,\n",
    "                                scoring='f1',\n",
    "                                cv=3,\n",
    "                                verbose=1,\n",
    "                                random_state=1)\n",
    "\n",
    "model_rand_elasticnet.fit(preprocessing_pipe.transform(train_X), train_y)"
   ]
  },
  {
   "cell_type": "code",
   "execution_count": 162,
   "metadata": {
    "scrolled": true
   },
   "outputs": [
    {
     "name": "stdout",
     "output_type": "stream",
     "text": [
      "L2-регуляризация, f1_score: 0.6426297488622073\n",
      "L1-регуляризация, f1_score: 0.6420506251400884\n",
      "ElasticNet-регуляризация, f1_score: 0.6331482931245428\n"
     ]
    }
   ],
   "source": [
    "print('L2-регуляризация, f1_score:', model_rand.best_score_)\n",
    "print('L1-регуляризация, f1_score:', model_rand_l1.best_score_)\n",
    "print('ElasticNet-регуляризация, f1_score:', model_rand_elasticnet.best_score_)"
   ]
  },
  {
   "cell_type": "markdown",
   "metadata": {},
   "source": [
    "Модель с L2-регуляризацией показала наилуший результат на кроссвалидации."
   ]
  },
  {
   "cell_type": "markdown",
   "metadata": {},
   "source": [
    "Посмотрим на ее гиперпараметры."
   ]
  },
  {
   "cell_type": "code",
   "execution_count": 163,
   "metadata": {},
   "outputs": [
    {
     "data": {
      "text/plain": [
       "LogisticRegression(C=0.1, class_weight='balanced', dual=False,\n",
       "                   fit_intercept=True, intercept_scaling=1, l1_ratio=None,\n",
       "                   max_iter=100, multi_class='warn', n_jobs=None, penalty='l2',\n",
       "                   random_state=1, solver='lbfgs', tol=0.0001, verbose=0,\n",
       "                   warm_start=False)"
      ]
     },
     "execution_count": 163,
     "metadata": {},
     "output_type": "execute_result"
    }
   ],
   "source": [
    "model_rand.best_estimator_"
   ]
  },
  {
   "cell_type": "markdown",
   "metadata": {},
   "source": [
    "Используем ее для предсказаний на тестовой выборке. Сохраним получившуюся модель в переменную `best_model`"
   ]
  },
  {
   "cell_type": "code",
   "execution_count": 164,
   "metadata": {},
   "outputs": [],
   "source": [
    "best_model = model_rand.best_estimator_"
   ]
  },
  {
   "cell_type": "markdown",
   "metadata": {},
   "source": [
    "#### Проверка на тестовой выборке"
   ]
  },
  {
   "cell_type": "code",
   "execution_count": 165,
   "metadata": {},
   "outputs": [],
   "source": [
    "# Создадим пайплайн для одновременной предобработки данных и предсказания модели.\n",
    "best_model_pipe = Pipeline([('preprocess', preprocessing_pipe), \n",
    "                            ('model', best_model)])"
   ]
  },
  {
   "cell_type": "code",
   "execution_count": 166,
   "metadata": {},
   "outputs": [
    {
     "data": {
      "text/plain": [
       "0.6738190421799788"
      ]
     },
     "execution_count": 166,
     "metadata": {},
     "output_type": "execute_result"
    }
   ],
   "source": [
    "# Сделаем предсказания на тестовой выборке и сохраним их в переменной predictions\n",
    "predictions = best_model_pipe.predict(test_X)\n",
    "\n",
    "# Вычислим f1_score модели на тестовой выборке\n",
    "f1_score(test_y, predictions)"
   ]
  },
  {
   "cell_type": "markdown",
   "metadata": {},
   "source": [
    "На тестовой выборке мы получили f1_score даже выше, чем на тренировочной кросс-валидации: 67,38%"
   ]
  },
  {
   "cell_type": "markdown",
   "metadata": {},
   "source": [
    "Построим графики precision-recall и roc_auc кривую."
   ]
  },
  {
   "cell_type": "code",
   "execution_count": 167,
   "metadata": {},
   "outputs": [],
   "source": [
    "# Зададим функцию, которая построит график Precision-Recall\n",
    "def precision_recall_plot(title=None, model=None, X=None, y=None, ax=None):\n",
    "    probabilities_valid = model.predict_proba(X)\n",
    "    precision, recall, thresholds = precision_recall_curve(y, probabilities_valid[:, 1])\n",
    "\n",
    "    ax.step(recall, precision, where='post')\n",
    "    ax.set_xlabel('Recall')\n",
    "    ax.set_ylabel('Precision')\n",
    "    ax.set_ylim([0.0, 1.05])\n",
    "    ax.set_xlim([0.0, 1.0])\n",
    "    ax.set_title(title)\n",
    "    ax.grid()\n",
    "    \n",
    "# Зададим функцию, которая построит график ROC_AUC\n",
    "def roc_curve_plot(title='ROC-кривая', model=None, X=None, y=None, ax=None):\n",
    "    probabilities_valid = model.predict_proba(X)\n",
    "    fpr, tpr, thresholds = roc_curve(y, probabilities_valid[:, 1]) \n",
    "    \n",
    "    ax.step(fpr, tpr)\n",
    "    ax.set_xlabel('False Positive Rate')\n",
    "    ax.set_ylabel('True Positive Rate')\n",
    "    ax.set_ylim([0.0, 1.0])\n",
    "    ax.set_xlim([0.0, 1.0])\n",
    "    ax.set_title(title)\n",
    "    ax.grid()"
   ]
  },
  {
   "cell_type": "code",
   "execution_count": 168,
   "metadata": {
    "scrolled": true
   },
   "outputs": [
    {
     "data": {
      "image/png": "[encoded data removed]",
      "text/plain": [
       "<Figure size 1080x360 with 2 Axes>"
      ]
     },
     "metadata": {
      "needs_background": "light"
     },
     "output_type": "display_data"
    }
   ],
   "source": [
    "fig, ax = plt.subplots(1, 2, figsize=(15, 5))\n",
    "\n",
    "# Строим кривую Precision-Recall\n",
    "precision_recall_plot('PR_Curve', best_model_pipe, test_X, test_y, ax[0])\n",
    "\n",
    "# Строим кривую AUC-ROC\n",
    "roc_curve_plot('ROC-AUC_Curve', best_model_pipe, test_X, test_y, ax[1])"
   ]
  },
  {
   "cell_type": "code",
   "execution_count": 169,
   "metadata": {},
   "outputs": [
    {
     "name": "stdout",
     "output_type": "stream",
     "text": [
      "              precision    recall  f1-score   support\n",
      "\n",
      "           0       0.79      0.82      0.80     19821\n",
      "           1       0.69      0.66      0.67     12591\n",
      "\n",
      "    accuracy                           0.75     32412\n",
      "   macro avg       0.74      0.74      0.74     32412\n",
      "weighted avg       0.75      0.75      0.75     32412\n",
      "\n"
     ]
    }
   ],
   "source": [
    "print(classification_report(test_y, predictions))"
   ]
  },
  {
   "cell_type": "markdown",
   "metadata": {},
   "source": [
    "Модель распознает 66% ненадежных клиентов из всех ненадежных клиентов.  \n",
    "При этом, из тех, кого модель отметила как ненадежного клиента, 31% окажутся на самом деле надежными."
   ]
  },
  {
   "cell_type": "markdown",
   "metadata": {},
   "source": [
    "#### Оценим прибыль, которую получит отель при использовании модели за год"
   ]
  },
  {
   "cell_type": "markdown",
   "metadata": {},
   "source": [
    "Создадим таблицу `profit_table`, в которую сохраним все необходимые значения."
   ]
  },
  {
   "cell_type": "code",
   "execution_count": 170,
   "metadata": {},
   "outputs": [],
   "source": [
    "profit_table = test_X.join(hotel_full[['prices', 'coef', 'serv_cost', 'profit', 'is_canceled']])\n",
    "\n",
    "profit_table['predictions'] = predictions\n",
    "profit_table['deposit'] = ((profit_table['prices'] * profit_table['coef'] + \n",
    "                            profit_table['serv_cost']) * 0.8 * \n",
    "                            profit_table['predictions'])\n",
    "\n",
    "\n",
    "# Создадим столбец 'profit_after' и заполним его NaN\n",
    "profit_table['profit_after'] = [np.nan] * profit_table.shape[0]\n",
    "    \n",
    "# Заполним столбец 'profit_after' необходимыми значениями\n",
    "profit_table['profit_after'] = (profit_table['profit_after']\n",
    "                                # Строки клиентов, которые действительно отменили свою бронь \n",
    "                                 # заполним значениями из столбца 'deposit' за вычетом стоимости уборки 'serv_cost'.\n",
    "                                .where(profit_table['is_canceled'] == 0, profit_table['deposit'] - profit_table['serv_cost'])\n",
    "                                \n",
    "                                # Строки клиентов, которые подтвердились и полностью оплатили \n",
    "                                # свое проживание заполним значениями из столбца 'profit'\n",
    "                                .fillna(profit_table['profit'])\n",
    ")"
   ]
  },
  {
   "cell_type": "code",
   "execution_count": 171,
   "metadata": {},
   "outputs": [
    {
     "data": {
      "text/html": [
       "<div>\n",
       "<style scoped>\n",
       "    .dataframe tbody tr th:only-of-type {\n",
       "        vertical-align: middle;\n",
       "    }\n",
       "\n",
       "    .dataframe tbody tr th {\n",
       "        vertical-align: top;\n",
       "    }\n",
       "\n",
       "    .dataframe thead th {\n",
       "        text-align: right;\n",
       "    }\n",
       "</style>\n",
       "<table border=\"1\" class=\"dataframe\">\n",
       "  <thead>\n",
       "    <tr style=\"text-align: right;\">\n",
       "      <th></th>\n",
       "      <th>lead_time</th>\n",
       "      <th>arrival_date_year</th>\n",
       "      <th>arrival_date_month</th>\n",
       "      <th>arrival_date_week_number</th>\n",
       "      <th>arrival_date_day_of_month</th>\n",
       "      <th>stays_in_weekend_nights</th>\n",
       "      <th>stays_in_week_nights</th>\n",
       "      <th>adults</th>\n",
       "      <th>children</th>\n",
       "      <th>babies</th>\n",
       "      <th>meal</th>\n",
       "      <th>country</th>\n",
       "      <th>distribution_channel</th>\n",
       "      <th>is_repeated_guest</th>\n",
       "      <th>previous_cancellations</th>\n",
       "      <th>previous_bookings_not_canceled</th>\n",
       "      <th>reserved_room_type</th>\n",
       "      <th>booking_changes</th>\n",
       "      <th>days_in_waiting_list</th>\n",
       "      <th>customer_type</th>\n",
       "      <th>required_car_parking_spaces</th>\n",
       "      <th>total_of_special_requests</th>\n",
       "      <th>total_nights</th>\n",
       "      <th>prices</th>\n",
       "      <th>coef</th>\n",
       "      <th>serv_cost</th>\n",
       "      <th>profit</th>\n",
       "      <th>is_canceled</th>\n",
       "      <th>predictions</th>\n",
       "      <th>deposit</th>\n",
       "      <th>profit_after</th>\n",
       "    </tr>\n",
       "    <tr>\n",
       "      <th>id</th>\n",
       "      <th></th>\n",
       "      <th></th>\n",
       "      <th></th>\n",
       "      <th></th>\n",
       "      <th></th>\n",
       "      <th></th>\n",
       "      <th></th>\n",
       "      <th></th>\n",
       "      <th></th>\n",
       "      <th></th>\n",
       "      <th></th>\n",
       "      <th></th>\n",
       "      <th></th>\n",
       "      <th></th>\n",
       "      <th></th>\n",
       "      <th></th>\n",
       "      <th></th>\n",
       "      <th></th>\n",
       "      <th></th>\n",
       "      <th></th>\n",
       "      <th></th>\n",
       "      <th></th>\n",
       "      <th></th>\n",
       "      <th></th>\n",
       "      <th></th>\n",
       "      <th></th>\n",
       "      <th></th>\n",
       "      <th></th>\n",
       "      <th></th>\n",
       "      <th></th>\n",
       "      <th></th>\n",
       "    </tr>\n",
       "  </thead>\n",
       "  <tbody>\n",
       "    <tr>\n",
       "      <td>6086</td>\n",
       "      <td>74.0</td>\n",
       "      <td>2017</td>\n",
       "      <td>January</td>\n",
       "      <td>1</td>\n",
       "      <td>1</td>\n",
       "      <td>1</td>\n",
       "      <td>0</td>\n",
       "      <td>2.0</td>\n",
       "      <td>0.0</td>\n",
       "      <td>0.0</td>\n",
       "      <td>BB</td>\n",
       "      <td>PRT</td>\n",
       "      <td>TA/TO</td>\n",
       "      <td>0</td>\n",
       "      <td>0</td>\n",
       "      <td>0</td>\n",
       "      <td>A</td>\n",
       "      <td>0</td>\n",
       "      <td>0</td>\n",
       "      <td>Transient</td>\n",
       "      <td>0</td>\n",
       "      <td>0</td>\n",
       "      <td>1</td>\n",
       "      <td>1000</td>\n",
       "      <td>1.0</td>\n",
       "      <td>400</td>\n",
       "      <td>-400.0</td>\n",
       "      <td>1</td>\n",
       "      <td>1</td>\n",
       "      <td>1120.0</td>\n",
       "      <td>720.0</td>\n",
       "    </tr>\n",
       "    <tr>\n",
       "      <td>6087</td>\n",
       "      <td>62.0</td>\n",
       "      <td>2017</td>\n",
       "      <td>January</td>\n",
       "      <td>1</td>\n",
       "      <td>1</td>\n",
       "      <td>2</td>\n",
       "      <td>2</td>\n",
       "      <td>2.0</td>\n",
       "      <td>0.0</td>\n",
       "      <td>0.0</td>\n",
       "      <td>BB</td>\n",
       "      <td>AUT</td>\n",
       "      <td>TA/TO</td>\n",
       "      <td>0</td>\n",
       "      <td>0</td>\n",
       "      <td>0</td>\n",
       "      <td>A</td>\n",
       "      <td>0</td>\n",
       "      <td>0</td>\n",
       "      <td>Transient</td>\n",
       "      <td>0</td>\n",
       "      <td>1</td>\n",
       "      <td>4</td>\n",
       "      <td>1000</td>\n",
       "      <td>1.0</td>\n",
       "      <td>400</td>\n",
       "      <td>-400.0</td>\n",
       "      <td>1</td>\n",
       "      <td>0</td>\n",
       "      <td>0.0</td>\n",
       "      <td>-400.0</td>\n",
       "    </tr>\n",
       "    <tr>\n",
       "      <td>6088</td>\n",
       "      <td>62.0</td>\n",
       "      <td>2017</td>\n",
       "      <td>January</td>\n",
       "      <td>1</td>\n",
       "      <td>1</td>\n",
       "      <td>2</td>\n",
       "      <td>2</td>\n",
       "      <td>2.0</td>\n",
       "      <td>0.0</td>\n",
       "      <td>0.0</td>\n",
       "      <td>BB</td>\n",
       "      <td>AUT</td>\n",
       "      <td>TA/TO</td>\n",
       "      <td>0</td>\n",
       "      <td>0</td>\n",
       "      <td>0</td>\n",
       "      <td>A</td>\n",
       "      <td>0</td>\n",
       "      <td>0</td>\n",
       "      <td>Transient</td>\n",
       "      <td>0</td>\n",
       "      <td>1</td>\n",
       "      <td>4</td>\n",
       "      <td>1000</td>\n",
       "      <td>1.0</td>\n",
       "      <td>400</td>\n",
       "      <td>-400.0</td>\n",
       "      <td>1</td>\n",
       "      <td>0</td>\n",
       "      <td>0.0</td>\n",
       "      <td>-400.0</td>\n",
       "    </tr>\n",
       "    <tr>\n",
       "      <td>6089</td>\n",
       "      <td>71.0</td>\n",
       "      <td>2017</td>\n",
       "      <td>January</td>\n",
       "      <td>1</td>\n",
       "      <td>1</td>\n",
       "      <td>2</td>\n",
       "      <td>2</td>\n",
       "      <td>1.0</td>\n",
       "      <td>0.0</td>\n",
       "      <td>0.0</td>\n",
       "      <td>BB</td>\n",
       "      <td>PRT</td>\n",
       "      <td>TA/TO</td>\n",
       "      <td>0</td>\n",
       "      <td>0</td>\n",
       "      <td>0</td>\n",
       "      <td>A</td>\n",
       "      <td>0</td>\n",
       "      <td>0</td>\n",
       "      <td>Transient</td>\n",
       "      <td>0</td>\n",
       "      <td>1</td>\n",
       "      <td>4</td>\n",
       "      <td>1000</td>\n",
       "      <td>1.0</td>\n",
       "      <td>400</td>\n",
       "      <td>-400.0</td>\n",
       "      <td>1</td>\n",
       "      <td>1</td>\n",
       "      <td>1120.0</td>\n",
       "      <td>720.0</td>\n",
       "    </tr>\n",
       "    <tr>\n",
       "      <td>6090</td>\n",
       "      <td>172.0</td>\n",
       "      <td>2017</td>\n",
       "      <td>January</td>\n",
       "      <td>1</td>\n",
       "      <td>1</td>\n",
       "      <td>2</td>\n",
       "      <td>5</td>\n",
       "      <td>2.0</td>\n",
       "      <td>0.0</td>\n",
       "      <td>0.0</td>\n",
       "      <td>BB</td>\n",
       "      <td>BEL</td>\n",
       "      <td>TA/TO</td>\n",
       "      <td>0</td>\n",
       "      <td>0</td>\n",
       "      <td>0</td>\n",
       "      <td>A</td>\n",
       "      <td>0</td>\n",
       "      <td>0</td>\n",
       "      <td>Transient</td>\n",
       "      <td>0</td>\n",
       "      <td>0</td>\n",
       "      <td>7</td>\n",
       "      <td>1000</td>\n",
       "      <td>1.0</td>\n",
       "      <td>400</td>\n",
       "      <td>-400.0</td>\n",
       "      <td>1</td>\n",
       "      <td>1</td>\n",
       "      <td>1120.0</td>\n",
       "      <td>720.0</td>\n",
       "    </tr>\n",
       "  </tbody>\n",
       "</table>\n",
       "</div>"
      ],
      "text/plain": [
       "      lead_time  arrival_date_year arrival_date_month  \\\n",
       "id                                                      \n",
       "6086       74.0               2017            January   \n",
       "6087       62.0               2017            January   \n",
       "6088       62.0               2017            January   \n",
       "6089       71.0               2017            January   \n",
       "6090      172.0               2017            January   \n",
       "\n",
       "      arrival_date_week_number  arrival_date_day_of_month  \\\n",
       "id                                                          \n",
       "6086                         1                          1   \n",
       "6087                         1                          1   \n",
       "6088                         1                          1   \n",
       "6089                         1                          1   \n",
       "6090                         1                          1   \n",
       "\n",
       "      stays_in_weekend_nights  stays_in_week_nights  adults  children  babies  \\\n",
       "id                                                                              \n",
       "6086                        1                     0     2.0       0.0     0.0   \n",
       "6087                        2                     2     2.0       0.0     0.0   \n",
       "6088                        2                     2     2.0       0.0     0.0   \n",
       "6089                        2                     2     1.0       0.0     0.0   \n",
       "6090                        2                     5     2.0       0.0     0.0   \n",
       "\n",
       "     meal country distribution_channel  is_repeated_guest  \\\n",
       "id                                                          \n",
       "6086   BB     PRT                TA/TO                  0   \n",
       "6087   BB     AUT                TA/TO                  0   \n",
       "6088   BB     AUT                TA/TO                  0   \n",
       "6089   BB     PRT                TA/TO                  0   \n",
       "6090   BB     BEL                TA/TO                  0   \n",
       "\n",
       "      previous_cancellations  previous_bookings_not_canceled  \\\n",
       "id                                                             \n",
       "6086                       0                               0   \n",
       "6087                       0                               0   \n",
       "6088                       0                               0   \n",
       "6089                       0                               0   \n",
       "6090                       0                               0   \n",
       "\n",
       "     reserved_room_type  booking_changes  days_in_waiting_list customer_type  \\\n",
       "id                                                                             \n",
       "6086                  A                0                     0     Transient   \n",
       "6087                  A                0                     0     Transient   \n",
       "6088                  A                0                     0     Transient   \n",
       "6089                  A                0                     0     Transient   \n",
       "6090                  A                0                     0     Transient   \n",
       "\n",
       "      required_car_parking_spaces  total_of_special_requests  total_nights  \\\n",
       "id                                                                           \n",
       "6086                            0                          0             1   \n",
       "6087                            0                          1             4   \n",
       "6088                            0                          1             4   \n",
       "6089                            0                          1             4   \n",
       "6090                            0                          0             7   \n",
       "\n",
       "      prices  coef  serv_cost  profit  is_canceled  predictions  deposit  \\\n",
       "id                                                                         \n",
       "6086    1000   1.0        400  -400.0            1            1   1120.0   \n",
       "6087    1000   1.0        400  -400.0            1            0      0.0   \n",
       "6088    1000   1.0        400  -400.0            1            0      0.0   \n",
       "6089    1000   1.0        400  -400.0            1            1   1120.0   \n",
       "6090    1000   1.0        400  -400.0            1            1   1120.0   \n",
       "\n",
       "      profit_after  \n",
       "id                  \n",
       "6086         720.0  \n",
       "6087        -400.0  \n",
       "6088        -400.0  \n",
       "6089         720.0  \n",
       "6090         720.0  "
      ]
     },
     "execution_count": 171,
     "metadata": {},
     "output_type": "execute_result"
    }
   ],
   "source": [
    "profit_table.head()"
   ]
  },
  {
   "cell_type": "code",
   "execution_count": 172,
   "metadata": {},
   "outputs": [
    {
     "name": "stdout",
     "output_type": "stream",
     "text": [
      "Прибыль отеля за 2017 год после внедрения модели: 56083946.0 руб.\n",
      "Дополнительная прибыль, которую модель принесла отелю за 2017 год: 9700096.0\n",
      "Дополнительная прибыль, которую отель получил от внедрения модели за вычетом расходов на внедрение: 9300096.0\n"
     ]
    }
   ],
   "source": [
    "profit_after = profit_table['profit_after'].sum()\n",
    "\n",
    "print('Прибыль отеля за 2017 год после внедрения модели:', profit_after, 'руб.')\n",
    "print('Дополнительная прибыль, которую модель принесла отелю за 2017 год:', profit_after - profit_before)\n",
    "print('Дополнительная прибыль, которую отель получил от внедрения модели за вычетом расходов на внедрение:', profit_after - profit_before - 400000)"
   ]
  },
  {
   "cell_type": "markdown",
   "metadata": {},
   "source": [
    "#### Резюме"
   ]
  },
  {
   "cell_type": "markdown",
   "metadata": {},
   "source": [
    "Благодаря внедрению модели отель мог заработать 9 300 096 рублей дополнительно к той прибыли, которую получил в 2017 году."
   ]
  },
  {
   "cell_type": "markdown",
   "metadata": {},
   "source": [
    "### Шаг 5. Опишите портрет «ненадёжного» клиента"
   ]
  },
  {
   "cell_type": "markdown",
   "metadata": {},
   "source": [
    "В ходе исследовательского анализа, было выявлено, что у клиентов, отменивших бронирование:\n",
    "- Среднее количество дней между датой бронирования и датой прибытия практически в 2 раза больше (132.7 дней) нежели у подтвердившихся гостей.\n",
    "- В 20 раз выше среднее количество предыдущих отмен бронирования\n",
    "- В 10 раз ниже среднее количество предыдущих подтвержденных бронирований\n",
    "- В 2,6 раз ниже среднее количество изменений в параметрах заказа.\n",
    "- В 2 раза дольше в среднем их заказ ожидал подтвержения.  \n",
    "\n",
    "Также, следует отметить, что клиенты, которые впервые обратились в гостиницу отменяли бронь чаще, нежели повторные клиенты.  \n",
    "Однако следует помнить, что это первичный анализ, которые проводился без соответсвующих статистических методов проверки гипотез, поэтому выводы, которые сделаны являются лишь предположениями на основе наблюдений."
   ]
  },
  {
   "cell_type": "markdown",
   "metadata": {},
   "source": [
    "Для того, чтобы дать финальное заключение, изучим важность признаков в модели. Для этого первым делом создадим список признаков нашей выборки, и затем начертим график, на котором каждому признаку будет соответсвовать коэффициент логистической регрессии."
   ]
  },
  {
   "cell_type": "code",
   "execution_count": 173,
   "metadata": {},
   "outputs": [
    {
     "data": {
      "text/plain": [
       "((1, 40), (40,))"
      ]
     },
     "execution_count": 173,
     "metadata": {},
     "output_type": "execute_result"
    }
   ],
   "source": [
    "# Извлечем список столбцов, преобразованных с помощью OneHotEncoder\n",
    "ohe_columns_after_pp = list(col_transform.transformers_[0][1].get_feature_names())\n",
    "\n",
    "# Создадим список столбцов, которые остались после преобразований OneHotEncoder и OrdinalEncoder алгоритмами.\n",
    "columns_left = [col for col in hotel_test.columns if col not in\n",
    "          (['reserved_room_type', 'arrival_date_month'] + one_hot_columns + ['is_canceled', 'arrival_date_year'])]\n",
    "\n",
    "# Создадим единый список признаков, которые образовались после предобработки с помощью preprocessing_pipe\n",
    "features_after_pp = ohe_columns_after_pp + ['reserved_room_type', 'arrival_date_month'] + columns_left\n",
    "\n",
    "# Проверим количество кожффициентов в модели и количество названий признаков в списке \"features_after_pp\"\n",
    "best_model.coef_.shape, np.array([1 for elem in features_after_pp]).shape"
   ]
  },
  {
   "cell_type": "markdown",
   "metadata": {},
   "source": [
    "Построим график."
   ]
  },
  {
   "cell_type": "code",
   "execution_count": 174,
   "metadata": {
    "scrolled": false
   },
   "outputs": [
    {
     "data": {
      "image/png": "[encoded data removed]",
      "text/plain": [
       "<Figure size 576x648 with 1 Axes>"
      ]
     },
     "metadata": {
      "needs_background": "light"
     },
     "output_type": "display_data"
    }
   ],
   "source": [
    "(\n",
    "    pd.DataFrame(best_model.coef_, columns=features_after_pp).T\n",
    "    .sort_values(by=0, ascending=True).\n",
    "    plot.barh(grid=True, figsize=(8, 9), title='Feature Importance')\n",
    ");\n",
    "plt.legend(['regression_coef']);"
   ]
  },
  {
   "cell_type": "markdown",
   "metadata": {},
   "source": [
    "В соответствии с коэффициентами логистической регрессии, можно утверждать, что признаками, которые вносят наибольший вклад в модель являются (прямая зависимость):\n",
    "- `previous_cancellations`\n",
    "- `customer_type=Transient`\n",
    "- `country=PRT, FRA, BRA`\n",
    "- `distribution_channel=TA/TO, FB`\n",
    "Обратная зависимость:\n",
    "- `is_repeated_guest`\n",
    "- `required_car_parking_spaces`\n",
    "- `lead_time`\n",
    "- `country=DEU`\n",
    "- `total_of_special_request`.   \n",
    " \n",
    " \n",
    "Зависимость между данными признаками следующаю: \n",
    "- `previous_cancellations` - чем больше у гостя предыдущих отмен, тем больше вероятность того, что он отменит бронь.\n",
    "- `country=PRT, FRA, BRA` - если клиент из страны 'PRT', 'FRA' или 'BRA', то он с большей вероятностью отменит бронь.\n",
    "- `customer_type=Transient` - если тип заказчика относится к классу 'Transient', то он с большей вероятностью аннулирует бронь.\n",
    "- `is_repeated_guest` - если гость повторный, то он скорее всего подтвердит свою бронь. Соответсвенно, если гость образается впервые, то это увеличивает вероятность отмены.\n",
    "- `required_car_parking_spaces` - чем меньше клиенту требуется парковочных мест, тем выше вероятность того, что он отменит бронь.\n",
    "- `lead_time` - чем больше дней между датой бронирования и датой прибытия, тем выше вероятность отмены.\n",
    "- `distribution_channel=TA/TO, FB` - если клиент пришел из канала TA/TO или FB, то вероятность отмены выше.\n",
    "- `total_of_special_request` - чем меньше количества специальных отметок у гостя, тем выше вероятность, что он отменит бронь."
   ]
  },
  {
   "cell_type": "markdown",
   "metadata": {},
   "source": [
    "На основе всего выше перечисленного, клиента, склонного к отказу от брони можно охарактеризовать следующим образом:  \n"
   ]
  },
  {
   "cell_type": "markdown",
   "metadata": {},
   "source": [
    "- **Это человек, который обратился в отель впервые.**  \n",
    "- **Он из страны PRT, BRA или FRA и ему не требуется парковочное место.**  \n",
    "- **Также, у него практически отсутствуют специальные отметки.**  \n",
    "- **Этот тип заказчика не связан с договором или групповым заездом и скорее всего пришел из источника дистрибуции заказов TA/TO или FB.**  \n",
    "- **При этом, у этого гостя уже было несколько отмен ранее и количество дней от заказа до его прибытия достаточно большое.**"
   ]
  },
  {
   "cell_type": "markdown",
   "metadata": {},
   "source": [
    "В целом, можно отметить, что ряд гипотез, которые были выдвинуты на этапе исследовательского анализа подтвердились."
   ]
  },
  {
   "cell_type": "markdown",
   "metadata": {},
   "source": [
    "### Шаг 6. Напишите общий вывод"
   ]
  },
  {
   "attachments": {
    "image-2.png": {
     "image/png": "[encoded data removed]"
    },
    "image.png": {
     "image/png": "[encoded data removed]"
    }
   },
   "cell_type": "markdown",
   "metadata": {},
   "source": [
    "В ходе работы были проделаны следующие шаги:  \n",
    "**1. Данные были открыты и изучены.**\n",
    "**2. Следующим шагом была произведена предобработка данных и краткий исследовательский анализ**. В ходе исследователького анализа было выявлено, что:\n",
    "- Средний временной отрезок между бронированием и заселением у отменивших бронь гостей в 2 раза выше (нежели у засешившихся) и составляет 132.7 дней.\n",
    "- У гостей, отменивших бронирование в 20 раз выше среднее количество предыдущих отмен.\n",
    "- У гостей, отменивших бронирование в 10 раз ниже среднее количество предыдущих подтвержденных бронирований\n",
    "- У гостей, отменивших бронирование в 2,6 раз ниже среднее количество изменений в параметрах заказа.\n",
    "- Заказы, которые сделали гости, впоследствие отменившие бронь, в среднем в 2 раза дольше ожидали подтвержения\n",
    "- Гости, отменившие бронь в основном были первичными клиентами  \n",
    "**3. Следующим шагом была сформулирована ML-задача и посчитаны необходимые бизнес-показатели**, в том числе прибыль отеля за 2017 год без внедрения модели: она составила 57 768 990.0 руб\n",
    "**4. Следующие этап состоял в разработке ML-модели**. На данном шаге мы:  \n",
    "- Произвели предобработку данных, необходимую для обучения модели\n",
    "- Проверили точность предсказания 6-и моделей в их  базовой настройке на 3-fold кросс-валидации. Были получены следующие результаты:\n",
    "|Модель | F1_score |\n",
    "|--------|----------|\n",
    "| LogisticRegression|\t0.635113\n",
    "| SGDClassifier\t|0.607597\n",
    "|LinearSVC\t|0.603093\n",
    "|XGBClassifierTree|\t0.551118\n",
    "|XGBClassifierDart|\t0.551118\n",
    "|RandomForestClassifier|\t0.473392\n",
    "|Dummy|\t0.369416\n",
    "|XGBClassifierLinear|\t0.057815\n",
    "- Для модели, показавшей наилучший результат был произведен подбор гиперпараметров методом RandomSearchCV. F1_score наилучшей модели на кросс-валидации достиг 64%.\n",
    "- Затем, модель была проверена на тестовом наборе данных. Результаты представлены ниже:  \n",
    "    - F1_score: 67.38%  \n",
    "|class |precision  |  recall | f1-score  | support|\n",
    "|------|---------- | ------- |--------- |-------- |\n",
    "|    0    |   0.79  |    0.82   |   0.80  |   19821|\n",
    "|    1     |   0.69    |   0.66    |   0.67   |  12591|\n",
    "\n",
    "    ![image.png](attachment:image.png)\n",
    "    \n",
    "**5. Была посчитана прибыль отеля за 2017 год с учетом предсказаний модели и стоимости ее внедрения**:\n",
    "- Прибыль отеля за 2017 год после внедрения модели: 67 469 086.0 руб.\n",
    "- Дополнительная прибыль, которую модель принесла отелю за 2017 год: 9 700 096.0\n",
    "- Дополнительная прибыль, которую отель получил от внедрения модели за вычетом расходов на внедрение: 9 300 096.0\n",
    "\n",
    "**6. Был найден и визуализирован вклад каждого признака в модель**: \n",
    "![image-2.png](attachment:image-2.png)\n",
    "- Среди признаков, которые вносят наибольший вклад в рещультат модели и имеют прямую зависимость с целевым признаком, находятся: \n",
    "    - `previous_cancellations`\n",
    "    - `customer_type=Transient`\n",
    "    - `country=PRT, FRA, BRA`\n",
    "    - `distribution_channel=TA/TO, FB`\n",
    "- Признаки, которые вносят наибольший вклад в результат модели и имеют обратную зависимость с целевым признаком:\n",
    "    - `is_repeated_guest`\n",
    "    - `required_car_parking_spaces`\n",
    "    - `lead_time`\n",
    "    - `country=DEU`\n",
    "    - `total_of_special_request`. \n",
    "- Такжее был описан примерный портрет \"ненадежного гостя, склонного к отменен брони\": \n",
    "Это человек, который обратился в отель впервые.  \n",
    "Он из страны PRT, BRA или FRA и ему не требуется парковочное место.  \n",
    "Также, у него практически отсутствуют специальные отметки.  \n",
    "Этот тип заказчика не связан с договором или групповым заездом и скорее всего пришел из источника дистрибуции заказов TA/TO или FB.  \n",
    "При этом, у этого гостя уже было несколько отмен ранее и количество дней от заказа до его прибытия достаточно большое.  \n",
    "\n",
    "Таким образом, благодаря построению модели машинного обучения, удалось не только определить портрет \"ненедежного клиента\", но и подсчитать потенциальную прибыль, которую отель может получить от ее внедрения: за 1 календарный год модель способна принести отелю дополнительно  9 300 096 рублей, с учетом стоимости на ее внедрение."
   ]
  },
  {
   "cell_type": "markdown",
   "metadata": {},
   "source": [
    "### Полезные ссылки"
   ]
  },
  {
   "cell_type": "markdown",
   "metadata": {},
   "source": [
    "[How to get the number of Days in a Specific Month between Two Dates in Python](https://stackoverflow.com/questions/45816497/how-to-get-the-number-of-days-in-a-specific-month-between-two-dates-in-python)  \n",
    "[Which hyperparameter should be tuned in the XGBoost model to improve performance?](https://www.quora.com/Which-hyperparameter-should-be-tuned-in-the-XGBoost-model-to-improve-performance)  \n",
    "[Complete Guide to Parameter Tuning in XGBoost with codes in Python](https://www.analyticsvidhya.com/blog/2016/03/complete-guide-parameter-tuning-xgboost-with-codes-python/)  \n",
    "[Best way to find the months between two dates](https://stackoverflow.com/questions/4039879/best-way-to-find-the-months-between-two-dates)  \n",
    "[How to get the number of Days in a Specific Month between Two Dates in Python](https://stackoverflow.com/questions/45816497/how-to-get-the-number-of-days-in-a-specific-month-between-two-dates-in-python)  \n",
    "[How to convert columns into one datetime column in pandas?](https://stackoverflow.com/questions/19350806/how-to-convert-columns-into-one-datetime-column-in-pandas)  \n",
    "[Pandas Dataframes: Apply Examples](https://queirozf.com/entries/pandas-dataframes-apply-examples)  \n",
    "[Convert integer series to timedelta in pandas](https://stackoverflow.com/questions/34519536/convert-integer-series-to-timedelta-in-pandas)  \n",
    "[Найти максимальное значение словаря python](https://ru.stackoverflow.com/questions/759476/%D0%BD%D0%B0%D0%B9%D1%82%D0%B8-%D0%BC%D0%B0%D0%BA%D1%81%D0%B8%D0%BC%D0%B0%D0%BB%D1%8C%D0%BD%D0%BE%D0%B5-%D0%B7%D0%BD%D0%B0%D1%87%D0%B5%D0%BD%D0%B8%D0%B5-%D1%81%D0%BB%D0%BE%D0%B2%D0%B0%D1%80%D1%8F-python)  \n",
    "\n",
    "\n",
    "\n",
    " \n",
    "\n",
    "  \n",
    "  \n",
    "  \n",
    "  \n",
    "  \n"
   ]
  }
 ],
 "metadata": {
  "ExecuteTimeLog": [
   {
    "duration": 562,
    "start_time": "2022-01-01T19:03:03.542Z"
   },
   {
    "duration": 1583,
    "start_time": "2022-01-01T19:06:11.545Z"
   },
   {
    "duration": 204,
    "start_time": "2022-01-01T19:06:24.992Z"
   },
   {
    "duration": 24,
    "start_time": "2022-01-01T19:21:52.463Z"
   },
   {
    "duration": 18,
    "start_time": "2022-01-01T19:22:02.744Z"
   },
   {
    "duration": 18,
    "start_time": "2022-01-01T19:52:20.934Z"
   },
   {
    "duration": 387,
    "start_time": "2022-01-01T19:53:02.045Z"
   },
   {
    "duration": 345,
    "start_time": "2022-01-01T20:01:57.996Z"
   },
   {
    "duration": 3,
    "start_time": "2022-01-01T20:02:34.210Z"
   },
   {
    "duration": 16,
    "start_time": "2022-01-01T20:05:25.119Z"
   },
   {
    "duration": 15,
    "start_time": "2022-01-01T20:05:26.990Z"
   },
   {
    "duration": 26,
    "start_time": "2022-01-01T20:13:46.068Z"
   },
   {
    "duration": 112,
    "start_time": "2022-01-01T20:13:55.589Z"
   },
   {
    "duration": 32,
    "start_time": "2022-01-01T20:13:59.599Z"
   },
   {
    "duration": 44,
    "start_time": "2022-01-01T20:14:47.588Z"
   },
   {
    "duration": 31,
    "start_time": "2022-01-01T20:15:16.239Z"
   },
   {
    "duration": 28,
    "start_time": "2022-01-01T20:16:53.248Z"
   },
   {
    "duration": 27,
    "start_time": "2022-01-01T20:17:02.586Z"
   },
   {
    "duration": 213,
    "start_time": "2022-01-01T20:19:01.043Z"
   },
   {
    "duration": 16,
    "start_time": "2022-01-01T20:19:01.405Z"
   },
   {
    "duration": 16,
    "start_time": "2022-01-01T20:19:02.864Z"
   },
   {
    "duration": 32,
    "start_time": "2022-01-01T20:19:03.604Z"
   },
   {
    "duration": 26,
    "start_time": "2022-01-01T20:19:05.361Z"
   },
   {
    "duration": 42,
    "start_time": "2022-01-01T20:44:03.112Z"
   },
   {
    "duration": 15,
    "start_time": "2022-01-01T20:44:35.245Z"
   },
   {
    "duration": 49,
    "start_time": "2022-01-01T20:45:47.162Z"
   },
   {
    "duration": 47,
    "start_time": "2022-01-01T20:46:11.807Z"
   },
   {
    "duration": 51,
    "start_time": "2022-01-01T20:46:39.010Z"
   },
   {
    "duration": 24,
    "start_time": "2022-01-01T20:47:11.386Z"
   },
   {
    "duration": 48,
    "start_time": "2022-01-01T20:47:21.678Z"
   },
   {
    "duration": 14,
    "start_time": "2022-01-01T20:47:28.990Z"
   },
   {
    "duration": 47,
    "start_time": "2022-01-01T20:48:04.460Z"
   },
   {
    "duration": 39,
    "start_time": "2022-01-01T20:48:08.185Z"
   },
   {
    "duration": 65,
    "start_time": "2022-01-01T20:48:45.985Z"
   },
   {
    "duration": 23,
    "start_time": "2022-01-01T20:50:23.522Z"
   },
   {
    "duration": 20,
    "start_time": "2022-01-01T20:50:45.576Z"
   },
   {
    "duration": 117,
    "start_time": "2022-01-01T21:00:37.933Z"
   },
   {
    "duration": 3,
    "start_time": "2022-01-01T21:00:44.875Z"
   },
   {
    "duration": 429,
    "start_time": "2022-01-01T21:01:50.377Z"
   },
   {
    "duration": 174127,
    "start_time": "2022-01-01T21:03:16.888Z"
   },
   {
    "duration": 1237,
    "start_time": "2022-01-01T21:07:12.401Z"
   },
   {
    "duration": 1594,
    "start_time": "2022-01-01T21:07:17.311Z"
   },
   {
    "duration": 1595,
    "start_time": "2022-01-01T21:09:17.399Z"
   },
   {
    "duration": 1268,
    "start_time": "2022-01-01T21:09:24.246Z"
   },
   {
    "duration": 1628,
    "start_time": "2022-01-01T21:09:33.107Z"
   },
   {
    "duration": 1247,
    "start_time": "2022-01-01T21:09:37.907Z"
   },
   {
    "duration": 1243,
    "start_time": "2022-01-01T21:10:03.884Z"
   },
   {
    "duration": 1471,
    "start_time": "2022-01-01T21:10:50.791Z"
   },
   {
    "duration": 1523,
    "start_time": "2022-01-01T21:10:57.280Z"
   },
   {
    "duration": 49,
    "start_time": "2022-01-01T21:12:01.534Z"
   },
   {
    "duration": 56,
    "start_time": "2022-01-01T21:12:42.647Z"
   },
   {
    "duration": 56,
    "start_time": "2022-01-01T21:13:00.636Z"
   },
   {
    "duration": 58,
    "start_time": "2022-01-01T21:14:21.314Z"
   },
   {
    "duration": 363,
    "start_time": "2022-01-01T21:16:15.408Z"
   },
   {
    "duration": 363,
    "start_time": "2022-01-01T21:16:21.633Z"
   },
   {
    "duration": 9,
    "start_time": "2022-01-01T21:16:29.571Z"
   },
   {
    "duration": 351,
    "start_time": "2022-01-01T21:16:41.884Z"
   },
   {
    "duration": 334,
    "start_time": "2022-01-01T21:16:44.456Z"
   },
   {
    "duration": 324,
    "start_time": "2022-01-01T21:16:50.366Z"
   },
   {
    "duration": 8,
    "start_time": "2022-01-01T21:17:25.548Z"
   },
   {
    "duration": 11,
    "start_time": "2022-01-01T21:17:35.614Z"
   },
   {
    "duration": 359,
    "start_time": "2022-01-01T21:18:46.104Z"
   },
   {
    "duration": 325,
    "start_time": "2022-01-01T21:18:58.299Z"
   },
   {
    "duration": 6,
    "start_time": "2022-01-01T21:19:16.756Z"
   },
   {
    "duration": 10,
    "start_time": "2022-01-01T21:19:40.082Z"
   },
   {
    "duration": 991,
    "start_time": "2022-01-01T21:20:04.812Z"
   },
   {
    "duration": 10,
    "start_time": "2022-01-01T21:20:10.812Z"
   },
   {
    "duration": 2071,
    "start_time": "2022-01-07T10:35:57.646Z"
   },
   {
    "duration": 615,
    "start_time": "2022-01-07T10:35:59.721Z"
   },
   {
    "duration": 38,
    "start_time": "2022-01-07T10:36:00.340Z"
   },
   {
    "duration": 45,
    "start_time": "2022-01-07T10:36:00.382Z"
   },
   {
    "duration": 83,
    "start_time": "2022-01-07T10:36:00.431Z"
   },
   {
    "duration": 69,
    "start_time": "2022-01-07T10:36:00.516Z"
   },
   {
    "duration": 142,
    "start_time": "2022-01-07T10:36:00.588Z"
   },
   {
    "duration": 5,
    "start_time": "2022-01-07T10:36:00.733Z"
   },
   {
    "duration": 3206,
    "start_time": "2022-01-07T10:36:00.741Z"
   },
   {
    "duration": 98,
    "start_time": "2022-01-07T10:36:03.950Z"
   },
   {
    "duration": 19,
    "start_time": "2022-01-07T10:36:04.063Z"
   },
   {
    "duration": 15,
    "start_time": "2022-01-07T10:36:04.085Z"
   },
   {
    "duration": 574,
    "start_time": "2022-01-07T10:40:39.541Z"
   },
   {
    "duration": 698,
    "start_time": "2022-01-07T10:40:49.215Z"
   },
   {
    "duration": 11,
    "start_time": "2022-01-07T10:40:53.360Z"
   },
   {
    "duration": 17,
    "start_time": "2022-01-07T10:41:27.990Z"
   },
   {
    "duration": 106,
    "start_time": "2022-01-07T10:45:30.833Z"
   },
   {
    "duration": 23,
    "start_time": "2022-01-07T10:47:07.853Z"
   },
   {
    "duration": 314,
    "start_time": "2022-01-07T10:47:46.645Z"
   },
   {
    "duration": 26,
    "start_time": "2022-01-07T10:47:51.322Z"
   },
   {
    "duration": 46,
    "start_time": "2022-01-07T10:48:04.100Z"
   },
   {
    "duration": 889,
    "start_time": "2022-01-07T10:50:15.122Z"
   },
   {
    "duration": 92,
    "start_time": "2022-01-07T10:51:30.278Z"
   },
   {
    "duration": 149,
    "start_time": "2022-01-07T10:52:21.194Z"
   },
   {
    "duration": 149,
    "start_time": "2022-01-07T10:52:26.657Z"
   },
   {
    "duration": 61,
    "start_time": "2022-01-07T10:53:22.228Z"
   },
   {
    "duration": 21,
    "start_time": "2022-01-07T11:04:26.490Z"
   },
   {
    "duration": 306,
    "start_time": "2022-01-07T11:06:33.301Z"
   },
   {
    "duration": 115,
    "start_time": "2022-01-07T11:07:04.070Z"
   },
   {
    "duration": 105,
    "start_time": "2022-01-07T11:07:08.375Z"
   },
   {
    "duration": 12070,
    "start_time": "2022-01-07T11:07:12.986Z"
   },
   {
    "duration": 480,
    "start_time": "2022-01-07T11:07:38.303Z"
   },
   {
    "duration": 9670,
    "start_time": "2022-01-07T11:08:40.569Z"
   },
   {
    "duration": 307,
    "start_time": "2022-01-07T11:08:55.584Z"
   },
   {
    "duration": 316,
    "start_time": "2022-01-07T11:09:13.679Z"
   },
   {
    "duration": 584,
    "start_time": "2022-01-07T11:19:04.543Z"
   },
   {
    "duration": 309,
    "start_time": "2022-01-07T11:19:13.380Z"
   },
   {
    "duration": 6179,
    "start_time": "2022-01-07T11:21:23.218Z"
   },
   {
    "duration": 6508,
    "start_time": "2022-01-07T11:21:54.784Z"
   },
   {
    "duration": 26,
    "start_time": "2022-01-07T11:28:43.985Z"
   },
   {
    "duration": 681,
    "start_time": "2022-01-07T11:29:01.292Z"
   },
   {
    "duration": 283,
    "start_time": "2022-01-07T11:29:08.460Z"
   },
   {
    "duration": 404,
    "start_time": "2022-01-07T11:29:12.376Z"
   },
   {
    "duration": 252,
    "start_time": "2022-01-07T11:29:15.047Z"
   },
   {
    "duration": 658,
    "start_time": "2022-01-07T11:45:32.784Z"
   },
   {
    "duration": 401,
    "start_time": "2022-01-07T11:46:03.001Z"
   },
   {
    "duration": 248,
    "start_time": "2022-01-07T11:46:05.750Z"
   },
   {
    "duration": 406,
    "start_time": "2022-01-07T11:56:38.104Z"
   },
   {
    "duration": 405,
    "start_time": "2022-01-07T11:56:56.909Z"
   },
   {
    "duration": 504,
    "start_time": "2022-01-07T11:57:11.105Z"
   },
   {
    "duration": 522,
    "start_time": "2022-01-07T11:57:20.436Z"
   },
   {
    "duration": 495,
    "start_time": "2022-01-07T11:57:36.616Z"
   },
   {
    "duration": 6246,
    "start_time": "2022-01-07T11:58:38.117Z"
   },
   {
    "duration": 6673,
    "start_time": "2022-01-07T11:59:22.067Z"
   },
   {
    "duration": 2581,
    "start_time": "2022-01-07T12:00:55.574Z"
   },
   {
    "duration": 2584,
    "start_time": "2022-01-07T12:01:55.048Z"
   },
   {
    "duration": 3140,
    "start_time": "2022-01-07T12:03:08.640Z"
   },
   {
    "duration": 2909,
    "start_time": "2022-01-07T12:03:22.997Z"
   },
   {
    "duration": 236,
    "start_time": "2022-01-07T12:09:25.920Z"
   },
   {
    "duration": 528,
    "start_time": "2022-01-07T12:09:39.100Z"
   },
   {
    "duration": 479,
    "start_time": "2022-01-07T12:09:49.879Z"
   },
   {
    "duration": 456,
    "start_time": "2022-01-07T12:10:10.575Z"
   },
   {
    "duration": 1483,
    "start_time": "2022-01-07T16:23:47.914Z"
   },
   {
    "duration": 271,
    "start_time": "2022-01-07T16:23:49.400Z"
   },
   {
    "duration": 33,
    "start_time": "2022-01-07T16:23:49.674Z"
   },
   {
    "duration": 26,
    "start_time": "2022-01-07T16:23:49.717Z"
   },
   {
    "duration": 74,
    "start_time": "2022-01-07T16:23:49.746Z"
   },
   {
    "duration": 43,
    "start_time": "2022-01-07T16:23:49.822Z"
   },
   {
    "duration": 133,
    "start_time": "2022-01-07T16:23:49.867Z"
   },
   {
    "duration": 4,
    "start_time": "2022-01-07T16:23:50.004Z"
   },
   {
    "duration": 3040,
    "start_time": "2022-01-07T16:23:50.019Z"
   },
   {
    "duration": 107,
    "start_time": "2022-01-07T16:23:53.061Z"
   },
   {
    "duration": 420,
    "start_time": "2022-01-07T16:23:53.170Z"
   },
   {
    "duration": 25,
    "start_time": "2022-01-07T16:23:53.593Z"
   },
   {
    "duration": 44,
    "start_time": "2022-01-07T16:23:53.621Z"
   },
   {
    "duration": 2456,
    "start_time": "2022-01-07T16:23:53.668Z"
   },
   {
    "duration": 2492,
    "start_time": "2022-01-07T16:25:27.987Z"
   },
   {
    "duration": 2079,
    "start_time": "2022-01-07T16:25:36.670Z"
   },
   {
    "duration": 2346,
    "start_time": "2022-01-07T16:25:41.208Z"
   },
   {
    "duration": 2234,
    "start_time": "2022-01-07T16:25:45.364Z"
   },
   {
    "duration": 2485,
    "start_time": "2022-01-07T16:25:53.724Z"
   },
   {
    "duration": 2264,
    "start_time": "2022-01-07T16:25:57.956Z"
   },
   {
    "duration": 2740,
    "start_time": "2022-01-07T16:26:09.843Z"
   },
   {
    "duration": 2367,
    "start_time": "2022-01-07T16:26:20.864Z"
   },
   {
    "duration": 23,
    "start_time": "2022-01-07T16:27:41.799Z"
   },
   {
    "duration": 25,
    "start_time": "2022-01-07T16:29:15.104Z"
   },
   {
    "duration": 20,
    "start_time": "2022-01-07T16:30:39.542Z"
   },
   {
    "duration": 473,
    "start_time": "2022-01-07T16:32:12.501Z"
   },
   {
    "duration": 25,
    "start_time": "2022-01-07T16:32:17.892Z"
   },
   {
    "duration": 202,
    "start_time": "2022-01-07T16:33:06.606Z"
   },
   {
    "duration": 1910,
    "start_time": "2022-01-07T16:34:36.795Z"
   },
   {
    "duration": 1912,
    "start_time": "2022-01-07T16:35:37.194Z"
   },
   {
    "duration": 2093,
    "start_time": "2022-01-07T16:35:48.497Z"
   },
   {
    "duration": 2041,
    "start_time": "2022-01-07T16:35:54.037Z"
   },
   {
    "duration": 372,
    "start_time": "2022-01-07T17:04:09.218Z"
   },
   {
    "duration": 881,
    "start_time": "2022-01-07T17:04:14.414Z"
   },
   {
    "duration": 781,
    "start_time": "2022-01-07T17:04:18.828Z"
   },
   {
    "duration": 741,
    "start_time": "2022-01-07T17:04:33.655Z"
   },
   {
    "duration": 690,
    "start_time": "2022-01-07T17:04:56.210Z"
   },
   {
    "duration": 797,
    "start_time": "2022-01-07T17:05:33.060Z"
   },
   {
    "duration": 788,
    "start_time": "2022-01-07T17:05:40.289Z"
   },
   {
    "duration": 3892,
    "start_time": "2022-01-07T17:05:42.175Z"
   },
   {
    "duration": 829,
    "start_time": "2022-01-07T17:06:02.696Z"
   },
   {
    "duration": 3279,
    "start_time": "2022-01-07T17:06:08.307Z"
   },
   {
    "duration": 3013,
    "start_time": "2022-01-07T17:06:26.137Z"
   },
   {
    "duration": 2877,
    "start_time": "2022-01-07T17:07:11.481Z"
   },
   {
    "duration": 3339,
    "start_time": "2022-01-07T17:07:20.034Z"
   },
   {
    "duration": 99,
    "start_time": "2022-01-07T17:31:17.531Z"
   },
   {
    "duration": 107,
    "start_time": "2022-01-07T17:31:21.783Z"
   },
   {
    "duration": 3001,
    "start_time": "2022-01-07T17:34:49.562Z"
   },
   {
    "duration": 2976,
    "start_time": "2022-01-07T17:35:03.132Z"
   },
   {
    "duration": 291291,
    "start_time": "2022-01-07T17:37:12.837Z"
   },
   {
    "duration": 287243,
    "start_time": "2022-01-07T17:44:07.085Z"
   },
   {
    "duration": 32,
    "start_time": "2022-01-07T17:49:36.973Z"
   },
   {
    "duration": 7748,
    "start_time": "2022-01-07T17:51:55.427Z"
   },
   {
    "duration": 390,
    "start_time": "2022-01-07T17:52:31.176Z"
   },
   {
    "duration": 359,
    "start_time": "2022-01-07T17:52:39.209Z"
   },
   {
    "duration": 382,
    "start_time": "2022-01-07T17:52:46.355Z"
   },
   {
    "duration": 359,
    "start_time": "2022-01-07T17:53:02.427Z"
   },
   {
    "duration": 5,
    "start_time": "2022-01-07T17:56:51.781Z"
   },
   {
    "duration": 3,
    "start_time": "2022-01-07T17:57:04.220Z"
   },
   {
    "duration": 2398,
    "start_time": "2022-01-07T17:58:27.145Z"
   },
   {
    "duration": 289,
    "start_time": "2022-01-07T17:59:46.468Z"
   },
   {
    "duration": 4660,
    "start_time": "2022-01-07T18:01:54.074Z"
   },
   {
    "duration": 3016,
    "start_time": "2022-01-07T18:02:23.848Z"
   },
   {
    "duration": 5,
    "start_time": "2022-01-07T18:26:25.314Z"
   },
   {
    "duration": 46,
    "start_time": "2022-01-07T18:26:26.034Z"
   },
   {
    "duration": 1424,
    "start_time": "2022-01-07T18:26:28.118Z"
   },
   {
    "duration": 1097,
    "start_time": "2022-01-07T18:26:39.532Z"
   },
   {
    "duration": 16,
    "start_time": "2022-01-07T18:26:54.166Z"
   },
   {
    "duration": 43,
    "start_time": "2022-01-07T18:58:13.874Z"
   },
   {
    "duration": 26,
    "start_time": "2022-01-07T18:58:41.392Z"
   },
   {
    "duration": 28,
    "start_time": "2022-01-07T19:21:12.039Z"
   },
   {
    "duration": 45,
    "start_time": "2022-01-07T19:21:18.780Z"
   },
   {
    "duration": 54,
    "start_time": "2022-01-07T19:22:38.361Z"
   },
   {
    "duration": 47,
    "start_time": "2022-01-07T19:22:54.639Z"
   },
   {
    "duration": 45,
    "start_time": "2022-01-07T19:23:04.682Z"
   },
   {
    "duration": 44,
    "start_time": "2022-01-07T19:28:07.878Z"
   },
   {
    "duration": 45,
    "start_time": "2022-01-07T19:28:14.642Z"
   },
   {
    "duration": 7645,
    "start_time": "2022-01-07T19:28:46.751Z"
   },
   {
    "duration": 278,
    "start_time": "2022-01-07T19:28:56.244Z"
   },
   {
    "duration": 293,
    "start_time": "2022-01-07T19:28:58.593Z"
   },
   {
    "duration": 212,
    "start_time": "2022-01-07T19:29:02.506Z"
   },
   {
    "duration": 41,
    "start_time": "2022-01-07T19:29:06.090Z"
   },
   {
    "duration": 77,
    "start_time": "2022-01-07T19:30:03.779Z"
   },
   {
    "duration": 45,
    "start_time": "2022-01-07T19:30:21.103Z"
   },
   {
    "duration": 320,
    "start_time": "2022-01-07T19:31:43.239Z"
   },
   {
    "duration": 77,
    "start_time": "2022-01-07T19:31:47.772Z"
   },
   {
    "duration": 74,
    "start_time": "2022-01-07T19:31:51.914Z"
   },
   {
    "duration": 76,
    "start_time": "2022-01-07T19:31:56.105Z"
   },
   {
    "duration": 120,
    "start_time": "2022-01-07T19:32:17.535Z"
   },
   {
    "duration": 122,
    "start_time": "2022-01-07T19:33:44.270Z"
   },
   {
    "duration": 119,
    "start_time": "2022-01-07T19:34:43.864Z"
   },
   {
    "duration": 92,
    "start_time": "2022-01-07T19:37:20.661Z"
   },
   {
    "duration": 7,
    "start_time": "2022-01-07T19:39:45.213Z"
   },
   {
    "duration": 308,
    "start_time": "2022-01-07T19:39:58.334Z"
   },
   {
    "duration": 10,
    "start_time": "2022-01-07T19:40:02.676Z"
   },
   {
    "duration": 287,
    "start_time": "2022-01-07T19:40:07.542Z"
   },
   {
    "duration": 52,
    "start_time": "2022-01-07T19:40:53.785Z"
   },
   {
    "duration": 9,
    "start_time": "2022-01-07T19:41:06.293Z"
   },
   {
    "duration": 9,
    "start_time": "2022-01-07T19:41:19.124Z"
   },
   {
    "duration": 86,
    "start_time": "2022-01-07T19:41:27.679Z"
   },
   {
    "duration": 103,
    "start_time": "2022-01-07T19:41:41.967Z"
   },
   {
    "duration": 1130,
    "start_time": "2022-01-08T16:08:27.969Z"
   },
   {
    "duration": 232,
    "start_time": "2022-01-08T16:08:29.101Z"
   },
   {
    "duration": 27,
    "start_time": "2022-01-08T16:08:29.335Z"
   },
   {
    "duration": 18,
    "start_time": "2022-01-08T16:08:29.363Z"
   },
   {
    "duration": 58,
    "start_time": "2022-01-08T16:08:29.383Z"
   },
   {
    "duration": 29,
    "start_time": "2022-01-08T16:08:29.442Z"
   },
   {
    "duration": 107,
    "start_time": "2022-01-08T16:08:29.473Z"
   },
   {
    "duration": 90,
    "start_time": "2022-01-08T16:08:29.583Z"
   },
   {
    "duration": 103,
    "start_time": "2022-01-08T16:08:29.676Z"
   },
   {
    "duration": 371,
    "start_time": "2022-01-08T16:08:29.781Z"
   },
   {
    "duration": -2368,
    "start_time": "2022-01-08T16:08:32.522Z"
   },
   {
    "duration": -2377,
    "start_time": "2022-01-08T16:08:32.533Z"
   },
   {
    "duration": -2377,
    "start_time": "2022-01-08T16:08:32.534Z"
   },
   {
    "duration": -2380,
    "start_time": "2022-01-08T16:08:32.538Z"
   },
   {
    "duration": -2383,
    "start_time": "2022-01-08T16:08:32.542Z"
   },
   {
    "duration": -2391,
    "start_time": "2022-01-08T16:08:32.551Z"
   },
   {
    "duration": -2392,
    "start_time": "2022-01-08T16:08:32.553Z"
   },
   {
    "duration": -2396,
    "start_time": "2022-01-08T16:08:32.558Z"
   },
   {
    "duration": -2401,
    "start_time": "2022-01-08T16:08:32.564Z"
   },
   {
    "duration": -2403,
    "start_time": "2022-01-08T16:08:32.568Z"
   },
   {
    "duration": -2405,
    "start_time": "2022-01-08T16:08:32.571Z"
   },
   {
    "duration": -2406,
    "start_time": "2022-01-08T16:08:32.573Z"
   },
   {
    "duration": -2414,
    "start_time": "2022-01-08T16:08:32.582Z"
   },
   {
    "duration": -2416,
    "start_time": "2022-01-08T16:08:32.585Z"
   },
   {
    "duration": -2416,
    "start_time": "2022-01-08T16:08:32.587Z"
   },
   {
    "duration": -2420,
    "start_time": "2022-01-08T16:08:32.592Z"
   },
   {
    "duration": 5910,
    "start_time": "2022-01-08T16:09:12.860Z"
   },
   {
    "duration": 15,
    "start_time": "2022-01-08T16:09:26.193Z"
   },
   {
    "duration": 14,
    "start_time": "2022-01-08T16:09:28.647Z"
   },
   {
    "duration": 4,
    "start_time": "2022-01-08T16:09:28.879Z"
   },
   {
    "duration": 37,
    "start_time": "2022-01-08T16:09:29.167Z"
   },
   {
    "duration": 896,
    "start_time": "2022-01-08T16:09:29.311Z"
   },
   {
    "duration": 865,
    "start_time": "2022-01-08T16:09:30.209Z"
   },
   {
    "duration": 72,
    "start_time": "2022-01-08T16:09:31.076Z"
   },
   {
    "duration": 285,
    "start_time": "2022-01-08T16:09:31.150Z"
   },
   {
    "duration": 12,
    "start_time": "2022-01-08T16:09:31.436Z"
   },
   {
    "duration": 38,
    "start_time": "2022-01-08T16:09:31.664Z"
   },
   {
    "duration": 36,
    "start_time": "2022-01-08T16:09:32.064Z"
   },
   {
    "duration": 56,
    "start_time": "2022-01-08T16:09:32.671Z"
   },
   {
    "duration": 45,
    "start_time": "2022-01-08T16:09:34.153Z"
   },
   {
    "duration": 1597,
    "start_time": "2022-01-08T16:09:35.232Z"
   },
   {
    "duration": 1254,
    "start_time": "2022-01-08T16:09:36.831Z"
   },
   {
    "duration": 1733,
    "start_time": "2022-01-08T16:09:38.087Z"
   },
   {
    "duration": 18,
    "start_time": "2022-01-08T16:09:48.119Z"
   },
   {
    "duration": 89,
    "start_time": "2022-01-08T16:09:48.854Z"
   },
   {
    "duration": 4,
    "start_time": "2022-01-08T16:10:05.686Z"
   },
   {
    "duration": 32,
    "start_time": "2022-01-08T16:11:57.414Z"
   },
   {
    "duration": 95,
    "start_time": "2022-01-08T16:14:26.285Z"
   },
   {
    "duration": 8,
    "start_time": "2022-01-08T16:20:42.422Z"
   },
   {
    "duration": 23,
    "start_time": "2022-01-08T16:21:48.852Z"
   },
   {
    "duration": 23,
    "start_time": "2022-01-08T16:23:04.764Z"
   },
   {
    "duration": 6,
    "start_time": "2022-01-08T16:29:58.517Z"
   },
   {
    "duration": 8,
    "start_time": "2022-01-08T16:30:07.027Z"
   },
   {
    "duration": 6,
    "start_time": "2022-01-08T16:30:30.697Z"
   },
   {
    "duration": 8,
    "start_time": "2022-01-08T16:31:40.686Z"
   },
   {
    "duration": 331,
    "start_time": "2022-01-08T16:31:46.384Z"
   },
   {
    "duration": 7,
    "start_time": "2022-01-08T16:31:50.764Z"
   },
   {
    "duration": 20,
    "start_time": "2022-01-08T16:34:02.201Z"
   },
   {
    "duration": 20,
    "start_time": "2022-01-08T16:34:10.925Z"
   },
   {
    "duration": 37,
    "start_time": "2022-01-08T16:34:40.963Z"
   },
   {
    "duration": 27,
    "start_time": "2022-01-08T16:35:14.297Z"
   },
   {
    "duration": 6,
    "start_time": "2022-01-08T16:35:36.210Z"
   },
   {
    "duration": 8,
    "start_time": "2022-01-08T16:35:50.290Z"
   },
   {
    "duration": 5,
    "start_time": "2022-01-08T16:35:56.398Z"
   },
   {
    "duration": 5,
    "start_time": "2022-01-08T16:36:00.781Z"
   },
   {
    "duration": 5,
    "start_time": "2022-01-08T16:36:04.853Z"
   },
   {
    "duration": -2463,
    "start_time": "2022-01-08T16:36:48.510Z"
   },
   {
    "duration": 6805,
    "start_time": "2022-01-08T16:36:49.099Z"
   },
   {
    "duration": 7132,
    "start_time": "2022-01-08T16:36:57.141Z"
   },
   {
    "duration": 5,
    "start_time": "2022-01-08T16:38:02.561Z"
   },
   {
    "duration": 5,
    "start_time": "2022-01-08T16:38:07.495Z"
   },
   {
    "duration": 307,
    "start_time": "2022-01-08T16:38:18.478Z"
   },
   {
    "duration": 14,
    "start_time": "2022-01-08T16:38:36.911Z"
   },
   {
    "duration": 25,
    "start_time": "2022-01-08T16:38:49.059Z"
   },
   {
    "duration": 19,
    "start_time": "2022-01-08T16:38:52.956Z"
   },
   {
    "duration": 249,
    "start_time": "2022-01-08T16:41:30.122Z"
   },
   {
    "duration": 234,
    "start_time": "2022-01-08T16:41:42.000Z"
   },
   {
    "duration": 308,
    "start_time": "2022-01-08T16:41:47.951Z"
   },
   {
    "duration": 248,
    "start_time": "2022-01-08T16:42:24.272Z"
   },
   {
    "duration": 3,
    "start_time": "2022-01-08T16:42:39.600Z"
   },
   {
    "duration": 238,
    "start_time": "2022-01-08T16:42:55.788Z"
   },
   {
    "duration": 7,
    "start_time": "2022-01-08T16:43:28.716Z"
   },
   {
    "duration": 8,
    "start_time": "2022-01-08T16:43:49.603Z"
   },
   {
    "duration": 9,
    "start_time": "2022-01-08T16:43:54.593Z"
   },
   {
    "duration": 8,
    "start_time": "2022-01-08T16:43:57.153Z"
   },
   {
    "duration": 78,
    "start_time": "2022-01-08T16:50:38.743Z"
   },
   {
    "duration": 86,
    "start_time": "2022-01-08T16:50:43.043Z"
   },
   {
    "duration": 261,
    "start_time": "2022-01-08T16:50:46.082Z"
   },
   {
    "duration": 14,
    "start_time": "2022-01-08T16:50:50.378Z"
   },
   {
    "duration": 15,
    "start_time": "2022-01-08T16:52:23.257Z"
   },
   {
    "duration": 12,
    "start_time": "2022-01-08T16:52:27.125Z"
   },
   {
    "duration": 15,
    "start_time": "2022-01-08T16:55:17.989Z"
   },
   {
    "duration": 1570,
    "start_time": "2022-01-09T08:22:00.986Z"
   },
   {
    "duration": 793,
    "start_time": "2022-01-09T08:22:02.558Z"
   },
   {
    "duration": 33,
    "start_time": "2022-01-09T08:22:03.354Z"
   },
   {
    "duration": 45,
    "start_time": "2022-01-09T08:22:03.390Z"
   },
   {
    "duration": 77,
    "start_time": "2022-01-09T08:22:03.438Z"
   },
   {
    "duration": 39,
    "start_time": "2022-01-09T08:22:03.518Z"
   },
   {
    "duration": 106,
    "start_time": "2022-01-09T08:22:03.560Z"
   },
   {
    "duration": 102,
    "start_time": "2022-01-09T08:22:03.670Z"
   },
   {
    "duration": 116,
    "start_time": "2022-01-09T08:22:03.775Z"
   },
   {
    "duration": 29,
    "start_time": "2022-01-09T08:22:03.894Z"
   },
   {
    "duration": 5,
    "start_time": "2022-01-09T08:22:03.926Z"
   },
   {
    "duration": 68,
    "start_time": "2022-01-09T08:22:03.933Z"
   },
   {
    "duration": 1341,
    "start_time": "2022-01-09T08:22:04.003Z"
   },
   {
    "duration": 1106,
    "start_time": "2022-01-09T08:22:05.346Z"
   },
   {
    "duration": 96,
    "start_time": "2022-01-09T08:22:06.454Z"
   },
   {
    "duration": 380,
    "start_time": "2022-01-09T08:22:06.553Z"
   },
   {
    "duration": 15,
    "start_time": "2022-01-09T08:22:06.935Z"
   },
   {
    "duration": 40,
    "start_time": "2022-01-09T08:22:06.953Z"
   },
   {
    "duration": 71,
    "start_time": "2022-01-09T08:22:06.996Z"
   },
   {
    "duration": 117,
    "start_time": "2022-01-09T08:22:07.069Z"
   },
   {
    "duration": 56,
    "start_time": "2022-01-09T08:22:07.188Z"
   },
   {
    "duration": 2211,
    "start_time": "2022-01-09T08:22:07.246Z"
   },
   {
    "duration": 1833,
    "start_time": "2022-01-09T08:22:09.461Z"
   },
   {
    "duration": 2442,
    "start_time": "2022-01-09T08:22:11.296Z"
   },
   {
    "duration": 5,
    "start_time": "2022-01-09T08:22:13.741Z"
   },
   {
    "duration": 154,
    "start_time": "2022-01-09T08:22:13.749Z"
   },
   {
    "duration": 33,
    "start_time": "2022-01-09T08:22:13.905Z"
   },
   {
    "duration": 28,
    "start_time": "2022-01-09T08:22:13.940Z"
   },
   {
    "duration": 8,
    "start_time": "2022-01-09T08:22:13.970Z"
   },
   {
    "duration": 7,
    "start_time": "2022-01-09T08:22:13.980Z"
   },
   {
    "duration": 20,
    "start_time": "2022-01-09T08:22:13.989Z"
   },
   {
    "duration": 19,
    "start_time": "2022-01-09T08:22:14.024Z"
   },
   {
    "duration": 42,
    "start_time": "2022-01-09T08:45:42.781Z"
   },
   {
    "duration": 5,
    "start_time": "2022-01-09T08:45:53.397Z"
   },
   {
    "duration": 263,
    "start_time": "2022-01-09T08:45:53.404Z"
   },
   {
    "duration": 28,
    "start_time": "2022-01-09T08:45:53.669Z"
   },
   {
    "duration": 42,
    "start_time": "2022-01-09T08:45:53.701Z"
   },
   {
    "duration": 52,
    "start_time": "2022-01-09T08:45:53.746Z"
   },
   {
    "duration": 41,
    "start_time": "2022-01-09T08:45:53.824Z"
   },
   {
    "duration": 118,
    "start_time": "2022-01-09T08:45:53.869Z"
   },
   {
    "duration": 102,
    "start_time": "2022-01-09T08:45:53.991Z"
   },
   {
    "duration": 63,
    "start_time": "2022-01-09T08:45:54.096Z"
   },
   {
    "duration": 44,
    "start_time": "2022-01-09T08:46:05.078Z"
   },
   {
    "duration": 4,
    "start_time": "2022-01-09T08:46:37.107Z"
   },
   {
    "duration": 249,
    "start_time": "2022-01-09T08:46:37.113Z"
   },
   {
    "duration": 28,
    "start_time": "2022-01-09T08:46:37.364Z"
   },
   {
    "duration": 46,
    "start_time": "2022-01-09T08:46:37.394Z"
   },
   {
    "duration": 49,
    "start_time": "2022-01-09T08:46:37.442Z"
   },
   {
    "duration": 60,
    "start_time": "2022-01-09T08:46:37.494Z"
   },
   {
    "duration": 97,
    "start_time": "2022-01-09T08:46:37.556Z"
   },
   {
    "duration": 96,
    "start_time": "2022-01-09T08:46:37.656Z"
   },
   {
    "duration": 42,
    "start_time": "2022-01-09T08:46:39.465Z"
   },
   {
    "duration": 41,
    "start_time": "2022-01-09T08:46:42.233Z"
   },
   {
    "duration": 4,
    "start_time": "2022-01-09T08:47:10.928Z"
   },
   {
    "duration": 229,
    "start_time": "2022-01-09T08:47:11.167Z"
   },
   {
    "duration": 35,
    "start_time": "2022-01-09T08:47:11.399Z"
   },
   {
    "duration": 27,
    "start_time": "2022-01-09T08:47:11.490Z"
   },
   {
    "duration": 54,
    "start_time": "2022-01-09T08:47:11.776Z"
   },
   {
    "duration": 40,
    "start_time": "2022-01-09T08:47:14.711Z"
   },
   {
    "duration": 82,
    "start_time": "2022-01-09T08:47:15.871Z"
   },
   {
    "duration": 83,
    "start_time": "2022-01-09T08:47:17.095Z"
   },
   {
    "duration": 43,
    "start_time": "2022-01-09T08:47:24.911Z"
   },
   {
    "duration": 1319,
    "start_time": "2022-01-09T08:51:34.968Z"
   },
   {
    "duration": 267,
    "start_time": "2022-01-09T08:51:36.290Z"
   },
   {
    "duration": 33,
    "start_time": "2022-01-09T08:51:36.561Z"
   },
   {
    "duration": 39,
    "start_time": "2022-01-09T08:51:36.597Z"
   },
   {
    "duration": 48,
    "start_time": "2022-01-09T08:51:36.639Z"
   },
   {
    "duration": 71,
    "start_time": "2022-01-09T08:51:36.689Z"
   },
   {
    "duration": 106,
    "start_time": "2022-01-09T08:51:36.763Z"
   },
   {
    "duration": 106,
    "start_time": "2022-01-09T08:51:36.872Z"
   },
   {
    "duration": 90,
    "start_time": "2022-01-09T08:51:40.746Z"
   },
   {
    "duration": 60,
    "start_time": "2022-01-09T08:53:21.811Z"
   },
   {
    "duration": 34,
    "start_time": "2022-01-09T08:53:33.318Z"
   },
   {
    "duration": 54,
    "start_time": "2022-01-09T08:53:38.330Z"
   },
   {
    "duration": 85,
    "start_time": "2022-01-09T08:54:21.632Z"
   },
   {
    "duration": 471,
    "start_time": "2022-01-09T09:00:55.025Z"
   },
   {
    "duration": 48,
    "start_time": "2022-01-09T09:01:09.441Z"
   },
   {
    "duration": 38,
    "start_time": "2022-01-09T09:02:06.967Z"
   },
   {
    "duration": 40,
    "start_time": "2022-01-09T09:02:59.396Z"
   },
   {
    "duration": 80,
    "start_time": "2022-01-09T09:05:14.622Z"
   },
   {
    "duration": 95,
    "start_time": "2022-01-09T09:06:25.660Z"
   },
   {
    "duration": 30,
    "start_time": "2022-01-09T09:06:32.913Z"
   },
   {
    "duration": 5,
    "start_time": "2022-01-09T09:07:02.732Z"
   },
   {
    "duration": 395,
    "start_time": "2022-01-09T09:07:02.740Z"
   },
   {
    "duration": 34,
    "start_time": "2022-01-09T09:07:03.138Z"
   },
   {
    "duration": 32,
    "start_time": "2022-01-09T09:07:03.176Z"
   },
   {
    "duration": 62,
    "start_time": "2022-01-09T09:07:03.223Z"
   },
   {
    "duration": 63,
    "start_time": "2022-01-09T09:07:03.288Z"
   },
   {
    "duration": 93,
    "start_time": "2022-01-09T09:07:03.355Z"
   },
   {
    "duration": 94,
    "start_time": "2022-01-09T09:07:03.451Z"
   },
   {
    "duration": 78,
    "start_time": "2022-01-09T09:07:03.547Z"
   },
   {
    "duration": 127,
    "start_time": "2022-01-09T09:07:03.629Z"
   },
   {
    "duration": 110,
    "start_time": "2022-01-09T09:07:03.759Z"
   },
   {
    "duration": 130,
    "start_time": "2022-01-09T09:07:03.872Z"
   },
   {
    "duration": 125,
    "start_time": "2022-01-09T09:07:04.006Z"
   },
   {
    "duration": 37,
    "start_time": "2022-01-09T09:07:04.134Z"
   },
   {
    "duration": 5,
    "start_time": "2022-01-09T09:07:04.174Z"
   },
   {
    "duration": 75,
    "start_time": "2022-01-09T09:07:04.181Z"
   },
   {
    "duration": 1567,
    "start_time": "2022-01-09T09:07:04.259Z"
   },
   {
    "duration": 1188,
    "start_time": "2022-01-09T09:07:05.829Z"
   },
   {
    "duration": 110,
    "start_time": "2022-01-09T09:07:07.021Z"
   },
   {
    "duration": 522,
    "start_time": "2022-01-09T09:07:07.134Z"
   },
   {
    "duration": 16,
    "start_time": "2022-01-09T09:07:07.658Z"
   },
   {
    "duration": 71,
    "start_time": "2022-01-09T09:07:07.677Z"
   },
   {
    "duration": 2801,
    "start_time": "2022-01-09T09:07:07.751Z"
   },
   {
    "duration": 2010,
    "start_time": "2022-01-09T09:07:10.554Z"
   },
   {
    "duration": 2259,
    "start_time": "2022-01-09T09:07:12.567Z"
   },
   {
    "duration": 5,
    "start_time": "2022-01-09T09:07:14.829Z"
   },
   {
    "duration": 157,
    "start_time": "2022-01-09T09:07:14.837Z"
   },
   {
    "duration": 43,
    "start_time": "2022-01-09T09:07:14.997Z"
   },
   {
    "duration": 26,
    "start_time": "2022-01-09T09:07:15.042Z"
   },
   {
    "duration": 8,
    "start_time": "2022-01-09T09:07:15.070Z"
   },
   {
    "duration": 42,
    "start_time": "2022-01-09T09:07:15.081Z"
   },
   {
    "duration": 22,
    "start_time": "2022-01-09T09:07:15.126Z"
   },
   {
    "duration": 21,
    "start_time": "2022-01-09T09:07:15.150Z"
   },
   {
    "duration": 7,
    "start_time": "2022-01-09T09:10:51.144Z"
   },
   {
    "duration": 299,
    "start_time": "2022-01-09T09:11:23.134Z"
   },
   {
    "duration": 9,
    "start_time": "2022-01-09T09:11:26.614Z"
   },
   {
    "duration": 10,
    "start_time": "2022-01-09T09:11:38.735Z"
   },
   {
    "duration": 1545,
    "start_time": "2022-01-10T10:37:42.667Z"
   },
   {
    "duration": 292,
    "start_time": "2022-01-10T10:37:44.215Z"
   },
   {
    "duration": 35,
    "start_time": "2022-01-10T10:37:44.510Z"
   },
   {
    "duration": 41,
    "start_time": "2022-01-10T10:37:44.548Z"
   },
   {
    "duration": 82,
    "start_time": "2022-01-10T10:37:44.591Z"
   },
   {
    "duration": 44,
    "start_time": "2022-01-10T10:37:44.675Z"
   },
   {
    "duration": 146,
    "start_time": "2022-01-10T10:37:44.722Z"
   },
   {
    "duration": 119,
    "start_time": "2022-01-10T10:37:44.874Z"
   },
   {
    "duration": 86,
    "start_time": "2022-01-10T10:37:44.996Z"
   },
   {
    "duration": 86,
    "start_time": "2022-01-10T10:37:45.085Z"
   },
   {
    "duration": 37,
    "start_time": "2022-01-10T10:37:45.173Z"
   },
   {
    "duration": 154,
    "start_time": "2022-01-10T10:37:45.212Z"
   },
   {
    "duration": 118,
    "start_time": "2022-01-10T10:37:45.369Z"
   },
   {
    "duration": 33,
    "start_time": "2022-01-10T10:37:45.490Z"
   },
   {
    "duration": 7,
    "start_time": "2022-01-10T10:37:45.526Z"
   },
   {
    "duration": 76,
    "start_time": "2022-01-10T10:37:45.536Z"
   },
   {
    "duration": 1676,
    "start_time": "2022-01-10T10:37:45.615Z"
   },
   {
    "duration": 1350,
    "start_time": "2022-01-10T10:37:47.295Z"
   },
   {
    "duration": 130,
    "start_time": "2022-01-10T10:37:48.648Z"
   },
   {
    "duration": 665,
    "start_time": "2022-01-10T10:37:48.780Z"
   },
   {
    "duration": 101,
    "start_time": "2022-01-10T10:37:49.448Z"
   },
   {
    "duration": 46,
    "start_time": "2022-01-10T10:37:49.552Z"
   },
   {
    "duration": 2604,
    "start_time": "2022-01-10T10:37:49.606Z"
   },
   {
    "duration": 2145,
    "start_time": "2022-01-10T10:37:52.212Z"
   },
   {
    "duration": 3026,
    "start_time": "2022-01-10T10:37:54.364Z"
   },
   {
    "duration": 6,
    "start_time": "2022-01-10T10:37:57.393Z"
   },
   {
    "duration": 292,
    "start_time": "2022-01-10T10:37:57.402Z"
   },
   {
    "duration": 67,
    "start_time": "2022-01-10T10:37:57.697Z"
   },
   {
    "duration": 34,
    "start_time": "2022-01-10T10:37:57.768Z"
   },
   {
    "duration": 12,
    "start_time": "2022-01-10T10:37:57.805Z"
   },
   {
    "duration": 48,
    "start_time": "2022-01-10T10:37:57.820Z"
   },
   {
    "duration": 39,
    "start_time": "2022-01-10T10:37:57.872Z"
   },
   {
    "duration": 61,
    "start_time": "2022-01-10T10:37:57.915Z"
   },
   {
    "duration": 11,
    "start_time": "2022-01-10T10:37:57.979Z"
   },
   {
    "duration": 6,
    "start_time": "2022-01-10T11:05:24.544Z"
   },
   {
    "duration": 14,
    "start_time": "2022-01-10T11:06:51.286Z"
   },
   {
    "duration": 48,
    "start_time": "2022-01-10T11:07:38.698Z"
   },
   {
    "duration": 25,
    "start_time": "2022-01-10T11:07:50.057Z"
   },
   {
    "duration": 51,
    "start_time": "2022-01-10T11:08:44.767Z"
   },
   {
    "duration": 29,
    "start_time": "2022-01-10T11:25:55.392Z"
   },
   {
    "duration": 14,
    "start_time": "2022-01-10T11:35:33.228Z"
   },
   {
    "duration": 6,
    "start_time": "2022-01-10T11:36:17.867Z"
   },
   {
    "duration": 11,
    "start_time": "2022-01-10T11:37:24.202Z"
   },
   {
    "duration": 5,
    "start_time": "2022-01-10T11:37:53.139Z"
   },
   {
    "duration": 66,
    "start_time": "2022-01-10T11:38:14.216Z"
   },
   {
    "duration": 495,
    "start_time": "2022-01-10T11:39:34.662Z"
   },
   {
    "duration": 61,
    "start_time": "2022-01-10T11:40:10.219Z"
   },
   {
    "duration": 4,
    "start_time": "2022-01-10T12:51:02.377Z"
   },
   {
    "duration": 573,
    "start_time": "2022-01-10T12:52:37.536Z"
   },
   {
    "duration": 4,
    "start_time": "2022-01-10T12:52:52.428Z"
   },
   {
    "duration": 5,
    "start_time": "2022-01-10T12:53:06.699Z"
   },
   {
    "duration": 435,
    "start_time": "2022-01-10T12:53:31.450Z"
   },
   {
    "duration": 4,
    "start_time": "2022-01-10T12:53:58.798Z"
   },
   {
    "duration": 323,
    "start_time": "2022-01-10T12:54:00.310Z"
   },
   {
    "duration": 5,
    "start_time": "2022-01-10T12:59:35.543Z"
   },
   {
    "duration": 511,
    "start_time": "2022-01-10T12:59:35.803Z"
   },
   {
    "duration": 4,
    "start_time": "2022-01-10T13:00:51.346Z"
   },
   {
    "duration": 352,
    "start_time": "2022-01-10T13:00:53.992Z"
   },
   {
    "duration": 4,
    "start_time": "2022-01-10T13:01:47.907Z"
   },
   {
    "duration": 191,
    "start_time": "2022-01-10T13:01:49.479Z"
   },
   {
    "duration": 4,
    "start_time": "2022-01-10T13:02:52.025Z"
   },
   {
    "duration": 5,
    "start_time": "2022-01-10T13:03:09.614Z"
   },
   {
    "duration": 4,
    "start_time": "2022-01-10T13:03:09.825Z"
   },
   {
    "duration": 190,
    "start_time": "2022-01-10T13:03:10.247Z"
   },
   {
    "duration": 4,
    "start_time": "2022-01-10T13:10:56.036Z"
   },
   {
    "duration": 4,
    "start_time": "2022-01-10T13:11:14.929Z"
   },
   {
    "duration": 4,
    "start_time": "2022-01-10T13:13:29.484Z"
   },
   {
    "duration": 181,
    "start_time": "2022-01-10T13:13:34.781Z"
   },
   {
    "duration": 5,
    "start_time": "2022-01-10T13:20:41.346Z"
   },
   {
    "duration": 6,
    "start_time": "2022-01-10T13:23:05.840Z"
   },
   {
    "duration": 1162,
    "start_time": "2022-01-10T13:26:00.279Z"
   },
   {
    "duration": 1195,
    "start_time": "2022-01-10T13:27:14.904Z"
   },
   {
    "duration": 406,
    "start_time": "2022-01-10T13:36:10.817Z"
   },
   {
    "duration": 342,
    "start_time": "2022-01-10T13:36:28.857Z"
   },
   {
    "duration": 298,
    "start_time": "2022-01-10T13:36:47.318Z"
   },
   {
    "duration": 521,
    "start_time": "2022-01-10T13:36:55.707Z"
   },
   {
    "duration": 1324,
    "start_time": "2022-01-10T13:37:43.470Z"
   },
   {
    "duration": 1273,
    "start_time": "2022-01-10T13:39:55.595Z"
   },
   {
    "duration": 1398,
    "start_time": "2022-01-10T13:46:57.880Z"
   },
   {
    "duration": 4175,
    "start_time": "2022-01-10T14:14:03.506Z"
   },
   {
    "duration": 4349,
    "start_time": "2022-01-10T14:14:49.332Z"
   },
   {
    "duration": 4,
    "start_time": "2022-01-10T14:15:35.567Z"
   },
   {
    "duration": 4054,
    "start_time": "2022-01-10T14:15:41.838Z"
   },
   {
    "duration": 31049,
    "start_time": "2022-01-10T14:17:32.060Z"
   },
   {
    "duration": 5,
    "start_time": "2022-01-10T14:22:20.593Z"
   },
   {
    "duration": 6,
    "start_time": "2022-01-10T14:22:30.310Z"
   },
   {
    "duration": 5,
    "start_time": "2022-01-10T14:28:32.362Z"
   },
   {
    "duration": 11445,
    "start_time": "2022-01-10T14:28:44.833Z"
   },
   {
    "duration": 5,
    "start_time": "2022-01-10T14:28:56.892Z"
   },
   {
    "duration": 6,
    "start_time": "2022-01-10T14:29:02.329Z"
   },
   {
    "duration": 4423,
    "start_time": "2022-01-10T14:29:47.313Z"
   },
   {
    "duration": 5,
    "start_time": "2022-01-10T14:29:51.740Z"
   },
   {
    "duration": 7,
    "start_time": "2022-01-10T14:29:57.788Z"
   },
   {
    "duration": 298,
    "start_time": "2022-01-10T14:30:08.192Z"
   },
   {
    "duration": 6,
    "start_time": "2022-01-10T14:32:23.355Z"
   },
   {
    "duration": 403,
    "start_time": "2022-01-10T14:42:19.612Z"
   },
   {
    "duration": 128785,
    "start_time": "2022-01-10T14:42:32.053Z"
   },
   {
    "duration": 9,
    "start_time": "2022-01-10T14:44:53.646Z"
   },
   {
    "duration": 9,
    "start_time": "2022-01-10T14:46:03.830Z"
   },
   {
    "duration": 125589,
    "start_time": "2022-01-10T14:46:32.556Z"
   },
   {
    "duration": 9,
    "start_time": "2022-01-10T14:48:40.612Z"
   },
   {
    "duration": 10,
    "start_time": "2022-01-10T14:49:01.834Z"
   },
   {
    "duration": 15,
    "start_time": "2022-01-10T14:49:05.761Z"
   },
   {
    "duration": 5,
    "start_time": "2022-01-10T14:49:13.736Z"
   },
   {
    "duration": 6,
    "start_time": "2022-01-10T14:53:09.910Z"
   },
   {
    "duration": 257061,
    "start_time": "2022-01-10T14:53:14.162Z"
   },
   {
    "duration": 10,
    "start_time": "2022-01-10T14:58:26.340Z"
   },
   {
    "duration": 6,
    "start_time": "2022-01-10T14:59:28.569Z"
   },
   {
    "duration": 4,
    "start_time": "2022-01-10T14:59:49.333Z"
   },
   {
    "duration": 3,
    "start_time": "2022-01-10T14:59:54.107Z"
   },
   {
    "duration": 6,
    "start_time": "2022-01-10T15:00:02.235Z"
   },
   {
    "duration": 6,
    "start_time": "2022-01-10T15:01:18.383Z"
   },
   {
    "duration": 28151,
    "start_time": "2022-01-10T15:01:18.843Z"
   },
   {
    "duration": -1096,
    "start_time": "2022-01-10T15:01:48.092Z"
   },
   {
    "duration": 5,
    "start_time": "2022-01-10T15:02:29.502Z"
   },
   {
    "duration": 7,
    "start_time": "2022-01-10T15:03:43.839Z"
   },
   {
    "duration": 258781,
    "start_time": "2022-01-10T15:03:50.084Z"
   },
   {
    "duration": 10,
    "start_time": "2022-01-10T15:08:08.868Z"
   },
   {
    "duration": 8,
    "start_time": "2022-01-10T15:08:44.214Z"
   },
   {
    "duration": 8,
    "start_time": "2022-01-10T15:08:50.979Z"
   },
   {
    "duration": 8,
    "start_time": "2022-01-10T15:09:00.400Z"
   },
   {
    "duration": 8,
    "start_time": "2022-01-10T15:09:03.170Z"
   },
   {
    "duration": 10,
    "start_time": "2022-01-10T15:09:05.476Z"
   },
   {
    "duration": 7,
    "start_time": "2022-01-10T15:09:11.384Z"
   },
   {
    "duration": 14,
    "start_time": "2022-01-10T15:09:15.128Z"
   },
   {
    "duration": 9,
    "start_time": "2022-01-10T15:09:32.922Z"
   },
   {
    "duration": 149,
    "start_time": "2022-01-10T15:09:40.147Z"
   },
   {
    "duration": 10,
    "start_time": "2022-01-10T15:09:43.756Z"
   },
   {
    "duration": 8,
    "start_time": "2022-01-10T15:09:49.375Z"
   },
   {
    "duration": 301,
    "start_time": "2022-01-10T15:10:08.112Z"
   },
   {
    "duration": 11,
    "start_time": "2022-01-10T15:10:10.073Z"
   },
   {
    "duration": 303,
    "start_time": "2022-01-10T15:10:12.376Z"
   },
   {
    "duration": 547,
    "start_time": "2022-01-10T15:10:19.277Z"
   },
   {
    "duration": 11,
    "start_time": "2022-01-10T15:10:24.449Z"
   },
   {
    "duration": 10,
    "start_time": "2022-01-10T15:10:33.947Z"
   },
   {
    "duration": 10,
    "start_time": "2022-01-10T15:10:41.829Z"
   },
   {
    "duration": 102,
    "start_time": "2022-01-10T15:55:37.622Z"
   },
   {
    "duration": 4,
    "start_time": "2022-01-10T15:55:58.567Z"
   },
   {
    "duration": 315,
    "start_time": "2022-01-10T15:56:28.895Z"
   },
   {
    "duration": 6,
    "start_time": "2022-01-10T15:57:12.767Z"
   },
   {
    "duration": 5,
    "start_time": "2022-01-10T15:57:38.960Z"
   },
   {
    "duration": 4,
    "start_time": "2022-01-10T15:57:39.812Z"
   },
   {
    "duration": 293,
    "start_time": "2022-01-10T15:58:41.229Z"
   },
   {
    "duration": 198,
    "start_time": "2022-01-10T15:58:49.296Z"
   },
   {
    "duration": 145,
    "start_time": "2022-01-10T15:59:14.087Z"
   },
   {
    "duration": 517,
    "start_time": "2022-01-10T16:00:16.910Z"
   },
   {
    "duration": 6,
    "start_time": "2022-01-10T16:00:49.322Z"
   },
   {
    "duration": 18839,
    "start_time": "2022-01-10T16:00:50.146Z"
   },
   {
    "duration": 550813,
    "start_time": "2022-01-10T16:01:10.450Z"
   },
   {
    "duration": 7,
    "start_time": "2022-01-10T16:10:58.482Z"
   },
   {
    "duration": 7,
    "start_time": "2022-01-10T16:11:13.547Z"
   },
   {
    "duration": 298,
    "start_time": "2022-01-10T16:12:05.320Z"
   },
   {
    "duration": 6,
    "start_time": "2022-01-10T16:12:16.604Z"
   },
   {
    "duration": 8,
    "start_time": "2022-01-10T16:12:20.379Z"
   },
   {
    "duration": 323,
    "start_time": "2022-01-10T16:12:27.415Z"
   },
   {
    "duration": 165,
    "start_time": "2022-01-10T16:12:45.007Z"
   },
   {
    "duration": 161,
    "start_time": "2022-01-10T16:12:54.704Z"
   },
   {
    "duration": 189,
    "start_time": "2022-01-10T16:13:14.177Z"
   },
   {
    "duration": 119,
    "start_time": "2022-01-10T16:13:26.300Z"
   },
   {
    "duration": 166,
    "start_time": "2022-01-10T16:13:34.116Z"
   },
   {
    "duration": 227,
    "start_time": "2022-01-10T16:17:36.136Z"
   },
   {
    "duration": 4,
    "start_time": "2022-01-10T16:19:16.313Z"
   },
   {
    "duration": 1687,
    "start_time": "2022-01-11T10:30:05.080Z"
   },
   {
    "duration": 255,
    "start_time": "2022-01-11T10:30:10.056Z"
   },
   {
    "duration": 33,
    "start_time": "2022-01-11T10:30:11.759Z"
   },
   {
    "duration": 28,
    "start_time": "2022-01-11T10:30:12.004Z"
   },
   {
    "duration": 55,
    "start_time": "2022-01-11T10:30:16.619Z"
   },
   {
    "duration": 41,
    "start_time": "2022-01-11T10:30:24.378Z"
   },
   {
    "duration": 114,
    "start_time": "2022-01-11T10:30:39.593Z"
   },
   {
    "duration": 87,
    "start_time": "2022-01-11T10:31:27.600Z"
   },
   {
    "duration": 63,
    "start_time": "2022-01-11T10:31:35.077Z"
   },
   {
    "duration": 55,
    "start_time": "2022-01-11T10:32:10.366Z"
   },
   {
    "duration": 42,
    "start_time": "2022-01-11T10:32:20.364Z"
   },
   {
    "duration": 84,
    "start_time": "2022-01-11T10:32:25.479Z"
   },
   {
    "duration": 101,
    "start_time": "2022-01-11T10:32:28.822Z"
   },
   {
    "duration": 31,
    "start_time": "2022-01-11T10:32:44.204Z"
   },
   {
    "duration": 6,
    "start_time": "2022-01-11T10:33:00.512Z"
   },
   {
    "duration": 48,
    "start_time": "2022-01-11T10:33:11.394Z"
   },
   {
    "duration": 1438,
    "start_time": "2022-01-11T10:33:11.974Z"
   },
   {
    "duration": 4019,
    "start_time": "2022-01-11T10:33:35.067Z"
   },
   {
    "duration": 1575,
    "start_time": "2022-01-11T10:33:58.113Z"
   },
   {
    "duration": 7556,
    "start_time": "2022-01-11T10:36:00.510Z"
   },
   {
    "duration": 2154,
    "start_time": "2022-01-11T10:36:27.735Z"
   },
   {
    "duration": 377,
    "start_time": "2022-01-11T10:36:54.739Z"
   },
   {
    "duration": 24,
    "start_time": "2022-01-11T10:37:25.388Z"
   },
   {
    "duration": 46,
    "start_time": "2022-01-11T10:39:34.888Z"
   },
   {
    "duration": 25,
    "start_time": "2022-01-11T10:39:51.132Z"
   },
   {
    "duration": 592,
    "start_time": "2022-01-11T10:40:01.064Z"
   },
   {
    "duration": 412,
    "start_time": "2022-01-11T10:40:24.146Z"
   },
   {
    "duration": 40,
    "start_time": "2022-01-11T10:42:16.485Z"
   },
   {
    "duration": 29,
    "start_time": "2022-01-11T10:46:05.009Z"
   },
   {
    "duration": 84,
    "start_time": "2022-01-11T10:48:38.749Z"
   },
   {
    "duration": 31,
    "start_time": "2022-01-11T10:49:06.105Z"
   },
   {
    "duration": 30,
    "start_time": "2022-01-11T10:49:09.243Z"
   },
   {
    "duration": 32,
    "start_time": "2022-01-11T10:51:40.939Z"
   },
   {
    "duration": 414,
    "start_time": "2022-01-11T10:51:52.087Z"
   },
   {
    "duration": 32,
    "start_time": "2022-01-11T10:52:14.089Z"
   },
   {
    "duration": 24,
    "start_time": "2022-01-11T11:06:16.570Z"
   },
   {
    "duration": 22,
    "start_time": "2022-01-11T11:06:20.459Z"
   },
   {
    "duration": 36,
    "start_time": "2022-01-11T11:07:27.721Z"
   },
   {
    "duration": 38,
    "start_time": "2022-01-11T11:07:58.487Z"
   },
   {
    "duration": 28,
    "start_time": "2022-01-11T11:08:09.033Z"
   },
   {
    "duration": 34,
    "start_time": "2022-01-11T11:08:11.298Z"
   },
   {
    "duration": 380,
    "start_time": "2022-01-11T11:08:39.977Z"
   },
   {
    "duration": 356,
    "start_time": "2022-01-11T11:08:47.578Z"
   },
   {
    "duration": 35,
    "start_time": "2022-01-11T11:08:57.451Z"
   },
   {
    "duration": 17,
    "start_time": "2022-01-11T11:11:55.822Z"
   },
   {
    "duration": 7,
    "start_time": "2022-01-11T11:12:15.452Z"
   },
   {
    "duration": 5330,
    "start_time": "2022-01-11T11:20:10.446Z"
   },
   {
    "duration": 5676,
    "start_time": "2022-01-11T11:20:32.706Z"
   },
   {
    "duration": 3538,
    "start_time": "2022-01-11T11:21:49.893Z"
   },
   {
    "duration": 5,
    "start_time": "2022-01-11T11:28:13.874Z"
   },
   {
    "duration": 8,
    "start_time": "2022-01-11T11:30:37.147Z"
   },
   {
    "duration": 149,
    "start_time": "2022-01-11T11:31:57.957Z"
   },
   {
    "duration": 33,
    "start_time": "2022-01-11T11:32:33.001Z"
   },
   {
    "duration": 24,
    "start_time": "2022-01-11T11:32:45.567Z"
   },
   {
    "duration": 9,
    "start_time": "2022-01-11T11:32:46.999Z"
   },
   {
    "duration": 8,
    "start_time": "2022-01-11T11:33:00.191Z"
   },
   {
    "duration": 9,
    "start_time": "2022-01-11T11:33:13.820Z"
   },
   {
    "duration": 9,
    "start_time": "2022-01-11T11:33:24.565Z"
   },
   {
    "duration": 19,
    "start_time": "2022-01-11T11:34:44.442Z"
   },
   {
    "duration": 8,
    "start_time": "2022-01-11T11:35:09.665Z"
   },
   {
    "duration": 19,
    "start_time": "2022-01-11T11:37:09.231Z"
   },
   {
    "duration": 26,
    "start_time": "2022-01-11T11:37:13.075Z"
   },
   {
    "duration": 4,
    "start_time": "2022-01-11T11:37:22.698Z"
   },
   {
    "duration": 9,
    "start_time": "2022-01-11T11:37:24.176Z"
   },
   {
    "duration": 9,
    "start_time": "2022-01-11T11:37:31.145Z"
   },
   {
    "duration": 116214,
    "start_time": "2022-01-11T11:38:16.262Z"
   },
   {
    "duration": 17,
    "start_time": "2022-01-11T11:40:28.761Z"
   },
   {
    "duration": 10,
    "start_time": "2022-01-11T11:40:34.690Z"
   },
   {
    "duration": 10,
    "start_time": "2022-01-11T11:40:44.844Z"
   },
   {
    "duration": 7,
    "start_time": "2022-01-11T11:41:53.909Z"
   },
   {
    "duration": 261173,
    "start_time": "2022-01-11T11:41:54.562Z"
   },
   {
    "duration": 23,
    "start_time": "2022-01-11T11:46:15.738Z"
   },
   {
    "duration": 4,
    "start_time": "2022-01-11T11:48:22.444Z"
   },
   {
    "duration": 6,
    "start_time": "2022-01-11T11:48:41.169Z"
   },
   {
    "duration": 5,
    "start_time": "2022-01-11T11:51:51.074Z"
   },
   {
    "duration": 129349,
    "start_time": "2022-01-11T11:51:53.079Z"
   },
   {
    "duration": 7,
    "start_time": "2022-01-11T11:54:02.432Z"
   },
   {
    "duration": 5,
    "start_time": "2022-01-11T11:54:02.525Z"
   },
   {
    "duration": 93,
    "start_time": "2022-01-11T12:01:16.807Z"
   },
   {
    "duration": 279,
    "start_time": "2022-01-11T12:02:55.351Z"
   },
   {
    "duration": 9,
    "start_time": "2022-01-11T12:03:07.448Z"
   },
   {
    "duration": 13,
    "start_time": "2022-01-11T12:04:23.473Z"
   },
   {
    "duration": 116080,
    "start_time": "2022-01-11T12:04:31.136Z"
   },
   {
    "duration": 115557,
    "start_time": "2022-01-11T12:06:27.224Z"
   },
   {
    "duration": 122895,
    "start_time": "2022-01-11T12:09:26.933Z"
   },
   {
    "duration": 5,
    "start_time": "2022-01-11T12:46:13.063Z"
   },
   {
    "duration": 6,
    "start_time": "2022-01-11T12:46:35.513Z"
   },
   {
    "duration": 3,
    "start_time": "2022-01-11T12:47:57.515Z"
   },
   {
    "duration": 6,
    "start_time": "2022-01-11T12:48:53.770Z"
   },
   {
    "duration": 3,
    "start_time": "2022-01-11T12:49:38.420Z"
   },
   {
    "duration": 6,
    "start_time": "2022-01-11T12:50:04.155Z"
   },
   {
    "duration": 6,
    "start_time": "2022-01-11T12:56:06.570Z"
   },
   {
    "duration": 166,
    "start_time": "2022-01-11T12:57:27.773Z"
   },
   {
    "duration": 437,
    "start_time": "2022-01-11T12:57:55.244Z"
   },
   {
    "duration": 419,
    "start_time": "2022-01-11T12:57:58.018Z"
   },
   {
    "duration": 737,
    "start_time": "2022-01-11T12:58:00.325Z"
   },
   {
    "duration": 10,
    "start_time": "2022-01-11T13:01:33.685Z"
   },
   {
    "duration": 386,
    "start_time": "2022-01-11T13:02:26.255Z"
   },
   {
    "duration": 8,
    "start_time": "2022-01-11T13:03:24.473Z"
   },
   {
    "duration": 9,
    "start_time": "2022-01-11T13:03:39.096Z"
   },
   {
    "duration": 7,
    "start_time": "2022-01-11T13:03:53.329Z"
   },
   {
    "duration": 5,
    "start_time": "2022-01-11T13:04:10.609Z"
   },
   {
    "duration": 5,
    "start_time": "2022-01-11T13:04:15.193Z"
   },
   {
    "duration": 5,
    "start_time": "2022-01-11T13:04:20.745Z"
   },
   {
    "duration": 387,
    "start_time": "2022-01-11T13:04:40.559Z"
   },
   {
    "duration": 5,
    "start_time": "2022-01-11T13:04:48.815Z"
   },
   {
    "duration": 643,
    "start_time": "2022-01-11T13:05:35.438Z"
   },
   {
    "duration": 303,
    "start_time": "2022-01-11T13:08:14.009Z"
   },
   {
    "duration": 7,
    "start_time": "2022-01-11T13:08:48.029Z"
   },
   {
    "duration": 462,
    "start_time": "2022-01-11T13:09:06.344Z"
   },
   {
    "duration": 292,
    "start_time": "2022-01-11T13:09:30.410Z"
   },
   {
    "duration": 331,
    "start_time": "2022-01-11T13:09:36.897Z"
   },
   {
    "duration": 325,
    "start_time": "2022-01-11T13:09:40.368Z"
   },
   {
    "duration": 296,
    "start_time": "2022-01-11T13:09:53.367Z"
   },
   {
    "duration": 296,
    "start_time": "2022-01-11T13:09:57.264Z"
   },
   {
    "duration": 366,
    "start_time": "2022-01-11T13:10:00.211Z"
   },
   {
    "duration": 305,
    "start_time": "2022-01-11T13:10:05.004Z"
   },
   {
    "duration": 5,
    "start_time": "2022-01-11T13:10:21.198Z"
   },
   {
    "duration": 284,
    "start_time": "2022-01-11T13:10:53.341Z"
   },
   {
    "duration": 135,
    "start_time": "2022-01-11T13:11:26.516Z"
   },
   {
    "duration": 178,
    "start_time": "2022-01-11T13:11:40.327Z"
   },
   {
    "duration": 5,
    "start_time": "2022-01-11T13:12:37.730Z"
   },
   {
    "duration": 323,
    "start_time": "2022-01-11T13:12:48.282Z"
   },
   {
    "duration": 284,
    "start_time": "2022-01-11T13:13:10.761Z"
   },
   {
    "duration": 359,
    "start_time": "2022-01-11T13:13:20.158Z"
   },
   {
    "duration": 290,
    "start_time": "2022-01-11T13:13:33.681Z"
   },
   {
    "duration": 7,
    "start_time": "2022-01-11T13:13:45.670Z"
   },
   {
    "duration": 6,
    "start_time": "2022-01-11T13:14:21.045Z"
   },
   {
    "duration": 434,
    "start_time": "2022-01-11T13:14:30.164Z"
   },
   {
    "duration": 6,
    "start_time": "2022-01-11T13:18:00.084Z"
   },
   {
    "duration": 470,
    "start_time": "2022-01-11T13:19:45.963Z"
   },
   {
    "duration": 428,
    "start_time": "2022-01-11T13:20:27.521Z"
   },
   {
    "duration": 379,
    "start_time": "2022-01-11T13:20:47.490Z"
   },
   {
    "duration": 299,
    "start_time": "2022-01-11T13:22:48.999Z"
   },
   {
    "duration": 882,
    "start_time": "2022-01-11T13:23:00.578Z"
   },
   {
    "duration": 6,
    "start_time": "2022-01-11T13:23:52.699Z"
   },
   {
    "duration": 62,
    "start_time": "2022-01-11T13:24:10.052Z"
   },
   {
    "duration": 327,
    "start_time": "2022-01-11T13:24:21.063Z"
   },
   {
    "duration": 462,
    "start_time": "2022-01-11T13:25:14.801Z"
   },
   {
    "duration": 467,
    "start_time": "2022-01-11T13:25:27.576Z"
   },
   {
    "duration": 354,
    "start_time": "2022-01-11T13:27:21.339Z"
   },
   {
    "duration": 418,
    "start_time": "2022-01-11T13:28:33.436Z"
   },
   {
    "duration": 316,
    "start_time": "2022-01-11T13:28:47.512Z"
   },
   {
    "duration": 5,
    "start_time": "2022-01-11T13:31:52.460Z"
   },
   {
    "duration": 164,
    "start_time": "2022-01-11T13:32:10.363Z"
   },
   {
    "duration": 4,
    "start_time": "2022-01-11T13:32:29.666Z"
   },
   {
    "duration": 222,
    "start_time": "2022-01-11T13:32:30.021Z"
   },
   {
    "duration": 19,
    "start_time": "2022-01-11T13:35:11.045Z"
   },
   {
    "duration": 807,
    "start_time": "2022-01-11T13:36:47.260Z"
   },
   {
    "duration": 1304,
    "start_time": "2022-01-11T13:36:55.328Z"
   },
   {
    "duration": 756,
    "start_time": "2022-01-11T13:38:43.353Z"
   },
   {
    "duration": 1366,
    "start_time": "2022-01-11T13:39:35.479Z"
   },
   {
    "duration": 1342,
    "start_time": "2022-01-11T13:39:45.857Z"
   },
   {
    "duration": 1183,
    "start_time": "2022-01-11T13:39:59.427Z"
   },
   {
    "duration": 1205,
    "start_time": "2022-01-11T13:40:08.353Z"
   },
   {
    "duration": 1446,
    "start_time": "2022-01-11T13:40:15.673Z"
   },
   {
    "duration": 7,
    "start_time": "2022-01-11T13:44:45.184Z"
   },
   {
    "duration": 54,
    "start_time": "2022-01-11T13:45:21.736Z"
   },
   {
    "duration": 51,
    "start_time": "2022-01-11T13:45:29.738Z"
   },
   {
    "duration": 50,
    "start_time": "2022-01-11T13:45:34.005Z"
   },
   {
    "duration": 8,
    "start_time": "2022-01-11T13:51:26.626Z"
   },
   {
    "duration": 1279,
    "start_time": "2022-01-11T13:51:27.074Z"
   },
   {
    "duration": 9,
    "start_time": "2022-01-11T13:52:07.740Z"
   },
   {
    "duration": 1413,
    "start_time": "2022-01-11T13:52:08.571Z"
   },
   {
    "duration": 22,
    "start_time": "2022-01-11T13:52:18.599Z"
   },
   {
    "duration": 1369,
    "start_time": "2022-01-11T13:52:19.509Z"
   },
   {
    "duration": 12,
    "start_time": "2022-01-11T13:52:29.752Z"
   },
   {
    "duration": 1032,
    "start_time": "2022-01-11T13:52:31.097Z"
   },
   {
    "duration": 1107,
    "start_time": "2022-01-11T13:52:59.052Z"
   },
   {
    "duration": 982,
    "start_time": "2022-01-11T13:53:04.271Z"
   },
   {
    "duration": 1034,
    "start_time": "2022-01-11T13:53:36.637Z"
   },
   {
    "duration": 8,
    "start_time": "2022-01-11T13:53:58.758Z"
   },
   {
    "duration": 1169,
    "start_time": "2022-01-11T13:53:59.600Z"
   },
   {
    "duration": 766,
    "start_time": "2022-01-11T13:54:13.931Z"
   },
   {
    "duration": 209,
    "start_time": "2022-01-11T13:54:27.089Z"
   },
   {
    "duration": 1130,
    "start_time": "2022-01-11T13:54:28.150Z"
   },
   {
    "duration": 8,
    "start_time": "2022-01-11T13:54:35.599Z"
   },
   {
    "duration": 1056,
    "start_time": "2022-01-11T13:54:36.479Z"
   },
   {
    "duration": 403,
    "start_time": "2022-01-11T14:01:22.218Z"
   },
   {
    "duration": 280,
    "start_time": "2022-01-11T14:01:33.135Z"
   },
   {
    "duration": 42,
    "start_time": "2022-01-11T14:07:04.402Z"
   },
   {
    "duration": 86,
    "start_time": "2022-01-11T14:07:34.540Z"
   },
   {
    "duration": 6,
    "start_time": "2022-01-11T14:08:13.993Z"
   },
   {
    "duration": 8,
    "start_time": "2022-01-11T14:08:23.749Z"
   },
   {
    "duration": 41,
    "start_time": "2022-01-11T14:09:51.586Z"
   },
   {
    "duration": 38,
    "start_time": "2022-01-11T14:12:39.427Z"
   },
   {
    "duration": 10,
    "start_time": "2022-01-11T14:12:44.294Z"
   },
   {
    "duration": 10,
    "start_time": "2022-01-11T14:12:44.307Z"
   },
   {
    "duration": 9,
    "start_time": "2022-01-11T14:12:44.921Z"
   },
   {
    "duration": 21,
    "start_time": "2022-01-11T14:12:46.468Z"
   },
   {
    "duration": 17,
    "start_time": "2022-01-11T14:12:48.328Z"
   },
   {
    "duration": 17,
    "start_time": "2022-01-11T14:13:06.943Z"
   },
   {
    "duration": 42,
    "start_time": "2022-01-11T14:13:19.790Z"
   },
   {
    "duration": 6,
    "start_time": "2022-01-11T14:24:35.253Z"
   },
   {
    "duration": 27,
    "start_time": "2022-01-11T14:40:03.116Z"
   },
   {
    "duration": 19,
    "start_time": "2022-01-11T14:40:05.269Z"
   },
   {
    "duration": 55,
    "start_time": "2022-01-11T14:40:15.181Z"
   },
   {
    "duration": 25,
    "start_time": "2022-01-11T14:40:59.190Z"
   },
   {
    "duration": 35,
    "start_time": "2022-01-11T14:41:01.199Z"
   },
   {
    "duration": 9243,
    "start_time": "2022-01-11T14:54:35.917Z"
   },
   {
    "duration": 182,
    "start_time": "2022-01-11T14:54:44.982Z"
   },
   {
    "duration": 30,
    "start_time": "2022-01-11T14:55:48.041Z"
   },
   {
    "duration": 51,
    "start_time": "2022-01-11T14:55:48.819Z"
   },
   {
    "duration": 9789,
    "start_time": "2022-01-11T14:57:44.061Z"
   },
   {
    "duration": 109,
    "start_time": "2022-01-11T14:58:22.379Z"
   },
   {
    "duration": 22,
    "start_time": "2022-01-11T14:58:30.420Z"
   },
   {
    "duration": 8,
    "start_time": "2022-01-11T14:58:32.658Z"
   },
   {
    "duration": 50,
    "start_time": "2022-01-11T14:58:33.745Z"
   },
   {
    "duration": 29,
    "start_time": "2022-01-11T14:58:56.096Z"
   },
   {
    "duration": 9,
    "start_time": "2022-01-11T14:58:56.850Z"
   },
   {
    "duration": 35,
    "start_time": "2022-01-11T14:58:57.265Z"
   },
   {
    "duration": 7,
    "start_time": "2022-01-11T14:59:11.099Z"
   },
   {
    "duration": 9,
    "start_time": "2022-01-11T14:59:15.788Z"
   },
   {
    "duration": 353,
    "start_time": "2022-01-11T14:59:22.873Z"
   },
   {
    "duration": 8,
    "start_time": "2022-01-11T15:00:01.658Z"
   },
   {
    "duration": 306,
    "start_time": "2022-01-11T15:04:32.433Z"
   },
   {
    "duration": 107,
    "start_time": "2022-01-11T15:05:15.061Z"
   },
   {
    "duration": 222,
    "start_time": "2022-01-11T15:05:26.101Z"
   },
   {
    "duration": 118,
    "start_time": "2022-01-11T15:05:52.523Z"
   },
   {
    "duration": 444,
    "start_time": "2022-01-11T15:06:07.154Z"
   },
   {
    "duration": 25,
    "start_time": "2022-01-11T15:06:20.558Z"
   },
   {
    "duration": 304,
    "start_time": "2022-01-11T15:06:29.995Z"
   },
   {
    "duration": 116,
    "start_time": "2022-01-11T15:06:37.910Z"
   },
   {
    "duration": 13,
    "start_time": "2022-01-11T15:07:21.930Z"
   },
   {
    "duration": 39,
    "start_time": "2022-01-11T15:07:42.641Z"
   },
   {
    "duration": 41,
    "start_time": "2022-01-11T15:08:46.459Z"
   },
   {
    "duration": 46,
    "start_time": "2022-01-11T15:08:49.399Z"
   },
   {
    "duration": 9,
    "start_time": "2022-01-11T15:09:16.705Z"
   },
   {
    "duration": 41,
    "start_time": "2022-01-11T15:09:19.520Z"
   },
   {
    "duration": 36,
    "start_time": "2022-01-11T15:09:28.960Z"
   },
   {
    "duration": 36,
    "start_time": "2022-01-11T15:09:41.872Z"
   },
   {
    "duration": 320,
    "start_time": "2022-01-11T15:11:14.824Z"
   },
   {
    "duration": 34,
    "start_time": "2022-01-11T15:11:15.436Z"
   },
   {
    "duration": 302,
    "start_time": "2022-01-11T15:11:19.371Z"
   },
   {
    "duration": 299,
    "start_time": "2022-01-11T15:11:28.394Z"
   },
   {
    "duration": 7,
    "start_time": "2022-01-11T15:12:00.736Z"
   },
   {
    "duration": 26,
    "start_time": "2022-01-11T15:12:43.622Z"
   },
   {
    "duration": 8,
    "start_time": "2022-01-11T15:13:07.057Z"
   },
   {
    "duration": 42,
    "start_time": "2022-01-11T15:13:07.519Z"
   },
   {
    "duration": 34,
    "start_time": "2022-01-11T15:14:31.681Z"
   },
   {
    "duration": 51,
    "start_time": "2022-01-11T15:20:45.719Z"
   },
   {
    "duration": 74,
    "start_time": "2022-01-11T15:22:13.271Z"
   },
   {
    "duration": 9,
    "start_time": "2022-01-11T15:22:16.358Z"
   },
   {
    "duration": 13,
    "start_time": "2022-01-11T15:22:16.501Z"
   },
   {
    "duration": 8,
    "start_time": "2022-01-11T15:22:16.638Z"
   },
   {
    "duration": 24,
    "start_time": "2022-01-11T15:22:18.299Z"
   },
   {
    "duration": 20,
    "start_time": "2022-01-11T15:22:19.334Z"
   },
   {
    "duration": 6,
    "start_time": "2022-01-11T15:22:34.436Z"
   },
   {
    "duration": 31,
    "start_time": "2022-01-11T15:22:35.538Z"
   },
   {
    "duration": 45,
    "start_time": "2022-01-11T15:22:42.489Z"
   },
   {
    "duration": 10,
    "start_time": "2022-01-11T15:23:24.334Z"
   },
   {
    "duration": 34,
    "start_time": "2022-01-11T15:23:34.315Z"
   },
   {
    "duration": 33,
    "start_time": "2022-01-11T15:24:04.808Z"
   },
   {
    "duration": 32,
    "start_time": "2022-01-11T15:25:26.828Z"
   },
   {
    "duration": 36,
    "start_time": "2022-01-11T15:25:33.386Z"
   },
   {
    "duration": 45,
    "start_time": "2022-01-11T15:25:36.832Z"
   },
   {
    "duration": 38,
    "start_time": "2022-01-11T15:27:55.229Z"
   },
   {
    "duration": 31,
    "start_time": "2022-01-11T15:28:07.051Z"
   },
   {
    "duration": 45,
    "start_time": "2022-01-11T15:28:07.674Z"
   },
   {
    "duration": 3,
    "start_time": "2022-01-11T15:32:41.131Z"
   },
   {
    "duration": 24,
    "start_time": "2022-01-11T15:33:50.889Z"
   },
   {
    "duration": 356,
    "start_time": "2022-01-11T15:33:51.510Z"
   },
   {
    "duration": 17,
    "start_time": "2022-01-11T15:38:45.466Z"
   },
   {
    "duration": 41,
    "start_time": "2022-01-11T15:38:54.682Z"
   },
   {
    "duration": 33,
    "start_time": "2022-01-11T15:40:15.763Z"
   },
   {
    "duration": 44,
    "start_time": "2022-01-11T15:41:11.173Z"
   },
   {
    "duration": 56,
    "start_time": "2022-01-11T15:41:12.886Z"
   },
   {
    "duration": 8,
    "start_time": "2022-01-11T15:42:18.572Z"
   },
   {
    "duration": 7,
    "start_time": "2022-01-11T15:42:55.465Z"
   },
   {
    "duration": 7,
    "start_time": "2022-01-11T15:43:53.469Z"
   },
   {
    "duration": 106,
    "start_time": "2022-01-11T15:45:49.964Z"
   },
   {
    "duration": 91,
    "start_time": "2022-01-11T15:45:53.627Z"
   },
   {
    "duration": 9,
    "start_time": "2022-01-11T15:46:02.149Z"
   },
   {
    "duration": 289,
    "start_time": "2022-01-11T15:47:43.205Z"
   },
   {
    "duration": 190,
    "start_time": "2022-01-11T15:47:51.634Z"
   },
   {
    "duration": 133,
    "start_time": "2022-01-11T15:47:56.395Z"
   },
   {
    "duration": 142,
    "start_time": "2022-01-11T15:48:47.486Z"
   },
   {
    "duration": 89,
    "start_time": "2022-01-11T15:49:06.681Z"
   },
   {
    "duration": 41,
    "start_time": "2022-01-11T15:50:04.328Z"
   },
   {
    "duration": 312,
    "start_time": "2022-01-11T15:50:55.621Z"
   },
   {
    "duration": 60,
    "start_time": "2022-01-11T15:55:29.121Z"
   },
   {
    "duration": 49,
    "start_time": "2022-01-11T15:55:48.862Z"
   },
   {
    "duration": 1583,
    "start_time": "2022-01-14T14:25:18.927Z"
   },
   {
    "duration": 314,
    "start_time": "2022-01-14T14:25:20.513Z"
   },
   {
    "duration": 33,
    "start_time": "2022-01-14T14:25:20.830Z"
   },
   {
    "duration": 53,
    "start_time": "2022-01-14T14:25:20.865Z"
   },
   {
    "duration": 52,
    "start_time": "2022-01-14T14:25:20.920Z"
   },
   {
    "duration": 72,
    "start_time": "2022-01-14T14:25:20.975Z"
   },
   {
    "duration": 130,
    "start_time": "2022-01-14T14:25:21.051Z"
   },
   {
    "duration": 118,
    "start_time": "2022-01-14T14:25:21.184Z"
   },
   {
    "duration": 102,
    "start_time": "2022-01-14T14:25:21.317Z"
   },
   {
    "duration": 107,
    "start_time": "2022-01-14T14:25:21.422Z"
   },
   {
    "duration": 87,
    "start_time": "2022-01-14T14:25:21.532Z"
   },
   {
    "duration": 125,
    "start_time": "2022-01-14T14:25:21.621Z"
   },
   {
    "duration": 116,
    "start_time": "2022-01-14T14:25:21.750Z"
   },
   {
    "duration": 33,
    "start_time": "2022-01-14T14:25:21.869Z"
   },
   {
    "duration": 5,
    "start_time": "2022-01-14T14:25:21.918Z"
   },
   {
    "duration": 54,
    "start_time": "2022-01-14T14:25:21.925Z"
   },
   {
    "duration": 2932,
    "start_time": "2022-01-14T14:25:21.981Z"
   },
   {
    "duration": 1148,
    "start_time": "2022-01-14T14:25:24.918Z"
   },
   {
    "duration": 32,
    "start_time": "2022-01-14T14:25:26.068Z"
   },
   {
    "duration": 452,
    "start_time": "2022-01-14T14:25:26.118Z"
   },
   {
    "duration": 16,
    "start_time": "2022-01-14T14:25:26.573Z"
   },
   {
    "duration": 62,
    "start_time": "2022-01-14T14:25:26.591Z"
   },
   {
    "duration": 2688,
    "start_time": "2022-01-14T14:25:26.660Z"
   },
   {
    "duration": 2152,
    "start_time": "2022-01-14T14:25:29.352Z"
   },
   {
    "duration": 50,
    "start_time": "2022-01-14T14:25:31.507Z"
   },
   {
    "duration": 2503,
    "start_time": "2022-01-14T14:25:31.559Z"
   },
   {
    "duration": 3817,
    "start_time": "2022-01-14T14:25:34.065Z"
   },
   {
    "duration": 6,
    "start_time": "2022-01-14T14:25:37.884Z"
   },
   {
    "duration": 180,
    "start_time": "2022-01-14T14:25:37.892Z"
   },
   {
    "duration": 90,
    "start_time": "2022-01-14T14:25:38.075Z"
   },
   {
    "duration": 27,
    "start_time": "2022-01-14T14:25:38.167Z"
   },
   {
    "duration": 27,
    "start_time": "2022-01-14T14:25:38.196Z"
   },
   {
    "duration": 8,
    "start_time": "2022-01-14T14:25:38.226Z"
   },
   {
    "duration": 24,
    "start_time": "2022-01-14T14:25:38.237Z"
   },
   {
    "duration": 58,
    "start_time": "2022-01-14T14:25:38.263Z"
   },
   {
    "duration": 9,
    "start_time": "2022-01-14T14:25:38.324Z"
   },
   {
    "duration": 24,
    "start_time": "2022-01-14T14:25:38.337Z"
   },
   {
    "duration": 62,
    "start_time": "2022-01-14T14:25:38.364Z"
   },
   {
    "duration": 5,
    "start_time": "2022-01-14T14:25:38.429Z"
   },
   {
    "duration": 8,
    "start_time": "2022-01-14T14:25:38.437Z"
   },
   {
    "duration": 391,
    "start_time": "2022-01-14T14:25:38.448Z"
   },
   {
    "duration": 6,
    "start_time": "2022-01-14T14:25:38.842Z"
   },
   {
    "duration": 265512,
    "start_time": "2022-01-14T14:25:38.851Z"
   },
   {
    "duration": 11,
    "start_time": "2022-01-14T14:30:04.365Z"
   },
   {
    "duration": 38,
    "start_time": "2022-01-14T14:30:04.378Z"
   },
   {
    "duration": 353177,
    "start_time": "2022-01-14T14:30:04.419Z"
   },
   {
    "duration": 7,
    "start_time": "2022-01-14T14:35:57.598Z"
   },
   {
    "duration": 6,
    "start_time": "2022-01-14T14:35:57.617Z"
   },
   {
    "duration": 4,
    "start_time": "2022-01-14T14:35:57.625Z"
   },
   {
    "duration": 8,
    "start_time": "2022-01-14T14:35:57.631Z"
   },
   {
    "duration": 284,
    "start_time": "2022-01-14T14:35:57.642Z"
   },
   {
    "duration": 8,
    "start_time": "2022-01-14T14:35:57.929Z"
   },
   {
    "duration": 1036,
    "start_time": "2022-01-14T14:35:57.940Z"
   },
   {
    "duration": 58,
    "start_time": "2022-01-14T14:35:58.979Z"
   },
   {
    "duration": 30,
    "start_time": "2022-01-14T14:35:59.040Z"
   },
   {
    "duration": 57,
    "start_time": "2022-01-14T14:35:59.073Z"
   },
   {
    "duration": 8,
    "start_time": "2022-01-14T14:35:59.132Z"
   },
   {
    "duration": 333,
    "start_time": "2022-01-14T14:35:59.142Z"
   },
   {
    "duration": 149,
    "start_time": "2022-01-14T14:35:59.519Z"
   },
   {
    "duration": 62,
    "start_time": "2022-01-14T14:35:59.670Z"
   },
   {
    "duration": 6,
    "start_time": "2022-01-14T14:35:59.734Z"
   },
   {
    "duration": 6,
    "start_time": "2022-01-14T14:35:59.742Z"
   },
   {
    "duration": 7,
    "start_time": "2022-01-14T14:35:59.750Z"
   },
   {
    "duration": 6,
    "start_time": "2022-01-14T14:35:59.760Z"
   },
   {
    "duration": 405,
    "start_time": "2022-01-14T14:36:53.781Z"
   },
   {
    "duration": 6,
    "start_time": "2022-01-14T14:37:04.819Z"
   },
   {
    "duration": 6,
    "start_time": "2022-01-14T14:37:14.398Z"
   },
   {
    "duration": 292,
    "start_time": "2022-01-14T14:37:24.478Z"
   },
   {
    "duration": 271,
    "start_time": "2022-01-14T14:37:37.113Z"
   },
   {
    "duration": 270,
    "start_time": "2022-01-14T14:37:43.922Z"
   },
   {
    "duration": 6,
    "start_time": "2022-01-14T14:39:16.160Z"
   },
   {
    "duration": 4,
    "start_time": "2022-01-14T14:39:23.249Z"
   },
   {
    "duration": 5,
    "start_time": "2022-01-14T14:39:26.098Z"
   },
   {
    "duration": 90,
    "start_time": "2022-01-14T14:40:34.776Z"
   },
   {
    "duration": 89,
    "start_time": "2022-01-14T14:40:41.865Z"
   },
   {
    "duration": 6,
    "start_time": "2022-01-14T14:40:48.945Z"
   },
   {
    "duration": 88,
    "start_time": "2022-01-14T14:42:33.297Z"
   },
   {
    "duration": 92,
    "start_time": "2022-01-14T14:42:44.678Z"
   },
   {
    "duration": 95,
    "start_time": "2022-01-14T14:43:03.794Z"
   },
   {
    "duration": 89,
    "start_time": "2022-01-14T14:43:11.664Z"
   },
   {
    "duration": 93,
    "start_time": "2022-01-14T14:43:26.968Z"
   },
   {
    "duration": 438,
    "start_time": "2022-01-14T14:44:21.033Z"
   },
   {
    "duration": 4,
    "start_time": "2022-01-14T14:44:42.752Z"
   },
   {
    "duration": 4,
    "start_time": "2022-01-14T14:45:17.966Z"
   },
   {
    "duration": 7,
    "start_time": "2022-01-14T14:45:29.521Z"
   },
   {
    "duration": 6,
    "start_time": "2022-01-14T14:46:32.473Z"
   },
   {
    "duration": 6,
    "start_time": "2022-01-14T14:46:53.855Z"
   },
   {
    "duration": 5,
    "start_time": "2022-01-14T14:47:01.722Z"
   },
   {
    "duration": 6,
    "start_time": "2022-01-14T14:47:09.998Z"
   },
   {
    "duration": 268,
    "start_time": "2022-01-14T14:47:54.579Z"
   },
   {
    "duration": 6,
    "start_time": "2022-01-14T14:48:05.209Z"
   },
   {
    "duration": 5,
    "start_time": "2022-01-14T14:48:16.181Z"
   },
   {
    "duration": 6,
    "start_time": "2022-01-14T14:48:56.104Z"
   },
   {
    "duration": 283,
    "start_time": "2022-01-14T14:49:04.382Z"
   },
   {
    "duration": 6,
    "start_time": "2022-01-14T14:49:08.345Z"
   },
   {
    "duration": 762,
    "start_time": "2022-01-14T14:49:45.002Z"
   },
   {
    "duration": 5,
    "start_time": "2022-01-14T14:50:06.325Z"
   },
   {
    "duration": 5,
    "start_time": "2022-01-14T14:50:24.920Z"
   },
   {
    "duration": 6,
    "start_time": "2022-01-14T14:50:32.213Z"
   },
   {
    "duration": 5,
    "start_time": "2022-01-14T14:50:53.777Z"
   },
   {
    "duration": 297,
    "start_time": "2022-01-14T14:51:37.539Z"
   },
   {
    "duration": 269,
    "start_time": "2022-01-14T14:52:12.468Z"
   },
   {
    "duration": 7,
    "start_time": "2022-01-14T14:52:27.873Z"
   },
   {
    "duration": 5,
    "start_time": "2022-01-14T14:52:53.499Z"
   },
   {
    "duration": 340,
    "start_time": "2022-01-14T14:55:00.435Z"
   },
   {
    "duration": 582,
    "start_time": "2022-01-14T14:55:45.208Z"
   },
   {
    "duration": 46,
    "start_time": "2022-01-14T14:55:52.923Z"
   },
   {
    "duration": 12,
    "start_time": "2022-01-14T14:56:05.978Z"
   },
   {
    "duration": 363,
    "start_time": "2022-01-14T14:58:01.960Z"
   },
   {
    "duration": 29,
    "start_time": "2022-01-14T14:58:19.059Z"
   },
   {
    "duration": 27,
    "start_time": "2022-01-14T14:58:20.097Z"
   },
   {
    "duration": 4,
    "start_time": "2022-01-14T14:58:22.808Z"
   },
   {
    "duration": 7,
    "start_time": "2022-01-14T14:58:23.464Z"
   },
   {
    "duration": 346,
    "start_time": "2022-01-14T14:58:25.379Z"
   },
   {
    "duration": 79,
    "start_time": "2022-01-14T14:58:58.486Z"
   },
   {
    "duration": 77,
    "start_time": "2022-01-14T14:59:03.246Z"
   },
   {
    "duration": 12,
    "start_time": "2022-01-14T14:59:29.409Z"
   },
   {
    "duration": 303,
    "start_time": "2022-01-14T15:02:00.931Z"
   },
   {
    "duration": 5,
    "start_time": "2022-01-14T15:02:08.231Z"
   },
   {
    "duration": 4,
    "start_time": "2022-01-14T15:02:08.320Z"
   },
   {
    "duration": 1543,
    "start_time": "2022-01-14T20:22:25.353Z"
   },
   {
    "duration": 1342,
    "start_time": "2022-01-14T20:22:26.898Z"
   },
   {
    "duration": 20,
    "start_time": "2022-01-14T20:22:28.242Z"
   },
   {
    "duration": 16,
    "start_time": "2022-01-14T20:22:28.264Z"
   },
   {
    "duration": 51,
    "start_time": "2022-01-14T20:22:28.281Z"
   },
   {
    "duration": 26,
    "start_time": "2022-01-14T20:22:28.334Z"
   },
   {
    "duration": 78,
    "start_time": "2022-01-14T20:22:28.361Z"
   },
   {
    "duration": 57,
    "start_time": "2022-01-14T20:22:28.441Z"
   },
   {
    "duration": 56,
    "start_time": "2022-01-14T20:22:28.500Z"
   },
   {
    "duration": 28,
    "start_time": "2022-01-14T20:22:28.557Z"
   },
   {
    "duration": 53,
    "start_time": "2022-01-14T20:22:28.587Z"
   },
   {
    "duration": 53,
    "start_time": "2022-01-14T20:22:28.642Z"
   },
   {
    "duration": 91,
    "start_time": "2022-01-14T20:22:28.696Z"
   },
   {
    "duration": 22,
    "start_time": "2022-01-14T20:22:28.788Z"
   },
   {
    "duration": 16,
    "start_time": "2022-01-14T20:22:28.811Z"
   },
   {
    "duration": 31,
    "start_time": "2022-01-14T20:22:28.828Z"
   },
   {
    "duration": 1484,
    "start_time": "2022-01-14T20:22:28.860Z"
   },
   {
    "duration": 638,
    "start_time": "2022-01-14T20:22:30.346Z"
   },
   {
    "duration": 20,
    "start_time": "2022-01-14T20:22:30.986Z"
   },
   {
    "duration": 236,
    "start_time": "2022-01-14T20:22:31.007Z"
   },
   {
    "duration": 9,
    "start_time": "2022-01-14T20:22:31.245Z"
   },
   {
    "duration": 27,
    "start_time": "2022-01-14T20:22:31.256Z"
   },
   {
    "duration": 1391,
    "start_time": "2022-01-14T20:22:31.287Z"
   },
   {
    "duration": 1048,
    "start_time": "2022-01-14T20:22:32.680Z"
   },
   {
    "duration": 23,
    "start_time": "2022-01-14T20:22:33.730Z"
   },
   {
    "duration": 1387,
    "start_time": "2022-01-14T20:22:33.754Z"
   },
   {
    "duration": 1848,
    "start_time": "2022-01-14T20:22:35.142Z"
   },
   {
    "duration": 3,
    "start_time": "2022-01-14T20:22:36.992Z"
   },
   {
    "duration": 90,
    "start_time": "2022-01-14T20:22:36.997Z"
   },
   {
    "duration": 45,
    "start_time": "2022-01-14T20:22:37.088Z"
   },
   {
    "duration": 18,
    "start_time": "2022-01-14T20:22:37.135Z"
   },
   {
    "duration": 5,
    "start_time": "2022-01-14T20:22:37.154Z"
   },
   {
    "duration": 7,
    "start_time": "2022-01-14T20:22:37.160Z"
   },
   {
    "duration": 14,
    "start_time": "2022-01-14T20:22:37.168Z"
   },
   {
    "duration": 13,
    "start_time": "2022-01-14T20:22:37.184Z"
   },
   {
    "duration": 29,
    "start_time": "2022-01-14T20:22:37.199Z"
   },
   {
    "duration": 17,
    "start_time": "2022-01-14T20:22:37.229Z"
   },
   {
    "duration": 14,
    "start_time": "2022-01-14T20:22:37.247Z"
   },
   {
    "duration": 4,
    "start_time": "2022-01-14T20:22:37.262Z"
   },
   {
    "duration": 8,
    "start_time": "2022-01-14T20:22:37.267Z"
   },
   {
    "duration": 218,
    "start_time": "2022-01-14T20:22:37.276Z"
   },
   {
    "duration": 4,
    "start_time": "2022-01-14T20:22:37.496Z"
   },
   {
    "duration": 146035,
    "start_time": "2022-01-14T20:22:37.501Z"
   },
   {
    "duration": 6,
    "start_time": "2022-01-14T20:25:03.538Z"
   },
   {
    "duration": 4,
    "start_time": "2022-01-14T20:25:03.546Z"
   },
   {
    "duration": 209754,
    "start_time": "2022-01-14T20:25:03.552Z"
   },
   {
    "duration": 3,
    "start_time": "2022-01-14T20:28:33.308Z"
   },
   {
    "duration": 15,
    "start_time": "2022-01-14T20:28:33.312Z"
   },
   {
    "duration": 2,
    "start_time": "2022-01-14T20:28:33.328Z"
   },
   {
    "duration": 5,
    "start_time": "2022-01-14T20:28:33.332Z"
   },
   {
    "duration": 194,
    "start_time": "2022-01-14T20:28:33.338Z"
   },
   {
    "duration": 5,
    "start_time": "2022-01-14T20:28:33.534Z"
   },
   {
    "duration": 767,
    "start_time": "2022-01-14T20:28:33.540Z"
   },
   {
    "duration": 47,
    "start_time": "2022-01-14T20:28:34.309Z"
   },
   {
    "duration": 20,
    "start_time": "2022-01-14T20:28:34.357Z"
   },
   {
    "duration": 18,
    "start_time": "2022-01-14T20:28:34.378Z"
   },
   {
    "duration": 4,
    "start_time": "2022-01-14T20:28:34.397Z"
   },
   {
    "duration": 256,
    "start_time": "2022-01-14T20:28:34.403Z"
   },
   {
    "duration": 190,
    "start_time": "2022-01-14T20:28:34.662Z"
   },
   {
    "duration": 24,
    "start_time": "2022-01-14T20:28:34.854Z"
   },
   {
    "duration": 4,
    "start_time": "2022-01-14T20:28:34.880Z"
   },
   {
    "duration": 6,
    "start_time": "2022-01-14T20:28:34.885Z"
   },
   {
    "duration": 10,
    "start_time": "2022-01-14T20:28:34.892Z"
   },
   {
    "duration": 24,
    "start_time": "2022-01-14T20:28:34.904Z"
   },
   {
    "duration": 6,
    "start_time": "2022-01-14T20:28:34.929Z"
   },
   {
    "duration": 5,
    "start_time": "2022-01-14T20:28:34.936Z"
   },
   {
    "duration": 5,
    "start_time": "2022-01-14T20:28:34.942Z"
   },
   {
    "duration": 2,
    "start_time": "2022-01-14T20:28:34.951Z"
   },
   {
    "duration": 6,
    "start_time": "2022-01-14T20:28:34.955Z"
   },
   {
    "duration": 3,
    "start_time": "2022-01-14T20:34:02.816Z"
   },
   {
    "duration": 4,
    "start_time": "2022-01-14T20:34:41.561Z"
   },
   {
    "duration": 5,
    "start_time": "2022-01-14T20:34:51.694Z"
   },
   {
    "duration": 4,
    "start_time": "2022-01-14T20:35:01.075Z"
   },
   {
    "duration": 4,
    "start_time": "2022-01-14T20:35:02.225Z"
   },
   {
    "duration": 4,
    "start_time": "2022-01-14T20:35:09.260Z"
   },
   {
    "duration": 3,
    "start_time": "2022-01-14T20:35:11.333Z"
   },
   {
    "duration": 4,
    "start_time": "2022-01-14T20:35:11.773Z"
   },
   {
    "duration": 4,
    "start_time": "2022-01-14T20:35:53.254Z"
   },
   {
    "duration": 531,
    "start_time": "2022-01-14T20:37:11.899Z"
   },
   {
    "duration": 4,
    "start_time": "2022-01-14T20:37:31.400Z"
   },
   {
    "duration": 5,
    "start_time": "2022-01-14T20:37:44.088Z"
   },
   {
    "duration": 4,
    "start_time": "2022-01-14T20:38:05.146Z"
   },
   {
    "duration": 8,
    "start_time": "2022-01-14T20:38:32.556Z"
   },
   {
    "duration": 438,
    "start_time": "2022-01-14T20:38:45.461Z"
   },
   {
    "duration": 4,
    "start_time": "2022-01-14T20:38:59.744Z"
   },
   {
    "duration": 470,
    "start_time": "2022-01-14T20:41:05.988Z"
   },
   {
    "duration": 4,
    "start_time": "2022-01-14T20:41:30.960Z"
   },
   {
    "duration": 4,
    "start_time": "2022-01-14T20:41:35.922Z"
   },
   {
    "duration": 5,
    "start_time": "2022-01-14T20:41:41.444Z"
   },
   {
    "duration": 4,
    "start_time": "2022-01-14T20:42:11.468Z"
   },
   {
    "duration": 4,
    "start_time": "2022-01-14T20:42:17.896Z"
   },
   {
    "duration": 287,
    "start_time": "2022-01-14T20:43:50.168Z"
   },
   {
    "duration": 291,
    "start_time": "2022-01-14T20:44:04.421Z"
   },
   {
    "duration": 446,
    "start_time": "2022-01-14T20:46:20.838Z"
   },
   {
    "duration": 574,
    "start_time": "2022-01-14T20:47:12.804Z"
   },
   {
    "duration": 255,
    "start_time": "2022-01-14T20:49:49.470Z"
   },
   {
    "duration": 364,
    "start_time": "2022-01-14T20:50:05.487Z"
   },
   {
    "duration": 563,
    "start_time": "2022-01-14T20:50:27.035Z"
   },
   {
    "duration": 572,
    "start_time": "2022-01-14T20:50:41.737Z"
   },
   {
    "duration": 5,
    "start_time": "2022-01-14T20:52:52.940Z"
   },
   {
    "duration": 445,
    "start_time": "2022-01-14T20:53:19.847Z"
   },
   {
    "duration": 106,
    "start_time": "2022-01-14T21:00:19.960Z"
   },
   {
    "duration": 17,
    "start_time": "2022-01-14T21:00:22.676Z"
   },
   {
    "duration": 4,
    "start_time": "2022-01-14T21:00:46.711Z"
   },
   {
    "duration": 25,
    "start_time": "2022-01-14T21:01:09.059Z"
   },
   {
    "duration": 7,
    "start_time": "2022-01-14T21:01:15.468Z"
   },
   {
    "duration": 316,
    "start_time": "2022-01-14T21:01:39.154Z"
   },
   {
    "duration": 8,
    "start_time": "2022-01-14T21:01:46.700Z"
   },
   {
    "duration": 8,
    "start_time": "2022-01-14T21:02:02.148Z"
   },
   {
    "duration": 8,
    "start_time": "2022-01-14T21:02:06.998Z"
   },
   {
    "duration": 335,
    "start_time": "2022-01-14T21:02:19.323Z"
   },
   {
    "duration": 141,
    "start_time": "2022-01-14T21:02:33.402Z"
   },
   {
    "duration": 460,
    "start_time": "2022-01-14T21:02:42.061Z"
   },
   {
    "duration": 285,
    "start_time": "2022-01-14T21:02:50.988Z"
   },
   {
    "duration": 278,
    "start_time": "2022-01-14T21:02:58.792Z"
   },
   {
    "duration": 288,
    "start_time": "2022-01-14T21:03:43.323Z"
   },
   {
    "duration": 321,
    "start_time": "2022-01-14T21:04:10.581Z"
   },
   {
    "duration": 284,
    "start_time": "2022-01-14T21:04:19.393Z"
   },
   {
    "duration": 316,
    "start_time": "2022-01-14T21:04:27.560Z"
   },
   {
    "duration": 305,
    "start_time": "2022-01-14T21:04:32.990Z"
   },
   {
    "duration": 285,
    "start_time": "2022-01-14T21:04:37.278Z"
   },
   {
    "duration": 297,
    "start_time": "2022-01-14T21:04:46.865Z"
   },
   {
    "duration": 318,
    "start_time": "2022-01-14T21:04:51.221Z"
   },
   {
    "duration": 2,
    "start_time": "2022-01-14T21:05:07.490Z"
   },
   {
    "duration": 301,
    "start_time": "2022-01-14T21:06:21.871Z"
   },
   {
    "duration": 305,
    "start_time": "2022-01-14T21:08:23.509Z"
   },
   {
    "duration": 27,
    "start_time": "2022-01-14T21:20:36.179Z"
   },
   {
    "duration": 106,
    "start_time": "2022-01-14T21:20:55.235Z"
   },
   {
    "duration": 99,
    "start_time": "2022-01-14T21:20:58.044Z"
   },
   {
    "duration": 27,
    "start_time": "2022-01-14T21:21:06.726Z"
   },
   {
    "duration": 17,
    "start_time": "2022-01-14T21:21:10.796Z"
   },
   {
    "duration": 37,
    "start_time": "2022-01-14T21:21:21.168Z"
   },
   {
    "duration": 2,
    "start_time": "2022-01-14T21:23:48.009Z"
   },
   {
    "duration": 34,
    "start_time": "2022-01-14T21:25:00.491Z"
   },
   {
    "duration": 366,
    "start_time": "2022-01-14T21:25:29.936Z"
   },
   {
    "duration": 354,
    "start_time": "2022-01-14T21:25:34.568Z"
   },
   {
    "duration": 34,
    "start_time": "2022-01-14T21:25:37.452Z"
   },
   {
    "duration": 433,
    "start_time": "2022-01-14T21:25:56.245Z"
   },
   {
    "duration": 432,
    "start_time": "2022-01-14T21:26:28.925Z"
   },
   {
    "duration": 61,
    "start_time": "2022-01-14T21:26:38.040Z"
   },
   {
    "duration": 61,
    "start_time": "2022-01-14T21:26:48.640Z"
   },
   {
    "duration": 62,
    "start_time": "2022-01-14T21:28:10.018Z"
   },
   {
    "duration": 61,
    "start_time": "2022-01-14T21:28:14.251Z"
   },
   {
    "duration": 105,
    "start_time": "2022-01-14T21:28:46.738Z"
   },
   {
    "duration": 60,
    "start_time": "2022-01-14T21:28:53.864Z"
   },
   {
    "duration": 85,
    "start_time": "2022-01-14T21:29:18.748Z"
   },
   {
    "duration": 115,
    "start_time": "2022-01-14T21:29:41.333Z"
   },
   {
    "duration": 88,
    "start_time": "2022-01-14T21:30:20.112Z"
   },
   {
    "duration": 88,
    "start_time": "2022-01-14T21:31:18.643Z"
   },
   {
    "duration": 12,
    "start_time": "2022-01-14T21:35:11.230Z"
   },
   {
    "duration": 9,
    "start_time": "2022-01-14T21:35:22.548Z"
   },
   {
    "duration": 21,
    "start_time": "2022-01-14T21:38:41.172Z"
   },
   {
    "duration": 3,
    "start_time": "2022-01-14T21:58:55.738Z"
   },
   {
    "duration": 105309,
    "start_time": "2022-01-14T22:01:49.663Z"
   },
   {
    "duration": 9,
    "start_time": "2022-01-14T22:03:56.577Z"
   },
   {
    "duration": 7,
    "start_time": "2022-01-14T22:04:00.152Z"
   },
   {
    "duration": 6,
    "start_time": "2022-01-14T22:04:09.516Z"
   },
   {
    "duration": 249805,
    "start_time": "2022-01-14T22:07:29.040Z"
   },
   {
    "duration": 176,
    "start_time": "2022-01-14T22:15:04.759Z"
   },
   {
    "duration": 299,
    "start_time": "2022-01-14T22:15:44.175Z"
   },
   {
    "duration": 6,
    "start_time": "2022-01-14T22:25:26.565Z"
   },
   {
    "duration": 369,
    "start_time": "2022-01-14T22:25:30.912Z"
   },
   {
    "duration": 5,
    "start_time": "2022-01-14T22:25:35.610Z"
   },
   {
    "duration": 4,
    "start_time": "2022-01-14T22:25:43.159Z"
   },
   {
    "duration": 7,
    "start_time": "2022-01-14T22:26:21.938Z"
   },
   {
    "duration": 6,
    "start_time": "2022-01-14T22:26:31.040Z"
   },
   {
    "duration": 337,
    "start_time": "2022-01-14T22:26:42.542Z"
   },
   {
    "duration": 6,
    "start_time": "2022-01-14T22:27:01.724Z"
   },
   {
    "duration": 5,
    "start_time": "2022-01-14T22:27:29.878Z"
   },
   {
    "duration": 590,
    "start_time": "2022-01-14T22:27:37.526Z"
   },
   {
    "duration": 5,
    "start_time": "2022-01-14T22:27:48.857Z"
   },
   {
    "duration": 6,
    "start_time": "2022-01-14T22:27:52.955Z"
   },
   {
    "duration": 7,
    "start_time": "2022-01-14T22:28:06.942Z"
   },
   {
    "duration": 6,
    "start_time": "2022-01-14T22:28:24.359Z"
   },
   {
    "duration": 6,
    "start_time": "2022-01-14T22:28:31.795Z"
   },
   {
    "duration": 4,
    "start_time": "2022-01-14T22:31:51.702Z"
   },
   {
    "duration": 346,
    "start_time": "2022-01-14T22:31:58.789Z"
   },
   {
    "duration": 4,
    "start_time": "2022-01-14T22:32:04.888Z"
   },
   {
    "duration": 160,
    "start_time": "2022-01-14T22:32:55.572Z"
   },
   {
    "duration": 314,
    "start_time": "2022-01-14T22:33:02.473Z"
   },
   {
    "duration": 5,
    "start_time": "2022-01-14T22:35:19.159Z"
   },
   {
    "duration": 361,
    "start_time": "2022-01-14T22:36:17.000Z"
   },
   {
    "duration": 4,
    "start_time": "2022-01-14T22:36:20.910Z"
   },
   {
    "duration": 8,
    "start_time": "2022-01-14T22:40:02.296Z"
   },
   {
    "duration": 5,
    "start_time": "2022-01-14T22:40:31.317Z"
   },
   {
    "duration": 5,
    "start_time": "2022-01-14T22:41:13.366Z"
   },
   {
    "duration": 4,
    "start_time": "2022-01-14T22:41:24.449Z"
   },
   {
    "duration": 332,
    "start_time": "2022-01-14T22:41:37.711Z"
   },
   {
    "duration": 339,
    "start_time": "2022-01-14T22:41:45.136Z"
   },
   {
    "duration": 352,
    "start_time": "2022-01-14T22:41:50.095Z"
   },
   {
    "duration": 5,
    "start_time": "2022-01-14T22:41:54.379Z"
   },
   {
    "duration": 664,
    "start_time": "2022-01-14T22:42:29.923Z"
   },
   {
    "duration": 115,
    "start_time": "2022-01-14T22:42:38.062Z"
   },
   {
    "duration": 5,
    "start_time": "2022-01-14T22:43:04.842Z"
   },
   {
    "duration": 4,
    "start_time": "2022-01-14T22:43:09.000Z"
   },
   {
    "duration": 6,
    "start_time": "2022-01-14T22:43:15.514Z"
   },
   {
    "duration": 5,
    "start_time": "2022-01-14T22:44:07.857Z"
   },
   {
    "duration": 17,
    "start_time": "2022-01-14T22:45:36.126Z"
   },
   {
    "duration": 11,
    "start_time": "2022-01-14T22:48:34.740Z"
   },
   {
    "duration": 10,
    "start_time": "2022-01-14T22:48:49.588Z"
   },
   {
    "duration": 3,
    "start_time": "2022-01-14T22:50:03.005Z"
   },
   {
    "duration": 321317,
    "start_time": "2022-01-14T22:52:26.247Z"
   },
   {
    "duration": 354662,
    "start_time": "2022-01-14T23:09:32.265Z"
   },
   {
    "duration": 3,
    "start_time": "2022-01-14T23:15:57.615Z"
   },
   {
    "duration": 3,
    "start_time": "2022-01-14T23:16:00.344Z"
   },
   {
    "duration": 2,
    "start_time": "2022-01-14T23:16:37.051Z"
   },
   {
    "duration": -1014,
    "start_time": "2022-01-14T23:17:05.028Z"
   },
   {
    "duration": 2,
    "start_time": "2022-01-14T23:17:05.913Z"
   },
   {
    "duration": 104,
    "start_time": "2022-01-14T23:17:08.644Z"
   },
   {
    "duration": 104,
    "start_time": "2022-01-14T23:17:25.454Z"
   },
   {
    "duration": 27571,
    "start_time": "2022-01-14T23:17:31.683Z"
   },
   {
    "duration": 84370,
    "start_time": "2022-01-14T23:18:00.728Z"
   },
   {
    "duration": 79636,
    "start_time": "2022-01-14T23:21:05.874Z"
   },
   {
    "duration": 2135,
    "start_time": "2022-01-17T06:40:57.985Z"
   },
   {
    "duration": 536,
    "start_time": "2022-01-17T06:41:00.129Z"
   },
   {
    "duration": 34,
    "start_time": "2022-01-17T06:41:00.668Z"
   },
   {
    "duration": 28,
    "start_time": "2022-01-17T06:41:00.704Z"
   },
   {
    "duration": 75,
    "start_time": "2022-01-17T06:41:00.734Z"
   },
   {
    "duration": 63,
    "start_time": "2022-01-17T06:41:00.811Z"
   },
   {
    "duration": 114,
    "start_time": "2022-01-17T06:41:00.877Z"
   },
   {
    "duration": 113,
    "start_time": "2022-01-17T06:41:00.994Z"
   },
   {
    "duration": 84,
    "start_time": "2022-01-17T06:41:01.109Z"
   },
   {
    "duration": 79,
    "start_time": "2022-01-17T06:41:01.195Z"
   },
   {
    "duration": 89,
    "start_time": "2022-01-17T06:41:01.276Z"
   },
   {
    "duration": 106,
    "start_time": "2022-01-17T06:41:01.367Z"
   },
   {
    "duration": 124,
    "start_time": "2022-01-17T06:41:01.476Z"
   },
   {
    "duration": 152,
    "start_time": "2022-01-17T06:41:01.603Z"
   },
   {
    "duration": 6,
    "start_time": "2022-01-17T06:41:01.762Z"
   },
   {
    "duration": 60,
    "start_time": "2022-01-17T06:41:01.771Z"
   },
   {
    "duration": 2869,
    "start_time": "2022-01-17T06:41:01.834Z"
   },
   {
    "duration": 1177,
    "start_time": "2022-01-17T06:41:04.707Z"
   },
   {
    "duration": 32,
    "start_time": "2022-01-17T06:41:05.886Z"
   },
   {
    "duration": 438,
    "start_time": "2022-01-17T06:41:05.921Z"
   },
   {
    "duration": 16,
    "start_time": "2022-01-17T06:41:06.363Z"
   },
   {
    "duration": 40,
    "start_time": "2022-01-17T06:41:06.385Z"
   },
   {
    "duration": 2509,
    "start_time": "2022-01-17T06:41:06.429Z"
   },
   {
    "duration": 1971,
    "start_time": "2022-01-17T06:41:08.941Z"
   },
   {
    "duration": 49,
    "start_time": "2022-01-17T06:41:10.915Z"
   },
   {
    "duration": 2508,
    "start_time": "2022-01-17T06:41:10.967Z"
   },
   {
    "duration": 3514,
    "start_time": "2022-01-17T06:41:13.478Z"
   },
   {
    "duration": 6,
    "start_time": "2022-01-17T06:41:16.995Z"
   },
   {
    "duration": 171,
    "start_time": "2022-01-17T06:41:17.004Z"
   },
   {
    "duration": 96,
    "start_time": "2022-01-17T06:41:17.178Z"
   },
   {
    "duration": 22,
    "start_time": "2022-01-17T06:41:17.276Z"
   },
   {
    "duration": 8,
    "start_time": "2022-01-17T06:41:17.300Z"
   },
   {
    "duration": 7,
    "start_time": "2022-01-17T06:41:17.310Z"
   },
   {
    "duration": 59,
    "start_time": "2022-01-17T06:41:17.319Z"
   },
   {
    "duration": 20,
    "start_time": "2022-01-17T06:41:17.381Z"
   },
   {
    "duration": 8,
    "start_time": "2022-01-17T06:41:17.404Z"
   },
   {
    "duration": 53,
    "start_time": "2022-01-17T06:41:17.415Z"
   },
   {
    "duration": 27,
    "start_time": "2022-01-17T06:41:17.471Z"
   },
   {
    "duration": 5,
    "start_time": "2022-01-17T06:41:17.501Z"
   },
   {
    "duration": 6,
    "start_time": "2022-01-17T06:41:17.509Z"
   },
   {
    "duration": 514,
    "start_time": "2022-01-17T06:41:17.517Z"
   },
   {
    "duration": 2224,
    "start_time": "2022-01-17T06:41:15.811Z"
   },
   {
    "duration": 2217,
    "start_time": "2022-01-17T06:41:15.820Z"
   },
   {
    "duration": 2213,
    "start_time": "2022-01-17T06:41:15.825Z"
   },
   {
    "duration": 2207,
    "start_time": "2022-01-17T06:41:15.833Z"
   },
   {
    "duration": 2199,
    "start_time": "2022-01-17T06:41:15.843Z"
   },
   {
    "duration": 2191,
    "start_time": "2022-01-17T06:41:15.852Z"
   },
   {
    "duration": 2187,
    "start_time": "2022-01-17T06:41:15.857Z"
   },
   {
    "duration": 2181,
    "start_time": "2022-01-17T06:41:15.864Z"
   },
   {
    "duration": 2171,
    "start_time": "2022-01-17T06:41:15.876Z"
   },
   {
    "duration": 2160,
    "start_time": "2022-01-17T06:41:15.888Z"
   },
   {
    "duration": 2154,
    "start_time": "2022-01-17T06:41:15.895Z"
   },
   {
    "duration": 2146,
    "start_time": "2022-01-17T06:41:15.905Z"
   },
   {
    "duration": 2139,
    "start_time": "2022-01-17T06:41:15.913Z"
   },
   {
    "duration": 2131,
    "start_time": "2022-01-17T06:41:15.922Z"
   },
   {
    "duration": 2126,
    "start_time": "2022-01-17T06:41:15.929Z"
   },
   {
    "duration": 2118,
    "start_time": "2022-01-17T06:41:15.938Z"
   },
   {
    "duration": 2087,
    "start_time": "2022-01-17T06:41:15.970Z"
   },
   {
    "duration": 2079,
    "start_time": "2022-01-17T06:41:15.979Z"
   },
   {
    "duration": 2073,
    "start_time": "2022-01-17T06:41:15.987Z"
   },
   {
    "duration": 2068,
    "start_time": "2022-01-17T06:41:15.993Z"
   },
   {
    "duration": 2060,
    "start_time": "2022-01-17T06:41:16.002Z"
   },
   {
    "duration": 2054,
    "start_time": "2022-01-17T06:41:16.010Z"
   },
   {
    "duration": 2048,
    "start_time": "2022-01-17T06:41:16.017Z"
   },
   {
    "duration": 2045,
    "start_time": "2022-01-17T06:41:16.022Z"
   },
   {
    "duration": 2041,
    "start_time": "2022-01-17T06:41:16.028Z"
   },
   {
    "duration": 2034,
    "start_time": "2022-01-17T06:41:16.036Z"
   },
   {
    "duration": 2030,
    "start_time": "2022-01-17T06:41:16.042Z"
   },
   {
    "duration": 2027,
    "start_time": "2022-01-17T06:41:16.047Z"
   },
   {
    "duration": 2020,
    "start_time": "2022-01-17T06:41:16.055Z"
   },
   {
    "duration": 2017,
    "start_time": "2022-01-17T06:41:16.060Z"
   },
   {
    "duration": 2008,
    "start_time": "2022-01-17T06:41:16.070Z"
   },
   {
    "duration": 2005,
    "start_time": "2022-01-17T06:41:16.075Z"
   },
   {
    "duration": 2000,
    "start_time": "2022-01-17T06:41:16.081Z"
   },
   {
    "duration": 1991,
    "start_time": "2022-01-17T06:41:16.091Z"
   },
   {
    "duration": 1987,
    "start_time": "2022-01-17T06:41:16.096Z"
   },
   {
    "duration": 1980,
    "start_time": "2022-01-17T06:41:16.105Z"
   },
   {
    "duration": 1976,
    "start_time": "2022-01-17T06:41:16.110Z"
   },
   {
    "duration": 1968,
    "start_time": "2022-01-17T06:41:16.120Z"
   },
   {
    "duration": 357,
    "start_time": "2022-01-17T06:48:13.896Z"
   },
   {
    "duration": 328,
    "start_time": "2022-01-17T06:48:14.263Z"
   },
   {
    "duration": 7,
    "start_time": "2022-01-17T06:48:14.595Z"
   },
   {
    "duration": 250296,
    "start_time": "2022-01-17T06:48:14.605Z"
   },
   {
    "duration": 11,
    "start_time": "2022-01-17T06:52:24.903Z"
   },
   {
    "duration": 14,
    "start_time": "2022-01-17T06:52:24.917Z"
   },
   {
    "duration": 144156,
    "start_time": "2022-01-17T06:52:24.934Z"
   },
   {
    "duration": 2194,
    "start_time": "2022-01-17T06:54:46.901Z"
   },
   {
    "duration": 2171,
    "start_time": "2022-01-17T06:54:46.925Z"
   },
   {
    "duration": 2165,
    "start_time": "2022-01-17T06:54:46.933Z"
   },
   {
    "duration": 2152,
    "start_time": "2022-01-17T06:54:46.948Z"
   },
   {
    "duration": 2141,
    "start_time": "2022-01-17T06:54:46.960Z"
   },
   {
    "duration": 2133,
    "start_time": "2022-01-17T06:54:46.970Z"
   },
   {
    "duration": 2125,
    "start_time": "2022-01-17T06:54:46.979Z"
   },
   {
    "duration": 2116,
    "start_time": "2022-01-17T06:54:46.990Z"
   },
   {
    "duration": 2110,
    "start_time": "2022-01-17T06:54:46.997Z"
   },
   {
    "duration": 2097,
    "start_time": "2022-01-17T06:54:47.011Z"
   },
   {
    "duration": 2088,
    "start_time": "2022-01-17T06:54:47.022Z"
   },
   {
    "duration": 2075,
    "start_time": "2022-01-17T06:54:47.036Z"
   },
   {
    "duration": 2063,
    "start_time": "2022-01-17T06:54:47.049Z"
   },
   {
    "duration": 2054,
    "start_time": "2022-01-17T06:54:47.059Z"
   },
   {
    "duration": 2018,
    "start_time": "2022-01-17T06:54:47.096Z"
   },
   {
    "duration": 2013,
    "start_time": "2022-01-17T06:54:47.102Z"
   },
   {
    "duration": 2007,
    "start_time": "2022-01-17T06:54:47.110Z"
   },
   {
    "duration": 2002,
    "start_time": "2022-01-17T06:54:47.116Z"
   },
   {
    "duration": 1995,
    "start_time": "2022-01-17T06:54:47.124Z"
   },
   {
    "duration": 1991,
    "start_time": "2022-01-17T06:54:47.129Z"
   },
   {
    "duration": 1984,
    "start_time": "2022-01-17T06:54:47.138Z"
   },
   {
    "duration": 1980,
    "start_time": "2022-01-17T06:54:47.143Z"
   },
   {
    "duration": 1974,
    "start_time": "2022-01-17T06:54:47.150Z"
   },
   {
    "duration": 1968,
    "start_time": "2022-01-17T06:54:47.157Z"
   },
   {
    "duration": 2000,
    "start_time": "2022-01-17T06:54:47.163Z"
   },
   {
    "duration": 1993,
    "start_time": "2022-01-17T06:54:47.172Z"
   },
   {
    "duration": 1990,
    "start_time": "2022-01-17T06:54:47.177Z"
   },
   {
    "duration": 1987,
    "start_time": "2022-01-17T06:54:47.183Z"
   },
   {
    "duration": 1981,
    "start_time": "2022-01-17T06:54:47.191Z"
   },
   {
    "duration": 1978,
    "start_time": "2022-01-17T06:54:47.196Z"
   },
   {
    "duration": 1971,
    "start_time": "2022-01-17T06:54:47.205Z"
   },
   {
    "duration": 1967,
    "start_time": "2022-01-17T06:54:47.211Z"
   },
   {
    "duration": 783,
    "start_time": "2022-01-17T06:54:52.372Z"
   },
   {
    "duration": 7028,
    "start_time": "2022-01-17T06:56:32.410Z"
   },
   {
    "duration": 133180,
    "start_time": "2022-01-17T06:56:42.191Z"
   },
   {
    "duration": 89287,
    "start_time": "2022-01-17T07:00:05.451Z"
   },
   {
    "duration": 109823,
    "start_time": "2022-01-17T07:01:34.741Z"
   },
   {
    "duration": 5,
    "start_time": "2022-01-17T07:06:20.652Z"
   },
   {
    "duration": 8,
    "start_time": "2022-01-17T07:06:26.218Z"
   },
   {
    "duration": 23,
    "start_time": "2022-01-17T07:06:26.236Z"
   },
   {
    "duration": 49,
    "start_time": "2022-01-17T07:06:26.263Z"
   },
   {
    "duration": 353,
    "start_time": "2022-01-17T07:06:26.317Z"
   },
   {
    "duration": 10,
    "start_time": "2022-01-17T07:06:26.673Z"
   },
   {
    "duration": 1016,
    "start_time": "2022-01-17T07:06:26.686Z"
   },
   {
    "duration": 62,
    "start_time": "2022-01-17T07:06:27.704Z"
   },
   {
    "duration": 31,
    "start_time": "2022-01-17T07:06:27.768Z"
   },
   {
    "duration": 33,
    "start_time": "2022-01-17T07:06:27.801Z"
   },
   {
    "duration": 28,
    "start_time": "2022-01-17T07:06:27.839Z"
   },
   {
    "duration": 348,
    "start_time": "2022-01-17T07:06:27.870Z"
   },
   {
    "duration": 153,
    "start_time": "2022-01-17T07:06:28.265Z"
   },
   {
    "duration": 60,
    "start_time": "2022-01-17T07:06:28.421Z"
   },
   {
    "duration": 8,
    "start_time": "2022-01-17T07:06:28.484Z"
   },
   {
    "duration": 9,
    "start_time": "2022-01-17T07:06:28.494Z"
   },
   {
    "duration": 591,
    "start_time": "2022-01-17T07:06:28.506Z"
   },
   {
    "duration": 18,
    "start_time": "2022-01-17T07:06:29.100Z"
   },
   {
    "duration": 659004,
    "start_time": "2022-01-17T07:06:29.121Z"
   },
   {
    "duration": 529526,
    "start_time": "2022-01-17T07:17:28.128Z"
   },
   {
    "duration": 611985,
    "start_time": "2022-01-17T07:26:17.657Z"
   },
   {
    "duration": 529825,
    "start_time": "2022-01-17T07:36:29.645Z"
   },
   {
    "duration": 5,
    "start_time": "2022-01-17T07:45:19.473Z"
   },
   {
    "duration": 6,
    "start_time": "2022-01-17T07:45:19.481Z"
   },
   {
    "duration": 4,
    "start_time": "2022-01-17T07:45:19.491Z"
   },
   {
    "duration": 15,
    "start_time": "2022-01-17T07:45:19.499Z"
   },
   {
    "duration": 14,
    "start_time": "2022-01-17T07:45:19.517Z"
   },
   {
    "duration": 30,
    "start_time": "2022-01-17T07:45:19.535Z"
   },
   {
    "duration": 7,
    "start_time": "2022-01-17T07:45:19.570Z"
   },
   {
    "duration": 5,
    "start_time": "2022-01-17T07:45:19.580Z"
   },
   {
    "duration": 9,
    "start_time": "2022-01-17T07:45:19.588Z"
   },
   {
    "duration": 7,
    "start_time": "2022-01-17T07:45:19.599Z"
   },
   {
    "duration": 48,
    "start_time": "2022-01-17T07:48:47.133Z"
   },
   {
    "duration": 53,
    "start_time": "2022-01-17T07:49:00.320Z"
   },
   {
    "duration": 46,
    "start_time": "2022-01-17T07:49:09.605Z"
   },
   {
    "duration": 102,
    "start_time": "2022-01-17T07:49:14.716Z"
   },
   {
    "duration": 45,
    "start_time": "2022-01-17T07:49:18.060Z"
   },
   {
    "duration": 47,
    "start_time": "2022-01-17T07:55:40.667Z"
   },
   {
    "duration": 46,
    "start_time": "2022-01-17T07:55:44.579Z"
   },
   {
    "duration": 45,
    "start_time": "2022-01-17T07:55:58.875Z"
   },
   {
    "duration": 370,
    "start_time": "2022-01-17T07:56:14.377Z"
   },
   {
    "duration": 48,
    "start_time": "2022-01-17T07:58:39.039Z"
   },
   {
    "duration": 48,
    "start_time": "2022-01-17T07:58:49.079Z"
   },
   {
    "duration": 47,
    "start_time": "2022-01-17T07:59:13.245Z"
   },
   {
    "duration": 48,
    "start_time": "2022-01-17T07:59:15.486Z"
   },
   {
    "duration": 47,
    "start_time": "2022-01-17T07:59:57.804Z"
   },
   {
    "duration": 47,
    "start_time": "2022-01-17T08:00:03.483Z"
   },
   {
    "duration": 47,
    "start_time": "2022-01-17T08:00:13.769Z"
   },
   {
    "duration": 6,
    "start_time": "2022-01-17T08:00:32.801Z"
   },
   {
    "duration": 6,
    "start_time": "2022-01-17T08:04:36.577Z"
   },
   {
    "duration": 7,
    "start_time": "2022-01-17T08:04:44.973Z"
   },
   {
    "duration": 10,
    "start_time": "2022-01-17T08:04:59.456Z"
   },
   {
    "duration": 47,
    "start_time": "2022-01-17T08:06:09.812Z"
   },
   {
    "duration": 158,
    "start_time": "2022-01-17T08:06:43.222Z"
   },
   {
    "duration": 15,
    "start_time": "2022-01-17T08:06:54.435Z"
   },
   {
    "duration": 15,
    "start_time": "2022-01-17T08:08:04.314Z"
   },
   {
    "duration": 20,
    "start_time": "2022-01-17T08:12:04.266Z"
   },
   {
    "duration": 26,
    "start_time": "2022-01-17T08:12:05.124Z"
   },
   {
    "duration": 414,
    "start_time": "2022-01-17T08:12:28.242Z"
   },
   {
    "duration": 7854,
    "start_time": "2022-01-17T08:12:35.370Z"
   },
   {
    "duration": -266,
    "start_time": "2022-01-17T08:13:19.465Z"
   },
   {
    "duration": 8009,
    "start_time": "2022-01-17T08:13:26.637Z"
   },
   {
    "duration": 312,
    "start_time": "2022-01-17T08:13:51.109Z"
   },
   {
    "duration": 317,
    "start_time": "2022-01-17T08:26:12.739Z"
   },
   {
    "duration": 8525,
    "start_time": "2022-01-17T08:26:50.348Z"
   },
   {
    "duration": 9653,
    "start_time": "2022-01-17T08:28:47.745Z"
   },
   {
    "duration": 47,
    "start_time": "2022-01-17T08:29:09.808Z"
   },
   {
    "duration": 46,
    "start_time": "2022-01-17T08:30:00.021Z"
   },
   {
    "duration": 50,
    "start_time": "2022-01-17T08:30:09.923Z"
   },
   {
    "duration": 60,
    "start_time": "2022-01-17T08:30:50.161Z"
   },
   {
    "duration": 58,
    "start_time": "2022-01-17T08:31:27.312Z"
   },
   {
    "duration": 7922,
    "start_time": "2022-01-17T08:33:20.623Z"
   },
   {
    "duration": 828,
    "start_time": "2022-01-17T08:34:17.334Z"
   },
   {
    "duration": 194,
    "start_time": "2022-01-17T08:34:38.459Z"
   },
   {
    "duration": 887,
    "start_time": "2022-01-17T08:35:12.296Z"
   },
   {
    "duration": 965,
    "start_time": "2022-01-17T08:36:46.764Z"
   },
   {
    "duration": 889,
    "start_time": "2022-01-17T08:37:50.183Z"
   },
   {
    "duration": 431,
    "start_time": "2022-01-17T08:38:17.454Z"
   },
   {
    "duration": 876,
    "start_time": "2022-01-17T08:38:37.008Z"
   },
   {
    "duration": 796,
    "start_time": "2022-01-17T08:38:54.684Z"
   },
   {
    "duration": 904,
    "start_time": "2022-01-17T08:39:15.328Z"
   },
   {
    "duration": 49,
    "start_time": "2022-01-17T08:42:32.813Z"
   },
   {
    "duration": 512,
    "start_time": "2022-01-17T08:42:46.192Z"
   },
   {
    "duration": 47,
    "start_time": "2022-01-17T08:42:54.596Z"
   },
   {
    "duration": 15,
    "start_time": "2022-01-17T08:43:14.785Z"
   },
   {
    "duration": 20,
    "start_time": "2022-01-17T08:43:21.378Z"
   },
   {
    "duration": 27,
    "start_time": "2022-01-17T08:43:22.457Z"
   },
   {
    "duration": 124,
    "start_time": "2022-01-17T08:43:24.586Z"
   },
   {
    "duration": 4,
    "start_time": "2022-01-17T08:45:23.013Z"
   },
   {
    "duration": 6,
    "start_time": "2022-01-17T08:48:07.341Z"
   },
   {
    "duration": 8,
    "start_time": "2022-01-17T08:49:47.101Z"
   },
   {
    "duration": 592,
    "start_time": "2022-01-17T08:49:47.112Z"
   },
   {
    "duration": 29,
    "start_time": "2022-01-17T08:49:47.707Z"
   },
   {
    "duration": 45,
    "start_time": "2022-01-17T08:49:47.739Z"
   },
   {
    "duration": 79,
    "start_time": "2022-01-17T08:49:47.786Z"
   },
   {
    "duration": 44,
    "start_time": "2022-01-17T08:49:47.869Z"
   },
   {
    "duration": 127,
    "start_time": "2022-01-17T08:49:47.916Z"
   },
   {
    "duration": 99,
    "start_time": "2022-01-17T08:49:48.046Z"
   },
   {
    "duration": 55,
    "start_time": "2022-01-17T08:49:48.164Z"
   },
   {
    "duration": 73,
    "start_time": "2022-01-17T08:49:48.222Z"
   },
   {
    "duration": 84,
    "start_time": "2022-01-17T08:49:48.298Z"
   },
   {
    "duration": 120,
    "start_time": "2022-01-17T08:49:48.384Z"
   },
   {
    "duration": 93,
    "start_time": "2022-01-17T08:49:48.506Z"
   },
   {
    "duration": 148,
    "start_time": "2022-01-17T08:49:48.602Z"
   },
   {
    "duration": 11,
    "start_time": "2022-01-17T08:49:48.752Z"
   },
   {
    "duration": 48,
    "start_time": "2022-01-17T08:49:48.766Z"
   },
   {
    "duration": 2938,
    "start_time": "2022-01-17T08:49:48.817Z"
   },
   {
    "duration": 1127,
    "start_time": "2022-01-17T08:49:51.762Z"
   },
   {
    "duration": 33,
    "start_time": "2022-01-17T08:49:52.891Z"
   },
   {
    "duration": 439,
    "start_time": "2022-01-17T08:49:52.926Z"
   },
   {
    "duration": 16,
    "start_time": "2022-01-17T08:49:53.368Z"
   },
   {
    "duration": 40,
    "start_time": "2022-01-17T08:49:53.386Z"
   },
   {
    "duration": 2721,
    "start_time": "2022-01-17T08:49:53.431Z"
   },
   {
    "duration": 1993,
    "start_time": "2022-01-17T08:49:56.156Z"
   },
   {
    "duration": 36,
    "start_time": "2022-01-17T08:49:58.152Z"
   },
   {
    "duration": 2945,
    "start_time": "2022-01-17T08:49:58.191Z"
   },
   {
    "duration": 3785,
    "start_time": "2022-01-17T08:50:01.139Z"
   },
   {
    "duration": 6,
    "start_time": "2022-01-17T08:50:04.927Z"
   },
   {
    "duration": 169,
    "start_time": "2022-01-17T08:50:04.936Z"
   },
   {
    "duration": 91,
    "start_time": "2022-01-17T08:50:05.108Z"
   },
   {
    "duration": 20,
    "start_time": "2022-01-17T08:50:05.201Z"
   },
   {
    "duration": 8,
    "start_time": "2022-01-17T08:50:05.224Z"
   },
   {
    "duration": 31,
    "start_time": "2022-01-17T08:50:05.234Z"
   },
   {
    "duration": 31,
    "start_time": "2022-01-17T08:50:05.268Z"
   },
   {
    "duration": 26,
    "start_time": "2022-01-17T08:50:05.302Z"
   },
   {
    "duration": 13,
    "start_time": "2022-01-17T08:50:05.330Z"
   },
   {
    "duration": 65,
    "start_time": "2022-01-17T08:50:05.345Z"
   },
   {
    "duration": 73,
    "start_time": "2022-01-17T08:50:05.413Z"
   },
   {
    "duration": 16,
    "start_time": "2022-01-17T08:50:05.488Z"
   },
   {
    "duration": 36,
    "start_time": "2022-01-17T08:50:05.506Z"
   },
   {
    "duration": 38,
    "start_time": "2022-01-17T08:50:05.544Z"
   },
   {
    "duration": 141,
    "start_time": "2022-01-17T08:50:05.585Z"
   },
   {
    "duration": 4,
    "start_time": "2022-01-17T08:50:40.932Z"
   },
   {
    "duration": 293,
    "start_time": "2022-01-17T09:10:23.206Z"
   },
   {
    "duration": 11,
    "start_time": "2022-01-17T09:10:27.787Z"
   },
   {
    "duration": 5,
    "start_time": "2022-01-17T09:11:36.813Z"
   },
   {
    "duration": 7,
    "start_time": "2022-01-17T09:17:30.167Z"
   },
   {
    "duration": 416,
    "start_time": "2022-01-17T09:17:34.710Z"
   },
   {
    "duration": 50,
    "start_time": "2022-01-17T09:18:02.158Z"
   },
   {
    "duration": 7,
    "start_time": "2022-01-17T09:42:25.630Z"
   },
   {
    "duration": 399,
    "start_time": "2022-01-17T09:42:26.240Z"
   },
   {
    "duration": 10,
    "start_time": "2022-01-17T09:42:58.019Z"
   },
   {
    "duration": 187,
    "start_time": "2022-01-17T09:42:58.469Z"
   },
   {
    "duration": 6,
    "start_time": "2022-01-17T09:45:26.874Z"
   },
   {
    "duration": 275691,
    "start_time": "2022-01-17T09:45:41.674Z"
   },
   {
    "duration": 11,
    "start_time": "2022-01-17T09:50:17.368Z"
   },
   {
    "duration": 7,
    "start_time": "2022-01-17T09:51:23.476Z"
   },
   {
    "duration": 6,
    "start_time": "2022-01-17T09:52:03.923Z"
   },
   {
    "duration": 6,
    "start_time": "2022-01-17T09:52:20.538Z"
   },
   {
    "duration": 6,
    "start_time": "2022-01-17T09:52:31.803Z"
   },
   {
    "duration": 7,
    "start_time": "2022-01-17T09:54:09.394Z"
   },
   {
    "duration": 165934,
    "start_time": "2022-01-17T09:54:09.995Z"
   },
   {
    "duration": 1576,
    "start_time": "2022-01-17T11:32:15.530Z"
   },
   {
    "duration": 276,
    "start_time": "2022-01-17T11:32:17.109Z"
   },
   {
    "duration": 38,
    "start_time": "2022-01-17T11:32:17.387Z"
   },
   {
    "duration": 27,
    "start_time": "2022-01-17T11:32:17.427Z"
   },
   {
    "duration": 80,
    "start_time": "2022-01-17T11:32:17.457Z"
   },
   {
    "duration": 85,
    "start_time": "2022-01-17T11:32:17.540Z"
   },
   {
    "duration": 156,
    "start_time": "2022-01-17T11:32:17.628Z"
   },
   {
    "duration": 166,
    "start_time": "2022-01-17T11:32:17.790Z"
   },
   {
    "duration": 92,
    "start_time": "2022-01-17T11:32:17.959Z"
   },
   {
    "duration": 77,
    "start_time": "2022-01-17T11:32:18.054Z"
   },
   {
    "duration": 87,
    "start_time": "2022-01-17T11:32:18.133Z"
   },
   {
    "duration": 102,
    "start_time": "2022-01-17T11:32:18.223Z"
   },
   {
    "duration": 112,
    "start_time": "2022-01-17T11:32:18.328Z"
   },
   {
    "duration": 145,
    "start_time": "2022-01-17T11:32:18.442Z"
   },
   {
    "duration": 5,
    "start_time": "2022-01-17T11:32:18.589Z"
   },
   {
    "duration": 60,
    "start_time": "2022-01-17T11:32:18.597Z"
   },
   {
    "duration": 2780,
    "start_time": "2022-01-17T11:32:18.660Z"
   },
   {
    "duration": 1133,
    "start_time": "2022-01-17T11:32:21.443Z"
   },
   {
    "duration": 47,
    "start_time": "2022-01-17T11:32:22.579Z"
   },
   {
    "duration": 463,
    "start_time": "2022-01-17T11:32:22.628Z"
   },
   {
    "duration": 26,
    "start_time": "2022-01-17T11:32:23.093Z"
   },
   {
    "duration": 51,
    "start_time": "2022-01-17T11:32:23.122Z"
   },
   {
    "duration": 2565,
    "start_time": "2022-01-17T11:32:23.178Z"
   },
   {
    "duration": 2142,
    "start_time": "2022-01-17T11:32:25.746Z"
   },
   {
    "duration": 38,
    "start_time": "2022-01-17T11:32:27.890Z"
   },
   {
    "duration": 2515,
    "start_time": "2022-01-17T11:32:27.931Z"
   },
   {
    "duration": 3535,
    "start_time": "2022-01-17T11:32:30.449Z"
   },
   {
    "duration": 6,
    "start_time": "2022-01-17T11:32:33.987Z"
   },
   {
    "duration": 161,
    "start_time": "2022-01-17T11:32:33.995Z"
   },
   {
    "duration": 86,
    "start_time": "2022-01-17T11:32:34.159Z"
   },
   {
    "duration": 22,
    "start_time": "2022-01-17T11:32:34.247Z"
   },
   {
    "duration": 8,
    "start_time": "2022-01-17T11:32:34.272Z"
   },
   {
    "duration": 36,
    "start_time": "2022-01-17T11:32:34.282Z"
   },
   {
    "duration": 21,
    "start_time": "2022-01-17T11:32:34.320Z"
   },
   {
    "duration": 20,
    "start_time": "2022-01-17T11:32:34.343Z"
   },
   {
    "duration": 8,
    "start_time": "2022-01-17T11:32:34.365Z"
   },
   {
    "duration": 84,
    "start_time": "2022-01-17T11:32:34.375Z"
   },
   {
    "duration": 64,
    "start_time": "2022-01-17T11:32:34.461Z"
   },
   {
    "duration": 16,
    "start_time": "2022-01-17T11:32:34.527Z"
   },
   {
    "duration": 37,
    "start_time": "2022-01-17T11:32:34.545Z"
   },
   {
    "duration": 39,
    "start_time": "2022-01-17T11:32:34.584Z"
   },
   {
    "duration": 106,
    "start_time": "2022-01-17T11:32:34.625Z"
   },
   {
    "duration": -1026,
    "start_time": "2022-01-17T11:32:35.759Z"
   },
   {
    "duration": -1063,
    "start_time": "2022-01-17T11:32:35.798Z"
   },
   {
    "duration": -1070,
    "start_time": "2022-01-17T11:32:35.806Z"
   },
   {
    "duration": -1084,
    "start_time": "2022-01-17T11:32:35.822Z"
   },
   {
    "duration": -1111,
    "start_time": "2022-01-17T11:32:35.850Z"
   },
   {
    "duration": -1119,
    "start_time": "2022-01-17T11:32:35.861Z"
   },
   {
    "duration": -1131,
    "start_time": "2022-01-17T11:32:35.874Z"
   },
   {
    "duration": -1139,
    "start_time": "2022-01-17T11:32:35.884Z"
   },
   {
    "duration": -1147,
    "start_time": "2022-01-17T11:32:35.894Z"
   },
   {
    "duration": -1156,
    "start_time": "2022-01-17T11:32:35.904Z"
   },
   {
    "duration": -1165,
    "start_time": "2022-01-17T11:32:35.915Z"
   },
   {
    "duration": 139,
    "start_time": "2022-01-17T11:40:36.098Z"
   },
   {
    "duration": 4,
    "start_time": "2022-01-17T11:40:38.726Z"
   },
   {
    "duration": 7,
    "start_time": "2022-01-17T11:40:38.871Z"
   },
   {
    "duration": 215,
    "start_time": "2022-01-17T11:40:38.998Z"
   },
   {
    "duration": 7,
    "start_time": "2022-01-17T11:40:41.213Z"
   },
   {
    "duration": 280783,
    "start_time": "2022-01-17T11:40:43.197Z"
   },
   {
    "duration": 12,
    "start_time": "2022-01-17T11:45:23.982Z"
   },
   {
    "duration": 23,
    "start_time": "2022-01-17T11:45:23.997Z"
   },
   {
    "duration": 153813,
    "start_time": "2022-01-17T11:45:24.023Z"
   },
   {
    "duration": 1073624,
    "start_time": "2022-01-17T11:47:57.839Z"
   },
   {
    "duration": -1216,
    "start_time": "2022-01-17T12:05:52.683Z"
   },
   {
    "duration": -1221,
    "start_time": "2022-01-17T12:05:52.691Z"
   },
   {
    "duration": -1146,
    "start_time": "2022-01-17T12:05:54.660Z"
   },
   {
    "duration": -1176,
    "start_time": "2022-01-17T12:05:54.691Z"
   },
   {
    "duration": -1182,
    "start_time": "2022-01-17T12:05:54.722Z"
   },
   {
    "duration": 7,
    "start_time": "2022-01-17T12:06:00.881Z"
   },
   {
    "duration": 8320,
    "start_time": "2022-01-17T12:06:01.439Z"
   },
   {
    "duration": 6,
    "start_time": "2022-01-17T12:06:15.741Z"
   },
   {
    "duration": 1227726,
    "start_time": "2022-01-17T12:06:19.800Z"
   },
   {
    "duration": 156544,
    "start_time": "2022-01-17T12:26:47.530Z"
   },
   {
    "duration": 6,
    "start_time": "2022-01-17T12:29:24.078Z"
   },
   {
    "duration": 6,
    "start_time": "2022-01-17T12:30:57.063Z"
   },
   {
    "duration": 4,
    "start_time": "2022-01-17T12:31:30.428Z"
   },
   {
    "duration": 4,
    "start_time": "2022-01-17T12:31:34.883Z"
   },
   {
    "duration": 155,
    "start_time": "2022-01-17T12:31:35.971Z"
   },
   {
    "duration": 8,
    "start_time": "2022-01-17T12:32:12.305Z"
   },
   {
    "duration": 1092,
    "start_time": "2022-01-17T12:32:14.558Z"
   },
   {
    "duration": 48,
    "start_time": "2022-01-17T12:32:20.025Z"
   },
   {
    "duration": 452,
    "start_time": "2022-01-17T12:38:40.122Z"
   },
   {
    "duration": 8,
    "start_time": "2022-01-17T12:40:13.307Z"
   },
   {
    "duration": 7,
    "start_time": "2022-01-17T12:40:16.507Z"
   },
   {
    "duration": 768,
    "start_time": "2022-01-17T12:40:20.522Z"
   },
   {
    "duration": 784,
    "start_time": "2022-01-17T12:40:29.721Z"
   },
   {
    "duration": 814,
    "start_time": "2022-01-17T12:40:34.961Z"
   },
   {
    "duration": 894,
    "start_time": "2022-01-17T12:43:34.902Z"
   },
   {
    "duration": 795,
    "start_time": "2022-01-17T12:43:41.999Z"
   },
   {
    "duration": 1079,
    "start_time": "2022-01-17T12:43:49.300Z"
   },
   {
    "duration": 7,
    "start_time": "2022-01-17T12:50:10.452Z"
   },
   {
    "duration": 7,
    "start_time": "2022-01-17T12:50:14.801Z"
   },
   {
    "duration": 272,
    "start_time": "2022-01-17T12:50:18.474Z"
   },
   {
    "duration": 7,
    "start_time": "2022-01-17T12:50:20.891Z"
   },
   {
    "duration": 261593,
    "start_time": "2022-01-17T12:50:22.641Z"
   },
   {
    "duration": 11,
    "start_time": "2022-01-17T12:54:44.237Z"
   },
   {
    "duration": 7,
    "start_time": "2022-01-17T12:54:44.251Z"
   },
   {
    "duration": 166858,
    "start_time": "2022-01-17T12:54:44.261Z"
   },
   {
    "duration": 268190,
    "start_time": "2022-01-17T12:57:31.127Z"
   },
   {
    "duration": 156128,
    "start_time": "2022-01-17T13:09:39.730Z"
   },
   {
    "duration": 6,
    "start_time": "2022-01-17T13:12:15.860Z"
   },
   {
    "duration": 6,
    "start_time": "2022-01-17T13:14:15.397Z"
   },
   {
    "duration": 3,
    "start_time": "2022-01-17T13:14:25.319Z"
   },
   {
    "duration": 4,
    "start_time": "2022-01-17T13:14:27.864Z"
   },
   {
    "duration": 142,
    "start_time": "2022-01-17T13:14:28.304Z"
   },
   {
    "duration": 4,
    "start_time": "2022-01-17T13:14:30.825Z"
   },
   {
    "duration": 262,
    "start_time": "2022-01-17T13:14:31.175Z"
   },
   {
    "duration": 9,
    "start_time": "2022-01-17T13:14:53.982Z"
   },
   {
    "duration": 1039,
    "start_time": "2022-01-17T13:14:56.671Z"
   },
   {
    "duration": 48,
    "start_time": "2022-01-17T13:17:33.945Z"
   },
   {
    "duration": 40,
    "start_time": "2022-01-17T13:17:50.815Z"
   },
   {
    "duration": 56,
    "start_time": "2022-01-17T13:17:52.643Z"
   },
   {
    "duration": 7,
    "start_time": "2022-01-17T13:17:53.251Z"
   },
   {
    "duration": 8,
    "start_time": "2022-01-17T13:18:24.881Z"
   },
   {
    "duration": 6,
    "start_time": "2022-01-17T13:18:26.112Z"
   },
   {
    "duration": 798,
    "start_time": "2022-01-17T13:18:29.056Z"
   },
   {
    "duration": 165,
    "start_time": "2022-01-17T13:20:17.826Z"
   },
   {
    "duration": 20,
    "start_time": "2022-01-17T13:24:26.660Z"
   },
   {
    "duration": 669779,
    "start_time": "2022-01-17T13:24:39.681Z"
   },
   {
    "duration": 19,
    "start_time": "2022-01-17T13:39:23.559Z"
   },
   {
    "duration": 762,
    "start_time": "2022-01-17T13:39:36.758Z"
   },
   {
    "duration": 11,
    "start_time": "2022-01-17T13:39:41.494Z"
   },
   {
    "duration": 6,
    "start_time": "2022-01-17T13:39:42.090Z"
   },
   {
    "duration": 1004,
    "start_time": "2022-01-17T13:39:43.254Z"
   },
   {
    "duration": 8,
    "start_time": "2022-01-17T13:40:39.568Z"
   },
   {
    "duration": 4,
    "start_time": "2022-01-17T13:40:50.585Z"
   },
   {
    "duration": 304,
    "start_time": "2022-01-17T13:41:07.145Z"
   },
   {
    "duration": 4,
    "start_time": "2022-01-17T13:41:09.768Z"
   },
   {
    "duration": 7,
    "start_time": "2022-01-17T13:41:14.748Z"
   },
   {
    "duration": 84,
    "start_time": "2022-01-17T13:42:06.325Z"
   },
   {
    "duration": 4,
    "start_time": "2022-01-17T13:44:03.501Z"
   },
   {
    "duration": 805,
    "start_time": "2022-01-17T13:44:12.489Z"
   },
   {
    "duration": 4,
    "start_time": "2022-01-17T13:46:57.555Z"
   },
   {
    "duration": 517,
    "start_time": "2022-01-17T13:46:58.826Z"
   },
   {
    "duration": 3,
    "start_time": "2022-01-17T13:47:52.476Z"
   },
   {
    "duration": 6,
    "start_time": "2022-01-17T13:47:52.948Z"
   },
   {
    "duration": 272,
    "start_time": "2022-01-17T13:47:53.412Z"
   },
   {
    "duration": 6,
    "start_time": "2022-01-17T13:48:05.732Z"
   },
   {
    "duration": 6,
    "start_time": "2022-01-17T13:48:06.179Z"
   },
   {
    "duration": 5,
    "start_time": "2022-01-17T13:48:37.795Z"
   },
   {
    "duration": 4,
    "start_time": "2022-01-17T13:48:41.137Z"
   },
   {
    "duration": 11,
    "start_time": "2022-01-17T13:48:41.537Z"
   },
   {
    "duration": 4,
    "start_time": "2022-01-17T13:48:50.771Z"
   },
   {
    "duration": 7,
    "start_time": "2022-01-17T13:48:51.140Z"
   },
   {
    "duration": 260,
    "start_time": "2022-01-17T13:49:04.348Z"
   },
   {
    "duration": 7,
    "start_time": "2022-01-17T13:49:09.231Z"
   },
   {
    "duration": 25,
    "start_time": "2022-01-17T13:49:37.823Z"
   },
   {
    "duration": 40,
    "start_time": "2022-01-17T13:50:03.279Z"
   },
   {
    "duration": 7,
    "start_time": "2022-01-17T13:50:30.915Z"
   },
   {
    "duration": 7,
    "start_time": "2022-01-17T13:54:23.186Z"
   },
   {
    "duration": 7,
    "start_time": "2022-01-17T13:54:39.641Z"
   },
   {
    "duration": 4,
    "start_time": "2022-01-17T13:54:40.009Z"
   },
   {
    "duration": 6,
    "start_time": "2022-01-17T13:54:40.379Z"
   },
   {
    "duration": -1584,
    "start_time": "2022-01-17T13:55:34.307Z"
   },
   {
    "duration": 7,
    "start_time": "2022-01-17T13:55:34.853Z"
   },
   {
    "duration": 8,
    "start_time": "2022-01-17T13:58:39.098Z"
   },
   {
    "duration": 53,
    "start_time": "2022-01-17T14:00:06.781Z"
   },
   {
    "duration": 47,
    "start_time": "2022-01-17T14:03:57.864Z"
   },
   {
    "duration": 335,
    "start_time": "2022-01-17T14:04:43.036Z"
   },
   {
    "duration": 267,
    "start_time": "2022-01-17T14:05:25.177Z"
   },
   {
    "duration": 48,
    "start_time": "2022-01-17T14:06:41.740Z"
   },
   {
    "duration": 243,
    "start_time": "2022-01-17T14:06:42.192Z"
   },
   {
    "duration": 18,
    "start_time": "2022-01-17T14:08:32.744Z"
   },
   {
    "duration": 15,
    "start_time": "2022-01-17T14:09:01.868Z"
   },
   {
    "duration": 9,
    "start_time": "2022-01-17T14:09:25.410Z"
   },
   {
    "duration": 271,
    "start_time": "2022-01-17T14:09:29.386Z"
   },
   {
    "duration": 7,
    "start_time": "2022-01-17T14:09:32.794Z"
   },
   {
    "duration": 9,
    "start_time": "2022-01-17T14:12:57.823Z"
   },
   {
    "duration": 270,
    "start_time": "2022-01-17T14:13:21.916Z"
   },
   {
    "duration": 11,
    "start_time": "2022-01-17T14:14:40.040Z"
   },
   {
    "duration": 7,
    "start_time": "2022-01-17T14:15:11.841Z"
   },
   {
    "duration": 10,
    "start_time": "2022-01-17T14:15:18.412Z"
   },
   {
    "duration": 9,
    "start_time": "2022-01-17T14:15:51.610Z"
   },
   {
    "duration": 36,
    "start_time": "2022-01-17T14:16:41.875Z"
   },
   {
    "duration": 4,
    "start_time": "2022-01-17T14:21:18.396Z"
   },
   {
    "duration": 6,
    "start_time": "2022-01-17T14:21:18.779Z"
   },
   {
    "duration": 4,
    "start_time": "2022-01-17T14:22:03.079Z"
   },
   {
    "duration": 6,
    "start_time": "2022-01-17T14:22:31.023Z"
   },
   {
    "duration": 5,
    "start_time": "2022-01-17T14:25:21.332Z"
   },
   {
    "duration": 7,
    "start_time": "2022-01-17T14:26:02.923Z"
   },
   {
    "duration": 4,
    "start_time": "2022-01-17T14:26:03.994Z"
   },
   {
    "duration": 5,
    "start_time": "2022-01-17T14:26:04.593Z"
   },
   {
    "duration": 7,
    "start_time": "2022-01-17T14:26:58.142Z"
   },
   {
    "duration": 3,
    "start_time": "2022-01-17T14:26:59.653Z"
   },
   {
    "duration": 6,
    "start_time": "2022-01-17T14:27:02.485Z"
   },
   {
    "duration": 12420,
    "start_time": "2022-01-17T14:28:25.177Z"
   },
   {
    "duration": 6655,
    "start_time": "2022-01-17T14:29:06.773Z"
   },
   {
    "duration": 265,
    "start_time": "2022-01-17T14:29:33.340Z"
   },
   {
    "duration": 1439,
    "start_time": "2022-01-17T14:30:21.494Z"
   },
   {
    "duration": 1638,
    "start_time": "2022-01-17T14:38:37.979Z"
   },
   {
    "duration": 573,
    "start_time": "2022-01-17T14:38:40.673Z"
   },
   {
    "duration": 293,
    "start_time": "2022-01-17T14:38:57.408Z"
   },
   {
    "duration": 3,
    "start_time": "2022-01-17T14:39:12.631Z"
   },
   {
    "duration": 8,
    "start_time": "2022-01-17T14:41:39.407Z"
   },
   {
    "duration": 7,
    "start_time": "2022-01-17T14:42:08.404Z"
   },
   {
    "duration": 255,
    "start_time": "2022-01-17T14:42:11.233Z"
   },
   {
    "duration": 251,
    "start_time": "2022-01-17T14:42:14.568Z"
   },
   {
    "duration": 18,
    "start_time": "2022-01-17T14:42:33.971Z"
   },
   {
    "duration": 20,
    "start_time": "2022-01-17T14:43:05.384Z"
   },
   {
    "duration": 20,
    "start_time": "2022-01-17T14:43:08.787Z"
   },
   {
    "duration": 8,
    "start_time": "2022-01-17T14:44:06.507Z"
   },
   {
    "duration": 5415,
    "start_time": "2022-01-17T14:44:40.949Z"
   },
   {
    "duration": 7,
    "start_time": "2022-01-17T14:46:15.028Z"
   },
   {
    "duration": 3,
    "start_time": "2022-01-17T14:46:22.884Z"
   },
   {
    "duration": 291,
    "start_time": "2022-01-17T14:50:59.706Z"
   },
   {
    "duration": 60,
    "start_time": "2022-01-17T14:51:18.450Z"
   },
   {
    "duration": 6,
    "start_time": "2022-01-17T14:51:19.048Z"
   },
   {
    "duration": 39,
    "start_time": "2022-01-17T14:51:19.553Z"
   },
   {
    "duration": 7462,
    "start_time": "2022-01-17T14:51:22.432Z"
   },
   {
    "duration": 39,
    "start_time": "2022-01-17T14:52:03.444Z"
   },
   {
    "duration": 63,
    "start_time": "2022-01-17T14:52:05.318Z"
   },
   {
    "duration": 7,
    "start_time": "2022-01-17T14:52:05.726Z"
   },
   {
    "duration": 35,
    "start_time": "2022-01-17T14:52:06.285Z"
   },
   {
    "duration": 6804,
    "start_time": "2022-01-17T14:52:09.709Z"
   },
   {
    "duration": 4,
    "start_time": "2022-01-17T14:53:05.417Z"
   },
   {
    "duration": 6,
    "start_time": "2022-01-17T14:53:06.018Z"
   },
   {
    "duration": 3,
    "start_time": "2022-01-17T14:53:32.156Z"
   },
   {
    "duration": 6,
    "start_time": "2022-01-17T14:53:32.864Z"
   },
   {
    "duration": 4,
    "start_time": "2022-01-17T14:53:36.543Z"
   },
   {
    "duration": 6,
    "start_time": "2022-01-17T14:53:36.995Z"
   },
   {
    "duration": 4,
    "start_time": "2022-01-17T14:53:41.994Z"
   },
   {
    "duration": 4,
    "start_time": "2022-01-17T14:53:52.862Z"
   },
   {
    "duration": 5,
    "start_time": "2022-01-17T14:53:53.587Z"
   },
   {
    "duration": 91,
    "start_time": "2022-01-17T14:54:18.300Z"
   },
   {
    "duration": 8,
    "start_time": "2022-01-17T14:54:24.725Z"
   },
   {
    "duration": 3,
    "start_time": "2022-01-17T14:54:25.692Z"
   },
   {
    "duration": 4,
    "start_time": "2022-01-17T14:54:27.207Z"
   },
   {
    "duration": 5,
    "start_time": "2022-01-17T14:54:27.469Z"
   },
   {
    "duration": 1228,
    "start_time": "2022-01-17T14:54:32.085Z"
   },
   {
    "duration": 8,
    "start_time": "2022-01-17T14:55:06.012Z"
   },
   {
    "duration": 3,
    "start_time": "2022-01-17T14:55:06.602Z"
   },
   {
    "duration": 4,
    "start_time": "2022-01-17T14:55:06.937Z"
   },
   {
    "duration": 7701,
    "start_time": "2022-01-17T14:55:13.754Z"
   },
   {
    "duration": 4,
    "start_time": "2022-01-17T14:55:51.983Z"
   },
   {
    "duration": 5,
    "start_time": "2022-01-17T14:55:52.677Z"
   },
   {
    "duration": 5,
    "start_time": "2022-01-17T14:56:07.477Z"
   },
   {
    "duration": 4,
    "start_time": "2022-01-17T14:56:13.957Z"
   },
   {
    "duration": 6,
    "start_time": "2022-01-17T14:56:14.703Z"
   },
   {
    "duration": 9,
    "start_time": "2022-01-17T14:56:20.021Z"
   },
   {
    "duration": 7,
    "start_time": "2022-01-17T14:56:20.529Z"
   },
   {
    "duration": 7342,
    "start_time": "2022-01-17T14:56:47.385Z"
   },
   {
    "duration": 39,
    "start_time": "2022-01-17T14:57:40.720Z"
   },
   {
    "duration": 8317,
    "start_time": "2022-01-17T15:02:12.360Z"
   },
   {
    "duration": 44,
    "start_time": "2022-01-17T15:02:21.727Z"
   },
   {
    "duration": 10,
    "start_time": "2022-01-17T15:03:06.802Z"
   },
   {
    "duration": 53,
    "start_time": "2022-01-17T15:03:21.730Z"
   },
   {
    "duration": 8,
    "start_time": "2022-01-17T15:10:53.309Z"
   },
   {
    "duration": 81,
    "start_time": "2022-01-17T15:18:48.547Z"
   },
   {
    "duration": 7,
    "start_time": "2022-01-17T15:18:59.407Z"
   },
   {
    "duration": 6,
    "start_time": "2022-01-17T15:19:58.186Z"
   },
   {
    "duration": 4942,
    "start_time": "2022-01-17T15:20:04.305Z"
   },
   {
    "duration": 266,
    "start_time": "2022-01-17T15:21:06.070Z"
   },
   {
    "duration": 7,
    "start_time": "2022-01-17T15:21:18.841Z"
   },
   {
    "duration": 5,
    "start_time": "2022-01-17T15:22:46.014Z"
   },
   {
    "duration": 4975,
    "start_time": "2022-01-17T15:22:46.884Z"
   },
   {
    "duration": 7,
    "start_time": "2022-01-17T15:25:25.650Z"
   },
   {
    "duration": 4754,
    "start_time": "2022-01-17T15:25:27.573Z"
   },
   {
    "duration": 7,
    "start_time": "2022-01-17T15:28:11.455Z"
   },
   {
    "duration": 4643,
    "start_time": "2022-01-17T15:28:12.505Z"
   },
   {
    "duration": 9,
    "start_time": "2022-01-17T15:34:23.460Z"
   },
   {
    "duration": 276,
    "start_time": "2022-01-17T15:35:38.187Z"
   },
   {
    "duration": 252,
    "start_time": "2022-01-17T15:36:04.631Z"
   },
   {
    "duration": 276,
    "start_time": "2022-01-17T15:36:10.491Z"
   },
   {
    "duration": 5,
    "start_time": "2022-01-17T15:36:29.481Z"
   },
   {
    "duration": 6,
    "start_time": "2022-01-17T15:36:38.658Z"
   },
   {
    "duration": 8,
    "start_time": "2022-01-17T15:37:14.173Z"
   },
   {
    "duration": 1897,
    "start_time": "2022-01-17T15:37:17.200Z"
   },
   {
    "duration": 274,
    "start_time": "2022-01-17T15:38:59.113Z"
   },
   {
    "duration": 358,
    "start_time": "2022-01-17T15:39:08.847Z"
   },
   {
    "duration": 247,
    "start_time": "2022-01-17T15:39:52.107Z"
   },
   {
    "duration": 17805,
    "start_time": "2022-01-17T15:40:00.888Z"
   },
   {
    "duration": 9,
    "start_time": "2022-01-17T15:42:38.080Z"
   },
   {
    "duration": 493,
    "start_time": "2022-01-17T15:42:39.204Z"
   },
   {
    "duration": 8,
    "start_time": "2022-01-17T15:44:22.387Z"
   },
   {
    "duration": 8,
    "start_time": "2022-01-17T15:44:31.061Z"
   },
   {
    "duration": 568,
    "start_time": "2022-01-17T15:44:31.498Z"
   },
   {
    "duration": 8,
    "start_time": "2022-01-17T15:44:51.432Z"
   },
   {
    "duration": 603,
    "start_time": "2022-01-17T15:44:52.674Z"
   },
   {
    "duration": 8,
    "start_time": "2022-01-17T15:45:30.799Z"
   },
   {
    "duration": 664,
    "start_time": "2022-01-17T15:45:31.228Z"
   },
   {
    "duration": 6,
    "start_time": "2022-01-17T15:46:35.090Z"
   },
   {
    "duration": 8,
    "start_time": "2022-01-17T15:47:23.098Z"
   },
   {
    "duration": 8,
    "start_time": "2022-01-17T15:47:25.472Z"
   },
   {
    "duration": 7,
    "start_time": "2022-01-17T15:47:26.912Z"
   },
   {
    "duration": 6,
    "start_time": "2022-01-17T15:47:33.586Z"
   },
   {
    "duration": 9,
    "start_time": "2022-01-17T15:49:03.789Z"
   },
   {
    "duration": 7,
    "start_time": "2022-01-17T15:49:04.536Z"
   },
   {
    "duration": 6861,
    "start_time": "2022-01-17T15:49:05.341Z"
   },
   {
    "duration": 8,
    "start_time": "2022-01-17T15:50:11.613Z"
   },
   {
    "duration": 6688,
    "start_time": "2022-01-17T15:50:12.901Z"
   },
   {
    "duration": 8,
    "start_time": "2022-01-17T15:50:40.547Z"
   },
   {
    "duration": 6855,
    "start_time": "2022-01-17T15:50:41.785Z"
   },
   {
    "duration": 6832,
    "start_time": "2022-01-17T15:51:30.811Z"
   },
   {
    "duration": 144,
    "start_time": "2022-01-17T15:52:41.499Z"
   },
   {
    "duration": 8,
    "start_time": "2022-01-17T15:52:48.355Z"
   },
   {
    "duration": 4,
    "start_time": "2022-01-17T15:52:58.811Z"
   },
   {
    "duration": 5,
    "start_time": "2022-01-17T15:52:59.554Z"
   },
   {
    "duration": 4,
    "start_time": "2022-01-17T15:53:01.003Z"
   },
   {
    "duration": 6,
    "start_time": "2022-01-17T15:53:02.664Z"
   },
   {
    "duration": 4,
    "start_time": "2022-01-17T15:53:06.781Z"
   },
   {
    "duration": 5,
    "start_time": "2022-01-17T15:53:08.488Z"
   },
   {
    "duration": 3,
    "start_time": "2022-01-17T15:53:22.854Z"
   },
   {
    "duration": 11,
    "start_time": "2022-01-17T15:53:45.262Z"
   },
   {
    "duration": 3,
    "start_time": "2022-01-17T15:53:45.774Z"
   },
   {
    "duration": 4,
    "start_time": "2022-01-17T15:53:46.417Z"
   },
   {
    "duration": 5,
    "start_time": "2022-01-17T15:53:48.203Z"
   },
   {
    "duration": 8,
    "start_time": "2022-01-17T15:53:58.684Z"
   },
   {
    "duration": 36,
    "start_time": "2022-01-17T15:54:39.900Z"
   },
   {
    "duration": 8,
    "start_time": "2022-01-17T15:55:06.227Z"
   },
   {
    "duration": 4,
    "start_time": "2022-01-17T15:55:12.600Z"
   },
   {
    "duration": 6,
    "start_time": "2022-01-17T15:55:13.266Z"
   },
   {
    "duration": 4,
    "start_time": "2022-01-17T15:55:17.841Z"
   },
   {
    "duration": 5,
    "start_time": "2022-01-17T15:55:18.930Z"
   },
   {
    "duration": 4,
    "start_time": "2022-01-17T15:56:26.684Z"
   },
   {
    "duration": 5,
    "start_time": "2022-01-17T15:56:28.755Z"
   },
   {
    "duration": 4,
    "start_time": "2022-01-17T15:56:36.599Z"
   },
   {
    "duration": 6,
    "start_time": "2022-01-17T15:56:37.490Z"
   },
   {
    "duration": 4,
    "start_time": "2022-01-17T15:56:50.171Z"
   },
   {
    "duration": 6,
    "start_time": "2022-01-17T15:56:50.940Z"
   },
   {
    "duration": 5,
    "start_time": "2022-01-17T15:57:01.465Z"
   },
   {
    "duration": 6,
    "start_time": "2022-01-17T15:57:02.908Z"
   },
   {
    "duration": 66,
    "start_time": "2022-01-17T15:59:58.743Z"
   },
   {
    "duration": 7899,
    "start_time": "2022-01-17T16:00:11.030Z"
   },
   {
    "duration": 36,
    "start_time": "2022-01-17T16:00:30.493Z"
   },
   {
    "duration": 6696,
    "start_time": "2022-01-17T16:01:17.159Z"
   },
   {
    "duration": 494,
    "start_time": "2022-01-17T16:04:54.118Z"
   },
   {
    "duration": 257,
    "start_time": "2022-01-17T16:05:17.802Z"
   },
   {
    "duration": 258,
    "start_time": "2022-01-17T16:05:28.204Z"
   },
   {
    "duration": 83,
    "start_time": "2022-01-17T16:07:39.165Z"
   },
   {
    "duration": 84,
    "start_time": "2022-01-17T16:07:44.876Z"
   },
   {
    "duration": 117,
    "start_time": "2022-01-17T16:07:50.097Z"
   },
   {
    "duration": 5,
    "start_time": "2022-01-17T16:11:23.436Z"
   },
   {
    "duration": 6,
    "start_time": "2022-01-17T16:11:55.665Z"
   },
   {
    "duration": 5325,
    "start_time": "2022-01-17T16:11:55.969Z"
   },
   {
    "duration": 5,
    "start_time": "2022-01-17T16:12:12.041Z"
   },
   {
    "duration": 5023,
    "start_time": "2022-01-17T16:12:12.771Z"
   },
   {
    "duration": 4745,
    "start_time": "2022-01-17T16:13:30.192Z"
   },
   {
    "duration": 38,
    "start_time": "2022-01-17T16:13:57.497Z"
   },
   {
    "duration": 36,
    "start_time": "2022-01-17T16:18:57.361Z"
   },
   {
    "duration": 5278,
    "start_time": "2022-01-17T16:21:02.283Z"
   },
   {
    "duration": 178,
    "start_time": "2022-01-17T16:21:08.620Z"
   },
   {
    "duration": 38,
    "start_time": "2022-01-17T16:21:12.331Z"
   },
   {
    "duration": 5,
    "start_time": "2022-01-17T16:22:03.268Z"
   },
   {
    "duration": 38,
    "start_time": "2022-01-17T16:22:08.330Z"
   },
   {
    "duration": 37,
    "start_time": "2022-01-17T16:22:18.529Z"
   },
   {
    "duration": 26,
    "start_time": "2022-01-17T16:23:01.331Z"
   },
   {
    "duration": 21,
    "start_time": "2022-01-17T16:23:18.645Z"
   },
   {
    "duration": 19,
    "start_time": "2022-01-17T16:23:31.965Z"
   },
   {
    "duration": 6,
    "start_time": "2022-01-17T16:52:11.060Z"
   },
   {
    "duration": 253901,
    "start_time": "2022-01-17T16:52:12.748Z"
   },
   {
    "duration": 11,
    "start_time": "2022-01-17T16:58:16.204Z"
   },
   {
    "duration": 10,
    "start_time": "2022-01-17T16:58:21.800Z"
   },
   {
    "duration": 41,
    "start_time": "2022-01-17T17:06:42.883Z"
   },
   {
    "duration": 34,
    "start_time": "2022-01-17T17:06:43.526Z"
   },
   {
    "duration": 8,
    "start_time": "2022-01-17T17:06:51.894Z"
   },
   {
    "duration": 8,
    "start_time": "2022-01-17T17:07:08.068Z"
   },
   {
    "duration": 255,
    "start_time": "2022-01-17T17:08:57.586Z"
   },
   {
    "duration": 192,
    "start_time": "2022-01-17T17:09:06.741Z"
   },
   {
    "duration": 433,
    "start_time": "2022-01-17T17:09:14.089Z"
   },
   {
    "duration": 230,
    "start_time": "2022-01-17T17:09:27.872Z"
   },
   {
    "duration": 7705,
    "start_time": "2022-01-17T17:09:39.250Z"
   },
   {
    "duration": 496,
    "start_time": "2022-01-17T17:10:27.497Z"
   },
   {
    "duration": 639,
    "start_time": "2022-01-17T17:11:31.311Z"
   },
   {
    "duration": 19,
    "start_time": "2022-01-17T17:14:17.389Z"
   },
   {
    "duration": 1483624,
    "start_time": "2022-01-17T17:15:24.633Z"
   },
   {
    "duration": 1605,
    "start_time": "2022-01-17T18:35:23.828Z"
   },
   {
    "duration": 277,
    "start_time": "2022-01-17T18:35:25.436Z"
   },
   {
    "duration": 36,
    "start_time": "2022-01-17T18:35:25.716Z"
   },
   {
    "duration": 42,
    "start_time": "2022-01-17T18:35:25.756Z"
   },
   {
    "duration": 109,
    "start_time": "2022-01-17T18:35:25.801Z"
   },
   {
    "duration": 80,
    "start_time": "2022-01-17T18:35:25.913Z"
   },
   {
    "duration": 116,
    "start_time": "2022-01-17T18:35:25.996Z"
   },
   {
    "duration": 121,
    "start_time": "2022-01-17T18:35:26.117Z"
   },
   {
    "duration": 65,
    "start_time": "2022-01-17T18:35:26.241Z"
   },
   {
    "duration": 69,
    "start_time": "2022-01-17T18:35:26.308Z"
   },
   {
    "duration": 77,
    "start_time": "2022-01-17T18:35:26.380Z"
   },
   {
    "duration": 129,
    "start_time": "2022-01-17T18:35:26.460Z"
   },
   {
    "duration": 114,
    "start_time": "2022-01-17T18:35:26.592Z"
   },
   {
    "duration": 145,
    "start_time": "2022-01-17T18:35:26.710Z"
   },
   {
    "duration": 6,
    "start_time": "2022-01-17T18:35:26.858Z"
   },
   {
    "duration": 75,
    "start_time": "2022-01-17T18:35:26.867Z"
   },
   {
    "duration": 2825,
    "start_time": "2022-01-17T18:35:26.945Z"
   },
   {
    "duration": 1146,
    "start_time": "2022-01-17T18:35:29.772Z"
   },
   {
    "duration": 39,
    "start_time": "2022-01-17T18:35:30.920Z"
   },
   {
    "duration": 439,
    "start_time": "2022-01-17T18:35:30.961Z"
   },
   {
    "duration": 29,
    "start_time": "2022-01-17T18:35:31.403Z"
   },
   {
    "duration": 42,
    "start_time": "2022-01-17T18:35:31.435Z"
   },
   {
    "duration": 2626,
    "start_time": "2022-01-17T18:35:31.483Z"
   },
   {
    "duration": 2070,
    "start_time": "2022-01-17T18:35:34.114Z"
   },
   {
    "duration": 30,
    "start_time": "2022-01-17T18:35:36.186Z"
   },
   {
    "duration": 2524,
    "start_time": "2022-01-17T18:35:36.233Z"
   },
   {
    "duration": 3450,
    "start_time": "2022-01-17T18:35:38.759Z"
   },
   {
    "duration": 19,
    "start_time": "2022-01-17T18:35:42.213Z"
   },
   {
    "duration": 157,
    "start_time": "2022-01-17T18:35:42.235Z"
   },
   {
    "duration": 4,
    "start_time": "2022-01-17T18:35:42.395Z"
   },
   {
    "duration": 30,
    "start_time": "2022-01-17T18:35:42.402Z"
   },
   {
    "duration": 8264,
    "start_time": "2022-01-17T18:35:42.435Z"
   },
   {
    "duration": 53,
    "start_time": "2022-01-17T18:35:50.702Z"
   },
   {
    "duration": 26,
    "start_time": "2022-01-17T18:35:50.758Z"
   },
   {
    "duration": 1074,
    "start_time": "2022-01-17T18:35:50.787Z"
   },
   {
    "duration": -4041,
    "start_time": "2022-01-17T18:35:55.906Z"
   },
   {
    "duration": -4067,
    "start_time": "2022-01-17T18:35:55.934Z"
   },
   {
    "duration": -4073,
    "start_time": "2022-01-17T18:35:55.943Z"
   },
   {
    "duration": -4081,
    "start_time": "2022-01-17T18:35:55.953Z"
   },
   {
    "duration": -4087,
    "start_time": "2022-01-17T18:35:55.961Z"
   },
   {
    "duration": -4095,
    "start_time": "2022-01-17T18:35:55.971Z"
   },
   {
    "duration": -4102,
    "start_time": "2022-01-17T18:35:55.980Z"
   },
   {
    "duration": -4110,
    "start_time": "2022-01-17T18:35:55.991Z"
   },
   {
    "duration": -4118,
    "start_time": "2022-01-17T18:35:56.000Z"
   },
   {
    "duration": -4125,
    "start_time": "2022-01-17T18:35:56.009Z"
   },
   {
    "duration": -4133,
    "start_time": "2022-01-17T18:35:56.019Z"
   },
   {
    "duration": -4141,
    "start_time": "2022-01-17T18:35:56.029Z"
   },
   {
    "duration": -4165,
    "start_time": "2022-01-17T18:35:56.054Z"
   },
   {
    "duration": -4175,
    "start_time": "2022-01-17T18:35:56.065Z"
   },
   {
    "duration": -4182,
    "start_time": "2022-01-17T18:35:56.074Z"
   },
   {
    "duration": -4190,
    "start_time": "2022-01-17T18:35:56.083Z"
   },
   {
    "duration": -4197,
    "start_time": "2022-01-17T18:35:56.092Z"
   },
   {
    "duration": -4206,
    "start_time": "2022-01-17T18:35:56.102Z"
   },
   {
    "duration": -4213,
    "start_time": "2022-01-17T18:35:56.111Z"
   },
   {
    "duration": -4221,
    "start_time": "2022-01-17T18:35:56.121Z"
   },
   {
    "duration": -4228,
    "start_time": "2022-01-17T18:35:56.129Z"
   },
   {
    "duration": -4235,
    "start_time": "2022-01-17T18:35:56.138Z"
   },
   {
    "duration": -4243,
    "start_time": "2022-01-17T18:35:56.148Z"
   },
   {
    "duration": -4266,
    "start_time": "2022-01-17T18:35:56.172Z"
   },
   {
    "duration": -4250,
    "start_time": "2022-01-17T18:35:56.182Z"
   },
   {
    "duration": -4257,
    "start_time": "2022-01-17T18:35:56.191Z"
   },
   {
    "duration": -4263,
    "start_time": "2022-01-17T18:35:56.200Z"
   },
   {
    "duration": -4266,
    "start_time": "2022-01-17T18:35:56.209Z"
   },
   {
    "duration": -4273,
    "start_time": "2022-01-17T18:35:56.218Z"
   },
   {
    "duration": -4282,
    "start_time": "2022-01-17T18:35:56.228Z"
   },
   {
    "duration": -4288,
    "start_time": "2022-01-17T18:35:56.236Z"
   },
   {
    "duration": -4296,
    "start_time": "2022-01-17T18:35:56.246Z"
   },
   {
    "duration": -4303,
    "start_time": "2022-01-17T18:35:56.254Z"
   },
   {
    "duration": -4311,
    "start_time": "2022-01-17T18:35:56.264Z"
   },
   {
    "duration": -4332,
    "start_time": "2022-01-17T18:35:56.287Z"
   },
   {
    "duration": -4342,
    "start_time": "2022-01-17T18:35:56.298Z"
   },
   {
    "duration": -4357,
    "start_time": "2022-01-17T18:35:56.315Z"
   },
   {
    "duration": -4365,
    "start_time": "2022-01-17T18:35:56.325Z"
   },
   {
    "duration": -4373,
    "start_time": "2022-01-17T18:35:56.334Z"
   },
   {
    "duration": -4381,
    "start_time": "2022-01-17T18:35:56.344Z"
   },
   {
    "duration": 11,
    "start_time": "2022-01-17T18:37:44.337Z"
   },
   {
    "duration": 6851,
    "start_time": "2022-01-17T18:37:44.964Z"
   },
   {
    "duration": 4,
    "start_time": "2022-01-17T18:37:58.868Z"
   },
   {
    "duration": 5488,
    "start_time": "2022-01-17T18:38:00.569Z"
   },
   {
    "duration": 5027,
    "start_time": "2022-01-17T18:38:36.196Z"
   },
   {
    "duration": 38,
    "start_time": "2022-01-17T18:38:41.226Z"
   },
   {
    "duration": 12,
    "start_time": "2022-01-17T18:38:41.267Z"
   },
   {
    "duration": 8,
    "start_time": "2022-01-17T18:38:41.282Z"
   },
   {
    "duration": 43,
    "start_time": "2022-01-17T18:38:41.293Z"
   },
   {
    "duration": 21,
    "start_time": "2022-01-17T18:38:41.339Z"
   },
   {
    "duration": 19,
    "start_time": "2022-01-17T18:38:41.363Z"
   },
   {
    "duration": 9,
    "start_time": "2022-01-17T18:38:42.397Z"
   },
   {
    "duration": 46,
    "start_time": "2022-01-17T18:38:43.796Z"
   },
   {
    "duration": 46,
    "start_time": "2022-01-17T18:38:44.784Z"
   },
   {
    "duration": 14,
    "start_time": "2022-01-17T18:38:46.011Z"
   },
   {
    "duration": 19,
    "start_time": "2022-01-17T18:38:48.088Z"
   },
   {
    "duration": 27,
    "start_time": "2022-01-17T18:38:48.546Z"
   },
   {
    "duration": 120,
    "start_time": "2022-01-17T18:38:49.560Z"
   },
   {
    "duration": 4,
    "start_time": "2022-01-17T18:39:12.508Z"
   },
   {
    "duration": 7,
    "start_time": "2022-01-17T18:39:13.148Z"
   },
   {
    "duration": 296,
    "start_time": "2022-01-17T18:39:13.532Z"
   },
   {
    "duration": 6,
    "start_time": "2022-01-17T18:39:13.912Z"
   },
   {
    "duration": 240244,
    "start_time": "2022-01-17T18:39:14.125Z"
   },
   {
    "duration": 12,
    "start_time": "2022-01-17T18:43:14.372Z"
   },
   {
    "duration": 7,
    "start_time": "2022-01-17T18:43:14.387Z"
   },
   {
    "duration": 167838,
    "start_time": "2022-01-17T18:43:14.397Z"
   },
   {
    "duration": 258770,
    "start_time": "2022-01-17T18:46:02.238Z"
   },
   {
    "duration": 149795,
    "start_time": "2022-01-17T18:50:21.012Z"
   },
   {
    "duration": 5,
    "start_time": "2022-01-17T18:52:50.809Z"
   },
   {
    "duration": 19,
    "start_time": "2022-01-17T18:52:50.818Z"
   },
   {
    "duration": 8,
    "start_time": "2022-01-17T18:52:50.839Z"
   },
   {
    "duration": 6,
    "start_time": "2022-01-17T18:52:50.849Z"
   },
   {
    "duration": 276,
    "start_time": "2022-01-17T18:52:50.858Z"
   },
   {
    "duration": 9,
    "start_time": "2022-01-17T18:52:51.137Z"
   },
   {
    "duration": 1093,
    "start_time": "2022-01-17T18:52:51.148Z"
   },
   {
    "duration": 51,
    "start_time": "2022-01-17T18:52:52.243Z"
   },
   {
    "duration": 50,
    "start_time": "2022-01-17T18:52:52.297Z"
   },
   {
    "duration": 34,
    "start_time": "2022-01-17T18:52:52.349Z"
   },
   {
    "duration": 7,
    "start_time": "2022-01-17T18:52:52.385Z"
   },
   {
    "duration": 8,
    "start_time": "2022-01-17T18:52:52.394Z"
   },
   {
    "duration": 588,
    "start_time": "2022-01-17T18:52:52.404Z"
   },
   {
    "duration": 721,
    "start_time": "2022-01-17T18:52:52.994Z"
   },
   {
    "duration": 18,
    "start_time": "2022-01-17T18:59:18.739Z"
   },
   {
    "duration": 2629,
    "start_time": "2022-01-17T19:05:07.441Z"
   },
   {
    "duration": 22,
    "start_time": "2022-01-17T19:05:21.163Z"
   },
   {
    "duration": 27,
    "start_time": "2022-01-17T19:06:39.957Z"
   },
   {
    "duration": 408,
    "start_time": "2022-01-17T19:07:10.793Z"
   },
   {
    "duration": 24,
    "start_time": "2022-01-17T19:07:15.173Z"
   },
   {
    "duration": 27,
    "start_time": "2022-01-17T19:08:16.740Z"
   },
   {
    "duration": 51,
    "start_time": "2022-01-17T19:09:24.951Z"
   },
   {
    "duration": 23,
    "start_time": "2022-01-17T19:09:44.719Z"
   },
   {
    "duration": 31,
    "start_time": "2022-01-17T19:09:47.083Z"
   },
   {
    "duration": 275,
    "start_time": "2022-01-17T19:11:51.910Z"
   },
   {
    "duration": 32,
    "start_time": "2022-01-17T19:11:59.443Z"
   },
   {
    "duration": 26,
    "start_time": "2022-01-17T19:12:21.667Z"
   },
   {
    "duration": 316,
    "start_time": "2022-01-17T19:14:34.480Z"
   },
   {
    "duration": 67,
    "start_time": "2022-01-17T19:14:46.266Z"
   },
   {
    "duration": 282,
    "start_time": "2022-01-17T19:15:54.132Z"
   },
   {
    "duration": 287,
    "start_time": "2022-01-17T19:16:21.654Z"
   },
   {
    "duration": 307,
    "start_time": "2022-01-17T19:17:08.602Z"
   },
   {
    "duration": 53,
    "start_time": "2022-01-17T19:17:12.429Z"
   },
   {
    "duration": 24,
    "start_time": "2022-01-17T19:17:23.104Z"
   },
   {
    "duration": 51,
    "start_time": "2022-01-17T19:17:41.522Z"
   },
   {
    "duration": 52,
    "start_time": "2022-01-17T19:17:46.825Z"
   },
   {
    "duration": 102,
    "start_time": "2022-01-17T19:18:57.754Z"
   },
   {
    "duration": 59,
    "start_time": "2022-01-17T19:19:31.233Z"
   },
   {
    "duration": 66,
    "start_time": "2022-01-17T19:20:03.831Z"
   },
   {
    "duration": 285,
    "start_time": "2022-01-17T19:20:32.586Z"
   },
   {
    "duration": 69,
    "start_time": "2022-01-17T19:20:50.691Z"
   },
   {
    "duration": 74,
    "start_time": "2022-01-17T19:21:38.270Z"
   },
   {
    "duration": 20,
    "start_time": "2022-01-17T19:23:24.688Z"
   },
   {
    "duration": 21,
    "start_time": "2022-01-17T19:23:59.063Z"
   },
   {
    "duration": 4,
    "start_time": "2022-01-17T19:26:42.885Z"
   },
   {
    "duration": 742,
    "start_time": "2022-01-17T19:34:59.472Z"
   },
   {
    "duration": 707,
    "start_time": "2022-01-17T19:35:06.665Z"
   },
   {
    "duration": 733,
    "start_time": "2022-01-17T19:35:28.913Z"
   },
   {
    "duration": 829,
    "start_time": "2022-01-17T19:35:46.603Z"
   },
   {
    "duration": 720,
    "start_time": "2022-01-17T19:35:53.622Z"
   },
   {
    "duration": 723,
    "start_time": "2022-01-17T19:36:04.470Z"
   },
   {
    "duration": 7,
    "start_time": "2022-01-17T20:15:42.784Z"
   },
   {
    "duration": 42,
    "start_time": "2022-01-17T20:16:00.237Z"
   },
   {
    "duration": 8,
    "start_time": "2022-01-17T20:47:44.877Z"
   },
   {
    "duration": 8,
    "start_time": "2022-01-17T20:47:49.758Z"
   },
   {
    "duration": 4531,
    "start_time": "2022-01-17T21:16:53.885Z"
   },
   {
    "duration": 1573,
    "start_time": "2022-01-17T21:45:00.534Z"
   },
   {
    "duration": 283,
    "start_time": "2022-01-17T21:45:02.111Z"
   },
   {
    "duration": 49,
    "start_time": "2022-01-17T21:45:02.397Z"
   },
   {
    "duration": 30,
    "start_time": "2022-01-17T21:45:02.450Z"
   },
   {
    "duration": 76,
    "start_time": "2022-01-17T21:45:02.483Z"
   },
   {
    "duration": 41,
    "start_time": "2022-01-17T21:45:02.561Z"
   },
   {
    "duration": 100,
    "start_time": "2022-01-17T21:45:02.632Z"
   },
   {
    "duration": 106,
    "start_time": "2022-01-17T21:45:02.736Z"
   },
   {
    "duration": 65,
    "start_time": "2022-01-17T21:45:02.846Z"
   },
   {
    "duration": 68,
    "start_time": "2022-01-17T21:45:02.913Z"
   },
   {
    "duration": 93,
    "start_time": "2022-01-17T21:45:02.984Z"
   },
   {
    "duration": 128,
    "start_time": "2022-01-17T21:45:03.080Z"
   },
   {
    "duration": 119,
    "start_time": "2022-01-17T21:45:03.210Z"
   },
   {
    "duration": 151,
    "start_time": "2022-01-17T21:45:03.333Z"
   },
   {
    "duration": 5,
    "start_time": "2022-01-17T21:45:03.486Z"
   },
   {
    "duration": 62,
    "start_time": "2022-01-17T21:45:03.493Z"
   },
   {
    "duration": 2707,
    "start_time": "2022-01-17T21:45:03.557Z"
   },
   {
    "duration": 1092,
    "start_time": "2022-01-17T21:45:06.266Z"
   },
   {
    "duration": 30,
    "start_time": "2022-01-17T21:45:07.361Z"
   },
   {
    "duration": 472,
    "start_time": "2022-01-17T21:45:07.394Z"
   },
   {
    "duration": 19,
    "start_time": "2022-01-17T21:45:07.869Z"
   },
   {
    "duration": 68,
    "start_time": "2022-01-17T21:45:07.891Z"
   },
   {
    "duration": 2427,
    "start_time": "2022-01-17T21:45:07.968Z"
   },
   {
    "duration": 1869,
    "start_time": "2022-01-17T21:45:10.398Z"
   },
   {
    "duration": 30,
    "start_time": "2022-01-17T21:45:12.269Z"
   },
   {
    "duration": 2854,
    "start_time": "2022-01-17T21:45:12.302Z"
   },
   {
    "duration": 3495,
    "start_time": "2022-01-17T21:45:15.158Z"
   },
   {
    "duration": 9,
    "start_time": "2022-01-17T21:45:18.655Z"
   },
   {
    "duration": 172,
    "start_time": "2022-01-17T21:45:18.667Z"
   },
   {
    "duration": 8,
    "start_time": "2022-01-17T21:45:18.841Z"
   },
   {
    "duration": 7514,
    "start_time": "2022-01-17T21:45:18.851Z"
   },
   {
    "duration": 34,
    "start_time": "2022-01-17T21:45:26.368Z"
   },
   {
    "duration": 29,
    "start_time": "2022-01-17T21:45:26.404Z"
   },
   {
    "duration": 7004,
    "start_time": "2022-01-17T21:45:26.436Z"
   },
   {
    "duration": 5,
    "start_time": "2022-01-17T21:45:33.442Z"
   },
   {
    "duration": 5031,
    "start_time": "2022-01-17T21:45:33.450Z"
   },
   {
    "duration": 26,
    "start_time": "2022-01-17T21:45:38.484Z"
   },
   {
    "duration": 10,
    "start_time": "2022-01-17T21:45:38.533Z"
   },
   {
    "duration": 9,
    "start_time": "2022-01-17T21:45:38.546Z"
   },
   {
    "duration": 23,
    "start_time": "2022-01-17T21:45:38.558Z"
   },
   {
    "duration": 65,
    "start_time": "2022-01-17T21:45:38.584Z"
   },
   {
    "duration": 11,
    "start_time": "2022-01-17T21:45:38.651Z"
   },
   {
    "duration": 74,
    "start_time": "2022-01-17T21:45:38.665Z"
   },
   {
    "duration": 48,
    "start_time": "2022-01-17T21:45:38.742Z"
   },
   {
    "duration": 46,
    "start_time": "2022-01-17T21:45:38.793Z"
   },
   {
    "duration": 21,
    "start_time": "2022-01-17T21:45:38.842Z"
   },
   {
    "duration": 38,
    "start_time": "2022-01-17T21:45:38.865Z"
   },
   {
    "duration": 145,
    "start_time": "2022-01-17T21:45:38.905Z"
   },
   {
    "duration": 4,
    "start_time": "2022-01-17T21:45:39.053Z"
   },
   {
    "duration": 20,
    "start_time": "2022-01-17T21:45:39.059Z"
   },
   {
    "duration": 408,
    "start_time": "2022-01-17T21:45:39.081Z"
   },
   {
    "duration": 6,
    "start_time": "2022-01-17T21:45:39.492Z"
   },
   {
    "duration": 237905,
    "start_time": "2022-01-17T21:45:39.500Z"
   },
   {
    "duration": 10,
    "start_time": "2022-01-17T21:49:37.407Z"
   },
   {
    "duration": 6,
    "start_time": "2022-01-17T21:49:37.433Z"
   },
   {
    "duration": 153297,
    "start_time": "2022-01-17T21:49:37.441Z"
   },
   {
    "duration": 252573,
    "start_time": "2022-01-17T21:52:10.740Z"
   },
   {
    "duration": 143304,
    "start_time": "2022-01-17T21:56:23.317Z"
   },
   {
    "duration": 11,
    "start_time": "2022-01-17T21:58:46.624Z"
   },
   {
    "duration": 7,
    "start_time": "2022-01-17T21:58:46.638Z"
   },
   {
    "duration": 12,
    "start_time": "2022-01-17T21:58:46.648Z"
   },
   {
    "duration": 6,
    "start_time": "2022-01-17T21:58:46.663Z"
   },
   {
    "duration": 265,
    "start_time": "2022-01-17T21:58:46.671Z"
   },
   {
    "duration": 9,
    "start_time": "2022-01-17T21:58:46.940Z"
   },
   {
    "duration": 1069,
    "start_time": "2022-01-17T21:58:46.952Z"
   },
   {
    "duration": 52,
    "start_time": "2022-01-17T21:58:48.023Z"
   },
   {
    "duration": 57,
    "start_time": "2022-01-17T21:58:48.078Z"
   },
   {
    "duration": 34,
    "start_time": "2022-01-17T21:58:48.145Z"
   },
   {
    "duration": 8,
    "start_time": "2022-01-17T21:58:48.183Z"
   },
   {
    "duration": 43,
    "start_time": "2022-01-17T21:58:48.194Z"
   },
   {
    "duration": 723,
    "start_time": "2022-01-17T21:58:48.240Z"
   },
   {
    "duration": 3,
    "start_time": "2022-01-17T21:58:48.965Z"
   },
   {
    "duration": 9,
    "start_time": "2022-01-17T21:58:48.970Z"
   },
   {
    "duration": 7,
    "start_time": "2022-01-17T21:58:48.982Z"
   },
   {
    "duration": 6,
    "start_time": "2022-01-17T21:58:48.991Z"
   },
   {
    "duration": 10,
    "start_time": "2022-01-17T21:58:48.999Z"
   },
   {
    "duration": 3,
    "start_time": "2022-01-17T21:58:49.032Z"
   },
   {
    "duration": 8,
    "start_time": "2022-01-17T21:58:49.038Z"
   },
   {
    "duration": 22,
    "start_time": "2022-01-17T21:58:49.049Z"
   },
   {
    "duration": 11,
    "start_time": "2022-01-17T21:58:49.074Z"
   },
   {
    "duration": 9,
    "start_time": "2022-01-17T21:58:49.088Z"
   },
   {
    "duration": 400,
    "start_time": "2022-01-17T21:58:49.099Z"
   },
   {
    "duration": -13,
    "start_time": "2022-01-17T21:58:49.516Z"
   },
   {
    "duration": 3,
    "start_time": "2022-01-17T22:00:21.381Z"
   },
   {
    "duration": 1561,
    "start_time": "2022-01-18T19:58:46.933Z"
   },
   {
    "duration": 196,
    "start_time": "2022-01-18T19:58:48.496Z"
   },
   {
    "duration": 20,
    "start_time": "2022-01-18T19:58:48.694Z"
   },
   {
    "duration": 16,
    "start_time": "2022-01-18T19:58:48.716Z"
   },
   {
    "duration": 55,
    "start_time": "2022-01-18T19:58:48.733Z"
   },
   {
    "duration": 28,
    "start_time": "2022-01-18T19:58:48.790Z"
   },
   {
    "duration": 89,
    "start_time": "2022-01-18T19:58:48.820Z"
   },
   {
    "duration": 72,
    "start_time": "2022-01-18T19:58:48.912Z"
   },
   {
    "duration": 43,
    "start_time": "2022-01-18T19:58:48.986Z"
   },
   {
    "duration": 55,
    "start_time": "2022-01-18T19:58:49.031Z"
   },
   {
    "duration": 21,
    "start_time": "2022-01-18T19:58:49.087Z"
   },
   {
    "duration": 90,
    "start_time": "2022-01-18T19:58:49.109Z"
   },
   {
    "duration": 84,
    "start_time": "2022-01-18T19:58:49.200Z"
   },
   {
    "duration": 88,
    "start_time": "2022-01-18T19:58:49.286Z"
   },
   {
    "duration": 3,
    "start_time": "2022-01-18T19:58:49.375Z"
   },
   {
    "duration": 33,
    "start_time": "2022-01-18T19:58:49.380Z"
   },
   {
    "duration": 1502,
    "start_time": "2022-01-18T19:58:49.414Z"
   },
   {
    "duration": 625,
    "start_time": "2022-01-18T19:58:50.917Z"
   },
   {
    "duration": 28,
    "start_time": "2022-01-18T19:58:51.544Z"
   },
   {
    "duration": 28,
    "start_time": "2022-01-18T19:59:37.098Z"
   },
   {
    "duration": 7,
    "start_time": "2022-01-18T20:00:06.146Z"
   },
   {
    "duration": 11,
    "start_time": "2022-01-18T20:02:55.928Z"
   },
   {
    "duration": 6,
    "start_time": "2022-01-18T20:09:22.407Z"
   },
   {
    "duration": -215,
    "start_time": "2022-01-18T20:10:55.992Z"
   },
   {
    "duration": 12,
    "start_time": "2022-01-18T20:11:00.176Z"
   },
   {
    "duration": 1284,
    "start_time": "2022-01-19T09:10:29.820Z"
   },
   {
    "duration": 375,
    "start_time": "2022-01-19T09:10:31.106Z"
   },
   {
    "duration": 21,
    "start_time": "2022-01-19T09:10:31.483Z"
   },
   {
    "duration": 20,
    "start_time": "2022-01-19T09:10:31.506Z"
   },
   {
    "duration": 52,
    "start_time": "2022-01-19T09:10:31.528Z"
   },
   {
    "duration": 31,
    "start_time": "2022-01-19T09:10:31.582Z"
   },
   {
    "duration": 88,
    "start_time": "2022-01-19T09:10:31.615Z"
   },
   {
    "duration": 77,
    "start_time": "2022-01-19T09:10:31.705Z"
   },
   {
    "duration": 44,
    "start_time": "2022-01-19T09:10:31.784Z"
   },
   {
    "duration": 52,
    "start_time": "2022-01-19T09:10:31.830Z"
   },
   {
    "duration": 79,
    "start_time": "2022-01-19T09:10:31.884Z"
   },
   {
    "duration": 60,
    "start_time": "2022-01-19T09:10:31.965Z"
   },
   {
    "duration": 101,
    "start_time": "2022-01-19T09:10:32.027Z"
   },
   {
    "duration": 105,
    "start_time": "2022-01-19T09:10:32.131Z"
   },
   {
    "duration": 4,
    "start_time": "2022-01-19T09:10:32.239Z"
   },
   {
    "duration": 37,
    "start_time": "2022-01-19T09:10:32.260Z"
   },
   {
    "duration": 1661,
    "start_time": "2022-01-19T09:10:32.299Z"
   },
   {
    "duration": 692,
    "start_time": "2022-01-19T09:10:33.962Z"
   },
   {
    "duration": 23,
    "start_time": "2022-01-19T09:10:34.656Z"
   },
   {
    "duration": 264,
    "start_time": "2022-01-19T09:10:34.681Z"
   },
   {
    "duration": 15,
    "start_time": "2022-01-19T09:10:34.947Z"
   },
   {
    "duration": 340,
    "start_time": "2022-01-19T09:12:08.761Z"
   },
   {
    "duration": 11,
    "start_time": "2022-01-19T09:12:14.668Z"
   },
   {
    "duration": 18,
    "start_time": "2022-01-19T09:14:47.483Z"
   },
   {
    "duration": 261,
    "start_time": "2022-01-19T09:16:38.821Z"
   },
   {
    "duration": 18,
    "start_time": "2022-01-19T09:16:45.008Z"
   },
   {
    "duration": 20,
    "start_time": "2022-01-19T09:17:26.025Z"
   },
   {
    "duration": 297,
    "start_time": "2022-01-19T09:18:50.655Z"
   },
   {
    "duration": 18,
    "start_time": "2022-01-19T09:22:20.678Z"
   },
   {
    "duration": 277,
    "start_time": "2022-01-19T09:23:23.812Z"
   },
   {
    "duration": 20,
    "start_time": "2022-01-19T09:23:37.524Z"
   },
   {
    "duration": 15,
    "start_time": "2022-01-19T09:25:33.119Z"
   },
   {
    "duration": 14,
    "start_time": "2022-01-19T09:25:44.085Z"
   },
   {
    "duration": 18,
    "start_time": "2022-01-19T09:25:53.053Z"
   },
   {
    "duration": 14,
    "start_time": "2022-01-19T09:26:01.798Z"
   },
   {
    "duration": 21,
    "start_time": "2022-01-19T09:26:37.444Z"
   },
   {
    "duration": 306,
    "start_time": "2022-01-19T09:27:18.708Z"
   },
   {
    "duration": 362,
    "start_time": "2022-01-19T09:27:31.812Z"
   },
   {
    "duration": 260,
    "start_time": "2022-01-19T09:27:34.469Z"
   },
   {
    "duration": 17,
    "start_time": "2022-01-19T09:28:12.131Z"
   },
   {
    "duration": 292,
    "start_time": "2022-01-19T09:28:30.738Z"
   },
   {
    "duration": 282,
    "start_time": "2022-01-19T09:28:47.210Z"
   },
   {
    "duration": 277,
    "start_time": "2022-01-19T09:29:14.911Z"
   },
   {
    "duration": 284,
    "start_time": "2022-01-19T09:29:22.203Z"
   },
   {
    "duration": 16,
    "start_time": "2022-01-19T09:29:40.911Z"
   },
   {
    "duration": 18,
    "start_time": "2022-01-19T09:29:54.173Z"
   },
   {
    "duration": 85,
    "start_time": "2022-01-19T09:30:32.646Z"
   },
   {
    "duration": 22,
    "start_time": "2022-01-19T09:31:14.111Z"
   },
   {
    "duration": 20,
    "start_time": "2022-01-19T09:31:19.762Z"
   },
   {
    "duration": 20,
    "start_time": "2022-01-19T09:31:24.688Z"
   },
   {
    "duration": 4,
    "start_time": "2022-01-19T09:36:43.106Z"
   },
   {
    "duration": 4,
    "start_time": "2022-01-19T09:37:18.200Z"
   },
   {
    "duration": 258,
    "start_time": "2022-01-19T09:37:49.997Z"
   },
   {
    "duration": 284,
    "start_time": "2022-01-19T09:37:57.183Z"
   },
   {
    "duration": 4,
    "start_time": "2022-01-19T09:38:01.489Z"
   },
   {
    "duration": 253,
    "start_time": "2022-01-19T09:38:26.348Z"
   },
   {
    "duration": 4,
    "start_time": "2022-01-19T09:38:33.398Z"
   },
   {
    "duration": 282,
    "start_time": "2022-01-19T09:39:10.903Z"
   },
   {
    "duration": 4,
    "start_time": "2022-01-19T09:39:16.180Z"
   },
   {
    "duration": 266,
    "start_time": "2022-01-19T09:39:22.328Z"
   },
   {
    "duration": 5,
    "start_time": "2022-01-19T09:43:26.287Z"
   },
   {
    "duration": 6,
    "start_time": "2022-01-19T09:44:04.265Z"
   },
   {
    "duration": 8381,
    "start_time": "2022-01-19T09:44:12.600Z"
   },
   {
    "duration": 5,
    "start_time": "2022-01-19T09:44:43.590Z"
   },
   {
    "duration": 222,
    "start_time": "2022-01-19T09:44:43.599Z"
   },
   {
    "duration": 18,
    "start_time": "2022-01-19T09:44:43.823Z"
   },
   {
    "duration": 32,
    "start_time": "2022-01-19T09:44:43.843Z"
   },
   {
    "duration": 64,
    "start_time": "2022-01-19T09:44:43.877Z"
   },
   {
    "duration": 31,
    "start_time": "2022-01-19T09:44:43.943Z"
   },
   {
    "duration": 63,
    "start_time": "2022-01-19T09:44:43.976Z"
   },
   {
    "duration": 94,
    "start_time": "2022-01-19T09:44:44.040Z"
   },
   {
    "duration": 59,
    "start_time": "2022-01-19T09:44:44.136Z"
   },
   {
    "duration": 32,
    "start_time": "2022-01-19T09:44:44.197Z"
   },
   {
    "duration": 49,
    "start_time": "2022-01-19T09:44:44.231Z"
   },
   {
    "duration": 86,
    "start_time": "2022-01-19T09:44:44.282Z"
   },
   {
    "duration": 60,
    "start_time": "2022-01-19T09:44:44.370Z"
   },
   {
    "duration": 107,
    "start_time": "2022-01-19T09:44:44.432Z"
   },
   {
    "duration": 4,
    "start_time": "2022-01-19T09:44:44.541Z"
   },
   {
    "duration": 47,
    "start_time": "2022-01-19T09:44:44.547Z"
   },
   {
    "duration": 1704,
    "start_time": "2022-01-19T09:44:44.596Z"
   },
   {
    "duration": 698,
    "start_time": "2022-01-19T09:44:46.303Z"
   },
   {
    "duration": 23,
    "start_time": "2022-01-19T09:44:47.002Z"
   },
   {
    "duration": 262,
    "start_time": "2022-01-19T09:44:47.026Z"
   },
   {
    "duration": 10,
    "start_time": "2022-01-19T09:44:47.290Z"
   },
   {
    "duration": 18,
    "start_time": "2022-01-19T09:44:47.301Z"
   },
   {
    "duration": 44,
    "start_time": "2022-01-19T09:44:47.320Z"
   },
   {
    "duration": 1602,
    "start_time": "2022-01-19T09:44:47.367Z"
   },
   {
    "duration": 1147,
    "start_time": "2022-01-19T09:44:48.971Z"
   },
   {
    "duration": 21,
    "start_time": "2022-01-19T09:44:50.120Z"
   },
   {
    "duration": 1597,
    "start_time": "2022-01-19T09:44:50.143Z"
   },
   {
    "duration": 2049,
    "start_time": "2022-01-19T09:44:51.742Z"
   },
   {
    "duration": 144,
    "start_time": "2022-01-19T09:44:53.792Z"
   },
   {
    "duration": 124,
    "start_time": "2022-01-19T09:44:53.938Z"
   },
   {
    "duration": 6,
    "start_time": "2022-01-19T09:44:54.063Z"
   },
   {
    "duration": 4326,
    "start_time": "2022-01-19T09:44:54.070Z"
   },
   {
    "duration": 22,
    "start_time": "2022-01-19T09:44:58.398Z"
   },
   {
    "duration": 6,
    "start_time": "2022-01-19T09:44:58.422Z"
   },
   {
    "duration": 4057,
    "start_time": "2022-01-19T09:44:58.429Z"
   },
   {
    "duration": 7,
    "start_time": "2022-01-19T09:48:57.689Z"
   },
   {
    "duration": 34,
    "start_time": "2022-01-19T09:49:03.964Z"
   },
   {
    "duration": 35,
    "start_time": "2022-01-19T09:49:04.455Z"
   },
   {
    "duration": 10,
    "start_time": "2022-01-19T09:49:04.855Z"
   },
   {
    "duration": 14,
    "start_time": "2022-01-19T09:49:06.985Z"
   },
   {
    "duration": 16,
    "start_time": "2022-01-19T09:49:08.308Z"
   },
   {
    "duration": 99,
    "start_time": "2022-01-19T09:49:11.915Z"
   },
   {
    "duration": 3,
    "start_time": "2022-01-19T09:58:37.449Z"
   },
   {
    "duration": 3,
    "start_time": "2022-01-19T09:58:46.185Z"
   },
   {
    "duration": 5,
    "start_time": "2022-01-19T09:58:47.398Z"
   },
   {
    "duration": 239,
    "start_time": "2022-01-19T09:58:50.570Z"
   },
   {
    "duration": 9,
    "start_time": "2022-01-19T10:05:29.450Z"
   },
   {
    "duration": 8,
    "start_time": "2022-01-19T10:05:55.153Z"
   },
   {
    "duration": 146442,
    "start_time": "2022-01-19T10:06:52.359Z"
   },
   {
    "duration": 8,
    "start_time": "2022-01-19T10:16:23.125Z"
   },
   {
    "duration": 141358,
    "start_time": "2022-01-19T10:16:25.747Z"
   },
   {
    "duration": 276,
    "start_time": "2022-01-19T10:29:47.137Z"
   },
   {
    "duration": 282,
    "start_time": "2022-01-19T10:29:56.514Z"
   },
   {
    "duration": 1216,
    "start_time": "2022-01-19T10:36:05.501Z"
   },
   {
    "duration": 393,
    "start_time": "2022-01-19T10:36:06.720Z"
   },
   {
    "duration": 33,
    "start_time": "2022-01-19T10:36:07.118Z"
   },
   {
    "duration": 84,
    "start_time": "2022-01-19T10:36:07.154Z"
   },
   {
    "duration": 89,
    "start_time": "2022-01-19T10:36:07.241Z"
   },
   {
    "duration": 61,
    "start_time": "2022-01-19T10:36:07.335Z"
   },
   {
    "duration": 88,
    "start_time": "2022-01-19T10:36:07.398Z"
   },
   {
    "duration": 77,
    "start_time": "2022-01-19T10:36:07.488Z"
   },
   {
    "duration": 46,
    "start_time": "2022-01-19T10:36:07.567Z"
   },
   {
    "duration": 59,
    "start_time": "2022-01-19T10:36:07.615Z"
   },
   {
    "duration": 27,
    "start_time": "2022-01-19T10:36:07.676Z"
   },
   {
    "duration": 104,
    "start_time": "2022-01-19T10:36:07.705Z"
   },
   {
    "duration": 88,
    "start_time": "2022-01-19T10:36:07.810Z"
   },
   {
    "duration": 104,
    "start_time": "2022-01-19T10:36:07.899Z"
   },
   {
    "duration": 4,
    "start_time": "2022-01-19T10:36:08.005Z"
   },
   {
    "duration": 69,
    "start_time": "2022-01-19T10:36:08.010Z"
   },
   {
    "duration": 1666,
    "start_time": "2022-01-19T10:36:08.081Z"
   },
   {
    "duration": 743,
    "start_time": "2022-01-19T10:36:09.749Z"
   },
   {
    "duration": 22,
    "start_time": "2022-01-19T10:36:10.493Z"
   },
   {
    "duration": 269,
    "start_time": "2022-01-19T10:36:10.517Z"
   },
   {
    "duration": 10,
    "start_time": "2022-01-19T10:36:10.788Z"
   },
   {
    "duration": 58,
    "start_time": "2022-01-19T10:36:10.800Z"
   },
   {
    "duration": 30,
    "start_time": "2022-01-19T10:36:10.863Z"
   },
   {
    "duration": 1570,
    "start_time": "2022-01-19T10:36:10.896Z"
   },
   {
    "duration": 1186,
    "start_time": "2022-01-19T10:36:12.468Z"
   },
   {
    "duration": 25,
    "start_time": "2022-01-19T10:36:13.660Z"
   },
   {
    "duration": 1563,
    "start_time": "2022-01-19T10:36:13.687Z"
   },
   {
    "duration": 2401,
    "start_time": "2022-01-19T10:36:15.252Z"
   },
   {
    "duration": 5,
    "start_time": "2022-01-19T10:36:17.660Z"
   },
   {
    "duration": 98,
    "start_time": "2022-01-19T10:36:17.667Z"
   },
   {
    "duration": 5,
    "start_time": "2022-01-19T10:36:17.766Z"
   },
   {
    "duration": 4359,
    "start_time": "2022-01-19T10:36:17.773Z"
   },
   {
    "duration": 28,
    "start_time": "2022-01-19T10:36:22.134Z"
   },
   {
    "duration": 5,
    "start_time": "2022-01-19T10:36:22.164Z"
   },
   {
    "duration": 3929,
    "start_time": "2022-01-19T10:36:22.171Z"
   },
   {
    "duration": 3,
    "start_time": "2022-01-19T10:36:26.102Z"
   },
   {
    "duration": 3093,
    "start_time": "2022-01-19T10:36:26.106Z"
   },
   {
    "duration": 20,
    "start_time": "2022-01-19T10:36:29.201Z"
   },
   {
    "duration": 6,
    "start_time": "2022-01-19T10:36:29.223Z"
   },
   {
    "duration": 8,
    "start_time": "2022-01-19T10:36:29.230Z"
   },
   {
    "duration": 15,
    "start_time": "2022-01-19T10:36:29.261Z"
   },
   {
    "duration": 14,
    "start_time": "2022-01-19T10:36:29.278Z"
   },
   {
    "duration": 7,
    "start_time": "2022-01-19T10:36:29.294Z"
   },
   {
    "duration": 59,
    "start_time": "2022-01-19T10:36:29.303Z"
   },
   {
    "duration": 37,
    "start_time": "2022-01-19T10:36:29.365Z"
   },
   {
    "duration": 11,
    "start_time": "2022-01-19T10:36:29.404Z"
   },
   {
    "duration": 45,
    "start_time": "2022-01-19T10:36:29.417Z"
   },
   {
    "duration": 16,
    "start_time": "2022-01-19T10:36:29.464Z"
   },
   {
    "duration": 102,
    "start_time": "2022-01-19T10:36:29.483Z"
   },
   {
    "duration": 3,
    "start_time": "2022-01-19T10:36:29.587Z"
   },
   {
    "duration": 6,
    "start_time": "2022-01-19T10:36:29.592Z"
   },
   {
    "duration": 9,
    "start_time": "2022-01-19T10:36:29.599Z"
   },
   {
    "duration": 272,
    "start_time": "2022-01-19T10:36:29.610Z"
   },
   {
    "duration": 5,
    "start_time": "2022-01-19T10:36:29.884Z"
   },
   {
    "duration": 8,
    "start_time": "2022-01-19T10:36:29.891Z"
   },
   {
    "duration": 136890,
    "start_time": "2022-01-19T10:36:29.901Z"
   },
   {
    "duration": 170855,
    "start_time": "2022-01-19T10:38:46.793Z"
   },
   {
    "duration": 12,
    "start_time": "2022-01-19T10:41:37.650Z"
   },
   {
    "duration": 5,
    "start_time": "2022-01-19T10:41:37.664Z"
   },
   {
    "duration": 159601,
    "start_time": "2022-01-19T10:41:37.670Z"
   },
   {
    "duration": 151739,
    "start_time": "2022-01-19T10:44:17.273Z"
   },
   {
    "duration": 109858,
    "start_time": "2022-01-19T10:46:49.015Z"
   },
   {
    "duration": 4,
    "start_time": "2022-01-19T10:48:38.874Z"
   },
   {
    "duration": 6,
    "start_time": "2022-01-19T10:48:38.880Z"
   },
   {
    "duration": 5,
    "start_time": "2022-01-19T10:48:38.888Z"
   },
   {
    "duration": 5,
    "start_time": "2022-01-19T10:48:38.895Z"
   },
   {
    "duration": 166,
    "start_time": "2022-01-19T10:48:38.901Z"
   },
   {
    "duration": 6,
    "start_time": "2022-01-19T10:48:39.160Z"
   },
   {
    "duration": 887,
    "start_time": "2022-01-19T10:48:39.168Z"
   },
   {
    "duration": 53,
    "start_time": "2022-01-19T10:48:40.060Z"
   },
   {
    "duration": 23,
    "start_time": "2022-01-19T10:48:40.115Z"
   },
   {
    "duration": 39,
    "start_time": "2022-01-19T10:48:40.140Z"
   },
   {
    "duration": 5,
    "start_time": "2022-01-19T10:48:40.181Z"
   },
   {
    "duration": 8,
    "start_time": "2022-01-19T10:48:40.188Z"
   },
   {
    "duration": 501,
    "start_time": "2022-01-19T10:48:40.197Z"
   },
   {
    "duration": 2,
    "start_time": "2022-01-19T10:48:40.700Z"
   },
   {
    "duration": 17,
    "start_time": "2022-01-19T10:48:40.703Z"
   },
   {
    "duration": 5,
    "start_time": "2022-01-19T10:48:40.721Z"
   },
   {
    "duration": 7,
    "start_time": "2022-01-19T10:48:40.728Z"
   },
   {
    "duration": 10,
    "start_time": "2022-01-19T10:48:40.737Z"
   },
   {
    "duration": 13,
    "start_time": "2022-01-19T10:48:40.749Z"
   },
   {
    "duration": 6,
    "start_time": "2022-01-19T10:48:40.764Z"
   },
   {
    "duration": 8,
    "start_time": "2022-01-19T10:48:40.772Z"
   },
   {
    "duration": 11,
    "start_time": "2022-01-19T10:48:40.782Z"
   },
   {
    "duration": 7,
    "start_time": "2022-01-19T10:48:40.794Z"
   },
   {
    "duration": 5,
    "start_time": "2022-01-19T10:48:40.803Z"
   },
   {
    "duration": 5,
    "start_time": "2022-01-19T10:48:40.810Z"
   },
   {
    "duration": 102,
    "start_time": "2022-01-19T10:48:40.817Z"
   },
   {
    "duration": 81,
    "start_time": "2022-01-19T10:51:31.523Z"
   },
   {
    "duration": 90,
    "start_time": "2022-01-19T10:52:32.180Z"
   },
   {
    "duration": 5,
    "start_time": "2022-01-19T10:53:33.596Z"
   },
   {
    "duration": 5,
    "start_time": "2022-01-19T10:53:36.565Z"
   },
   {
    "duration": 5,
    "start_time": "2022-01-19T10:54:03.892Z"
   },
   {
    "duration": 5,
    "start_time": "2022-01-19T10:55:50.976Z"
   },
   {
    "duration": 379,
    "start_time": "2022-01-19T10:56:03.919Z"
   },
   {
    "duration": 5,
    "start_time": "2022-01-19T10:56:33.337Z"
   },
   {
    "duration": 4,
    "start_time": "2022-01-19T10:56:50.163Z"
   },
   {
    "duration": 602,
    "start_time": "2022-01-19T10:57:00.324Z"
   },
   {
    "duration": 529,
    "start_time": "2022-01-19T10:57:28.653Z"
   },
   {
    "duration": 5,
    "start_time": "2022-01-19T10:57:37.905Z"
   },
   {
    "duration": 95,
    "start_time": "2022-01-19T10:57:38.629Z"
   },
   {
    "duration": 98,
    "start_time": "2022-01-19T11:01:15.746Z"
   },
   {
    "duration": 89,
    "start_time": "2022-01-19T11:01:30.778Z"
   },
   {
    "duration": 6,
    "start_time": "2022-01-19T11:01:41.618Z"
   },
   {
    "duration": 110,
    "start_time": "2022-01-19T11:03:07.535Z"
   },
   {
    "duration": 109,
    "start_time": "2022-01-19T11:03:23.269Z"
   },
   {
    "duration": 112,
    "start_time": "2022-01-19T11:03:32.218Z"
   },
   {
    "duration": 111,
    "start_time": "2022-01-19T11:03:44.723Z"
   },
   {
    "duration": 5,
    "start_time": "2022-01-19T11:08:47.975Z"
   },
   {
    "duration": 4,
    "start_time": "2022-01-19T11:10:51.817Z"
   },
   {
    "duration": 246,
    "start_time": "2022-01-19T11:11:20.916Z"
   },
   {
    "duration": 5,
    "start_time": "2022-01-19T11:13:10.431Z"
   },
   {
    "duration": 136,
    "start_time": "2022-01-19T11:13:11.102Z"
   },
   {
    "duration": 4,
    "start_time": "2022-01-19T11:13:20.109Z"
   },
   {
    "duration": 136,
    "start_time": "2022-01-19T11:13:21.758Z"
   },
   {
    "duration": 4,
    "start_time": "2022-01-19T11:15:40.076Z"
   },
   {
    "duration": 232,
    "start_time": "2022-01-19T11:15:40.577Z"
   },
   {
    "duration": 91,
    "start_time": "2022-01-19T11:21:17.314Z"
   },
   {
    "duration": 13,
    "start_time": "2022-01-19T11:21:52.541Z"
   },
   {
    "duration": 12,
    "start_time": "2022-01-19T11:22:03.973Z"
   },
   {
    "duration": 164327,
    "start_time": "2022-01-19T11:22:21.975Z"
   },
   {
    "duration": 13,
    "start_time": "2022-01-19T11:26:12.052Z"
   },
   {
    "duration": 740,
    "start_time": "2022-01-19T11:26:13.246Z"
   },
   {
    "duration": 13,
    "start_time": "2022-01-19T11:26:36.311Z"
   },
   {
    "duration": 163180,
    "start_time": "2022-01-19T11:26:37.418Z"
   },
   {
    "duration": 12,
    "start_time": "2022-01-19T11:30:25.897Z"
   },
   {
    "duration": 187921,
    "start_time": "2022-01-19T11:30:27.807Z"
   },
   {
    "duration": 169579,
    "start_time": "2022-01-19T11:38:01.598Z"
   },
   {
    "duration": 1254,
    "start_time": "2022-01-19T11:43:24.067Z"
   },
   {
    "duration": 227,
    "start_time": "2022-01-19T11:43:25.323Z"
   },
   {
    "duration": 24,
    "start_time": "2022-01-19T11:43:25.553Z"
   },
   {
    "duration": 19,
    "start_time": "2022-01-19T11:43:25.579Z"
   },
   {
    "duration": 63,
    "start_time": "2022-01-19T11:43:25.600Z"
   },
   {
    "duration": 30,
    "start_time": "2022-01-19T11:43:25.665Z"
   },
   {
    "duration": 85,
    "start_time": "2022-01-19T11:43:25.697Z"
   },
   {
    "duration": 79,
    "start_time": "2022-01-19T11:43:25.785Z"
   },
   {
    "duration": 45,
    "start_time": "2022-01-19T11:43:25.867Z"
   },
   {
    "duration": 59,
    "start_time": "2022-01-19T11:43:25.914Z"
   },
   {
    "duration": 23,
    "start_time": "2022-01-19T11:43:25.975Z"
   },
   {
    "duration": 104,
    "start_time": "2022-01-19T11:43:26.000Z"
   },
   {
    "duration": 81,
    "start_time": "2022-01-19T11:43:26.106Z"
   },
   {
    "duration": 98,
    "start_time": "2022-01-19T11:43:26.188Z"
   },
   {
    "duration": 3,
    "start_time": "2022-01-19T11:43:26.288Z"
   },
   {
    "duration": 36,
    "start_time": "2022-01-19T11:43:26.293Z"
   },
   {
    "duration": 1643,
    "start_time": "2022-01-19T11:43:26.331Z"
   },
   {
    "duration": 684,
    "start_time": "2022-01-19T11:43:27.976Z"
   },
   {
    "duration": 21,
    "start_time": "2022-01-19T11:43:28.662Z"
   },
   {
    "duration": 253,
    "start_time": "2022-01-19T11:43:28.685Z"
   },
   {
    "duration": 21,
    "start_time": "2022-01-19T11:43:28.940Z"
   },
   {
    "duration": 28,
    "start_time": "2022-01-19T11:43:28.963Z"
   },
   {
    "duration": 41,
    "start_time": "2022-01-19T11:43:28.995Z"
   },
   {
    "duration": 1551,
    "start_time": "2022-01-19T11:43:29.039Z"
   },
   {
    "duration": 1171,
    "start_time": "2022-01-19T11:43:30.591Z"
   },
   {
    "duration": 23,
    "start_time": "2022-01-19T11:43:31.764Z"
   },
   {
    "duration": 1584,
    "start_time": "2022-01-19T11:43:31.789Z"
   },
   {
    "duration": 2120,
    "start_time": "2022-01-19T11:43:33.375Z"
   },
   {
    "duration": 7,
    "start_time": "2022-01-19T11:43:35.497Z"
   },
   {
    "duration": 106,
    "start_time": "2022-01-19T11:43:35.506Z"
   },
   {
    "duration": 5,
    "start_time": "2022-01-19T11:43:35.614Z"
   },
   {
    "duration": 4611,
    "start_time": "2022-01-19T11:43:35.621Z"
   },
   {
    "duration": 28,
    "start_time": "2022-01-19T11:43:40.234Z"
   },
   {
    "duration": 18,
    "start_time": "2022-01-19T11:43:40.264Z"
   },
   {
    "duration": 4015,
    "start_time": "2022-01-19T11:43:40.284Z"
   },
   {
    "duration": 3,
    "start_time": "2022-01-19T11:43:44.301Z"
   },
   {
    "duration": 3183,
    "start_time": "2022-01-19T11:43:44.306Z"
   },
   {
    "duration": 23,
    "start_time": "2022-01-19T11:43:47.492Z"
   },
   {
    "duration": 64,
    "start_time": "2022-01-19T11:43:47.517Z"
   },
   {
    "duration": 72,
    "start_time": "2022-01-19T11:43:47.583Z"
   },
   {
    "duration": 41,
    "start_time": "2022-01-19T11:43:47.657Z"
   },
   {
    "duration": 48,
    "start_time": "2022-01-19T11:43:47.700Z"
   },
   {
    "duration": 29,
    "start_time": "2022-01-19T11:43:47.749Z"
   },
   {
    "duration": 82,
    "start_time": "2022-01-19T11:43:47.780Z"
   },
   {
    "duration": 39,
    "start_time": "2022-01-19T11:43:47.864Z"
   },
   {
    "duration": 12,
    "start_time": "2022-01-19T11:43:47.905Z"
   },
   {
    "duration": 40,
    "start_time": "2022-01-19T11:43:47.918Z"
   },
   {
    "duration": 48,
    "start_time": "2022-01-19T11:43:47.960Z"
   },
   {
    "duration": 123,
    "start_time": "2022-01-19T11:43:48.010Z"
   },
   {
    "duration": 13,
    "start_time": "2022-01-19T11:43:48.134Z"
   },
   {
    "duration": 186745,
    "start_time": "2022-01-19T11:43:48.161Z"
   },
   {
    "duration": 162866,
    "start_time": "2022-01-19T11:46:54.908Z"
   },
   {
    "duration": 3,
    "start_time": "2022-01-19T11:49:37.775Z"
   },
   {
    "duration": 13,
    "start_time": "2022-01-19T11:49:37.780Z"
   },
   {
    "duration": 7,
    "start_time": "2022-01-19T11:49:37.795Z"
   },
   {
    "duration": 224,
    "start_time": "2022-01-19T11:49:37.803Z"
   },
   {
    "duration": 5,
    "start_time": "2022-01-19T11:49:38.028Z"
   },
   {
    "duration": 29,
    "start_time": "2022-01-19T11:49:38.034Z"
   },
   {
    "duration": 141244,
    "start_time": "2022-01-19T11:49:38.065Z"
   },
   {
    "duration": 165493,
    "start_time": "2022-01-19T11:51:59.311Z"
   },
   {
    "duration": 8,
    "start_time": "2022-01-19T11:54:44.805Z"
   },
   {
    "duration": 28,
    "start_time": "2022-01-19T11:54:44.814Z"
   },
   {
    "duration": 138028,
    "start_time": "2022-01-19T11:54:44.843Z"
   },
   {
    "duration": 137452,
    "start_time": "2022-01-19T11:57:02.962Z"
   },
   {
    "duration": 112055,
    "start_time": "2022-01-19T11:59:20.417Z"
   },
   {
    "duration": 5,
    "start_time": "2022-01-19T12:01:12.474Z"
   },
   {
    "duration": 43,
    "start_time": "2022-01-19T12:01:12.480Z"
   },
   {
    "duration": 67,
    "start_time": "2022-01-19T12:01:12.529Z"
   },
   {
    "duration": 19,
    "start_time": "2022-01-19T12:01:12.600Z"
   },
   {
    "duration": 343,
    "start_time": "2022-01-19T12:01:12.622Z"
   },
   {
    "duration": 6,
    "start_time": "2022-01-19T12:01:12.967Z"
   },
   {
    "duration": 811,
    "start_time": "2022-01-19T12:01:12.975Z"
   },
   {
    "duration": 46,
    "start_time": "2022-01-19T12:01:13.788Z"
   },
   {
    "duration": 40,
    "start_time": "2022-01-19T12:01:13.837Z"
   },
   {
    "duration": 25,
    "start_time": "2022-01-19T12:01:13.878Z"
   },
   {
    "duration": 16,
    "start_time": "2022-01-19T12:01:13.905Z"
   },
   {
    "duration": 38,
    "start_time": "2022-01-19T12:01:13.923Z"
   },
   {
    "duration": 457,
    "start_time": "2022-01-19T12:01:13.963Z"
   },
   {
    "duration": 2,
    "start_time": "2022-01-19T12:01:14.423Z"
   },
   {
    "duration": 48,
    "start_time": "2022-01-19T12:01:14.428Z"
   },
   {
    "duration": 25,
    "start_time": "2022-01-19T12:01:14.478Z"
   },
   {
    "duration": 42,
    "start_time": "2022-01-19T12:01:14.505Z"
   },
   {
    "duration": 36,
    "start_time": "2022-01-19T12:01:14.549Z"
   },
   {
    "duration": 58,
    "start_time": "2022-01-19T12:01:14.587Z"
   },
   {
    "duration": 28,
    "start_time": "2022-01-19T12:01:14.647Z"
   },
   {
    "duration": 37,
    "start_time": "2022-01-19T12:01:14.677Z"
   },
   {
    "duration": 60,
    "start_time": "2022-01-19T12:01:14.716Z"
   },
   {
    "duration": 20,
    "start_time": "2022-01-19T12:01:14.778Z"
   },
   {
    "duration": 46,
    "start_time": "2022-01-19T12:01:14.800Z"
   },
   {
    "duration": 30,
    "start_time": "2022-01-19T12:01:14.848Z"
   },
   {
    "duration": 30,
    "start_time": "2022-01-19T12:01:14.879Z"
   },
   {
    "duration": 5,
    "start_time": "2022-01-19T12:43:59.710Z"
   },
   {
    "duration": 4,
    "start_time": "2022-01-19T12:45:03.063Z"
   },
   {
    "duration": 86,
    "start_time": "2022-01-19T12:45:13.843Z"
   },
   {
    "duration": 180315,
    "start_time": "2022-01-19T12:45:19.672Z"
   },
   {
    "duration": -102,
    "start_time": "2022-01-19T12:48:20.091Z"
   },
   {
    "duration": -116,
    "start_time": "2022-01-19T12:48:20.106Z"
   },
   {
    "duration": -131,
    "start_time": "2022-01-19T12:48:20.122Z"
   },
   {
    "duration": 82929,
    "start_time": "2022-01-19T12:49:10.971Z"
   },
   {
    "duration": 7,
    "start_time": "2022-01-19T12:50:33.902Z"
   },
   {
    "duration": 179752,
    "start_time": "2022-01-19T12:51:11.018Z"
   },
   {
    "duration": 143811,
    "start_time": "2022-01-19T12:54:10.862Z"
   },
   {
    "duration": 112362,
    "start_time": "2022-01-19T12:56:34.675Z"
   },
   {
    "duration": 4,
    "start_time": "2022-01-19T12:58:27.040Z"
   },
   {
    "duration": 5,
    "start_time": "2022-01-19T12:59:00.503Z"
   },
   {
    "duration": 3,
    "start_time": "2022-01-19T12:59:03.904Z"
   },
   {
    "duration": 3,
    "start_time": "2022-01-19T12:59:06.240Z"
   },
   {
    "duration": 248,
    "start_time": "2022-01-19T12:59:06.414Z"
   },
   {
    "duration": 6,
    "start_time": "2022-01-19T12:59:09.808Z"
   },
   {
    "duration": 842,
    "start_time": "2022-01-19T12:59:10.009Z"
   },
   {
    "duration": 45,
    "start_time": "2022-01-19T12:59:12.789Z"
   },
   {
    "duration": 24,
    "start_time": "2022-01-19T12:59:21.528Z"
   },
   {
    "duration": 22,
    "start_time": "2022-01-19T12:59:23.670Z"
   },
   {
    "duration": 6,
    "start_time": "2022-01-19T12:59:28.331Z"
   },
   {
    "duration": 1348,
    "start_time": "2022-01-19T13:00:15.560Z"
   },
   {
    "duration": 356,
    "start_time": "2022-01-19T13:00:16.910Z"
   },
   {
    "duration": 22,
    "start_time": "2022-01-19T13:00:17.269Z"
   },
   {
    "duration": 27,
    "start_time": "2022-01-19T13:00:17.293Z"
   },
   {
    "duration": 61,
    "start_time": "2022-01-19T13:00:17.323Z"
   },
   {
    "duration": 32,
    "start_time": "2022-01-19T13:00:17.386Z"
   },
   {
    "duration": 156,
    "start_time": "2022-01-19T13:00:17.420Z"
   },
   {
    "duration": 135,
    "start_time": "2022-01-19T13:00:17.579Z"
   },
   {
    "duration": 68,
    "start_time": "2022-01-19T13:00:17.716Z"
   },
   {
    "duration": 39,
    "start_time": "2022-01-19T13:00:17.786Z"
   },
   {
    "duration": 59,
    "start_time": "2022-01-19T13:00:17.826Z"
   },
   {
    "duration": 90,
    "start_time": "2022-01-19T13:00:17.887Z"
   },
   {
    "duration": 95,
    "start_time": "2022-01-19T13:00:17.979Z"
   },
   {
    "duration": 114,
    "start_time": "2022-01-19T13:00:18.077Z"
   },
   {
    "duration": 4,
    "start_time": "2022-01-19T13:00:18.193Z"
   },
   {
    "duration": 92,
    "start_time": "2022-01-19T13:00:18.199Z"
   },
   {
    "duration": 1767,
    "start_time": "2022-01-19T13:00:18.293Z"
   },
   {
    "duration": 748,
    "start_time": "2022-01-19T13:00:20.062Z"
   },
   {
    "duration": 24,
    "start_time": "2022-01-19T13:00:20.812Z"
   },
   {
    "duration": 278,
    "start_time": "2022-01-19T13:00:20.839Z"
   },
   {
    "duration": 11,
    "start_time": "2022-01-19T13:00:21.119Z"
   },
   {
    "duration": 45,
    "start_time": "2022-01-19T13:00:21.132Z"
   },
   {
    "duration": 61,
    "start_time": "2022-01-19T13:00:21.181Z"
   },
   {
    "duration": 1944,
    "start_time": "2022-01-19T13:00:21.246Z"
   },
   {
    "duration": 1204,
    "start_time": "2022-01-19T13:00:23.192Z"
   },
   {
    "duration": 24,
    "start_time": "2022-01-19T13:00:24.398Z"
   },
   {
    "duration": 1710,
    "start_time": "2022-01-19T13:00:24.424Z"
   },
   {
    "duration": 2301,
    "start_time": "2022-01-19T13:00:26.136Z"
   },
   {
    "duration": 6,
    "start_time": "2022-01-19T13:00:28.438Z"
   },
   {
    "duration": 144,
    "start_time": "2022-01-19T13:00:28.446Z"
   },
   {
    "duration": 6,
    "start_time": "2022-01-19T13:00:28.593Z"
   },
   {
    "duration": 4316,
    "start_time": "2022-01-19T13:00:28.601Z"
   },
   {
    "duration": 24,
    "start_time": "2022-01-19T13:00:32.919Z"
   },
   {
    "duration": 28,
    "start_time": "2022-01-19T13:00:32.944Z"
   },
   {
    "duration": 4071,
    "start_time": "2022-01-19T13:00:32.974Z"
   },
   {
    "duration": 4,
    "start_time": "2022-01-19T13:00:37.046Z"
   },
   {
    "duration": 3395,
    "start_time": "2022-01-19T13:00:37.051Z"
   },
   {
    "duration": 33,
    "start_time": "2022-01-19T13:00:40.448Z"
   },
   {
    "duration": 28,
    "start_time": "2022-01-19T13:00:40.483Z"
   },
   {
    "duration": 35,
    "start_time": "2022-01-19T13:00:40.513Z"
   },
   {
    "duration": 58,
    "start_time": "2022-01-19T13:00:40.550Z"
   },
   {
    "duration": 39,
    "start_time": "2022-01-19T13:00:40.610Z"
   },
   {
    "duration": 69,
    "start_time": "2022-01-19T13:00:40.651Z"
   },
   {
    "duration": 70,
    "start_time": "2022-01-19T13:00:40.722Z"
   },
   {
    "duration": 61,
    "start_time": "2022-01-19T13:00:40.793Z"
   },
   {
    "duration": 59,
    "start_time": "2022-01-19T13:00:40.855Z"
   },
   {
    "duration": 42,
    "start_time": "2022-01-19T13:00:40.916Z"
   },
   {
    "duration": 26,
    "start_time": "2022-01-19T13:00:40.961Z"
   },
   {
    "duration": 147,
    "start_time": "2022-01-19T13:00:40.989Z"
   },
   {
    "duration": 28,
    "start_time": "2022-01-19T13:00:41.139Z"
   },
   {
    "duration": 204307,
    "start_time": "2022-01-19T13:00:41.169Z"
   },
   {
    "duration": 175653,
    "start_time": "2022-01-19T13:04:05.478Z"
   },
   {
    "duration": 3,
    "start_time": "2022-01-19T13:07:01.133Z"
   },
   {
    "duration": 47,
    "start_time": "2022-01-19T13:07:01.138Z"
   },
   {
    "duration": 27,
    "start_time": "2022-01-19T13:07:01.187Z"
   },
   {
    "duration": 337,
    "start_time": "2022-01-19T13:07:01.216Z"
   },
   {
    "duration": 7,
    "start_time": "2022-01-19T13:07:01.555Z"
   },
   {
    "duration": 46,
    "start_time": "2022-01-19T13:07:01.564Z"
   },
   {
    "duration": 150798,
    "start_time": "2022-01-19T13:07:01.612Z"
   },
   {
    "duration": 91533,
    "start_time": "2022-01-19T13:09:32.413Z"
   },
   {
    "duration": 28,
    "start_time": "2022-01-19T13:11:03.948Z"
   },
   {
    "duration": 35,
    "start_time": "2022-01-19T13:11:03.978Z"
   },
   {
    "duration": 176752,
    "start_time": "2022-01-19T13:11:04.014Z"
   },
   {
    "duration": 148569,
    "start_time": "2022-01-19T13:14:00.772Z"
   },
   {
    "duration": 122678,
    "start_time": "2022-01-19T13:16:29.343Z"
   },
   {
    "duration": 3,
    "start_time": "2022-01-19T13:18:32.023Z"
   },
   {
    "duration": 33,
    "start_time": "2022-01-19T13:18:32.028Z"
   },
   {
    "duration": 35,
    "start_time": "2022-01-19T13:18:32.067Z"
   },
   {
    "duration": 70,
    "start_time": "2022-01-19T13:18:32.104Z"
   },
   {
    "duration": 201,
    "start_time": "2022-01-19T13:18:32.176Z"
   },
   {
    "duration": 10,
    "start_time": "2022-01-19T13:18:32.464Z"
   },
   {
    "duration": 821,
    "start_time": "2022-01-19T13:18:32.476Z"
   },
   {
    "duration": 45,
    "start_time": "2022-01-19T13:18:33.299Z"
   },
   {
    "duration": 35,
    "start_time": "2022-01-19T13:18:33.346Z"
   },
   {
    "duration": 36,
    "start_time": "2022-01-19T13:18:33.383Z"
   },
   {
    "duration": 15,
    "start_time": "2022-01-19T13:18:33.421Z"
   },
   {
    "duration": 17,
    "start_time": "2022-01-19T13:18:33.438Z"
   },
   {
    "duration": 481,
    "start_time": "2022-01-19T13:18:33.456Z"
   },
   {
    "duration": 3,
    "start_time": "2022-01-19T13:18:33.939Z"
   },
   {
    "duration": 68,
    "start_time": "2022-01-19T13:18:33.965Z"
   },
   {
    "duration": 41,
    "start_time": "2022-01-19T13:18:34.035Z"
   },
   {
    "duration": 6,
    "start_time": "2022-01-19T13:18:34.078Z"
   },
   {
    "duration": 6,
    "start_time": "2022-01-19T13:18:34.085Z"
   },
   {
    "duration": 10,
    "start_time": "2022-01-19T13:18:34.093Z"
   },
   {
    "duration": 9,
    "start_time": "2022-01-19T13:18:34.105Z"
   },
   {
    "duration": 10,
    "start_time": "2022-01-19T13:18:34.116Z"
   },
   {
    "duration": 12,
    "start_time": "2022-01-19T13:18:34.128Z"
   },
   {
    "duration": 7,
    "start_time": "2022-01-19T13:18:34.142Z"
   },
   {
    "duration": 7,
    "start_time": "2022-01-19T13:18:34.152Z"
   },
   {
    "duration": 20,
    "start_time": "2022-01-19T13:18:34.161Z"
   },
   {
    "duration": 6,
    "start_time": "2022-01-19T13:18:34.183Z"
   },
   {
    "duration": 87,
    "start_time": "2022-01-19T13:20:42.941Z"
   },
   {
    "duration": 8,
    "start_time": "2022-01-19T13:20:47.598Z"
   },
   {
    "duration": 71742,
    "start_time": "2022-01-19T13:20:49.575Z"
   },
   {
    "duration": 13,
    "start_time": "2022-01-19T13:22:01.320Z"
   },
   {
    "duration": 98879,
    "start_time": "2022-01-19T13:22:01.336Z"
   },
   {
    "duration": 86146,
    "start_time": "2022-01-19T13:23:40.217Z"
   },
   {
    "duration": 1653,
    "start_time": "2022-01-20T06:33:55.153Z"
   },
   {
    "duration": 287,
    "start_time": "2022-01-20T06:33:56.809Z"
   },
   {
    "duration": 44,
    "start_time": "2022-01-20T06:33:57.099Z"
   },
   {
    "duration": 30,
    "start_time": "2022-01-20T06:33:57.146Z"
   },
   {
    "duration": 85,
    "start_time": "2022-01-20T06:33:57.178Z"
   },
   {
    "duration": 66,
    "start_time": "2022-01-20T06:33:57.266Z"
   },
   {
    "duration": 114,
    "start_time": "2022-01-20T06:33:57.334Z"
   },
   {
    "duration": 115,
    "start_time": "2022-01-20T06:33:57.453Z"
   },
   {
    "duration": 88,
    "start_time": "2022-01-20T06:33:57.573Z"
   },
   {
    "duration": 82,
    "start_time": "2022-01-20T06:33:57.664Z"
   },
   {
    "duration": 86,
    "start_time": "2022-01-20T06:33:57.749Z"
   },
   {
    "duration": 107,
    "start_time": "2022-01-20T06:33:57.837Z"
   },
   {
    "duration": 118,
    "start_time": "2022-01-20T06:33:57.947Z"
   },
   {
    "duration": 147,
    "start_time": "2022-01-20T06:33:58.068Z"
   },
   {
    "duration": 4,
    "start_time": "2022-01-20T06:33:58.218Z"
   },
   {
    "duration": 57,
    "start_time": "2022-01-20T06:33:58.232Z"
   },
   {
    "duration": 3233,
    "start_time": "2022-01-20T06:33:58.292Z"
   },
   {
    "duration": 1217,
    "start_time": "2022-01-20T06:34:01.531Z"
   },
   {
    "duration": 34,
    "start_time": "2022-01-20T06:34:02.750Z"
   },
   {
    "duration": 445,
    "start_time": "2022-01-20T06:34:02.787Z"
   },
   {
    "duration": 15,
    "start_time": "2022-01-20T06:34:03.234Z"
   },
   {
    "duration": 38,
    "start_time": "2022-01-20T06:34:03.251Z"
   },
   {
    "duration": 72,
    "start_time": "2022-01-20T06:34:03.296Z"
   },
   {
    "duration": 3151,
    "start_time": "2022-01-20T06:34:03.371Z"
   },
   {
    "duration": 2368,
    "start_time": "2022-01-20T06:34:06.533Z"
   },
   {
    "duration": 42,
    "start_time": "2022-01-20T06:34:08.903Z"
   },
   {
    "duration": 2502,
    "start_time": "2022-01-20T06:34:08.947Z"
   },
   {
    "duration": 3451,
    "start_time": "2022-01-20T06:34:11.452Z"
   },
   {
    "duration": 9,
    "start_time": "2022-01-20T06:34:14.906Z"
   },
   {
    "duration": 160,
    "start_time": "2022-01-20T06:34:14.933Z"
   },
   {
    "duration": 9,
    "start_time": "2022-01-20T06:34:15.096Z"
   },
   {
    "duration": 7876,
    "start_time": "2022-01-20T06:34:15.107Z"
   },
   {
    "duration": 49,
    "start_time": "2022-01-20T06:34:22.985Z"
   },
   {
    "duration": 8,
    "start_time": "2022-01-20T06:34:23.038Z"
   },
   {
    "duration": 8967,
    "start_time": "2022-01-20T06:34:23.049Z"
   },
   {
    "duration": 4,
    "start_time": "2022-01-20T06:34:32.018Z"
   },
   {
    "duration": 4956,
    "start_time": "2022-01-20T06:34:32.032Z"
   },
   {
    "duration": 25,
    "start_time": "2022-01-20T06:34:36.990Z"
   },
   {
    "duration": 8,
    "start_time": "2022-01-20T06:34:37.033Z"
   },
   {
    "duration": 7,
    "start_time": "2022-01-20T06:34:37.044Z"
   },
   {
    "duration": 21,
    "start_time": "2022-01-20T06:34:37.054Z"
   },
   {
    "duration": 54,
    "start_time": "2022-01-20T06:34:37.078Z"
   },
   {
    "duration": 9,
    "start_time": "2022-01-20T06:34:37.134Z"
   },
   {
    "duration": 48,
    "start_time": "2022-01-20T06:34:37.145Z"
   },
   {
    "duration": 77,
    "start_time": "2022-01-20T06:34:37.195Z"
   },
   {
    "duration": 19,
    "start_time": "2022-01-20T06:34:37.274Z"
   },
   {
    "duration": 37,
    "start_time": "2022-01-20T06:34:37.295Z"
   },
   {
    "duration": 28,
    "start_time": "2022-01-20T06:34:37.334Z"
   },
   {
    "duration": 154,
    "start_time": "2022-01-20T06:34:37.365Z"
   },
   {
    "duration": 18,
    "start_time": "2022-01-20T06:34:37.533Z"
   },
   {
    "duration": 131380,
    "start_time": "2022-01-20T06:34:37.553Z"
   },
   {
    "duration": 118524,
    "start_time": "2022-01-20T06:36:48.936Z"
   },
   {
    "duration": 5,
    "start_time": "2022-01-20T06:38:47.463Z"
   },
   {
    "duration": 10,
    "start_time": "2022-01-20T06:38:47.471Z"
   },
   {
    "duration": 15,
    "start_time": "2022-01-20T06:38:47.483Z"
   },
   {
    "duration": 298,
    "start_time": "2022-01-20T06:38:47.501Z"
   },
   {
    "duration": 7,
    "start_time": "2022-01-20T06:38:47.801Z"
   },
   {
    "duration": 26,
    "start_time": "2022-01-20T06:38:47.811Z"
   },
   {
    "duration": 98416,
    "start_time": "2022-01-20T06:38:47.840Z"
   },
   {
    "duration": 117007,
    "start_time": "2022-01-20T06:40:26.259Z"
   },
   {
    "duration": 11,
    "start_time": "2022-01-20T06:42:23.268Z"
   },
   {
    "duration": 10,
    "start_time": "2022-01-20T06:42:23.281Z"
   },
   {
    "duration": 164840,
    "start_time": "2022-01-20T06:42:23.293Z"
   },
   {
    "duration": 277525,
    "start_time": "2022-01-20T06:45:08.137Z"
   },
   {
    "duration": 138680,
    "start_time": "2022-01-20T06:49:45.664Z"
   },
   {
    "duration": 5,
    "start_time": "2022-01-20T06:52:04.346Z"
   },
   {
    "duration": 8,
    "start_time": "2022-01-20T06:52:04.354Z"
   },
   {
    "duration": 3,
    "start_time": "2022-01-20T06:52:04.370Z"
   },
   {
    "duration": 5,
    "start_time": "2022-01-20T06:52:04.376Z"
   },
   {
    "duration": 256,
    "start_time": "2022-01-20T06:52:04.384Z"
   },
   {
    "duration": 9,
    "start_time": "2022-01-20T06:52:04.642Z"
   },
   {
    "duration": 1152,
    "start_time": "2022-01-20T06:52:04.653Z"
   },
   {
    "duration": 58,
    "start_time": "2022-01-20T06:52:05.807Z"
   },
   {
    "duration": 30,
    "start_time": "2022-01-20T06:52:05.868Z"
   },
   {
    "duration": 53,
    "start_time": "2022-01-20T06:52:05.900Z"
   },
   {
    "duration": 7,
    "start_time": "2022-01-20T06:52:05.955Z"
   },
   {
    "duration": 13,
    "start_time": "2022-01-20T06:52:05.964Z"
   },
   {
    "duration": 737,
    "start_time": "2022-01-20T06:52:05.979Z"
   },
   {
    "duration": 14,
    "start_time": "2022-01-20T06:52:06.718Z"
   },
   {
    "duration": 3,
    "start_time": "2022-01-20T06:52:06.735Z"
   },
   {
    "duration": 12,
    "start_time": "2022-01-20T06:52:06.740Z"
   },
   {
    "duration": 7,
    "start_time": "2022-01-20T06:52:06.755Z"
   },
   {
    "duration": 8,
    "start_time": "2022-01-20T06:52:06.764Z"
   },
   {
    "duration": 12,
    "start_time": "2022-01-20T06:52:06.774Z"
   },
   {
    "duration": 10,
    "start_time": "2022-01-20T06:52:06.788Z"
   },
   {
    "duration": 9,
    "start_time": "2022-01-20T06:52:06.800Z"
   },
   {
    "duration": 21,
    "start_time": "2022-01-20T06:52:06.811Z"
   },
   {
    "duration": 7,
    "start_time": "2022-01-20T06:52:06.834Z"
   },
   {
    "duration": 6,
    "start_time": "2022-01-20T06:52:06.843Z"
   },
   {
    "duration": 7,
    "start_time": "2022-01-20T06:52:06.852Z"
   },
   {
    "duration": 6,
    "start_time": "2022-01-20T06:52:06.861Z"
   },
   {
    "duration": 18,
    "start_time": "2022-01-20T06:54:04.462Z"
   },
   {
    "duration": 1092072,
    "start_time": "2022-01-20T06:54:41.024Z"
   },
   {
    "duration": -1956,
    "start_time": "2022-01-20T07:12:55.056Z"
   },
   {
    "duration": 24,
    "start_time": "2022-01-20T07:19:58.412Z"
   },
   {
    "duration": 8,
    "start_time": "2022-01-20T08:36:16.435Z"
   },
   {
    "duration": 249,
    "start_time": "2022-01-20T08:36:16.446Z"
   },
   {
    "duration": 45,
    "start_time": "2022-01-20T08:36:16.697Z"
   },
   {
    "duration": 28,
    "start_time": "2022-01-20T08:36:16.745Z"
   },
   {
    "duration": 82,
    "start_time": "2022-01-20T08:36:16.775Z"
   },
   {
    "duration": 74,
    "start_time": "2022-01-20T08:36:16.859Z"
   },
   {
    "duration": 118,
    "start_time": "2022-01-20T08:36:16.937Z"
   },
   {
    "duration": 109,
    "start_time": "2022-01-20T08:36:17.058Z"
   },
   {
    "duration": 83,
    "start_time": "2022-01-20T08:36:17.170Z"
   },
   {
    "duration": 85,
    "start_time": "2022-01-20T08:36:17.256Z"
   },
   {
    "duration": 40,
    "start_time": "2022-01-20T08:36:17.344Z"
   },
   {
    "duration": 100,
    "start_time": "2022-01-20T08:36:17.434Z"
   },
   {
    "duration": 72,
    "start_time": "2022-01-20T08:36:17.537Z"
   },
   {
    "duration": 145,
    "start_time": "2022-01-20T08:36:17.611Z"
   },
   {
    "duration": 5,
    "start_time": "2022-01-20T08:36:17.759Z"
   },
   {
    "duration": 68,
    "start_time": "2022-01-20T08:36:17.766Z"
   },
   {
    "duration": 2984,
    "start_time": "2022-01-20T08:36:17.837Z"
   },
   {
    "duration": 1250,
    "start_time": "2022-01-20T08:36:20.823Z"
   },
   {
    "duration": 30,
    "start_time": "2022-01-20T08:36:22.078Z"
   },
   {
    "duration": 437,
    "start_time": "2022-01-20T08:36:22.112Z"
   },
   {
    "duration": 16,
    "start_time": "2022-01-20T08:36:22.552Z"
   },
   {
    "duration": 30,
    "start_time": "2022-01-20T08:36:22.570Z"
   },
   {
    "duration": 66,
    "start_time": "2022-01-20T08:36:22.602Z"
   },
   {
    "duration": 2503,
    "start_time": "2022-01-20T08:36:22.670Z"
   },
   {
    "duration": 2052,
    "start_time": "2022-01-20T08:36:25.175Z"
   },
   {
    "duration": 36,
    "start_time": "2022-01-20T08:36:27.233Z"
   },
   {
    "duration": 2553,
    "start_time": "2022-01-20T08:36:27.272Z"
   },
   {
    "duration": 3451,
    "start_time": "2022-01-20T08:36:29.833Z"
   },
   {
    "duration": 9,
    "start_time": "2022-01-20T08:36:33.286Z"
   },
   {
    "duration": 164,
    "start_time": "2022-01-20T08:36:33.297Z"
   },
   {
    "duration": 8,
    "start_time": "2022-01-20T08:36:33.463Z"
   },
   {
    "duration": 7611,
    "start_time": "2022-01-20T08:36:33.473Z"
   },
   {
    "duration": 33,
    "start_time": "2022-01-20T08:36:41.087Z"
   },
   {
    "duration": 8,
    "start_time": "2022-01-20T08:36:41.133Z"
   },
   {
    "duration": 7017,
    "start_time": "2022-01-20T08:36:41.143Z"
   },
   {
    "duration": 4,
    "start_time": "2022-01-20T08:36:48.163Z"
   },
   {
    "duration": 5142,
    "start_time": "2022-01-20T08:36:48.169Z"
   },
   {
    "duration": 31,
    "start_time": "2022-01-20T08:36:53.313Z"
   },
   {
    "duration": 10,
    "start_time": "2022-01-20T08:36:53.347Z"
   },
   {
    "duration": 8,
    "start_time": "2022-01-20T08:36:53.359Z"
   },
   {
    "duration": 23,
    "start_time": "2022-01-20T08:36:53.369Z"
   },
   {
    "duration": 57,
    "start_time": "2022-01-20T08:36:53.394Z"
   },
   {
    "duration": 9,
    "start_time": "2022-01-20T08:36:53.453Z"
   },
   {
    "duration": 76,
    "start_time": "2022-01-20T08:36:53.465Z"
   },
   {
    "duration": 49,
    "start_time": "2022-01-20T08:36:53.544Z"
   },
   {
    "duration": 46,
    "start_time": "2022-01-20T08:36:53.596Z"
   },
   {
    "duration": 20,
    "start_time": "2022-01-20T08:36:53.645Z"
   },
   {
    "duration": 25,
    "start_time": "2022-01-20T08:36:53.667Z"
   },
   {
    "duration": 158,
    "start_time": "2022-01-20T08:36:53.694Z"
   },
   {
    "duration": 19,
    "start_time": "2022-01-20T08:36:53.855Z"
   },
   {
    "duration": 130275,
    "start_time": "2022-01-20T08:36:53.876Z"
   },
   {
    "duration": 120480,
    "start_time": "2022-01-20T08:39:04.154Z"
   },
   {
    "duration": 6,
    "start_time": "2022-01-20T08:41:04.637Z"
   },
   {
    "duration": 11,
    "start_time": "2022-01-20T08:41:04.645Z"
   },
   {
    "duration": 7,
    "start_time": "2022-01-20T08:41:04.665Z"
   },
   {
    "duration": 306,
    "start_time": "2022-01-20T08:41:04.675Z"
   },
   {
    "duration": 7,
    "start_time": "2022-01-20T08:41:04.983Z"
   },
   {
    "duration": 11,
    "start_time": "2022-01-20T08:41:04.992Z"
   },
   {
    "duration": 101838,
    "start_time": "2022-01-20T08:41:05.032Z"
   },
   {
    "duration": 123455,
    "start_time": "2022-01-20T08:42:46.872Z"
   },
   {
    "duration": 15,
    "start_time": "2022-01-20T08:44:50.333Z"
   },
   {
    "duration": 8,
    "start_time": "2022-01-20T08:44:50.351Z"
   },
   {
    "duration": 169672,
    "start_time": "2022-01-20T08:44:50.362Z"
   },
   {
    "duration": 282029,
    "start_time": "2022-01-20T08:47:40.037Z"
   },
   {
    "duration": 148965,
    "start_time": "2022-01-20T08:52:22.068Z"
   },
   {
    "duration": 5,
    "start_time": "2022-01-20T08:54:51.036Z"
   },
   {
    "duration": 12,
    "start_time": "2022-01-20T08:54:51.043Z"
   },
   {
    "duration": 8,
    "start_time": "2022-01-20T08:54:51.057Z"
   },
   {
    "duration": 5,
    "start_time": "2022-01-20T08:54:51.067Z"
   },
   {
    "duration": 268,
    "start_time": "2022-01-20T08:54:51.075Z"
   },
   {
    "duration": 9,
    "start_time": "2022-01-20T08:54:51.345Z"
   },
   {
    "duration": 1057,
    "start_time": "2022-01-20T08:54:51.357Z"
   },
   {
    "duration": 55,
    "start_time": "2022-01-20T08:54:52.416Z"
   },
   {
    "duration": 31,
    "start_time": "2022-01-20T08:54:52.474Z"
   },
   {
    "duration": 52,
    "start_time": "2022-01-20T08:54:52.508Z"
   },
   {
    "duration": 8,
    "start_time": "2022-01-20T08:54:52.563Z"
   },
   {
    "duration": 11,
    "start_time": "2022-01-20T08:54:52.573Z"
   },
   {
    "duration": 793,
    "start_time": "2022-01-20T08:54:52.587Z"
   },
   {
    "duration": 5,
    "start_time": "2022-01-20T08:54:53.383Z"
   },
   {
    "duration": 12,
    "start_time": "2022-01-20T08:54:53.391Z"
   },
   {
    "duration": 8,
    "start_time": "2022-01-20T08:54:53.405Z"
   },
   {
    "duration": 5,
    "start_time": "2022-01-20T08:54:53.433Z"
   },
   {
    "duration": 5,
    "start_time": "2022-01-20T08:54:53.441Z"
   },
   {
    "duration": 11,
    "start_time": "2022-01-20T08:54:53.449Z"
   },
   {
    "duration": 7,
    "start_time": "2022-01-20T08:54:53.462Z"
   },
   {
    "duration": 10,
    "start_time": "2022-01-20T08:54:53.472Z"
   },
   {
    "duration": 58,
    "start_time": "2022-01-20T08:54:53.484Z"
   },
   {
    "duration": 678759,
    "start_time": "2022-01-20T08:54:53.544Z"
   },
   {
    "duration": -2408,
    "start_time": "2022-01-20T09:06:14.714Z"
   },
   {
    "duration": -2415,
    "start_time": "2022-01-20T09:06:14.722Z"
   },
   {
    "duration": -2420,
    "start_time": "2022-01-20T09:06:14.728Z"
   },
   {
    "duration": -2427,
    "start_time": "2022-01-20T09:06:14.736Z"
   },
   {
    "duration": -2433,
    "start_time": "2022-01-20T09:06:14.744Z"
   },
   {
    "duration": -2440,
    "start_time": "2022-01-20T09:06:14.752Z"
   },
   {
    "duration": -2446,
    "start_time": "2022-01-20T09:06:14.759Z"
   },
   {
    "duration": 766037,
    "start_time": "2022-01-20T09:06:16.301Z"
   }
  ],
  "kernelspec": {
   "display_name": "Python 3",
   "language": "python",
   "name": "python3"
  },
  "language_info": {
   "codemirror_mode": {
    "name": "ipython",
    "version": 3
   },
   "file_extension": ".py",
   "mimetype": "text/x-python",
   "name": "python",
   "nbconvert_exporter": "python",
   "pygments_lexer": "ipython3",
   "version": "3.8.8"
  },
  "toc": {
   "base_numbering": 1,
   "nav_menu": {},
   "number_sections": true,
   "sideBar": true,
   "skip_h1_title": true,
   "title_cell": "Table of Contents",
   "title_sidebar": "Contents",
   "toc_cell": false,
   "toc_position": {
    "height": "calc(100% - 180px)",
    "left": "10px",
    "top": "150px",
    "width": "230.724px"
   },
   "toc_section_display": true,
   "toc_window_display": false
  }
 },
 "nbformat": 4,
 "nbformat_minor": 2
}
