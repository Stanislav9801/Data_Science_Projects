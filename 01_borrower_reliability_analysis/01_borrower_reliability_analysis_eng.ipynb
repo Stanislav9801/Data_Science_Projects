{
 "cells": [
  {
   "cell_type": "markdown",
   "metadata": {},
   "source": [
    "# Borrower reliability analysis\n",
    "\n",
    "The client is the credit department of the bank. We need to understand whether the marital status and number of children of the client affects the fact of repayment of the loan on time. Input data from the bank - statistics on the solvency of customers.\n",
    "\n",
    "The study results will be taken into account when building a **credit scoring model** - a special system that evaluates the potential borrower's ability to repay the loan to the bank."
   ]
  },
  {
   "cell_type": "markdown",
   "metadata": {},
   "source": [
    "## Step 1: Getting familiar with the data and exploring general information"
   ]
  },
  {
   "cell_type": "code",
   "execution_count": 1,
   "metadata": {},
   "outputs": [],
   "source": [
    "# Import libriaries\n",
    "import pandas as pd\n",
    "import seaborn as sns\n",
    "import numpy as np\n",
    "\n",
    "import matplotlib.pyplot as plt\n",
    "from pymystem3 import Mystem"
   ]
  },
  {
   "cell_type": "code",
   "execution_count": 2,
   "metadata": {
    "scrolled": true
   },
   "outputs": [
    {
     "data": {
      "text/html": [
       "<div>\n",
       "<style scoped>\n",
       "    .dataframe tbody tr th:only-of-type {\n",
       "        vertical-align: middle;\n",
       "    }\n",
       "\n",
       "    .dataframe tbody tr th {\n",
       "        vertical-align: top;\n",
       "    }\n",
       "\n",
       "    .dataframe thead th {\n",
       "        text-align: right;\n",
       "    }\n",
       "</style>\n",
       "<table border=\"1\" class=\"dataframe\">\n",
       "  <thead>\n",
       "    <tr style=\"text-align: right;\">\n",
       "      <th></th>\n",
       "      <th>children</th>\n",
       "      <th>days_employed</th>\n",
       "      <th>dob_years</th>\n",
       "      <th>education</th>\n",
       "      <th>education_id</th>\n",
       "      <th>family_status</th>\n",
       "      <th>family_status_id</th>\n",
       "      <th>gender</th>\n",
       "      <th>income_type</th>\n",
       "      <th>debt</th>\n",
       "      <th>total_income</th>\n",
       "      <th>purpose</th>\n",
       "    </tr>\n",
       "  </thead>\n",
       "  <tbody>\n",
       "    <tr>\n",
       "      <td>0</td>\n",
       "      <td>1</td>\n",
       "      <td>-8437.673028</td>\n",
       "      <td>42</td>\n",
       "      <td>высшее</td>\n",
       "      <td>0</td>\n",
       "      <td>женат / замужем</td>\n",
       "      <td>0</td>\n",
       "      <td>F</td>\n",
       "      <td>сотрудник</td>\n",
       "      <td>0</td>\n",
       "      <td>253875.639453</td>\n",
       "      <td>покупка жилья</td>\n",
       "    </tr>\n",
       "    <tr>\n",
       "      <td>1</td>\n",
       "      <td>1</td>\n",
       "      <td>-4024.803754</td>\n",
       "      <td>36</td>\n",
       "      <td>среднее</td>\n",
       "      <td>1</td>\n",
       "      <td>женат / замужем</td>\n",
       "      <td>0</td>\n",
       "      <td>F</td>\n",
       "      <td>сотрудник</td>\n",
       "      <td>0</td>\n",
       "      <td>112080.014102</td>\n",
       "      <td>приобретение автомобиля</td>\n",
       "    </tr>\n",
       "    <tr>\n",
       "      <td>2</td>\n",
       "      <td>0</td>\n",
       "      <td>-5623.422610</td>\n",
       "      <td>33</td>\n",
       "      <td>Среднее</td>\n",
       "      <td>1</td>\n",
       "      <td>женат / замужем</td>\n",
       "      <td>0</td>\n",
       "      <td>M</td>\n",
       "      <td>сотрудник</td>\n",
       "      <td>0</td>\n",
       "      <td>145885.952297</td>\n",
       "      <td>покупка жилья</td>\n",
       "    </tr>\n",
       "    <tr>\n",
       "      <td>3</td>\n",
       "      <td>3</td>\n",
       "      <td>-4124.747207</td>\n",
       "      <td>32</td>\n",
       "      <td>среднее</td>\n",
       "      <td>1</td>\n",
       "      <td>женат / замужем</td>\n",
       "      <td>0</td>\n",
       "      <td>M</td>\n",
       "      <td>сотрудник</td>\n",
       "      <td>0</td>\n",
       "      <td>267628.550329</td>\n",
       "      <td>дополнительное образование</td>\n",
       "    </tr>\n",
       "    <tr>\n",
       "      <td>4</td>\n",
       "      <td>0</td>\n",
       "      <td>340266.072047</td>\n",
       "      <td>53</td>\n",
       "      <td>среднее</td>\n",
       "      <td>1</td>\n",
       "      <td>гражданский брак</td>\n",
       "      <td>1</td>\n",
       "      <td>F</td>\n",
       "      <td>пенсионер</td>\n",
       "      <td>0</td>\n",
       "      <td>158616.077870</td>\n",
       "      <td>сыграть свадьбу</td>\n",
       "    </tr>\n",
       "  </tbody>\n",
       "</table>\n",
       "</div>"
      ],
      "text/plain": [
       "   children  days_employed  dob_years education  education_id  \\\n",
       "0         1   -8437.673028         42    высшее             0   \n",
       "1         1   -4024.803754         36   среднее             1   \n",
       "2         0   -5623.422610         33   Среднее             1   \n",
       "3         3   -4124.747207         32   среднее             1   \n",
       "4         0  340266.072047         53   среднее             1   \n",
       "\n",
       "      family_status  family_status_id gender income_type  debt   total_income  \\\n",
       "0   женат / замужем                 0      F   сотрудник     0  253875.639453   \n",
       "1   женат / замужем                 0      F   сотрудник     0  112080.014102   \n",
       "2   женат / замужем                 0      M   сотрудник     0  145885.952297   \n",
       "3   женат / замужем                 0      M   сотрудник     0  267628.550329   \n",
       "4  гражданский брак                 1      F   пенсионер     0  158616.077870   \n",
       "\n",
       "                      purpose  \n",
       "0               покупка жилья  \n",
       "1     приобретение автомобиля  \n",
       "2               покупка жилья  \n",
       "3  дополнительное образование  \n",
       "4             сыграть свадьбу  "
      ]
     },
     "execution_count": 2,
     "metadata": {},
     "output_type": "execute_result"
    }
   ],
   "source": [
    "# Read the table with the data and save it in the variable df\n",
    "df = pd.read_csv('/datasets/data.csv')\n",
    "df.head()"
   ]
  },
  {
   "cell_type": "markdown",
   "metadata": {},
   "source": [
    "### Explore general information"
   ]
  },
  {
   "cell_type": "code",
   "execution_count": 3,
   "metadata": {},
   "outputs": [
    {
     "name": "stdout",
     "output_type": "stream",
     "text": [
      "<class 'pandas.core.frame.DataFrame'>\n",
      "RangeIndex: 21525 entries, 0 to 21524\n",
      "Data columns (total 12 columns):\n",
      "children            21525 non-null int64\n",
      "days_employed       19351 non-null float64\n",
      "dob_years           21525 non-null int64\n",
      "education           21525 non-null object\n",
      "education_id        21525 non-null int64\n",
      "family_status       21525 non-null object\n",
      "family_status_id    21525 non-null int64\n",
      "gender              21525 non-null object\n",
      "income_type         21525 non-null object\n",
      "debt                21525 non-null int64\n",
      "total_income        19351 non-null float64\n",
      "purpose             21525 non-null object\n",
      "dtypes: float64(2), int64(5), object(5)\n",
      "memory usage: 2.0+ MB\n"
     ]
    }
   ],
   "source": [
    "df.info()"
   ]
  },
  {
   "cell_type": "code",
   "execution_count": 4,
   "metadata": {
    "scrolled": true
   },
   "outputs": [
    {
     "data": {
      "text/plain": [
       "children            True\n",
       "days_employed       True\n",
       "dob_years           True\n",
       "education           True\n",
       "education_id        True\n",
       "family_status       True\n",
       "family_status_id    True\n",
       "gender              True\n",
       "income_type         True\n",
       "debt                True\n",
       "total_income        True\n",
       "purpose             True\n",
       "dtype: bool"
      ]
     },
     "execution_count": 4,
     "metadata": {},
     "output_type": "execute_result"
    }
   ],
   "source": [
    "# Check if the same rows have missing values in days_employed and total_income columns\n",
    "df[df['days_employed'].isna()].all() == df[df['total_income'].isna()].all()"
   ]
  },
  {
   "cell_type": "code",
   "execution_count": 5,
   "metadata": {},
   "outputs": [
    {
     "data": {
      "text/plain": [
       "2174"
      ]
     },
     "execution_count": 5,
     "metadata": {},
     "output_type": "execute_result"
    }
   ],
   "source": [
    "# Number of missing values\n",
    "\n",
    "len(df[df['days_employed'].isna()])"
   ]
  },
  {
   "cell_type": "markdown",
   "metadata": {},
   "source": [
    "**Summary**  \n",
    "Yes, both values are missing at the same time in the same row. Where days_employed is missing, so is total_income, and vice versa"
   ]
  },
  {
   "cell_type": "markdown",
   "metadata": {},
   "source": [
    "**What has been found out:**\n",
    "- There are 2174 missing data in the `days_employed` and `total_income` columns. Apparently some clients did not fill out the job information and as a consequence, did not mention their income. Perhaps the form that was filled out is designed so that without specifying the place of work it is not possible to specify income. This can be checked at the credit department.\n",
    "- Indexes of features `education` and `family_status` and their names are in one table, this leads to the fact that the table contains duplicate features. It makes sense to create a separate dictionary with `education_id` and `family_status_id`.\n",
    "- The format in which the features are stored is not optimal in terms of memory usage."
   ]
  },
  {
   "cell_type": "markdown",
   "metadata": {},
   "source": [
    "### Let's look at the unique values in each column. Check the columns for implicit duplicates and artifacts"
   ]
  },
  {
   "cell_type": "code",
   "execution_count": 6,
   "metadata": {},
   "outputs": [
    {
     "name": "stdout",
     "output_type": "stream",
     "text": [
      "children - [ 1  0  3  2 -1  4 20  5] \n",
      "\n",
      "-------------------------------------------------- \n",
      "\n",
      "days_employed - [-8437.67302776 -4024.80375385 -5623.42261023 ... -2113.3468877\n",
      " -3112.4817052  -1984.50758853] \n",
      "\n",
      "-------------------------------------------------- \n",
      "\n",
      "dob_years - [42 36 33 32 53 27 43 50 35 41 40 65 54 56 26 48 24 21 57 67 28 63 62 47\n",
      " 34 68 25 31 30 20 49 37 45 61 64 44 52 46 23 38 39 51  0 59 29 60 55 58\n",
      " 71 22 73 66 69 19 72 70 74 75] \n",
      "\n",
      "-------------------------------------------------- \n",
      "\n",
      "education - ['высшее' 'среднее' 'Среднее' 'СРЕДНЕЕ' 'ВЫСШЕЕ' 'неоконченное высшее'\n",
      " 'начальное' 'Высшее' 'НЕОКОНЧЕННОЕ ВЫСШЕЕ' 'Неоконченное высшее'\n",
      " 'НАЧАЛЬНОЕ' 'Начальное' 'Ученая степень' 'УЧЕНАЯ СТЕПЕНЬ'\n",
      " 'ученая степень'] \n",
      "\n",
      "-------------------------------------------------- \n",
      "\n",
      "education_id - [0 1 2 3 4] \n",
      "\n",
      "-------------------------------------------------- \n",
      "\n",
      "family_status - ['женат / замужем' 'гражданский брак' 'вдовец / вдова' 'в разводе'\n",
      " 'Не женат / не замужем'] \n",
      "\n",
      "-------------------------------------------------- \n",
      "\n",
      "family_status_id - [0 1 2 3 4] \n",
      "\n",
      "-------------------------------------------------- \n",
      "\n",
      "gender - ['F' 'M' 'XNA'] \n",
      "\n",
      "-------------------------------------------------- \n",
      "\n",
      "income_type - ['сотрудник' 'пенсионер' 'компаньон' 'госслужащий' 'безработный'\n",
      " 'предприниматель' 'студент' 'в декрете'] \n",
      "\n",
      "-------------------------------------------------- \n",
      "\n",
      "debt - [0 1] \n",
      "\n",
      "-------------------------------------------------- \n",
      "\n",
      "total_income - [253875.6394526  112080.01410244 145885.95229686 ...  89672.56115303\n",
      " 244093.05050043  82047.41889948] \n",
      "\n",
      "-------------------------------------------------- \n",
      "\n",
      "purpose - ['покупка жилья' 'приобретение автомобиля' 'дополнительное образование'\n",
      " 'сыграть свадьбу' 'операции с жильем' 'образование'\n",
      " 'на проведение свадьбы' 'покупка жилья для семьи' 'покупка недвижимости'\n",
      " 'покупка коммерческой недвижимости' 'покупка жилой недвижимости'\n",
      " 'строительство собственной недвижимости' 'недвижимость'\n",
      " 'строительство недвижимости' 'на покупку подержанного автомобиля'\n",
      " 'на покупку своего автомобиля' 'операции с коммерческой недвижимостью'\n",
      " 'строительство жилой недвижимости' 'жилье'\n",
      " 'операции со своей недвижимостью' 'автомобили' 'заняться образованием'\n",
      " 'сделка с подержанным автомобилем' 'получение образования' 'автомобиль'\n",
      " 'свадьба' 'получение дополнительного образования' 'покупка своего жилья'\n",
      " 'операции с недвижимостью' 'получение высшего образования'\n",
      " 'свой автомобиль' 'сделка с автомобилем' 'профильное образование'\n",
      " 'высшее образование' 'покупка жилья для сдачи' 'на покупку автомобиля'\n",
      " 'ремонт жилью' 'заняться высшим образованием'] \n",
      "\n",
      "-------------------------------------------------- \n",
      "\n"
     ]
    }
   ],
   "source": [
    "for col_name in df.columns:\n",
    "    print(f'{col_name} - {df[col_name].unique()} \\n')\n",
    "    print('-'*50, '\\n')"
   ]
  },
  {
   "cell_type": "markdown",
   "metadata": {},
   "source": [
    "**What has been found out:**\n",
    "- Negative values in columns `children`, `days_employed`.\n",
    "- Value 20 in the column `children`.\n",
    "- A value of 0 in the `dob_years` column\n",
    "- Implicit duplicates in column `education` (different spelling), `purpose` (different words describe the same goal)\n",
    "- Different case of feature names in the `family_status` column\n",
    "- The presence of a third gender (implicit gap) in the `gender` column\n",
    "- Presence of a large number of decimal places in columns `days_employed`, `total_income` "
   ]
  },
  {
   "cell_type": "markdown",
   "metadata": {},
   "source": [
    "### For each artifact, let's see what the rows it is in look like, as well as the number of such rows"
   ]
  },
  {
   "cell_type": "markdown",
   "metadata": {},
   "source": [
    "**For children = -1**"
   ]
  },
  {
   "cell_type": "code",
   "execution_count": 7,
   "metadata": {},
   "outputs": [
    {
     "name": "stdout",
     "output_type": "stream",
     "text": [
      "47 из 21525\n"
     ]
    },
    {
     "data": {
      "text/html": [
       "<div>\n",
       "<style scoped>\n",
       "    .dataframe tbody tr th:only-of-type {\n",
       "        vertical-align: middle;\n",
       "    }\n",
       "\n",
       "    .dataframe tbody tr th {\n",
       "        vertical-align: top;\n",
       "    }\n",
       "\n",
       "    .dataframe thead th {\n",
       "        text-align: right;\n",
       "    }\n",
       "</style>\n",
       "<table border=\"1\" class=\"dataframe\">\n",
       "  <thead>\n",
       "    <tr style=\"text-align: right;\">\n",
       "      <th></th>\n",
       "      <th>children</th>\n",
       "      <th>days_employed</th>\n",
       "      <th>dob_years</th>\n",
       "      <th>education</th>\n",
       "      <th>education_id</th>\n",
       "      <th>family_status</th>\n",
       "      <th>family_status_id</th>\n",
       "      <th>gender</th>\n",
       "      <th>income_type</th>\n",
       "      <th>debt</th>\n",
       "      <th>total_income</th>\n",
       "      <th>purpose</th>\n",
       "    </tr>\n",
       "  </thead>\n",
       "  <tbody>\n",
       "    <tr>\n",
       "      <td>291</td>\n",
       "      <td>-1</td>\n",
       "      <td>-4417.703588</td>\n",
       "      <td>46</td>\n",
       "      <td>среднее</td>\n",
       "      <td>1</td>\n",
       "      <td>гражданский брак</td>\n",
       "      <td>1</td>\n",
       "      <td>F</td>\n",
       "      <td>сотрудник</td>\n",
       "      <td>0</td>\n",
       "      <td>102816.346412</td>\n",
       "      <td>профильное образование</td>\n",
       "    </tr>\n",
       "    <tr>\n",
       "      <td>705</td>\n",
       "      <td>-1</td>\n",
       "      <td>-902.084528</td>\n",
       "      <td>50</td>\n",
       "      <td>среднее</td>\n",
       "      <td>1</td>\n",
       "      <td>женат / замужем</td>\n",
       "      <td>0</td>\n",
       "      <td>F</td>\n",
       "      <td>госслужащий</td>\n",
       "      <td>0</td>\n",
       "      <td>137882.899271</td>\n",
       "      <td>приобретение автомобиля</td>\n",
       "    </tr>\n",
       "    <tr>\n",
       "      <td>742</td>\n",
       "      <td>-1</td>\n",
       "      <td>-3174.456205</td>\n",
       "      <td>57</td>\n",
       "      <td>среднее</td>\n",
       "      <td>1</td>\n",
       "      <td>женат / замужем</td>\n",
       "      <td>0</td>\n",
       "      <td>F</td>\n",
       "      <td>сотрудник</td>\n",
       "      <td>0</td>\n",
       "      <td>64268.044444</td>\n",
       "      <td>дополнительное образование</td>\n",
       "    </tr>\n",
       "    <tr>\n",
       "      <td>800</td>\n",
       "      <td>-1</td>\n",
       "      <td>349987.852217</td>\n",
       "      <td>54</td>\n",
       "      <td>среднее</td>\n",
       "      <td>1</td>\n",
       "      <td>Не женат / не замужем</td>\n",
       "      <td>4</td>\n",
       "      <td>F</td>\n",
       "      <td>пенсионер</td>\n",
       "      <td>0</td>\n",
       "      <td>86293.724153</td>\n",
       "      <td>дополнительное образование</td>\n",
       "    </tr>\n",
       "    <tr>\n",
       "      <td>941</td>\n",
       "      <td>-1</td>\n",
       "      <td>NaN</td>\n",
       "      <td>57</td>\n",
       "      <td>Среднее</td>\n",
       "      <td>1</td>\n",
       "      <td>женат / замужем</td>\n",
       "      <td>0</td>\n",
       "      <td>F</td>\n",
       "      <td>пенсионер</td>\n",
       "      <td>0</td>\n",
       "      <td>NaN</td>\n",
       "      <td>на покупку своего автомобиля</td>\n",
       "    </tr>\n",
       "  </tbody>\n",
       "</table>\n",
       "</div>"
      ],
      "text/plain": [
       "     children  days_employed  dob_years education  education_id  \\\n",
       "291        -1   -4417.703588         46   среднее             1   \n",
       "705        -1    -902.084528         50   среднее             1   \n",
       "742        -1   -3174.456205         57   среднее             1   \n",
       "800        -1  349987.852217         54   среднее             1   \n",
       "941        -1            NaN         57   Среднее             1   \n",
       "\n",
       "             family_status  family_status_id gender  income_type  debt  \\\n",
       "291       гражданский брак                 1      F    сотрудник     0   \n",
       "705        женат / замужем                 0      F  госслужащий     0   \n",
       "742        женат / замужем                 0      F    сотрудник     0   \n",
       "800  Не женат / не замужем                 4      F    пенсионер     0   \n",
       "941        женат / замужем                 0      F    пенсионер     0   \n",
       "\n",
       "      total_income                       purpose  \n",
       "291  102816.346412        профильное образование  \n",
       "705  137882.899271       приобретение автомобиля  \n",
       "742   64268.044444    дополнительное образование  \n",
       "800   86293.724153    дополнительное образование  \n",
       "941            NaN  на покупку своего автомобиля  "
      ]
     },
     "execution_count": 7,
     "metadata": {},
     "output_type": "execute_result"
    }
   ],
   "source": [
    "print(len(df[df['children'] == -1]), 'из', df.shape[0])\n",
    "df[df['children'] == -1].head()"
   ]
  },
  {
   "cell_type": "markdown",
   "metadata": {},
   "source": [
    "**Summary**  \n",
    "47 lines contain the value children = -1.\n",
    "Visually, there is no dependency with other features.  \n",
    "Most likely, this is just a typo when writing the number \"1\", which occurred when uploading the data. (this is the most likely reason, because the days_employed column also contains a lot of records with a minus)\n",
    "\n",
    "**Solution**.   \n",
    "Most likely, we will replace these values with \"1\". Even if we make a mistake, the number of these errors will be insignificant, in relation to the total dataframe, and most likely will not affect the distribution of values in the data too much"
   ]
  },
  {
   "cell_type": "markdown",
   "metadata": {},
   "source": [
    "**For children = 20**"
   ]
  },
  {
   "cell_type": "code",
   "execution_count": 8,
   "metadata": {},
   "outputs": [
    {
     "name": "stdout",
     "output_type": "stream",
     "text": [
      "76 из 21525\n"
     ]
    },
    {
     "data": {
      "text/html": [
       "<div>\n",
       "<style scoped>\n",
       "    .dataframe tbody tr th:only-of-type {\n",
       "        vertical-align: middle;\n",
       "    }\n",
       "\n",
       "    .dataframe tbody tr th {\n",
       "        vertical-align: top;\n",
       "    }\n",
       "\n",
       "    .dataframe thead th {\n",
       "        text-align: right;\n",
       "    }\n",
       "</style>\n",
       "<table border=\"1\" class=\"dataframe\">\n",
       "  <thead>\n",
       "    <tr style=\"text-align: right;\">\n",
       "      <th></th>\n",
       "      <th>children</th>\n",
       "      <th>days_employed</th>\n",
       "      <th>dob_years</th>\n",
       "      <th>education</th>\n",
       "      <th>education_id</th>\n",
       "      <th>family_status</th>\n",
       "      <th>family_status_id</th>\n",
       "      <th>gender</th>\n",
       "      <th>income_type</th>\n",
       "      <th>debt</th>\n",
       "      <th>total_income</th>\n",
       "      <th>purpose</th>\n",
       "    </tr>\n",
       "  </thead>\n",
       "  <tbody>\n",
       "    <tr>\n",
       "      <td>606</td>\n",
       "      <td>20</td>\n",
       "      <td>-880.221113</td>\n",
       "      <td>21</td>\n",
       "      <td>среднее</td>\n",
       "      <td>1</td>\n",
       "      <td>женат / замужем</td>\n",
       "      <td>0</td>\n",
       "      <td>M</td>\n",
       "      <td>компаньон</td>\n",
       "      <td>0</td>\n",
       "      <td>145334.865002</td>\n",
       "      <td>покупка жилья</td>\n",
       "    </tr>\n",
       "    <tr>\n",
       "      <td>720</td>\n",
       "      <td>20</td>\n",
       "      <td>-855.595512</td>\n",
       "      <td>44</td>\n",
       "      <td>среднее</td>\n",
       "      <td>1</td>\n",
       "      <td>женат / замужем</td>\n",
       "      <td>0</td>\n",
       "      <td>F</td>\n",
       "      <td>компаньон</td>\n",
       "      <td>0</td>\n",
       "      <td>112998.738649</td>\n",
       "      <td>покупка недвижимости</td>\n",
       "    </tr>\n",
       "    <tr>\n",
       "      <td>1074</td>\n",
       "      <td>20</td>\n",
       "      <td>-3310.411598</td>\n",
       "      <td>56</td>\n",
       "      <td>среднее</td>\n",
       "      <td>1</td>\n",
       "      <td>женат / замужем</td>\n",
       "      <td>0</td>\n",
       "      <td>F</td>\n",
       "      <td>сотрудник</td>\n",
       "      <td>1</td>\n",
       "      <td>229518.537004</td>\n",
       "      <td>получение образования</td>\n",
       "    </tr>\n",
       "    <tr>\n",
       "      <td>2510</td>\n",
       "      <td>20</td>\n",
       "      <td>-2714.161249</td>\n",
       "      <td>59</td>\n",
       "      <td>высшее</td>\n",
       "      <td>0</td>\n",
       "      <td>вдовец / вдова</td>\n",
       "      <td>2</td>\n",
       "      <td>F</td>\n",
       "      <td>сотрудник</td>\n",
       "      <td>0</td>\n",
       "      <td>264474.835577</td>\n",
       "      <td>операции с коммерческой недвижимостью</td>\n",
       "    </tr>\n",
       "    <tr>\n",
       "      <td>2941</td>\n",
       "      <td>20</td>\n",
       "      <td>-2161.591519</td>\n",
       "      <td>0</td>\n",
       "      <td>среднее</td>\n",
       "      <td>1</td>\n",
       "      <td>женат / замужем</td>\n",
       "      <td>0</td>\n",
       "      <td>F</td>\n",
       "      <td>сотрудник</td>\n",
       "      <td>0</td>\n",
       "      <td>199739.941398</td>\n",
       "      <td>на покупку автомобиля</td>\n",
       "    </tr>\n",
       "  </tbody>\n",
       "</table>\n",
       "</div>"
      ],
      "text/plain": [
       "      children  days_employed  dob_years education  education_id  \\\n",
       "606         20    -880.221113         21   среднее             1   \n",
       "720         20    -855.595512         44   среднее             1   \n",
       "1074        20   -3310.411598         56   среднее             1   \n",
       "2510        20   -2714.161249         59    высшее             0   \n",
       "2941        20   -2161.591519          0   среднее             1   \n",
       "\n",
       "        family_status  family_status_id gender income_type  debt  \\\n",
       "606   женат / замужем                 0      M   компаньон     0   \n",
       "720   женат / замужем                 0      F   компаньон     0   \n",
       "1074  женат / замужем                 0      F   сотрудник     1   \n",
       "2510   вдовец / вдова                 2      F   сотрудник     0   \n",
       "2941  женат / замужем                 0      F   сотрудник     0   \n",
       "\n",
       "       total_income                                purpose  \n",
       "606   145334.865002                          покупка жилья  \n",
       "720   112998.738649                   покупка недвижимости  \n",
       "1074  229518.537004                  получение образования  \n",
       "2510  264474.835577  операции с коммерческой недвижимостью  \n",
       "2941  199739.941398                  на покупку автомобиля  "
      ]
     },
     "execution_count": 8,
     "metadata": {},
     "output_type": "execute_result"
    }
   ],
   "source": [
    "print(len(df[df['children'] == 20]), 'из', df.shape[0])\n",
    "df[df['children'] == 20].head()"
   ]
  },
  {
   "cell_type": "markdown",
   "metadata": {},
   "source": [
    "**Summary**  \n",
    "The table reports that 76 people have exactly 20 children each. It looks suspicious.  \n",
    "It looks like a \"0\" was mistakenly assigned to the value \"2\". It is likely that the error also occurred in the unloading, when the system reads the result entered. (for example, the client left a space, and the system filled it with zero)\n",
    "\n",
    "**Solution**  \n",
    "These values will be replaced by \"2\"."
   ]
  },
  {
   "cell_type": "markdown",
   "metadata": {},
   "source": [
    "**For days_employed < 0**"
   ]
  },
  {
   "cell_type": "code",
   "execution_count": 9,
   "metadata": {
    "scrolled": true
   },
   "outputs": [
    {
     "name": "stdout",
     "output_type": "stream",
     "text": [
      "15906 из 21525\n"
     ]
    },
    {
     "data": {
      "text/html": [
       "<div>\n",
       "<style scoped>\n",
       "    .dataframe tbody tr th:only-of-type {\n",
       "        vertical-align: middle;\n",
       "    }\n",
       "\n",
       "    .dataframe tbody tr th {\n",
       "        vertical-align: top;\n",
       "    }\n",
       "\n",
       "    .dataframe thead th {\n",
       "        text-align: right;\n",
       "    }\n",
       "</style>\n",
       "<table border=\"1\" class=\"dataframe\">\n",
       "  <thead>\n",
       "    <tr style=\"text-align: right;\">\n",
       "      <th></th>\n",
       "      <th>children</th>\n",
       "      <th>days_employed</th>\n",
       "      <th>dob_years</th>\n",
       "      <th>education</th>\n",
       "      <th>education_id</th>\n",
       "      <th>family_status</th>\n",
       "      <th>family_status_id</th>\n",
       "      <th>gender</th>\n",
       "      <th>income_type</th>\n",
       "      <th>debt</th>\n",
       "      <th>total_income</th>\n",
       "      <th>purpose</th>\n",
       "    </tr>\n",
       "  </thead>\n",
       "  <tbody>\n",
       "    <tr>\n",
       "      <td>0</td>\n",
       "      <td>1</td>\n",
       "      <td>-8437.673028</td>\n",
       "      <td>42</td>\n",
       "      <td>высшее</td>\n",
       "      <td>0</td>\n",
       "      <td>женат / замужем</td>\n",
       "      <td>0</td>\n",
       "      <td>F</td>\n",
       "      <td>сотрудник</td>\n",
       "      <td>0</td>\n",
       "      <td>253875.639453</td>\n",
       "      <td>покупка жилья</td>\n",
       "    </tr>\n",
       "    <tr>\n",
       "      <td>1</td>\n",
       "      <td>1</td>\n",
       "      <td>-4024.803754</td>\n",
       "      <td>36</td>\n",
       "      <td>среднее</td>\n",
       "      <td>1</td>\n",
       "      <td>женат / замужем</td>\n",
       "      <td>0</td>\n",
       "      <td>F</td>\n",
       "      <td>сотрудник</td>\n",
       "      <td>0</td>\n",
       "      <td>112080.014102</td>\n",
       "      <td>приобретение автомобиля</td>\n",
       "    </tr>\n",
       "    <tr>\n",
       "      <td>2</td>\n",
       "      <td>0</td>\n",
       "      <td>-5623.422610</td>\n",
       "      <td>33</td>\n",
       "      <td>Среднее</td>\n",
       "      <td>1</td>\n",
       "      <td>женат / замужем</td>\n",
       "      <td>0</td>\n",
       "      <td>M</td>\n",
       "      <td>сотрудник</td>\n",
       "      <td>0</td>\n",
       "      <td>145885.952297</td>\n",
       "      <td>покупка жилья</td>\n",
       "    </tr>\n",
       "    <tr>\n",
       "      <td>3</td>\n",
       "      <td>3</td>\n",
       "      <td>-4124.747207</td>\n",
       "      <td>32</td>\n",
       "      <td>среднее</td>\n",
       "      <td>1</td>\n",
       "      <td>женат / замужем</td>\n",
       "      <td>0</td>\n",
       "      <td>M</td>\n",
       "      <td>сотрудник</td>\n",
       "      <td>0</td>\n",
       "      <td>267628.550329</td>\n",
       "      <td>дополнительное образование</td>\n",
       "    </tr>\n",
       "    <tr>\n",
       "      <td>5</td>\n",
       "      <td>0</td>\n",
       "      <td>-926.185831</td>\n",
       "      <td>27</td>\n",
       "      <td>высшее</td>\n",
       "      <td>0</td>\n",
       "      <td>гражданский брак</td>\n",
       "      <td>1</td>\n",
       "      <td>M</td>\n",
       "      <td>компаньон</td>\n",
       "      <td>0</td>\n",
       "      <td>255763.565419</td>\n",
       "      <td>покупка жилья</td>\n",
       "    </tr>\n",
       "  </tbody>\n",
       "</table>\n",
       "</div>"
      ],
      "text/plain": [
       "   children  days_employed  dob_years education  education_id  \\\n",
       "0         1   -8437.673028         42    высшее             0   \n",
       "1         1   -4024.803754         36   среднее             1   \n",
       "2         0   -5623.422610         33   Среднее             1   \n",
       "3         3   -4124.747207         32   среднее             1   \n",
       "5         0    -926.185831         27    высшее             0   \n",
       "\n",
       "      family_status  family_status_id gender income_type  debt   total_income  \\\n",
       "0   женат / замужем                 0      F   сотрудник     0  253875.639453   \n",
       "1   женат / замужем                 0      F   сотрудник     0  112080.014102   \n",
       "2   женат / замужем                 0      M   сотрудник     0  145885.952297   \n",
       "3   женат / замужем                 0      M   сотрудник     0  267628.550329   \n",
       "5  гражданский брак                 1      M   компаньон     0  255763.565419   \n",
       "\n",
       "                      purpose  \n",
       "0               покупка жилья  \n",
       "1     приобретение автомобиля  \n",
       "2               покупка жилья  \n",
       "3  дополнительное образование  \n",
       "5               покупка жилья  "
      ]
     },
     "execution_count": 9,
     "metadata": {},
     "output_type": "execute_result"
    }
   ],
   "source": [
    "print(len(df[df['days_employed'] < 0]), 'из', df.shape[0])\n",
    "df[df['days_employed'] < 0].head()"
   ]
  },
  {
   "cell_type": "markdown",
   "metadata": {},
   "source": [
    "**Summary**.  \n",
    "15906 value in the days_employed column have a negative result. There was clearly some kind of system error here, either in data processing or in uploading.\n",
    "Moreover, some of the values are unrealistic.\n",
    "\n",
    "**Solution**.  \n",
    "These values will be replaced with the value with a \"+\" sign. Perhaps the column will be removed altogether because it is not needed for further analysis and contains a lot of erroneous data. If this column had a value for us, it would be worth contacting the client and knowing what the cause of the error is and correcting it."
   ]
  },
  {
   "cell_type": "markdown",
   "metadata": {},
   "source": [
    "**For dob_years = 0**"
   ]
  },
  {
   "cell_type": "code",
   "execution_count": 10,
   "metadata": {
    "scrolled": true
   },
   "outputs": [
    {
     "name": "stdout",
     "output_type": "stream",
     "text": [
      "101 из 21525\n"
     ]
    },
    {
     "data": {
      "text/html": [
       "<div>\n",
       "<style scoped>\n",
       "    .dataframe tbody tr th:only-of-type {\n",
       "        vertical-align: middle;\n",
       "    }\n",
       "\n",
       "    .dataframe tbody tr th {\n",
       "        vertical-align: top;\n",
       "    }\n",
       "\n",
       "    .dataframe thead th {\n",
       "        text-align: right;\n",
       "    }\n",
       "</style>\n",
       "<table border=\"1\" class=\"dataframe\">\n",
       "  <thead>\n",
       "    <tr style=\"text-align: right;\">\n",
       "      <th></th>\n",
       "      <th>children</th>\n",
       "      <th>days_employed</th>\n",
       "      <th>dob_years</th>\n",
       "      <th>education</th>\n",
       "      <th>education_id</th>\n",
       "      <th>family_status</th>\n",
       "      <th>family_status_id</th>\n",
       "      <th>gender</th>\n",
       "      <th>income_type</th>\n",
       "      <th>debt</th>\n",
       "      <th>total_income</th>\n",
       "      <th>purpose</th>\n",
       "    </tr>\n",
       "  </thead>\n",
       "  <tbody>\n",
       "    <tr>\n",
       "      <td>99</td>\n",
       "      <td>0</td>\n",
       "      <td>346541.618895</td>\n",
       "      <td>0</td>\n",
       "      <td>Среднее</td>\n",
       "      <td>1</td>\n",
       "      <td>женат / замужем</td>\n",
       "      <td>0</td>\n",
       "      <td>F</td>\n",
       "      <td>пенсионер</td>\n",
       "      <td>0</td>\n",
       "      <td>71291.522491</td>\n",
       "      <td>автомобиль</td>\n",
       "    </tr>\n",
       "    <tr>\n",
       "      <td>149</td>\n",
       "      <td>0</td>\n",
       "      <td>-2664.273168</td>\n",
       "      <td>0</td>\n",
       "      <td>среднее</td>\n",
       "      <td>1</td>\n",
       "      <td>в разводе</td>\n",
       "      <td>3</td>\n",
       "      <td>F</td>\n",
       "      <td>сотрудник</td>\n",
       "      <td>0</td>\n",
       "      <td>70176.435951</td>\n",
       "      <td>операции с жильем</td>\n",
       "    </tr>\n",
       "    <tr>\n",
       "      <td>270</td>\n",
       "      <td>3</td>\n",
       "      <td>-1872.663186</td>\n",
       "      <td>0</td>\n",
       "      <td>среднее</td>\n",
       "      <td>1</td>\n",
       "      <td>женат / замужем</td>\n",
       "      <td>0</td>\n",
       "      <td>F</td>\n",
       "      <td>сотрудник</td>\n",
       "      <td>0</td>\n",
       "      <td>102166.458894</td>\n",
       "      <td>ремонт жилью</td>\n",
       "    </tr>\n",
       "    <tr>\n",
       "      <td>578</td>\n",
       "      <td>0</td>\n",
       "      <td>397856.565013</td>\n",
       "      <td>0</td>\n",
       "      <td>среднее</td>\n",
       "      <td>1</td>\n",
       "      <td>женат / замужем</td>\n",
       "      <td>0</td>\n",
       "      <td>F</td>\n",
       "      <td>пенсионер</td>\n",
       "      <td>0</td>\n",
       "      <td>97620.687042</td>\n",
       "      <td>строительство собственной недвижимости</td>\n",
       "    </tr>\n",
       "    <tr>\n",
       "      <td>1040</td>\n",
       "      <td>0</td>\n",
       "      <td>-1158.029561</td>\n",
       "      <td>0</td>\n",
       "      <td>высшее</td>\n",
       "      <td>0</td>\n",
       "      <td>в разводе</td>\n",
       "      <td>3</td>\n",
       "      <td>F</td>\n",
       "      <td>компаньон</td>\n",
       "      <td>0</td>\n",
       "      <td>303994.134987</td>\n",
       "      <td>свой автомобиль</td>\n",
       "    </tr>\n",
       "  </tbody>\n",
       "</table>\n",
       "</div>"
      ],
      "text/plain": [
       "      children  days_employed  dob_years education  education_id  \\\n",
       "99           0  346541.618895          0   Среднее             1   \n",
       "149          0   -2664.273168          0   среднее             1   \n",
       "270          3   -1872.663186          0   среднее             1   \n",
       "578          0  397856.565013          0   среднее             1   \n",
       "1040         0   -1158.029561          0    высшее             0   \n",
       "\n",
       "        family_status  family_status_id gender income_type  debt  \\\n",
       "99    женат / замужем                 0      F   пенсионер     0   \n",
       "149         в разводе                 3      F   сотрудник     0   \n",
       "270   женат / замужем                 0      F   сотрудник     0   \n",
       "578   женат / замужем                 0      F   пенсионер     0   \n",
       "1040        в разводе                 3      F   компаньон     0   \n",
       "\n",
       "       total_income                                 purpose  \n",
       "99     71291.522491                              автомобиль  \n",
       "149    70176.435951                       операции с жильем  \n",
       "270   102166.458894                            ремонт жилью  \n",
       "578    97620.687042  строительство собственной недвижимости  \n",
       "1040  303994.134987                         свой автомобиль  "
      ]
     },
     "execution_count": 10,
     "metadata": {},
     "output_type": "execute_result"
    }
   ],
   "source": [
    "print(len(df[df['dob_years'] == 0]), 'из', df.shape[0])\n",
    "df[df['dob_years'] == 0].head()"
   ]
  },
  {
   "cell_type": "markdown",
   "metadata": {},
   "source": [
    "**Summary**.  \n",
    "101 value in the dob_years column is 0. Here again either there is an error when uploading the data, or the client missed the age field and the system filled the value with zero.\n",
    "\n",
    "**Solution**.  \n",
    "Find the average age for each employment type and sex (income_type, gender) and fill in the corresponding cells with these values"
   ]
  },
  {
   "cell_type": "markdown",
   "metadata": {},
   "source": [
    "**For gender = XNA**\n"
   ]
  },
  {
   "cell_type": "code",
   "execution_count": 11,
   "metadata": {
    "scrolled": true
   },
   "outputs": [
    {
     "name": "stdout",
     "output_type": "stream",
     "text": [
      "1 из 21525\n"
     ]
    },
    {
     "data": {
      "text/html": [
       "<div>\n",
       "<style scoped>\n",
       "    .dataframe tbody tr th:only-of-type {\n",
       "        vertical-align: middle;\n",
       "    }\n",
       "\n",
       "    .dataframe tbody tr th {\n",
       "        vertical-align: top;\n",
       "    }\n",
       "\n",
       "    .dataframe thead th {\n",
       "        text-align: right;\n",
       "    }\n",
       "</style>\n",
       "<table border=\"1\" class=\"dataframe\">\n",
       "  <thead>\n",
       "    <tr style=\"text-align: right;\">\n",
       "      <th></th>\n",
       "      <th>children</th>\n",
       "      <th>days_employed</th>\n",
       "      <th>dob_years</th>\n",
       "      <th>education</th>\n",
       "      <th>education_id</th>\n",
       "      <th>family_status</th>\n",
       "      <th>family_status_id</th>\n",
       "      <th>gender</th>\n",
       "      <th>income_type</th>\n",
       "      <th>debt</th>\n",
       "      <th>total_income</th>\n",
       "      <th>purpose</th>\n",
       "    </tr>\n",
       "  </thead>\n",
       "  <tbody>\n",
       "    <tr>\n",
       "      <td>10701</td>\n",
       "      <td>0</td>\n",
       "      <td>-2358.600502</td>\n",
       "      <td>24</td>\n",
       "      <td>неоконченное высшее</td>\n",
       "      <td>2</td>\n",
       "      <td>гражданский брак</td>\n",
       "      <td>1</td>\n",
       "      <td>XNA</td>\n",
       "      <td>компаньон</td>\n",
       "      <td>0</td>\n",
       "      <td>203905.157261</td>\n",
       "      <td>покупка недвижимости</td>\n",
       "    </tr>\n",
       "  </tbody>\n",
       "</table>\n",
       "</div>"
      ],
      "text/plain": [
       "       children  days_employed  dob_years            education  education_id  \\\n",
       "10701         0   -2358.600502         24  неоконченное высшее             2   \n",
       "\n",
       "          family_status  family_status_id gender income_type  debt  \\\n",
       "10701  гражданский брак                 1    XNA   компаньон     0   \n",
       "\n",
       "        total_income               purpose  \n",
       "10701  203905.157261  покупка недвижимости  "
      ]
     },
     "execution_count": 11,
     "metadata": {},
     "output_type": "execute_result"
    }
   ],
   "source": [
    "print(len(df[df['gender'] == 'XNA']), 'из', df.shape[0])\n",
    "df[df['gender'] == 'XNA']"
   ]
  },
  {
   "cell_type": "markdown",
   "metadata": {},
   "source": [
    "**Summary**.  \n",
    "Only 1 value is missing gender. Possibly the bank customer did not fill in the data about his/her gender\n",
    "\n",
    "**Solution**.  \n",
    "Either we remove the cell or use the remaining features to try to guess the most likely sex of the client"
   ]
  },
  {
   "cell_type": "markdown",
   "metadata": {},
   "source": [
    "**Check also whether the total_income column contains negative values**."
   ]
  },
  {
   "cell_type": "code",
   "execution_count": 12,
   "metadata": {},
   "outputs": [
    {
     "name": "stdout",
     "output_type": "stream",
     "text": [
      "0 из 21525\n"
     ]
    },
    {
     "data": {
      "text/html": [
       "<div>\n",
       "<style scoped>\n",
       "    .dataframe tbody tr th:only-of-type {\n",
       "        vertical-align: middle;\n",
       "    }\n",
       "\n",
       "    .dataframe tbody tr th {\n",
       "        vertical-align: top;\n",
       "    }\n",
       "\n",
       "    .dataframe thead th {\n",
       "        text-align: right;\n",
       "    }\n",
       "</style>\n",
       "<table border=\"1\" class=\"dataframe\">\n",
       "  <thead>\n",
       "    <tr style=\"text-align: right;\">\n",
       "      <th></th>\n",
       "      <th>children</th>\n",
       "      <th>days_employed</th>\n",
       "      <th>dob_years</th>\n",
       "      <th>education</th>\n",
       "      <th>education_id</th>\n",
       "      <th>family_status</th>\n",
       "      <th>family_status_id</th>\n",
       "      <th>gender</th>\n",
       "      <th>income_type</th>\n",
       "      <th>debt</th>\n",
       "      <th>total_income</th>\n",
       "      <th>purpose</th>\n",
       "    </tr>\n",
       "  </thead>\n",
       "  <tbody>\n",
       "  </tbody>\n",
       "</table>\n",
       "</div>"
      ],
      "text/plain": [
       "Empty DataFrame\n",
       "Columns: [children, days_employed, dob_years, education, education_id, family_status, family_status_id, gender, income_type, debt, total_income, purpose]\n",
       "Index: []"
      ]
     },
     "execution_count": 12,
     "metadata": {},
     "output_type": "execute_result"
    }
   ],
   "source": [
    "print(len(df[df['total_income'] < 0]), 'из', df.shape[0])\n",
    "df[df['total_income'] < 0]"
   ]
  },
  {
   "cell_type": "markdown",
   "metadata": {},
   "source": [
    "**Summary**  \n",
    "It's fine, there are none of thr."
   ]
  },
  {
   "cell_type": "markdown",
   "metadata": {},
   "source": [
    "### Conclusion"
   ]
  },
  {
   "cell_type": "markdown",
   "metadata": {},
   "source": [
    "**What problems are present in the data**\n",
    "- There are 2174 gaps in the columns `days_employed`, `total_income`.\n",
    "- The `education` and `family_status` features indexes and their names are in the same table, which leads to duplicate values in the dataframe\n",
    "- The format in which the data are stored is not optimal in terms of memory size. The real data type where it is possible to use integer, as well as the possibility of optimizing the memory size, occupied by the dataphrame, by converting `int64` types to `int8`.\n",
    "---\n",
    "- Negative values in the `children`, `days_employed` columns. Also, there are unrealistic values in the `days_employed` column (300000 days / 365 = more than 800 years)\n",
    "- A value of 0 in the `dob_years` column, values of 20 in the `children` column\n",
    "---\n",
    "- Implicit duplicates in the `education` column (different spelling) as well as in the `purpose` column (different words describe the same goal)\n",
    "- Different case of the features' names in the `family_status` column\n",
    "- Presence of a third gender (implicit gap) in the `gender` column\n",
    "- Real type of attributes `days_employed`, `total_income` with a large number of decimal places, which not only leads to a large amount of memory, but also makes it difficult to read"
   ]
  },
  {
   "cell_type": "markdown",
   "metadata": {},
   "source": [
    "## Step 2. Preprocessing data"
   ]
  },
  {
   "cell_type": "markdown",
   "metadata": {},
   "source": [
    "### Correct the values in the `children` column, delete the `days_employed` column"
   ]
  },
  {
   "cell_type": "markdown",
   "metadata": {},
   "source": [
    "Нам нет необходимости исправлять значения и пропуски в колонке days_employed, так как этот признак не будет участовать в исследовании. Удалим его."
   ]
  },
  {
   "cell_type": "code",
   "execution_count": 13,
   "metadata": {},
   "outputs": [],
   "source": [
    "# Remove the 'days_employed' column\n",
    "df = df.drop('days_employed', axis=1)"
   ]
  },
  {
   "cell_type": "code",
   "execution_count": 14,
   "metadata": {},
   "outputs": [],
   "source": [
    "# Correct all negative values in the 'children' column\n",
    "df['children'] = df['children'].apply(lambda x: abs(x))"
   ]
  },
  {
   "cell_type": "code",
   "execution_count": 15,
   "metadata": {
    "scrolled": true
   },
   "outputs": [
    {
     "data": {
      "text/plain": [
       "0"
      ]
     },
     "execution_count": 15,
     "metadata": {},
     "output_type": "execute_result"
    }
   ],
   "source": [
    "# Check\n",
    "len(df[df['children'] < 0])"
   ]
  },
  {
   "cell_type": "code",
   "execution_count": 16,
   "metadata": {},
   "outputs": [],
   "source": [
    "# Correct the value 20 in the children column\n",
    "df['children'] = df['children'].apply(lambda x: (x // 10) if x == 20 else x)"
   ]
  },
  {
   "cell_type": "code",
   "execution_count": 17,
   "metadata": {},
   "outputs": [
    {
     "data": {
      "text/plain": [
       "0    14149\n",
       "1     4865\n",
       "2     2131\n",
       "3      330\n",
       "4       41\n",
       "5        9\n",
       "Name: children, dtype: int64"
      ]
     },
     "execution_count": 17,
     "metadata": {},
     "output_type": "execute_result"
    }
   ],
   "source": [
    "# Check\n",
    "df['children'].value_counts()"
   ]
  },
  {
   "cell_type": "markdown",
   "metadata": {},
   "source": [
    "### Correct the value 0 in the `dob_years` column and replace it with the `age` column"
   ]
  },
  {
   "cell_type": "markdown",
   "metadata": {},
   "source": [
    "Find the median values for each gender and type of employment, and fill in the corresponding blanks with these values.  \n",
    "We take the median values so that if there is a strong deviation of the data on age from the average, it will not affect the value, which we will fill in the lines with zero values."
   ]
  },
  {
   "cell_type": "markdown",
   "metadata": {},
   "source": [
    "First, let's see what types of employment have missing values."
   ]
  },
  {
   "cell_type": "code",
   "execution_count": 18,
   "metadata": {},
   "outputs": [
    {
     "data": {
      "text/plain": [
       "сотрудник      55\n",
       "компаньон      20\n",
       "пенсионер      20\n",
       "госслужащий     6\n",
       "Name: income_type, dtype: int64"
      ]
     },
     "execution_count": 18,
     "metadata": {},
     "output_type": "execute_result"
    }
   ],
   "source": [
    "df[df['dob_years'] == 0]['income_type'].value_counts()"
   ]
  },
  {
   "cell_type": "markdown",
   "metadata": {},
   "source": [
    "Our hypothesis is that within each type of employment, depending on gender, age will vary\n",
    "Let's see if this is true "
   ]
  },
  {
   "cell_type": "code",
   "execution_count": 19,
   "metadata": {
    "scrolled": true
   },
   "outputs": [
    {
     "data": {
      "image/png": "[encoded data removed]",
      "text/plain": [
       "<Figure size 432x288 with 1 Axes>"
      ]
     },
     "metadata": {
      "needs_background": "light"
     },
     "output_type": "display_data"
    }
   ],
   "source": [
    "# Let's build a diagram showing the median age for each occupation and sex\n",
    "\n",
    "ax = sns.barplot(x=df['dob_years'], \n",
    "            y=df['income_type'], \n",
    "            hue=df['gender'], \n",
    "            estimator=np.median)\n",
    "plt.xlabel('Возраст') #задаем имя оси Х\n",
    "plt.ylabel('Тип занятости') #задаем имя оси Y\n",
    "ax.set_title(\"Медианный возраст для представителей каждой профессии и пола\") #задаем название графика\n",
    "\n",
    "legend_labels, _ = ax.get_legend_handles_labels()\n",
    "ax.legend(legend_labels, ['женщины', 'мужчины', 'NA'],\n",
    "          title='Пол'); #задаем названия легенды"
   ]
  },
  {
   "cell_type": "markdown",
   "metadata": {},
   "source": [
    "The diagram shows that for the categories **\"сотрудник\"**, **\"пенсионер \"**, **\"компаньон \"** and **\"госслужащий \"** the median age within the category for both men and women is approximately in the same range of values.  \n",
    "However, for the categories **\"безработный \"**, **\"предприниматель \"** the values are different. Let's see if this can be caused by the insufficient amount of data"
   ]
  },
  {
   "cell_type": "code",
   "execution_count": 20,
   "metadata": {},
   "outputs": [
    {
     "data": {
      "text/plain": [
       "сотрудник          4315\n",
       "компаньон          1887\n",
       "пенсионер           698\n",
       "госслужащий         385\n",
       "безработный           1\n",
       "предприниматель       1\n",
       "студент               1\n",
       "Name: income_type, dtype: int64"
      ]
     },
     "execution_count": 20,
     "metadata": {},
     "output_type": "execute_result"
    }
   ],
   "source": [
    "# Let's see the number of values of occupation categories for men\n",
    "df[df['gender'] == 'M']['income_type'].value_counts()"
   ]
  },
  {
   "cell_type": "code",
   "execution_count": 21,
   "metadata": {},
   "outputs": [
    {
     "data": {
      "text/plain": [
       "сотрудник          6804\n",
       "компаньон          3197\n",
       "пенсионер          3158\n",
       "госслужащий        1074\n",
       "в декрете             1\n",
       "безработный           1\n",
       "предприниматель       1\n",
       "Name: income_type, dtype: int64"
      ]
     },
     "execution_count": 21,
     "metadata": {},
     "output_type": "execute_result"
    }
   ],
   "source": [
    "# Let's see the number of values of occupation categories for women\n",
    "df[df['gender'] == 'F']['income_type'].value_counts()"
   ]
  },
  {
   "cell_type": "code",
   "execution_count": 22,
   "metadata": {},
   "outputs": [
    {
     "data": {
      "text/plain": [
       "сотрудник          11119\n",
       "компаньон           5085\n",
       "пенсионер           3856\n",
       "госслужащий         1459\n",
       "безработный            2\n",
       "предприниматель        2\n",
       "в декрете              1\n",
       "студент                1\n",
       "Name: income_type, dtype: int64"
      ]
     },
     "execution_count": 22,
     "metadata": {},
     "output_type": "execute_result"
    }
   ],
   "source": [
    "# let's see the total number of values of occupation categories\n",
    "df['income_type'].value_counts()"
   ]
  },
  {
   "cell_type": "markdown",
   "metadata": {},
   "source": [
    "Можно увидеть, что действительно, клиентов с категориями занятости **\"безработный\"**, **\"предприниматель\"** находится всего лишь по 2 человека - 1 мужчина и 1-а женщина. Также, присутсвует всего лишь 1 мужчина-студент и 1-а женщина-в_декрете.  "
   ]
  },
  {
   "cell_type": "markdown",
   "metadata": {},
   "source": [
    "В целом, это означает, что мы можем заполнить пропущенные значения лишь опираясь на медианные значения возраста для представителей каждого типа занятости.   \n",
    "Однако для того, чтобы не так сильно икривлять распределение данных в сторону их медианного значения, сохраним небольшой разброс и все же заполним пропущенные значения, опираясь на медианный возраст, расчитанный для представителей каждого типа занятости и пола"
   ]
  },
  {
   "cell_type": "markdown",
   "metadata": {},
   "source": [
    "Cоздадим датафрейм, в котором возраст не равен нулю и в котором остутсвуют пропуски в значениях дохода\n"
   ]
  },
  {
   "cell_type": "code",
   "execution_count": 23,
   "metadata": {},
   "outputs": [
    {
     "name": "stdout",
     "output_type": "stream",
     "text": [
      "<class 'pandas.core.frame.DataFrame'>\n",
      "Int64Index: 19260 entries, 0 to 21524\n",
      "Data columns (total 11 columns):\n",
      "children            19260 non-null int64\n",
      "dob_years           19260 non-null int64\n",
      "education           19260 non-null object\n",
      "education_id        19260 non-null int64\n",
      "family_status       19260 non-null object\n",
      "family_status_id    19260 non-null int64\n",
      "gender              19260 non-null object\n",
      "income_type         19260 non-null object\n",
      "debt                19260 non-null int64\n",
      "total_income        19260 non-null float64\n",
      "purpose             19260 non-null object\n",
      "dtypes: float64(1), int64(5), object(5)\n",
      "memory usage: 1.8+ MB\n"
     ]
    }
   ],
   "source": [
    "df_dob_years_nonnull = df[(df['dob_years'] != 0)]\n",
    "df_dob_years_nonnull = df_dob_years_nonnull.dropna(axis=0)\n",
    "df_dob_years_nonnull.info()"
   ]
  },
  {
   "cell_type": "markdown",
   "metadata": {},
   "source": [
    "Найдем медианные значения возраста для представителя каждого пола и типа занятости и сохраним в таблицу `df_gender_income_type_median_age`\n"
   ]
  },
  {
   "cell_type": "code",
   "execution_count": 24,
   "metadata": {},
   "outputs": [
    {
     "data": {
      "text/plain": [
       "gender  income_type    \n",
       "F       безработный        45.0\n",
       "        в декрете          39.0\n",
       "        госслужащий        42.0\n",
       "        компаньон          40.0\n",
       "        пенсионер          60.0\n",
       "        предприниматель    27.0\n",
       "        сотрудник          40.0\n",
       "M       безработный        31.0\n",
       "        госслужащий        37.0\n",
       "        компаньон          38.0\n",
       "        пенсионер          60.0\n",
       "        сотрудник          38.0\n",
       "        студент            22.0\n",
       "XNA     компаньон          24.0\n",
       "Name: dob_years, dtype: float64"
      ]
     },
     "execution_count": 24,
     "metadata": {},
     "output_type": "execute_result"
    }
   ],
   "source": [
    "df_gender_income_type_median_age = df_dob_years_nonnull.groupby(['gender', 'income_type'])['dob_years'].quantile(.5)\n",
    "df_gender_income_type_median_age"
   ]
  },
  {
   "cell_type": "markdown",
   "metadata": {},
   "source": [
    "Создадим признак age, в который сохраним медианные значения возраста из таблицы `df_gender_income_type_median_age`, где **dob_years=0**, и значения **dob_years**, там где они ненулевые"
   ]
  },
  {
   "cell_type": "code",
   "execution_count": 25,
   "metadata": {},
   "outputs": [],
   "source": [
    "df['age'] = [df_gender_income_type_median_age[df.loc[i, 'gender']][df.loc[i, 'income_type']]  \n",
    "             if df.loc[i, 'dob_years'] == 0\n",
    "             else df.loc[i, 'dob_years'] \n",
    "             for i in range(len(df))]"
   ]
  },
  {
   "cell_type": "code",
   "execution_count": 26,
   "metadata": {},
   "outputs": [
    {
     "name": "stdout",
     "output_type": "stream",
     "text": [
      "<class 'pandas.core.frame.DataFrame'>\n",
      "RangeIndex: 21525 entries, 0 to 21524\n",
      "Data columns (total 11 columns):\n",
      "children            21525 non-null int64\n",
      "education           21525 non-null object\n",
      "education_id        21525 non-null int64\n",
      "family_status       21525 non-null object\n",
      "family_status_id    21525 non-null int64\n",
      "gender              21525 non-null object\n",
      "income_type         21525 non-null object\n",
      "debt                21525 non-null int64\n",
      "total_income        19351 non-null float64\n",
      "purpose             21525 non-null object\n",
      "age                 21525 non-null float64\n",
      "dtypes: float64(2), int64(4), object(5)\n",
      "memory usage: 1.8+ MB\n"
     ]
    }
   ],
   "source": [
    "#удалим столбец 'dob_years'\n",
    "df = df.drop('dob_years', axis=1)\n",
    "df.info()"
   ]
  },
  {
   "cell_type": "markdown",
   "metadata": {},
   "source": [
    "### Обработка пропусков в столбце `total_income`"
   ]
  },
  {
   "cell_type": "markdown",
   "metadata": {},
   "source": [
    "Рассчитаем ежемесячный доход как средний доход для представителя каждого типа занятости и пола."
   ]
  },
  {
   "cell_type": "markdown",
   "metadata": {},
   "source": [
    "Наша гипотеза вновь состоит в том, что внутри каждого типа занятости, в засисимости от пола, доход будет различаться.\n",
    "Посмотрим, действительно ли это так."
   ]
  },
  {
   "cell_type": "code",
   "execution_count": 27,
   "metadata": {},
   "outputs": [
    {
     "data": {
      "image/png": "[encoded data removed]",
      "text/plain": [
       "<Figure size 432x288 with 1 Axes>"
      ]
     },
     "metadata": {
      "needs_background": "light"
     },
     "output_type": "display_data"
    }
   ],
   "source": [
    "ax = sns.barplot(x=df['total_income'], y=df['income_type'], hue=df['gender'])\n",
    "\n",
    "plt.xlabel('Ежемесячный доход')\n",
    "plt.ylabel('Тип занятости')\n",
    "ax.set_title(\"Медианный ежемесячный доход для представителей каждой профессии и пола\")\n",
    "\n",
    "legend_labels, _ = ax.get_legend_handles_labels()\n",
    "ax.legend(legend_labels, ['женщины', 'мужчины', 'NA'],\n",
    "          title='Пол');"
   ]
  },
  {
   "cell_type": "code",
   "execution_count": 28,
   "metadata": {},
   "outputs": [
    {
     "data": {
      "text/plain": [
       "сотрудник          11119\n",
       "компаньон           5085\n",
       "пенсионер           3856\n",
       "госслужащий         1459\n",
       "безработный            2\n",
       "предприниматель        2\n",
       "в декрете              1\n",
       "студент                1\n",
       "Name: income_type, dtype: int64"
      ]
     },
     "execution_count": 28,
     "metadata": {},
     "output_type": "execute_result"
    }
   ],
   "source": [
    "#вновь выведем на экран общее количество клиентов по каждой категории занятости\n",
    "df['income_type'].value_counts()"
   ]
  },
  {
   "cell_type": "code",
   "execution_count": 29,
   "metadata": {
    "scrolled": true
   },
   "outputs": [
    {
     "data": {
      "text/plain": [
       "array(['пенсионер', 'госслужащий', 'компаньон', 'сотрудник',\n",
       "       'предприниматель'], dtype=object)"
      ]
     },
     "execution_count": 29,
     "metadata": {},
     "output_type": "execute_result"
    }
   ],
   "source": [
    "#посмотрим, представители каких типов занятости имеют пропуски в столбце 'total_income'\n",
    "df[df['total_income'].isna()]['income_type'].unique()"
   ]
  },
  {
   "cell_type": "markdown",
   "metadata": {},
   "source": [
    "Из значений, которые небходимо заполнить, по категориям **\"сотрудник\"**, **\"пенсионер\"**, **\"компаньон\"** и **\"госслужащий\"** достаточно данных для представителей каждого пола. Проблема может лишь возникнуть с категорией **\"предприниматель\"**, так как к этой категории присутсвует лишь по одному представителю каждого пола, и как следствие, у нас может не найтись для него нужного значения."
   ]
  },
  {
   "cell_type": "markdown",
   "metadata": {},
   "source": [
    "Методом `fillna` + `groupby` + `transform` + `median` заполним пропуски в стобце `total_income` медианными значениями дохода для каждого пола и типа занятости."
   ]
  },
  {
   "cell_type": "code",
   "execution_count": 39,
   "metadata": {},
   "outputs": [],
   "source": [
    "df['total_income'] = df['total_income'].fillna(df.groupby(['gender', 'income_type'])['total_income'].transform('median'))"
   ]
  },
  {
   "cell_type": "markdown",
   "metadata": {},
   "source": [
    "Проверим результат заполнения пропусков:"
   ]
  },
  {
   "cell_type": "code",
   "execution_count": 40,
   "metadata": {},
   "outputs": [
    {
     "data": {
      "text/html": [
       "<div>\n",
       "<style scoped>\n",
       "    .dataframe tbody tr th:only-of-type {\n",
       "        vertical-align: middle;\n",
       "    }\n",
       "\n",
       "    .dataframe tbody tr th {\n",
       "        vertical-align: top;\n",
       "    }\n",
       "\n",
       "    .dataframe thead th {\n",
       "        text-align: right;\n",
       "    }\n",
       "</style>\n",
       "<table border=\"1\" class=\"dataframe\">\n",
       "  <thead>\n",
       "    <tr style=\"text-align: right;\">\n",
       "      <th></th>\n",
       "      <th>children</th>\n",
       "      <th>education</th>\n",
       "      <th>education_id</th>\n",
       "      <th>family_status</th>\n",
       "      <th>family_status_id</th>\n",
       "      <th>gender</th>\n",
       "      <th>income_type</th>\n",
       "      <th>debt</th>\n",
       "      <th>total_income</th>\n",
       "      <th>purpose</th>\n",
       "      <th>age</th>\n",
       "    </tr>\n",
       "  </thead>\n",
       "  <tbody>\n",
       "    <tr>\n",
       "      <td>5936</td>\n",
       "      <td>0</td>\n",
       "      <td>высшее</td>\n",
       "      <td>0</td>\n",
       "      <td>женат / замужем</td>\n",
       "      <td>0</td>\n",
       "      <td>M</td>\n",
       "      <td>предприниматель</td>\n",
       "      <td>0</td>\n",
       "      <td>NaN</td>\n",
       "      <td>покупка жилой недвижимости</td>\n",
       "      <td>58.0</td>\n",
       "    </tr>\n",
       "  </tbody>\n",
       "</table>\n",
       "</div>"
      ],
      "text/plain": [
       "      children education  education_id    family_status  family_status_id  \\\n",
       "5936         0    высшее             0  женат / замужем                 0   \n",
       "\n",
       "     gender      income_type  debt  total_income                     purpose  \\\n",
       "5936      M  предприниматель     0           NaN  покупка жилой недвижимости   \n",
       "\n",
       "       age  \n",
       "5936  58.0  "
      ]
     },
     "execution_count": 40,
     "metadata": {},
     "output_type": "execute_result"
    }
   ],
   "source": [
    "df[df['total_income'].isna()]"
   ]
  },
  {
   "cell_type": "markdown",
   "metadata": {},
   "source": [
    "Как и ожидалось, для клиента из категории \"предприниматель-мужчина\" нужного значения не нашлось."
   ]
  },
  {
   "cell_type": "markdown",
   "metadata": {},
   "source": [
    "Выведем на экран клиентов-предпринимателей."
   ]
  },
  {
   "cell_type": "code",
   "execution_count": 41,
   "metadata": {
    "scrolled": true
   },
   "outputs": [
    {
     "data": {
      "text/html": [
       "<div>\n",
       "<style scoped>\n",
       "    .dataframe tbody tr th:only-of-type {\n",
       "        vertical-align: middle;\n",
       "    }\n",
       "\n",
       "    .dataframe tbody tr th {\n",
       "        vertical-align: top;\n",
       "    }\n",
       "\n",
       "    .dataframe thead th {\n",
       "        text-align: right;\n",
       "    }\n",
       "</style>\n",
       "<table border=\"1\" class=\"dataframe\">\n",
       "  <thead>\n",
       "    <tr style=\"text-align: right;\">\n",
       "      <th></th>\n",
       "      <th>children</th>\n",
       "      <th>education</th>\n",
       "      <th>education_id</th>\n",
       "      <th>family_status</th>\n",
       "      <th>family_status_id</th>\n",
       "      <th>gender</th>\n",
       "      <th>income_type</th>\n",
       "      <th>debt</th>\n",
       "      <th>total_income</th>\n",
       "      <th>purpose</th>\n",
       "      <th>age</th>\n",
       "    </tr>\n",
       "  </thead>\n",
       "  <tbody>\n",
       "    <tr>\n",
       "      <td>5936</td>\n",
       "      <td>0</td>\n",
       "      <td>высшее</td>\n",
       "      <td>0</td>\n",
       "      <td>женат / замужем</td>\n",
       "      <td>0</td>\n",
       "      <td>M</td>\n",
       "      <td>предприниматель</td>\n",
       "      <td>0</td>\n",
       "      <td>NaN</td>\n",
       "      <td>покупка жилой недвижимости</td>\n",
       "      <td>58.0</td>\n",
       "    </tr>\n",
       "    <tr>\n",
       "      <td>18697</td>\n",
       "      <td>0</td>\n",
       "      <td>высшее</td>\n",
       "      <td>0</td>\n",
       "      <td>гражданский брак</td>\n",
       "      <td>1</td>\n",
       "      <td>F</td>\n",
       "      <td>предприниматель</td>\n",
       "      <td>0</td>\n",
       "      <td>499163.144947</td>\n",
       "      <td>на проведение свадьбы</td>\n",
       "      <td>27.0</td>\n",
       "    </tr>\n",
       "  </tbody>\n",
       "</table>\n",
       "</div>"
      ],
      "text/plain": [
       "       children education  education_id     family_status  family_status_id  \\\n",
       "5936          0    высшее             0   женат / замужем                 0   \n",
       "18697         0    высшее             0  гражданский брак                 1   \n",
       "\n",
       "      gender      income_type  debt   total_income  \\\n",
       "5936       M  предприниматель     0            NaN   \n",
       "18697      F  предприниматель     0  499163.144947   \n",
       "\n",
       "                          purpose   age  \n",
       "5936   покупка жилой недвижимости  58.0  \n",
       "18697       на проведение свадьбы  27.0  "
      ]
     },
     "execution_count": 41,
     "metadata": {},
     "output_type": "execute_result"
    }
   ],
   "source": [
    "df[df['income_type'] == 'предприниматель'].head()"
   ]
  },
  {
   "cell_type": "markdown",
   "metadata": {},
   "source": [
    "Возьмем значение из столбца `total_income` наиболее близкой по смыслу строки клиента из категории \"предприниматель-женщина\" и заполним им недостающее значение."
   ]
  },
  {
   "cell_type": "code",
   "execution_count": 42,
   "metadata": {},
   "outputs": [],
   "source": [
    "#заполним этим значением необходимую строку\n",
    "df.loc[(df['income_type'] == 'предприниматель') & (df['gender'] == 'M'),'total_income'] = df.loc[18697, 'total_income']"
   ]
  },
  {
   "cell_type": "markdown",
   "metadata": {},
   "source": [
    "Проверим результат заполнения. Выведем на экран оставшееся количество пропусков в столбе `total_income`"
   ]
  },
  {
   "cell_type": "code",
   "execution_count": 43,
   "metadata": {},
   "outputs": [
    {
     "data": {
      "text/plain": [
       "0"
      ]
     },
     "execution_count": 43,
     "metadata": {},
     "output_type": "execute_result"
    }
   ],
   "source": [
    "len(df[df['total_income'].isna()])"
   ]
  },
  {
   "cell_type": "markdown",
   "metadata": {},
   "source": [
    "### Изменим значение пола 'XNA' на наиболее вероятное значение"
   ]
  },
  {
   "cell_type": "markdown",
   "metadata": {},
   "source": [
    "Посмотрим на строку, в которой содержится значение `gender` == 'XNA'"
   ]
  },
  {
   "cell_type": "code",
   "execution_count": 44,
   "metadata": {},
   "outputs": [
    {
     "data": {
      "text/html": [
       "<div>\n",
       "<style scoped>\n",
       "    .dataframe tbody tr th:only-of-type {\n",
       "        vertical-align: middle;\n",
       "    }\n",
       "\n",
       "    .dataframe tbody tr th {\n",
       "        vertical-align: top;\n",
       "    }\n",
       "\n",
       "    .dataframe thead th {\n",
       "        text-align: right;\n",
       "    }\n",
       "</style>\n",
       "<table border=\"1\" class=\"dataframe\">\n",
       "  <thead>\n",
       "    <tr style=\"text-align: right;\">\n",
       "      <th></th>\n",
       "      <th>children</th>\n",
       "      <th>education</th>\n",
       "      <th>education_id</th>\n",
       "      <th>family_status</th>\n",
       "      <th>family_status_id</th>\n",
       "      <th>gender</th>\n",
       "      <th>income_type</th>\n",
       "      <th>debt</th>\n",
       "      <th>total_income</th>\n",
       "      <th>purpose</th>\n",
       "      <th>age</th>\n",
       "    </tr>\n",
       "  </thead>\n",
       "  <tbody>\n",
       "    <tr>\n",
       "      <td>10701</td>\n",
       "      <td>0</td>\n",
       "      <td>неоконченное высшее</td>\n",
       "      <td>2</td>\n",
       "      <td>гражданский брак</td>\n",
       "      <td>1</td>\n",
       "      <td>XNA</td>\n",
       "      <td>компаньон</td>\n",
       "      <td>0</td>\n",
       "      <td>203905.157261</td>\n",
       "      <td>покупка недвижимости</td>\n",
       "      <td>24.0</td>\n",
       "    </tr>\n",
       "  </tbody>\n",
       "</table>\n",
       "</div>"
      ],
      "text/plain": [
       "       children            education  education_id     family_status  \\\n",
       "10701         0  неоконченное высшее             2  гражданский брак   \n",
       "\n",
       "       family_status_id gender income_type  debt   total_income  \\\n",
       "10701                 1    XNA   компаньон     0  203905.157261   \n",
       "\n",
       "                    purpose   age  \n",
       "10701  покупка недвижимости  24.0  "
      ]
     },
     "execution_count": 44,
     "metadata": {},
     "output_type": "execute_result"
    }
   ],
   "source": [
    "df[df['gender'] == 'XNA']"
   ]
  },
  {
   "cell_type": "markdown",
   "metadata": {},
   "source": [
    "Посмотрим на распределение представителей разных полов в датафрейме"
   ]
  },
  {
   "cell_type": "code",
   "execution_count": 45,
   "metadata": {
    "scrolled": true
   },
   "outputs": [
    {
     "data": {
      "text/html": [
       "<div>\n",
       "<style scoped>\n",
       "    .dataframe tbody tr th:only-of-type {\n",
       "        vertical-align: middle;\n",
       "    }\n",
       "\n",
       "    .dataframe tbody tr th {\n",
       "        vertical-align: top;\n",
       "    }\n",
       "\n",
       "    .dataframe thead th {\n",
       "        text-align: right;\n",
       "    }\n",
       "</style>\n",
       "<table border=\"1\" class=\"dataframe\">\n",
       "  <thead>\n",
       "    <tr style=\"text-align: right;\">\n",
       "      <th>gender</th>\n",
       "      <th>F</th>\n",
       "      <th>M</th>\n",
       "      <th>XNA</th>\n",
       "    </tr>\n",
       "    <tr>\n",
       "      <th>gender</th>\n",
       "      <th></th>\n",
       "      <th></th>\n",
       "      <th></th>\n",
       "    </tr>\n",
       "  </thead>\n",
       "  <tbody>\n",
       "    <tr>\n",
       "      <td>F</td>\n",
       "      <td>0.66137</td>\n",
       "      <td>0.000000</td>\n",
       "      <td>0.000000</td>\n",
       "    </tr>\n",
       "    <tr>\n",
       "      <td>M</td>\n",
       "      <td>0.00000</td>\n",
       "      <td>0.338583</td>\n",
       "      <td>0.000000</td>\n",
       "    </tr>\n",
       "    <tr>\n",
       "      <td>XNA</td>\n",
       "      <td>0.00000</td>\n",
       "      <td>0.000000</td>\n",
       "      <td>0.000046</td>\n",
       "    </tr>\n",
       "  </tbody>\n",
       "</table>\n",
       "</div>"
      ],
      "text/plain": [
       "gender        F         M       XNA\n",
       "gender                             \n",
       "F       0.66137  0.000000  0.000000\n",
       "M       0.00000  0.338583  0.000000\n",
       "XNA     0.00000  0.000000  0.000046"
      ]
     },
     "execution_count": 45,
     "metadata": {},
     "output_type": "execute_result"
    }
   ],
   "source": [
    "pd.crosstab(index=df['gender'], columns=df['gender'], normalize=True)"
   ]
  },
  {
   "cell_type": "markdown",
   "metadata": {},
   "source": [
    "Видим, что у нас в таблице 66% женщин. Это означает, что если мы возмем случайного человека и предположим, что его пол - женский, мы будем правы в 66% случаев. Следовательно, с 66% вероятностью, можем присвоить данному объекту пол \"женский\""
   ]
  },
  {
   "cell_type": "code",
   "execution_count": 46,
   "metadata": {},
   "outputs": [
    {
     "data": {
      "text/plain": [
       "'F'"
      ]
     },
     "execution_count": 46,
     "metadata": {},
     "output_type": "execute_result"
    }
   ],
   "source": [
    "#присвоим занчение 'F' нужной ячейке\n",
    "df.loc[10701, 'gender'] = 'F'\n",
    "\n",
    "#выведем эту ячейку, чтобы убедиться что мы измнили значение\n",
    "df.loc[10701, 'gender']"
   ]
  },
  {
   "cell_type": "code",
   "execution_count": 47,
   "metadata": {},
   "outputs": [
    {
     "data": {
      "text/plain": [
       "(array(['F', 'M'], dtype=object), 0)"
      ]
     },
     "execution_count": 47,
     "metadata": {},
     "output_type": "execute_result"
    }
   ],
   "source": [
    "#еще раз посмотрим на уникальные значние в столбце gender\n",
    "df['gender'].unique(), df['gender'].isna().sum()"
   ]
  },
  {
   "cell_type": "markdown",
   "metadata": {},
   "source": [
    "Видим, что пропуски в столбце `gender` устранены"
   ]
  },
  {
   "cell_type": "markdown",
   "metadata": {},
   "source": [
    "**Вывод по пунктам 2.1 - 2.4**"
   ]
  },
  {
   "cell_type": "markdown",
   "metadata": {},
   "source": [
    "Итак, на данном этапе мы:\n",
    "- Привели в порядок значения в стобце `children`\n",
    "- Удалили столбец `days_employed`\n",
    "- Исправили значения 0 в столбце `dob_years` и заменили его на столбец `age`. Столбец `age` заполнили путем расчета медианного возраста для представителя каждой профессии и соответсвующего пола.\n",
    "- Заполнили пропуски в столбце `total_income`, путем нахождения медианного дохода для представителя каждой профессии и соответсвующего пола.\n",
    "- Заполнили невяный пропуск в столбце `gender` наиболее вероятным значением"
   ]
  },
  {
   "cell_type": "markdown",
   "metadata": {},
   "source": [
    "### Замена типа данных"
   ]
  },
  {
   "cell_type": "markdown",
   "metadata": {},
   "source": [
    "Еще раз взглянем на типы данных\n"
   ]
  },
  {
   "cell_type": "code",
   "execution_count": 48,
   "metadata": {},
   "outputs": [
    {
     "name": "stdout",
     "output_type": "stream",
     "text": [
      "<class 'pandas.core.frame.DataFrame'>\n",
      "RangeIndex: 21525 entries, 0 to 21524\n",
      "Data columns (total 11 columns):\n",
      "children            21525 non-null int64\n",
      "education           21525 non-null object\n",
      "education_id        21525 non-null int64\n",
      "family_status       21525 non-null object\n",
      "family_status_id    21525 non-null int64\n",
      "gender              21525 non-null object\n",
      "income_type         21525 non-null object\n",
      "debt                21525 non-null int64\n",
      "total_income        21525 non-null float64\n",
      "purpose             21525 non-null object\n",
      "age                 21525 non-null float64\n",
      "dtypes: float64(2), int64(4), object(5)\n",
      "memory usage: 1.8+ MB\n"
     ]
    }
   ],
   "source": [
    "df.info()"
   ]
  },
  {
   "cell_type": "markdown",
   "metadata": {},
   "source": [
    "Метод **pd.to_numeric()** позволяет нам преобразовать тип `int64` в наиболее емкое в отношении занимаемой памяти тип (например, `int8`). Для того, чтобы оптимизировать память, занимаемую данными, выберем все столбцы, которые имеют тип `int` и применим к ним метод **pd.to_numeric()**"
   ]
  },
  {
   "cell_type": "code",
   "execution_count": 49,
   "metadata": {},
   "outputs": [],
   "source": [
    "for col_name in df.select_dtypes(include=['int']).columns:\n",
    "    df[col_name] = pd.to_numeric(df[col_name], downcast='integer')"
   ]
  },
  {
   "cell_type": "code",
   "execution_count": 50,
   "metadata": {},
   "outputs": [
    {
     "name": "stdout",
     "output_type": "stream",
     "text": [
      "<class 'pandas.core.frame.DataFrame'>\n",
      "RangeIndex: 21525 entries, 0 to 21524\n",
      "Data columns (total 11 columns):\n",
      "children            21525 non-null int8\n",
      "education           21525 non-null object\n",
      "education_id        21525 non-null int8\n",
      "family_status       21525 non-null object\n",
      "family_status_id    21525 non-null int8\n",
      "gender              21525 non-null object\n",
      "income_type         21525 non-null object\n",
      "debt                21525 non-null int8\n",
      "total_income        21525 non-null float64\n",
      "purpose             21525 non-null object\n",
      "age                 21525 non-null float64\n",
      "dtypes: float64(2), int8(4), object(5)\n",
      "memory usage: 1.2+ MB\n"
     ]
    }
   ],
   "source": [
    "#проверим изменения\n",
    "df.info()"
   ]
  },
  {
   "cell_type": "markdown",
   "metadata": {},
   "source": [
    "Теперь проведем аналогичное преобразование для ячеек с типом **float**\n"
   ]
  },
  {
   "cell_type": "code",
   "execution_count": 51,
   "metadata": {},
   "outputs": [],
   "source": [
    "for col_name in df.select_dtypes(include=['float']).columns:\n",
    "    df[col_name] = pd.to_numeric(df[col_name], downcast='integer')"
   ]
  },
  {
   "cell_type": "code",
   "execution_count": 52,
   "metadata": {},
   "outputs": [
    {
     "name": "stdout",
     "output_type": "stream",
     "text": [
      "<class 'pandas.core.frame.DataFrame'>\n",
      "RangeIndex: 21525 entries, 0 to 21524\n",
      "Data columns (total 11 columns):\n",
      "children            21525 non-null int8\n",
      "education           21525 non-null object\n",
      "education_id        21525 non-null int8\n",
      "family_status       21525 non-null object\n",
      "family_status_id    21525 non-null int8\n",
      "gender              21525 non-null object\n",
      "income_type         21525 non-null object\n",
      "debt                21525 non-null int8\n",
      "total_income        21525 non-null float64\n",
      "purpose             21525 non-null object\n",
      "age                 21525 non-null int8\n",
      "dtypes: float64(1), int8(5), object(5)\n",
      "memory usage: 1.1+ MB\n"
     ]
    }
   ],
   "source": [
    "#проверим изменения\n",
    "df.info()"
   ]
  },
  {
   "cell_type": "markdown",
   "metadata": {},
   "source": [
    "Видим, что в колонке `total_income` не удалось перобразовать тип методом **pd.to_numeric()**. Применим метод **astype('int')** вместе в функцией округления **round()**`"
   ]
  },
  {
   "cell_type": "code",
   "execution_count": 53,
   "metadata": {},
   "outputs": [],
   "source": [
    "for col_name in df.select_dtypes(include=['float']).columns:\n",
    "    df[col_name] = df[col_name].round(0).astype('int')"
   ]
  },
  {
   "cell_type": "code",
   "execution_count": 54,
   "metadata": {
    "scrolled": true
   },
   "outputs": [
    {
     "name": "stdout",
     "output_type": "stream",
     "text": [
      "<class 'pandas.core.frame.DataFrame'>\n",
      "RangeIndex: 21525 entries, 0 to 21524\n",
      "Data columns (total 11 columns):\n",
      "children            21525 non-null int8\n",
      "education           21525 non-null object\n",
      "education_id        21525 non-null int8\n",
      "family_status       21525 non-null object\n",
      "family_status_id    21525 non-null int8\n",
      "gender              21525 non-null object\n",
      "income_type         21525 non-null object\n",
      "debt                21525 non-null int8\n",
      "total_income        21525 non-null int64\n",
      "purpose             21525 non-null object\n",
      "age                 21525 non-null int8\n",
      "dtypes: int64(1), int8(5), object(5)\n",
      "memory usage: 1.1+ MB\n"
     ]
    }
   ],
   "source": [
    "df.info()"
   ]
  },
  {
   "cell_type": "markdown",
   "metadata": {},
   "source": [
    "Видим, что все необходимые столбцы удалось преобразовать в целочисленный тип таким образом, чтобы данные занимали наименьшее количество места."
   ]
  },
  {
   "cell_type": "markdown",
   "metadata": {},
   "source": [
    "Чтобы еще больше оптимизировать количество памяти, которое занимает датафрейм, преобразуем признак \"пол\" в категориальный тип, методом `astype('category')`"
   ]
  },
  {
   "cell_type": "code",
   "execution_count": 55,
   "metadata": {},
   "outputs": [
    {
     "name": "stdout",
     "output_type": "stream",
     "text": [
      "1.191 MB\n"
     ]
    }
   ],
   "source": [
    "#посмотрим, какой объем памяти занимает сейчас столбец gender в MB\n",
    "print(f'{round(df.gender.memory_usage(deep=True) / 1024 ** 2, 3)} MB')"
   ]
  },
  {
   "cell_type": "code",
   "execution_count": 56,
   "metadata": {},
   "outputs": [],
   "source": [
    "#осуществим преобразование столбца gender к типу category\n",
    "df['gender'] = df['gender'].astype('category')"
   ]
  },
  {
   "cell_type": "code",
   "execution_count": 57,
   "metadata": {},
   "outputs": [
    {
     "name": "stdout",
     "output_type": "stream",
     "text": [
      "0.021 MB\n"
     ]
    }
   ],
   "source": [
    "#посмотрим, какой объем памяти занимает сейчас столбец gender после преобразования\n",
    "print(f'{round(df.gender.memory_usage(deep=True) / 1024 ** 2, 3)} MB')"
   ]
  },
  {
   "cell_type": "code",
   "execution_count": 58,
   "metadata": {},
   "outputs": [
    {
     "name": "stdout",
     "output_type": "stream",
     "text": [
      "<class 'pandas.core.frame.DataFrame'>\n",
      "RangeIndex: 21525 entries, 0 to 21524\n",
      "Data columns (total 11 columns):\n",
      "children            21525 non-null int8\n",
      "education           21525 non-null object\n",
      "education_id        21525 non-null int8\n",
      "family_status       21525 non-null object\n",
      "family_status_id    21525 non-null int8\n",
      "gender              21525 non-null category\n",
      "income_type         21525 non-null object\n",
      "debt                21525 non-null int8\n",
      "total_income        21525 non-null int64\n",
      "purpose             21525 non-null object\n",
      "age                 21525 non-null int8\n",
      "dtypes: category(1), int64(1), int8(5), object(4)\n",
      "memory usage: 967.2+ KB\n"
     ]
    }
   ],
   "source": [
    "#посмотрим еще раз на то, какие типы дынных у нас остались в датафрейме\n",
    "df.info()"
   ]
  },
  {
   "cell_type": "markdown",
   "metadata": {},
   "source": [
    "**Вывод**"
   ]
  },
  {
   "cell_type": "markdown",
   "metadata": {},
   "source": [
    "Итак, на данном этапе мы:\n",
    "- Преобразовали вещественный тип данных в столбцах `total_income` и `age`  в целочисленный.\n",
    "- Оптимизировали объем памяти, занимаемой датафремом, путем приведения целочисленных столбцов `children`, `education_id`, `family_status_id`, `debt` к типу **int8**, а также путем приведения столбца `gender` к типу **category**"
   ]
  },
  {
   "cell_type": "markdown",
   "metadata": {},
   "source": [
    "### Обработка дубликатов"
   ]
  },
  {
   "cell_type": "markdown",
   "metadata": {},
   "source": [
    "Первым делом, займемся удалением неявных дубликатов. Для этого, приведем к одному регистру значения столбцов `education` и `family_status`"
   ]
  },
  {
   "cell_type": "code",
   "execution_count": 59,
   "metadata": {},
   "outputs": [
    {
     "name": "stdout",
     "output_type": "stream",
     "text": [
      "\n",
      "education - ['высшее' 'среднее' 'неоконченное высшее' 'начальное' 'ученая степень'] \n",
      "\n",
      "\n",
      "\n",
      "family_status - ['женат / замужем' 'гражданский брак' 'вдовец / вдова' 'в разводе'\n",
      " 'не женат / не замужем']\n",
      "\n"
     ]
    }
   ],
   "source": [
    "#приведем значения в столбцах 'education' и 'family_status' к нижнеу регистру\n",
    "df['education'] = df['education'].str.lower()\n",
    "df['family_status'] = df['family_status'].str.lower()\n",
    "\n",
    "#выведем уникальные значения в столбцах 'education' и 'family_status' на экран\n",
    "print(f'''\n",
    "education - {df['education'].unique()} \n",
    "\\n\\n\n",
    "family_status - {df['family_status'].unique()}\n",
    "''')"
   ]
  },
  {
   "cell_type": "markdown",
   "metadata": {},
   "source": [
    "Теперь, посмотрим, сколько явных дубликатов присутсвует в таблице\n"
   ]
  },
  {
   "cell_type": "code",
   "execution_count": 60,
   "metadata": {},
   "outputs": [
    {
     "data": {
      "text/plain": [
       "71"
      ]
     },
     "execution_count": 60,
     "metadata": {},
     "output_type": "execute_result"
    }
   ],
   "source": [
    "df.duplicated().sum()"
   ]
  },
  {
   "cell_type": "markdown",
   "metadata": {},
   "source": [
    "Причиной появления дубликатов в данных может служить неправильное соединение даных из разных источников."
   ]
  },
  {
   "cell_type": "markdown",
   "metadata": {},
   "source": [
    "Удалим явные дубликаты сбросим индексы\n"
   ]
  },
  {
   "cell_type": "code",
   "execution_count": 61,
   "metadata": {
    "scrolled": true
   },
   "outputs": [
    {
     "data": {
      "text/plain": [
       "0"
      ]
     },
     "execution_count": 61,
     "metadata": {},
     "output_type": "execute_result"
    }
   ],
   "source": [
    "df.drop_duplicates(inplace=True)\n",
    "df = df.reset_index(drop=True)\n",
    "\n",
    "#снова проверим на наличие явных дубликатов после их удаления\n",
    "df.duplicated().sum()"
   ]
  },
  {
   "cell_type": "markdown",
   "metadata": {},
   "source": [
    "**Вывод**"
   ]
  },
  {
   "cell_type": "markdown",
   "metadata": {},
   "source": [
    "На данном этапе мы:\n",
    "- Избавились от неявных дубликатов в столбце `education`, путем приведения значений к одному регистру\n",
    "- Удалили явные дубликаты из таблицы `df`"
   ]
  },
  {
   "cell_type": "markdown",
   "metadata": {},
   "source": [
    "### Создание словаря"
   ]
  },
  {
   "cell_type": "markdown",
   "metadata": {},
   "source": [
    "Для того, чтобы оптимизировать объем памяти, которое занимает таблица, а также для того, чтобы сделать датафрейм более лаконичным, вынесем словарь со значениями `education` - `education_id`, а также `family_status` - `family_status_id` в отдельные таблицы. В оснвоном датафрейме оставим лишь значения `education_id` и `family_status_id`"
   ]
  },
  {
   "cell_type": "markdown",
   "metadata": {},
   "source": [
    "Создадим словарь со значениями `education` - `education_id`"
   ]
  },
  {
   "cell_type": "code",
   "execution_count": 62,
   "metadata": {},
   "outputs": [
    {
     "data": {
      "text/html": [
       "<div>\n",
       "<style scoped>\n",
       "    .dataframe tbody tr th:only-of-type {\n",
       "        vertical-align: middle;\n",
       "    }\n",
       "\n",
       "    .dataframe tbody tr th {\n",
       "        vertical-align: top;\n",
       "    }\n",
       "\n",
       "    .dataframe thead th {\n",
       "        text-align: right;\n",
       "    }\n",
       "</style>\n",
       "<table border=\"1\" class=\"dataframe\">\n",
       "  <thead>\n",
       "    <tr style=\"text-align: right;\">\n",
       "      <th></th>\n",
       "      <th>education</th>\n",
       "      <th>education_id</th>\n",
       "    </tr>\n",
       "  </thead>\n",
       "  <tbody>\n",
       "    <tr>\n",
       "      <td>0</td>\n",
       "      <td>высшее</td>\n",
       "      <td>0</td>\n",
       "    </tr>\n",
       "    <tr>\n",
       "      <td>1</td>\n",
       "      <td>среднее</td>\n",
       "      <td>1</td>\n",
       "    </tr>\n",
       "    <tr>\n",
       "      <td>2</td>\n",
       "      <td>неоконченное высшее</td>\n",
       "      <td>2</td>\n",
       "    </tr>\n",
       "    <tr>\n",
       "      <td>3</td>\n",
       "      <td>начальное</td>\n",
       "      <td>3</td>\n",
       "    </tr>\n",
       "    <tr>\n",
       "      <td>4</td>\n",
       "      <td>ученая степень</td>\n",
       "      <td>4</td>\n",
       "    </tr>\n",
       "  </tbody>\n",
       "</table>\n",
       "</div>"
      ],
      "text/plain": [
       "             education  education_id\n",
       "0               высшее             0\n",
       "1              среднее             1\n",
       "2  неоконченное высшее             2\n",
       "3            начальное             3\n",
       "4       ученая степень             4"
      ]
     },
     "execution_count": 62,
     "metadata": {},
     "output_type": "execute_result"
    }
   ],
   "source": [
    "education_dict = df.loc[:, ['education', 'education_id']]\n",
    "education_dict.drop_duplicates(inplace=True) #удалим дубликаты\n",
    "education_dict = education_dict.reset_index(drop=True) #сбросим индексы\n",
    "education_dict #выведем словарь значений education - education_id на экран"
   ]
  },
  {
   "cell_type": "markdown",
   "metadata": {},
   "source": [
    "Создадим словарь со значениями `family_status` - `family_status_id`"
   ]
  },
  {
   "cell_type": "code",
   "execution_count": 63,
   "metadata": {
    "scrolled": true
   },
   "outputs": [
    {
     "data": {
      "text/html": [
       "<div>\n",
       "<style scoped>\n",
       "    .dataframe tbody tr th:only-of-type {\n",
       "        vertical-align: middle;\n",
       "    }\n",
       "\n",
       "    .dataframe tbody tr th {\n",
       "        vertical-align: top;\n",
       "    }\n",
       "\n",
       "    .dataframe thead th {\n",
       "        text-align: right;\n",
       "    }\n",
       "</style>\n",
       "<table border=\"1\" class=\"dataframe\">\n",
       "  <thead>\n",
       "    <tr style=\"text-align: right;\">\n",
       "      <th></th>\n",
       "      <th>family_status</th>\n",
       "      <th>family_status_id</th>\n",
       "    </tr>\n",
       "  </thead>\n",
       "  <tbody>\n",
       "    <tr>\n",
       "      <td>0</td>\n",
       "      <td>женат / замужем</td>\n",
       "      <td>0</td>\n",
       "    </tr>\n",
       "    <tr>\n",
       "      <td>1</td>\n",
       "      <td>гражданский брак</td>\n",
       "      <td>1</td>\n",
       "    </tr>\n",
       "    <tr>\n",
       "      <td>2</td>\n",
       "      <td>вдовец / вдова</td>\n",
       "      <td>2</td>\n",
       "    </tr>\n",
       "    <tr>\n",
       "      <td>3</td>\n",
       "      <td>в разводе</td>\n",
       "      <td>3</td>\n",
       "    </tr>\n",
       "    <tr>\n",
       "      <td>4</td>\n",
       "      <td>не женат / не замужем</td>\n",
       "      <td>4</td>\n",
       "    </tr>\n",
       "  </tbody>\n",
       "</table>\n",
       "</div>"
      ],
      "text/plain": [
       "           family_status  family_status_id\n",
       "0        женат / замужем                 0\n",
       "1       гражданский брак                 1\n",
       "2         вдовец / вдова                 2\n",
       "3              в разводе                 3\n",
       "4  не женат / не замужем                 4"
      ]
     },
     "execution_count": 63,
     "metadata": {},
     "output_type": "execute_result"
    }
   ],
   "source": [
    "family_status_dict = df.loc[:, ['family_status', 'family_status_id']]\n",
    "family_status_dict.drop_duplicates(inplace=True) #удалим дубликаты\n",
    "family_status_dict = family_status_dict.reset_index(drop=True) #сбросим индексы\n",
    "family_status_dict #выведем словарь значений 'family_status' - 'family_status_id' на экран"
   ]
  },
  {
   "cell_type": "markdown",
   "metadata": {},
   "source": [
    "Удалим столбцы `family_status`, `education` из датафрейма `df`\n"
   ]
  },
  {
   "cell_type": "code",
   "execution_count": 64,
   "metadata": {},
   "outputs": [
    {
     "data": {
      "text/plain": [
       "Index(['children', 'education_id', 'family_status_id', 'gender', 'income_type',\n",
       "       'debt', 'total_income', 'purpose', 'age'],\n",
       "      dtype='object')"
      ]
     },
     "execution_count": 64,
     "metadata": {},
     "output_type": "execute_result"
    }
   ],
   "source": [
    "df.drop(['family_status', 'education'], axis=1, inplace=True)\n",
    "\n",
    "#выведем списком названия оставшихся колонок датафрейма\n",
    "df.columns"
   ]
  },
  {
   "cell_type": "markdown",
   "metadata": {},
   "source": [
    "**Вывод**"
   ]
  },
  {
   "cell_type": "markdown",
   "metadata": {},
   "source": [
    "На данном этапе, мы:\n",
    "- Вынесли словари со значениями `education` - `education_id`, а также `family_status` - `family_status_id` в отдельные таблицы `education_dict` и `family_status_dict` соотвественно. \n",
    "- В основном датафрейме оставим лишь значения `education_id` и `family_status_id`, оптимизировав тем самым объем памяти, занимаемой таблицей"
   ]
  },
  {
   "cell_type": "markdown",
   "metadata": {},
   "source": [
    "### Лемматизация"
   ]
  },
  {
   "cell_type": "markdown",
   "metadata": {},
   "source": [
    "Для того, чтобы нам было удобно анализировать данные и соотносить объекты по целям взятия кредита, нам необходимо произвести категоризацию данных, представленных в столбце `purpose`.  \n",
    "Для этого мы производем лемматизацию данных столбца"
   ]
  },
  {
   "cell_type": "markdown",
   "metadata": {},
   "source": [
    "Посмотрим на уникальные значения, которые присутсвуют в столбце \"purpose\"\n"
   ]
  },
  {
   "cell_type": "code",
   "execution_count": 65,
   "metadata": {
    "scrolled": true
   },
   "outputs": [
    {
     "data": {
      "text/plain": [
       "array(['покупка жилья', 'приобретение автомобиля',\n",
       "       'дополнительное образование', 'сыграть свадьбу',\n",
       "       'операции с жильем', 'образование', 'на проведение свадьбы',\n",
       "       'покупка жилья для семьи', 'покупка недвижимости',\n",
       "       'покупка коммерческой недвижимости', 'покупка жилой недвижимости',\n",
       "       'строительство собственной недвижимости', 'недвижимость',\n",
       "       'строительство недвижимости', 'на покупку подержанного автомобиля',\n",
       "       'на покупку своего автомобиля',\n",
       "       'операции с коммерческой недвижимостью',\n",
       "       'строительство жилой недвижимости', 'жилье',\n",
       "       'операции со своей недвижимостью', 'автомобили',\n",
       "       'заняться образованием', 'сделка с подержанным автомобилем',\n",
       "       'получение образования', 'автомобиль', 'свадьба',\n",
       "       'получение дополнительного образования', 'покупка своего жилья',\n",
       "       'операции с недвижимостью', 'получение высшего образования',\n",
       "       'свой автомобиль', 'сделка с автомобилем',\n",
       "       'профильное образование', 'высшее образование',\n",
       "       'покупка жилья для сдачи', 'на покупку автомобиля', 'ремонт жилью',\n",
       "       'заняться высшим образованием'], dtype=object)"
      ]
     },
     "execution_count": 65,
     "metadata": {},
     "output_type": "execute_result"
    }
   ],
   "source": [
    "df.purpose.unique()"
   ]
  },
  {
   "cell_type": "markdown",
   "metadata": {},
   "source": [
    "Осуществим лемматизацию"
   ]
  },
  {
   "cell_type": "code",
   "execution_count": 66,
   "metadata": {},
   "outputs": [],
   "source": [
    "#произведем лемматизацию строк -> соединим леммы в строку -> удалим лишние символы методом str.rstrip()\n",
    "#сохраним значения в столбце \"purpose_lem\"\n",
    "\n",
    "m = Mystem()\n",
    "df['purpose_lem'] = ((df['purpose'].apply(m.lemmatize)).apply(' '.join)).str.rstrip(' \\n') "
   ]
  },
  {
   "cell_type": "code",
   "execution_count": 67,
   "metadata": {},
   "outputs": [
    {
     "data": {
      "text/plain": [
       "автомобиль                                    972\n",
       "свадьба                                       791\n",
       "на   проведение   свадьба                     768\n",
       "сыграть   свадьба                             765\n",
       "операция   с   недвижимость                   675\n",
       "покупка   коммерческий   недвижимость         661\n",
       "операция   с   жилье                          652\n",
       "покупка   жилье   для   сдача                 651\n",
       "операция   с   коммерческий   недвижимость    650\n",
       "покупка   жилье                               646\n",
       "жилье                                         646\n",
       "покупка   жилье   для   семья                 638\n",
       "строительство   собственный   недвижимость    635\n",
       "недвижимость                                  633\n",
       "операция   со   свой   недвижимость           627\n",
       "строительство   жилой   недвижимость          624\n",
       "покупка   недвижимость                        621\n",
       "покупка   свой   жилье                        620\n",
       "строительство   недвижимость                  619\n",
       "ремонт   жилье                                607\n",
       "покупка   жилой   недвижимость                606\n",
       "на   покупка   свой   автомобиль              505\n",
       "заниматься   высокий   образование            496\n",
       "сделка   с   подержанный   автомобиль         486\n",
       "свой   автомобиль                             478\n",
       "на   покупка   подержать   автомобиль         478\n",
       "на   покупка   автомобиль                     471\n",
       "приобретение   автомобиль                     461\n",
       "дополнительный   образование                  460\n",
       "сделка   с   автомобиль                       455\n",
       "высокий   образование                         452\n",
       "образование                                   447\n",
       "получение   дополнительный   образование      446\n",
       "получение   образование                       442\n",
       "профильный   образование                      436\n",
       "получение   высокий   образование             426\n",
       "заниматься   образование                      408\n",
       "Name: purpose_lem, dtype: int64"
      ]
     },
     "execution_count": 67,
     "metadata": {},
     "output_type": "execute_result"
    }
   ],
   "source": [
    "#посмотрим на уникальные значения, которые присутсвуют в столбце \"purpose_lem\"\n",
    "df.purpose_lem.value_counts()"
   ]
  },
  {
   "cell_type": "markdown",
   "metadata": {},
   "source": [
    "Основные ключевые слова, которые встречаются:\n",
    "- образование, \n",
    "- автомобиль, \n",
    "- свадьба, \n",
    "- недвижимость, жилье"
   ]
  },
  {
   "cell_type": "markdown",
   "metadata": {},
   "source": [
    "**Вывод**"
   ]
  },
  {
   "cell_type": "markdown",
   "metadata": {},
   "source": [
    "На данном этапе мы:\n",
    "- Выявили неявные дубликаты в столбце `purpose`, за счет приведения слов в строке к лемме, и выделения ключевых слов, встречающихся в запросах"
   ]
  },
  {
   "cell_type": "markdown",
   "metadata": {},
   "source": [
    "### Категоризация данных"
   ]
  },
  {
   "cell_type": "markdown",
   "metadata": {},
   "source": [
    "На их основе выявленных ключевых слов создадим категории:\n",
    "- образование\n",
    "- покупка автомобиля\n",
    "- свадьба\n",
    "- операции с недвижимостью"
   ]
  },
  {
   "cell_type": "markdown",
   "metadata": {},
   "source": [
    "Создадим словарь, в котором в качестве ключа будет лемма из столбца `purpose`, а в качестве значения - наименование категории."
   ]
  },
  {
   "cell_type": "code",
   "execution_count": 68,
   "metadata": {},
   "outputs": [],
   "source": [
    "purpose_dict = {\"образование\": \"образование\", \n",
    "                \"автомобиль\": \"покупка автомобиля\", \n",
    "                \"свадьба\": \"свадьба\", \n",
    "                \"жилье\": \"недвижимость\", \n",
    "                \"недвижимость\": \"недвижимость\"\n",
    "               }"
   ]
  },
  {
   "cell_type": "markdown",
   "metadata": {},
   "source": [
    "Cоздадим колонку `purpose_category` и заполним ее в соотвествии со словарем `purpose_dict`\n"
   ]
  },
  {
   "cell_type": "code",
   "execution_count": 69,
   "metadata": {},
   "outputs": [],
   "source": [
    "df['purpose_category'] = [value \n",
    "                          for i in range(len(df))\n",
    "                          for key, value in purpose_dict.items()\n",
    "                          if key in df.loc[i, 'purpose_lem']]"
   ]
  },
  {
   "cell_type": "code",
   "execution_count": 70,
   "metadata": {
    "scrolled": true
   },
   "outputs": [
    {
     "data": {
      "text/html": [
       "<div>\n",
       "<style scoped>\n",
       "    .dataframe tbody tr th:only-of-type {\n",
       "        vertical-align: middle;\n",
       "    }\n",
       "\n",
       "    .dataframe tbody tr th {\n",
       "        vertical-align: top;\n",
       "    }\n",
       "\n",
       "    .dataframe thead th {\n",
       "        text-align: right;\n",
       "    }\n",
       "</style>\n",
       "<table border=\"1\" class=\"dataframe\">\n",
       "  <thead>\n",
       "    <tr style=\"text-align: right;\">\n",
       "      <th></th>\n",
       "      <th>purpose</th>\n",
       "      <th>purpose_category</th>\n",
       "    </tr>\n",
       "  </thead>\n",
       "  <tbody>\n",
       "    <tr>\n",
       "      <td>0</td>\n",
       "      <td>покупка жилья</td>\n",
       "      <td>недвижимость</td>\n",
       "    </tr>\n",
       "    <tr>\n",
       "      <td>1</td>\n",
       "      <td>приобретение автомобиля</td>\n",
       "      <td>покупка автомобиля</td>\n",
       "    </tr>\n",
       "    <tr>\n",
       "      <td>2</td>\n",
       "      <td>покупка жилья</td>\n",
       "      <td>недвижимость</td>\n",
       "    </tr>\n",
       "    <tr>\n",
       "      <td>3</td>\n",
       "      <td>дополнительное образование</td>\n",
       "      <td>образование</td>\n",
       "    </tr>\n",
       "    <tr>\n",
       "      <td>4</td>\n",
       "      <td>сыграть свадьбу</td>\n",
       "      <td>свадьба</td>\n",
       "    </tr>\n",
       "  </tbody>\n",
       "</table>\n",
       "</div>"
      ],
      "text/plain": [
       "                      purpose    purpose_category\n",
       "0               покупка жилья        недвижимость\n",
       "1     приобретение автомобиля  покупка автомобиля\n",
       "2               покупка жилья        недвижимость\n",
       "3  дополнительное образование         образование\n",
       "4             сыграть свадьбу             свадьба"
      ]
     },
     "execution_count": 70,
     "metadata": {},
     "output_type": "execute_result"
    }
   ],
   "source": [
    "#посмотрим, как выглядят столбцы 'purpose' и 'purpose_category'\n",
    "df[['purpose', 'purpose_category']].head()"
   ]
  },
  {
   "cell_type": "markdown",
   "metadata": {},
   "source": [
    "Cоздадим словарь для purpose_category_id и сохраним его в переменной `purpose_category_dict`"
   ]
  },
  {
   "cell_type": "code",
   "execution_count": 71,
   "metadata": {},
   "outputs": [
    {
     "data": {
      "text/plain": [
       "{'недвижимость': 0, 'покупка автомобиля': 1, 'образование': 2, 'свадьба': 3}"
      ]
     },
     "execution_count": 71,
     "metadata": {},
     "output_type": "execute_result"
    }
   ],
   "source": [
    "purpose_category_dict = {df.purpose_category.unique()[i]: i for i in range(len(df.purpose_category.unique()))}\n",
    "purpose_category_dict"
   ]
  },
  {
   "cell_type": "markdown",
   "metadata": {},
   "source": [
    "Cоздадим столбец датафрейме `df` и присвоим значения в соотвествии со словарем `purpose_category_dict`"
   ]
  },
  {
   "cell_type": "code",
   "execution_count": 72,
   "metadata": {},
   "outputs": [
    {
     "data": {
      "text/html": [
       "<div>\n",
       "<style scoped>\n",
       "    .dataframe tbody tr th:only-of-type {\n",
       "        vertical-align: middle;\n",
       "    }\n",
       "\n",
       "    .dataframe tbody tr th {\n",
       "        vertical-align: top;\n",
       "    }\n",
       "\n",
       "    .dataframe thead th {\n",
       "        text-align: right;\n",
       "    }\n",
       "</style>\n",
       "<table border=\"1\" class=\"dataframe\">\n",
       "  <thead>\n",
       "    <tr style=\"text-align: right;\">\n",
       "      <th></th>\n",
       "      <th>purpose</th>\n",
       "      <th>purpose_category</th>\n",
       "      <th>purpose_category_id</th>\n",
       "    </tr>\n",
       "  </thead>\n",
       "  <tbody>\n",
       "    <tr>\n",
       "      <td>0</td>\n",
       "      <td>покупка жилья</td>\n",
       "      <td>недвижимость</td>\n",
       "      <td>0</td>\n",
       "    </tr>\n",
       "    <tr>\n",
       "      <td>1</td>\n",
       "      <td>приобретение автомобиля</td>\n",
       "      <td>покупка автомобиля</td>\n",
       "      <td>1</td>\n",
       "    </tr>\n",
       "    <tr>\n",
       "      <td>2</td>\n",
       "      <td>покупка жилья</td>\n",
       "      <td>недвижимость</td>\n",
       "      <td>0</td>\n",
       "    </tr>\n",
       "    <tr>\n",
       "      <td>3</td>\n",
       "      <td>дополнительное образование</td>\n",
       "      <td>образование</td>\n",
       "      <td>2</td>\n",
       "    </tr>\n",
       "    <tr>\n",
       "      <td>4</td>\n",
       "      <td>сыграть свадьбу</td>\n",
       "      <td>свадьба</td>\n",
       "      <td>3</td>\n",
       "    </tr>\n",
       "  </tbody>\n",
       "</table>\n",
       "</div>"
      ],
      "text/plain": [
       "                      purpose    purpose_category  purpose_category_id\n",
       "0               покупка жилья        недвижимость                    0\n",
       "1     приобретение автомобиля  покупка автомобиля                    1\n",
       "2               покупка жилья        недвижимость                    0\n",
       "3  дополнительное образование         образование                    2\n",
       "4             сыграть свадьбу             свадьба                    3"
      ]
     },
     "execution_count": 72,
     "metadata": {},
     "output_type": "execute_result"
    }
   ],
   "source": [
    "df['purpose_category_id'] = df['purpose_category'].map(lambda x: purpose_category_dict[x])\n",
    "\n",
    "#выведем на экран результат\n",
    "df[['purpose', 'purpose_category', 'purpose_category_id']].head()"
   ]
  },
  {
   "cell_type": "code",
   "execution_count": 73,
   "metadata": {},
   "outputs": [
    {
     "data": {
      "text/plain": [
       "dtype('int64')"
      ]
     },
     "execution_count": 73,
     "metadata": {},
     "output_type": "execute_result"
    }
   ],
   "source": [
    "#проверим формат нового столбца\n",
    "df.purpose_category_id.dtype"
   ]
  },
  {
   "cell_type": "code",
   "execution_count": 74,
   "metadata": {
    "scrolled": true
   },
   "outputs": [
    {
     "data": {
      "text/plain": [
       "dtype('int8')"
      ]
     },
     "execution_count": 74,
     "metadata": {},
     "output_type": "execute_result"
    }
   ],
   "source": [
    "#преобразуем его к более емкому формату\n",
    "df['purpose_category_id'] = pd.to_numeric(df['purpose_category_id'], downcast='integer')\n",
    "df.purpose_category_id.dtype"
   ]
  },
  {
   "cell_type": "markdown",
   "metadata": {},
   "source": [
    "Для удобства восприятия, преобразуем `purpose_category_dict` в датафрейм\n"
   ]
  },
  {
   "cell_type": "code",
   "execution_count": 75,
   "metadata": {},
   "outputs": [
    {
     "data": {
      "text/html": [
       "<div>\n",
       "<style scoped>\n",
       "    .dataframe tbody tr th:only-of-type {\n",
       "        vertical-align: middle;\n",
       "    }\n",
       "\n",
       "    .dataframe tbody tr th {\n",
       "        vertical-align: top;\n",
       "    }\n",
       "\n",
       "    .dataframe thead th {\n",
       "        text-align: right;\n",
       "    }\n",
       "</style>\n",
       "<table border=\"1\" class=\"dataframe\">\n",
       "  <thead>\n",
       "    <tr style=\"text-align: right;\">\n",
       "      <th></th>\n",
       "      <th>purpose_category_id</th>\n",
       "    </tr>\n",
       "  </thead>\n",
       "  <tbody>\n",
       "    <tr>\n",
       "      <td>недвижимость</td>\n",
       "      <td>0</td>\n",
       "    </tr>\n",
       "    <tr>\n",
       "      <td>покупка автомобиля</td>\n",
       "      <td>1</td>\n",
       "    </tr>\n",
       "    <tr>\n",
       "      <td>образование</td>\n",
       "      <td>2</td>\n",
       "    </tr>\n",
       "    <tr>\n",
       "      <td>свадьба</td>\n",
       "      <td>3</td>\n",
       "    </tr>\n",
       "  </tbody>\n",
       "</table>\n",
       "</div>"
      ],
      "text/plain": [
       "                    purpose_category_id\n",
       "недвижимость                          0\n",
       "покупка автомобиля                    1\n",
       "образование                           2\n",
       "свадьба                               3"
      ]
     },
     "execution_count": 75,
     "metadata": {},
     "output_type": "execute_result"
    }
   ],
   "source": [
    "purpose_category_dict = pd.DataFrame(data=purpose_category_dict, index = ['purpose_category_id']).T\n",
    "purpose_category_dict"
   ]
  },
  {
   "cell_type": "markdown",
   "metadata": {},
   "source": [
    "После того, как категоризация проведена, можно удалить лишние столбцы из датафрейма"
   ]
  },
  {
   "cell_type": "code",
   "execution_count": 76,
   "metadata": {},
   "outputs": [
    {
     "data": {
      "text/plain": [
       "Index(['children', 'education_id', 'family_status_id', 'gender', 'income_type',\n",
       "       'debt', 'total_income', 'age', 'purpose_category_id'],\n",
       "      dtype='object')"
      ]
     },
     "execution_count": 76,
     "metadata": {},
     "output_type": "execute_result"
    }
   ],
   "source": [
    "df = df.drop(['purpose', 'purpose_lem', 'purpose_category'], axis=1)\n",
    "df.columns"
   ]
  },
  {
   "cell_type": "markdown",
   "metadata": {},
   "source": [
    "Также, произведем категоризацию клиентов по уровню дохода. Для этого разделим значения дохода на 6 отрезков, равных (с погрешностью +/- 1 ) по количеству строк, представленных в каждой категории. Каждому из диапазонов будет присвоено название категории.  \n",
    "Всего создадим 6 категорий: `'low_low'`, `'low_high'`, `'middle_low'`, `'middle_high'`, `'high_low'`, `'high_high'`.  \n",
    "\n",
    "Для этого воспользуемся методом `qcut()`"
   ]
  },
  {
   "cell_type": "markdown",
   "metadata": {},
   "source": [
    "Создадим столбец `income_category`, в который сохраним категорию дохода клиента. Категория будет присвоена в соответсвии с тем, в какой из диапазонов попадет значение признака `total_income` конкретного клиента.  "
   ]
  },
  {
   "cell_type": "code",
   "execution_count": 77,
   "metadata": {},
   "outputs": [
    {
     "data": {
      "text/html": [
       "<div>\n",
       "<style scoped>\n",
       "    .dataframe tbody tr th:only-of-type {\n",
       "        vertical-align: middle;\n",
       "    }\n",
       "\n",
       "    .dataframe tbody tr th {\n",
       "        vertical-align: top;\n",
       "    }\n",
       "\n",
       "    .dataframe thead th {\n",
       "        text-align: right;\n",
       "    }\n",
       "</style>\n",
       "<table border=\"1\" class=\"dataframe\">\n",
       "  <thead>\n",
       "    <tr style=\"text-align: right;\">\n",
       "      <th></th>\n",
       "      <th>children</th>\n",
       "      <th>education_id</th>\n",
       "      <th>family_status_id</th>\n",
       "      <th>gender</th>\n",
       "      <th>income_type</th>\n",
       "      <th>debt</th>\n",
       "      <th>total_income</th>\n",
       "      <th>age</th>\n",
       "      <th>purpose_category_id</th>\n",
       "      <th>income_category</th>\n",
       "    </tr>\n",
       "  </thead>\n",
       "  <tbody>\n",
       "    <tr>\n",
       "      <td>0</td>\n",
       "      <td>1</td>\n",
       "      <td>0</td>\n",
       "      <td>0</td>\n",
       "      <td>F</td>\n",
       "      <td>сотрудник</td>\n",
       "      <td>0</td>\n",
       "      <td>253876</td>\n",
       "      <td>42</td>\n",
       "      <td>0</td>\n",
       "      <td>high_high</td>\n",
       "    </tr>\n",
       "    <tr>\n",
       "      <td>1</td>\n",
       "      <td>1</td>\n",
       "      <td>1</td>\n",
       "      <td>0</td>\n",
       "      <td>F</td>\n",
       "      <td>сотрудник</td>\n",
       "      <td>0</td>\n",
       "      <td>112080</td>\n",
       "      <td>36</td>\n",
       "      <td>1</td>\n",
       "      <td>low_high</td>\n",
       "    </tr>\n",
       "    <tr>\n",
       "      <td>2</td>\n",
       "      <td>0</td>\n",
       "      <td>1</td>\n",
       "      <td>0</td>\n",
       "      <td>M</td>\n",
       "      <td>сотрудник</td>\n",
       "      <td>0</td>\n",
       "      <td>145886</td>\n",
       "      <td>33</td>\n",
       "      <td>0</td>\n",
       "      <td>middle_high</td>\n",
       "    </tr>\n",
       "    <tr>\n",
       "      <td>3</td>\n",
       "      <td>3</td>\n",
       "      <td>1</td>\n",
       "      <td>0</td>\n",
       "      <td>M</td>\n",
       "      <td>сотрудник</td>\n",
       "      <td>0</td>\n",
       "      <td>267629</td>\n",
       "      <td>32</td>\n",
       "      <td>2</td>\n",
       "      <td>high_high</td>\n",
       "    </tr>\n",
       "    <tr>\n",
       "      <td>4</td>\n",
       "      <td>0</td>\n",
       "      <td>1</td>\n",
       "      <td>1</td>\n",
       "      <td>F</td>\n",
       "      <td>пенсионер</td>\n",
       "      <td>0</td>\n",
       "      <td>158616</td>\n",
       "      <td>53</td>\n",
       "      <td>3</td>\n",
       "      <td>middle_high</td>\n",
       "    </tr>\n",
       "  </tbody>\n",
       "</table>\n",
       "</div>"
      ],
      "text/plain": [
       "   children  education_id  family_status_id gender income_type  debt  \\\n",
       "0         1             0                 0      F   сотрудник     0   \n",
       "1         1             1                 0      F   сотрудник     0   \n",
       "2         0             1                 0      M   сотрудник     0   \n",
       "3         3             1                 0      M   сотрудник     0   \n",
       "4         0             1                 1      F   пенсионер     0   \n",
       "\n",
       "   total_income  age  purpose_category_id income_category  \n",
       "0        253876   42                    0       high_high  \n",
       "1        112080   36                    1        low_high  \n",
       "2        145886   33                    0     middle_high  \n",
       "3        267629   32                    2       high_high  \n",
       "4        158616   53                    3     middle_high  "
      ]
     },
     "execution_count": 77,
     "metadata": {},
     "output_type": "execute_result"
    }
   ],
   "source": [
    "df['income_category'] = pd.qcut(df['total_income'], \n",
    "                                q=6, \n",
    "                                labels=['low_low', 'low_high', 'middle_low', 'middle_high', 'high_low', 'high_high'])\n",
    "df.head()"
   ]
  },
  {
   "cell_type": "markdown",
   "metadata": {},
   "source": [
    "Проверим, как распределены диапазоны дохода"
   ]
  },
  {
   "cell_type": "code",
   "execution_count": 78,
   "metadata": {
    "scrolled": true
   },
   "outputs": [
    {
     "data": {
      "text/plain": [
       "high_high      3576\n",
       "middle_high    3576\n",
       "low_high       3576\n",
       "low_low        3576\n",
       "high_low       3575\n",
       "middle_low     3575\n",
       "Name: income_category, dtype: int64"
      ]
     },
     "execution_count": 78,
     "metadata": {},
     "output_type": "execute_result"
    }
   ],
   "source": [
    "df['income_category'].value_counts()"
   ]
  },
  {
   "cell_type": "markdown",
   "metadata": {},
   "source": [
    "Видим, что нам удалось поделить клиентов на 6 интервалов-категорий, равных по количеству значений (с погрешностью +/- 1). С этим уже можно работать."
   ]
  },
  {
   "cell_type": "markdown",
   "metadata": {},
   "source": [
    "Для того, чтобы понимать какие диапазоны содержатся в каждой категории, создадим таблицу-словарик, в которой будут указаны минимальные и максимальные диапазоны дохода для каждой категории"
   ]
  },
  {
   "cell_type": "code",
   "execution_count": 79,
   "metadata": {},
   "outputs": [
    {
     "data": {
      "text/html": [
       "<div>\n",
       "<style scoped>\n",
       "    .dataframe tbody tr th:only-of-type {\n",
       "        vertical-align: middle;\n",
       "    }\n",
       "\n",
       "    .dataframe tbody tr th {\n",
       "        vertical-align: top;\n",
       "    }\n",
       "\n",
       "    .dataframe thead th {\n",
       "        text-align: right;\n",
       "    }\n",
       "</style>\n",
       "<table border=\"1\" class=\"dataframe\">\n",
       "  <thead>\n",
       "    <tr style=\"text-align: right;\">\n",
       "      <th></th>\n",
       "      <th>min</th>\n",
       "      <th>max</th>\n",
       "    </tr>\n",
       "    <tr>\n",
       "      <th>income_category</th>\n",
       "      <th></th>\n",
       "      <th></th>\n",
       "    </tr>\n",
       "  </thead>\n",
       "  <tbody>\n",
       "    <tr>\n",
       "      <td>low_low</td>\n",
       "      <td>20667</td>\n",
       "      <td>92129</td>\n",
       "    </tr>\n",
       "    <tr>\n",
       "      <td>low_high</td>\n",
       "      <td>92164</td>\n",
       "      <td>119872</td>\n",
       "    </tr>\n",
       "    <tr>\n",
       "      <td>middle_low</td>\n",
       "      <td>119874</td>\n",
       "      <td>144121</td>\n",
       "    </tr>\n",
       "    <tr>\n",
       "      <td>middle_high</td>\n",
       "      <td>144133</td>\n",
       "      <td>173242</td>\n",
       "    </tr>\n",
       "    <tr>\n",
       "      <td>high_low</td>\n",
       "      <td>173247</td>\n",
       "      <td>228860</td>\n",
       "    </tr>\n",
       "    <tr>\n",
       "      <td>high_high</td>\n",
       "      <td>228893</td>\n",
       "      <td>2265604</td>\n",
       "    </tr>\n",
       "  </tbody>\n",
       "</table>\n",
       "</div>"
      ],
      "text/plain": [
       "                    min      max\n",
       "income_category                 \n",
       "low_low           20667    92129\n",
       "low_high          92164   119872\n",
       "middle_low       119874   144121\n",
       "middle_high      144133   173242\n",
       "high_low         173247   228860\n",
       "high_high        228893  2265604"
      ]
     },
     "execution_count": 79,
     "metadata": {},
     "output_type": "execute_result"
    }
   ],
   "source": [
    "income_category_dict = df.groupby('income_category')['total_income'].agg(['min', 'max'])\n",
    "income_category_dict"
   ]
  },
  {
   "cell_type": "markdown",
   "metadata": {},
   "source": [
    "**Вывод**"
   ]
  },
  {
   "cell_type": "markdown",
   "metadata": {},
   "source": [
    "На данном этапе мы:\n",
    "- Произвели лемматизацию значение столбца `purpose`\n",
    "- Осуществили категоризацию столбца `purpose`. Всего было выделено 4 категории целей: **'недвижимость', 'покупка автомобиля', 'образование', 'свадьба'**.\n",
    "- Каждой категории мы присвоили уникальный **id**  \n",
    "- Призведено разбение клиентов на 6 категорий дохода:`'low_low'`, `'low_high'`, `'middle_low'`, `'middle_high'`, `'high_low'`, `'high_high'`."
   ]
  },
  {
   "cell_type": "markdown",
   "metadata": {},
   "source": [
    "## Шаг 3. Проверка гипотез. Ответ на вопросы заказчика"
   ]
  },
  {
   "cell_type": "markdown",
   "metadata": {},
   "source": [
    "Следующим шагом, проверим гипотезы:\n",
    "1. Есть зависимость между наличием детей и возвратом кредита в срок\n",
    "2. Есть зависимость между семейным положением и возвратом кредита в срок\n",
    "3. Есть зависимость между уровнем дохода и возвратом кредита в срок\n",
    "4. Разные цели кредита влияют на его возврат в срок."
   ]
  },
  {
   "cell_type": "markdown",
   "metadata": {},
   "source": [
    "### Есть ли зависимость между наличием детей и возвратом кредита в срок?"
   ]
  },
  {
   "cell_type": "markdown",
   "metadata": {},
   "source": [
    "Разделим клиентов на 6 групп, по количеству детей.  \n",
    "Проананализируем, каков процент задолженностей, внутри каждой группы. Если, в какой-то из групп клиентов, отношение людей, имеющих задолженность к общему количеству людей внутри группы будет значительно выше, нежели в остальных - это может говорить о том, что количество детей коррелирует с риском невозврата кредита в срок"
   ]
  },
  {
   "cell_type": "markdown",
   "metadata": {},
   "source": [
    "Построим сводную таблицу `child_debt_crosstab`\n"
   ]
  },
  {
   "cell_type": "code",
   "execution_count": 80,
   "metadata": {
    "scrolled": true
   },
   "outputs": [
    {
     "data": {
      "text/html": [
       "<div>\n",
       "<style scoped>\n",
       "    .dataframe tbody tr th:only-of-type {\n",
       "        vertical-align: middle;\n",
       "    }\n",
       "\n",
       "    .dataframe tbody tr th {\n",
       "        vertical-align: top;\n",
       "    }\n",
       "\n",
       "    .dataframe thead th {\n",
       "        text-align: right;\n",
       "    }\n",
       "</style>\n",
       "<table border=\"1\" class=\"dataframe\">\n",
       "  <thead>\n",
       "    <tr style=\"text-align: right;\">\n",
       "      <th>children</th>\n",
       "      <th>0</th>\n",
       "      <th>1</th>\n",
       "      <th>2</th>\n",
       "      <th>3</th>\n",
       "      <th>4</th>\n",
       "      <th>5</th>\n",
       "      <th>All</th>\n",
       "    </tr>\n",
       "    <tr>\n",
       "      <th>debt</th>\n",
       "      <th></th>\n",
       "      <th></th>\n",
       "      <th></th>\n",
       "      <th></th>\n",
       "      <th></th>\n",
       "      <th></th>\n",
       "      <th></th>\n",
       "    </tr>\n",
       "  </thead>\n",
       "  <tbody>\n",
       "    <tr>\n",
       "      <td>0</td>\n",
       "      <td>0.924562</td>\n",
       "      <td>0.908342</td>\n",
       "      <td>0.905075</td>\n",
       "      <td>0.918182</td>\n",
       "      <td>0.902439</td>\n",
       "      <td>1.0</td>\n",
       "      <td>0.91885</td>\n",
       "    </tr>\n",
       "    <tr>\n",
       "      <td>1</td>\n",
       "      <td>0.075438</td>\n",
       "      <td>0.091658</td>\n",
       "      <td>0.094925</td>\n",
       "      <td>0.081818</td>\n",
       "      <td>0.097561</td>\n",
       "      <td>0.0</td>\n",
       "      <td>0.08115</td>\n",
       "    </tr>\n",
       "  </tbody>\n",
       "</table>\n",
       "</div>"
      ],
      "text/plain": [
       "children         0         1         2         3         4    5      All\n",
       "debt                                                                    \n",
       "0         0.924562  0.908342  0.905075  0.918182  0.902439  1.0  0.91885\n",
       "1         0.075438  0.091658  0.094925  0.081818  0.097561  0.0  0.08115"
      ]
     },
     "execution_count": 80,
     "metadata": {},
     "output_type": "execute_result"
    }
   ],
   "source": [
    "child_debt_crosstab = pd.crosstab(index=df['debt'],\n",
    "                                  columns=df['children'], \n",
    "                                  normalize='columns', \n",
    "                                  margins=True, \n",
    "                                  )\n",
    "child_debt_crosstab"
   ]
  },
  {
   "cell_type": "markdown",
   "metadata": {},
   "source": [
    "Обратим внимание на вторую строку таблицы.  \n",
    "В ней отображается отношение количества людей, которые не вернули займ в срок к общему количеству людей внутри каждой группы.  \n",
    "Так, например, мы можем увидеть, что в группе людей, которые не имеют ни одного ребенка, доля должников составляет 0,075, в группе клиентов, имеющих 1-го ребенка доля должников составляет 0,09, а общая доля должников в датафрейме - 0,08"
   ]
  },
  {
   "cell_type": "markdown",
   "metadata": {},
   "source": [
    "Отобразим значения на графике, где прямая линия отображает средний процент невозврата,расчитанный для всего датафрейма. "
   ]
  },
  {
   "cell_type": "code",
   "execution_count": 81,
   "metadata": {
    "scrolled": true
   },
   "outputs": [
    {
     "data": {
      "image/png": "[encoded data removed]",
      "text/plain": [
       "<Figure size 432x288 with 1 Axes>"
      ]
     },
     "metadata": {
      "needs_background": "light"
     },
     "output_type": "display_data"
    }
   ],
   "source": [
    "fig, ax = plt.subplots()\n",
    "\n",
    "ax.axhline(y=child_debt_crosstab.iloc[1, 6], \n",
    "            label='среднее доля должников, по всей базе') #среднее количество должников для все базы клиентов\n",
    "ax.plot(child_debt_crosstab.iloc[1, :6], 'r-', \n",
    "         label='доля должников, внутри категории') #доля должников в каждой группе клиентов\n",
    "\n",
    "plt.legend() #включаем отбражение легенды\n",
    "plt.xlim(left=0) #задаем начало графика\n",
    "plt.xlabel('Количество детей у клиента') #задаем наименование оси Х\n",
    "plt.ylabel('Доля должников') #задаем наименование оси Х\n",
    "ax.set_title('Количество клиентов, имеющих задолженность в зависимости от количества детей'); #задаем название графика"
   ]
  },
  {
   "cell_type": "markdown",
   "metadata": {},
   "source": [
    "На графике наглядно видно, что наименьшая доля людей, не вернувших займ в срок имеет 0 детей, в то время как наиболшая доля людей, имеющих задолженность приходится на обладателей 2-х и 4-х детей.  \n",
    "В категории 5 (\"имеют 5 детей\") наблюдается аномалия. Это может быть в следствии того, что датафрейм содержит очень мало данных о клиентах, имеющих 5 детей.   \n",
    "Проверим, так ли это"
   ]
  },
  {
   "cell_type": "code",
   "execution_count": 82,
   "metadata": {
    "scrolled": true
   },
   "outputs": [
    {
     "data": {
      "text/plain": [
       "0    14091\n",
       "1     4855\n",
       "2     2128\n",
       "3      330\n",
       "4       41\n",
       "5        9\n",
       "Name: children, dtype: int64"
      ]
     },
     "execution_count": 82,
     "metadata": {},
     "output_type": "execute_result"
    }
   ],
   "source": [
    "df['children'].value_counts()"
   ]
  },
  {
   "cell_type": "markdown",
   "metadata": {},
   "source": [
    "Действительно, в данных содержится всего 9 таких строк. Следовательно, данную аномалию мы можем проигнорировать.  \n",
    "Более того, об обладателях 3-х и 4-х детей также содержится мало данных.  \n",
    "Однако в целом, можно заметить восходящую тенденцию невозврата кредита в срок, где доля должников внутри группы увеличивается в то время как увеличивается количество детей. Очень грубо говоря, можно сказать, что чем больше детей, тем больше вероятность того, что клиент не возвратит средства в срок."
   ]
  },
  {
   "cell_type": "markdown",
   "metadata": {},
   "source": [
    "**Вывод**\n"
   ]
  },
  {
   "cell_type": "markdown",
   "metadata": {},
   "source": [
    "Зависимость между количеством детей и возвратом кредита в срок **присутвует**.\n",
    "- Наибольшую долю должников составляют люди, имеющие 2 и 4 ребенка, в то время как наименьшаяя доля задолженностей приходится на группу клиентов, у которых нет ни одного ребенка  \n",
    "\n",
    "В общем виде, вывод можно сформулировать следющим образом: чем больше детей у займополучателя, тем больше вероятность невозврата кредита в срок."
   ]
  },
  {
   "cell_type": "markdown",
   "metadata": {},
   "source": [
    "### Есть ли зависимость между семейным положением и возвратом кредита в срок?"
   ]
  },
  {
   "cell_type": "markdown",
   "metadata": {},
   "source": [
    "Аналогично тому, как мы анализировали влияния количества детей на факт наличия задолженности, проанализируем, есть ли зависимость между семейным статусом и фактом наличия задолженности."
   ]
  },
  {
   "cell_type": "markdown",
   "metadata": {},
   "source": [
    "Построим сводную таблицу `family_debt_crosstab`"
   ]
  },
  {
   "cell_type": "code",
   "execution_count": 83,
   "metadata": {},
   "outputs": [
    {
     "data": {
      "text/html": [
       "<div>\n",
       "<style scoped>\n",
       "    .dataframe tbody tr th:only-of-type {\n",
       "        vertical-align: middle;\n",
       "    }\n",
       "\n",
       "    .dataframe tbody tr th {\n",
       "        vertical-align: top;\n",
       "    }\n",
       "\n",
       "    .dataframe thead th {\n",
       "        text-align: right;\n",
       "    }\n",
       "</style>\n",
       "<table border=\"1\" class=\"dataframe\">\n",
       "  <thead>\n",
       "    <tr style=\"text-align: right;\">\n",
       "      <th>family_status_id</th>\n",
       "      <th>0</th>\n",
       "      <th>1</th>\n",
       "      <th>2</th>\n",
       "      <th>3</th>\n",
       "      <th>4</th>\n",
       "      <th>All</th>\n",
       "    </tr>\n",
       "    <tr>\n",
       "      <th>debt</th>\n",
       "      <th></th>\n",
       "      <th></th>\n",
       "      <th></th>\n",
       "      <th></th>\n",
       "      <th></th>\n",
       "      <th></th>\n",
       "    </tr>\n",
       "  </thead>\n",
       "  <tbody>\n",
       "    <tr>\n",
       "      <td>0</td>\n",
       "      <td>0.924548</td>\n",
       "      <td>0.906529</td>\n",
       "      <td>0.934307</td>\n",
       "      <td>0.92887</td>\n",
       "      <td>0.902491</td>\n",
       "      <td>0.91885</td>\n",
       "    </tr>\n",
       "    <tr>\n",
       "      <td>1</td>\n",
       "      <td>0.075452</td>\n",
       "      <td>0.093471</td>\n",
       "      <td>0.065693</td>\n",
       "      <td>0.07113</td>\n",
       "      <td>0.097509</td>\n",
       "      <td>0.08115</td>\n",
       "    </tr>\n",
       "  </tbody>\n",
       "</table>\n",
       "</div>"
      ],
      "text/plain": [
       "family_status_id         0         1         2        3         4      All\n",
       "debt                                                                      \n",
       "0                 0.924548  0.906529  0.934307  0.92887  0.902491  0.91885\n",
       "1                 0.075452  0.093471  0.065693  0.07113  0.097509  0.08115"
      ]
     },
     "execution_count": 83,
     "metadata": {},
     "output_type": "execute_result"
    }
   ],
   "source": [
    "family_debt_crosstab = pd.crosstab(index=df['debt'], \n",
    "                                   columns=df['family_status_id'], \n",
    "                                   margins=True, \n",
    "                                   normalize='columns'\n",
    "                                  )\n",
    "\n",
    "family_debt_crosstab"
   ]
  },
  {
   "cell_type": "markdown",
   "metadata": {},
   "source": [
    "Снова обратим внимание на нижнюю строку. Мы можем увидеть, что в группе 1 и 4 располагаются значения, которые имеют наибольшее отклонение от среднего, в то время как значение доли должников внутри группы 2 - наименьшее."
   ]
  },
  {
   "cell_type": "markdown",
   "metadata": {},
   "source": [
    "Для наглядности, построим график"
   ]
  },
  {
   "cell_type": "code",
   "execution_count": 84,
   "metadata": {
    "scrolled": true
   },
   "outputs": [
    {
     "data": {
      "image/png": "[encoded data removed]",
      "text/plain": [
       "<Figure size 432x288 with 1 Axes>"
      ]
     },
     "metadata": {
      "needs_background": "light"
     },
     "output_type": "display_data"
    }
   ],
   "source": [
    "fig, ax = plt.subplots()\n",
    "\n",
    "ax.axhline(y=family_debt_crosstab.iloc[1, 5], \n",
    "           label='среднее доля должников, по всей базе') #среднее количество должников для все базы клиентов\n",
    "ax.plot(family_debt_crosstab.iloc[1, :5], 'r', \n",
    "        label='доля должников, внутри категории'); #доля должников в каждой группе клиентов\n",
    "\n",
    "plt.legend(loc='upper right', bbox_to_anchor=(1.8, 1))\n",
    "plt.xlabel('Семейное положение, id')\n",
    "plt.ylabel('Доля должников')\n",
    "plt.xlim(left=0)\n",
    "ax.set_title('Количество клиентов, имеющих задолженность в зависимости от семейного положения');"
   ]
  },
  {
   "cell_type": "code",
   "execution_count": 85,
   "metadata": {},
   "outputs": [
    {
     "data": {
      "text/html": [
       "<div>\n",
       "<style scoped>\n",
       "    .dataframe tbody tr th:only-of-type {\n",
       "        vertical-align: middle;\n",
       "    }\n",
       "\n",
       "    .dataframe tbody tr th {\n",
       "        vertical-align: top;\n",
       "    }\n",
       "\n",
       "    .dataframe thead th {\n",
       "        text-align: right;\n",
       "    }\n",
       "</style>\n",
       "<table border=\"1\" class=\"dataframe\">\n",
       "  <thead>\n",
       "    <tr style=\"text-align: right;\">\n",
       "      <th></th>\n",
       "      <th>family_status</th>\n",
       "      <th>family_status_id</th>\n",
       "    </tr>\n",
       "  </thead>\n",
       "  <tbody>\n",
       "    <tr>\n",
       "      <td>0</td>\n",
       "      <td>женат / замужем</td>\n",
       "      <td>0</td>\n",
       "    </tr>\n",
       "    <tr>\n",
       "      <td>1</td>\n",
       "      <td>гражданский брак</td>\n",
       "      <td>1</td>\n",
       "    </tr>\n",
       "    <tr>\n",
       "      <td>2</td>\n",
       "      <td>вдовец / вдова</td>\n",
       "      <td>2</td>\n",
       "    </tr>\n",
       "    <tr>\n",
       "      <td>3</td>\n",
       "      <td>в разводе</td>\n",
       "      <td>3</td>\n",
       "    </tr>\n",
       "    <tr>\n",
       "      <td>4</td>\n",
       "      <td>не женат / не замужем</td>\n",
       "      <td>4</td>\n",
       "    </tr>\n",
       "  </tbody>\n",
       "</table>\n",
       "</div>"
      ],
      "text/plain": [
       "           family_status  family_status_id\n",
       "0        женат / замужем                 0\n",
       "1       гражданский брак                 1\n",
       "2         вдовец / вдова                 2\n",
       "3              в разводе                 3\n",
       "4  не женат / не замужем                 4"
      ]
     },
     "execution_count": 85,
     "metadata": {},
     "output_type": "execute_result"
    }
   ],
   "source": [
    "#обратимся к словарю значений family_status_id и интерпретируем результат\n",
    "family_status_dict"
   ]
  },
  {
   "cell_type": "markdown",
   "metadata": {},
   "source": [
    "Самый высокий процент невозврата у представителей группы 1 и 4 (гражданский брак и не женат / не замужем)  \n",
    "Самый низкий процент невозврата у представителей группы 2 (вдовец / вдова)"
   ]
  },
  {
   "cell_type": "markdown",
   "metadata": {},
   "source": [
    "На всякий случай проверим, достаточно ли данных внутри каждой категории семейного статуса"
   ]
  },
  {
   "cell_type": "code",
   "execution_count": 86,
   "metadata": {},
   "outputs": [
    {
     "data": {
      "text/plain": [
       "0    12339\n",
       "1     4151\n",
       "4     2810\n",
       "3     1195\n",
       "2      959\n",
       "Name: family_status_id, dtype: int64"
      ]
     },
     "execution_count": 86,
     "metadata": {},
     "output_type": "execute_result"
    }
   ],
   "source": [
    "df['family_status_id'].value_counts()"
   ]
  },
  {
   "cell_type": "markdown",
   "metadata": {},
   "source": [
    "Данных достаточно"
   ]
  },
  {
   "cell_type": "markdown",
   "metadata": {},
   "source": [
    "**Вывод**"
   ]
  },
  {
   "cell_type": "markdown",
   "metadata": {},
   "source": [
    "Есть зависимость между семейным положением и возвратом кредита в срок.  \n",
    "- Наибольшая доля должников наблюдается среди клиентов с семейным статусом \"гражданский брак\" и \"не женат / не замужем\"\n",
    "- Наименьшая доля должников наблюдается среди клиентов с семейным статусом \"вдовец / вдова\""
   ]
  },
  {
   "cell_type": "markdown",
   "metadata": {},
   "source": [
    "### Есть ли зависимость между уровнем дохода и возвратом кредита в срок?"
   ]
  },
  {
   "cell_type": "code",
   "execution_count": 88,
   "metadata": {},
   "outputs": [
    {
     "data": {
      "text/plain": [
       "income_category\n",
       "low_low        0.079698\n",
       "low_high       0.081655\n",
       "middle_low     0.086154\n",
       "middle_high    0.089485\n",
       "high_low       0.080000\n",
       "high_high      0.069911\n",
       "Name: debt, dtype: float64"
      ]
     },
     "execution_count": 88,
     "metadata": {},
     "output_type": "execute_result"
    }
   ],
   "source": [
    "income_cat_debt_grouped = df.groupby('income_category')['debt'].mean()\n",
    "income_cat_debt_grouped"
   ]
  },
  {
   "cell_type": "code",
   "execution_count": 89,
   "metadata": {
    "scrolled": true
   },
   "outputs": [
    {
     "data": {
      "image/png": "[encoded data removed]",
      "text/plain": [
       "<Figure size 432x288 with 1 Axes>"
      ]
     },
     "metadata": {
      "needs_background": "light"
     },
     "output_type": "display_data"
    }
   ],
   "source": [
    "fig, ax = plt.subplots()\n",
    "\n",
    "ax.axhline(y=family_debt_crosstab.iloc[1, 5], \n",
    "           label='среднее доля должников, по всей базе') #среднее количество должников для все базы клиентов\n",
    "ax = income_cat_debt_grouped.plot(label='доля должников, внутри категории', style='r') #доля должников в каждой группе клиентов\n",
    "ax.scatter(x=income_cat_debt_grouped.index, y=income_cat_debt_grouped, c='g') #для наглядности, отметим точки на графике\n",
    "\n",
    "plt.legend()\n",
    "plt.xlabel('Категория дохода')\n",
    "plt.ylabel('Доля должников')\n",
    "ax.set_title('Количество клиентов, имеющих задолженность в зависимости от категории дохода');"
   ]
  },
  {
   "cell_type": "markdown",
   "metadata": {},
   "source": [
    "Обратимся к словарю `income_category_dict` чтобы интерпретировать результат."
   ]
  },
  {
   "cell_type": "code",
   "execution_count": 90,
   "metadata": {},
   "outputs": [
    {
     "data": {
      "text/html": [
       "<div>\n",
       "<style scoped>\n",
       "    .dataframe tbody tr th:only-of-type {\n",
       "        vertical-align: middle;\n",
       "    }\n",
       "\n",
       "    .dataframe tbody tr th {\n",
       "        vertical-align: top;\n",
       "    }\n",
       "\n",
       "    .dataframe thead th {\n",
       "        text-align: right;\n",
       "    }\n",
       "</style>\n",
       "<table border=\"1\" class=\"dataframe\">\n",
       "  <thead>\n",
       "    <tr style=\"text-align: right;\">\n",
       "      <th></th>\n",
       "      <th>min</th>\n",
       "      <th>max</th>\n",
       "    </tr>\n",
       "    <tr>\n",
       "      <th>income_category</th>\n",
       "      <th></th>\n",
       "      <th></th>\n",
       "    </tr>\n",
       "  </thead>\n",
       "  <tbody>\n",
       "    <tr>\n",
       "      <td>low_low</td>\n",
       "      <td>20667</td>\n",
       "      <td>92129</td>\n",
       "    </tr>\n",
       "    <tr>\n",
       "      <td>low_high</td>\n",
       "      <td>92164</td>\n",
       "      <td>119872</td>\n",
       "    </tr>\n",
       "    <tr>\n",
       "      <td>middle_low</td>\n",
       "      <td>119874</td>\n",
       "      <td>144121</td>\n",
       "    </tr>\n",
       "    <tr>\n",
       "      <td>middle_high</td>\n",
       "      <td>144133</td>\n",
       "      <td>173242</td>\n",
       "    </tr>\n",
       "    <tr>\n",
       "      <td>high_low</td>\n",
       "      <td>173247</td>\n",
       "      <td>228860</td>\n",
       "    </tr>\n",
       "    <tr>\n",
       "      <td>high_high</td>\n",
       "      <td>228893</td>\n",
       "      <td>2265604</td>\n",
       "    </tr>\n",
       "  </tbody>\n",
       "</table>\n",
       "</div>"
      ],
      "text/plain": [
       "                    min      max\n",
       "income_category                 \n",
       "low_low           20667    92129\n",
       "low_high          92164   119872\n",
       "middle_low       119874   144121\n",
       "middle_high      144133   173242\n",
       "high_low         173247   228860\n",
       "high_high        228893  2265604"
      ]
     },
     "execution_count": 90,
     "metadata": {},
     "output_type": "execute_result"
    }
   ],
   "source": [
    "income_category_dict"
   ]
  },
  {
   "cell_type": "markdown",
   "metadata": {},
   "source": [
    "Видим интересную зависимость  \n",
    "\n",
    "Наибольшая доля должников наблюдается в категории людей с доходом **144133 - 173242**, в то время как наименьшая доля должников находится в группе людей с доходом **228893 - 2265604**"
   ]
  },
  {
   "cell_type": "markdown",
   "metadata": {},
   "source": [
    "**Вывод:**  \n",
    "Зависимость между уровнем дохода и возвратом кредита в срок практически **присутствует**.  \n",
    "\n",
    "Больше всего людей, задержавших выплату по займу находится в группе клиентов с доходом **228893 - 2265604**. В свою очередь, наименьшее количество должников было обнаружено в группе клиентов с наивысшим показателем ежемесячного дохода.  \n",
    "\n",
    "При этом, наблюдается следующая тенденция. По мере увеличения уровня ежемесячного дохода от диапазона **low_low [20667 - 92129)** к диапазону **middle_high [144133 - 173242)** доля должников увеличивается, в то время как начиная с диапазона **high_low [173247 - 228860)** и выше доля должников резко начинает снижаться и располагается ниже среднего уровня доли должников, расчитанного для всей базы."
   ]
  },
  {
   "cell_type": "markdown",
   "metadata": {},
   "source": [
    "### Как разные цели кредита влияют на его возврат в срок?"
   ]
  },
  {
   "cell_type": "markdown",
   "metadata": {},
   "source": [
    "Аналогично тому, как мы анализировали влияния количества детей на факт наличия задолженности, проанализируем, есть ли зависимость между целями кредита и фактом наличия задолженности."
   ]
  },
  {
   "cell_type": "markdown",
   "metadata": {},
   "source": [
    "Построим сводную таблицу:"
   ]
  },
  {
   "cell_type": "code",
   "execution_count": 91,
   "metadata": {},
   "outputs": [
    {
     "data": {
      "text/html": [
       "<div>\n",
       "<style scoped>\n",
       "    .dataframe tbody tr th:only-of-type {\n",
       "        vertical-align: middle;\n",
       "    }\n",
       "\n",
       "    .dataframe tbody tr th {\n",
       "        vertical-align: top;\n",
       "    }\n",
       "\n",
       "    .dataframe thead th {\n",
       "        text-align: right;\n",
       "    }\n",
       "</style>\n",
       "<table border=\"1\" class=\"dataframe\">\n",
       "  <thead>\n",
       "    <tr style=\"text-align: right;\">\n",
       "      <th>purpose_category_id</th>\n",
       "      <th>0</th>\n",
       "      <th>1</th>\n",
       "      <th>2</th>\n",
       "      <th>3</th>\n",
       "      <th>All</th>\n",
       "    </tr>\n",
       "    <tr>\n",
       "      <th>debt</th>\n",
       "      <th></th>\n",
       "      <th></th>\n",
       "      <th></th>\n",
       "      <th></th>\n",
       "      <th></th>\n",
       "    </tr>\n",
       "  </thead>\n",
       "  <tbody>\n",
       "    <tr>\n",
       "      <td>0</td>\n",
       "      <td>0.927666</td>\n",
       "      <td>0.90641</td>\n",
       "      <td>0.9078</td>\n",
       "      <td>0.919966</td>\n",
       "      <td>0.91885</td>\n",
       "    </tr>\n",
       "    <tr>\n",
       "      <td>1</td>\n",
       "      <td>0.072334</td>\n",
       "      <td>0.09359</td>\n",
       "      <td>0.0922</td>\n",
       "      <td>0.080034</td>\n",
       "      <td>0.08115</td>\n",
       "    </tr>\n",
       "  </tbody>\n",
       "</table>\n",
       "</div>"
      ],
      "text/plain": [
       "purpose_category_id         0        1       2         3      All\n",
       "debt                                                             \n",
       "0                    0.927666  0.90641  0.9078  0.919966  0.91885\n",
       "1                    0.072334  0.09359  0.0922  0.080034  0.08115"
      ]
     },
     "execution_count": 91,
     "metadata": {},
     "output_type": "execute_result"
    }
   ],
   "source": [
    "purpose_debt_crosstab = pd.crosstab(index=df['debt'], \n",
    "                                    columns=df['purpose_category_id'], \n",
    "                                    normalize='columns', \n",
    "                                    margins=True)\n",
    "\n",
    "purpose_debt_crosstab"
   ]
  },
  {
   "cell_type": "markdown",
   "metadata": {},
   "source": [
    "Для наглядности, отобразим процент должников внутри каждой группы на графике."
   ]
  },
  {
   "cell_type": "code",
   "execution_count": 92,
   "metadata": {},
   "outputs": [
    {
     "data": {
      "image/png": "[encoded data removed]",
      "text/plain": [
       "<Figure size 432x288 with 1 Axes>"
      ]
     },
     "metadata": {
      "needs_background": "light"
     },
     "output_type": "display_data"
    }
   ],
   "source": [
    "fig, ax = plt.subplots()\n",
    "\n",
    "ax.axhline(y=purpose_debt_crosstab.iloc[1, 4], \n",
    "           label='среднее доля должников, по всей базе') #среднее количество должников для все базы клиентов\n",
    "ax.plot(purpose_debt_crosstab.iloc[1, :4], 'r', \n",
    "    label='доля должников, внутри категории'); #доля должников в каждой группе клиентов\n",
    "\n",
    "plt.legend()\n",
    "plt.xlim(left=0, right=3)\n",
    "plt.xlabel('Цель займа, id')\n",
    "plt.ylabel('Процент должников')\n",
    "ax.set_title('Количество клиентов, имеющих задолженность в зависимости от цели кредита');"
   ]
  },
  {
   "cell_type": "markdown",
   "metadata": {},
   "source": [
    "На графике наглядно видно, что наибольшая доля людей с задолженность находится в группах 1 и 2  \n",
    "В то же время наименьшая доля людей не вернувших долг в срок находится в группе 0"
   ]
  },
  {
   "cell_type": "markdown",
   "metadata": {},
   "source": [
    "Обратимся к словарю значений `family_status_id` и интерпретируем результат"
   ]
  },
  {
   "cell_type": "code",
   "execution_count": 93,
   "metadata": {
    "scrolled": true
   },
   "outputs": [
    {
     "data": {
      "text/html": [
       "<div>\n",
       "<style scoped>\n",
       "    .dataframe tbody tr th:only-of-type {\n",
       "        vertical-align: middle;\n",
       "    }\n",
       "\n",
       "    .dataframe tbody tr th {\n",
       "        vertical-align: top;\n",
       "    }\n",
       "\n",
       "    .dataframe thead th {\n",
       "        text-align: right;\n",
       "    }\n",
       "</style>\n",
       "<table border=\"1\" class=\"dataframe\">\n",
       "  <thead>\n",
       "    <tr style=\"text-align: right;\">\n",
       "      <th></th>\n",
       "      <th>purpose_category_id</th>\n",
       "    </tr>\n",
       "  </thead>\n",
       "  <tbody>\n",
       "    <tr>\n",
       "      <td>недвижимость</td>\n",
       "      <td>0</td>\n",
       "    </tr>\n",
       "    <tr>\n",
       "      <td>покупка автомобиля</td>\n",
       "      <td>1</td>\n",
       "    </tr>\n",
       "    <tr>\n",
       "      <td>образование</td>\n",
       "      <td>2</td>\n",
       "    </tr>\n",
       "    <tr>\n",
       "      <td>свадьба</td>\n",
       "      <td>3</td>\n",
       "    </tr>\n",
       "  </tbody>\n",
       "</table>\n",
       "</div>"
      ],
      "text/plain": [
       "                    purpose_category_id\n",
       "недвижимость                          0\n",
       "покупка автомобиля                    1\n",
       "образование                           2\n",
       "свадьба                               3"
      ]
     },
     "execution_count": 93,
     "metadata": {},
     "output_type": "execute_result"
    }
   ],
   "source": [
    "purpose_category_dict"
   ]
  },
  {
   "cell_type": "markdown",
   "metadata": {},
   "source": [
    "Наибольшая доля людей не вернувших займ в срок находится среди людей, которые брали кредит на цели \"покупка автомобиля\" и \"образование\"\n",
    "Наименьшая доля людей не вернувших займ в срок находится среди людей, которые брали кредит на цели \"недвижимость\""
   ]
  },
  {
   "cell_type": "markdown",
   "metadata": {},
   "source": [
    "На всякий случай проверим, достаточно ли данных внутри каждой категории целей кредита"
   ]
  },
  {
   "cell_type": "code",
   "execution_count": 94,
   "metadata": {},
   "outputs": [
    {
     "data": {
      "text/plain": [
       "0    10811\n",
       "1     4306\n",
       "2     4013\n",
       "3     2324\n",
       "Name: purpose_category_id, dtype: int64"
      ]
     },
     "execution_count": 94,
     "metadata": {},
     "output_type": "execute_result"
    }
   ],
   "source": [
    "df['purpose_category_id'].value_counts()"
   ]
  },
  {
   "cell_type": "markdown",
   "metadata": {},
   "source": [
    "Данных достаточно."
   ]
  },
  {
   "cell_type": "markdown",
   "metadata": {},
   "source": [
    "**Вывод**"
   ]
  },
  {
   "cell_type": "markdown",
   "metadata": {},
   "source": [
    "Цели кредита влияют на срок его возврата.  \n",
    "При этом, наибольшая доля людей не вернувших займ в срок находится среди людей, которые брали кредит на цели \"покупка автомобиля\" и \"образование\", а наименьшая доля - среди людей, которые брали кредит на цели \"недвижимость\""
   ]
  },
  {
   "cell_type": "markdown",
   "metadata": {},
   "source": [
    "## Шаг 4. Общий вывод"
   ]
  },
  {
   "cell_type": "markdown",
   "metadata": {},
   "source": [
    "В ходы работы над предобработкой данных были проделаны следующие шаги:\n",
    "- Были выялвены и устранены ошибки в данных\n",
    "- Были выявленны и удалены явные и неявные дубликаты\n",
    "- Был оптимизирован объем, занимаемый датафремом, за счет оптимизации формата, в котором хранятся переменные таблицы, а также за счет вынесения одинаковых посмыслу признаков в отдельные датафреймы-словари.\n",
    "- Были заполнены пропуски в данных.\n",
    "- Была произведена категоризация признака `purpose`, в результате чего были выделены 4 категории цели взятия кредита, а именно: \n",
    " - образование\n",
    " - покупка автомобиля\n",
    " - свадьба\n",
    " - операции с недвижимостью\n",
    "- Была произведена категоризация клиентов по уровню ежемесячного дохода, путем приминения функции дискретизации на основе квантилей `qcut()` на 6 категорий: `'low_low'`, `'low_high'`, `'middle_low'`, `'middle_high'`, `'high_low'`, `'high_high'`. \n",
    "\n",
    "В ходе аналитической работы, были проверены 4 гипотезы, а именно:\n",
    "1. Есть зависимость между наличием детей и возвратом кредита в срок\n",
    "2. Есть зависимость между семейным положением и возвратом кредита в срок\n",
    "3. Есть зависимость между уровнем дохода и возвратом кредита в срок\n",
    "4. Разные цели кредита влияют на его возврат в срок.  \n",
    "\n",
    "В результате, все 4 гипотезы были подтверждены:\n",
    "1. Есть зависимость между наличием детей и возвратом кредита в срок. Чем больше детей, тем выше вероятность того, что клиент просрочит кредит\n",
    "2. Есть зависимость между семейным положением и возвратом кредита в срок. Человек с большей вероятностью задержит возврат кредита, если он относится к категории клиентов с семейным статусом \"гражданский брак\" и \"не женат / не замужем\". Меньшая вероятность задержки возврата кредита наблюдается у клиентов с семейным статусом \"вдовец / вдова\"\n",
    "3. Есть зависимость между уровнем дохода и возвратом кредита в срок. Наибольшее доля должнико наблюдается в категории клиентов middle_high с доходом [228893 - 2265604). Наименьшая доля клиентов, задержавших выплаты находится в категории high_high [228893 - 2265604). При этом, По мере увеличения уровня ежемесячного дохода от диапазона low_low [20667 - 92129) к диапазону middle_high [144133 - 173242) доля должников увеличивается, в то время как начиная с диапазона high_low [173247 - 228860) и выше доля должников резко начинает снижаться и располагается ниже среднего показателя доли должников, расчитанного для всей базы.\n",
    "4. Разные цели кредита влияют на его возврат в срок. Наибольшая доля клиентов, которые просрочили кредит находится среди клиентов, которые взяли кредит на \"покупку автомобиля\" и на оплату \"образования\", наименьшая - среди людей, которые брали кредит для проведения операций с \"недвижимостью\"  \n",
    "\n",
    "\n"
   ]
  }
 ],
 "metadata": {
  "ExecuteTimeLog": [
   {
    "duration": 683,
    "start_time": "2021-08-11T09:30:20.804Z"
   },
   {
    "duration": 89,
    "start_time": "2021-08-11T09:31:56.770Z"
   },
   {
    "duration": 15,
    "start_time": "2021-08-11T09:33:08.681Z"
   },
   {
    "duration": 13,
    "start_time": "2021-08-11T09:36:32.799Z"
   },
   {
    "duration": 5,
    "start_time": "2021-08-11T09:40:39.650Z"
   },
   {
    "duration": 373,
    "start_time": "2021-08-11T09:40:52.903Z"
   },
   {
    "duration": 6,
    "start_time": "2021-08-11T09:40:54.993Z"
   },
   {
    "duration": 5,
    "start_time": "2021-08-11T09:41:03.106Z"
   },
   {
    "duration": 23,
    "start_time": "2021-08-11T09:41:59.834Z"
   },
   {
    "duration": 25,
    "start_time": "2021-08-11T09:42:21.354Z"
   },
   {
    "duration": 91,
    "start_time": "2021-08-11T09:43:20.951Z"
   },
   {
    "duration": 10,
    "start_time": "2021-08-11T09:44:44.406Z"
   },
   {
    "duration": 464,
    "start_time": "2021-08-11T09:44:57.971Z"
   },
   {
    "duration": 473,
    "start_time": "2021-08-11T09:45:11.937Z"
   },
   {
    "duration": 657,
    "start_time": "2021-08-11T09:45:24.204Z"
   },
   {
    "duration": 25,
    "start_time": "2021-08-11T09:45:58.528Z"
   },
   {
    "duration": 25,
    "start_time": "2021-08-11T09:46:05.643Z"
   },
   {
    "duration": 93,
    "start_time": "2021-08-11T09:46:31.830Z"
   },
   {
    "duration": 24,
    "start_time": "2021-08-11T09:46:42.672Z"
   },
   {
    "duration": 30,
    "start_time": "2021-08-11T09:46:53.679Z"
   },
   {
    "duration": 25,
    "start_time": "2021-08-11T09:46:59.354Z"
   },
   {
    "duration": 262,
    "start_time": "2021-08-11T09:47:19.478Z"
   },
   {
    "duration": 25,
    "start_time": "2021-08-11T09:47:54.878Z"
   },
   {
    "duration": 271,
    "start_time": "2021-08-11T09:48:49.982Z"
   },
   {
    "duration": 24,
    "start_time": "2021-08-11T09:48:56.569Z"
   },
   {
    "duration": 24,
    "start_time": "2021-08-11T09:50:29.235Z"
   },
   {
    "duration": 28,
    "start_time": "2021-08-11T09:51:05.586Z"
   },
   {
    "duration": 26,
    "start_time": "2021-08-11T09:51:09.293Z"
   },
   {
    "duration": 26,
    "start_time": "2021-08-11T09:51:26.601Z"
   },
   {
    "duration": 317,
    "start_time": "2021-08-11T09:51:36.899Z"
   },
   {
    "duration": 26,
    "start_time": "2021-08-11T09:51:45.497Z"
   },
   {
    "duration": 25,
    "start_time": "2021-08-11T09:52:00.391Z"
   },
   {
    "duration": 28,
    "start_time": "2021-08-11T10:04:33.484Z"
   },
   {
    "duration": 270,
    "start_time": "2021-08-11T10:06:10.820Z"
   },
   {
    "duration": 35,
    "start_time": "2021-08-11T10:06:16.029Z"
   },
   {
    "duration": 259,
    "start_time": "2021-08-11T10:07:40.324Z"
   },
   {
    "duration": 36,
    "start_time": "2021-08-11T10:07:44.311Z"
   },
   {
    "duration": 441,
    "start_time": "2021-08-11T10:08:33.906Z"
   },
   {
    "duration": 34,
    "start_time": "2021-08-11T10:08:39.803Z"
   },
   {
    "duration": 8,
    "start_time": "2021-08-11T10:10:02.438Z"
   },
   {
    "duration": 9,
    "start_time": "2021-08-11T10:10:12.616Z"
   },
   {
    "duration": 35,
    "start_time": "2021-08-11T10:10:18.588Z"
   },
   {
    "duration": 18,
    "start_time": "2021-08-11T10:11:55.789Z"
   },
   {
    "duration": 13,
    "start_time": "2021-08-11T10:13:12.301Z"
   },
   {
    "duration": 35,
    "start_time": "2021-08-11T10:15:21.291Z"
   },
   {
    "duration": 40,
    "start_time": "2021-08-11T10:15:32.806Z"
   },
   {
    "duration": 37,
    "start_time": "2021-08-11T10:16:08.304Z"
   },
   {
    "duration": 34,
    "start_time": "2021-08-11T10:16:08.396Z"
   },
   {
    "duration": 25,
    "start_time": "2021-08-11T10:18:09.072Z"
   },
   {
    "duration": 41,
    "start_time": "2021-08-11T10:22:57.400Z"
   },
   {
    "duration": 37,
    "start_time": "2021-08-11T10:23:48.473Z"
   },
   {
    "duration": 39,
    "start_time": "2021-08-11T10:23:51.711Z"
   },
   {
    "duration": 40,
    "start_time": "2021-08-11T10:24:29.689Z"
   },
   {
    "duration": 34,
    "start_time": "2021-08-11T10:25:09.775Z"
   },
   {
    "duration": 37,
    "start_time": "2021-08-11T10:25:41.840Z"
   },
   {
    "duration": 21,
    "start_time": "2021-08-11T10:26:48.944Z"
   },
   {
    "duration": 15,
    "start_time": "2021-08-11T10:27:34.702Z"
   },
   {
    "duration": 9,
    "start_time": "2021-08-11T10:33:04.431Z"
   },
   {
    "duration": 38,
    "start_time": "2021-08-11T10:33:28.549Z"
   },
   {
    "duration": 8,
    "start_time": "2021-08-11T11:10:00.004Z"
   },
   {
    "duration": 7,
    "start_time": "2021-08-11T11:14:01.722Z"
   },
   {
    "duration": 651,
    "start_time": "2021-08-11T11:15:24.418Z"
   },
   {
    "duration": 4,
    "start_time": "2021-08-11T11:16:19.310Z"
   },
   {
    "duration": 59,
    "start_time": "2021-08-11T11:17:17.615Z"
   },
   {
    "duration": 197,
    "start_time": "2021-08-11T11:18:26.435Z"
   },
   {
    "duration": 221,
    "start_time": "2021-08-11T11:18:45.800Z"
   },
   {
    "duration": 215,
    "start_time": "2021-08-11T11:18:53.490Z"
   },
   {
    "duration": 359,
    "start_time": "2021-08-11T11:19:13.952Z"
   },
   {
    "duration": 271,
    "start_time": "2021-08-11T11:19:21.427Z"
   },
   {
    "duration": 407,
    "start_time": "2021-08-11T11:20:08.230Z"
   },
   {
    "duration": 221,
    "start_time": "2021-08-11T11:21:03.050Z"
   },
   {
    "duration": 10,
    "start_time": "2021-08-11T11:31:25.186Z"
   },
   {
    "duration": 10,
    "start_time": "2021-08-11T11:32:54.785Z"
   },
   {
    "duration": 326,
    "start_time": "2021-08-11T11:33:01.708Z"
   },
   {
    "duration": 15,
    "start_time": "2021-08-11T11:33:29.800Z"
   },
   {
    "duration": 16,
    "start_time": "2021-08-11T11:33:52.588Z"
   },
   {
    "duration": 21,
    "start_time": "2021-08-11T11:34:12.455Z"
   },
   {
    "duration": 15,
    "start_time": "2021-08-11T11:34:19.991Z"
   },
   {
    "duration": 40,
    "start_time": "2021-08-11T11:34:47.579Z"
   },
   {
    "duration": 286,
    "start_time": "2021-08-11T11:39:31.885Z"
   },
   {
    "duration": 10,
    "start_time": "2021-08-11T11:44:34.526Z"
   },
   {
    "duration": 41,
    "start_time": "2021-08-11T11:54:03.370Z"
   },
   {
    "duration": 27,
    "start_time": "2021-08-11T11:54:26.756Z"
   },
   {
    "duration": 39,
    "start_time": "2021-08-11T11:54:35.768Z"
   },
   {
    "duration": 85,
    "start_time": "2021-08-11T11:55:08.558Z"
   },
   {
    "duration": 82,
    "start_time": "2021-08-11T11:55:11.779Z"
   },
   {
    "duration": 267,
    "start_time": "2021-08-11T11:55:18.795Z"
   },
   {
    "duration": 278,
    "start_time": "2021-08-11T11:55:30.334Z"
   },
   {
    "duration": 18,
    "start_time": "2021-08-11T11:56:05.978Z"
   },
   {
    "duration": 18,
    "start_time": "2021-08-11T11:58:37.199Z"
   },
   {
    "duration": 85,
    "start_time": "2021-08-11T11:59:30.486Z"
   },
   {
    "duration": 85,
    "start_time": "2021-08-11T11:59:34.773Z"
   },
   {
    "duration": 24,
    "start_time": "2021-08-11T11:59:39.292Z"
   },
   {
    "duration": 13,
    "start_time": "2021-08-11T12:01:53.045Z"
   },
   {
    "duration": 8,
    "start_time": "2021-08-11T12:02:07.622Z"
   },
   {
    "duration": 8,
    "start_time": "2021-08-11T12:02:25.531Z"
   },
   {
    "duration": 19,
    "start_time": "2021-08-11T12:06:10.200Z"
   },
   {
    "duration": 18,
    "start_time": "2021-08-11T12:06:16.823Z"
   },
   {
    "duration": 18,
    "start_time": "2021-08-11T12:06:19.644Z"
   },
   {
    "duration": 14,
    "start_time": "2021-08-11T12:06:57.245Z"
   },
   {
    "duration": 27,
    "start_time": "2021-08-11T12:08:14.906Z"
   },
   {
    "duration": 36,
    "start_time": "2021-08-11T12:08:47.646Z"
   },
   {
    "duration": 22,
    "start_time": "2021-08-11T12:09:42.400Z"
   },
   {
    "duration": 19,
    "start_time": "2021-08-11T12:09:52.416Z"
   },
   {
    "duration": 21,
    "start_time": "2021-08-11T12:11:09.637Z"
   },
   {
    "duration": 11,
    "start_time": "2021-08-11T12:14:54.763Z"
   },
   {
    "duration": 10,
    "start_time": "2021-08-11T12:19:44.388Z"
   },
   {
    "duration": 39,
    "start_time": "2021-08-11T12:19:49.766Z"
   },
   {
    "duration": 8,
    "start_time": "2021-08-11T12:19:56.966Z"
   },
   {
    "duration": 5,
    "start_time": "2021-08-11T12:21:28.545Z"
   },
   {
    "duration": 251,
    "start_time": "2021-08-11T12:21:32.915Z"
   },
   {
    "duration": 6,
    "start_time": "2021-08-11T12:21:39.553Z"
   },
   {
    "duration": 20,
    "start_time": "2021-08-11T12:23:00.273Z"
   },
   {
    "duration": 24,
    "start_time": "2021-08-11T12:24:30.608Z"
   },
   {
    "duration": 14,
    "start_time": "2021-08-11T12:30:05.874Z"
   },
   {
    "duration": 40,
    "start_time": "2021-08-11T12:30:11.029Z"
   },
   {
    "duration": 12,
    "start_time": "2021-08-11T12:30:39.487Z"
   },
   {
    "duration": 12,
    "start_time": "2021-08-11T12:30:44.086Z"
   },
   {
    "duration": 17,
    "start_time": "2021-08-11T12:31:06.675Z"
   },
   {
    "duration": 14,
    "start_time": "2021-08-11T12:32:20.989Z"
   },
   {
    "duration": 14,
    "start_time": "2021-08-11T12:32:39.244Z"
   },
   {
    "duration": 9,
    "start_time": "2021-08-11T13:02:19.567Z"
   },
   {
    "duration": 12,
    "start_time": "2021-08-11T13:02:40.594Z"
   },
   {
    "duration": 9,
    "start_time": "2021-08-11T13:02:41.308Z"
   },
   {
    "duration": 11,
    "start_time": "2021-08-11T13:06:20.263Z"
   },
   {
    "duration": 87,
    "start_time": "2021-08-11T13:07:12.048Z"
   },
   {
    "duration": 112,
    "start_time": "2021-08-11T13:10:23.744Z"
   },
   {
    "duration": 85,
    "start_time": "2021-08-11T13:11:02.602Z"
   },
   {
    "duration": 14,
    "start_time": "2021-08-11T13:13:14.095Z"
   },
   {
    "duration": 9,
    "start_time": "2021-08-11T13:13:24.949Z"
   },
   {
    "duration": 9,
    "start_time": "2021-08-11T13:14:02.542Z"
   },
   {
    "duration": 13,
    "start_time": "2021-08-11T13:15:03.448Z"
   },
   {
    "duration": 8,
    "start_time": "2021-08-11T13:15:06.132Z"
   },
   {
    "duration": 15,
    "start_time": "2021-08-11T13:15:06.397Z"
   },
   {
    "duration": 7,
    "start_time": "2021-08-11T13:15:07.235Z"
   },
   {
    "duration": 8,
    "start_time": "2021-08-11T13:20:38.201Z"
   },
   {
    "duration": 9,
    "start_time": "2021-08-11T13:21:13.023Z"
   },
   {
    "duration": 10,
    "start_time": "2021-08-11T13:22:38.535Z"
   },
   {
    "duration": 15,
    "start_time": "2021-08-11T13:22:47.560Z"
   },
   {
    "duration": 24,
    "start_time": "2021-08-11T13:24:52.661Z"
   },
   {
    "duration": 19,
    "start_time": "2021-08-11T13:28:56.148Z"
   },
   {
    "duration": 14,
    "start_time": "2021-08-11T13:29:07.528Z"
   },
   {
    "duration": 7,
    "start_time": "2021-08-11T13:29:20.366Z"
   },
   {
    "duration": 24,
    "start_time": "2021-08-11T13:30:45.973Z"
   },
   {
    "duration": 18,
    "start_time": "2021-08-11T13:31:00.795Z"
   },
   {
    "duration": 284,
    "start_time": "2021-08-11T13:31:23.222Z"
   },
   {
    "duration": 16,
    "start_time": "2021-08-11T13:31:38.583Z"
   },
   {
    "duration": 252,
    "start_time": "2021-08-11T13:32:07.788Z"
   },
   {
    "duration": 246,
    "start_time": "2021-08-11T13:32:28.176Z"
   },
   {
    "duration": 6195,
    "start_time": "2021-08-11T13:34:50.868Z"
   },
   {
    "duration": 6489,
    "start_time": "2021-08-11T13:35:07.177Z"
   },
   {
    "duration": 6013,
    "start_time": "2021-08-11T13:35:18.446Z"
   },
   {
    "duration": 6882,
    "start_time": "2021-08-11T13:36:22.971Z"
   },
   {
    "duration": 21,
    "start_time": "2021-08-11T13:36:56.648Z"
   },
   {
    "duration": 262,
    "start_time": "2021-08-11T13:37:22.465Z"
   },
   {
    "duration": 14,
    "start_time": "2021-08-11T13:37:47.221Z"
   },
   {
    "duration": 14,
    "start_time": "2021-08-11T13:38:01.276Z"
   },
   {
    "duration": 16,
    "start_time": "2021-08-11T13:38:10.214Z"
   },
   {
    "duration": 267,
    "start_time": "2021-08-11T13:38:30.813Z"
   },
   {
    "duration": 293,
    "start_time": "2021-08-11T13:38:35.203Z"
   },
   {
    "duration": 15,
    "start_time": "2021-08-11T13:38:42.766Z"
   },
   {
    "duration": 14,
    "start_time": "2021-08-11T13:39:16.398Z"
   },
   {
    "duration": 13,
    "start_time": "2021-08-11T13:47:36.375Z"
   },
   {
    "duration": 14,
    "start_time": "2021-08-11T13:47:49.997Z"
   },
   {
    "duration": 5,
    "start_time": "2021-08-11T13:49:10.523Z"
   },
   {
    "duration": 5,
    "start_time": "2021-08-11T13:49:15.516Z"
   },
   {
    "duration": 5,
    "start_time": "2021-08-11T13:49:30.507Z"
   },
   {
    "duration": 5,
    "start_time": "2021-08-11T13:49:52.880Z"
   },
   {
    "duration": 5,
    "start_time": "2021-08-11T13:53:21.534Z"
   },
   {
    "duration": 14,
    "start_time": "2021-08-11T13:55:02.056Z"
   },
   {
    "duration": 486,
    "start_time": "2021-08-11T13:55:20.818Z"
   },
   {
    "duration": 4,
    "start_time": "2021-08-11T13:58:25.753Z"
   },
   {
    "duration": 5,
    "start_time": "2021-08-11T14:01:27.262Z"
   },
   {
    "duration": 548,
    "start_time": "2021-08-11T14:01:28.121Z"
   },
   {
    "duration": 16,
    "start_time": "2021-08-11T14:02:54.860Z"
   },
   {
    "duration": 15,
    "start_time": "2021-08-11T14:03:01.444Z"
   },
   {
    "duration": 5,
    "start_time": "2021-08-11T14:03:02.213Z"
   },
   {
    "duration": 364,
    "start_time": "2021-08-11T14:03:35.167Z"
   },
   {
    "duration": 14,
    "start_time": "2021-08-11T14:03:50.114Z"
   },
   {
    "duration": 5,
    "start_time": "2021-08-11T14:03:53.820Z"
   },
   {
    "duration": 579,
    "start_time": "2021-08-11T14:04:01.263Z"
   },
   {
    "duration": 5,
    "start_time": "2021-08-11T14:07:01.717Z"
   },
   {
    "duration": 537,
    "start_time": "2021-08-11T14:07:05.349Z"
   },
   {
    "duration": 111,
    "start_time": "2021-08-11T14:09:12.890Z"
   },
   {
    "duration": 80,
    "start_time": "2021-08-11T14:09:22.547Z"
   },
   {
    "duration": 6,
    "start_time": "2021-08-11T14:09:41.591Z"
   },
   {
    "duration": 6,
    "start_time": "2021-08-11T14:10:10.641Z"
   },
   {
    "duration": 534,
    "start_time": "2021-08-11T14:10:17.697Z"
   },
   {
    "duration": 6,
    "start_time": "2021-08-11T14:10:27.886Z"
   },
   {
    "duration": 149085,
    "start_time": "2021-08-11T14:10:33.932Z"
   },
   {
    "duration": 3521,
    "start_time": "2021-08-11T14:19:53.329Z"
   },
   {
    "duration": 273,
    "start_time": "2021-08-11T14:20:16.236Z"
   },
   {
    "duration": 1109,
    "start_time": "2021-08-11T14:20:51.723Z"
   },
   {
    "duration": 1484,
    "start_time": "2021-08-11T14:21:43.773Z"
   },
   {
    "duration": 82,
    "start_time": "2021-08-11T14:21:45.260Z"
   },
   {
    "duration": 16,
    "start_time": "2021-08-11T14:21:45.345Z"
   },
   {
    "duration": 23,
    "start_time": "2021-08-11T14:21:45.364Z"
   },
   {
    "duration": 14,
    "start_time": "2021-08-11T14:21:45.389Z"
   },
   {
    "duration": 32,
    "start_time": "2021-08-11T14:21:45.405Z"
   },
   {
    "duration": 42,
    "start_time": "2021-08-11T14:21:45.439Z"
   },
   {
    "duration": 49,
    "start_time": "2021-08-11T14:21:45.485Z"
   },
   {
    "duration": 42,
    "start_time": "2021-08-11T14:21:45.537Z"
   },
   {
    "duration": 36,
    "start_time": "2021-08-11T14:21:45.582Z"
   },
   {
    "duration": 42,
    "start_time": "2021-08-11T14:21:45.621Z"
   },
   {
    "duration": 25,
    "start_time": "2021-08-11T14:21:45.666Z"
   },
   {
    "duration": 24,
    "start_time": "2021-08-11T14:21:45.693Z"
   },
   {
    "duration": 9,
    "start_time": "2021-08-11T14:21:45.719Z"
   },
   {
    "duration": 33,
    "start_time": "2021-08-11T14:21:45.730Z"
   },
   {
    "duration": 37,
    "start_time": "2021-08-11T14:21:45.766Z"
   },
   {
    "duration": 32,
    "start_time": "2021-08-11T14:21:45.805Z"
   },
   {
    "duration": 30,
    "start_time": "2021-08-11T14:21:45.839Z"
   },
   {
    "duration": 18,
    "start_time": "2021-08-11T14:21:45.871Z"
   },
   {
    "duration": 148429,
    "start_time": "2021-08-11T14:21:45.892Z"
   },
   {
    "duration": 30,
    "start_time": "2021-08-11T14:24:14.324Z"
   },
   {
    "duration": 7,
    "start_time": "2021-08-11T14:24:14.359Z"
   },
   {
    "duration": 21,
    "start_time": "2021-08-11T14:24:14.370Z"
   },
   {
    "duration": 11,
    "start_time": "2021-08-11T14:24:14.395Z"
   },
   {
    "duration": 46,
    "start_time": "2021-08-11T14:24:14.408Z"
   },
   {
    "duration": 329,
    "start_time": "2021-08-13T07:17:02.138Z"
   },
   {
    "duration": 1769,
    "start_time": "2021-08-13T07:17:14.769Z"
   },
   {
    "duration": 83,
    "start_time": "2021-08-13T07:17:16.540Z"
   },
   {
    "duration": 22,
    "start_time": "2021-08-13T07:17:16.625Z"
   },
   {
    "duration": 19,
    "start_time": "2021-08-13T07:17:16.662Z"
   },
   {
    "duration": 8,
    "start_time": "2021-08-13T07:17:16.684Z"
   },
   {
    "duration": 27,
    "start_time": "2021-08-13T07:17:16.695Z"
   },
   {
    "duration": 25,
    "start_time": "2021-08-13T07:17:16.763Z"
   },
   {
    "duration": 86,
    "start_time": "2021-08-13T07:17:16.793Z"
   },
   {
    "duration": 79,
    "start_time": "2021-08-13T07:17:16.883Z"
   },
   {
    "duration": 55,
    "start_time": "2021-08-13T07:17:16.965Z"
   },
   {
    "duration": 65,
    "start_time": "2021-08-13T07:17:17.023Z"
   },
   {
    "duration": 21,
    "start_time": "2021-08-13T07:17:17.091Z"
   },
   {
    "duration": 15,
    "start_time": "2021-08-13T07:17:17.115Z"
   },
   {
    "duration": 12,
    "start_time": "2021-08-13T07:17:17.162Z"
   },
   {
    "duration": 17,
    "start_time": "2021-08-13T07:17:17.177Z"
   },
   {
    "duration": 19,
    "start_time": "2021-08-13T07:17:17.197Z"
   },
   {
    "duration": 44,
    "start_time": "2021-08-13T07:17:17.219Z"
   },
   {
    "duration": 17,
    "start_time": "2021-08-13T07:17:17.266Z"
   },
   {
    "duration": 7,
    "start_time": "2021-08-13T07:17:17.285Z"
   },
   {
    "duration": 5,
    "start_time": "2021-08-13T07:19:37.674Z"
   },
   {
    "duration": 11,
    "start_time": "2021-08-13T07:19:37.685Z"
   },
   {
    "duration": 9,
    "start_time": "2021-08-13T07:19:37.699Z"
   },
   {
    "duration": 63,
    "start_time": "2021-08-13T07:19:37.710Z"
   },
   {
    "duration": 4,
    "start_time": "2021-08-13T07:19:37.795Z"
   },
   {
    "duration": 100,
    "start_time": "2021-08-13T07:19:37.802Z"
   },
   {
    "duration": 15,
    "start_time": "2021-08-13T07:19:37.905Z"
   },
   {
    "duration": 41,
    "start_time": "2021-08-13T07:19:37.923Z"
   },
   {
    "duration": 8,
    "start_time": "2021-08-13T07:19:37.967Z"
   },
   {
    "duration": 33,
    "start_time": "2021-08-13T07:19:37.977Z"
   },
   {
    "duration": 51,
    "start_time": "2021-08-13T07:19:38.012Z"
   },
   {
    "duration": 40,
    "start_time": "2021-08-13T07:19:38.065Z"
   },
   {
    "duration": 59,
    "start_time": "2021-08-13T07:19:38.108Z"
   },
   {
    "duration": 21,
    "start_time": "2021-08-13T07:19:38.170Z"
   },
   {
    "duration": 22,
    "start_time": "2021-08-13T07:19:38.194Z"
   },
   {
    "duration": 55,
    "start_time": "2021-08-13T07:19:38.218Z"
   },
   {
    "duration": 13,
    "start_time": "2021-08-13T07:19:38.275Z"
   },
   {
    "duration": 11,
    "start_time": "2021-08-13T07:19:38.290Z"
   },
   {
    "duration": 23,
    "start_time": "2021-08-13T07:19:38.303Z"
   },
   {
    "duration": 34,
    "start_time": "2021-08-13T07:19:38.328Z"
   },
   {
    "duration": 10,
    "start_time": "2021-08-13T07:19:38.364Z"
   },
   {
    "duration": 20,
    "start_time": "2021-08-13T07:19:38.376Z"
   },
   {
    "duration": 5,
    "start_time": "2021-08-13T07:19:38.398Z"
   },
   {
    "duration": 17,
    "start_time": "2021-08-13T07:21:58.581Z"
   },
   {
    "duration": 60,
    "start_time": "2021-08-13T07:21:58.610Z"
   },
   {
    "duration": 15,
    "start_time": "2021-08-13T07:21:58.673Z"
   },
   {
    "duration": 21933,
    "start_time": "2021-08-13T07:21:58.691Z"
   },
   {
    "duration": 36,
    "start_time": "2021-08-13T07:22:20.627Z"
   },
   {
    "duration": 5,
    "start_time": "2021-08-13T07:22:56.667Z"
   },
   {
    "duration": 9,
    "start_time": "2021-08-13T07:23:07.315Z"
   },
   {
    "duration": 27,
    "start_time": "2021-08-13T07:24:42.523Z"
   },
   {
    "duration": 20,
    "start_time": "2021-08-13T07:24:57.275Z"
   },
   {
    "duration": 20,
    "start_time": "2021-08-13T07:26:07.031Z"
   },
   {
    "duration": 6,
    "start_time": "2021-08-13T07:26:23.260Z"
   },
   {
    "duration": 23986,
    "start_time": "2021-08-13T07:26:33.364Z"
   },
   {
    "duration": 24,
    "start_time": "2021-08-13T07:26:57.354Z"
   },
   {
    "duration": 21,
    "start_time": "2021-08-13T07:27:06.341Z"
   },
   {
    "duration": 14,
    "start_time": "2021-08-13T07:27:49.218Z"
   },
   {
    "duration": 13,
    "start_time": "2021-08-13T07:28:14.582Z"
   },
   {
    "duration": 22,
    "start_time": "2021-08-13T07:28:23.548Z"
   },
   {
    "duration": 21,
    "start_time": "2021-08-13T07:28:56.196Z"
   },
   {
    "duration": 8,
    "start_time": "2021-08-13T07:29:06.470Z"
   },
   {
    "duration": 6828,
    "start_time": "2021-08-13T07:29:17.096Z"
   },
   {
    "duration": 315,
    "start_time": "2021-08-13T07:29:45.730Z"
   },
   {
    "duration": 1613,
    "start_time": "2021-08-13T07:30:34.535Z"
   },
   {
    "duration": 81,
    "start_time": "2021-08-13T07:30:36.151Z"
   },
   {
    "duration": 27,
    "start_time": "2021-08-13T07:30:36.235Z"
   },
   {
    "duration": 17,
    "start_time": "2021-08-13T07:30:36.265Z"
   },
   {
    "duration": 7,
    "start_time": "2021-08-13T07:30:36.284Z"
   },
   {
    "duration": 27,
    "start_time": "2021-08-13T07:30:36.293Z"
   },
   {
    "duration": 22,
    "start_time": "2021-08-13T07:30:36.362Z"
   },
   {
    "duration": 46,
    "start_time": "2021-08-13T07:30:36.387Z"
   },
   {
    "duration": 26,
    "start_time": "2021-08-13T07:30:36.461Z"
   },
   {
    "duration": 22,
    "start_time": "2021-08-13T07:30:36.490Z"
   },
   {
    "duration": 53,
    "start_time": "2021-08-13T07:30:36.514Z"
   },
   {
    "duration": 15,
    "start_time": "2021-08-13T07:30:36.569Z"
   },
   {
    "duration": 29,
    "start_time": "2021-08-13T07:30:36.586Z"
   },
   {
    "duration": 18,
    "start_time": "2021-08-13T07:30:36.617Z"
   },
   {
    "duration": 32,
    "start_time": "2021-08-13T07:30:36.637Z"
   },
   {
    "duration": 7,
    "start_time": "2021-08-13T07:30:36.671Z"
   },
   {
    "duration": 35,
    "start_time": "2021-08-13T07:30:36.681Z"
   },
   {
    "duration": 15,
    "start_time": "2021-08-13T07:30:36.718Z"
   },
   {
    "duration": 14514,
    "start_time": "2021-08-13T07:30:36.735Z"
   },
   {
    "duration": 24,
    "start_time": "2021-08-13T07:30:51.252Z"
   },
   {
    "duration": 15,
    "start_time": "2021-08-13T07:30:51.279Z"
   },
   {
    "duration": 12,
    "start_time": "2021-08-13T07:30:51.296Z"
   },
   {
    "duration": 12,
    "start_time": "2021-08-13T07:30:51.311Z"
   },
   {
    "duration": 48,
    "start_time": "2021-08-13T07:30:51.326Z"
   },
   {
    "duration": 15,
    "start_time": "2021-08-13T07:30:51.377Z"
   },
   {
    "duration": 20,
    "start_time": "2021-08-13T07:30:51.395Z"
   },
   {
    "duration": 5,
    "start_time": "2021-08-13T07:30:51.419Z"
   },
   {
    "duration": 15855,
    "start_time": "2021-08-13T07:30:51.463Z"
   },
   {
    "duration": 22,
    "start_time": "2021-08-13T07:31:07.320Z"
   },
   {
    "duration": 33,
    "start_time": "2021-08-13T07:31:07.345Z"
   },
   {
    "duration": 19,
    "start_time": "2021-08-13T07:31:07.381Z"
   },
   {
    "duration": 19,
    "start_time": "2021-08-13T07:31:07.402Z"
   },
   {
    "duration": 56,
    "start_time": "2021-08-13T07:31:07.424Z"
   },
   {
    "duration": 16,
    "start_time": "2021-08-13T07:43:30.870Z"
   },
   {
    "duration": 9,
    "start_time": "2021-08-13T07:46:30.728Z"
   },
   {
    "duration": 11,
    "start_time": "2021-08-13T07:46:40.757Z"
   },
   {
    "duration": 84,
    "start_time": "2021-08-13T07:47:57.099Z"
   },
   {
    "duration": 318,
    "start_time": "2021-08-13T07:48:00.835Z"
   },
   {
    "duration": 428,
    "start_time": "2021-08-13T07:48:33.548Z"
   },
   {
    "duration": 326,
    "start_time": "2021-08-13T07:48:39.163Z"
   },
   {
    "duration": 330,
    "start_time": "2021-08-13T07:49:31.355Z"
   },
   {
    "duration": 326,
    "start_time": "2021-08-13T07:49:38.748Z"
   },
   {
    "duration": 510,
    "start_time": "2021-08-13T07:50:12.987Z"
   },
   {
    "duration": 276,
    "start_time": "2021-08-13T07:50:27.184Z"
   },
   {
    "duration": 607,
    "start_time": "2021-08-13T07:50:42.125Z"
   },
   {
    "duration": 269,
    "start_time": "2021-08-13T07:50:47.089Z"
   },
   {
    "duration": 1483,
    "start_time": "2021-08-13T07:55:51.565Z"
   },
   {
    "duration": 83,
    "start_time": "2021-08-13T07:55:53.051Z"
   },
   {
    "duration": 28,
    "start_time": "2021-08-13T07:55:53.138Z"
   },
   {
    "duration": 17,
    "start_time": "2021-08-13T07:55:53.169Z"
   },
   {
    "duration": 7,
    "start_time": "2021-08-13T07:55:53.188Z"
   },
   {
    "duration": 66,
    "start_time": "2021-08-13T07:55:53.197Z"
   },
   {
    "duration": 25,
    "start_time": "2021-08-13T07:55:53.265Z"
   },
   {
    "duration": 24,
    "start_time": "2021-08-13T07:55:53.294Z"
   },
   {
    "duration": 61,
    "start_time": "2021-08-13T07:55:53.321Z"
   },
   {
    "duration": 24,
    "start_time": "2021-08-13T07:55:53.385Z"
   },
   {
    "duration": 70,
    "start_time": "2021-08-13T07:55:53.413Z"
   },
   {
    "duration": 22,
    "start_time": "2021-08-13T07:55:53.486Z"
   },
   {
    "duration": 11,
    "start_time": "2021-08-13T07:55:53.510Z"
   },
   {
    "duration": 41,
    "start_time": "2021-08-13T07:55:53.524Z"
   },
   {
    "duration": 22,
    "start_time": "2021-08-13T07:55:53.568Z"
   },
   {
    "duration": 23,
    "start_time": "2021-08-13T07:55:53.593Z"
   },
   {
    "duration": 45,
    "start_time": "2021-08-13T07:55:53.619Z"
   },
   {
    "duration": 18,
    "start_time": "2021-08-13T07:55:53.667Z"
   },
   {
    "duration": 14398,
    "start_time": "2021-08-13T07:55:53.688Z"
   },
   {
    "duration": 20,
    "start_time": "2021-08-13T07:56:08.088Z"
   },
   {
    "duration": 5,
    "start_time": "2021-08-13T07:56:08.111Z"
   },
   {
    "duration": 11,
    "start_time": "2021-08-13T07:56:08.118Z"
   },
   {
    "duration": 21,
    "start_time": "2021-08-13T07:56:08.161Z"
   },
   {
    "duration": 14,
    "start_time": "2021-08-13T07:56:08.185Z"
   },
   {
    "duration": 20,
    "start_time": "2021-08-13T07:56:08.201Z"
   },
   {
    "duration": 41,
    "start_time": "2021-08-13T07:56:08.224Z"
   },
   {
    "duration": 15215,
    "start_time": "2021-08-13T07:56:08.268Z"
   },
   {
    "duration": 21,
    "start_time": "2021-08-13T07:56:23.485Z"
   },
   {
    "duration": 21,
    "start_time": "2021-08-13T07:56:23.509Z"
   },
   {
    "duration": 41,
    "start_time": "2021-08-13T07:56:23.532Z"
   },
   {
    "duration": 20,
    "start_time": "2021-08-13T07:56:23.575Z"
   },
   {
    "duration": 19,
    "start_time": "2021-08-13T07:56:23.597Z"
   },
   {
    "duration": 43,
    "start_time": "2021-08-13T07:56:23.618Z"
   },
   {
    "duration": 3,
    "start_time": "2021-08-13T07:56:23.664Z"
   },
   {
    "duration": 9,
    "start_time": "2021-08-13T07:56:36.901Z"
   },
   {
    "duration": 9,
    "start_time": "2021-08-13T07:56:40.378Z"
   },
   {
    "duration": 8,
    "start_time": "2021-08-13T07:56:46.483Z"
   },
   {
    "duration": 8,
    "start_time": "2021-08-13T07:56:50.552Z"
   },
   {
    "duration": 8,
    "start_time": "2021-08-13T07:56:55.061Z"
   },
   {
    "duration": 9,
    "start_time": "2021-08-13T07:56:58.251Z"
   },
   {
    "duration": 8,
    "start_time": "2021-08-13T07:57:10.969Z"
   },
   {
    "duration": 9,
    "start_time": "2021-08-13T07:57:14.086Z"
   },
   {
    "duration": 473,
    "start_time": "2021-08-13T07:57:40.872Z"
   },
   {
    "duration": 171729,
    "start_time": "2021-08-13T07:57:55.848Z"
   },
   {
    "duration": 307,
    "start_time": "2021-08-13T08:01:07.737Z"
   },
   {
    "duration": 303,
    "start_time": "2021-08-13T08:01:20.122Z"
   },
   {
    "duration": 1555,
    "start_time": "2021-08-14T11:21:38.680Z"
   },
   {
    "duration": 79,
    "start_time": "2021-08-14T11:21:40.237Z"
   },
   {
    "duration": 15,
    "start_time": "2021-08-14T11:21:40.319Z"
   },
   {
    "duration": 31,
    "start_time": "2021-08-14T11:21:40.337Z"
   },
   {
    "duration": 8,
    "start_time": "2021-08-14T11:21:40.371Z"
   },
   {
    "duration": 29,
    "start_time": "2021-08-14T11:21:40.381Z"
   },
   {
    "duration": 56,
    "start_time": "2021-08-14T11:21:40.412Z"
   },
   {
    "duration": 21,
    "start_time": "2021-08-14T11:21:40.473Z"
   },
   {
    "duration": 59,
    "start_time": "2021-08-14T11:21:40.498Z"
   },
   {
    "duration": 26,
    "start_time": "2021-08-14T11:21:40.560Z"
   },
   {
    "duration": 24,
    "start_time": "2021-08-14T11:21:40.589Z"
   },
   {
    "duration": 52,
    "start_time": "2021-08-14T11:21:40.616Z"
   },
   {
    "duration": 15,
    "start_time": "2021-08-14T11:21:40.670Z"
   },
   {
    "duration": 9,
    "start_time": "2021-08-14T11:21:40.688Z"
   },
   {
    "duration": 26,
    "start_time": "2021-08-14T11:21:40.699Z"
   },
   {
    "duration": 8,
    "start_time": "2021-08-14T11:21:40.757Z"
   },
   {
    "duration": 34,
    "start_time": "2021-08-14T11:21:40.767Z"
   },
   {
    "duration": 15,
    "start_time": "2021-08-14T11:21:40.803Z"
   },
   {
    "duration": 14415,
    "start_time": "2021-08-14T11:21:40.820Z"
   },
   {
    "duration": 25,
    "start_time": "2021-08-14T11:21:55.237Z"
   },
   {
    "duration": 1063,
    "start_time": "2021-08-15T10:23:33.842Z"
   },
   {
    "duration": 63,
    "start_time": "2021-08-15T10:23:34.907Z"
   },
   {
    "duration": 15,
    "start_time": "2021-08-15T10:23:34.972Z"
   },
   {
    "duration": 12,
    "start_time": "2021-08-15T10:23:34.989Z"
   },
   {
    "duration": 5,
    "start_time": "2021-08-15T10:23:35.002Z"
   },
   {
    "duration": 18,
    "start_time": "2021-08-15T10:23:35.009Z"
   },
   {
    "duration": 15,
    "start_time": "2021-08-15T10:23:35.028Z"
   },
   {
    "duration": 53,
    "start_time": "2021-08-15T10:23:35.046Z"
   },
   {
    "duration": 17,
    "start_time": "2021-08-15T10:23:35.101Z"
   },
   {
    "duration": 14,
    "start_time": "2021-08-15T10:23:35.120Z"
   },
   {
    "duration": 18,
    "start_time": "2021-08-15T10:23:35.135Z"
   },
   {
    "duration": 39,
    "start_time": "2021-08-15T10:23:35.155Z"
   },
   {
    "duration": 11,
    "start_time": "2021-08-15T10:23:35.195Z"
   },
   {
    "duration": 6,
    "start_time": "2021-08-15T10:23:35.208Z"
   },
   {
    "duration": 10,
    "start_time": "2021-08-15T10:23:35.216Z"
   },
   {
    "duration": 6,
    "start_time": "2021-08-15T10:23:35.228Z"
   },
   {
    "duration": 60,
    "start_time": "2021-08-15T10:23:35.236Z"
   },
   {
    "duration": 13,
    "start_time": "2021-08-15T10:23:35.298Z"
   },
   {
    "duration": 8450,
    "start_time": "2021-08-15T10:23:35.313Z"
   },
   {
    "duration": 20,
    "start_time": "2021-08-15T10:23:43.765Z"
   },
   {
    "duration": 3,
    "start_time": "2021-08-15T10:23:43.786Z"
   },
   {
    "duration": 23,
    "start_time": "2021-08-15T10:23:43.791Z"
   },
   {
    "duration": 22,
    "start_time": "2021-08-15T10:23:43.818Z"
   },
   {
    "duration": 10,
    "start_time": "2021-08-15T10:23:43.842Z"
   },
   {
    "duration": 19,
    "start_time": "2021-08-15T10:23:43.853Z"
   },
   {
    "duration": 19,
    "start_time": "2021-08-15T10:23:43.874Z"
   },
   {
    "duration": 9224,
    "start_time": "2021-08-15T10:23:43.894Z"
   },
   {
    "duration": 15,
    "start_time": "2021-08-15T10:23:53.119Z"
   },
   {
    "duration": 11,
    "start_time": "2021-08-15T10:23:53.136Z"
   },
   {
    "duration": 40,
    "start_time": "2021-08-15T10:23:53.149Z"
   },
   {
    "duration": 15,
    "start_time": "2021-08-15T10:23:53.190Z"
   },
   {
    "duration": 3,
    "start_time": "2021-08-15T10:24:04.953Z"
   },
   {
    "duration": 6,
    "start_time": "2021-08-15T10:29:12.870Z"
   },
   {
    "duration": 11,
    "start_time": "2021-08-15T10:29:22.941Z"
   },
   {
    "duration": 8,
    "start_time": "2021-08-15T10:31:40.724Z"
   },
   {
    "duration": 12,
    "start_time": "2021-08-15T10:31:41.167Z"
   },
   {
    "duration": 7,
    "start_time": "2021-08-15T10:32:12.731Z"
   },
   {
    "duration": 8,
    "start_time": "2021-08-15T10:33:23.901Z"
   },
   {
    "duration": 11,
    "start_time": "2021-08-15T10:33:24.421Z"
   },
   {
    "duration": 9,
    "start_time": "2021-08-15T10:36:41.849Z"
   },
   {
    "duration": 13,
    "start_time": "2021-08-15T10:36:42.840Z"
   },
   {
    "duration": 10,
    "start_time": "2021-08-15T10:37:20.927Z"
   },
   {
    "duration": 11,
    "start_time": "2021-08-15T10:37:21.670Z"
   },
   {
    "duration": 11,
    "start_time": "2021-08-15T10:37:53.632Z"
   },
   {
    "duration": 11,
    "start_time": "2021-08-15T10:37:54.116Z"
   },
   {
    "duration": 12,
    "start_time": "2021-08-15T10:41:39.897Z"
   },
   {
    "duration": 8,
    "start_time": "2021-08-15T10:42:00.519Z"
   },
   {
    "duration": 8,
    "start_time": "2021-08-15T10:42:06.350Z"
   },
   {
    "duration": 7,
    "start_time": "2021-08-15T10:44:42.055Z"
   },
   {
    "duration": 7,
    "start_time": "2021-08-15T10:46:04.450Z"
   },
   {
    "duration": 8,
    "start_time": "2021-08-15T10:46:14.216Z"
   },
   {
    "duration": 7,
    "start_time": "2021-08-15T10:49:59.545Z"
   },
   {
    "duration": 8,
    "start_time": "2021-08-15T10:50:02.282Z"
   },
   {
    "duration": 11,
    "start_time": "2021-08-15T10:50:24.696Z"
   },
   {
    "duration": 8,
    "start_time": "2021-08-15T10:50:35.295Z"
   },
   {
    "duration": 7,
    "start_time": "2021-08-15T10:50:38.926Z"
   },
   {
    "duration": 8,
    "start_time": "2021-08-15T10:51:19.158Z"
   },
   {
    "duration": 12,
    "start_time": "2021-08-15T10:51:36.283Z"
   },
   {
    "duration": 11,
    "start_time": "2021-08-15T10:54:58.404Z"
   },
   {
    "duration": 10,
    "start_time": "2021-08-15T10:55:33.083Z"
   },
   {
    "duration": 12,
    "start_time": "2021-08-15T10:55:57.105Z"
   },
   {
    "duration": 9,
    "start_time": "2021-08-15T10:57:37.014Z"
   },
   {
    "duration": 11,
    "start_time": "2021-08-15T10:58:28.818Z"
   },
   {
    "duration": 274,
    "start_time": "2021-08-15T11:01:17.310Z"
   },
   {
    "duration": 198,
    "start_time": "2021-08-15T11:01:21.405Z"
   },
   {
    "duration": 11,
    "start_time": "2021-08-15T11:01:29.352Z"
   },
   {
    "duration": 177,
    "start_time": "2021-08-15T11:01:39.853Z"
   },
   {
    "duration": 61,
    "start_time": "2021-08-15T11:01:42.798Z"
   },
   {
    "duration": 188,
    "start_time": "2021-08-15T11:01:45.797Z"
   },
   {
    "duration": 11,
    "start_time": "2021-08-15T11:01:49.588Z"
   },
   {
    "duration": 8,
    "start_time": "2021-08-15T11:02:26.185Z"
   },
   {
    "duration": 11,
    "start_time": "2021-08-15T11:02:47.760Z"
   },
   {
    "duration": 6,
    "start_time": "2021-08-15T11:05:37.678Z"
   },
   {
    "duration": 6,
    "start_time": "2021-08-15T11:05:43.798Z"
   },
   {
    "duration": 4428,
    "start_time": "2021-08-15T11:06:32.814Z"
   },
   {
    "duration": 11,
    "start_time": "2021-08-15T11:06:51.227Z"
   },
   {
    "duration": 13,
    "start_time": "2021-08-15T11:07:36.231Z"
   },
   {
    "duration": 5,
    "start_time": "2021-08-15T11:17:32.721Z"
   },
   {
    "duration": 1054,
    "start_time": "2021-08-15T11:21:50.144Z"
   },
   {
    "duration": 64,
    "start_time": "2021-08-15T11:21:51.200Z"
   },
   {
    "duration": 11,
    "start_time": "2021-08-15T11:21:51.265Z"
   },
   {
    "duration": 18,
    "start_time": "2021-08-15T11:21:51.278Z"
   },
   {
    "duration": 10,
    "start_time": "2021-08-15T11:21:51.297Z"
   },
   {
    "duration": 25,
    "start_time": "2021-08-15T11:21:51.309Z"
   },
   {
    "duration": 21,
    "start_time": "2021-08-15T11:21:51.336Z"
   },
   {
    "duration": 19,
    "start_time": "2021-08-15T11:21:51.359Z"
   },
   {
    "duration": 25,
    "start_time": "2021-08-15T11:21:51.379Z"
   },
   {
    "duration": 23,
    "start_time": "2021-08-15T11:21:51.406Z"
   },
   {
    "duration": 23,
    "start_time": "2021-08-15T11:21:51.430Z"
   },
   {
    "duration": 21,
    "start_time": "2021-08-15T11:21:51.454Z"
   },
   {
    "duration": 31,
    "start_time": "2021-08-15T11:21:51.477Z"
   },
   {
    "duration": 32,
    "start_time": "2021-08-15T11:21:51.509Z"
   },
   {
    "duration": 5462,
    "start_time": "2021-08-15T11:21:51.542Z"
   },
   {
    "duration": -906,
    "start_time": "2021-08-15T11:21:57.912Z"
   },
   {
    "duration": -916,
    "start_time": "2021-08-15T11:21:57.923Z"
   },
   {
    "duration": -927,
    "start_time": "2021-08-15T11:21:57.935Z"
   },
   {
    "duration": -930,
    "start_time": "2021-08-15T11:21:57.939Z"
   },
   {
    "duration": -935,
    "start_time": "2021-08-15T11:21:57.945Z"
   },
   {
    "duration": -941,
    "start_time": "2021-08-15T11:21:57.952Z"
   },
   {
    "duration": -944,
    "start_time": "2021-08-15T11:21:57.956Z"
   },
   {
    "duration": -947,
    "start_time": "2021-08-15T11:21:57.960Z"
   },
   {
    "duration": -954,
    "start_time": "2021-08-15T11:21:57.968Z"
   },
   {
    "duration": -956,
    "start_time": "2021-08-15T11:21:57.971Z"
   },
   {
    "duration": -960,
    "start_time": "2021-08-15T11:21:57.976Z"
   },
   {
    "duration": -966,
    "start_time": "2021-08-15T11:21:57.983Z"
   },
   {
    "duration": -969,
    "start_time": "2021-08-15T11:21:57.987Z"
   },
   {
    "duration": -973,
    "start_time": "2021-08-15T11:21:57.992Z"
   },
   {
    "duration": -980,
    "start_time": "2021-08-15T11:21:58.000Z"
   },
   {
    "duration": -983,
    "start_time": "2021-08-15T11:21:58.004Z"
   },
   {
    "duration": -985,
    "start_time": "2021-08-15T11:21:58.007Z"
   },
   {
    "duration": -993,
    "start_time": "2021-08-15T11:21:58.016Z"
   },
   {
    "duration": -996,
    "start_time": "2021-08-15T11:21:58.020Z"
   },
   {
    "duration": -999,
    "start_time": "2021-08-15T11:21:58.024Z"
   },
   {
    "duration": -1007,
    "start_time": "2021-08-15T11:21:58.033Z"
   },
   {
    "duration": -1010,
    "start_time": "2021-08-15T11:21:58.037Z"
   },
   {
    "duration": -1012,
    "start_time": "2021-08-15T11:21:58.040Z"
   },
   {
    "duration": 6,
    "start_time": "2021-08-15T11:22:33.607Z"
   },
   {
    "duration": 10,
    "start_time": "2021-08-15T11:22:35.301Z"
   },
   {
    "duration": 5,
    "start_time": "2021-08-15T11:22:35.517Z"
   },
   {
    "duration": 21,
    "start_time": "2021-08-15T11:22:39.350Z"
   },
   {
    "duration": 11,
    "start_time": "2021-08-15T11:22:39.373Z"
   },
   {
    "duration": 8441,
    "start_time": "2021-08-15T11:22:39.386Z"
   },
   {
    "duration": 13,
    "start_time": "2021-08-15T11:22:47.829Z"
   },
   {
    "duration": 5,
    "start_time": "2021-08-15T11:22:47.844Z"
   },
   {
    "duration": 34,
    "start_time": "2021-08-15T11:22:47.851Z"
   },
   {
    "duration": 10,
    "start_time": "2021-08-15T11:22:47.886Z"
   },
   {
    "duration": 13,
    "start_time": "2021-08-15T11:22:47.898Z"
   },
   {
    "duration": 3,
    "start_time": "2021-08-15T11:22:47.912Z"
   },
   {
    "duration": 9182,
    "start_time": "2021-08-15T11:22:47.917Z"
   },
   {
    "duration": 14,
    "start_time": "2021-08-15T11:22:57.101Z"
   },
   {
    "duration": 11,
    "start_time": "2021-08-15T11:22:57.117Z"
   },
   {
    "duration": 15,
    "start_time": "2021-08-15T11:22:57.130Z"
   },
   {
    "duration": 41,
    "start_time": "2021-08-15T11:22:57.147Z"
   },
   {
    "duration": 9,
    "start_time": "2021-08-15T11:22:57.190Z"
   },
   {
    "duration": 10,
    "start_time": "2021-08-15T11:22:57.200Z"
   },
   {
    "duration": 10,
    "start_time": "2021-08-15T11:22:57.211Z"
   },
   {
    "duration": 7,
    "start_time": "2021-08-15T11:22:57.223Z"
   },
   {
    "duration": 12,
    "start_time": "2021-08-15T11:22:57.231Z"
   },
   {
    "duration": 7,
    "start_time": "2021-08-15T11:22:57.244Z"
   },
   {
    "duration": 10,
    "start_time": "2021-08-15T11:22:57.285Z"
   },
   {
    "duration": 12,
    "start_time": "2021-08-15T11:31:48.803Z"
   },
   {
    "duration": 137,
    "start_time": "2021-08-15T11:33:14.007Z"
   },
   {
    "duration": 225,
    "start_time": "2021-08-15T11:36:44.559Z"
   },
   {
    "duration": 4282,
    "start_time": "2021-08-15T11:37:27.515Z"
   },
   {
    "duration": 158,
    "start_time": "2021-08-15T11:37:43.251Z"
   },
   {
    "duration": 157,
    "start_time": "2021-08-15T11:44:10.670Z"
   },
   {
    "duration": 269,
    "start_time": "2021-08-15T11:44:19.474Z"
   },
   {
    "duration": 161,
    "start_time": "2021-08-15T11:44:28.578Z"
   },
   {
    "duration": 176,
    "start_time": "2021-08-15T11:48:15.298Z"
   },
   {
    "duration": 23,
    "start_time": "2021-08-15T11:48:31.498Z"
   },
   {
    "duration": 25,
    "start_time": "2021-08-15T11:49:24.147Z"
   },
   {
    "duration": 144,
    "start_time": "2021-08-15T11:50:40.283Z"
   },
   {
    "duration": 25,
    "start_time": "2021-08-15T11:54:01.639Z"
   },
   {
    "duration": 12,
    "start_time": "2021-08-15T11:54:20.758Z"
   },
   {
    "duration": 23,
    "start_time": "2021-08-15T11:54:27.765Z"
   },
   {
    "duration": 6,
    "start_time": "2021-08-15T11:55:24.937Z"
   },
   {
    "duration": 5,
    "start_time": "2021-08-15T11:56:05.087Z"
   },
   {
    "duration": 5,
    "start_time": "2021-08-15T11:56:26.933Z"
   },
   {
    "duration": 5,
    "start_time": "2021-08-15T11:56:53.244Z"
   },
   {
    "duration": 7,
    "start_time": "2021-08-15T11:58:12.855Z"
   },
   {
    "duration": 1467,
    "start_time": "2021-08-16T06:06:46.876Z"
   },
   {
    "duration": 73,
    "start_time": "2021-08-16T06:06:48.346Z"
   },
   {
    "duration": 14,
    "start_time": "2021-08-16T06:06:48.423Z"
   },
   {
    "duration": 16,
    "start_time": "2021-08-16T06:06:48.440Z"
   },
   {
    "duration": 29,
    "start_time": "2021-08-16T06:06:48.458Z"
   },
   {
    "duration": 27,
    "start_time": "2021-08-16T06:06:48.490Z"
   },
   {
    "duration": 21,
    "start_time": "2021-08-16T06:06:48.520Z"
   },
   {
    "duration": 21,
    "start_time": "2021-08-16T06:06:48.583Z"
   },
   {
    "duration": 25,
    "start_time": "2021-08-16T06:06:48.607Z"
   },
   {
    "duration": 20,
    "start_time": "2021-08-16T06:06:48.634Z"
   },
   {
    "duration": 22,
    "start_time": "2021-08-16T06:06:48.683Z"
   },
   {
    "duration": 16,
    "start_time": "2021-08-16T06:06:48.707Z"
   },
   {
    "duration": 13,
    "start_time": "2021-08-16T06:06:48.725Z"
   },
   {
    "duration": 50,
    "start_time": "2021-08-16T06:06:48.740Z"
   },
   {
    "duration": 7,
    "start_time": "2021-08-16T06:06:48.792Z"
   },
   {
    "duration": 17,
    "start_time": "2021-08-16T06:06:48.802Z"
   },
   {
    "duration": 8,
    "start_time": "2021-08-16T06:06:48.822Z"
   },
   {
    "duration": 55,
    "start_time": "2021-08-16T06:06:48.833Z"
   },
   {
    "duration": 14,
    "start_time": "2021-08-16T06:06:48.890Z"
   },
   {
    "duration": 13824,
    "start_time": "2021-08-16T06:06:48.907Z"
   },
   {
    "duration": 18,
    "start_time": "2021-08-16T06:07:02.734Z"
   },
   {
    "duration": 28,
    "start_time": "2021-08-16T06:07:02.754Z"
   },
   {
    "duration": 17,
    "start_time": "2021-08-16T06:07:02.787Z"
   },
   {
    "duration": 12,
    "start_time": "2021-08-16T06:07:02.807Z"
   },
   {
    "duration": 17,
    "start_time": "2021-08-16T06:07:02.822Z"
   },
   {
    "duration": 40,
    "start_time": "2021-08-16T06:07:02.842Z"
   },
   {
    "duration": 14718,
    "start_time": "2021-08-16T06:07:02.885Z"
   },
   {
    "duration": 20,
    "start_time": "2021-08-16T06:07:17.605Z"
   },
   {
    "duration": 16,
    "start_time": "2021-08-16T06:07:17.627Z"
   },
   {
    "duration": 45,
    "start_time": "2021-08-16T06:07:17.645Z"
   },
   {
    "duration": 18,
    "start_time": "2021-08-16T06:07:17.692Z"
   },
   {
    "duration": 16,
    "start_time": "2021-08-16T06:07:17.713Z"
   },
   {
    "duration": 73,
    "start_time": "2021-08-16T06:07:17.731Z"
   },
   {
    "duration": 8,
    "start_time": "2021-08-16T06:07:17.806Z"
   },
   {
    "duration": 9,
    "start_time": "2021-08-16T06:07:17.816Z"
   },
   {
    "duration": 14,
    "start_time": "2021-08-16T06:10:25.625Z"
   },
   {
    "duration": 8,
    "start_time": "2021-08-16T06:10:46.441Z"
   },
   {
    "duration": 7,
    "start_time": "2021-08-16T06:10:53.157Z"
   },
   {
    "duration": 6,
    "start_time": "2021-08-16T06:10:57.156Z"
   },
   {
    "duration": 378,
    "start_time": "2021-08-16T06:22:10.372Z"
   },
   {
    "duration": 22,
    "start_time": "2021-08-16T06:22:31.420Z"
   },
   {
    "duration": 22,
    "start_time": "2021-08-16T06:23:26.631Z"
   },
   {
    "duration": 21,
    "start_time": "2021-08-16T06:24:09.319Z"
   },
   {
    "duration": 22,
    "start_time": "2021-08-16T06:24:14.135Z"
   },
   {
    "duration": 8,
    "start_time": "2021-08-16T06:24:23.672Z"
   },
   {
    "duration": 6,
    "start_time": "2021-08-16T06:24:31.460Z"
   },
   {
    "duration": 15,
    "start_time": "2021-08-16T06:24:46.372Z"
   },
   {
    "duration": 18,
    "start_time": "2021-08-16T06:25:02.890Z"
   },
   {
    "duration": 14,
    "start_time": "2021-08-16T06:26:36.356Z"
   },
   {
    "duration": 16,
    "start_time": "2021-08-16T06:26:36.691Z"
   },
   {
    "duration": 15,
    "start_time": "2021-08-16T06:26:36.864Z"
   },
   {
    "duration": 14,
    "start_time": "2021-08-16T06:26:38.575Z"
   },
   {
    "duration": 14,
    "start_time": "2021-08-16T06:26:39.131Z"
   },
   {
    "duration": 10,
    "start_time": "2021-08-16T06:26:42.915Z"
   },
   {
    "duration": 14,
    "start_time": "2021-08-16T06:26:43.603Z"
   },
   {
    "duration": 12,
    "start_time": "2021-08-16T06:26:51.499Z"
   },
   {
    "duration": 128,
    "start_time": "2021-08-16T06:42:04.929Z"
   },
   {
    "duration": 409,
    "start_time": "2021-08-16T06:42:10.296Z"
   },
   {
    "duration": 18,
    "start_time": "2021-08-16T06:42:42.426Z"
   },
   {
    "duration": 18,
    "start_time": "2021-08-16T06:43:01.104Z"
   },
   {
    "duration": 96,
    "start_time": "2021-08-16T06:43:06.958Z"
   },
   {
    "duration": 18,
    "start_time": "2021-08-16T06:43:38.346Z"
   },
   {
    "duration": 22,
    "start_time": "2021-08-16T06:52:53.457Z"
   },
   {
    "duration": 19,
    "start_time": "2021-08-16T06:52:58.538Z"
   },
   {
    "duration": 20,
    "start_time": "2021-08-16T06:53:27.159Z"
   },
   {
    "duration": 44,
    "start_time": "2021-08-16T06:53:40.200Z"
   },
   {
    "duration": 36,
    "start_time": "2021-08-16T06:55:35.788Z"
   },
   {
    "duration": 30,
    "start_time": "2021-08-16T07:01:31.251Z"
   },
   {
    "duration": 26,
    "start_time": "2021-08-16T07:01:38.498Z"
   },
   {
    "duration": 28,
    "start_time": "2021-08-16T07:01:43.713Z"
   },
   {
    "duration": 243,
    "start_time": "2021-08-16T07:02:14.291Z"
   },
   {
    "duration": 28,
    "start_time": "2021-08-16T07:02:56.838Z"
   },
   {
    "duration": 35,
    "start_time": "2021-08-16T07:03:20.292Z"
   },
   {
    "duration": 3,
    "start_time": "2021-08-16T07:14:49.913Z"
   },
   {
    "duration": 15,
    "start_time": "2021-08-16T07:18:47.026Z"
   },
   {
    "duration": 18,
    "start_time": "2021-08-16T07:19:17.561Z"
   },
   {
    "duration": 261,
    "start_time": "2021-08-16T07:19:40.406Z"
   },
   {
    "duration": 19,
    "start_time": "2021-08-16T07:20:31.644Z"
   },
   {
    "duration": 17,
    "start_time": "2021-08-16T07:20:41.229Z"
   },
   {
    "duration": 293,
    "start_time": "2021-08-16T07:21:12.402Z"
   },
   {
    "duration": 16,
    "start_time": "2021-08-16T07:21:27.344Z"
   },
   {
    "duration": 15,
    "start_time": "2021-08-16T07:22:36.956Z"
   },
   {
    "duration": 286,
    "start_time": "2021-08-16T07:22:38.932Z"
   },
   {
    "duration": 16,
    "start_time": "2021-08-16T07:22:48.139Z"
   },
   {
    "duration": 9,
    "start_time": "2021-08-16T07:22:57.187Z"
   },
   {
    "duration": 10,
    "start_time": "2021-08-16T07:23:31.129Z"
   },
   {
    "duration": 12,
    "start_time": "2021-08-16T07:23:33.248Z"
   },
   {
    "duration": 77,
    "start_time": "2021-08-16T07:23:37.480Z"
   },
   {
    "duration": 17,
    "start_time": "2021-08-16T07:23:40.153Z"
   },
   {
    "duration": 18,
    "start_time": "2021-08-16T07:23:44.471Z"
   },
   {
    "duration": 16,
    "start_time": "2021-08-16T07:23:51.583Z"
   },
   {
    "duration": 10,
    "start_time": "2021-08-16T07:24:52.251Z"
   },
   {
    "duration": 1462,
    "start_time": "2021-08-16T09:48:30.983Z"
   },
   {
    "duration": 81,
    "start_time": "2021-08-16T09:48:32.448Z"
   },
   {
    "duration": 24,
    "start_time": "2021-08-16T09:48:32.532Z"
   },
   {
    "duration": 17,
    "start_time": "2021-08-16T09:48:32.558Z"
   },
   {
    "duration": 6,
    "start_time": "2021-08-16T09:48:32.577Z"
   },
   {
    "duration": 27,
    "start_time": "2021-08-16T09:48:32.586Z"
   },
   {
    "duration": 55,
    "start_time": "2021-08-16T09:48:32.615Z"
   },
   {
    "duration": 23,
    "start_time": "2021-08-16T09:48:32.674Z"
   },
   {
    "duration": 56,
    "start_time": "2021-08-16T09:48:32.700Z"
   },
   {
    "duration": 23,
    "start_time": "2021-08-16T09:48:32.758Z"
   },
   {
    "duration": 25,
    "start_time": "2021-08-16T09:48:32.784Z"
   },
   {
    "duration": 55,
    "start_time": "2021-08-16T09:48:32.812Z"
   },
   {
    "duration": 9,
    "start_time": "2021-08-16T09:48:32.870Z"
   },
   {
    "duration": 20,
    "start_time": "2021-08-16T09:48:32.882Z"
   },
   {
    "duration": 8,
    "start_time": "2021-08-16T09:48:32.905Z"
   },
   {
    "duration": 52,
    "start_time": "2021-08-16T09:48:32.915Z"
   },
   {
    "duration": 12,
    "start_time": "2021-08-16T09:48:32.969Z"
   },
   {
    "duration": 41,
    "start_time": "2021-08-16T09:48:32.984Z"
   },
   {
    "duration": 36,
    "start_time": "2021-08-16T09:48:33.028Z"
   },
   {
    "duration": 14460,
    "start_time": "2021-08-16T09:48:33.067Z"
   },
   {
    "duration": 26,
    "start_time": "2021-08-16T09:48:47.529Z"
   },
   {
    "duration": 8,
    "start_time": "2021-08-16T09:48:47.558Z"
   },
   {
    "duration": 18,
    "start_time": "2021-08-16T09:48:47.571Z"
   },
   {
    "duration": 13,
    "start_time": "2021-08-16T09:48:47.591Z"
   },
   {
    "duration": 57,
    "start_time": "2021-08-16T09:48:47.607Z"
   },
   {
    "duration": 14,
    "start_time": "2021-08-16T09:48:47.667Z"
   },
   {
    "duration": 15611,
    "start_time": "2021-08-16T09:48:47.683Z"
   },
   {
    "duration": 22,
    "start_time": "2021-08-16T09:49:03.296Z"
   },
   {
    "duration": 36,
    "start_time": "2021-08-16T09:49:03.320Z"
   },
   {
    "duration": 20,
    "start_time": "2021-08-16T09:49:03.358Z"
   },
   {
    "duration": 20,
    "start_time": "2021-08-16T09:49:03.380Z"
   },
   {
    "duration": 17,
    "start_time": "2021-08-16T09:49:03.402Z"
   },
   {
    "duration": 76,
    "start_time": "2021-08-16T09:49:03.421Z"
   },
   {
    "duration": 7,
    "start_time": "2021-08-16T09:49:03.500Z"
   },
   {
    "duration": 13,
    "start_time": "2021-08-16T09:49:03.509Z"
   },
   {
    "duration": 38,
    "start_time": "2021-08-16T09:49:03.525Z"
   },
   {
    "duration": 13,
    "start_time": "2021-08-16T09:49:03.565Z"
   },
   {
    "duration": 14,
    "start_time": "2021-08-16T09:49:03.581Z"
   },
   {
    "duration": 21,
    "start_time": "2021-08-16T09:49:03.597Z"
   },
   {
    "duration": 46,
    "start_time": "2021-08-16T09:49:03.620Z"
   },
   {
    "duration": 9,
    "start_time": "2021-08-16T09:49:03.669Z"
   },
   {
    "duration": 16,
    "start_time": "2021-08-16T09:49:16.373Z"
   },
   {
    "duration": 117,
    "start_time": "2021-08-16T09:50:04.795Z"
   },
   {
    "duration": 20,
    "start_time": "2021-08-16T10:00:48.547Z"
   },
   {
    "duration": 21,
    "start_time": "2021-08-16T10:00:59.104Z"
   },
   {
    "duration": 22,
    "start_time": "2021-08-16T10:01:01.720Z"
   },
   {
    "duration": 15,
    "start_time": "2021-08-16T10:01:16.219Z"
   },
   {
    "duration": 21,
    "start_time": "2021-08-16T10:01:17.071Z"
   },
   {
    "duration": 9,
    "start_time": "2021-08-16T10:01:17.599Z"
   },
   {
    "duration": 5,
    "start_time": "2021-08-16T10:01:18.095Z"
   },
   {
    "duration": 15,
    "start_time": "2021-08-16T10:01:18.890Z"
   },
   {
    "duration": 22,
    "start_time": "2021-08-16T10:01:29.599Z"
   },
   {
    "duration": 39,
    "start_time": "2021-08-16T10:01:29.751Z"
   },
   {
    "duration": 42,
    "start_time": "2021-08-16T10:01:31.504Z"
   },
   {
    "duration": 17,
    "start_time": "2021-08-16T10:01:36.951Z"
   },
   {
    "duration": 17,
    "start_time": "2021-08-16T10:01:37.398Z"
   },
   {
    "duration": 8,
    "start_time": "2021-08-16T10:01:39.125Z"
   },
   {
    "duration": 4,
    "start_time": "2021-08-16T10:14:34.545Z"
   },
   {
    "duration": 19,
    "start_time": "2021-08-16T10:14:43.509Z"
   },
   {
    "duration": 8,
    "start_time": "2021-08-16T10:15:11.741Z"
   },
   {
    "duration": 8,
    "start_time": "2021-08-16T10:15:53.017Z"
   },
   {
    "duration": 8,
    "start_time": "2021-08-16T10:16:05.984Z"
   },
   {
    "duration": 4415,
    "start_time": "2021-08-16T10:17:24.275Z"
   },
   {
    "duration": 463,
    "start_time": "2021-08-16T10:17:48.337Z"
   },
   {
    "duration": 2334,
    "start_time": "2021-08-16T10:17:53.010Z"
   },
   {
    "duration": 10,
    "start_time": "2021-08-16T10:18:03.665Z"
   },
   {
    "duration": 14,
    "start_time": "2021-08-16T10:20:00.817Z"
   },
   {
    "duration": 11,
    "start_time": "2021-08-16T10:20:14.427Z"
   },
   {
    "duration": 2521,
    "start_time": "2021-08-16T10:26:59.218Z"
   },
   {
    "duration": 11,
    "start_time": "2021-08-16T10:27:05.239Z"
   },
   {
    "duration": 20,
    "start_time": "2021-08-16T10:29:48.903Z"
   },
   {
    "duration": 4696,
    "start_time": "2021-08-16T10:33:42.625Z"
   },
   {
    "duration": 10,
    "start_time": "2021-08-16T10:33:47.324Z"
   },
   {
    "duration": 10,
    "start_time": "2021-08-16T10:35:15.298Z"
   },
   {
    "duration": 16,
    "start_time": "2021-08-16T10:35:25.519Z"
   },
   {
    "duration": 4985,
    "start_time": "2021-08-16T10:36:01.112Z"
   },
   {
    "duration": 4788,
    "start_time": "2021-08-16T10:36:21.543Z"
   },
   {
    "duration": 4936,
    "start_time": "2021-08-16T10:36:40.142Z"
   },
   {
    "duration": 4825,
    "start_time": "2021-08-16T10:37:03.082Z"
   },
   {
    "duration": 4819,
    "start_time": "2021-08-16T10:37:45.511Z"
   },
   {
    "duration": 4949,
    "start_time": "2021-08-16T10:38:15.280Z"
   },
   {
    "duration": 4514,
    "start_time": "2021-08-16T10:38:44.075Z"
   },
   {
    "duration": 8,
    "start_time": "2021-08-16T10:38:50.907Z"
   },
   {
    "duration": 4655,
    "start_time": "2021-08-16T10:38:58.537Z"
   },
   {
    "duration": 8,
    "start_time": "2021-08-16T10:39:04.489Z"
   },
   {
    "duration": 4512,
    "start_time": "2021-08-16T10:39:28.320Z"
   },
   {
    "duration": 106,
    "start_time": "2021-08-16T10:39:42.415Z"
   },
   {
    "duration": 28,
    "start_time": "2021-08-16T10:39:46.547Z"
   },
   {
    "duration": 8,
    "start_time": "2021-08-16T10:39:49.030Z"
   },
   {
    "duration": 18,
    "start_time": "2021-08-16T10:39:57.492Z"
   },
   {
    "duration": 13,
    "start_time": "2021-08-16T10:40:21.513Z"
   },
   {
    "duration": 520,
    "start_time": "2021-08-16T10:46:18.887Z"
   },
   {
    "duration": 28,
    "start_time": "2021-08-16T10:46:30.759Z"
   },
   {
    "duration": 53,
    "start_time": "2021-08-16T10:48:21.252Z"
   },
   {
    "duration": -596,
    "start_time": "2021-08-16T10:49:21.122Z"
   },
   {
    "duration": 224,
    "start_time": "2021-08-16T10:49:39.938Z"
   },
   {
    "duration": 128,
    "start_time": "2021-08-16T10:57:12.723Z"
   },
   {
    "duration": 105,
    "start_time": "2021-08-16T10:57:20.148Z"
   },
   {
    "duration": 13,
    "start_time": "2021-08-16T10:57:25.395Z"
   },
   {
    "duration": 13,
    "start_time": "2021-08-16T10:57:47.145Z"
   },
   {
    "duration": 393,
    "start_time": "2021-08-16T10:59:15.966Z"
   },
   {
    "duration": 3,
    "start_time": "2021-08-16T10:59:18.872Z"
   },
   {
    "duration": 335,
    "start_time": "2021-08-16T10:59:21.148Z"
   },
   {
    "duration": 95,
    "start_time": "2021-08-16T10:59:33.007Z"
   },
   {
    "duration": 343,
    "start_time": "2021-08-16T11:00:17.738Z"
   },
   {
    "duration": 344,
    "start_time": "2021-08-16T11:00:31.161Z"
   },
   {
    "duration": 1225,
    "start_time": "2021-08-16T11:00:48.922Z"
   },
   {
    "duration": 566,
    "start_time": "2021-08-16T11:02:54.801Z"
   },
   {
    "duration": 321,
    "start_time": "2021-08-16T11:03:19.457Z"
   },
   {
    "duration": 381,
    "start_time": "2021-08-16T11:24:44.775Z"
   },
   {
    "duration": 67,
    "start_time": "2021-08-16T11:24:52.116Z"
   },
   {
    "duration": 365,
    "start_time": "2021-08-16T11:24:52.532Z"
   },
   {
    "duration": 38,
    "start_time": "2021-08-16T11:25:17.620Z"
   },
   {
    "duration": 14,
    "start_time": "2021-08-16T11:25:25.701Z"
   },
   {
    "duration": 16,
    "start_time": "2021-08-16T11:25:30.825Z"
   },
   {
    "duration": 11,
    "start_time": "2021-08-16T11:31:04.343Z"
   },
   {
    "duration": 401,
    "start_time": "2021-08-16T11:31:56.414Z"
   },
   {
    "duration": 3,
    "start_time": "2021-08-16T11:32:05.693Z"
   },
   {
    "duration": 7,
    "start_time": "2021-08-16T11:32:12.650Z"
   },
   {
    "duration": 6,
    "start_time": "2021-08-16T11:32:24.154Z"
   },
   {
    "duration": 7,
    "start_time": "2021-08-16T11:32:40.451Z"
   },
   {
    "duration": 3,
    "start_time": "2021-08-16T11:33:06.991Z"
   },
   {
    "duration": 8,
    "start_time": "2021-08-16T11:33:46.918Z"
   },
   {
    "duration": 567,
    "start_time": "2021-08-16T11:37:43.186Z"
   },
   {
    "duration": 619,
    "start_time": "2021-08-16T11:37:49.149Z"
   },
   {
    "duration": 7,
    "start_time": "2021-08-16T11:38:37.491Z"
   },
   {
    "duration": 8,
    "start_time": "2021-08-16T11:39:24.926Z"
   },
   {
    "duration": 7,
    "start_time": "2021-08-16T11:40:24.039Z"
   },
   {
    "duration": 13,
    "start_time": "2021-08-16T11:41:22.135Z"
   },
   {
    "duration": 4410,
    "start_time": "2021-08-16T11:41:31.269Z"
   },
   {
    "duration": 15,
    "start_time": "2021-08-16T11:41:36.358Z"
   },
   {
    "duration": 5,
    "start_time": "2021-08-16T11:53:28.459Z"
   },
   {
    "duration": 2320,
    "start_time": "2021-08-16T11:53:45.137Z"
   },
   {
    "duration": 6,
    "start_time": "2021-08-16T11:53:58.336Z"
   },
   {
    "duration": 8,
    "start_time": "2021-08-16T11:54:04.806Z"
   },
   {
    "duration": 32,
    "start_time": "2021-08-16T11:54:22.510Z"
   },
   {
    "duration": 5,
    "start_time": "2021-08-16T11:54:43.630Z"
   },
   {
    "duration": 7,
    "start_time": "2021-08-16T11:55:20.747Z"
   },
   {
    "duration": 4,
    "start_time": "2021-08-16T12:23:55.951Z"
   },
   {
    "duration": 134,
    "start_time": "2021-08-16T12:23:58.999Z"
   },
   {
    "duration": 114,
    "start_time": "2021-08-16T12:24:08.239Z"
   },
   {
    "duration": 108,
    "start_time": "2021-08-16T12:24:26.744Z"
   },
   {
    "duration": 108,
    "start_time": "2021-08-16T12:24:49.045Z"
   },
   {
    "duration": 481,
    "start_time": "2021-08-16T12:25:08.659Z"
   },
   {
    "duration": 344,
    "start_time": "2021-08-16T12:33:43.774Z"
   },
   {
    "duration": 341,
    "start_time": "2021-08-16T12:33:51.760Z"
   },
   {
    "duration": 6,
    "start_time": "2021-08-16T12:36:56.062Z"
   },
   {
    "duration": 6,
    "start_time": "2021-08-16T12:37:00.358Z"
   },
   {
    "duration": 6,
    "start_time": "2021-08-16T12:37:11.821Z"
   },
   {
    "duration": 85,
    "start_time": "2021-08-16T12:42:27.938Z"
   },
   {
    "duration": 15,
    "start_time": "2021-08-16T12:42:45.418Z"
   },
   {
    "duration": 86,
    "start_time": "2021-08-16T13:03:40.811Z"
   },
   {
    "duration": 17,
    "start_time": "2021-08-16T13:03:43.155Z"
   },
   {
    "duration": 87,
    "start_time": "2021-08-16T13:04:00.341Z"
   },
   {
    "duration": 16,
    "start_time": "2021-08-16T13:04:00.766Z"
   },
   {
    "duration": 87,
    "start_time": "2021-08-16T13:04:05.718Z"
   },
   {
    "duration": 16,
    "start_time": "2021-08-16T13:04:06.145Z"
   },
   {
    "duration": 335,
    "start_time": "2021-08-16T13:04:54.918Z"
   },
   {
    "duration": 16,
    "start_time": "2021-08-16T13:04:55.335Z"
   },
   {
    "duration": 333,
    "start_time": "2021-08-16T13:05:16.530Z"
   },
   {
    "duration": 87,
    "start_time": "2021-08-16T13:05:28.649Z"
   },
   {
    "duration": 15,
    "start_time": "2021-08-16T13:05:29.745Z"
   },
   {
    "duration": 16,
    "start_time": "2021-08-16T13:05:34.241Z"
   },
   {
    "duration": 7,
    "start_time": "2021-08-16T13:05:45.444Z"
   },
   {
    "duration": 17,
    "start_time": "2021-08-16T13:05:55.571Z"
   },
   {
    "duration": 1590,
    "start_time": "2021-08-16T13:06:33.533Z"
   },
   {
    "duration": 87,
    "start_time": "2021-08-16T13:06:35.126Z"
   },
   {
    "duration": 15,
    "start_time": "2021-08-16T13:06:35.216Z"
   },
   {
    "duration": 33,
    "start_time": "2021-08-16T13:06:35.234Z"
   },
   {
    "duration": 16,
    "start_time": "2021-08-16T13:06:35.269Z"
   },
   {
    "duration": 31,
    "start_time": "2021-08-16T13:06:35.287Z"
   },
   {
    "duration": 44,
    "start_time": "2021-08-16T13:06:35.320Z"
   },
   {
    "duration": 43,
    "start_time": "2021-08-16T13:06:35.368Z"
   },
   {
    "duration": 27,
    "start_time": "2021-08-16T13:06:35.414Z"
   },
   {
    "duration": 23,
    "start_time": "2021-08-16T13:06:35.456Z"
   },
   {
    "duration": 27,
    "start_time": "2021-08-16T13:06:35.481Z"
   },
   {
    "duration": 50,
    "start_time": "2021-08-16T13:06:35.511Z"
   },
   {
    "duration": 7,
    "start_time": "2021-08-16T13:06:35.564Z"
   },
   {
    "duration": 21,
    "start_time": "2021-08-16T13:06:35.574Z"
   },
   {
    "duration": 8,
    "start_time": "2021-08-16T13:06:35.597Z"
   },
   {
    "duration": 51,
    "start_time": "2021-08-16T13:06:35.607Z"
   },
   {
    "duration": 7,
    "start_time": "2021-08-16T13:06:35.661Z"
   },
   {
    "duration": 32,
    "start_time": "2021-08-16T13:06:35.671Z"
   },
   {
    "duration": 14,
    "start_time": "2021-08-16T13:06:35.706Z"
   },
   {
    "duration": 14588,
    "start_time": "2021-08-16T13:06:35.722Z"
   },
   {
    "duration": 19,
    "start_time": "2021-08-16T13:06:50.312Z"
   },
   {
    "duration": 23,
    "start_time": "2021-08-16T13:06:50.334Z"
   },
   {
    "duration": 18,
    "start_time": "2021-08-16T13:06:50.367Z"
   },
   {
    "duration": 13,
    "start_time": "2021-08-16T13:06:50.389Z"
   },
   {
    "duration": 62,
    "start_time": "2021-08-16T13:06:50.404Z"
   },
   {
    "duration": 15,
    "start_time": "2021-08-16T13:06:50.468Z"
   },
   {
    "duration": 15905,
    "start_time": "2021-08-16T13:06:50.485Z"
   },
   {
    "duration": 22,
    "start_time": "2021-08-16T13:07:06.393Z"
   },
   {
    "duration": 42,
    "start_time": "2021-08-16T13:07:06.418Z"
   },
   {
    "duration": 24,
    "start_time": "2021-08-16T13:07:06.462Z"
   },
   {
    "duration": 19,
    "start_time": "2021-08-16T13:07:06.489Z"
   },
   {
    "duration": 17,
    "start_time": "2021-08-16T13:07:06.510Z"
   },
   {
    "duration": 39,
    "start_time": "2021-08-16T13:07:06.557Z"
   },
   {
    "duration": 7,
    "start_time": "2021-08-16T13:07:06.599Z"
   },
   {
    "duration": 15,
    "start_time": "2021-08-16T13:07:06.609Z"
   },
   {
    "duration": 41,
    "start_time": "2021-08-16T13:07:06.626Z"
   },
   {
    "duration": 20,
    "start_time": "2021-08-16T13:07:06.670Z"
   },
   {
    "duration": 19,
    "start_time": "2021-08-16T13:07:06.692Z"
   },
   {
    "duration": 11,
    "start_time": "2021-08-16T13:07:06.713Z"
   },
   {
    "duration": 35,
    "start_time": "2021-08-16T13:07:06.726Z"
   },
   {
    "duration": 10,
    "start_time": "2021-08-16T13:07:06.764Z"
   },
   {
    "duration": 17,
    "start_time": "2021-08-16T13:07:06.776Z"
   },
   {
    "duration": 19,
    "start_time": "2021-08-16T13:07:06.795Z"
   },
   {
    "duration": 43,
    "start_time": "2021-08-16T13:07:06.817Z"
   },
   {
    "duration": 5,
    "start_time": "2021-08-16T13:07:06.862Z"
   },
   {
    "duration": 17,
    "start_time": "2021-08-16T13:07:06.870Z"
   },
   {
    "duration": 22,
    "start_time": "2021-08-16T13:07:06.890Z"
   },
   {
    "duration": 74,
    "start_time": "2021-08-16T13:07:06.915Z"
   },
   {
    "duration": 38,
    "start_time": "2021-08-16T13:07:06.991Z"
   },
   {
    "duration": 36,
    "start_time": "2021-08-16T13:07:07.032Z"
   },
   {
    "duration": 21,
    "start_time": "2021-08-16T13:07:07.070Z"
   },
   {
    "duration": 16,
    "start_time": "2021-08-16T13:07:07.094Z"
   },
   {
    "duration": 47,
    "start_time": "2021-08-16T13:07:07.113Z"
   },
   {
    "duration": 4413,
    "start_time": "2021-08-16T13:07:07.163Z"
   },
   {
    "duration": 15,
    "start_time": "2021-08-16T13:07:11.578Z"
   },
   {
    "duration": 12,
    "start_time": "2021-08-16T13:07:11.596Z"
   },
   {
    "duration": 3,
    "start_time": "2021-08-16T13:07:11.611Z"
   },
   {
    "duration": 8,
    "start_time": "2021-08-16T13:07:11.617Z"
   },
   {
    "duration": 102,
    "start_time": "2021-08-16T13:07:11.656Z"
   },
   {
    "duration": 17,
    "start_time": "2021-08-16T13:07:11.761Z"
   },
   {
    "duration": 8,
    "start_time": "2021-08-16T13:16:14.337Z"
   },
   {
    "duration": 4,
    "start_time": "2021-08-16T13:16:16.828Z"
   },
   {
    "duration": 107,
    "start_time": "2021-08-16T13:16:20.121Z"
   },
   {
    "duration": 10,
    "start_time": "2021-08-16T13:16:57.552Z"
   },
   {
    "duration": 17,
    "start_time": "2021-08-16T13:17:01.351Z"
   },
   {
    "duration": 8,
    "start_time": "2021-08-16T13:17:24.229Z"
   },
   {
    "duration": 5,
    "start_time": "2021-08-16T13:17:24.454Z"
   },
   {
    "duration": 90,
    "start_time": "2021-08-16T13:17:26.686Z"
   },
   {
    "duration": 8,
    "start_time": "2021-08-16T13:17:31.534Z"
   },
   {
    "duration": 4,
    "start_time": "2021-08-16T13:17:31.997Z"
   },
   {
    "duration": 13,
    "start_time": "2021-08-16T13:17:34.173Z"
   },
   {
    "duration": 18,
    "start_time": "2021-08-16T13:17:39.488Z"
   },
   {
    "duration": 8,
    "start_time": "2021-08-16T13:18:55.421Z"
   },
   {
    "duration": 4,
    "start_time": "2021-08-16T13:18:57.152Z"
   },
   {
    "duration": 9542,
    "start_time": "2021-08-16T13:19:32.663Z"
   },
   {
    "duration": 11375,
    "start_time": "2021-08-16T13:20:27.956Z"
   },
   {
    "duration": 4,
    "start_time": "2021-08-16T13:22:07.012Z"
   },
   {
    "duration": 8774,
    "start_time": "2021-08-16T13:22:07.436Z"
   },
   {
    "duration": 119,
    "start_time": "2021-08-16T13:23:17.425Z"
   },
   {
    "duration": 150,
    "start_time": "2021-08-16T13:23:21.887Z"
   },
   {
    "duration": 110,
    "start_time": "2021-08-16T13:23:30.896Z"
   },
   {
    "duration": 113,
    "start_time": "2021-08-16T13:24:29.044Z"
   },
   {
    "duration": 118,
    "start_time": "2021-08-16T13:24:33.978Z"
   },
   {
    "duration": 9094,
    "start_time": "2021-08-16T13:25:32.447Z"
   },
   {
    "duration": 19,
    "start_time": "2021-08-16T13:27:43.393Z"
   },
   {
    "duration": 17,
    "start_time": "2021-08-16T13:27:46.590Z"
   },
   {
    "duration": 8937,
    "start_time": "2021-08-16T13:31:07.002Z"
   },
   {
    "duration": -1166,
    "start_time": "2021-08-16T13:31:55.169Z"
   },
   {
    "duration": 8,
    "start_time": "2021-08-16T13:31:58.430Z"
   },
   {
    "duration": 7,
    "start_time": "2021-08-16T13:32:07.982Z"
   },
   {
    "duration": 11,
    "start_time": "2021-08-16T13:32:37.685Z"
   },
   {
    "duration": 18,
    "start_time": "2021-08-16T13:32:43.419Z"
   },
   {
    "duration": 14876,
    "start_time": "2021-08-16T13:34:21.380Z"
   },
   {
    "duration": 4492,
    "start_time": "2021-08-16T13:35:29.937Z"
   },
   {
    "duration": 4647,
    "start_time": "2021-08-16T13:36:29.492Z"
   },
   {
    "duration": 9067,
    "start_time": "2021-08-16T13:36:56.843Z"
   },
   {
    "duration": 8509,
    "start_time": "2021-08-16T13:37:31.609Z"
   },
   {
    "duration": 369,
    "start_time": "2021-08-16T13:38:48.587Z"
   },
   {
    "duration": 43,
    "start_time": "2021-08-16T13:39:08.050Z"
   },
   {
    "duration": 752,
    "start_time": "2021-08-16T13:39:14.957Z"
   },
   {
    "duration": 17,
    "start_time": "2021-08-16T13:39:23.514Z"
   },
   {
    "duration": 1150,
    "start_time": "2021-08-16T13:40:10.079Z"
   },
   {
    "duration": 18,
    "start_time": "2021-08-16T13:40:17.550Z"
   },
   {
    "duration": 1444,
    "start_time": "2021-08-16T14:15:17.573Z"
   },
   {
    "duration": 79,
    "start_time": "2021-08-16T14:15:19.019Z"
   },
   {
    "duration": 14,
    "start_time": "2021-08-16T14:15:19.101Z"
   },
   {
    "duration": 16,
    "start_time": "2021-08-16T14:15:19.118Z"
   },
   {
    "duration": 24,
    "start_time": "2021-08-16T14:15:19.136Z"
   },
   {
    "duration": 22,
    "start_time": "2021-08-16T14:15:19.162Z"
   },
   {
    "duration": 22,
    "start_time": "2021-08-16T14:15:19.186Z"
   },
   {
    "duration": 72,
    "start_time": "2021-08-16T14:15:19.211Z"
   },
   {
    "duration": 34,
    "start_time": "2021-08-16T14:15:19.286Z"
   },
   {
    "duration": 39,
    "start_time": "2021-08-16T14:15:19.322Z"
   },
   {
    "duration": 28,
    "start_time": "2021-08-16T14:15:19.364Z"
   },
   {
    "duration": 24,
    "start_time": "2021-08-16T14:15:19.395Z"
   },
   {
    "duration": 35,
    "start_time": "2021-08-16T14:15:19.421Z"
   },
   {
    "duration": 15,
    "start_time": "2021-08-16T14:15:19.458Z"
   },
   {
    "duration": 13,
    "start_time": "2021-08-16T14:15:19.475Z"
   },
   {
    "duration": 17,
    "start_time": "2021-08-16T14:15:19.491Z"
   },
   {
    "duration": 7,
    "start_time": "2021-08-16T14:15:19.511Z"
   },
   {
    "duration": 57,
    "start_time": "2021-08-16T14:15:19.520Z"
   },
   {
    "duration": 14,
    "start_time": "2021-08-16T14:15:19.579Z"
   },
   {
    "duration": 14544,
    "start_time": "2021-08-16T14:15:19.595Z"
   },
   {
    "duration": 29,
    "start_time": "2021-08-16T14:15:34.141Z"
   },
   {
    "duration": 10,
    "start_time": "2021-08-16T14:15:34.173Z"
   },
   {
    "duration": 19,
    "start_time": "2021-08-16T14:15:34.191Z"
   },
   {
    "duration": 50,
    "start_time": "2021-08-16T14:15:34.213Z"
   },
   {
    "duration": 18,
    "start_time": "2021-08-16T14:15:34.265Z"
   },
   {
    "duration": 7,
    "start_time": "2021-08-16T14:15:34.285Z"
   },
   {
    "duration": 16243,
    "start_time": "2021-08-16T14:15:34.294Z"
   },
   {
    "duration": 29,
    "start_time": "2021-08-16T14:15:50.539Z"
   },
   {
    "duration": 27,
    "start_time": "2021-08-16T14:15:50.571Z"
   },
   {
    "duration": 23,
    "start_time": "2021-08-16T14:15:50.600Z"
   },
   {
    "duration": 36,
    "start_time": "2021-08-16T14:15:50.625Z"
   },
   {
    "duration": 16,
    "start_time": "2021-08-16T14:15:50.663Z"
   },
   {
    "duration": 47,
    "start_time": "2021-08-16T14:15:50.682Z"
   },
   {
    "duration": 27,
    "start_time": "2021-08-16T14:15:50.731Z"
   },
   {
    "duration": 12,
    "start_time": "2021-08-16T14:15:50.760Z"
   },
   {
    "duration": 19,
    "start_time": "2021-08-16T14:15:50.775Z"
   },
   {
    "duration": 17,
    "start_time": "2021-08-16T14:15:50.797Z"
   },
   {
    "duration": 44,
    "start_time": "2021-08-16T14:15:50.816Z"
   },
   {
    "duration": 11,
    "start_time": "2021-08-16T14:15:50.862Z"
   },
   {
    "duration": 25,
    "start_time": "2021-08-16T14:15:50.875Z"
   },
   {
    "duration": 10,
    "start_time": "2021-08-16T14:15:50.902Z"
   },
   {
    "duration": 36,
    "start_time": "2021-08-16T14:15:50.914Z"
   },
   {
    "duration": 26,
    "start_time": "2021-08-16T14:15:50.956Z"
   },
   {
    "duration": 26,
    "start_time": "2021-08-16T14:15:50.984Z"
   },
   {
    "duration": 13,
    "start_time": "2021-08-16T14:15:51.012Z"
   },
   {
    "duration": 35,
    "start_time": "2021-08-16T14:15:51.027Z"
   },
   {
    "duration": 35,
    "start_time": "2021-08-16T14:15:51.064Z"
   },
   {
    "duration": 37,
    "start_time": "2021-08-16T14:15:51.102Z"
   },
   {
    "duration": 50,
    "start_time": "2021-08-16T14:15:51.142Z"
   },
   {
    "duration": 31,
    "start_time": "2021-08-16T14:15:51.194Z"
   },
   {
    "duration": 37,
    "start_time": "2021-08-16T14:15:51.227Z"
   },
   {
    "duration": 19,
    "start_time": "2021-08-16T14:15:51.266Z"
   },
   {
    "duration": 28,
    "start_time": "2021-08-16T14:15:51.287Z"
   },
   {
    "duration": 4396,
    "start_time": "2021-08-16T14:15:51.318Z"
   },
   {
    "duration": 17,
    "start_time": "2021-08-16T14:15:55.716Z"
   },
   {
    "duration": 29,
    "start_time": "2021-08-16T14:15:55.736Z"
   },
   {
    "duration": 27,
    "start_time": "2021-08-16T14:15:55.767Z"
   },
   {
    "duration": 1149,
    "start_time": "2021-08-16T14:15:55.797Z"
   },
   {
    "duration": 23,
    "start_time": "2021-08-16T14:15:56.948Z"
   },
   {
    "duration": 35,
    "start_time": "2021-08-16T14:21:08.680Z"
   },
   {
    "duration": 41,
    "start_time": "2021-08-16T14:21:43.517Z"
   },
   {
    "duration": 9477,
    "start_time": "2021-08-16T14:22:34.076Z"
   },
   {
    "duration": 8637,
    "start_time": "2021-08-16T14:22:51.274Z"
   },
   {
    "duration": 1525,
    "start_time": "2021-08-16T14:23:30.918Z"
   },
   {
    "duration": 78,
    "start_time": "2021-08-16T14:23:32.446Z"
   },
   {
    "duration": 15,
    "start_time": "2021-08-16T14:23:32.528Z"
   },
   {
    "duration": 25,
    "start_time": "2021-08-16T14:23:32.557Z"
   },
   {
    "duration": 7,
    "start_time": "2021-08-16T14:23:32.585Z"
   },
   {
    "duration": 26,
    "start_time": "2021-08-16T14:23:32.594Z"
   },
   {
    "duration": 51,
    "start_time": "2021-08-16T14:23:32.623Z"
   },
   {
    "duration": 22,
    "start_time": "2021-08-16T14:23:32.678Z"
   },
   {
    "duration": 54,
    "start_time": "2021-08-16T14:23:32.703Z"
   },
   {
    "duration": 24,
    "start_time": "2021-08-16T14:23:32.760Z"
   },
   {
    "duration": 23,
    "start_time": "2021-08-16T14:23:32.786Z"
   },
   {
    "duration": 48,
    "start_time": "2021-08-16T14:23:32.812Z"
   },
   {
    "duration": 8,
    "start_time": "2021-08-16T14:23:32.862Z"
   },
   {
    "duration": 17,
    "start_time": "2021-08-16T14:23:32.873Z"
   },
   {
    "duration": 7,
    "start_time": "2021-08-16T14:23:32.892Z"
   },
   {
    "duration": 14,
    "start_time": "2021-08-16T14:23:32.902Z"
   },
   {
    "duration": 8,
    "start_time": "2021-08-16T14:23:32.956Z"
   },
   {
    "duration": 28,
    "start_time": "2021-08-16T14:23:32.967Z"
   },
   {
    "duration": 15,
    "start_time": "2021-08-16T14:23:32.998Z"
   },
   {
    "duration": 14756,
    "start_time": "2021-08-16T14:23:33.015Z"
   },
   {
    "duration": 18,
    "start_time": "2021-08-16T14:23:47.773Z"
   },
   {
    "duration": 9,
    "start_time": "2021-08-16T14:23:47.793Z"
   },
   {
    "duration": 48,
    "start_time": "2021-08-16T14:23:47.809Z"
   },
   {
    "duration": 14,
    "start_time": "2021-08-16T14:23:47.860Z"
   },
   {
    "duration": 22,
    "start_time": "2021-08-16T14:23:47.876Z"
   },
   {
    "duration": 4,
    "start_time": "2021-08-16T14:23:47.900Z"
   },
   {
    "duration": 15738,
    "start_time": "2021-08-16T14:23:47.907Z"
   },
   {
    "duration": 26,
    "start_time": "2021-08-16T14:24:03.647Z"
   },
   {
    "duration": 18,
    "start_time": "2021-08-16T14:24:03.675Z"
   },
   {
    "duration": 28,
    "start_time": "2021-08-16T14:24:03.695Z"
   },
   {
    "duration": 39,
    "start_time": "2021-08-16T14:24:03.726Z"
   },
   {
    "duration": 20,
    "start_time": "2021-08-16T14:24:03.768Z"
   },
   {
    "duration": 60,
    "start_time": "2021-08-16T14:24:03.791Z"
   },
   {
    "duration": 7,
    "start_time": "2021-08-16T14:24:03.855Z"
   },
   {
    "duration": 19,
    "start_time": "2021-08-16T14:24:03.864Z"
   },
   {
    "duration": 24,
    "start_time": "2021-08-16T14:24:03.886Z"
   },
   {
    "duration": 13,
    "start_time": "2021-08-16T14:24:03.913Z"
   },
   {
    "duration": 38,
    "start_time": "2021-08-16T14:24:03.928Z"
   },
   {
    "duration": 11,
    "start_time": "2021-08-16T14:24:03.968Z"
   },
   {
    "duration": 20,
    "start_time": "2021-08-16T14:24:03.981Z"
   },
   {
    "duration": 11,
    "start_time": "2021-08-16T14:24:04.003Z"
   },
   {
    "duration": 43,
    "start_time": "2021-08-16T14:24:04.016Z"
   },
   {
    "duration": 20,
    "start_time": "2021-08-16T14:24:04.061Z"
   },
   {
    "duration": 20,
    "start_time": "2021-08-16T14:24:04.083Z"
   },
   {
    "duration": 12,
    "start_time": "2021-08-16T14:24:04.105Z"
   },
   {
    "duration": 34,
    "start_time": "2021-08-16T14:24:04.119Z"
   },
   {
    "duration": 23,
    "start_time": "2021-08-16T14:24:04.155Z"
   },
   {
    "duration": 39,
    "start_time": "2021-08-16T14:24:04.180Z"
   },
   {
    "duration": 65,
    "start_time": "2021-08-16T14:24:04.222Z"
   },
   {
    "duration": 17,
    "start_time": "2021-08-16T14:24:04.289Z"
   },
   {
    "duration": 17,
    "start_time": "2021-08-16T14:24:04.309Z"
   },
   {
    "duration": 11,
    "start_time": "2021-08-16T14:24:04.356Z"
   },
   {
    "duration": 12,
    "start_time": "2021-08-16T14:24:04.369Z"
   },
   {
    "duration": 4423,
    "start_time": "2021-08-16T14:24:04.383Z"
   },
   {
    "duration": 14,
    "start_time": "2021-08-16T14:24:08.808Z"
   },
   {
    "duration": 15,
    "start_time": "2021-08-16T14:24:08.825Z"
   },
   {
    "duration": 16,
    "start_time": "2021-08-16T14:24:08.842Z"
   },
   {
    "duration": 1088,
    "start_time": "2021-08-16T14:24:08.861Z"
   },
   {
    "duration": 20,
    "start_time": "2021-08-16T14:24:09.951Z"
   },
   {
    "duration": 14,
    "start_time": "2021-08-16T14:47:55.430Z"
   },
   {
    "duration": 12,
    "start_time": "2021-08-16T14:48:23.469Z"
   },
   {
    "duration": 9,
    "start_time": "2021-08-16T14:51:53.199Z"
   },
   {
    "duration": 13,
    "start_time": "2021-08-16T14:53:39.781Z"
   },
   {
    "duration": 17,
    "start_time": "2021-08-16T14:53:53.627Z"
   },
   {
    "duration": 513,
    "start_time": "2021-08-16T15:08:09.245Z"
   },
   {
    "duration": 21,
    "start_time": "2021-08-16T15:12:40.468Z"
   },
   {
    "duration": 29,
    "start_time": "2021-08-16T15:13:00.626Z"
   },
   {
    "duration": 22,
    "start_time": "2021-08-16T15:13:18.874Z"
   },
   {
    "duration": 329,
    "start_time": "2021-08-16T15:14:01.230Z"
   },
   {
    "duration": 340,
    "start_time": "2021-08-16T15:14:08.117Z"
   },
   {
    "duration": 11,
    "start_time": "2021-08-16T15:14:39.684Z"
   },
   {
    "duration": 10,
    "start_time": "2021-08-16T15:14:47.619Z"
   },
   {
    "duration": 15,
    "start_time": "2021-08-16T15:14:53.813Z"
   },
   {
    "duration": 23,
    "start_time": "2021-08-16T15:14:54.819Z"
   },
   {
    "duration": 13,
    "start_time": "2021-08-16T15:14:55.282Z"
   },
   {
    "duration": 330,
    "start_time": "2021-08-16T15:16:40.757Z"
   },
   {
    "duration": 8,
    "start_time": "2021-08-16T15:16:57.643Z"
   },
   {
    "duration": 120,
    "start_time": "2021-08-16T15:17:43.784Z"
   },
   {
    "duration": 15,
    "start_time": "2021-08-16T15:17:46.151Z"
   },
   {
    "duration": 24,
    "start_time": "2021-08-16T15:17:47.066Z"
   },
   {
    "duration": 157,
    "start_time": "2021-08-16T15:17:49.095Z"
   },
   {
    "duration": 14,
    "start_time": "2021-08-16T15:18:38.102Z"
   },
   {
    "duration": 22,
    "start_time": "2021-08-16T15:18:38.303Z"
   },
   {
    "duration": 5,
    "start_time": "2021-08-16T15:20:00.358Z"
   },
   {
    "duration": 25,
    "start_time": "2021-08-16T15:22:23.919Z"
   },
   {
    "duration": 339,
    "start_time": "2021-08-16T15:27:29.524Z"
   },
   {
    "duration": 12,
    "start_time": "2021-08-16T15:28:35.172Z"
   },
   {
    "duration": 11,
    "start_time": "2021-08-16T15:28:44.082Z"
   },
   {
    "duration": 106,
    "start_time": "2021-08-16T15:29:40.829Z"
   },
   {
    "duration": 10,
    "start_time": "2021-08-16T15:29:43.789Z"
   },
   {
    "duration": 10,
    "start_time": "2021-08-16T15:30:11.994Z"
   },
   {
    "duration": 10,
    "start_time": "2021-08-16T15:30:22.835Z"
   },
   {
    "duration": 9,
    "start_time": "2021-08-16T15:30:25.145Z"
   },
   {
    "duration": 10,
    "start_time": "2021-08-16T15:30:29.717Z"
   },
   {
    "duration": 14,
    "start_time": "2021-08-16T15:30:39.481Z"
   },
   {
    "duration": 25,
    "start_time": "2021-08-16T15:30:39.680Z"
   },
   {
    "duration": 10,
    "start_time": "2021-08-16T15:30:45.538Z"
   },
   {
    "duration": 5,
    "start_time": "2021-08-16T15:33:29.934Z"
   },
   {
    "duration": 6,
    "start_time": "2021-08-16T15:34:22.267Z"
   },
   {
    "duration": 333,
    "start_time": "2021-08-16T15:34:50.833Z"
   },
   {
    "duration": 9,
    "start_time": "2021-08-16T15:35:15.217Z"
   },
   {
    "duration": 345,
    "start_time": "2021-08-16T15:38:30.299Z"
   },
   {
    "duration": 7,
    "start_time": "2021-08-16T15:38:35.544Z"
   },
   {
    "duration": 8,
    "start_time": "2021-08-16T15:38:44.969Z"
   },
   {
    "duration": 19,
    "start_time": "2021-08-16T15:39:06.806Z"
   },
   {
    "duration": 7,
    "start_time": "2021-08-16T15:39:52.167Z"
   },
   {
    "duration": 5,
    "start_time": "2021-08-16T15:40:12.507Z"
   },
   {
    "duration": 340,
    "start_time": "2021-08-16T15:51:06.251Z"
   },
   {
    "duration": 15,
    "start_time": "2021-08-16T15:51:16.178Z"
   },
   {
    "duration": 109,
    "start_time": "2021-08-16T15:51:31.130Z"
   },
   {
    "duration": 297,
    "start_time": "2021-08-16T15:51:35.130Z"
   },
   {
    "duration": 284,
    "start_time": "2021-08-16T15:51:41.432Z"
   },
   {
    "duration": 342,
    "start_time": "2021-08-16T15:59:18.421Z"
   },
   {
    "duration": 13,
    "start_time": "2021-08-16T16:02:12.578Z"
   },
   {
    "duration": 12,
    "start_time": "2021-08-16T16:02:29.917Z"
   },
   {
    "duration": 112,
    "start_time": "2021-08-16T16:02:34.190Z"
   },
   {
    "duration": 13,
    "start_time": "2021-08-16T16:02:39.281Z"
   },
   {
    "duration": 117,
    "start_time": "2021-08-16T16:10:16.929Z"
   },
   {
    "duration": 107,
    "start_time": "2021-08-16T16:10:23.239Z"
   },
   {
    "duration": 32,
    "start_time": "2021-08-16T16:10:27.153Z"
   },
   {
    "duration": 35,
    "start_time": "2021-08-16T16:10:36.130Z"
   },
   {
    "duration": 36,
    "start_time": "2021-08-16T16:11:23.704Z"
   },
   {
    "duration": 31,
    "start_time": "2021-08-16T16:22:53.652Z"
   },
   {
    "duration": 32,
    "start_time": "2021-08-16T16:23:03.760Z"
   },
   {
    "duration": 38,
    "start_time": "2021-08-16T16:23:28.742Z"
   },
   {
    "duration": 33,
    "start_time": "2021-08-16T16:23:48.934Z"
   },
   {
    "duration": 27,
    "start_time": "2021-08-16T16:25:12.935Z"
   },
   {
    "duration": 34,
    "start_time": "2021-08-16T16:25:20.559Z"
   },
   {
    "duration": 6168,
    "start_time": "2021-08-16T16:25:44.831Z"
   },
   {
    "duration": 8306,
    "start_time": "2021-08-16T16:25:57.101Z"
   },
   {
    "duration": 27,
    "start_time": "2021-08-16T16:26:09.101Z"
   },
   {
    "duration": 29,
    "start_time": "2021-08-16T16:26:16.444Z"
   },
   {
    "duration": 28,
    "start_time": "2021-08-16T16:26:32.530Z"
   },
   {
    "duration": 6480,
    "start_time": "2021-08-16T16:26:50.689Z"
   },
   {
    "duration": 36,
    "start_time": "2021-08-16T16:26:59.586Z"
   },
   {
    "duration": 32,
    "start_time": "2021-08-16T16:27:02.048Z"
   },
   {
    "duration": 26,
    "start_time": "2021-08-16T16:28:33.858Z"
   },
   {
    "duration": 41,
    "start_time": "2021-08-16T16:28:38.565Z"
   },
   {
    "duration": 41,
    "start_time": "2021-08-16T16:33:20.553Z"
   },
   {
    "duration": 31,
    "start_time": "2021-08-16T16:36:32.247Z"
   },
   {
    "duration": 42,
    "start_time": "2021-08-16T16:36:40.256Z"
   },
   {
    "duration": 61,
    "start_time": "2021-08-16T16:36:59.039Z"
   },
   {
    "duration": 61,
    "start_time": "2021-08-16T16:37:05.884Z"
   },
   {
    "duration": 379,
    "start_time": "2021-08-16T16:37:12.027Z"
   },
   {
    "duration": 43,
    "start_time": "2021-08-16T16:37:18.314Z"
   },
   {
    "duration": 55,
    "start_time": "2021-08-16T16:37:44.913Z"
   },
   {
    "duration": 340,
    "start_time": "2021-08-16T16:39:26.463Z"
   },
   {
    "duration": 7,
    "start_time": "2021-08-16T16:40:52.896Z"
   },
   {
    "duration": 72,
    "start_time": "2021-08-16T16:41:38.059Z"
   },
   {
    "duration": 85,
    "start_time": "2021-08-16T16:41:49.660Z"
   },
   {
    "duration": 58,
    "start_time": "2021-08-16T16:43:03.117Z"
   },
   {
    "duration": -1939,
    "start_time": "2021-08-16T16:52:02.330Z"
   },
   {
    "duration": 87,
    "start_time": "2021-08-16T16:52:01.812Z"
   },
   {
    "duration": 65,
    "start_time": "2021-08-16T16:54:08.923Z"
   },
   {
    "duration": 348,
    "start_time": "2021-08-16T16:54:51.353Z"
   },
   {
    "duration": 33,
    "start_time": "2021-08-16T16:54:56.345Z"
   },
   {
    "duration": 31,
    "start_time": "2021-08-16T16:55:38.750Z"
   },
   {
    "duration": 81,
    "start_time": "2021-08-16T17:29:37.798Z"
   },
   {
    "duration": 409,
    "start_time": "2021-08-16T17:30:11.577Z"
   },
   {
    "duration": 83,
    "start_time": "2021-08-16T17:30:15.618Z"
   },
   {
    "duration": 325,
    "start_time": "2021-08-16T17:31:18.592Z"
   },
   {
    "duration": 347,
    "start_time": "2021-08-16T17:31:36.884Z"
   },
   {
    "duration": 375,
    "start_time": "2021-08-16T17:31:39.764Z"
   },
   {
    "duration": 358,
    "start_time": "2021-08-16T17:32:21.610Z"
   },
   {
    "duration": 6,
    "start_time": "2021-08-16T17:32:24.193Z"
   },
   {
    "duration": 610,
    "start_time": "2021-08-16T17:32:39.868Z"
   },
   {
    "duration": 78,
    "start_time": "2021-08-16T17:32:53.080Z"
   },
   {
    "duration": 75,
    "start_time": "2021-08-16T17:33:40.273Z"
   },
   {
    "duration": 78,
    "start_time": "2021-08-16T17:33:57.874Z"
   },
   {
    "duration": 120,
    "start_time": "2021-08-16T17:34:21.018Z"
   },
   {
    "duration": 5,
    "start_time": "2021-08-16T17:34:52.216Z"
   },
   {
    "duration": 85,
    "start_time": "2021-08-16T17:35:05.807Z"
   },
   {
    "duration": 78,
    "start_time": "2021-08-16T17:35:50.172Z"
   },
   {
    "duration": 426,
    "start_time": "2021-08-16T17:36:43.514Z"
   },
   {
    "duration": 86,
    "start_time": "2021-08-16T17:36:46.579Z"
   },
   {
    "duration": 6,
    "start_time": "2021-08-16T17:36:59.975Z"
   },
   {
    "duration": 6,
    "start_time": "2021-08-16T17:37:02.952Z"
   },
   {
    "duration": 31,
    "start_time": "2021-08-16T17:37:49.976Z"
   },
   {
    "duration": 86,
    "start_time": "2021-08-16T17:38:25.322Z"
   },
   {
    "duration": 32,
    "start_time": "2021-08-16T17:38:47.641Z"
   },
   {
    "duration": 3,
    "start_time": "2021-08-16T17:39:28.183Z"
   },
   {
    "duration": 84,
    "start_time": "2021-08-16T17:59:07.878Z"
   },
   {
    "duration": 88,
    "start_time": "2021-08-16T18:02:50.810Z"
   },
   {
    "duration": 108,
    "start_time": "2021-08-16T18:02:59.310Z"
   },
   {
    "duration": 87,
    "start_time": "2021-08-16T18:03:02.361Z"
   },
   {
    "duration": 79,
    "start_time": "2021-08-16T18:03:31.933Z"
   },
   {
    "duration": 81,
    "start_time": "2021-08-16T18:03:44.463Z"
   },
   {
    "duration": 247,
    "start_time": "2021-08-16T18:08:40.354Z"
   },
   {
    "duration": 347,
    "start_time": "2021-08-16T18:08:50.041Z"
   },
   {
    "duration": 400,
    "start_time": "2021-08-16T18:09:06.942Z"
   },
   {
    "duration": 223,
    "start_time": "2021-08-16T18:09:21.839Z"
   },
   {
    "duration": 4,
    "start_time": "2021-08-16T18:48:30.843Z"
   },
   {
    "duration": 102,
    "start_time": "2021-08-16T18:48:30.849Z"
   },
   {
    "duration": 14,
    "start_time": "2021-08-16T18:48:30.954Z"
   },
   {
    "duration": 25,
    "start_time": "2021-08-16T18:48:30.971Z"
   },
   {
    "duration": 8,
    "start_time": "2021-08-16T18:48:30.998Z"
   },
   {
    "duration": 62,
    "start_time": "2021-08-16T18:48:31.009Z"
   },
   {
    "duration": 24,
    "start_time": "2021-08-16T18:48:31.074Z"
   },
   {
    "duration": 63,
    "start_time": "2021-08-16T18:48:31.101Z"
   },
   {
    "duration": 36,
    "start_time": "2021-08-16T18:48:31.167Z"
   },
   {
    "duration": 52,
    "start_time": "2021-08-16T18:48:31.205Z"
   },
   {
    "duration": 22,
    "start_time": "2021-08-16T18:48:31.259Z"
   },
   {
    "duration": 22,
    "start_time": "2021-08-16T18:48:31.283Z"
   },
   {
    "duration": 14,
    "start_time": "2021-08-16T18:48:31.307Z"
   },
   {
    "duration": 43,
    "start_time": "2021-08-16T18:48:31.324Z"
   },
   {
    "duration": 6,
    "start_time": "2021-08-16T18:48:31.370Z"
   },
   {
    "duration": 24,
    "start_time": "2021-08-16T18:48:31.379Z"
   },
   {
    "duration": 20,
    "start_time": "2021-08-16T18:48:31.406Z"
   },
   {
    "duration": 44,
    "start_time": "2021-08-16T18:48:31.428Z"
   },
   {
    "duration": 16,
    "start_time": "2021-08-16T18:48:31.478Z"
   },
   {
    "duration": 14693,
    "start_time": "2021-08-16T18:48:31.497Z"
   },
   {
    "duration": 17,
    "start_time": "2021-08-16T18:48:46.193Z"
   },
   {
    "duration": 8,
    "start_time": "2021-08-16T18:48:46.212Z"
   },
   {
    "duration": 46,
    "start_time": "2021-08-16T18:48:46.223Z"
   },
   {
    "duration": 17,
    "start_time": "2021-08-16T18:48:46.272Z"
   },
   {
    "duration": 20,
    "start_time": "2021-08-16T18:48:46.292Z"
   },
   {
    "duration": 40,
    "start_time": "2021-08-16T18:48:46.316Z"
   },
   {
    "duration": 15885,
    "start_time": "2021-08-16T18:48:46.360Z"
   },
   {
    "duration": 26,
    "start_time": "2021-08-16T18:49:02.248Z"
   },
   {
    "duration": 16,
    "start_time": "2021-08-16T18:49:02.277Z"
   },
   {
    "duration": 31,
    "start_time": "2021-08-16T18:49:02.296Z"
   },
   {
    "duration": 20,
    "start_time": "2021-08-16T18:49:02.355Z"
   },
   {
    "duration": 17,
    "start_time": "2021-08-16T18:49:02.377Z"
   },
   {
    "duration": 65,
    "start_time": "2021-08-16T18:49:02.397Z"
   },
   {
    "duration": 8,
    "start_time": "2021-08-16T18:49:02.465Z"
   },
   {
    "duration": 14,
    "start_time": "2021-08-16T18:49:02.475Z"
   },
   {
    "duration": 26,
    "start_time": "2021-08-16T18:49:02.491Z"
   },
   {
    "duration": 39,
    "start_time": "2021-08-16T18:49:02.520Z"
   },
   {
    "duration": 15,
    "start_time": "2021-08-16T18:49:02.562Z"
   },
   {
    "duration": 13,
    "start_time": "2021-08-16T18:49:02.579Z"
   },
   {
    "duration": 22,
    "start_time": "2021-08-16T18:49:02.594Z"
   },
   {
    "duration": 39,
    "start_time": "2021-08-16T18:49:02.618Z"
   },
   {
    "duration": 18,
    "start_time": "2021-08-16T18:49:02.660Z"
   },
   {
    "duration": 20,
    "start_time": "2021-08-16T18:49:02.681Z"
   },
   {
    "duration": 11,
    "start_time": "2021-08-16T18:49:02.705Z"
   },
   {
    "duration": 38,
    "start_time": "2021-08-16T18:49:02.718Z"
   },
   {
    "duration": 14,
    "start_time": "2021-08-16T18:49:02.758Z"
   },
   {
    "duration": 20,
    "start_time": "2021-08-16T18:49:02.774Z"
   },
   {
    "duration": 66,
    "start_time": "2021-08-16T18:49:02.796Z"
   },
   {
    "duration": 40,
    "start_time": "2021-08-16T18:49:02.864Z"
   },
   {
    "duration": 16,
    "start_time": "2021-08-16T18:49:02.907Z"
   },
   {
    "duration": 43,
    "start_time": "2021-08-16T18:49:02.926Z"
   },
   {
    "duration": 8,
    "start_time": "2021-08-16T18:49:02.972Z"
   },
   {
    "duration": 7,
    "start_time": "2021-08-16T18:49:02.982Z"
   },
   {
    "duration": 4441,
    "start_time": "2021-08-16T18:49:02.992Z"
   },
   {
    "duration": 23,
    "start_time": "2021-08-16T18:49:07.441Z"
   },
   {
    "duration": 5,
    "start_time": "2021-08-16T18:49:07.468Z"
   },
   {
    "duration": 1189,
    "start_time": "2021-08-16T18:49:07.476Z"
   },
   {
    "duration": 17,
    "start_time": "2021-08-16T18:49:08.668Z"
   },
   {
    "duration": 16,
    "start_time": "2021-08-16T18:49:08.688Z"
   },
   {
    "duration": 61,
    "start_time": "2021-08-16T18:49:08.707Z"
   },
   {
    "duration": 20,
    "start_time": "2021-08-16T18:49:08.770Z"
   },
   {
    "duration": 14,
    "start_time": "2021-08-16T18:49:08.792Z"
   },
   {
    "duration": 12,
    "start_time": "2021-08-16T18:49:08.808Z"
   },
   {
    "duration": 35,
    "start_time": "2021-08-16T18:49:08.822Z"
   },
   {
    "duration": 84,
    "start_time": "2021-08-16T18:49:08.859Z"
   },
   {
    "duration": 252,
    "start_time": "2021-08-16T18:49:08.956Z"
   },
   {
    "duration": 9,
    "start_time": "2021-08-16T18:50:14.343Z"
   },
   {
    "duration": 17,
    "start_time": "2021-08-16T18:50:21.115Z"
   },
   {
    "duration": 8,
    "start_time": "2021-08-16T18:50:40.876Z"
   },
   {
    "duration": 8,
    "start_time": "2021-08-16T18:51:02.562Z"
   },
   {
    "duration": 13,
    "start_time": "2021-08-16T18:52:43.023Z"
   },
   {
    "duration": 80,
    "start_time": "2021-08-16T18:56:35.159Z"
   },
   {
    "duration": 9,
    "start_time": "2021-08-16T18:59:03.559Z"
   },
   {
    "duration": 114,
    "start_time": "2021-08-16T19:02:01.221Z"
   },
   {
    "duration": 222,
    "start_time": "2021-08-16T19:04:39.494Z"
   },
   {
    "duration": 256,
    "start_time": "2021-08-16T19:05:39.421Z"
   },
   {
    "duration": 252,
    "start_time": "2021-08-16T19:06:20.974Z"
   },
   {
    "duration": 249,
    "start_time": "2021-08-16T19:08:42.484Z"
   },
   {
    "duration": 563,
    "start_time": "2021-08-16T19:09:18.376Z"
   },
   {
    "duration": 287,
    "start_time": "2021-08-16T19:09:28.201Z"
   },
   {
    "duration": 125,
    "start_time": "2021-08-16T19:10:13.335Z"
   },
   {
    "duration": 558,
    "start_time": "2021-08-16T19:10:18.444Z"
   },
   {
    "duration": 264,
    "start_time": "2021-08-16T19:11:29.338Z"
   },
   {
    "duration": 288,
    "start_time": "2021-08-16T19:11:38.288Z"
   },
   {
    "duration": 261,
    "start_time": "2021-08-16T19:13:03.814Z"
   },
   {
    "duration": 253,
    "start_time": "2021-08-16T19:13:26.211Z"
   },
   {
    "duration": 884,
    "start_time": "2021-08-16T19:14:07.920Z"
   },
   {
    "duration": 494,
    "start_time": "2021-08-16T19:14:17.278Z"
   },
   {
    "duration": 263,
    "start_time": "2021-08-16T19:14:50.104Z"
   },
   {
    "duration": 9,
    "start_time": "2021-08-16T19:17:50.980Z"
   },
   {
    "duration": 271,
    "start_time": "2021-08-16T19:19:44.228Z"
   },
   {
    "duration": 267,
    "start_time": "2021-08-16T19:19:53.590Z"
   },
   {
    "duration": 285,
    "start_time": "2021-08-16T19:20:30.796Z"
   },
   {
    "duration": 305,
    "start_time": "2021-08-16T19:21:58.039Z"
   },
   {
    "duration": 1880,
    "start_time": "2021-08-16T19:25:00.997Z"
   },
   {
    "duration": 14,
    "start_time": "2021-08-16T19:26:30.093Z"
   },
   {
    "duration": 643,
    "start_time": "2021-08-16T19:26:57.333Z"
   },
   {
    "duration": 611,
    "start_time": "2021-08-16T19:30:15.175Z"
   },
   {
    "duration": 7076,
    "start_time": "2021-08-16T19:31:06.681Z"
   },
   {
    "duration": 336,
    "start_time": "2021-08-16T19:31:42.429Z"
   },
   {
    "duration": 10,
    "start_time": "2021-08-16T19:33:01.829Z"
   },
   {
    "duration": 9,
    "start_time": "2021-08-16T19:33:11.844Z"
   },
   {
    "duration": 11,
    "start_time": "2021-08-16T19:33:16.701Z"
   },
   {
    "duration": 11,
    "start_time": "2021-08-16T19:35:14.328Z"
   },
   {
    "duration": 14,
    "start_time": "2021-08-16T19:39:32.572Z"
   },
   {
    "duration": 31,
    "start_time": "2021-08-16T19:40:29.661Z"
   },
   {
    "duration": 80,
    "start_time": "2021-08-16T19:40:56.362Z"
   },
   {
    "duration": 8,
    "start_time": "2021-08-16T19:41:12.747Z"
   },
   {
    "duration": 77,
    "start_time": "2021-08-16T19:42:46.017Z"
   },
   {
    "duration": 107,
    "start_time": "2021-08-16T19:43:11.073Z"
   },
   {
    "duration": 108,
    "start_time": "2021-08-16T19:43:15.681Z"
   },
   {
    "duration": 265,
    "start_time": "2021-08-16T19:43:32.006Z"
   },
   {
    "duration": 276,
    "start_time": "2021-08-16T19:44:45.484Z"
   },
   {
    "duration": 427,
    "start_time": "2021-08-16T19:45:01.190Z"
   },
   {
    "duration": 11,
    "start_time": "2021-08-16T19:48:21.826Z"
   },
   {
    "duration": 8,
    "start_time": "2021-08-16T20:33:58.919Z"
   },
   {
    "duration": 1579,
    "start_time": "2021-08-17T06:22:36.101Z"
   },
   {
    "duration": 81,
    "start_time": "2021-08-17T06:22:40.256Z"
   },
   {
    "duration": 15,
    "start_time": "2021-08-17T06:23:15.489Z"
   },
   {
    "duration": 19,
    "start_time": "2021-08-17T06:23:34.048Z"
   },
   {
    "duration": 8,
    "start_time": "2021-08-17T06:23:38.591Z"
   },
   {
    "duration": 25,
    "start_time": "2021-08-17T06:26:36.854Z"
   },
   {
    "duration": 147,
    "start_time": "2021-08-17T06:28:54.158Z"
   },
   {
    "duration": 23,
    "start_time": "2021-08-17T06:40:55.156Z"
   },
   {
    "duration": 204,
    "start_time": "2021-08-17T06:42:49.155Z"
   },
   {
    "duration": 21,
    "start_time": "2021-08-17T06:45:59.426Z"
   },
   {
    "duration": 15,
    "start_time": "2021-08-17T06:46:57.045Z"
   },
   {
    "duration": 6,
    "start_time": "2021-08-17T06:52:44.369Z"
   },
   {
    "duration": 15,
    "start_time": "2021-08-17T06:52:49.069Z"
   },
   {
    "duration": 8,
    "start_time": "2021-08-17T06:52:49.999Z"
   },
   {
    "duration": 14,
    "start_time": "2021-08-17T06:52:57.597Z"
   },
   {
    "duration": 9,
    "start_time": "2021-08-17T06:52:58.266Z"
   },
   {
    "duration": 8,
    "start_time": "2021-08-17T06:53:11.560Z"
   },
   {
    "duration": 1299,
    "start_time": "2021-08-17T06:55:05.478Z"
   },
   {
    "duration": 13,
    "start_time": "2021-08-17T06:57:20.286Z"
   },
   {
    "duration": 16,
    "start_time": "2021-08-17T06:57:55.556Z"
   },
   {
    "duration": 10,
    "start_time": "2021-08-17T06:59:29.254Z"
   },
   {
    "duration": 11,
    "start_time": "2021-08-17T07:00:27.919Z"
   },
   {
    "duration": 631,
    "start_time": "2021-08-17T07:09:06.178Z"
   },
   {
    "duration": 414,
    "start_time": "2021-08-17T07:09:11.862Z"
   },
   {
    "duration": 124,
    "start_time": "2021-08-17T07:10:16.717Z"
   },
   {
    "duration": 4,
    "start_time": "2021-08-17T07:10:49.452Z"
   },
   {
    "duration": 1777,
    "start_time": "2021-08-17T07:11:05.410Z"
   },
   {
    "duration": 1458,
    "start_time": "2021-08-17T07:11:19.193Z"
   },
   {
    "duration": 1777,
    "start_time": "2021-08-17T07:11:35.224Z"
   },
   {
    "duration": 13,
    "start_time": "2021-08-17T07:23:50.740Z"
   },
   {
    "duration": 14,
    "start_time": "2021-08-17T07:24:05.805Z"
   },
   {
    "duration": 13,
    "start_time": "2021-08-17T07:24:32.224Z"
   },
   {
    "duration": 453,
    "start_time": "2021-08-17T07:31:33.430Z"
   },
   {
    "duration": 29,
    "start_time": "2021-08-17T07:31:42.542Z"
   },
   {
    "duration": 16,
    "start_time": "2021-08-17T07:31:43.286Z"
   },
   {
    "duration": 131,
    "start_time": "2021-08-17T07:39:37.680Z"
   },
   {
    "duration": 139,
    "start_time": "2021-08-17T07:41:51.528Z"
   },
   {
    "duration": 510,
    "start_time": "2021-08-17T07:42:29.269Z"
   },
   {
    "duration": 15403,
    "start_time": "2021-08-17T07:42:35.164Z"
   },
   {
    "duration": 19,
    "start_time": "2021-08-17T07:43:04.564Z"
   },
   {
    "duration": 22,
    "start_time": "2021-08-17T07:43:31.799Z"
   },
   {
    "duration": 23,
    "start_time": "2021-08-17T07:43:37.017Z"
   },
   {
    "duration": 19,
    "start_time": "2021-08-17T07:49:41.399Z"
   },
   {
    "duration": 1212,
    "start_time": "2021-08-17T07:51:32.825Z"
   },
   {
    "duration": 1129,
    "start_time": "2021-08-17T07:51:43.321Z"
   },
   {
    "duration": 10,
    "start_time": "2021-08-17T07:54:28.495Z"
   },
   {
    "duration": 11,
    "start_time": "2021-08-17T07:54:38.999Z"
   },
   {
    "duration": 10,
    "start_time": "2021-08-17T07:54:55.126Z"
   },
   {
    "duration": 13,
    "start_time": "2021-08-17T07:54:58.910Z"
   },
   {
    "duration": 21,
    "start_time": "2021-08-17T08:06:32.108Z"
   },
   {
    "duration": 15,
    "start_time": "2021-08-17T08:06:32.691Z"
   },
   {
    "duration": 21,
    "start_time": "2021-08-17T08:06:39.970Z"
   },
   {
    "duration": 19,
    "start_time": "2021-08-17T08:08:35.192Z"
   },
   {
    "duration": 6,
    "start_time": "2021-08-17T08:08:51.845Z"
   },
   {
    "duration": 5,
    "start_time": "2021-08-17T08:09:17.976Z"
   },
   {
    "duration": 16966,
    "start_time": "2021-08-17T08:14:08.422Z"
   },
   {
    "duration": 23,
    "start_time": "2021-08-17T08:14:29.837Z"
   },
   {
    "duration": 20,
    "start_time": "2021-08-17T08:14:35.965Z"
   },
   {
    "duration": 21,
    "start_time": "2021-08-17T08:14:44.358Z"
   },
   {
    "duration": 19,
    "start_time": "2021-08-17T08:15:01.674Z"
   },
   {
    "duration": 18,
    "start_time": "2021-08-17T08:15:16.849Z"
   },
   {
    "duration": 18,
    "start_time": "2021-08-17T08:16:26.934Z"
   },
   {
    "duration": 39,
    "start_time": "2021-08-17T08:18:22.854Z"
   },
   {
    "duration": 31,
    "start_time": "2021-08-17T08:18:33.373Z"
   },
   {
    "duration": 34,
    "start_time": "2021-08-17T08:18:47.828Z"
   },
   {
    "duration": 45,
    "start_time": "2021-08-17T08:19:01.134Z"
   },
   {
    "duration": 49,
    "start_time": "2021-08-17T08:19:13.547Z"
   },
   {
    "duration": 449,
    "start_time": "2021-08-17T08:19:41.530Z"
   },
   {
    "duration": 48,
    "start_time": "2021-08-17T08:19:48.617Z"
   },
   {
    "duration": 36,
    "start_time": "2021-08-17T08:20:10.943Z"
   },
   {
    "duration": 7,
    "start_time": "2021-08-17T08:20:23.919Z"
   },
   {
    "duration": 8,
    "start_time": "2021-08-17T08:20:25.112Z"
   },
   {
    "duration": 14,
    "start_time": "2021-08-17T08:22:26.454Z"
   },
   {
    "duration": 16,
    "start_time": "2021-08-17T08:22:29.119Z"
   },
   {
    "duration": 12,
    "start_time": "2021-08-17T08:22:38.798Z"
   },
   {
    "duration": 15,
    "start_time": "2021-08-17T08:22:40.606Z"
   },
   {
    "duration": 11,
    "start_time": "2021-08-17T08:24:11.332Z"
   },
   {
    "duration": 15,
    "start_time": "2021-08-17T08:24:12.224Z"
   },
   {
    "duration": 21,
    "start_time": "2021-08-17T08:24:21.071Z"
   },
   {
    "duration": 8,
    "start_time": "2021-08-17T08:24:22.260Z"
   },
   {
    "duration": 5,
    "start_time": "2021-08-17T08:24:22.929Z"
   },
   {
    "duration": 14,
    "start_time": "2021-08-17T08:24:25.431Z"
   },
   {
    "duration": 20,
    "start_time": "2021-08-17T08:24:50.297Z"
   },
   {
    "duration": 21,
    "start_time": "2021-08-17T08:26:11.529Z"
   },
   {
    "duration": 49,
    "start_time": "2021-08-17T08:26:16.744Z"
   },
   {
    "duration": 43,
    "start_time": "2021-08-17T08:26:17.657Z"
   },
   {
    "duration": 17,
    "start_time": "2021-08-17T08:26:37.136Z"
   },
   {
    "duration": 17,
    "start_time": "2021-08-17T08:27:36.390Z"
   },
   {
    "duration": 10,
    "start_time": "2021-08-17T08:27:41.238Z"
   },
   {
    "duration": 5,
    "start_time": "2021-08-17T08:49:17.867Z"
   },
   {
    "duration": 78,
    "start_time": "2021-08-17T08:49:18.004Z"
   },
   {
    "duration": 15,
    "start_time": "2021-08-17T08:49:18.270Z"
   },
   {
    "duration": 19,
    "start_time": "2021-08-17T08:49:18.431Z"
   },
   {
    "duration": 7,
    "start_time": "2021-08-17T08:49:18.568Z"
   },
   {
    "duration": 24,
    "start_time": "2021-08-17T08:49:19.200Z"
   },
   {
    "duration": 22,
    "start_time": "2021-08-17T08:49:19.780Z"
   },
   {
    "duration": 22,
    "start_time": "2021-08-17T08:49:20.217Z"
   },
   {
    "duration": 25,
    "start_time": "2021-08-17T08:49:20.791Z"
   },
   {
    "duration": 24,
    "start_time": "2021-08-17T08:49:21.534Z"
   },
   {
    "duration": 23,
    "start_time": "2021-08-17T08:49:22.096Z"
   },
   {
    "duration": 15,
    "start_time": "2021-08-17T08:49:22.966Z"
   },
   {
    "duration": 8,
    "start_time": "2021-08-17T08:49:27.796Z"
   },
   {
    "duration": 15,
    "start_time": "2021-08-17T08:49:27.926Z"
   },
   {
    "duration": 8,
    "start_time": "2021-08-17T08:49:28.065Z"
   },
   {
    "duration": 15,
    "start_time": "2021-08-17T08:49:28.197Z"
   },
   {
    "duration": 8,
    "start_time": "2021-08-17T08:49:28.333Z"
   },
   {
    "duration": 11,
    "start_time": "2021-08-17T08:49:28.900Z"
   },
   {
    "duration": 1792,
    "start_time": "2021-08-17T08:49:29.196Z"
   },
   {
    "duration": 12,
    "start_time": "2021-08-17T08:49:30.990Z"
   },
   {
    "duration": 34,
    "start_time": "2021-08-17T08:49:31.005Z"
   },
   {
    "duration": 10,
    "start_time": "2021-08-17T08:49:31.702Z"
   },
   {
    "duration": 29,
    "start_time": "2021-08-17T08:49:34.732Z"
   },
   {
    "duration": 14,
    "start_time": "2021-08-17T08:49:38.526Z"
   },
   {
    "duration": 18,
    "start_time": "2021-08-17T08:50:55.001Z"
   },
   {
    "duration": 548,
    "start_time": "2021-08-17T08:51:00.817Z"
   },
   {
    "duration": 18,
    "start_time": "2021-08-17T08:51:02.816Z"
   },
   {
    "duration": 14,
    "start_time": "2021-08-17T08:52:20.617Z"
   },
   {
    "duration": 1164,
    "start_time": "2021-08-17T08:52:33.441Z"
   },
   {
    "duration": 11,
    "start_time": "2021-08-17T08:52:34.608Z"
   },
   {
    "duration": 27,
    "start_time": "2021-08-17T08:52:34.622Z"
   },
   {
    "duration": 34,
    "start_time": "2021-08-17T08:52:34.652Z"
   },
   {
    "duration": 13,
    "start_time": "2021-08-17T08:52:34.689Z"
   },
   {
    "duration": 19,
    "start_time": "2021-08-17T08:52:36.250Z"
   },
   {
    "duration": 6,
    "start_time": "2021-08-17T08:52:40.935Z"
   },
   {
    "duration": 16954,
    "start_time": "2021-08-17T08:52:41.242Z"
   },
   {
    "duration": 23,
    "start_time": "2021-08-17T08:52:58.199Z"
   },
   {
    "duration": 19,
    "start_time": "2021-08-17T08:52:58.225Z"
   },
   {
    "duration": 57,
    "start_time": "2021-08-17T08:52:58.247Z"
   },
   {
    "duration": 21,
    "start_time": "2021-08-17T08:52:58.307Z"
   },
   {
    "duration": 22,
    "start_time": "2021-08-17T08:53:07.631Z"
   },
   {
    "duration": 41,
    "start_time": "2021-08-17T08:53:09.405Z"
   },
   {
    "duration": 8,
    "start_time": "2021-08-17T08:53:35.312Z"
   },
   {
    "duration": 8,
    "start_time": "2021-08-17T08:53:35.543Z"
   },
   {
    "duration": 17,
    "start_time": "2021-08-17T08:53:40.438Z"
   },
   {
    "duration": 17,
    "start_time": "2021-08-17T08:53:42.661Z"
   },
   {
    "duration": 15,
    "start_time": "2021-08-17T08:53:42.814Z"
   },
   {
    "duration": 15,
    "start_time": "2021-08-17T08:53:44.822Z"
   },
   {
    "duration": 16,
    "start_time": "2021-08-17T08:53:44.982Z"
   },
   {
    "duration": 15,
    "start_time": "2021-08-17T08:53:46.942Z"
   },
   {
    "duration": 15,
    "start_time": "2021-08-17T08:53:47.350Z"
   },
   {
    "duration": 23,
    "start_time": "2021-08-17T08:53:49.437Z"
   },
   {
    "duration": 7,
    "start_time": "2021-08-17T08:53:49.645Z"
   },
   {
    "duration": 5,
    "start_time": "2021-08-17T08:53:54.334Z"
   },
   {
    "duration": 14,
    "start_time": "2021-08-17T08:53:54.958Z"
   },
   {
    "duration": 19,
    "start_time": "2021-08-17T08:54:02.157Z"
   },
   {
    "duration": 40,
    "start_time": "2021-08-17T08:54:04.605Z"
   },
   {
    "duration": 43,
    "start_time": "2021-08-17T08:54:05.132Z"
   },
   {
    "duration": 17,
    "start_time": "2021-08-17T08:54:08.110Z"
   },
   {
    "duration": 17,
    "start_time": "2021-08-17T08:54:09.747Z"
   },
   {
    "duration": 9,
    "start_time": "2021-08-17T08:54:10.061Z"
   },
   {
    "duration": 9,
    "start_time": "2021-08-17T08:54:20.597Z"
   },
   {
    "duration": 4543,
    "start_time": "2021-08-17T08:54:44.957Z"
   },
   {
    "duration": 15,
    "start_time": "2021-08-17T08:55:06.425Z"
   },
   {
    "duration": 4,
    "start_time": "2021-08-17T08:55:40.527Z"
   },
   {
    "duration": 4,
    "start_time": "2021-08-17T08:56:08.573Z"
   },
   {
    "duration": 1107,
    "start_time": "2021-08-17T08:56:40.699Z"
   },
   {
    "duration": 16,
    "start_time": "2021-08-17T08:56:47.739Z"
   },
   {
    "duration": 3478,
    "start_time": "2021-08-17T08:57:48.009Z"
   },
   {
    "duration": 15,
    "start_time": "2021-08-17T08:57:54.583Z"
   },
   {
    "duration": 29,
    "start_time": "2021-08-17T08:57:55.455Z"
   },
   {
    "duration": 6,
    "start_time": "2021-08-17T08:58:12.198Z"
   },
   {
    "duration": 8,
    "start_time": "2021-08-17T08:58:53.524Z"
   },
   {
    "duration": 8,
    "start_time": "2021-08-17T08:58:55.787Z"
   },
   {
    "duration": 7,
    "start_time": "2021-08-17T08:59:03.611Z"
   },
   {
    "duration": 7,
    "start_time": "2021-08-17T08:59:05.523Z"
   },
   {
    "duration": 7,
    "start_time": "2021-08-17T08:59:09.461Z"
   },
   {
    "duration": 9,
    "start_time": "2021-08-17T08:59:10.986Z"
   },
   {
    "duration": 7,
    "start_time": "2021-08-17T08:59:12.810Z"
   },
   {
    "duration": 8,
    "start_time": "2021-08-17T08:59:13.826Z"
   },
   {
    "duration": 7,
    "start_time": "2021-08-17T08:59:14.978Z"
   },
   {
    "duration": 7,
    "start_time": "2021-08-17T08:59:18.289Z"
   },
   {
    "duration": 7,
    "start_time": "2021-08-17T08:59:20.090Z"
   },
   {
    "duration": 6,
    "start_time": "2021-08-17T08:59:21.611Z"
   },
   {
    "duration": 7,
    "start_time": "2021-08-17T08:59:22.882Z"
   },
   {
    "duration": 7,
    "start_time": "2021-08-17T08:59:24.193Z"
   },
   {
    "duration": 9,
    "start_time": "2021-08-17T08:59:25.452Z"
   },
   {
    "duration": 9,
    "start_time": "2021-08-17T08:59:38.992Z"
   },
   {
    "duration": 11,
    "start_time": "2021-08-17T09:00:12.612Z"
   },
   {
    "duration": 9,
    "start_time": "2021-08-17T09:00:36.725Z"
   },
   {
    "duration": 88,
    "start_time": "2021-08-17T09:01:54.083Z"
   },
   {
    "duration": 253,
    "start_time": "2021-08-17T09:03:16.075Z"
   },
   {
    "duration": 7,
    "start_time": "2021-08-17T09:04:09.337Z"
   },
   {
    "duration": 84,
    "start_time": "2021-08-17T09:11:45.782Z"
   },
   {
    "duration": 13,
    "start_time": "2021-08-17T09:13:09.953Z"
   },
   {
    "duration": 11,
    "start_time": "2021-08-17T09:16:24.624Z"
   },
   {
    "duration": 79,
    "start_time": "2021-08-17T09:18:02.894Z"
   },
   {
    "duration": 8,
    "start_time": "2021-08-17T09:19:24.295Z"
   },
   {
    "duration": 8,
    "start_time": "2021-08-17T09:20:31.970Z"
   },
   {
    "duration": 80,
    "start_time": "2021-08-17T09:23:37.980Z"
   },
   {
    "duration": 24,
    "start_time": "2021-08-17T09:23:58.460Z"
   },
   {
    "duration": 1674,
    "start_time": "2021-08-17T09:24:11.736Z"
   },
   {
    "duration": 82,
    "start_time": "2021-08-17T09:24:13.413Z"
   },
   {
    "duration": 17,
    "start_time": "2021-08-17T09:24:13.499Z"
   },
   {
    "duration": 19,
    "start_time": "2021-08-17T09:24:13.520Z"
   },
   {
    "duration": 46,
    "start_time": "2021-08-17T09:24:13.542Z"
   },
   {
    "duration": 29,
    "start_time": "2021-08-17T09:24:13.591Z"
   },
   {
    "duration": 24,
    "start_time": "2021-08-17T09:24:13.623Z"
   },
   {
    "duration": 30,
    "start_time": "2021-08-17T09:24:13.687Z"
   },
   {
    "duration": 39,
    "start_time": "2021-08-17T09:24:13.721Z"
   },
   {
    "duration": 45,
    "start_time": "2021-08-17T09:24:13.763Z"
   },
   {
    "duration": 31,
    "start_time": "2021-08-17T09:24:13.810Z"
   },
   {
    "duration": 56,
    "start_time": "2021-08-17T09:24:13.844Z"
   },
   {
    "duration": 10,
    "start_time": "2021-08-17T09:24:13.904Z"
   },
   {
    "duration": 28,
    "start_time": "2021-08-17T09:24:13.917Z"
   },
   {
    "duration": 19,
    "start_time": "2021-08-17T09:24:13.948Z"
   },
   {
    "duration": 36,
    "start_time": "2021-08-17T09:24:13.970Z"
   },
   {
    "duration": 11,
    "start_time": "2021-08-17T09:24:14.009Z"
   },
   {
    "duration": 19,
    "start_time": "2021-08-17T09:24:14.023Z"
   },
   {
    "duration": 2711,
    "start_time": "2021-08-17T09:24:14.045Z"
   },
   {
    "duration": 25,
    "start_time": "2021-08-17T09:24:16.760Z"
   },
   {
    "duration": 20,
    "start_time": "2021-08-17T09:24:16.789Z"
   },
   {
    "duration": 14,
    "start_time": "2021-08-17T09:24:16.813Z"
   },
   {
    "duration": 77,
    "start_time": "2021-08-17T09:24:16.840Z"
   },
   {
    "duration": 22,
    "start_time": "2021-08-17T09:24:16.923Z"
   },
   {
    "duration": 946,
    "start_time": "2021-08-17T09:24:16.948Z"
   },
   {
    "duration": 20,
    "start_time": "2021-08-17T09:24:17.897Z"
   },
   {
    "duration": 1197,
    "start_time": "2021-08-17T09:24:17.919Z"
   },
   {
    "duration": 10,
    "start_time": "2021-08-17T09:24:19.118Z"
   },
   {
    "duration": 16,
    "start_time": "2021-08-17T09:24:19.130Z"
   },
   {
    "duration": 47,
    "start_time": "2021-08-17T09:24:19.148Z"
   },
   {
    "duration": 14,
    "start_time": "2021-08-17T09:24:19.198Z"
   },
   {
    "duration": 23,
    "start_time": "2021-08-17T09:24:19.214Z"
   },
   {
    "duration": 10,
    "start_time": "2021-08-17T09:24:19.240Z"
   },
   {
    "duration": 16653,
    "start_time": "2021-08-17T09:24:19.253Z"
   },
   {
    "duration": 20,
    "start_time": "2021-08-17T09:24:35.909Z"
   },
   {
    "duration": 45,
    "start_time": "2021-08-17T09:24:35.932Z"
   },
   {
    "duration": 50,
    "start_time": "2021-08-17T09:24:35.980Z"
   },
   {
    "duration": 27,
    "start_time": "2021-08-17T09:24:36.033Z"
   },
   {
    "duration": 50,
    "start_time": "2021-08-17T09:24:36.063Z"
   },
   {
    "duration": 68,
    "start_time": "2021-08-17T09:24:36.116Z"
   },
   {
    "duration": 30,
    "start_time": "2021-08-17T09:24:36.186Z"
   },
   {
    "duration": 33,
    "start_time": "2021-08-17T09:24:36.219Z"
   },
   {
    "duration": 79,
    "start_time": "2021-08-17T09:24:36.255Z"
   },
   {
    "duration": 45,
    "start_time": "2021-08-17T09:24:36.337Z"
   },
   {
    "duration": 41,
    "start_time": "2021-08-17T09:24:36.384Z"
   },
   {
    "duration": 42,
    "start_time": "2021-08-17T09:24:36.427Z"
   },
   {
    "duration": 39,
    "start_time": "2021-08-17T09:24:36.472Z"
   },
   {
    "duration": 28,
    "start_time": "2021-08-17T09:24:36.514Z"
   },
   {
    "duration": 39,
    "start_time": "2021-08-17T09:24:36.544Z"
   },
   {
    "duration": 43,
    "start_time": "2021-08-17T09:24:36.586Z"
   },
   {
    "duration": 48,
    "start_time": "2021-08-17T09:24:36.632Z"
   },
   {
    "duration": 33,
    "start_time": "2021-08-17T09:24:36.682Z"
   },
   {
    "duration": 45,
    "start_time": "2021-08-17T09:24:36.718Z"
   },
   {
    "duration": 44,
    "start_time": "2021-08-17T09:24:36.766Z"
   },
   {
    "duration": 46,
    "start_time": "2021-08-17T09:24:36.813Z"
   },
   {
    "duration": 51,
    "start_time": "2021-08-17T09:24:36.862Z"
   },
   {
    "duration": 41,
    "start_time": "2021-08-17T09:24:36.915Z"
   },
   {
    "duration": 26,
    "start_time": "2021-08-17T09:24:36.959Z"
   },
   {
    "duration": 25,
    "start_time": "2021-08-17T09:24:36.987Z"
   },
   {
    "duration": 45,
    "start_time": "2021-08-17T09:24:37.014Z"
   },
   {
    "duration": 4496,
    "start_time": "2021-08-17T09:24:37.061Z"
   },
   {
    "duration": 25,
    "start_time": "2021-08-17T09:24:41.560Z"
   },
   {
    "duration": 8,
    "start_time": "2021-08-17T09:24:41.588Z"
   },
   {
    "duration": 1097,
    "start_time": "2021-08-17T09:24:41.599Z"
   },
   {
    "duration": 14,
    "start_time": "2021-08-17T09:24:42.698Z"
   },
   {
    "duration": 37,
    "start_time": "2021-08-17T09:24:42.714Z"
   },
   {
    "duration": 41,
    "start_time": "2021-08-17T09:24:42.753Z"
   },
   {
    "duration": 5,
    "start_time": "2021-08-17T09:24:42.803Z"
   },
   {
    "duration": 32,
    "start_time": "2021-08-17T09:24:42.811Z"
   },
   {
    "duration": 37,
    "start_time": "2021-08-17T09:24:42.845Z"
   },
   {
    "duration": 33,
    "start_time": "2021-08-17T09:24:42.884Z"
   },
   {
    "duration": 187,
    "start_time": "2021-08-17T09:24:42.919Z"
   },
   {
    "duration": 266,
    "start_time": "2021-08-17T09:24:43.109Z"
   },
   {
    "duration": 8,
    "start_time": "2021-08-17T09:24:43.385Z"
   },
   {
    "duration": 92,
    "start_time": "2021-08-17T09:24:43.396Z"
   },
   {
    "duration": 298,
    "start_time": "2021-08-17T09:24:43.490Z"
   },
   {
    "duration": 11,
    "start_time": "2021-08-17T09:24:43.791Z"
   },
   {
    "duration": 28,
    "start_time": "2021-08-17T09:24:43.804Z"
   },
   {
    "duration": 31,
    "start_time": "2021-08-17T09:24:43.835Z"
   },
   {
    "duration": 85,
    "start_time": "2021-08-17T09:24:43.869Z"
   },
   {
    "duration": 283,
    "start_time": "2021-08-17T09:24:43.957Z"
   },
   {
    "duration": 9,
    "start_time": "2021-08-17T09:24:44.243Z"
   },
   {
    "duration": 32,
    "start_time": "2021-08-17T09:24:44.255Z"
   },
   {
    "duration": 1627,
    "start_time": "2021-08-17T09:57:55.744Z"
   },
   {
    "duration": 87,
    "start_time": "2021-08-17T09:57:57.374Z"
   },
   {
    "duration": 25,
    "start_time": "2021-08-17T09:57:57.464Z"
   },
   {
    "duration": 19,
    "start_time": "2021-08-17T09:57:57.492Z"
   },
   {
    "duration": 8,
    "start_time": "2021-08-17T09:57:57.514Z"
   },
   {
    "duration": 63,
    "start_time": "2021-08-17T09:57:57.524Z"
   },
   {
    "duration": 26,
    "start_time": "2021-08-17T09:57:57.590Z"
   },
   {
    "duration": 34,
    "start_time": "2021-08-17T09:57:57.620Z"
   },
   {
    "duration": 52,
    "start_time": "2021-08-17T09:57:57.657Z"
   },
   {
    "duration": 24,
    "start_time": "2021-08-17T09:57:57.713Z"
   },
   {
    "duration": 61,
    "start_time": "2021-08-17T09:57:57.740Z"
   },
   {
    "duration": 24,
    "start_time": "2021-08-17T09:57:57.805Z"
   },
   {
    "duration": 13,
    "start_time": "2021-08-17T09:57:57.832Z"
   },
   {
    "duration": 58,
    "start_time": "2021-08-17T09:57:57.849Z"
   },
   {
    "duration": 13,
    "start_time": "2021-08-17T09:57:57.910Z"
   },
   {
    "duration": 18,
    "start_time": "2021-08-17T09:57:57.926Z"
   },
   {
    "duration": 43,
    "start_time": "2021-08-17T09:57:57.947Z"
   },
   {
    "duration": 22,
    "start_time": "2021-08-17T09:57:57.997Z"
   },
   {
    "duration": 3167,
    "start_time": "2021-08-17T09:57:58.022Z"
   },
   {
    "duration": 18,
    "start_time": "2021-08-17T09:58:01.192Z"
   },
   {
    "duration": 31,
    "start_time": "2021-08-17T09:58:01.214Z"
   },
   {
    "duration": 14,
    "start_time": "2021-08-17T09:58:01.248Z"
   },
   {
    "duration": 45,
    "start_time": "2021-08-17T09:58:01.296Z"
   },
   {
    "duration": 47,
    "start_time": "2021-08-17T09:58:01.347Z"
   },
   {
    "duration": 875,
    "start_time": "2021-08-17T09:58:01.398Z"
   },
   {
    "duration": 33,
    "start_time": "2021-08-17T09:58:02.276Z"
   },
   {
    "duration": 1997,
    "start_time": "2021-08-17T09:58:02.313Z"
   },
   {
    "duration": 11,
    "start_time": "2021-08-17T09:58:04.312Z"
   },
   {
    "duration": 23,
    "start_time": "2021-08-17T09:58:04.325Z"
   },
   {
    "duration": 34,
    "start_time": "2021-08-17T09:58:04.351Z"
   },
   {
    "duration": 18,
    "start_time": "2021-08-17T09:58:04.388Z"
   },
   {
    "duration": 25,
    "start_time": "2021-08-17T09:58:04.408Z"
   },
   {
    "duration": 17,
    "start_time": "2021-08-17T09:58:04.435Z"
   },
   {
    "duration": 16883,
    "start_time": "2021-08-17T09:58:04.455Z"
   },
   {
    "duration": 45,
    "start_time": "2021-08-17T09:58:21.341Z"
   },
   {
    "duration": 27,
    "start_time": "2021-08-17T09:58:21.389Z"
   },
   {
    "duration": 36,
    "start_time": "2021-08-17T09:58:21.419Z"
   },
   {
    "duration": 54,
    "start_time": "2021-08-17T09:58:21.458Z"
   },
   {
    "duration": 41,
    "start_time": "2021-08-17T09:58:21.515Z"
   },
   {
    "duration": 80,
    "start_time": "2021-08-17T09:58:21.559Z"
   },
   {
    "duration": 11,
    "start_time": "2021-08-17T09:58:21.642Z"
   },
   {
    "duration": 12,
    "start_time": "2021-08-17T09:58:21.657Z"
   },
   {
    "duration": 24,
    "start_time": "2021-08-17T09:58:21.687Z"
   },
   {
    "duration": 22,
    "start_time": "2021-08-17T09:58:21.714Z"
   },
   {
    "duration": 56,
    "start_time": "2021-08-17T09:58:21.740Z"
   },
   {
    "duration": 19,
    "start_time": "2021-08-17T09:58:21.799Z"
   },
   {
    "duration": 24,
    "start_time": "2021-08-17T09:58:21.822Z"
   },
   {
    "duration": 40,
    "start_time": "2021-08-17T09:58:21.849Z"
   },
   {
    "duration": 16,
    "start_time": "2021-08-17T09:58:21.891Z"
   },
   {
    "duration": 21,
    "start_time": "2021-08-17T09:58:21.910Z"
   },
   {
    "duration": 8,
    "start_time": "2021-08-17T09:58:21.934Z"
   },
   {
    "duration": 5,
    "start_time": "2021-08-17T09:58:21.944Z"
   },
   {
    "duration": 13,
    "start_time": "2021-08-17T09:58:21.986Z"
   },
   {
    "duration": 23,
    "start_time": "2021-08-17T09:58:22.001Z"
   },
   {
    "duration": 76,
    "start_time": "2021-08-17T09:58:22.026Z"
   },
   {
    "duration": 39,
    "start_time": "2021-08-17T09:58:22.105Z"
   },
   {
    "duration": 16,
    "start_time": "2021-08-17T09:58:22.147Z"
   },
   {
    "duration": 16,
    "start_time": "2021-08-17T09:58:22.186Z"
   },
   {
    "duration": 9,
    "start_time": "2021-08-17T09:58:22.206Z"
   },
   {
    "duration": 11,
    "start_time": "2021-08-17T09:58:22.218Z"
   },
   {
    "duration": 4983,
    "start_time": "2021-08-17T09:58:22.232Z"
   },
   {
    "duration": 15,
    "start_time": "2021-08-17T09:58:27.218Z"
   },
   {
    "duration": 19,
    "start_time": "2021-08-17T09:58:27.237Z"
   },
   {
    "duration": 1152,
    "start_time": "2021-08-17T09:58:27.259Z"
   },
   {
    "duration": 15,
    "start_time": "2021-08-17T09:58:28.414Z"
   },
   {
    "duration": 15,
    "start_time": "2021-08-17T09:58:28.431Z"
   },
   {
    "duration": 55,
    "start_time": "2021-08-17T09:58:28.448Z"
   },
   {
    "duration": 6,
    "start_time": "2021-08-17T09:58:28.512Z"
   },
   {
    "duration": 10,
    "start_time": "2021-08-17T09:58:28.522Z"
   },
   {
    "duration": 50,
    "start_time": "2021-08-17T09:58:28.536Z"
   },
   {
    "duration": 14,
    "start_time": "2021-08-17T09:58:28.589Z"
   },
   {
    "duration": 281,
    "start_time": "2021-08-17T09:58:28.606Z"
   },
   {
    "duration": 432,
    "start_time": "2021-08-17T09:58:28.890Z"
   },
   {
    "duration": 11,
    "start_time": "2021-08-17T09:58:29.326Z"
   },
   {
    "duration": 151,
    "start_time": "2021-08-17T09:58:29.340Z"
   },
   {
    "duration": 481,
    "start_time": "2021-08-17T09:58:29.494Z"
   },
   {
    "duration": 17,
    "start_time": "2021-08-17T09:58:29.978Z"
   },
   {
    "duration": 27,
    "start_time": "2021-08-17T09:58:29.998Z"
   },
   {
    "duration": 16,
    "start_time": "2021-08-17T09:58:30.028Z"
   },
   {
    "duration": 147,
    "start_time": "2021-08-17T09:58:30.048Z"
   },
   {
    "duration": 429,
    "start_time": "2021-08-17T09:58:30.198Z"
   },
   {
    "duration": 11,
    "start_time": "2021-08-17T09:58:30.630Z"
   },
   {
    "duration": 21,
    "start_time": "2021-08-17T09:58:30.644Z"
   },
   {
    "duration": 1552,
    "start_time": "2021-08-17T12:46:24.890Z"
   },
   {
    "duration": 81,
    "start_time": "2021-08-17T12:46:26.445Z"
   },
   {
    "duration": 31,
    "start_time": "2021-08-17T12:46:26.531Z"
   },
   {
    "duration": 19,
    "start_time": "2021-08-17T12:46:26.566Z"
   },
   {
    "duration": 8,
    "start_time": "2021-08-17T12:46:26.588Z"
   },
   {
    "duration": 67,
    "start_time": "2021-08-17T12:46:26.599Z"
   },
   {
    "duration": 22,
    "start_time": "2021-08-17T12:46:26.668Z"
   },
   {
    "duration": 28,
    "start_time": "2021-08-17T12:46:26.696Z"
   },
   {
    "duration": 25,
    "start_time": "2021-08-17T12:46:26.762Z"
   },
   {
    "duration": 24,
    "start_time": "2021-08-17T12:46:26.790Z"
   },
   {
    "duration": 55,
    "start_time": "2021-08-17T12:46:26.816Z"
   },
   {
    "duration": 16,
    "start_time": "2021-08-17T12:46:26.874Z"
   },
   {
    "duration": 12,
    "start_time": "2021-08-17T12:46:26.892Z"
   },
   {
    "duration": 17,
    "start_time": "2021-08-17T12:46:26.907Z"
   },
   {
    "duration": 39,
    "start_time": "2021-08-17T12:46:26.926Z"
   },
   {
    "duration": 21,
    "start_time": "2021-08-17T12:46:26.968Z"
   },
   {
    "duration": 9,
    "start_time": "2021-08-17T12:46:26.991Z"
   },
   {
    "duration": 16,
    "start_time": "2021-08-17T12:46:27.003Z"
   },
   {
    "duration": 1914,
    "start_time": "2021-08-17T12:46:27.021Z"
   },
   {
    "duration": 30,
    "start_time": "2021-08-17T12:46:28.938Z"
   },
   {
    "duration": 14,
    "start_time": "2021-08-17T12:46:28.970Z"
   },
   {
    "duration": 10,
    "start_time": "2021-08-17T12:46:28.987Z"
   },
   {
    "duration": 61,
    "start_time": "2021-08-17T12:46:29.003Z"
   },
   {
    "duration": 17,
    "start_time": "2021-08-17T12:46:29.069Z"
   },
   {
    "duration": 546,
    "start_time": "2021-08-17T12:46:29.089Z"
   },
   {
    "duration": 36,
    "start_time": "2021-08-17T12:46:29.638Z"
   },
   {
    "duration": 1179,
    "start_time": "2021-08-17T12:46:29.678Z"
   },
   {
    "duration": 12,
    "start_time": "2021-08-17T12:46:30.862Z"
   },
   {
    "duration": 33,
    "start_time": "2021-08-17T12:46:30.877Z"
   },
   {
    "duration": 55,
    "start_time": "2021-08-17T12:46:30.914Z"
   },
   {
    "duration": 33,
    "start_time": "2021-08-17T12:46:30.973Z"
   },
   {
    "duration": 20,
    "start_time": "2021-08-17T12:46:31.009Z"
   },
   {
    "duration": 42,
    "start_time": "2021-08-17T12:46:31.032Z"
   },
   {
    "duration": 16355,
    "start_time": "2021-08-17T12:46:31.076Z"
   },
   {
    "duration": 38,
    "start_time": "2021-08-17T12:46:47.433Z"
   },
   {
    "duration": 17,
    "start_time": "2021-08-17T12:46:47.473Z"
   },
   {
    "duration": 36,
    "start_time": "2021-08-17T12:46:47.492Z"
   },
   {
    "duration": 46,
    "start_time": "2021-08-17T12:46:47.530Z"
   },
   {
    "duration": 19,
    "start_time": "2021-08-17T12:46:47.579Z"
   },
   {
    "duration": 68,
    "start_time": "2021-08-17T12:46:47.601Z"
   },
   {
    "duration": 7,
    "start_time": "2021-08-17T12:46:47.672Z"
   },
   {
    "duration": 12,
    "start_time": "2021-08-17T12:46:47.681Z"
   },
   {
    "duration": 14,
    "start_time": "2021-08-17T12:46:47.696Z"
   },
   {
    "duration": 50,
    "start_time": "2021-08-17T12:46:47.712Z"
   },
   {
    "duration": 15,
    "start_time": "2021-08-17T12:46:47.764Z"
   },
   {
    "duration": 12,
    "start_time": "2021-08-17T12:46:47.781Z"
   },
   {
    "duration": 26,
    "start_time": "2021-08-17T12:46:47.796Z"
   },
   {
    "duration": 43,
    "start_time": "2021-08-17T12:46:47.824Z"
   },
   {
    "duration": 21,
    "start_time": "2021-08-17T12:46:47.869Z"
   },
   {
    "duration": 20,
    "start_time": "2021-08-17T12:46:47.893Z"
   },
   {
    "duration": 9,
    "start_time": "2021-08-17T12:46:47.916Z"
   },
   {
    "duration": 34,
    "start_time": "2021-08-17T12:46:47.928Z"
   },
   {
    "duration": 13,
    "start_time": "2021-08-17T12:46:47.965Z"
   },
   {
    "duration": 21,
    "start_time": "2021-08-17T12:46:47.982Z"
   },
   {
    "duration": 70,
    "start_time": "2021-08-17T12:46:48.006Z"
   },
   {
    "duration": 39,
    "start_time": "2021-08-17T12:46:48.078Z"
   },
   {
    "duration": 16,
    "start_time": "2021-08-17T12:46:48.119Z"
   },
   {
    "duration": 17,
    "start_time": "2021-08-17T12:46:48.162Z"
   },
   {
    "duration": 9,
    "start_time": "2021-08-17T12:46:48.181Z"
   },
   {
    "duration": 23,
    "start_time": "2021-08-17T12:46:48.192Z"
   },
   {
    "duration": 5052,
    "start_time": "2021-08-17T12:46:48.218Z"
   },
   {
    "duration": 21,
    "start_time": "2021-08-17T12:46:53.274Z"
   },
   {
    "duration": 9,
    "start_time": "2021-08-17T12:46:53.299Z"
   },
   {
    "duration": 1872,
    "start_time": "2021-08-17T12:46:53.311Z"
   },
   {
    "duration": 20,
    "start_time": "2021-08-17T12:46:55.186Z"
   },
   {
    "duration": 20,
    "start_time": "2021-08-17T12:46:55.210Z"
   },
   {
    "duration": 66,
    "start_time": "2021-08-17T12:46:55.234Z"
   },
   {
    "duration": 7,
    "start_time": "2021-08-17T12:46:55.312Z"
   },
   {
    "duration": 46,
    "start_time": "2021-08-17T12:46:55.323Z"
   },
   {
    "duration": 10,
    "start_time": "2021-08-17T12:46:55.371Z"
   },
   {
    "duration": 14,
    "start_time": "2021-08-17T12:46:55.384Z"
   },
   {
    "duration": 195,
    "start_time": "2021-08-17T12:46:55.401Z"
   },
   {
    "duration": 272,
    "start_time": "2021-08-17T12:46:55.598Z"
   },
   {
    "duration": 9,
    "start_time": "2021-08-17T12:46:55.874Z"
   },
   {
    "duration": 108,
    "start_time": "2021-08-17T12:46:55.885Z"
   },
   {
    "duration": 304,
    "start_time": "2021-08-17T12:46:55.995Z"
   },
   {
    "duration": 9,
    "start_time": "2021-08-17T12:46:56.301Z"
   },
   {
    "duration": 12,
    "start_time": "2021-08-17T12:46:56.312Z"
   },
   {
    "duration": 38,
    "start_time": "2021-08-17T12:46:56.327Z"
   },
   {
    "duration": 94,
    "start_time": "2021-08-17T12:46:56.367Z"
   },
   {
    "duration": 273,
    "start_time": "2021-08-17T12:46:56.464Z"
   },
   {
    "duration": 8,
    "start_time": "2021-08-17T12:46:56.740Z"
   },
   {
    "duration": 19,
    "start_time": "2021-08-17T12:46:56.750Z"
   },
   {
    "duration": 9519,
    "start_time": "2021-08-17T12:48:14.933Z"
   },
   {
    "duration": 25,
    "start_time": "2021-08-17T12:48:29.717Z"
   },
   {
    "duration": 8724,
    "start_time": "2021-08-17T13:25:39.937Z"
   },
   {
    "duration": 15,
    "start_time": "2021-08-17T13:42:14.362Z"
   },
   {
    "duration": 14,
    "start_time": "2021-08-17T13:42:19.158Z"
   },
   {
    "duration": 18,
    "start_time": "2021-08-17T13:54:36.902Z"
   },
   {
    "duration": 119,
    "start_time": "2021-08-17T13:54:47.551Z"
   },
   {
    "duration": 17,
    "start_time": "2021-08-17T13:54:55.372Z"
   },
   {
    "duration": 1446,
    "start_time": "2021-08-17T19:53:33.526Z"
   },
   {
    "duration": 80,
    "start_time": "2021-08-17T19:53:34.975Z"
   },
   {
    "duration": 15,
    "start_time": "2021-08-17T19:53:36.262Z"
   },
   {
    "duration": 17,
    "start_time": "2021-08-17T19:53:36.426Z"
   },
   {
    "duration": 8,
    "start_time": "2021-08-17T19:53:36.595Z"
   },
   {
    "duration": 23,
    "start_time": "2021-08-17T19:53:41.216Z"
   },
   {
    "duration": 23,
    "start_time": "2021-08-17T19:53:41.865Z"
   },
   {
    "duration": 23,
    "start_time": "2021-08-17T19:54:38.608Z"
   },
   {
    "duration": 27,
    "start_time": "2021-08-17T19:54:39.481Z"
   },
   {
    "duration": 40,
    "start_time": "2021-08-17T19:54:39.959Z"
   },
   {
    "duration": 22,
    "start_time": "2021-08-17T19:54:40.519Z"
   },
   {
    "duration": 15,
    "start_time": "2021-08-17T19:54:44.471Z"
   },
   {
    "duration": 8,
    "start_time": "2021-08-17T19:54:50.527Z"
   },
   {
    "duration": 15,
    "start_time": "2021-08-17T19:54:52.146Z"
   },
   {
    "duration": 7,
    "start_time": "2021-08-17T19:54:52.687Z"
   },
   {
    "duration": 14,
    "start_time": "2021-08-17T19:54:54.371Z"
   },
   {
    "duration": 11,
    "start_time": "2021-08-17T19:54:57.881Z"
   },
   {
    "duration": 11,
    "start_time": "2021-08-17T19:55:05.823Z"
   },
   {
    "duration": 1929,
    "start_time": "2021-08-17T19:55:10.009Z"
   },
   {
    "duration": 2676,
    "start_time": "2021-08-17T19:57:22.705Z"
   },
   {
    "duration": 2045,
    "start_time": "2021-08-17T19:57:40.058Z"
   },
   {
    "duration": 1754,
    "start_time": "2021-08-17T19:58:01.372Z"
   },
   {
    "duration": 1760,
    "start_time": "2021-08-17T19:58:51.135Z"
   },
   {
    "duration": 1798,
    "start_time": "2021-08-17T19:59:24.311Z"
   },
   {
    "duration": 2164,
    "start_time": "2021-08-17T20:01:32.948Z"
   },
   {
    "duration": 1882,
    "start_time": "2021-08-17T20:01:39.934Z"
   },
   {
    "duration": 6,
    "start_time": "2021-08-17T20:02:25.194Z"
   },
   {
    "duration": 2018,
    "start_time": "2021-08-18T15:36:17.013Z"
   },
   {
    "duration": 117,
    "start_time": "2021-08-18T15:36:19.035Z"
   },
   {
    "duration": 19,
    "start_time": "2021-08-18T15:36:19.155Z"
   },
   {
    "duration": 18,
    "start_time": "2021-08-18T15:36:19.176Z"
   },
   {
    "duration": 7,
    "start_time": "2021-08-18T15:36:19.196Z"
   },
   {
    "duration": 66,
    "start_time": "2021-08-18T15:36:19.205Z"
   },
   {
    "duration": 23,
    "start_time": "2021-08-18T15:36:19.274Z"
   },
   {
    "duration": 23,
    "start_time": "2021-08-18T15:36:19.301Z"
   },
   {
    "duration": 36,
    "start_time": "2021-08-18T15:36:19.367Z"
   },
   {
    "duration": 31,
    "start_time": "2021-08-18T15:36:19.406Z"
   },
   {
    "duration": 32,
    "start_time": "2021-08-18T15:36:19.463Z"
   },
   {
    "duration": 18,
    "start_time": "2021-08-18T15:36:19.498Z"
   },
   {
    "duration": 45,
    "start_time": "2021-08-18T15:36:19.519Z"
   },
   {
    "duration": 28,
    "start_time": "2021-08-18T15:36:19.566Z"
   },
   {
    "duration": 9,
    "start_time": "2021-08-18T15:36:19.596Z"
   },
   {
    "duration": 17,
    "start_time": "2021-08-18T15:36:19.607Z"
   },
   {
    "duration": 7,
    "start_time": "2021-08-18T15:36:19.627Z"
   },
   {
    "duration": 32,
    "start_time": "2021-08-18T15:36:19.637Z"
   },
   {
    "duration": 4,
    "start_time": "2021-08-18T15:36:53.693Z"
   },
   {
    "duration": 97,
    "start_time": "2021-08-18T15:36:53.702Z"
   },
   {
    "duration": 14,
    "start_time": "2021-08-18T15:36:53.801Z"
   },
   {
    "duration": 46,
    "start_time": "2021-08-18T15:36:53.818Z"
   },
   {
    "duration": 8,
    "start_time": "2021-08-18T15:36:53.867Z"
   },
   {
    "duration": 25,
    "start_time": "2021-08-18T15:36:53.877Z"
   },
   {
    "duration": 71,
    "start_time": "2021-08-18T15:36:53.905Z"
   },
   {
    "duration": 26,
    "start_time": "2021-08-18T15:36:53.978Z"
   },
   {
    "duration": 74,
    "start_time": "2021-08-18T15:36:54.009Z"
   },
   {
    "duration": 23,
    "start_time": "2021-08-18T15:36:54.086Z"
   },
   {
    "duration": 62,
    "start_time": "2021-08-18T15:36:54.111Z"
   },
   {
    "duration": 23,
    "start_time": "2021-08-18T15:36:54.175Z"
   },
   {
    "duration": 7,
    "start_time": "2021-08-18T15:36:54.201Z"
   },
   {
    "duration": 66,
    "start_time": "2021-08-18T15:36:54.212Z"
   },
   {
    "duration": 9,
    "start_time": "2021-08-18T15:36:54.281Z"
   },
   {
    "duration": 16,
    "start_time": "2021-08-18T15:36:54.293Z"
   },
   {
    "duration": 11,
    "start_time": "2021-08-18T15:36:54.311Z"
   },
   {
    "duration": 41,
    "start_time": "2021-08-18T15:36:54.325Z"
   },
   {
    "duration": 2023,
    "start_time": "2021-08-18T15:36:54.369Z"
   },
   {
    "duration": 17,
    "start_time": "2021-08-18T15:36:56.395Z"
   },
   {
    "duration": 47,
    "start_time": "2021-08-18T15:36:56.415Z"
   },
   {
    "duration": 10,
    "start_time": "2021-08-18T15:36:56.465Z"
   },
   {
    "duration": 37,
    "start_time": "2021-08-18T15:36:56.478Z"
   },
   {
    "duration": 43,
    "start_time": "2021-08-18T15:36:56.520Z"
   },
   {
    "duration": 516,
    "start_time": "2021-08-18T15:36:56.567Z"
   },
   {
    "duration": 18,
    "start_time": "2021-08-18T15:36:57.086Z"
   },
   {
    "duration": 1228,
    "start_time": "2021-08-18T15:36:57.107Z"
   },
   {
    "duration": 11,
    "start_time": "2021-08-18T15:36:58.337Z"
   },
   {
    "duration": 30,
    "start_time": "2021-08-18T15:36:58.350Z"
   },
   {
    "duration": 21,
    "start_time": "2021-08-18T15:36:58.383Z"
   },
   {
    "duration": 17,
    "start_time": "2021-08-18T15:36:58.407Z"
   },
   {
    "duration": 56,
    "start_time": "2021-08-18T15:36:58.427Z"
   },
   {
    "duration": 5,
    "start_time": "2021-08-18T15:36:58.487Z"
   },
   {
    "duration": 16683,
    "start_time": "2021-08-18T15:36:58.495Z"
   },
   {
    "duration": 20,
    "start_time": "2021-08-18T15:37:15.180Z"
   },
   {
    "duration": 25,
    "start_time": "2021-08-18T15:37:15.204Z"
   },
   {
    "duration": 29,
    "start_time": "2021-08-18T15:37:15.261Z"
   },
   {
    "duration": 27,
    "start_time": "2021-08-18T15:37:15.294Z"
   },
   {
    "duration": 41,
    "start_time": "2021-08-18T15:37:15.324Z"
   },
   {
    "duration": 54,
    "start_time": "2021-08-18T15:37:15.368Z"
   },
   {
    "duration": 9,
    "start_time": "2021-08-18T15:37:15.425Z"
   },
   {
    "duration": 28,
    "start_time": "2021-08-18T15:37:15.437Z"
   },
   {
    "duration": 22,
    "start_time": "2021-08-18T15:37:15.467Z"
   },
   {
    "duration": 20,
    "start_time": "2021-08-18T15:37:15.492Z"
   },
   {
    "duration": 59,
    "start_time": "2021-08-18T15:37:15.515Z"
   },
   {
    "duration": 19,
    "start_time": "2021-08-18T15:37:15.578Z"
   },
   {
    "duration": 22,
    "start_time": "2021-08-18T15:37:15.600Z"
   },
   {
    "duration": 38,
    "start_time": "2021-08-18T15:37:15.624Z"
   },
   {
    "duration": 14,
    "start_time": "2021-08-18T15:37:15.665Z"
   },
   {
    "duration": 24,
    "start_time": "2021-08-18T15:37:15.681Z"
   },
   {
    "duration": 11,
    "start_time": "2021-08-18T15:37:15.708Z"
   },
   {
    "duration": 41,
    "start_time": "2021-08-18T15:37:15.721Z"
   },
   {
    "duration": 14,
    "start_time": "2021-08-18T15:37:15.765Z"
   },
   {
    "duration": 55,
    "start_time": "2021-08-18T15:39:39.378Z"
   },
   {
    "duration": 24,
    "start_time": "2021-08-18T15:41:12.910Z"
   },
   {
    "duration": 21,
    "start_time": "2021-08-18T15:45:25.591Z"
   },
   {
    "duration": 46,
    "start_time": "2021-08-18T15:45:42.396Z"
   },
   {
    "duration": 4,
    "start_time": "2021-08-18T15:49:24.115Z"
   },
   {
    "duration": 80,
    "start_time": "2021-08-18T15:49:24.122Z"
   },
   {
    "duration": 14,
    "start_time": "2021-08-18T15:49:24.205Z"
   },
   {
    "duration": 43,
    "start_time": "2021-08-18T15:49:24.222Z"
   },
   {
    "duration": 8,
    "start_time": "2021-08-18T15:49:24.267Z"
   },
   {
    "duration": 44,
    "start_time": "2021-08-18T15:49:24.278Z"
   },
   {
    "duration": 59,
    "start_time": "2021-08-18T15:49:24.327Z"
   },
   {
    "duration": 25,
    "start_time": "2021-08-18T15:49:24.390Z"
   },
   {
    "duration": 69,
    "start_time": "2021-08-18T15:49:24.418Z"
   },
   {
    "duration": 29,
    "start_time": "2021-08-18T15:49:24.490Z"
   },
   {
    "duration": 52,
    "start_time": "2021-08-18T15:49:24.521Z"
   },
   {
    "duration": 21,
    "start_time": "2021-08-18T15:49:24.575Z"
   },
   {
    "duration": 7,
    "start_time": "2021-08-18T15:49:24.598Z"
   },
   {
    "duration": 57,
    "start_time": "2021-08-18T15:49:24.609Z"
   },
   {
    "duration": 9,
    "start_time": "2021-08-18T15:49:24.670Z"
   },
   {
    "duration": 19,
    "start_time": "2021-08-18T15:49:24.682Z"
   },
   {
    "duration": 13,
    "start_time": "2021-08-18T15:49:24.704Z"
   },
   {
    "duration": 43,
    "start_time": "2021-08-18T15:49:24.720Z"
   },
   {
    "duration": 2238,
    "start_time": "2021-08-18T15:50:35.405Z"
   },
   {
    "duration": 1990,
    "start_time": "2021-08-18T15:50:54.559Z"
   },
   {
    "duration": 1938,
    "start_time": "2021-08-18T15:53:24.382Z"
   },
   {
    "duration": 1865,
    "start_time": "2021-08-18T15:53:37.862Z"
   },
   {
    "duration": 1978,
    "start_time": "2021-08-18T15:55:19.430Z"
   },
   {
    "duration": 6,
    "start_time": "2021-08-18T15:55:38.251Z"
   },
   {
    "duration": 1837,
    "start_time": "2021-08-18T15:55:54.377Z"
   },
   {
    "duration": 1920,
    "start_time": "2021-08-18T15:56:14.426Z"
   },
   {
    "duration": 1847,
    "start_time": "2021-08-18T15:56:19.663Z"
   },
   {
    "duration": 1178,
    "start_time": "2021-08-18T15:58:50.215Z"
   },
   {
    "duration": 1769,
    "start_time": "2021-08-18T15:59:28.517Z"
   },
   {
    "duration": 2160,
    "start_time": "2021-08-18T16:00:05.143Z"
   },
   {
    "duration": 1288,
    "start_time": "2021-08-18T16:01:16.383Z"
   },
   {
    "duration": 556,
    "start_time": "2021-08-18T16:04:07.269Z"
   },
   {
    "duration": 4,
    "start_time": "2021-08-18T16:04:15.690Z"
   },
   {
    "duration": 83,
    "start_time": "2021-08-18T16:04:15.698Z"
   },
   {
    "duration": 16,
    "start_time": "2021-08-18T16:04:15.784Z"
   },
   {
    "duration": 19,
    "start_time": "2021-08-18T16:04:15.803Z"
   },
   {
    "duration": 43,
    "start_time": "2021-08-18T16:04:15.825Z"
   },
   {
    "duration": 35,
    "start_time": "2021-08-18T16:04:15.871Z"
   },
   {
    "duration": 64,
    "start_time": "2021-08-18T16:04:15.911Z"
   },
   {
    "duration": 23,
    "start_time": "2021-08-18T16:04:15.978Z"
   },
   {
    "duration": 69,
    "start_time": "2021-08-18T16:04:16.003Z"
   },
   {
    "duration": 26,
    "start_time": "2021-08-18T16:04:16.075Z"
   },
   {
    "duration": 68,
    "start_time": "2021-08-18T16:04:16.104Z"
   },
   {
    "duration": 34,
    "start_time": "2021-08-18T16:04:16.175Z"
   },
   {
    "duration": 14,
    "start_time": "2021-08-18T16:04:16.213Z"
   },
   {
    "duration": 44,
    "start_time": "2021-08-18T16:04:16.230Z"
   },
   {
    "duration": 13,
    "start_time": "2021-08-18T16:04:16.277Z"
   },
   {
    "duration": 23,
    "start_time": "2021-08-18T16:04:16.292Z"
   },
   {
    "duration": 28,
    "start_time": "2021-08-18T16:04:16.317Z"
   },
   {
    "duration": 30,
    "start_time": "2021-08-18T16:04:16.347Z"
   },
   {
    "duration": 1924,
    "start_time": "2021-08-18T16:04:16.383Z"
   },
   {
    "duration": 16,
    "start_time": "2021-08-18T16:04:18.312Z"
   },
   {
    "duration": 37,
    "start_time": "2021-08-18T16:04:18.331Z"
   },
   {
    "duration": 10,
    "start_time": "2021-08-18T16:04:18.371Z"
   },
   {
    "duration": 46,
    "start_time": "2021-08-18T16:04:18.384Z"
   },
   {
    "duration": 42,
    "start_time": "2021-08-18T16:04:18.433Z"
   },
   {
    "duration": 563,
    "start_time": "2021-08-18T16:04:18.477Z"
   },
   {
    "duration": 31,
    "start_time": "2021-08-18T16:04:19.042Z"
   },
   {
    "duration": 1234,
    "start_time": "2021-08-18T16:04:19.076Z"
   },
   {
    "duration": 10,
    "start_time": "2021-08-18T16:04:20.313Z"
   },
   {
    "duration": 30,
    "start_time": "2021-08-18T16:04:20.326Z"
   },
   {
    "duration": 31,
    "start_time": "2021-08-18T16:04:20.362Z"
   },
   {
    "duration": 14,
    "start_time": "2021-08-18T16:04:20.396Z"
   },
   {
    "duration": 38,
    "start_time": "2021-08-18T16:04:20.413Z"
   },
   {
    "duration": 23,
    "start_time": "2021-08-18T16:04:20.453Z"
   },
   {
    "duration": 15703,
    "start_time": "2021-08-18T16:04:20.479Z"
   },
   {
    "duration": 22,
    "start_time": "2021-08-18T16:04:36.185Z"
   },
   {
    "duration": 19,
    "start_time": "2021-08-18T16:04:36.209Z"
   },
   {
    "duration": 59,
    "start_time": "2021-08-18T16:04:36.231Z"
   },
   {
    "duration": 28,
    "start_time": "2021-08-18T16:04:36.293Z"
   },
   {
    "duration": 51,
    "start_time": "2021-08-18T16:04:36.324Z"
   },
   {
    "duration": 55,
    "start_time": "2021-08-18T16:04:36.378Z"
   },
   {
    "duration": 35,
    "start_time": "2021-08-18T16:04:36.436Z"
   },
   {
    "duration": 11,
    "start_time": "2021-08-18T16:04:36.474Z"
   },
   {
    "duration": 16,
    "start_time": "2021-08-18T16:04:36.488Z"
   },
   {
    "duration": 62,
    "start_time": "2021-08-18T16:04:36.507Z"
   },
   {
    "duration": 21,
    "start_time": "2021-08-18T16:04:36.572Z"
   },
   {
    "duration": 14,
    "start_time": "2021-08-18T16:04:36.597Z"
   },
   {
    "duration": 18,
    "start_time": "2021-08-18T16:04:36.614Z"
   },
   {
    "duration": 11,
    "start_time": "2021-08-18T16:04:36.662Z"
   },
   {
    "duration": 20,
    "start_time": "2021-08-18T16:04:36.675Z"
   },
   {
    "duration": 25,
    "start_time": "2021-08-18T16:04:36.697Z"
   },
   {
    "duration": 41,
    "start_time": "2021-08-18T16:04:36.725Z"
   },
   {
    "duration": 10,
    "start_time": "2021-08-18T16:04:36.769Z"
   },
   {
    "duration": 25,
    "start_time": "2021-08-18T16:04:36.782Z"
   },
   {
    "duration": 88,
    "start_time": "2021-08-18T16:04:36.810Z"
   },
   {
    "duration": 32,
    "start_time": "2021-08-18T16:04:36.911Z"
   },
   {
    "duration": 74,
    "start_time": "2021-08-18T16:04:36.947Z"
   },
   {
    "duration": 44,
    "start_time": "2021-08-18T16:04:37.025Z"
   },
   {
    "duration": 23,
    "start_time": "2021-08-18T16:04:37.072Z"
   },
   {
    "duration": 12,
    "start_time": "2021-08-18T16:04:37.098Z"
   },
   {
    "duration": 11,
    "start_time": "2021-08-18T16:04:37.113Z"
   },
   {
    "duration": 5280,
    "start_time": "2021-08-18T16:04:37.164Z"
   },
   {
    "duration": 22,
    "start_time": "2021-08-18T16:04:42.447Z"
   },
   {
    "duration": 7,
    "start_time": "2021-08-18T16:04:42.472Z"
   },
   {
    "duration": 1125,
    "start_time": "2021-08-18T16:04:42.482Z"
   },
   {
    "duration": 18,
    "start_time": "2021-08-18T16:04:43.609Z"
   },
   {
    "duration": 39,
    "start_time": "2021-08-18T16:04:43.630Z"
   },
   {
    "duration": 30,
    "start_time": "2021-08-18T16:04:43.672Z"
   },
   {
    "duration": 6,
    "start_time": "2021-08-18T16:04:43.705Z"
   },
   {
    "duration": 53,
    "start_time": "2021-08-18T16:04:43.715Z"
   },
   {
    "duration": 11,
    "start_time": "2021-08-18T16:04:43.771Z"
   },
   {
    "duration": 22,
    "start_time": "2021-08-18T16:04:43.785Z"
   },
   {
    "duration": 119,
    "start_time": "2021-08-18T16:04:43.810Z"
   },
   {
    "duration": 296,
    "start_time": "2021-08-18T16:04:43.932Z"
   },
   {
    "duration": 259,
    "start_time": "2021-08-18T16:04:55.282Z"
   },
   {
    "duration": 282,
    "start_time": "2021-08-18T16:05:09.672Z"
   },
   {
    "duration": 579,
    "start_time": "2021-08-18T16:05:15.543Z"
   },
   {
    "duration": 304,
    "start_time": "2021-08-18T16:05:19.463Z"
   },
   {
    "duration": 320,
    "start_time": "2021-08-18T16:05:27.520Z"
   },
   {
    "duration": 309,
    "start_time": "2021-08-18T16:16:23.318Z"
   },
   {
    "duration": 311,
    "start_time": "2021-08-18T16:17:19.284Z"
   },
   {
    "duration": 327,
    "start_time": "2021-08-18T16:17:33.727Z"
   },
   {
    "duration": 474,
    "start_time": "2021-08-18T16:17:51.462Z"
   },
   {
    "duration": 471,
    "start_time": "2021-08-18T16:18:03.222Z"
   },
   {
    "duration": 468,
    "start_time": "2021-08-18T16:18:08.477Z"
   },
   {
    "duration": 697,
    "start_time": "2021-08-18T16:18:58.553Z"
   },
   {
    "duration": 802,
    "start_time": "2021-08-18T16:19:04.378Z"
   },
   {
    "duration": 321,
    "start_time": "2021-08-18T16:19:27.289Z"
   },
   {
    "duration": 441,
    "start_time": "2021-08-18T16:36:20.874Z"
   },
   {
    "duration": 439,
    "start_time": "2021-08-18T16:36:38.780Z"
   },
   {
    "duration": 323,
    "start_time": "2021-08-18T16:37:08.212Z"
   },
   {
    "duration": 315,
    "start_time": "2021-08-18T16:40:32.737Z"
   },
   {
    "duration": 308,
    "start_time": "2021-08-18T16:40:40.535Z"
   },
   {
    "duration": 294,
    "start_time": "2021-08-18T16:40:59.903Z"
   },
   {
    "duration": 299,
    "start_time": "2021-08-18T16:41:17.709Z"
   },
   {
    "duration": 312,
    "start_time": "2021-08-18T16:41:26.951Z"
   },
   {
    "duration": 305,
    "start_time": "2021-08-18T16:45:35.417Z"
   },
   {
    "duration": 599,
    "start_time": "2021-08-18T16:46:03.775Z"
   },
   {
    "duration": 299,
    "start_time": "2021-08-18T16:46:12.829Z"
   },
   {
    "duration": 796,
    "start_time": "2021-08-18T16:46:57.410Z"
   },
   {
    "duration": 433,
    "start_time": "2021-08-18T16:48:53.587Z"
   },
   {
    "duration": 444,
    "start_time": "2021-08-18T16:49:33.081Z"
   },
   {
    "duration": 453,
    "start_time": "2021-08-18T16:49:37.368Z"
   },
   {
    "duration": 442,
    "start_time": "2021-08-18T16:50:56.996Z"
   },
   {
    "duration": 758,
    "start_time": "2021-08-18T16:51:11.291Z"
   },
   {
    "duration": 719,
    "start_time": "2021-08-18T16:51:37.388Z"
   },
   {
    "duration": 582,
    "start_time": "2021-08-18T16:52:03.872Z"
   },
   {
    "duration": 630,
    "start_time": "2021-08-18T16:52:14.206Z"
   },
   {
    "duration": 499,
    "start_time": "2021-08-18T16:52:38.206Z"
   },
   {
    "duration": 486,
    "start_time": "2021-08-18T16:52:50.220Z"
   },
   {
    "duration": 314,
    "start_time": "2021-08-18T16:53:03.003Z"
   },
   {
    "duration": 593,
    "start_time": "2021-08-18T16:53:14.483Z"
   },
   {
    "duration": 320,
    "start_time": "2021-08-18T16:53:18.914Z"
   },
   {
    "duration": 322,
    "start_time": "2021-08-18T16:53:23.354Z"
   },
   {
    "duration": 339,
    "start_time": "2021-08-18T16:54:30.031Z"
   },
   {
    "duration": 338,
    "start_time": "2021-08-18T16:55:07.437Z"
   },
   {
    "duration": 579,
    "start_time": "2021-08-18T16:55:16.587Z"
   },
   {
    "duration": -1623,
    "start_time": "2021-08-18T16:56:29.840Z"
   },
   {
    "duration": 8,
    "start_time": "2021-08-18T16:56:33.829Z"
   },
   {
    "duration": 88,
    "start_time": "2021-08-18T16:57:19.659Z"
   },
   {
    "duration": 90,
    "start_time": "2021-08-18T16:58:13.423Z"
   },
   {
    "duration": 484,
    "start_time": "2021-08-18T16:58:19.537Z"
   },
   {
    "duration": 324,
    "start_time": "2021-08-18T16:58:43.760Z"
   },
   {
    "duration": 4,
    "start_time": "2021-08-18T16:59:43.937Z"
   },
   {
    "duration": 82,
    "start_time": "2021-08-18T16:59:43.946Z"
   },
   {
    "duration": 35,
    "start_time": "2021-08-18T16:59:44.031Z"
   },
   {
    "duration": 19,
    "start_time": "2021-08-18T16:59:44.069Z"
   },
   {
    "duration": 7,
    "start_time": "2021-08-18T16:59:44.091Z"
   },
   {
    "duration": 79,
    "start_time": "2021-08-18T16:59:44.101Z"
   },
   {
    "duration": 25,
    "start_time": "2021-08-18T16:59:44.183Z"
   },
   {
    "duration": 82,
    "start_time": "2021-08-18T16:59:44.211Z"
   },
   {
    "duration": 69,
    "start_time": "2021-08-18T16:59:44.298Z"
   },
   {
    "duration": 24,
    "start_time": "2021-08-18T16:59:44.370Z"
   },
   {
    "duration": 69,
    "start_time": "2021-08-18T16:59:44.396Z"
   },
   {
    "duration": 15,
    "start_time": "2021-08-18T16:59:44.468Z"
   },
   {
    "duration": 23,
    "start_time": "2021-08-18T16:59:44.485Z"
   },
   {
    "duration": 53,
    "start_time": "2021-08-18T16:59:44.510Z"
   },
   {
    "duration": 7,
    "start_time": "2021-08-18T16:59:44.565Z"
   },
   {
    "duration": 16,
    "start_time": "2021-08-18T16:59:44.574Z"
   },
   {
    "duration": 12,
    "start_time": "2021-08-18T16:59:44.593Z"
   },
   {
    "duration": 10,
    "start_time": "2021-08-18T16:59:44.607Z"
   },
   {
    "duration": 2350,
    "start_time": "2021-08-18T16:59:44.620Z"
   },
   {
    "duration": -1668,
    "start_time": "2021-08-18T16:59:48.645Z"
   },
   {
    "duration": -1678,
    "start_time": "2021-08-18T16:59:48.657Z"
   },
   {
    "duration": -1689,
    "start_time": "2021-08-18T16:59:48.670Z"
   },
   {
    "duration": -1700,
    "start_time": "2021-08-18T16:59:48.683Z"
   },
   {
    "duration": -1706,
    "start_time": "2021-08-18T16:59:48.691Z"
   },
   {
    "duration": -1714,
    "start_time": "2021-08-18T16:59:48.701Z"
   },
   {
    "duration": -1721,
    "start_time": "2021-08-18T16:59:48.710Z"
   },
   {
    "duration": -1732,
    "start_time": "2021-08-18T16:59:48.723Z"
   },
   {
    "duration": -1740,
    "start_time": "2021-08-18T16:59:48.734Z"
   },
   {
    "duration": -1747,
    "start_time": "2021-08-18T16:59:48.743Z"
   },
   {
    "duration": -1755,
    "start_time": "2021-08-18T16:59:48.753Z"
   },
   {
    "duration": -1765,
    "start_time": "2021-08-18T16:59:48.765Z"
   },
   {
    "duration": -1772,
    "start_time": "2021-08-18T16:59:48.774Z"
   },
   {
    "duration": -1833,
    "start_time": "2021-08-18T16:59:48.837Z"
   },
   {
    "duration": -1845,
    "start_time": "2021-08-18T16:59:48.851Z"
   },
   {
    "duration": -1853,
    "start_time": "2021-08-18T16:59:48.861Z"
   },
   {
    "duration": -1864,
    "start_time": "2021-08-18T16:59:48.873Z"
   },
   {
    "duration": -1875,
    "start_time": "2021-08-18T16:59:48.887Z"
   },
   {
    "duration": -1885,
    "start_time": "2021-08-18T16:59:48.899Z"
   },
   {
    "duration": -1895,
    "start_time": "2021-08-18T16:59:48.910Z"
   },
   {
    "duration": -1863,
    "start_time": "2021-08-18T16:59:48.924Z"
   },
   {
    "duration": -1872,
    "start_time": "2021-08-18T16:59:48.936Z"
   },
   {
    "duration": -1892,
    "start_time": "2021-08-18T16:59:48.958Z"
   },
   {
    "duration": -1904,
    "start_time": "2021-08-18T16:59:48.972Z"
   },
   {
    "duration": -1916,
    "start_time": "2021-08-18T16:59:48.986Z"
   },
   {
    "duration": -1930,
    "start_time": "2021-08-18T16:59:49.002Z"
   },
   {
    "duration": -1938,
    "start_time": "2021-08-18T16:59:49.012Z"
   },
   {
    "duration": -1950,
    "start_time": "2021-08-18T16:59:49.026Z"
   },
   {
    "duration": -1965,
    "start_time": "2021-08-18T16:59:49.044Z"
   },
   {
    "duration": -1979,
    "start_time": "2021-08-18T16:59:49.060Z"
   },
   {
    "duration": -1993,
    "start_time": "2021-08-18T16:59:49.076Z"
   },
   {
    "duration": -2009,
    "start_time": "2021-08-18T16:59:49.094Z"
   },
   {
    "duration": -2026,
    "start_time": "2021-08-18T16:59:49.113Z"
   },
   {
    "duration": -2039,
    "start_time": "2021-08-18T16:59:49.128Z"
   },
   {
    "duration": -2052,
    "start_time": "2021-08-18T16:59:49.143Z"
   },
   {
    "duration": -2065,
    "start_time": "2021-08-18T16:59:49.159Z"
   },
   {
    "duration": -2084,
    "start_time": "2021-08-18T16:59:49.180Z"
   },
   {
    "duration": -2037,
    "start_time": "2021-08-18T16:59:49.199Z"
   },
   {
    "duration": -2059,
    "start_time": "2021-08-18T16:59:49.223Z"
   },
   {
    "duration": -2072,
    "start_time": "2021-08-18T16:59:49.239Z"
   },
   {
    "duration": -2088,
    "start_time": "2021-08-18T16:59:49.257Z"
   },
   {
    "duration": -2105,
    "start_time": "2021-08-18T16:59:49.276Z"
   },
   {
    "duration": -2123,
    "start_time": "2021-08-18T16:59:49.296Z"
   },
   {
    "duration": -2137,
    "start_time": "2021-08-18T16:59:49.312Z"
   },
   {
    "duration": -2150,
    "start_time": "2021-08-18T16:59:49.327Z"
   },
   {
    "duration": -2160,
    "start_time": "2021-08-18T16:59:49.340Z"
   },
   {
    "duration": -2175,
    "start_time": "2021-08-18T16:59:49.357Z"
   },
   {
    "duration": -2186,
    "start_time": "2021-08-18T16:59:49.370Z"
   },
   {
    "duration": -2199,
    "start_time": "2021-08-18T16:59:49.386Z"
   },
   {
    "duration": -2212,
    "start_time": "2021-08-18T16:59:49.401Z"
   },
   {
    "duration": -2220,
    "start_time": "2021-08-18T16:59:49.411Z"
   },
   {
    "duration": -2232,
    "start_time": "2021-08-18T16:59:49.426Z"
   },
   {
    "duration": -2243,
    "start_time": "2021-08-18T16:59:49.439Z"
   },
   {
    "duration": -2265,
    "start_time": "2021-08-18T16:59:49.463Z"
   },
   {
    "duration": -2216,
    "start_time": "2021-08-18T16:59:49.478Z"
   },
   {
    "duration": -2228,
    "start_time": "2021-08-18T16:59:49.492Z"
   },
   {
    "duration": 717,
    "start_time": "2021-08-18T17:01:14.604Z"
   },
   {
    "duration": 15,
    "start_time": "2021-08-18T17:01:42.439Z"
   },
   {
    "duration": 15,
    "start_time": "2021-08-18T17:01:42.819Z"
   },
   {
    "duration": 2974,
    "start_time": "2021-08-18T17:02:11.248Z"
   },
   {
    "duration": 5,
    "start_time": "2021-08-18T17:03:14.601Z"
   },
   {
    "duration": 82,
    "start_time": "2021-08-18T17:03:14.610Z"
   },
   {
    "duration": 22,
    "start_time": "2021-08-18T17:03:14.695Z"
   },
   {
    "duration": 61,
    "start_time": "2021-08-18T17:03:14.720Z"
   },
   {
    "duration": 9,
    "start_time": "2021-08-18T17:03:14.784Z"
   },
   {
    "duration": 78,
    "start_time": "2021-08-18T17:03:14.795Z"
   },
   {
    "duration": 24,
    "start_time": "2021-08-18T17:03:14.876Z"
   },
   {
    "duration": 76,
    "start_time": "2021-08-18T17:03:14.903Z"
   },
   {
    "duration": 31,
    "start_time": "2021-08-18T17:03:14.982Z"
   },
   {
    "duration": 64,
    "start_time": "2021-08-18T17:03:15.015Z"
   },
   {
    "duration": 23,
    "start_time": "2021-08-18T17:03:15.082Z"
   },
   {
    "duration": 70,
    "start_time": "2021-08-18T17:03:15.108Z"
   },
   {
    "duration": 15,
    "start_time": "2021-08-18T17:03:15.180Z"
   },
   {
    "duration": 24,
    "start_time": "2021-08-18T17:03:15.198Z"
   },
   {
    "duration": 8,
    "start_time": "2021-08-18T17:03:15.224Z"
   },
   {
    "duration": 37,
    "start_time": "2021-08-18T17:03:15.235Z"
   },
   {
    "duration": 13,
    "start_time": "2021-08-18T17:03:15.275Z"
   },
   {
    "duration": 10,
    "start_time": "2021-08-18T17:03:15.290Z"
   },
   {
    "duration": 2110,
    "start_time": "2021-08-18T17:03:15.305Z"
   },
   {
    "duration": 12,
    "start_time": "2021-08-18T17:03:17.419Z"
   },
   {
    "duration": 43,
    "start_time": "2021-08-18T17:03:17.433Z"
   },
   {
    "duration": 11,
    "start_time": "2021-08-18T17:03:17.479Z"
   },
   {
    "duration": 43,
    "start_time": "2021-08-18T17:03:17.492Z"
   },
   {
    "duration": 32,
    "start_time": "2021-08-18T17:03:17.538Z"
   },
   {
    "duration": 534,
    "start_time": "2021-08-18T17:03:17.573Z"
   },
   {
    "duration": 21,
    "start_time": "2021-08-18T17:03:18.110Z"
   },
   {
    "duration": 1657,
    "start_time": "2021-08-18T17:03:18.134Z"
   },
   {
    "duration": -1692,
    "start_time": "2021-08-18T17:03:21.487Z"
   },
   {
    "duration": -1712,
    "start_time": "2021-08-18T17:03:21.509Z"
   },
   {
    "duration": -1730,
    "start_time": "2021-08-18T17:03:21.528Z"
   },
   {
    "duration": -1744,
    "start_time": "2021-08-18T17:03:21.543Z"
   },
   {
    "duration": -1753,
    "start_time": "2021-08-18T17:03:21.554Z"
   },
   {
    "duration": -1764,
    "start_time": "2021-08-18T17:03:21.566Z"
   },
   {
    "duration": -1772,
    "start_time": "2021-08-18T17:03:21.575Z"
   },
   {
    "duration": -1782,
    "start_time": "2021-08-18T17:03:21.587Z"
   },
   {
    "duration": -1794,
    "start_time": "2021-08-18T17:03:21.600Z"
   },
   {
    "duration": -1801,
    "start_time": "2021-08-18T17:03:21.608Z"
   },
   {
    "duration": -1810,
    "start_time": "2021-08-18T17:03:21.619Z"
   },
   {
    "duration": -1818,
    "start_time": "2021-08-18T17:03:21.629Z"
   },
   {
    "duration": -1830,
    "start_time": "2021-08-18T17:03:21.642Z"
   },
   {
    "duration": -1840,
    "start_time": "2021-08-18T17:03:21.653Z"
   },
   {
    "duration": -1851,
    "start_time": "2021-08-18T17:03:21.666Z"
   },
   {
    "duration": -1859,
    "start_time": "2021-08-18T17:03:21.675Z"
   },
   {
    "duration": -1869,
    "start_time": "2021-08-18T17:03:21.687Z"
   },
   {
    "duration": -1880,
    "start_time": "2021-08-18T17:03:21.699Z"
   },
   {
    "duration": -1847,
    "start_time": "2021-08-18T17:03:21.708Z"
   },
   {
    "duration": -1856,
    "start_time": "2021-08-18T17:03:21.719Z"
   },
   {
    "duration": -1863,
    "start_time": "2021-08-18T17:03:21.727Z"
   },
   {
    "duration": -1908,
    "start_time": "2021-08-18T17:03:21.774Z"
   },
   {
    "duration": -1918,
    "start_time": "2021-08-18T17:03:21.785Z"
   },
   {
    "duration": -1926,
    "start_time": "2021-08-18T17:03:21.794Z"
   },
   {
    "duration": -1936,
    "start_time": "2021-08-18T17:03:21.806Z"
   },
   {
    "duration": -1946,
    "start_time": "2021-08-18T17:03:21.817Z"
   },
   {
    "duration": -1954,
    "start_time": "2021-08-18T17:03:21.826Z"
   },
   {
    "duration": -1964,
    "start_time": "2021-08-18T17:03:21.837Z"
   },
   {
    "duration": -1974,
    "start_time": "2021-08-18T17:03:21.849Z"
   },
   {
    "duration": -1981,
    "start_time": "2021-08-18T17:03:21.857Z"
   },
   {
    "duration": -1991,
    "start_time": "2021-08-18T17:03:21.868Z"
   },
   {
    "duration": -1998,
    "start_time": "2021-08-18T17:03:21.877Z"
   },
   {
    "duration": -2007,
    "start_time": "2021-08-18T17:03:21.887Z"
   },
   {
    "duration": -2018,
    "start_time": "2021-08-18T17:03:21.899Z"
   },
   {
    "duration": -2025,
    "start_time": "2021-08-18T17:03:21.908Z"
   },
   {
    "duration": -2035,
    "start_time": "2021-08-18T17:03:21.919Z"
   },
   {
    "duration": -2048,
    "start_time": "2021-08-18T17:03:21.933Z"
   },
   {
    "duration": -2055,
    "start_time": "2021-08-18T17:03:21.942Z"
   },
   {
    "duration": -2069,
    "start_time": "2021-08-18T17:03:21.957Z"
   },
   {
    "duration": -2081,
    "start_time": "2021-08-18T17:03:21.971Z"
   },
   {
    "duration": -2095,
    "start_time": "2021-08-18T17:03:21.986Z"
   },
   {
    "duration": -2109,
    "start_time": "2021-08-18T17:03:22.001Z"
   },
   {
    "duration": -2117,
    "start_time": "2021-08-18T17:03:22.011Z"
   },
   {
    "duration": -2132,
    "start_time": "2021-08-18T17:03:22.027Z"
   },
   {
    "duration": -2149,
    "start_time": "2021-08-18T17:03:22.045Z"
   },
   {
    "duration": -2163,
    "start_time": "2021-08-18T17:03:22.061Z"
   },
   {
    "duration": -2118,
    "start_time": "2021-08-18T17:03:22.079Z"
   },
   {
    "duration": -2132,
    "start_time": "2021-08-18T17:03:22.095Z"
   },
   {
    "duration": 1247,
    "start_time": "2021-08-18T17:03:45.073Z"
   },
   {
    "duration": 5,
    "start_time": "2021-08-18T17:04:02.501Z"
   },
   {
    "duration": 84,
    "start_time": "2021-08-18T17:04:02.508Z"
   },
   {
    "duration": 18,
    "start_time": "2021-08-18T17:04:02.595Z"
   },
   {
    "duration": 57,
    "start_time": "2021-08-18T17:04:02.617Z"
   },
   {
    "duration": 8,
    "start_time": "2021-08-18T17:04:02.676Z"
   },
   {
    "duration": 77,
    "start_time": "2021-08-18T17:04:02.686Z"
   },
   {
    "duration": 23,
    "start_time": "2021-08-18T17:04:02.766Z"
   },
   {
    "duration": 82,
    "start_time": "2021-08-18T17:04:02.793Z"
   },
   {
    "duration": 28,
    "start_time": "2021-08-18T17:04:02.879Z"
   },
   {
    "duration": 55,
    "start_time": "2021-08-18T17:04:02.910Z"
   },
   {
    "duration": 30,
    "start_time": "2021-08-18T17:04:02.968Z"
   },
   {
    "duration": 73,
    "start_time": "2021-08-18T17:04:03.001Z"
   },
   {
    "duration": 8,
    "start_time": "2021-08-18T17:04:03.078Z"
   },
   {
    "duration": 27,
    "start_time": "2021-08-18T17:04:03.089Z"
   },
   {
    "duration": 49,
    "start_time": "2021-08-18T17:04:03.119Z"
   },
   {
    "duration": 31,
    "start_time": "2021-08-18T17:04:03.171Z"
   },
   {
    "duration": 10,
    "start_time": "2021-08-18T17:04:03.205Z"
   },
   {
    "duration": 46,
    "start_time": "2021-08-18T17:04:03.218Z"
   },
   {
    "duration": 2734,
    "start_time": "2021-08-18T17:04:03.273Z"
   },
   {
    "duration": 18,
    "start_time": "2021-08-18T17:04:06.012Z"
   },
   {
    "duration": 39,
    "start_time": "2021-08-18T17:04:06.033Z"
   },
   {
    "duration": 11,
    "start_time": "2021-08-18T17:04:06.075Z"
   },
   {
    "duration": 36,
    "start_time": "2021-08-18T17:04:06.089Z"
   },
   {
    "duration": 44,
    "start_time": "2021-08-18T17:04:06.127Z"
   },
   {
    "duration": 961,
    "start_time": "2021-08-18T17:04:06.173Z"
   },
   {
    "duration": 36,
    "start_time": "2021-08-18T17:04:07.137Z"
   },
   {
    "duration": 1919,
    "start_time": "2021-08-18T17:04:07.176Z"
   },
   {
    "duration": 14,
    "start_time": "2021-08-18T17:04:09.098Z"
   },
   {
    "duration": 11,
    "start_time": "2021-08-18T17:04:09.115Z"
   },
   {
    "duration": 47,
    "start_time": "2021-08-18T17:04:09.128Z"
   },
   {
    "duration": 14,
    "start_time": "2021-08-18T17:04:09.177Z"
   },
   {
    "duration": 20,
    "start_time": "2021-08-18T17:04:09.193Z"
   },
   {
    "duration": 7,
    "start_time": "2021-08-18T17:04:09.215Z"
   },
   {
    "duration": 16437,
    "start_time": "2021-08-18T17:04:09.224Z"
   },
   {
    "duration": 23,
    "start_time": "2021-08-18T17:04:25.664Z"
   },
   {
    "duration": 24,
    "start_time": "2021-08-18T17:04:25.689Z"
   },
   {
    "duration": 60,
    "start_time": "2021-08-18T17:04:25.716Z"
   },
   {
    "duration": 29,
    "start_time": "2021-08-18T17:04:25.779Z"
   },
   {
    "duration": 50,
    "start_time": "2021-08-18T17:04:25.812Z"
   },
   {
    "duration": 58,
    "start_time": "2021-08-18T17:04:25.866Z"
   },
   {
    "duration": 37,
    "start_time": "2021-08-18T17:04:25.927Z"
   },
   {
    "duration": 12,
    "start_time": "2021-08-18T17:04:25.968Z"
   },
   {
    "duration": 24,
    "start_time": "2021-08-18T17:04:25.984Z"
   },
   {
    "duration": 51,
    "start_time": "2021-08-18T17:04:26.011Z"
   },
   {
    "duration": 15,
    "start_time": "2021-08-18T17:04:26.064Z"
   },
   {
    "duration": 13,
    "start_time": "2021-08-18T17:04:26.082Z"
   },
   {
    "duration": 16,
    "start_time": "2021-08-18T17:04:26.098Z"
   },
   {
    "duration": 10,
    "start_time": "2021-08-18T17:04:26.116Z"
   },
   {
    "duration": 48,
    "start_time": "2021-08-18T17:04:26.128Z"
   },
   {
    "duration": 38,
    "start_time": "2021-08-18T17:04:26.179Z"
   },
   {
    "duration": 42,
    "start_time": "2021-08-18T17:04:26.220Z"
   },
   {
    "duration": 4,
    "start_time": "2021-08-18T17:04:26.265Z"
   },
   {
    "duration": 18,
    "start_time": "2021-08-18T17:04:26.272Z"
   },
   {
    "duration": 72,
    "start_time": "2021-08-18T17:04:26.293Z"
   },
   {
    "duration": 24,
    "start_time": "2021-08-18T17:04:26.372Z"
   },
   {
    "duration": 99,
    "start_time": "2021-08-18T17:04:26.400Z"
   },
   {
    "duration": 22,
    "start_time": "2021-08-18T17:04:26.502Z"
   },
   {
    "duration": 45,
    "start_time": "2021-08-18T17:04:26.527Z"
   },
   {
    "duration": 9,
    "start_time": "2021-08-18T17:04:26.575Z"
   },
   {
    "duration": 10,
    "start_time": "2021-08-18T17:04:26.587Z"
   },
   {
    "duration": 5797,
    "start_time": "2021-08-18T17:04:26.599Z"
   },
   {
    "duration": 16,
    "start_time": "2021-08-18T17:04:32.399Z"
   },
   {
    "duration": 5,
    "start_time": "2021-08-18T17:04:32.419Z"
   },
   {
    "duration": 2031,
    "start_time": "2021-08-18T17:04:32.428Z"
   },
   {
    "duration": 22,
    "start_time": "2021-08-18T17:04:34.463Z"
   },
   {
    "duration": 16,
    "start_time": "2021-08-18T17:04:34.488Z"
   },
   {
    "duration": 57,
    "start_time": "2021-08-18T17:04:34.506Z"
   },
   {
    "duration": 6,
    "start_time": "2021-08-18T17:04:34.566Z"
   },
   {
    "duration": 11,
    "start_time": "2021-08-18T17:04:34.574Z"
   },
   {
    "duration": 10,
    "start_time": "2021-08-18T17:04:34.588Z"
   },
   {
    "duration": 14,
    "start_time": "2021-08-18T17:04:34.600Z"
   },
   {
    "duration": 104,
    "start_time": "2021-08-18T17:04:34.661Z"
   },
   {
    "duration": 355,
    "start_time": "2021-08-18T17:04:34.769Z"
   },
   {
    "duration": 11,
    "start_time": "2021-08-18T17:04:35.127Z"
   },
   {
    "duration": 97,
    "start_time": "2021-08-18T17:04:35.141Z"
   },
   {
    "duration": 271,
    "start_time": "2021-08-18T17:04:47.177Z"
   },
   {
    "duration": 275,
    "start_time": "2021-08-18T17:04:57.900Z"
   },
   {
    "duration": 362,
    "start_time": "2021-08-18T17:10:18.074Z"
   },
   {
    "duration": 104,
    "start_time": "2021-08-18T17:10:21.685Z"
   },
   {
    "duration": 359,
    "start_time": "2021-08-18T17:10:25.880Z"
   },
   {
    "duration": 803,
    "start_time": "2021-08-18T17:10:36.143Z"
   },
   {
    "duration": 335,
    "start_time": "2021-08-18T17:12:10.487Z"
   },
   {
    "duration": 5,
    "start_time": "2021-08-18T17:12:28.886Z"
   },
   {
    "duration": 361,
    "start_time": "2021-08-18T17:13:41.555Z"
   },
   {
    "duration": 346,
    "start_time": "2021-08-18T17:14:01.872Z"
   },
   {
    "duration": 349,
    "start_time": "2021-08-18T17:15:10.745Z"
   },
   {
    "duration": 361,
    "start_time": "2021-08-18T17:15:22.163Z"
   },
   {
    "duration": 450,
    "start_time": "2021-08-18T17:15:28.502Z"
   },
   {
    "duration": 396,
    "start_time": "2021-08-18T17:15:35.836Z"
   },
   {
    "duration": 369,
    "start_time": "2021-08-18T17:15:45.282Z"
   },
   {
    "duration": 352,
    "start_time": "2021-08-18T17:15:49.625Z"
   },
   {
    "duration": 582,
    "start_time": "2021-08-18T17:15:55.169Z"
   },
   {
    "duration": 336,
    "start_time": "2021-08-18T17:15:59.484Z"
   },
   {
    "duration": 341,
    "start_time": "2021-08-18T17:16:03.224Z"
   },
   {
    "duration": 341,
    "start_time": "2021-08-18T17:16:07.300Z"
   },
   {
    "duration": 347,
    "start_time": "2021-08-18T17:16:21.918Z"
   },
   {
    "duration": 9,
    "start_time": "2021-08-18T17:16:57.165Z"
   },
   {
    "duration": 8,
    "start_time": "2021-08-18T17:16:58.398Z"
   },
   {
    "duration": 12,
    "start_time": "2021-08-18T17:18:26.347Z"
   },
   {
    "duration": 12,
    "start_time": "2021-08-18T17:18:26.917Z"
   },
   {
    "duration": 16,
    "start_time": "2021-08-18T17:18:27.881Z"
   },
   {
    "duration": 113,
    "start_time": "2021-08-18T17:18:32.442Z"
   },
   {
    "duration": 372,
    "start_time": "2021-08-18T17:18:34.545Z"
   },
   {
    "duration": 81,
    "start_time": "2021-08-18T17:23:53.071Z"
   },
   {
    "duration": 437,
    "start_time": "2021-08-18T17:24:02.807Z"
   },
   {
    "duration": 537,
    "start_time": "2021-08-18T17:24:22.579Z"
   },
   {
    "duration": 466,
    "start_time": "2021-08-18T17:25:17.290Z"
   },
   {
    "duration": 96,
    "start_time": "2021-08-18T17:25:20.483Z"
   },
   {
    "duration": 314,
    "start_time": "2021-08-18T17:25:25.631Z"
   },
   {
    "duration": 9,
    "start_time": "2021-08-18T17:26:30.948Z"
   },
   {
    "duration": 8,
    "start_time": "2021-08-18T17:26:33.060Z"
   },
   {
    "duration": 77,
    "start_time": "2021-08-18T17:28:03.117Z"
   },
   {
    "duration": 15,
    "start_time": "2021-08-18T17:28:24.141Z"
   },
   {
    "duration": 5,
    "start_time": "2021-08-18T17:28:33.440Z"
   },
   {
    "duration": 86,
    "start_time": "2021-08-18T17:28:33.447Z"
   },
   {
    "duration": 31,
    "start_time": "2021-08-18T17:28:33.536Z"
   },
   {
    "duration": 21,
    "start_time": "2021-08-18T17:28:33.571Z"
   },
   {
    "duration": 9,
    "start_time": "2021-08-18T17:28:33.595Z"
   },
   {
    "duration": 77,
    "start_time": "2021-08-18T17:28:33.607Z"
   },
   {
    "duration": 27,
    "start_time": "2021-08-18T17:28:33.689Z"
   },
   {
    "duration": 70,
    "start_time": "2021-08-18T17:28:33.719Z"
   },
   {
    "duration": 79,
    "start_time": "2021-08-18T17:28:33.792Z"
   },
   {
    "duration": 28,
    "start_time": "2021-08-18T17:28:33.874Z"
   },
   {
    "duration": 58,
    "start_time": "2021-08-18T17:28:33.905Z"
   },
   {
    "duration": 17,
    "start_time": "2021-08-18T17:28:33.966Z"
   },
   {
    "duration": 7,
    "start_time": "2021-08-18T17:28:33.986Z"
   },
   {
    "duration": 17,
    "start_time": "2021-08-18T17:28:33.995Z"
   },
   {
    "duration": 50,
    "start_time": "2021-08-18T17:28:34.015Z"
   },
   {
    "duration": 18,
    "start_time": "2021-08-18T17:28:34.068Z"
   },
   {
    "duration": 11,
    "start_time": "2021-08-18T17:28:34.089Z"
   },
   {
    "duration": 11,
    "start_time": "2021-08-18T17:28:34.102Z"
   },
   {
    "duration": 1815,
    "start_time": "2021-08-18T17:28:34.118Z"
   },
   {
    "duration": 30,
    "start_time": "2021-08-18T17:28:35.938Z"
   },
   {
    "duration": 49,
    "start_time": "2021-08-18T17:28:35.971Z"
   },
   {
    "duration": 11,
    "start_time": "2021-08-18T17:28:36.022Z"
   },
   {
    "duration": 34,
    "start_time": "2021-08-18T17:28:36.036Z"
   },
   {
    "duration": 18,
    "start_time": "2021-08-18T17:28:36.073Z"
   },
   {
    "duration": 539,
    "start_time": "2021-08-18T17:28:36.094Z"
   },
   {
    "duration": 32,
    "start_time": "2021-08-18T17:28:36.636Z"
   },
   {
    "duration": 1167,
    "start_time": "2021-08-18T17:28:36.671Z"
   },
   {
    "duration": 24,
    "start_time": "2021-08-18T17:28:37.841Z"
   },
   {
    "duration": 17,
    "start_time": "2021-08-18T17:28:37.869Z"
   },
   {
    "duration": 20,
    "start_time": "2021-08-18T17:28:37.889Z"
   },
   {
    "duration": 50,
    "start_time": "2021-08-18T17:28:37.912Z"
   },
   {
    "duration": 19,
    "start_time": "2021-08-18T17:28:37.966Z"
   },
   {
    "duration": 7,
    "start_time": "2021-08-18T17:28:37.989Z"
   },
   {
    "duration": 15925,
    "start_time": "2021-08-18T17:28:37.999Z"
   },
   {
    "duration": 36,
    "start_time": "2021-08-18T17:28:53.926Z"
   },
   {
    "duration": 26,
    "start_time": "2021-08-18T17:28:53.964Z"
   },
   {
    "duration": 20,
    "start_time": "2021-08-18T17:28:53.993Z"
   },
   {
    "duration": 55,
    "start_time": "2021-08-18T17:28:54.016Z"
   },
   {
    "duration": 29,
    "start_time": "2021-08-18T17:28:54.074Z"
   },
   {
    "duration": 75,
    "start_time": "2021-08-18T17:28:54.107Z"
   },
   {
    "duration": 8,
    "start_time": "2021-08-18T17:28:54.184Z"
   },
   {
    "duration": 11,
    "start_time": "2021-08-18T17:28:54.194Z"
   },
   {
    "duration": 14,
    "start_time": "2021-08-18T17:28:54.208Z"
   },
   {
    "duration": 43,
    "start_time": "2021-08-18T17:28:54.225Z"
   },
   {
    "duration": 15,
    "start_time": "2021-08-18T17:28:54.271Z"
   },
   {
    "duration": 11,
    "start_time": "2021-08-18T17:28:54.288Z"
   },
   {
    "duration": 18,
    "start_time": "2021-08-18T17:28:54.302Z"
   },
   {
    "duration": 43,
    "start_time": "2021-08-18T17:28:54.322Z"
   },
   {
    "duration": 16,
    "start_time": "2021-08-18T17:28:54.367Z"
   },
   {
    "duration": 19,
    "start_time": "2021-08-18T17:28:54.386Z"
   },
   {
    "duration": 9,
    "start_time": "2021-08-18T17:28:54.408Z"
   },
   {
    "duration": 5,
    "start_time": "2021-08-18T17:28:54.420Z"
   },
   {
    "duration": 14,
    "start_time": "2021-08-18T17:28:54.463Z"
   },
   {
    "duration": 42,
    "start_time": "2021-08-18T17:28:54.479Z"
   },
   {
    "duration": 55,
    "start_time": "2021-08-18T17:28:54.527Z"
   },
   {
    "duration": 40,
    "start_time": "2021-08-18T17:28:54.586Z"
   },
   {
    "duration": 41,
    "start_time": "2021-08-18T17:28:54.628Z"
   },
   {
    "duration": 23,
    "start_time": "2021-08-18T17:28:54.671Z"
   },
   {
    "duration": 9,
    "start_time": "2021-08-18T17:28:54.696Z"
   },
   {
    "duration": 11,
    "start_time": "2021-08-18T17:28:54.707Z"
   },
   {
    "duration": 5546,
    "start_time": "2021-08-18T17:28:54.763Z"
   },
   {
    "duration": 15,
    "start_time": "2021-08-18T17:29:00.311Z"
   },
   {
    "duration": 26,
    "start_time": "2021-08-18T17:29:00.328Z"
   },
   {
    "duration": 1105,
    "start_time": "2021-08-18T17:29:00.361Z"
   },
   {
    "duration": 15,
    "start_time": "2021-08-18T17:29:01.469Z"
   },
   {
    "duration": 42,
    "start_time": "2021-08-18T17:29:01.487Z"
   },
   {
    "duration": 47,
    "start_time": "2021-08-18T17:29:01.532Z"
   },
   {
    "duration": 7,
    "start_time": "2021-08-18T17:29:01.582Z"
   },
   {
    "duration": 24,
    "start_time": "2021-08-18T17:29:01.591Z"
   },
   {
    "duration": 19,
    "start_time": "2021-08-18T17:29:01.617Z"
   },
   {
    "duration": 35,
    "start_time": "2021-08-18T17:29:01.639Z"
   },
   {
    "duration": 15,
    "start_time": "2021-08-18T17:29:17.710Z"
   },
   {
    "duration": 441,
    "start_time": "2021-08-18T17:32:16.405Z"
   },
   {
    "duration": 447,
    "start_time": "2021-08-18T17:33:03.651Z"
   },
   {
    "duration": 38,
    "start_time": "2021-08-18T17:35:47.031Z"
   },
   {
    "duration": 301,
    "start_time": "2021-08-18T17:46:43.521Z"
   },
   {
    "duration": 6841,
    "start_time": "2021-08-18T17:46:57.157Z"
   },
   {
    "duration": 12,
    "start_time": "2021-08-18T17:47:04.787Z"
   },
   {
    "duration": 4,
    "start_time": "2021-08-18T19:05:18.330Z"
   },
   {
    "duration": 86,
    "start_time": "2021-08-18T19:05:18.338Z"
   },
   {
    "duration": 14,
    "start_time": "2021-08-18T19:05:18.427Z"
   },
   {
    "duration": 28,
    "start_time": "2021-08-18T19:05:18.467Z"
   },
   {
    "duration": 9,
    "start_time": "2021-08-18T19:05:18.500Z"
   },
   {
    "duration": 73,
    "start_time": "2021-08-18T19:05:18.512Z"
   },
   {
    "duration": 24,
    "start_time": "2021-08-18T19:05:18.588Z"
   },
   {
    "duration": 67,
    "start_time": "2021-08-18T19:05:18.614Z"
   },
   {
    "duration": 29,
    "start_time": "2021-08-18T19:05:18.685Z"
   },
   {
    "duration": 70,
    "start_time": "2021-08-18T19:05:18.717Z"
   },
   {
    "duration": 23,
    "start_time": "2021-08-18T19:05:18.789Z"
   },
   {
    "duration": 59,
    "start_time": "2021-08-18T19:05:18.816Z"
   },
   {
    "duration": 8,
    "start_time": "2021-08-18T19:05:18.879Z"
   },
   {
    "duration": 26,
    "start_time": "2021-08-18T19:05:18.890Z"
   },
   {
    "duration": 52,
    "start_time": "2021-08-18T19:05:18.919Z"
   },
   {
    "duration": 19,
    "start_time": "2021-08-18T19:05:18.974Z"
   },
   {
    "duration": 17,
    "start_time": "2021-08-18T19:05:18.996Z"
   },
   {
    "duration": 10,
    "start_time": "2021-08-18T19:05:19.015Z"
   },
   {
    "duration": 2337,
    "start_time": "2021-08-18T19:05:19.062Z"
   },
   {
    "duration": 18,
    "start_time": "2021-08-18T19:05:21.403Z"
   },
   {
    "duration": 44,
    "start_time": "2021-08-18T19:05:21.424Z"
   },
   {
    "duration": 13,
    "start_time": "2021-08-18T19:05:21.472Z"
   },
   {
    "duration": 40,
    "start_time": "2021-08-18T19:05:21.488Z"
   },
   {
    "duration": 23,
    "start_time": "2021-08-18T19:05:21.571Z"
   },
   {
    "duration": 845,
    "start_time": "2021-08-18T19:05:21.600Z"
   },
   {
    "duration": 31,
    "start_time": "2021-08-18T19:05:22.448Z"
   },
   {
    "duration": 1260,
    "start_time": "2021-08-18T19:05:22.481Z"
   },
   {
    "duration": 19,
    "start_time": "2021-08-18T19:05:23.743Z"
   },
   {
    "duration": 11,
    "start_time": "2021-08-18T19:05:23.765Z"
   },
   {
    "duration": 20,
    "start_time": "2021-08-18T19:05:23.779Z"
   },
   {
    "duration": 64,
    "start_time": "2021-08-18T19:05:23.802Z"
   },
   {
    "duration": 24,
    "start_time": "2021-08-18T19:05:23.869Z"
   },
   {
    "duration": 9,
    "start_time": "2021-08-18T19:05:23.895Z"
   },
   {
    "duration": 17278,
    "start_time": "2021-08-18T19:05:23.907Z"
   },
   {
    "duration": 30,
    "start_time": "2021-08-18T19:05:41.189Z"
   },
   {
    "duration": 44,
    "start_time": "2021-08-18T19:05:41.222Z"
   },
   {
    "duration": 26,
    "start_time": "2021-08-18T19:05:41.269Z"
   },
   {
    "duration": 20,
    "start_time": "2021-08-18T19:05:41.298Z"
   },
   {
    "duration": 61,
    "start_time": "2021-08-18T19:05:41.321Z"
   },
   {
    "duration": 38,
    "start_time": "2021-08-18T19:05:41.384Z"
   },
   {
    "duration": 42,
    "start_time": "2021-08-18T19:05:41.425Z"
   },
   {
    "duration": 10,
    "start_time": "2021-08-18T19:05:41.479Z"
   },
   {
    "duration": 17,
    "start_time": "2021-08-18T19:05:41.493Z"
   },
   {
    "duration": 14,
    "start_time": "2021-08-18T19:05:41.513Z"
   },
   {
    "duration": 22,
    "start_time": "2021-08-18T19:05:41.563Z"
   },
   {
    "duration": 17,
    "start_time": "2021-08-18T19:05:41.588Z"
   },
   {
    "duration": 54,
    "start_time": "2021-08-18T19:05:41.608Z"
   },
   {
    "duration": 15,
    "start_time": "2021-08-18T19:05:41.667Z"
   },
   {
    "duration": 25,
    "start_time": "2021-08-18T19:05:41.686Z"
   },
   {
    "duration": 57,
    "start_time": "2021-08-18T19:05:41.714Z"
   },
   {
    "duration": 10,
    "start_time": "2021-08-18T19:05:41.774Z"
   },
   {
    "duration": 8,
    "start_time": "2021-08-18T19:05:41.787Z"
   },
   {
    "duration": 23,
    "start_time": "2021-08-18T19:05:41.798Z"
   },
   {
    "duration": 44,
    "start_time": "2021-08-18T19:05:41.861Z"
   },
   {
    "duration": 21,
    "start_time": "2021-08-18T19:05:41.907Z"
   },
   {
    "duration": 43,
    "start_time": "2021-08-18T19:05:41.963Z"
   },
   {
    "duration": 18,
    "start_time": "2021-08-18T19:05:42.009Z"
   },
   {
    "duration": 45,
    "start_time": "2021-08-18T19:05:42.030Z"
   },
   {
    "duration": 11,
    "start_time": "2021-08-18T19:05:42.078Z"
   },
   {
    "duration": 13,
    "start_time": "2021-08-18T19:05:42.092Z"
   },
   {
    "duration": 5101,
    "start_time": "2021-08-18T19:05:42.108Z"
   },
   {
    "duration": 14,
    "start_time": "2021-08-18T19:05:47.212Z"
   },
   {
    "duration": 10,
    "start_time": "2021-08-18T19:05:47.229Z"
   },
   {
    "duration": 1185,
    "start_time": "2021-08-18T19:05:47.242Z"
   },
   {
    "duration": 31,
    "start_time": "2021-08-18T19:05:48.430Z"
   },
   {
    "duration": 20,
    "start_time": "2021-08-18T19:05:48.465Z"
   },
   {
    "duration": 26,
    "start_time": "2021-08-18T19:05:48.488Z"
   },
   {
    "duration": 45,
    "start_time": "2021-08-18T19:05:48.517Z"
   },
   {
    "duration": 10,
    "start_time": "2021-08-18T19:05:48.573Z"
   },
   {
    "duration": 14,
    "start_time": "2021-08-18T19:05:48.587Z"
   },
   {
    "duration": 13,
    "start_time": "2021-08-18T19:05:48.603Z"
   },
   {
    "duration": 60,
    "start_time": "2021-08-18T19:05:48.619Z"
   },
   {
    "duration": 333,
    "start_time": "2021-08-18T19:05:48.681Z"
   },
   {
    "duration": 32,
    "start_time": "2021-08-18T19:05:55.065Z"
   },
   {
    "duration": 14,
    "start_time": "2021-08-18T19:05:55.868Z"
   },
   {
    "duration": 295,
    "start_time": "2021-08-18T19:06:42.552Z"
   },
   {
    "duration": 20,
    "start_time": "2021-08-18T19:06:50.465Z"
   },
   {
    "duration": 13,
    "start_time": "2021-08-18T19:07:01.318Z"
   },
   {
    "duration": 26,
    "start_time": "2021-08-18T19:08:16.295Z"
   },
   {
    "duration": 18,
    "start_time": "2021-08-18T19:08:17.111Z"
   },
   {
    "duration": 11,
    "start_time": "2021-08-18T19:12:17.379Z"
   },
   {
    "duration": 9,
    "start_time": "2021-08-18T19:12:59.596Z"
   },
   {
    "duration": 27,
    "start_time": "2021-08-18T19:13:02.574Z"
   },
   {
    "duration": 10,
    "start_time": "2021-08-18T19:13:03.188Z"
   },
   {
    "duration": 41,
    "start_time": "2021-08-18T19:19:27.677Z"
   },
   {
    "duration": 305,
    "start_time": "2021-08-18T19:20:43.340Z"
   },
   {
    "duration": 41,
    "start_time": "2021-08-18T19:20:50.613Z"
   },
   {
    "duration": 9,
    "start_time": "2021-08-18T19:56:48.453Z"
   },
   {
    "duration": 29,
    "start_time": "2021-08-18T19:56:55.556Z"
   },
   {
    "duration": 27,
    "start_time": "2021-08-18T19:57:28.101Z"
   },
   {
    "duration": 27,
    "start_time": "2021-08-18T19:58:03.003Z"
   },
   {
    "duration": 16,
    "start_time": "2021-08-18T19:58:04.168Z"
   },
   {
    "duration": 9,
    "start_time": "2021-08-18T19:58:21.301Z"
   },
   {
    "duration": 12,
    "start_time": "2021-08-18T19:58:39.387Z"
   },
   {
    "duration": 13,
    "start_time": "2021-08-18T19:59:04.926Z"
   },
   {
    "duration": 27,
    "start_time": "2021-08-18T19:59:18.062Z"
   },
   {
    "duration": 11,
    "start_time": "2021-08-18T19:59:18.328Z"
   },
   {
    "duration": 92,
    "start_time": "2021-08-18T20:01:38.756Z"
   },
   {
    "duration": 24,
    "start_time": "2021-08-18T20:01:47.685Z"
   },
   {
    "duration": 24,
    "start_time": "2021-08-18T20:03:16.334Z"
   },
   {
    "duration": 25,
    "start_time": "2021-08-18T20:03:50.990Z"
   },
   {
    "duration": 7048,
    "start_time": "2021-08-18T20:04:40.937Z"
   },
   {
    "duration": 12,
    "start_time": "2021-08-18T20:04:54.722Z"
   },
   {
    "duration": 252,
    "start_time": "2021-08-18T20:08:43.030Z"
   },
   {
    "duration": 16,
    "start_time": "2021-08-18T20:08:49.026Z"
   },
   {
    "duration": 44,
    "start_time": "2021-08-18T20:09:36.011Z"
   },
   {
    "duration": 14,
    "start_time": "2021-08-18T20:09:53.692Z"
   },
   {
    "duration": 117,
    "start_time": "2021-08-18T20:10:09.440Z"
   },
   {
    "duration": 104,
    "start_time": "2021-08-18T20:10:21.131Z"
   },
   {
    "duration": 90,
    "start_time": "2021-08-18T20:10:28.873Z"
   },
   {
    "duration": 14,
    "start_time": "2021-08-18T20:10:32.825Z"
   },
   {
    "duration": 13,
    "start_time": "2021-08-18T20:12:20.501Z"
   },
   {
    "duration": 11,
    "start_time": "2021-08-18T20:12:29.925Z"
   },
   {
    "duration": 15,
    "start_time": "2021-08-18T20:12:38.781Z"
   },
   {
    "duration": 15,
    "start_time": "2021-08-18T20:17:10.733Z"
   },
   {
    "duration": 24,
    "start_time": "2021-08-18T20:24:06.341Z"
   },
   {
    "duration": 10,
    "start_time": "2021-08-18T20:24:10.818Z"
   },
   {
    "duration": 16,
    "start_time": "2021-08-18T20:24:13.608Z"
   },
   {
    "duration": 81,
    "start_time": "2021-08-18T20:30:06.812Z"
   },
   {
    "duration": 71,
    "start_time": "2021-08-18T20:30:10.159Z"
   },
   {
    "duration": 15,
    "start_time": "2021-08-18T20:30:15.372Z"
   },
   {
    "duration": 4,
    "start_time": "2021-08-18T20:31:19.805Z"
   },
   {
    "duration": 16,
    "start_time": "2021-08-18T20:34:31.555Z"
   },
   {
    "duration": 5,
    "start_time": "2021-08-18T20:38:12.188Z"
   },
   {
    "duration": 91,
    "start_time": "2021-08-18T20:38:12.199Z"
   },
   {
    "duration": 16,
    "start_time": "2021-08-18T20:38:12.293Z"
   },
   {
    "duration": 21,
    "start_time": "2021-08-18T20:38:12.313Z"
   },
   {
    "duration": 34,
    "start_time": "2021-08-18T20:38:12.337Z"
   },
   {
    "duration": 60,
    "start_time": "2021-08-18T20:38:12.375Z"
   },
   {
    "duration": 52,
    "start_time": "2021-08-18T20:38:12.437Z"
   },
   {
    "duration": 30,
    "start_time": "2021-08-18T20:38:12.491Z"
   },
   {
    "duration": 31,
    "start_time": "2021-08-18T20:38:12.563Z"
   },
   {
    "duration": 24,
    "start_time": "2021-08-18T20:38:12.598Z"
   },
   {
    "duration": 78,
    "start_time": "2021-08-18T20:38:12.624Z"
   },
   {
    "duration": 16,
    "start_time": "2021-08-18T20:38:12.705Z"
   },
   {
    "duration": 39,
    "start_time": "2021-08-18T20:38:12.724Z"
   },
   {
    "duration": 24,
    "start_time": "2021-08-18T20:38:12.769Z"
   },
   {
    "duration": 12,
    "start_time": "2021-08-18T20:38:12.796Z"
   },
   {
    "duration": 55,
    "start_time": "2021-08-18T20:38:12.811Z"
   },
   {
    "duration": 12,
    "start_time": "2021-08-18T20:38:12.869Z"
   },
   {
    "duration": 12,
    "start_time": "2021-08-18T20:38:12.885Z"
   },
   {
    "duration": 2365,
    "start_time": "2021-08-18T20:38:12.901Z"
   },
   {
    "duration": 17,
    "start_time": "2021-08-18T20:38:15.270Z"
   },
   {
    "duration": 22,
    "start_time": "2021-08-18T20:38:15.290Z"
   },
   {
    "duration": 11,
    "start_time": "2021-08-18T20:38:15.315Z"
   },
   {
    "duration": 73,
    "start_time": "2021-08-18T20:38:15.328Z"
   },
   {
    "duration": 17,
    "start_time": "2021-08-18T20:38:15.410Z"
   },
   {
    "duration": 608,
    "start_time": "2021-08-18T20:38:15.431Z"
   },
   {
    "duration": 30,
    "start_time": "2021-08-18T20:38:16.041Z"
   },
   {
    "duration": 1369,
    "start_time": "2021-08-18T20:38:16.074Z"
   },
   {
    "duration": 18,
    "start_time": "2021-08-18T20:38:17.446Z"
   },
   {
    "duration": 17,
    "start_time": "2021-08-18T20:38:17.467Z"
   },
   {
    "duration": 26,
    "start_time": "2021-08-18T20:38:17.489Z"
   },
   {
    "duration": 51,
    "start_time": "2021-08-18T20:38:17.518Z"
   },
   {
    "duration": 19,
    "start_time": "2021-08-18T20:38:17.572Z"
   },
   {
    "duration": 18,
    "start_time": "2021-08-18T20:38:17.593Z"
   },
   {
    "duration": 17761,
    "start_time": "2021-08-18T20:38:17.613Z"
   },
   {
    "duration": 28,
    "start_time": "2021-08-18T20:38:35.377Z"
   },
   {
    "duration": 39,
    "start_time": "2021-08-18T20:38:35.408Z"
   },
   {
    "duration": 49,
    "start_time": "2021-08-18T20:38:35.451Z"
   },
   {
    "duration": 20,
    "start_time": "2021-08-18T20:38:35.503Z"
   },
   {
    "duration": 25,
    "start_time": "2021-08-18T20:38:35.526Z"
   },
   {
    "duration": 46,
    "start_time": "2021-08-18T20:38:35.568Z"
   },
   {
    "duration": 9,
    "start_time": "2021-08-18T20:38:35.617Z"
   },
   {
    "duration": 39,
    "start_time": "2021-08-18T20:38:35.628Z"
   },
   {
    "duration": 22,
    "start_time": "2021-08-18T20:38:35.669Z"
   },
   {
    "duration": 14,
    "start_time": "2021-08-18T20:38:35.695Z"
   },
   {
    "duration": 16,
    "start_time": "2021-08-18T20:38:35.711Z"
   },
   {
    "duration": 53,
    "start_time": "2021-08-18T20:38:35.729Z"
   },
   {
    "duration": 19,
    "start_time": "2021-08-18T20:38:35.785Z"
   },
   {
    "duration": 10,
    "start_time": "2021-08-18T20:38:35.807Z"
   },
   {
    "duration": 52,
    "start_time": "2021-08-18T20:38:35.819Z"
   },
   {
    "duration": 26,
    "start_time": "2021-08-18T20:38:35.875Z"
   },
   {
    "duration": 25,
    "start_time": "2021-08-18T20:38:35.903Z"
   },
   {
    "duration": 16,
    "start_time": "2021-08-18T20:38:35.930Z"
   },
   {
    "duration": 57,
    "start_time": "2021-08-18T20:38:35.949Z"
   },
   {
    "duration": 40,
    "start_time": "2021-08-18T20:38:36.009Z"
   },
   {
    "duration": 31,
    "start_time": "2021-08-18T20:38:36.051Z"
   },
   {
    "duration": 44,
    "start_time": "2021-08-18T20:38:36.085Z"
   },
   {
    "duration": 39,
    "start_time": "2021-08-18T20:38:36.132Z"
   },
   {
    "duration": 25,
    "start_time": "2021-08-18T20:38:36.174Z"
   },
   {
    "duration": 11,
    "start_time": "2021-08-18T20:38:36.201Z"
   },
   {
    "duration": 9,
    "start_time": "2021-08-18T20:38:36.214Z"
   },
   {
    "duration": 5344,
    "start_time": "2021-08-18T20:38:36.263Z"
   },
   {
    "duration": 15,
    "start_time": "2021-08-18T20:38:41.610Z"
   },
   {
    "duration": 21,
    "start_time": "2021-08-18T20:38:41.627Z"
   },
   {
    "duration": 1068,
    "start_time": "2021-08-18T20:38:41.650Z"
   },
   {
    "duration": 15,
    "start_time": "2021-08-18T20:38:42.721Z"
   },
   {
    "duration": 32,
    "start_time": "2021-08-18T20:38:42.738Z"
   },
   {
    "duration": 33,
    "start_time": "2021-08-18T20:38:42.773Z"
   },
   {
    "duration": 6,
    "start_time": "2021-08-18T20:38:42.809Z"
   },
   {
    "duration": 47,
    "start_time": "2021-08-18T20:38:42.823Z"
   },
   {
    "duration": 14,
    "start_time": "2021-08-18T20:38:42.874Z"
   },
   {
    "duration": 12,
    "start_time": "2021-08-18T20:38:42.891Z"
   },
   {
    "duration": 65,
    "start_time": "2021-08-18T20:38:42.906Z"
   },
   {
    "duration": 12,
    "start_time": "2021-08-18T20:38:42.975Z"
   },
   {
    "duration": 15,
    "start_time": "2021-08-18T20:38:42.993Z"
   },
   {
    "duration": 125,
    "start_time": "2021-08-18T20:38:43.011Z"
   },
   {
    "duration": 342,
    "start_time": "2021-08-18T20:38:43.139Z"
   },
   {
    "duration": 10,
    "start_time": "2021-08-18T20:38:43.483Z"
   },
   {
    "duration": 100,
    "start_time": "2021-08-18T20:38:43.496Z"
   },
   {
    "duration": 361,
    "start_time": "2021-08-18T20:38:43.599Z"
   },
   {
    "duration": 10,
    "start_time": "2021-08-18T20:38:43.963Z"
   },
   {
    "duration": 13,
    "start_time": "2021-08-18T20:38:43.976Z"
   },
   {
    "duration": 12,
    "start_time": "2021-08-18T20:38:43.992Z"
   },
   {
    "duration": 13,
    "start_time": "2021-08-18T21:00:46.946Z"
   },
   {
    "duration": 365,
    "start_time": "2021-08-18T21:01:59.133Z"
   },
   {
    "duration": 13,
    "start_time": "2021-08-18T21:02:30.086Z"
   },
   {
    "duration": 549,
    "start_time": "2021-08-18T21:03:24.659Z"
   },
   {
    "duration": 521,
    "start_time": "2021-08-18T21:04:07.232Z"
   },
   {
    "duration": 301,
    "start_time": "2021-08-18T21:04:22.589Z"
   },
   {
    "duration": 324,
    "start_time": "2021-08-18T21:04:27.004Z"
   },
   {
    "duration": 494,
    "start_time": "2021-08-18T21:04:41.722Z"
   },
   {
    "duration": 292,
    "start_time": "2021-08-18T21:29:58.819Z"
   },
   {
    "duration": 583,
    "start_time": "2021-08-18T21:30:54.768Z"
   },
   {
    "duration": 433,
    "start_time": "2021-08-18T21:31:13.229Z"
   },
   {
    "duration": 515,
    "start_time": "2021-08-18T21:31:21.562Z"
   },
   {
    "duration": 426,
    "start_time": "2021-08-18T21:31:26.118Z"
   },
   {
    "duration": 517,
    "start_time": "2021-08-18T21:31:53.205Z"
   },
   {
    "duration": 280,
    "start_time": "2021-08-18T21:31:59.685Z"
   },
   {
    "duration": 277,
    "start_time": "2021-08-18T21:32:11.462Z"
   },
   {
    "duration": 262,
    "start_time": "2021-08-18T21:32:16.105Z"
   },
   {
    "duration": 296,
    "start_time": "2021-08-18T21:33:07.053Z"
   },
   {
    "duration": 6,
    "start_time": "2021-08-18T21:33:13.802Z"
   },
   {
    "duration": 501,
    "start_time": "2021-08-18T21:33:59.611Z"
   },
   {
    "duration": 8,
    "start_time": "2021-08-18T21:34:20.060Z"
   },
   {
    "duration": 431,
    "start_time": "2021-08-18T21:34:41.247Z"
   },
   {
    "duration": 971,
    "start_time": "2021-08-18T21:34:44.556Z"
   },
   {
    "duration": 5,
    "start_time": "2021-08-18T21:37:44.160Z"
   },
   {
    "duration": 6,
    "start_time": "2021-08-18T21:38:08.842Z"
   },
   {
    "duration": 310,
    "start_time": "2021-08-18T21:38:51.962Z"
   },
   {
    "duration": 635,
    "start_time": "2021-08-18T21:39:02.902Z"
   },
   {
    "duration": 466,
    "start_time": "2021-08-18T21:39:09.545Z"
   },
   {
    "duration": 422,
    "start_time": "2021-08-18T21:39:12.642Z"
   },
   {
    "duration": 286,
    "start_time": "2021-08-18T21:39:19.970Z"
   },
   {
    "duration": 476,
    "start_time": "2021-08-18T21:39:24.193Z"
   },
   {
    "duration": 55,
    "start_time": "2021-08-18T21:46:06.713Z"
   },
   {
    "duration": 41,
    "start_time": "2021-08-18T21:46:30.375Z"
   },
   {
    "duration": 47,
    "start_time": "2021-08-18T21:46:38.332Z"
   },
   {
    "duration": 31,
    "start_time": "2021-08-18T21:46:52.598Z"
   },
   {
    "duration": 98,
    "start_time": "2021-08-18T21:46:57.386Z"
   },
   {
    "duration": 259,
    "start_time": "2021-08-18T21:47:11.391Z"
   },
   {
    "duration": 521,
    "start_time": "2021-08-18T21:47:33.729Z"
   },
   {
    "duration": 481,
    "start_time": "2021-08-18T21:47:44.289Z"
   },
   {
    "duration": 584,
    "start_time": "2021-08-18T21:47:50.639Z"
   },
   {
    "duration": 485,
    "start_time": "2021-08-18T21:47:54.577Z"
   },
   {
    "duration": 500,
    "start_time": "2021-08-18T21:47:57.788Z"
   },
   {
    "duration": 531,
    "start_time": "2021-08-18T21:48:00.770Z"
   },
   {
    "duration": 264,
    "start_time": "2021-08-18T21:50:20.848Z"
   },
   {
    "duration": 309,
    "start_time": "2021-08-18T21:51:34.418Z"
   },
   {
    "duration": 11,
    "start_time": "2021-08-18T21:51:37.955Z"
   },
   {
    "duration": 1565,
    "start_time": "2021-08-19T06:38:46.426Z"
   },
   {
    "duration": 77,
    "start_time": "2021-08-19T06:38:47.994Z"
   },
   {
    "duration": 19,
    "start_time": "2021-08-19T06:38:48.074Z"
   },
   {
    "duration": 16,
    "start_time": "2021-08-19T06:38:48.096Z"
   },
   {
    "duration": 6,
    "start_time": "2021-08-19T06:38:48.114Z"
   },
   {
    "duration": 65,
    "start_time": "2021-08-19T06:38:48.123Z"
   },
   {
    "duration": 25,
    "start_time": "2021-08-19T06:38:48.190Z"
   },
   {
    "duration": 23,
    "start_time": "2021-08-19T06:38:48.220Z"
   },
   {
    "duration": 24,
    "start_time": "2021-08-19T06:38:48.283Z"
   },
   {
    "duration": 21,
    "start_time": "2021-08-19T06:38:48.309Z"
   },
   {
    "duration": 53,
    "start_time": "2021-08-19T06:38:48.332Z"
   },
   {
    "duration": 17,
    "start_time": "2021-08-19T06:38:48.387Z"
   },
   {
    "duration": 8,
    "start_time": "2021-08-19T06:38:48.407Z"
   },
   {
    "duration": 16,
    "start_time": "2021-08-19T06:38:48.418Z"
   },
   {
    "duration": 49,
    "start_time": "2021-08-19T06:38:48.437Z"
   },
   {
    "duration": 16,
    "start_time": "2021-08-19T06:38:48.488Z"
   },
   {
    "duration": 10,
    "start_time": "2021-08-19T06:38:48.506Z"
   },
   {
    "duration": 9,
    "start_time": "2021-08-19T06:38:48.519Z"
   },
   {
    "duration": 2009,
    "start_time": "2021-08-19T06:38:48.530Z"
   },
   {
    "duration": 17,
    "start_time": "2021-08-19T06:38:50.543Z"
   },
   {
    "duration": 34,
    "start_time": "2021-08-19T06:38:50.563Z"
   },
   {
    "duration": 13,
    "start_time": "2021-08-19T06:38:50.600Z"
   },
   {
    "duration": 69,
    "start_time": "2021-08-19T06:38:50.623Z"
   },
   {
    "duration": 21,
    "start_time": "2021-08-19T06:38:50.698Z"
   },
   {
    "duration": 544,
    "start_time": "2021-08-19T06:38:50.722Z"
   },
   {
    "duration": 27,
    "start_time": "2021-08-19T06:38:51.268Z"
   },
   {
    "duration": 1077,
    "start_time": "2021-08-19T06:38:51.297Z"
   },
   {
    "duration": 16,
    "start_time": "2021-08-19T06:38:52.376Z"
   },
   {
    "duration": 11,
    "start_time": "2021-08-19T06:38:52.394Z"
   },
   {
    "duration": 18,
    "start_time": "2021-08-19T06:38:52.407Z"
   },
   {
    "duration": 56,
    "start_time": "2021-08-19T06:38:52.428Z"
   },
   {
    "duration": 20,
    "start_time": "2021-08-19T06:38:52.486Z"
   },
   {
    "duration": 9,
    "start_time": "2021-08-19T06:38:52.509Z"
   },
   {
    "duration": 15378,
    "start_time": "2021-08-19T06:38:52.521Z"
   },
   {
    "duration": 19,
    "start_time": "2021-08-19T06:39:07.902Z"
   },
   {
    "duration": 18,
    "start_time": "2021-08-19T06:39:07.925Z"
   },
   {
    "duration": 50,
    "start_time": "2021-08-19T06:39:07.946Z"
   },
   {
    "duration": 20,
    "start_time": "2021-08-19T06:39:07.998Z"
   },
   {
    "duration": 17,
    "start_time": "2021-08-19T06:39:08.022Z"
   },
   {
    "duration": 76,
    "start_time": "2021-08-19T06:39:08.042Z"
   },
   {
    "duration": 7,
    "start_time": "2021-08-19T06:39:08.121Z"
   },
   {
    "duration": 13,
    "start_time": "2021-08-19T06:39:08.131Z"
   },
   {
    "duration": 44,
    "start_time": "2021-08-19T06:39:08.146Z"
   },
   {
    "duration": 13,
    "start_time": "2021-08-19T06:39:08.193Z"
   },
   {
    "duration": 17,
    "start_time": "2021-08-19T06:39:08.208Z"
   },
   {
    "duration": 12,
    "start_time": "2021-08-19T06:39:08.227Z"
   },
   {
    "duration": 53,
    "start_time": "2021-08-19T06:39:08.242Z"
   },
   {
    "duration": 9,
    "start_time": "2021-08-19T06:39:08.298Z"
   },
   {
    "duration": 23,
    "start_time": "2021-08-19T06:39:08.309Z"
   },
   {
    "duration": 20,
    "start_time": "2021-08-19T06:39:08.335Z"
   },
   {
    "duration": 31,
    "start_time": "2021-08-19T06:39:08.357Z"
   },
   {
    "duration": 6,
    "start_time": "2021-08-19T06:39:08.390Z"
   },
   {
    "duration": 14,
    "start_time": "2021-08-19T06:39:08.399Z"
   },
   {
    "duration": 66,
    "start_time": "2021-08-19T06:39:08.416Z"
   },
   {
    "duration": 21,
    "start_time": "2021-08-19T06:39:08.485Z"
   },
   {
    "duration": 37,
    "start_time": "2021-08-19T06:39:08.508Z"
   },
   {
    "duration": 39,
    "start_time": "2021-08-19T06:39:08.548Z"
   },
   {
    "duration": 18,
    "start_time": "2021-08-19T06:39:08.590Z"
   },
   {
    "duration": 11,
    "start_time": "2021-08-19T06:39:08.611Z"
   },
   {
    "duration": 9,
    "start_time": "2021-08-19T06:39:08.624Z"
   },
   {
    "duration": 4294,
    "start_time": "2021-08-19T06:39:08.636Z"
   },
   {
    "duration": 16,
    "start_time": "2021-08-19T06:39:12.933Z"
   },
   {
    "duration": 11,
    "start_time": "2021-08-19T06:39:12.952Z"
   },
   {
    "duration": 1046,
    "start_time": "2021-08-19T06:39:12.965Z"
   },
   {
    "duration": 14,
    "start_time": "2021-08-19T06:39:14.014Z"
   },
   {
    "duration": 14,
    "start_time": "2021-08-19T06:39:14.030Z"
   },
   {
    "duration": 51,
    "start_time": "2021-08-19T06:39:14.046Z"
   },
   {
    "duration": 5,
    "start_time": "2021-08-19T06:39:14.105Z"
   },
   {
    "duration": 10,
    "start_time": "2021-08-19T06:39:14.113Z"
   },
   {
    "duration": 11,
    "start_time": "2021-08-19T06:39:14.125Z"
   },
   {
    "duration": 49,
    "start_time": "2021-08-19T06:39:14.138Z"
   },
   {
    "duration": 22,
    "start_time": "2021-08-19T06:39:14.189Z"
   },
   {
    "duration": 8,
    "start_time": "2021-08-19T06:39:14.214Z"
   },
   {
    "duration": 16,
    "start_time": "2021-08-19T06:39:14.224Z"
   },
   {
    "duration": 191,
    "start_time": "2021-08-19T06:39:14.242Z"
   },
   {
    "duration": 325,
    "start_time": "2021-08-19T06:39:14.435Z"
   },
   {
    "duration": 22,
    "start_time": "2021-08-19T06:39:14.763Z"
   },
   {
    "duration": 96,
    "start_time": "2021-08-19T06:39:14.788Z"
   },
   {
    "duration": 361,
    "start_time": "2021-08-19T06:39:14.886Z"
   },
   {
    "duration": 9,
    "start_time": "2021-08-19T06:39:15.249Z"
   },
   {
    "duration": 25,
    "start_time": "2021-08-19T06:39:15.261Z"
   },
   {
    "duration": 12,
    "start_time": "2021-08-19T06:39:15.288Z"
   },
   {
    "duration": 8,
    "start_time": "2021-08-19T06:39:15.303Z"
   },
   {
    "duration": 269,
    "start_time": "2021-08-19T06:39:15.313Z"
   },
   {
    "duration": 368,
    "start_time": "2021-08-19T06:39:15.585Z"
   },
   {
    "duration": 5,
    "start_time": "2021-08-19T06:39:15.956Z"
   },
   {
    "duration": 26,
    "start_time": "2021-08-19T06:39:15.963Z"
   },
   {
    "duration": 82,
    "start_time": "2021-08-19T06:39:15.992Z"
   },
   {
    "duration": 325,
    "start_time": "2021-08-19T06:39:16.083Z"
   },
   {
    "duration": 8,
    "start_time": "2021-08-19T06:39:16.410Z"
   },
   {
    "duration": 11,
    "start_time": "2021-08-19T06:39:16.421Z"
   },
   {
    "duration": 631,
    "start_time": "2021-08-19T06:54:16.155Z"
   },
   {
    "duration": 244,
    "start_time": "2021-08-19T06:54:27.267Z"
   },
   {
    "duration": 652,
    "start_time": "2021-08-19T06:54:34.466Z"
   },
   {
    "duration": 818,
    "start_time": "2021-08-19T06:54:40.835Z"
   },
   {
    "duration": 99,
    "start_time": "2021-08-19T06:54:50.850Z"
   },
   {
    "duration": 490,
    "start_time": "2021-08-19T06:54:55.129Z"
   },
   {
    "duration": 241,
    "start_time": "2021-08-19T06:54:59.185Z"
   },
   {
    "duration": 9,
    "start_time": "2021-08-19T06:55:17.258Z"
   },
   {
    "duration": 263,
    "start_time": "2021-08-19T06:55:40.723Z"
   },
   {
    "duration": 237,
    "start_time": "2021-08-19T06:56:09.504Z"
   },
   {
    "duration": 302,
    "start_time": "2021-08-19T06:56:42.155Z"
   },
   {
    "duration": 415,
    "start_time": "2021-08-19T06:58:19.358Z"
   },
   {
    "duration": 376,
    "start_time": "2021-08-19T06:58:38.470Z"
   },
   {
    "duration": 352,
    "start_time": "2021-08-19T06:58:46.644Z"
   },
   {
    "duration": 311,
    "start_time": "2021-08-19T06:58:54.003Z"
   },
   {
    "duration": 322,
    "start_time": "2021-08-19T06:59:49.369Z"
   },
   {
    "duration": 931,
    "start_time": "2021-08-19T07:01:20.980Z"
   },
   {
    "duration": 445,
    "start_time": "2021-08-19T07:01:28.219Z"
   },
   {
    "duration": 324,
    "start_time": "2021-08-19T07:01:34.339Z"
   },
   {
    "duration": 9,
    "start_time": "2021-08-19T07:22:32.270Z"
   },
   {
    "duration": 89,
    "start_time": "2021-08-19T08:21:48.765Z"
   },
   {
    "duration": 640,
    "start_time": "2021-08-19T08:22:02.268Z"
   },
   {
    "duration": 553,
    "start_time": "2021-08-19T08:22:24.084Z"
   },
   {
    "duration": 302,
    "start_time": "2021-08-19T08:22:45.714Z"
   },
   {
    "duration": 775,
    "start_time": "2021-08-19T08:35:11.422Z"
   },
   {
    "duration": 477,
    "start_time": "2021-08-19T08:35:18.160Z"
   },
   {
    "duration": 707,
    "start_time": "2021-08-19T08:35:37.429Z"
   },
   {
    "duration": 547,
    "start_time": "2021-08-19T08:35:44.057Z"
   },
   {
    "duration": 523,
    "start_time": "2021-08-19T08:35:47.744Z"
   },
   {
    "duration": 1231,
    "start_time": "2021-08-19T08:35:50.966Z"
   },
   {
    "duration": 5,
    "start_time": "2021-08-19T08:36:04.941Z"
   },
   {
    "duration": 434,
    "start_time": "2021-08-19T08:36:16.118Z"
   },
   {
    "duration": 100,
    "start_time": "2021-08-19T08:38:36.191Z"
   },
   {
    "duration": 90,
    "start_time": "2021-08-19T08:38:41.069Z"
   },
   {
    "duration": 419,
    "start_time": "2021-08-19T08:53:38.295Z"
   },
   {
    "duration": 1075,
    "start_time": "2021-08-19T18:56:08.313Z"
   },
   {
    "duration": 56,
    "start_time": "2021-08-19T18:56:09.391Z"
   },
   {
    "duration": 9,
    "start_time": "2021-08-19T18:56:09.449Z"
   },
   {
    "duration": 10,
    "start_time": "2021-08-19T18:56:09.460Z"
   },
   {
    "duration": 4,
    "start_time": "2021-08-19T18:56:09.472Z"
   },
   {
    "duration": 26,
    "start_time": "2021-08-19T18:56:09.477Z"
   },
   {
    "duration": 14,
    "start_time": "2021-08-19T18:56:09.505Z"
   },
   {
    "duration": 13,
    "start_time": "2021-08-19T18:56:09.521Z"
   },
   {
    "duration": 14,
    "start_time": "2021-08-19T18:56:09.536Z"
   },
   {
    "duration": 44,
    "start_time": "2021-08-19T18:56:09.551Z"
   },
   {
    "duration": 13,
    "start_time": "2021-08-19T18:56:09.596Z"
   },
   {
    "duration": 10,
    "start_time": "2021-08-19T18:56:09.610Z"
   },
   {
    "duration": 4,
    "start_time": "2021-08-19T18:56:09.621Z"
   },
   {
    "duration": 11,
    "start_time": "2021-08-19T18:56:09.627Z"
   },
   {
    "duration": 6,
    "start_time": "2021-08-19T18:56:09.639Z"
   },
   {
    "duration": 12,
    "start_time": "2021-08-19T18:56:09.647Z"
   },
   {
    "duration": 32,
    "start_time": "2021-08-19T18:56:09.660Z"
   },
   {
    "duration": 8,
    "start_time": "2021-08-19T18:56:09.694Z"
   },
   {
    "duration": 1089,
    "start_time": "2021-08-19T18:56:09.704Z"
   },
   {
    "duration": 9,
    "start_time": "2021-08-19T18:56:10.795Z"
   },
   {
    "duration": 8,
    "start_time": "2021-08-19T18:56:10.806Z"
   },
   {
    "duration": 6,
    "start_time": "2021-08-19T18:56:10.816Z"
   },
   {
    "duration": 21,
    "start_time": "2021-08-19T18:56:10.824Z"
   },
   {
    "duration": 9,
    "start_time": "2021-08-19T18:56:10.847Z"
   },
   {
    "duration": 309,
    "start_time": "2021-08-19T18:56:10.858Z"
   },
   {
    "duration": 11,
    "start_time": "2021-08-19T18:56:11.169Z"
   },
   {
    "duration": 623,
    "start_time": "2021-08-19T18:56:34.847Z"
   },
   {
    "duration": 7,
    "start_time": "2021-08-19T18:56:43.831Z"
   },
   {
    "duration": 6,
    "start_time": "2021-08-19T18:56:51.622Z"
   },
   {
    "duration": 5,
    "start_time": "2021-08-19T18:58:49.136Z"
   },
   {
    "duration": 22,
    "start_time": "2021-08-19T18:59:18.605Z"
   },
   {
    "duration": 13,
    "start_time": "2021-08-19T18:59:23.602Z"
   },
   {
    "duration": 13,
    "start_time": "2021-08-19T18:59:45.579Z"
   },
   {
    "duration": 10,
    "start_time": "2021-08-19T19:04:54.756Z"
   },
   {
    "duration": 10,
    "start_time": "2021-08-19T19:05:25.637Z"
   },
   {
    "duration": 16,
    "start_time": "2021-08-19T19:05:58.361Z"
   },
   {
    "duration": 10,
    "start_time": "2021-08-19T19:06:01.314Z"
   },
   {
    "duration": 12,
    "start_time": "2021-08-19T19:06:04.052Z"
   },
   {
    "duration": 3,
    "start_time": "2021-08-19T19:06:12.111Z"
   },
   {
    "duration": 8599,
    "start_time": "2021-08-19T19:06:13.668Z"
   },
   {
    "duration": 14,
    "start_time": "2021-08-19T19:06:29.935Z"
   },
   {
    "duration": 12,
    "start_time": "2021-08-19T19:06:34.816Z"
   },
   {
    "duration": 14,
    "start_time": "2021-08-19T19:06:45.779Z"
   },
   {
    "duration": 14,
    "start_time": "2021-08-19T19:06:50.715Z"
   },
   {
    "duration": 16,
    "start_time": "2021-08-19T19:09:22.926Z"
   },
   {
    "duration": 16,
    "start_time": "2021-08-19T19:09:38.810Z"
   },
   {
    "duration": 14,
    "start_time": "2021-08-19T19:10:28.034Z"
   },
   {
    "duration": 14,
    "start_time": "2021-08-19T19:11:32.173Z"
   },
   {
    "duration": 17,
    "start_time": "2021-08-19T19:12:00.129Z"
   },
   {
    "duration": 14,
    "start_time": "2021-08-19T19:13:01.547Z"
   },
   {
    "duration": 14,
    "start_time": "2021-08-19T19:13:02.891Z"
   },
   {
    "duration": 9,
    "start_time": "2021-08-19T19:13:31.003Z"
   },
   {
    "duration": 382,
    "start_time": "2021-08-19T19:18:56.333Z"
   },
   {
    "duration": 310,
    "start_time": "2021-08-19T19:19:29.337Z"
   },
   {
    "duration": 13,
    "start_time": "2021-08-19T19:21:37.538Z"
   },
   {
    "duration": 9,
    "start_time": "2021-08-19T19:22:39.987Z"
   },
   {
    "duration": 8,
    "start_time": "2021-08-19T19:25:12.267Z"
   },
   {
    "duration": 10,
    "start_time": "2021-08-19T19:25:14.870Z"
   },
   {
    "duration": 8,
    "start_time": "2021-08-19T19:25:19.379Z"
   },
   {
    "duration": 9,
    "start_time": "2021-08-19T19:25:25.568Z"
   },
   {
    "duration": 7,
    "start_time": "2021-08-19T19:25:54.228Z"
   },
   {
    "duration": 83,
    "start_time": "2021-08-19T19:26:09.431Z"
   },
   {
    "duration": 3,
    "start_time": "2021-08-19T19:26:35.501Z"
   },
   {
    "duration": 56,
    "start_time": "2021-08-19T19:26:35.506Z"
   },
   {
    "duration": 10,
    "start_time": "2021-08-19T19:26:35.564Z"
   },
   {
    "duration": 16,
    "start_time": "2021-08-19T19:26:35.576Z"
   },
   {
    "duration": 5,
    "start_time": "2021-08-19T19:26:35.593Z"
   },
   {
    "duration": 19,
    "start_time": "2021-08-19T19:26:35.599Z"
   },
   {
    "duration": 13,
    "start_time": "2021-08-19T19:26:35.620Z"
   },
   {
    "duration": 14,
    "start_time": "2021-08-19T19:26:35.635Z"
   },
   {
    "duration": 43,
    "start_time": "2021-08-19T19:26:35.651Z"
   },
   {
    "duration": 14,
    "start_time": "2021-08-19T19:26:35.695Z"
   },
   {
    "duration": 15,
    "start_time": "2021-08-19T19:26:35.710Z"
   },
   {
    "duration": 11,
    "start_time": "2021-08-19T19:26:35.726Z"
   },
   {
    "duration": 4,
    "start_time": "2021-08-19T19:26:35.739Z"
   },
   {
    "duration": 18,
    "start_time": "2021-08-19T19:26:35.745Z"
   },
   {
    "duration": 32,
    "start_time": "2021-08-19T19:26:35.764Z"
   },
   {
    "duration": 13,
    "start_time": "2021-08-19T19:26:35.798Z"
   },
   {
    "duration": 14,
    "start_time": "2021-08-19T19:26:35.812Z"
   },
   {
    "duration": 11,
    "start_time": "2021-08-19T19:26:35.828Z"
   },
   {
    "duration": 1233,
    "start_time": "2021-08-19T19:26:35.841Z"
   },
   {
    "duration": 17,
    "start_time": "2021-08-19T19:26:37.076Z"
   },
   {
    "duration": 9,
    "start_time": "2021-08-19T19:26:37.094Z"
   },
   {
    "duration": 7,
    "start_time": "2021-08-19T19:26:37.104Z"
   },
   {
    "duration": 20,
    "start_time": "2021-08-19T19:26:37.112Z"
   },
   {
    "duration": 9,
    "start_time": "2021-08-19T19:26:37.133Z"
   },
   {
    "duration": 306,
    "start_time": "2021-08-19T19:26:37.144Z"
   },
   {
    "duration": 12,
    "start_time": "2021-08-19T19:26:37.452Z"
   },
   {
    "duration": 643,
    "start_time": "2021-08-19T19:26:37.465Z"
   },
   {
    "duration": 7,
    "start_time": "2021-08-19T19:26:38.110Z"
   },
   {
    "duration": 8,
    "start_time": "2021-08-19T19:26:38.118Z"
   },
   {
    "duration": 4,
    "start_time": "2021-08-19T19:26:38.127Z"
   },
   {
    "duration": 10,
    "start_time": "2021-08-19T19:26:38.133Z"
   },
   {
    "duration": 8,
    "start_time": "2021-08-19T19:26:38.145Z"
   },
   {
    "duration": 11,
    "start_time": "2021-08-19T19:26:48.625Z"
   },
   {
    "duration": 8,
    "start_time": "2021-08-19T19:27:45.900Z"
   },
   {
    "duration": 8,
    "start_time": "2021-08-19T19:28:19.493Z"
   },
   {
    "duration": 75,
    "start_time": "2021-08-19T19:28:45.571Z"
   },
   {
    "duration": 7,
    "start_time": "2021-08-19T19:28:50.211Z"
   },
   {
    "duration": 5,
    "start_time": "2021-08-19T19:29:49.218Z"
   },
   {
    "duration": 261,
    "start_time": "2021-08-19T19:30:27.727Z"
   },
   {
    "duration": 3764,
    "start_time": "2021-08-19T19:34:58.901Z"
   },
   {
    "duration": 7,
    "start_time": "2021-08-19T19:35:09.117Z"
   },
   {
    "duration": 8,
    "start_time": "2021-08-19T19:35:22.625Z"
   },
   {
    "duration": 259,
    "start_time": "2021-08-19T19:35:48.156Z"
   },
   {
    "duration": 9,
    "start_time": "2021-08-19T19:35:54.035Z"
   },
   {
    "duration": 7,
    "start_time": "2021-08-19T19:35:57.930Z"
   },
   {
    "duration": 258,
    "start_time": "2021-08-19T19:36:34.290Z"
   },
   {
    "duration": 238,
    "start_time": "2021-08-19T19:36:47.669Z"
   },
   {
    "duration": 7,
    "start_time": "2021-08-19T19:36:57.891Z"
   },
   {
    "duration": 4,
    "start_time": "2021-08-19T19:37:59.786Z"
   },
   {
    "duration": 5,
    "start_time": "2021-08-19T19:38:03.366Z"
   },
   {
    "duration": 265,
    "start_time": "2021-08-19T19:38:03.492Z"
   },
   {
    "duration": 3,
    "start_time": "2021-08-19T19:38:14.913Z"
   },
   {
    "duration": 56,
    "start_time": "2021-08-19T19:38:14.919Z"
   },
   {
    "duration": 9,
    "start_time": "2021-08-19T19:38:14.977Z"
   },
   {
    "duration": 11,
    "start_time": "2021-08-19T19:38:14.988Z"
   },
   {
    "duration": 5,
    "start_time": "2021-08-19T19:38:15.001Z"
   },
   {
    "duration": 22,
    "start_time": "2021-08-19T19:38:15.007Z"
   },
   {
    "duration": 14,
    "start_time": "2021-08-19T19:38:15.031Z"
   },
   {
    "duration": 13,
    "start_time": "2021-08-19T19:38:15.047Z"
   },
   {
    "duration": 17,
    "start_time": "2021-08-19T19:38:15.091Z"
   },
   {
    "duration": 13,
    "start_time": "2021-08-19T19:38:15.110Z"
   },
   {
    "duration": 13,
    "start_time": "2021-08-19T19:38:15.124Z"
   },
   {
    "duration": 16,
    "start_time": "2021-08-19T19:38:15.139Z"
   },
   {
    "duration": 38,
    "start_time": "2021-08-19T19:38:15.157Z"
   },
   {
    "duration": 11,
    "start_time": "2021-08-19T19:38:15.197Z"
   },
   {
    "duration": 5,
    "start_time": "2021-08-19T19:38:15.211Z"
   },
   {
    "duration": 12,
    "start_time": "2021-08-19T19:38:15.218Z"
   },
   {
    "duration": 9,
    "start_time": "2021-08-19T19:38:15.232Z"
   },
   {
    "duration": 9,
    "start_time": "2021-08-19T19:38:15.243Z"
   },
   {
    "duration": 1085,
    "start_time": "2021-08-19T19:38:15.253Z"
   },
   {
    "duration": 9,
    "start_time": "2021-08-19T19:38:16.340Z"
   },
   {
    "duration": 10,
    "start_time": "2021-08-19T19:38:16.350Z"
   },
   {
    "duration": 6,
    "start_time": "2021-08-19T19:38:16.361Z"
   },
   {
    "duration": 20,
    "start_time": "2021-08-19T19:38:16.392Z"
   },
   {
    "duration": 10,
    "start_time": "2021-08-19T19:38:16.414Z"
   },
   {
    "duration": 308,
    "start_time": "2021-08-19T19:38:16.425Z"
   },
   {
    "duration": 13,
    "start_time": "2021-08-19T19:38:16.735Z"
   },
   {
    "duration": 689,
    "start_time": "2021-08-19T19:38:16.749Z"
   },
   {
    "duration": 6,
    "start_time": "2021-08-19T19:38:17.440Z"
   },
   {
    "duration": 14,
    "start_time": "2021-08-19T19:38:17.448Z"
   },
   {
    "duration": 4,
    "start_time": "2021-08-19T19:38:17.464Z"
   },
   {
    "duration": 23,
    "start_time": "2021-08-19T19:38:17.469Z"
   },
   {
    "duration": 7,
    "start_time": "2021-08-19T19:38:17.495Z"
   },
   {
    "duration": 12,
    "start_time": "2021-08-19T19:38:22.153Z"
   },
   {
    "duration": 12,
    "start_time": "2021-08-19T19:39:23.313Z"
   },
   {
    "duration": 5,
    "start_time": "2021-08-19T19:39:24.530Z"
   },
   {
    "duration": 8,
    "start_time": "2021-08-19T19:40:17.126Z"
   },
   {
    "duration": 9,
    "start_time": "2021-08-19T19:40:31.324Z"
   },
   {
    "duration": 5,
    "start_time": "2021-08-19T19:40:31.829Z"
   },
   {
    "duration": 8,
    "start_time": "2021-08-19T19:41:41.652Z"
   },
   {
    "duration": 6,
    "start_time": "2021-08-19T19:42:09.220Z"
   },
   {
    "duration": 14,
    "start_time": "2021-08-19T19:42:36.477Z"
   },
   {
    "duration": 9,
    "start_time": "2021-08-19T19:42:36.698Z"
   },
   {
    "duration": 11,
    "start_time": "2021-08-19T19:42:38.381Z"
   },
   {
    "duration": 4,
    "start_time": "2021-08-19T19:42:39.706Z"
   },
   {
    "duration": 8598,
    "start_time": "2021-08-19T19:42:40.631Z"
   },
   {
    "duration": 12,
    "start_time": "2021-08-19T19:42:49.231Z"
   },
   {
    "duration": 11,
    "start_time": "2021-08-19T19:42:52.021Z"
   },
   {
    "duration": 14,
    "start_time": "2021-08-19T19:42:55.215Z"
   },
   {
    "duration": 12,
    "start_time": "2021-08-19T19:42:55.578Z"
   },
   {
    "duration": 4,
    "start_time": "2021-08-19T19:43:41.791Z"
   },
   {
    "duration": 5,
    "start_time": "2021-08-19T19:43:50.035Z"
   },
   {
    "duration": 5,
    "start_time": "2021-08-19T19:43:59.053Z"
   },
   {
    "duration": 7,
    "start_time": "2021-08-19T19:44:05.502Z"
   },
   {
    "duration": 12,
    "start_time": "2021-08-19T19:44:29.418Z"
   },
   {
    "duration": 8,
    "start_time": "2021-08-19T19:45:47.448Z"
   },
   {
    "duration": 11,
    "start_time": "2021-08-19T19:46:10.122Z"
   },
   {
    "duration": 11,
    "start_time": "2021-08-19T19:46:22.842Z"
   },
   {
    "duration": 11,
    "start_time": "2021-08-19T19:46:31.652Z"
   },
   {
    "duration": 11,
    "start_time": "2021-08-19T19:47:21.727Z"
   },
   {
    "duration": 6,
    "start_time": "2021-08-19T19:47:29.813Z"
   },
   {
    "duration": 6,
    "start_time": "2021-08-19T19:47:37.540Z"
   },
   {
    "duration": 6,
    "start_time": "2021-08-19T19:47:43.888Z"
   },
   {
    "duration": 4,
    "start_time": "2021-08-19T19:47:49.831Z"
   },
   {
    "duration": 4,
    "start_time": "2021-08-19T19:53:25.679Z"
   },
   {
    "duration": 5,
    "start_time": "2021-08-19T19:56:25.884Z"
   },
   {
    "duration": 3,
    "start_time": "2021-08-19T19:59:49.354Z"
   },
   {
    "duration": 57,
    "start_time": "2021-08-19T19:59:49.359Z"
   },
   {
    "duration": 9,
    "start_time": "2021-08-19T19:59:49.418Z"
   },
   {
    "duration": 11,
    "start_time": "2021-08-19T19:59:49.429Z"
   },
   {
    "duration": 4,
    "start_time": "2021-08-19T19:59:49.441Z"
   },
   {
    "duration": 18,
    "start_time": "2021-08-19T19:59:49.447Z"
   },
   {
    "duration": 34,
    "start_time": "2021-08-19T19:59:49.467Z"
   },
   {
    "duration": 13,
    "start_time": "2021-08-19T19:59:49.503Z"
   },
   {
    "duration": 17,
    "start_time": "2021-08-19T19:59:49.518Z"
   },
   {
    "duration": 13,
    "start_time": "2021-08-19T19:59:49.537Z"
   },
   {
    "duration": 41,
    "start_time": "2021-08-19T19:59:49.552Z"
   },
   {
    "duration": 12,
    "start_time": "2021-08-19T19:59:49.595Z"
   },
   {
    "duration": 4,
    "start_time": "2021-08-19T19:59:49.608Z"
   },
   {
    "duration": 11,
    "start_time": "2021-08-19T19:59:49.613Z"
   },
   {
    "duration": 4,
    "start_time": "2021-08-19T19:59:49.625Z"
   },
   {
    "duration": 13,
    "start_time": "2021-08-19T19:59:49.631Z"
   },
   {
    "duration": 5,
    "start_time": "2021-08-19T19:59:49.645Z"
   },
   {
    "duration": 10,
    "start_time": "2021-08-19T19:59:49.651Z"
   },
   {
    "duration": 1029,
    "start_time": "2021-08-19T19:59:49.663Z"
   },
   {
    "duration": 9,
    "start_time": "2021-08-19T19:59:50.694Z"
   },
   {
    "duration": 9,
    "start_time": "2021-08-19T19:59:50.704Z"
   },
   {
    "duration": 6,
    "start_time": "2021-08-19T19:59:50.714Z"
   },
   {
    "duration": 26,
    "start_time": "2021-08-19T19:59:50.722Z"
   },
   {
    "duration": 9,
    "start_time": "2021-08-19T19:59:50.750Z"
   },
   {
    "duration": 280,
    "start_time": "2021-08-19T19:59:50.760Z"
   },
   {
    "duration": 11,
    "start_time": "2021-08-19T19:59:51.042Z"
   },
   {
    "duration": 236,
    "start_time": "2021-08-19T19:59:54.793Z"
   },
   {
    "duration": 626,
    "start_time": "2021-08-19T19:59:59.380Z"
   },
   {
    "duration": 9,
    "start_time": "2021-08-19T20:00:05.411Z"
   },
   {
    "duration": 7,
    "start_time": "2021-08-19T20:00:08.128Z"
   },
   {
    "duration": 515,
    "start_time": "2021-08-19T20:00:31.306Z"
   },
   {
    "duration": 406,
    "start_time": "2021-08-19T20:00:45.164Z"
   },
   {
    "duration": 276,
    "start_time": "2021-08-19T20:03:59.744Z"
   },
   {
    "duration": 19,
    "start_time": "2021-08-19T20:04:07.368Z"
   },
   {
    "duration": 4,
    "start_time": "2021-08-19T20:05:20.617Z"
   },
   {
    "duration": 18,
    "start_time": "2021-08-19T20:07:16.589Z"
   },
   {
    "duration": 18,
    "start_time": "2021-08-19T20:07:57.270Z"
   },
   {
    "duration": 19,
    "start_time": "2021-08-19T20:08:34.922Z"
   },
   {
    "duration": 22,
    "start_time": "2021-08-19T20:08:40.838Z"
   },
   {
    "duration": 13,
    "start_time": "2021-08-19T20:08:47.810Z"
   },
   {
    "duration": 19,
    "start_time": "2021-08-19T20:08:51.173Z"
   },
   {
    "duration": 13,
    "start_time": "2021-08-19T20:09:41.741Z"
   },
   {
    "duration": 18,
    "start_time": "2021-08-19T20:10:42.524Z"
   },
   {
    "duration": 18,
    "start_time": "2021-08-19T20:10:47.986Z"
   },
   {
    "duration": 21,
    "start_time": "2021-08-19T20:10:53.951Z"
   },
   {
    "duration": 18,
    "start_time": "2021-08-19T20:10:59.359Z"
   },
   {
    "duration": 19,
    "start_time": "2021-08-19T20:11:04.170Z"
   },
   {
    "duration": 20,
    "start_time": "2021-08-19T20:11:12.733Z"
   },
   {
    "duration": 75,
    "start_time": "2021-08-19T20:12:38.652Z"
   },
   {
    "duration": 1119,
    "start_time": "2021-08-19T20:15:24.072Z"
   },
   {
    "duration": 55,
    "start_time": "2021-08-19T20:15:25.193Z"
   },
   {
    "duration": 10,
    "start_time": "2021-08-19T20:15:25.249Z"
   },
   {
    "duration": 11,
    "start_time": "2021-08-19T20:15:25.260Z"
   },
   {
    "duration": 5,
    "start_time": "2021-08-19T20:15:25.272Z"
   },
   {
    "duration": 25,
    "start_time": "2021-08-19T20:15:25.278Z"
   },
   {
    "duration": 12,
    "start_time": "2021-08-19T20:15:25.304Z"
   },
   {
    "duration": 12,
    "start_time": "2021-08-19T20:15:25.318Z"
   },
   {
    "duration": 13,
    "start_time": "2021-08-19T20:15:25.332Z"
   },
   {
    "duration": 45,
    "start_time": "2021-08-19T20:15:25.347Z"
   },
   {
    "duration": 12,
    "start_time": "2021-08-19T20:15:25.393Z"
   },
   {
    "duration": 9,
    "start_time": "2021-08-19T20:15:25.407Z"
   },
   {
    "duration": 4,
    "start_time": "2021-08-19T20:15:25.418Z"
   },
   {
    "duration": 14,
    "start_time": "2021-08-19T20:15:25.423Z"
   },
   {
    "duration": 5,
    "start_time": "2021-08-19T20:15:25.439Z"
   },
   {
    "duration": 14,
    "start_time": "2021-08-19T20:15:25.445Z"
   },
   {
    "duration": 9,
    "start_time": "2021-08-19T20:15:25.460Z"
   },
   {
    "duration": 22,
    "start_time": "2021-08-19T20:15:25.471Z"
   },
   {
    "duration": 1058,
    "start_time": "2021-08-19T20:15:25.495Z"
   },
   {
    "duration": 8,
    "start_time": "2021-08-19T20:15:26.555Z"
   },
   {
    "duration": 9,
    "start_time": "2021-08-19T20:15:26.564Z"
   },
   {
    "duration": 20,
    "start_time": "2021-08-19T20:15:26.574Z"
   },
   {
    "duration": 17,
    "start_time": "2021-08-19T20:15:26.597Z"
   },
   {
    "duration": 9,
    "start_time": "2021-08-19T20:15:26.616Z"
   },
   {
    "duration": 291,
    "start_time": "2021-08-19T20:15:26.626Z"
   },
   {
    "duration": 12,
    "start_time": "2021-08-19T20:15:26.918Z"
   },
   {
    "duration": 639,
    "start_time": "2021-08-19T20:15:26.932Z"
   },
   {
    "duration": 18,
    "start_time": "2021-08-19T20:15:27.573Z"
   },
   {
    "duration": 6,
    "start_time": "2021-08-19T20:15:27.592Z"
   },
   {
    "duration": 16,
    "start_time": "2021-08-19T20:15:27.599Z"
   },
   {
    "duration": 12,
    "start_time": "2021-08-19T20:15:27.617Z"
   },
   {
    "duration": 11,
    "start_time": "2021-08-19T20:15:27.631Z"
   },
   {
    "duration": 11,
    "start_time": "2021-08-19T20:15:27.644Z"
   },
   {
    "duration": 45,
    "start_time": "2021-08-19T20:15:27.657Z"
   },
   {
    "duration": 12,
    "start_time": "2021-08-19T20:15:27.704Z"
   },
   {
    "duration": 14,
    "start_time": "2021-08-19T20:15:27.718Z"
   },
   {
    "duration": 13,
    "start_time": "2021-08-19T20:15:27.733Z"
   },
   {
    "duration": 13,
    "start_time": "2021-08-19T20:15:27.748Z"
   },
   {
    "duration": 310,
    "start_time": "2021-08-19T20:15:27.791Z"
   },
   {
    "duration": -1282,
    "start_time": "2021-08-19T20:15:29.386Z"
   },
   {
    "duration": -1295,
    "start_time": "2021-08-19T20:15:29.400Z"
   },
   {
    "duration": -1306,
    "start_time": "2021-08-19T20:15:29.412Z"
   },
   {
    "duration": -1353,
    "start_time": "2021-08-19T20:15:29.460Z"
   },
   {
    "duration": -1363,
    "start_time": "2021-08-19T20:15:29.470Z"
   },
   {
    "duration": -1376,
    "start_time": "2021-08-19T20:15:29.484Z"
   },
   {
    "duration": -1386,
    "start_time": "2021-08-19T20:15:29.495Z"
   },
   {
    "duration": -1399,
    "start_time": "2021-08-19T20:15:29.509Z"
   },
   {
    "duration": -1409,
    "start_time": "2021-08-19T20:15:29.520Z"
   },
   {
    "duration": -1422,
    "start_time": "2021-08-19T20:15:29.534Z"
   },
   {
    "duration": -1432,
    "start_time": "2021-08-19T20:15:29.544Z"
   },
   {
    "duration": -1453,
    "start_time": "2021-08-19T20:15:29.567Z"
   },
   {
    "duration": -1464,
    "start_time": "2021-08-19T20:15:29.578Z"
   },
   {
    "duration": -1477,
    "start_time": "2021-08-19T20:15:29.592Z"
   },
   {
    "duration": -1487,
    "start_time": "2021-08-19T20:15:29.603Z"
   },
   {
    "duration": -1510,
    "start_time": "2021-08-19T20:15:29.627Z"
   },
   {
    "duration": -1536,
    "start_time": "2021-08-19T20:15:29.654Z"
   },
   {
    "duration": -1587,
    "start_time": "2021-08-19T20:15:29.706Z"
   },
   {
    "duration": -1626,
    "start_time": "2021-08-19T20:15:29.746Z"
   },
   {
    "duration": -1669,
    "start_time": "2021-08-19T20:15:29.790Z"
   },
   {
    "duration": -1720,
    "start_time": "2021-08-19T20:15:29.842Z"
   },
   {
    "duration": -1733,
    "start_time": "2021-08-19T20:15:29.856Z"
   },
   {
    "duration": -1745,
    "start_time": "2021-08-19T20:15:29.868Z"
   },
   {
    "duration": -1757,
    "start_time": "2021-08-19T20:15:29.881Z"
   },
   {
    "duration": -1767,
    "start_time": "2021-08-19T20:15:29.892Z"
   },
   {
    "duration": -1778,
    "start_time": "2021-08-19T20:15:29.904Z"
   },
   {
    "duration": -1788,
    "start_time": "2021-08-19T20:15:29.915Z"
   },
   {
    "duration": -1799,
    "start_time": "2021-08-19T20:15:29.926Z"
   },
   {
    "duration": -1828,
    "start_time": "2021-08-19T20:15:29.957Z"
   },
   {
    "duration": -1840,
    "start_time": "2021-08-19T20:15:29.970Z"
   },
   {
    "duration": -1851,
    "start_time": "2021-08-19T20:15:29.982Z"
   },
   {
    "duration": -1863,
    "start_time": "2021-08-19T20:15:29.994Z"
   },
   {
    "duration": -1873,
    "start_time": "2021-08-19T20:15:30.005Z"
   },
   {
    "duration": -1883,
    "start_time": "2021-08-19T20:15:30.016Z"
   },
   {
    "duration": -1894,
    "start_time": "2021-08-19T20:15:30.028Z"
   },
   {
    "duration": -1906,
    "start_time": "2021-08-19T20:15:30.041Z"
   },
   {
    "duration": -1917,
    "start_time": "2021-08-19T20:15:30.053Z"
   },
   {
    "duration": -1946,
    "start_time": "2021-08-19T20:15:30.083Z"
   },
   {
    "duration": -1958,
    "start_time": "2021-08-19T20:15:30.096Z"
   },
   {
    "duration": -1969,
    "start_time": "2021-08-19T20:15:30.108Z"
   },
   {
    "duration": -1979,
    "start_time": "2021-08-19T20:15:30.119Z"
   },
   {
    "duration": -1992,
    "start_time": "2021-08-19T20:15:30.133Z"
   },
   {
    "duration": -2007,
    "start_time": "2021-08-19T20:15:30.150Z"
   },
   {
    "duration": -1973,
    "start_time": "2021-08-19T20:15:30.164Z"
   },
   {
    "duration": -2020,
    "start_time": "2021-08-19T20:15:30.213Z"
   },
   {
    "duration": -2068,
    "start_time": "2021-08-19T20:15:30.262Z"
   },
   {
    "duration": -2110,
    "start_time": "2021-08-19T20:15:30.305Z"
   },
   {
    "duration": -2154,
    "start_time": "2021-08-19T20:15:30.351Z"
   },
   {
    "duration": -2196,
    "start_time": "2021-08-19T20:15:30.394Z"
   },
   {
    "duration": -2210,
    "start_time": "2021-08-19T20:15:30.410Z"
   },
   {
    "duration": -2228,
    "start_time": "2021-08-19T20:15:30.429Z"
   },
   {
    "duration": -2239,
    "start_time": "2021-08-19T20:15:30.441Z"
   },
   {
    "duration": -2252,
    "start_time": "2021-08-19T20:15:30.455Z"
   },
   {
    "duration": -2268,
    "start_time": "2021-08-19T20:15:30.473Z"
   },
   {
    "duration": -2288,
    "start_time": "2021-08-19T20:15:30.494Z"
   },
   {
    "duration": 1135,
    "start_time": "2021-08-19T20:16:37.262Z"
   },
   {
    "duration": 55,
    "start_time": "2021-08-19T20:16:38.399Z"
   },
   {
    "duration": 10,
    "start_time": "2021-08-19T20:16:38.456Z"
   },
   {
    "duration": 12,
    "start_time": "2021-08-19T20:16:38.467Z"
   },
   {
    "duration": 11,
    "start_time": "2021-08-19T20:16:38.481Z"
   },
   {
    "duration": 16,
    "start_time": "2021-08-19T20:16:38.493Z"
   },
   {
    "duration": 13,
    "start_time": "2021-08-19T20:16:38.511Z"
   },
   {
    "duration": 13,
    "start_time": "2021-08-19T20:16:38.526Z"
   },
   {
    "duration": 14,
    "start_time": "2021-08-19T20:16:38.541Z"
   },
   {
    "duration": 47,
    "start_time": "2021-08-19T20:16:38.557Z"
   },
   {
    "duration": 13,
    "start_time": "2021-08-19T20:16:38.605Z"
   },
   {
    "duration": 18,
    "start_time": "2021-08-19T20:16:38.620Z"
   },
   {
    "duration": 11,
    "start_time": "2021-08-19T20:16:38.639Z"
   },
   {
    "duration": 17,
    "start_time": "2021-08-19T20:16:38.651Z"
   },
   {
    "duration": 5,
    "start_time": "2021-08-19T20:16:38.669Z"
   },
   {
    "duration": 23,
    "start_time": "2021-08-19T20:16:38.675Z"
   },
   {
    "duration": 9,
    "start_time": "2021-08-19T20:16:38.699Z"
   },
   {
    "duration": 9,
    "start_time": "2021-08-19T20:16:38.709Z"
   },
   {
    "duration": 1031,
    "start_time": "2021-08-19T20:16:38.719Z"
   },
   {
    "duration": 8,
    "start_time": "2021-08-19T20:16:39.751Z"
   },
   {
    "duration": 8,
    "start_time": "2021-08-19T20:16:39.761Z"
   },
   {
    "duration": 22,
    "start_time": "2021-08-19T20:16:39.770Z"
   },
   {
    "duration": 19,
    "start_time": "2021-08-19T20:16:39.794Z"
   },
   {
    "duration": 10,
    "start_time": "2021-08-19T20:16:39.815Z"
   },
   {
    "duration": 285,
    "start_time": "2021-08-19T20:16:39.826Z"
   },
   {
    "duration": 11,
    "start_time": "2021-08-19T20:16:40.113Z"
   },
   {
    "duration": 629,
    "start_time": "2021-08-19T20:16:40.128Z"
   },
   {
    "duration": 7,
    "start_time": "2021-08-19T20:16:40.760Z"
   },
   {
    "duration": 12,
    "start_time": "2021-08-19T20:16:40.768Z"
   },
   {
    "duration": 24,
    "start_time": "2021-08-19T20:16:40.781Z"
   },
   {
    "duration": 14,
    "start_time": "2021-08-19T20:16:40.806Z"
   },
   {
    "duration": 12,
    "start_time": "2021-08-19T20:16:40.822Z"
   },
   {
    "duration": 11,
    "start_time": "2021-08-19T20:16:40.836Z"
   },
   {
    "duration": 42,
    "start_time": "2021-08-19T20:16:40.849Z"
   },
   {
    "duration": 15,
    "start_time": "2021-08-19T20:16:40.893Z"
   },
   {
    "duration": 13,
    "start_time": "2021-08-19T20:16:40.910Z"
   },
   {
    "duration": 12,
    "start_time": "2021-08-19T20:16:40.925Z"
   },
   {
    "duration": 13,
    "start_time": "2021-08-19T20:16:40.939Z"
   },
   {
    "duration": 43,
    "start_time": "2021-08-19T20:16:40.953Z"
   },
   {
    "duration": 10,
    "start_time": "2021-08-19T20:16:40.998Z"
   },
   {
    "duration": 13,
    "start_time": "2021-08-19T20:16:41.010Z"
   },
   {
    "duration": 8,
    "start_time": "2021-08-19T20:16:41.025Z"
   },
   {
    "duration": 11,
    "start_time": "2021-08-19T20:16:41.034Z"
   },
   {
    "duration": 16,
    "start_time": "2021-08-19T20:16:41.046Z"
   },
   {
    "duration": 41,
    "start_time": "2021-08-19T20:16:41.063Z"
   },
   {
    "duration": 5,
    "start_time": "2021-08-19T20:16:41.106Z"
   },
   {
    "duration": 8,
    "start_time": "2021-08-19T20:16:41.112Z"
   },
   {
    "duration": 10,
    "start_time": "2021-08-19T20:16:41.122Z"
   },
   {
    "duration": 11,
    "start_time": "2021-08-19T20:16:41.133Z"
   },
   {
    "duration": 15,
    "start_time": "2021-08-19T20:16:41.145Z"
   },
   {
    "duration": 9,
    "start_time": "2021-08-19T20:16:41.161Z"
   },
   {
    "duration": 27,
    "start_time": "2021-08-19T20:16:41.171Z"
   },
   {
    "duration": 7,
    "start_time": "2021-08-19T20:16:41.200Z"
   },
   {
    "duration": 14,
    "start_time": "2021-08-19T20:16:41.209Z"
   },
   {
    "duration": 15,
    "start_time": "2021-08-19T20:16:41.225Z"
   },
   {
    "duration": 12,
    "start_time": "2021-08-19T20:16:41.241Z"
   },
   {
    "duration": 7,
    "start_time": "2021-08-19T20:16:41.254Z"
   },
   {
    "duration": 18,
    "start_time": "2021-08-19T20:16:41.262Z"
   },
   {
    "duration": 25,
    "start_time": "2021-08-19T20:16:41.287Z"
   },
   {
    "duration": 17,
    "start_time": "2021-08-19T20:16:41.314Z"
   },
   {
    "duration": 25,
    "start_time": "2021-08-19T20:16:41.333Z"
   },
   {
    "duration": 33,
    "start_time": "2021-08-19T20:16:41.359Z"
   },
   {
    "duration": 11,
    "start_time": "2021-08-19T20:16:41.393Z"
   },
   {
    "duration": 5,
    "start_time": "2021-08-19T20:16:41.405Z"
   },
   {
    "duration": 9,
    "start_time": "2021-08-19T20:16:41.412Z"
   },
   {
    "duration": 3139,
    "start_time": "2021-08-19T20:16:41.422Z"
   },
   {
    "duration": 9,
    "start_time": "2021-08-19T20:16:44.563Z"
   },
   {
    "duration": 8,
    "start_time": "2021-08-19T20:16:44.573Z"
   },
   {
    "duration": 572,
    "start_time": "2021-08-19T20:16:44.591Z"
   },
   {
    "duration": 10,
    "start_time": "2021-08-19T20:16:45.164Z"
   },
   {
    "duration": 22,
    "start_time": "2021-08-19T20:16:45.175Z"
   },
   {
    "duration": 13,
    "start_time": "2021-08-19T20:16:45.199Z"
   },
   {
    "duration": 3,
    "start_time": "2021-08-19T20:16:45.214Z"
   },
   {
    "duration": 6,
    "start_time": "2021-08-19T20:16:45.218Z"
   },
   {
    "duration": 10,
    "start_time": "2021-08-19T20:16:45.225Z"
   },
   {
    "duration": 6,
    "start_time": "2021-08-19T20:16:45.237Z"
   },
   {
    "duration": 110,
    "start_time": "2021-08-19T20:16:45.245Z"
   },
   {
    "duration": 6,
    "start_time": "2021-08-19T20:16:45.356Z"
   },
   {
    "duration": 15,
    "start_time": "2021-08-19T20:16:45.363Z"
   },
   {
    "duration": 54,
    "start_time": "2021-08-19T20:16:45.379Z"
   },
   {
    "duration": 178,
    "start_time": "2021-08-19T20:16:45.438Z"
   },
   {
    "duration": 5,
    "start_time": "2021-08-19T20:16:45.618Z"
   },
   {
    "duration": 46,
    "start_time": "2021-08-19T20:16:45.625Z"
   },
   {
    "duration": 203,
    "start_time": "2021-08-19T20:16:45.673Z"
   },
   {
    "duration": 5,
    "start_time": "2021-08-19T20:16:45.878Z"
   },
   {
    "duration": 5,
    "start_time": "2021-08-19T20:16:45.891Z"
   },
   {
    "duration": 11,
    "start_time": "2021-08-19T20:16:45.897Z"
   },
   {
    "duration": 6,
    "start_time": "2021-08-19T20:16:45.909Z"
   },
   {
    "duration": 325,
    "start_time": "2021-08-19T20:16:45.916Z"
   },
   {
    "duration": 5,
    "start_time": "2021-08-19T20:16:46.243Z"
   },
   {
    "duration": 50,
    "start_time": "2021-08-19T20:16:46.249Z"
   },
   {
    "duration": 176,
    "start_time": "2021-08-19T20:16:46.300Z"
   },
   {
    "duration": 6,
    "start_time": "2021-08-19T20:16:46.477Z"
   },
   {
    "duration": 5,
    "start_time": "2021-08-19T20:16:46.491Z"
   },
   {
    "duration": 347,
    "start_time": "2021-08-19T20:22:51.406Z"
   },
   {
    "duration": 4,
    "start_time": "2021-08-19T20:23:02.282Z"
   },
   {
    "duration": 3,
    "start_time": "2021-08-19T20:23:57.338Z"
   },
   {
    "duration": 54,
    "start_time": "2021-08-19T20:23:57.344Z"
   },
   {
    "duration": 9,
    "start_time": "2021-08-19T20:23:57.400Z"
   },
   {
    "duration": 11,
    "start_time": "2021-08-19T20:23:57.411Z"
   },
   {
    "duration": 5,
    "start_time": "2021-08-19T20:23:57.424Z"
   },
   {
    "duration": 15,
    "start_time": "2021-08-19T20:23:57.430Z"
   },
   {
    "duration": 46,
    "start_time": "2021-08-19T20:23:57.446Z"
   },
   {
    "duration": 12,
    "start_time": "2021-08-19T20:23:57.493Z"
   },
   {
    "duration": 14,
    "start_time": "2021-08-19T20:23:57.507Z"
   },
   {
    "duration": 12,
    "start_time": "2021-08-19T20:23:57.523Z"
   },
   {
    "duration": 13,
    "start_time": "2021-08-19T20:23:57.536Z"
   },
   {
    "duration": 47,
    "start_time": "2021-08-19T20:23:57.550Z"
   },
   {
    "duration": 9,
    "start_time": "2021-08-19T20:23:57.598Z"
   },
   {
    "duration": 11,
    "start_time": "2021-08-19T20:23:57.609Z"
   },
   {
    "duration": 6,
    "start_time": "2021-08-19T20:23:57.621Z"
   },
   {
    "duration": 14,
    "start_time": "2021-08-19T20:23:57.628Z"
   },
   {
    "duration": 5,
    "start_time": "2021-08-19T20:23:57.643Z"
   },
   {
    "duration": 8,
    "start_time": "2021-08-19T20:23:57.650Z"
   },
   {
    "duration": 1239,
    "start_time": "2021-08-19T20:23:57.660Z"
   },
   {
    "duration": 8,
    "start_time": "2021-08-19T20:23:58.900Z"
   },
   {
    "duration": 12,
    "start_time": "2021-08-19T20:23:58.910Z"
   },
   {
    "duration": 5,
    "start_time": "2021-08-19T20:23:58.923Z"
   },
   {
    "duration": 18,
    "start_time": "2021-08-19T20:23:58.930Z"
   },
   {
    "duration": 8,
    "start_time": "2021-08-19T20:23:58.950Z"
   },
   {
    "duration": 306,
    "start_time": "2021-08-19T20:23:58.959Z"
   },
   {
    "duration": 13,
    "start_time": "2021-08-19T20:23:59.266Z"
   },
   {
    "duration": 644,
    "start_time": "2021-08-19T20:23:59.280Z"
   },
   {
    "duration": 7,
    "start_time": "2021-08-19T20:23:59.926Z"
   },
   {
    "duration": 7,
    "start_time": "2021-08-19T20:23:59.934Z"
   },
   {
    "duration": 18,
    "start_time": "2021-08-19T20:23:59.942Z"
   },
   {
    "duration": 35,
    "start_time": "2021-08-19T20:23:59.962Z"
   },
   {
    "duration": 18,
    "start_time": "2021-08-19T20:23:59.998Z"
   },
   {
    "duration": 17,
    "start_time": "2021-08-19T20:24:00.020Z"
   },
   {
    "duration": 17,
    "start_time": "2021-08-19T20:24:00.039Z"
   },
   {
    "duration": 51,
    "start_time": "2021-08-19T20:24:00.058Z"
   },
   {
    "duration": 17,
    "start_time": "2021-08-19T20:24:00.111Z"
   },
   {
    "duration": 17,
    "start_time": "2021-08-19T20:24:00.130Z"
   },
   {
    "duration": 50,
    "start_time": "2021-08-19T20:24:00.149Z"
   },
   {
    "duration": 11,
    "start_time": "2021-08-19T20:24:00.201Z"
   },
   {
    "duration": 15,
    "start_time": "2021-08-19T20:24:00.213Z"
   },
   {
    "duration": 18,
    "start_time": "2021-08-19T20:24:00.230Z"
   },
   {
    "duration": 8,
    "start_time": "2021-08-19T20:24:13.152Z"
   },
   {
    "duration": 5,
    "start_time": "2021-08-19T20:24:14.406Z"
   },
   {
    "duration": 4,
    "start_time": "2021-08-19T20:24:21.533Z"
   },
   {
    "duration": 1048,
    "start_time": "2021-08-19T20:35:24.148Z"
   },
   {
    "duration": 55,
    "start_time": "2021-08-19T20:35:25.198Z"
   },
   {
    "duration": 9,
    "start_time": "2021-08-19T20:35:25.255Z"
   },
   {
    "duration": 15,
    "start_time": "2021-08-19T20:35:25.266Z"
   },
   {
    "duration": 12,
    "start_time": "2021-08-19T20:35:25.282Z"
   },
   {
    "duration": 28,
    "start_time": "2021-08-19T20:35:25.295Z"
   },
   {
    "duration": 13,
    "start_time": "2021-08-19T20:35:25.324Z"
   },
   {
    "duration": 13,
    "start_time": "2021-08-19T20:35:25.339Z"
   },
   {
    "duration": 37,
    "start_time": "2021-08-19T20:35:25.354Z"
   },
   {
    "duration": 13,
    "start_time": "2021-08-19T20:35:25.392Z"
   },
   {
    "duration": 14,
    "start_time": "2021-08-19T20:35:25.406Z"
   },
   {
    "duration": 9,
    "start_time": "2021-08-19T20:35:25.421Z"
   },
   {
    "duration": 13,
    "start_time": "2021-08-19T20:35:25.431Z"
   },
   {
    "duration": 12,
    "start_time": "2021-08-19T20:35:25.446Z"
   },
   {
    "duration": 5,
    "start_time": "2021-08-19T20:35:25.459Z"
   },
   {
    "duration": 33,
    "start_time": "2021-08-19T20:35:25.465Z"
   },
   {
    "duration": 5,
    "start_time": "2021-08-19T20:35:25.499Z"
   },
   {
    "duration": 8,
    "start_time": "2021-08-19T20:35:25.505Z"
   },
   {
    "duration": 1054,
    "start_time": "2021-08-19T20:35:25.514Z"
   },
   {
    "duration": 8,
    "start_time": "2021-08-19T20:35:26.570Z"
   },
   {
    "duration": 8,
    "start_time": "2021-08-19T20:35:26.591Z"
   },
   {
    "duration": 6,
    "start_time": "2021-08-19T20:35:26.601Z"
   },
   {
    "duration": 17,
    "start_time": "2021-08-19T20:35:26.610Z"
   },
   {
    "duration": 9,
    "start_time": "2021-08-19T20:35:26.629Z"
   },
   {
    "duration": 302,
    "start_time": "2021-08-19T20:35:26.639Z"
   },
   {
    "duration": 12,
    "start_time": "2021-08-19T20:35:26.943Z"
   },
   {
    "duration": 635,
    "start_time": "2021-08-19T20:35:26.957Z"
   },
   {
    "duration": 7,
    "start_time": "2021-08-19T20:35:27.594Z"
   },
   {
    "duration": 7,
    "start_time": "2021-08-19T20:35:27.602Z"
   },
   {
    "duration": 16,
    "start_time": "2021-08-19T20:35:27.611Z"
   },
   {
    "duration": 12,
    "start_time": "2021-08-19T20:35:27.629Z"
   },
   {
    "duration": 13,
    "start_time": "2021-08-19T20:35:27.643Z"
   },
   {
    "duration": 46,
    "start_time": "2021-08-19T20:35:27.658Z"
   },
   {
    "duration": 14,
    "start_time": "2021-08-19T20:35:27.706Z"
   },
   {
    "duration": 13,
    "start_time": "2021-08-19T20:35:27.722Z"
   },
   {
    "duration": 12,
    "start_time": "2021-08-19T20:35:27.737Z"
   },
   {
    "duration": 45,
    "start_time": "2021-08-19T20:35:27.750Z"
   },
   {
    "duration": 16,
    "start_time": "2021-08-19T20:35:27.797Z"
   },
   {
    "duration": 10,
    "start_time": "2021-08-19T20:35:27.815Z"
   },
   {
    "duration": 9,
    "start_time": "2021-08-19T20:35:27.827Z"
   },
   {
    "duration": 18,
    "start_time": "2021-08-19T20:35:27.838Z"
   },
   {
    "duration": 12,
    "start_time": "2021-08-19T20:35:27.857Z"
   },
   {
    "duration": 23,
    "start_time": "2021-08-19T20:35:27.870Z"
   },
   {
    "duration": 10,
    "start_time": "2021-08-19T20:35:27.894Z"
   },
   {
    "duration": 32,
    "start_time": "2021-08-19T20:35:27.906Z"
   },
   {
    "duration": 5,
    "start_time": "2021-08-19T20:35:27.939Z"
   },
   {
    "duration": 10,
    "start_time": "2021-08-19T20:35:27.945Z"
   },
   {
    "duration": 13,
    "start_time": "2021-08-19T20:35:27.956Z"
   },
   {
    "duration": 25,
    "start_time": "2021-08-19T20:35:27.970Z"
   },
   {
    "duration": 10,
    "start_time": "2021-08-19T20:35:27.996Z"
   },
   {
    "duration": 7,
    "start_time": "2021-08-19T20:35:28.007Z"
   },
   {
    "duration": 13,
    "start_time": "2021-08-19T20:35:28.015Z"
   },
   {
    "duration": 7,
    "start_time": "2021-08-19T20:35:28.029Z"
   },
   {
    "duration": 12,
    "start_time": "2021-08-19T20:35:28.038Z"
   },
   {
    "duration": 14,
    "start_time": "2021-08-19T20:35:28.051Z"
   },
   {
    "duration": 10,
    "start_time": "2021-08-19T20:35:28.066Z"
   },
   {
    "duration": 16,
    "start_time": "2021-08-19T20:35:28.077Z"
   },
   {
    "duration": 13,
    "start_time": "2021-08-19T20:35:28.094Z"
   },
   {
    "duration": 28,
    "start_time": "2021-08-19T20:35:28.108Z"
   },
   {
    "duration": 13,
    "start_time": "2021-08-19T20:35:28.138Z"
   },
   {
    "duration": 40,
    "start_time": "2021-08-19T20:35:28.153Z"
   },
   {
    "duration": 10,
    "start_time": "2021-08-19T20:35:28.195Z"
   },
   {
    "duration": 10,
    "start_time": "2021-08-19T20:35:28.207Z"
   },
   {
    "duration": 6,
    "start_time": "2021-08-19T20:35:28.218Z"
   },
   {
    "duration": 8,
    "start_time": "2021-08-19T20:35:28.225Z"
   },
   {
    "duration": 3285,
    "start_time": "2021-08-19T20:35:28.235Z"
   },
   {
    "duration": 9,
    "start_time": "2021-08-19T20:35:31.522Z"
   },
   {
    "duration": 5,
    "start_time": "2021-08-19T20:35:31.535Z"
   },
   {
    "duration": 590,
    "start_time": "2021-08-19T20:35:31.542Z"
   },
   {
    "duration": 9,
    "start_time": "2021-08-19T20:35:32.134Z"
   },
   {
    "duration": 10,
    "start_time": "2021-08-19T20:35:32.145Z"
   },
   {
    "duration": 14,
    "start_time": "2021-08-19T20:35:32.156Z"
   },
   {
    "duration": 4,
    "start_time": "2021-08-19T20:35:32.192Z"
   },
   {
    "duration": 7,
    "start_time": "2021-08-19T20:35:32.197Z"
   },
   {
    "duration": 7,
    "start_time": "2021-08-19T20:35:32.206Z"
   },
   {
    "duration": 8,
    "start_time": "2021-08-19T20:35:32.214Z"
   },
   {
    "duration": 15,
    "start_time": "2021-08-19T20:35:32.223Z"
   },
   {
    "duration": 4,
    "start_time": "2021-08-19T20:35:32.240Z"
   },
   {
    "duration": 13,
    "start_time": "2021-08-19T20:35:32.246Z"
   },
   {
    "duration": 143,
    "start_time": "2021-08-19T20:35:32.261Z"
   },
   {
    "duration": 181,
    "start_time": "2021-08-19T20:35:32.405Z"
   },
   {
    "duration": 7,
    "start_time": "2021-08-19T20:35:32.588Z"
   },
   {
    "duration": 50,
    "start_time": "2021-08-19T20:35:32.596Z"
   },
   {
    "duration": 196,
    "start_time": "2021-08-19T20:35:32.648Z"
   },
   {
    "duration": 7,
    "start_time": "2021-08-19T20:35:32.846Z"
   },
   {
    "duration": 6,
    "start_time": "2021-08-19T20:35:32.855Z"
   },
   {
    "duration": 6,
    "start_time": "2021-08-19T20:35:32.863Z"
   },
   {
    "duration": 5,
    "start_time": "2021-08-19T20:35:32.891Z"
   },
   {
    "duration": 335,
    "start_time": "2021-08-19T20:35:32.897Z"
   },
   {
    "duration": 5,
    "start_time": "2021-08-19T20:35:33.234Z"
   },
   {
    "duration": 51,
    "start_time": "2021-08-19T20:35:33.241Z"
   },
   {
    "duration": 177,
    "start_time": "2021-08-19T20:35:33.293Z"
   },
   {
    "duration": 5,
    "start_time": "2021-08-19T20:35:33.471Z"
   },
   {
    "duration": 13,
    "start_time": "2021-08-19T20:35:33.478Z"
   },
   {
    "duration": 1639,
    "start_time": "2021-08-20T10:52:28.085Z"
   },
   {
    "duration": 85,
    "start_time": "2021-08-20T10:52:29.728Z"
   },
   {
    "duration": 15,
    "start_time": "2021-08-20T10:52:29.816Z"
   },
   {
    "duration": 36,
    "start_time": "2021-08-20T10:52:29.834Z"
   },
   {
    "duration": 9,
    "start_time": "2021-08-20T10:52:29.873Z"
   },
   {
    "duration": 26,
    "start_time": "2021-08-20T10:52:29.885Z"
   },
   {
    "duration": 59,
    "start_time": "2021-08-20T10:52:29.913Z"
   },
   {
    "duration": 22,
    "start_time": "2021-08-20T10:52:29.976Z"
   },
   {
    "duration": 59,
    "start_time": "2021-08-20T10:52:30.001Z"
   },
   {
    "duration": 33,
    "start_time": "2021-08-20T10:52:30.063Z"
   },
   {
    "duration": 57,
    "start_time": "2021-08-20T10:52:30.099Z"
   },
   {
    "duration": 72,
    "start_time": "2021-08-20T10:52:30.159Z"
   },
   {
    "duration": 40,
    "start_time": "2021-08-20T10:52:30.234Z"
   },
   {
    "duration": 51,
    "start_time": "2021-08-20T10:52:30.277Z"
   },
   {
    "duration": 10,
    "start_time": "2021-08-20T10:52:30.331Z"
   },
   {
    "duration": 37,
    "start_time": "2021-08-20T10:52:30.344Z"
   },
   {
    "duration": 10,
    "start_time": "2021-08-20T10:52:30.384Z"
   },
   {
    "duration": 36,
    "start_time": "2021-08-20T10:52:30.397Z"
   },
   {
    "duration": 1885,
    "start_time": "2021-08-20T10:52:30.435Z"
   },
   {
    "duration": 13,
    "start_time": "2021-08-20T10:52:32.322Z"
   },
   {
    "duration": 34,
    "start_time": "2021-08-20T10:52:32.337Z"
   },
   {
    "duration": 15,
    "start_time": "2021-08-20T10:52:32.373Z"
   },
   {
    "duration": 34,
    "start_time": "2021-08-20T10:52:32.395Z"
   },
   {
    "duration": 32,
    "start_time": "2021-08-20T10:52:32.433Z"
   },
   {
    "duration": 536,
    "start_time": "2021-08-20T10:52:32.467Z"
   },
   {
    "duration": 19,
    "start_time": "2021-08-20T10:52:33.005Z"
   },
   {
    "duration": 1234,
    "start_time": "2021-08-20T10:52:33.027Z"
   },
   {
    "duration": 12,
    "start_time": "2021-08-20T10:52:34.264Z"
   },
   {
    "duration": 11,
    "start_time": "2021-08-20T10:52:34.279Z"
   },
   {
    "duration": 74,
    "start_time": "2021-08-20T10:52:34.293Z"
   },
   {
    "duration": 23,
    "start_time": "2021-08-20T10:52:34.371Z"
   },
   {
    "duration": 21,
    "start_time": "2021-08-20T10:52:34.398Z"
   },
   {
    "duration": 45,
    "start_time": "2021-08-20T10:52:34.422Z"
   },
   {
    "duration": 23,
    "start_time": "2021-08-20T10:52:34.471Z"
   },
   {
    "duration": 24,
    "start_time": "2021-08-20T10:52:34.497Z"
   },
   {
    "duration": 48,
    "start_time": "2021-08-20T10:52:34.524Z"
   },
   {
    "duration": 23,
    "start_time": "2021-08-20T10:52:34.579Z"
   },
   {
    "duration": 55,
    "start_time": "2021-08-20T10:52:34.606Z"
   },
   {
    "duration": 20,
    "start_time": "2021-08-20T10:52:34.665Z"
   },
   {
    "duration": 24,
    "start_time": "2021-08-20T10:52:34.688Z"
   },
   {
    "duration": 51,
    "start_time": "2021-08-20T10:52:34.714Z"
   },
   {
    "duration": 39,
    "start_time": "2021-08-20T10:52:34.767Z"
   },
   {
    "duration": 19,
    "start_time": "2021-08-20T10:52:34.809Z"
   },
   {
    "duration": 34,
    "start_time": "2021-08-20T10:52:34.831Z"
   },
   {
    "duration": 43,
    "start_time": "2021-08-20T10:52:34.867Z"
   },
   {
    "duration": 7,
    "start_time": "2021-08-20T10:52:34.913Z"
   },
   {
    "duration": 29,
    "start_time": "2021-08-20T10:52:34.923Z"
   },
   {
    "duration": 31,
    "start_time": "2021-08-20T10:52:34.955Z"
   },
   {
    "duration": 16,
    "start_time": "2021-08-20T10:52:34.988Z"
   },
   {
    "duration": 20,
    "start_time": "2021-08-20T10:52:35.006Z"
   },
   {
    "duration": 28,
    "start_time": "2021-08-20T10:52:35.029Z"
   },
   {
    "duration": 27,
    "start_time": "2021-08-20T10:52:35.060Z"
   },
   {
    "duration": 25,
    "start_time": "2021-08-20T10:52:35.089Z"
   },
   {
    "duration": 29,
    "start_time": "2021-08-20T10:52:35.117Z"
   },
   {
    "duration": 25,
    "start_time": "2021-08-20T10:52:35.150Z"
   },
   {
    "duration": 14,
    "start_time": "2021-08-20T10:52:35.178Z"
   },
   {
    "duration": 21,
    "start_time": "2021-08-20T10:52:35.195Z"
   },
   {
    "duration": 24,
    "start_time": "2021-08-20T10:52:35.219Z"
   },
   {
    "duration": 47,
    "start_time": "2021-08-20T10:52:35.246Z"
   },
   {
    "duration": 23,
    "start_time": "2021-08-20T10:52:35.296Z"
   },
   {
    "duration": 66,
    "start_time": "2021-08-20T10:52:35.322Z"
   },
   {
    "duration": 18,
    "start_time": "2021-08-20T10:52:35.391Z"
   },
   {
    "duration": 46,
    "start_time": "2021-08-20T10:52:35.411Z"
   },
   {
    "duration": 11,
    "start_time": "2021-08-20T10:52:35.460Z"
   },
   {
    "duration": 26,
    "start_time": "2021-08-20T10:52:35.474Z"
   },
   {
    "duration": 5328,
    "start_time": "2021-08-20T10:52:35.503Z"
   },
   {
    "duration": 23,
    "start_time": "2021-08-20T10:52:40.834Z"
   },
   {
    "duration": 4,
    "start_time": "2021-08-20T10:52:40.866Z"
   },
   {
    "duration": 1107,
    "start_time": "2021-08-20T10:52:40.873Z"
   },
   {
    "duration": 14,
    "start_time": "2021-08-20T10:52:41.983Z"
   },
   {
    "duration": 17,
    "start_time": "2021-08-20T10:52:42.000Z"
   },
   {
    "duration": 54,
    "start_time": "2021-08-20T10:52:42.020Z"
   },
   {
    "duration": 5,
    "start_time": "2021-08-20T10:52:42.077Z"
   },
   {
    "duration": 13,
    "start_time": "2021-08-20T10:52:42.085Z"
   },
   {
    "duration": 11,
    "start_time": "2021-08-20T10:52:42.101Z"
   },
   {
    "duration": 41,
    "start_time": "2021-08-20T10:52:42.115Z"
   },
   {
    "duration": 25,
    "start_time": "2021-08-20T10:52:42.159Z"
   },
   {
    "duration": 8,
    "start_time": "2021-08-20T10:52:42.186Z"
   },
   {
    "duration": 17,
    "start_time": "2021-08-20T10:52:42.197Z"
   },
   {
    "duration": 214,
    "start_time": "2021-08-20T10:52:42.216Z"
   },
   {
    "duration": 355,
    "start_time": "2021-08-20T10:52:42.432Z"
   },
   {
    "duration": 8,
    "start_time": "2021-08-20T10:52:42.790Z"
   },
   {
    "duration": 101,
    "start_time": "2021-08-20T10:52:42.801Z"
   },
   {
    "duration": 375,
    "start_time": "2021-08-20T10:52:42.904Z"
   },
   {
    "duration": 9,
    "start_time": "2021-08-20T10:52:43.281Z"
   },
   {
    "duration": 29,
    "start_time": "2021-08-20T10:52:43.292Z"
   },
   {
    "duration": 25,
    "start_time": "2021-08-20T10:52:43.324Z"
   },
   {
    "duration": 14,
    "start_time": "2021-08-20T10:52:43.352Z"
   },
   {
    "duration": 503,
    "start_time": "2021-08-20T10:52:43.368Z"
   },
   {
    "duration": 10,
    "start_time": "2021-08-20T10:52:43.873Z"
   },
   {
    "duration": 105,
    "start_time": "2021-08-20T10:52:43.885Z"
   },
   {
    "duration": 326,
    "start_time": "2021-08-20T10:52:43.992Z"
   },
   {
    "duration": 8,
    "start_time": "2021-08-20T10:52:44.320Z"
   },
   {
    "duration": 33,
    "start_time": "2021-08-20T10:52:44.331Z"
   },
   {
    "duration": 7,
    "start_time": "2021-08-20T11:11:06.336Z"
   },
   {
    "duration": 591,
    "start_time": "2021-08-20T11:11:17.536Z"
   },
   {
    "duration": 567,
    "start_time": "2021-08-20T11:12:49.625Z"
   },
   {
    "duration": 650,
    "start_time": "2021-08-20T11:12:56.408Z"
   },
   {
    "duration": 9,
    "start_time": "2021-08-20T11:13:20.665Z"
   },
   {
    "duration": 12,
    "start_time": "2021-08-20T11:13:28.151Z"
   },
   {
    "duration": 299,
    "start_time": "2021-08-20T11:14:02.895Z"
   },
   {
    "duration": 513,
    "start_time": "2021-08-20T11:14:10.222Z"
   },
   {
    "duration": 460,
    "start_time": "2021-08-20T11:14:18.872Z"
   },
   {
    "duration": 647,
    "start_time": "2021-08-20T11:14:32.743Z"
   },
   {
    "duration": 11,
    "start_time": "2021-08-20T11:15:56.988Z"
   },
   {
    "duration": 7,
    "start_time": "2021-08-20T11:16:15.074Z"
   },
   {
    "duration": 5,
    "start_time": "2021-08-20T11:16:38.641Z"
   },
   {
    "duration": 240,
    "start_time": "2021-08-20T11:17:14.905Z"
   },
   {
    "duration": 83,
    "start_time": "2021-08-20T11:20:46.550Z"
   },
   {
    "duration": 246,
    "start_time": "2021-08-20T11:21:12.812Z"
   }
  ],
  "kernelspec": {
   "display_name": "Python 3 (ipykernel)",
   "language": "python",
   "name": "python3"
  },
  "language_info": {
   "codemirror_mode": {
    "name": "ipython",
    "version": 3
   },
   "file_extension": ".py",
   "mimetype": "text/x-python",
   "name": "python",
   "nbconvert_exporter": "python",
   "pygments_lexer": "ipython3",
   "version": "3.9.12"
  },
  "toc": {
   "base_numbering": 1,
   "nav_menu": {},
   "number_sections": true,
   "sideBar": true,
   "skip_h1_title": true,
   "title_cell": "Table of Contents",
   "title_sidebar": "Contents",
   "toc_cell": false,
   "toc_position": {
    "height": "calc(100% - 180px)",
    "left": "10px",
    "top": "150px",
    "width": "258px"
   },
   "toc_section_display": true,
   "toc_window_display": false
  }
 },
 "nbformat": 4,
 "nbformat_minor": 4
}
