{
 "cells": [
  {
   "cell_type": "markdown",
   "metadata": {},
   "source": [
    "# Выбор локации для скважины"
   ]
  },
  {
   "cell_type": "markdown",
   "metadata": {},
   "source": [
    "Допустим, вы работаете в добывающей компании «ГлавРосГосНефть». Нужно решить, где бурить новую скважину.\n",
    "\n",
    "Вам предоставлены пробы нефти в трёх регионах: в каждом 10 000 месторождений, где измерили качество нефти и объём её запасов. Постройте модель машинного обучения, которая поможет определить регион, где добыча принесёт наибольшую прибыль. Проанализируйте возможную прибыль и риски техникой *Bootstrap.*\n",
    "\n",
    "**Шаги для выбора локации:**\n",
    "\n",
    "- В избранном регионе ищут месторождения, для каждого определяют значения признаков;\n",
    "- Строят модель и оценивают объём запасов;\n",
    "- Выбирают месторождения с самым высокими оценками значений. Количество месторождений зависит от бюджета компании и стоимости разработки одной скважины;\n",
    "- Прибыль равна суммарной прибыли отобранных месторождений."
   ]
  },
  {
   "cell_type": "markdown",
   "metadata": {},
   "source": [
    "**Условия задачи:**\n",
    "- Для обучения модели подходит только линейная регрессия (остальные — недостаточно предсказуемые).\n",
    "- При разведке региона исследуют 500 точек, из которых с помощью машинного обучения выбирают 200 лучших для разработки.\n",
    "- Бюджет на разработку скважин в регионе — 10 млрд рублей.\n",
    "- При нынешних ценах один баррель сырья приносит 450 рублей дохода. Доход с каждой единицы продукта составляет 450 тыс. рублей, поскольку объём указан в тысячах баррелей.\n",
    "- После оценки рисков нужно оставить лишь те регионы, в которых вероятность убытков меньше 2.5%. Среди них выбирают регион с наибольшей средней прибылью.  \n",
    "\n",
    "Данные синтетические: детали контрактов и характеристики месторождений не разглашаются."
   ]
  },
  {
   "cell_type": "markdown",
   "metadata": {},
   "source": [
    "**Данные**  \n",
    "Данные геологоразведки трёх регионов находятся в файлах:  \n",
    "- `/datasets/geo_data_0.csv`.  \n",
    "- `/datasets/geo_data_1.csv`.   \n",
    "- `/datasets/geo_data_2.csv`.   \n",
    "\n",
    "`id` — уникальный идентификатор скважины;  \n",
    "`f0`, `f1`, `f2` — три признака точек (неважно, что они означают, но сами признаки значимы);  \n",
    "`product` — объём запасов в скважине (тыс. баррелей).  "
   ]
  },
  {
   "cell_type": "markdown",
   "metadata": {},
   "source": [
    "# Подготовка окружения"
   ]
  },
  {
   "cell_type": "code",
   "execution_count": 1,
   "metadata": {},
   "outputs": [],
   "source": [
    "# !pip install -U scikit-learn"
   ]
  },
  {
   "cell_type": "code",
   "execution_count": 2,
   "metadata": {},
   "outputs": [],
   "source": [
    "import pandas as pd\n",
    "import numpy as np\n",
    "\n",
    "from scipy import stats as st\n",
    "from matplotlib import pyplot as plt\n",
    "\n",
    "from sklearn.utils import resample\n",
    "from sklearn.linear_model import LinearRegression, Lasso, Ridge, ElasticNet\n",
    "from sklearn.model_selection import train_test_split\n",
    "from sklearn.metrics import mean_squared_error"
   ]
  },
  {
   "cell_type": "markdown",
   "metadata": {},
   "source": [
    "## Загрузка и подготовка данных"
   ]
  },
  {
   "cell_type": "markdown",
   "metadata": {},
   "source": [
    "Сохраним данные о скважинах трех регионов в переменные `data_0`, `data_1`, `data_2`"
   ]
  },
  {
   "cell_type": "code",
   "execution_count": 3,
   "metadata": {},
   "outputs": [
    {
     "name": "stdout",
     "output_type": "stream",
     "text": [
      "geo_data_0 (100000, 5)\n",
      "geo_data_1 (100000, 5)\n",
      "geo_data_2 (100000, 5)\n"
     ]
    }
   ],
   "source": [
    "data_0 = pd.read_csv('/datasets/geo_data_0.csv')\n",
    "data_1 = pd.read_csv('/datasets/geo_data_1.csv')\n",
    "data_2 = pd.read_csv('/datasets/geo_data_2.csv')\n",
    "\n",
    "data_list = [data_0, data_1, data_2]\n",
    "\n",
    "for i, data in enumerate(data_list):\n",
    "    print(f'geo_data_{i}', data.shape)"
   ]
  },
  {
   "cell_type": "markdown",
   "metadata": {},
   "source": [
    "Для каждого датафреймя, выведем на экран информацию."
   ]
  },
  {
   "cell_type": "code",
   "execution_count": 4,
   "metadata": {
    "scrolled": true
   },
   "outputs": [
    {
     "name": "stdout",
     "output_type": "stream",
     "text": [
      "<class 'pandas.core.frame.DataFrame'>\n",
      "RangeIndex: 100000 entries, 0 to 99999\n",
      "Data columns (total 5 columns):\n",
      "id         100000 non-null object\n",
      "f0         100000 non-null float64\n",
      "f1         100000 non-null float64\n",
      "f2         100000 non-null float64\n",
      "product    100000 non-null float64\n",
      "dtypes: float64(4), object(1)\n",
      "memory usage: 3.8+ MB\n"
     ]
    },
    {
     "data": {
      "text/plain": [
       "'data_0'"
      ]
     },
     "metadata": {},
     "output_type": "display_data"
    },
    {
     "data": {
      "text/plain": [
       "None"
      ]
     },
     "metadata": {},
     "output_type": "display_data"
    },
    {
     "name": "stdout",
     "output_type": "stream",
     "text": [
      "<class 'pandas.core.frame.DataFrame'>\n",
      "RangeIndex: 100000 entries, 0 to 99999\n",
      "Data columns (total 5 columns):\n",
      "id         100000 non-null object\n",
      "f0         100000 non-null float64\n",
      "f1         100000 non-null float64\n",
      "f2         100000 non-null float64\n",
      "product    100000 non-null float64\n",
      "dtypes: float64(4), object(1)\n",
      "memory usage: 3.8+ MB\n"
     ]
    },
    {
     "data": {
      "text/plain": [
       "'data_1'"
      ]
     },
     "metadata": {},
     "output_type": "display_data"
    },
    {
     "data": {
      "text/plain": [
       "None"
      ]
     },
     "metadata": {},
     "output_type": "display_data"
    },
    {
     "name": "stdout",
     "output_type": "stream",
     "text": [
      "<class 'pandas.core.frame.DataFrame'>\n",
      "RangeIndex: 100000 entries, 0 to 99999\n",
      "Data columns (total 5 columns):\n",
      "id         100000 non-null object\n",
      "f0         100000 non-null float64\n",
      "f1         100000 non-null float64\n",
      "f2         100000 non-null float64\n",
      "product    100000 non-null float64\n",
      "dtypes: float64(4), object(1)\n",
      "memory usage: 3.8+ MB\n"
     ]
    },
    {
     "data": {
      "text/plain": [
       "'data_2'"
      ]
     },
     "metadata": {},
     "output_type": "display_data"
    },
    {
     "data": {
      "text/plain": [
       "None"
      ]
     },
     "metadata": {},
     "output_type": "display_data"
    }
   ],
   "source": [
    "for i, data in enumerate(data_list):\n",
    "    display(f'data_{i}', data.info())"
   ]
  },
  {
   "cell_type": "markdown",
   "metadata": {},
   "source": [
    "В каждой таблице содержится 3 признака, id, 100000 объектов, 1 целевая переменная. Пропуски отсутствуют"
   ]
  },
  {
   "cell_type": "markdown",
   "metadata": {},
   "source": [
    "Выведем на экран по 5 строк из каждой таблицы."
   ]
  },
  {
   "cell_type": "code",
   "execution_count": 5,
   "metadata": {
    "scrolled": true
   },
   "outputs": [
    {
     "data": {
      "text/plain": [
       "'data_0'"
      ]
     },
     "metadata": {},
     "output_type": "display_data"
    },
    {
     "data": {
      "text/html": [
       "<div>\n",
       "<style scoped>\n",
       "    .dataframe tbody tr th:only-of-type {\n",
       "        vertical-align: middle;\n",
       "    }\n",
       "\n",
       "    .dataframe tbody tr th {\n",
       "        vertical-align: top;\n",
       "    }\n",
       "\n",
       "    .dataframe thead th {\n",
       "        text-align: right;\n",
       "    }\n",
       "</style>\n",
       "<table border=\"1\" class=\"dataframe\">\n",
       "  <thead>\n",
       "    <tr style=\"text-align: right;\">\n",
       "      <th></th>\n",
       "      <th>id</th>\n",
       "      <th>f0</th>\n",
       "      <th>f1</th>\n",
       "      <th>f2</th>\n",
       "      <th>product</th>\n",
       "    </tr>\n",
       "  </thead>\n",
       "  <tbody>\n",
       "    <tr>\n",
       "      <td>3582</td>\n",
       "      <td>zMatX</td>\n",
       "      <td>0.881376</td>\n",
       "      <td>0.273600</td>\n",
       "      <td>2.770651</td>\n",
       "      <td>49.723143</td>\n",
       "    </tr>\n",
       "    <tr>\n",
       "      <td>60498</td>\n",
       "      <td>muBEx</td>\n",
       "      <td>-0.991020</td>\n",
       "      <td>0.010620</td>\n",
       "      <td>3.233630</td>\n",
       "      <td>10.583795</td>\n",
       "    </tr>\n",
       "    <tr>\n",
       "      <td>53227</td>\n",
       "      <td>DMAPr</td>\n",
       "      <td>-0.987623</td>\n",
       "      <td>0.017871</td>\n",
       "      <td>5.005426</td>\n",
       "      <td>139.110613</td>\n",
       "    </tr>\n",
       "    <tr>\n",
       "      <td>21333</td>\n",
       "      <td>fasrx</td>\n",
       "      <td>2.081966</td>\n",
       "      <td>0.426730</td>\n",
       "      <td>2.638579</td>\n",
       "      <td>85.109875</td>\n",
       "    </tr>\n",
       "    <tr>\n",
       "      <td>3885</td>\n",
       "      <td>0XaIy</td>\n",
       "      <td>0.850498</td>\n",
       "      <td>0.473509</td>\n",
       "      <td>3.575604</td>\n",
       "      <td>39.726827</td>\n",
       "    </tr>\n",
       "  </tbody>\n",
       "</table>\n",
       "</div>"
      ],
      "text/plain": [
       "          id        f0        f1        f2     product\n",
       "3582   zMatX  0.881376  0.273600  2.770651   49.723143\n",
       "60498  muBEx -0.991020  0.010620  3.233630   10.583795\n",
       "53227  DMAPr -0.987623  0.017871  5.005426  139.110613\n",
       "21333  fasrx  2.081966  0.426730  2.638579   85.109875\n",
       "3885   0XaIy  0.850498  0.473509  3.575604   39.726827"
      ]
     },
     "metadata": {},
     "output_type": "display_data"
    },
    {
     "data": {
      "text/plain": [
       "'data_1'"
      ]
     },
     "metadata": {},
     "output_type": "display_data"
    },
    {
     "data": {
      "text/html": [
       "<div>\n",
       "<style scoped>\n",
       "    .dataframe tbody tr th:only-of-type {\n",
       "        vertical-align: middle;\n",
       "    }\n",
       "\n",
       "    .dataframe tbody tr th {\n",
       "        vertical-align: top;\n",
       "    }\n",
       "\n",
       "    .dataframe thead th {\n",
       "        text-align: right;\n",
       "    }\n",
       "</style>\n",
       "<table border=\"1\" class=\"dataframe\">\n",
       "  <thead>\n",
       "    <tr style=\"text-align: right;\">\n",
       "      <th></th>\n",
       "      <th>id</th>\n",
       "      <th>f0</th>\n",
       "      <th>f1</th>\n",
       "      <th>f2</th>\n",
       "      <th>product</th>\n",
       "    </tr>\n",
       "  </thead>\n",
       "  <tbody>\n",
       "    <tr>\n",
       "      <td>3582</td>\n",
       "      <td>gnvG6</td>\n",
       "      <td>13.682535</td>\n",
       "      <td>-1.577749</td>\n",
       "      <td>4.999462</td>\n",
       "      <td>134.766305</td>\n",
       "    </tr>\n",
       "    <tr>\n",
       "      <td>60498</td>\n",
       "      <td>KGfJ0</td>\n",
       "      <td>-4.834251</td>\n",
       "      <td>-0.349029</td>\n",
       "      <td>4.996602</td>\n",
       "      <td>137.945408</td>\n",
       "    </tr>\n",
       "    <tr>\n",
       "      <td>53227</td>\n",
       "      <td>Km7yX</td>\n",
       "      <td>-7.287642</td>\n",
       "      <td>-4.184750</td>\n",
       "      <td>0.001329</td>\n",
       "      <td>3.179103</td>\n",
       "    </tr>\n",
       "    <tr>\n",
       "      <td>21333</td>\n",
       "      <td>bGQtv</td>\n",
       "      <td>-10.041103</td>\n",
       "      <td>-16.919151</td>\n",
       "      <td>3.999895</td>\n",
       "      <td>110.992147</td>\n",
       "    </tr>\n",
       "    <tr>\n",
       "      <td>3885</td>\n",
       "      <td>CuYNo</td>\n",
       "      <td>-8.650003</td>\n",
       "      <td>-4.526214</td>\n",
       "      <td>5.012777</td>\n",
       "      <td>137.945408</td>\n",
       "    </tr>\n",
       "  </tbody>\n",
       "</table>\n",
       "</div>"
      ],
      "text/plain": [
       "          id         f0         f1        f2     product\n",
       "3582   gnvG6  13.682535  -1.577749  4.999462  134.766305\n",
       "60498  KGfJ0  -4.834251  -0.349029  4.996602  137.945408\n",
       "53227  Km7yX  -7.287642  -4.184750  0.001329    3.179103\n",
       "21333  bGQtv -10.041103 -16.919151  3.999895  110.992147\n",
       "3885   CuYNo  -8.650003  -4.526214  5.012777  137.945408"
      ]
     },
     "metadata": {},
     "output_type": "display_data"
    },
    {
     "data": {
      "text/plain": [
       "'data_2'"
      ]
     },
     "metadata": {},
     "output_type": "display_data"
    },
    {
     "data": {
      "text/html": [
       "<div>\n",
       "<style scoped>\n",
       "    .dataframe tbody tr th:only-of-type {\n",
       "        vertical-align: middle;\n",
       "    }\n",
       "\n",
       "    .dataframe tbody tr th {\n",
       "        vertical-align: top;\n",
       "    }\n",
       "\n",
       "    .dataframe thead th {\n",
       "        text-align: right;\n",
       "    }\n",
       "</style>\n",
       "<table border=\"1\" class=\"dataframe\">\n",
       "  <thead>\n",
       "    <tr style=\"text-align: right;\">\n",
       "      <th></th>\n",
       "      <th>id</th>\n",
       "      <th>f0</th>\n",
       "      <th>f1</th>\n",
       "      <th>f2</th>\n",
       "      <th>product</th>\n",
       "    </tr>\n",
       "  </thead>\n",
       "  <tbody>\n",
       "    <tr>\n",
       "      <td>3582</td>\n",
       "      <td>GdnWX</td>\n",
       "      <td>-0.838132</td>\n",
       "      <td>-0.968042</td>\n",
       "      <td>4.074363</td>\n",
       "      <td>129.102262</td>\n",
       "    </tr>\n",
       "    <tr>\n",
       "      <td>60498</td>\n",
       "      <td>z2rQ2</td>\n",
       "      <td>0.370981</td>\n",
       "      <td>-0.573846</td>\n",
       "      <td>-3.568113</td>\n",
       "      <td>61.285744</td>\n",
       "    </tr>\n",
       "    <tr>\n",
       "      <td>53227</td>\n",
       "      <td>vZROH</td>\n",
       "      <td>0.856767</td>\n",
       "      <td>1.441619</td>\n",
       "      <td>4.895820</td>\n",
       "      <td>65.026246</td>\n",
       "    </tr>\n",
       "    <tr>\n",
       "      <td>21333</td>\n",
       "      <td>6AgeD</td>\n",
       "      <td>1.989628</td>\n",
       "      <td>-1.343347</td>\n",
       "      <td>3.242798</td>\n",
       "      <td>62.334048</td>\n",
       "    </tr>\n",
       "    <tr>\n",
       "      <td>3885</td>\n",
       "      <td>nXQ8W</td>\n",
       "      <td>2.194257</td>\n",
       "      <td>-2.180922</td>\n",
       "      <td>1.699123</td>\n",
       "      <td>150.002134</td>\n",
       "    </tr>\n",
       "  </tbody>\n",
       "</table>\n",
       "</div>"
      ],
      "text/plain": [
       "          id        f0        f1        f2     product\n",
       "3582   GdnWX -0.838132 -0.968042  4.074363  129.102262\n",
       "60498  z2rQ2  0.370981 -0.573846 -3.568113   61.285744\n",
       "53227  vZROH  0.856767  1.441619  4.895820   65.026246\n",
       "21333  6AgeD  1.989628 -1.343347  3.242798   62.334048\n",
       "3885   nXQ8W  2.194257 -2.180922  1.699123  150.002134"
      ]
     },
     "metadata": {},
     "output_type": "display_data"
    }
   ],
   "source": [
    "for i, data in enumerate(data_list):\n",
    "    display(f'data_{i}', data.sample(5, random_state=0))"
   ]
  },
  {
   "cell_type": "markdown",
   "metadata": {},
   "source": [
    "Посмотрим также описание данных из каждой таблицы."
   ]
  },
  {
   "cell_type": "code",
   "execution_count": 6,
   "metadata": {
    "scrolled": true
   },
   "outputs": [
    {
     "data": {
      "text/plain": [
       "'data_0'"
      ]
     },
     "metadata": {},
     "output_type": "display_data"
    },
    {
     "data": {
      "text/html": [
       "<div>\n",
       "<style scoped>\n",
       "    .dataframe tbody tr th:only-of-type {\n",
       "        vertical-align: middle;\n",
       "    }\n",
       "\n",
       "    .dataframe tbody tr th {\n",
       "        vertical-align: top;\n",
       "    }\n",
       "\n",
       "    .dataframe thead th {\n",
       "        text-align: right;\n",
       "    }\n",
       "</style>\n",
       "<table border=\"1\" class=\"dataframe\">\n",
       "  <thead>\n",
       "    <tr style=\"text-align: right;\">\n",
       "      <th></th>\n",
       "      <th>f0</th>\n",
       "      <th>f1</th>\n",
       "      <th>f2</th>\n",
       "      <th>product</th>\n",
       "    </tr>\n",
       "  </thead>\n",
       "  <tbody>\n",
       "    <tr>\n",
       "      <td>count</td>\n",
       "      <td>100000.000000</td>\n",
       "      <td>100000.000000</td>\n",
       "      <td>100000.000000</td>\n",
       "      <td>100000.000000</td>\n",
       "    </tr>\n",
       "    <tr>\n",
       "      <td>mean</td>\n",
       "      <td>0.500419</td>\n",
       "      <td>0.250143</td>\n",
       "      <td>2.502647</td>\n",
       "      <td>92.500000</td>\n",
       "    </tr>\n",
       "    <tr>\n",
       "      <td>std</td>\n",
       "      <td>0.871832</td>\n",
       "      <td>0.504433</td>\n",
       "      <td>3.248248</td>\n",
       "      <td>44.288691</td>\n",
       "    </tr>\n",
       "    <tr>\n",
       "      <td>min</td>\n",
       "      <td>-1.408605</td>\n",
       "      <td>-0.848218</td>\n",
       "      <td>-12.088328</td>\n",
       "      <td>0.000000</td>\n",
       "    </tr>\n",
       "    <tr>\n",
       "      <td>25%</td>\n",
       "      <td>-0.072580</td>\n",
       "      <td>-0.200881</td>\n",
       "      <td>0.287748</td>\n",
       "      <td>56.497507</td>\n",
       "    </tr>\n",
       "    <tr>\n",
       "      <td>50%</td>\n",
       "      <td>0.502360</td>\n",
       "      <td>0.250252</td>\n",
       "      <td>2.515969</td>\n",
       "      <td>91.849972</td>\n",
       "    </tr>\n",
       "    <tr>\n",
       "      <td>75%</td>\n",
       "      <td>1.073581</td>\n",
       "      <td>0.700646</td>\n",
       "      <td>4.715088</td>\n",
       "      <td>128.564089</td>\n",
       "    </tr>\n",
       "    <tr>\n",
       "      <td>max</td>\n",
       "      <td>2.362331</td>\n",
       "      <td>1.343769</td>\n",
       "      <td>16.003790</td>\n",
       "      <td>185.364347</td>\n",
       "    </tr>\n",
       "  </tbody>\n",
       "</table>\n",
       "</div>"
      ],
      "text/plain": [
       "                  f0             f1             f2        product\n",
       "count  100000.000000  100000.000000  100000.000000  100000.000000\n",
       "mean        0.500419       0.250143       2.502647      92.500000\n",
       "std         0.871832       0.504433       3.248248      44.288691\n",
       "min        -1.408605      -0.848218     -12.088328       0.000000\n",
       "25%        -0.072580      -0.200881       0.287748      56.497507\n",
       "50%         0.502360       0.250252       2.515969      91.849972\n",
       "75%         1.073581       0.700646       4.715088     128.564089\n",
       "max         2.362331       1.343769      16.003790     185.364347"
      ]
     },
     "metadata": {},
     "output_type": "display_data"
    },
    {
     "data": {
      "text/plain": [
       "'data_1'"
      ]
     },
     "metadata": {},
     "output_type": "display_data"
    },
    {
     "data": {
      "text/html": [
       "<div>\n",
       "<style scoped>\n",
       "    .dataframe tbody tr th:only-of-type {\n",
       "        vertical-align: middle;\n",
       "    }\n",
       "\n",
       "    .dataframe tbody tr th {\n",
       "        vertical-align: top;\n",
       "    }\n",
       "\n",
       "    .dataframe thead th {\n",
       "        text-align: right;\n",
       "    }\n",
       "</style>\n",
       "<table border=\"1\" class=\"dataframe\">\n",
       "  <thead>\n",
       "    <tr style=\"text-align: right;\">\n",
       "      <th></th>\n",
       "      <th>f0</th>\n",
       "      <th>f1</th>\n",
       "      <th>f2</th>\n",
       "      <th>product</th>\n",
       "    </tr>\n",
       "  </thead>\n",
       "  <tbody>\n",
       "    <tr>\n",
       "      <td>count</td>\n",
       "      <td>100000.000000</td>\n",
       "      <td>100000.000000</td>\n",
       "      <td>100000.000000</td>\n",
       "      <td>100000.000000</td>\n",
       "    </tr>\n",
       "    <tr>\n",
       "      <td>mean</td>\n",
       "      <td>1.141296</td>\n",
       "      <td>-4.796579</td>\n",
       "      <td>2.494541</td>\n",
       "      <td>68.825000</td>\n",
       "    </tr>\n",
       "    <tr>\n",
       "      <td>std</td>\n",
       "      <td>8.965932</td>\n",
       "      <td>5.119872</td>\n",
       "      <td>1.703572</td>\n",
       "      <td>45.944423</td>\n",
       "    </tr>\n",
       "    <tr>\n",
       "      <td>min</td>\n",
       "      <td>-31.609576</td>\n",
       "      <td>-26.358598</td>\n",
       "      <td>-0.018144</td>\n",
       "      <td>0.000000</td>\n",
       "    </tr>\n",
       "    <tr>\n",
       "      <td>25%</td>\n",
       "      <td>-6.298551</td>\n",
       "      <td>-8.267985</td>\n",
       "      <td>1.000021</td>\n",
       "      <td>26.953261</td>\n",
       "    </tr>\n",
       "    <tr>\n",
       "      <td>50%</td>\n",
       "      <td>1.153055</td>\n",
       "      <td>-4.813172</td>\n",
       "      <td>2.011479</td>\n",
       "      <td>57.085625</td>\n",
       "    </tr>\n",
       "    <tr>\n",
       "      <td>75%</td>\n",
       "      <td>8.621015</td>\n",
       "      <td>-1.332816</td>\n",
       "      <td>3.999904</td>\n",
       "      <td>107.813044</td>\n",
       "    </tr>\n",
       "    <tr>\n",
       "      <td>max</td>\n",
       "      <td>29.421755</td>\n",
       "      <td>18.734063</td>\n",
       "      <td>5.019721</td>\n",
       "      <td>137.945408</td>\n",
       "    </tr>\n",
       "  </tbody>\n",
       "</table>\n",
       "</div>"
      ],
      "text/plain": [
       "                  f0             f1             f2        product\n",
       "count  100000.000000  100000.000000  100000.000000  100000.000000\n",
       "mean        1.141296      -4.796579       2.494541      68.825000\n",
       "std         8.965932       5.119872       1.703572      45.944423\n",
       "min       -31.609576     -26.358598      -0.018144       0.000000\n",
       "25%        -6.298551      -8.267985       1.000021      26.953261\n",
       "50%         1.153055      -4.813172       2.011479      57.085625\n",
       "75%         8.621015      -1.332816       3.999904     107.813044\n",
       "max        29.421755      18.734063       5.019721     137.945408"
      ]
     },
     "metadata": {},
     "output_type": "display_data"
    },
    {
     "data": {
      "text/plain": [
       "'data_2'"
      ]
     },
     "metadata": {},
     "output_type": "display_data"
    },
    {
     "data": {
      "text/html": [
       "<div>\n",
       "<style scoped>\n",
       "    .dataframe tbody tr th:only-of-type {\n",
       "        vertical-align: middle;\n",
       "    }\n",
       "\n",
       "    .dataframe tbody tr th {\n",
       "        vertical-align: top;\n",
       "    }\n",
       "\n",
       "    .dataframe thead th {\n",
       "        text-align: right;\n",
       "    }\n",
       "</style>\n",
       "<table border=\"1\" class=\"dataframe\">\n",
       "  <thead>\n",
       "    <tr style=\"text-align: right;\">\n",
       "      <th></th>\n",
       "      <th>f0</th>\n",
       "      <th>f1</th>\n",
       "      <th>f2</th>\n",
       "      <th>product</th>\n",
       "    </tr>\n",
       "  </thead>\n",
       "  <tbody>\n",
       "    <tr>\n",
       "      <td>count</td>\n",
       "      <td>100000.000000</td>\n",
       "      <td>100000.000000</td>\n",
       "      <td>100000.000000</td>\n",
       "      <td>100000.000000</td>\n",
       "    </tr>\n",
       "    <tr>\n",
       "      <td>mean</td>\n",
       "      <td>0.002023</td>\n",
       "      <td>-0.002081</td>\n",
       "      <td>2.495128</td>\n",
       "      <td>95.000000</td>\n",
       "    </tr>\n",
       "    <tr>\n",
       "      <td>std</td>\n",
       "      <td>1.732045</td>\n",
       "      <td>1.730417</td>\n",
       "      <td>3.473445</td>\n",
       "      <td>44.749921</td>\n",
       "    </tr>\n",
       "    <tr>\n",
       "      <td>min</td>\n",
       "      <td>-8.760004</td>\n",
       "      <td>-7.084020</td>\n",
       "      <td>-11.970335</td>\n",
       "      <td>0.000000</td>\n",
       "    </tr>\n",
       "    <tr>\n",
       "      <td>25%</td>\n",
       "      <td>-1.162288</td>\n",
       "      <td>-1.174820</td>\n",
       "      <td>0.130359</td>\n",
       "      <td>59.450441</td>\n",
       "    </tr>\n",
       "    <tr>\n",
       "      <td>50%</td>\n",
       "      <td>0.009424</td>\n",
       "      <td>-0.009482</td>\n",
       "      <td>2.484236</td>\n",
       "      <td>94.925613</td>\n",
       "    </tr>\n",
       "    <tr>\n",
       "      <td>75%</td>\n",
       "      <td>1.158535</td>\n",
       "      <td>1.163678</td>\n",
       "      <td>4.858794</td>\n",
       "      <td>130.595027</td>\n",
       "    </tr>\n",
       "    <tr>\n",
       "      <td>max</td>\n",
       "      <td>7.238262</td>\n",
       "      <td>7.844801</td>\n",
       "      <td>16.739402</td>\n",
       "      <td>190.029838</td>\n",
       "    </tr>\n",
       "  </tbody>\n",
       "</table>\n",
       "</div>"
      ],
      "text/plain": [
       "                  f0             f1             f2        product\n",
       "count  100000.000000  100000.000000  100000.000000  100000.000000\n",
       "mean        0.002023      -0.002081       2.495128      95.000000\n",
       "std         1.732045       1.730417       3.473445      44.749921\n",
       "min        -8.760004      -7.084020     -11.970335       0.000000\n",
       "25%        -1.162288      -1.174820       0.130359      59.450441\n",
       "50%         0.009424      -0.009482       2.484236      94.925613\n",
       "75%         1.158535       1.163678       4.858794     130.595027\n",
       "max         7.238262       7.844801      16.739402     190.029838"
      ]
     },
     "metadata": {},
     "output_type": "display_data"
    }
   ],
   "source": [
    "for i, data in enumerate(data_list):\n",
    "    display(f'data_{i}', data.describe())"
   ]
  },
  {
   "cell_type": "markdown",
   "metadata": {},
   "source": [
    "Посмотрим как распределены значения признаков в данных для каждого региона.  \n",
    "Для этого построим гистограммы."
   ]
  },
  {
   "cell_type": "code",
   "execution_count": 7,
   "metadata": {
    "scrolled": true
   },
   "outputs": [
    {
     "data": {
      "text/plain": [
       "'data_0'"
      ]
     },
     "metadata": {},
     "output_type": "display_data"
    },
    {
     "data": {
      "image/png": "[encoded data removed]",
      "text/plain": [
       "<Figure size 432x288 with 4 Axes>"
      ]
     },
     "metadata": {
      "needs_background": "light"
     },
     "output_type": "display_data"
    },
    {
     "data": {
      "text/plain": [
       "'data_1'"
      ]
     },
     "metadata": {},
     "output_type": "display_data"
    },
    {
     "data": {
      "image/png": "[encoded data removed]",
      "text/plain": [
       "<Figure size 432x288 with 4 Axes>"
      ]
     },
     "metadata": {
      "needs_background": "light"
     },
     "output_type": "display_data"
    },
    {
     "data": {
      "text/plain": [
       "'data_2'"
      ]
     },
     "metadata": {},
     "output_type": "display_data"
    },
    {
     "data": {
      "image/png": "[encoded data removed]",
      "text/plain": [
       "<Figure size 432x288 with 4 Axes>"
      ]
     },
     "metadata": {
      "needs_background": "light"
     },
     "output_type": "display_data"
    }
   ],
   "source": [
    "for i, data in enumerate(data_list):\n",
    "    display(f'data_{i}')\n",
    "    data.hist();\n",
    "    plt.show()"
   ]
  },
  {
   "cell_type": "markdown",
   "metadata": {},
   "source": [
    "Удалим столбец `id`"
   ]
  },
  {
   "cell_type": "code",
   "execution_count": 8,
   "metadata": {
    "scrolled": true
   },
   "outputs": [
    {
     "name": "stdout",
     "output_type": "stream",
     "text": [
      "data_0\n"
     ]
    },
    {
     "data": {
      "text/html": [
       "<div>\n",
       "<style scoped>\n",
       "    .dataframe tbody tr th:only-of-type {\n",
       "        vertical-align: middle;\n",
       "    }\n",
       "\n",
       "    .dataframe tbody tr th {\n",
       "        vertical-align: top;\n",
       "    }\n",
       "\n",
       "    .dataframe thead th {\n",
       "        text-align: right;\n",
       "    }\n",
       "</style>\n",
       "<table border=\"1\" class=\"dataframe\">\n",
       "  <thead>\n",
       "    <tr style=\"text-align: right;\">\n",
       "      <th></th>\n",
       "      <th>f0</th>\n",
       "      <th>f1</th>\n",
       "      <th>f2</th>\n",
       "      <th>product</th>\n",
       "    </tr>\n",
       "  </thead>\n",
       "  <tbody>\n",
       "    <tr>\n",
       "      <td>0</td>\n",
       "      <td>0.705745</td>\n",
       "      <td>-0.497823</td>\n",
       "      <td>1.221170</td>\n",
       "      <td>105.280062</td>\n",
       "    </tr>\n",
       "    <tr>\n",
       "      <td>1</td>\n",
       "      <td>1.334711</td>\n",
       "      <td>-0.340164</td>\n",
       "      <td>4.365080</td>\n",
       "      <td>73.037750</td>\n",
       "    </tr>\n",
       "    <tr>\n",
       "      <td>2</td>\n",
       "      <td>1.022732</td>\n",
       "      <td>0.151990</td>\n",
       "      <td>1.419926</td>\n",
       "      <td>85.265647</td>\n",
       "    </tr>\n",
       "    <tr>\n",
       "      <td>3</td>\n",
       "      <td>-0.032172</td>\n",
       "      <td>0.139033</td>\n",
       "      <td>2.978566</td>\n",
       "      <td>168.620776</td>\n",
       "    </tr>\n",
       "    <tr>\n",
       "      <td>4</td>\n",
       "      <td>1.988431</td>\n",
       "      <td>0.155413</td>\n",
       "      <td>4.751769</td>\n",
       "      <td>154.036647</td>\n",
       "    </tr>\n",
       "  </tbody>\n",
       "</table>\n",
       "</div>"
      ],
      "text/plain": [
       "         f0        f1        f2     product\n",
       "0  0.705745 -0.497823  1.221170  105.280062\n",
       "1  1.334711 -0.340164  4.365080   73.037750\n",
       "2  1.022732  0.151990  1.419926   85.265647\n",
       "3 -0.032172  0.139033  2.978566  168.620776\n",
       "4  1.988431  0.155413  4.751769  154.036647"
      ]
     },
     "metadata": {},
     "output_type": "display_data"
    },
    {
     "name": "stdout",
     "output_type": "stream",
     "text": [
      "data_1\n"
     ]
    },
    {
     "data": {
      "text/html": [
       "<div>\n",
       "<style scoped>\n",
       "    .dataframe tbody tr th:only-of-type {\n",
       "        vertical-align: middle;\n",
       "    }\n",
       "\n",
       "    .dataframe tbody tr th {\n",
       "        vertical-align: top;\n",
       "    }\n",
       "\n",
       "    .dataframe thead th {\n",
       "        text-align: right;\n",
       "    }\n",
       "</style>\n",
       "<table border=\"1\" class=\"dataframe\">\n",
       "  <thead>\n",
       "    <tr style=\"text-align: right;\">\n",
       "      <th></th>\n",
       "      <th>f0</th>\n",
       "      <th>f1</th>\n",
       "      <th>f2</th>\n",
       "      <th>product</th>\n",
       "    </tr>\n",
       "  </thead>\n",
       "  <tbody>\n",
       "    <tr>\n",
       "      <td>0</td>\n",
       "      <td>-15.001348</td>\n",
       "      <td>-8.276000</td>\n",
       "      <td>-0.005876</td>\n",
       "      <td>3.179103</td>\n",
       "    </tr>\n",
       "    <tr>\n",
       "      <td>1</td>\n",
       "      <td>14.272088</td>\n",
       "      <td>-3.475083</td>\n",
       "      <td>0.999183</td>\n",
       "      <td>26.953261</td>\n",
       "    </tr>\n",
       "    <tr>\n",
       "      <td>2</td>\n",
       "      <td>6.263187</td>\n",
       "      <td>-5.948386</td>\n",
       "      <td>5.001160</td>\n",
       "      <td>134.766305</td>\n",
       "    </tr>\n",
       "    <tr>\n",
       "      <td>3</td>\n",
       "      <td>-13.081196</td>\n",
       "      <td>-11.506057</td>\n",
       "      <td>4.999415</td>\n",
       "      <td>137.945408</td>\n",
       "    </tr>\n",
       "    <tr>\n",
       "      <td>4</td>\n",
       "      <td>12.702195</td>\n",
       "      <td>-8.147433</td>\n",
       "      <td>5.004363</td>\n",
       "      <td>134.766305</td>\n",
       "    </tr>\n",
       "  </tbody>\n",
       "</table>\n",
       "</div>"
      ],
      "text/plain": [
       "          f0         f1        f2     product\n",
       "0 -15.001348  -8.276000 -0.005876    3.179103\n",
       "1  14.272088  -3.475083  0.999183   26.953261\n",
       "2   6.263187  -5.948386  5.001160  134.766305\n",
       "3 -13.081196 -11.506057  4.999415  137.945408\n",
       "4  12.702195  -8.147433  5.004363  134.766305"
      ]
     },
     "metadata": {},
     "output_type": "display_data"
    },
    {
     "name": "stdout",
     "output_type": "stream",
     "text": [
      "data_2\n"
     ]
    },
    {
     "data": {
      "text/html": [
       "<div>\n",
       "<style scoped>\n",
       "    .dataframe tbody tr th:only-of-type {\n",
       "        vertical-align: middle;\n",
       "    }\n",
       "\n",
       "    .dataframe tbody tr th {\n",
       "        vertical-align: top;\n",
       "    }\n",
       "\n",
       "    .dataframe thead th {\n",
       "        text-align: right;\n",
       "    }\n",
       "</style>\n",
       "<table border=\"1\" class=\"dataframe\">\n",
       "  <thead>\n",
       "    <tr style=\"text-align: right;\">\n",
       "      <th></th>\n",
       "      <th>f0</th>\n",
       "      <th>f1</th>\n",
       "      <th>f2</th>\n",
       "      <th>product</th>\n",
       "    </tr>\n",
       "  </thead>\n",
       "  <tbody>\n",
       "    <tr>\n",
       "      <td>0</td>\n",
       "      <td>-1.146987</td>\n",
       "      <td>0.963328</td>\n",
       "      <td>-0.828965</td>\n",
       "      <td>27.758673</td>\n",
       "    </tr>\n",
       "    <tr>\n",
       "      <td>1</td>\n",
       "      <td>0.262778</td>\n",
       "      <td>0.269839</td>\n",
       "      <td>-2.530187</td>\n",
       "      <td>56.069697</td>\n",
       "    </tr>\n",
       "    <tr>\n",
       "      <td>2</td>\n",
       "      <td>0.194587</td>\n",
       "      <td>0.289035</td>\n",
       "      <td>-5.586433</td>\n",
       "      <td>62.871910</td>\n",
       "    </tr>\n",
       "    <tr>\n",
       "      <td>3</td>\n",
       "      <td>2.236060</td>\n",
       "      <td>-0.553760</td>\n",
       "      <td>0.930038</td>\n",
       "      <td>114.572842</td>\n",
       "    </tr>\n",
       "    <tr>\n",
       "      <td>4</td>\n",
       "      <td>-0.515993</td>\n",
       "      <td>1.716266</td>\n",
       "      <td>5.899011</td>\n",
       "      <td>149.600746</td>\n",
       "    </tr>\n",
       "  </tbody>\n",
       "</table>\n",
       "</div>"
      ],
      "text/plain": [
       "         f0        f1        f2     product\n",
       "0 -1.146987  0.963328 -0.828965   27.758673\n",
       "1  0.262778  0.269839 -2.530187   56.069697\n",
       "2  0.194587  0.289035 -5.586433   62.871910\n",
       "3  2.236060 -0.553760  0.930038  114.572842\n",
       "4 -0.515993  1.716266  5.899011  149.600746"
      ]
     },
     "metadata": {},
     "output_type": "display_data"
    }
   ],
   "source": [
    "for i, data in enumerate(data_list):\n",
    "    data.drop('id', axis=1, inplace=True)\n",
    "    print(f'data_{i}')\n",
    "    # Выведем на экран обновленные таблицы\n",
    "    display(data.head())"
   ]
  },
  {
   "cell_type": "markdown",
   "metadata": {},
   "source": [
    "Посмотрим, как коррелируют между собой признаки в каждом из регионов."
   ]
  },
  {
   "cell_type": "code",
   "execution_count": 9,
   "metadata": {
    "scrolled": true
   },
   "outputs": [
    {
     "name": "stdout",
     "output_type": "stream",
     "text": [
      "data_0\n"
     ]
    },
    {
     "data": {
      "text/html": [
       "<div>\n",
       "<style scoped>\n",
       "    .dataframe tbody tr th:only-of-type {\n",
       "        vertical-align: middle;\n",
       "    }\n",
       "\n",
       "    .dataframe tbody tr th {\n",
       "        vertical-align: top;\n",
       "    }\n",
       "\n",
       "    .dataframe thead th {\n",
       "        text-align: right;\n",
       "    }\n",
       "</style>\n",
       "<table border=\"1\" class=\"dataframe\">\n",
       "  <thead>\n",
       "    <tr style=\"text-align: right;\">\n",
       "      <th></th>\n",
       "      <th>f0</th>\n",
       "      <th>f1</th>\n",
       "      <th>f2</th>\n",
       "    </tr>\n",
       "  </thead>\n",
       "  <tbody>\n",
       "    <tr>\n",
       "      <td>f0</td>\n",
       "      <td>1.000000</td>\n",
       "      <td>-0.440723</td>\n",
       "      <td>-0.003153</td>\n",
       "    </tr>\n",
       "    <tr>\n",
       "      <td>f1</td>\n",
       "      <td>-0.440723</td>\n",
       "      <td>1.000000</td>\n",
       "      <td>0.001724</td>\n",
       "    </tr>\n",
       "    <tr>\n",
       "      <td>f2</td>\n",
       "      <td>-0.003153</td>\n",
       "      <td>0.001724</td>\n",
       "      <td>1.000000</td>\n",
       "    </tr>\n",
       "    <tr>\n",
       "      <td>product</td>\n",
       "      <td>0.143536</td>\n",
       "      <td>-0.192356</td>\n",
       "      <td>0.483663</td>\n",
       "    </tr>\n",
       "  </tbody>\n",
       "</table>\n",
       "</div>"
      ],
      "text/plain": [
       "               f0        f1        f2\n",
       "f0       1.000000 -0.440723 -0.003153\n",
       "f1      -0.440723  1.000000  0.001724\n",
       "f2      -0.003153  0.001724  1.000000\n",
       "product  0.143536 -0.192356  0.483663"
      ]
     },
     "metadata": {},
     "output_type": "display_data"
    },
    {
     "name": "stdout",
     "output_type": "stream",
     "text": [
      "data_1\n"
     ]
    },
    {
     "data": {
      "text/html": [
       "<div>\n",
       "<style scoped>\n",
       "    .dataframe tbody tr th:only-of-type {\n",
       "        vertical-align: middle;\n",
       "    }\n",
       "\n",
       "    .dataframe tbody tr th {\n",
       "        vertical-align: top;\n",
       "    }\n",
       "\n",
       "    .dataframe thead th {\n",
       "        text-align: right;\n",
       "    }\n",
       "</style>\n",
       "<table border=\"1\" class=\"dataframe\">\n",
       "  <thead>\n",
       "    <tr style=\"text-align: right;\">\n",
       "      <th></th>\n",
       "      <th>f0</th>\n",
       "      <th>f1</th>\n",
       "      <th>f2</th>\n",
       "    </tr>\n",
       "  </thead>\n",
       "  <tbody>\n",
       "    <tr>\n",
       "      <td>f0</td>\n",
       "      <td>1.000000</td>\n",
       "      <td>0.182287</td>\n",
       "      <td>-0.001777</td>\n",
       "    </tr>\n",
       "    <tr>\n",
       "      <td>f1</td>\n",
       "      <td>0.182287</td>\n",
       "      <td>1.000000</td>\n",
       "      <td>-0.002595</td>\n",
       "    </tr>\n",
       "    <tr>\n",
       "      <td>f2</td>\n",
       "      <td>-0.001777</td>\n",
       "      <td>-0.002595</td>\n",
       "      <td>1.000000</td>\n",
       "    </tr>\n",
       "    <tr>\n",
       "      <td>product</td>\n",
       "      <td>-0.030491</td>\n",
       "      <td>-0.010155</td>\n",
       "      <td>0.999397</td>\n",
       "    </tr>\n",
       "  </tbody>\n",
       "</table>\n",
       "</div>"
      ],
      "text/plain": [
       "               f0        f1        f2\n",
       "f0       1.000000  0.182287 -0.001777\n",
       "f1       0.182287  1.000000 -0.002595\n",
       "f2      -0.001777 -0.002595  1.000000\n",
       "product -0.030491 -0.010155  0.999397"
      ]
     },
     "metadata": {},
     "output_type": "display_data"
    },
    {
     "name": "stdout",
     "output_type": "stream",
     "text": [
      "data_2\n"
     ]
    },
    {
     "data": {
      "text/html": [
       "<div>\n",
       "<style scoped>\n",
       "    .dataframe tbody tr th:only-of-type {\n",
       "        vertical-align: middle;\n",
       "    }\n",
       "\n",
       "    .dataframe tbody tr th {\n",
       "        vertical-align: top;\n",
       "    }\n",
       "\n",
       "    .dataframe thead th {\n",
       "        text-align: right;\n",
       "    }\n",
       "</style>\n",
       "<table border=\"1\" class=\"dataframe\">\n",
       "  <thead>\n",
       "    <tr style=\"text-align: right;\">\n",
       "      <th></th>\n",
       "      <th>f0</th>\n",
       "      <th>f1</th>\n",
       "      <th>f2</th>\n",
       "    </tr>\n",
       "  </thead>\n",
       "  <tbody>\n",
       "    <tr>\n",
       "      <td>f0</td>\n",
       "      <td>1.000000</td>\n",
       "      <td>0.000528</td>\n",
       "      <td>-0.000448</td>\n",
       "    </tr>\n",
       "    <tr>\n",
       "      <td>f1</td>\n",
       "      <td>0.000528</td>\n",
       "      <td>1.000000</td>\n",
       "      <td>0.000779</td>\n",
       "    </tr>\n",
       "    <tr>\n",
       "      <td>f2</td>\n",
       "      <td>-0.000448</td>\n",
       "      <td>0.000779</td>\n",
       "      <td>1.000000</td>\n",
       "    </tr>\n",
       "    <tr>\n",
       "      <td>product</td>\n",
       "      <td>-0.001987</td>\n",
       "      <td>-0.001012</td>\n",
       "      <td>0.445871</td>\n",
       "    </tr>\n",
       "  </tbody>\n",
       "</table>\n",
       "</div>"
      ],
      "text/plain": [
       "               f0        f1        f2\n",
       "f0       1.000000  0.000528 -0.000448\n",
       "f1       0.000528  1.000000  0.000779\n",
       "f2      -0.000448  0.000779  1.000000\n",
       "product -0.001987 -0.001012  0.445871"
      ]
     },
     "metadata": {},
     "output_type": "display_data"
    }
   ],
   "source": [
    "for i, data in enumerate(data_list):\n",
    "    print(f'data_{i}')\n",
    "    display(data.corr().iloc[:, 0:3])"
   ]
  },
  {
   "cell_type": "markdown",
   "metadata": {},
   "source": [
    "В первом регионе есть средняя корреляция между признаком `f0` и `f1` (-0.44), а также между признаками `f2` и целевой переменной `product` (0.48). Во втором регионе есть высокая корреляция между признаками `f2` и целевой переменной `product` (0.99). В третьем регионе также наблюдается корреляция между этими признаками средней силы (0.44)"
   ]
  },
  {
   "cell_type": "markdown",
   "metadata": {},
   "source": [
    "Объеденим данные и вновь посмотрим как коррелируют признаки."
   ]
  },
  {
   "cell_type": "code",
   "execution_count": 10,
   "metadata": {},
   "outputs": [
    {
     "data": {
      "text/plain": [
       "(300000, 4)"
      ]
     },
     "execution_count": 10,
     "metadata": {},
     "output_type": "execute_result"
    }
   ],
   "source": [
    "data_full = pd.concat([data_0, data_1, data_2]).reset_index(drop=True)\n",
    "data_full.shape"
   ]
  },
  {
   "cell_type": "code",
   "execution_count": 11,
   "metadata": {},
   "outputs": [
    {
     "data": {
      "text/html": [
       "<div>\n",
       "<style scoped>\n",
       "    .dataframe tbody tr th:only-of-type {\n",
       "        vertical-align: middle;\n",
       "    }\n",
       "\n",
       "    .dataframe tbody tr th {\n",
       "        vertical-align: top;\n",
       "    }\n",
       "\n",
       "    .dataframe thead th {\n",
       "        text-align: right;\n",
       "    }\n",
       "</style>\n",
       "<table border=\"1\" class=\"dataframe\">\n",
       "  <thead>\n",
       "    <tr style=\"text-align: right;\">\n",
       "      <th></th>\n",
       "      <th>f0</th>\n",
       "      <th>f1</th>\n",
       "      <th>f2</th>\n",
       "    </tr>\n",
       "  </thead>\n",
       "  <tbody>\n",
       "    <tr>\n",
       "      <td>f0</td>\n",
       "      <td>1.000000</td>\n",
       "      <td>0.085495</td>\n",
       "      <td>-0.000849</td>\n",
       "    </tr>\n",
       "    <tr>\n",
       "      <td>f1</td>\n",
       "      <td>0.085495</td>\n",
       "      <td>1.000000</td>\n",
       "      <td>0.000002</td>\n",
       "    </tr>\n",
       "    <tr>\n",
       "      <td>f2</td>\n",
       "      <td>-0.000849</td>\n",
       "      <td>0.000002</td>\n",
       "      <td>1.000000</td>\n",
       "    </tr>\n",
       "    <tr>\n",
       "      <td>product</td>\n",
       "      <td>-0.030439</td>\n",
       "      <td>0.137210</td>\n",
       "      <td>0.533554</td>\n",
       "    </tr>\n",
       "  </tbody>\n",
       "</table>\n",
       "</div>"
      ],
      "text/plain": [
       "               f0        f1        f2\n",
       "f0       1.000000  0.085495 -0.000849\n",
       "f1       0.085495  1.000000  0.000002\n",
       "f2      -0.000849  0.000002  1.000000\n",
       "product -0.030439  0.137210  0.533554"
      ]
     },
     "execution_count": 11,
     "metadata": {},
     "output_type": "execute_result"
    }
   ],
   "source": [
    "data_full.corr().iloc[:, 0:3]"
   ]
  },
  {
   "cell_type": "markdown",
   "metadata": {},
   "source": [
    "Видно, что наиболее сильная линейная связь присутствует между признаками `f2` и целевой переменной `product` (0.53)"
   ]
  },
  {
   "cell_type": "markdown",
   "metadata": {},
   "source": [
    "Также посмотрим на распределение значений каждого из признаков для общей таблицы."
   ]
  },
  {
   "cell_type": "code",
   "execution_count": 12,
   "metadata": {
    "scrolled": true
   },
   "outputs": [
    {
     "data": {
      "image/png": "[encoded data removed]",
      "text/plain": [
       "<Figure size 432x288 with 4 Axes>"
      ]
     },
     "metadata": {
      "needs_background": "light"
     },
     "output_type": "display_data"
    }
   ],
   "source": [
    "data_full.hist();"
   ]
  },
  {
   "cell_type": "markdown",
   "metadata": {},
   "source": [
    "### Резюме"
   ]
  },
  {
   "cell_type": "markdown",
   "metadata": {},
   "source": [
    "На данном этапе мы:\n",
    "- Открыли данные и ознакомились с ними\n",
    "- Вкратце оценили распределение значений признаков и корреляции между ними.\n",
    "- Очистили данные от лишних столбцов"
   ]
  },
  {
   "cell_type": "markdown",
   "metadata": {},
   "source": [
    "## Обучение и проверка модели"
   ]
  },
  {
   "cell_type": "markdown",
   "metadata": {},
   "source": [
    "На данном этапе обучим 3 модели для каждого из регионов. Оценим среднее предсказанное моделями значение на валидацонной выборке и среднеквадратичное отклонение."
   ]
  },
  {
   "cell_type": "markdown",
   "metadata": {},
   "source": [
    "Приступим."
   ]
  },
  {
   "cell_type": "code",
   "execution_count": 13,
   "metadata": {},
   "outputs": [],
   "source": [
    "# Сохраним названия признаков в список features\n",
    "features=['f0', 'f1', 'f2']"
   ]
  },
  {
   "cell_type": "code",
   "execution_count": 14,
   "metadata": {},
   "outputs": [],
   "source": [
    "# Разделим данные каждого региона на train и valid\n",
    "\n",
    "# Первый регион\n",
    "data_0_train_X, data_0_valid_X, data_0_train_y, data_0_valid_y = train_test_split(data_0[features], data_0['product'], \n",
    "   \n",
    "                                                                                  random_state=0, test_size=0.25)\n",
    "# Второй регион\n",
    "data_1_train_X, data_1_valid_X, data_1_train_y, data_1_valid_y = train_test_split(data_1[features], data_1['product'], \n",
    "                                                                                  random_state=0, test_size=0.25)\n",
    "\n",
    "# Третий регион\n",
    "data_2_train_X, data_2_valid_X, data_2_train_y, data_2_valid_y = train_test_split(data_2[features], data_2['product'], \n",
    "                                                                                  random_state=0, test_size=0.25)"
   ]
  },
  {
   "cell_type": "markdown",
   "metadata": {},
   "source": [
    "Зададим функцию, которая будет возвращать обученную модель и предсказания на валидационной выборке"
   ]
  },
  {
   "cell_type": "code",
   "execution_count": 16,
   "metadata": {},
   "outputs": [],
   "source": [
    "def make_model(data_train_X, data_valid_X, data_train_y, model):\n",
    "    # Обучим модель и сделаем предсказания на валидационной выборке\n",
    "    model.fit(data_train_X, data_train_y)\n",
    "    data_val_predict = model.predict(data_valid_X)\n",
    "    \n",
    "    return model, data_val_predict"
   ]
  },
  {
   "cell_type": "markdown",
   "metadata": {},
   "source": [
    "Также, зададим модель, которая будет выводить на экран средний запас предсказанного сырья и RMSE модели."
   ]
  },
  {
   "cell_type": "code",
   "execution_count": 17,
   "metadata": {},
   "outputs": [],
   "source": [
    "def print_mean_rmse(data_valid_y, data_val_predict):\n",
    "    print('Средний запас предсказанного сырья:', data_val_predict.mean())\n",
    "    print('RMSE модели:', mean_squared_error(data_valid_y, data_val_predict)**0.5)"
   ]
  },
  {
   "cell_type": "markdown",
   "metadata": {},
   "source": [
    "Для каждого из регионов построим отдельную модель и предскажем объем добычи нефти. Используем valid-выборку.  \n",
    "Предсказания сохраним в переменных `reg_0_val_predict`, `reg_1_val_predict`, `reg_2_val_predict` соответсвенно. "
   ]
  },
  {
   "cell_type": "markdown",
   "metadata": {},
   "source": [
    "**Модель для первого региона**"
   ]
  },
  {
   "cell_type": "code",
   "execution_count": 18,
   "metadata": {},
   "outputs": [
    {
     "name": "stdout",
     "output_type": "stream",
     "text": [
      "Средний запас предсказанного сырья: 92.27144852242301\n",
      "RMSE модели: 37.48100896950594\n"
     ]
    }
   ],
   "source": [
    "model_0, reg_0_val_predict = make_model(data_0_train_X, data_0_valid_X, data_0_train_y, LinearRegression())\n",
    "print_mean_rmse(data_0_valid_y, reg_0_val_predict)"
   ]
  },
  {
   "cell_type": "markdown",
   "metadata": {},
   "source": [
    "Проанализируем результат:  \n",
    "Ошибка предсказания составляет практически более трети от среднего значения. Это высокий показатель ошибки."
   ]
  },
  {
   "cell_type": "markdown",
   "metadata": {},
   "source": [
    "**Модель для второго региона**"
   ]
  },
  {
   "cell_type": "code",
   "execution_count": 19,
   "metadata": {},
   "outputs": [
    {
     "name": "stdout",
     "output_type": "stream",
     "text": [
      "Средний запас предсказанного сырья: 69.15162398290752\n",
      "RMSE модели: 0.8872573052219321\n"
     ]
    }
   ],
   "source": [
    "model_1, reg_1_val_predict = make_model(data_1_train_X, data_1_valid_X, data_1_train_y, LinearRegression())\n",
    "print_mean_rmse(data_1_valid_y, reg_1_val_predict)"
   ]
  },
  {
   "cell_type": "markdown",
   "metadata": {},
   "source": [
    "Проанализируем результаты:  \n",
    "Ошибка предсказания составляет менее 1-й тысячи баррелей. Модель для второго региона обладает высокой точностью."
   ]
  },
  {
   "cell_type": "markdown",
   "metadata": {},
   "source": [
    "**Модель для третьего региона**"
   ]
  },
  {
   "cell_type": "code",
   "execution_count": 20,
   "metadata": {},
   "outputs": [
    {
     "name": "stdout",
     "output_type": "stream",
     "text": [
      "Средний запас предсказанного сырья: 94.70753129105672\n",
      "RMSE модели: 40.31290686044374\n"
     ]
    }
   ],
   "source": [
    "model_2, reg_2_val_predict = make_model(data_2_train_X, data_2_valid_X, data_2_train_y, LinearRegression())\n",
    "print_mean_rmse(data_2_valid_y, reg_2_val_predict)"
   ]
  },
  {
   "cell_type": "markdown",
   "metadata": {},
   "source": [
    "Проанализируем результаты:  \n",
    "Ошибка предсказания составляет почти 50% от среднего предсказанного значения. Это высокий показатель ошибки."
   ]
  },
  {
   "cell_type": "markdown",
   "metadata": {},
   "source": [
    "Выведем на экран средний запас предсказанного сырья в регионе и RMSE модели для каждого из регионов."
   ]
  },
  {
   "cell_type": "code",
   "execution_count": 21,
   "metadata": {
    "scrolled": true
   },
   "outputs": [
    {
     "name": "stdout",
     "output_type": "stream",
     "text": [
      "Средний запас предсказанного сырья в регионе 0: 92.27144852242301\n",
      "RMSE модели в регионе 0: 37.48100896950594\n",
      "---------\n",
      "Средний запас предсказанного сырья в регионе 1: 69.15162398290752\n",
      "RMSE модели в регионе 1: 0.8872573052219321\n",
      "---------\n",
      "Средний запас предсказанного сырья в регионе 2: 94.70753129105672\n",
      "RMSE модели в регионе 2: 40.31290686044374\n",
      "---------\n"
     ]
    }
   ],
   "source": [
    "for i, (true_y, pred) in enumerate([(data_0_valid_y, reg_0_val_predict), \n",
    "                                    (data_1_valid_y, reg_1_val_predict),\n",
    "                                    (data_2_valid_y, reg_2_val_predict)]):\n",
    "    print(f'Средний запас предсказанного сырья в регионе {i}:', pred.mean())\n",
    "    print(f'RMSE модели в регионе {i}:', mean_squared_error(true_y, pred)**0.5)\n",
    "    print('---------')"
   ]
  },
  {
   "cell_type": "markdown",
   "metadata": {},
   "source": [
    "**Краткое резюме**"
   ]
  },
  {
   "cell_type": "markdown",
   "metadata": {},
   "source": [
    "Среднее предсказанное моделями значение находится в диапазоне 69 - 94 тыс. баррелей.  \n",
    "Корень среднеквадратичной ошибки у предсказаний модели колеблется от 0.89 до 40 тыс. баррелей.  \n",
    "Модель, построенная для региона 1 обладает достаточно высокой точностью предсказания (ошибка равно 0.89 тыс. баррелей), в то время как ошибка моделей для регионов 0 и 2 является достаточно высокой и составляет около половины от среднего предсказанного значения."
   ]
  },
  {
   "cell_type": "markdown",
   "metadata": {},
   "source": [
    "## Подготовка к расчёту прибыли"
   ]
  },
  {
   "cell_type": "markdown",
   "metadata": {},
   "source": [
    "Сохраним необходимые для расчета прибыли значения в переменных:\n",
    "- `BUDGET` - бюджет (на развитие 200-т скважин)\n",
    "- `EARN_PER_BARR` - доход с 1-го барреля\n",
    "- `NUM_TO_DEV` - количество скважин, для развития в регион\n",
    "- `budg_per_well` - бюджет на 1-у скважину. Минимальный доход, который требуется от скважины, для достижения безубытка.\n",
    "- `min_volume_per_well` - минимальный объем сырья, который должна приносить скважина для достижения безубытка"
   ]
  },
  {
   "cell_type": "code",
   "execution_count": 25,
   "metadata": {
    "scrolled": false
   },
   "outputs": [
    {
     "name": "stdout",
     "output_type": "stream",
     "text": [
      "Минимальный доход, который должна приносить скважина: 50000000.0 руб.\n",
      "Минимальный объем сырья, который должна приносить скважина: 111.111111 тыс. барр.\n"
     ]
    }
   ],
   "source": [
    "BUDGET = 10*10**9 # Бюджет (на развитие 200-т скважин)\n",
    "EARN_PER_BARR = 450 # Доход с 1-го барреля\n",
    "NUM_TO_DEV = 200 # Количество скважин, для развития в регионе\n",
    "\n",
    "budg_per_well = BUDGET / NUM_TO_DEV # Бюджет на 1-у скважину. Минимальный доход, который требуется от скважины, \n",
    "                                    # для достижения безубытка\n",
    "    \n",
    "min_volume_per_well = round((budg_per_well / EARN_PER_BARR) / 10**3, 6) # Минимальный объем сырья, который должна приносить скважина\n",
    "                                                                        # для достижения безубытка\n",
    "\n",
    "print(\"Минимальный доход, который должна приносить скважина:\", budg_per_well, 'руб.')\n",
    "print(\"Минимальный объем сырья, который должна приносить скважина:\", min_volume_per_well, \"тыс. барр.\")"
   ]
  },
  {
   "cell_type": "markdown",
   "metadata": {},
   "source": [
    "Напишем функцию для расчета прибыли по предсказанным значениям."
   ]
  },
  {
   "cell_type": "code",
   "execution_count": 27,
   "metadata": {},
   "outputs": [],
   "source": [
    "def calculate_true_profit(predicted_volume, true_volume):\n",
    "    # Если предсказанные значения не являются форматом Series, то мы приводим их в формат Series\n",
    "    # и задаем индексы из y_valid выборки\n",
    "    if not isinstance(predicted_volume, pd.core.series.Series):\n",
    "        indexes = (\n",
    "            pd.Series(predicted_volume, index=true_volume.index)\n",
    "            .sort_values(ascending=False)\n",
    "            .iloc[:200]\n",
    "            ).index\n",
    "        true_revenue = true_volume[indexes].sum() * EARN_PER_BARR * 10**3\n",
    "    \n",
    "    # Если предсказанные значения уже являются форматом Series, то мы просто считаем прибыль\n",
    "    else:\n",
    "        indexes = (\n",
    "        predicted_volume\n",
    "        .sort_values(ascending=False)\n",
    "        .iloc[:200]\n",
    "        ).index\n",
    "    true_revenue = true_volume[indexes].sum() * EARN_PER_BARR * 10**3\n",
    "    \n",
    "    true_profit = true_revenue - BUDGET\n",
    "    \n",
    "    return round(true_profit, 2)"
   ]
  },
  {
   "cell_type": "markdown",
   "metadata": {},
   "source": [
    "**Краткое резюме**"
   ]
  },
  {
   "cell_type": "markdown",
   "metadata": {},
   "source": [
    "Среднее предсказанное моделями значение находилось в диапазоне ~79 - 88 тыс.~ 69 - 94 тыс. баррелей. баррелей., при минимальном необходимом объеме в 111.11 тыс. баррелей.  \n",
    "Показатели среднего объема сырья, предсказанного моделью для каждого из регионов не удовлетворяет минимальным требованиям безубыточности."
   ]
  },
  {
   "cell_type": "markdown",
   "metadata": {},
   "source": [
    "## Расчёт прибыли и рисков "
   ]
  },
  {
   "cell_type": "markdown",
   "metadata": {},
   "source": [
    "На данном этапе мы:\n",
    "- Воспользуемся техникой Bootstrap с 1000 выборок, чтобы найти распределение прибыли.  \n",
    "- Затем, найдем среднюю прибыль, 95%-й доверительный интервал и риск убытков для каждого из регионов.\n",
    "- Выберем регион, наиболее оптимальный для развития скважин с точки зрения прибыли."
   ]
  },
  {
   "cell_type": "code",
   "execution_count": 28,
   "metadata": {},
   "outputs": [],
   "source": [
    "# Зададим показатель RandomState\n",
    "state = np.random.RandomState(0)"
   ]
  },
  {
   "cell_type": "markdown",
   "metadata": {},
   "source": [
    "Создадим функцию, которая будет возвращать список с 1000-ю значениями прибыли, полученнными в ходе техники Bootstrap"
   ]
  },
  {
   "cell_type": "code",
   "execution_count": 30,
   "metadata": {},
   "outputs": [],
   "source": [
    "def make_1000_calculations(predicted_volume, true_volume):\n",
    "    list_with_profits = []\n",
    "    predicted_volume = pd.Series(predicted_volume, index=true_volume.index)\n",
    "    \n",
    "    for i in range(1000):\n",
    "        sample = resample(predicted_volume, random_state=state, n_samples=500)\n",
    "        sample_true_profit = calculate_true_profit(sample, true_volume)\n",
    "        list_with_profits.append(sample_true_profit)\n",
    "        \n",
    "    return list_with_profits"
   ]
  },
  {
   "cell_type": "markdown",
   "metadata": {},
   "source": [
    "Зададим функцию, которая будет возвращать верхнюю и нижнюю границу 95%-го доверительного интервала."
   ]
  },
  {
   "cell_type": "code",
   "execution_count": 32,
   "metadata": {},
   "outputs": [],
   "source": [
    "def conf_int_95(array):\n",
    "    return np.quantile(array, 0.025), np.quantile(array, 0.975)"
   ]
  },
  {
   "cell_type": "markdown",
   "metadata": {},
   "source": [
    "Вычислим 1000 показателей предсказанной прибыли для каждого из регионов. Данные сохраним в списки `reg_0_profits`, `reg_1_profits`, `reg_2_profits`"
   ]
  },
  {
   "cell_type": "code",
   "execution_count": 34,
   "metadata": {},
   "outputs": [],
   "source": [
    "reg_0_profits = make_1000_calculations(reg_0_val_predict, data_0_valid_y)\n",
    "reg_1_profits = make_1000_calculations(reg_1_val_predict, data_1_valid_y)\n",
    "reg_2_profits = make_1000_calculations(reg_2_val_predict, data_2_valid_y)"
   ]
  },
  {
   "cell_type": "markdown",
   "metadata": {},
   "source": [
    "Для вычисления риска используем функцию `stats.percentileofscore(array, number, kind='strict')`, где:\n",
    "- `array` - массив чисел\n",
    "- `number` - число. Мы хотим узнать, какой процент значений лежит ниже данного числа  \n",
    "\n",
    "Данная функция возвращает, какая доля от общего количества значений лежит ниже выбранного числа.  \n",
    "В нашем случае, выбранное число - это 0. Мы хотим узнать, какой процент значений ниже нуля присутсвует в нашем списке прибылей.   \n",
    "Таким образом, мы можем найти, в каком проценте случаев мы можем получить отрицательную прибыль."
   ]
  },
  {
   "cell_type": "markdown",
   "metadata": {},
   "source": [
    " Найдем среднюю прибыль, 95%-й доверительный интервал и риск убытков. Убыток — это отрицательная прибыль.  \n",
    " Результаты сохраним в таблицу `region_table`"
   ]
  },
  {
   "cell_type": "code",
   "execution_count": 35,
   "metadata": {
    "scrolled": true
   },
   "outputs": [
    {
     "data": {
      "text/html": [
       "<div>\n",
       "<style scoped>\n",
       "    .dataframe tbody tr th:only-of-type {\n",
       "        vertical-align: middle;\n",
       "    }\n",
       "\n",
       "    .dataframe tbody tr th {\n",
       "        vertical-align: top;\n",
       "    }\n",
       "\n",
       "    .dataframe thead th {\n",
       "        text-align: right;\n",
       "    }\n",
       "</style>\n",
       "<table border=\"1\" class=\"dataframe\">\n",
       "  <thead>\n",
       "    <tr style=\"text-align: right;\">\n",
       "      <th></th>\n",
       "      <th>mean_profit</th>\n",
       "      <th>conf_interval_95_min</th>\n",
       "      <th>conf_interval_95_max</th>\n",
       "      <th>risk_%</th>\n",
       "    </tr>\n",
       "  </thead>\n",
       "  <tbody>\n",
       "    <tr>\n",
       "      <td>region_0</td>\n",
       "      <td>4.428718e+08</td>\n",
       "      <td>-4.923499e+07</td>\n",
       "      <td>9.211347e+08</td>\n",
       "      <td>3.9</td>\n",
       "    </tr>\n",
       "    <tr>\n",
       "      <td>region_1</td>\n",
       "      <td>4.695379e+08</td>\n",
       "      <td>8.517891e+07</td>\n",
       "      <td>8.508946e+08</td>\n",
       "      <td>0.8</td>\n",
       "    </tr>\n",
       "    <tr>\n",
       "      <td>region_2</td>\n",
       "      <td>3.844244e+08</td>\n",
       "      <td>-1.510246e+08</td>\n",
       "      <td>9.167979e+08</td>\n",
       "      <td>6.9</td>\n",
       "    </tr>\n",
       "  </tbody>\n",
       "</table>\n",
       "</div>"
      ],
      "text/plain": [
       "           mean_profit  conf_interval_95_min  conf_interval_95_max  risk_%\n",
       "region_0  4.428718e+08         -4.923499e+07          9.211347e+08     3.9\n",
       "region_1  4.695379e+08          8.517891e+07          8.508946e+08     0.8\n",
       "region_2  3.844244e+08         -1.510246e+08          9.167979e+08     6.9"
      ]
     },
     "execution_count": 35,
     "metadata": {},
     "output_type": "execute_result"
    }
   ],
   "source": [
    "region_table = pd.DataFrame({'mean_profit': [np.mean(reg_0_profits), \n",
    "                                             np.mean(reg_1_profits), \n",
    "                                             np.mean(reg_2_profits)], \n",
    "                             'conf_interval_95_min': [conf_int_95(reg_0_profits)[0], \n",
    "                                                      conf_int_95(reg_1_profits)[0], \n",
    "                                                      conf_int_95(reg_2_profits)[0]], \n",
    "                             'conf_interval_95_max': [conf_int_95(reg_0_profits)[1], \n",
    "                                                      conf_int_95(reg_1_profits)[1], \n",
    "                                                      conf_int_95(reg_2_profits)[1]], \n",
    "                             'risk_%': [st.percentileofscore(reg_0_profits, 0, kind='strict'), \n",
    "                                        st.percentileofscore(reg_1_profits, 0, kind='strict'), \n",
    "                                        st.percentileofscore(reg_2_profits, 0, kind='strict')]\n",
    "                            }, \n",
    "                            index=['region_0', 'region_1', 'region_2']\n",
    "                           )\n",
    "\n",
    "region_table"
   ]
  },
  {
   "cell_type": "markdown",
   "metadata": {},
   "source": [
    "После оценки рисков нам необходимо оставить лишь те регионы, в которых вероятность убытков меньше 2.5%  "
   ]
  },
  {
   "cell_type": "code",
   "execution_count": 47,
   "metadata": {},
   "outputs": [
    {
     "data": {
      "text/html": [
       "<div>\n",
       "<style scoped>\n",
       "    .dataframe tbody tr th:only-of-type {\n",
       "        vertical-align: middle;\n",
       "    }\n",
       "\n",
       "    .dataframe tbody tr th {\n",
       "        vertical-align: top;\n",
       "    }\n",
       "\n",
       "    .dataframe thead th {\n",
       "        text-align: right;\n",
       "    }\n",
       "</style>\n",
       "<table border=\"1\" class=\"dataframe\">\n",
       "  <thead>\n",
       "    <tr style=\"text-align: right;\">\n",
       "      <th></th>\n",
       "      <th>mean_profit</th>\n",
       "      <th>conf_interval_95_min</th>\n",
       "      <th>conf_interval_95_max</th>\n",
       "      <th>risk_%</th>\n",
       "    </tr>\n",
       "  </thead>\n",
       "  <tbody>\n",
       "    <tr>\n",
       "      <td>region_1</td>\n",
       "      <td>4.695379e+08</td>\n",
       "      <td>8.517891e+07</td>\n",
       "      <td>8.508946e+08</td>\n",
       "      <td>0.8</td>\n",
       "    </tr>\n",
       "  </tbody>\n",
       "</table>\n",
       "</div>"
      ],
      "text/plain": [
       "           mean_profit  conf_interval_95_min  conf_interval_95_max  risk_%\n",
       "region_1  4.695379e+08          8.517891e+07          8.508946e+08     0.8"
      ]
     },
     "execution_count": 47,
     "metadata": {},
     "output_type": "execute_result"
    }
   ],
   "source": [
    "chosen_regions = region_table[region_table['risk_%'] <= 2.5]\n",
    "\n",
    "chosen_regions"
   ]
  },
  {
   "cell_type": "markdown",
   "metadata": {},
   "source": [
    "**Краткое резюме**"
   ]
  },
  {
   "cell_type": "markdown",
   "metadata": {},
   "source": [
    "Единственный регион, в котором риск получить отрицательную прибыль менее 2.5% - Регион 1. Средняя прибыль, которую мы бы получили в данном регионе, если бы воспользовались предсказаниями модели, составила бы 470 млн. р., при этом наша реальная прибыль с 95% вероятностью находилась бы в диапазоне от 85 млн. р. до 850 млн. р."
   ]
  },
  {
   "cell_type": "markdown",
   "metadata": {},
   "source": [
    "## Итог"
   ]
  },
  {
   "cell_type": "markdown",
   "metadata": {},
   "source": [
    "В ходе работы были проделаны следующие шаги:\n",
    "1. Были изучены данные о месторожддениях в 3-х регионах\n",
    "2. Данные были разделены на train и valid выборки.\n",
    "3. Для каждого региона была обучена модель линейной регресии\n",
    "4. Для каждого региона было сделано предсказание объема выработки скважин на основании valid-выборки, соответсвующей данному региону. Были получены следующие результаты:\n",
    "\n",
    "|   |Средний запас предсказанного сырья, тыс. барр | RMSE модели | \n",
    "|---|-----------------------------------|-------------|\n",
    "|Регион 0|92.27|37.48|\n",
    "|Регион 1|69.15 |0.89 |\n",
    "|Регион 2|94.71 |40.31 |\n",
    "\n",
    "\n",
    "5. При помощи техники Bootstrap с 1000 выборок, было найдено распределение прибыли для каждого региона, на основании предсказанного моделью объема добычи. Распределение было сгенерировано следующим образом:\n",
    "- Случайным образом отбирались 500 месторождений, из которых при помощи модели выбирались 200 лучших. \n",
    "- Для этих 200-т месторождений расчитывалась суммарная прибыль, взятая из соответсвующих строк valid-выборки. \n",
    "- Данная процедура повторялась 1000 раз.\n",
    "\n",
    "6. Была найдена средняя прибыль, 95%-й доверительный интервал и риск убытков для каждого из регионов. Были получены следующие результаты:  \n",
    "\n",
    "|   | mean_profit |\tconf_interval_95_min\t|\tconf_interval_95_max |\trisk|\n",
    "|--|-------------|-------------------------|------------------------|---------|\n",
    "|region_0 |\t4.428718e+08 \t|-4.923499e+07 |\t9.211347e+08 \t|3.9\n",
    "|region_1 |\t4.695379e+08 \t|8.517891e+07 |\t8.508946e+08 |\t0.8\n",
    "|region_2 |\t3.844244e+08 \t|-1.510246e+08 |\t9.167979e+08 \t|6.9\n",
    "\n",
    "\n",
    "\n",
    "7. Среди 3-х регионов, юыли отобраны те, у которых риск убытка составляет менее 2.5%. Вот их список:\n",
    "\n",
    "|   | mean_profit |\tconf_interval_95_min\t|\tconf_interval_95_max |\trisk|\n",
    "|--|-------------|-------------------------|------------------------|---------|\n",
    "|region_1 |\t469.5 млн. р. \t|85 млн.р. |\t850.8 млн.р |\t0.8\n",
    "\n",
    "\n",
    "**Резюме**  \n",
    "Таким образом, на основании предсказанных моделью значений и на основании проведенного статистического анализа предсказаний, рекомендуется вести разработку скважин в Регионе 1.   \n",
    "Средняя прибыль, которую можно получить в данном регионе составляет 469.5млн. р., при этом с 95%-й вероятностью действительная прибыль будет лежать в диапазоне от 85 млн.р. до 850.8 млн. р. Риск получить убыток в данном регионе составляет 0.8%"
   ]
  }
 ],
 "metadata": {
  "ExecuteTimeLog": [
   {
    "duration": 579,
    "start_time": "2021-12-13T14:00:28.255Z"
   },
   {
    "duration": 5,
    "start_time": "2021-12-13T14:02:24.369Z"
   },
   {
    "duration": 4,
    "start_time": "2021-12-13T14:02:47.109Z"
   },
   {
    "duration": 1297,
    "start_time": "2021-12-13T14:03:59.718Z"
   },
   {
    "duration": 555,
    "start_time": "2021-12-13T14:05:30.668Z"
   },
   {
    "duration": 604,
    "start_time": "2021-12-13T14:06:44.111Z"
   },
   {
    "duration": 493,
    "start_time": "2021-12-13T14:06:47.646Z"
   },
   {
    "duration": 61,
    "start_time": "2021-12-13T14:06:49.373Z"
   },
   {
    "duration": 128,
    "start_time": "2021-12-13T14:07:55.217Z"
   },
   {
    "duration": 54,
    "start_time": "2021-12-13T14:07:58.550Z"
   },
   {
    "duration": 734,
    "start_time": "2021-12-13T14:10:32.091Z"
   },
   {
    "duration": 273,
    "start_time": "2021-12-13T14:10:36.975Z"
   },
   {
    "duration": 272,
    "start_time": "2021-12-13T14:10:54.643Z"
   },
   {
    "duration": 266,
    "start_time": "2021-12-13T14:10:58.078Z"
   },
   {
    "duration": 309,
    "start_time": "2021-12-13T14:11:09.052Z"
   },
   {
    "duration": 59,
    "start_time": "2021-12-13T14:13:07.401Z"
   },
   {
    "duration": 146,
    "start_time": "2021-12-13T14:13:57.346Z"
   },
   {
    "duration": 112,
    "start_time": "2021-12-13T14:15:06.015Z"
   },
   {
    "duration": 2889,
    "start_time": "2021-12-13T14:15:18.510Z"
   },
   {
    "duration": 103,
    "start_time": "2021-12-13T14:15:26.622Z"
   },
   {
    "duration": 2558,
    "start_time": "2021-12-13T14:15:31.256Z"
   },
   {
    "duration": 1572,
    "start_time": "2021-12-13T14:16:10.472Z"
   },
   {
    "duration": 1837,
    "start_time": "2021-12-13T14:16:24.953Z"
   },
   {
    "duration": 93,
    "start_time": "2021-12-13T14:16:46.522Z"
   },
   {
    "duration": 2561,
    "start_time": "2021-12-13T14:17:14.533Z"
   },
   {
    "duration": 2647,
    "start_time": "2021-12-13T14:17:27.226Z"
   },
   {
    "duration": 1252,
    "start_time": "2021-12-13T14:19:51.250Z"
   },
   {
    "duration": 38,
    "start_time": "2021-12-13T14:23:06.869Z"
   },
   {
    "duration": 18,
    "start_time": "2021-12-13T14:23:30.810Z"
   },
   {
    "duration": 45,
    "start_time": "2021-12-13T14:25:14.771Z"
   },
   {
    "duration": 282,
    "start_time": "2021-12-13T14:25:17.435Z"
   },
   {
    "duration": 17,
    "start_time": "2021-12-13T14:25:23.396Z"
   },
   {
    "duration": 18,
    "start_time": "2021-12-13T14:25:32.356Z"
   },
   {
    "duration": 4,
    "start_time": "2021-12-13T14:26:02.854Z"
   },
   {
    "duration": 499,
    "start_time": "2021-12-13T14:26:02.861Z"
   },
   {
    "duration": 43,
    "start_time": "2021-12-13T14:26:03.363Z"
   },
   {
    "duration": 86,
    "start_time": "2021-12-13T14:26:03.409Z"
   },
   {
    "duration": 186,
    "start_time": "2021-12-13T14:26:03.498Z"
   },
   {
    "duration": 2953,
    "start_time": "2021-12-13T14:26:03.687Z"
   },
   {
    "duration": 26,
    "start_time": "2021-12-13T14:26:06.643Z"
   },
   {
    "duration": 46,
    "start_time": "2021-12-13T14:26:27.512Z"
   },
   {
    "duration": 20,
    "start_time": "2021-12-13T14:26:30.724Z"
   },
   {
    "duration": 15,
    "start_time": "2021-12-13T14:26:35.253Z"
   },
   {
    "duration": 17,
    "start_time": "2021-12-13T14:26:37.968Z"
   },
   {
    "duration": 471,
    "start_time": "2021-12-13T14:29:48.699Z"
   },
   {
    "duration": 489,
    "start_time": "2021-12-13T14:30:38.860Z"
   },
   {
    "duration": 5,
    "start_time": "2021-12-13T14:30:54.924Z"
   },
   {
    "duration": 691,
    "start_time": "2021-12-13T14:30:54.977Z"
   },
   {
    "duration": 96,
    "start_time": "2021-12-13T14:30:55.671Z"
   },
   {
    "duration": 53,
    "start_time": "2021-12-13T14:30:55.771Z"
   },
   {
    "duration": 209,
    "start_time": "2021-12-13T14:30:55.828Z"
   },
   {
    "duration": 2895,
    "start_time": "2021-12-13T14:30:56.039Z"
   },
   {
    "duration": 56,
    "start_time": "2021-12-13T14:30:58.936Z"
   },
   {
    "duration": 20,
    "start_time": "2021-12-13T14:39:01.353Z"
   },
   {
    "duration": 3,
    "start_time": "2021-12-13T14:42:23.069Z"
   },
   {
    "duration": 1125,
    "start_time": "2021-12-14T07:51:41.055Z"
   },
   {
    "duration": 357,
    "start_time": "2021-12-14T07:51:42.182Z"
   },
   {
    "duration": 36,
    "start_time": "2021-12-14T07:51:42.541Z"
   },
   {
    "duration": 30,
    "start_time": "2021-12-14T07:51:42.579Z"
   },
   {
    "duration": 133,
    "start_time": "2021-12-14T07:51:42.611Z"
   },
   {
    "duration": 2412,
    "start_time": "2021-12-14T07:51:42.746Z"
   },
   {
    "duration": 47,
    "start_time": "2021-12-14T07:51:45.163Z"
   },
   {
    "duration": 23,
    "start_time": "2021-12-14T07:51:45.213Z"
   },
   {
    "duration": 25,
    "start_time": "2021-12-14T07:51:45.239Z"
   },
   {
    "duration": 3,
    "start_time": "2021-12-14T08:05:04.255Z"
   },
   {
    "duration": 18,
    "start_time": "2021-12-14T08:05:39.270Z"
   },
   {
    "duration": 14,
    "start_time": "2021-12-14T08:05:44.156Z"
   },
   {
    "duration": 4,
    "start_time": "2021-12-14T08:05:51.835Z"
   },
   {
    "duration": 4,
    "start_time": "2021-12-14T08:05:56.515Z"
   },
   {
    "duration": 5,
    "start_time": "2021-12-14T08:06:05.244Z"
   },
   {
    "duration": 3,
    "start_time": "2021-12-14T08:06:32.171Z"
   },
   {
    "duration": 540,
    "start_time": "2021-12-14T08:09:27.559Z"
   },
   {
    "duration": 276,
    "start_time": "2021-12-14T08:09:55.948Z"
   },
   {
    "duration": 3859,
    "start_time": "2021-12-14T08:10:22.497Z"
   },
   {
    "duration": 2379,
    "start_time": "2021-12-14T08:10:34.060Z"
   },
   {
    "duration": 1152,
    "start_time": "2021-12-14T08:10:36.441Z"
   },
   {
    "duration": 376,
    "start_time": "2021-12-14T08:10:37.595Z"
   },
   {
    "duration": 34,
    "start_time": "2021-12-14T08:10:37.972Z"
   },
   {
    "duration": 57,
    "start_time": "2021-12-14T08:10:38.007Z"
   },
   {
    "duration": 122,
    "start_time": "2021-12-14T08:10:38.066Z"
   },
   {
    "duration": 1375,
    "start_time": "2021-12-14T08:10:38.190Z"
   },
   {
    "duration": 35,
    "start_time": "2021-12-14T08:10:39.567Z"
   },
   {
    "duration": 18,
    "start_time": "2021-12-14T08:10:39.605Z"
   },
   {
    "duration": 40,
    "start_time": "2021-12-14T08:10:39.625Z"
   },
   {
    "duration": 5,
    "start_time": "2021-12-14T08:10:39.667Z"
   },
   {
    "duration": 517,
    "start_time": "2021-12-14T08:10:39.674Z"
   },
   {
    "duration": 253,
    "start_time": "2021-12-14T08:11:10.062Z"
   },
   {
    "duration": 2392,
    "start_time": "2021-12-14T08:12:45.367Z"
   },
   {
    "duration": 11602,
    "start_time": "2021-12-14T08:14:20.560Z"
   },
   {
    "duration": 250,
    "start_time": "2021-12-14T08:15:01.038Z"
   },
   {
    "duration": 3,
    "start_time": "2021-12-14T08:15:04.358Z"
   },
   {
    "duration": 260,
    "start_time": "2021-12-14T08:15:06.285Z"
   },
   {
    "duration": 1648,
    "start_time": "2021-12-14T08:20:32.047Z"
   },
   {
    "duration": 6076,
    "start_time": "2021-12-14T08:21:03.559Z"
   },
   {
    "duration": 2621,
    "start_time": "2021-12-14T08:21:19.113Z"
   },
   {
    "duration": 1153,
    "start_time": "2021-12-14T08:21:21.736Z"
   },
   {
    "duration": 375,
    "start_time": "2021-12-14T08:21:22.891Z"
   },
   {
    "duration": 38,
    "start_time": "2021-12-14T08:21:23.268Z"
   },
   {
    "duration": 68,
    "start_time": "2021-12-14T08:21:23.308Z"
   },
   {
    "duration": 138,
    "start_time": "2021-12-14T08:21:23.378Z"
   },
   {
    "duration": 1619,
    "start_time": "2021-12-14T08:21:23.517Z"
   },
   {
    "duration": 50,
    "start_time": "2021-12-14T08:21:25.138Z"
   },
   {
    "duration": 17,
    "start_time": "2021-12-14T08:21:25.190Z"
   },
   {
    "duration": 14,
    "start_time": "2021-12-14T08:21:25.209Z"
   },
   {
    "duration": 38,
    "start_time": "2021-12-14T08:21:25.225Z"
   },
   {
    "duration": 101,
    "start_time": "2021-12-14T08:21:25.267Z"
   },
   {
    "duration": 6,
    "start_time": "2021-12-14T08:44:48.986Z"
   },
   {
    "duration": 5,
    "start_time": "2021-12-14T08:44:59.152Z"
   },
   {
    "duration": 14,
    "start_time": "2021-12-14T08:46:01.549Z"
   },
   {
    "duration": 9,
    "start_time": "2021-12-14T08:48:20.964Z"
   },
   {
    "duration": 13,
    "start_time": "2021-12-14T08:48:28.515Z"
   },
   {
    "duration": 89,
    "start_time": "2021-12-14T08:48:37.843Z"
   },
   {
    "duration": 11,
    "start_time": "2021-12-14T08:48:41.074Z"
   },
   {
    "duration": 12,
    "start_time": "2021-12-14T08:48:44.203Z"
   },
   {
    "duration": 332,
    "start_time": "2021-12-14T08:49:04.617Z"
   },
   {
    "duration": 275,
    "start_time": "2021-12-14T08:49:09.905Z"
   },
   {
    "duration": 12,
    "start_time": "2021-12-14T08:49:34.431Z"
   },
   {
    "duration": 12,
    "start_time": "2021-12-14T08:51:15.400Z"
   },
   {
    "duration": 12,
    "start_time": "2021-12-14T08:51:16.216Z"
   },
   {
    "duration": 6,
    "start_time": "2021-12-14T08:51:17.025Z"
   },
   {
    "duration": 13,
    "start_time": "2021-12-14T08:51:34.750Z"
   },
   {
    "duration": 7,
    "start_time": "2021-12-14T08:51:37.126Z"
   },
   {
    "duration": 6,
    "start_time": "2021-12-14T08:51:38.444Z"
   },
   {
    "duration": 244,
    "start_time": "2021-12-14T08:51:54.653Z"
   },
   {
    "duration": 11,
    "start_time": "2021-12-14T08:51:58.031Z"
   },
   {
    "duration": 14,
    "start_time": "2021-12-14T08:51:58.981Z"
   },
   {
    "duration": 5,
    "start_time": "2021-12-14T08:51:59.911Z"
   },
   {
    "duration": 4,
    "start_time": "2021-12-14T08:53:32.992Z"
   },
   {
    "duration": 277,
    "start_time": "2021-12-14T08:58:24.788Z"
   },
   {
    "duration": 2028,
    "start_time": "2021-12-14T08:58:39.636Z"
   },
   {
    "duration": 2422,
    "start_time": "2021-12-14T08:59:08.242Z"
   },
   {
    "duration": 247,
    "start_time": "2021-12-14T09:05:37.105Z"
   },
   {
    "duration": 300,
    "start_time": "2021-12-14T09:05:45.065Z"
   },
   {
    "duration": 166,
    "start_time": "2021-12-14T09:05:54.791Z"
   },
   {
    "duration": 177,
    "start_time": "2021-12-14T09:05:58.487Z"
   },
   {
    "duration": 6,
    "start_time": "2021-12-14T09:06:27.437Z"
   },
   {
    "duration": 180,
    "start_time": "2021-12-14T09:06:38.669Z"
   },
   {
    "duration": 175,
    "start_time": "2021-12-14T09:06:43.176Z"
   },
   {
    "duration": 4,
    "start_time": "2021-12-14T09:21:00.902Z"
   },
   {
    "duration": 3,
    "start_time": "2021-12-14T09:22:59.421Z"
   },
   {
    "duration": 65,
    "start_time": "2021-12-14T09:23:03.701Z"
   },
   {
    "duration": 5,
    "start_time": "2021-12-14T09:23:29.290Z"
   },
   {
    "duration": 36,
    "start_time": "2021-12-14T09:35:36.242Z"
   },
   {
    "duration": 4,
    "start_time": "2021-12-14T09:37:52.706Z"
   },
   {
    "duration": 4,
    "start_time": "2021-12-14T09:37:56.601Z"
   },
   {
    "duration": 33,
    "start_time": "2021-12-14T09:37:58.000Z"
   },
   {
    "duration": 6,
    "start_time": "2021-12-14T09:37:58.698Z"
   },
   {
    "duration": 29,
    "start_time": "2021-12-14T09:38:41.015Z"
   },
   {
    "duration": 6,
    "start_time": "2021-12-14T09:38:44.158Z"
   },
   {
    "duration": 25,
    "start_time": "2021-12-14T09:38:56.725Z"
   },
   {
    "duration": 5,
    "start_time": "2021-12-14T09:38:57.045Z"
   },
   {
    "duration": 28,
    "start_time": "2021-12-14T09:39:03.245Z"
   },
   {
    "duration": 5,
    "start_time": "2021-12-14T09:39:03.629Z"
   },
   {
    "duration": 66,
    "start_time": "2021-12-14T09:40:19.896Z"
   },
   {
    "duration": 5,
    "start_time": "2021-12-14T09:40:20.623Z"
   },
   {
    "duration": 71,
    "start_time": "2021-12-14T10:07:53.091Z"
   },
   {
    "duration": 6,
    "start_time": "2021-12-14T10:07:53.795Z"
   },
   {
    "duration": 33,
    "start_time": "2021-12-14T10:08:19.585Z"
   },
   {
    "duration": 6,
    "start_time": "2021-12-14T10:08:20.034Z"
   },
   {
    "duration": 33,
    "start_time": "2021-12-14T10:10:51.751Z"
   },
   {
    "duration": 6,
    "start_time": "2021-12-14T10:10:52.264Z"
   },
   {
    "duration": 25,
    "start_time": "2021-12-14T10:16:43.745Z"
   },
   {
    "duration": 21,
    "start_time": "2021-12-14T10:17:08.727Z"
   },
   {
    "duration": 13,
    "start_time": "2021-12-14T10:17:19.648Z"
   },
   {
    "duration": 11,
    "start_time": "2021-12-14T10:18:17.515Z"
   },
   {
    "duration": 175,
    "start_time": "2021-12-14T10:18:25.890Z"
   },
   {
    "duration": 71,
    "start_time": "2021-12-14T10:18:47.896Z"
   },
   {
    "duration": 6,
    "start_time": "2021-12-14T10:18:48.227Z"
   },
   {
    "duration": 11,
    "start_time": "2021-12-14T10:32:39.357Z"
   },
   {
    "duration": 6,
    "start_time": "2021-12-14T10:35:48.437Z"
   },
   {
    "duration": 11,
    "start_time": "2021-12-14T10:46:17.984Z"
   },
   {
    "duration": 6,
    "start_time": "2021-12-14T10:47:21.969Z"
   },
   {
    "duration": 7,
    "start_time": "2021-12-14T10:47:33.241Z"
   },
   {
    "duration": 28,
    "start_time": "2021-12-14T10:51:47.840Z"
   },
   {
    "duration": 8,
    "start_time": "2021-12-14T10:52:56.900Z"
   },
   {
    "duration": 58,
    "start_time": "2021-12-14T10:52:57.395Z"
   },
   {
    "duration": 8,
    "start_time": "2021-12-14T10:52:57.779Z"
   },
   {
    "duration": 92,
    "start_time": "2021-12-14T10:56:40.878Z"
   },
   {
    "duration": 7,
    "start_time": "2021-12-14T10:56:41.814Z"
   },
   {
    "duration": 283,
    "start_time": "2021-12-14T11:07:32.285Z"
   },
   {
    "duration": 262,
    "start_time": "2021-12-14T11:07:33.660Z"
   },
   {
    "duration": 3,
    "start_time": "2021-12-14T11:07:39.755Z"
   },
   {
    "duration": 40,
    "start_time": "2021-12-14T11:07:39.760Z"
   },
   {
    "duration": 15,
    "start_time": "2021-12-14T11:07:40.652Z"
   },
   {
    "duration": 10,
    "start_time": "2021-12-14T11:08:24.715Z"
   },
   {
    "duration": 9,
    "start_time": "2021-12-14T11:10:21.337Z"
   },
   {
    "duration": 22,
    "start_time": "2021-12-14T11:10:33.167Z"
   },
   {
    "duration": 172,
    "start_time": "2021-12-14T11:12:57.897Z"
   },
   {
    "duration": 13,
    "start_time": "2021-12-14T11:12:58.703Z"
   },
   {
    "duration": 7,
    "start_time": "2021-12-14T11:13:35.309Z"
   },
   {
    "duration": 85,
    "start_time": "2021-12-14T11:17:13.670Z"
   },
   {
    "duration": 10,
    "start_time": "2021-12-14T11:17:19.870Z"
   },
   {
    "duration": 87,
    "start_time": "2021-12-14T11:21:53.637Z"
   },
   {
    "duration": 396,
    "start_time": "2021-12-14T11:21:58.700Z"
   },
   {
    "duration": 9,
    "start_time": "2021-12-14T11:22:07.230Z"
   },
   {
    "duration": 4,
    "start_time": "2021-12-14T11:22:32.124Z"
   },
   {
    "duration": 8,
    "start_time": "2021-12-14T11:23:52.101Z"
   },
   {
    "duration": 9,
    "start_time": "2021-12-14T11:24:23.898Z"
   },
   {
    "duration": 4,
    "start_time": "2021-12-14T11:29:37.447Z"
   },
   {
    "duration": 4,
    "start_time": "2021-12-14T11:29:45.976Z"
   },
   {
    "duration": 4,
    "start_time": "2021-12-14T11:30:06.031Z"
   },
   {
    "duration": 4,
    "start_time": "2021-12-14T11:30:11.812Z"
   },
   {
    "duration": 4,
    "start_time": "2021-12-14T11:31:00.683Z"
   },
   {
    "duration": 4,
    "start_time": "2021-12-14T11:31:06.395Z"
   },
   {
    "duration": 4,
    "start_time": "2021-12-14T11:31:23.040Z"
   },
   {
    "duration": 2,
    "start_time": "2021-12-14T11:32:30.956Z"
   },
   {
    "duration": 3,
    "start_time": "2021-12-14T11:34:05.948Z"
   },
   {
    "duration": 589,
    "start_time": "2021-12-14T11:41:00.601Z"
   },
   {
    "duration": 498,
    "start_time": "2021-12-14T11:41:04.656Z"
   },
   {
    "duration": 8942,
    "start_time": "2021-12-14T16:10:50.486Z"
   },
   {
    "duration": 1201,
    "start_time": "2021-12-14T16:10:59.430Z"
   },
   {
    "duration": 440,
    "start_time": "2021-12-14T16:11:00.633Z"
   },
   {
    "duration": 46,
    "start_time": "2021-12-14T16:11:01.075Z"
   },
   {
    "duration": 65,
    "start_time": "2021-12-14T16:11:01.122Z"
   },
   {
    "duration": 131,
    "start_time": "2021-12-14T16:11:01.189Z"
   },
   {
    "duration": 1557,
    "start_time": "2021-12-14T16:11:01.322Z"
   },
   {
    "duration": 36,
    "start_time": "2021-12-14T16:11:02.882Z"
   },
   {
    "duration": 53,
    "start_time": "2021-12-14T16:11:02.921Z"
   },
   {
    "duration": 17,
    "start_time": "2021-12-14T16:11:02.975Z"
   },
   {
    "duration": 19,
    "start_time": "2021-12-14T16:11:02.994Z"
   },
   {
    "duration": 569,
    "start_time": "2021-12-14T16:11:03.014Z"
   },
   {
    "duration": 2,
    "start_time": "2021-12-14T16:11:03.585Z"
   },
   {
    "duration": 55,
    "start_time": "2021-12-14T16:11:03.589Z"
   },
   {
    "duration": 12,
    "start_time": "2021-12-14T16:11:03.646Z"
   },
   {
    "duration": 22,
    "start_time": "2021-12-14T16:11:03.660Z"
   },
   {
    "duration": 162,
    "start_time": "2021-12-14T16:11:03.684Z"
   },
   {
    "duration": 98,
    "start_time": "2021-12-14T16:11:03.848Z"
   },
   {
    "duration": 93,
    "start_time": "2021-12-14T16:11:03.954Z"
   },
   {
    "duration": 2,
    "start_time": "2021-12-14T16:11:04.049Z"
   },
   {
    "duration": 5,
    "start_time": "2021-12-14T16:11:04.053Z"
   },
   {
    "duration": 5,
    "start_time": "2021-12-14T16:11:04.059Z"
   },
   {
    "duration": 6,
    "start_time": "2021-12-14T16:11:04.067Z"
   },
   {
    "duration": 5,
    "start_time": "2021-12-14T16:11:04.074Z"
   },
   {
    "duration": 5,
    "start_time": "2021-12-14T16:11:04.081Z"
   },
   {
    "duration": 4,
    "start_time": "2021-12-14T16:11:04.088Z"
   },
   {
    "duration": 3,
    "start_time": "2021-12-14T16:11:04.094Z"
   },
   {
    "duration": 4,
    "start_time": "2021-12-14T16:11:04.099Z"
   },
   {
    "duration": 4,
    "start_time": "2021-12-14T16:11:04.105Z"
   },
   {
    "duration": 4,
    "start_time": "2021-12-14T16:56:47.891Z"
   },
   {
    "duration": 4,
    "start_time": "2021-12-14T17:07:30.937Z"
   },
   {
    "duration": 5,
    "start_time": "2021-12-14T17:07:52.433Z"
   },
   {
    "duration": 5,
    "start_time": "2021-12-14T17:08:52.573Z"
   },
   {
    "duration": 5,
    "start_time": "2021-12-14T17:09:43.620Z"
   },
   {
    "duration": 351,
    "start_time": "2021-12-14T17:09:53.066Z"
   },
   {
    "duration": 5,
    "start_time": "2021-12-14T17:10:39.062Z"
   },
   {
    "duration": 4,
    "start_time": "2021-12-14T17:10:48.391Z"
   },
   {
    "duration": 4,
    "start_time": "2021-12-14T17:11:28.218Z"
   },
   {
    "duration": 4,
    "start_time": "2021-12-14T17:11:33.035Z"
   },
   {
    "duration": 6,
    "start_time": "2021-12-14T17:12:33.325Z"
   },
   {
    "duration": 4,
    "start_time": "2021-12-14T17:13:19.914Z"
   },
   {
    "duration": 4,
    "start_time": "2021-12-14T17:13:32.402Z"
   },
   {
    "duration": 4,
    "start_time": "2021-12-14T17:14:12.678Z"
   },
   {
    "duration": 5,
    "start_time": "2021-12-14T17:15:16.605Z"
   },
   {
    "duration": 5,
    "start_time": "2021-12-14T17:15:17.066Z"
   },
   {
    "duration": 4,
    "start_time": "2021-12-14T17:16:01.016Z"
   },
   {
    "duration": 4,
    "start_time": "2021-12-14T17:21:23.211Z"
   },
   {
    "duration": 3,
    "start_time": "2021-12-14T17:22:14.649Z"
   },
   {
    "duration": 4,
    "start_time": "2021-12-14T17:22:35.711Z"
   },
   {
    "duration": 4,
    "start_time": "2021-12-14T17:29:58.090Z"
   },
   {
    "duration": 5,
    "start_time": "2021-12-14T17:30:43.287Z"
   },
   {
    "duration": 12,
    "start_time": "2021-12-14T17:30:52.055Z"
   },
   {
    "duration": 10,
    "start_time": "2021-12-14T17:31:14.081Z"
   },
   {
    "duration": 11,
    "start_time": "2021-12-14T17:31:21.135Z"
   },
   {
    "duration": 9,
    "start_time": "2021-12-14T17:31:26.255Z"
   },
   {
    "duration": 312,
    "start_time": "2021-12-14T17:31:32.188Z"
   },
   {
    "duration": 8,
    "start_time": "2021-12-14T17:31:37.047Z"
   },
   {
    "duration": 9,
    "start_time": "2021-12-14T17:31:48.423Z"
   },
   {
    "duration": 83,
    "start_time": "2021-12-14T17:34:03.906Z"
   },
   {
    "duration": 3,
    "start_time": "2021-12-14T17:34:08.658Z"
   },
   {
    "duration": 3,
    "start_time": "2021-12-14T17:35:11.893Z"
   },
   {
    "duration": 8,
    "start_time": "2021-12-14T17:35:24.709Z"
   },
   {
    "duration": 3,
    "start_time": "2021-12-14T17:35:43.436Z"
   },
   {
    "duration": 7,
    "start_time": "2021-12-14T17:35:43.638Z"
   },
   {
    "duration": 8,
    "start_time": "2021-12-14T17:36:49.333Z"
   },
   {
    "duration": 7,
    "start_time": "2021-12-14T17:51:21.694Z"
   },
   {
    "duration": 9,
    "start_time": "2021-12-14T17:51:25.468Z"
   },
   {
    "duration": 4,
    "start_time": "2021-12-14T17:51:40.485Z"
   },
   {
    "duration": 3,
    "start_time": "2021-12-14T17:53:13.896Z"
   },
   {
    "duration": 4,
    "start_time": "2021-12-14T17:53:48.406Z"
   },
   {
    "duration": 18,
    "start_time": "2021-12-14T17:53:58.540Z"
   },
   {
    "duration": 4,
    "start_time": "2021-12-14T17:54:39.233Z"
   },
   {
    "duration": 4,
    "start_time": "2021-12-14T17:54:40.624Z"
   },
   {
    "duration": 8,
    "start_time": "2021-12-14T17:54:40.999Z"
   },
   {
    "duration": 9,
    "start_time": "2021-12-14T17:54:45.400Z"
   },
   {
    "duration": 8,
    "start_time": "2021-12-14T17:54:48.009Z"
   },
   {
    "duration": 8,
    "start_time": "2021-12-14T17:54:50.993Z"
   },
   {
    "duration": 3,
    "start_time": "2021-12-14T17:55:06.710Z"
   },
   {
    "duration": 4,
    "start_time": "2021-12-14T17:55:08.021Z"
   },
   {
    "duration": 8,
    "start_time": "2021-12-14T17:55:08.437Z"
   },
   {
    "duration": 4,
    "start_time": "2021-12-14T17:55:48.043Z"
   },
   {
    "duration": 484,
    "start_time": "2021-12-14T17:56:57.910Z"
   },
   {
    "duration": 5,
    "start_time": "2021-12-14T17:58:06.058Z"
   },
   {
    "duration": 6,
    "start_time": "2021-12-14T17:58:09.121Z"
   },
   {
    "duration": 4,
    "start_time": "2021-12-14T17:58:15.209Z"
   },
   {
    "duration": 3,
    "start_time": "2021-12-14T17:59:27.015Z"
   },
   {
    "duration": 5,
    "start_time": "2021-12-14T17:59:53.451Z"
   },
   {
    "duration": 8,
    "start_time": "2021-12-14T17:59:54.211Z"
   },
   {
    "duration": 5,
    "start_time": "2021-12-14T17:59:55.951Z"
   },
   {
    "duration": 5,
    "start_time": "2021-12-14T18:03:02.646Z"
   },
   {
    "duration": 4,
    "start_time": "2021-12-14T18:03:10.477Z"
   },
   {
    "duration": 761,
    "start_time": "2021-12-14T18:04:50.312Z"
   },
   {
    "duration": 371,
    "start_time": "2021-12-14T18:05:32.376Z"
   },
   {
    "duration": 6,
    "start_time": "2021-12-14T18:05:45.116Z"
   },
   {
    "duration": 7,
    "start_time": "2021-12-14T18:05:59.531Z"
   },
   {
    "duration": 6,
    "start_time": "2021-12-14T18:06:02.811Z"
   },
   {
    "duration": 6,
    "start_time": "2021-12-14T18:06:11.626Z"
   },
   {
    "duration": 330,
    "start_time": "2021-12-14T18:06:21.073Z"
   },
   {
    "duration": 324,
    "start_time": "2021-12-14T18:07:19.790Z"
   },
   {
    "duration": 10899,
    "start_time": "2021-12-16T10:55:30.538Z"
   },
   {
    "duration": 1376,
    "start_time": "2021-12-16T10:55:41.440Z"
   },
   {
    "duration": 436,
    "start_time": "2021-12-16T10:55:42.819Z"
   },
   {
    "duration": 74,
    "start_time": "2021-12-16T10:55:43.258Z"
   },
   {
    "duration": 45,
    "start_time": "2021-12-16T10:55:43.334Z"
   },
   {
    "duration": 185,
    "start_time": "2021-12-16T10:55:43.382Z"
   },
   {
    "duration": 2381,
    "start_time": "2021-12-16T10:55:43.569Z"
   },
   {
    "duration": 73,
    "start_time": "2021-12-16T10:55:45.955Z"
   },
   {
    "duration": 46,
    "start_time": "2021-12-16T10:55:46.032Z"
   },
   {
    "duration": 55,
    "start_time": "2021-12-16T10:55:46.082Z"
   },
   {
    "duration": 26,
    "start_time": "2021-12-16T10:55:46.140Z"
   },
   {
    "duration": 929,
    "start_time": "2021-12-16T10:55:46.169Z"
   },
   {
    "duration": 3,
    "start_time": "2021-12-16T10:55:47.101Z"
   },
   {
    "duration": 62,
    "start_time": "2021-12-16T10:55:47.107Z"
   },
   {
    "duration": 16,
    "start_time": "2021-12-16T10:55:47.171Z"
   },
   {
    "duration": 51,
    "start_time": "2021-12-16T10:55:47.190Z"
   },
   {
    "duration": 80,
    "start_time": "2021-12-16T10:55:47.244Z"
   },
   {
    "duration": 105,
    "start_time": "2021-12-16T10:55:47.329Z"
   },
   {
    "duration": 92,
    "start_time": "2021-12-16T10:55:47.437Z"
   },
   {
    "duration": 8,
    "start_time": "2021-12-16T10:55:47.532Z"
   },
   {
    "duration": 7,
    "start_time": "2021-12-16T10:55:47.542Z"
   },
   {
    "duration": 1324,
    "start_time": "2021-12-16T10:55:47.552Z"
   },
   {
    "duration": 520,
    "start_time": "2021-12-16T10:55:48.882Z"
   },
   {
    "duration": 6,
    "start_time": "2021-12-16T10:55:49.405Z"
   },
   {
    "duration": 4,
    "start_time": "2021-12-16T10:55:49.424Z"
   },
   {
    "duration": 12,
    "start_time": "2021-12-16T10:55:49.431Z"
   },
   {
    "duration": 3,
    "start_time": "2021-12-16T10:55:49.445Z"
   },
   {
    "duration": 11,
    "start_time": "2021-12-16T10:55:49.450Z"
   },
   {
    "duration": 9,
    "start_time": "2021-12-16T10:55:49.463Z"
   },
   {
    "duration": 9,
    "start_time": "2021-12-16T10:55:49.475Z"
   },
   {
    "duration": 37,
    "start_time": "2021-12-16T10:55:49.486Z"
   },
   {
    "duration": 7,
    "start_time": "2021-12-16T10:55:49.526Z"
   },
   {
    "duration": 7,
    "start_time": "2021-12-16T10:55:49.536Z"
   },
   {
    "duration": 7,
    "start_time": "2021-12-16T10:55:49.545Z"
   },
   {
    "duration": 17,
    "start_time": "2021-12-16T10:55:49.554Z"
   },
   {
    "duration": 8,
    "start_time": "2021-12-16T10:55:49.573Z"
   },
   {
    "duration": 4,
    "start_time": "2021-12-16T10:59:18.151Z"
   },
   {
    "duration": 4032,
    "start_time": "2021-12-16T11:05:01.738Z"
   },
   {
    "duration": 4,
    "start_time": "2021-12-16T11:05:11.017Z"
   },
   {
    "duration": 4,
    "start_time": "2021-12-16T11:05:13.702Z"
   },
   {
    "duration": 5,
    "start_time": "2021-12-16T11:05:36.100Z"
   },
   {
    "duration": 11,
    "start_time": "2021-12-16T11:05:36.968Z"
   },
   {
    "duration": 5,
    "start_time": "2021-12-16T11:05:39.789Z"
   },
   {
    "duration": 4,
    "start_time": "2021-12-16T11:06:10.544Z"
   },
   {
    "duration": 4046,
    "start_time": "2021-12-16T11:06:11.257Z"
   },
   {
    "duration": 27,
    "start_time": "2021-12-16T11:06:16.088Z"
   },
   {
    "duration": 6,
    "start_time": "2021-12-16T11:09:05.741Z"
   },
   {
    "duration": 7,
    "start_time": "2021-12-16T11:09:27.045Z"
   },
   {
    "duration": 7,
    "start_time": "2021-12-16T11:10:38.253Z"
   },
   {
    "duration": 4,
    "start_time": "2021-12-16T11:10:53.626Z"
   },
   {
    "duration": 401,
    "start_time": "2021-12-16T11:11:52.237Z"
   },
   {
    "duration": 16,
    "start_time": "2021-12-16T11:12:27.020Z"
   },
   {
    "duration": 27,
    "start_time": "2021-12-16T11:12:46.003Z"
   },
   {
    "duration": 27,
    "start_time": "2021-12-16T11:15:13.954Z"
   },
   {
    "duration": 27,
    "start_time": "2021-12-16T11:15:20.280Z"
   },
   {
    "duration": 287,
    "start_time": "2021-12-16T11:15:48.111Z"
   },
   {
    "duration": 39,
    "start_time": "2021-12-16T11:15:52.683Z"
   },
   {
    "duration": 5,
    "start_time": "2021-12-16T11:17:30.334Z"
   },
   {
    "duration": 132,
    "start_time": "2021-12-16T11:18:53.902Z"
   },
   {
    "duration": 7,
    "start_time": "2021-12-16T11:18:57.753Z"
   },
   {
    "duration": 7,
    "start_time": "2021-12-16T11:19:13.091Z"
   },
   {
    "duration": 388,
    "start_time": "2021-12-16T11:19:43.632Z"
   },
   {
    "duration": 6,
    "start_time": "2021-12-16T11:19:51.463Z"
   },
   {
    "duration": 6,
    "start_time": "2021-12-16T11:19:59.280Z"
   },
   {
    "duration": 555,
    "start_time": "2021-12-16T11:21:07.793Z"
   },
   {
    "duration": 447,
    "start_time": "2021-12-16T11:21:17.046Z"
   },
   {
    "duration": 7,
    "start_time": "2021-12-16T11:25:19.150Z"
   },
   {
    "duration": 7,
    "start_time": "2021-12-16T11:25:42.144Z"
   },
   {
    "duration": 8,
    "start_time": "2021-12-16T11:25:44.701Z"
   },
   {
    "duration": 8,
    "start_time": "2021-12-16T11:26:02.444Z"
   },
   {
    "duration": 6,
    "start_time": "2021-12-16T11:26:41.931Z"
   },
   {
    "duration": 338,
    "start_time": "2021-12-16T11:26:46.628Z"
   },
   {
    "duration": 95,
    "start_time": "2021-12-16T11:27:42.068Z"
   },
   {
    "duration": 5,
    "start_time": "2021-12-16T11:27:46.245Z"
   },
   {
    "duration": 6,
    "start_time": "2021-12-16T11:27:56.319Z"
   },
   {
    "duration": 92,
    "start_time": "2021-12-16T11:34:45.853Z"
   },
   {
    "duration": 111,
    "start_time": "2021-12-16T11:34:49.451Z"
   },
   {
    "duration": 102,
    "start_time": "2021-12-16T11:35:19.151Z"
   },
   {
    "duration": 5,
    "start_time": "2021-12-16T11:36:40.830Z"
   },
   {
    "duration": 7,
    "start_time": "2021-12-16T11:37:06.182Z"
   },
   {
    "duration": 7,
    "start_time": "2021-12-16T11:37:39.620Z"
   },
   {
    "duration": 6,
    "start_time": "2021-12-16T11:37:56.652Z"
   },
   {
    "duration": 8,
    "start_time": "2021-12-16T11:39:42.615Z"
   },
   {
    "duration": 6,
    "start_time": "2021-12-16T11:40:04.689Z"
   },
   {
    "duration": 6,
    "start_time": "2021-12-16T11:40:25.226Z"
   },
   {
    "duration": 4,
    "start_time": "2021-12-16T11:40:37.829Z"
   },
   {
    "duration": 6,
    "start_time": "2021-12-16T11:40:39.759Z"
   },
   {
    "duration": 7,
    "start_time": "2021-12-16T11:40:52.449Z"
   },
   {
    "duration": 6,
    "start_time": "2021-12-16T11:41:11.178Z"
   },
   {
    "duration": 7,
    "start_time": "2021-12-16T11:41:17.875Z"
   },
   {
    "duration": 7,
    "start_time": "2021-12-16T11:41:36.554Z"
   },
   {
    "duration": 6,
    "start_time": "2021-12-16T11:41:46.173Z"
   },
   {
    "duration": 405,
    "start_time": "2021-12-16T11:42:16.436Z"
   },
   {
    "duration": 286,
    "start_time": "2021-12-16T11:42:24.004Z"
   },
   {
    "duration": 341,
    "start_time": "2021-12-16T11:42:28.474Z"
   },
   {
    "duration": 276,
    "start_time": "2021-12-16T11:48:19.968Z"
   },
   {
    "duration": 307,
    "start_time": "2021-12-16T11:51:24.927Z"
   },
   {
    "duration": 15,
    "start_time": "2021-12-16T11:51:49.630Z"
   },
   {
    "duration": 9,
    "start_time": "2021-12-16T11:52:03.410Z"
   },
   {
    "duration": 12,
    "start_time": "2021-12-16T11:52:25.914Z"
   },
   {
    "duration": 16,
    "start_time": "2021-12-16T11:52:34.084Z"
   },
   {
    "duration": 9,
    "start_time": "2021-12-16T11:53:18.458Z"
   },
   {
    "duration": 16,
    "start_time": "2021-12-16T11:53:20.463Z"
   },
   {
    "duration": 293,
    "start_time": "2021-12-16T11:54:54.675Z"
   },
   {
    "duration": 8,
    "start_time": "2021-12-16T11:55:00.894Z"
   },
   {
    "duration": 6,
    "start_time": "2021-12-16T11:55:10.223Z"
   },
   {
    "duration": 6,
    "start_time": "2021-12-16T11:55:26.308Z"
   },
   {
    "duration": 8,
    "start_time": "2021-12-16T11:55:37.260Z"
   },
   {
    "duration": 6,
    "start_time": "2021-12-16T11:56:15.581Z"
   },
   {
    "duration": 11,
    "start_time": "2021-12-16T11:56:27.827Z"
   },
   {
    "duration": 8,
    "start_time": "2021-12-16T11:58:37.729Z"
   },
   {
    "duration": 10,
    "start_time": "2021-12-16T11:59:13.236Z"
   },
   {
    "duration": 9,
    "start_time": "2021-12-16T11:59:33.514Z"
   },
   {
    "duration": 9,
    "start_time": "2021-12-16T11:59:38.271Z"
   },
   {
    "duration": 8,
    "start_time": "2021-12-16T11:59:41.079Z"
   },
   {
    "duration": 9,
    "start_time": "2021-12-16T12:00:01.697Z"
   },
   {
    "duration": 14,
    "start_time": "2021-12-16T12:01:07.047Z"
   },
   {
    "duration": 11,
    "start_time": "2021-12-16T12:01:20.978Z"
   },
   {
    "duration": 13,
    "start_time": "2021-12-16T12:01:29.923Z"
   },
   {
    "duration": 13,
    "start_time": "2021-12-16T12:01:32.650Z"
   },
   {
    "duration": 13,
    "start_time": "2021-12-16T12:01:49.468Z"
   },
   {
    "duration": 13,
    "start_time": "2021-12-16T12:01:53.527Z"
   },
   {
    "duration": 11,
    "start_time": "2021-12-16T12:01:55.819Z"
   },
   {
    "duration": 11,
    "start_time": "2021-12-16T12:02:04.769Z"
   },
   {
    "duration": 12,
    "start_time": "2021-12-16T12:03:21.539Z"
   },
   {
    "duration": 12,
    "start_time": "2021-12-16T12:03:25.249Z"
   },
   {
    "duration": 12,
    "start_time": "2021-12-16T12:03:31.771Z"
   },
   {
    "duration": 12,
    "start_time": "2021-12-16T12:03:35.541Z"
   },
   {
    "duration": 13,
    "start_time": "2021-12-16T12:03:49.784Z"
   },
   {
    "duration": 12,
    "start_time": "2021-12-16T12:03:54.200Z"
   },
   {
    "duration": 8,
    "start_time": "2021-12-16T12:07:02.026Z"
   },
   {
    "duration": 8,
    "start_time": "2021-12-16T12:07:13.876Z"
   },
   {
    "duration": 8,
    "start_time": "2021-12-16T12:07:30.940Z"
   },
   {
    "duration": 19,
    "start_time": "2021-12-16T12:10:13.513Z"
   },
   {
    "duration": 21,
    "start_time": "2021-12-16T12:10:54.698Z"
   },
   {
    "duration": 510,
    "start_time": "2021-12-16T12:16:11.213Z"
   },
   {
    "duration": 603,
    "start_time": "2021-12-16T12:16:13.798Z"
   },
   {
    "duration": 555,
    "start_time": "2021-12-16T12:16:16.777Z"
   },
   {
    "duration": 101,
    "start_time": "2021-12-16T12:19:43.604Z"
   },
   {
    "duration": 102,
    "start_time": "2021-12-16T12:20:05.534Z"
   },
   {
    "duration": 102,
    "start_time": "2021-12-16T12:21:13.225Z"
   },
   {
    "duration": 20,
    "start_time": "2021-12-16T12:21:27.776Z"
   },
   {
    "duration": 20,
    "start_time": "2021-12-16T12:21:34.375Z"
   },
   {
    "duration": 21,
    "start_time": "2021-12-16T12:23:00.947Z"
   },
   {
    "duration": 13,
    "start_time": "2021-12-16T12:23:17.096Z"
   },
   {
    "duration": 12,
    "start_time": "2021-12-16T12:23:33.482Z"
   },
   {
    "duration": 21,
    "start_time": "2021-12-16T12:25:50.959Z"
   },
   {
    "duration": 13,
    "start_time": "2021-12-16T12:25:58.109Z"
   },
   {
    "duration": 4166,
    "start_time": "2021-12-16T14:14:39.786Z"
   },
   {
    "duration": 516,
    "start_time": "2021-12-16T14:14:43.956Z"
   },
   {
    "duration": 70,
    "start_time": "2021-12-16T14:14:44.476Z"
   },
   {
    "duration": 88,
    "start_time": "2021-12-16T14:14:44.549Z"
   },
   {
    "duration": 161,
    "start_time": "2021-12-16T14:14:44.640Z"
   },
   {
    "duration": 2447,
    "start_time": "2021-12-16T14:14:44.803Z"
   },
   {
    "duration": 70,
    "start_time": "2021-12-16T14:14:47.253Z"
   },
   {
    "duration": 41,
    "start_time": "2021-12-16T14:14:47.327Z"
   },
   {
    "duration": 18,
    "start_time": "2021-12-16T14:14:47.371Z"
   },
   {
    "duration": 26,
    "start_time": "2021-12-16T14:14:47.423Z"
   },
   {
    "duration": 944,
    "start_time": "2021-12-16T14:14:47.451Z"
   },
   {
    "duration": 4,
    "start_time": "2021-12-16T14:14:48.397Z"
   },
   {
    "duration": 64,
    "start_time": "2021-12-16T14:14:48.403Z"
   },
   {
    "duration": 13,
    "start_time": "2021-12-16T14:14:48.470Z"
   },
   {
    "duration": 51,
    "start_time": "2021-12-16T14:14:48.485Z"
   },
   {
    "duration": 299,
    "start_time": "2021-12-16T14:14:48.625Z"
   },
   {
    "duration": 242,
    "start_time": "2021-12-16T14:14:48.927Z"
   },
   {
    "duration": 8,
    "start_time": "2021-12-16T14:14:49.172Z"
   },
   {
    "duration": 7,
    "start_time": "2021-12-16T14:14:49.183Z"
   },
   {
    "duration": 30,
    "start_time": "2021-12-16T14:14:49.193Z"
   },
   {
    "duration": 6,
    "start_time": "2021-12-16T14:14:49.226Z"
   },
   {
    "duration": 9,
    "start_time": "2021-12-16T14:14:49.235Z"
   },
   {
    "duration": 4147,
    "start_time": "2021-12-16T14:14:49.249Z"
   },
   {
    "duration": 33,
    "start_time": "2021-12-16T14:14:53.399Z"
   },
   {
    "duration": 13,
    "start_time": "2021-12-16T14:14:53.434Z"
   },
   {
    "duration": 11,
    "start_time": "2021-12-16T14:14:53.449Z"
   },
   {
    "duration": 16,
    "start_time": "2021-12-16T14:14:53.462Z"
   },
   {
    "duration": 7,
    "start_time": "2021-12-16T14:14:53.480Z"
   },
   {
    "duration": 8,
    "start_time": "2021-12-16T14:14:53.489Z"
   },
   {
    "duration": 7,
    "start_time": "2021-12-16T14:14:53.500Z"
   },
   {
    "duration": 3,
    "start_time": "2021-12-16T14:14:53.523Z"
   },
   {
    "duration": 5,
    "start_time": "2021-12-16T14:14:53.529Z"
   },
   {
    "duration": 6,
    "start_time": "2021-12-16T14:14:53.536Z"
   },
   {
    "duration": 9,
    "start_time": "2021-12-16T14:14:53.544Z"
   },
   {
    "duration": 6,
    "start_time": "2021-12-16T14:14:53.555Z"
   },
   {
    "duration": 6,
    "start_time": "2021-12-16T14:14:53.563Z"
   },
   {
    "duration": 7,
    "start_time": "2021-12-16T14:14:53.572Z"
   },
   {
    "duration": 94,
    "start_time": "2021-12-16T14:27:35.191Z"
   },
   {
    "duration": 3,
    "start_time": "2021-12-16T15:19:25.272Z"
   },
   {
    "duration": 45,
    "start_time": "2021-12-16T15:20:06.867Z"
   },
   {
    "duration": 3767,
    "start_time": "2021-12-16T15:20:15.007Z"
   },
   {
    "duration": 452,
    "start_time": "2021-12-16T15:20:18.777Z"
   },
   {
    "duration": 40,
    "start_time": "2021-12-16T15:20:19.232Z"
   },
   {
    "duration": 57,
    "start_time": "2021-12-16T15:20:19.275Z"
   },
   {
    "duration": 140,
    "start_time": "2021-12-16T15:20:19.334Z"
   },
   {
    "duration": 2559,
    "start_time": "2021-12-16T15:20:19.477Z"
   },
   {
    "duration": 46,
    "start_time": "2021-12-16T15:20:22.039Z"
   },
   {
    "duration": 48,
    "start_time": "2021-12-16T15:20:22.122Z"
   },
   {
    "duration": 58,
    "start_time": "2021-12-16T15:20:22.174Z"
   },
   {
    "duration": 29,
    "start_time": "2021-12-16T15:20:22.235Z"
   },
   {
    "duration": 831,
    "start_time": "2021-12-16T15:20:22.266Z"
   },
   {
    "duration": 4,
    "start_time": "2021-12-16T15:20:23.099Z"
   },
   {
    "duration": 62,
    "start_time": "2021-12-16T15:20:23.105Z"
   },
   {
    "duration": 10,
    "start_time": "2021-12-16T15:20:23.169Z"
   },
   {
    "duration": 51,
    "start_time": "2021-12-16T15:20:23.182Z"
   },
   {
    "duration": 199,
    "start_time": "2021-12-16T15:20:23.236Z"
   },
   {
    "duration": 103,
    "start_time": "2021-12-16T15:20:23.522Z"
   },
   {
    "duration": 23,
    "start_time": "2021-12-16T15:20:23.628Z"
   },
   {
    "duration": 9,
    "start_time": "2021-12-16T15:20:23.653Z"
   },
   {
    "duration": 9,
    "start_time": "2021-12-16T15:20:23.665Z"
   },
   {
    "duration": 7,
    "start_time": "2021-12-16T15:20:23.677Z"
   },
   {
    "duration": 30,
    "start_time": "2021-12-16T15:20:23.687Z"
   },
   {
    "duration": 3975,
    "start_time": "2021-12-16T15:20:23.722Z"
   },
   {
    "duration": 32,
    "start_time": "2021-12-16T15:20:27.700Z"
   },
   {
    "duration": 12,
    "start_time": "2021-12-16T15:20:27.735Z"
   },
   {
    "duration": 5,
    "start_time": "2021-12-16T15:20:27.749Z"
   },
   {
    "duration": 10,
    "start_time": "2021-12-16T15:20:27.757Z"
   },
   {
    "duration": 7,
    "start_time": "2021-12-16T15:20:27.769Z"
   },
   {
    "duration": 8,
    "start_time": "2021-12-16T15:20:27.778Z"
   },
   {
    "duration": 6,
    "start_time": "2021-12-16T15:20:27.788Z"
   },
   {
    "duration": 28,
    "start_time": "2021-12-16T15:20:27.796Z"
   },
   {
    "duration": 5,
    "start_time": "2021-12-16T15:20:27.827Z"
   },
   {
    "duration": 6,
    "start_time": "2021-12-16T15:20:27.835Z"
   },
   {
    "duration": 9,
    "start_time": "2021-12-16T15:20:27.844Z"
   },
   {
    "duration": 6,
    "start_time": "2021-12-16T15:20:27.856Z"
   },
   {
    "duration": 5,
    "start_time": "2021-12-16T15:20:27.865Z"
   },
   {
    "duration": 7,
    "start_time": "2021-12-16T15:20:27.873Z"
   },
   {
    "duration": 3,
    "start_time": "2021-12-16T15:41:40.663Z"
   },
   {
    "duration": 3,
    "start_time": "2021-12-16T15:41:41.165Z"
   },
   {
    "duration": 5133,
    "start_time": "2021-12-16T15:58:15.920Z"
   },
   {
    "duration": 426,
    "start_time": "2021-12-16T15:58:21.056Z"
   },
   {
    "duration": 60,
    "start_time": "2021-12-16T15:58:21.485Z"
   },
   {
    "duration": 82,
    "start_time": "2021-12-16T15:58:21.548Z"
   },
   {
    "duration": 158,
    "start_time": "2021-12-16T15:58:21.632Z"
   },
   {
    "duration": 2730,
    "start_time": "2021-12-16T15:58:21.793Z"
   },
   {
    "duration": 45,
    "start_time": "2021-12-16T15:58:24.525Z"
   },
   {
    "duration": 71,
    "start_time": "2021-12-16T15:58:24.574Z"
   },
   {
    "duration": 16,
    "start_time": "2021-12-16T15:58:24.648Z"
   },
   {
    "duration": 58,
    "start_time": "2021-12-16T15:58:24.666Z"
   },
   {
    "duration": 885,
    "start_time": "2021-12-16T15:58:24.727Z"
   },
   {
    "duration": 4,
    "start_time": "2021-12-16T15:58:25.614Z"
   },
   {
    "duration": 59,
    "start_time": "2021-12-16T15:58:25.623Z"
   },
   {
    "duration": 17,
    "start_time": "2021-12-16T15:58:25.684Z"
   },
   {
    "duration": 39,
    "start_time": "2021-12-16T15:58:25.703Z"
   },
   {
    "duration": 81,
    "start_time": "2021-12-16T15:58:25.745Z"
   },
   {
    "duration": 200,
    "start_time": "2021-12-16T15:58:25.830Z"
   },
   {
    "duration": 7,
    "start_time": "2021-12-16T15:58:26.033Z"
   },
   {
    "duration": 38,
    "start_time": "2021-12-16T15:58:26.043Z"
   },
   {
    "duration": 24,
    "start_time": "2021-12-16T15:58:26.084Z"
   },
   {
    "duration": 25,
    "start_time": "2021-12-16T15:58:26.110Z"
   },
   {
    "duration": 27,
    "start_time": "2021-12-16T15:58:26.137Z"
   },
   {
    "duration": 3994,
    "start_time": "2021-12-16T15:58:26.169Z"
   },
   {
    "duration": 22,
    "start_time": "2021-12-16T15:58:30.165Z"
   },
   {
    "duration": 35,
    "start_time": "2021-12-16T15:58:30.190Z"
   },
   {
    "duration": 4,
    "start_time": "2021-12-16T15:58:30.228Z"
   },
   {
    "duration": 18,
    "start_time": "2021-12-16T15:58:30.234Z"
   },
   {
    "duration": 19,
    "start_time": "2021-12-16T15:58:30.254Z"
   },
   {
    "duration": 20,
    "start_time": "2021-12-16T15:58:30.275Z"
   },
   {
    "duration": 16,
    "start_time": "2021-12-16T15:58:30.297Z"
   },
   {
    "duration": 8,
    "start_time": "2021-12-16T15:58:30.315Z"
   },
   {
    "duration": 28,
    "start_time": "2021-12-16T15:58:30.325Z"
   },
   {
    "duration": 39,
    "start_time": "2021-12-16T15:58:30.355Z"
   },
   {
    "duration": 44,
    "start_time": "2021-12-16T15:58:30.396Z"
   },
   {
    "duration": 100682,
    "start_time": "2021-12-17T09:26:08.912Z"
   },
   {
    "duration": 369,
    "start_time": "2021-12-17T09:27:49.596Z"
   },
   {
    "duration": 39,
    "start_time": "2021-12-17T09:27:49.967Z"
   },
   {
    "duration": 33,
    "start_time": "2021-12-17T09:27:50.007Z"
   },
   {
    "duration": 149,
    "start_time": "2021-12-17T09:27:50.042Z"
   },
   {
    "duration": 1594,
    "start_time": "2021-12-17T09:27:50.193Z"
   },
   {
    "duration": 33,
    "start_time": "2021-12-17T09:27:51.791Z"
   },
   {
    "duration": 40,
    "start_time": "2021-12-17T09:27:51.827Z"
   },
   {
    "duration": 30,
    "start_time": "2021-12-17T09:27:51.869Z"
   },
   {
    "duration": 31,
    "start_time": "2021-12-17T09:27:51.901Z"
   },
   {
    "duration": 609,
    "start_time": "2021-12-17T09:27:51.934Z"
   },
   {
    "duration": 3,
    "start_time": "2021-12-17T09:27:52.544Z"
   },
   {
    "duration": 51,
    "start_time": "2021-12-17T09:27:52.548Z"
   },
   {
    "duration": 11,
    "start_time": "2021-12-17T09:27:52.601Z"
   },
   {
    "duration": 37,
    "start_time": "2021-12-17T09:27:52.613Z"
   },
   {
    "duration": 44,
    "start_time": "2021-12-17T09:27:52.652Z"
   },
   {
    "duration": 383,
    "start_time": "2021-12-17T09:27:52.699Z"
   },
   {
    "duration": -641,
    "start_time": "2021-12-17T09:27:53.726Z"
   },
   {
    "duration": -646,
    "start_time": "2021-12-17T09:27:53.732Z"
   },
   {
    "duration": -652,
    "start_time": "2021-12-17T09:27:53.740Z"
   },
   {
    "duration": -660,
    "start_time": "2021-12-17T09:27:53.749Z"
   },
   {
    "duration": -668,
    "start_time": "2021-12-17T09:27:53.758Z"
   },
   {
    "duration": -676,
    "start_time": "2021-12-17T09:27:53.768Z"
   },
   {
    "duration": -684,
    "start_time": "2021-12-17T09:27:53.777Z"
   },
   {
    "duration": -691,
    "start_time": "2021-12-17T09:27:53.785Z"
   },
   {
    "duration": -696,
    "start_time": "2021-12-17T09:27:53.792Z"
   },
   {
    "duration": -704,
    "start_time": "2021-12-17T09:27:53.801Z"
   },
   {
    "duration": -711,
    "start_time": "2021-12-17T09:27:53.809Z"
   },
   {
    "duration": -717,
    "start_time": "2021-12-17T09:27:53.816Z"
   },
   {
    "duration": -731,
    "start_time": "2021-12-17T09:27:53.832Z"
   },
   {
    "duration": -736,
    "start_time": "2021-12-17T09:27:53.838Z"
   },
   {
    "duration": -740,
    "start_time": "2021-12-17T09:27:53.843Z"
   },
   {
    "duration": -744,
    "start_time": "2021-12-17T09:27:53.849Z"
   },
   {
    "duration": -748,
    "start_time": "2021-12-17T09:27:53.854Z"
   },
   {
    "duration": 106167,
    "start_time": "2021-12-17T09:28:06.629Z"
   },
   {
    "duration": 364,
    "start_time": "2021-12-17T09:29:52.799Z"
   },
   {
    "duration": 45,
    "start_time": "2021-12-17T09:29:53.165Z"
   },
   {
    "duration": 35,
    "start_time": "2021-12-17T09:29:53.212Z"
   },
   {
    "duration": 151,
    "start_time": "2021-12-17T09:29:53.248Z"
   },
   {
    "duration": 1593,
    "start_time": "2021-12-17T09:29:53.400Z"
   },
   {
    "duration": 35,
    "start_time": "2021-12-17T09:29:54.995Z"
   },
   {
    "duration": 59,
    "start_time": "2021-12-17T09:29:55.033Z"
   },
   {
    "duration": 14,
    "start_time": "2021-12-17T09:29:55.094Z"
   },
   {
    "duration": 31,
    "start_time": "2021-12-17T09:29:55.109Z"
   },
   {
    "duration": 620,
    "start_time": "2021-12-17T09:29:55.142Z"
   },
   {
    "duration": 3,
    "start_time": "2021-12-17T09:29:55.763Z"
   },
   {
    "duration": 56,
    "start_time": "2021-12-17T09:29:55.767Z"
   },
   {
    "duration": 11,
    "start_time": "2021-12-17T09:29:55.824Z"
   },
   {
    "duration": 33,
    "start_time": "2021-12-17T09:29:55.837Z"
   },
   {
    "duration": 23,
    "start_time": "2021-12-17T09:29:55.872Z"
   },
   {
    "duration": 398,
    "start_time": "2021-12-17T09:29:55.897Z"
   },
   {
    "duration": -654,
    "start_time": "2021-12-17T09:29:56.951Z"
   },
   {
    "duration": -663,
    "start_time": "2021-12-17T09:29:56.961Z"
   },
   {
    "duration": -674,
    "start_time": "2021-12-17T09:29:56.972Z"
   },
   {
    "duration": -683,
    "start_time": "2021-12-17T09:29:56.982Z"
   },
   {
    "duration": -694,
    "start_time": "2021-12-17T09:29:56.994Z"
   },
   {
    "duration": -720,
    "start_time": "2021-12-17T09:29:57.021Z"
   },
   {
    "duration": -733,
    "start_time": "2021-12-17T09:29:57.035Z"
   },
   {
    "duration": -742,
    "start_time": "2021-12-17T09:29:57.045Z"
   },
   {
    "duration": -751,
    "start_time": "2021-12-17T09:29:57.055Z"
   },
   {
    "duration": -758,
    "start_time": "2021-12-17T09:29:57.063Z"
   },
   {
    "duration": -766,
    "start_time": "2021-12-17T09:29:57.072Z"
   },
   {
    "duration": -773,
    "start_time": "2021-12-17T09:29:57.080Z"
   },
   {
    "duration": -780,
    "start_time": "2021-12-17T09:29:57.088Z"
   },
   {
    "duration": -787,
    "start_time": "2021-12-17T09:29:57.096Z"
   },
   {
    "duration": -794,
    "start_time": "2021-12-17T09:29:57.104Z"
   },
   {
    "duration": -807,
    "start_time": "2021-12-17T09:29:57.118Z"
   },
   {
    "duration": -833,
    "start_time": "2021-12-17T09:29:57.145Z"
   },
   {
    "duration": 27193,
    "start_time": "2021-12-17T09:30:46.431Z"
   },
   {
    "duration": 4,
    "start_time": "2021-12-17T09:31:37.318Z"
   },
   {
    "duration": 192,
    "start_time": "2021-12-17T09:31:47.686Z"
   },
   {
    "duration": 192,
    "start_time": "2021-12-17T09:31:50.957Z"
   },
   {
    "duration": 4407,
    "start_time": "2021-12-17T09:32:30.292Z"
   },
   {
    "duration": 2132,
    "start_time": "2021-12-17T09:33:51.250Z"
   },
   {
    "duration": 38009,
    "start_time": "2021-12-17T09:34:00.452Z"
   },
   {
    "duration": 1131,
    "start_time": "2021-12-17T09:34:38.464Z"
   },
   {
    "duration": 360,
    "start_time": "2021-12-17T09:34:39.597Z"
   },
   {
    "duration": 43,
    "start_time": "2021-12-17T09:34:39.959Z"
   },
   {
    "duration": 33,
    "start_time": "2021-12-17T09:34:40.004Z"
   },
   {
    "duration": 137,
    "start_time": "2021-12-17T09:34:40.038Z"
   },
   {
    "duration": 1516,
    "start_time": "2021-12-17T09:34:40.192Z"
   },
   {
    "duration": 35,
    "start_time": "2021-12-17T09:34:41.711Z"
   },
   {
    "duration": 64,
    "start_time": "2021-12-17T09:34:41.749Z"
   },
   {
    "duration": 15,
    "start_time": "2021-12-17T09:34:41.815Z"
   },
   {
    "duration": 20,
    "start_time": "2021-12-17T09:34:41.833Z"
   },
   {
    "duration": 628,
    "start_time": "2021-12-17T09:34:41.855Z"
   },
   {
    "duration": 8,
    "start_time": "2021-12-17T09:34:42.485Z"
   },
   {
    "duration": 47,
    "start_time": "2021-12-17T09:34:42.495Z"
   },
   {
    "duration": 11,
    "start_time": "2021-12-17T09:34:42.543Z"
   },
   {
    "duration": 44,
    "start_time": "2021-12-17T09:34:42.556Z"
   },
   {
    "duration": 13,
    "start_time": "2021-12-17T09:34:42.602Z"
   },
   {
    "duration": 88,
    "start_time": "2021-12-17T09:34:42.617Z"
   },
   {
    "duration": 11,
    "start_time": "2021-12-17T09:34:42.793Z"
   },
   {
    "duration": 12,
    "start_time": "2021-12-17T09:34:42.806Z"
   },
   {
    "duration": 23,
    "start_time": "2021-12-17T09:34:42.820Z"
   },
   {
    "duration": 34,
    "start_time": "2021-12-17T09:34:42.844Z"
   },
   {
    "duration": 27,
    "start_time": "2021-12-17T09:34:42.880Z"
   },
   {
    "duration": 2386,
    "start_time": "2021-12-17T09:34:42.909Z"
   },
   {
    "duration": 16,
    "start_time": "2021-12-17T09:34:45.297Z"
   },
   {
    "duration": 41,
    "start_time": "2021-12-17T09:34:45.314Z"
   },
   {
    "duration": 6,
    "start_time": "2021-12-17T09:34:45.357Z"
   },
   {
    "duration": 9,
    "start_time": "2021-12-17T09:34:45.364Z"
   },
   {
    "duration": 6,
    "start_time": "2021-12-17T09:34:45.375Z"
   },
   {
    "duration": 6,
    "start_time": "2021-12-17T09:34:45.383Z"
   },
   {
    "duration": 10,
    "start_time": "2021-12-17T09:34:45.391Z"
   },
   {
    "duration": 8,
    "start_time": "2021-12-17T09:34:45.402Z"
   },
   {
    "duration": 5,
    "start_time": "2021-12-17T09:34:45.411Z"
   },
   {
    "duration": 8,
    "start_time": "2021-12-17T09:34:45.418Z"
   },
   {
    "duration": 6,
    "start_time": "2021-12-17T09:34:45.428Z"
   },
   {
    "duration": 2,
    "start_time": "2021-12-17T09:36:16.094Z"
   },
   {
    "duration": 2,
    "start_time": "2021-12-17T09:36:25.657Z"
   },
   {
    "duration": 7,
    "start_time": "2021-12-17T09:36:25.661Z"
   },
   {
    "duration": 385,
    "start_time": "2021-12-17T09:36:25.670Z"
   },
   {
    "duration": 52,
    "start_time": "2021-12-17T09:36:26.057Z"
   },
   {
    "duration": 38,
    "start_time": "2021-12-17T09:36:26.112Z"
   },
   {
    "duration": 154,
    "start_time": "2021-12-17T09:36:26.152Z"
   },
   {
    "duration": 1690,
    "start_time": "2021-12-17T09:36:26.308Z"
   },
   {
    "duration": 30,
    "start_time": "2021-12-17T09:36:28.000Z"
   },
   {
    "duration": 65,
    "start_time": "2021-12-17T09:36:28.032Z"
   },
   {
    "duration": 14,
    "start_time": "2021-12-17T09:36:28.099Z"
   },
   {
    "duration": 20,
    "start_time": "2021-12-17T09:36:28.115Z"
   },
   {
    "duration": 588,
    "start_time": "2021-12-17T09:36:28.137Z"
   },
   {
    "duration": 3,
    "start_time": "2021-12-17T09:36:28.727Z"
   },
   {
    "duration": 41,
    "start_time": "2021-12-17T09:36:28.733Z"
   },
   {
    "duration": 21,
    "start_time": "2021-12-17T09:36:28.777Z"
   },
   {
    "duration": 19,
    "start_time": "2021-12-17T09:36:28.799Z"
   },
   {
    "duration": 82,
    "start_time": "2021-12-17T09:36:28.820Z"
   },
   {
    "duration": 94,
    "start_time": "2021-12-17T09:36:28.905Z"
   },
   {
    "duration": 93,
    "start_time": "2021-12-17T09:36:29.001Z"
   },
   {
    "duration": 4,
    "start_time": "2021-12-17T09:36:29.097Z"
   },
   {
    "duration": 5,
    "start_time": "2021-12-17T09:36:29.103Z"
   },
   {
    "duration": 4,
    "start_time": "2021-12-17T09:36:29.110Z"
   },
   {
    "duration": 7,
    "start_time": "2021-12-17T09:36:29.116Z"
   },
   {
    "duration": 2658,
    "start_time": "2021-12-17T09:36:29.125Z"
   },
   {
    "duration": 19,
    "start_time": "2021-12-17T09:36:31.785Z"
   },
   {
    "duration": 9,
    "start_time": "2021-12-17T09:36:31.805Z"
   },
   {
    "duration": 29,
    "start_time": "2021-12-17T09:36:31.816Z"
   },
   {
    "duration": 28,
    "start_time": "2021-12-17T09:36:31.847Z"
   },
   {
    "duration": 35,
    "start_time": "2021-12-17T09:36:31.877Z"
   },
   {
    "duration": 15,
    "start_time": "2021-12-17T09:36:31.914Z"
   },
   {
    "duration": 5,
    "start_time": "2021-12-17T09:36:31.931Z"
   },
   {
    "duration": 19,
    "start_time": "2021-12-17T09:36:31.937Z"
   },
   {
    "duration": 12,
    "start_time": "2021-12-17T09:36:31.958Z"
   },
   {
    "duration": 16,
    "start_time": "2021-12-17T09:36:31.972Z"
   },
   {
    "duration": 14,
    "start_time": "2021-12-17T09:36:31.990Z"
   },
   {
    "duration": 4,
    "start_time": "2021-12-17T10:12:09.180Z"
   },
   {
    "duration": 1133,
    "start_time": "2021-12-17T10:12:09.186Z"
   },
   {
    "duration": 381,
    "start_time": "2021-12-17T10:12:10.321Z"
   },
   {
    "duration": 31,
    "start_time": "2021-12-17T10:12:10.704Z"
   },
   {
    "duration": 67,
    "start_time": "2021-12-17T10:12:10.736Z"
   },
   {
    "duration": 120,
    "start_time": "2021-12-17T10:12:10.804Z"
   },
   {
    "duration": 1656,
    "start_time": "2021-12-17T10:12:10.926Z"
   },
   {
    "duration": 42,
    "start_time": "2021-12-17T10:12:12.584Z"
   },
   {
    "duration": 29,
    "start_time": "2021-12-17T10:12:12.629Z"
   },
   {
    "duration": 45,
    "start_time": "2021-12-17T10:12:12.660Z"
   },
   {
    "duration": 21,
    "start_time": "2021-12-17T10:12:12.706Z"
   },
   {
    "duration": 682,
    "start_time": "2021-12-17T10:12:12.729Z"
   },
   {
    "duration": 4,
    "start_time": "2021-12-17T10:12:13.413Z"
   },
   {
    "duration": 43,
    "start_time": "2021-12-17T10:12:13.419Z"
   },
   {
    "duration": 32,
    "start_time": "2021-12-17T10:12:13.464Z"
   },
   {
    "duration": 24,
    "start_time": "2021-12-17T10:12:13.498Z"
   },
   {
    "duration": 172,
    "start_time": "2021-12-17T10:12:13.524Z"
   },
   {
    "duration": 97,
    "start_time": "2021-12-17T10:12:13.698Z"
   },
   {
    "duration": 94,
    "start_time": "2021-12-17T10:12:13.798Z"
   },
   {
    "duration": 5,
    "start_time": "2021-12-17T10:12:13.895Z"
   },
   {
    "duration": 4,
    "start_time": "2021-12-17T10:12:13.902Z"
   },
   {
    "duration": 5,
    "start_time": "2021-12-17T10:12:13.908Z"
   },
   {
    "duration": 4,
    "start_time": "2021-12-17T10:12:13.916Z"
   },
   {
    "duration": 2420,
    "start_time": "2021-12-17T10:12:13.922Z"
   },
   {
    "duration": 15,
    "start_time": "2021-12-17T10:12:16.344Z"
   },
   {
    "duration": 10,
    "start_time": "2021-12-17T10:12:16.360Z"
   },
   {
    "duration": 3,
    "start_time": "2021-12-17T10:12:16.391Z"
   },
   {
    "duration": 9,
    "start_time": "2021-12-17T10:12:16.396Z"
   },
   {
    "duration": 8,
    "start_time": "2021-12-17T10:12:16.407Z"
   },
   {
    "duration": 6,
    "start_time": "2021-12-17T10:12:16.417Z"
   },
   {
    "duration": 7,
    "start_time": "2021-12-17T10:12:16.425Z"
   },
   {
    "duration": 5,
    "start_time": "2021-12-17T10:12:16.434Z"
   },
   {
    "duration": 5,
    "start_time": "2021-12-17T10:12:16.441Z"
   },
   {
    "duration": 7,
    "start_time": "2021-12-17T10:12:16.447Z"
   },
   {
    "duration": 5,
    "start_time": "2021-12-17T10:12:16.456Z"
   },
   {
    "duration": 4,
    "start_time": "2021-12-17T10:12:16.463Z"
   },
   {
    "duration": 6,
    "start_time": "2021-12-17T13:18:31.635Z"
   },
   {
    "duration": 2031,
    "start_time": "2021-12-17T13:18:31.644Z"
   },
   {
    "duration": 695,
    "start_time": "2021-12-17T13:18:33.679Z"
   },
   {
    "duration": 86,
    "start_time": "2021-12-17T13:18:34.377Z"
   },
   {
    "duration": 51,
    "start_time": "2021-12-17T13:18:34.465Z"
   },
   {
    "duration": 193,
    "start_time": "2021-12-17T13:18:34.519Z"
   },
   {
    "duration": 2525,
    "start_time": "2021-12-17T13:18:34.715Z"
   },
   {
    "duration": 58,
    "start_time": "2021-12-17T13:18:37.243Z"
   },
   {
    "duration": 77,
    "start_time": "2021-12-17T13:18:37.305Z"
   },
   {
    "duration": 18,
    "start_time": "2021-12-17T13:18:37.386Z"
   },
   {
    "duration": 57,
    "start_time": "2021-12-17T13:18:37.406Z"
   },
   {
    "duration": 874,
    "start_time": "2021-12-17T13:18:37.465Z"
   },
   {
    "duration": 4,
    "start_time": "2021-12-17T13:18:38.341Z"
   },
   {
    "duration": 62,
    "start_time": "2021-12-17T13:18:38.347Z"
   },
   {
    "duration": 13,
    "start_time": "2021-12-17T13:18:38.412Z"
   },
   {
    "duration": 46,
    "start_time": "2021-12-17T13:18:38.428Z"
   },
   {
    "duration": 13,
    "start_time": "2021-12-17T13:18:38.476Z"
   },
   {
    "duration": 438,
    "start_time": "2021-12-17T13:18:38.564Z"
   },
   {
    "duration": 0,
    "start_time": "2021-12-17T13:18:39.005Z"
   },
   {
    "duration": -1,
    "start_time": "2021-12-17T13:18:39.007Z"
   },
   {
    "duration": -2,
    "start_time": "2021-12-17T13:18:39.009Z"
   },
   {
    "duration": -1,
    "start_time": "2021-12-17T13:18:39.010Z"
   },
   {
    "duration": -2,
    "start_time": "2021-12-17T13:18:39.012Z"
   },
   {
    "duration": -3,
    "start_time": "2021-12-17T13:18:39.015Z"
   },
   {
    "duration": -3,
    "start_time": "2021-12-17T13:18:39.016Z"
   },
   {
    "duration": -6,
    "start_time": "2021-12-17T13:18:39.020Z"
   },
   {
    "duration": -7,
    "start_time": "2021-12-17T13:18:39.022Z"
   },
   {
    "duration": -7,
    "start_time": "2021-12-17T13:18:39.023Z"
   },
   {
    "duration": -6,
    "start_time": "2021-12-17T13:18:39.024Z"
   },
   {
    "duration": -6,
    "start_time": "2021-12-17T13:18:39.025Z"
   },
   {
    "duration": -7,
    "start_time": "2021-12-17T13:18:39.027Z"
   },
   {
    "duration": -6,
    "start_time": "2021-12-17T13:18:39.028Z"
   },
   {
    "duration": -6,
    "start_time": "2021-12-17T13:18:39.029Z"
   },
   {
    "duration": -6,
    "start_time": "2021-12-17T13:18:39.030Z"
   },
   {
    "duration": -6,
    "start_time": "2021-12-17T13:18:39.031Z"
   },
   {
    "duration": -6,
    "start_time": "2021-12-17T13:18:39.032Z"
   },
   {
    "duration": 163019,
    "start_time": "2021-12-17T13:18:55.702Z"
   },
   {
    "duration": 5,
    "start_time": "2021-12-17T13:21:38.724Z"
   },
   {
    "duration": 659,
    "start_time": "2021-12-17T13:21:38.733Z"
   },
   {
    "duration": 70,
    "start_time": "2021-12-17T13:21:39.395Z"
   },
   {
    "duration": 47,
    "start_time": "2021-12-17T13:21:39.467Z"
   },
   {
    "duration": 187,
    "start_time": "2021-12-17T13:21:39.517Z"
   },
   {
    "duration": 2447,
    "start_time": "2021-12-17T13:21:39.706Z"
   },
   {
    "duration": 48,
    "start_time": "2021-12-17T13:21:42.157Z"
   },
   {
    "duration": 75,
    "start_time": "2021-12-17T13:21:42.208Z"
   },
   {
    "duration": 17,
    "start_time": "2021-12-17T13:21:42.285Z"
   },
   {
    "duration": 66,
    "start_time": "2021-12-17T13:21:42.304Z"
   },
   {
    "duration": 937,
    "start_time": "2021-12-17T13:21:42.372Z"
   },
   {
    "duration": 4,
    "start_time": "2021-12-17T13:21:43.311Z"
   },
   {
    "duration": 70,
    "start_time": "2021-12-17T13:21:43.317Z"
   },
   {
    "duration": 13,
    "start_time": "2021-12-17T13:21:43.389Z"
   },
   {
    "duration": 61,
    "start_time": "2021-12-17T13:21:43.404Z"
   },
   {
    "duration": 199,
    "start_time": "2021-12-17T13:21:43.469Z"
   },
   {
    "duration": 395,
    "start_time": "2021-12-17T13:21:43.671Z"
   },
   {
    "duration": 12,
    "start_time": "2021-12-17T13:22:15.614Z"
   },
   {
    "duration": 370,
    "start_time": "2021-12-17T14:14:06.028Z"
   },
   {
    "duration": 43,
    "start_time": "2021-12-17T14:14:14.530Z"
   },
   {
    "duration": 4,
    "start_time": "2021-12-17T14:14:18.326Z"
   },
   {
    "duration": 298,
    "start_time": "2021-12-17T14:14:42.383Z"
   },
   {
    "duration": 6,
    "start_time": "2021-12-17T14:14:45.326Z"
   },
   {
    "duration": 733,
    "start_time": "2021-12-17T14:14:46.860Z"
   },
   {
    "duration": 4,
    "start_time": "2021-12-17T14:14:55.914Z"
   },
   {
    "duration": 50,
    "start_time": "2021-12-17T14:14:58.439Z"
   },
   {
    "duration": 3,
    "start_time": "2021-12-17T14:15:05.566Z"
   },
   {
    "duration": 4,
    "start_time": "2021-12-17T14:15:06.788Z"
   },
   {
    "duration": 356,
    "start_time": "2021-12-17T14:15:13.306Z"
   },
   {
    "duration": 305,
    "start_time": "2021-12-17T14:15:23.437Z"
   },
   {
    "duration": 5,
    "start_time": "2021-12-17T14:15:53.693Z"
   },
   {
    "duration": 8,
    "start_time": "2021-12-17T14:16:15.960Z"
   },
   {
    "duration": 4,
    "start_time": "2021-12-17T14:16:16.938Z"
   },
   {
    "duration": 4,
    "start_time": "2021-12-17T14:16:18.213Z"
   },
   {
    "duration": 4,
    "start_time": "2021-12-17T14:16:18.963Z"
   },
   {
    "duration": 4,
    "start_time": "2021-12-17T14:16:19.704Z"
   },
   {
    "duration": 4342,
    "start_time": "2021-12-17T14:16:20.627Z"
   },
   {
    "duration": 25,
    "start_time": "2021-12-17T14:39:56.957Z"
   },
   {
    "duration": 19,
    "start_time": "2021-12-17T14:40:01.281Z"
   },
   {
    "duration": 3,
    "start_time": "2021-12-17T14:40:09.240Z"
   },
   {
    "duration": 4,
    "start_time": "2021-12-17T14:40:09.553Z"
   },
   {
    "duration": 3,
    "start_time": "2021-12-18T04:31:20.914Z"
   },
   {
    "duration": 1151,
    "start_time": "2021-12-18T04:31:23.377Z"
   },
   {
    "duration": 948,
    "start_time": "2021-12-18T04:31:26.541Z"
   },
   {
    "duration": 37,
    "start_time": "2021-12-18T04:31:27.491Z"
   },
   {
    "duration": 70,
    "start_time": "2021-12-18T04:31:27.531Z"
   },
   {
    "duration": 131,
    "start_time": "2021-12-18T04:31:27.787Z"
   },
   {
    "duration": 1505,
    "start_time": "2021-12-18T04:31:28.282Z"
   },
   {
    "duration": 37,
    "start_time": "2021-12-18T04:31:29.788Z"
   },
   {
    "duration": 65,
    "start_time": "2021-12-18T04:31:29.828Z"
   },
   {
    "duration": 15,
    "start_time": "2021-12-18T04:31:29.895Z"
   },
   {
    "duration": 21,
    "start_time": "2021-12-18T04:31:29.912Z"
   },
   {
    "duration": 627,
    "start_time": "2021-12-18T04:31:31.224Z"
   },
   {
    "duration": 3,
    "start_time": "2021-12-18T04:33:01.449Z"
   },
   {
    "duration": 40,
    "start_time": "2021-12-18T04:33:01.901Z"
   },
   {
    "duration": 2,
    "start_time": "2021-12-18T04:33:12.195Z"
   },
   {
    "duration": 4,
    "start_time": "2021-12-18T04:37:26.418Z"
   },
   {
    "duration": 3,
    "start_time": "2021-12-18T04:42:22.497Z"
   },
   {
    "duration": 3,
    "start_time": "2021-12-18T04:42:23.302Z"
   },
   {
    "duration": 442,
    "start_time": "2021-12-18T04:44:28.527Z"
   },
   {
    "duration": 395,
    "start_time": "2021-12-18T04:45:44.943Z"
   },
   {
    "duration": 4,
    "start_time": "2021-12-18T04:46:38.380Z"
   },
   {
    "duration": 418,
    "start_time": "2021-12-18T04:46:46.155Z"
   },
   {
    "duration": 104927,
    "start_time": "2021-12-18T04:47:00.868Z"
   },
   {
    "duration": 3,
    "start_time": "2021-12-18T04:49:05.238Z"
   },
   {
    "duration": 1137,
    "start_time": "2021-12-18T04:49:05.246Z"
   },
   {
    "duration": 367,
    "start_time": "2021-12-18T04:49:06.385Z"
   },
   {
    "duration": 43,
    "start_time": "2021-12-18T04:49:06.754Z"
   },
   {
    "duration": 31,
    "start_time": "2021-12-18T04:49:06.799Z"
   },
   {
    "duration": 131,
    "start_time": "2021-12-18T04:49:06.832Z"
   },
   {
    "duration": 1574,
    "start_time": "2021-12-18T04:49:06.964Z"
   },
   {
    "duration": 35,
    "start_time": "2021-12-18T04:49:08.539Z"
   },
   {
    "duration": 43,
    "start_time": "2021-12-18T04:49:08.577Z"
   },
   {
    "duration": 16,
    "start_time": "2021-12-18T04:49:08.622Z"
   },
   {
    "duration": 54,
    "start_time": "2021-12-18T04:49:08.639Z"
   },
   {
    "duration": 594,
    "start_time": "2021-12-18T04:49:08.695Z"
   },
   {
    "duration": 3,
    "start_time": "2021-12-18T04:49:09.291Z"
   },
   {
    "duration": 41,
    "start_time": "2021-12-18T04:49:09.295Z"
   },
   {
    "duration": 2,
    "start_time": "2021-12-18T04:49:09.338Z"
   },
   {
    "duration": 7,
    "start_time": "2021-12-18T04:49:09.342Z"
   },
   {
    "duration": 5,
    "start_time": "2021-12-18T04:49:09.350Z"
   },
   {
    "duration": 553,
    "start_time": "2021-12-18T04:49:09.356Z"
   },
   {
    "duration": -1509,
    "start_time": "2021-12-18T04:49:11.421Z"
   },
   {
    "duration": -1538,
    "start_time": "2021-12-18T04:49:11.451Z"
   },
   {
    "duration": -1544,
    "start_time": "2021-12-18T04:49:11.458Z"
   },
   {
    "duration": -1552,
    "start_time": "2021-12-18T04:49:11.467Z"
   },
   {
    "duration": -1556,
    "start_time": "2021-12-18T04:49:11.472Z"
   },
   {
    "duration": -1564,
    "start_time": "2021-12-18T04:49:11.481Z"
   },
   {
    "duration": -1568,
    "start_time": "2021-12-18T04:49:11.486Z"
   },
   {
    "duration": -1574,
    "start_time": "2021-12-18T04:49:11.493Z"
   },
   {
    "duration": -1579,
    "start_time": "2021-12-18T04:49:11.499Z"
   },
   {
    "duration": -1585,
    "start_time": "2021-12-18T04:49:11.506Z"
   },
   {
    "duration": -1590,
    "start_time": "2021-12-18T04:49:11.512Z"
   },
   {
    "duration": -1595,
    "start_time": "2021-12-18T04:49:11.518Z"
   },
   {
    "duration": -1600,
    "start_time": "2021-12-18T04:49:11.524Z"
   },
   {
    "duration": -1606,
    "start_time": "2021-12-18T04:49:11.531Z"
   },
   {
    "duration": -1611,
    "start_time": "2021-12-18T04:49:11.537Z"
   },
   {
    "duration": -1616,
    "start_time": "2021-12-18T04:49:11.543Z"
   },
   {
    "duration": -1634,
    "start_time": "2021-12-18T04:49:11.562Z"
   },
   {
    "duration": -1642,
    "start_time": "2021-12-18T04:49:11.571Z"
   },
   {
    "duration": -1660,
    "start_time": "2021-12-18T04:49:11.590Z"
   },
   {
    "duration": -1670,
    "start_time": "2021-12-18T04:49:11.601Z"
   },
   {
    "duration": -1682,
    "start_time": "2021-12-18T04:49:11.614Z"
   },
   {
    "duration": -1710,
    "start_time": "2021-12-18T04:49:11.643Z"
   },
   {
    "duration": -1719,
    "start_time": "2021-12-18T04:49:11.653Z"
   },
   {
    "duration": 104993,
    "start_time": "2021-12-18T04:49:30.076Z"
   },
   {
    "duration": 1120,
    "start_time": "2021-12-18T04:51:15.071Z"
   },
   {
    "duration": 363,
    "start_time": "2021-12-18T04:51:16.194Z"
   },
   {
    "duration": 44,
    "start_time": "2021-12-18T04:51:16.559Z"
   },
   {
    "duration": 31,
    "start_time": "2021-12-18T04:51:16.605Z"
   },
   {
    "duration": 140,
    "start_time": "2021-12-18T04:51:16.638Z"
   },
   {
    "duration": 1527,
    "start_time": "2021-12-18T04:51:16.792Z"
   },
   {
    "duration": 37,
    "start_time": "2021-12-18T04:51:18.322Z"
   },
   {
    "duration": 68,
    "start_time": "2021-12-18T04:51:18.361Z"
   },
   {
    "duration": 15,
    "start_time": "2021-12-18T04:51:18.431Z"
   },
   {
    "duration": 18,
    "start_time": "2021-12-18T04:51:18.447Z"
   },
   {
    "duration": 617,
    "start_time": "2021-12-18T04:51:18.466Z"
   },
   {
    "duration": 2,
    "start_time": "2021-12-18T04:51:19.091Z"
   },
   {
    "duration": 43,
    "start_time": "2021-12-18T04:51:19.095Z"
   },
   {
    "duration": 2,
    "start_time": "2021-12-18T04:51:19.140Z"
   },
   {
    "duration": 5,
    "start_time": "2021-12-18T04:51:19.144Z"
   },
   {
    "duration": 5,
    "start_time": "2021-12-18T04:51:19.151Z"
   },
   {
    "duration": 555,
    "start_time": "2021-12-18T04:51:19.157Z"
   },
   {
    "duration": -1124,
    "start_time": "2021-12-18T04:51:20.838Z"
   },
   {
    "duration": -1146,
    "start_time": "2021-12-18T04:51:20.861Z"
   },
   {
    "duration": -1155,
    "start_time": "2021-12-18T04:51:20.871Z"
   },
   {
    "duration": -1165,
    "start_time": "2021-12-18T04:51:20.882Z"
   },
   {
    "duration": -1173,
    "start_time": "2021-12-18T04:51:20.891Z"
   },
   {
    "duration": -1180,
    "start_time": "2021-12-18T04:51:20.899Z"
   },
   {
    "duration": -1190,
    "start_time": "2021-12-18T04:51:20.910Z"
   },
   {
    "duration": -1195,
    "start_time": "2021-12-18T04:51:20.916Z"
   },
   {
    "duration": -1202,
    "start_time": "2021-12-18T04:51:20.923Z"
   },
   {
    "duration": -1207,
    "start_time": "2021-12-18T04:51:20.929Z"
   },
   {
    "duration": -1215,
    "start_time": "2021-12-18T04:51:20.938Z"
   },
   {
    "duration": -1220,
    "start_time": "2021-12-18T04:51:20.944Z"
   },
   {
    "duration": -1227,
    "start_time": "2021-12-18T04:51:20.952Z"
   },
   {
    "duration": -1232,
    "start_time": "2021-12-18T04:51:20.958Z"
   },
   {
    "duration": -1262,
    "start_time": "2021-12-18T04:51:20.989Z"
   },
   {
    "duration": -1268,
    "start_time": "2021-12-18T04:51:20.997Z"
   },
   {
    "duration": -1276,
    "start_time": "2021-12-18T04:51:21.006Z"
   },
   {
    "duration": -1288,
    "start_time": "2021-12-18T04:51:21.019Z"
   },
   {
    "duration": -1293,
    "start_time": "2021-12-18T04:51:21.025Z"
   },
   {
    "duration": -1299,
    "start_time": "2021-12-18T04:51:21.032Z"
   },
   {
    "duration": -1307,
    "start_time": "2021-12-18T04:51:21.041Z"
   },
   {
    "duration": -1311,
    "start_time": "2021-12-18T04:51:21.046Z"
   },
   {
    "duration": -1320,
    "start_time": "2021-12-18T04:51:21.056Z"
   },
   {
    "duration": 3,
    "start_time": "2021-12-18T04:51:40.796Z"
   },
   {
    "duration": 15,
    "start_time": "2021-12-18T04:51:43.830Z"
   },
   {
    "duration": 14,
    "start_time": "2021-12-18T04:52:52.199Z"
   },
   {
    "duration": 12,
    "start_time": "2021-12-18T04:53:41.031Z"
   },
   {
    "duration": 172,
    "start_time": "2021-12-18T04:58:18.443Z"
   },
   {
    "duration": 18,
    "start_time": "2021-12-18T04:58:26.291Z"
   },
   {
    "duration": 13,
    "start_time": "2021-12-18T04:58:27.068Z"
   },
   {
    "duration": 13,
    "start_time": "2021-12-18T04:58:28.693Z"
   },
   {
    "duration": 8,
    "start_time": "2021-12-18T04:58:31.639Z"
   },
   {
    "duration": 3,
    "start_time": "2021-12-18T04:59:49.461Z"
   },
   {
    "duration": 176,
    "start_time": "2021-12-18T05:05:31.728Z"
   },
   {
    "duration": 188,
    "start_time": "2021-12-18T05:05:44.419Z"
   },
   {
    "duration": 455,
    "start_time": "2021-12-18T05:05:56.244Z"
   },
   {
    "duration": 412,
    "start_time": "2021-12-18T05:06:30.589Z"
   },
   {
    "duration": 460,
    "start_time": "2021-12-18T05:06:40.235Z"
   },
   {
    "duration": 104,
    "start_time": "2021-12-18T05:06:40.697Z"
   },
   {
    "duration": 444,
    "start_time": "2021-12-18T05:06:52.549Z"
   },
   {
    "duration": 535,
    "start_time": "2021-12-18T05:06:59.357Z"
   },
   {
    "duration": 465,
    "start_time": "2021-12-18T05:07:04.936Z"
   },
   {
    "duration": 4463,
    "start_time": "2021-12-18T05:07:17.629Z"
   },
   {
    "duration": 2,
    "start_time": "2021-12-18T05:08:19.263Z"
   },
   {
    "duration": 3029,
    "start_time": "2021-12-18T05:10:37.666Z"
   },
   {
    "duration": 2604,
    "start_time": "2021-12-18T05:11:46.891Z"
   },
   {
    "duration": 3514,
    "start_time": "2021-12-18T05:12:13.178Z"
   },
   {
    "duration": 3257,
    "start_time": "2021-12-18T05:12:23.939Z"
   },
   {
    "duration": 182,
    "start_time": "2021-12-18T05:12:35.098Z"
   },
   {
    "duration": 2191,
    "start_time": "2021-12-18T05:12:40.604Z"
   },
   {
    "duration": 1878,
    "start_time": "2021-12-18T05:13:39.714Z"
   },
   {
    "duration": 359,
    "start_time": "2021-12-18T05:13:50.639Z"
   },
   {
    "duration": 12,
    "start_time": "2021-12-18T05:14:23.435Z"
   },
   {
    "duration": 13,
    "start_time": "2021-12-18T05:14:24.417Z"
   },
   {
    "duration": 12,
    "start_time": "2021-12-18T05:14:25.851Z"
   },
   {
    "duration": 9,
    "start_time": "2021-12-18T05:14:28.427Z"
   },
   {
    "duration": 3,
    "start_time": "2021-12-18T06:09:32.973Z"
   },
   {
    "duration": 4,
    "start_time": "2021-12-18T06:09:34.349Z"
   },
   {
    "duration": 354,
    "start_time": "2021-12-18T06:09:35.352Z"
   },
   {
    "duration": 29,
    "start_time": "2021-12-18T06:09:35.708Z"
   },
   {
    "duration": 30,
    "start_time": "2021-12-18T06:09:37.375Z"
   },
   {
    "duration": 101,
    "start_time": "2021-12-18T06:09:37.663Z"
   },
   {
    "duration": 1602,
    "start_time": "2021-12-18T06:09:39.365Z"
   },
   {
    "duration": 41,
    "start_time": "2021-12-18T06:09:40.969Z"
   },
   {
    "duration": 29,
    "start_time": "2021-12-18T06:09:41.011Z"
   },
   {
    "duration": 12,
    "start_time": "2021-12-18T06:09:41.042Z"
   },
   {
    "duration": 19,
    "start_time": "2021-12-18T06:09:41.540Z"
   },
   {
    "duration": 502,
    "start_time": "2021-12-18T06:09:42.125Z"
   },
   {
    "duration": 2,
    "start_time": "2021-12-18T06:23:38.537Z"
   },
   {
    "duration": 9,
    "start_time": "2021-12-18T06:29:25.465Z"
   },
   {
    "duration": 12,
    "start_time": "2021-12-18T06:29:47.330Z"
   },
   {
    "duration": 9,
    "start_time": "2021-12-18T06:30:15.010Z"
   },
   {
    "duration": 9,
    "start_time": "2021-12-18T06:30:38.978Z"
   },
   {
    "duration": 4,
    "start_time": "2021-12-18T06:31:58.013Z"
   },
   {
    "duration": 4,
    "start_time": "2021-12-18T06:32:05.816Z"
   },
   {
    "duration": 4,
    "start_time": "2021-12-18T06:32:19.757Z"
   },
   {
    "duration": 4,
    "start_time": "2021-12-18T06:33:02.804Z"
   },
   {
    "duration": 6,
    "start_time": "2021-12-18T06:33:21.585Z"
   },
   {
    "duration": 11,
    "start_time": "2021-12-18T06:33:51.192Z"
   },
   {
    "duration": 9,
    "start_time": "2021-12-18T06:34:00.304Z"
   },
   {
    "duration": 11,
    "start_time": "2021-12-18T06:34:07.181Z"
   },
   {
    "duration": 4,
    "start_time": "2021-12-18T06:36:18.342Z"
   },
   {
    "duration": 4,
    "start_time": "2021-12-18T06:36:23.726Z"
   },
   {
    "duration": 5,
    "start_time": "2021-12-18T06:37:13.725Z"
   },
   {
    "duration": 4,
    "start_time": "2021-12-18T06:55:10.516Z"
   },
   {
    "duration": 3,
    "start_time": "2021-12-18T06:55:58.349Z"
   },
   {
    "duration": 346,
    "start_time": "2021-12-18T06:57:40.939Z"
   },
   {
    "duration": 3,
    "start_time": "2021-12-18T06:57:52.322Z"
   },
   {
    "duration": 562,
    "start_time": "2021-12-18T06:57:57.213Z"
   },
   {
    "duration": 3,
    "start_time": "2021-12-18T06:58:14.354Z"
   },
   {
    "duration": 4340,
    "start_time": "2021-12-18T06:58:20.984Z"
   },
   {
    "duration": 16,
    "start_time": "2021-12-18T07:03:59.211Z"
   },
   {
    "duration": 7,
    "start_time": "2021-12-18T07:04:22.796Z"
   },
   {
    "duration": 376,
    "start_time": "2021-12-18T07:08:02.884Z"
   },
   {
    "duration": 9,
    "start_time": "2021-12-18T07:20:41.227Z"
   },
   {
    "duration": 3,
    "start_time": "2021-12-18T07:24:21.499Z"
   },
   {
    "duration": 4287,
    "start_time": "2021-12-18T07:27:31.168Z"
   },
   {
    "duration": 14,
    "start_time": "2021-12-18T07:28:36.237Z"
   },
   {
    "duration": 200,
    "start_time": "2021-12-18T07:29:02.185Z"
   },
   {
    "duration": 178,
    "start_time": "2021-12-18T07:29:08.500Z"
   },
   {
    "duration": 328,
    "start_time": "2021-12-18T07:29:14.124Z"
   },
   {
    "duration": 499,
    "start_time": "2021-12-18T07:29:18.617Z"
   },
   {
    "duration": 351,
    "start_time": "2021-12-18T07:29:22.082Z"
   },
   {
    "duration": 8,
    "start_time": "2021-12-18T07:32:58.306Z"
   },
   {
    "duration": 6,
    "start_time": "2021-12-18T07:45:25.835Z"
   },
   {
    "duration": 5,
    "start_time": "2021-12-18T07:45:38.458Z"
   },
   {
    "duration": 3,
    "start_time": "2021-12-18T07:46:59.620Z"
   },
   {
    "duration": 6,
    "start_time": "2021-12-18T07:47:52.634Z"
   },
   {
    "duration": 4,
    "start_time": "2021-12-18T07:48:01.841Z"
   },
   {
    "duration": 4,
    "start_time": "2021-12-18T07:48:09.725Z"
   },
   {
    "duration": 4,
    "start_time": "2021-12-18T07:48:49.110Z"
   },
   {
    "duration": 3,
    "start_time": "2021-12-18T07:48:51.775Z"
   },
   {
    "duration": 2,
    "start_time": "2021-12-18T07:48:53.414Z"
   },
   {
    "duration": 6,
    "start_time": "2021-12-18T07:52:22.541Z"
   },
   {
    "duration": 4,
    "start_time": "2021-12-18T07:52:29.868Z"
   },
   {
    "duration": 181,
    "start_time": "2021-12-18T07:52:36.847Z"
   },
   {
    "duration": 181,
    "start_time": "2021-12-18T07:52:40.693Z"
   },
   {
    "duration": 4,
    "start_time": "2021-12-18T07:52:49.054Z"
   },
   {
    "duration": 83,
    "start_time": "2021-12-18T07:58:57.137Z"
   },
   {
    "duration": 4,
    "start_time": "2021-12-18T07:59:09.631Z"
   },
   {
    "duration": 3,
    "start_time": "2021-12-18T07:59:12.776Z"
   },
   {
    "duration": 3,
    "start_time": "2021-12-18T07:59:14.615Z"
   },
   {
    "duration": 4,
    "start_time": "2021-12-18T08:00:23.482Z"
   },
   {
    "duration": 3,
    "start_time": "2021-12-18T08:00:25.720Z"
   },
   {
    "duration": 3,
    "start_time": "2021-12-18T08:00:26.561Z"
   },
   {
    "duration": 3,
    "start_time": "2021-12-18T08:00:28.048Z"
   },
   {
    "duration": 533,
    "start_time": "2021-12-18T08:00:29.778Z"
   },
   {
    "duration": 361,
    "start_time": "2021-12-18T08:01:15.062Z"
   },
   {
    "duration": 5,
    "start_time": "2021-12-18T08:01:21.557Z"
   },
   {
    "duration": 10,
    "start_time": "2021-12-18T08:01:22.854Z"
   },
   {
    "duration": 9,
    "start_time": "2021-12-18T08:02:32.749Z"
   },
   {
    "duration": 5,
    "start_time": "2021-12-18T08:02:38.575Z"
   },
   {
    "duration": 3,
    "start_time": "2021-12-18T08:02:40.513Z"
   },
   {
    "duration": 3,
    "start_time": "2021-12-18T08:02:40.784Z"
   },
   {
    "duration": 3,
    "start_time": "2021-12-18T08:02:41.033Z"
   },
   {
    "duration": 2,
    "start_time": "2021-12-18T08:02:42.896Z"
   },
   {
    "duration": 3,
    "start_time": "2021-12-18T08:02:44.888Z"
   },
   {
    "duration": 2,
    "start_time": "2021-12-18T08:02:45.242Z"
   },
   {
    "duration": 4143,
    "start_time": "2021-12-18T08:02:45.762Z"
   },
   {
    "duration": 14,
    "start_time": "2021-12-18T08:02:55.417Z"
   },
   {
    "duration": 6,
    "start_time": "2021-12-18T08:11:53.898Z"
   },
   {
    "duration": 5,
    "start_time": "2021-12-18T08:12:15.213Z"
   },
   {
    "duration": 4,
    "start_time": "2021-12-18T08:18:43.717Z"
   },
   {
    "duration": 6,
    "start_time": "2021-12-18T08:18:44.153Z"
   },
   {
    "duration": 6,
    "start_time": "2021-12-18T08:18:48.137Z"
   },
   {
    "duration": 4,
    "start_time": "2021-12-18T08:24:00.999Z"
   },
   {
    "duration": 3,
    "start_time": "2021-12-18T08:24:04.088Z"
   },
   {
    "duration": 3,
    "start_time": "2021-12-18T08:24:26.179Z"
   },
   {
    "duration": 2,
    "start_time": "2021-12-18T08:24:26.719Z"
   },
   {
    "duration": 4061,
    "start_time": "2021-12-18T08:24:46.426Z"
   },
   {
    "duration": 16,
    "start_time": "2021-12-18T08:25:03.433Z"
   },
   {
    "duration": 3,
    "start_time": "2021-12-18T08:25:26.128Z"
   },
   {
    "duration": 1069,
    "start_time": "2021-12-18T08:25:26.135Z"
   },
   {
    "duration": 380,
    "start_time": "2021-12-18T08:25:27.205Z"
   },
   {
    "duration": 32,
    "start_time": "2021-12-18T08:25:27.591Z"
   },
   {
    "duration": 30,
    "start_time": "2021-12-18T08:25:27.624Z"
   },
   {
    "duration": 148,
    "start_time": "2021-12-18T08:25:27.656Z"
   },
   {
    "duration": 1502,
    "start_time": "2021-12-18T08:25:27.806Z"
   },
   {
    "duration": 36,
    "start_time": "2021-12-18T08:25:29.310Z"
   },
   {
    "duration": 59,
    "start_time": "2021-12-18T08:25:29.348Z"
   },
   {
    "duration": 16,
    "start_time": "2021-12-18T08:25:29.409Z"
   },
   {
    "duration": 19,
    "start_time": "2021-12-18T08:25:29.427Z"
   },
   {
    "duration": 608,
    "start_time": "2021-12-18T08:25:29.447Z"
   },
   {
    "duration": 2,
    "start_time": "2021-12-18T08:25:30.057Z"
   },
   {
    "duration": 58,
    "start_time": "2021-12-18T08:25:30.061Z"
   },
   {
    "duration": 4,
    "start_time": "2021-12-18T08:25:30.121Z"
   },
   {
    "duration": 23,
    "start_time": "2021-12-18T08:25:30.126Z"
   },
   {
    "duration": 42,
    "start_time": "2021-12-18T08:25:30.151Z"
   },
   {
    "duration": 32,
    "start_time": "2021-12-18T08:25:30.194Z"
   },
   {
    "duration": 170,
    "start_time": "2021-12-18T08:25:30.228Z"
   },
   {
    "duration": 195,
    "start_time": "2021-12-18T08:25:30.401Z"
   },
   {
    "duration": 101,
    "start_time": "2021-12-18T08:25:30.599Z"
   },
   {
    "duration": 5,
    "start_time": "2021-12-18T08:25:30.792Z"
   },
   {
    "duration": 35,
    "start_time": "2021-12-18T08:25:30.798Z"
   },
   {
    "duration": 27,
    "start_time": "2021-12-18T08:25:30.837Z"
   },
   {
    "duration": 36,
    "start_time": "2021-12-18T08:25:30.866Z"
   },
   {
    "duration": 31,
    "start_time": "2021-12-18T08:25:30.904Z"
   },
   {
    "duration": 19,
    "start_time": "2021-12-18T08:25:30.936Z"
   },
   {
    "duration": 49,
    "start_time": "2021-12-18T08:25:30.956Z"
   },
   {
    "duration": 22,
    "start_time": "2021-12-18T08:25:31.007Z"
   },
   {
    "duration": 29,
    "start_time": "2021-12-18T08:25:31.031Z"
   },
   {
    "duration": 33,
    "start_time": "2021-12-18T08:25:31.062Z"
   },
   {
    "duration": 24,
    "start_time": "2021-12-18T08:25:31.097Z"
   },
   {
    "duration": 22,
    "start_time": "2021-12-18T08:25:31.123Z"
   },
   {
    "duration": 3963,
    "start_time": "2021-12-18T08:25:31.146Z"
   },
   {
    "duration": 14,
    "start_time": "2021-12-18T08:25:35.111Z"
   },
   {
    "duration": 8,
    "start_time": "2021-12-18T08:25:35.126Z"
   },
   {
    "duration": 6,
    "start_time": "2021-12-18T08:25:35.136Z"
   },
   {
    "duration": 11,
    "start_time": "2021-12-18T08:25:35.143Z"
   },
   {
    "duration": 12,
    "start_time": "2021-12-18T08:25:35.155Z"
   },
   {
    "duration": 6,
    "start_time": "2021-12-18T08:25:35.168Z"
   },
   {
    "duration": 4,
    "start_time": "2021-12-18T08:25:35.175Z"
   },
   {
    "duration": 11,
    "start_time": "2021-12-18T08:25:35.181Z"
   },
   {
    "duration": 4,
    "start_time": "2021-12-18T08:25:35.194Z"
   },
   {
    "duration": 7,
    "start_time": "2021-12-18T08:25:35.199Z"
   },
   {
    "duration": 5,
    "start_time": "2021-12-18T08:25:35.208Z"
   },
   {
    "duration": 5,
    "start_time": "2021-12-18T08:25:35.215Z"
   },
   {
    "duration": 3,
    "start_time": "2021-12-18T08:28:13.807Z"
   },
   {
    "duration": 1075,
    "start_time": "2021-12-18T08:28:13.813Z"
   },
   {
    "duration": 363,
    "start_time": "2021-12-18T08:28:14.892Z"
   },
   {
    "duration": 44,
    "start_time": "2021-12-18T08:28:15.257Z"
   },
   {
    "duration": 29,
    "start_time": "2021-12-18T08:28:15.302Z"
   },
   {
    "duration": 126,
    "start_time": "2021-12-18T08:28:15.332Z"
   },
   {
    "duration": 1511,
    "start_time": "2021-12-18T08:28:15.459Z"
   },
   {
    "duration": 37,
    "start_time": "2021-12-18T08:28:16.972Z"
   },
   {
    "duration": 28,
    "start_time": "2021-12-18T08:28:17.011Z"
   },
   {
    "duration": 15,
    "start_time": "2021-12-18T08:28:17.041Z"
   },
   {
    "duration": 51,
    "start_time": "2021-12-18T08:28:17.057Z"
   },
   {
    "duration": 605,
    "start_time": "2021-12-18T08:28:17.110Z"
   },
   {
    "duration": 2,
    "start_time": "2021-12-18T08:28:17.717Z"
   },
   {
    "duration": 45,
    "start_time": "2021-12-18T08:28:17.720Z"
   },
   {
    "duration": 2,
    "start_time": "2021-12-18T08:28:17.766Z"
   },
   {
    "duration": 6,
    "start_time": "2021-12-18T08:28:17.770Z"
   },
   {
    "duration": 15,
    "start_time": "2021-12-18T08:28:17.777Z"
   },
   {
    "duration": 21,
    "start_time": "2021-12-18T08:28:17.793Z"
   },
   {
    "duration": 104,
    "start_time": "2021-12-18T08:28:17.896Z"
   },
   {
    "duration": 187,
    "start_time": "2021-12-18T08:28:18.005Z"
   },
   {
    "duration": 100,
    "start_time": "2021-12-18T08:28:18.196Z"
   },
   {
    "duration": 3,
    "start_time": "2021-12-18T08:28:18.298Z"
   },
   {
    "duration": 5,
    "start_time": "2021-12-18T08:28:18.303Z"
   },
   {
    "duration": 3,
    "start_time": "2021-12-18T08:28:18.311Z"
   },
   {
    "duration": 6,
    "start_time": "2021-12-18T08:28:18.316Z"
   },
   {
    "duration": 6,
    "start_time": "2021-12-18T08:28:18.323Z"
   },
   {
    "duration": 5,
    "start_time": "2021-12-18T08:28:18.330Z"
   },
   {
    "duration": 7,
    "start_time": "2021-12-18T08:28:18.336Z"
   },
   {
    "duration": 4,
    "start_time": "2021-12-18T08:28:18.344Z"
   },
   {
    "duration": 5,
    "start_time": "2021-12-18T08:28:18.350Z"
   },
   {
    "duration": 5,
    "start_time": "2021-12-18T08:28:18.356Z"
   },
   {
    "duration": 3,
    "start_time": "2021-12-18T08:28:18.391Z"
   },
   {
    "duration": 7,
    "start_time": "2021-12-18T08:28:18.395Z"
   },
   {
    "duration": 4087,
    "start_time": "2021-12-18T08:28:18.404Z"
   },
   {
    "duration": 15,
    "start_time": "2021-12-18T08:28:22.493Z"
   },
   {
    "duration": 8,
    "start_time": "2021-12-18T08:28:22.509Z"
   },
   {
    "duration": 4,
    "start_time": "2021-12-18T08:28:22.518Z"
   },
   {
    "duration": 7,
    "start_time": "2021-12-18T08:28:22.524Z"
   },
   {
    "duration": 6,
    "start_time": "2021-12-18T08:28:22.532Z"
   },
   {
    "duration": 5,
    "start_time": "2021-12-18T08:28:22.540Z"
   },
   {
    "duration": 4,
    "start_time": "2021-12-18T08:28:22.546Z"
   },
   {
    "duration": 4,
    "start_time": "2021-12-18T08:28:22.552Z"
   },
   {
    "duration": 4,
    "start_time": "2021-12-18T08:28:22.558Z"
   },
   {
    "duration": 27,
    "start_time": "2021-12-18T08:28:22.564Z"
   },
   {
    "duration": 2,
    "start_time": "2021-12-18T08:28:22.593Z"
   },
   {
    "duration": 5,
    "start_time": "2021-12-18T08:28:22.596Z"
   },
   {
    "duration": 8,
    "start_time": "2021-12-18T08:28:40.098Z"
   }
  ],
  "kernelspec": {
   "display_name": "Python 3",
   "language": "python",
   "name": "python3"
  },
  "language_info": {
   "codemirror_mode": {
    "name": "ipython",
    "version": 3
   },
   "file_extension": ".py",
   "mimetype": "text/x-python",
   "name": "python",
   "nbconvert_exporter": "python",
   "pygments_lexer": "ipython3",
   "version": "3.8.8"
  },
  "toc": {
   "base_numbering": 1,
   "nav_menu": {},
   "number_sections": true,
   "sideBar": true,
   "skip_h1_title": true,
   "title_cell": "Table of Contents",
   "title_sidebar": "Contents",
   "toc_cell": false,
   "toc_position": {},
   "toc_section_display": true,
   "toc_window_display": false
  }
 },
 "nbformat": 4,
 "nbformat_minor": 2
}
