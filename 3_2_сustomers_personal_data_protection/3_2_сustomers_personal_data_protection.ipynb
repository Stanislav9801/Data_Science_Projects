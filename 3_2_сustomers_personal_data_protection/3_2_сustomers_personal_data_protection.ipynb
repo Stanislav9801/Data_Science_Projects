{
 "cells": [
  {
   "cell_type": "markdown",
   "metadata": {
    "toc": true
   },
   "source": [
    "<h1>Содержание<span class=\"tocSkip\"></span></h1>\n",
    "<div class=\"toc\"><ul class=\"toc-item\"><li><span><a href=\"#Импорт-библиотек-и-настройка-среды\" data-toc-modified-id=\"Импорт-библиотек-и-настройка-среды-1\"><span class=\"toc-item-num\">1&nbsp;&nbsp;</span>Импорт библиотек и настройка среды</a></span></li><li><span><a href=\"#Загрузка-данных\" data-toc-modified-id=\"Загрузка-данных-2\"><span class=\"toc-item-num\">2&nbsp;&nbsp;</span>Загрузка данных</a></span></li><li><span><a href=\"#Умножение-матриц\" data-toc-modified-id=\"Умножение-матриц-3\"><span class=\"toc-item-num\">3&nbsp;&nbsp;</span>Умножение матриц</a></span></li><li><span><a href=\"#Алгоритм-преобразования\" data-toc-modified-id=\"Алгоритм-преобразования-4\"><span class=\"toc-item-num\">4&nbsp;&nbsp;</span>Алгоритм преобразования</a></span></li><li><span><a href=\"#Проверка-алгоритма\" data-toc-modified-id=\"Проверка-алгоритма-5\"><span class=\"toc-item-num\">5&nbsp;&nbsp;</span>Проверка алгоритма</a></span></li></ul></div>"
   ]
  },
  {
   "cell_type": "markdown",
   "metadata": {},
   "source": [
    "# Защита персональных данных клиентов"
   ]
  },
  {
   "cell_type": "markdown",
   "metadata": {},
   "source": [
    "Вам нужно защитить данные клиентов страховой компании «Хоть потоп». Разработайте такой метод преобразования данных, чтобы по ним было сложно восстановить персональную информацию. Обоснуйте корректность его работы.\n",
    "\n",
    "Нужно защитить данные, чтобы при преобразовании качество моделей машинного обучения не ухудшилось. Подбирать наилучшую модель не требуется."
   ]
  },
  {
   "cell_type": "markdown",
   "metadata": {},
   "source": [
    "Набор данных находится в файле `/datasets/insurance.csv`.  \n",
    "Признаки: пол, возраст и зарплата застрахованного, количество членов его семьи.  \n",
    "Целевой признак: количество страховых выплат клиенту за последние 5 лет."
   ]
  },
  {
   "cell_type": "markdown",
   "metadata": {},
   "source": [
    "## Импорт библиотек и настройка среды"
   ]
  },
  {
   "cell_type": "code",
   "execution_count": 1,
   "metadata": {},
   "outputs": [
    {
     "data": {
      "text/html": [
       "<style>.container { width:100% !important; }</style>"
      ],
      "text/plain": [
       "<IPython.core.display.HTML object>"
      ]
     },
     "metadata": {},
     "output_type": "display_data"
    }
   ],
   "source": [
    "import pandas as pd\n",
    "import numpy as np\n",
    "from sklearn.metrics import r2_score\n",
    "from sklearn.linear_model import LinearRegression\n",
    "from sklearn.model_selection import train_test_split, cross_val_score\n",
    "\n",
    "import warnings\n",
    "warnings.filterwarnings('ignore')\n",
    "\n",
    "from IPython.core.display import display, HTML\n",
    "display(HTML(\"<style>.container { width:100% !important; }</style>\"))"
   ]
  },
  {
   "cell_type": "markdown",
   "metadata": {},
   "source": [
    "## Загрузка данных"
   ]
  },
  {
   "cell_type": "code",
   "execution_count": 2,
   "metadata": {},
   "outputs": [
    {
     "name": "stdout",
     "output_type": "stream",
     "text": [
      "Shape: (5000, 5)\n",
      "Количество пропусков 0\n",
      "Количество дубликатов 153\n"
     ]
    },
    {
     "data": {
      "text/html": [
       "<div>\n",
       "<style scoped>\n",
       "    .dataframe tbody tr th:only-of-type {\n",
       "        vertical-align: middle;\n",
       "    }\n",
       "\n",
       "    .dataframe tbody tr th {\n",
       "        vertical-align: top;\n",
       "    }\n",
       "\n",
       "    .dataframe thead th {\n",
       "        text-align: right;\n",
       "    }\n",
       "</style>\n",
       "<table border=\"1\" class=\"dataframe\">\n",
       "  <thead>\n",
       "    <tr style=\"text-align: right;\">\n",
       "      <th></th>\n",
       "      <th>Пол</th>\n",
       "      <th>Возраст</th>\n",
       "      <th>Зарплата</th>\n",
       "      <th>Члены семьи</th>\n",
       "      <th>Страховые выплаты</th>\n",
       "    </tr>\n",
       "  </thead>\n",
       "  <tbody>\n",
       "    <tr>\n",
       "      <th>0</th>\n",
       "      <td>1</td>\n",
       "      <td>41.0</td>\n",
       "      <td>49600.0</td>\n",
       "      <td>1</td>\n",
       "      <td>0</td>\n",
       "    </tr>\n",
       "    <tr>\n",
       "      <th>1</th>\n",
       "      <td>0</td>\n",
       "      <td>46.0</td>\n",
       "      <td>38000.0</td>\n",
       "      <td>1</td>\n",
       "      <td>1</td>\n",
       "    </tr>\n",
       "    <tr>\n",
       "      <th>2</th>\n",
       "      <td>0</td>\n",
       "      <td>29.0</td>\n",
       "      <td>21000.0</td>\n",
       "      <td>0</td>\n",
       "      <td>0</td>\n",
       "    </tr>\n",
       "    <tr>\n",
       "      <th>3</th>\n",
       "      <td>0</td>\n",
       "      <td>21.0</td>\n",
       "      <td>41700.0</td>\n",
       "      <td>2</td>\n",
       "      <td>0</td>\n",
       "    </tr>\n",
       "    <tr>\n",
       "      <th>4</th>\n",
       "      <td>1</td>\n",
       "      <td>28.0</td>\n",
       "      <td>26100.0</td>\n",
       "      <td>0</td>\n",
       "      <td>0</td>\n",
       "    </tr>\n",
       "  </tbody>\n",
       "</table>\n",
       "</div>"
      ],
      "text/plain": [
       "   Пол  Возраст  Зарплата  Члены семьи  Страховые выплаты\n",
       "0    1     41.0   49600.0            1                  0\n",
       "1    0     46.0   38000.0            1                  1\n",
       "2    0     29.0   21000.0            0                  0\n",
       "3    0     21.0   41700.0            2                  0\n",
       "4    1     28.0   26100.0            0                  0"
      ]
     },
     "metadata": {},
     "output_type": "display_data"
    },
    {
     "data": {
      "text/html": [
       "<div>\n",
       "<style scoped>\n",
       "    .dataframe tbody tr th:only-of-type {\n",
       "        vertical-align: middle;\n",
       "    }\n",
       "\n",
       "    .dataframe tbody tr th {\n",
       "        vertical-align: top;\n",
       "    }\n",
       "\n",
       "    .dataframe thead th {\n",
       "        text-align: right;\n",
       "    }\n",
       "</style>\n",
       "<table border=\"1\" class=\"dataframe\">\n",
       "  <thead>\n",
       "    <tr style=\"text-align: right;\">\n",
       "      <th></th>\n",
       "      <th>Пол</th>\n",
       "      <th>Возраст</th>\n",
       "      <th>Зарплата</th>\n",
       "      <th>Члены семьи</th>\n",
       "      <th>Страховые выплаты</th>\n",
       "    </tr>\n",
       "  </thead>\n",
       "  <tbody>\n",
       "    <tr>\n",
       "      <th>count</th>\n",
       "      <td>5000.000000</td>\n",
       "      <td>5000.000000</td>\n",
       "      <td>5000.000000</td>\n",
       "      <td>5000.000000</td>\n",
       "      <td>5000.000000</td>\n",
       "    </tr>\n",
       "    <tr>\n",
       "      <th>mean</th>\n",
       "      <td>0.499000</td>\n",
       "      <td>30.952800</td>\n",
       "      <td>39916.360000</td>\n",
       "      <td>1.194200</td>\n",
       "      <td>0.148000</td>\n",
       "    </tr>\n",
       "    <tr>\n",
       "      <th>std</th>\n",
       "      <td>0.500049</td>\n",
       "      <td>8.440807</td>\n",
       "      <td>9900.083569</td>\n",
       "      <td>1.091387</td>\n",
       "      <td>0.463183</td>\n",
       "    </tr>\n",
       "    <tr>\n",
       "      <th>min</th>\n",
       "      <td>0.000000</td>\n",
       "      <td>18.000000</td>\n",
       "      <td>5300.000000</td>\n",
       "      <td>0.000000</td>\n",
       "      <td>0.000000</td>\n",
       "    </tr>\n",
       "    <tr>\n",
       "      <th>25%</th>\n",
       "      <td>0.000000</td>\n",
       "      <td>24.000000</td>\n",
       "      <td>33300.000000</td>\n",
       "      <td>0.000000</td>\n",
       "      <td>0.000000</td>\n",
       "    </tr>\n",
       "    <tr>\n",
       "      <th>50%</th>\n",
       "      <td>0.000000</td>\n",
       "      <td>30.000000</td>\n",
       "      <td>40200.000000</td>\n",
       "      <td>1.000000</td>\n",
       "      <td>0.000000</td>\n",
       "    </tr>\n",
       "    <tr>\n",
       "      <th>75%</th>\n",
       "      <td>1.000000</td>\n",
       "      <td>37.000000</td>\n",
       "      <td>46600.000000</td>\n",
       "      <td>2.000000</td>\n",
       "      <td>0.000000</td>\n",
       "    </tr>\n",
       "    <tr>\n",
       "      <th>max</th>\n",
       "      <td>1.000000</td>\n",
       "      <td>65.000000</td>\n",
       "      <td>79000.000000</td>\n",
       "      <td>6.000000</td>\n",
       "      <td>5.000000</td>\n",
       "    </tr>\n",
       "  </tbody>\n",
       "</table>\n",
       "</div>"
      ],
      "text/plain": [
       "               Пол      Возраст      Зарплата  Члены семьи  Страховые выплаты\n",
       "count  5000.000000  5000.000000   5000.000000  5000.000000        5000.000000\n",
       "mean      0.499000    30.952800  39916.360000     1.194200           0.148000\n",
       "std       0.500049     8.440807   9900.083569     1.091387           0.463183\n",
       "min       0.000000    18.000000   5300.000000     0.000000           0.000000\n",
       "25%       0.000000    24.000000  33300.000000     0.000000           0.000000\n",
       "50%       0.000000    30.000000  40200.000000     1.000000           0.000000\n",
       "75%       1.000000    37.000000  46600.000000     2.000000           0.000000\n",
       "max       1.000000    65.000000  79000.000000     6.000000           5.000000"
      ]
     },
     "metadata": {},
     "output_type": "display_data"
    },
    {
     "data": {
      "image/png": "[encoded data removed]",
      "text/plain": [
       "<Figure size 720x576 with 6 Axes>"
      ]
     },
     "metadata": {
      "needs_background": "light"
     },
     "output_type": "display_data"
    }
   ],
   "source": [
    "data = pd.read_csv('/datasets/insurance.csv')\n",
    "\n",
    "print('Shape:', data.shape)\n",
    "print('Количество пропусков', data.isna().sum().sum())\n",
    "print('Количество дубликатов', data.duplicated().sum())\n",
    "display(data.head())\n",
    "display(data.describe())\n",
    "data.hist(figsize=(10, 8));"
   ]
  },
  {
   "cell_type": "markdown",
   "metadata": {},
   "source": [
    "В данных есть дубликаты. Возможно, это просто клиенты с одинаковыми признаками. Оставим их."
   ]
  },
  {
   "cell_type": "markdown",
   "metadata": {},
   "source": [
    "## Умножение матриц"
   ]
  },
  {
   "cell_type": "markdown",
   "metadata": {},
   "source": [
    "Обозначения:\n",
    "\n",
    "- $X$ — матрица признаков (нулевой столбец состоит из единиц)\n",
    "\n",
    "- $y$ — вектор целевого признака\n",
    "\n",
    "- $P$ — матрица, на которую умножаются признаки\n",
    "\n",
    "- $w$ — вектор весов линейной регрессии (нулевой элемент равен сдвигу)"
   ]
  },
  {
   "cell_type": "markdown",
   "metadata": {},
   "source": [
    "Предсказания:\n",
    "\n",
    "$$\n",
    "a = Xw\n",
    "$$\n",
    "\n",
    "Задача обучения:\n",
    "\n",
    "$$\n",
    "w = \\arg\\min_w MSE(Xw, y)\n",
    "$$\n",
    "\n",
    "Формула обучения:\n",
    "\n",
    "$$\n",
    "w = (X^T X)^{-1} X^T y\n",
    "$$"
   ]
  },
  {
   "cell_type": "markdown",
   "metadata": {},
   "source": [
    "**Ответ:**   \n",
    "Качество не изменится."
   ]
  },
  {
   "cell_type": "markdown",
   "metadata": {},
   "source": [
    "**Обоснование:**\n",
    "\n",
    "Используемые свойства:\n",
    "$$\n",
    "(AB)^T=B^T A^T\n",
    "$$\n",
    "$$\n",
    "(AB)^{-1} = B^{-1} A^{-1}\n",
    "$$\n",
    "$$\n",
    "A A^{-1} = A^{-1} A = E\n",
    "$$\n",
    "$$\n",
    "AE = EA = A\n",
    "$$\n",
    "Доказательство:\n",
    "$$\n",
    "a = Xw = XEw = XPP^{-1}w = (XP)P^{-1}w = (XP)w' = a'\n",
    "$$\n",
    "\\\n",
    "$$\n",
    "w = (X^T X)^{-1} X^T y\n",
    "$$\n",
    "\\\n",
    "$$\n",
    "w' = ((XP)^T XP)^{-1} (XP)^T y\n",
    "$$\n",
    "$$\n",
    "w' = (P^T (X^T X) P)^{-1} (XP)^T y\n",
    "$$"
   ]
  },
  {
   "cell_type": "markdown",
   "metadata": {},
   "source": [
    "$$\n",
    "w' = (P^T (X^T X) P)^{-1} P^T X^T y\n",
    "$$\n",
    "$$\n",
    "w' = P^{-1} (X^T X)^{-1} (P^T)^{-1} P^T X^T y = P^{-1} (X^T X)^{-1} X^T y\n",
    "$$\n",
    "\n",
    "А так как $ w = (X^T X)^{-1} X^T y $, следовательно:\n",
    "$$\n",
    "w' = P^{-1} w\n",
    "$$  \n",
    "\n",
    "Таким образом мы имеем: $a = Xw$, и $a' = (XP)w'$  \n",
    "\n",
    "Теперь подставим $w'$ в наше уравнение: $a' = XPP^{-1}w = Xw = a$\n",
    "\n",
    "Мы видим, что новый вектор весов в будет равен старому вектору весов умноженному на обратную матрицу от той, на которую мы умножили матрицу признаков.  \n",
    "Таким образом, мы смогли показать, как связаны параметры линейной регрессиии в задаче с исходными признаками, и с преобразованными."
   ]
  },
  {
   "cell_type": "markdown",
   "metadata": {},
   "source": [
    "## Алгоритм преобразования"
   ]
  },
  {
   "cell_type": "markdown",
   "metadata": {},
   "source": [
    "Для защиты данных пользователей будем умножать матрицу с данными пользователей на обратимую матрицу."
   ]
  },
  {
   "cell_type": "markdown",
   "metadata": {},
   "source": [
    "**Алгоритм**\n",
    "\n",
    "$X secured = X * MATRIXinvertible$"
   ]
  },
  {
   "cell_type": "code",
   "execution_count": 9,
   "metadata": {},
   "outputs": [],
   "source": [
    "def secure_data(X):\n",
    "    # Создадим обратимую матрицу размера 4 х 4\n",
    "    rand_state = np.random.RandomState(seed=1)\n",
    "    inv_matrix = rand_state.normal(size=(X.shape[1], X.shape[1]))\n",
    "    # Проверим матрицу на обратимость\n",
    "    if np.linalg.det(inv_matrix) != 0:\n",
    "        # Умножим первоначальную матрицу с признаками \"X\" на обратимую матрицу \"inv_matrix\" и сохраним рещультат в \"X_new\"\n",
    "        X_new = X @ inv_matrix\n",
    "        return X_new\n",
    "    else:\n",
    "        return print('Function error: matrix is not invertible. Please fix the function')"
   ]
  },
  {
   "cell_type": "markdown",
   "metadata": {},
   "source": [
    "**Обоснование**  \n",
    "\n",
    "Можно сказать, что обратимая матрица - это константа $P$. Исходная функция прямой, которая аппроксимирует зависимость признаков от целевой переменной, у нас выглядит следующим образом: $a = Xw$  \n",
    "При умножении матрицы $X$ на константу (в нашем случае матрицу $P$) - мы изменяем угол наклона прямой. Чтобы вернуть угол прямой в исходной положение, при обучении корректируется вектор весов, как бы отклоняя прямую в обратную сторону.  \n",
    "Поэтому, при умножении матрицы признаков $X$ на константную обратимую матрицу $P$ - качество нашей модели не меняется. "
   ]
  },
  {
   "cell_type": "markdown",
   "metadata": {},
   "source": [
    "Докажем, что $ MSE(Xw_1, y) = MSE(XPw_2, y) $\n",
    "$$\n",
    "Xw_1 = XPw_2\n",
    "$$\n",
    "$$\n",
    "X(X^TX)^{-1}X^Ty = XP((XP)^TXP)^{-1}(XP)^Ty\n",
    "$$\n",
    "$$\n",
    "X(X^TX)^{-1}X^Ty = XP(P^T (X^TX) P)^{-1} P^T X^T y\n",
    "$$\n",
    "$$\n",
    "X(X^TX)^{-1}X^Ty = X P P^{-1} (X^T X)^{-1} (P^T)^{-1} P^T X^T y\n",
    "$$\n",
    "$$\n",
    "X(X^TX)^{-1}X^T y = X (X^T X)^{-1} X^T y\n",
    "$$\n",
    "$$\n",
    "Xw_1 = Xw_1\n",
    "$$\n",
    "\n",
    "Таким образом, мы доказали, что ответы модели, а значит и средняя квадратичная ошибка, действительно равны в обоих случаях."
   ]
  },
  {
   "cell_type": "markdown",
   "metadata": {},
   "source": [
    "## Проверка алгоритма"
   ]
  },
  {
   "cell_type": "code",
   "execution_count": 5,
   "metadata": {},
   "outputs": [],
   "source": [
    "# Разделим данные на признаки и таргет.\n",
    "X, y = data.drop('Страховые выплаты', axis=1), data['Страховые выплаты']"
   ]
  },
  {
   "cell_type": "code",
   "execution_count": 5,
   "metadata": {},
   "outputs": [],
   "source": [
    "# Создадим функцию, которая будет оценивать параметр r2 и выводить кожффициенты модели на экран.\n",
    "def calculate_r2(X):\n",
    "    lin_reg = LinearRegression()\n",
    "    score = cross_val_score(lin_reg, X, y, scoring='r2').mean()\n",
    "    lin_reg.fit(X, y)\n",
    "    print('R2_score', score)\n",
    "    print(f'''    Коэффициенты: {lin_reg.coef_}, \n",
    "    Сдвиг: {lin_reg.intercept_}''')"
   ]
  },
  {
   "cell_type": "code",
   "execution_count": 9,
   "metadata": {},
   "outputs": [
    {
     "name": "stdout",
     "output_type": "stream",
     "text": [
      "Линейная регрессия с исходными признаками\n",
      "R2_score 0.4231137691590773\n",
      "    Коэффициенты: [ 7.92580543e-03  3.57083050e-02 -1.70080492e-07 -1.35676623e-02], \n",
      "    Сдвиг: -0.9382355041527256\n"
     ]
    }
   ],
   "source": [
    "# Посчитаем R2 на первоначальных данных\n",
    "print('Линейная регрессия с исходными признаками')\n",
    "calculate_r2(X)"
   ]
  },
  {
   "cell_type": "markdown",
   "metadata": {},
   "source": [
    "Теперь умножим признаки на обратимую матрицу и проверим, изменится ли качество линейной регрессии."
   ]
  },
  {
   "cell_type": "code",
   "execution_count": 7,
   "metadata": {},
   "outputs": [
    {
     "name": "stdout",
     "output_type": "stream",
     "text": [
      "Shape of X: (5000, 4)\n",
      "Shape of X_new: (5000, 4)\n"
     ]
    }
   ],
   "source": [
    "X_secured = secure_data(X)\n",
    "print('Shape of X:', X_secured.shape)\n",
    "print('Shape of X_new:', X_secured.shape)"
   ]
  },
  {
   "cell_type": "code",
   "execution_count": 10,
   "metadata": {},
   "outputs": [
    {
     "name": "stdout",
     "output_type": "stream",
     "text": [
      "Линейная регрессия с преобразованными признаками\n",
      "R2_score 0.42311376915911847\n",
      "    Коэффициенты: [0.04432657 0.01894927 0.03689241 0.03075391], \n",
      "    Сдвиг: -0.9382355041363116\n"
     ]
    }
   ],
   "source": [
    "# Посчитаем R2 для признаков, которые были умножены на обратимую матрицу.\n",
    "print('Линейная регрессия с преобразованными признаками')\n",
    "calculate_r2(X_secured)"
   ]
  },
  {
   "cell_type": "markdown",
   "metadata": {},
   "source": [
    "**Резюме**  \n",
    "Качество модели практически не изменилось (изменение есть лишь на 13-м знаке после запятой)."
   ]
  }
 ],
 "metadata": {
  "ExecuteTimeLog": [
   {
    "duration": 415,
    "start_time": "2022-04-18T13:47:44.147Z"
   },
   {
    "duration": 116,
    "start_time": "2022-04-18T13:47:58.410Z"
   },
   {
    "duration": 112,
    "start_time": "2022-04-18T13:48:04.522Z"
   },
   {
    "duration": 105,
    "start_time": "2022-04-18T13:48:10.059Z"
   },
   {
    "duration": 111,
    "start_time": "2022-04-18T13:48:20.506Z"
   },
   {
    "duration": 24,
    "start_time": "2022-04-18T13:55:32.134Z"
   },
   {
    "duration": 20,
    "start_time": "2022-04-18T13:55:52.717Z"
   },
   {
    "duration": 42,
    "start_time": "2022-04-18T13:56:06.271Z"
   },
   {
    "duration": 8,
    "start_time": "2022-04-18T13:57:56.914Z"
   },
   {
    "duration": 12,
    "start_time": "2022-04-18T13:58:25.547Z"
   },
   {
    "duration": 37,
    "start_time": "2022-04-18T13:59:31.130Z"
   },
   {
    "duration": 1397,
    "start_time": "2022-04-18T14:00:43.179Z"
   },
   {
    "duration": 763,
    "start_time": "2022-04-18T14:00:47.575Z"
   },
   {
    "duration": 950,
    "start_time": "2022-04-18T14:00:58.860Z"
   },
   {
    "duration": 963,
    "start_time": "2022-04-18T14:01:27.987Z"
   },
   {
    "duration": 913,
    "start_time": "2022-04-18T14:01:36.786Z"
   },
   {
    "duration": 908,
    "start_time": "2022-04-18T14:01:44.525Z"
   },
   {
    "duration": 72,
    "start_time": "2022-04-18T14:02:15.840Z"
   },
   {
    "duration": 232,
    "start_time": "2022-04-18T14:03:05.288Z"
   },
   {
    "duration": 918,
    "start_time": "2022-04-18T14:03:12.532Z"
   },
   {
    "duration": 237,
    "start_time": "2022-04-18T14:03:26.953Z"
   },
   {
    "duration": 1076,
    "start_time": "2022-04-18T14:03:33.422Z"
   },
   {
    "duration": 946,
    "start_time": "2022-04-18T14:03:50.179Z"
   },
   {
    "duration": 105,
    "start_time": "2022-04-18T14:11:29.156Z"
   },
   {
    "duration": 162,
    "start_time": "2022-04-18T14:13:49.250Z"
   },
   {
    "duration": 10,
    "start_time": "2022-04-18T14:14:17.983Z"
   },
   {
    "duration": 12,
    "start_time": "2022-04-18T14:15:59.511Z"
   },
   {
    "duration": 4,
    "start_time": "2022-04-18T14:16:03.688Z"
   },
   {
    "duration": 16,
    "start_time": "2022-04-18T14:16:04.191Z"
   },
   {
    "duration": 4,
    "start_time": "2022-04-18T14:16:31.609Z"
   },
   {
    "duration": 12,
    "start_time": "2022-04-18T14:16:32.319Z"
   },
   {
    "duration": 4,
    "start_time": "2022-04-18T14:16:38.415Z"
   },
   {
    "duration": 12,
    "start_time": "2022-04-18T14:16:38.723Z"
   },
   {
    "duration": 11,
    "start_time": "2022-04-18T14:16:53.140Z"
   },
   {
    "duration": 6,
    "start_time": "2022-04-18T14:16:56.337Z"
   },
   {
    "duration": 115,
    "start_time": "2022-04-18T14:19:46.061Z"
   },
   {
    "duration": 58,
    "start_time": "2022-04-18T14:21:04.050Z"
   },
   {
    "duration": 42,
    "start_time": "2022-04-18T14:21:34.720Z"
   },
   {
    "duration": 10,
    "start_time": "2022-04-18T14:22:01.104Z"
   },
   {
    "duration": 53,
    "start_time": "2022-04-18T14:24:07.799Z"
   },
   {
    "duration": 50,
    "start_time": "2022-04-18T14:24:14.820Z"
   },
   {
    "duration": 229,
    "start_time": "2022-04-18T14:30:17.988Z"
   },
   {
    "duration": 14,
    "start_time": "2022-04-18T14:32:24.014Z"
   },
   {
    "duration": 6,
    "start_time": "2022-04-18T14:32:27.719Z"
   },
   {
    "duration": 7,
    "start_time": "2022-04-18T14:34:06.125Z"
   },
   {
    "duration": 13,
    "start_time": "2022-04-18T14:34:36.085Z"
   },
   {
    "duration": 225,
    "start_time": "2022-04-18T14:34:50.897Z"
   },
   {
    "duration": 6,
    "start_time": "2022-04-18T14:34:57.952Z"
   },
   {
    "duration": 6,
    "start_time": "2022-04-18T14:35:32.777Z"
   },
   {
    "duration": 4,
    "start_time": "2022-04-18T14:35:43.161Z"
   },
   {
    "duration": 6,
    "start_time": "2022-04-18T14:37:14.643Z"
   },
   {
    "duration": 7,
    "start_time": "2022-04-18T14:37:17.492Z"
   },
   {
    "duration": 6,
    "start_time": "2022-04-18T14:37:18.002Z"
   },
   {
    "duration": 4,
    "start_time": "2022-04-18T14:37:19.717Z"
   },
   {
    "duration": 7,
    "start_time": "2022-04-18T14:37:20.242Z"
   },
   {
    "duration": 4,
    "start_time": "2022-04-18T14:37:20.636Z"
   },
   {
    "duration": 9,
    "start_time": "2022-04-18T14:37:22.459Z"
   },
   {
    "duration": 8,
    "start_time": "2022-04-18T14:37:23.661Z"
   },
   {
    "duration": 5,
    "start_time": "2022-04-18T14:37:25.164Z"
   },
   {
    "duration": 9,
    "start_time": "2022-04-18T14:37:27.405Z"
   },
   {
    "duration": 7,
    "start_time": "2022-04-18T14:38:36.032Z"
   },
   {
    "duration": 9,
    "start_time": "2022-04-18T14:38:37.191Z"
   },
   {
    "duration": 11,
    "start_time": "2022-04-18T14:38:38.400Z"
   },
   {
    "duration": 844,
    "start_time": "2022-04-18T14:38:39.674Z"
   },
   {
    "duration": 933,
    "start_time": "2022-04-18T14:39:51.986Z"
   },
   {
    "duration": 949,
    "start_time": "2022-04-18T14:39:56.991Z"
   },
   {
    "duration": 893,
    "start_time": "2022-04-18T14:40:01.072Z"
   },
   {
    "duration": 7,
    "start_time": "2022-04-18T14:41:48.056Z"
   },
   {
    "duration": 7,
    "start_time": "2022-04-18T14:41:52.039Z"
   },
   {
    "duration": 6,
    "start_time": "2022-04-18T14:41:53.468Z"
   },
   {
    "duration": 7,
    "start_time": "2022-04-18T14:41:55.499Z"
   },
   {
    "duration": 12,
    "start_time": "2022-04-18T14:42:01.473Z"
   },
   {
    "duration": 11,
    "start_time": "2022-04-18T14:42:43.248Z"
   },
   {
    "duration": 6,
    "start_time": "2022-04-18T14:42:47.037Z"
   },
   {
    "duration": 12,
    "start_time": "2022-04-18T14:42:47.767Z"
   },
   {
    "duration": 13,
    "start_time": "2022-04-18T14:42:52.277Z"
   },
   {
    "duration": 4,
    "start_time": "2022-04-18T14:43:34.331Z"
   },
   {
    "duration": 6,
    "start_time": "2022-04-18T14:43:39.309Z"
   },
   {
    "duration": 5,
    "start_time": "2022-04-18T14:43:40.986Z"
   },
   {
    "duration": 7,
    "start_time": "2022-04-18T14:43:41.965Z"
   },
   {
    "duration": 5,
    "start_time": "2022-04-18T14:43:45.400Z"
   },
   {
    "duration": 7,
    "start_time": "2022-04-18T14:43:46.284Z"
   },
   {
    "duration": 6,
    "start_time": "2022-04-18T14:43:48.205Z"
   },
   {
    "duration": 6,
    "start_time": "2022-04-18T14:43:50.619Z"
   },
   {
    "duration": 7,
    "start_time": "2022-04-18T14:43:52.361Z"
   },
   {
    "duration": 5,
    "start_time": "2022-04-18T14:45:18.046Z"
   },
   {
    "duration": 6,
    "start_time": "2022-04-18T14:45:18.850Z"
   },
   {
    "duration": 5,
    "start_time": "2022-04-18T14:45:20.593Z"
   },
   {
    "duration": 7,
    "start_time": "2022-04-18T14:45:21.819Z"
   },
   {
    "duration": 8,
    "start_time": "2022-04-18T14:45:22.748Z"
   },
   {
    "duration": 7,
    "start_time": "2022-04-18T14:45:23.771Z"
   },
   {
    "duration": 4,
    "start_time": "2022-04-18T14:45:25.116Z"
   },
   {
    "duration": 6,
    "start_time": "2022-04-18T14:45:25.817Z"
   },
   {
    "duration": 5,
    "start_time": "2022-04-18T14:45:27.372Z"
   },
   {
    "duration": 7,
    "start_time": "2022-04-18T14:45:27.660Z"
   },
   {
    "duration": 6,
    "start_time": "2022-04-18T14:45:29.062Z"
   },
   {
    "duration": 8,
    "start_time": "2022-04-18T14:45:29.370Z"
   },
   {
    "duration": 6,
    "start_time": "2022-04-18T14:45:30.952Z"
   },
   {
    "duration": 7,
    "start_time": "2022-04-18T14:45:31.248Z"
   },
   {
    "duration": 5,
    "start_time": "2022-04-18T14:45:32.359Z"
   },
   {
    "duration": 7,
    "start_time": "2022-04-18T14:45:32.643Z"
   },
   {
    "duration": 22,
    "start_time": "2022-04-18T14:45:33.714Z"
   },
   {
    "duration": 6,
    "start_time": "2022-04-18T14:45:33.932Z"
   },
   {
    "duration": 889,
    "start_time": "2022-04-18T14:45:45.638Z"
   },
   {
    "duration": 7,
    "start_time": "2022-04-18T14:46:01.617Z"
   },
   {
    "duration": 7,
    "start_time": "2022-04-18T14:46:10.293Z"
   },
   {
    "duration": 1641,
    "start_time": "2022-04-18T19:39:52.077Z"
   },
   {
    "duration": 1624,
    "start_time": "2022-04-18T19:39:53.720Z"
   },
   {
    "duration": 6,
    "start_time": "2022-04-18T19:39:55.346Z"
   },
   {
    "duration": 234,
    "start_time": "2022-04-18T19:39:55.354Z"
   },
   {
    "duration": 9,
    "start_time": "2022-04-18T19:39:55.590Z"
   },
   {
    "duration": 5,
    "start_time": "2022-04-18T19:40:15.019Z"
   },
   {
    "duration": 6,
    "start_time": "2022-04-18T19:40:22.755Z"
   },
   {
    "duration": 7,
    "start_time": "2022-04-18T19:42:06.210Z"
   },
   {
    "duration": 131,
    "start_time": "2022-04-18T19:42:17.751Z"
   },
   {
    "duration": 57,
    "start_time": "2022-04-18T19:42:41.956Z"
   },
   {
    "duration": 4,
    "start_time": "2022-04-18T20:12:43.496Z"
   },
   {
    "duration": 62,
    "start_time": "2022-04-18T20:13:07.427Z"
   },
   {
    "duration": 6,
    "start_time": "2022-04-18T20:13:16.459Z"
   },
   {
    "duration": 47,
    "start_time": "2022-04-18T20:13:16.644Z"
   },
   {
    "duration": 6,
    "start_time": "2022-04-18T20:13:27.544Z"
   },
   {
    "duration": 77,
    "start_time": "2022-04-18T20:13:28.898Z"
   },
   {
    "duration": 12,
    "start_time": "2022-04-18T20:13:30.792Z"
   },
   {
    "duration": 70,
    "start_time": "2022-04-18T20:13:31.262Z"
   },
   {
    "duration": 46,
    "start_time": "2022-04-18T20:14:36.730Z"
   },
   {
    "duration": 8,
    "start_time": "2022-04-18T20:14:50.497Z"
   },
   {
    "duration": 45,
    "start_time": "2022-04-18T20:14:51.710Z"
   },
   {
    "duration": 8,
    "start_time": "2022-04-18T20:23:11.808Z"
   },
   {
    "duration": 45,
    "start_time": "2022-04-18T20:23:18.177Z"
   },
   {
    "duration": 8,
    "start_time": "2022-04-18T20:23:25.307Z"
   },
   {
    "duration": 18,
    "start_time": "2022-04-18T20:23:36.356Z"
   },
   {
    "duration": 42,
    "start_time": "2022-04-18T20:25:13.082Z"
   },
   {
    "duration": 7,
    "start_time": "2022-04-18T20:28:13.445Z"
   },
   {
    "duration": 1764,
    "start_time": "2022-04-19T17:06:38.203Z"
   },
   {
    "duration": 1885,
    "start_time": "2022-04-19T17:06:41.813Z"
   },
   {
    "duration": 5,
    "start_time": "2022-04-19T17:06:56.496Z"
   },
   {
    "duration": 5,
    "start_time": "2022-04-19T17:06:58.887Z"
   },
   {
    "duration": 238,
    "start_time": "2022-04-19T17:06:59.648Z"
   },
   {
    "duration": 7,
    "start_time": "2022-04-19T17:07:04.903Z"
   },
   {
    "duration": 47,
    "start_time": "2022-04-19T17:07:05.777Z"
   },
   {
    "duration": 4,
    "start_time": "2022-04-19T17:11:03.388Z"
   },
   {
    "duration": 8,
    "start_time": "2022-04-19T17:15:54.505Z"
   },
   {
    "duration": 8,
    "start_time": "2022-04-19T17:17:40.799Z"
   },
   {
    "duration": 48,
    "start_time": "2022-04-19T17:17:48.560Z"
   },
   {
    "duration": 1729,
    "start_time": "2022-04-20T20:39:32.792Z"
   },
   {
    "duration": 1556,
    "start_time": "2022-04-20T20:39:35.990Z"
   },
   {
    "duration": 1591,
    "start_time": "2022-04-22T10:00:05.328Z"
   },
   {
    "duration": 947,
    "start_time": "2022-04-22T10:00:08.325Z"
   },
   {
    "duration": 4,
    "start_time": "2022-04-22T10:04:28.879Z"
   },
   {
    "duration": 4,
    "start_time": "2022-04-22T10:05:39.180Z"
   },
   {
    "duration": 4,
    "start_time": "2022-04-22T10:05:39.909Z"
   },
   {
    "duration": 159,
    "start_time": "2022-04-22T10:05:40.550Z"
   },
   {
    "duration": 5,
    "start_time": "2022-04-22T10:05:45.408Z"
   },
   {
    "duration": 29,
    "start_time": "2022-04-22T10:05:47.638Z"
   },
   {
    "duration": 31,
    "start_time": "2022-04-22T10:14:32.011Z"
   },
   {
    "duration": 27,
    "start_time": "2022-04-22T10:14:49.019Z"
   },
   {
    "duration": 1490,
    "start_time": "2022-04-23T13:18:39.784Z"
   },
   {
    "duration": 997,
    "start_time": "2022-04-23T13:18:41.276Z"
   },
   {
    "duration": 4,
    "start_time": "2022-04-23T13:19:27.628Z"
   },
   {
    "duration": 110,
    "start_time": "2022-04-23T13:19:56.914Z"
   },
   {
    "duration": 4,
    "start_time": "2022-04-23T13:20:02.697Z"
   },
   {
    "duration": 4,
    "start_time": "2022-04-23T13:20:05.185Z"
   },
   {
    "duration": 5,
    "start_time": "2022-04-23T13:20:06.480Z"
   },
   {
    "duration": 4,
    "start_time": "2022-04-23T13:22:16.952Z"
   },
   {
    "duration": 4,
    "start_time": "2022-04-23T13:22:33.752Z"
   }
  ],
  "kernelspec": {
   "display_name": "Python 3 (ipykernel)",
   "language": "python",
   "name": "python3"
  },
  "language_info": {
   "codemirror_mode": {
    "name": "ipython",
    "version": 3
   },
   "file_extension": ".py",
   "mimetype": "text/x-python",
   "name": "python",
   "nbconvert_exporter": "python",
   "pygments_lexer": "ipython3",
   "version": "3.9.12"
  },
  "toc": {
   "base_numbering": 1,
   "nav_menu": {},
   "number_sections": true,
   "sideBar": true,
   "skip_h1_title": true,
   "title_cell": "Содержание",
   "title_sidebar": "Contents",
   "toc_cell": true,
   "toc_position": {
    "height": "calc(100% - 180px)",
    "left": "10px",
    "top": "150px",
    "width": "165px"
   },
   "toc_section_display": true,
   "toc_window_display": false
  }
 },
 "nbformat": 4,
 "nbformat_minor": 4
}
