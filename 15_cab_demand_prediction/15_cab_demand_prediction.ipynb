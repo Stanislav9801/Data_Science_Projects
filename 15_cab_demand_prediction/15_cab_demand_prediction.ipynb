{
 "cells": [
  {
   "cell_type": "markdown",
   "metadata": {
    "toc": true
   },
   "source": [
    "<h1>Содержание<span class=\"tocSkip\"></span></h1>\n",
    "<div class=\"toc\"><ul class=\"toc-item\"><li><span><a href=\"#Импорт-библиотек-и-подготовка-окружения\" data-toc-modified-id=\"Импорт-библиотек-и-подготовка-окружения-1\"><span class=\"toc-item-num\">1&nbsp;&nbsp;</span>Импорт библиотек и подготовка окружения</a></span></li><li><span><a href=\"#Подготовка\" data-toc-modified-id=\"Подготовка-2\"><span class=\"toc-item-num\">2&nbsp;&nbsp;</span>Подготовка</a></span><ul class=\"toc-item\"><li><span><a href=\"#Загрузим-данные\" data-toc-modified-id=\"Загрузим-данные-2.1\"><span class=\"toc-item-num\">2.1&nbsp;&nbsp;</span>Загрузим данные</a></span></li></ul></li><li><span><a href=\"#Анализ-данных\" data-toc-modified-id=\"Анализ-данных-3\"><span class=\"toc-item-num\">3&nbsp;&nbsp;</span>Анализ данных</a></span><ul class=\"toc-item\"><li><span><a href=\"#Краткий-исследовательский-анализ\" data-toc-modified-id=\"Краткий-исследовательский-анализ-3.1\"><span class=\"toc-item-num\">3.1&nbsp;&nbsp;</span>Краткий исследовательский анализ</a></span></li><li><span><a href=\"#Создание-новых-признаков-и-разделение-на-test/train\" data-toc-modified-id=\"Создание-новых-признаков-и-разделение-на-test/train-3.2\"><span class=\"toc-item-num\">3.2&nbsp;&nbsp;</span>Создание новых признаков и разделение на test/train</a></span></li></ul></li><li><span><a href=\"#Обучение\" data-toc-modified-id=\"Обучение-4\"><span class=\"toc-item-num\">4&nbsp;&nbsp;</span>Обучение</a></span><ul class=\"toc-item\"><li><span><a href=\"#BaseLine\" data-toc-modified-id=\"BaseLine-4.1\"><span class=\"toc-item-num\">4.1&nbsp;&nbsp;</span>BaseLine</a></span></li><li><span><a href=\"#Линейная-регрессия\" data-toc-modified-id=\"Линейная-регрессия-4.2\"><span class=\"toc-item-num\">4.2&nbsp;&nbsp;</span>Линейная регрессия</a></span></li><li><span><a href=\"#Random-Forest\" data-toc-modified-id=\"Random-Forest-4.3\"><span class=\"toc-item-num\">4.3&nbsp;&nbsp;</span>Random Forest</a></span></li><li><span><a href=\"#Gradient-Boosting\" data-toc-modified-id=\"Gradient-Boosting-4.4\"><span class=\"toc-item-num\">4.4&nbsp;&nbsp;</span>Gradient Boosting</a></span></li><li><span><a href=\"#Резюме\" data-toc-modified-id=\"Резюме-4.5\"><span class=\"toc-item-num\">4.5&nbsp;&nbsp;</span>Резюме</a></span></li></ul></li><li><span><a href=\"#Подбор-гиперпараметров\" data-toc-modified-id=\"Подбор-гиперпараметров-5\"><span class=\"toc-item-num\">5&nbsp;&nbsp;</span>Подбор гиперпараметров</a></span></li><li><span><a href=\"#Тестирование\" data-toc-modified-id=\"Тестирование-6\"><span class=\"toc-item-num\">6&nbsp;&nbsp;</span>Тестирование</a></span></li><li><span><a href=\"#Вывод\" data-toc-modified-id=\"Вывод-7\"><span class=\"toc-item-num\">7&nbsp;&nbsp;</span>Вывод</a></span></li></ul></div>"
   ]
  },
  {
   "cell_type": "markdown",
   "metadata": {},
   "source": [
    "#  Прогнозирование заказов такси"
   ]
  },
  {
   "cell_type": "markdown",
   "metadata": {},
   "source": [
    "Компания «Чётенькое такси» собрала исторические данные о заказах такси в аэропортах. Чтобы привлекать больше водителей в период пиковой нагрузки, нужно спрогнозировать количество заказов такси на следующий час. Постройте модель для такого предсказания.\n",
    "\n",
    "Значение метрики *RMSE* на тестовой выборке должно быть не больше 48.\n",
    "\n",
    "\n",
    "Данные лежат в файле `taxi.csv`. Количество заказов находится в столбце `num_orders` (от англ. *number of orders*, «число заказов»)."
   ]
  },
  {
   "cell_type": "markdown",
   "metadata": {},
   "source": [
    "## Импорт библиотек и подготовка окружения"
   ]
  },
  {
   "cell_type": "code",
   "execution_count": 1,
   "metadata": {},
   "outputs": [
    {
     "data": {
      "text/html": [
       "<style>.container { width:90% !important; }</style>"
      ],
      "text/plain": [
       "<IPython.core.display.HTML object>"
      ]
     },
     "metadata": {},
     "output_type": "display_data"
    }
   ],
   "source": [
    "import pandas as pd\n",
    "import numpy as np\n",
    "import matplotlib.pyplot as plt\n",
    "import seaborn as sns\n",
    "from statsmodels.tsa.seasonal import seasonal_decompose\n",
    "\n",
    "from sklearn.model_selection import train_test_split, TimeSeriesSplit, cross_val_score, GridSearchCV\n",
    "from sklearn.linear_model import LinearRegression\n",
    "from sklearn.ensemble import RandomForestRegressor\n",
    "from sklearn.metrics import mean_squared_error\n",
    "from catboost import CatBoostRegressor\n",
    "\n",
    "from IPython.core.display import display, HTML\n",
    "display(HTML(\"<style>.container { width:90% !important; }</style>\"))\n",
    "\n",
    "pd.set_option('display.max_columns', None)"
   ]
  },
  {
   "cell_type": "markdown",
   "metadata": {},
   "source": [
    "## Подготовка"
   ]
  },
  {
   "cell_type": "markdown",
   "metadata": {},
   "source": [
    "### Загрузим данные"
   ]
  },
  {
   "cell_type": "code",
   "execution_count": 2,
   "metadata": {},
   "outputs": [
    {
     "data": {
      "text/html": [
       "<div>\n",
       "<style scoped>\n",
       "    .dataframe tbody tr th:only-of-type {\n",
       "        vertical-align: middle;\n",
       "    }\n",
       "\n",
       "    .dataframe tbody tr th {\n",
       "        vertical-align: top;\n",
       "    }\n",
       "\n",
       "    .dataframe thead th {\n",
       "        text-align: right;\n",
       "    }\n",
       "</style>\n",
       "<table border=\"1\" class=\"dataframe\">\n",
       "  <thead>\n",
       "    <tr style=\"text-align: right;\">\n",
       "      <th></th>\n",
       "      <th>num_orders</th>\n",
       "    </tr>\n",
       "    <tr>\n",
       "      <th>datetime</th>\n",
       "      <th></th>\n",
       "    </tr>\n",
       "  </thead>\n",
       "  <tbody>\n",
       "    <tr>\n",
       "      <th>2018-03-01 00:00:00</th>\n",
       "      <td>124</td>\n",
       "    </tr>\n",
       "    <tr>\n",
       "      <th>2018-03-01 01:00:00</th>\n",
       "      <td>85</td>\n",
       "    </tr>\n",
       "    <tr>\n",
       "      <th>2018-03-01 02:00:00</th>\n",
       "      <td>71</td>\n",
       "    </tr>\n",
       "    <tr>\n",
       "      <th>2018-03-01 03:00:00</th>\n",
       "      <td>66</td>\n",
       "    </tr>\n",
       "    <tr>\n",
       "      <th>2018-03-01 04:00:00</th>\n",
       "      <td>43</td>\n",
       "    </tr>\n",
       "  </tbody>\n",
       "</table>\n",
       "</div>"
      ],
      "text/plain": [
       "                     num_orders\n",
       "datetime                       \n",
       "2018-03-01 00:00:00         124\n",
       "2018-03-01 01:00:00          85\n",
       "2018-03-01 02:00:00          71\n",
       "2018-03-01 03:00:00          66\n",
       "2018-03-01 04:00:00          43"
      ]
     },
     "execution_count": 2,
     "metadata": {},
     "output_type": "execute_result"
    }
   ],
   "source": [
    "data = pd.read_csv('/datasets/taxi.csv', index_col=[0], parse_dates=[0]).sort_index().resample('1H').sum()\n",
    "data.head()"
   ]
  },
  {
   "cell_type": "code",
   "execution_count": 3,
   "metadata": {},
   "outputs": [
    {
     "name": "stdout",
     "output_type": "stream",
     "text": [
      "<class 'pandas.core.frame.DataFrame'>\n",
      "DatetimeIndex: 4416 entries, 2018-03-01 00:00:00 to 2018-08-31 23:00:00\n",
      "Freq: H\n",
      "Data columns (total 1 columns):\n",
      " #   Column      Non-Null Count  Dtype\n",
      "---  ------      --------------  -----\n",
      " 0   num_orders  4416 non-null   int64\n",
      "dtypes: int64(1)\n",
      "memory usage: 69.0 KB\n"
     ]
    }
   ],
   "source": [
    "data.info()"
   ]
  },
  {
   "cell_type": "code",
   "execution_count": 4,
   "metadata": {},
   "outputs": [
    {
     "data": {
      "text/plain": [
       "0"
      ]
     },
     "execution_count": 4,
     "metadata": {},
     "output_type": "execute_result"
    }
   ],
   "source": [
    "# Посмотрим, нет ли дупликатов в индексах\n",
    "data.index.duplicated().sum()"
   ]
  },
  {
   "cell_type": "code",
   "execution_count": 5,
   "metadata": {},
   "outputs": [
    {
     "data": {
      "text/plain": [
       "True"
      ]
     },
     "execution_count": 5,
     "metadata": {},
     "output_type": "execute_result"
    }
   ],
   "source": [
    "# Проверим данные на монотонность\n",
    "data.index.is_monotonic"
   ]
  },
  {
   "cell_type": "markdown",
   "metadata": {},
   "source": [
    "С данными все в порядке, можно переходить дальше."
   ]
  },
  {
   "cell_type": "markdown",
   "metadata": {},
   "source": [
    "## Анализ данных"
   ]
  },
  {
   "cell_type": "markdown",
   "metadata": {},
   "source": [
    "### Краткий исследовательский анализ"
   ]
  },
  {
   "cell_type": "code",
   "execution_count": 6,
   "metadata": {},
   "outputs": [
    {
     "data": {
      "image/png": "[encoded data removed]",
      "text/plain": [
       "<Figure size 1080x360 with 1 Axes>"
      ]
     },
     "metadata": {
      "needs_background": "light"
     },
     "output_type": "display_data"
    }
   ],
   "source": [
    "# Посмотрим на график заказов такси\n",
    "data.plot(figsize=(15, 5), grid=True, title='Количество заказов такси по часам');"
   ]
  },
  {
   "cell_type": "markdown",
   "metadata": {},
   "source": [
    "Декомпозируем временной ряд на тренд, сезонность и остатки."
   ]
  },
  {
   "cell_type": "code",
   "execution_count": 7,
   "metadata": {},
   "outputs": [
    {
     "data": {
      "image/png": "[encoded data removed]",
      "text/plain": [
       "<Figure size 1080x360 with 1 Axes>"
      ]
     },
     "metadata": {
      "needs_background": "light"
     },
     "output_type": "display_data"
    }
   ],
   "source": [
    "decompose = seasonal_decompose(data)\n",
    "\n",
    "fig, ax = plt.subplots(1, 1, figsize=(15, 5))\n",
    "ax.plot(decompose.trend, label='Тренд');\n",
    "ax.plot(decompose.seasonal, label='Сезонность');\n",
    "ax.plot(decompose.resid, label='Остатки');\n",
    "plt.grid()\n",
    "plt.title('Количество заказов такси по часам')\n",
    "plt.legend();"
   ]
  },
  {
   "cell_type": "markdown",
   "metadata": {},
   "source": [
    "Есть возрастающий тренд — количество заказов с марта по сентябрь постепенно возрастало.  \n",
    "Посмотрим на сезонность на более узких временных промежутках."
   ]
  },
  {
   "cell_type": "code",
   "execution_count": 8,
   "metadata": {},
   "outputs": [
    {
     "data": {
      "image/png": "[encoded data removed]",
      "text/plain": [
       "<Figure size 1080x504 with 3 Axes>"
      ]
     },
     "metadata": {
      "needs_background": "light"
     },
     "output_type": "display_data"
    }
   ],
   "source": [
    "fig, ax = plt.subplots(3, 1, figsize=(15, 7))\n",
    "fig.suptitle('График сезонности')\n",
    "\n",
    "ax[0].plot(decompose.seasonal['2018-03-01':'2018-03-31'], label='Сезонность, Месяц');\n",
    "ax[1].plot(decompose.seasonal['2018-03-01':'2018-03-07'], label='Сезонность, Неделя');\n",
    "ax[2].plot(decompose.seasonal['2018-03-01':'2018-03-02'], label='Сезонность, 2 дня');\n",
    "[ax[i].grid() for i in range(len(ax))]\n",
    "[ax[i].legend() for i in range(len(ax))];"
   ]
  },
  {
   "cell_type": "markdown",
   "metadata": {},
   "source": [
    "\"Сезонность\" наблюдается в течение дня. Видно, что в поздние часы (в районе 00:00) количество заказов наибольшее, в 6 утра - наименьшее, в то время как днем количество заказов находится по середине."
   ]
  },
  {
   "cell_type": "markdown",
   "metadata": {},
   "source": [
    "### Создание новых признаков и разделение на test/train"
   ]
  },
  {
   "cell_type": "code",
   "execution_count": 9,
   "metadata": {},
   "outputs": [],
   "source": [
    "# Создадим функцию для добавления новых признаков\n",
    "def make_features(data, max_lag, rolling_window):\n",
    "    data_new = data.copy()\n",
    "    data_new['hour'] = data_new.index.hour\n",
    "    data_new['day'] = data_new.index.day    \n",
    "    data_new['dayofweek'] = data_new.index.dayofweek    \n",
    "    data_new['week'] = data_new.index.week    \n",
    "    data_new['month'] = data_new.index.month\n",
    "    # Создаем признаки - значения за предыдущие периоды\n",
    "    for lag in range(1, max_lag+1):\n",
    "        data_new[f'lag_{lag}'] = data_new['num_orders'].shift(lag)\n",
    "    # Создаем признак \"скользящее среднее\"\n",
    "    for rol_wind in range(2, rolling_window):\n",
    "        data_new[f'rolling_mean_{rol_wind}'] = data_new['num_orders'].shift(1).rolling(rol_wind).mean()\n",
    "    # Удаляем пропуски\n",
    "    data_new = data_new.dropna(axis=0)\n",
    "    return data_new"
   ]
  },
  {
   "cell_type": "code",
   "execution_count": 10,
   "metadata": {},
   "outputs": [
    {
     "name": "stderr",
     "output_type": "stream",
     "text": [
      "/tmp/ipykernel_31/2641332826.py:7: FutureWarning: weekofyear and week have been deprecated, please use DatetimeIndex.isocalendar().week instead, which returns a Series.  To exactly reproduce the behavior of week and weekofyear and return an Index, you may call pd.Int64Index(idx.isocalendar().week)\n",
      "  data_new['week'] = data_new.index.week\n"
     ]
    }
   ],
   "source": [
    "# Создадим признаки для обучения\n",
    "features = make_features(data, max_lag=10, rolling_window=10)\n",
    "\n",
    "# Сохраним целевой показатель в отдельную переменную\n",
    "target = features['num_orders']\n",
    "\n",
    "# Удалим целевой показатель из переменной, в которой сохранены признаки\n",
    "features = features.drop(columns='num_orders')"
   ]
  },
  {
   "cell_type": "code",
   "execution_count": 11,
   "metadata": {},
   "outputs": [
    {
     "name": "stdout",
     "output_type": "stream",
     "text": [
      "(4406, 23)\n"
     ]
    },
    {
     "data": {
      "text/html": [
       "<div>\n",
       "<style scoped>\n",
       "    .dataframe tbody tr th:only-of-type {\n",
       "        vertical-align: middle;\n",
       "    }\n",
       "\n",
       "    .dataframe tbody tr th {\n",
       "        vertical-align: top;\n",
       "    }\n",
       "\n",
       "    .dataframe thead th {\n",
       "        text-align: right;\n",
       "    }\n",
       "</style>\n",
       "<table border=\"1\" class=\"dataframe\">\n",
       "  <thead>\n",
       "    <tr style=\"text-align: right;\">\n",
       "      <th></th>\n",
       "      <th>hour</th>\n",
       "      <th>day</th>\n",
       "      <th>dayofweek</th>\n",
       "      <th>week</th>\n",
       "      <th>month</th>\n",
       "      <th>lag_1</th>\n",
       "      <th>lag_2</th>\n",
       "      <th>lag_3</th>\n",
       "      <th>lag_4</th>\n",
       "      <th>lag_5</th>\n",
       "      <th>lag_6</th>\n",
       "      <th>lag_7</th>\n",
       "      <th>lag_8</th>\n",
       "      <th>lag_9</th>\n",
       "      <th>lag_10</th>\n",
       "      <th>rolling_mean_2</th>\n",
       "      <th>rolling_mean_3</th>\n",
       "      <th>rolling_mean_4</th>\n",
       "      <th>rolling_mean_5</th>\n",
       "      <th>rolling_mean_6</th>\n",
       "      <th>rolling_mean_7</th>\n",
       "      <th>rolling_mean_8</th>\n",
       "      <th>rolling_mean_9</th>\n",
       "    </tr>\n",
       "    <tr>\n",
       "      <th>datetime</th>\n",
       "      <th></th>\n",
       "      <th></th>\n",
       "      <th></th>\n",
       "      <th></th>\n",
       "      <th></th>\n",
       "      <th></th>\n",
       "      <th></th>\n",
       "      <th></th>\n",
       "      <th></th>\n",
       "      <th></th>\n",
       "      <th></th>\n",
       "      <th></th>\n",
       "      <th></th>\n",
       "      <th></th>\n",
       "      <th></th>\n",
       "      <th></th>\n",
       "      <th></th>\n",
       "      <th></th>\n",
       "      <th></th>\n",
       "      <th></th>\n",
       "      <th></th>\n",
       "      <th></th>\n",
       "      <th></th>\n",
       "    </tr>\n",
       "  </thead>\n",
       "  <tbody>\n",
       "    <tr>\n",
       "      <th>2018-03-01 10:00:00</th>\n",
       "      <td>10</td>\n",
       "      <td>1</td>\n",
       "      <td>3</td>\n",
       "      <td>9</td>\n",
       "      <td>3</td>\n",
       "      <td>69.0</td>\n",
       "      <td>34.0</td>\n",
       "      <td>15.0</td>\n",
       "      <td>12.0</td>\n",
       "      <td>6.0</td>\n",
       "      <td>43.0</td>\n",
       "      <td>66.0</td>\n",
       "      <td>71.0</td>\n",
       "      <td>85.0</td>\n",
       "      <td>124.0</td>\n",
       "      <td>51.5</td>\n",
       "      <td>39.333333</td>\n",
       "      <td>32.50</td>\n",
       "      <td>27.2</td>\n",
       "      <td>29.833333</td>\n",
       "      <td>35.000000</td>\n",
       "      <td>39.500</td>\n",
       "      <td>44.555556</td>\n",
       "    </tr>\n",
       "    <tr>\n",
       "      <th>2018-03-01 11:00:00</th>\n",
       "      <td>11</td>\n",
       "      <td>1</td>\n",
       "      <td>3</td>\n",
       "      <td>9</td>\n",
       "      <td>3</td>\n",
       "      <td>64.0</td>\n",
       "      <td>69.0</td>\n",
       "      <td>34.0</td>\n",
       "      <td>15.0</td>\n",
       "      <td>12.0</td>\n",
       "      <td>6.0</td>\n",
       "      <td>43.0</td>\n",
       "      <td>66.0</td>\n",
       "      <td>71.0</td>\n",
       "      <td>85.0</td>\n",
       "      <td>66.5</td>\n",
       "      <td>55.666667</td>\n",
       "      <td>45.50</td>\n",
       "      <td>38.8</td>\n",
       "      <td>33.333333</td>\n",
       "      <td>34.714286</td>\n",
       "      <td>38.625</td>\n",
       "      <td>42.222222</td>\n",
       "    </tr>\n",
       "    <tr>\n",
       "      <th>2018-03-01 12:00:00</th>\n",
       "      <td>12</td>\n",
       "      <td>1</td>\n",
       "      <td>3</td>\n",
       "      <td>9</td>\n",
       "      <td>3</td>\n",
       "      <td>96.0</td>\n",
       "      <td>64.0</td>\n",
       "      <td>69.0</td>\n",
       "      <td>34.0</td>\n",
       "      <td>15.0</td>\n",
       "      <td>12.0</td>\n",
       "      <td>6.0</td>\n",
       "      <td>43.0</td>\n",
       "      <td>66.0</td>\n",
       "      <td>71.0</td>\n",
       "      <td>80.0</td>\n",
       "      <td>76.333333</td>\n",
       "      <td>65.75</td>\n",
       "      <td>55.6</td>\n",
       "      <td>48.333333</td>\n",
       "      <td>42.285714</td>\n",
       "      <td>42.375</td>\n",
       "      <td>45.000000</td>\n",
       "    </tr>\n",
       "    <tr>\n",
       "      <th>2018-03-01 13:00:00</th>\n",
       "      <td>13</td>\n",
       "      <td>1</td>\n",
       "      <td>3</td>\n",
       "      <td>9</td>\n",
       "      <td>3</td>\n",
       "      <td>30.0</td>\n",
       "      <td>96.0</td>\n",
       "      <td>64.0</td>\n",
       "      <td>69.0</td>\n",
       "      <td>34.0</td>\n",
       "      <td>15.0</td>\n",
       "      <td>12.0</td>\n",
       "      <td>6.0</td>\n",
       "      <td>43.0</td>\n",
       "      <td>66.0</td>\n",
       "      <td>63.0</td>\n",
       "      <td>63.333333</td>\n",
       "      <td>64.75</td>\n",
       "      <td>58.6</td>\n",
       "      <td>51.333333</td>\n",
       "      <td>45.714286</td>\n",
       "      <td>40.750</td>\n",
       "      <td>41.000000</td>\n",
       "    </tr>\n",
       "    <tr>\n",
       "      <th>2018-03-01 14:00:00</th>\n",
       "      <td>14</td>\n",
       "      <td>1</td>\n",
       "      <td>3</td>\n",
       "      <td>9</td>\n",
       "      <td>3</td>\n",
       "      <td>32.0</td>\n",
       "      <td>30.0</td>\n",
       "      <td>96.0</td>\n",
       "      <td>64.0</td>\n",
       "      <td>69.0</td>\n",
       "      <td>34.0</td>\n",
       "      <td>15.0</td>\n",
       "      <td>12.0</td>\n",
       "      <td>6.0</td>\n",
       "      <td>43.0</td>\n",
       "      <td>31.0</td>\n",
       "      <td>52.666667</td>\n",
       "      <td>55.50</td>\n",
       "      <td>58.2</td>\n",
       "      <td>54.166667</td>\n",
       "      <td>48.571429</td>\n",
       "      <td>44.000</td>\n",
       "      <td>39.777778</td>\n",
       "    </tr>\n",
       "  </tbody>\n",
       "</table>\n",
       "</div>"
      ],
      "text/plain": [
       "                     hour  day  dayofweek  week  month  lag_1  lag_2  lag_3  \\\n",
       "datetime                                                                      \n",
       "2018-03-01 10:00:00    10    1          3     9      3   69.0   34.0   15.0   \n",
       "2018-03-01 11:00:00    11    1          3     9      3   64.0   69.0   34.0   \n",
       "2018-03-01 12:00:00    12    1          3     9      3   96.0   64.0   69.0   \n",
       "2018-03-01 13:00:00    13    1          3     9      3   30.0   96.0   64.0   \n",
       "2018-03-01 14:00:00    14    1          3     9      3   32.0   30.0   96.0   \n",
       "\n",
       "                     lag_4  lag_5  lag_6  lag_7  lag_8  lag_9  lag_10  \\\n",
       "datetime                                                                \n",
       "2018-03-01 10:00:00   12.0    6.0   43.0   66.0   71.0   85.0   124.0   \n",
       "2018-03-01 11:00:00   15.0   12.0    6.0   43.0   66.0   71.0    85.0   \n",
       "2018-03-01 12:00:00   34.0   15.0   12.0    6.0   43.0   66.0    71.0   \n",
       "2018-03-01 13:00:00   69.0   34.0   15.0   12.0    6.0   43.0    66.0   \n",
       "2018-03-01 14:00:00   64.0   69.0   34.0   15.0   12.0    6.0    43.0   \n",
       "\n",
       "                     rolling_mean_2  rolling_mean_3  rolling_mean_4  \\\n",
       "datetime                                                              \n",
       "2018-03-01 10:00:00            51.5       39.333333           32.50   \n",
       "2018-03-01 11:00:00            66.5       55.666667           45.50   \n",
       "2018-03-01 12:00:00            80.0       76.333333           65.75   \n",
       "2018-03-01 13:00:00            63.0       63.333333           64.75   \n",
       "2018-03-01 14:00:00            31.0       52.666667           55.50   \n",
       "\n",
       "                     rolling_mean_5  rolling_mean_6  rolling_mean_7  \\\n",
       "datetime                                                              \n",
       "2018-03-01 10:00:00            27.2       29.833333       35.000000   \n",
       "2018-03-01 11:00:00            38.8       33.333333       34.714286   \n",
       "2018-03-01 12:00:00            55.6       48.333333       42.285714   \n",
       "2018-03-01 13:00:00            58.6       51.333333       45.714286   \n",
       "2018-03-01 14:00:00            58.2       54.166667       48.571429   \n",
       "\n",
       "                     rolling_mean_8  rolling_mean_9  \n",
       "datetime                                             \n",
       "2018-03-01 10:00:00          39.500       44.555556  \n",
       "2018-03-01 11:00:00          38.625       42.222222  \n",
       "2018-03-01 12:00:00          42.375       45.000000  \n",
       "2018-03-01 13:00:00          40.750       41.000000  \n",
       "2018-03-01 14:00:00          44.000       39.777778  "
      ]
     },
     "execution_count": 11,
     "metadata": {},
     "output_type": "execute_result"
    }
   ],
   "source": [
    "# Посмотрим на созданные признаки и их размерность\n",
    "print(features.shape)\n",
    "features.head()"
   ]
  },
  {
   "cell_type": "code",
   "execution_count": 12,
   "metadata": {},
   "outputs": [
    {
     "name": "stdout",
     "output_type": "stream",
     "text": [
      "(4406,)\n"
     ]
    },
    {
     "data": {
      "text/plain": [
       "datetime\n",
       "2018-03-01 10:00:00    64\n",
       "2018-03-01 11:00:00    96\n",
       "2018-03-01 12:00:00    30\n",
       "2018-03-01 13:00:00    32\n",
       "2018-03-01 14:00:00    48\n",
       "Freq: H, Name: num_orders, dtype: int64"
      ]
     },
     "execution_count": 12,
     "metadata": {},
     "output_type": "execute_result"
    }
   ],
   "source": [
    "# Посмотрим на целевой показатель и его размерность\n",
    "print(target.shape)\n",
    "target.head()"
   ]
  },
  {
   "cell_type": "code",
   "execution_count": 13,
   "metadata": {},
   "outputs": [
    {
     "data": {
      "text/plain": [
       "((3965, 23), (3965,), (441, 23), (441,))"
      ]
     },
     "execution_count": 13,
     "metadata": {},
     "output_type": "execute_result"
    }
   ],
   "source": [
    "# Разделим данные на тренировочный и тестовый наборы\n",
    "train_X, test_X, train_y, test_y = train_test_split(features, target, shuffle=False, test_size=0.1)\n",
    "\n",
    "# Выведем на экран рахмерность получившихся выборок\n",
    "train_X.shape, train_y.shape, test_X.shape, test_y.shape"
   ]
  },
  {
   "cell_type": "markdown",
   "metadata": {},
   "source": [
    "## Обучение"
   ]
  },
  {
   "cell_type": "markdown",
   "metadata": {},
   "source": [
    "На данном этапе проверим работу трех моделей машинного обучения:\n",
    "- Линейной регрессии\n",
    "- Случайного леса\n",
    "- Градиентного бустинга"
   ]
  },
  {
   "cell_type": "markdown",
   "metadata": {},
   "source": [
    "Создадим класс кросс-валидации для временных рядов."
   ]
  },
  {
   "cell_type": "code",
   "execution_count": 14,
   "metadata": {},
   "outputs": [],
   "source": [
    "tscv = TimeSeriesSplit()"
   ]
  },
  {
   "cell_type": "markdown",
   "metadata": {},
   "source": [
    "### BaseLine"
   ]
  },
  {
   "cell_type": "code",
   "execution_count": 15,
   "metadata": {},
   "outputs": [
    {
     "name": "stdout",
     "output_type": "stream",
     "text": [
      "RMSE: 58.91761802963282\n"
     ]
    }
   ],
   "source": [
    "# Предсказываем предыдущим значением\n",
    "pred_previous = test_y.shift()\n",
    "pred_previous.iloc[0] = train_y.iloc[-1]\n",
    "print(\"RMSE:\", mean_squared_error(test_y, pred_previous, squared=False))"
   ]
  },
  {
   "cell_type": "code",
   "execution_count": 16,
   "metadata": {},
   "outputs": [
    {
     "name": "stdout",
     "output_type": "stream",
     "text": [
      "RMSE: 84.781307360467\n"
     ]
    }
   ],
   "source": [
    "# Предсказываем средним\n",
    "mean = train_y.mean()\n",
    "print(\"RMSE:\", mean_squared_error(test_y, np.full(test_y.shape, mean), squared=False))"
   ]
  },
  {
   "cell_type": "code",
   "execution_count": 17,
   "metadata": {},
   "outputs": [
    {
     "name": "stdout",
     "output_type": "stream",
     "text": [
      "Среднее количество такси в час 78.36166456494325\n"
     ]
    }
   ],
   "source": [
    "print('Среднее количество такси в час', mean)"
   ]
  },
  {
   "cell_type": "markdown",
   "metadata": {},
   "source": [
    "Итак, в качестве бейзлайна можно взять ошибку равную 58,9 заказов такси. Такая ошибка получается, если каждое новое значение мы будем предсказывать предыдущим."
   ]
  },
  {
   "cell_type": "markdown",
   "metadata": {},
   "source": [
    "### Линейная регрессия"
   ]
  },
  {
   "cell_type": "code",
   "execution_count": 18,
   "metadata": {},
   "outputs": [],
   "source": [
    "lr = LinearRegression()\n",
    "lr_cv_res = cross_val_score(lr, train_X, train_y, cv=tscv, scoring='neg_root_mean_squared_error')"
   ]
  },
  {
   "cell_type": "code",
   "execution_count": 19,
   "metadata": {},
   "outputs": [
    {
     "name": "stdout",
     "output_type": "stream",
     "text": [
      "RMSE Линейной регрессии: 12843597654.851818\n"
     ]
    }
   ],
   "source": [
    "print('RMSE Линейной регрессии:', -lr_cv_res.mean())"
   ]
  },
  {
   "cell_type": "markdown",
   "metadata": {},
   "source": [
    "### Random Forest"
   ]
  },
  {
   "cell_type": "code",
   "execution_count": 20,
   "metadata": {},
   "outputs": [],
   "source": [
    "rf = RandomForestRegressor(n_estimators=500, min_samples_leaf=5, max_features=0.33, random_state=0)\n",
    "rf_cv_res = cross_val_score(rf, train_X, train_y, cv=tscv, scoring='neg_root_mean_squared_error')"
   ]
  },
  {
   "cell_type": "code",
   "execution_count": 21,
   "metadata": {},
   "outputs": [
    {
     "name": "stdout",
     "output_type": "stream",
     "text": [
      "RMSE Случайного леса: 26.665157609193102\n"
     ]
    }
   ],
   "source": [
    "print('RMSE Случайного леса:', -rf_cv_res.mean())"
   ]
  },
  {
   "cell_type": "markdown",
   "metadata": {},
   "source": [
    "### Gradient Boosting"
   ]
  },
  {
   "cell_type": "code",
   "execution_count": 22,
   "metadata": {},
   "outputs": [],
   "source": [
    "cb = CatBoostRegressor(verbose=False)\n",
    "cb_cv_res = cross_val_score(cb, train_X, train_y, cv=tscv, scoring='neg_root_mean_squared_error')"
   ]
  },
  {
   "cell_type": "code",
   "execution_count": 23,
   "metadata": {
    "scrolled": true
   },
   "outputs": [
    {
     "name": "stdout",
     "output_type": "stream",
     "text": [
      "RMSE Градиентного бустинга: 24.81243197949905\n"
     ]
    }
   ],
   "source": [
    "print('RMSE Градиентного бустинга:', -cb_cv_res.mean())"
   ]
  },
  {
   "cell_type": "markdown",
   "metadata": {},
   "source": [
    "### Резюме"
   ]
  },
  {
   "cell_type": "markdown",
   "metadata": {},
   "source": [
    "Наилучший результат на кросс-валидации показала модель градиентного бустинга: RMSE = 24,8"
   ]
  },
  {
   "cell_type": "markdown",
   "metadata": {},
   "source": [
    "## Подбор гиперпараметров"
   ]
  },
  {
   "cell_type": "markdown",
   "metadata": {},
   "source": [
    "На данном этапе подберем гиперпараметры для модели градиентного бустинга. Будем подбирать количество деревьев в ансамбле и максимальную глубину."
   ]
  },
  {
   "cell_type": "code",
   "execution_count": 24,
   "metadata": {},
   "outputs": [],
   "source": [
    "cb = CatBoostRegressor(verbose=False, random_seed=0)\n",
    "param_grid = {'max_depth': [5, 6, 7],\n",
    "              'iterations': [1000, 2000]}\n",
    "\n",
    "gs = GridSearchCV(cb, param_grid, scoring='neg_root_mean_squared_error', cv=tscv, error_score='raise')"
   ]
  },
  {
   "cell_type": "code",
   "execution_count": 25,
   "metadata": {},
   "outputs": [
    {
     "data": {
      "text/plain": [
       "GridSearchCV(cv=TimeSeriesSplit(gap=0, max_train_size=None, n_splits=5, test_size=None),\n",
       "             error_score='raise',\n",
       "             estimator=<catboost.core.CatBoostRegressor object at 0x7f137a0472e0>,\n",
       "             param_grid={'iterations': [1000, 2000], 'max_depth': [5, 6, 7]},\n",
       "             scoring='neg_root_mean_squared_error')"
      ]
     },
     "execution_count": 25,
     "metadata": {},
     "output_type": "execute_result"
    }
   ],
   "source": [
    "gs.fit(train_X, train_y)"
   ]
  },
  {
   "cell_type": "code",
   "execution_count": 26,
   "metadata": {},
   "outputs": [
    {
     "data": {
      "text/plain": [
       "{'iterations': 2000, 'max_depth': 5}"
      ]
     },
     "execution_count": 26,
     "metadata": {},
     "output_type": "execute_result"
    }
   ],
   "source": [
    "# Посмотрим на наилучшие гиперпараметры\n",
    "gs.best_params_"
   ]
  },
  {
   "cell_type": "code",
   "execution_count": 27,
   "metadata": {},
   "outputs": [
    {
     "data": {
      "text/plain": [
       "24.74520332875879"
      ]
     },
     "execution_count": 27,
     "metadata": {},
     "output_type": "execute_result"
    }
   ],
   "source": [
    "# Посмотрим на наилучший результат работы модели\n",
    "-gs.best_score_"
   ]
  },
  {
   "cell_type": "markdown",
   "metadata": {},
   "source": [
    "Наилучшие гиперпараметры, которые удалось подобрать на кросс-валидации: \n",
    "- `iterations` — 2000\n",
    "- `max_depth` — 5"
   ]
  },
  {
   "cell_type": "markdown",
   "metadata": {},
   "source": [
    "## Тестирование"
   ]
  },
  {
   "cell_type": "markdown",
   "metadata": {},
   "source": [
    "Используем подобранные гиперпараметры при инициализации градиентного бустинга и проверим качество его работы на тестовых даннных."
   ]
  },
  {
   "cell_type": "code",
   "execution_count": 28,
   "metadata": {},
   "outputs": [],
   "source": [
    "cb = CatBoostRegressor(verbose=False, iterations=2000, max_depth=5, random_seed=0)"
   ]
  },
  {
   "cell_type": "code",
   "execution_count": 29,
   "metadata": {
    "scrolled": true
   },
   "outputs": [
    {
     "name": "stdout",
     "output_type": "stream",
     "text": [
      "43.02660799100518\n"
     ]
    }
   ],
   "source": [
    "cb.fit(train_X, train_y)\n",
    "test_pred = cb.predict(test_X)\n",
    "print(mean_squared_error(test_y, test_pred, squared=False))"
   ]
  },
  {
   "cell_type": "markdown",
   "metadata": {},
   "source": [
    "Качество работы модели на тестовых данных составило: RMSE = 43,02 заказа."
   ]
  },
  {
   "cell_type": "markdown",
   "metadata": {},
   "source": [
    "Выведем предсказания модели на график:"
   ]
  },
  {
   "cell_type": "code",
   "execution_count": 37,
   "metadata": {},
   "outputs": [
    {
     "data": {
      "image/png": "[encoded data removed]",
      "text/plain": [
       "<Figure size 1080x360 with 1 Axes>"
      ]
     },
     "metadata": {
      "needs_background": "light"
     },
     "output_type": "display_data"
    }
   ],
   "source": [
    "fig, ax = plt.subplots(1, 1, figsize=(15, 5))\n",
    "ax.plot(test_y.index, test_pred, label='Предсказанные значения')\n",
    "ax.plot(test_y.index, test_y, label='Истинные значения', alpha=0.7)\n",
    "\n",
    "plt.grid()\n",
    "plt.title('Количество заказов такси по часам')\n",
    "plt.legend();"
   ]
  },
  {
   "cell_type": "markdown",
   "metadata": {},
   "source": [
    "Посмотрим на важность признаков:"
   ]
  },
  {
   "cell_type": "code",
   "execution_count": 30,
   "metadata": {},
   "outputs": [
    {
     "data": {
      "image/png": "[encoded data removed]",
      "text/plain": [
       "<Figure size 720x360 with 1 Axes>"
      ]
     },
     "metadata": {
      "needs_background": "light"
     },
     "output_type": "display_data"
    }
   ],
   "source": [
    "pd.DataFrame(cb.feature_importances_, index=train_X.columns)\\\n",
    ".sort_values(by=0, ascending=True)\\\n",
    ".plot.barh(grid=True, title='Feature Importances', figsize=(10, 5), legend=False);"
   ]
  },
  {
   "cell_type": "markdown",
   "metadata": {},
   "source": [
    "Наибольшую важность при предсказании количества заказов такси получил признак \"час заказа\"."
   ]
  },
  {
   "cell_type": "markdown",
   "metadata": {},
   "source": [
    "## Вывод"
   ]
  },
  {
   "cell_type": "markdown",
   "metadata": {},
   "source": [
    "Цель работы состояла в том, чтобы построить модель, способную предсказывать количество заказов такси в следющий час.  \n",
    "В ходе работы был проведен краткий исследовательский анализ, после чего были сгенерированы признаки и выборка была разделена на тренировочный и тестовый наборы. Следующим шагом была проведена проверка качества работы трех моделей машинного обучения: линейной регрессии, случайного леса и градиентного бустинга. Наилучшее качество на кросс-валидации показала модель градиентного бустинга: RMSE = 24.8  \n",
    "Следующим шагом был осуществен подбор гиперпараметров для модели градиентного бустинга.  \n",
    "Наилучшими гипрепараметрами оказались максимальная глубина дерева  — 5 и количество деревьев в ансамбле — 2000. Финальная модель показала на тестовых данных RMSE равное 43,02 заказам. При этом, наиболее важным признаком, от которого зависит количество заказов в следующий час оказался сам признак \"час заказа\"."
   ]
  }
 ],
 "metadata": {
  "ExecuteTimeLog": [
   {
    "duration": 957,
    "start_time": "2022-08-18T19:34:27.684Z"
   },
   {
    "duration": 120,
    "start_time": "2022-08-18T19:35:13.038Z"
   },
   {
    "duration": 52,
    "start_time": "2022-08-18T19:35:30.831Z"
   },
   {
    "duration": 10,
    "start_time": "2022-08-18T19:35:56.627Z"
   },
   {
    "duration": 50,
    "start_time": "2022-08-18T19:36:21.193Z"
   },
   {
    "duration": 7,
    "start_time": "2022-08-18T19:36:46.458Z"
   },
   {
    "duration": 5,
    "start_time": "2022-08-18T19:36:56.928Z"
   },
   {
    "duration": 5,
    "start_time": "2022-08-18T19:37:32.981Z"
   },
   {
    "duration": 140,
    "start_time": "2022-08-18T19:42:46.550Z"
   },
   {
    "duration": 58,
    "start_time": "2022-08-18T19:42:57.033Z"
   },
   {
    "duration": 10,
    "start_time": "2022-08-18T19:43:03.253Z"
   },
   {
    "duration": 5,
    "start_time": "2022-08-18T19:43:11.554Z"
   },
   {
    "duration": 4,
    "start_time": "2022-08-18T19:48:14.152Z"
   },
   {
    "duration": 4,
    "start_time": "2022-08-18T19:51:16.718Z"
   },
   {
    "duration": 199,
    "start_time": "2022-08-18T19:52:03.117Z"
   },
   {
    "duration": 184,
    "start_time": "2022-08-18T19:52:08.461Z"
   },
   {
    "duration": 51,
    "start_time": "2022-08-18T19:53:41.031Z"
   },
   {
    "duration": 17,
    "start_time": "2022-08-18T19:53:53.954Z"
   },
   {
    "duration": 7,
    "start_time": "2022-08-18T19:54:23.859Z"
   },
   {
    "duration": 6,
    "start_time": "2022-08-18T19:54:31.623Z"
   },
   {
    "duration": 4,
    "start_time": "2022-08-18T19:54:41.940Z"
   },
   {
    "duration": 190,
    "start_time": "2022-08-18T19:55:03.581Z"
   },
   {
    "duration": 148,
    "start_time": "2022-08-18T19:55:14.569Z"
   },
   {
    "duration": 142,
    "start_time": "2022-08-18T19:55:17.915Z"
   },
   {
    "duration": 123,
    "start_time": "2022-08-18T19:55:22.166Z"
   },
   {
    "duration": 140,
    "start_time": "2022-08-18T19:56:09.925Z"
   },
   {
    "duration": 128,
    "start_time": "2022-08-18T19:56:19.210Z"
   },
   {
    "duration": 99,
    "start_time": "2022-08-18T19:56:23.654Z"
   },
   {
    "duration": 135,
    "start_time": "2022-08-18T19:56:31.726Z"
   },
   {
    "duration": 173,
    "start_time": "2022-08-18T19:56:36.930Z"
   },
   {
    "duration": 148,
    "start_time": "2022-08-18T19:56:55.179Z"
   },
   {
    "duration": 255,
    "start_time": "2022-08-18T19:57:13.055Z"
   },
   {
    "duration": 229,
    "start_time": "2022-08-18T19:57:35.747Z"
   },
   {
    "duration": 235,
    "start_time": "2022-08-18T19:57:44.170Z"
   },
   {
    "duration": 578,
    "start_time": "2022-08-18T19:57:51.382Z"
   },
   {
    "duration": 51,
    "start_time": "2022-08-18T19:58:17.020Z"
   },
   {
    "duration": 344,
    "start_time": "2022-08-18T19:58:26.914Z"
   },
   {
    "duration": 230,
    "start_time": "2022-08-18T19:58:51.088Z"
   },
   {
    "duration": 220,
    "start_time": "2022-08-18T20:00:08.960Z"
   },
   {
    "duration": 223,
    "start_time": "2022-08-18T20:00:20.843Z"
   },
   {
    "duration": 13,
    "start_time": "2022-08-18T20:06:02.336Z"
   },
   {
    "duration": 12,
    "start_time": "2022-08-18T20:06:08.051Z"
   },
   {
    "duration": 4,
    "start_time": "2022-08-18T20:06:11.645Z"
   },
   {
    "duration": 10,
    "start_time": "2022-08-18T20:06:14.549Z"
   },
   {
    "duration": 4,
    "start_time": "2022-08-18T20:06:17.120Z"
   },
   {
    "duration": 228,
    "start_time": "2022-08-18T20:09:05.863Z"
   },
   {
    "duration": 176,
    "start_time": "2022-08-18T20:09:24.590Z"
   },
   {
    "duration": 188,
    "start_time": "2022-08-18T20:09:49.847Z"
   },
   {
    "duration": 183,
    "start_time": "2022-08-18T20:10:03.476Z"
   },
   {
    "duration": 183,
    "start_time": "2022-08-18T20:10:12.183Z"
   },
   {
    "duration": 181,
    "start_time": "2022-08-18T20:10:23.795Z"
   },
   {
    "duration": 257,
    "start_time": "2022-08-18T20:11:58.665Z"
   },
   {
    "duration": 271,
    "start_time": "2022-08-18T20:12:22.653Z"
   },
   {
    "duration": 266,
    "start_time": "2022-08-18T20:12:27.740Z"
   },
   {
    "duration": 261,
    "start_time": "2022-08-18T20:13:27.761Z"
   },
   {
    "duration": 297,
    "start_time": "2022-08-18T20:13:49.941Z"
   },
   {
    "duration": 261,
    "start_time": "2022-08-18T20:13:55.039Z"
   },
   {
    "duration": 261,
    "start_time": "2022-08-18T20:14:08.542Z"
   },
   {
    "duration": 276,
    "start_time": "2022-08-18T20:14:27.293Z"
   },
   {
    "duration": 341,
    "start_time": "2022-08-18T20:14:31.361Z"
   },
   {
    "duration": 282,
    "start_time": "2022-08-18T20:15:32.110Z"
   },
   {
    "duration": 272,
    "start_time": "2022-08-18T20:15:39.061Z"
   },
   {
    "duration": 270,
    "start_time": "2022-08-18T20:15:42.371Z"
   },
   {
    "duration": 777,
    "start_time": "2022-08-18T20:17:20.351Z"
   },
   {
    "duration": 377,
    "start_time": "2022-08-18T20:17:53.108Z"
   },
   {
    "duration": 438,
    "start_time": "2022-08-18T20:18:12.851Z"
   },
   {
    "duration": 222,
    "start_time": "2022-08-18T20:18:26.690Z"
   },
   {
    "duration": 220,
    "start_time": "2022-08-18T20:18:30.042Z"
   },
   {
    "duration": 214,
    "start_time": "2022-08-18T20:18:35.142Z"
   },
   {
    "duration": 202,
    "start_time": "2022-08-18T20:18:46.752Z"
   },
   {
    "duration": 219,
    "start_time": "2022-08-18T20:19:03.769Z"
   },
   {
    "duration": 818,
    "start_time": "2022-08-18T20:19:07.159Z"
   },
   {
    "duration": 403,
    "start_time": "2022-08-18T20:19:15.337Z"
   },
   {
    "duration": 414,
    "start_time": "2022-08-18T20:19:23.993Z"
   },
   {
    "duration": 5,
    "start_time": "2022-08-18T20:23:17.400Z"
   },
   {
    "duration": 1611,
    "start_time": "2022-08-24T16:21:42.224Z"
   },
   {
    "duration": 126,
    "start_time": "2022-08-24T16:21:43.836Z"
   },
   {
    "duration": 9,
    "start_time": "2022-08-24T16:21:43.964Z"
   },
   {
    "duration": 14,
    "start_time": "2022-08-24T16:21:43.974Z"
   },
   {
    "duration": 41,
    "start_time": "2022-08-24T16:21:43.990Z"
   },
   {
    "duration": 17,
    "start_time": "2022-08-24T16:21:44.033Z"
   },
   {
    "duration": 4,
    "start_time": "2022-08-24T16:23:46.705Z"
   },
   {
    "duration": 4,
    "start_time": "2022-08-24T16:24:14.570Z"
   },
   {
    "duration": 112,
    "start_time": "2022-08-24T16:25:55.683Z"
   },
   {
    "duration": 4,
    "start_time": "2022-08-24T16:26:14.689Z"
   },
   {
    "duration": 19,
    "start_time": "2022-08-24T16:26:15.157Z"
   },
   {
    "duration": 21,
    "start_time": "2022-08-24T16:26:39.364Z"
   },
   {
    "duration": 11,
    "start_time": "2022-08-24T16:27:56.198Z"
   },
   {
    "duration": 10,
    "start_time": "2022-08-24T16:28:05.892Z"
   },
   {
    "duration": 7,
    "start_time": "2022-08-24T16:28:30.406Z"
   },
   {
    "duration": 13,
    "start_time": "2022-08-24T16:29:32.284Z"
   },
   {
    "duration": 23,
    "start_time": "2022-08-24T16:30:12.513Z"
   },
   {
    "duration": 28,
    "start_time": "2022-08-24T16:30:35.384Z"
   },
   {
    "duration": 6,
    "start_time": "2022-08-24T16:30:41.733Z"
   },
   {
    "duration": 7,
    "start_time": "2022-08-24T16:30:54.634Z"
   },
   {
    "duration": 22,
    "start_time": "2022-08-24T16:31:04.095Z"
   },
   {
    "duration": 24,
    "start_time": "2022-08-24T16:31:12.485Z"
   },
   {
    "duration": 6,
    "start_time": "2022-08-24T16:31:25.793Z"
   },
   {
    "duration": 21,
    "start_time": "2022-08-24T16:31:54.893Z"
   },
   {
    "duration": 23,
    "start_time": "2022-08-24T16:32:12.386Z"
   },
   {
    "duration": 12,
    "start_time": "2022-08-24T16:32:33.243Z"
   },
   {
    "duration": 18,
    "start_time": "2022-08-24T16:32:49.531Z"
   },
   {
    "duration": 4,
    "start_time": "2022-08-24T16:32:58.304Z"
   },
   {
    "duration": 3,
    "start_time": "2022-08-24T16:33:17.493Z"
   },
   {
    "duration": 20,
    "start_time": "2022-08-24T16:33:31.201Z"
   },
   {
    "duration": 19,
    "start_time": "2022-08-24T16:33:53.770Z"
   },
   {
    "duration": 14,
    "start_time": "2022-08-24T16:34:00.734Z"
   },
   {
    "duration": 7,
    "start_time": "2022-08-24T16:34:08.642Z"
   },
   {
    "duration": 9,
    "start_time": "2022-08-24T16:34:18.145Z"
   },
   {
    "duration": 15,
    "start_time": "2022-08-24T16:34:33.568Z"
   },
   {
    "duration": 8,
    "start_time": "2022-08-24T16:34:42.994Z"
   },
   {
    "duration": 6,
    "start_time": "2022-08-24T16:34:48.363Z"
   },
   {
    "duration": 21,
    "start_time": "2022-08-24T16:45:51.527Z"
   },
   {
    "duration": 15,
    "start_time": "2022-08-24T16:45:53.564Z"
   },
   {
    "duration": 6,
    "start_time": "2022-08-24T16:45:57.238Z"
   },
   {
    "duration": 3,
    "start_time": "2022-08-24T16:48:34.203Z"
   },
   {
    "duration": 6,
    "start_time": "2022-08-24T16:48:34.405Z"
   },
   {
    "duration": 5,
    "start_time": "2022-08-24T16:49:07.458Z"
   },
   {
    "duration": 6,
    "start_time": "2022-08-24T16:49:34.366Z"
   },
   {
    "duration": 6,
    "start_time": "2022-08-24T16:49:34.577Z"
   },
   {
    "duration": 3,
    "start_time": "2022-08-24T18:47:22.245Z"
   },
   {
    "duration": 3,
    "start_time": "2022-08-24T18:51:37.355Z"
   },
   {
    "duration": 3,
    "start_time": "2022-08-24T18:56:38.828Z"
   },
   {
    "duration": 22,
    "start_time": "2022-08-24T18:58:03.712Z"
   },
   {
    "duration": 3,
    "start_time": "2022-08-24T18:58:09.835Z"
   },
   {
    "duration": 30,
    "start_time": "2022-08-24T18:58:11.988Z"
   },
   {
    "duration": 3,
    "start_time": "2022-08-24T18:58:59.508Z"
   },
   {
    "duration": 3,
    "start_time": "2022-08-24T18:59:04.011Z"
   },
   {
    "duration": 5,
    "start_time": "2022-08-24T18:59:15.481Z"
   },
   {
    "duration": 6704,
    "start_time": "2022-08-24T19:02:09.710Z"
   },
   {
    "duration": 3,
    "start_time": "2022-08-24T19:02:16.416Z"
   },
   {
    "duration": 32,
    "start_time": "2022-08-24T19:02:48.489Z"
   },
   {
    "duration": 51,
    "start_time": "2022-08-24T19:02:52.873Z"
   },
   {
    "duration": 51,
    "start_time": "2022-08-24T19:02:57.606Z"
   },
   {
    "duration": 10,
    "start_time": "2022-08-24T19:02:57.960Z"
   },
   {
    "duration": 4,
    "start_time": "2022-08-24T19:02:58.630Z"
   },
   {
    "duration": 3,
    "start_time": "2022-08-24T19:02:58.835Z"
   },
   {
    "duration": 247,
    "start_time": "2022-08-24T19:03:06.278Z"
   },
   {
    "duration": 319,
    "start_time": "2022-08-24T19:03:08.570Z"
   },
   {
    "duration": 443,
    "start_time": "2022-08-24T19:03:12.170Z"
   },
   {
    "duration": 2,
    "start_time": "2022-08-24T19:03:17.476Z"
   },
   {
    "duration": 4,
    "start_time": "2022-08-24T19:03:18.905Z"
   },
   {
    "duration": 86,
    "start_time": "2022-08-24T19:04:47.003Z"
   },
   {
    "duration": 5,
    "start_time": "2022-08-24T19:04:52.200Z"
   },
   {
    "duration": 29,
    "start_time": "2022-08-24T19:05:20.653Z"
   },
   {
    "duration": 20,
    "start_time": "2022-08-24T19:05:23.462Z"
   },
   {
    "duration": 4,
    "start_time": "2022-08-24T19:05:37.120Z"
   },
   {
    "duration": 27,
    "start_time": "2022-08-24T19:05:37.369Z"
   },
   {
    "duration": 24,
    "start_time": "2022-08-24T19:05:37.867Z"
   },
   {
    "duration": 6,
    "start_time": "2022-08-24T19:05:38.565Z"
   },
   {
    "duration": 9,
    "start_time": "2022-08-24T19:05:48.935Z"
   },
   {
    "duration": 5,
    "start_time": "2022-08-24T19:06:03.864Z"
   },
   {
    "duration": 352,
    "start_time": "2022-08-24T19:06:36.984Z"
   },
   {
    "duration": 6,
    "start_time": "2022-08-24T19:08:25.083Z"
   },
   {
    "duration": 4,
    "start_time": "2022-08-24T19:08:25.817Z"
   },
   {
    "duration": 2,
    "start_time": "2022-08-24T19:08:28.957Z"
   },
   {
    "duration": 3,
    "start_time": "2022-08-24T19:08:29.517Z"
   },
   {
    "duration": 706,
    "start_time": "2022-08-24T19:08:39.553Z"
   },
   {
    "duration": 4,
    "start_time": "2022-08-24T19:08:40.261Z"
   },
   {
    "duration": 13035,
    "start_time": "2022-08-24T19:08:43.025Z"
   },
   {
    "duration": 3,
    "start_time": "2022-08-24T19:08:56.062Z"
   },
   {
    "duration": 3,
    "start_time": "2022-08-24T19:08:58.045Z"
   },
   {
    "duration": 3,
    "start_time": "2022-08-24T19:09:48.725Z"
   },
   {
    "duration": 10602,
    "start_time": "2022-08-24T19:10:15.427Z"
   },
   {
    "duration": 0,
    "start_time": "2022-08-24T19:10:26.031Z"
   },
   {
    "duration": 22216,
    "start_time": "2022-08-24T19:10:39.021Z"
   },
   {
    "duration": 4,
    "start_time": "2022-08-24T19:11:01.239Z"
   },
   {
    "duration": 3,
    "start_time": "2022-08-24T19:12:55.937Z"
   },
   {
    "duration": 43,
    "start_time": "2022-08-24T19:13:47.047Z"
   },
   {
    "duration": 12,
    "start_time": "2022-08-24T19:13:50.278Z"
   },
   {
    "duration": 22,
    "start_time": "2022-08-24T19:14:03.241Z"
   },
   {
    "duration": 5260,
    "start_time": "2022-08-24T19:14:13.253Z"
   },
   {
    "duration": 4916,
    "start_time": "2022-08-24T19:14:36.512Z"
   },
   {
    "duration": 5067,
    "start_time": "2022-08-24T19:14:45.529Z"
   },
   {
    "duration": 3,
    "start_time": "2022-08-24T19:14:50.597Z"
   },
   {
    "duration": 240,
    "start_time": "2022-08-24T19:24:35.938Z"
   },
   {
    "duration": 233,
    "start_time": "2022-08-24T19:24:42.157Z"
   },
   {
    "duration": 254,
    "start_time": "2022-08-24T19:25:04.996Z"
   },
   {
    "duration": 4,
    "start_time": "2022-08-24T19:47:11.366Z"
   },
   {
    "duration": 13,
    "start_time": "2022-08-24T19:49:00.231Z"
   },
   {
    "duration": 4,
    "start_time": "2022-08-24T19:49:40.849Z"
   },
   {
    "duration": 4,
    "start_time": "2022-08-24T19:50:45.124Z"
   },
   {
    "duration": 3,
    "start_time": "2022-08-24T19:50:47.148Z"
   },
   {
    "duration": 3,
    "start_time": "2022-08-24T19:50:49.537Z"
   },
   {
    "duration": 3,
    "start_time": "2022-08-24T19:53:06.022Z"
   },
   {
    "duration": 27,
    "start_time": "2022-08-24T19:58:52.883Z"
   },
   {
    "duration": 1529,
    "start_time": "2022-08-27T15:20:24.834Z"
   },
   {
    "duration": 124,
    "start_time": "2022-08-27T15:20:26.364Z"
   },
   {
    "duration": 9,
    "start_time": "2022-08-27T15:20:26.489Z"
   },
   {
    "duration": 5,
    "start_time": "2022-08-27T15:20:26.500Z"
   },
   {
    "duration": 9,
    "start_time": "2022-08-27T15:20:26.506Z"
   },
   {
    "duration": 256,
    "start_time": "2022-08-27T15:20:27.437Z"
   },
   {
    "duration": 351,
    "start_time": "2022-08-27T15:20:27.834Z"
   },
   {
    "duration": 389,
    "start_time": "2022-08-27T15:20:28.303Z"
   },
   {
    "duration": 4,
    "start_time": "2022-08-27T15:20:40.544Z"
   },
   {
    "duration": 25,
    "start_time": "2022-08-27T15:20:40.802Z"
   },
   {
    "duration": 19,
    "start_time": "2022-08-27T15:20:41.034Z"
   },
   {
    "duration": 5,
    "start_time": "2022-08-27T15:20:41.652Z"
   },
   {
    "duration": 5,
    "start_time": "2022-08-27T15:20:42.038Z"
   },
   {
    "duration": 4,
    "start_time": "2022-08-27T15:20:42.249Z"
   },
   {
    "duration": 2,
    "start_time": "2022-08-27T15:20:43.382Z"
   },
   {
    "duration": 4,
    "start_time": "2022-08-27T15:20:44.055Z"
   },
   {
    "duration": 4,
    "start_time": "2022-08-27T15:20:44.333Z"
   },
   {
    "duration": 4,
    "start_time": "2022-08-27T15:20:44.550Z"
   },
   {
    "duration": 804,
    "start_time": "2022-08-27T15:20:45.202Z"
   },
   {
    "duration": 3,
    "start_time": "2022-08-27T15:20:46.099Z"
   },
   {
    "duration": 14563,
    "start_time": "2022-08-27T15:20:46.103Z"
   },
   {
    "duration": 3,
    "start_time": "2022-08-27T15:21:00.668Z"
   },
   {
    "duration": 19985,
    "start_time": "2022-08-27T15:21:00.672Z"
   },
   {
    "duration": 4,
    "start_time": "2022-08-27T15:21:20.659Z"
   },
   {
    "duration": 5,
    "start_time": "2022-08-27T15:21:20.664Z"
   },
   {
    "duration": 129,
    "start_time": "2022-08-27T15:21:20.671Z"
   },
   {
    "duration": 0,
    "start_time": "2022-08-27T15:21:20.802Z"
   },
   {
    "duration": 0,
    "start_time": "2022-08-27T15:21:20.803Z"
   },
   {
    "duration": 0,
    "start_time": "2022-08-27T15:21:20.805Z"
   },
   {
    "duration": 0,
    "start_time": "2022-08-27T15:21:20.806Z"
   },
   {
    "duration": 3,
    "start_time": "2022-08-27T15:23:31.523Z"
   },
   {
    "duration": 22,
    "start_time": "2022-08-27T15:23:32.659Z"
   },
   {
    "duration": 96398,
    "start_time": "2022-08-27T15:23:47.122Z"
   },
   {
    "duration": 4,
    "start_time": "2022-08-27T15:25:29.043Z"
   },
   {
    "duration": 4,
    "start_time": "2022-08-27T15:25:29.303Z"
   },
   {
    "duration": 2,
    "start_time": "2022-08-27T15:25:52.984Z"
   },
   {
    "duration": 6360,
    "start_time": "2022-08-27T15:25:53.564Z"
   },
   {
    "duration": 3,
    "start_time": "2022-08-27T15:26:28.594Z"
   },
   {
    "duration": 2,
    "start_time": "2022-08-27T15:26:55.704Z"
   },
   {
    "duration": 4,
    "start_time": "2022-08-27T15:27:02.143Z"
   },
   {
    "duration": 3,
    "start_time": "2022-08-27T15:27:24.394Z"
   },
   {
    "duration": 2,
    "start_time": "2022-08-27T15:27:25.584Z"
   },
   {
    "duration": 3,
    "start_time": "2022-08-27T15:27:29.831Z"
   },
   {
    "duration": 4,
    "start_time": "2022-08-27T15:27:51.239Z"
   },
   {
    "duration": 8,
    "start_time": "2022-08-27T15:27:57.574Z"
   },
   {
    "duration": 3,
    "start_time": "2022-08-27T15:28:02.894Z"
   },
   {
    "duration": 4,
    "start_time": "2022-08-27T15:28:05.463Z"
   },
   {
    "duration": 42,
    "start_time": "2022-08-27T15:28:11.539Z"
   },
   {
    "duration": 10,
    "start_time": "2022-08-27T15:28:15.331Z"
   },
   {
    "duration": 3,
    "start_time": "2022-08-27T15:29:31.229Z"
   },
   {
    "duration": 198355,
    "start_time": "2022-08-27T15:29:31.693Z"
   },
   {
    "duration": 3,
    "start_time": "2022-08-27T15:32:50.049Z"
   },
   {
    "duration": 8,
    "start_time": "2022-08-27T15:32:50.054Z"
   },
   {
    "duration": 5,
    "start_time": "2022-08-27T15:32:55.230Z"
   },
   {
    "duration": 2,
    "start_time": "2022-08-27T15:33:00.858Z"
   },
   {
    "duration": 6447,
    "start_time": "2022-08-27T15:33:05.327Z"
   },
   {
    "duration": 8,
    "start_time": "2022-08-27T15:33:25.037Z"
   },
   {
    "duration": 4,
    "start_time": "2022-08-27T15:33:28.695Z"
   },
   {
    "duration": 7,
    "start_time": "2022-08-27T15:34:03.265Z"
   },
   {
    "duration": 7,
    "start_time": "2022-08-27T15:34:15.085Z"
   },
   {
    "duration": 9,
    "start_time": "2022-08-27T15:34:30.464Z"
   },
   {
    "duration": 8,
    "start_time": "2022-08-27T15:34:35.384Z"
   },
   {
    "duration": 7,
    "start_time": "2022-08-27T15:34:55.465Z"
   },
   {
    "duration": 14,
    "start_time": "2022-08-27T15:35:03.722Z"
   },
   {
    "duration": 216,
    "start_time": "2022-08-27T15:35:11.885Z"
   },
   {
    "duration": 9,
    "start_time": "2022-08-27T15:35:39.735Z"
   },
   {
    "duration": 218,
    "start_time": "2022-08-27T15:36:05.745Z"
   },
   {
    "duration": 263,
    "start_time": "2022-08-27T15:36:16.344Z"
   },
   {
    "duration": 230,
    "start_time": "2022-08-27T15:36:24.045Z"
   },
   {
    "duration": 483,
    "start_time": "2022-08-27T15:36:46.634Z"
   },
   {
    "duration": 8,
    "start_time": "2022-08-27T15:38:08.866Z"
   },
   {
    "duration": 261,
    "start_time": "2022-08-27T15:38:39.335Z"
   },
   {
    "duration": 253,
    "start_time": "2022-08-27T15:39:41.355Z"
   },
   {
    "duration": 1833,
    "start_time": "2022-08-30T16:58:08.135Z"
   },
   {
    "duration": 126,
    "start_time": "2022-08-30T16:58:09.970Z"
   },
   {
    "duration": 10,
    "start_time": "2022-08-30T16:58:10.098Z"
   },
   {
    "duration": 5,
    "start_time": "2022-08-30T16:58:10.109Z"
   },
   {
    "duration": 8,
    "start_time": "2022-08-30T16:58:10.117Z"
   },
   {
    "duration": 325,
    "start_time": "2022-08-30T16:58:10.126Z"
   },
   {
    "duration": 405,
    "start_time": "2022-08-30T16:58:10.453Z"
   },
   {
    "duration": 435,
    "start_time": "2022-08-30T16:58:10.859Z"
   },
   {
    "duration": 4,
    "start_time": "2022-08-30T16:58:11.296Z"
   },
   {
    "duration": 32,
    "start_time": "2022-08-30T16:58:11.302Z"
   },
   {
    "duration": 20,
    "start_time": "2022-08-30T16:58:11.336Z"
   },
   {
    "duration": 4,
    "start_time": "2022-08-30T16:58:11.358Z"
   },
   {
    "duration": 7,
    "start_time": "2022-08-30T16:58:11.364Z"
   },
   {
    "duration": 3,
    "start_time": "2022-08-30T16:58:11.373Z"
   },
   {
    "duration": 5,
    "start_time": "2022-08-30T16:58:11.411Z"
   },
   {
    "duration": 10,
    "start_time": "2022-08-30T16:58:11.418Z"
   },
   {
    "duration": 7,
    "start_time": "2022-08-30T16:58:11.430Z"
   },
   {
    "duration": 681,
    "start_time": "2022-08-30T16:58:11.438Z"
   },
   {
    "duration": 89,
    "start_time": "2022-08-30T16:58:12.123Z"
   },
   {
    "duration": 14984,
    "start_time": "2022-08-30T16:58:12.214Z"
   },
   {
    "duration": 3,
    "start_time": "2022-08-30T16:58:27.200Z"
   },
   {
    "duration": 22054,
    "start_time": "2022-08-30T16:58:27.205Z"
   },
   {
    "duration": 3,
    "start_time": "2022-08-30T16:58:49.261Z"
   },
   {
    "duration": 5,
    "start_time": "2022-08-30T16:58:49.266Z"
   },
   {
    "duration": 216742,
    "start_time": "2022-08-30T16:58:49.273Z"
   },
   {
    "duration": 4,
    "start_time": "2022-08-30T17:02:26.017Z"
   },
   {
    "duration": 7,
    "start_time": "2022-08-30T17:02:26.023Z"
   },
   {
    "duration": 5,
    "start_time": "2022-08-30T17:02:26.033Z"
   },
   {
    "duration": 6929,
    "start_time": "2022-08-30T17:02:26.040Z"
   },
   {
    "duration": 225,
    "start_time": "2022-08-30T17:02:32.971Z"
   },
   {
    "duration": 138,
    "start_time": "2022-08-30T17:02:35.536Z"
   },
   {
    "duration": 158,
    "start_time": "2022-08-30T17:02:50.343Z"
   },
   {
    "duration": 127,
    "start_time": "2022-08-30T17:03:19.383Z"
   },
   {
    "duration": 222,
    "start_time": "2022-08-30T17:03:34.888Z"
   },
   {
    "duration": 212,
    "start_time": "2022-08-30T17:04:06.294Z"
   },
   {
    "duration": 299,
    "start_time": "2022-08-30T17:04:20.238Z"
   },
   {
    "duration": 220,
    "start_time": "2022-08-30T17:04:27.446Z"
   }
  ],
  "kernelspec": {
   "display_name": "Python 3 (ipykernel)",
   "language": "python",
   "name": "python3"
  },
  "language_info": {
   "codemirror_mode": {
    "name": "ipython",
    "version": 3
   },
   "file_extension": ".py",
   "mimetype": "text/x-python",
   "name": "python",
   "nbconvert_exporter": "python",
   "pygments_lexer": "ipython3",
   "version": "3.9.12"
  },
  "toc": {
   "base_numbering": 1,
   "nav_menu": {},
   "number_sections": true,
   "sideBar": true,
   "skip_h1_title": true,
   "title_cell": "Содержание",
   "title_sidebar": "Contents",
   "toc_cell": true,
   "toc_position": {},
   "toc_section_display": true,
   "toc_window_display": false
  }
 },
 "nbformat": 4,
 "nbformat_minor": 2
}
