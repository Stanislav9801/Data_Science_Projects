{
 "cells": [
  {
   "cell_type": "markdown",
   "metadata": {},
   "source": [
    "# Рекомендация тарифов"
   ]
  },
  {
   "cell_type": "markdown",
   "metadata": {},
   "source": [
    "Оператор мобильной связи «Мегалайн» выяснил: многие клиенты пользуются архивными тарифами. Они хотят построить систему, способную проанализировать поведение клиентов и предложить пользователям новый тариф: «Смарт» или «Ультра».   \n",
    "\n",
    "В вашем распоряжении данные о поведении клиентов, которые уже перешли на эти тарифы (из проекта курса «Статистический анализ данных»). Нужно построить модель для задачи классификации, которая выберет подходящий тариф. Предобработка данных не понадобится — вы её уже сделали.\n",
    "\n",
    "Постройте модель с максимально большим значением *accuracy*. Чтобы сдать проект успешно, нужно довести долю правильных ответов по крайней мере до 0.75. Проверьте *accuracy* на тестовой выборке самостоятельно."
   ]
  },
  {
   "cell_type": "markdown",
   "metadata": {},
   "source": [
    "**Описание данных**  \n",
    "Каждый объект в наборе данных — это информация о поведении одного пользователя за месяц.  \n",
    "Известно: \n",
    "- `сalls` — количество звонков,\n",
    "- `minutes` — суммарная длительность звонков в минутах,\n",
    "- `messages` — количество sms-сообщений,\n",
    "- `mb_used` — израсходованный интернет-трафик в Мб,\n",
    "- `is_ultra` — каким тарифом пользовался в течение месяца («Ультра» — 1, «Смарт» — 0)."
   ]
  },
  {
   "cell_type": "markdown",
   "metadata": {},
   "source": [
    "**План проекта:**\n",
    "1. Изучим данные. Сформулируем задачу.\n",
    "2. Разделим выборку на обучающую, валидационную и тестовую.\n",
    "3. Выберем несколько моделей и исследуем качество их предсказания в режиме default-настройки гиперпараметров.\n",
    "4. Выберем модель, которая показала наилучший результат. Попробуем улучшить его путем настройки гиперпараметров.\n",
    "5. Проверим модель на тестовой выборке.\n",
    "6. Проверим модель на адекватность"
   ]
  },
  {
   "cell_type": "markdown",
   "metadata": {},
   "source": [
    "## Импорт библиотек и подготовка окружения"
   ]
  },
  {
   "cell_type": "code",
   "execution_count": 1,
   "metadata": {},
   "outputs": [],
   "source": [
    "import pandas as pd\n",
    "import warnings\n",
    "warnings.filterwarnings('ignore')\n",
    "\n",
    "from tqdm import tqdm\n",
    "from matplotlib import pyplot as plt\n",
    "from sklearn.model_selection import train_test_split\n",
    "from sklearn.linear_model import LogisticRegression\n",
    "from sklearn.tree import DecisionTreeClassifier\n",
    "from sklearn.ensemble import RandomForestClassifier"
   ]
  },
  {
   "cell_type": "markdown",
   "metadata": {},
   "source": [
    "## Откройте и изучите файл"
   ]
  },
  {
   "cell_type": "markdown",
   "metadata": {},
   "source": [
    "Сохраним данные в переменную `df`"
   ]
  },
  {
   "cell_type": "code",
   "execution_count": 2,
   "metadata": {},
   "outputs": [
    {
     "data": {
      "text/html": [
       "<div>\n",
       "<style scoped>\n",
       "    .dataframe tbody tr th:only-of-type {\n",
       "        vertical-align: middle;\n",
       "    }\n",
       "\n",
       "    .dataframe tbody tr th {\n",
       "        vertical-align: top;\n",
       "    }\n",
       "\n",
       "    .dataframe thead th {\n",
       "        text-align: right;\n",
       "    }\n",
       "</style>\n",
       "<table border=\"1\" class=\"dataframe\">\n",
       "  <thead>\n",
       "    <tr style=\"text-align: right;\">\n",
       "      <th></th>\n",
       "      <th>calls</th>\n",
       "      <th>minutes</th>\n",
       "      <th>messages</th>\n",
       "      <th>mb_used</th>\n",
       "      <th>is_ultra</th>\n",
       "    </tr>\n",
       "  </thead>\n",
       "  <tbody>\n",
       "    <tr>\n",
       "      <td>0</td>\n",
       "      <td>40.0</td>\n",
       "      <td>311.90</td>\n",
       "      <td>83.0</td>\n",
       "      <td>19915.42</td>\n",
       "      <td>0</td>\n",
       "    </tr>\n",
       "    <tr>\n",
       "      <td>1</td>\n",
       "      <td>85.0</td>\n",
       "      <td>516.75</td>\n",
       "      <td>56.0</td>\n",
       "      <td>22696.96</td>\n",
       "      <td>0</td>\n",
       "    </tr>\n",
       "    <tr>\n",
       "      <td>2</td>\n",
       "      <td>77.0</td>\n",
       "      <td>467.66</td>\n",
       "      <td>86.0</td>\n",
       "      <td>21060.45</td>\n",
       "      <td>0</td>\n",
       "    </tr>\n",
       "    <tr>\n",
       "      <td>3</td>\n",
       "      <td>106.0</td>\n",
       "      <td>745.53</td>\n",
       "      <td>81.0</td>\n",
       "      <td>8437.39</td>\n",
       "      <td>1</td>\n",
       "    </tr>\n",
       "    <tr>\n",
       "      <td>4</td>\n",
       "      <td>66.0</td>\n",
       "      <td>418.74</td>\n",
       "      <td>1.0</td>\n",
       "      <td>14502.75</td>\n",
       "      <td>0</td>\n",
       "    </tr>\n",
       "  </tbody>\n",
       "</table>\n",
       "</div>"
      ],
      "text/plain": [
       "   calls  minutes  messages   mb_used  is_ultra\n",
       "0   40.0   311.90      83.0  19915.42         0\n",
       "1   85.0   516.75      56.0  22696.96         0\n",
       "2   77.0   467.66      86.0  21060.45         0\n",
       "3  106.0   745.53      81.0   8437.39         1\n",
       "4   66.0   418.74       1.0  14502.75         0"
      ]
     },
     "execution_count": 2,
     "metadata": {},
     "output_type": "execute_result"
    }
   ],
   "source": [
    "df = pd.read_csv('/datasets/users_behavior.csv')\n",
    "\n",
    "# Выведем на экран первые 5 строк датафрейма\n",
    "df.head()"
   ]
  },
  {
   "cell_type": "code",
   "execution_count": 3,
   "metadata": {},
   "outputs": [
    {
     "name": "stdout",
     "output_type": "stream",
     "text": [
      "<class 'pandas.core.frame.DataFrame'>\n",
      "RangeIndex: 3214 entries, 0 to 3213\n",
      "Data columns (total 5 columns):\n",
      "calls       3214 non-null float64\n",
      "minutes     3214 non-null float64\n",
      "messages    3214 non-null float64\n",
      "mb_used     3214 non-null float64\n",
      "is_ultra    3214 non-null int64\n",
      "dtypes: float64(4), int64(1)\n",
      "memory usage: 125.7 KB\n"
     ]
    }
   ],
   "source": [
    "df.info()"
   ]
  },
  {
   "cell_type": "markdown",
   "metadata": {},
   "source": [
    "В данных содержится 3214 строк.  \n",
    "Все признаки - числовые.  \n",
    "Пропуски отсутствуют.  \n",
    "В данных имеются 5 признаков: \n",
    "- `сalls` — количество звонков,\n",
    "- `minutes` — суммарная длительность звонков в минутах,\n",
    "- `messages` — количество sms-сообщений,\n",
    "- `mb_used` — израсходованный интернет-трафик в Мб,\n",
    "- `is_ultra` — каким тарифом пользовался в течение месяца («Ультра» — 1, «Смарт» — 0).  \n"
   ]
  },
  {
   "cell_type": "markdown",
   "metadata": {},
   "source": [
    "Целевой признак, который будем предсказывать - `is_ultra`  \n",
    "Таким образом, мы будем решать задачу бинарной классификации.  \n",
    "Метрика, которая будет выбрана для оценки модели - Accuracy."
   ]
  },
  {
   "cell_type": "markdown",
   "metadata": {},
   "source": [
    "### Небольшая предобработка"
   ]
  },
  {
   "cell_type": "markdown",
   "metadata": {},
   "source": [
    "Сделаем небольшую предобработку данных. Количество звонков и сообщений приведем к типу `int`"
   ]
  },
  {
   "cell_type": "code",
   "execution_count": 4,
   "metadata": {},
   "outputs": [
    {
     "name": "stdout",
     "output_type": "stream",
     "text": [
      "<class 'pandas.core.frame.DataFrame'>\n",
      "RangeIndex: 3214 entries, 0 to 3213\n",
      "Data columns (total 2 columns):\n",
      "calls       3214 non-null int64\n",
      "messages    3214 non-null int64\n",
      "dtypes: int64(2)\n",
      "memory usage: 50.3 KB\n"
     ]
    }
   ],
   "source": [
    "columns = ['calls', 'messages']\n",
    "\n",
    "for col in columns:\n",
    "    df[col] = df[col].astype('int')\n",
    "    \n",
    "# Проверим результат преобразования\n",
    "df[columns].info()"
   ]
  },
  {
   "cell_type": "markdown",
   "metadata": {},
   "source": [
    "### Посмотрим на описание данных"
   ]
  },
  {
   "cell_type": "code",
   "execution_count": 5,
   "metadata": {},
   "outputs": [
    {
     "data": {
      "text/html": [
       "<div>\n",
       "<style scoped>\n",
       "    .dataframe tbody tr th:only-of-type {\n",
       "        vertical-align: middle;\n",
       "    }\n",
       "\n",
       "    .dataframe tbody tr th {\n",
       "        vertical-align: top;\n",
       "    }\n",
       "\n",
       "    .dataframe thead th {\n",
       "        text-align: right;\n",
       "    }\n",
       "</style>\n",
       "<table border=\"1\" class=\"dataframe\">\n",
       "  <thead>\n",
       "    <tr style=\"text-align: right;\">\n",
       "      <th></th>\n",
       "      <th>calls</th>\n",
       "      <th>minutes</th>\n",
       "      <th>messages</th>\n",
       "      <th>mb_used</th>\n",
       "      <th>is_ultra</th>\n",
       "    </tr>\n",
       "  </thead>\n",
       "  <tbody>\n",
       "    <tr>\n",
       "      <td>count</td>\n",
       "      <td>3214.000000</td>\n",
       "      <td>3214.000000</td>\n",
       "      <td>3214.000000</td>\n",
       "      <td>3214.000000</td>\n",
       "      <td>3214.000000</td>\n",
       "    </tr>\n",
       "    <tr>\n",
       "      <td>mean</td>\n",
       "      <td>63.038892</td>\n",
       "      <td>438.208787</td>\n",
       "      <td>38.281269</td>\n",
       "      <td>17207.673836</td>\n",
       "      <td>0.306472</td>\n",
       "    </tr>\n",
       "    <tr>\n",
       "      <td>std</td>\n",
       "      <td>33.236368</td>\n",
       "      <td>234.569872</td>\n",
       "      <td>36.148326</td>\n",
       "      <td>7570.968246</td>\n",
       "      <td>0.461100</td>\n",
       "    </tr>\n",
       "    <tr>\n",
       "      <td>min</td>\n",
       "      <td>0.000000</td>\n",
       "      <td>0.000000</td>\n",
       "      <td>0.000000</td>\n",
       "      <td>0.000000</td>\n",
       "      <td>0.000000</td>\n",
       "    </tr>\n",
       "    <tr>\n",
       "      <td>25%</td>\n",
       "      <td>40.000000</td>\n",
       "      <td>274.575000</td>\n",
       "      <td>9.000000</td>\n",
       "      <td>12491.902500</td>\n",
       "      <td>0.000000</td>\n",
       "    </tr>\n",
       "    <tr>\n",
       "      <td>50%</td>\n",
       "      <td>62.000000</td>\n",
       "      <td>430.600000</td>\n",
       "      <td>30.000000</td>\n",
       "      <td>16943.235000</td>\n",
       "      <td>0.000000</td>\n",
       "    </tr>\n",
       "    <tr>\n",
       "      <td>75%</td>\n",
       "      <td>82.000000</td>\n",
       "      <td>571.927500</td>\n",
       "      <td>57.000000</td>\n",
       "      <td>21424.700000</td>\n",
       "      <td>1.000000</td>\n",
       "    </tr>\n",
       "    <tr>\n",
       "      <td>max</td>\n",
       "      <td>244.000000</td>\n",
       "      <td>1632.060000</td>\n",
       "      <td>224.000000</td>\n",
       "      <td>49745.730000</td>\n",
       "      <td>1.000000</td>\n",
       "    </tr>\n",
       "  </tbody>\n",
       "</table>\n",
       "</div>"
      ],
      "text/plain": [
       "             calls      minutes     messages       mb_used     is_ultra\n",
       "count  3214.000000  3214.000000  3214.000000   3214.000000  3214.000000\n",
       "mean     63.038892   438.208787    38.281269  17207.673836     0.306472\n",
       "std      33.236368   234.569872    36.148326   7570.968246     0.461100\n",
       "min       0.000000     0.000000     0.000000      0.000000     0.000000\n",
       "25%      40.000000   274.575000     9.000000  12491.902500     0.000000\n",
       "50%      62.000000   430.600000    30.000000  16943.235000     0.000000\n",
       "75%      82.000000   571.927500    57.000000  21424.700000     1.000000\n",
       "max     244.000000  1632.060000   224.000000  49745.730000     1.000000"
      ]
     },
     "execution_count": 5,
     "metadata": {},
     "output_type": "execute_result"
    }
   ],
   "source": [
    "df.describe()"
   ]
  },
  {
   "cell_type": "code",
   "execution_count": 6,
   "metadata": {
    "scrolled": true
   },
   "outputs": [
    {
     "data": {
      "image/png": "[encoded data removed]",
      "text/plain": [
       "<Figure size 432x288 with 1 Axes>"
      ]
     },
     "metadata": {
      "needs_background": "light"
     },
     "output_type": "display_data"
    },
    {
     "data": {
      "image/png": "[encoded data removed]",
      "text/plain": [
       "<Figure size 432x288 with 1 Axes>"
      ]
     },
     "metadata": {
      "needs_background": "light"
     },
     "output_type": "display_data"
    },
    {
     "data": {
      "image/png": "[encoded data removed]",
      "text/plain": [
       "<Figure size 432x288 with 1 Axes>"
      ]
     },
     "metadata": {
      "needs_background": "light"
     },
     "output_type": "display_data"
    },
    {
     "data": {
      "image/png": "[encoded data removed]",
      "text/plain": [
       "<Figure size 432x288 with 1 Axes>"
      ]
     },
     "metadata": {
      "needs_background": "light"
     },
     "output_type": "display_data"
    },
    {
     "data": {
      "image/png": "[encoded data removed]",
      "text/plain": [
       "<Figure size 432x288 with 1 Axes>"
      ]
     },
     "metadata": {
      "needs_background": "light"
     },
     "output_type": "display_data"
    }
   ],
   "source": [
    "for col in df.columns:\n",
    "    plt.hist(df[col], bins=50)\n",
    "    plt.title(col)\n",
    "    plt.show()"
   ]
  },
  {
   "cell_type": "markdown",
   "metadata": {},
   "source": [
    "С данными все в порядке. Можно приступать к следующему этапу - разбиению выборки."
   ]
  },
  {
   "cell_type": "markdown",
   "metadata": {},
   "source": [
    "## Разбейте данные на выборки"
   ]
  },
  {
   "cell_type": "markdown",
   "metadata": {},
   "source": [
    "Сохраним матрицу признаков в таблицу `X`, а матрицу ответов в таблицу `y`"
   ]
  },
  {
   "cell_type": "code",
   "execution_count": 7,
   "metadata": {},
   "outputs": [
    {
     "name": "stdout",
     "output_type": "stream",
     "text": [
      "(3214, 4) (3214,)\n"
     ]
    }
   ],
   "source": [
    "X = df.drop('is_ultra', axis=1)\n",
    "y = df['is_ultra']\n",
    "\n",
    "print(X.shape, y.shape)"
   ]
  },
  {
   "cell_type": "markdown",
   "metadata": {},
   "source": [
    "Разделим выборки на обучающую, валидационную и тестовую в соотнощении 60%, 20%, 20% соответственно."
   ]
  },
  {
   "cell_type": "markdown",
   "metadata": {},
   "source": [
    "Первым шагом отделим 20% тестовой выборки."
   ]
  },
  {
   "cell_type": "code",
   "execution_count": 8,
   "metadata": {},
   "outputs": [],
   "source": [
    "X_train, X_test, y_train, y_test = train_test_split(X, y, test_size=0.20, random_state=5)"
   ]
  },
  {
   "cell_type": "code",
   "execution_count": 9,
   "metadata": {},
   "outputs": [
    {
     "name": "stdout",
     "output_type": "stream",
     "text": [
      "(2571, 4)\n",
      "(2571,)\n",
      "(643, 4)\n",
      "(643,)\n"
     ]
    }
   ],
   "source": [
    "for data in [X_train, y_train, X_test, y_test]:\n",
    "    print(data.shape)"
   ]
  },
  {
   "cell_type": "markdown",
   "metadata": {},
   "source": [
    "Теперь разделим тренировочную выборку и валидационную выборки. Валидационная выборка относится к тренировочной в соотношении 1 к 3-м (в соответсвии с изначальным делением 60%, 20%, 20%)"
   ]
  },
  {
   "cell_type": "code",
   "execution_count": 10,
   "metadata": {},
   "outputs": [],
   "source": [
    "X_train, X_val, y_train, y_val = train_test_split(X_train, y_train, test_size=0.25, random_state=5)"
   ]
  },
  {
   "cell_type": "code",
   "execution_count": 11,
   "metadata": {
    "scrolled": true
   },
   "outputs": [
    {
     "name": "stdout",
     "output_type": "stream",
     "text": [
      "(1928, 4)\n",
      "(1928,)\n",
      "(643, 4)\n",
      "(643,)\n"
     ]
    }
   ],
   "source": [
    "for data in [X_train, y_train, X_val, y_val]:\n",
    "    print(data.shape)"
   ]
  },
  {
   "cell_type": "markdown",
   "metadata": {},
   "source": [
    "## Исследуйте модели"
   ]
  },
  {
   "cell_type": "markdown",
   "metadata": {},
   "source": [
    "На данном этапе исследуем 3 модели классификации:\n",
    "- DecisionTreeClassifier\n",
    "- RandomForestClassifier\n",
    "- LinearRegression"
   ]
  },
  {
   "cell_type": "markdown",
   "metadata": {},
   "source": [
    "### Проверим модели с настройками default"
   ]
  },
  {
   "cell_type": "markdown",
   "metadata": {},
   "source": [
    "Для начала, посмотрим, какой результат даст каждая из моделей без подкрутки гиперпараметров."
   ]
  },
  {
   "cell_type": "code",
   "execution_count": 12,
   "metadata": {},
   "outputs": [
    {
     "name": "stdout",
     "output_type": "stream",
     "text": [
      "Accuracy модели DecisionTreeClassifier на обучающей выборке: 1.0\n",
      "Accuracy модели DecisionTreeClassifier на валидационной выборке 0.7262830482115086\n",
      "-----\n",
      "Accuracy модели LogisticRegression на обучающей выборке: 0.7059128630705395\n",
      "Accuracy модели LogisticRegression на валидационной выборке 0.6889580093312597\n",
      "-----\n",
      "Accuracy модели RandomForestClassifier на обучающей выборке: 0.9802904564315352\n",
      "Accuracy модели RandomForestClassifier на валидационной выборке 0.8055987558320373\n",
      "-----\n"
     ]
    }
   ],
   "source": [
    "for name, model in {'DecisionTreeClassifier': DecisionTreeClassifier, \n",
    "                    'LogisticRegression': LogisticRegression, \n",
    "                    'RandomForestClassifier': RandomForestClassifier}.items():\n",
    "    m = model(random_state=23)\n",
    "    n = name\n",
    "    m.fit(X_train, y_train)\n",
    "    print(f'Accuracy модели {n} на обучающей выборке: {m.score(X_train, y_train)}')\n",
    "    print(f'Accuracy модели {n} на валидационной выборке {m.score(X_val, y_val)}')\n",
    "    print('-----')"
   ]
  },
  {
   "cell_type": "markdown",
   "metadata": {},
   "source": [
    "**DecisionTreeClassifier** - переобучилась, в результате чего получила 100% точность предказания на обучающей выборке, и всего 72% на валидационной.  \n",
    "**LogisticRegression** - недообучилась, в результате чего показала одинаково низкий результат как на обучающей, так и на валидационной выборках.   \n",
    "**RandomForestClassifier** - показала лучший результат среди трех на валидационной выборке - 80,6%   "
   ]
  },
  {
   "cell_type": "markdown",
   "metadata": {},
   "source": [
    "Возмьмем лучшую из трех моделей с точки зрения показателя accuracy и посмотрим, получится ли улучшить данный результат."
   ]
  },
  {
   "cell_type": "markdown",
   "metadata": {},
   "source": [
    "### Подберем значения гиперпараметров для выбранной модели"
   ]
  },
  {
   "cell_type": "markdown",
   "metadata": {},
   "source": [
    "Переберем комбинации следющих значений гиперпараметров:  \n",
    "- `n_estimators` = range(50, 501, 50)\n",
    "- `criterion` = ['gini', 'entropy']\n",
    "- `max_features` = ['sqrt', 'log2']\n",
    "- `max_depth` = [7, 10, 13]"
   ]
  },
  {
   "cell_type": "markdown",
   "metadata": {},
   "source": [
    "Сохраним модель с наилучшей подобранной комбинацией гиперпараметров в переменной `RF_best`"
   ]
  },
  {
   "cell_type": "code",
   "execution_count": 13,
   "metadata": {
    "scrolled": true
   },
   "outputs": [
    {
     "name": "stderr",
     "output_type": "stream",
     "text": [
      "Идет подбор параметров...: 100%|\u001b[32m██████████\u001b[0m| 10/10 [02:31<00:00, 15.14s/it]"
     ]
    },
    {
     "name": "stdout",
     "output_type": "stream",
     "text": [
      "Наилучший accuracy на валидационной выборке: 0.8102643856920684\n"
     ]
    },
    {
     "name": "stderr",
     "output_type": "stream",
     "text": [
      "\n"
     ]
    },
    {
     "data": {
      "text/plain": [
       "'Значения гиперпараметров:'"
      ]
     },
     "metadata": {},
     "output_type": "display_data"
    },
    {
     "data": {
      "text/plain": [
       "{'n_estimators': 100,\n",
       " 'criterion': 'gini',\n",
       " 'max_features': 'sqrt',\n",
       " 'max_depth': 10}"
      ]
     },
     "metadata": {},
     "output_type": "display_data"
    }
   ],
   "source": [
    "score_best = 0\n",
    "RF_best = None\n",
    "best_params = {}\n",
    "\n",
    "n_estimators = range(50, 501, 50)\n",
    "criterion = ['gini', 'entropy']\n",
    "max_features = ['sqrt', 'log2']\n",
    "max_depth = [7, 10, 13]\n",
    "\n",
    "\n",
    "for n_est in tqdm(n_estimators, desc=\"Идет подбор параметров...\", colour='green'):\n",
    "    for crit in criterion:\n",
    "        for mx_f in max_features:\n",
    "            for mx_depth in max_depth:\n",
    "                RF = RandomForestClassifier(n_estimators=n_est, \n",
    "                                            criterion=crit, \n",
    "                                            max_features=mx_f,\n",
    "                                            max_depth=mx_depth,\n",
    "                                            random_state=23)\n",
    "                RF.fit(X_train, y_train)\n",
    "                score = RF.score(X_val, y_val)\n",
    "            \n",
    "                # Если accuracy выше, чем у предыдущих моделей, сохраним модель и значение ее параметров\n",
    "                if score > score_best:\n",
    "                    score_best=score\n",
    "                    RF_best = RF\n",
    "                    best_params['n_estimators'] = n_est\n",
    "                    best_params['criterion'] = crit\n",
    "                    best_params['max_features'] = mx_f\n",
    "                    best_params['max_depth'] = mx_depth\n",
    "                \n",
    "                \n",
    "print(f'Наилучший accuracy на валидационной выборке: {score_best}')\n",
    "display('Значения гиперпараметров:', best_params)"
   ]
  },
  {
   "cell_type": "markdown",
   "metadata": {},
   "source": [
    "Нам удалось незначительно повысить accuracy модели c 0.806 до 0.81.  "
   ]
  },
  {
   "cell_type": "markdown",
   "metadata": {},
   "source": [
    "Можно также посмотреть, важность признаков для нашей модели."
   ]
  },
  {
   "cell_type": "code",
   "execution_count": 14,
   "metadata": {},
   "outputs": [
    {
     "data": {
      "image/png": "[encoded data removed]",
      "text/plain": [
       "<Figure size 432x288 with 1 Axes>"
      ]
     },
     "metadata": {
      "needs_background": "light"
     },
     "output_type": "display_data"
    }
   ],
   "source": [
    "plt.barh(X.columns, RF_best.feature_importances_);"
   ]
  },
  {
   "cell_type": "markdown",
   "metadata": {},
   "source": [
    "Наиболее важным с точки зрения предсказания тарифа пользователя оказался показатель использованного интернет-траффика."
   ]
  },
  {
   "cell_type": "markdown",
   "metadata": {},
   "source": [
    "Следующим шагом проверим модель на тестовой выборке."
   ]
  },
  {
   "cell_type": "markdown",
   "metadata": {},
   "source": [
    "## Проверьте модель на тестовой выборке"
   ]
  },
  {
   "cell_type": "markdown",
   "metadata": {},
   "source": [
    "Проверим accuracy модели `RF_best` на тестовой выборке:"
   ]
  },
  {
   "cell_type": "code",
   "execution_count": 15,
   "metadata": {
    "scrolled": true
   },
   "outputs": [
    {
     "name": "stdout",
     "output_type": "stream",
     "text": [
      "Accuracy модели на тестовой выборке: 0.7947122861586314\n"
     ]
    }
   ],
   "source": [
    "print(f'Accuracy модели на тестовой выборке: {RF_best.score(X_test, y_test)}')"
   ]
  },
  {
   "cell_type": "markdown",
   "metadata": {},
   "source": [
    "## (бонус) Проверьте модели на адекватность"
   ]
  },
  {
   "cell_type": "markdown",
   "metadata": {},
   "source": [
    "Посмотрим на соотношение категорий в нашей целевой переменной."
   ]
  },
  {
   "cell_type": "code",
   "execution_count": 16,
   "metadata": {},
   "outputs": [
    {
     "data": {
      "image/png": "[encoded data removed]",
      "text/plain": [
       "<Figure size 432x288 with 1 Axes>"
      ]
     },
     "metadata": {
      "needs_background": "light"
     },
     "output_type": "display_data"
    }
   ],
   "source": [
    "df['is_ultra'].value_counts(normalize=True).plot.barh();"
   ]
  },
  {
   "cell_type": "markdown",
   "metadata": {},
   "source": [
    "Категории \"0\" представлена в большем количестве. Значит, если мы возьмем модель, которая каждый раз будет предсказывать, что клиент пользуется тарифом Smart, то мы будем правы чаще, чем если будем каждый раз предсказывать тариф Ultra."
   ]
  },
  {
   "cell_type": "code",
   "execution_count": 17,
   "metadata": {},
   "outputs": [
    {
     "name": "stdout",
     "output_type": "stream",
     "text": [
      "Модель, которая каждый раз предсказывает, что клиент пользуется тарифом Smart, будет права в 69.4% случаев\n"
     ]
    }
   ],
   "source": [
    "print(f\"\"\"Модель, которая каждый раз предсказывает, что клиент пользуется тарифом Smart, будет права в {round((1-df['is_ultra'].mean())*100, 1)}% случаев\"\"\")"
   ]
  },
  {
   "cell_type": "markdown",
   "metadata": {},
   "source": [
    "Accuracy нашей модели на тестовой выборке составляет 79,5%, и является выше данного показателя."
   ]
  },
  {
   "cell_type": "markdown",
   "metadata": {},
   "source": [
    "## Резюме"
   ]
  },
  {
   "cell_type": "markdown",
   "metadata": {},
   "source": [
    "Целью данной работы было обучить модель предсказывать какой тариф подойдет пользователю, исходя из количества звонков, сообщений, минут разговоров и израсходованного пользователем интернет траффика.  \n",
    "\n",
    "В ходе работы:  \n",
    "1. Данные были поделены на 3 выборки:\n",
    "- Обучающая (60%)\n",
    "- Валидационная (20%)\n",
    "- Тестовая (20%)\n",
    "2. Были исследованы 3 модели: DecisionTreeClassifier, LogisticRegression, RandomForestClassifier.  \n",
    "Каждую из них мы обучили с default-настройками гиперпараметров и проверили результат предсказания на валидационной выборке. Таким образом были получены следующие результаты:  \n",
    "\n",
    "Модель | Accuracy на обучающей выборке | Accuracy на валидационной выборке\n",
    "------ | ------------------------------ | ------------------------\n",
    "DecisionTreeClassifier | 100% | 72%  \n",
    "LogisticRegression | 70,6% | 68,9% \n",
    "RandomForestClassifier | 98% | 80,6%\n",
    "\n",
    "- DecisionTreeClassifier - переобучилась, в результате чего получила 100% точность предказания на обучающей выборке, и всего 72% на валидационной.\n",
    "- LogisticRegression - недообучилась, в результате чего показала одинаково низкий результат как на тестовой, так и на валидационной выборках.\n",
    "- RandomForestClassifier - показала лучший результат среди трех на валидационной выборке - 80,6%\n",
    "\n",
    "3. Выл осуществлен подбор гиперпараметров для модели, которая показала себя наилучшим образом с default-настройками (Random Forest).  \n",
    "Мы перебрали комбинации следующих гиперпараметров:  \n",
    "- `n_estimators` = range(50, 501, 50)\n",
    "- `criterion` = ['gini', 'entropy']\n",
    "- `max_features` = ['sqrt', 'log2']\n",
    "- `max_depth` = [7, 10, 13]  \n",
    " \n",
    "Наилучшая комбинация гиперпараметров из рассмотренных выше получилась:  \n",
    "- `n_estimators` = 100\n",
    "- `criterion` = 'gini'\n",
    "- `max_features` = 'sqrt',\n",
    "- `max_depth` = 10\n",
    "\n",
    "Метрикой было выбрано Accuracy.  \n",
    "Accuracy нашей модели на валидационной выборке составило 81%, в то время как для тестовой выборки результат составил 79,47%."
   ]
  }
 ],
 "metadata": {
  "ExecuteTimeLog": [
   {
    "duration": 484,
    "start_time": "2021-10-31T19:03:34.795Z"
   },
   {
    "duration": 17,
    "start_time": "2021-10-31T19:04:27.446Z"
   },
   {
    "duration": 7,
    "start_time": "2021-10-31T19:04:37.847Z"
   },
   {
    "duration": 30,
    "start_time": "2021-10-31T19:04:51.782Z"
   },
   {
    "duration": 9,
    "start_time": "2021-10-31T19:15:41.733Z"
   },
   {
    "duration": 128,
    "start_time": "2021-10-31T19:16:51.769Z"
   },
   {
    "duration": 6,
    "start_time": "2021-10-31T19:17:17.902Z"
   },
   {
    "duration": 517,
    "start_time": "2021-10-31T19:18:36.984Z"
   },
   {
    "duration": 3,
    "start_time": "2021-10-31T19:19:15.872Z"
   },
   {
    "duration": 227,
    "start_time": "2021-10-31T19:19:21.699Z"
   },
   {
    "duration": 1054,
    "start_time": "2021-10-31T19:19:30.455Z"
   },
   {
    "duration": 802,
    "start_time": "2021-10-31T19:19:52.463Z"
   },
   {
    "duration": 22,
    "start_time": "2021-10-31T19:20:33.018Z"
   },
   {
    "duration": 886,
    "start_time": "2021-10-31T19:21:08.124Z"
   },
   {
    "duration": 726,
    "start_time": "2021-10-31T19:21:14.753Z"
   },
   {
    "duration": 1062,
    "start_time": "2021-10-31T19:21:17.288Z"
   },
   {
    "duration": 800,
    "start_time": "2021-10-31T19:21:20.983Z"
   },
   {
    "duration": 1295,
    "start_time": "2021-10-31T19:21:27.007Z"
   },
   {
    "duration": 4,
    "start_time": "2021-10-31T19:30:48.661Z"
   },
   {
    "duration": 6,
    "start_time": "2021-10-31T19:31:36.288Z"
   },
   {
    "duration": 5,
    "start_time": "2021-10-31T19:32:04.146Z"
   },
   {
    "duration": 5,
    "start_time": "2021-10-31T19:35:39.119Z"
   },
   {
    "duration": 3,
    "start_time": "2021-10-31T19:36:21.551Z"
   },
   {
    "duration": 4,
    "start_time": "2021-10-31T19:36:34.233Z"
   },
   {
    "duration": 3,
    "start_time": "2021-10-31T19:43:33.159Z"
   },
   {
    "duration": 6,
    "start_time": "2021-10-31T19:44:48.031Z"
   },
   {
    "duration": 4,
    "start_time": "2021-10-31T19:45:02.625Z"
   },
   {
    "duration": 7,
    "start_time": "2021-10-31T19:45:04.207Z"
   },
   {
    "duration": 4,
    "start_time": "2021-10-31T19:45:04.574Z"
   },
   {
    "duration": 51,
    "start_time": "2021-10-31T19:45:21.358Z"
   },
   {
    "duration": 11,
    "start_time": "2021-10-31T19:47:07.075Z"
   },
   {
    "duration": 10,
    "start_time": "2021-10-31T19:47:17.581Z"
   },
   {
    "duration": 3,
    "start_time": "2021-10-31T19:48:06.805Z"
   },
   {
    "duration": 127,
    "start_time": "2021-10-31T19:48:49.284Z"
   },
   {
    "duration": 122,
    "start_time": "2021-10-31T19:49:14.695Z"
   },
   {
    "duration": 18,
    "start_time": "2021-10-31T19:50:36.063Z"
   },
   {
    "duration": 16,
    "start_time": "2021-10-31T19:51:31.795Z"
   },
   {
    "duration": 6,
    "start_time": "2021-10-31T19:55:08.328Z"
   },
   {
    "duration": 4,
    "start_time": "2021-10-31T19:55:08.763Z"
   },
   {
    "duration": 5,
    "start_time": "2021-10-31T19:59:50.873Z"
   },
   {
    "duration": 4,
    "start_time": "2021-10-31T19:59:51.349Z"
   },
   {
    "duration": 6,
    "start_time": "2021-10-31T20:02:24.404Z"
   },
   {
    "duration": 4,
    "start_time": "2021-10-31T20:02:24.762Z"
   },
   {
    "duration": 6,
    "start_time": "2021-10-31T20:02:51.196Z"
   },
   {
    "duration": 4,
    "start_time": "2021-10-31T20:02:52.059Z"
   },
   {
    "duration": 8,
    "start_time": "2021-10-31T20:02:57.427Z"
   },
   {
    "duration": 5,
    "start_time": "2021-10-31T20:02:57.668Z"
   },
   {
    "duration": 6,
    "start_time": "2021-10-31T20:04:26.540Z"
   },
   {
    "duration": 4,
    "start_time": "2021-10-31T20:04:26.724Z"
   },
   {
    "duration": 5,
    "start_time": "2021-10-31T20:04:27.061Z"
   },
   {
    "duration": 3,
    "start_time": "2021-10-31T20:04:27.524Z"
   },
   {
    "duration": 44,
    "start_time": "2021-10-31T20:04:55.375Z"
   },
   {
    "duration": 8,
    "start_time": "2021-10-31T20:05:06.384Z"
   },
   {
    "duration": 12,
    "start_time": "2021-10-31T20:05:18.083Z"
   },
   {
    "duration": 45,
    "start_time": "2021-10-31T20:05:22.232Z"
   },
   {
    "duration": 8,
    "start_time": "2021-10-31T20:05:23.142Z"
   },
   {
    "duration": 8,
    "start_time": "2021-10-31T20:05:26.549Z"
   },
   {
    "duration": 12,
    "start_time": "2021-10-31T20:05:28.203Z"
   },
   {
    "duration": 8,
    "start_time": "2021-10-31T20:05:40.169Z"
   },
   {
    "duration": 8,
    "start_time": "2021-10-31T20:05:42.632Z"
   },
   {
    "duration": 8,
    "start_time": "2021-10-31T20:05:44.662Z"
   },
   {
    "duration": 13,
    "start_time": "2021-10-31T20:05:53.373Z"
   },
   {
    "duration": 70,
    "start_time": "2021-10-31T20:13:22.736Z"
   },
   {
    "duration": 3,
    "start_time": "2021-10-31T20:15:31.997Z"
   },
   {
    "duration": 4,
    "start_time": "2021-10-31T20:15:48.327Z"
   },
   {
    "duration": 4,
    "start_time": "2021-10-31T20:18:17.743Z"
   },
   {
    "duration": 454,
    "start_time": "2021-10-31T20:20:12.749Z"
   },
   {
    "duration": 347,
    "start_time": "2021-10-31T20:20:35.001Z"
   },
   {
    "duration": 99,
    "start_time": "2021-10-31T20:20:48.954Z"
   },
   {
    "duration": 70,
    "start_time": "2021-10-31T20:20:59.934Z"
   },
   {
    "duration": 72,
    "start_time": "2021-10-31T20:22:21.894Z"
   },
   {
    "duration": 76,
    "start_time": "2021-10-31T21:51:31.780Z"
   },
   {
    "duration": 4,
    "start_time": "2021-10-31T21:52:06.795Z"
   },
   {
    "duration": 27,
    "start_time": "2021-10-31T21:52:06.801Z"
   },
   {
    "duration": 7,
    "start_time": "2021-10-31T21:52:06.830Z"
   },
   {
    "duration": 9,
    "start_time": "2021-10-31T21:52:06.841Z"
   },
   {
    "duration": 25,
    "start_time": "2021-10-31T21:52:06.852Z"
   },
   {
    "duration": 1185,
    "start_time": "2021-10-31T21:52:06.879Z"
   },
   {
    "duration": 12,
    "start_time": "2021-10-31T21:52:08.066Z"
   },
   {
    "duration": 8,
    "start_time": "2021-10-31T21:52:08.079Z"
   },
   {
    "duration": 8,
    "start_time": "2021-10-31T21:52:08.089Z"
   },
   {
    "duration": 6,
    "start_time": "2021-10-31T21:52:08.099Z"
   },
   {
    "duration": 4,
    "start_time": "2021-10-31T21:52:08.106Z"
   },
   {
    "duration": 127,
    "start_time": "2021-10-31T21:52:08.111Z"
   },
   {
    "duration": 68,
    "start_time": "2021-10-31T21:53:20.981Z"
   },
   {
    "duration": 2,
    "start_time": "2021-10-31T22:19:21.360Z"
   },
   {
    "duration": 335,
    "start_time": "2021-10-31T22:19:35.290Z"
   },
   {
    "duration": 4,
    "start_time": "2021-10-31T22:19:40.815Z"
   },
   {
    "duration": 3,
    "start_time": "2021-10-31T22:19:54.160Z"
   },
   {
    "duration": 4,
    "start_time": "2021-10-31T22:19:58.442Z"
   },
   {
    "duration": 523,
    "start_time": "2021-10-31T22:24:56.246Z"
   },
   {
    "duration": 7621,
    "start_time": "2021-10-31T22:25:53.469Z"
   },
   {
    "duration": 14667,
    "start_time": "2021-10-31T22:27:00.870Z"
   },
   {
    "duration": 9711,
    "start_time": "2021-10-31T22:30:36.721Z"
   },
   {
    "duration": 26759,
    "start_time": "2021-10-31T22:32:38.485Z"
   },
   {
    "duration": 32968,
    "start_time": "2021-10-31T22:34:16.772Z"
   },
   {
    "duration": 35818,
    "start_time": "2021-10-31T22:35:27.408Z"
   },
   {
    "duration": 35874,
    "start_time": "2021-10-31T22:38:14.403Z"
   },
   {
    "duration": 143987,
    "start_time": "2021-10-31T22:40:37.341Z"
   },
   {
    "duration": 141801,
    "start_time": "2021-10-31T22:44:40.248Z"
   },
   {
    "duration": 131016,
    "start_time": "2021-10-31T22:49:01.074Z"
   },
   {
    "duration": 101679,
    "start_time": "2021-10-31T22:51:50.556Z"
   },
   {
    "duration": 1558,
    "start_time": "2021-11-01T17:06:07.921Z"
   },
   {
    "duration": 31,
    "start_time": "2021-11-01T17:06:09.482Z"
   },
   {
    "duration": 8,
    "start_time": "2021-11-01T17:06:09.516Z"
   },
   {
    "duration": 13,
    "start_time": "2021-11-01T17:06:09.527Z"
   },
   {
    "duration": 55,
    "start_time": "2021-11-01T17:06:09.542Z"
   },
   {
    "duration": 2040,
    "start_time": "2021-11-01T17:06:09.599Z"
   },
   {
    "duration": 5,
    "start_time": "2021-11-01T17:06:11.642Z"
   },
   {
    "duration": 21,
    "start_time": "2021-11-01T17:06:11.651Z"
   },
   {
    "duration": 4,
    "start_time": "2021-11-01T17:06:11.675Z"
   },
   {
    "duration": 8,
    "start_time": "2021-11-01T17:06:11.682Z"
   },
   {
    "duration": 6,
    "start_time": "2021-11-01T17:06:11.693Z"
   },
   {
    "duration": 150,
    "start_time": "2021-11-01T17:06:11.701Z"
   },
   {
    "duration": 8963,
    "start_time": "2021-11-01T17:06:11.853Z"
   },
   {
    "duration": 8027,
    "start_time": "2021-11-01T17:07:02.412Z"
   },
   {
    "duration": 712873,
    "start_time": "2021-11-01T17:15:20.347Z"
   },
   {
    "duration": 160696,
    "start_time": "2021-11-01T17:32:19.020Z"
   },
   {
    "duration": 8,
    "start_time": "2021-11-01T17:35:54.944Z"
   },
   {
    "duration": 132,
    "start_time": "2021-11-01T17:36:16.914Z"
   },
   {
    "duration": 7,
    "start_time": "2021-11-01T17:36:29.572Z"
   },
   {
    "duration": 7,
    "start_time": "2021-11-01T17:36:34.346Z"
   },
   {
    "duration": 29,
    "start_time": "2021-11-01T17:40:33.139Z"
   },
   {
    "duration": 9,
    "start_time": "2021-11-01T17:41:56.145Z"
   },
   {
    "duration": 49441,
    "start_time": "2021-11-01T17:42:14.633Z"
   },
   {
    "duration": 13634,
    "start_time": "2021-11-01T17:43:59.527Z"
   },
   {
    "duration": 50702,
    "start_time": "2021-11-01T17:44:28.921Z"
   },
   {
    "duration": 199,
    "start_time": "2021-11-01T17:45:40.499Z"
   },
   {
    "duration": 227,
    "start_time": "2021-11-01T17:45:54.223Z"
   },
   {
    "duration": 230,
    "start_time": "2021-11-01T17:45:57.404Z"
   },
   {
    "duration": 6,
    "start_time": "2021-11-01T17:46:24.559Z"
   },
   {
    "duration": 101,
    "start_time": "2021-11-01T17:52:15.911Z"
   },
   {
    "duration": 94,
    "start_time": "2021-11-01T17:52:32.021Z"
   },
   {
    "duration": 97,
    "start_time": "2021-11-01T17:52:49.362Z"
   },
   {
    "duration": 104,
    "start_time": "2021-11-01T17:53:26.910Z"
   },
   {
    "duration": 99,
    "start_time": "2021-11-01T17:53:54.110Z"
   },
   {
    "duration": 739,
    "start_time": "2021-11-01T17:54:08.993Z"
   },
   {
    "duration": 7,
    "start_time": "2021-11-01T17:54:44.670Z"
   },
   {
    "duration": 5,
    "start_time": "2021-11-01T17:54:56.276Z"
   },
   {
    "duration": 786,
    "start_time": "2021-11-01T17:55:10.495Z"
   },
   {
    "duration": 8,
    "start_time": "2021-11-01T17:55:15.211Z"
   },
   {
    "duration": 7,
    "start_time": "2021-11-01T17:55:24.061Z"
   },
   {
    "duration": 6,
    "start_time": "2021-11-01T17:55:44.400Z"
   },
   {
    "duration": 7,
    "start_time": "2021-11-01T17:55:54.626Z"
   },
   {
    "duration": 9,
    "start_time": "2021-11-01T17:56:01.125Z"
   },
   {
    "duration": 7,
    "start_time": "2021-11-01T17:56:07.909Z"
   },
   {
    "duration": 7,
    "start_time": "2021-11-01T17:56:25.039Z"
   },
   {
    "duration": 8,
    "start_time": "2021-11-01T17:56:28.192Z"
   },
   {
    "duration": 9,
    "start_time": "2021-11-01T17:56:34.432Z"
   },
   {
    "duration": 120,
    "start_time": "2021-11-01T17:56:42.418Z"
   },
   {
    "duration": 88,
    "start_time": "2021-11-01T17:56:59.203Z"
   },
   {
    "duration": 116,
    "start_time": "2021-11-01T17:57:16.141Z"
   },
   {
    "duration": 104,
    "start_time": "2021-11-01T17:57:31.742Z"
   },
   {
    "duration": 104,
    "start_time": "2021-11-01T17:57:40.639Z"
   },
   {
    "duration": 8,
    "start_time": "2021-11-01T17:57:55.468Z"
   },
   {
    "duration": 6,
    "start_time": "2021-11-01T17:58:19.566Z"
   },
   {
    "duration": 6,
    "start_time": "2021-11-01T17:58:29.775Z"
   },
   {
    "duration": 4,
    "start_time": "2021-11-01T18:06:55.261Z"
   },
   {
    "duration": 44,
    "start_time": "2021-11-01T18:07:33.255Z"
   },
   {
    "duration": 30,
    "start_time": "2021-11-01T18:08:34.664Z"
   },
   {
    "duration": 30,
    "start_time": "2021-11-01T18:08:39.565Z"
   },
   {
    "duration": 309,
    "start_time": "2021-11-01T18:09:08.343Z"
   },
   {
    "duration": 32,
    "start_time": "2021-11-01T18:09:12.975Z"
   },
   {
    "duration": 44,
    "start_time": "2021-11-01T18:09:25.346Z"
   },
   {
    "duration": 62,
    "start_time": "2021-11-01T18:10:34.799Z"
   },
   {
    "duration": 290,
    "start_time": "2021-11-01T18:10:56.813Z"
   },
   {
    "duration": 68,
    "start_time": "2021-11-01T18:11:06.649Z"
   },
   {
    "duration": 297,
    "start_time": "2021-11-01T18:11:26.866Z"
   },
   {
    "duration": 6,
    "start_time": "2021-11-01T18:11:29.884Z"
   },
   {
    "duration": 32,
    "start_time": "2021-11-01T18:12:27.388Z"
   },
   {
    "duration": 6,
    "start_time": "2021-11-01T18:12:47.092Z"
   },
   {
    "duration": 6,
    "start_time": "2021-11-01T18:12:55.499Z"
   },
   {
    "duration": 6,
    "start_time": "2021-11-01T18:13:01.897Z"
   },
   {
    "duration": 5,
    "start_time": "2021-11-01T18:13:08.851Z"
   },
   {
    "duration": 5,
    "start_time": "2021-11-01T18:13:42.130Z"
   },
   {
    "duration": 50,
    "start_time": "2021-11-01T18:13:49.580Z"
   },
   {
    "duration": 295,
    "start_time": "2021-11-01T18:14:02.503Z"
   },
   {
    "duration": 21,
    "start_time": "2021-11-01T18:14:08.588Z"
   },
   {
    "duration": 6,
    "start_time": "2021-11-01T18:21:06.613Z"
   },
   {
    "duration": 244,
    "start_time": "2021-11-01T18:21:44.495Z"
   },
   {
    "duration": 271,
    "start_time": "2021-11-01T18:22:05.025Z"
   },
   {
    "duration": 241,
    "start_time": "2021-11-01T18:23:25.384Z"
   },
   {
    "duration": 1452,
    "start_time": "2021-11-01T19:00:42.672Z"
   },
   {
    "duration": 33,
    "start_time": "2021-11-01T19:00:44.127Z"
   },
   {
    "duration": 10,
    "start_time": "2021-11-01T19:00:44.163Z"
   },
   {
    "duration": 14,
    "start_time": "2021-11-01T19:00:44.176Z"
   },
   {
    "duration": 74,
    "start_time": "2021-11-01T19:00:44.193Z"
   },
   {
    "duration": 2050,
    "start_time": "2021-11-01T19:00:44.270Z"
   },
   {
    "duration": 7,
    "start_time": "2021-11-01T19:00:46.322Z"
   },
   {
    "duration": 9,
    "start_time": "2021-11-01T19:00:46.333Z"
   },
   {
    "duration": 24,
    "start_time": "2021-11-01T19:00:46.345Z"
   },
   {
    "duration": 9,
    "start_time": "2021-11-01T19:00:46.372Z"
   },
   {
    "duration": 7,
    "start_time": "2021-11-01T19:00:46.383Z"
   },
   {
    "duration": 132,
    "start_time": "2021-11-01T19:00:46.392Z"
   },
   {
    "duration": 1531,
    "start_time": "2021-11-01T19:01:36.574Z"
   },
   {
    "duration": 33,
    "start_time": "2021-11-01T19:01:38.108Z"
   },
   {
    "duration": 22,
    "start_time": "2021-11-01T19:01:38.145Z"
   },
   {
    "duration": 13,
    "start_time": "2021-11-01T19:01:38.170Z"
   },
   {
    "duration": 41,
    "start_time": "2021-11-01T19:01:38.185Z"
   },
   {
    "duration": 2133,
    "start_time": "2021-11-01T19:01:38.228Z"
   },
   {
    "duration": 6,
    "start_time": "2021-11-01T19:01:40.363Z"
   },
   {
    "duration": 10,
    "start_time": "2021-11-01T19:01:40.373Z"
   },
   {
    "duration": 5,
    "start_time": "2021-11-01T19:01:40.386Z"
   },
   {
    "duration": 9,
    "start_time": "2021-11-01T19:01:40.393Z"
   },
   {
    "duration": 5,
    "start_time": "2021-11-01T19:01:40.404Z"
   },
   {
    "duration": 151,
    "start_time": "2021-11-01T19:01:40.411Z"
   },
   {
    "duration": 159554,
    "start_time": "2021-11-01T19:01:40.564Z"
   },
   {
    "duration": 266,
    "start_time": "2021-11-01T19:04:20.121Z"
   },
   {
    "duration": 31,
    "start_time": "2021-11-01T19:04:20.390Z"
   },
   {
    "duration": 311,
    "start_time": "2021-11-01T19:04:20.424Z"
   },
   {
    "duration": 5,
    "start_time": "2021-11-01T19:04:20.738Z"
   },
   {
    "duration": 1506,
    "start_time": "2021-11-02T10:53:33.925Z"
   },
   {
    "duration": 36,
    "start_time": "2021-11-02T10:53:35.434Z"
   },
   {
    "duration": 20,
    "start_time": "2021-11-02T10:53:35.474Z"
   },
   {
    "duration": 12,
    "start_time": "2021-11-02T10:53:35.497Z"
   },
   {
    "duration": 35,
    "start_time": "2021-11-02T10:53:35.512Z"
   },
   {
    "duration": 2205,
    "start_time": "2021-11-02T10:53:35.549Z"
   },
   {
    "duration": 7,
    "start_time": "2021-11-02T10:53:37.756Z"
   },
   {
    "duration": 25,
    "start_time": "2021-11-02T10:53:37.767Z"
   },
   {
    "duration": 6,
    "start_time": "2021-11-02T10:53:37.796Z"
   },
   {
    "duration": 9,
    "start_time": "2021-11-02T10:53:37.805Z"
   },
   {
    "duration": 6,
    "start_time": "2021-11-02T10:53:37.817Z"
   },
   {
    "duration": 180,
    "start_time": "2021-11-02T10:53:37.826Z"
   },
   {
    "duration": 164292,
    "start_time": "2021-11-02T10:53:38.009Z"
   },
   {
    "duration": 245,
    "start_time": "2021-11-02T10:56:22.304Z"
   },
   {
    "duration": 40,
    "start_time": "2021-11-02T10:56:22.551Z"
   },
   {
    "duration": 264,
    "start_time": "2021-11-02T10:56:22.594Z"
   },
   {
    "duration": 5,
    "start_time": "2021-11-02T10:56:22.860Z"
   },
   {
    "duration": 1461,
    "start_time": "2021-11-07T07:58:57.163Z"
   },
   {
    "duration": 32,
    "start_time": "2021-11-07T07:58:58.627Z"
   },
   {
    "duration": 8,
    "start_time": "2021-11-07T07:58:58.662Z"
   },
   {
    "duration": 19,
    "start_time": "2021-11-07T07:58:58.672Z"
   },
   {
    "duration": 31,
    "start_time": "2021-11-07T07:58:58.693Z"
   },
   {
    "duration": 1997,
    "start_time": "2021-11-07T07:58:58.726Z"
   },
   {
    "duration": 7,
    "start_time": "2021-11-07T07:59:00.725Z"
   },
   {
    "duration": 9,
    "start_time": "2021-11-07T07:59:00.737Z"
   },
   {
    "duration": 35,
    "start_time": "2021-11-07T07:59:00.749Z"
   },
   {
    "duration": 10,
    "start_time": "2021-11-07T07:59:00.787Z"
   },
   {
    "duration": 11,
    "start_time": "2021-11-07T07:59:00.799Z"
   },
   {
    "duration": 139,
    "start_time": "2021-11-07T07:59:00.813Z"
   },
   {
    "duration": 151427,
    "start_time": "2021-11-07T07:59:00.955Z"
   },
   {
    "duration": 251,
    "start_time": "2021-11-07T08:01:32.385Z"
   },
   {
    "duration": 43,
    "start_time": "2021-11-07T08:01:32.639Z"
   },
   {
    "duration": 290,
    "start_time": "2021-11-07T08:01:32.685Z"
   },
   {
    "duration": 5,
    "start_time": "2021-11-07T08:01:32.978Z"
   },
   {
    "duration": 23,
    "start_time": "2021-11-07T08:04:41.346Z"
   },
   {
    "duration": 24,
    "start_time": "2021-11-07T08:05:04.698Z"
   },
   {
    "duration": 159,
    "start_time": "2021-11-07T08:06:28.404Z"
   },
   {
    "duration": 140,
    "start_time": "2021-11-07T08:06:33.269Z"
   },
   {
    "duration": 25,
    "start_time": "2021-11-07T08:06:56.522Z"
   },
   {
    "duration": 37,
    "start_time": "2021-11-07T08:09:31.665Z"
   },
   {
    "duration": 39,
    "start_time": "2021-11-07T08:09:38.975Z"
   },
   {
    "duration": 471,
    "start_time": "2021-11-07T08:09:49.391Z"
   },
   {
    "duration": 37,
    "start_time": "2021-11-07T08:09:53.553Z"
   },
   {
    "duration": 40,
    "start_time": "2021-11-07T08:10:17.342Z"
   },
   {
    "duration": 47,
    "start_time": "2021-11-07T08:10:20.679Z"
   },
   {
    "duration": 298,
    "start_time": "2021-11-07T08:10:35.140Z"
   },
   {
    "duration": 41,
    "start_time": "2021-11-07T08:10:45.885Z"
   },
   {
    "duration": 302,
    "start_time": "2021-11-07T08:16:08.031Z"
   },
   {
    "duration": 289,
    "start_time": "2021-11-07T08:16:34.653Z"
   },
   {
    "duration": 290,
    "start_time": "2021-11-07T08:16:42.938Z"
   },
   {
    "duration": 22,
    "start_time": "2021-11-07T08:16:52.181Z"
   },
   {
    "duration": 97,
    "start_time": "2021-11-07T08:17:04.178Z"
   },
   {
    "duration": 22,
    "start_time": "2021-11-07T08:17:07.562Z"
   },
   {
    "duration": 22,
    "start_time": "2021-11-07T08:17:38.079Z"
   },
   {
    "duration": 24,
    "start_time": "2021-11-07T08:17:42.521Z"
   },
   {
    "duration": 154,
    "start_time": "2021-11-07T08:18:03.407Z"
   },
   {
    "duration": 172,
    "start_time": "2021-11-07T08:18:44.388Z"
   },
   {
    "duration": 163,
    "start_time": "2021-11-07T08:18:50.092Z"
   },
   {
    "duration": 175,
    "start_time": "2021-11-07T08:18:57.363Z"
   },
   {
    "duration": 20,
    "start_time": "2021-11-07T08:19:01.007Z"
   },
   {
    "duration": 22,
    "start_time": "2021-11-07T08:19:06.139Z"
   },
   {
    "duration": 138,
    "start_time": "2021-11-07T08:19:21.077Z"
   },
   {
    "duration": 27,
    "start_time": "2021-11-07T08:19:34.408Z"
   },
   {
    "duration": 24,
    "start_time": "2021-11-07T08:19:43.858Z"
   },
   {
    "duration": 23,
    "start_time": "2021-11-07T08:19:46.585Z"
   },
   {
    "duration": 27,
    "start_time": "2021-11-07T08:19:49.416Z"
   },
   {
    "duration": 28,
    "start_time": "2021-11-07T08:19:52.039Z"
   },
   {
    "duration": 23,
    "start_time": "2021-11-07T08:19:54.361Z"
   },
   {
    "duration": 22,
    "start_time": "2021-11-07T08:19:57.760Z"
   },
   {
    "duration": 28,
    "start_time": "2021-11-07T08:20:00.180Z"
   },
   {
    "duration": 29,
    "start_time": "2021-11-07T08:20:03.239Z"
   },
   {
    "duration": 23,
    "start_time": "2021-11-07T08:20:05.991Z"
   },
   {
    "duration": 23,
    "start_time": "2021-11-07T08:20:09.360Z"
   },
   {
    "duration": 30,
    "start_time": "2021-11-07T08:20:14.934Z"
   },
   {
    "duration": 29,
    "start_time": "2021-11-07T08:20:18.295Z"
   },
   {
    "duration": 90,
    "start_time": "2021-11-07T08:21:58.792Z"
   },
   {
    "duration": 14395,
    "start_time": "2021-11-07T08:22:32.213Z"
   },
   {
    "duration": 8,
    "start_time": "2021-11-07T08:44:09.323Z"
   },
   {
    "duration": 5,
    "start_time": "2021-11-07T08:44:26.161Z"
   },
   {
    "duration": 25,
    "start_time": "2021-11-07T08:44:34.297Z"
   },
   {
    "duration": 7,
    "start_time": "2021-11-07T08:45:23.709Z"
   },
   {
    "duration": 24,
    "start_time": "2021-11-07T08:45:24.184Z"
   },
   {
    "duration": 6,
    "start_time": "2021-11-07T08:46:04.195Z"
   },
   {
    "duration": 25,
    "start_time": "2021-11-07T08:46:05.006Z"
   },
   {
    "duration": 533,
    "start_time": "2021-11-07T08:46:53.036Z"
   },
   {
    "duration": 20,
    "start_time": "2021-11-07T08:47:07.831Z"
   },
   {
    "duration": 24,
    "start_time": "2021-11-07T08:47:11.976Z"
   },
   {
    "duration": 13,
    "start_time": "2021-11-07T08:47:45.060Z"
   },
   {
    "duration": 295,
    "start_time": "2021-11-07T08:47:55.806Z"
   },
   {
    "duration": 305,
    "start_time": "2021-11-07T08:48:06.299Z"
   },
   {
    "duration": 25,
    "start_time": "2021-11-07T08:48:20.302Z"
   },
   {
    "duration": 284,
    "start_time": "2021-11-07T08:48:53.472Z"
   },
   {
    "duration": 26,
    "start_time": "2021-11-07T08:48:54.041Z"
   },
   {
    "duration": 5,
    "start_time": "2021-11-07T08:49:04.425Z"
   },
   {
    "duration": 23,
    "start_time": "2021-11-07T08:49:06.108Z"
   },
   {
    "duration": 21,
    "start_time": "2021-11-07T08:49:33.854Z"
   },
   {
    "duration": 21,
    "start_time": "2021-11-07T08:49:34.321Z"
   },
   {
    "duration": 145,
    "start_time": "2021-11-07T08:49:34.712Z"
   },
   {
    "duration": 160,
    "start_time": "2021-11-07T08:49:36.166Z"
   },
   {
    "duration": 22,
    "start_time": "2021-11-07T08:49:36.782Z"
   },
   {
    "duration": 20,
    "start_time": "2021-11-07T08:49:39.047Z"
   },
   {
    "duration": 20,
    "start_time": "2021-11-07T08:49:47.330Z"
   },
   {
    "duration": 23,
    "start_time": "2021-11-07T08:49:51.542Z"
   },
   {
    "duration": 21,
    "start_time": "2021-11-07T08:49:54.966Z"
   },
   {
    "duration": 22,
    "start_time": "2021-11-07T08:49:57.421Z"
   },
   {
    "duration": 20,
    "start_time": "2021-11-07T08:50:00.366Z"
   },
   {
    "duration": 23,
    "start_time": "2021-11-07T08:50:14.580Z"
   },
   {
    "duration": 22,
    "start_time": "2021-11-07T08:50:18.492Z"
   },
   {
    "duration": 84,
    "start_time": "2021-11-07T08:51:04.282Z"
   }
  ],
  "kernelspec": {
   "display_name": "Python 3",
   "language": "python",
   "name": "python3"
  },
  "language_info": {
   "codemirror_mode": {
    "name": "ipython",
    "version": 3
   },
   "file_extension": ".py",
   "mimetype": "text/x-python",
   "name": "python",
   "nbconvert_exporter": "python",
   "pygments_lexer": "ipython3",
   "version": "3.8.8"
  },
  "toc": {
   "base_numbering": 1,
   "nav_menu": {},
   "number_sections": true,
   "sideBar": true,
   "skip_h1_title": true,
   "title_cell": "Table of Contents",
   "title_sidebar": "Contents",
   "toc_cell": false,
   "toc_position": {},
   "toc_section_display": true,
   "toc_window_display": false
  }
 },
 "nbformat": 4,
 "nbformat_minor": 2
}
